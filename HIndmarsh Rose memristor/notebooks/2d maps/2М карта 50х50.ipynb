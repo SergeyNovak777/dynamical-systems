{
 "cells": [
  {
   "cell_type": "code",
   "execution_count": 1,
   "id": "95365e8a",
   "metadata": {
    "scrolled": true
   },
   "outputs": [
    {
     "name": "stderr",
     "output_type": "stream",
     "text": [
      "\u001b[32m\u001b[1m  Activating\u001b[22m\u001b[39m project at `C:\\Users\\HOME\\Desktop\\dynamical-systems\\env\\integrate`\n"
     ]
    }
   ],
   "source": [
    "user = \"HOME\"\n",
    "pathtorepo = \"C:\\\\Users\\\\\" * user * \"\\\\Desktop\\\\\"\n",
    "\n",
    "using Pkg\n",
    "Pkg.activate(pathtorepo * \"dynamical-systems\\\\env\\\\integrate\\\\\")"
   ]
  },
  {
   "cell_type": "code",
   "execution_count": 2,
   "id": "4eefed48",
   "metadata": {},
   "outputs": [],
   "source": [
    "using StaticArrays, DifferentialEquations, DynamicalSystems\n",
    "using CairoMakie"
   ]
  },
  {
   "cell_type": "code",
   "execution_count": 3,
   "id": "39e21e6c",
   "metadata": {},
   "outputs": [
    {
     "data": {
      "text/plain": [
       "HR_mem (generic function with 1 method)"
      ]
     },
     "metadata": {},
     "output_type": "display_data"
    }
   ],
   "source": [
    "function HR_mem(u, p, t)\n",
    "    function sigma(x)\n",
    "        return 1.0 / ( 1.0 + exp( -10.0 * ( x  - ( - 0.25 ) ) ) )\n",
    "    end\n",
    "    memristor(z, k1_me, k2_me) = k1_me + k1_me * z^2\n",
    "\n",
    "    a, b, c, d, s, xr, r,  I, vs, k1, k2, k1_me, k2_me  = p\n",
    "    x1, y1, z1, x2, y2, z2, z = u\n",
    "    \n",
    "    du1 = y1 + b * x1 ^ 2 - a * x1 ^3 - z1 + I - k1 * ( x1 - vs ) * sigma(x2) + memristor(z, k1_me, k2_me)*(x2 - x1)\n",
    "    du2 = c - d * x1 ^2 - y1\n",
    "    du3 = r * ( s * ( x1 - xr ) - z1 )\n",
    "    \n",
    "    du4 = y2 + b * x2 ^ 2 - a * x2 ^3 - z2 + I - k2 * ( x2 - vs ) * sigma(x1) + memristor(z, k1_me, k2_me)*(x1 - x2)\n",
    "    du5 = c - d * x2 ^2 - y2\n",
    "    du6 = r * ( s * ( x2 - xr ) - z2 )\n",
    "\n",
    "    du7 = x1 - x2\n",
    "    \n",
    "    return SVector(du1, du2, du3, du4, du5, du6, du7)\n",
    "end"
   ]
  },
  {
   "cell_type": "code",
   "execution_count": 4,
   "id": "64acc277",
   "metadata": {},
   "outputs": [],
   "source": [
    "function output(idx_k1_me, idx_k2_me, k1_me, k2_me, u0)\n",
    "    println(\"Индекс k1_me: $idx_k1_me; k1_me: $k1_me\");flush(stdout)\n",
    "    println(\"Индекс k2_me: $idx_k2_me; k2_me: $k2_me\");flush(stdout)\n",
    "    println(\"Начальные условия: $u0\");flush(stdout)\n",
    "end\n",
    "function output(idx_k1_me, k1_me, u0)\n",
    "    println(\"Индекс k1_me: $idx_k1_me; k1_me: $k1_me\");flush(stdout)\n",
    "    println(\"Начальные условия: $u0\");flush(stdout)\n",
    "end\n",
    "function output_end_iter(ΛΛ, u0_lc)\n",
    "    println(\"Спектр: $(ΛΛ)\");flush(stdout)\n",
    "    println(\"Последняя точка: $(u0_lc)\");flush(stdout)\n",
    "end\n",
    "function separate()\n",
    "    println();flush(stdout)\n",
    "    println(\"---------\");flush(stdout)\n",
    "end;"
   ]
  },
  {
   "cell_type": "code",
   "execution_count": 5,
   "id": "7a5db5e2",
   "metadata": {},
   "outputs": [],
   "source": [
    "t = 500; tt = 250; tstep = 0.001\n",
    "time_attract = 250.0\n",
    "\n",
    "trange = range(0.0, t, step = tstep)\n",
    "integ_set = (alg = Vern9(), adaptive = false, dt = tstep);"
   ]
  },
  {
   "cell_type": "code",
   "execution_count": 6,
   "id": "441e01c8",
   "metadata": {},
   "outputs": [],
   "source": [
    "a = 1.; b = 3.; c = 1.; d = 5.;\n",
    "xr = -1.6; r = 0.01; s = 5.; I = 4.; xv = 2.;\n",
    "k1= -0.4; k2 = -0.4;\n",
    "k1_me = 0.00\n",
    "k2_me = 0.0\n",
    "p = [a, b, c, d, s, xr, r, I, xv, k1, k2, k1_me, k2_me];"
   ]
  },
  {
   "cell_type": "code",
   "execution_count": 7,
   "id": "2ed637a3",
   "metadata": {},
   "outputs": [
    {
     "data": {
      "text/plain": [
       "7-element Vector{Float64}:\n",
       " -1.5\n",
       "  0.0\n",
       "  0.0\n",
       " -2.5\n",
       "  0.0\n",
       "  0.0\n",
       "  0.0"
      ]
     },
     "metadata": {},
     "output_type": "display_data"
    }
   ],
   "source": [
    "u0 = [-1.5, 0.0, 0.0, -2.5, 0.0, 0.0, 0.0]"
   ]
  },
  {
   "cell_type": "code",
   "execution_count": 8,
   "id": "c9ec2d3e",
   "metadata": {},
   "outputs": [
    {
     "data": {
      "text/plain": [
       "0.0:0.02:1.0"
      ]
     },
     "metadata": {},
     "output_type": "display_data"
    }
   ],
   "source": [
    "k1_merange = range( 0.0,  1.0, length = 51 )\n",
    "k2_merange = range( 0.0,  1.0, length = 51)"
   ]
  },
  {
   "cell_type": "code",
   "execution_count": 9,
   "id": "69711302",
   "metadata": {},
   "outputs": [],
   "source": [
    "Λs = zeros(length(k1_merange), length(k2_merange), 7)\n",
    "u0s = zeros(length(k1_merange), length(k2_merange), 7);"
   ]
  },
  {
   "cell_type": "code",
   "execution_count": 10,
   "id": "df971f46",
   "metadata": {},
   "outputs": [
    {
     "data": {
      "text/plain": [
       "save_tofile (generic function with 1 method)"
      ]
     },
     "metadata": {},
     "output_type": "display_data"
    }
   ],
   "source": [
    "const k1_me_start_value = k1_merange[1]\n",
    "\n",
    "function init_ds(k2_me, u0_lc)\n",
    "\n",
    "    #p = SA[α, τ, τD, τy, J, xthr, ythr, U0_, ΔU0, β, I0_start_value]\n",
    "    #ds = ContinuousDynamicalSystem(TM, u0_lc, p)\n",
    "\n",
    "    p = [a, b, c, d, s, xr, r, I, xv, k1, k2, k1_me_start_value, k2_me];\n",
    "    ds = CoupledODEs(HR_mem, u0_lc, p, diffeq = integ_set)\n",
    "    return ds\n",
    "end\n",
    "\n",
    "function init_ds(k1_me, k2_me, u0_lc)\n",
    "    #p = SA[α, τ, τD, τy, J, xthr, ythr, U0_, ΔU0, β, I0_]\n",
    "    #ds = ContinuousDynamicalSystem(TM, u0_lc, p)\n",
    "\n",
    "    p = [a, b, c, d, s, xr, r, I, xv, k1, k2, k1_me, k2_me];\n",
    "    ds = CoupledODEs(HR_mem, u0_lc, p, diffeq = integ_set)\n",
    "    return ds\n",
    "end\n",
    "function goto_attractor(ds_, time_attract)\n",
    "    #tr = trajectory(ds_, time_attract; Ttr = tt, diffeq = integ_set)\n",
    "\n",
    "    tr, _ = trajectory(ds_, time_attract; Δt = integ_set.dt, Ttr = tt)\n",
    "\n",
    "    u0_lc = tr[end]\n",
    "    return u0_lc\n",
    "end\n",
    "function spectrum(ds_)\n",
    "    ΛΛ = lyapunovspectrum(ds_, t)\n",
    "    return ΛΛ\n",
    "end\n",
    "function save_output(idx_k1_me, ΛΛ, u0_lc)\n",
    "    Λs[1, idx_k1_me, :] = ΛΛ\n",
    "    u0s[1, idx_k1_me, :] = u0_lc\n",
    "end\n",
    "function save_output(index_k1_me, idx_k2_me, ΛΛ, u0_lc)\n",
    "    Λs[index_k1_me, idx_k2_me, :] = ΛΛ\n",
    "    u0s[index_k1_me, idx_k2_me, :] = u0_lc\n",
    "end\n",
    "function save_tofile()\n",
    "    save(\"LSs_50x50.jld\", \"data\", Λs)\n",
    "    save(\"u0s_50x50.jld\", \"data\", u0s)\n",
    "end"
   ]
  },
  {
   "cell_type": "code",
   "execution_count": 11,
   "id": "9cf1d941",
   "metadata": {
    "scrolled": true
   },
   "outputs": [],
   "source": [
    "for (idx_k2_me, k2_me_) in enumerate(k1_merange)\n",
    "    \n",
    "    if idx_k2_me == 1 # Проверка на первую итерацию\n",
    "        # Если использовать while условие не нужно!\n",
    "        global u0_lc = u0\n",
    "    end\n",
    "    \n",
    "    #output(idx_k1_me, k1_me_, u0_lc)\n",
    "    \n",
    "    ds = init_ds(k2_me_, u0_lc) # Инициализация системы\n",
    "    u0_lc = goto_attractor(ds, time_attract) # Выход на аттрактор\n",
    "    ds = init_ds(k2_me_, u0_lc)\n",
    "    ΛΛ = spectrum(ds) # Вычисление спектра\n",
    "    \n",
    "    #output_end_iter(ΛΛ, u0_lc)\n",
    "    \n",
    "    save_output(idx_k2_me, ΛΛ, u0_lc) # Сохранение значений\n",
    "    save_tofile()\n",
    "    \n",
    "    # separate()\n",
    "end"
   ]
  },
  {
   "cell_type": "code",
   "execution_count": 12,
   "id": "18bb7b6b",
   "metadata": {},
   "outputs": [],
   "source": [
    "for (idx_k2_me, k2_me_) in enumerate(k1_merange)\n",
    "    for (idx_k1_me, k1_me_) in enumerate(k2_merange)\n",
    "        \n",
    "        if idx_k1_me == 1 # Если использовать while условие не нужно!\n",
    "            continue\n",
    "        end\n",
    "        \n",
    "        \n",
    "        u0_lc = u0s[idx_k1_me - 1, idx_k2_me, :]\n",
    "        \n",
    "        # output(idx_I0, idx_U0, I0_, U0_, u0_lc)\n",
    "        \n",
    "        ds = init_ds(k1_me_, k2_me_, u0_lc)\n",
    "        u0_lc = goto_attractor(ds, time_attract) # Выход на аттрактор\n",
    "        ds = init_ds(k1_me_, k2_me_, u0_lc)\n",
    "        ΛΛ = spectrum(ds) # Вычисление спектра\n",
    "        \n",
    "        # output_end_iter(ΛΛ, u0_lc)\n",
    "        \n",
    "        save_output(idx_k1_me, idx_k2_me, ΛΛ, u0_lc)\n",
    "        save_tofile()\n",
    "        \n",
    "        # separate()\n",
    "    end\n",
    "end"
   ]
  }
 ],
 "metadata": {
  "kernelspec": {
   "display_name": "Julia 1.9.1",
   "language": "julia",
   "name": "julia-1.9"
  },
  "language_info": {
   "file_extension": ".jl",
   "mimetype": "application/julia",
   "name": "julia",
   "version": "1.9.1"
  }
 },
 "nbformat": 4,
 "nbformat_minor": 5
}
