{
 "cells": [
  {
   "cell_type": "code",
   "execution_count": 1,
   "id": "b46f0b48",
   "metadata": {},
   "outputs": [
    {
     "name": "stderr",
     "output_type": "stream",
     "text": [
      "\u001b[32m\u001b[1m  Activating\u001b[22m\u001b[39m project at `C:\\Users\\Alex\\Desktop\\dynamical-systems\\env\\integrate`"
     ]
    },
    {
     "name": "stderr",
     "output_type": "stream",
     "text": [
      "\n"
     ]
    },
    {
     "data": {
      "text/plain": [
       "HR_mem (generic function with 1 method)"
      ]
     },
     "metadata": {},
     "output_type": "display_data"
    }
   ],
   "source": [
    "user = \"Alex\"\n",
    "pathtorepo = \"C:\\\\Users\\\\\" * user * \"\\\\Desktop\\\\\"\n",
    "\n",
    "using Pkg\n",
    "Pkg.activate(pathtorepo * \"dynamical-systems\\\\env\\\\integrate\\\\\")\n",
    "include(\"C:\\\\Users\\\\\" * user * \"\\\\Desktop\\\\dynamical-systems\\\\system.jl\")"
   ]
  },
  {
   "cell_type": "code",
   "execution_count": 2,
   "id": "1df7d372",
   "metadata": {},
   "outputs": [],
   "source": [
    "using StaticArrays, DifferentialEquations, DynamicalSystems, Statistics\n",
    "using CairoMakie\n",
    "using LinearAlgebra"
   ]
  },
  {
   "cell_type": "code",
   "execution_count": 3,
   "id": "2254b79d",
   "metadata": {},
   "outputs": [
    {
     "data": {
      "text/plain": [
       "HR_mem (generic function with 1 method)"
      ]
     },
     "metadata": {},
     "output_type": "display_data"
    }
   ],
   "source": [
    "function HR_mem(u, p, t)\n",
    "    function sigma(x)\n",
    "        return 1.0 / ( 1.0 + exp( -10.0 * ( x  - ( - 0.25 ) ) ) )\n",
    "    end\n",
    "    memristor(z, k1_me, k2_me) = k1_me + k2_me * z^2\n",
    "\n",
    "    a, b, c, d, s, xr, r,  I, vs, k1, k2, k1_me, k2_me  = p\n",
    "    x1, y1, z1, x2, y2, z2, z = u\n",
    "    \n",
    "    du1 = y1 + b * x1 ^ 2 - a * x1 ^3 - z1 + I - k1 * ( x1 - vs ) * sigma(x2) + memristor(z, k1_me, k2_me)*(x2 - x1)\n",
    "    du2 = c - d * x1 ^2 - y1\n",
    "    du3 = r * ( s * ( x1 - xr ) - z1 )                                                                                                                                          \n",
    "    \n",
    "    du4 = y2 + b * x2 ^ 2 - a * x2 ^3 - z2 + I - k2 * ( x2 - vs ) * sigma(x1) + memristor(z, k1_me, k2_me)*(x1 - x2)\n",
    "    du5 = c - d * x2 ^2 - y2\n",
    "    du6 = r * ( s * ( x2 - xr ) - z2 )\n",
    "\n",
    "    du7 = x1 - x2\n",
    "    \n",
    "    return SVector(du1, du2, du3, du4, du5, du6, du7)\n",
    "end"
   ]
  },
  {
   "cell_type": "code",
   "execution_count": 4,
   "id": "ccbe90cd",
   "metadata": {},
   "outputs": [
    {
     "data": {
      "text/plain": [
       "jacob_HR_mem (generic function with 1 method)"
      ]
     },
     "metadata": {},
     "output_type": "display_data"
    }
   ],
   "source": [
    "@inbounds function jacob_HR_mem(u, p, t)\n",
    "\n",
    "    a, b, c, d, s, xr, r,  I, vs, k1, k2, k1_me, k2_me  = p\n",
    "    x1, y1, z1, x2, y2, z2, z = u\n",
    "\n",
    "    function sigma(x)\n",
    "        return 1.0 / ( 1.0 + exp( -10.0 * ( x  - ( - 0.25 ) ) ) )\n",
    "    end\n",
    "    memristor(z, k1_me, k2_me) = k1_me + k2_me * z^2\n",
    "\n",
    "    sigmax1der = 10.0 * exp( -10.0*( x1 + 0.25 ) ) / ( 1.0 + exp( -10.0*( x1 + 0.25 ) ) )^2\n",
    "    sigmax2der = 10.0 * exp( -10.0*( x2 + 0.25 ) ) / ( 1.0 + exp( -10.0*( x2 + 0.25 ) ) )^2\n",
    "    \n",
    "    x1x1 = 2.0*b*x1 - 3.0 * a * x1^2 - k1 * sigma(x2) - memristor(z, k1_me, k2_me)\n",
    "    x1y1 = 1.0\n",
    "    x1z1 = -1.0\n",
    "    x1x2 = -k1 * ( x1 - vs ) * sigmax2der + memristor(z, k1_me, k2_me)\n",
    "    x1y2 = 0.0\n",
    "    x1z2 = 0.0\n",
    "    x1z = k2_me * 2.0 * z * ( x2 - x1 )\n",
    "\n",
    "    y1x1 = -2.0 * d * x1\n",
    "    y1y1 = -1.0\n",
    "    y1z1 = 0.0\n",
    "    y1x2 = 0.0\n",
    "    y1y2 = 0.0\n",
    "    y1z2 = 0.0\n",
    "    y1z = 0.0\n",
    "\n",
    "    z1x1 = r * s\n",
    "    z1y1 = 0.0\n",
    "    z1z1 = -r\n",
    "    z1x2 = 0.0\n",
    "    z1y2 = 0.0\n",
    "    z1z2 = 0.0\n",
    "    z1z = 0.0\n",
    "\n",
    "    zx1 = 1.0\n",
    "    zy1 = 0.0\n",
    "    zz1 = 0.0\n",
    "    zx2 = -1.0\n",
    "    zy2 = 0.0\n",
    "    zz2 = 0.0\n",
    "\n",
    "    zz = 0.0\n",
    "\n",
    "    # -------------------------------------\n",
    "\n",
    "    x2x2 = 2.0*b*x2 - 3.0 * a * x2^2 - k2 * sigma(x1) - memristor(z, k1_me, k2_me)\n",
    "    x2y2 = 1.0\n",
    "    x2z2 = -1.0\n",
    "    x2x1 = -k2 * ( x2 - vs ) * sigmax1der + memristor(z, k1_me, k2_me)\n",
    "    x2y1 = 0.0\n",
    "    x2z1 = 0.0\n",
    "    x2z = k2_me * 2.0 * z * ( x1 - x2 )\n",
    "\n",
    "    y2x2 = -2.0 * d * x2\n",
    "    y2y2 = -1.0\n",
    "    y2z2 = 0.0\n",
    "    y2x1 = 0.0\n",
    "    y2y1 = 0.0\n",
    "    y2z1 = 0.0\n",
    "    y2z = 0.0\n",
    "\n",
    "    z2x2 = r * s\n",
    "    z2y2 = 0.0\n",
    "    z2z2 = -r\n",
    "    z2x1 = 0.0\n",
    "    z2y1 = 0.0\n",
    "    z2z1 = 0.0\n",
    "    z2z = 0.0\n",
    "\n",
    "    zx2 = -1.0\n",
    "    zy2 = 0.0\n",
    "    zz2 = 0.0\n",
    "    zx1 = 1.0\n",
    "    zy1 = 0.0\n",
    "    zz1 = 0.0\n",
    "\n",
    "\n",
    "\n",
    "    SMatrix{7,7}(x1x1, y1x1, z1x1, x2x1, y2x1, z2x1, zx1,\n",
    "    x1y1, y1y1, z1y1, x2y1, y2y1, z2y1, zy1,\n",
    "    x1z1, y1z1, z1z1, x2z1, y2z1, z2z1, zz1,\n",
    "    x1x2, y1x2, z1x2, x2x2, y2x2, z2x2, zx2,\n",
    "    x1y2, y1y2, z1y2, x2y2, y2y2, z2y2, zy2,\n",
    "    x1z2, y1z2, z1z2, x2z2, y2z2, z2z2, zz2,\n",
    "    x1z, y1z, z1z, x2z, y2z, z2z, zz)\n",
    "end"
   ]
  },
  {
   "cell_type": "code",
   "execution_count": 76,
   "id": "a4c4eba0",
   "metadata": {},
   "outputs": [],
   "source": [
    "a = 1.0; b = 3.0; c = 1.0; d = 5.0;\n",
    "xr = -1.6; r = 0.01; s = 5.0; I = 4.0; xv = 2.0;\n",
    "k1= -0.17; k2 = -0.17;\n",
    "k1_me = 0.2\n",
    "k2_me = 0.05\n",
    "u0 = sol[end]\n",
    "p = [a, b, c, d, s, xr, r, I, xv, k1, k2, k1_me, k2_me];"
   ]
  },
  {
   "cell_type": "code",
   "execution_count": 52,
   "id": "306ba22e",
   "metadata": {},
   "outputs": [
    {
     "data": {
      "text/plain": [
       "0.001"
      ]
     },
     "metadata": {},
     "output_type": "display_data"
    }
   ],
   "source": [
    "tstart = 0.0\n",
    "tend = 10000.0\n",
    "tspan = (tstart, tend)\n",
    "tstep = 0.001"
   ]
  },
  {
   "cell_type": "code",
   "execution_count": 77,
   "id": "f7296b7a",
   "metadata": {},
   "outputs": [
    {
     "data": {
      "text/plain": [
       "\u001b[38;2;86;182;194mODEProblem\u001b[0m with uType \u001b[38;2;86;182;194mVector{Float64}\u001b[0m and tType \u001b[38;2;86;182;194mFloat64\u001b[0m. In-place: \u001b[38;2;86;182;194mfalse\u001b[0m\n",
       "timespan: (0.0, 10000.0)\n",
       "u0: 7-element Vector{Float64}:\n",
       " -0.4767597706169128\n",
       " -0.5762595938811871\n",
       "  4.072201995155194\n",
       " -0.4767597706169128\n",
       " -0.5762595938811871\n",
       "  4.072201995155194\n",
       "  6.8415488439788685"
      ]
     },
     "metadata": {},
     "output_type": "display_data"
    }
   ],
   "source": [
    "prob = ODEProblem(HR_mem, u0, tspan, p)"
   ]
  },
  {
   "cell_type": "code",
   "execution_count": 78,
   "id": "f97e65d8",
   "metadata": {},
   "outputs": [],
   "source": [
    "sol = solve(prob, RK4(), adaptive = false, dt = 0.01);"
   ]
  },
  {
   "cell_type": "code",
   "execution_count": 79,
   "id": "8c882a15",
   "metadata": {},
   "outputs": [],
   "source": [
    "lb_size = 35; tck_size = 30;"
   ]
  },
  {
   "cell_type": "code",
   "execution_count": 80,
   "id": "584df823",
   "metadata": {},
   "outputs": [
    {
     "data": {
      "image/png": "[encoded data removed]"
     },
     "metadata": {},
     "output_type": "display_data"
    }
   ],
   "source": [
    "ts, tf = 800000, 900000\n",
    "f = Figure(resolution = (1200, 300))\n",
    "axis = Axis(f[1, 1], xlabel = L\"$time$\", ylabel = L\"$x_{||}$\",\n",
    "            xlabelsize = lb_size, ylabelsize = lb_size,\n",
    "            xticklabelsize = tck_size, yticklabelsize = tck_size,\n",
    "            xgridvisible = false, ygridvisible = false)\n",
    "lines!(axis, sol.t[ts:tf], sol[1, ts:tf]+sol[4, ts:tf], linewidth = 2.5, color = :black)\n",
    "f"
   ]
  },
  {
   "cell_type": "code",
   "execution_count": 85,
   "id": "c7525c91",
   "metadata": {},
   "outputs": [
    {
     "data": {
      "text/plain": [
       "CairoMakie.Screen{EPS}\n"
      ]
     },
     "metadata": {},
     "output_type": "display_data"
    }
   ],
   "source": [
    "save(\"timeseries_quasi.eps\", f)"
   ]
  },
  {
   "cell_type": "code",
   "execution_count": 82,
   "id": "5cc57859",
   "metadata": {},
   "outputs": [
    {
     "name": "stdout",
     "output_type": "stream",
     "text": [
      "1000001\n"
     ]
    }
   ],
   "source": [
    "println(\"$(length(sol))\")"
   ]
  },
  {
   "cell_type": "code",
   "execution_count": 83,
   "id": "8501f323",
   "metadata": {},
   "outputs": [
    {
     "data": {
      "text/plain": [
       "7-dimensional CoupledODEs\n",
       " deterministic: true\n",
       " discrete time: false\n",
       " in-place:      false\n",
       " dynamic rule:  HR_mem\n",
       " ODE solver:    RK4\n",
       " ODE kwargs:    (adaptive = false, dt = 0.001)\n",
       " parameters:    [1.0, 3.0, 1.0, 5.0, 5.0, -1.6, 0.01, 4.0, 2.0, -0.17, -0.17, 0.2, 0.05]\n",
       " time:          0.0\n",
       " state:         [-0.4767597706169128, -0.5762595938811871, 4.072201995155194, -0.4767597706169128, -0.5762595938811871, 4.072201995155194, 6.8415488439788685]\n"
      ]
     },
     "metadata": {},
     "output_type": "display_data"
    }
   ],
   "source": [
    "integ_set = (alg = RK4(), adaptive = false, dt = 0.001)\n",
    "ds = CoupledODEs(HR_mem, u0, p, diffeq = integ_set)"
   ]
  },
  {
   "cell_type": "code",
   "execution_count": 84,
   "id": "b6b6ec0e",
   "metadata": {},
   "outputs": [
    {
     "data": {
      "text/plain": [
       "7-element Vector{Float64}:\n",
       "   4.596933712459162e-5\n",
       "  -0.0007288009108562476\n",
       "  -0.004600446242565884\n",
       "  -0.02257862850806671\n",
       "  -0.42521854606187887\n",
       "  -8.818473281893942\n",
       " -13.31466814283007"
      ]
     },
     "metadata": {},
     "output_type": "display_data"
    }
   ],
   "source": [
    "Λs = lyapunovspectrum(ds, 5000)"
   ]
  }
 ],
 "metadata": {
  "kernelspec": {
   "display_name": "Julia 1.9.1",
   "language": "julia",
   "name": "julia-1.9"
  },
  "language_info": {
   "file_extension": ".jl",
   "mimetype": "application/julia",
   "name": "julia",
   "version": "1.9.1"
  }
 },
 "nbformat": 4,
 "nbformat_minor": 5
}
