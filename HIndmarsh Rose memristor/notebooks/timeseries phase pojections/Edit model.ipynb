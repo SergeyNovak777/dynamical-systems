{
 "cells": [
  {
   "cell_type": "code",
   "execution_count": 1,
   "id": "b46f0b48",
   "metadata": {},
   "outputs": [
    {
     "name": "stderr",
     "output_type": "stream",
     "text": [
      "\u001b[32m\u001b[1m  Activating\u001b[22m\u001b[39m project at `C:\\Users\\Alex\\Desktop\\dynamical-systems\\env\\integrate`\n"
     ]
    },
    {
     "data": {
      "text/plain": [
       "HR_mem (generic function with 1 method)"
      ]
     },
     "metadata": {},
     "output_type": "display_data"
    }
   ],
   "source": [
    "user = \"Alex\"\n",
    "pathtorepo = \"C:\\\\Users\\\\\" * user * \"\\\\Desktop\\\\\"\n",
    "\n",
    "using Pkg\n",
    "Pkg.activate(pathtorepo * \"dynamical-systems\\\\env\\\\integrate\\\\\")\n",
    "include(\"C:\\\\Users\\\\\" * user * \"\\\\Desktop\\\\dynamical-systems\\\\system.jl\")"
   ]
  },
  {
   "cell_type": "code",
   "execution_count": 2,
   "id": "1df7d372",
   "metadata": {},
   "outputs": [],
   "source": [
    "using StaticArrays, DifferentialEquations, DynamicalSystems, Statistics\n",
    "x1 = y1 = z1 = x2 = y2 = z2  = interval(-10, 10)\n",
    "z = interval(-100, 100)\n",
    "box = x1 × y1 × z1 × x2 × y2 × z2 × z\n",
    "using CairoMakie\n",
    "using LinearAlgebra"
   ]
  },
  {
   "cell_type": "code",
   "execution_count": 156,
   "id": "2254b79d",
   "metadata": {},
   "outputs": [
    {
     "data": {
      "text/plain": [
       "HR_mem (generic function with 1 method)"
      ]
     },
     "metadata": {},
     "output_type": "display_data"
    }
   ],
   "source": [
    "function HR_mem(u, p, t)\n",
    "    function Γ(x)\n",
    "        return 1.0 / ( 1.0 + exp( -10.0 * ( x  - ( - 0.25 ) ) ) )\n",
    "    end\n",
    "    ρ(z, k1_me, k2_me) = k1_me + k2_me * z^2\n",
    "\n",
    "    a, b, c, d, s, xr, r,  I, vs, k1, k2, k1_me, k2_me  = p\n",
    "    x1, y1, z1, x2, y2, z2, z = u\n",
    "    \n",
    "    du1 = y1 + b * x1 ^ 2 - a * x1 ^3 - z1 + I - k1 * ( x1 - vs ) * Γ(x2) + ρ(z, k1_me, k2_me)*(x2 - x1)\n",
    "    du2 = c - d * x1 ^2 - y1\n",
    "    du3 = r * ( s * ( x1 - xr ) - z1 )                                                                                                                                          \n",
    "    \n",
    "    du4 = y2 + b * x2 ^ 2 - a * x2 ^3 - z2 + I - k2 * ( x2 - vs ) * Γ(x1) + ρ(z, k1_me, k2_me)*(x1 - x2)\n",
    "    du5 = c - d * x2 ^2 - y2\n",
    "    du6 = r * ( s * ( x2 - xr ) - z2 )\n",
    "\n",
    "    du7 = x1\n",
    "    \n",
    "    return SVector(du1, du2, du3, du4, du5, du6, du7)\n",
    "end"
   ]
  },
  {
   "cell_type": "code",
   "execution_count": 33,
   "id": "ccbe90cd",
   "metadata": {},
   "outputs": [
    {
     "data": {
      "text/plain": [
       "jacob_HR_mem (generic function with 1 method)"
      ]
     },
     "metadata": {},
     "output_type": "display_data"
    }
   ],
   "source": [
    "@inbounds function jacob_HR_mem(u, p, t)\n",
    "\n",
    "    a, b, c, d, s, xr, r,  I, vs, k1, k2, k1_me, k2_me  = p\n",
    "    x1, y1, z1, x2, y2, z2, z = u\n",
    "\n",
    "    function sigma(x)\n",
    "        return 1.0 / ( 1.0 + exp( -10.0 * ( x  - ( - 0.25 ) ) ) )\n",
    "    end\n",
    "    memristor(z, k1_me, k2_me) = k1_me + k2_me * z^2\n",
    "\n",
    "    sigmax1der = 10.0 * exp( -10.0*( x1 + 0.25 ) ) / ( 1.0 + exp( -10.0*( x1 + 0.25 ) ) )^2\n",
    "    sigmax2der = 10.0 * exp( -10.0*( x2 + 0.25 ) ) / ( 1.0 + exp( -10.0*( x2 + 0.25 ) ) )^2\n",
    "    \n",
    "    x1x1 = 2.0*b*x1 - 3.0 * a * x1^2 - k1 * sigma(x2) - memristor(z, k1_me, k2_me)\n",
    "    x1y1 = 1.0\n",
    "    x1z1 = -1.0\n",
    "    x1x2 = -k1 * ( x1 - vs ) * sigmax2der + memristor(z, k1_me, k2_me)\n",
    "    x1y2 = 0.0\n",
    "    x1z2 = 0.0\n",
    "    x1z = k2_me * 2.0 * z * ( x2 - x1 )\n",
    "\n",
    "    y1x1 = -2.0 * d * x1\n",
    "    y1y1 = -1.0\n",
    "    y1z1 = 0.0\n",
    "    y1x2 = 0.0\n",
    "    y1y2 = 0.0\n",
    "    y1z2 = 0.0\n",
    "    y1z = 0.0\n",
    "\n",
    "    z1x1 = r * s\n",
    "    z1y1 = 0.0\n",
    "    z1z1 = -r\n",
    "    z1x2 = 0.0\n",
    "    z1y2 = 0.0\n",
    "    z1z2 = 0.0\n",
    "    z1z = 0.0\n",
    "\n",
    "    zx1 = 1.0\n",
    "    zy1 = 0.0\n",
    "    zz1 = 0.0\n",
    "    zx2 = -1.0\n",
    "    zy2 = 0.0\n",
    "    zz2 = 0.0\n",
    "\n",
    "    zz = 0.0\n",
    "\n",
    "    # -------------------------------------\n",
    "\n",
    "    x2x2 = 2.0*b*x2 - 3.0 * a * x2^2 - k2 * sigma(x1) - memristor(z, k1_me, k2_me)\n",
    "    x2y2 = 1.0\n",
    "    x2z2 = -1.0\n",
    "    x2x1 = -k2 * ( x2 - vs ) * sigmax1der + memristor(z, k1_me, k2_me)\n",
    "    x2y1 = 0.0\n",
    "    x2z1 = 0.0\n",
    "    x2z = k2_me * 2.0 * z * ( x1 - x2 )\n",
    "\n",
    "    y2x2 = -2.0 * d * x2\n",
    "    y2y2 = -1.0\n",
    "    y2z2 = 0.0\n",
    "    y2x1 = 0.0\n",
    "    y2y1 = 0.0\n",
    "    y2z1 = 0.0\n",
    "    y2z = 0.0\n",
    "\n",
    "    z2x2 = r * s\n",
    "    z2y2 = 0.0\n",
    "    z2z2 = -r\n",
    "    z2x1 = 0.0\n",
    "    z2y1 = 0.0\n",
    "    z2z1 = 0.0\n",
    "    z2z = 0.0\n",
    "\n",
    "    SMatrix{7,7}(x1x1, y1x1, z1x1, x2x1, y2x1, z2x1, zx1,\n",
    "    x1y1, y1y1, z1y1, x2y1, y2y1, z2y1, zy1,\n",
    "    x1z1, y1z1, z1z1, x2z1, y2z1, z2z1, zz1,\n",
    "    x1x2, y1x2, z1x2, x2x2, y2x2, z2x2, zx2,\n",
    "    x1y2, y1y2, z1y2, x2y2, y2y2, z2y2, zy2,\n",
    "    x1z2, y1z2, z1z2, x2z2, y2z2, z2z2, zz2,\n",
    "    x1z, y1z, z1z, x2z, y2z, z2z, zz)\n",
    "end"
   ]
  },
  {
   "cell_type": "code",
   "execution_count": 157,
   "id": "bf5a4c2c",
   "metadata": {},
   "outputs": [],
   "source": [
    "a = 1.0; b = 3.0; c = 1.0; d = 5.0\n",
    "xr = -1.6; r = 0.01; s = 5.0; I = 4.0; vs = 2.0\n",
    "k1= -0.17; k2 = -0.17\n",
    "k1_me = 0.1103\n",
    "k2_me = 0.5\n",
    "u0 = SA[-1.5, 0, 0, 2.5, -6.354990997836504, 3.5694446819312655, -1.0]\n",
    "p = [a, b, c, d, s, xr, r, I, vs, k1, k2, k1_me, k2_me];"
   ]
  },
  {
   "cell_type": "code",
   "execution_count": 121,
   "id": "edf0d904",
   "metadata": {},
   "outputs": [
    {
     "data": {
      "text/plain": [
       "7×7 SMatrix{7, 7, Float64, 49} with indices SOneTo(7)×SOneTo(7):\n",
       " -16.1903     1.0  -1.0     0.6103   0.0   0.0   -4.0\n",
       "  15.0       -1.0   0.0     0.0      0.0   0.0    0.0\n",
       "   0.05       0.0  -0.01    0.0      0.0   0.0    0.0\n",
       "   0.610303   0.0   0.0    -4.3603   1.0  -1.0    4.0\n",
       "   0.0        0.0   0.0   -25.0     -1.0   0.0    0.0\n",
       "   0.0        0.0   0.0     0.05     0.0  -0.01   0.0\n",
       "   1.0        0.0   0.0    -1.0      0.0   0.0    0.0"
      ]
     },
     "metadata": {},
     "output_type": "display_data"
    }
   ],
   "source": [
    "Jacobi = jacob_HR_mem(u0, p, u0)"
   ]
  },
  {
   "cell_type": "code",
   "execution_count": 122,
   "id": "ca1404b0",
   "metadata": {},
   "outputs": [
    {
     "data": {
      "text/plain": [
       "-0.015731998479538684"
      ]
     },
     "metadata": {},
     "output_type": "display_data"
    }
   ],
   "source": [
    "det(Jacobi)"
   ]
  },
  {
   "cell_type": "code",
   "execution_count": 158,
   "id": "517e7a4e",
   "metadata": {},
   "outputs": [
    {
     "data": {
      "text/plain": [
       "(0.0, 1000.0)"
      ]
     },
     "metadata": {},
     "output_type": "display_data"
    }
   ],
   "source": [
    "t_start = 0.0\n",
    "t_finish = 1000.0\n",
    "tspan = (t_start, t_finish)"
   ]
  },
  {
   "cell_type": "code",
   "execution_count": 159,
   "id": "f7296b7a",
   "metadata": {},
   "outputs": [],
   "source": [
    "prob = ODEProblem(HR_mem, u0, tspan, p);"
   ]
  },
  {
   "cell_type": "code",
   "execution_count": 160,
   "id": "f97e65d8",
   "metadata": {},
   "outputs": [],
   "source": [
    "sol = solve(prob, Vern9(), abstol=1e-14, reltol=1e-14, maxiters=10e6)\n",
    "len = length(sol)\n",
    "println(\"Length: $(len)\")"
   ]
  },
  {
   "cell_type": "code",
   "execution_count": 75,
   "id": "e0eb5e75",
   "metadata": {},
   "outputs": [
    {
     "data": {
      "text/plain": [
       "7-element SVector{7, Float64} with indices SOneTo(7):\n",
       " -0.6141543648892819\n",
       " -0.885927919562785\n",
       "  4.929228175552463\n",
       " -0.6141543648893061\n",
       " -0.8859279195629354\n",
       "  4.9292281755545995\n",
       "  9.281059028065263"
      ]
     },
     "metadata": {},
     "output_type": "display_data"
    }
   ],
   "source": [
    "fp = sol[end]"
   ]
  },
  {
   "cell_type": "code",
   "execution_count": 155,
   "id": "d96f77ed",
   "metadata": {},
   "outputs": [
    {
     "data": {
      "image/png": "[encoded data removed]"
     },
     "metadata": {},
     "output_type": "display_data"
    },
    {
     "data": {
      "text/plain": [
       "CairoMakie.Screen{IMAGE}\n"
      ]
     },
     "metadata": {},
     "output_type": "display_data"
    }
   ],
   "source": [
    "indexx, indexy, indexz = 2, 3, 1\n",
    "tstart, tend = 3500000, 9500000\n",
    "f = Figure(resolution = (500, 500))\n",
    "axis3d = Axis3(f[1, 1])\n",
    "lines!(axis3d, sol[indexx, tstart:tend], sol[indexy, tstart:tend], sol[indexz, tstart:tend])\n",
    "display(f)"
   ]
  },
  {
   "cell_type": "code",
   "execution_count": 141,
   "id": "8501f323",
   "metadata": {},
   "outputs": [
    {
     "data": {
      "text/plain": [
       "7-dimensional CoupledODEs\n",
       " deterministic: true\n",
       " discrete time: false\n",
       " in-place:      false\n",
       " dynamic rule:  HR_mem\n",
       " ODE solver:    Vern9\n",
       " ODE kwargs:    (adaptive = false, dt = 0.001)\n",
       " parameters:    [1.0, 3.0, 1.0, 5.0, 5.0, -1.6, 0.01, 4.0, 2.0, -0.17, -0.17, 0.1103, 0.5]\n",
       " time:          0.0\n",
       " state:         [-1.263968571968574, -6.772555680859712, 4.055245551291493, -1.263968571968574, -6.772555680859712, 4.055245551291493, 9.54896937064704]\n"
      ]
     },
     "metadata": {},
     "output_type": "display_data"
    }
   ],
   "source": [
    "integ_set = (alg = Vern9(), adaptive = false, dt = 0.001)\n",
    "ds = CoupledODEs(HR_mem, sol[end], p, diffeq = integ_set)"
   ]
  },
  {
   "cell_type": "code",
   "execution_count": 143,
   "id": "b6b6ec0e",
   "metadata": {},
   "outputs": [
    {
     "data": {
      "text/plain": [
       "7-element Vector{Float64}:\n",
       "   0.0008126386272825784\n",
       "  -0.005468056774456663\n",
       "  -0.003947875730965332\n",
       "  -0.013310610361287013\n",
       "  -0.9184945811230878\n",
       "  -8.895531584599977\n",
       " -Inf"
      ]
     },
     "metadata": {},
     "output_type": "display_data"
    }
   ],
   "source": [
    "Λs = lyapunovspectrum(ds, 1500)"
   ]
  }
 ],
 "metadata": {
  "kernelspec": {
   "display_name": "Julia 1.9.1",
   "language": "julia",
   "name": "julia-1.9"
  },
  "language_info": {
   "file_extension": ".jl",
   "mimetype": "application/julia",
   "name": "julia",
   "version": "1.9.1"
  }
 },
 "nbformat": 4,
 "nbformat_minor": 5
}
