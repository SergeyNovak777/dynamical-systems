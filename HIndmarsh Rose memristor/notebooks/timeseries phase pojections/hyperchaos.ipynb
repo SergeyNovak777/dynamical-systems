{
 "cells": [
  {
   "cell_type": "code",
   "execution_count": 1,
   "id": "b46f0b48",
   "metadata": {},
   "outputs": [
    {
     "name": "stderr",
     "output_type": "stream",
     "text": [
      "\u001b[32m\u001b[1m  Activating\u001b[22m\u001b[39m project at `C:\\Users\\Alex\\Desktop\\dynamical-systems\\env\\integrate`\n"
     ]
    },
    {
     "data": {
      "text/plain": [
       "HR_mem (generic function with 1 method)"
      ]
     },
     "metadata": {},
     "output_type": "display_data"
    }
   ],
   "source": [
    "user = \"Alex\"\n",
    "pathtorepo = \"C:\\\\Users\\\\\" * user * \"\\\\Desktop\\\\\"\n",
    "\n",
    "using Pkg\n",
    "Pkg.activate(pathtorepo * \"dynamical-systems\\\\env\\\\integrate\\\\\")\n",
    "include(\"C:\\\\Users\\\\\" * user * \"\\\\Desktop\\\\dynamical-systems\\\\system.jl\")"
   ]
  },
  {
   "cell_type": "code",
   "execution_count": 2,
   "id": "1df7d372",
   "metadata": {},
   "outputs": [],
   "source": [
    "using StaticArrays, DifferentialEquations, DynamicalSystems, Statistics\n",
    "x1 = y1 = z1 = x2 = y2 = z2  = interval(-10, 10)\n",
    "z = interval(-100, 100)\n",
    "box = x1 × y1 × z1 × x2 × y2 × z2 × z\n",
    "using CairoMakie\n",
    "using LinearAlgebra"
   ]
  },
  {
   "cell_type": "code",
   "execution_count": 3,
   "id": "2254b79d",
   "metadata": {},
   "outputs": [
    {
     "data": {
      "text/plain": [
       "HR_mem (generic function with 1 method)"
      ]
     },
     "metadata": {},
     "output_type": "display_data"
    }
   ],
   "source": [
    "function HR_mem(u, p, t)\n",
    "    function sigma(x)\n",
    "        return 1.0 / ( 1.0 + exp( -10.0 * ( x  - ( - 0.25 ) ) ) )\n",
    "    end\n",
    "    memristor(z, k1_me, k2_me) = k1_me + k2_me * z^2\n",
    "\n",
    "    a, b, c, d, s, xr, r,  I, vs, k1, k2, k1_me, k2_me  = p\n",
    "    x1, y1, z1, x2, y2, z2, z = u\n",
    "    \n",
    "    du1 = y1 + b * x1 ^ 2 - a * x1 ^3 - z1 + I - k1 * ( x1 - vs ) * sigma(x2) + memristor(z, k1_me, k2_me)*(x2 - x1)\n",
    "    du2 = c - d * x1 ^2 - y1\n",
    "    du3 = r * ( s * ( x1 - xr ) - z1 )                                                                                                                                          \n",
    "    \n",
    "    du4 = y2 + b * x2 ^ 2 - a * x2 ^3 - z2 + I - k2 * ( x2 - vs ) * sigma(x1) + memristor(z, k1_me, k2_me)*(x1 - x2)\n",
    "    du5 = c - d * x2 ^2 - y2\n",
    "    du6 = r * ( s * ( x2 - xr ) - z2 )\n",
    "\n",
    "    du7 = x1 - x2\n",
    "    \n",
    "    return SVector(du1, du2, du3, du4, du5, du6, du7)\n",
    "end"
   ]
  },
  {
   "cell_type": "code",
   "execution_count": 6,
   "id": "ccbe90cd",
   "metadata": {},
   "outputs": [
    {
     "data": {
      "text/plain": [
       "jacob_HR_mem (generic function with 1 method)"
      ]
     },
     "metadata": {},
     "output_type": "display_data"
    }
   ],
   "source": [
    "@inbounds function jacob_HR_mem(u, p, t)\n",
    "\n",
    "    a, b, c, d, s, xr, r,  I, vs, k1, k2, k1_me, k2_me  = p\n",
    "    x1, y1, z1, x2, y2, z2, z = u\n",
    "\n",
    "    function sigma(x)\n",
    "        return 1.0 / ( 1.0 + exp( -10.0 * ( x  - ( - 0.25 ) ) ) )\n",
    "    end\n",
    "    memristor(z, k1_me, k2_me) = k1_me + k2_me * z^2\n",
    "\n",
    "    sigmax1der = 10.0 * exp( -10.0*( x1 + 0.25 ) ) / ( 1.0 + exp( -10.0*( x1 + 0.25 ) ) )^2\n",
    "    sigmax2der = 10.0 * exp( -10.0*( x2 + 0.25 ) ) / ( 1.0 + exp( -10.0*( x2 + 0.25 ) ) )^2\n",
    "    \n",
    "    x1x1 = 2.0*b*x1 - 3.0 * a * x1^2 - k1 * sigma(x2) - memristor(z, k1_me, k2_me)\n",
    "    x1y1 = 1.0\n",
    "    x1z1 = -1.0\n",
    "    x1x2 = -k1 * ( x1 - vs ) * sigmax2der + memristor(z, k1_me, k2_me)\n",
    "    x1y2 = 0.0\n",
    "    x1z2 = 0.0\n",
    "    x1z = k2_me * 2.0 * z * ( x2 - x1 )\n",
    "\n",
    "    y1x1 = -2.0 * d * x1\n",
    "    y1y1 = -1.0\n",
    "    y1z1 = 0.0\n",
    "    y1x2 = 0.0\n",
    "    y1y2 = 0.0\n",
    "    y1z2 = 0.0\n",
    "    y1z = 0.0\n",
    "\n",
    "    z1x1 = r * s\n",
    "    z1y1 = 0.0\n",
    "    z1z1 = -r\n",
    "    z1x2 = 0.0\n",
    "    z1y2 = 0.0\n",
    "    z1z2 = 0.0\n",
    "    z1z = 0.0\n",
    "\n",
    "    zx1 = 1.0\n",
    "    zy1 = 0.0\n",
    "    zz1 = 0.0\n",
    "    zx2 = -1.0\n",
    "    zy2 = 0.0\n",
    "    zz2 = 0.0\n",
    "\n",
    "    zz = 0.0\n",
    "\n",
    "    # -------------------------------------\n",
    "\n",
    "    x2x2 = 2.0*b*x2 - 3.0 * a * x2^2 - k2 * sigma(x1) - memristor(z, k1_me, k2_me)\n",
    "    x2y2 = 1.0\n",
    "    x2z2 = -1.0\n",
    "    x2x1 = -k2 * ( x2 - vs ) * sigmax1der + memristor(z, k1_me, k2_me)\n",
    "    x2y1 = 0.0\n",
    "    x2z1 = 0.0\n",
    "    x2z = k2_me * 2.0 * z * ( x1 - x2 )\n",
    "\n",
    "    y2x2 = -2.0 * d * x2\n",
    "    y2y2 = -1.0\n",
    "    y2z2 = 0.0\n",
    "    y2x1 = 0.0\n",
    "    y2y1 = 0.0\n",
    "    y2z1 = 0.0\n",
    "    y2z = 0.0\n",
    "\n",
    "    z2x2 = r * s\n",
    "    z2y2 = 0.0\n",
    "    z2z2 = -r\n",
    "    z2x1 = 0.0\n",
    "    z2y1 = 0.0\n",
    "    z2z1 = 0.0\n",
    "    z2z = 0.0\n",
    "\n",
    "    zx2 = -1.0\n",
    "    zy2 = 0.0\n",
    "    zz2 = 0.0\n",
    "    zx1 = 1.0\n",
    "    zy1 = 0.0\n",
    "    zz1 = 0.0\n",
    "\n",
    "\n",
    "\n",
    "    SMatrix{7,7}(x1x1, y1x1, z1x1, x2x1, y2x1, z2x1, zx1,\n",
    "    x1y1, y1y1, z1y1, x2y1, y2y1, z2y1, zy1,\n",
    "    x1z1, y1z1, z1z1, x2z1, y2z1, z2z1, zz1,\n",
    "    x1x2, y1x2, z1x2, x2x2, y2x2, z2x2, zx2,\n",
    "    x1y2, y1y2, z1y2, x2y2, y2y2, z2y2, zy2,\n",
    "    x1z2, y1z2, z1z2, x2z2, y2z2, z2z2, zz2,\n",
    "    x1z, y1z, z1z, x2z, y2z, z2z, zz)\n",
    "end"
   ]
  },
  {
   "cell_type": "code",
   "execution_count": 18,
   "id": "a4c4eba0",
   "metadata": {},
   "outputs": [],
   "source": [
    "a = 1.0; b = 3.0; c = 1.0; d = 5.0;\n",
    "xr = -1.6; r = 0.01; s = 5.0; I = 4.0; xv = 2.0;\n",
    "k1= -0.17; k2 = -0.17;\n",
    "k1_me = 0.1103\n",
    "k2_me = 0.01\n",
    "u0 = SA[-0.7502095013065855, -2.501174578272065, 3.3161012668413297, -0.1250403390406029, 0.28872798429714436, 3.8471196990358214, -10.967376987153086] # SA[-1.1913014173660204, -6.354990997836504, 3.5694446819312655, -1.1913014173660204, -6.354990997836504, 3.5694446819312655, 57.58493480354987]\n",
    "p = [a, b, c, d, s, xr, r, I, xv, k1, k2, k1_me, k2_me];"
   ]
  },
  {
   "cell_type": "code",
   "execution_count": 19,
   "id": "306ba22e",
   "metadata": {},
   "outputs": [
    {
     "data": {
      "text/plain": [
       "0.001"
      ]
     },
     "metadata": {},
     "output_type": "display_data"
    }
   ],
   "source": [
    "tstart = 0.0\n",
    "tend = 10000.0\n",
    "tspan = (tstart, tend)\n",
    "tstep = 0.001"
   ]
  },
  {
   "cell_type": "code",
   "execution_count": 6,
   "id": "91901e51",
   "metadata": {},
   "outputs": [],
   "source": [
    "# initial condition for hidden attractor\n",
    "another = [-0.5191345591508597\n",
    "-0.20806201734476223\n",
    " 4.708031581180823\n",
    "-0.5191345591508597\n",
    "-0.20806201734476223\n",
    " 4.708031581180823\n",
    " 1.7613505759545642];"
   ]
  },
  {
   "cell_type": "code",
   "execution_count": 20,
   "id": "f7296b7a",
   "metadata": {},
   "outputs": [
    {
     "data": {
      "text/plain": [
       "\u001b[38;2;86;182;194mODEProblem\u001b[0m with uType \u001b[38;2;86;182;194mSVector{7, Float64}\u001b[0m and tType \u001b[38;2;86;182;194mFloat64\u001b[0m. In-place: \u001b[38;2;86;182;194mfalse\u001b[0m\n",
       "timespan: (0.0, 10000.0)\n",
       "u0: 7-element SVector{7, Float64} with indices SOneTo(7):\n",
       "  -0.7502095013065855\n",
       "  -2.501174578272065\n",
       "   3.3161012668413297\n",
       "  -0.1250403390406029\n",
       "   0.28872798429714436\n",
       "   3.8471196990358214\n",
       " -10.967376987153086"
      ]
     },
     "metadata": {},
     "output_type": "display_data"
    }
   ],
   "source": [
    "prob = ODEProblem(HR_mem, u0, tspan, p)"
   ]
  },
  {
   "cell_type": "code",
   "execution_count": 21,
   "id": "f97e65d8",
   "metadata": {},
   "outputs": [],
   "source": [
    "sol = solve(prob, RK4(), adaptive = false, dt = 0.01);"
   ]
  },
  {
   "cell_type": "code",
   "execution_count": 22,
   "id": "a0b475de",
   "metadata": {},
   "outputs": [],
   "source": [
    "lb_size = 35; tck_size = 30;"
   ]
  },
  {
   "cell_type": "code",
   "execution_count": 10,
   "id": "1600381e",
   "metadata": {},
   "outputs": [
    {
     "ename": "StackOverflowError",
     "evalue": "StackOverflowError:",
     "output_type": "error",
     "traceback": [
      "StackOverflowError:\n",
      "\n",
      "Stacktrace:\n",
      " [1] getindex(A::ODESolution{Float64, 2, Vector{SVector{7, Float64}}, Nothing, Nothing, Vector{Float64}, Vector{Vector{SVector{7, Float64}}}, ODEProblem{SVector{7, Float64}, Tuple{Float64, Float64}, false, Vector{Float64}, ODEFunction{false, SciMLBase.AutoSpecialize, typeof(HR_mem), UniformScaling{Bool}, Nothing, Nothing, Nothing, Nothing, Nothing, Nothing, Nothing, Nothing, Nothing, Nothing, Nothing, Nothing, Nothing, typeof(SciMLBase.DEFAULT_OBSERVED), Nothing, Nothing}, Base.Pairs{Symbol, Union{}, Tuple{}, NamedTuple{(), Tuple{}}}, SciMLBase.StandardODEProblem}, RK4{typeof(OrdinaryDiffEq.trivial_limiter!), typeof(OrdinaryDiffEq.trivial_limiter!), Static.False}, OrdinaryDiffEq.InterpolationData{ODEFunction{false, SciMLBase.AutoSpecialize, typeof(HR_mem), UniformScaling{Bool}, Nothing, Nothing, Nothing, Nothing, Nothing, Nothing, Nothing, Nothing, Nothing, Nothing, Nothing, Nothing, Nothing, typeof(SciMLBase.DEFAULT_OBSERVED), Nothing, Nothing}, Vector{SVector{7, Float64}}, Vector{Float64}, Vector{Vector{SVector{7, Float64}}}, OrdinaryDiffEq.RK4ConstantCache}, DiffEqBase.Stats, Nothing}, sym::Int64, args::StepRangeLen{Float64, Base.TwicePrecision{Float64}, Base.TwicePrecision{Float64}, Int64})\n",
      "   @ SciMLBase C:\\Users\\Alex\\.julia\\packages\\SciMLBase\\KcGs1\\src\\solutions\\solution_interface.jl:119\n",
      " [2] getindex(A::ODESolution{Float64, 2, Vector{SVector{7, Float64}}, Nothing, Nothing, Vector{Float64}, Vector{Vector{SVector{7, Float64}}}, ODEProblem{SVector{7, Float64}, Tuple{Float64, Float64}, false, Vector{Float64}, ODEFunction{false, SciMLBase.AutoSpecialize, typeof(HR_mem), UniformScaling{Bool}, Nothing, Nothing, Nothing, Nothing, Nothing, Nothing, Nothing, Nothing, Nothing, Nothing, Nothing, Nothing, Nothing, typeof(SciMLBase.DEFAULT_OBSERVED), Nothing, Nothing}, Base.Pairs{Symbol, Union{}, Tuple{}, NamedTuple{(), Tuple{}}}, SciMLBase.StandardODEProblem}, RK4{typeof(OrdinaryDiffEq.trivial_limiter!), typeof(OrdinaryDiffEq.trivial_limiter!), Static.False}, OrdinaryDiffEq.InterpolationData{ODEFunction{false, SciMLBase.AutoSpecialize, typeof(HR_mem), UniformScaling{Bool}, Nothing, Nothing, Nothing, Nothing, Nothing, Nothing, Nothing, Nothing, Nothing, Nothing, Nothing, Nothing, Nothing, typeof(SciMLBase.DEFAULT_OBSERVED), Nothing, Nothing}, Vector{SVector{7, Float64}}, Vector{Float64}, Vector{Vector{SVector{7, Float64}}}, OrdinaryDiffEq.RK4ConstantCache}, DiffEqBase.Stats, Nothing}, sym::Int64, args::StepRangeLen{Float64, Base.TwicePrecision{Float64}, Base.TwicePrecision{Float64}, Int64}) (repeats 79983 times)\n",
      "   @ SciMLBase C:\\Users\\Alex\\.julia\\packages\\SciMLBase\\KcGs1\\src\\solutions\\solution_interface.jl:139"
     ]
    }
   ],
   "source": [
    "ts, tf = 600000, 900000\n",
    "indexx,indexy,indexz = 2, 5, 6\n",
    "f = Figure(resolution = (900, 600))\n",
    "axis3 = Axis3(f[1, 1], xlabel = L\"y_1\", ylabel = L\"y_2\", zlabel = L\"z\",\n",
    "                xlabelsize = lb_size, ylabelsize = lb_size, zlabelsize = lb_size,\n",
    "                xticklabelsize = tck_size, yticklabelsize = tck_size, zticklabelsize = tck_size,\n",
    "                xgridvisible = false, ygridvisible = false, zgridvisible = false)\n",
    "\n",
    "lines!(axis3, sol[indexx, tstart:tend], sol[indexy, tstart:tend], sol[indexz, tstart:tend], linewidth = 2.5, color = :black)\n",
    "\n",
    "display(f)"
   ]
  },
  {
   "cell_type": "code",
   "execution_count": 23,
   "id": "3e3a001f",
   "metadata": {},
   "outputs": [
    {
     "data": {
      "image/png": "[encoded data removed]"
     },
     "metadata": {},
     "output_type": "display_data"
    }
   ],
   "source": [
    "ts, tf = 800000, 900000\n",
    "f = Figure(resolution = (1200, 300))\n",
    "axis = Axis(f[1, 1], xlabel = L\"$time$\", ylabel = L\"$x_{||}$\",\n",
    "            xlabelsize = lb_size, ylabelsize = lb_size,\n",
    "            xticklabelsize = tck_size, yticklabelsize = tck_size,\n",
    "            xgridvisible = false, ygridvisible = false)\n",
    "lines!(axis, sol.t[ts:tf], sol[1, ts:tf]+sol[4, ts:tf], linewidth = 2.5, color = :black)\n",
    "f"
   ]
  },
  {
   "cell_type": "code",
   "execution_count": 28,
   "id": "8a04fe31",
   "metadata": {},
   "outputs": [
    {
     "data": {
      "text/plain": [
       "CairoMakie.Screen{EPS}\n"
      ]
     },
     "metadata": {},
     "output_type": "display_data"
    }
   ],
   "source": [
    "save(\"timeseries_hyper_chaos.eps\", f)"
   ]
  },
  {
   "cell_type": "code",
   "execution_count": 24,
   "id": "8501f323",
   "metadata": {},
   "outputs": [
    {
     "data": {
      "text/plain": [
       "7-dimensional CoupledODEs\n",
       " deterministic: true\n",
       " discrete time: false\n",
       " in-place:      false\n",
       " dynamic rule:  HR_mem\n",
       " ODE solver:    RK4\n",
       " ODE kwargs:    (adaptive = false, dt = 0.001)\n",
       " parameters:    [1.0, 3.0, 1.0, 5.0, 5.0, -1.6, 0.01, 4.0, 2.0, -0.17, -0.17, 0.1103, 0.01]\n",
       " time:          0.0\n",
       " state:         [-0.6455644797208607, -1.649588493000403, 3.7712277848681297, -0.624976884394787, -1.4855152654157089, 3.811104258747185, -7.012011565178529]\n"
      ]
     },
     "metadata": {},
     "output_type": "display_data"
    }
   ],
   "source": [
    "integ_set = (alg = RK4(), adaptive = false, dt = 0.001)\n",
    "ds = CoupledODEs(HR_mem, sol[end], p, diffeq = integ_set)"
   ]
  },
  {
   "cell_type": "code",
   "execution_count": 27,
   "id": "b6b6ec0e",
   "metadata": {},
   "outputs": [
    {
     "data": {
      "text/plain": [
       "7-element Vector{Float64}:\n",
       "   0.01663808558290899\n",
       "   0.0010178347970807816\n",
       "  -0.00011452160552077265\n",
       "  -0.0085178999393196\n",
       "  -0.03376227156878712\n",
       "  -7.86679663745497\n",
       " -10.630216168451717"
      ]
     },
     "metadata": {},
     "output_type": "display_data"
    }
   ],
   "source": [
    "Λs = lyapunovspectrum(ds, 10000)"
   ]
  }
 ],
 "metadata": {
  "kernelspec": {
   "display_name": "Julia 1.9.1",
   "language": "julia",
   "name": "julia-1.9"
  },
  "language_info": {
   "file_extension": ".jl",
   "mimetype": "application/julia",
   "name": "julia",
   "version": "1.9.1"
  }
 },
 "nbformat": 4,
 "nbformat_minor": 5
}
