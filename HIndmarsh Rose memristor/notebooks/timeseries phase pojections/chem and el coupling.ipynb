{
 "cells": [
  {
   "cell_type": "code",
   "execution_count": 3,
   "id": "b46f0b48",
   "metadata": {},
   "outputs": [
    {
     "name": "stderr",
     "output_type": "stream",
     "text": [
      "\u001b[32m\u001b[1m  Activating\u001b[22m\u001b[39m project at `C:\\Users\\Alex\\Desktop\\dynamical-systems\\env\\integrate`\n"
     ]
    },
    {
     "data": {
      "text/plain": [
       "HR_mem (generic function with 1 method)"
      ]
     },
     "metadata": {},
     "output_type": "display_data"
    }
   ],
   "source": [
    "user = \"Alex\"\n",
    "pathtorepo = \"C:\\\\Users\\\\\" * user * \"\\\\Desktop\\\\\"\n",
    "\n",
    "using Pkg\n",
    "Pkg.activate(pathtorepo * \"dynamical-systems\\\\env\\\\integrate\\\\\")\n",
    "include(\"C:\\\\Users\\\\\" * user * \"\\\\Desktop\\\\dynamical-systems\\\\system.jl\")"
   ]
  },
  {
   "cell_type": "code",
   "execution_count": 4,
   "id": "1df7d372",
   "metadata": {},
   "outputs": [
    {
     "name": "stderr",
     "output_type": "stream",
     "text": [
      "WARNING: using LinearAlgebra.I in module Main conflicts with an existing identifier.\n"
     ]
    }
   ],
   "source": [
    "using StaticArrays, DifferentialEquations, DynamicalSystems, Statistics\n",
    "x1 = y1 = z1 = x2 = y2 = z2  = interval(-10, 10)\n",
    "box = x1 × y1 × z1 × x2 × y2 × z2\n",
    "using CairoMakie\n",
    "using LinearAlgebra"
   ]
  },
  {
   "cell_type": "code",
   "execution_count": 5,
   "id": "2254b79d",
   "metadata": {},
   "outputs": [
    {
     "data": {
      "text/plain": [
       "HR_mem (generic function with 1 method)"
      ]
     },
     "metadata": {},
     "output_type": "display_data"
    }
   ],
   "source": [
    "function HR_mem(u, p, t)\n",
    "    function sigma(x)\n",
    "        return 1.0 / ( 1.0 + exp( -10.0 * ( x  - ( - 0.25 ) ) ) )\n",
    "    end\n",
    "    a, b, c, d, s, xr, r,  I, vs, g1, g2, k  = p\n",
    "    x1, y1, z1, x2, y2, z2 = u\n",
    "    \n",
    "    du1 = y1 + b * x1 ^ 2 - a * x1 ^3 - z1 + I - g1 * ( x1 - vs ) * sigma(x2) + k*(x2 - x1)\n",
    "    du2 = c - d * x1 ^2 - y1\n",
    "    du3 = r * ( s * ( x1 - xr ) - z1 )                                                                                                                                          \n",
    "    \n",
    "    du4 = y2 + b * x2 ^ 2 - a * x2 ^3 - z2 + I - g2 * ( x2 - vs ) * sigma(x1) + k*(x1 - x2)\n",
    "    du5 = c - d * x2 ^2 - y2\n",
    "    du6 = r * ( s * ( x2 - xr ) - z2 )\n",
    "\n",
    "    return SVector(du1, du2, du3, du4, du5, du6)\n",
    "end"
   ]
  },
  {
   "cell_type": "code",
   "execution_count": 6,
   "id": "ccbe90cd",
   "metadata": {},
   "outputs": [
    {
     "data": {
      "text/plain": [
       "jacob_HR_mem (generic function with 1 method)"
      ]
     },
     "metadata": {},
     "output_type": "display_data"
    }
   ],
   "source": [
    "@inbounds function jacob_HR_mem(u, p, t)\n",
    "\n",
    "    a, b, c, d, s, xr, r,  I, vs, g1, g2, k  = p\n",
    "    x1, y1, z1, x2, y2, z2 = u\n",
    "\n",
    "    function sigma(x)\n",
    "        return 1.0 / ( 1.0 + exp( -10.0 * ( x  - ( - 0.25 ) ) ) )\n",
    "    end\n",
    "\n",
    "    sigmax1der = 10.0 * exp( -10.0*( x1 + 0.25 ) ) / ( 1.0 + exp( -10.0*( x1 + 0.25 ) ) )^2\n",
    "    sigmax2der = 10.0 * exp( -10.0*( x2 + 0.25 ) ) / ( 1.0 + exp( -10.0*( x2 + 0.25 ) ) )^2\n",
    "    \n",
    "    x1x1 = 2.0*b*x1 - 3.0 * a * x1^2 - g1 * sigma(x2) - k\n",
    "    x1y1 = 1.0\n",
    "    x1z1 = -1.0\n",
    "    x1x2 = -g1 * ( x1 - vs ) * sigmax2der + k\n",
    "    x1y2 = 0.0\n",
    "    x1z2 = 0.0\n",
    "\n",
    "    y1x1 = -2.0 * d * x1\n",
    "    y1y1 = -1.0\n",
    "    y1z1 = 0.0\n",
    "    y1x2 = 0.0\n",
    "    y1y2 = 0.0\n",
    "    y1z2 = 0.0\n",
    "\n",
    "    z1x1 = r * s\n",
    "    z1y1 = 0.0\n",
    "    z1z1 = -r\n",
    "    z1x2 = 0.0\n",
    "    z1y2 = 0.0\n",
    "    z1z2 = 0.0\n",
    "    # -------------------------------------\n",
    "\n",
    "    x2x2 = 2.0*b*x2 - 3.0 * a * x2^2 - g2 * sigma(x1) - k\n",
    "    x2y2 = 1.0\n",
    "    x2z2 = -1.0\n",
    "    x2x1 = -g2 * ( x2 - vs ) * sigmax1der + k\n",
    "    x2y1 = 0.0\n",
    "    x2z1 = 0.0\n",
    "\n",
    "    y2x2 = -2.0 * d * x2\n",
    "    y2y2 = -1.0\n",
    "    y2z2 = 0.0\n",
    "    y2x1 = 0.0\n",
    "    y2y1 = 0.0\n",
    "    y2z1 = 0.0\n",
    "\n",
    "    z2x2 = r * s\n",
    "    z2y2 = 0.0\n",
    "    z2z2 = -r\n",
    "    z2x1 = 0.0\n",
    "    z2y1 = 0.0\n",
    "    z2z1 = 0.0\n",
    "\n",
    "\n",
    "    SMatrix{6,6}(x1x1, y1x1, z1x1, x2x1, y2x1, z2x1,\n",
    "    x1y1, y1y1, z1y1, x2y1, y2y1, z2y1,\n",
    "    x1z1, y1z1, z1z1, x2z1, y2z1, z2z1,\n",
    "    x1x2, y1x2, z1x2, x2x2, y2x2, z2x2,\n",
    "    x1y2, y1y2, z1y2, x2y2, y2y2, z2y2,\n",
    "    x1z2, y1z2, z1z2, x2z2, y2z2, z2z2)\n",
    "end"
   ]
  },
  {
   "cell_type": "code",
   "execution_count": 7,
   "id": "a4c4eba0",
   "metadata": {},
   "outputs": [],
   "source": [
    "a = 1.0; b = 3.0; c = 1.0; d = 5.0;\n",
    "xr = -1.6; r = 0.01; s = 5.0; I = 4.0; xv = 2.0;\n",
    "g1 = -1.17; g2 = -0.17\n",
    "# Bautin bifurcation point at (:k, :k1) ≈ (0.6189496277966194, -0.27108986294801735).\n",
    "k = 1.0\n",
    "u0 = SA[-1.5, -6.354990997836504, 3.5694446819312655, 2.5, -6.354990997836504, 3.5694446819312655]\n",
    "p = [a, b, c, d, s, xr, r, I, xv, g1, g2, k];"
   ]
  },
  {
   "cell_type": "code",
   "execution_count": 8,
   "id": "593856ee",
   "metadata": {},
   "outputs": [
    {
     "data": {
      "text/plain": [
       "6×6 SMatrix{6, 6, Float64, 36} with indices SOneTo(6)×SOneTo(6):\n",
       " -15.58   1.0  -1.0     1.0    0.0   0.0\n",
       "  15.0   -1.0   0.0     0.0    0.0   0.0\n",
       "   0.05   0.0  -0.01    0.0    0.0   0.0\n",
       "   1.0    0.0   0.0    -4.75   1.0  -1.0\n",
       "   0.0    0.0   0.0   -25.0   -1.0   0.0\n",
       "   0.0    0.0   0.0     0.05   0.0  -0.01"
      ]
     },
     "metadata": {},
     "output_type": "display_data"
    }
   ],
   "source": [
    "Jacobi = jacob_HR_mem(u0, p, 0.0)"
   ]
  },
  {
   "cell_type": "code",
   "execution_count": 9,
   "id": "0c727544",
   "metadata": {},
   "outputs": [
    {
     "data": {
      "text/plain": [
       "0.019290499329737146"
      ]
     },
     "metadata": {},
     "output_type": "display_data"
    }
   ],
   "source": [
    "det(Jacobi)"
   ]
  },
  {
   "cell_type": "code",
   "execution_count": 12,
   "id": "306ba22e",
   "metadata": {},
   "outputs": [
    {
     "data": {
      "text/plain": [
       "0.001"
      ]
     },
     "metadata": {},
     "output_type": "display_data"
    }
   ],
   "source": [
    "tstart = 0.0\n",
    "tend = 50000.0\n",
    "tspan = (tstart, tend)\n",
    "tstep = 0.001"
   ]
  },
  {
   "cell_type": "code",
   "execution_count": 13,
   "id": "f7296b7a",
   "metadata": {},
   "outputs": [
    {
     "data": {
      "text/plain": [
       "\u001b[38;2;86;182;194mODEProblem\u001b[0m with uType \u001b[38;2;86;182;194mSVector{6, Float64}\u001b[0m and tType \u001b[38;2;86;182;194mFloat64\u001b[0m. In-place: \u001b[38;2;86;182;194mfalse\u001b[0m\n",
       "timespan: (0.0, 50000.0)\n",
       "u0: 6-element SVector{6, Float64} with indices SOneTo(6):\n",
       " -1.5\n",
       " -6.354990997836504\n",
       "  3.5694446819312655\n",
       "  2.5\n",
       " -6.354990997836504\n",
       "  3.5694446819312655"
      ]
     },
     "metadata": {},
     "output_type": "display_data"
    }
   ],
   "source": [
    "prob = ODEProblem(HR_mem, u0, tspan, p)"
   ]
  },
  {
   "cell_type": "code",
   "execution_count": 14,
   "id": "f97e65d8",
   "metadata": {},
   "outputs": [],
   "source": [
    "sol = solve(prob, RK4(), adaptive = false, dt = 0.01);"
   ]
  },
  {
   "cell_type": "code",
   "execution_count": 15,
   "id": "5cc57859",
   "metadata": {},
   "outputs": [
    {
     "name": "stdout",
     "output_type": "stream",
     "text": [
      "5000001\n"
     ]
    }
   ],
   "source": [
    "println(\"$(length(sol))\")"
   ]
  },
  {
   "cell_type": "code",
   "execution_count": 16,
   "id": "d96f77ed",
   "metadata": {},
   "outputs": [
    {
     "data": {
      "image/png": "[encoded data removed]"
     },
     "metadata": {},
     "output_type": "display_data"
    },
    {
     "data": {
      "text/plain": [
       "CairoMakie.Screen{IMAGE}\n"
      ]
     },
     "metadata": {},
     "output_type": "display_data"
    }
   ],
   "source": [
    "indexx, indexy, indexz = 1, 4, 6\n",
    "tstart, tend = 3500000, 4900000\n",
    "f = Figure(resolution = (600, 600))\n",
    "axis3d = Axis3(f[1, 1])\n",
    "lines!(axis3d, sol[indexx, tstart:tend], sol[indexy, tstart:tend], sol[indexz, tstart:tend])\n",
    "display(f)"
   ]
  },
  {
   "cell_type": "code",
   "execution_count": 17,
   "id": "8501f323",
   "metadata": {},
   "outputs": [
    {
     "data": {
      "text/plain": [
       "6-dimensional CoupledODEs\n",
       " deterministic: true\n",
       " discrete time: false\n",
       " in-place:      false\n",
       " dynamic rule:  HR_mem\n",
       " ODE solver:    RK4\n",
       " ODE kwargs:    (adaptive = false, dt = 0.001)\n",
       " parameters:    [1.0, 3.0, 1.0, 5.0, 5.0, -1.6, 0.01, 4.0, 2.0, -1.17, -0.17, 1.0]\n",
       " time:          0.0\n",
       " state:         [-1.5, -6.354990997836504, 3.5694446819312655, 2.5, -6.354990997836504, 3.5694446819312655]\n"
      ]
     },
     "metadata": {},
     "output_type": "display_data"
    }
   ],
   "source": [
    "integ_set = (alg = RK4(), adaptive = false, dt = 0.001)\n",
    "ds = CoupledODEs(HR_mem, u0, p, diffeq = integ_set)"
   ]
  },
  {
   "cell_type": "code",
   "execution_count": 18,
   "id": "464fe3d6",
   "metadata": {},
   "outputs": [
    {
     "data": {
      "text/plain": [
       "(6-dimensional StateSpaceSet{Float64} with 1 points, Vector{ComplexF64}[[-8.881414432021247 + 0.0im, -7.383267332759711 + 0.0im, -0.03772886480285602 - 0.06936118596708245im, -0.03772886480285602 + 0.06936118596708245im, 0.06866334698241028 + 0.0im, 0.07534174326383887 + 0.0im]], Bool[0])"
      ]
     },
     "metadata": {},
     "output_type": "display_data"
    }
   ],
   "source": [
    "fp, ei, stable = fixedpoints(ds, box, jacob_HR_mem)"
   ]
  },
  {
   "cell_type": "code",
   "execution_count": 19,
   "id": "65117a52",
   "metadata": {},
   "outputs": [
    {
     "data": {
      "text/plain": [
       "6-element Vector{ComplexF64}:\n",
       "   -8.881414432021247 + 0.0im\n",
       "   -7.383267332759711 + 0.0im\n",
       " -0.03772886480285602 - 0.06936118596708245im\n",
       " -0.03772886480285602 + 0.06936118596708245im\n",
       "  0.06866334698241028 + 0.0im\n",
       "  0.07534174326383887 + 0.0im"
      ]
     },
     "metadata": {},
     "output_type": "display_data"
    }
   ],
   "source": [
    "ei[1]"
   ]
  },
  {
   "cell_type": "code",
   "execution_count": 20,
   "id": "b6b6ec0e",
   "metadata": {},
   "outputs": [
    {
     "data": {
      "text/plain": [
       "6-element Vector{Float64}:\n",
       "   4.5227160809632035e-5\n",
       "  -0.024874791862360867\n",
       "  -0.10370276316915483\n",
       "  -0.21589475025209862\n",
       "  -7.68115038832188\n",
       " -11.238205265787167"
      ]
     },
     "metadata": {},
     "output_type": "display_data"
    }
   ],
   "source": [
    "Λs = lyapunovspectrum(ds, 50000, Ttr = 20000)"
   ]
  },
  {
   "cell_type": "code",
   "execution_count": 21,
   "id": "8c59180f",
   "metadata": {},
   "outputs": [
    {
     "data": {
      "text/plain": [
       "6-element Vector{Float64}:\n",
       "   4.522716080963166e-5\n",
       "  -0.02487479186236085\n",
       "  -0.10370276316915479\n",
       "  -0.21589475025209853\n",
       "  -7.681150388332974\n",
       " -11.238205265706592"
      ]
     },
     "metadata": {},
     "output_type": "display_data"
    }
   ],
   "source": [
    "tands = TangentDynamicalSystem(ds; J = jacob_HR_mem)\n",
    "λλ = lyapunovspectrum(tands, 50000, Ttr = 20000)"
   ]
  }
 ],
 "metadata": {
  "kernelspec": {
   "display_name": "Julia 1.9.1",
   "language": "julia",
   "name": "julia-1.9"
  },
  "language_info": {
   "file_extension": ".jl",
   "mimetype": "application/julia",
   "name": "julia",
   "version": "1.9.1"
  }
 },
 "nbformat": 4,
 "nbformat_minor": 5
}
