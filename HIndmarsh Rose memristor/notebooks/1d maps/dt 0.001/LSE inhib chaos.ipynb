{
 "cells": [
  {
   "cell_type": "code",
   "execution_count": 1,
   "id": "9791b4a8",
   "metadata": {},
   "outputs": [
    {
     "name": "stderr",
     "output_type": "stream",
     "text": [
      "\u001b[32m\u001b[1m  Activating\u001b[22m\u001b[39m project at `C:\\Users\\Alex\\Desktop\\dynamical-systems\\env\\integrate`\n"
     ]
    },
    {
     "data": {
      "text/plain": [
       "jacob_TM_ (generic function with 1 method)"
      ]
     },
     "metadata": {},
     "output_type": "display_data"
    }
   ],
   "source": [
    "user = \"Alex\"\n",
    "pathtorepo = \"C:\\\\Users\\\\\" * user * \"\\\\Desktop\\\\\"\n",
    "\n",
    "using Pkg\n",
    "Pkg.activate(pathtorepo * \"dynamical-systems\\\\env\\\\integrate\\\\\")\n",
    "include(\"C:\\\\Users\\\\\" * user * \"\\\\Desktop\\\\dynamical-systems\\\\system.jl\")"
   ]
  },
  {
   "cell_type": "code",
   "execution_count": 2,
   "id": "af35317d",
   "metadata": {},
   "outputs": [],
   "source": [
    "using StaticArrays, DifferentialEquations, DynamicalSystems, Statistics\n",
    "#x1, y1, z1, x2, y2, z2, z  = -30..30, -30..30,  -30..30, -30..30, -30..30, -30..30, -30..30\n",
    "#box = x1 × y1 × z1 × x2 × y2 × z2 × z\n",
    "using CairoMakie"
   ]
  },
  {
   "cell_type": "code",
   "execution_count": 3,
   "id": "18e701ba",
   "metadata": {},
   "outputs": [
    {
     "data": {
      "text/plain": [
       "separate (generic function with 1 method)"
      ]
     },
     "metadata": {},
     "output_type": "display_data"
    }
   ],
   "source": [
    "function HR_mem(u, p, t)\n",
    "    function sigma(x)\n",
    "        return 1.0 / ( 1.0 + exp( -10.0 * ( x  - ( - 0.25 ) ) ) )\n",
    "    end\n",
    "    memristor(z, k1_me, k2_me) = k1_me + k2_me * z^2\n",
    "\n",
    "    a, b, c, d, s, xr, r,  I, vs, k1, k2, k1_me, k2_me  = p\n",
    "    x1, y1, z1, x2, y2, z2, z = u\n",
    "    \n",
    "    du1 = y1 + b * x1 ^ 2 - a * x1 ^3 - z1 + I - k1 * ( x1 - vs ) * sigma(x2) + memristor(z, k1_me, k2_me)*(x2 - x1)\n",
    "    du2 = c - d * x1 ^2 - y1\n",
    "    du3 = r * ( s * ( x1 - xr ) - z1 )\n",
    "    \n",
    "    du4 = y2 + b * x2 ^ 2 - a * x2 ^3 - z2 + I - k2 * ( x2 - vs ) * sigma(x1) + memristor(z, k1_me, k2_me)*(x1 - x2)\n",
    "    du5 = c - d * x2 ^2 - y2\n",
    "    du6 = r * ( s * ( x2 - xr ) - z2 )\n",
    "\n",
    "    du7 = x1 - x2\n",
    "    \n",
    "    return SVector(du1, du2, du3, du4, du5, du6, du7)\n",
    "end\n",
    "\n",
    "function save_tofile(name, Λs, u0s)\n",
    "    nameLS = \"LSs\"*  name * \".jld\"\n",
    "    nameu0s = \"u0s\"*  name * \".jld\"\n",
    "    save(nameLS, \"data\", Λs)\n",
    "    save(nameu0s, \"data\", u0s)\n",
    "end\n",
    "\n",
    "function output(idx, parameter, u0)\n",
    "    println(\"index: $idx; k2_me: $parameter\");flush(stdout)\n",
    "    println(\"u0: $u0\");flush(stdout)\n",
    "end\n",
    "function output(Λ, u0)\n",
    "    println(\"Λ: $Λ\");flush(stdout)\n",
    "    println(\"last point: $u0\");flush(stdout)\n",
    "end\n",
    "function separate()\n",
    "    println(\"----------------\");flush(stdout)\n",
    "    println(\"  \");flush(stdout)\n",
    "end"
   ]
  },
  {
   "cell_type": "code",
   "execution_count": 4,
   "id": "95ea85c1",
   "metadata": {},
   "outputs": [],
   "source": [
    "a = 1.0; b = 3.0; c = 1.0; d = 5.0;\n",
    "xr = -1.6; r = 0.01; s = 5.0; I = 4.0; xv = 2.0;\n",
    "k1= -0.17; k2 = -0.17;\n",
    "k1_me = 0.331\n",
    "k2_me = 0.0\n",
    "u0_start = [-1.5, 0.0, 0.0, -2.5, 0.0, 0.0, 0.0]\n",
    "p = [a, b, c, d, s, xr, r, I, xv, k1, k2, k1_me, k2_me];"
   ]
  },
  {
   "cell_type": "code",
   "execution_count": 5,
   "id": "1f5a139e",
   "metadata": {},
   "outputs": [
    {
     "data": {
      "text/plain": [
       "(alg = RK4(stage_limiter! = trivial_limiter!, step_limiter! = trivial_limiter!, thread = static(false)), adaptive = false, dt = 0.001)"
      ]
     },
     "metadata": {},
     "output_type": "display_data"
    }
   ],
   "source": [
    "tt = 3000\n",
    "time = 3000\n",
    "tstep = 0.001\n",
    "integ_set = (alg = RK4(), adaptive = false, dt = tstep)"
   ]
  },
  {
   "cell_type": "code",
   "execution_count": 6,
   "id": "e497c386",
   "metadata": {},
   "outputs": [
    {
     "data": {
      "text/plain": [
       "0.0:0.0033444816053511705:1.0"
      ]
     },
     "metadata": {},
     "output_type": "display_data"
    }
   ],
   "source": [
    "u0 = [-1.5, 0.0, 0.0, -2.5, 0.0, 0.0, 0.0]\n",
    "k2me_start = 0.0\n",
    "k2me_end = 1.0\n",
    "k2me_length = 300\n",
    "\n",
    "k2me_range = range(k2me_start, k2me_end, length = k2me_length)"
   ]
  },
  {
   "cell_type": "code",
   "execution_count": 7,
   "id": "c67f4110",
   "metadata": {},
   "outputs": [],
   "source": [
    "Λs =  zeros(length(k2me_range), 7)\n",
    "u0s = zeros(length(k2me_range), 7);"
   ]
  },
  {
   "cell_type": "code",
   "execution_count": 8,
   "id": "ac1ce956",
   "metadata": {},
   "outputs": [
    {
     "data": {
      "text/plain": [
       "\"100 inhibitory k1_me=0.331 chaos\""
      ]
     },
     "metadata": {},
     "output_type": "display_data"
    }
   ],
   "source": [
    "filename = \"100 inhibitory k1_me=0.331 chaos\""
   ]
  },
  {
   "cell_type": "code",
   "execution_count": 9,
   "id": "1ba9526c",
   "metadata": {
    "scrolled": true
   },
   "outputs": [],
   "source": [
    "for (idx, k2me_) in enumerate(k2me_range)\n",
    "\n",
    "    if idx == 1\n",
    "        global u0 = u0_start\n",
    "    end\n",
    "\n",
    "    #output(idx, k2me_, u0)\n",
    "\n",
    "    p = [a, b, c, d, s, xr, r, I, xv, k1, k2, k1_me, k2me_];\n",
    "    ds = CoupledODEs(HR_mem, u0, p, diffeq = integ_set)\n",
    "\n",
    "    tr, _ = trajectory(ds, time; Δt = 0.01, Ttr = tt)\n",
    "    u0 = tr[end]; ds = CoupledODEs(HR_mem,  u0, p, diffeq = integ_set)\n",
    "    Λ = lyapunovspectrum(ds, time)\n",
    "    Λ = sort(Λ)\n",
    "    Λs[idx, :] = Λ\n",
    "    u0s[idx, :] = u0\n",
    "    \n",
    "    #output(Λs[idx, :], u0s[idx, :])\n",
    "    #separate()\n",
    "    \n",
    "    save_tofile(filename, Λs, u0s)\n",
    "    \n",
    "end"
   ]
  }
 ],
 "metadata": {
  "kernelspec": {
   "display_name": "Julia 1.9.1",
   "language": "julia",
   "name": "julia-1.9"
  },
  "language_info": {
   "file_extension": ".jl",
   "mimetype": "application/julia",
   "name": "julia",
   "version": "1.9.1"
  }
 },
 "nbformat": 4,
 "nbformat_minor": 5
}
