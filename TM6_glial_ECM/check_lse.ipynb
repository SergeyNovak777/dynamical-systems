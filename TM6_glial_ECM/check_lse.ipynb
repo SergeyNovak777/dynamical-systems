{
 "cells": [
  {
   "cell_type": "code",
   "execution_count": 2,
   "metadata": {},
   "outputs": [
    {
     "name": "stderr",
     "output_type": "stream",
     "text": [
      "\u001b[32m\u001b[1m  Activating\u001b[22m\u001b[39m project at `~/work/repo_ds/dynamical-systems/env/integrate`\n"
     ]
    },
    {
     "data": {
      "text/plain": [
       "plot_3d_2c_fp (generic function with 1 method)"
      ]
     },
     "metadata": {},
     "output_type": "display_data"
    }
   ],
   "source": [
    "if Sys.iswindows()\n",
    "    username = \"Alex\"\n",
    "    pathtorepo = \"C:\\\\Users\\\\\" *username *  \"\\\\Desktop\\\\\"\n",
    "    using Pkg\n",
    "    Pkg.activate(pathtorepo * \"dynamical-systems\\\\env\\\\integrate\\\\\")\n",
    "    using StaticArrays, DifferentialEquations, DynamicalSystems, BenchmarkTools, CairoMakie\n",
    "    include(\"C:\\\\Users\\\\Alex\\\\Desktop\\\\dynamical-systems\\\\system.jl\");\n",
    "    include(\"C:\\\\Users\\\\Alex\\\\Desktop\\\\dynamical-systems\\\\visual.jl\");\n",
    "else\n",
    "    username = \"nova\"\n",
    "    pathtorepo = \"/home/nova/work/repo_ds/dynamical-systems\"\n",
    "    using Pkg\n",
    "    Pkg.activate(pathtorepo * \"/env/integrate/\")\n",
    "    using StaticArrays, DifferentialEquations, DynamicalSystems, JLD2, CairoMakie\n",
    "    include(\"/home/nova/work/repo_ds/dynamical-systems/system.jl\")\n",
    "    include(\"/home/nova/work/repo_ds/dynamical-systems/visual.jl\")\n",
    "end"
   ]
  },
  {
   "cell_type": "code",
   "execution_count": 3,
   "metadata": {},
   "outputs": [
    {
     "data": {
      "text/plain": [
       "lyapunovspectrum_adapt (generic function with 1 method)"
      ]
     },
     "metadata": {},
     "output_type": "display_data"
    }
   ],
   "source": [
    "function find_zero(Λs; tol = 1e-3)\n",
    "    vec_bool = Vector{Bool}(undef, 6);\n",
    "    for (index, lp) in enumerate(Λs)\n",
    "        checknull=  isapprox(lp, 0.0; atol = tol);\n",
    "        vec_bool[index] = checknull;\n",
    "    end\n",
    "    vec_of_true = findall(x->x==true, vec_bool);\n",
    "    if length(vec_of_true) >=1\n",
    "        return 0;\n",
    "    else\n",
    "        return -1;\n",
    "    end;\n",
    "end\n",
    "\n",
    "function lyapunovspectrum_adapt(tands, time_lse; tol_ = 1e-3)\n",
    "    coeff_adapt_time = 1;\n",
    "    flag = true;\n",
    "\n",
    "    Λs = lyapunovspectrum(tands, time_lse);\n",
    "    while flag == true\n",
    "        checkzero = find_zero(Λs; tol = tol_);\n",
    "        if checkzero == -1\n",
    "            coeff_adapt_time*=2;\n",
    "            Λs = lyapunovspectrum(tands, time_lse * coeff_adapt_time*10);\n",
    "        else\n",
    "            flag = false;\n",
    "        end\n",
    "    end\n",
    "    return Λs, coeff_adapt_time;\n",
    "end"
   ]
  },
  {
   "cell_type": "code",
   "execution_count": 4,
   "metadata": {},
   "outputs": [],
   "source": [
    "time = 3000.0; tt = 0.0; tstep = 0.001; tol = 1e-15;\n",
    "tlse = 1000;\n",
    "integ_set = (alg = Vern9(), adaptive = true, abstol = tol, reltol = tol);"
   ]
  },
  {
   "cell_type": "code",
   "execution_count": 5,
   "metadata": {},
   "outputs": [
    {
     "name": "stdout",
     "output_type": "stream",
     "text": [
      "\n",
      "    τ - 1, τD - 2, τF - 3, τy - 4, α - 5, αE - 6, αecm - 7, αp - 8,\n",
      "    J - 9, U0 - 10, I0 - 11, ΔU0 - 12, β - 13, βecm  -14, βp - 15,\n",
      "    γp - 16, ecm0 - 17, ecm1 - 18, kecm - 19, θecm - 20, p0 - 21, p1 - 22, θp - 23, kp - 24, ythr - 25, xthr - 26\n"
     ]
    }
   ],
   "source": [
    "param = TM6_glial_ECM_get_params();\n",
    "dict, indexparams = TM6_glial_ECM_help(param);\n",
    "println(indexparams);"
   ]
  },
  {
   "cell_type": "code",
   "execution_count": 6,
   "metadata": {},
   "outputs": [
    {
     "data": {
      "text/plain": [
       "4.6235863453815265"
      ]
     },
     "metadata": {},
     "output_type": "display_data"
    }
   ],
   "source": [
    "u0 = [9.229913037372262, 0.4700671097035878, 0.8142744230362869, 0.00014525973293301472, 0.0074559249055014525, 1.42904680196444e-16];\n",
    "param[6] = 4.6235863453815265"
   ]
  },
  {
   "cell_type": "code",
   "execution_count": 7,
   "metadata": {},
   "outputs": [
    {
     "data": {
      "text/plain": [
       "(6-dimensional StateSpaceSet{Float64} with 3000001 points, 0.0:0.001:3000.0)"
      ]
     },
     "metadata": {},
     "output_type": "display_data"
    }
   ],
   "source": [
    "ds= CoupledODEs(TM6_glial_ECM, u0, param, diffeq = integ_set);\n",
    "tr, trange = trajectory(ds, time, Δt = tstep)"
   ]
  },
  {
   "cell_type": "code",
   "execution_count": 8,
   "metadata": {},
   "outputs": [],
   "source": [
    "tands = TangentDynamicalSystem(ds; J = TM6_glial_ECM_jac);"
   ]
  },
  {
   "cell_type": "code",
   "execution_count": 9,
   "metadata": {},
   "outputs": [
    {
     "data": {
      "text/plain": [
       "6-dimensional TangentDynamicalSystem\n",
       " deterministic:     true\n",
       " discrete time:     false\n",
       " in-place:          false\n",
       " dynamic rule:      TM6_glial_ECM\n",
       " jacobian:          TM6_glial_ECM_jac\n",
       " deviation vectors: 6\n",
       " parameters:        [0.013, 0.15, 1.0, 1.8, 1.5, 4.6235863453815265, 0.001, 0.01, 3.07, 0.3  …  0.0, 1.0, 0.15, 25.6, 0.0, 1.0, 26.0, 0.05, 0.5, 0.9]\n",
       " time:              0.0\n",
       " state:             [9.093154846317159, 0.47441434243155256, 0.8122299370061847, 0.00015847507922404021, 0.004548511197734886, 7.443368064550399e-11]\n"
      ]
     },
     "metadata": {},
     "output_type": "display_data"
    }
   ],
   "source": [
    "tands"
   ]
  },
  {
   "cell_type": "code",
   "execution_count": 10,
   "metadata": {},
   "outputs": [
    {
     "data": {
      "text/plain": [
       "6-element Vector{Float64}:\n",
       " -0.0008632545732685082\n",
       " -0.013218160645093692\n",
       " -0.2802714009350248\n",
       " -0.4121473477179941\n",
       " -0.7071293022523626\n",
       " -3.5540092494219286"
      ]
     },
     "metadata": {},
     "output_type": "display_data"
    }
   ],
   "source": [
    "Λs, _ =  lyapunovspectrum_adapt(tands, tlse);\n",
    "Λs"
   ]
  },
  {
   "cell_type": "code",
   "execution_count": 24,
   "metadata": {},
   "outputs": [],
   "source": [
    "#plot_timesereis(trange, tr[:, 1], 1, 3000000, width = 2000, height = 300, inter=false, lw = 1.0, color = :deeppink)"
   ]
  }
 ],
 "metadata": {
  "kernelspec": {
   "display_name": "Julia 1.9.3",
   "language": "julia",
   "name": "julia-1.9"
  },
  "language_info": {
   "file_extension": ".jl",
   "mimetype": "application/julia",
   "name": "julia",
   "version": "1.9.3"
  },
  "orig_nbformat": 4
 },
 "nbformat": 4,
 "nbformat_minor": 2
}
