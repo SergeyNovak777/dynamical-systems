{
 "cells": [
  {
   "cell_type": "code",
   "execution_count": 1,
   "metadata": {},
   "outputs": [
    {
     "name": "stderr",
     "output_type": "stream",
     "text": [
      "\u001b[32m\u001b[1m  Activating\u001b[22m\u001b[39m project at `C:\\Users\\Alex\\Desktop\\dynamical-systems\\env\\integrate`\n"
     ]
    },
    {
     "data": {
      "text/plain": [
       "TM6_glial_ECM_help (generic function with 1 method)"
      ]
     },
     "metadata": {},
     "output_type": "display_data"
    }
   ],
   "source": [
    "if Sys.iswindows()\n",
    "    username = \"Alex\"\n",
    "    pathtorepo = \"C:\\\\Users\\\\\" *username *  \"\\\\Desktop\\\\\"\n",
    "    using Pkg\n",
    "    Pkg.activate(pathtorepo * \"dynamical-systems\\\\env\\\\integrate\\\\\")\n",
    "    using StaticArrays, DifferentialEquations, DynamicalSystems, BenchmarkTools\n",
    "        include(\"C:\\\\Users\\\\Alex\\\\Desktop\\\\dynamical-systems\\\\system.jl\");\n",
    "    #include(\"C:\\\\Users\\\\Alex\\\\Desktop\\\\dynamical-systems\\\\visual.jl\");\n",
    "else\n",
    "    username = \"nova\"\n",
    "    pathtorepo = \"/home/nova/work/repo_ds/dynamical-systems\"\n",
    "    using Pkg\n",
    "    Pkg.activate(pathtorepo * \"/env/integrate/\")\n",
    "    using StaticArrays, DifferentialEquations, DynamicalSystems\n",
    "    include(\"/home/nova/work/repo_ds/dynamical-systems/system.jl\")\n",
    "    #include(\"/home/nova/work/repo_ds/dynamical-systems/visual.jl\")\n",
    "end"
   ]
  },
  {
   "cell_type": "code",
   "execution_count": 2,
   "metadata": {},
   "outputs": [],
   "source": [
    "tLSE = 3000.0; tt = 0.0; tstep = 0.001;\n",
    "tol = 1e-15;\n",
    "integ_set = (alg = Vern9(), adaptive = true, abstol = tol, reltol = tol);"
   ]
  },
  {
   "cell_type": "code",
   "execution_count": 3,
   "metadata": {},
   "outputs": [
    {
     "name": "stdout",
     "output_type": "stream",
     "text": [
      "\n",
      "    τ - 1, τD - 2, τF - 3, τy - 4, α - 5, αE - 6, αecm - 7, αp - 8,\n",
      "    J - 9, U0 - 10, I0 - 11, ΔU0 - 12, β - 13, βecm  -14, βp - 15,\n",
      "    γp - 16, ecm0 - 17, ecm1 - 18, kecm - 19, θecm - 20, p0 - 21, p1 - 22, θp - 23, kp - 24, ythr - 25, xthr - 26\n"
     ]
    }
   ],
   "source": [
    "param = TM6_glial_ECM_get_params();\n",
    "dict, indexparams = TM6_glial_ECM_help(param);\n",
    "println(indexparams);"
   ]
  },
  {
   "cell_type": "code",
   "execution_count": 4,
   "metadata": {},
   "outputs": [],
   "source": [
    "u0 = [9.64476220646216, 0.4573265927731924, 0.8202126784574711, 0.0001125391840336231, 0.028243108855657985, 0.0006195369939899594]\n",
    "param[11] =  -1.741;\n",
    "param[6] = 2.757727272727273;"
   ]
  },
  {
   "cell_type": "code",
   "execution_count": 11,
   "metadata": {},
   "outputs": [
    {
     "data": {
      "text/plain": [
       "lyapunovspectrum_adapt (generic function with 1 method)"
      ]
     },
     "metadata": {},
     "output_type": "display_data"
    }
   ],
   "source": [
    "function find_zero(Λs; tol = 1e-2)\n",
    "    vec_bool = Vector{Bool}(undef, 6);\n",
    "    for (index, lp) in enumerate(Λs)\n",
    "        checknull=  isapprox(lp, 0.0; atol = tol);\n",
    "        vec_bool[index] = checknull;\n",
    "    end\n",
    "    vec_of_true = findall(x->x==true, vec_bool);\n",
    "    if length(vec_of_true) >=1\n",
    "        return 0;\n",
    "    else\n",
    "        return -1;\n",
    "    end;\n",
    "end\n",
    "\n",
    "function lyapunovspectrum_adapt(ds, time_lse; tol_ = 1e-2)\n",
    "    coeff_adapt_time = 1;\n",
    "    flag = true;\n",
    "    tands = TangentDynamicalSystem(ds; J = TM6_glial_ECM_jac);\n",
    "    Λs = lyapunovspectrum(tands, time_lse);\n",
    "    while flag == true\n",
    "        checkzero = find_zero(Λs; tol = tol_);\n",
    "        if checkzero == -1\n",
    "            coeff_adapt_time*=2;\n",
    "            Λs = lyapunovspectrum(tands, time_lse * coeff_adapt_time*10);\n",
    "        else\n",
    "            flag = false;\n",
    "        end\n",
    "    end\n",
    "    return Λs, coeff_adapt_time;\n",
    "end"
   ]
  },
  {
   "cell_type": "code",
   "execution_count": 48,
   "metadata": {},
   "outputs": [
    {
     "data": {
      "text/plain": [
       "print_index_param (generic function with 1 method)"
      ]
     },
     "metadata": {},
     "output_type": "display_data"
    }
   ],
   "source": [
    "function print_index_param(ds, name_param, index_param)\n",
    "    println(\"u0: $(current_state(ds))\");\n",
    "    println(\"$(name_param): $(current_parameters(ds)[index_param])\")\n",
    "end"
   ]
  },
  {
   "cell_type": "code",
   "execution_count": 61,
   "metadata": {},
   "outputs": [],
   "source": [
    "ds= CoupledODEs(TM6_glial_ECM, u0, param, diffeq = integ_set);\n",
    "tands = TangentDynamicalSystem(ds; J = TM6_glial_ECM_jac);\n",
    "\n",
    "systems = [deepcopy(tands) for _ in 1:Threads.nthreads()-1];\n",
    "pushfirst!(systems, tands);"
   ]
  },
  {
   "cell_type": "code",
   "execution_count": 74,
   "metadata": {},
   "outputs": [],
   "source": [
    "set_state!(ds, [1.0, 0.4, 0.7, 0.4, 0.4, 0.4]);\n",
    "set_parameter!(ds, 6, 0.2);"
   ]
  },
  {
   "cell_type": "code",
   "execution_count": 125,
   "metadata": {},
   "outputs": [
    {
     "data": {
      "text/plain": [
       "6"
      ]
     },
     "metadata": {},
     "output_type": "display_data"
    }
   ],
   "source": [
    "Threads.nthreads()"
   ]
  },
  {
   "cell_type": "code",
   "execution_count": 13,
   "metadata": {},
   "outputs": [
    {
     "data": {
      "text/plain": [
       "TM6_glial_ECM_jac_ (generic function with 1 method)"
      ]
     },
     "metadata": {},
     "output_type": "display_data"
    }
   ],
   "source": [
    "@inbounds function TM6_glial_ECM_jac_(vars, params, t)\n",
    "\n",
    "    E_sum =  params[9] + params[6] * vars[5];\n",
    "    E_mult_x_mult_u = vars[3] * vars[2] * vars[1]\n",
    "\n",
    "    exp_ = exp( ( E_sum * E_mult_x_mult_u + params[11] ) / params[5] );\n",
    "    \n",
    "    denomE = 1.0 + exp_;\n",
    "    y_minus_ythr = vars[4] - params[25];\n",
    "    E_sum_mult_exp_ = E_sum * exp_;\n",
    "    E_sum_mult_exp_mult_E = E_sum_mult_exp_ * vars[1];\n",
    "    \n",
    "\n",
    "    exp50 = exp( -50.0 * ( y_minus_ythr ) );\n",
    "    exp20 = exp( -20.0 * ( vars[2] - params[26] ) );\n",
    "    exphecm = exp( -(vars[1] - params[20]) / (params[19]) );\n",
    "    exphp = exp( -(vars[1] - params[23]) / (params[24]) );\n",
    "\n",
    "    U = params[10] + params[12] / ( 1.0 + exp( -50.0 * ( y_minus_ythr ) ) );\n",
    "    Uder = (50.0 * params[12] * exp50) / ( 1.0 + exp50 )^2;\n",
    "\n",
    "    Hyder = 20.0 * exp20 / (1.0 + exp20)^2;\n",
    "\n",
    "    Hecmder = (params[17] - params[18]) * exphecm / ( params[19] * (1.0 + exphecm)^2 );\n",
    "    Hpder = (params[21] - params[22]) * exphp / ( params[24] * (1.0 + exphp)^2 );\n",
    "\n",
    "\n",
    "    EE = ( -1.0 + ( E_sum_mult_exp_ * vars[3] * vars[2] ) / denomE ) / params[1];\n",
    "    Ex = ( ( E_sum_mult_exp_mult_E * vars[3]  ) / denomE ) / params[1];\n",
    "    Eu = ( ( E_sum_mult_exp_mult_E * vars[2]  ) / denomE ) / params[1];\n",
    "    Eecm = ( (exp_ * params[6] * E_mult_x_mult_u) / denomE ) / params[1];\n",
    "\n",
    "\n",
    "    xE = -vars[3] * vars[2];\n",
    "    xx = - 1.0 / params[2] - vars[3] * vars[1];\n",
    "    xu = -vars[2] * vars[1];\n",
    "\n",
    "\n",
    "    uE = U * (1.0 - vars[3]);\n",
    "    uu = -1.0 / params[3] - U * vars[1];\n",
    "    uy = Uder * ( 1.0 / params[3] + (1.0 - vars[3]) * vars[1] );\n",
    "\n",
    "    yx = params[13] * Hyder;\n",
    "\n",
    "    ecmE =  -params[14] * Hecmder;\n",
    "    ecmecm = -(params[7] + params[16] * vars[6]);\n",
    "    ecmp = -vars[5] * params[16];\n",
    "\n",
    "    pE = -params[15] * Hpder;\n",
    "\n",
    "    SMatrix{6,6}(EE, xE, uE, 0.0, ecmE, pE,\n",
    "        Ex, xx, 0.0, yx, 0.0, 0.0,\n",
    "        Eu, xu, uu, 0.0, 0.0, 0.0,\n",
    "        0.0, 0.0, uy, - 1.0 / params[4], 0.0, 0.0,\n",
    "        Eecm, 0.0, 0.0, 0.0, ecmecm, 0.0,\n",
    "        0.0, 0.0, 0.0, 0.0, ecmp, -params[8])\n",
    "end"
   ]
  }
 ],
 "metadata": {
  "kernelspec": {
   "display_name": "Julia 1.9.3",
   "language": "julia",
   "name": "julia-1.9"
  },
  "language_info": {
   "file_extension": ".jl",
   "mimetype": "application/julia",
   "name": "julia",
   "version": "1.9.3"
  },
  "orig_nbformat": 4
 },
 "nbformat": 4,
 "nbformat_minor": 2
}
