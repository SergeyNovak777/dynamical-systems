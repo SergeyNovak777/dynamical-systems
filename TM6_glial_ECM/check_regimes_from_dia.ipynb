{
 "cells": [
  {
   "cell_type": "code",
   "execution_count": 1,
   "metadata": {},
   "outputs": [
    {
     "data": {
      "text/plain": [
       "\"username = \\\"nova\\\"\\npathtorepo = \\\"/home/nova/work/repo_ds/dynamical-systems\\\"\\nusing Pkg\\nPkg.activate(pathtorepo * \\\"/env/integrate/\\\")\\n\\nusing StaticArrays, DifferentialEquations, DynamicalSystems, IntervalRootFinding \\nusing CairoMakie, GLMakie\\n\\ninclude(\\\"/home/nova/work/repo_ds/dynamical-systems/system.jl\\\")\\ninclude(\\\"/home/nova/work/repo_ds/dynamical-systems/visual.jl\\\")\""
      ]
     },
     "metadata": {},
     "output_type": "display_data"
    }
   ],
   "source": [
    "\"\"\"username = \"nova\"\n",
    "pathtorepo = \"/home/nova/work/repo_ds/dynamical-systems\"\n",
    "using Pkg\n",
    "Pkg.activate(pathtorepo * \"/env/integrate/\")\n",
    "\n",
    "using StaticArrays, DifferentialEquations, DynamicalSystems, IntervalRootFinding \n",
    "using CairoMakie, GLMakie\n",
    "\n",
    "include(\"/home/nova/work/repo_ds/dynamical-systems/system.jl\")\n",
    "include(\"/home/nova/work/repo_ds/dynamical-systems/visual.jl\")\"\"\""
   ]
  },
  {
   "cell_type": "code",
   "execution_count": 1,
   "metadata": {},
   "outputs": [
    {
     "name": "stderr",
     "output_type": "stream",
     "text": [
      "\u001b[32m\u001b[1m  Activating\u001b[22m\u001b[39m project at `C:\\Users\\Alex\\Desktop\\dynamical-systems\\env\\integrate`"
     ]
    },
    {
     "name": "stderr",
     "output_type": "stream",
     "text": [
      "\n"
     ]
    },
    {
     "data": {
      "text/plain": [
       "TM6_glial_ECM_help (generic function with 1 method)"
      ]
     },
     "metadata": {},
     "output_type": "display_data"
    }
   ],
   "source": [
    "username = \"Alex\"\n",
    "pathtorepo = \"C:\\\\Users\\\\\" *username *  \"\\\\Desktop\\\\\"\n",
    "using Pkg\n",
    "Pkg.activate(pathtorepo * \"dynamical-systems\\\\env\\\\integrate\\\\\")\n",
    "\n",
    "using StaticArrays, DifferentialEquations, DynamicalSystems\n",
    "\n",
    "include(\"C:\\\\Users\\\\Alex\\\\Desktop\\\\dynamical-systems\\\\system.jl\");\n",
    "#include(\"C:\\\\Users\\\\Alex\\\\Desktop\\\\dynamical-systems\\\\visual.jl\");"
   ]
  },
  {
   "cell_type": "code",
   "execution_count": 2,
   "metadata": {},
   "outputs": [],
   "source": [
    "tLSE = 3000.0; tt = 0.0; tstep = 0.001;\n",
    "tol = 1e-15;\n",
    "integ_set = (alg = Vern9(), adaptive = true, abstol = tol, reltol = tol);"
   ]
  },
  {
   "cell_type": "code",
   "execution_count": 3,
   "metadata": {},
   "outputs": [
    {
     "name": "stdout",
     "output_type": "stream",
     "text": [
      "\n",
      "    τ - 1, τD - 2, τF - 3, τy - 4, α - 5, αE - 6, αecm - 7, αp - 8,\n",
      "    J - 9, U0 - 10, I0 - 11, ΔU0 - 12, β - 13, βecm  -14, βp - 15,\n",
      "    γp - 16, ecm0 - 17, ecm1 - 18, kecm - 19, θecm - 20, p0 - 21, p1 - 22, θp - 23, kp - 24, ythr - 25, xthr - 26\n"
     ]
    }
   ],
   "source": [
    "param = TM6_glial_ECM_get_params();\n",
    "dict, indexparams = TM6_glial_ECM_help(param);\n",
    "println(indexparams);"
   ]
  },
  {
   "cell_type": "code",
   "execution_count": 13,
   "metadata": {},
   "outputs": [],
   "source": [
    "u0 = SA[0.9445509341100914, 0.74116702856987, 0.7361196042973006, 0.0646914552140727, 0.15145764079879162, 0.0009327645775731449]; \n",
    "#zeros(6); #[0.9445509341100914, 0.74116702856987, 0.7361196042973006, 0.0646914552140727, 0.15145764079879162, 0.0009327645775731449]\n",
    "param[11] =  -1.741;\n",
    "param[6] = 4; #0.067;"
   ]
  },
  {
   "cell_type": "code",
   "execution_count": 14,
   "metadata": {},
   "outputs": [],
   "source": [
    "ds= CoupledODEs(TM6_glial_ECM, u0, param, diffeq = integ_set);"
   ]
  },
  {
   "cell_type": "code",
   "execution_count": 15,
   "metadata": {},
   "outputs": [
    {
     "data": {
      "text/plain": [
       "find_zero (generic function with 1 method)"
      ]
     },
     "metadata": {},
     "output_type": "display_data"
    }
   ],
   "source": [
    "function lyapunovspectrum_adapt(ds, time_lse)\n",
    "    coeff_adapt_time = 1;\n",
    "    flag = true;\n",
    "    tands = TangentDynamicalSystem(ds; J = TM6_glial_ECM_jac);\n",
    "    Λs = lyapunovspectrum(tands, time_lse);\n",
    "    while flag == true\n",
    "        checkzero = find_zero(Λs);\n",
    "        if checkzero == -1\n",
    "            coeff_adapt_time*=2;\n",
    "            Λs = lyapunovspectrum(tands, time_lse * coeff_adapt_time);\n",
    "        else\n",
    "            flag = false;\n",
    "        end\n",
    "    end\n",
    "    return Λs, coeff_adapt_time;\n",
    "end\n",
    "\n",
    "function find_zero(Λs; tol = 1e-3)\n",
    "    vec_bool = Vector{Bool}(undef, 6);\n",
    "    for (index, lp) in enumerate(Λs)\n",
    "        checknull=  isapprox(lp, 0.0; atol = tol);\n",
    "        vec_bool[index] = checknull;\n",
    "    end\n",
    "    vec_of_true = findall(x->x==true, vec_bool);\n",
    "    if length(vec_of_true) >=1\n",
    "        return 0;\n",
    "    else\n",
    "        return -1;\n",
    "    end;\n",
    "end"
   ]
  },
  {
   "cell_type": "code",
   "execution_count": 16,
   "metadata": {},
   "outputs": [
    {
     "data": {
      "text/plain": [
       "([-0.0005822638980722053, -0.01148801516405035, -0.27320510759655137, -0.3939160863979931, -0.7002932560249261, -3.562668692321662], 128)"
      ]
     },
     "metadata": {},
     "output_type": "display_data"
    }
   ],
   "source": [
    "lse, coeff = lyapunovspectrum_adapt(ds, 1000)"
   ]
  }
 ],
 "metadata": {
  "kernelspec": {
   "display_name": "Julia 1.9.3",
   "language": "julia",
   "name": "julia-1.9"
  },
  "language_info": {
   "file_extension": ".jl",
   "mimetype": "application/julia",
   "name": "julia",
   "version": "1.9.3"
  },
  "orig_nbformat": 4
 },
 "nbformat": 4,
 "nbformat_minor": 2
}
