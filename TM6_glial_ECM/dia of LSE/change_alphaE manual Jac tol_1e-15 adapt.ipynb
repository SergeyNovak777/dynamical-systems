{
 "cells": [
  {
   "cell_type": "code",
   "execution_count": 1,
   "id": "9791b4a8",
   "metadata": {},
   "outputs": [
    {
     "name": "stderr",
     "output_type": "stream",
     "text": [
      "\u001b[32m\u001b[1m  Activating\u001b[22m\u001b[39m project at `C:\\Users\\Alex\\Desktop\\dynamical-systems\\env\\integrate`"
     ]
    },
    {
     "name": "stderr",
     "output_type": "stream",
     "text": [
      "\n"
     ]
    }
   ],
   "source": [
    "username = \"Alex\"\n",
    "pathtorepo = \"C:\\\\Users\\\\\" *username *  \"\\\\Desktop\\\\\"\n",
    "using Pkg\n",
    "Pkg.activate(pathtorepo * \"dynamical-systems\\\\env\\\\integrate\\\\\")\n",
    "\n",
    "using StaticArrays, DifferentialEquations, DynamicalSystems, JLD2 \n",
    "using CairoMakie\n",
    "include(\"C:\\\\Users\\\\Alex\\\\Desktop\\\\dynamical-systems\\\\system.jl\");"
   ]
  },
  {
   "cell_type": "code",
   "execution_count": 2,
   "id": "ff48de0a",
   "metadata": {},
   "outputs": [
    {
     "data": {
      "text/plain": [
       "separate (generic function with 1 method)"
      ]
     },
     "metadata": {},
     "output_type": "display_data"
    }
   ],
   "source": [
    "function output(idx, parameter, u0)\n",
    "    println(\"index: $idx; αE: $parameter\");flush(stdout)\n",
    "    println(\"u0: $u0\");flush(stdout)\n",
    "end\n",
    "function output(Λ, u0)\n",
    "    println(\"Λ: $Λ\");flush(stdout)\n",
    "    println(\"last point: $u0\");flush(stdout)\n",
    "end\n",
    "function separate()\n",
    "    println(\"----------------\");flush(stdout)\n",
    "    println(\"  \");flush(stdout)\n",
    "end"
   ]
  },
  {
   "cell_type": "code",
   "execution_count": 3,
   "id": "5f04f264",
   "metadata": {},
   "outputs": [],
   "source": [
    "u0_start = SA[0.9445509341100914, 0.74116702856987, 0.7361196042973006, 0.0646914552140727, 0.15145764079879162, 0.0009327645775731449];"
   ]
  },
  {
   "cell_type": "code",
   "execution_count": 4,
   "id": "c91c3ec8",
   "metadata": {},
   "outputs": [
    {
     "name": "stdout",
     "output_type": "stream",
     "text": [
      "\n",
      "    τ - 1, τD - 2, τF - 3, τy - 4, α - 5, αE - 6, αecm - 7, αp - 8,\n",
      "    J - 9, U0 - 10, I0 - 11, ΔU0 - 12, β - 13, βecm  -14, βp - 15,\n",
      "    γp - 16, ecm0 - 17, ecm1 - 18, kecm - 19, θecm - 20, p0 - 21, p1 - 22, θp - 23, kp - 24, ythr - 25, xthr - 26\n"
     ]
    }
   ],
   "source": [
    "tstep = 0.001;\n",
    "time_transient = 3000; # transient time\n",
    "time_lse = 1000; # time calculating LSE\n",
    "integ_set = (alg = Vern9(), adaptive = true, abstol = 1e-15, reltol = 1e-15); # integrator setting\n",
    "param = TM6_glial_ECM_get_params(); # parameters of model\n",
    "dict, indexparams = TM6_glial_ECM_help(param);\n",
    "println(indexparams);"
   ]
  },
  {
   "cell_type": "code",
   "execution_count": 21,
   "id": "53a05354",
   "metadata": {},
   "outputs": [],
   "source": [
    "len = 250;\n",
    "αE_range = range(0.067, 5.0, length = len);"
   ]
  },
  {
   "cell_type": "code",
   "execution_count": 22,
   "id": "3cc5d001",
   "metadata": {},
   "outputs": [
    {
     "data": {
      "text/plain": [
       "0.01981124497991793"
      ]
     },
     "metadata": {},
     "output_type": "display_data"
    }
   ],
   "source": [
    "αE_range.step.hi"
   ]
  },
  {
   "cell_type": "code",
   "execution_count": 23,
   "id": "c67f4110",
   "metadata": {},
   "outputs": [],
   "source": [
    "Λs =  zeros(length(αE_range), 6);\n",
    "u0s = zeros(length(αE_range), 6);"
   ]
  },
  {
   "cell_type": "code",
   "execution_count": 24,
   "id": "68f64425",
   "metadata": {},
   "outputs": [],
   "source": [
    "namefirst = \"diagram \";\n",
    "namelast = \" alphaE $(len) manualjac 1e-15 adapt\"\n",
    "format = \".jld2\";\n",
    "\n",
    "namefile_LSE = namefirst * \"LSE\" * namelast * format;\n",
    "namefile_u0s = namefirst * \"u0\" * namelast * format;"
   ]
  },
  {
   "cell_type": "code",
   "execution_count": 25,
   "id": "d8d71f6e",
   "metadata": {},
   "outputs": [
    {
     "name": "stdout",
     "output_type": "stream",
     "text": [
      "diagram LSE alphaE 250 manualjac 1e-15 adapt.jld2\n",
      "diagram u0 alphaE 250 manualjac 1e-15 adapt.jld2\n"
     ]
    }
   ],
   "source": [
    "println(namefile_LSE);\n",
    "println(namefile_u0s);"
   ]
  },
  {
   "cell_type": "code",
   "execution_count": 26,
   "id": "468f7529",
   "metadata": {},
   "outputs": [
    {
     "data": {
      "text/plain": [
       "find_zero (generic function with 1 method)"
      ]
     },
     "metadata": {},
     "output_type": "display_data"
    }
   ],
   "source": [
    "function lyapunovspectrum_adapt(ds, time_lse; coeff = 10)\n",
    "    coeff_adapt_time = 1;\n",
    "    flag = true;\n",
    "    tands = TangentDynamicalSystem(ds; J = TM6_glial_ECM_jac);\n",
    "    Λs = lyapunovspectrum(tands, time_lse);\n",
    "    while flag == true\n",
    "        checkzero = find_zero(Λs);\n",
    "        if checkzero == -1\n",
    "            coeff_adapt_time*=2;\n",
    "            Λs = lyapunovspectrum(tands, time_lse * coeff_adapt_time * coeff);\n",
    "        else\n",
    "            flag = false;\n",
    "        end\n",
    "    end\n",
    "    return Λs, coeff_adapt_time;\n",
    "end\n",
    "\n",
    "function find_zero(Λs; tol = 1e-2)\n",
    "    vec_bool = Vector{Bool}(undef, 6);\n",
    "    for (index, lp) in enumerate(Λs)\n",
    "        checknull=  isapprox(lp, 0.0; atol = tol);\n",
    "        vec_bool[index] = checknull;\n",
    "    end\n",
    "    vec_of_true = findall(x->x==true, vec_bool);\n",
    "    if length(vec_of_true) >=1\n",
    "        return 0;\n",
    "    else\n",
    "        return -1;\n",
    "    end;\n",
    "end"
   ]
  },
  {
   "cell_type": "code",
   "execution_count": 27,
   "id": "1ba9526c",
   "metadata": {
    "scrolled": true
   },
   "outputs": [],
   "source": [
    "for (index, αE) in enumerate(αE_range)\n",
    "\n",
    "    if index == 1\n",
    "        global u0 = u0_start\n",
    "    end\n",
    "\n",
    "    #output(index, αE, u0)\n",
    "\n",
    "    param[6] = αE\n",
    "    ds = CoupledODEs(TM6_glial_ECM,  u0, param, diffeq = integ_set)\n",
    "\n",
    "    tr, _ = trajectory(ds, time_transient)\n",
    "    u0 = tr[end]; ds = CoupledODEs(TM6_glial_ECM,  u0, param, diffeq = integ_set)\n",
    "    #println(\"calc LSE\");flush(stdout)\n",
    "    \n",
    "\n",
    "    Λ, _ = lyapunovspectrum_adapt(ds, time_lse)\n",
    "    #lyapunovspectrum(tands, time_lse);\n",
    "\n",
    "    Λs[index, :] = Λ\n",
    "    u0s[index, :] = u0\n",
    "    \n",
    "    jldsave(namefile_LSE; Λs);\n",
    "    jldsave(namefile_u0s; u0s);\n",
    "    \n",
    "    #output(Λs[index, :], u0s[index, :])\n",
    "    #separate()\n",
    "    \n",
    "end"
   ]
  },
  {
   "cell_type": "code",
   "execution_count": 38,
   "id": "ed132808",
   "metadata": {},
   "outputs": [
    {
     "data": {
      "image/png": "[encoded data removed]"
     },
     "metadata": {},
     "output_type": "display_data"
    }
   ],
   "source": [
    "lb_size = 30; tck_size = 25;\n",
    "\n",
    "f = Figure(resolution = (1200, 300))\n",
    "axis = Axis(f[1, 1], xlabel = L\"αE\", ylabel = L\"\\Lambda s\",\n",
    "            xlabelsize = lb_size, ylabelsize = lb_size,\n",
    "            xticklabelsize = tck_size, yticklabelsize = tck_size,\n",
    "            xgridvisible = false, ygridvisible = false)\n",
    "lines!(axis, αE_range, Λs[:, 1], linewidth = 2.5, color = :red)\n",
    "hlines!(axis, 0.0, color = :black, linestyile = :dash)\n",
    "\n",
    "f"
   ]
  }
 ],
 "metadata": {
  "kernelspec": {
   "display_name": "Julia 1.9.3",
   "language": "julia",
   "name": "julia-1.9"
  },
  "language_info": {
   "file_extension": ".jl",
   "mimetype": "application/julia",
   "name": "julia",
   "version": "1.9.3"
  }
 },
 "nbformat": 4,
 "nbformat_minor": 5
}
