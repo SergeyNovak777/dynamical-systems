{
 "cells": [
  {
   "cell_type": "code",
   "execution_count": 1,
   "id": "9791b4a8",
   "metadata": {},
   "outputs": [
    {
     "name": "stderr",
     "output_type": "stream",
     "text": [
      "\u001b[32m\u001b[1m  Activating\u001b[22m\u001b[39m project at `C:\\Users\\Alex\\Desktop\\dynamical-systems\\env\\integrate`\n"
     ]
    }
   ],
   "source": [
    "username = \"Alex\"\n",
    "pathtorepo = \"C:\\\\Users\\\\\" *username *  \"\\\\Desktop\\\\\"\n",
    "using Pkg\n",
    "Pkg.activate(pathtorepo * \"dynamical-systems\\\\env\\\\integrate\\\\\")\n",
    "\n",
    "using StaticArrays, DifferentialEquations, DynamicalSystems, JLD2 \n",
    "using CairoMakie\n",
    "include(\"C:\\\\Users\\\\Alex\\\\Desktop\\\\dynamical-systems\\\\system.jl\");"
   ]
  },
  {
   "cell_type": "code",
   "execution_count": 2,
   "id": "ff48de0a",
   "metadata": {},
   "outputs": [
    {
     "data": {
      "text/plain": [
       "separate (generic function with 1 method)"
      ]
     },
     "metadata": {},
     "output_type": "display_data"
    }
   ],
   "source": [
    "function output(idx, parameter, u0)\n",
    "    println(\"index: $idx; αE: $parameter\");flush(stdout)\n",
    "    println(\"u0: $u0\");flush(stdout)\n",
    "end\n",
    "function output(Λ, u0)\n",
    "    println(\"Λ: $Λ\");flush(stdout)\n",
    "    println(\"last point: $u0\");flush(stdout)\n",
    "end\n",
    "function separate()\n",
    "    println(\"----------------\");flush(stdout)\n",
    "    println(\"  \");flush(stdout)\n",
    "end"
   ]
  },
  {
   "cell_type": "code",
   "execution_count": 3,
   "id": "5f04f264",
   "metadata": {},
   "outputs": [],
   "source": [
    "u0_start = SA[0.9445509341100914, 0.74116702856987, 0.7361196042973006, 0.0646914552140727, 0.15145764079879162, 0.0009327645775731449];"
   ]
  },
  {
   "cell_type": "code",
   "execution_count": 4,
   "id": "c91c3ec8",
   "metadata": {},
   "outputs": [
    {
     "name": "stdout",
     "output_type": "stream",
     "text": [
      "\n",
      "    τ - 1, τD - 2, τF - 3, τy - 4, α - 5, αE - 6, αecm - 7, αp - 8,\n",
      "    J - 9, U0 - 10, I0 - 11, ΔU0 - 12, β - 13, βecm  -14, βp - 15,\n",
      "    γp - 16, ecm0 - 17, ecm1 - 18, kecm - 19, θecm - 20, p0 - 21, p1 - 22, θp - 23, kp - 24, ythr - 25, xthr - 26\n"
     ]
    }
   ],
   "source": [
    "tstep = 0.001;\n",
    "time_transient = 3000; # transient time\n",
    "time_lse = 1000; # time calculating LSE\n",
    "integ_set = (alg = Vern9(), adaptive = true, abstol = 1e-15, reltol = 1e-15); # integrator setting\n",
    "param = TM6_glial_ECM_get_params(); # parameters of model\n",
    "dict, indexparams = TM6_glial_ECM_help(param);\n",
    "println(indexparams);"
   ]
  },
  {
   "cell_type": "code",
   "execution_count": 5,
   "id": "53a05354",
   "metadata": {},
   "outputs": [],
   "source": [
    "len = 250;\n",
    "αE_range = range(0.067, 5.0, length = len);"
   ]
  },
  {
   "cell_type": "code",
   "execution_count": 6,
   "id": "3cc5d001",
   "metadata": {},
   "outputs": [
    {
     "data": {
      "text/plain": [
       "0.01981124497991793"
      ]
     },
     "metadata": {},
     "output_type": "display_data"
    }
   ],
   "source": [
    "αE_range.step.hi"
   ]
  },
  {
   "cell_type": "code",
   "execution_count": 7,
   "id": "c67f4110",
   "metadata": {},
   "outputs": [],
   "source": [
    "Λs =  zeros(length(αE_range), 6);\n",
    "u0s = zeros(length(αE_range), 6);"
   ]
  },
  {
   "cell_type": "code",
   "execution_count": 8,
   "id": "68f64425",
   "metadata": {},
   "outputs": [],
   "source": [
    "namefirst = \"diagram \";\n",
    "namelast = \" alphaE $(len) manualjac 1e-15\"\n",
    "format = \".jld2\";\n",
    "\n",
    "namefile_LSE = namefirst * \"LSE\" * namelast * format;\n",
    "namefile_u0s = namefirst * \"u0\" * namelast * format;"
   ]
  },
  {
   "cell_type": "code",
   "execution_count": 9,
   "id": "d8d71f6e",
   "metadata": {},
   "outputs": [
    {
     "name": "stdout",
     "output_type": "stream",
     "text": [
      "diagram LSE alphaE 250 manualjac 1e-15.jld2\n",
      "diagram u0 alphaE 250 manualjac 1e-15.jld2\n"
     ]
    }
   ],
   "source": [
    "println(namefile_LSE);\n",
    "println(namefile_u0s);"
   ]
  },
  {
   "cell_type": "code",
   "execution_count": 10,
   "id": "1ba9526c",
   "metadata": {
    "scrolled": true
   },
   "outputs": [
    {
     "name": "stdout",
     "output_type": "stream",
     "text": [
      "index: 1; αE: 0.067\n"
     ]
    },
    {
     "name": "stdout",
     "output_type": "stream",
     "text": [
      "u0: [0.9445509341100914, 0.74116702856987, 0.7361196042973006, 0.0646914552140727, 0.15145764079879162, 0.0009327645775731449]\n"
     ]
    },
    {
     "name": "stdout",
     "output_type": "stream",
     "text": [
      "calc LSE\n"
     ]
    },
    {
     "name": "stdout",
     "output_type": "stream",
     "text": [
      "Λ: [0.0005134244415485, -0.00832555633756985, -0.015608097343372035, -0.5555585676247101, -0.8413613080781098, -8.217612371494612]\n"
     ]
    },
    {
     "name": "stdout",
     "output_type": "stream",
     "text": [
      "last point: [1.0365779842313367, 0.7836028909357463, 0.7217160686779132, 0.06434851657208966, 0.1514646966266747, 0.000933815237650848]\n"
     ]
    },
    {
     "name": "stdout",
     "output_type": "stream",
     "text": [
      "----------------\n"
     ]
    },
    {
     "name": "stdout",
     "output_type": "stream",
     "text": [
      "  \n"
     ]
    },
    {
     "name": "stdout",
     "output_type": "stream",
     "text": [
      "index: 2; αE: 0.08681124497991968\n"
     ]
    },
    {
     "name": "stdout",
     "output_type": "stream",
     "text": [
      "u0: [1.0365779842313367, 0.7836028909357463, 0.7217160686779132, 0.06434851657208966, 0.1514646966266747, 0.000933815237650848]\n"
     ]
    },
    {
     "name": "stdout",
     "output_type": "stream",
     "text": [
      "calc LSE\n"
     ]
    },
    {
     "name": "stdout",
     "output_type": "stream",
     "text": [
      "Λ: [-0.0036102969299862484, -0.008889008834419286, -0.014579155032150647, -0.5555600640239103, -0.8810349002221833, -8.2265891905349]\n"
     ]
    },
    {
     "name": "stdout",
     "output_type": "stream",
     "text": [
      "last point: [4.586097957621819, 0.438693256647819, 0.792232103133223, 0.06875171805909533, 0.12853438449439653, 0.005782711347662188]\n"
     ]
    },
    {
     "name": "stdout",
     "output_type": "stream",
     "text": [
      "----------------\n"
     ]
    },
    {
     "name": "stdout",
     "output_type": "stream",
     "text": [
      "  \n"
     ]
    },
    {
     "name": "stdout",
     "output_type": "stream",
     "text": [
      "index: 3; αE: 0.10662248995983936\n"
     ]
    },
    {
     "name": "stdout",
     "output_type": "stream",
     "text": [
      "u0: [4.586097957621819, 0.438693256647819, 0.792232103133223, 0.06875171805909533, 0.12853438449439653, 0.005782711347662188]\n"
     ]
    },
    {
     "name": "stdout",
     "output_type": "stream",
     "text": [
      "calc LSE\n"
     ]
    },
    {
     "name": "stdout",
     "output_type": "stream",
     "text": [
      "Λ: [-5.949698862652964e-5, -0.007873183095457582, -0.014597254495877066, -0.5555614247161751, -0.9053747102743316, -8.232744988694286]\n"
     ]
    },
    {
     "name": "stdout",
     "output_type": "stream",
     "text": [
      "last point: [1.5753874546601478, 0.8413434061927672, 0.6866736507642869, 0.06747228322532157, 0.11078545990867335, 0.010163888068714877]\n"
     ]
    },
    {
     "name": "stdout",
     "output_type": "stream",
     "text": [
      "----------------\n"
     ]
    },
    {
     "name": "stdout",
     "output_type": "stream",
     "text": [
      "  \n"
     ]
    },
    {
     "name": "stdout",
     "output_type": "stream",
     "text": [
      "index: 4; αE: 0.12643373493975904\n"
     ]
    },
    {
     "name": "stdout",
     "output_type": "stream",
     "text": [
      "u0: [1.5753874546601478, 0.8413434061927672, 0.6866736507642869, 0.06747228322532157, 0.11078545990867335, 0.010163888068714877]\n"
     ]
    },
    {
     "name": "stdout",
     "output_type": "stream",
     "text": [
      "calc LSE\n"
     ]
    },
    {
     "name": "stdout",
     "output_type": "stream",
     "text": [
      "Λ: [0.0033392967904220415, -0.008335661752789672, -0.016905715909843234, -0.5555640388674524, -0.9354531372576643, -8.235070378412255]\n"
     ]
    },
    {
     "name": "stdout",
     "output_type": "stream",
     "text": [
      "last point: [1.2598128671432867, 0.8230365271728355, 0.7032970683095595, 0.06320938787221461, 0.10048003293370611, 0.014709476474375259]\n"
     ]
    },
    {
     "name": "stdout",
     "output_type": "stream",
     "text": [
      "----------------\n"
     ]
    },
    {
     "name": "stdout",
     "output_type": "stream",
     "text": [
      "  \n"
     ]
    },
    {
     "name": "stdout",
     "output_type": "stream",
     "text": [
      "index: 5; αE: 0.14624497991967872\n"
     ]
    },
    {
     "name": "stdout",
     "output_type": "stream",
     "text": [
      "u0: [1.2598128671432867, 0.8230365271728355, 0.7032970683095595, 0.06320938787221461, 0.10048003293370611, 0.014709476474375259]\n"
     ]
    },
    {
     "name": "stdout",
     "output_type": "stream",
     "text": [
      "calc LSE\n"
     ]
    },
    {
     "name": "stdout",
     "output_type": "stream",
     "text": [
      "Λ: [-0.0015553376570210272, -0.00930588762058892, -0.014719460856592982, -0.5555649254636145, -0.9779363209958589, -8.237851734060882]\n"
     ]
    },
    {
     "name": "stdout",
     "output_type": "stream",
     "text": [
      "last point: [3.3688821594664518, 0.8260478457429274, 0.6731222192919825, 0.07079968124554847, 0.09532260805647351, 0.019115729436649225]\n"
     ]
    },
    {
     "name": "stdout",
     "output_type": "stream",
     "text": [
      "----------------\n"
     ]
    },
    {
     "name": "stdout",
     "output_type": "stream",
     "text": [
      "  \n"
     ]
    },
    {
     "name": "stdout",
     "output_type": "stream",
     "text": [
      "index: 6; αE: 0.1660562248995984\n"
     ]
    },
    {
     "name": "stdout",
     "output_type": "stream",
     "text": [
      "u0: [3.3688821594664518, 0.8260478457429274, 0.6731222192919825, 0.07079968124554847, 0.09532260805647351, 0.019115729436649225]\n"
     ]
    },
    {
     "name": "stdout",
     "output_type": "stream",
     "text": [
      "calc LSE\n"
     ]
    },
    {
     "name": "stdout",
     "output_type": "stream",
     "text": [
      "Λ: [0.001193655611322069, -0.010238311222725685, -0.01512056724412474, -0.5555679971280887, -1.023471335536612, -8.239036779852727]\n"
     ]
    },
    {
     "name": "stdout",
     "output_type": "stream",
     "text": [
      "last point: [1.5253099912010692, 0.837436857620805, 0.6916025979038984, 0.06333537626648572, 0.0929679534539915, 0.023131851565052354]\n"
     ]
    },
    {
     "name": "stdout",
     "output_type": "stream",
     "text": [
      "----------------\n"
     ]
    },
    {
     "name": "stdout",
     "output_type": "stream",
     "text": [
      "  \n"
     ]
    },
    {
     "name": "stdout",
     "output_type": "stream",
     "text": [
      "index: 7; αE: 0.18586746987951808\n"
     ]
    },
    {
     "name": "stdout",
     "output_type": "stream",
     "text": [
      "u0: [1.5253099912010692, 0.837436857620805, 0.6916025979038984, 0.06333537626648572, 0.0929679534539915, 0.023131851565052354]\n"
     ]
    },
    {
     "name": "stdout",
     "output_type": "stream",
     "text": [
      "calc LSE\n"
     ]
    },
    {
     "name": "stdout",
     "output_type": "stream",
     "text": [
      "Λ: [0.0003859265041424573, -0.010715431503533532, -0.015639231633865668, -0.5555666535212613, -1.0696198056465824, -8.235976489473149]\n"
     ]
    },
    {
     "name": "stdout",
     "output_type": "stream",
     "text": [
      "last point: [1.113223073390032, 0.7974428213139247, 0.7181012228507309, 0.05822379244946797, 0.09182073980454872, 0.026656768820539304]\n"
     ]
    },
    {
     "name": "stdout",
     "output_type": "stream",
     "text": [
      "----------------\n"
     ]
    },
    {
     "name": "stdout",
     "output_type": "stream",
     "text": [
      "  \n"
     ]
    },
    {
     "name": "stdout",
     "output_type": "stream",
     "text": [
      "index: 8; αE: 0.20567871485943776\n"
     ]
    },
    {
     "name": "stdout",
     "output_type": "stream",
     "text": [
      "u0: [1.113223073390032, 0.7974428213139247, 0.7181012228507309, 0.05822379244946797, 0.09182073980454872, 0.026656768820539304]\n"
     ]
    },
    {
     "name": "stdout",
     "output_type": "stream",
     "text": [
      "calc LSE\n"
     ]
    },
    {
     "name": "stdout",
     "output_type": "stream",
     "text": [
      "Λ: [-0.004592645255154984, -0.00997456310783769, -0.01624764994905045, -0.5555675761389665, -1.1151731504226223, -8.230096533462902]\n"
     ]
    },
    {
     "name": "stdout",
     "output_type": "stream",
     "text": [
      "last point: [24.31776385150914, 0.5567281064945216, 0.723715049476146, 0.06561849468973692, 0.0911140316230248, 0.029664890773069778]\n"
     ]
    },
    {
     "name": "stdout",
     "output_type": "stream",
     "text": [
      "----------------\n"
     ]
    },
    {
     "name": "stdout",
     "output_type": "stream",
     "text": [
      "  \n"
     ]
    },
    {
     "name": "stdout",
     "output_type": "stream",
     "text": [
      "index: 9; αE: 0.22548995983935743\n"
     ]
    },
    {
     "name": "stdout",
     "output_type": "stream",
     "text": [
      "u0: [24.31776385150914, 0.5567281064945216, 0.723715049476146, 0.06561849468973692, 0.0911140316230248, 0.029664890773069778]\n"
     ]
    },
    {
     "name": "stdout",
     "output_type": "stream",
     "text": [
      "calc LSE\n"
     ]
    },
    {
     "name": "stdout",
     "output_type": "stream",
     "text": [
      "Λ: [-0.0020430413077649296, -0.010922247548017214, -0.015524731002457081, -0.5555680116326823, -1.1570610068175031, -8.22439982278792]\n"
     ]
    },
    {
     "name": "stdout",
     "output_type": "stream",
     "text": [
      "last point: [3.5285981234844086, 0.8222131754708358, 0.6784906634325705, 0.0646059894885598, 0.09080883470402061, 0.03243047237482359]\n"
     ]
    },
    {
     "name": "stdout",
     "output_type": "stream",
     "text": [
      "----------------\n"
     ]
    },
    {
     "name": "stdout",
     "output_type": "stream",
     "text": [
      "  \n"
     ]
    },
    {
     "name": "stdout",
     "output_type": "stream",
     "text": [
      "index: 10; αE: 0.2453012048192771\n"
     ]
    },
    {
     "name": "stdout",
     "output_type": "stream",
     "text": [
      "u0: [3.5285981234844086, 0.8222131754708358, 0.6784906634325705, 0.0646059894885598, 0.09080883470402061, 0.03243047237482359]\n"
     ]
    },
    {
     "name": "stdout",
     "output_type": "stream",
     "text": [
      "calc LSE\n"
     ]
    },
    {
     "name": "stdout",
     "output_type": "stream",
     "text": [
      "Λ: [-0.0005034895805386117, -0.011086027811297392, -0.015797394805859146, -0.5555701010191669, -1.197844914917126, -8.212765632324352]\n"
     ]
    },
    {
     "name": "stdout",
     "output_type": "stream",
     "text": [
      "last point: [2.6387548209675673, 0.8316700949145753, 0.6813987656893444, 0.062282482435333145, 0.09064311535837966, 0.03491373929829659]\n"
     ]
    },
    {
     "name": "stdout",
     "output_type": "stream",
     "text": [
      "----------------\n"
     ]
    },
    {
     "name": "stdout",
     "output_type": "stream",
     "text": [
      "  \n"
     ]
    },
    {
     "name": "stdout",
     "output_type": "stream",
     "text": [
      "index: 11; αE: 0.2651124497991968\n"
     ]
    },
    {
     "name": "stdout",
     "output_type": "stream",
     "text": [
      "u0: [2.6387548209675673, 0.8316700949145753, 0.6813987656893444, 0.062282482435333145, 0.09064311535837966, 0.03491373929829659]\n"
     ]
    },
    {
     "name": "stdout",
     "output_type": "stream",
     "text": [
      "calc LSE\n"
     ]
    },
    {
     "name": "stdout",
     "output_type": "stream",
     "text": [
      "Λ: [-0.0011340722743660562, -0.011811156303176933, -0.01616793558520294, -0.5555691014582215, -1.236374314492826, -8.198210134846219]\n"
     ]
    },
    {
     "name": "stdout",
     "output_type": "stream",
     "text": [
      "last point: [1.0360430189072338, 0.7721959522875318, 0.7301787983161527, 0.05308564029569771, 0.09063945349718519, 0.03724170358869166]\n"
     ]
    },
    {
     "name": "stdout",
     "output_type": "stream",
     "text": [
      "----------------\n"
     ]
    },
    {
     "name": "stdout",
     "output_type": "stream",
     "text": [
      "  \n"
     ]
    },
    {
     "name": "stdout",
     "output_type": "stream",
     "text": [
      "index: 12; αE: 0.28492369477911644\n"
     ]
    },
    {
     "name": "stdout",
     "output_type": "stream",
     "text": [
      "u0: [1.0360430189072338, 0.7721959522875318, 0.7301787983161527, 0.05308564029569771, 0.09063945349718519, 0.03724170358869166]\n"
     ]
    },
    {
     "name": "stdout",
     "output_type": "stream",
     "text": [
      "calc LSE\n"
     ]
    },
    {
     "name": "stdout",
     "output_type": "stream",
     "text": [
      "Λ: [0.0014829365895852279, -0.01190731117302142, -0.016213991958845337, -0.5555717916029829, -1.2729900281859219, -8.18558855155132]\n"
     ]
    },
    {
     "name": "stdout",
     "output_type": "stream",
     "text": [
      "last point: [1.2172047389311442, 0.8087228416079899, 0.7144719405765566, 0.05281395463338018, 0.09059587056895801, 0.03930892435803811]\n"
     ]
    },
    {
     "name": "stdout",
     "output_type": "stream",
     "text": [
      "----------------\n"
     ]
    },
    {
     "name": "stdout",
     "output_type": "stream",
     "text": [
      "  \n"
     ]
    },
    {
     "name": "stdout",
     "output_type": "stream",
     "text": [
      "index: 13; αE: 0.30473493975903615\n"
     ]
    },
    {
     "name": "stdout",
     "output_type": "stream",
     "text": [
      "u0: [1.2172047389311442, 0.8087228416079899, 0.7144719405765566, 0.05281395463338018, 0.09059587056895801, 0.03930892435803811]\n"
     ]
    },
    {
     "name": "stdout",
     "output_type": "stream",
     "text": [
      "calc LSE\n"
     ]
    },
    {
     "name": "stdout",
     "output_type": "stream",
     "text": [
      "Λ: [0.002108766266853845, -0.011899784829996209, -0.01575169795917508, -0.5555721650009453, -1.3075161084452571, -8.171908374393574]\n"
     ]
    },
    {
     "name": "stdout",
     "output_type": "stream",
     "text": [
      "last point: [3.3576057065025195, 0.8219643518667861, 0.6835596323510893, 0.05902657043225373, 0.09054512664819188, 0.04118956669538207]\n"
     ]
    },
    {
     "name": "stdout",
     "output_type": "stream",
     "text": [
      "----------------\n"
     ]
    },
    {
     "name": "stdout",
     "output_type": "stream",
     "text": [
      "  \n"
     ]
    },
    {
     "name": "stdout",
     "output_type": "stream",
     "text": [
      "index: 14; αE: 0.3245461847389558\n"
     ]
    },
    {
     "name": "stdout",
     "output_type": "stream",
     "text": [
      "u0: [3.3576057065025195, 0.8219643518667861, 0.6835596323510893, 0.05902657043225373, 0.09054512664819188, 0.04118956669538207]\n"
     ]
    },
    {
     "name": "stdout",
     "output_type": "stream",
     "text": [
      "calc LSE\n"
     ]
    },
    {
     "name": "stdout",
     "output_type": "stream",
     "text": [
      "Λ: [-0.0005749447550835508, -0.014027127672536381, -0.016310472772697395, -0.5555748937660419, -1.3411414309272474, -8.151521827571448]\n"
     ]
    },
    {
     "name": "stdout",
     "output_type": "stream",
     "text": [
      "last point: [13.726983175278775, 0.34482641305804507, 0.8008244947935645, 0.05559512716653214, 0.0907833791375741, 0.043181988819360216]\n"
     ]
    },
    {
     "name": "stdout",
     "output_type": "stream",
     "text": [
      "----------------\n"
     ]
    },
    {
     "name": "stdout",
     "output_type": "stream",
     "text": [
      "  \n"
     ]
    },
    {
     "name": "stdout",
     "output_type": "stream",
     "text": [
      "index: 15; αE: 0.3443574297188755\n"
     ]
    },
    {
     "name": "stdout",
     "output_type": "stream",
     "text": [
      "u0: [13.726983175278775, 0.34482641305804507, 0.8008244947935645, 0.05559512716653214, 0.0907833791375741, 0.043181988819360216]\n"
     ]
    },
    {
     "name": "stdout",
     "output_type": "stream",
     "text": [
      "calc LSE\n"
     ]
    },
    {
     "name": "stdout",
     "output_type": "stream",
     "text": [
      "Λ: [0.000556989144641385, -0.013817334434228395, -0.015445268974550262, -0.5555757141795415, -1.3733714539937683, -8.133606583539981]\n"
     ]
    },
    {
     "name": "stdout",
     "output_type": "stream",
     "text": [
      "last point: [1.745722573270044, 0.5393455092544351, 0.7860727383026964, 0.051578273651376655, 0.09078823420470662, 0.044845484275509724]\n"
     ]
    },
    {
     "name": "stdout",
     "output_type": "stream",
     "text": [
      "----------------\n"
     ]
    },
    {
     "name": "stdout",
     "output_type": "stream",
     "text": [
      "  \n"
     ]
    },
    {
     "name": "stdout",
     "output_type": "stream",
     "text": [
      "index: 16; αE: 0.36416867469879516\n"
     ]
    },
    {
     "name": "stdout",
     "output_type": "stream",
     "text": [
      "u0: [1.745722573270044, 0.5393455092544351, 0.7860727383026964, 0.051578273651376655, 0.09078823420470662, 0.044845484275509724]\n"
     ]
    },
    {
     "name": "stdout",
     "output_type": "stream",
     "text": [
      "calc LSE\n"
     ]
    },
    {
     "name": "stdout",
     "output_type": "stream",
     "text": [
      "Λ: [-0.002173721293550969, -0.012381041840884816, -0.01652314418436793, -0.5555720732960545, -1.4041590013939618, -8.113748716568425]\n"
     ]
    },
    {
     "name": "stdout",
     "output_type": "stream",
     "text": [
      "last point: [0.9535354042344326, 0.6741728871786241, 0.7605658249679426, 0.048851629634345854, 0.09081582922952484, 0.04642669815447715]\n"
     ]
    },
    {
     "name": "stdout",
     "output_type": "stream",
     "text": [
      "----------------\n"
     ]
    },
    {
     "name": "stdout",
     "output_type": "stream",
     "text": [
      "  \n"
     ]
    },
    {
     "name": "stdout",
     "output_type": "stream",
     "text": [
      "index: 17; αE: 0.38397991967871486\n"
     ]
    },
    {
     "name": "stdout",
     "output_type": "stream",
     "text": [
      "u0: [0.9535354042344326, 0.6741728871786241, 0.7605658249679426, 0.048851629634345854, 0.09081582922952484, 0.04642669815447715]\n"
     ]
    },
    {
     "name": "stdout",
     "output_type": "stream",
     "text": [
      "calc LSE\n"
     ]
    },
    {
     "name": "stdout",
     "output_type": "stream",
     "text": [
      "Λ: [0.002014863682407267, -0.012597610196967398, -0.016708679160444526, -0.5555789830239101, -1.4338542053189904, -8.093105254656559]\n"
     ]
    },
    {
     "name": "stdout",
     "output_type": "stream",
     "text": [
      "last point: [1.0719540955745614, 0.775235752006269, 0.7313532257304399, 0.04710700379980746, 0.090839880118707, 0.0479166540935343]\n"
     ]
    },
    {
     "name": "stdout",
     "output_type": "stream",
     "text": [
      "----------------\n"
     ]
    },
    {
     "name": "stdout",
     "output_type": "stream",
     "text": [
      "  \n"
     ]
    },
    {
     "name": "stdout",
     "output_type": "stream",
     "text": [
      "index: 18; αE: 0.4037911646586345\n"
     ]
    },
    {
     "name": "stdout",
     "output_type": "stream",
     "text": [
      "u0: [1.0719540955745614, 0.775235752006269, 0.7313532257304399, 0.04710700379980746, 0.090839880118707, 0.0479166540935343]\n"
     ]
    },
    {
     "name": "stdout",
     "output_type": "stream",
     "text": [
      "calc LSE\n"
     ]
    },
    {
     "name": "stdout",
     "output_type": "stream",
     "text": [
      "Λ: [-0.0027619525797773973, -0.012483500324541489, -0.016311328261688206, -0.5555722742735454, -1.4629328325939572, -8.07158985601761]\n"
     ]
    },
    {
     "name": "stdout",
     "output_type": "stream",
     "text": [
      "last point: [4.209441661456183, 0.8104595648770658, 0.6885722963600421, 0.05369245133239014, 0.09081357872652361, 0.04928405158688483]\n"
     ]
    },
    {
     "name": "stdout",
     "output_type": "stream",
     "text": [
      "----------------\n"
     ]
    },
    {
     "name": "stdout",
     "output_type": "stream",
     "text": [
      "  \n"
     ]
    },
    {
     "name": "stdout",
     "output_type": "stream",
     "text": [
      "index: 19; αE: 0.4236024096385542\n"
     ]
    },
    {
     "name": "stdout",
     "output_type": "stream",
     "text": [
      "u0: [4.209441661456183, 0.8104595648770658, 0.6885722963600421, 0.05369245133239014, 0.09081357872652361, 0.04928405158688483]\n"
     ]
    },
    {
     "name": "stdout",
     "output_type": "stream",
     "text": [
      "calc LSE\n"
     ]
    },
    {
     "name": "stdout",
     "output_type": "stream",
     "text": [
      "Λ: [0.0039646308106917934, -0.01249560893219581, -0.016935077320955016, -0.5555730236477832, -1.4898850973740876, -8.046933627958145]\n"
     ]
    },
    {
     "name": "stdout",
     "output_type": "stream",
     "text": [
      "last point: [1.131423705244253, 0.7867658326844174, 0.7273058823392816, 0.04555000230121881, 0.09097056391910412, 0.05075236406782639]\n"
     ]
    },
    {
     "name": "stdout",
     "output_type": "stream",
     "text": [
      "----------------\n"
     ]
    },
    {
     "name": "stdout",
     "output_type": "stream",
     "text": [
      "  \n"
     ]
    },
    {
     "name": "stdout",
     "output_type": "stream",
     "text": [
      "index: 20; αE: 0.4434136546184739\n"
     ]
    },
    {
     "name": "stdout",
     "output_type": "stream",
     "text": [
      "u0: [1.131423705244253, 0.7867658326844174, 0.7273058823392816, 0.04555000230121881, 0.09097056391910412, 0.05075236406782639]\n"
     ]
    },
    {
     "name": "stdout",
     "output_type": "stream",
     "text": [
      "calc LSE\n"
     ]
    },
    {
     "name": "stdout",
     "output_type": "stream",
     "text": [
      "Λ: [-0.004167650696155052, -0.013969661694317764, -0.015430266470695338, -0.5555723011385263, -1.5174501994660632, -8.023065215164952]\n"
     ]
    },
    {
     "name": "stdout",
     "output_type": "stream",
     "text": [
      "last point: [14.762881467926794, 0.7006510570484895, 0.7043826940408472, 0.05186579551969387, 0.09093151980155274, 0.05198139889892767]\n"
     ]
    },
    {
     "name": "stdout",
     "output_type": "stream",
     "text": [
      "----------------\n"
     ]
    },
    {
     "name": "stdout",
     "output_type": "stream",
     "text": [
      "  \n"
     ]
    },
    {
     "name": "stdout",
     "output_type": "stream",
     "text": [
      "index: 21; αE: 0.4632248995983936\n"
     ]
    },
    {
     "name": "stdout",
     "output_type": "stream",
     "text": [
      "u0: [14.762881467926794, 0.7006510570484895, 0.7043826940408472, 0.05186579551969387, 0.09093151980155274, 0.05198139889892767]\n"
     ]
    },
    {
     "name": "stdout",
     "output_type": "stream",
     "text": [
      "calc LSE\n"
     ]
    },
    {
     "name": "stdout",
     "output_type": "stream",
     "text": [
      "Λ: [-0.002247064964054096, -0.013906365098942127, -0.016464010623994604, -0.5555793868234491, -1.5425472633261723, -7.995876359727191]\n"
     ]
    },
    {
     "name": "stdout",
     "output_type": "stream",
     "text": [
      "last point: [2.0981319283632898, 0.5138617858759364, 0.792789402757432, 0.04623041902162227, 0.09121076074629234, 0.053451240681880466]\n"
     ]
    },
    {
     "name": "stdout",
     "output_type": "stream",
     "text": [
      "----------------\n"
     ]
    },
    {
     "name": "stdout",
     "output_type": "stream",
     "text": [
      "  \n"
     ]
    },
    {
     "name": "stdout",
     "output_type": "stream",
     "text": [
      "index: 22; αE: 0.48303614457831323\n"
     ]
    },
    {
     "name": "stdout",
     "output_type": "stream",
     "text": [
      "u0: [2.0981319283632898, 0.5138617858759364, 0.792789402757432, 0.04623041902162227, 0.09121076074629234, 0.053451240681880466]\n"
     ]
    },
    {
     "name": "stdout",
     "output_type": "stream",
     "text": [
      "calc LSE\n"
     ]
    },
    {
     "name": "stdout",
     "output_type": "stream",
     "text": [
      "Λ: [-0.00016002677634728853, -0.014151577077669569, -0.015497337249916936, -0.5555789791702239, -1.568651256056855, -7.972019269836061]\n"
     ]
    },
    {
     "name": "stdout",
     "output_type": "stream",
     "text": [
      "last point: [10.266998817074363, 0.7483827856633699, 0.6983394237641187, 0.05013839736601875, 0.09107743571206614, 0.05449225755071657]\n"
     ]
    },
    {
     "name": "stdout",
     "output_type": "stream",
     "text": [
      "----------------\n"
     ]
    },
    {
     "name": "stdout",
     "output_type": "stream",
     "text": [
      "  \n"
     ]
    },
    {
     "name": "stdout",
     "output_type": "stream",
     "text": [
      "index: 23; αE: 0.5028473895582329\n"
     ]
    },
    {
     "name": "stdout",
     "output_type": "stream",
     "text": [
      "u0: [10.266998817074363, 0.7483827856633699, 0.6983394237641187, 0.05013839736601875, 0.09107743571206614, 0.05449225755071657]\n"
     ]
    },
    {
     "name": "stdout",
     "output_type": "stream",
     "text": [
      "calc LSE\n"
     ]
    },
    {
     "name": "stdout",
     "output_type": "stream",
     "text": [
      "Λ: [0.0002781886487409501, -0.01283299395150423, -0.017105669445923573, -0.5555800096612291, -1.5924173561244817, -7.942390457984165]\n"
     ]
    },
    {
     "name": "stdout",
     "output_type": "stream",
     "text": [
      "last point: [1.6292371993896089, 0.5463122833934299, 0.7884645950937625, 0.04423521487868628, 0.09134576441686532, 0.05586254693154037]\n"
     ]
    },
    {
     "name": "stdout",
     "output_type": "stream",
     "text": [
      "----------------\n"
     ]
    },
    {
     "name": "stdout",
     "output_type": "stream",
     "text": [
      "  \n"
     ]
    },
    {
     "name": "stdout",
     "output_type": "stream",
     "text": [
      "index: 24; αE: 0.5226586345381526\n"
     ]
    },
    {
     "name": "stdout",
     "output_type": "stream",
     "text": [
      "u0: [1.6292371993896089, 0.5463122833934299, 0.7884645950937625, 0.04423521487868628, 0.09134576441686532, 0.05586254693154037]\n"
     ]
    },
    {
     "name": "stdout",
     "output_type": "stream",
     "text": [
      "calc LSE\n"
     ]
    },
    {
     "name": "stdout",
     "output_type": "stream",
     "text": [
      "Λ: [0.0023055401455979846, -0.012289063066910128, -0.017256649015770356, -0.555575534047772, -1.6161262417846782, -7.915922871168199]\n"
     ]
    },
    {
     "name": "stdout",
     "output_type": "stream",
     "text": [
      "last point: [2.86279117645226, 0.8203485776243266, 0.6955550768978108, 0.04723732578477245, 0.09124182458023437, 0.056847835346216284]\n"
     ]
    },
    {
     "name": "stdout",
     "output_type": "stream",
     "text": [
      "----------------\n"
     ]
    },
    {
     "name": "stdout",
     "output_type": "stream",
     "text": [
      "  \n"
     ]
    },
    {
     "name": "stdout",
     "output_type": "stream",
     "text": [
      "index: 25; αE: 0.5424698795180722\n"
     ]
    },
    {
     "name": "stdout",
     "output_type": "stream",
     "text": [
      "u0: [2.86279117645226, 0.8203485776243266, 0.6955550768978108, 0.04723732578477245, 0.09124182458023437, 0.056847835346216284]\n"
     ]
    },
    {
     "name": "stdout",
     "output_type": "stream",
     "text": [
      "calc LSE\n"
     ]
    },
    {
     "name": "stdout",
     "output_type": "stream",
     "text": [
      "Λ: [-0.002522646577351586, -0.01412796013786719, -0.013049958706869131, -0.5555805568430733, -1.642262432720472, -7.8876270407041975]\n"
     ]
    },
    {
     "name": "stdout",
     "output_type": "stream",
     "text": [
      "last point: [28.653257809143195, 0.4767124944167102, 0.7535093704846896, 0.04658084418569621, 0.09136350756671556, 0.05800452038088945]\n"
     ]
    },
    {
     "name": "stdout",
     "output_type": "stream",
     "text": [
      "----------------\n"
     ]
    },
    {
     "name": "stdout",
     "output_type": "stream",
     "text": [
      "  \n"
     ]
    },
    {
     "name": "stdout",
     "output_type": "stream",
     "text": [
      "index: 26; αE: 0.562281124497992\n"
     ]
    },
    {
     "name": "stdout",
     "output_type": "stream",
     "text": [
      "u0: [28.653257809143195, 0.4767124944167102, 0.7535093704846896, 0.04658084418569621, 0.09136350756671556, 0.05800452038088945]\n"
     ]
    },
    {
     "name": "stdout",
     "output_type": "stream",
     "text": [
      "calc LSE\n"
     ]
    },
    {
     "name": "stdout",
     "output_type": "stream",
     "text": [
      "Λ: [-0.0007410585739303796, -0.012161902823720183, -0.01746003743043921, -0.5555640511166703, -1.6609508588078432, -7.854523271402627]\n"
     ]
    },
    {
     "name": "stdout",
     "output_type": "stream",
     "text": [
      "last point: [1.6838701489321228, 0.5411287736493428, 0.7904937262571398, 0.041983161011656354, 0.09155249436794609, 0.05919677330708995]\n"
     ]
    },
    {
     "name": "stdout",
     "output_type": "stream",
     "text": [
      "----------------\n"
     ]
    },
    {
     "name": "stdout",
     "output_type": "stream",
     "text": [
      "  \n"
     ]
    },
    {
     "name": "stdout",
     "output_type": "stream",
     "text": [
      "index: 27; αE: 0.5820923694779117\n"
     ]
    },
    {
     "name": "stdout",
     "output_type": "stream",
     "text": [
      "u0: [1.6838701489321228, 0.5411287736493428, 0.7904937262571398, 0.041983161011656354, 0.09155249436794609, 0.05919677330708995]\n"
     ]
    },
    {
     "name": "stdout",
     "output_type": "stream",
     "text": [
      "calc LSE\n"
     ]
    },
    {
     "name": "stdout",
     "output_type": "stream",
     "text": [
      "Λ: [-0.0018600420114935348, -0.014027909840399961, -0.017190773302335274, -0.5555821934138474, -1.683202899857723, -7.824487454709644]\n"
     ]
    },
    {
     "name": "stdout",
     "output_type": "stream",
     "text": [
      "last point: [2.6437921519255076, 0.4841621092962145, 0.7995912149182574, 0.04179948259909881, 0.09163339691079536, 0.060255122164419556]\n"
     ]
    },
    {
     "name": "stdout",
     "output_type": "stream",
     "text": [
      "----------------\n"
     ]
    },
    {
     "name": "stdout",
     "output_type": "stream",
     "text": [
      "  \n"
     ]
    },
    {
     "name": "stdout",
     "output_type": "stream",
     "text": [
      "index: 28; αE: 0.6019036144578314\n"
     ]
    },
    {
     "name": "stdout",
     "output_type": "stream",
     "text": [
      "u0: [2.6437921519255076, 0.4841621092962145, 0.7995912149182574, 0.04179948259909881, 0.09163339691079536, 0.060255122164419556]\n"
     ]
    },
    {
     "name": "stdout",
     "output_type": "stream",
     "text": [
      "calc LSE\n"
     ]
    },
    {
     "name": "stdout",
     "output_type": "stream",
     "text": [
      "Λ: [-0.0023638733422283505, -0.012661573358086117, -0.017959479901084003, -0.5555740727782452, -1.704917227130535, -7.793071784436288]\n"
     ]
    },
    {
     "name": "stdout",
     "output_type": "stream",
     "text": [
      "last point: [0.9769635722383233, 0.6698894654869338, 0.7660741578340414, 0.03925450906132702, 0.09164099524736612, 0.061216619063358346]\n"
     ]
    },
    {
     "name": "stdout",
     "output_type": "stream",
     "text": [
      "----------------\n"
     ]
    },
    {
     "name": "stdout",
     "output_type": "stream",
     "text": [
      "  \n"
     ]
    },
    {
     "name": "stdout",
     "output_type": "stream",
     "text": [
      "index: 29; αE: 0.621714859437751\n"
     ]
    },
    {
     "name": "stdout",
     "output_type": "stream",
     "text": [
      "u0: [0.9769635722383233, 0.6698894654869338, 0.7660741578340414, 0.03925450906132702, 0.09164099524736612, 0.061216619063358346]\n"
     ]
    },
    {
     "name": "stdout",
     "output_type": "stream",
     "text": [
      "calc LSE\n"
     ]
    },
    {
     "name": "stdout",
     "output_type": "stream",
     "text": [
      "Λ: [-0.0007536796939715834, -0.012445694075524144, -0.018004888229365076, -0.5555812195687625, -1.726061537837244, -7.760954215913793]\n"
     ]
    },
    {
     "name": "stdout",
     "output_type": "stream",
     "text": [
      "last point: [1.0614109844703423, 0.6291421422191856, 0.7753569666163198, 0.03899849135698829, 0.0917176866222899, 0.062216664960322264]\n"
     ]
    },
    {
     "name": "stdout",
     "output_type": "stream",
     "text": [
      "----------------\n"
     ]
    },
    {
     "name": "stdout",
     "output_type": "stream",
     "text": [
      "  \n"
     ]
    },
    {
     "name": "stdout",
     "output_type": "stream",
     "text": [
      "index: 30; αE: 0.6415261044176707\n"
     ]
    },
    {
     "name": "stdout",
     "output_type": "stream",
     "text": [
      "u0: [1.0614109844703423, 0.6291421422191856, 0.7753569666163198, 0.03899849135698829, 0.0917176866222899, 0.062216664960322264]\n"
     ]
    },
    {
     "name": "stdout",
     "output_type": "stream",
     "text": [
      "calc LSE\n"
     ]
    },
    {
     "name": "stdout",
     "output_type": "stream",
     "text": [
      "Λ: [0.0027853739092131946, -0.01262425342268302, -0.017959461953081426, -0.5555821533417135, -1.746789899551706, -7.730336381017415]\n"
     ]
    },
    {
     "name": "stdout",
     "output_type": "stream",
     "text": [
      "last point: [1.6096687883700393, 0.8163280460640133, 0.71257927929056, 0.039777365444837745, 0.09165827475724386, 0.06306424470803597]\n"
     ]
    },
    {
     "name": "stdout",
     "output_type": "stream",
     "text": [
      "----------------\n"
     ]
    },
    {
     "name": "stdout",
     "output_type": "stream",
     "text": [
      "  \n"
     ]
    },
    {
     "name": "stdout",
     "output_type": "stream",
     "text": [
      "index: 31; αE: 0.6613373493975904\n"
     ]
    },
    {
     "name": "stdout",
     "output_type": "stream",
     "text": [
      "u0: [1.6096687883700393, 0.8163280460640133, 0.71257927929056, 0.039777365444837745, 0.09165827475724386, 0.06306424470803597]\n"
     ]
    },
    {
     "name": "stdout",
     "output_type": "stream",
     "text": [
      "calc LSE\n"
     ]
    },
    {
     "name": "stdout",
     "output_type": "stream",
     "text": [
      "Λ: [-0.003964685244795237, -0.01496988251627885, -0.01669276269354243, -0.5555824898384564, -1.7657002900057253, -7.6944835501314435]\n"
     ]
    },
    {
     "name": "stdout",
     "output_type": "stream",
     "text": [
      "last point: [17.21311979529811, 0.32759103954573016, 0.8075374382586155, 0.040969248951697346, 0.09194125479407693, 0.06421127509032773]\n"
     ]
    },
    {
     "name": "stdout",
     "output_type": "stream",
     "text": [
      "----------------\n"
     ]
    },
    {
     "name": "stdout",
     "output_type": "stream",
     "text": [
      "  \n"
     ]
    },
    {
     "name": "stdout",
     "output_type": "stream",
     "text": [
      "index: 32; αE: 0.6811485943775101\n"
     ]
    },
    {
     "name": "stdout",
     "output_type": "stream",
     "text": [
      "u0: [17.21311979529811, 0.32759103954573016, 0.8075374382586155, 0.040969248951697346, 0.09194125479407693, 0.06421127509032773]\n"
     ]
    },
    {
     "name": "stdout",
     "output_type": "stream",
     "text": [
      "calc LSE\n"
     ]
    },
    {
     "name": "stdout",
     "output_type": "stream",
     "text": [
      "Λ: [-0.0022338466829584587, -0.013827180253381385, -0.01671302638104308, -0.5555792875428132, -1.7853435375075608, -7.660256215904258]\n"
     ]
    },
    {
     "name": "stdout",
     "output_type": "stream",
     "text": [
      "last point: [15.999591583584948, 0.3271774728655986, 0.8096230084548903, 0.04020719678530801, 0.09199801003617049, 0.06512405110594835]\n"
     ]
    },
    {
     "name": "stdout",
     "output_type": "stream",
     "text": [
      "----------------\n"
     ]
    },
    {
     "name": "stdout",
     "output_type": "stream",
     "text": [
      "  \n"
     ]
    },
    {
     "name": "stdout",
     "output_type": "stream",
     "text": [
      "index: 33; αE: 0.7009598393574297\n"
     ]
    },
    {
     "name": "stdout",
     "output_type": "stream",
     "text": [
      "u0: [15.999591583584948, 0.3271774728655986, 0.8096230084548903, 0.04020719678530801, 0.09199801003617049, 0.06512405110594835]\n"
     ]
    },
    {
     "name": "stdout",
     "output_type": "stream",
     "text": [
      "calc LSE\n"
     ]
    },
    {
     "name": "stdout",
     "output_type": "stream",
     "text": [
      "Λ: [-0.003074383739640519, -0.012610085797169731, -0.01830395270660536, -0.555571515630294, -1.8048966081456754, -7.6255149316379836]\n"
     ]
    },
    {
     "name": "stdout",
     "output_type": "stream",
     "text": [
      "last point: [1.0168604902415088, 0.6488399779547673, 0.7724624654905803, 0.036257288583302155, 0.09194429651919075, 0.0659124082250948]\n"
     ]
    },
    {
     "name": "stdout",
     "output_type": "stream",
     "text": [
      "----------------\n"
     ]
    },
    {
     "name": "stdout",
     "output_type": "stream",
     "text": [
      "  \n"
     ]
    },
    {
     "name": "stdout",
     "output_type": "stream",
     "text": [
      "index: 34; αE: 0.7207710843373494\n"
     ]
    },
    {
     "name": "stdout",
     "output_type": "stream",
     "text": [
      "u0: [1.0168604902415088, 0.6488399779547673, 0.7724624654905803, 0.036257288583302155, 0.09194429651919075, 0.0659124082250948]\n"
     ]
    },
    {
     "name": "stdout",
     "output_type": "stream",
     "text": [
      "calc LSE\n"
     ]
    },
    {
     "name": "stdout",
     "output_type": "stream",
     "text": [
      "Λ: [0.0033281413034858217, -0.01275882745207029, -0.01823660061585241, -0.5555865160430736, -1.8237386316017394, -7.592442870162292]\n"
     ]
    },
    {
     "name": "stdout",
     "output_type": "stream",
     "text": [
      "last point: [1.4728022189389585, 0.8076700740037329, 0.7196446231417479, 0.03656246930833825, 0.09189455321182201, 0.06668520062120983]\n"
     ]
    },
    {
     "name": "stdout",
     "output_type": "stream",
     "text": [
      "----------------\n"
     ]
    },
    {
     "name": "stdout",
     "output_type": "stream",
     "text": [
      "  \n"
     ]
    },
    {
     "name": "stdout",
     "output_type": "stream",
     "text": [
      "index: 35; αE: 0.7405823293172691\n"
     ]
    },
    {
     "name": "stdout",
     "output_type": "stream",
     "text": [
      "u0: [1.4728022189389585, 0.8076700740037329, 0.7196446231417479, 0.03656246930833825, 0.09189455321182201, 0.06668520062120983]\n"
     ]
    },
    {
     "name": "stdout",
     "output_type": "stream",
     "text": [
      "calc LSE\n"
     ]
    },
    {
     "name": "stdout",
     "output_type": "stream",
     "text": [
      "Λ: [0.004499064604381668, -0.012875521064280642, -0.018323798271320437, -0.5555872446894571, -1.8423886312381026, -7.5555534219735785]\n"
     ]
    },
    {
     "name": "stdout",
     "output_type": "stream",
     "text": [
      "last point: [1.3266827865544313, 0.7968144176491007, 0.7263652270759701, 0.03528387503729109, 0.09196181065746174, 0.06755064564891884]\n"
     ]
    },
    {
     "name": "stdout",
     "output_type": "stream",
     "text": [
      "----------------\n"
     ]
    },
    {
     "name": "stdout",
     "output_type": "stream",
     "text": [
      "  \n"
     ]
    },
    {
     "name": "stdout",
     "output_type": "stream",
     "text": [
      "index: 36; αE: 0.7603935742971888\n"
     ]
    },
    {
     "name": "stdout",
     "output_type": "stream",
     "text": [
      "u0: [1.3266827865544313, 0.7968144176491007, 0.7263652270759701, 0.03528387503729109, 0.09196181065746174, 0.06755064564891884]\n"
     ]
    },
    {
     "name": "stdout",
     "output_type": "stream",
     "text": [
      "calc LSE\n"
     ]
    },
    {
     "name": "stdout",
     "output_type": "stream",
     "text": [
      "Λ: [-0.0015082413287221795, -0.015624233903871937, -0.012918142316949684, -0.5555835298580517, -1.8633739782515837, -7.5202846856516725]\n"
     ]
    },
    {
     "name": "stdout",
     "output_type": "stream",
     "text": [
      "last point: [29.379985594480672, 0.48195665378284497, 0.7571698152532681, 0.03867932245887871, 0.09200165396462347, 0.06837028609521964]\n"
     ]
    },
    {
     "name": "stdout",
     "output_type": "stream",
     "text": [
      "----------------\n"
     ]
    },
    {
     "name": "stdout",
     "output_type": "stream",
     "text": [
      "  \n"
     ]
    },
    {
     "name": "stdout",
     "output_type": "stream",
     "text": [
      "index: 37; αE: 0.7802048192771084\n"
     ]
    },
    {
     "name": "stdout",
     "output_type": "stream",
     "text": [
      "u0: [29.379985594480672, 0.48195665378284497, 0.7571698152532681, 0.03867932245887871, 0.09200165396462347, 0.06837028609521964]\n"
     ]
    },
    {
     "name": "stdout",
     "output_type": "stream",
     "text": [
      "calc LSE\n"
     ]
    },
    {
     "name": "stdout",
     "output_type": "stream",
     "text": [
      "Λ: [-0.00038494206369612855, -0.012881229952523951, -0.01852446767586052, -0.5555833734427069, -1.8775818889618971, -7.4815690693744505]\n"
     ]
    },
    {
     "name": "stdout",
     "output_type": "stream",
     "text": [
      "last point: [1.0223443457136137, 0.649863681938602, 0.7734533225997655, 0.03392288889420141, 0.09215565178866555, 0.06928788464843653]\n"
     ]
    },
    {
     "name": "stdout",
     "output_type": "stream",
     "text": [
      "----------------\n"
     ]
    },
    {
     "name": "stdout",
     "output_type": "stream",
     "text": [
      "  \n"
     ]
    },
    {
     "name": "stdout",
     "output_type": "stream",
     "text": [
      "index: 38; αE: 0.8000160642570281\n"
     ]
    },
    {
     "name": "stdout",
     "output_type": "stream",
     "text": [
      "u0: [1.0223443457136137, 0.649863681938602, 0.7734533225997655, 0.03392288889420141, 0.09215565178866555, 0.06928788464843653]\n"
     ]
    },
    {
     "name": "stdout",
     "output_type": "stream",
     "text": [
      "calc LSE\n"
     ]
    },
    {
     "name": "stdout",
     "output_type": "stream",
     "text": [
      "Λ: [0.0003932666507339339, -0.012916948016604264, -0.01848527904516116, -0.5555792702157217, -1.895225712855632, -7.444531322622027]\n"
     ]
    },
    {
     "name": "stdout",
     "output_type": "stream",
     "text": [
      "last point: [1.2957071886519222, 0.7908892192261897, 0.7299880441883254, 0.03345028533425061, 0.09211831367629866, 0.07000582694384451]\n"
     ]
    },
    {
     "name": "stdout",
     "output_type": "stream",
     "text": [
      "----------------\n"
     ]
    },
    {
     "name": "stdout",
     "output_type": "stream",
     "text": [
      "  \n"
     ]
    },
    {
     "name": "stdout",
     "output_type": "stream",
     "text": [
      "index: 39; αE: 0.8198273092369478\n"
     ]
    },
    {
     "name": "stdout",
     "output_type": "stream",
     "text": [
      "u0: [1.2957071886519222, 0.7908892192261897, 0.7299880441883254, 0.03345028533425061, 0.09211831367629866, 0.07000582694384451]\n"
     ]
    },
    {
     "name": "stdout",
     "output_type": "stream",
     "text": [
      "calc LSE\n"
     ]
    },
    {
     "name": "stdout",
     "output_type": "stream",
     "text": [
      "Λ: [-0.0022591536939299928, -0.012910755596713437, -0.018628063580766158, -0.5555711668560283, -1.9122693629484082, -7.404006885847358]"
     ]
    },
    {
     "name": "stdout",
     "output_type": "stream",
     "text": [
      "\n",
      "last point: [0.994329606679779, 0.6772408772877917, 0.7676669206350236, 0.032604422792336184, 0.0922423877617728, 0.07086248529296874]\n"
     ]
    },
    {
     "name": "stdout",
     "output_type": "stream",
     "text": [
      "----------------\n"
     ]
    },
    {
     "name": "stdout",
     "output_type": "stream",
     "text": [
      "  \n"
     ]
    },
    {
     "name": "stdout",
     "output_type": "stream",
     "text": [
      "index: 40; αE: 0.8396385542168675\n"
     ]
    },
    {
     "name": "stdout",
     "output_type": "stream",
     "text": [
      "u0: [0.994329606679779, 0.6772408772877917, 0.7676669206350236, 0.032604422792336184, 0.0922423877617728, 0.07086248529296874]\n"
     ]
    },
    {
     "name": "stdout",
     "output_type": "stream",
     "text": [
      "calc LSE\n"
     ]
    },
    {
     "name": "stdout",
     "output_type": "stream",
     "text": [
      "Λ: [0.0014745609277393625, -0.013186104036933825, -0.01863365230551695, -0.5555842753079109, -1.9294960315241634, -7.365596397910608]\n"
     ]
    },
    {
     "name": "stdout",
     "output_type": "stream",
     "text": [
      "last point: [1.0787145608776405, 0.7487000373515855, 0.7475579314486308, 0.03174991259026195, 0.09224982238275013, 0.07159447603132811]\n"
     ]
    },
    {
     "name": "stdout",
     "output_type": "stream",
     "text": [
      "----------------\n"
     ]
    },
    {
     "name": "stdout",
     "output_type": "stream",
     "text": [
      "  \n"
     ]
    },
    {
     "name": "stdout",
     "output_type": "stream",
     "text": [
      "index: 41; αE: 0.8594497991967871\n"
     ]
    },
    {
     "name": "stdout",
     "output_type": "stream",
     "text": [
      "u0: [1.0787145608776405, 0.7487000373515855, 0.7475579314486308, 0.03174991259026195, 0.09224982238275013, 0.07159447603132811]\n"
     ]
    },
    {
     "name": "stdout",
     "output_type": "stream",
     "text": [
      "calc LSE\n"
     ]
    },
    {
     "name": "stdout",
     "output_type": "stream",
     "text": [
      "Λ: [0.0003262305590126967, -0.012872796734756572, -0.018526775815701793, -0.5555811474980353, -1.9456745956779082, -7.327349408806638]\n"
     ]
    },
    {
     "name": "stdout",
     "output_type": "stream",
     "text": [
      "last point: [1.7062010204137297, 0.8092705476314269, 0.71845588071006, 0.03339112195389535, 0.09222736883008012, 0.07228470701420847]\n"
     ]
    },
    {
     "name": "stdout",
     "output_type": "stream",
     "text": [
      "----------------\n"
     ]
    },
    {
     "name": "stdout",
     "output_type": "stream",
     "text": [
      "  \n"
     ]
    },
    {
     "name": "stdout",
     "output_type": "stream",
     "text": [
      "index: 42; αE: 0.8792610441767068\n"
     ]
    },
    {
     "name": "stdout",
     "output_type": "stream",
     "text": [
      "u0: [1.7062010204137297, 0.8092705476314269, 0.71845588071006, 0.03339112195389535, 0.09222736883008012, 0.07228470701420847]\n"
     ]
    },
    {
     "name": "stdout",
     "output_type": "stream",
     "text": [
      "calc LSE\n"
     ]
    },
    {
     "name": "stdout",
     "output_type": "stream",
     "text": [
      "Λ: [0.00248433508460651, -0.012937730557224362, -0.018524024504277474, -0.5555851813268249, -1.9624368212486365, -7.287211342710505]\n"
     ]
    },
    {
     "name": "stdout",
     "output_type": "stream",
     "text": [
      "last point: [1.9924866730682556, 0.8116923779452047, 0.7148317381086213, 0.03357544702879645, 0.09226016037118308, 0.07301484402906218]\n"
     ]
    },
    {
     "name": "stdout",
     "output_type": "stream",
     "text": [
      "----------------\n"
     ]
    },
    {
     "name": "stdout",
     "output_type": "stream",
     "text": [
      "  \n"
     ]
    },
    {
     "name": "stdout",
     "output_type": "stream",
     "text": [
      "index: 43; αE: 0.8990722891566265\n"
     ]
    },
    {
     "name": "stdout",
     "output_type": "stream",
     "text": [
      "u0: [1.9924866730682556, 0.8116923779452047, 0.7148317381086213, 0.03357544702879645, 0.09226016037118308, 0.07301484402906218]\n"
     ]
    },
    {
     "name": "stdout",
     "output_type": "stream",
     "text": [
      "calc LSE\n"
     ]
    },
    {
     "name": "stdout",
     "output_type": "stream",
     "text": [
      "Λ: [0.0026507085207116417, -0.013066785848288506, -0.01879222294746411, -0.5555790765911087, -1.977746478604677, -7.244558694812596]\n"
     ]
    },
    {
     "name": "stdout",
     "output_type": "stream",
     "text": [
      "last point: [1.011442284975721, 0.6668003634518671, 0.7712677410405249, 0.030639097028578966, 0.092430946919797, 0.07386444974632324]\n"
     ]
    },
    {
     "name": "stdout",
     "output_type": "stream",
     "text": [
      "----------------\n"
     ]
    },
    {
     "name": "stdout",
     "output_type": "stream",
     "text": [
      "  \n"
     ]
    },
    {
     "name": "stdout",
     "output_type": "stream",
     "text": [
      "index: 44; αE: 0.9188835341365462\n"
     ]
    },
    {
     "name": "stdout",
     "output_type": "stream",
     "text": [
      "u0: [1.011442284975721, 0.6668003634518671, 0.7712677410405249, 0.030639097028578966, 0.092430946919797, 0.07386444974632324]\n"
     ]
    },
    {
     "name": "stdout",
     "output_type": "stream",
     "text": [
      "calc LSE\n"
     ]
    },
    {
     "name": "stdout",
     "output_type": "stream",
     "text": [
      "Λ: [0.00013722043080602862, -0.013316369771714886, -0.018799648687566083, -0.555583872677883, -1.9940181755677513, -7.202048305362462]\n"
     ]
    },
    {
     "name": "stdout",
     "output_type": "stream",
     "text": [
      "last point: [1.0522016310742752, 0.7327556144923333, 0.7537256997240732, 0.029788139909741482, 0.09243875797243524, 0.07454715349925932]\n"
     ]
    },
    {
     "name": "stdout",
     "output_type": "stream",
     "text": [
      "----------------\n"
     ]
    },
    {
     "name": "stdout",
     "output_type": "stream",
     "text": [
      "  \n"
     ]
    },
    {
     "name": "stdout",
     "output_type": "stream",
     "text": [
      "index: 45; αE: 0.9386947791164658\n"
     ]
    },
    {
     "name": "stdout",
     "output_type": "stream",
     "text": [
      "u0: [1.0522016310742752, 0.7327556144923333, 0.7537256997240732, 0.029788139909741482, 0.09243875797243524, 0.07454715349925932]\n"
     ]
    },
    {
     "name": "stdout",
     "output_type": "stream",
     "text": [
      "calc LSE\n"
     ]
    },
    {
     "name": "stdout",
     "output_type": "stream",
     "text": [
      "Λ: [0.0012872303826501517, -0.013192699395024234, -0.018381173571541315, -0.5555882694351846, -2.009228929032401, -7.162160515054767]\n"
     ]
    },
    {
     "name": "stdout",
     "output_type": "stream",
     "text": [
      "last point: [4.472141662459855, 0.7945697992987709, 0.7098628183966407, 0.03366524432104542, 0.09235740676553036, 0.07513351642769035]\n"
     ]
    },
    {
     "name": "stdout",
     "output_type": "stream",
     "text": [
      "----------------\n"
     ]
    },
    {
     "name": "stdout",
     "output_type": "stream",
     "text": [
      "  \n"
     ]
    },
    {
     "name": "stdout",
     "output_type": "stream",
     "text": [
      "index: 46; αE: 0.9585060240963855\n"
     ]
    },
    {
     "name": "stdout",
     "output_type": "stream",
     "text": [
      "u0: [4.472141662459855, 0.7945697992987709, 0.7098628183966407, 0.03366524432104542, 0.09235740676553036, 0.07513351642769035]\n"
     ]
    },
    {
     "name": "stdout",
     "output_type": "stream",
     "text": [
      "calc LSE\n"
     ]
    },
    {
     "name": "stdout",
     "output_type": "stream",
     "text": [
      "Λ: [2.893584343620732e-5, -0.013998234499430454, -0.018572318638947937, -0.5555858099390624, -2.024320761627262, -7.117602238676331]\n"
     ]
    },
    {
     "name": "stdout",
     "output_type": "stream",
     "text": [
      "last point: [4.045135876226239, 0.4293262225402724, 0.8134049725131424, 0.03089147293222442, 0.09264472274259879, 0.07606121954449091]\n"
     ]
    },
    {
     "name": "stdout",
     "output_type": "stream",
     "text": [
      "----------------\n"
     ]
    },
    {
     "name": "stdout",
     "output_type": "stream",
     "text": [
      "  \n"
     ]
    },
    {
     "name": "stdout",
     "output_type": "stream",
     "text": [
      "index: 47; αE: 0.9783172690763052\n"
     ]
    },
    {
     "name": "stdout",
     "output_type": "stream",
     "text": [
      "u0: [4.045135876226239, 0.4293262225402724, 0.8134049725131424, 0.03089147293222442, 0.09264472274259879, 0.07606121954449091]\n"
     ]
    },
    {
     "name": "stdout",
     "output_type": "stream",
     "text": [
      "calc LSE\n"
     ]
    },
    {
     "name": "stdout",
     "output_type": "stream",
     "text": [
      "Λ: [-0.0010859204622327117, -0.013353190451219818, -0.01893431101605527, -0.55558319134943, -2.039718332565601, -7.072976723175886]\n"
     ]
    },
    {
     "name": "stdout",
     "output_type": "stream",
     "text": [
      "last point: [1.0221453511410936, 0.6659435513566041, 0.7725208998159161, 0.02873962463382414, 0.09260004930820412, 0.07666173339230188]\n"
     ]
    },
    {
     "name": "stdout",
     "output_type": "stream",
     "text": [
      "----------------\n"
     ]
    },
    {
     "name": "stdout",
     "output_type": "stream",
     "text": [
      "  \n"
     ]
    },
    {
     "name": "stdout",
     "output_type": "stream",
     "text": [
      "index: 48; αE: 0.9981285140562249\n"
     ]
    },
    {
     "name": "stdout",
     "output_type": "stream",
     "text": [
      "u0: [1.0221453511410936, 0.6659435513566041, 0.7725208998159161, 0.02873962463382414, 0.09260004930820412, 0.07666173339230188]\n"
     ]
    },
    {
     "name": "stdout",
     "output_type": "stream",
     "text": [
      "calc LSE\n"
     ]
    },
    {
     "name": "stdout",
     "output_type": "stream",
     "text": [
      "Λ: [-5.764651228333771e-5, -0.012820588575651005, -0.018952151873697354, -0.5555860482804285, -2.0542791185761327, -7.030249628871366]\n"
     ]
    },
    {
     "name": "stdout",
     "output_type": "stream",
     "text": [
      "last point: [1.3326845327426393, 0.5795173416920599, 0.7908327510010323, 0.028898165756134735, 0.09267593910762517, 0.07736746325950646]\n"
     ]
    },
    {
     "name": "stdout",
     "output_type": "stream",
     "text": [
      "----------------\n"
     ]
    },
    {
     "name": "stdout",
     "output_type": "stream",
     "text": [
      "  \n"
     ]
    },
    {
     "name": "stdout",
     "output_type": "stream",
     "text": [
      "index: 49; αE: 1.0179397590361445\n"
     ]
    },
    {
     "name": "stdout",
     "output_type": "stream",
     "text": [
      "u0: [1.3326845327426393, 0.5795173416920599, 0.7908327510010323, 0.028898165756134735, 0.09267593910762517, 0.07736746325950646]\n"
     ]
    },
    {
     "name": "stdout",
     "output_type": "stream",
     "text": [
      "calc LSE\n"
     ]
    },
    {
     "name": "stdout",
     "output_type": "stream",
     "text": [
      "Λ: [-0.002475225699011911, -0.012672556821309636, -0.018729730897264475, -0.5555653098401749, -2.069219672849745, -6.985056763776291]\n"
     ]
    },
    {
     "name": "stdout",
     "output_type": "stream",
     "text": [
      "last point: [2.171100924825346, 0.8069515033672046, 0.7178517412241449, 0.03023857180970202, 0.09254750579123087, 0.07786822427836201]\n"
     ]
    },
    {
     "name": "stdout",
     "output_type": "stream",
     "text": [
      "----------------\n"
     ]
    },
    {
     "name": "stdout",
     "output_type": "stream",
     "text": [
      "  \n"
     ]
    },
    {
     "name": "stdout",
     "output_type": "stream",
     "text": [
      "index: 50; αE: 1.0377510040160642\n"
     ]
    },
    {
     "name": "stdout",
     "output_type": "stream",
     "text": [
      "u0: [2.171100924825346, 0.8069515033672046, 0.7178517412241449, 0.03023857180970202, 0.09254750579123087, 0.07786822427836201]\n"
     ]
    },
    {
     "name": "stdout",
     "output_type": "stream",
     "text": [
      "calc LSE"
     ]
    },
    {
     "name": "stdout",
     "output_type": "stream",
     "text": [
      "\n",
      "Λ: [0.00382025191096384, -0.013413167432948042, -0.018965499380661825, -0.5555857982026652, -2.083373069775811, -6.941189980028764]\n"
     ]
    },
    {
     "name": "stdout",
     "output_type": "stream",
     "text": [
      "last point: [1.1247221413663933, 0.7491862230534055, 0.7496265039137925, 0.027130909695449738, 0.0926675673510006, 0.07859753786613981]\n"
     ]
    },
    {
     "name": "stdout",
     "output_type": "stream",
     "text": [
      "----------------\n"
     ]
    },
    {
     "name": "stdout",
     "output_type": "stream",
     "text": [
      "  \n"
     ]
    },
    {
     "name": "stdout",
     "output_type": "stream",
     "text": [
      "index: 51; αE: 1.057562248995984\n"
     ]
    },
    {
     "name": "stdout",
     "output_type": "stream",
     "text": [
      "u0: [1.1247221413663933, 0.7491862230534055, 0.7496265039137925, 0.027130909695449738, 0.0926675673510006, 0.07859753786613981]\n"
     ]
    },
    {
     "name": "stdout",
     "output_type": "stream",
     "text": [
      "calc LSE\n"
     ]
    },
    {
     "name": "stdout",
     "output_type": "stream",
     "text": [
      "Λ: [0.004142174629386418, -0.013447549584877231, -0.01898999130518556, -0.5555896184487158, -2.0971651805649705, -6.894556587169458]\n"
     ]
    },
    {
     "name": "stdout",
     "output_type": "stream",
     "text": [
      "last point: [1.1363981504246154, 0.7509494868262041, 0.7492086348775646, 0.0267212210098356, 0.09270347797560327, 0.07923742403580128]\n"
     ]
    },
    {
     "name": "stdout",
     "output_type": "stream",
     "text": [
      "----------------\n"
     ]
    },
    {
     "name": "stdout",
     "output_type": "stream",
     "text": [
      "  \n"
     ]
    },
    {
     "name": "stdout",
     "output_type": "stream",
     "text": [
      "index: 52; αE: 1.0773734939759037\n"
     ]
    },
    {
     "name": "stdout",
     "output_type": "stream",
     "text": [
      "u0: [1.1363981504246154, 0.7509494868262041, 0.7492086348775646, 0.0267212210098356, 0.09270347797560327, 0.07923742403580128]\n"
     ]
    },
    {
     "name": "stdout",
     "output_type": "stream",
     "text": [
      "calc LSE\n"
     ]
    },
    {
     "name": "stdout",
     "output_type": "stream",
     "text": [
      "Λ: [-0.0009232707350964696, -0.01311976161740436, -0.018954098327174623, -0.5555696642778124, -2.1112891568156487, -6.847644933957276]\n"
     ]
    },
    {
     "name": "stdout",
     "output_type": "stream",
     "text": [
      "last point: [1.3268863870779988, 0.7803358366307762, 0.7374552391831206, 0.02678813095059661, 0.09271154223755922, 0.07984203916272092]\n"
     ]
    },
    {
     "name": "stdout",
     "output_type": "stream",
     "text": [
      "----------------\n"
     ]
    },
    {
     "name": "stdout",
     "output_type": "stream",
     "text": [
      "  \n"
     ]
    },
    {
     "name": "stdout",
     "output_type": "stream",
     "text": [
      "index: 53; αE: 1.0971847389558234\n"
     ]
    },
    {
     "name": "stdout",
     "output_type": "stream",
     "text": [
      "u0: [1.3268863870779988, 0.7803358366307762, 0.7374552391831206, 0.02678813095059661, 0.09271154223755922, 0.07984203916272092]\n"
     ]
    },
    {
     "name": "stdout",
     "output_type": "stream",
     "text": [
      "calc LSE\n"
     ]
    },
    {
     "name": "stdout",
     "output_type": "stream",
     "text": [
      "Λ: [0.0003523869942321721, -0.013426252140745146, -0.018986859966456944, -0.5555843457629839, -2.125574727352867, -6.799806999828086]\n"
     ]
    },
    {
     "name": "stdout",
     "output_type": "stream",
     "text": [
      "last point: [1.3457168067535468, 0.7811704783839005, 0.7372021042093604, 0.026419116036909336, 0.09274611160233573, 0.0804637422418078]\n"
     ]
    },
    {
     "name": "stdout",
     "output_type": "stream",
     "text": [
      "----------------\n"
     ]
    },
    {
     "name": "stdout",
     "output_type": "stream",
     "text": [
      "  \n"
     ]
    },
    {
     "name": "stdout",
     "output_type": "stream",
     "text": [
      "index: 54; αE: 1.116995983935743\n"
     ]
    },
    {
     "name": "stdout",
     "output_type": "stream",
     "text": [
      "u0: [1.3457168067535468, 0.7811704783839005, 0.7372021042093604, 0.026419116036909336, 0.09274611160233573, 0.0804637422418078]\n"
     ]
    },
    {
     "name": "stdout",
     "output_type": "stream",
     "text": [
      "calc LSE\n"
     ]
    },
    {
     "name": "stdout",
     "output_type": "stream",
     "text": [
      "Λ: [-0.001821629360490204, -0.013285444571558907, -0.019116261510600377, -0.5555688155810744, -2.1384621152221484, -6.751838031086231]\n"
     ]
    },
    {
     "name": "stdout",
     "output_type": "stream",
     "text": [
      "last point: [1.0343533252563992, 0.6765074888025399, 0.7716801722839408, 0.025634496929348893, 0.09285957714389556, 0.08115307704111148]\n"
     ]
    },
    {
     "name": "stdout",
     "output_type": "stream",
     "text": [
      "----------------\n"
     ]
    },
    {
     "name": "stdout",
     "output_type": "stream",
     "text": [
      "  \n"
     ]
    },
    {
     "name": "stdout",
     "output_type": "stream",
     "text": [
      "index: 55; αE: 1.1368072289156625\n"
     ]
    },
    {
     "name": "stdout",
     "output_type": "stream",
     "text": [
      "u0: [1.0343533252563992, 0.6765074888025399, 0.7716801722839408, 0.025634496929348893, 0.09285957714389556, 0.08115307704111148]\n"
     ]
    },
    {
     "name": "stdout",
     "output_type": "stream",
     "text": [
      "calc LSE\n"
     ]
    },
    {
     "name": "stdout",
     "output_type": "stream",
     "text": [
      "Λ: [-0.0037635628114486303, -0.014615825311304571, -0.01753041028879258, -0.5555764141593935, -2.152258030607063, -6.705551905561278]\n"
     ]
    },
    {
     "name": "stdout",
     "output_type": "stream",
     "text": [
      "last point: [23.938033658560308, 0.5951503732323341, 0.7421763613457657, 0.028732979673058667, 0.09270114502024535, 0.08157369304248813]\n"
     ]
    },
    {
     "name": "stdout",
     "output_type": "stream",
     "text": [
      "----------------\n"
     ]
    },
    {
     "name": "stdout",
     "output_type": "stream",
     "text": [
      "  \n"
     ]
    },
    {
     "name": "stdout",
     "output_type": "stream",
     "text": [
      "index: 56; αE: 1.1566184738955823\n"
     ]
    },
    {
     "name": "stdout",
     "output_type": "stream",
     "text": [
      "u0: [23.938033658560308, 0.5951503732323341, 0.7421763613457657, 0.028732979673058667, 0.09270114502024535, 0.08157369304248813]\n"
     ]
    },
    {
     "name": "stdout",
     "output_type": "stream",
     "text": [
      "calc LSE\n"
     ]
    },
    {
     "name": "stdout",
     "output_type": "stream",
     "text": [
      "Λ: [-0.003189083583162667, -0.015558042506525325, -0.014212306261073159, -0.5555860403939556, -2.168209960874989, -6.6551396738174295]\n"
     ]
    },
    {
     "name": "stdout",
     "output_type": "stream",
     "text": [
      "last point: [31.487120172940948, 0.43598946787947424, 0.775274393171332, 0.027966841262913444, 0.09289284576549081, 0.08232275162883486]\n"
     ]
    },
    {
     "name": "stdout",
     "output_type": "stream",
     "text": [
      "----------------\n"
     ]
    },
    {
     "name": "stdout",
     "output_type": "stream",
     "text": [
      "  \n"
     ]
    },
    {
     "name": "stdout",
     "output_type": "stream",
     "text": [
      "index: 57; αE: 1.176429718875502\n"
     ]
    },
    {
     "name": "stdout",
     "output_type": "stream",
     "text": [
      "u0: [31.487120172940948, 0.43598946787947424, 0.775274393171332, 0.027966841262913444, 0.09289284576549081, 0.08232275162883486]\n"
     ]
    },
    {
     "name": "stdout",
     "output_type": "stream",
     "text": [
      "calc LSE\n"
     ]
    },
    {
     "name": "stdout",
     "output_type": "stream",
     "text": [
      "Λ: [0.0017483808738443637, -0.013707661055268638, -0.01919750243304153, -0.5555873395492051, -2.178530277665791, -6.604877548309866]\n"
     ]
    },
    {
     "name": "stdout",
     "output_type": "stream",
     "text": [
      "last point: [1.0423987276644426, 0.68621884971823, 0.7699120160911179, 0.024382231572026992, 0.09295776421476333, 0.08294305260350175]\n"
     ]
    },
    {
     "name": "stdout",
     "output_type": "stream",
     "text": [
      "----------------\n"
     ]
    },
    {
     "name": "stdout",
     "output_type": "stream",
     "text": [
      "  \n"
     ]
    },
    {
     "name": "stdout",
     "output_type": "stream",
     "text": [
      "index: 58; αE: 1.1962409638554217\n"
     ]
    },
    {
     "name": "stdout",
     "output_type": "stream",
     "text": [
      "u0: [1.0423987276644426, 0.68621884971823, 0.7699120160911179, 0.024382231572026992, 0.09295776421476333, 0.08294305260350175]\n"
     ]
    },
    {
     "name": "stdout",
     "output_type": "stream",
     "text": [
      "calc LSE\n"
     ]
    },
    {
     "name": "stdout",
     "output_type": "stream",
     "text": [
      "Λ: [-0.0038156123349304704, -0.012559915433890958, -0.019208908694986607, -0.5555739356094314, -2.190767057979483, -6.553665550023046]\n"
     ]
    },
    {
     "name": "stdout",
     "output_type": "stream",
     "text": [
      "last point: [1.7718315633884079, 0.5335670825100568, 0.8016271001733254, 0.024882749924520425, 0.09305845421706545, 0.08359042115891081]\n"
     ]
    },
    {
     "name": "stdout",
     "output_type": "stream",
     "text": [
      "----------------\n"
     ]
    },
    {
     "name": "stdout",
     "output_type": "stream",
     "text": [
      "  \n"
     ]
    },
    {
     "name": "stdout",
     "output_type": "stream",
     "text": [
      "index: 59; αE: 1.2160522088353414\n"
     ]
    },
    {
     "name": "stdout",
     "output_type": "stream",
     "text": [
      "u0: [1.7718315633884079, 0.5335670825100568, 0.8016271001733254, 0.024882749924520425, 0.09305845421706545, 0.08359042115891081]\n"
     ]
    },
    {
     "name": "stdout",
     "output_type": "stream",
     "text": [
      "calc LSE\n"
     ]
    },
    {
     "name": "stdout",
     "output_type": "stream",
     "text": [
      "Λ: [0.0021750222739825215, -0.013437044313215405, -0.01925389150126169, -0.555579269743161, -2.2037266853321342, -6.502641037482692]\n"
     ]
    },
    {
     "name": "stdout",
     "output_type": "stream",
     "text": [
      "last point: [1.1752964529249976, 0.6142733392152684, 0.7868722956580461, 0.02401453887973936, 0.09305943223558265, 0.08413514589958826]\n"
     ]
    },
    {
     "name": "stdout",
     "output_type": "stream",
     "text": [
      "----------------\n"
     ]
    },
    {
     "name": "stdout",
     "output_type": "stream",
     "text": [
      "  \n"
     ]
    },
    {
     "name": "stdout",
     "output_type": "stream",
     "text": [
      "index: 60; αE: 1.235863453815261\n"
     ]
    },
    {
     "name": "stdout",
     "output_type": "stream",
     "text": [
      "u0: [1.1752964529249976, 0.6142733392152684, 0.7868722956580461, 0.02401453887973936, 0.09305943223558265, 0.08413514589958826]\n"
     ]
    },
    {
     "name": "stdout",
     "output_type": "stream",
     "text": [
      "calc LSE\n"
     ]
    },
    {
     "name": "stdout",
     "output_type": "stream",
     "text": [
      "Λ: [0.0007031509416667574, -0.013533322256772378, -0.01916256635478809, -0.5555792642123968, -2.2162148448726997, -6.451636195673491]\n"
     ]
    },
    {
     "name": "stdout",
     "output_type": "stream",
     "text": [
      "last point: [1.265742341684899, 0.764656789241258, 0.745619247515339, 0.023389678952402713, 0.0929976277295425, 0.084612738061852]\n"
     ]
    },
    {
     "name": "stdout",
     "output_type": "stream",
     "text": [
      "----------------\n"
     ]
    },
    {
     "name": "stdout",
     "output_type": "stream",
     "text": [
      "  \n"
     ]
    },
    {
     "name": "stdout",
     "output_type": "stream",
     "text": [
      "index: 61; αE: 1.2556746987951808\n",
      "u0: [1.265742341684899, 0.764656789241258, 0.745619247515339, 0.023389678952402713, 0.0929976277295425, 0.084612738061852]\n"
     ]
    },
    {
     "name": "stdout",
     "output_type": "stream",
     "text": [
      "calc LSE\n"
     ]
    },
    {
     "name": "stdout",
     "output_type": "stream",
     "text": [
      "Λ: [-0.004110381134312773, -0.016186741737690805, -0.016221717070785954, -0.5555719485983639, -2.228949982370353, -6.39940079571371]\n"
     ]
    },
    {
     "name": "stdout",
     "output_type": "stream",
     "text": [
      "last point: [18.233615114037214, 0.6606463224735984, 0.7338451783874937, 0.026203429148931884, 0.09290850183579695, 0.0850573072357351]\n"
     ]
    },
    {
     "name": "stdout",
     "output_type": "stream",
     "text": [
      "----------------\n"
     ]
    },
    {
     "name": "stdout",
     "output_type": "stream",
     "text": [
      "  \n"
     ]
    },
    {
     "name": "stdout",
     "output_type": "stream",
     "text": [
      "index: 62; αE: 1.2754859437751005\n"
     ]
    },
    {
     "name": "stdout",
     "output_type": "stream",
     "text": [
      "u0: [18.233615114037214, 0.6606463224735984, 0.7338451783874937, 0.026203429148931884, 0.09290850183579695, 0.0850573072357351]\n"
     ]
    },
    {
     "name": "stdout",
     "output_type": "stream",
     "text": [
      "calc LSE\n"
     ]
    },
    {
     "name": "stdout",
     "output_type": "stream",
     "text": [
      "Λ: [6.534854107398528e-5, -0.013647861242168437, -0.019153100092921146, -0.5555872231272503, -2.240780802850905, -6.344651685693498]\n"
     ]
    },
    {
     "name": "stdout",
     "output_type": "stream",
     "text": [
      "last point: [4.894870921806298, 0.4036434419174563, 0.8211372098273381, 0.02401997850474521, 0.09323645442324509, 0.0858967487825863]\n"
     ]
    },
    {
     "name": "stdout",
     "output_type": "stream",
     "text": [
      "----------------\n"
     ]
    },
    {
     "name": "stdout",
     "output_type": "stream",
     "text": [
      "  \n"
     ]
    },
    {
     "name": "stdout",
     "output_type": "stream",
     "text": [
      "index: 63; αE: 1.29529718875502\n"
     ]
    },
    {
     "name": "stdout",
     "output_type": "stream",
     "text": [
      "u0: [4.894870921806298, 0.4036434419174563, 0.8211372098273381, 0.02401997850474521, 0.09323645442324509, 0.0858967487825863]\n"
     ]
    },
    {
     "name": "stdout",
     "output_type": "stream",
     "text": [
      "calc LSE\n"
     ]
    },
    {
     "name": "stdout",
     "output_type": "stream",
     "text": [
      "Λ: [-0.0017421820431160792, -0.013534767750768345, -0.019335693215202156, -0.5555747572317209, -2.2525328606379484, -6.290524297075148]\n"
     ]
    },
    {
     "name": "stdout",
     "output_type": "stream",
     "text": [
      "last point: [1.221297966563114, 0.6061576917925481, 0.7894746536031786, 0.022547118003098023, 0.09319018390130913, 0.0863700687085227]\n"
     ]
    },
    {
     "name": "stdout",
     "output_type": "stream",
     "text": [
      "----------------\n"
     ]
    },
    {
     "name": "stdout",
     "output_type": "stream",
     "text": [
      "  \n"
     ]
    },
    {
     "name": "stdout",
     "output_type": "stream",
     "text": [
      "index: 64; αE: 1.3151084337349397\n"
     ]
    },
    {
     "name": "stdout",
     "output_type": "stream",
     "text": [
      "u0: [1.221297966563114, 0.6061576917925481, 0.7894746536031786, 0.022547118003098023, 0.09319018390130913, 0.0863700687085227]\n"
     ]
    },
    {
     "name": "stdout",
     "output_type": "stream",
     "text": [
      "calc LSE\n"
     ]
    },
    {
     "name": "stdout",
     "output_type": "stream",
     "text": [
      "Λ: [-0.0003739693788039462, -0.013694048342089593, -0.019354080423006605, -0.5555794650595327, -2.264335867732692, -6.235874427862508]\n"
     ]
    },
    {
     "name": "stdout",
     "output_type": "stream",
     "text": [
      "last point: [1.1335347400482085, 0.6315881890421758, 0.7843828548560912, 0.02204223557382971, 0.09320915622516841, 0.08689998017403033]\n"
     ]
    },
    {
     "name": "stdout",
     "output_type": "stream",
     "text": [
      "----------------\n"
     ]
    },
    {
     "name": "stdout",
     "output_type": "stream",
     "text": [
      "  \n"
     ]
    },
    {
     "name": "stdout",
     "output_type": "stream",
     "text": [
      "index: 65; αE: 1.3349196787148594\n"
     ]
    },
    {
     "name": "stdout",
     "output_type": "stream",
     "text": [
      "u0: [1.1335347400482085, 0.6315881890421758, 0.7843828548560912, 0.02204223557382971, 0.09320915622516841, 0.08689998017403033]\n"
     ]
    },
    {
     "name": "stdout",
     "output_type": "stream",
     "text": [
      "calc LSE\n"
     ]
    },
    {
     "name": "stdout",
     "output_type": "stream",
     "text": [
      "Λ: [-0.0020554264212799423, -0.011508066149586304, -0.019239953816143126, -0.5555575700413303, -2.2760666408881134, -6.178440883190839]\n"
     ]
    },
    {
     "name": "stdout",
     "output_type": "stream",
     "text": [
      "last point: [3.9298496434737853, 0.4288502790381723, 0.8189818803810924, 0.022732984834970785, 0.09332028625934675, 0.08751259119655494]\n"
     ]
    },
    {
     "name": "stdout",
     "output_type": "stream",
     "text": [
      "----------------\n"
     ]
    },
    {
     "name": "stdout",
     "output_type": "stream",
     "text": [
      "  \n"
     ]
    },
    {
     "name": "stdout",
     "output_type": "stream",
     "text": [
      "index: 66; αE: 1.354730923694779\n"
     ]
    },
    {
     "name": "stdout",
     "output_type": "stream",
     "text": [
      "u0: [3.9298496434737853, 0.4288502790381723, 0.8189818803810924, 0.022732984834970785, 0.09332028625934675, 0.08751259119655494]\n"
     ]
    },
    {
     "name": "stdout",
     "output_type": "stream",
     "text": [
      "calc LSE\n"
     ]
    },
    {
     "name": "stdout",
     "output_type": "stream",
     "text": [
      "Λ: [-0.000810939591717807, -0.013476256151854566, -0.01915096434843905, -0.5555744870797257, -2.2878730025813074, -6.124590456784558]\n"
     ]
    },
    {
     "name": "stdout",
     "output_type": "stream",
     "text": [
      "last point: [1.975941915628787, 0.7927954071872074, 0.7303870865086858, 0.02261875928233741, 0.09313122895099614, 0.08783039763515958]\n"
     ]
    },
    {
     "name": "stdout",
     "output_type": "stream",
     "text": [
      "----------------\n"
     ]
    },
    {
     "name": "stdout",
     "output_type": "stream",
     "text": [
      "  \n"
     ]
    },
    {
     "name": "stdout",
     "output_type": "stream",
     "text": [
      "index: 67; αE: 1.3745421686746988\n"
     ]
    },
    {
     "name": "stdout",
     "output_type": "stream",
     "text": [
      "u0: [1.975941915628787, 0.7927954071872074, 0.7303870865086858, 0.02261875928233741, 0.09313122895099614, 0.08783039763515958]\n"
     ]
    },
    {
     "name": "stdout",
     "output_type": "stream",
     "text": [
      "calc LSE\n"
     ]
    },
    {
     "name": "stdout",
     "output_type": "stream",
     "text": [
      "Λ: [0.00031422329399687473, -0.014291198714173219, -0.016528965583074297, -0.5555906415723121, -2.3014442114019427, -6.067397639785754]\n"
     ]
    },
    {
     "name": "stdout",
     "output_type": "stream",
     "text": [
      "last point: [27.050302624364782, 0.5541984465098198, 0.7544542995953512, 0.023588814923988233, 0.09310332628946075, 0.08829183892530973]\n"
     ]
    },
    {
     "name": "stdout",
     "output_type": "stream",
     "text": [
      "----------------\n"
     ]
    },
    {
     "name": "stdout",
     "output_type": "stream",
     "text": [
      "  \n"
     ]
    },
    {
     "name": "stdout",
     "output_type": "stream",
     "text": [
      "index: 68; αE: 1.3943534136546185\n"
     ]
    },
    {
     "name": "stdout",
     "output_type": "stream",
     "text": [
      "u0: [27.050302624364782, 0.5541984465098198, 0.7544542995953512, 0.023588814923988233, 0.09310332628946075, 0.08829183892530973]\n"
     ]
    },
    {
     "name": "stdout",
     "output_type": "stream",
     "text": [
      "calc LSE\n"
     ]
    },
    {
     "name": "stdout",
     "output_type": "stream",
     "text": [
      "Λ: [0.00092816284249628, -0.013746048320421742, -0.019183681455931016, -0.5555891390289884, -2.310849818235362, -6.009170036508204]\n"
     ]
    },
    {
     "name": "stdout",
     "output_type": "stream",
     "text": [
      "last point: [2.2275966007871904, 0.7926858013154365, 0.7292638891720685, 0.02216127436345485, 0.09318200495578755, 0.08886189707587039]\n"
     ]
    },
    {
     "name": "stdout",
     "output_type": "stream",
     "text": [
      "----------------\n"
     ]
    },
    {
     "name": "stdout",
     "output_type": "stream",
     "text": [
      "  \n"
     ]
    },
    {
     "name": "stdout",
     "output_type": "stream",
     "text": [
      "index: 69; αE: 1.4141646586345382\n"
     ]
    },
    {
     "name": "stdout",
     "output_type": "stream",
     "text": [
      "u0: [2.2275966007871904, 0.7926858013154365, 0.7292638891720685, 0.02216127436345485, 0.09318200495578755, 0.08886189707587039]\n"
     ]
    },
    {
     "name": "stdout",
     "output_type": "stream",
     "text": [
      "calc LSE\n"
     ]
    },
    {
     "name": "stdout",
     "output_type": "stream",
     "text": [
      "Λ: [-0.0014406480759977687, -0.013476796046099622, -0.019280649794563738, -0.5555836814108878, -2.320579186695117, -5.949082150105683]\n"
     ]
    },
    {
     "name": "stdout",
     "output_type": "stream",
     "text": [
      "last point: [6.017162654766264, 0.37917194596311726, 0.8255968265845844, 0.021516348456542517, 0.0934584529173797, 0.08961133058828723]\n"
     ]
    },
    {
     "name": "stdout",
     "output_type": "stream",
     "text": [
      "----------------\n"
     ]
    },
    {
     "name": "stdout",
     "output_type": "stream",
     "text": [
      "  \n"
     ]
    },
    {
     "name": "stdout",
     "output_type": "stream",
     "text": [
      "index: 70; αE: 1.433975903614458\n"
     ]
    },
    {
     "name": "stdout",
     "output_type": "stream",
     "text": [
      "u0: [6.017162654766264, 0.37917194596311726, 0.8255968265845844, 0.021516348456542517, 0.0934584529173797, 0.08961133058828723]\n"
     ]
    },
    {
     "name": "stdout",
     "output_type": "stream",
     "text": [
      "calc LSE\n"
     ]
    },
    {
     "name": "stdout",
     "output_type": "stream",
     "text": [
      "Λ: [-9.276673265344514e-5, -0.013806354179695526, -0.019173617544884045, -0.5555772005985795, -2.3316578065112674, -5.8889143134006305]\n"
     ]
    },
    {
     "name": "stdout",
     "output_type": "stream",
     "text": [
      "last point: [8.237755434998908, 0.3477129804778218, 0.828259890040228, 0.021329608410851582, 0.09350107692898635, 0.09013009403582374]\n"
     ]
    },
    {
     "name": "stdout",
     "output_type": "stream",
     "text": [
      "----------------\n"
     ]
    },
    {
     "name": "stdout",
     "output_type": "stream",
     "text": [
      "  \n"
     ]
    },
    {
     "name": "stdout",
     "output_type": "stream",
     "text": [
      "index: 71; αE: 1.4537871485943774\n"
     ]
    },
    {
     "name": "stdout",
     "output_type": "stream",
     "text": [
      "u0: [8.237755434998908, 0.3477129804778218, 0.828259890040228, 0.021329608410851582, 0.09350107692898635, 0.09013009403582374]\n"
     ]
    },
    {
     "name": "stdout",
     "output_type": "stream",
     "text": [
      "calc LSE\n"
     ]
    },
    {
     "name": "stdout",
     "output_type": "stream",
     "text": [
      "Λ: [0.001277098033114181, -0.013771700385383369, -0.019340756020149747, -0.5555798673417465, -2.3424103752061907, -5.830211306685875]\n"
     ]
    },
    {
     "name": "stdout",
     "output_type": "stream",
     "text": [
      "last point: [1.3613592914708843, 0.7637160520925437, 0.747581166372366, 0.01967417702905517, 0.09331840712966993, 0.09042642940771001]\n"
     ]
    },
    {
     "name": "stdout",
     "output_type": "stream",
     "text": [
      "----------------\n"
     ]
    },
    {
     "name": "stdout",
     "output_type": "stream",
     "text": [
      "  \n"
     ]
    },
    {
     "name": "stdout",
     "output_type": "stream",
     "text": [
      "index: 72; αE: 1.4735983935742971\n"
     ]
    },
    {
     "name": "stdout",
     "output_type": "stream",
     "text": [
      "u0: [1.3613592914708843, 0.7637160520925437, 0.747581166372366, 0.01967417702905517, 0.09331840712966993, 0.09042642940771001]\n"
     ]
    },
    {
     "name": "stdout",
     "output_type": "stream",
     "text": [
      "calc LSE\n"
     ]
    },
    {
     "name": "stdout",
     "output_type": "stream",
     "text": [
      "Λ: [0.004232347718464087, -0.013922424191707115, -0.019364063744587302, -0.5555922289911727, -2.3528658064217516, -5.768366634980369]\n"
     ]
    },
    {
     "name": "stdout",
     "output_type": "stream",
     "text": [
      "last point: [1.4208422726527694, 0.7680818758388261, 0.7457518816079035, 0.019460194042353086, 0.09333982207650882, 0.09091423112842201]\n"
     ]
    },
    {
     "name": "stdout",
     "output_type": "stream",
     "text": [
      "----------------\n"
     ]
    },
    {
     "name": "stdout",
     "output_type": "stream",
     "text": [
      "  \n"
     ]
    },
    {
     "name": "stdout",
     "output_type": "stream",
     "text": [
      "index: 73; αE: 1.4934096385542168\n"
     ]
    },
    {
     "name": "stdout",
     "output_type": "stream",
     "text": [
      "u0: [1.4208422726527694, 0.7680818758388261, 0.7457518816079035, 0.019460194042353086, 0.09333982207650882, 0.09091423112842201]\n"
     ]
    },
    {
     "name": "stdout",
     "output_type": "stream",
     "text": [
      "calc LSE\n"
     ]
    },
    {
     "name": "stdout",
     "output_type": "stream",
     "text": [
      "Λ: [-0.005553049712305447, -0.012278178244644786, -0.019339126197727617, -0.5555600478077236, -2.362856823406651, -5.704066914372136]\n"
     ]
    },
    {
     "name": "stdout",
     "output_type": "stream",
     "text": [
      "last point: [5.91659238300686, 0.3800981950257484, 0.826608040405254, 0.02009141667217493, 0.09357134083659294, 0.09159955913140687]\n"
     ]
    },
    {
     "name": "stdout",
     "output_type": "stream",
     "text": [
      "----------------\n"
     ]
    },
    {
     "name": "stdout",
     "output_type": "stream",
     "text": [
      "  \n"
     ]
    },
    {
     "name": "stdout",
     "output_type": "stream",
     "text": [
      "index: 74; αE: 1.5132208835341365\n"
     ]
    },
    {
     "name": "stdout",
     "output_type": "stream",
     "text": [
      "u0: [5.91659238300686, 0.3800981950257484, 0.826608040405254, 0.02009141667217493, 0.09357134083659294, 0.09159955913140687]\n"
     ]
    },
    {
     "name": "stdout",
     "output_type": "stream",
     "text": [
      "calc LSE\n"
     ]
    },
    {
     "name": "stdout",
     "output_type": "stream",
     "text": [
      "Λ: [-0.00632070233541411, -0.011272541500865124, -0.01940482107640831, -0.5555597693497352, -2.37280817800855, -5.641016018342732]\n"
     ]
    },
    {
     "name": "stdout",
     "output_type": "stream",
     "text": [
      "last point: [4.891957538769923, 0.40142722857448443, 0.8246362797508385, 0.01964517985560828, 0.09359013116890458, 0.09207472720533424]\n"
     ]
    },
    {
     "name": "stdout",
     "output_type": "stream",
     "text": [
      "----------------\n"
     ]
    },
    {
     "name": "stdout",
     "output_type": "stream",
     "text": [
      "  \n"
     ]
    },
    {
     "name": "stdout",
     "output_type": "stream",
     "text": [
      "index: 75; αE: 1.5330321285140562\n"
     ]
    },
    {
     "name": "stdout",
     "output_type": "stream",
     "text": [
      "u0: [4.891957538769923, 0.40142722857448443, 0.8246362797508385, 0.01964517985560828, 0.09359013116890458, 0.09207472720533424]\n"
     ]
    },
    {
     "name": "stdout",
     "output_type": "stream",
     "text": [
      "calc LSE\n"
     ]
    },
    {
     "name": "stdout",
     "output_type": "stream",
     "text": [
      "Λ: [-0.00022673836042574089, -0.013865132774261534, -0.01934094511984529, -0.555582688981815, -2.3833807717859163, -5.578267414865619]\n"
     ]
    },
    {
     "name": "stdout",
     "output_type": "stream",
     "text": [
      "last point: [1.8325762671368757, 0.78281035858762, 0.7376800456072015, 0.019171476910056367, 0.09339282512008677, 0.0923363585948563]\n"
     ]
    },
    {
     "name": "stdout",
     "output_type": "stream",
     "text": [
      "----------------\n"
     ]
    },
    {
     "name": "stdout",
     "output_type": "stream",
     "text": [
      "  \n"
     ]
    },
    {
     "name": "stdout",
     "output_type": "stream",
     "text": [
      "index: 76; αE: 1.552843373493976\n"
     ]
    },
    {
     "name": "stdout",
     "output_type": "stream",
     "text": [
      "u0: [1.8325762671368757, 0.78281035858762, 0.7376800456072015, 0.019171476910056367, 0.09339282512008677, 0.0923363585948563]\n"
     ]
    },
    {
     "name": "stdout",
     "output_type": "stream",
     "text": [
      "calc LSE\n"
     ]
    },
    {
     "name": "stdout",
     "output_type": "stream",
     "text": [
      "Λ: [-0.0004446875964329526, -0.013718601178768514, -0.01927320373329782, -0.5555767697973553, -2.3922033846571567, -5.514663431910912]\n"
     ]
    },
    {
     "name": "stdout",
     "output_type": "stream",
     "text": [
      "last point: [2.426766624181027, 0.7865276933257862, 0.732759705076967, 0.019429211561069103, 0.093400097004722, 0.09279043276145872]\n"
     ]
    },
    {
     "name": "stdout",
     "output_type": "stream",
     "text": [
      "----------------\n"
     ]
    },
    {
     "name": "stdout",
     "output_type": "stream",
     "text": [
      "  \n"
     ]
    },
    {
     "name": "stdout",
     "output_type": "stream",
     "text": [
      "index: 77; αE: 1.5726546184738956\n"
     ]
    },
    {
     "name": "stdout",
     "output_type": "stream",
     "text": [
      "u0: [2.426766624181027, 0.7865276933257862, 0.732759705076967, 0.019429211561069103, 0.093400097004722, 0.09279043276145872]\n"
     ]
    },
    {
     "name": "stdout",
     "output_type": "stream",
     "text": [
      "calc LSE\n"
     ]
    },
    {
     "name": "stdout",
     "output_type": "stream",
     "text": [
      "Λ: [-0.0005309097128089632, -0.01409077782567654, -0.019618346542145636, -0.5555888998477772, -2.4016290001490255, -5.446796273773107]\n"
     ]
    },
    {
     "name": "stdout",
     "output_type": "stream",
     "text": [
      "last point: [1.5117125580129267, 0.5666314370819615, 0.800306025545348, 0.017939158790944577, 0.09360392739971013, 0.09342950016265067]\n"
     ]
    },
    {
     "name": "stdout",
     "output_type": "stream",
     "text": [
      "----------------\n"
     ]
    },
    {
     "name": "stdout",
     "output_type": "stream",
     "text": [
      "  \n"
     ]
    },
    {
     "name": "stdout",
     "output_type": "stream",
     "text": [
      "index: 78; αE: 1.5924658634538154\n"
     ]
    },
    {
     "name": "stdout",
     "output_type": "stream",
     "text": [
      "u0: [1.5117125580129267, 0.5666314370819615, 0.800306025545348, 0.017939158790944577, 0.09360392739971013, 0.09342950016265067]\n"
     ]
    },
    {
     "name": "stdout",
     "output_type": "stream",
     "text": [
      "calc LSE\n"
     ]
    },
    {
     "name": "stdout",
     "output_type": "stream",
     "text": [
      "Λ: [0.0013270648691263878, -0.014056676313679503, -0.019538922013697124, -0.5555792229824834, -2.4100465831709013, -5.381160926179324]\n"
     ]
    },
    {
     "name": "stdout",
     "output_type": "stream",
     "text": [
      "last point: [1.1313244384001566, 0.6920693662584706, 0.7726077024994371, 0.017144308052406868, 0.09356358262916425, 0.09382796247113974]\n"
     ]
    },
    {
     "name": "stdout",
     "output_type": "stream",
     "text": [
      "----------------\n"
     ]
    },
    {
     "name": "stdout",
     "output_type": "stream",
     "text": [
      "  \n"
     ]
    },
    {
     "name": "stdout",
     "output_type": "stream",
     "text": [
      "index: 79; αE: 1.6122771084337348\n"
     ]
    },
    {
     "name": "stdout",
     "output_type": "stream",
     "text": [
      "u0: [1.1313244384001566, 0.6920693662584706, 0.7726077024994371, 0.017144308052406868, 0.09356358262916425, 0.09382796247113974]\n"
     ]
    },
    {
     "name": "stdout",
     "output_type": "stream",
     "text": [
      "calc LSE\n"
     ]
    },
    {
     "name": "stdout",
     "output_type": "stream",
     "text": [
      "Λ: [-0.0026081425324893347, -0.013394681915310807, -0.019603942320317796, -0.5555720334846114, -2.418488490286184, -5.312595565313035]\n"
     ]
    },
    {
     "name": "stdout",
     "output_type": "stream",
     "text": [
      "last point: [2.5722599361527165, 0.48325527413115477, 0.8148607462760851, 0.017638628775979853, 0.09369089355766967, 0.09438350890375907]\n"
     ]
    },
    {
     "name": "stdout",
     "output_type": "stream",
     "text": [
      "----------------\n"
     ]
    },
    {
     "name": "stdout",
     "output_type": "stream",
     "text": [
      "  \n"
     ]
    },
    {
     "name": "stdout",
     "output_type": "stream",
     "text": [
      "index: 80; αE: 1.6320883534136545\n"
     ]
    },
    {
     "name": "stdout",
     "output_type": "stream",
     "text": [
      "u0: [2.5722599361527165, 0.48325527413115477, 0.8148607462760851, 0.017638628775979853, 0.09369089355766967, 0.09438350890375907]\n"
     ]
    },
    {
     "name": "stdout",
     "output_type": "stream",
     "text": [
      "calc LSE\n"
     ]
    },
    {
     "name": "stdout",
     "output_type": "stream",
     "text": [
      "Λ: [-0.0014146994141144194, -0.013327819884262423, -0.019387323014903063, -0.5555617192557912, -2.4276374230414075, -5.243550582532223]\n"
     ]
    },
    {
     "name": "stdout",
     "output_type": "stream",
     "text": [
      "last point: [1.6657168078154148, 0.7731989117755531, 0.7437092646831984, 0.017262819250380135, 0.0935350739395765, 0.09466083666253364]\n"
     ]
    },
    {
     "name": "stdout",
     "output_type": "stream",
     "text": [
      "----------------\n"
     ]
    },
    {
     "name": "stdout",
     "output_type": "stream",
     "text": [
      "  \n"
     ]
    },
    {
     "name": "stdout",
     "output_type": "stream",
     "text": [
      "index: 81; αE: 1.6518995983935743\n"
     ]
    },
    {
     "name": "stdout",
     "output_type": "stream",
     "text": [
      "u0: [1.6657168078154148, 0.7731989117755531, 0.7437092646831984, 0.017262819250380135, 0.0935350739395765, 0.09466083666253364]\n"
     ]
    },
    {
     "name": "stdout",
     "output_type": "stream",
     "text": [
      "calc LSE\n"
     ]
    },
    {
     "name": "stdout",
     "output_type": "stream",
     "text": [
      "Λ: [-0.0026265870598618335, -0.013920101988743445, -0.01909109282827304, -0.5555714875054684, -2.4353469449738427, -5.1750214824360885]\n"
     ]
    },
    {
     "name": "stdout",
     "output_type": "stream",
     "text": [
      "last point: [5.784963807714286, 0.7636059331138485, 0.7313661024640966, 0.01849354870851964, 0.09350062148153453, 0.09505057217574504]\n"
     ]
    },
    {
     "name": "stdout",
     "output_type": "stream",
     "text": [
      "----------------\n"
     ]
    },
    {
     "name": "stdout",
     "output_type": "stream",
     "text": [
      "  \n"
     ]
    },
    {
     "name": "stdout",
     "output_type": "stream",
     "text": [
      "index: 82; αE: 1.671710843373494\n"
     ]
    },
    {
     "name": "stdout",
     "output_type": "stream",
     "text": [
      "u0: [5.784963807714286, 0.7636059331138485, 0.7313661024640966, 0.01849354870851964, 0.09350062148153453, 0.09505057217574504]\n"
     ]
    },
    {
     "name": "stdout",
     "output_type": "stream",
     "text": [
      "calc LSE\n"
     ]
    },
    {
     "name": "stdout",
     "output_type": "stream",
     "text": [
      "Λ: [0.0003538188870996858, -0.013847489648373481, -0.019375032191470604, -0.5555785569800088, -2.442771372792262, -5.1039668389591695]\n"
     ]
    },
    {
     "name": "stdout",
     "output_type": "stream",
     "text": [
      "last point: [2.429276174401618, 0.7813535798222704, 0.7363568419326559, 0.017382474991378013, 0.09355728048576956, 0.09552372344907133]\n"
     ]
    },
    {
     "name": "stdout",
     "output_type": "stream",
     "text": [
      "----------------\n"
     ]
    },
    {
     "name": "stdout",
     "output_type": "stream",
     "text": [
      "  \n"
     ]
    },
    {
     "name": "stdout",
     "output_type": "stream",
     "text": [
      "index: 83; αE: 1.6915220883534137\n"
     ]
    },
    {
     "name": "stdout",
     "output_type": "stream",
     "text": [
      "u0: [2.429276174401618, 0.7813535798222704, 0.7363568419326559, 0.017382474991378013, 0.09355728048576956, 0.09552372344907133]\n"
     ]
    },
    {
     "name": "stdout",
     "output_type": "stream",
     "text": [
      "calc LSE\n"
     ]
    },
    {
     "name": "stdout",
     "output_type": "stream",
     "text": [
      "Λ: [0.003595043017222161, -0.014289120733740718, -0.01961542951030569, -0.5555933063927043, -2.4497700705503496, -5.030305192940479]\n"
     ]
    },
    {
     "name": "stdout",
     "output_type": "stream",
     "text": [
      "last point: [1.2079397738556392, 0.7178667880172005, 0.7659360858565935, 0.015637866624999445, 0.09366984289781322, 0.09604621624320196]\n"
     ]
    },
    {
     "name": "stdout",
     "output_type": "stream",
     "text": [
      "----------------\n"
     ]
    },
    {
     "name": "stdout",
     "output_type": "stream",
     "text": [
      "  \n"
     ]
    },
    {
     "name": "stdout",
     "output_type": "stream",
     "text": [
      "index: 84; αE: 1.7113333333333334\n"
     ]
    },
    {
     "name": "stdout",
     "output_type": "stream",
     "text": [
      "u0: [1.2079397738556392, 0.7178667880172005, 0.7659360858565935, 0.015637866624999445, 0.09366984289781322, 0.09604621624320196]\n"
     ]
    },
    {
     "name": "stdout",
     "output_type": "stream",
     "text": [
      "calc LSE\n"
     ]
    },
    {
     "name": "stdout",
     "output_type": "stream",
     "text": [
      "Λ: [0.002026345884958871, -0.014092977170764123, -0.019722142815414907, -0.5555860085569353, -2.4560619443654854, -4.957756098270751]\n"
     ]
    },
    {
     "name": "stdout",
     "output_type": "stream",
     "text": [
      "last point: [1.850558841825909, 0.5340786507001775, 0.8076994136876834, 0.01586842624771258, 0.09379721950850338, 0.09657823674103552]\n"
     ]
    },
    {
     "name": "stdout",
     "output_type": "stream",
     "text": [
      "----------------\n"
     ]
    },
    {
     "name": "stdout",
     "output_type": "stream",
     "text": [
      "  \n"
     ]
    },
    {
     "name": "stdout",
     "output_type": "stream",
     "text": [
      "index: 85; αE: 1.731144578313253\n"
     ]
    },
    {
     "name": "stdout",
     "output_type": "stream",
     "text": [
      "u0: [1.850558841825909, 0.5340786507001775, 0.8076994136876834, 0.01586842624771258, 0.09379721950850338, 0.09657823674103552]\n"
     ]
    },
    {
     "name": "stdout",
     "output_type": "stream",
     "text": [
      "calc LSE\n"
     ]
    },
    {
     "name": "stdout",
     "output_type": "stream",
     "text": [
      "Λ: [-0.002463939207948955, -0.012726052896295262, -0.01966687086752834, -0.5555940436397842, -2.4627035331824874, -4.883055322270019]\n"
     ]
    },
    {
     "name": "stdout",
     "output_type": "stream",
     "text": [
      "last point: [6.524659094315727, 0.36720130995502137, 0.8309928049959706, 0.01617041464559111, 0.0938924011244604, 0.09707434119526953]\n"
     ]
    },
    {
     "name": "stdout",
     "output_type": "stream",
     "text": [
      "----------------\n"
     ]
    },
    {
     "name": "stdout",
     "output_type": "stream",
     "text": [
      "  \n"
     ]
    },
    {
     "name": "stdout",
     "output_type": "stream",
     "text": [
      "index: 86; αE: 1.7509558232931728\n"
     ]
    },
    {
     "name": "stdout",
     "output_type": "stream",
     "text": [
      "u0: [6.524659094315727, 0.36720130995502137, 0.8309928049959706, 0.01617041464559111, 0.0938924011244604, 0.09707434119526953]\n"
     ]
    },
    {
     "name": "stdout",
     "output_type": "stream",
     "text": [
      "calc LSE\n"
     ]
    },
    {
     "name": "stdout",
     "output_type": "stream",
     "text": [
      "Λ: [-0.0022119276502252563, -0.013260249807036273, -0.01969601954618009, -0.5555748283032585, -2.4675892921122986, -4.8082716548631]\n"
     ]
    },
    {
     "name": "stdout",
     "output_type": "stream",
     "text": [
      "last point: [4.696672135739382, 0.40489619314761716, 0.8272697720020792, 0.015710153820942936, 0.09390123114514377, 0.09748224527543073]\n"
     ]
    },
    {
     "name": "stdout",
     "output_type": "stream",
     "text": [
      "----------------\n"
     ]
    },
    {
     "name": "stdout",
     "output_type": "stream",
     "text": [
      "  \n"
     ]
    },
    {
     "name": "stdout",
     "output_type": "stream",
     "text": [
      "index: 87; αE: 1.7707670682730923\n"
     ]
    },
    {
     "name": "stdout",
     "output_type": "stream",
     "text": [
      "u0: [4.696672135739382, 0.40489619314761716, 0.8272697720020792, 0.015710153820942936, 0.09390123114514377, 0.09748224527543073]\n"
     ]
    },
    {
     "name": "stdout",
     "output_type": "stream",
     "text": [
      "calc LSE\n"
     ]
    },
    {
     "name": "stdout",
     "output_type": "stream",
     "text": [
      "Λ: [-0.0005361798930346225, -0.013764364076838887, -0.019609830402787794, -0.5555642848291188, -2.4732263887886683, -4.731746910929035]\n"
     ]
    },
    {
     "name": "stdout",
     "output_type": "stream",
     "text": [
      "last point: [1.259242060749433, 0.7234201699752021, 0.7647618590354446, 0.014492634276481309, 0.09376231636020553, 0.097742438825767]\n"
     ]
    },
    {
     "name": "stdout",
     "output_type": "stream",
     "text": [
      "----------------\n"
     ]
    },
    {
     "name": "stdout",
     "output_type": "stream",
     "text": [
      "  \n"
     ]
    },
    {
     "name": "stdout",
     "output_type": "stream",
     "text": [
      "index: 88; αE: 1.790578313253012\n"
     ]
    },
    {
     "name": "stdout",
     "output_type": "stream",
     "text": [
      "u0: [1.259242060749433, 0.7234201699752021, 0.7647618590354446, 0.014492634276481309, 0.09376231636020553, 0.097742438825767]\n"
     ]
    },
    {
     "name": "stdout",
     "output_type": "stream",
     "text": [
      "calc LSE\n"
     ]
    },
    {
     "name": "stdout",
     "output_type": "stream",
     "text": [
      "Λ: [0.0034532862519125003, -0.014420522788668693, -0.019764234745818423, -0.5555898112113403, -2.477195922519408, -4.655091440851471]\n"
     ]
    },
    {
     "name": "stdout",
     "output_type": "stream",
     "text": [
      "last point: [1.2151112659791075, 0.643066850613682, 0.7867529540847944, 0.01427597467871872, 0.0938425639699292, 0.0982095972905735]\n"
     ]
    },
    {
     "name": "stdout",
     "output_type": "stream",
     "text": [
      "----------------\n"
     ]
    },
    {
     "name": "stdout",
     "output_type": "stream",
     "text": [
      "  \n"
     ]
    },
    {
     "name": "stdout",
     "output_type": "stream",
     "text": [
      "index: 89; αE: 1.8103895582329317\n"
     ]
    },
    {
     "name": "stdout",
     "output_type": "stream",
     "text": [
      "u0: [1.2151112659791075, 0.643066850613682, 0.7867529540847944, 0.01427597467871872, 0.0938425639699292, 0.0982095972905735]\n"
     ]
    },
    {
     "name": "stdout",
     "output_type": "stream",
     "text": [
      "calc LSE\n"
     ]
    },
    {
     "name": "stdout",
     "output_type": "stream",
     "text": [
      "Λ: [-0.004107433358590287, -0.010642897552823752, -0.0165209728761064, -0.5555949857443699, -2.4832398620087472, -4.577825462784151]\n"
     ]
    },
    {
     "name": "stdout",
     "output_type": "stream",
     "text": [
      "last point: [29.77728958590769, 0.33411735725769953, 0.8117031474674761, 0.015507282286397741, 0.09397458873681352, 0.0987269307123794]\n"
     ]
    },
    {
     "name": "stdout",
     "output_type": "stream",
     "text": [
      "----------------\n"
     ]
    },
    {
     "name": "stdout",
     "output_type": "stream",
     "text": [
      "  \n"
     ]
    },
    {
     "name": "stdout",
     "output_type": "stream",
     "text": [
      "index: 90; αE: 1.8302008032128514\n"
     ]
    },
    {
     "name": "stdout",
     "output_type": "stream",
     "text": [
      "u0: [29.77728958590769, 0.33411735725769953, 0.8117031474674761, 0.015507282286397741, 0.09397458873681352, 0.0987269307123794]\n"
     ]
    },
    {
     "name": "stdout",
     "output_type": "stream",
     "text": [
      "calc LSE\n"
     ]
    },
    {
     "name": "stdout",
     "output_type": "stream",
     "text": [
      "Λ: [0.0008473200364623438, -0.014549379946168846, -0.019842489887353865, -0.5555946149933303, -2.4824685161869424, -4.496851267491837]\n"
     ]
    },
    {
     "name": "stdout",
     "output_type": "stream",
     "text": [
      "last point: [1.3168261095551268, 0.6128700289198367, 0.7938364236044676, 0.013779818486591227, 0.09390800765823468, 0.09903680150748156]\n"
     ]
    },
    {
     "name": "stdout",
     "output_type": "stream",
     "text": [
      "----------------\n"
     ]
    },
    {
     "name": "stdout",
     "output_type": "stream",
     "text": [
      "  \n"
     ]
    },
    {
     "name": "stdout",
     "output_type": "stream",
     "text": [
      "index: 91; αE: 1.850012048192771\n"
     ]
    },
    {
     "name": "stdout",
     "output_type": "stream",
     "text": [
      "u0: [1.3168261095551268, 0.6128700289198367, 0.7938364236044676, 0.013779818486591227, 0.09390800765823468, 0.09903680150748156]\n"
     ]
    },
    {
     "name": "stdout",
     "output_type": "stream",
     "text": [
      "calc LSE\n"
     ]
    },
    {
     "name": "stdout",
     "output_type": "stream",
     "text": [
      "Λ: [-0.006191755425206777, -0.01501037850911039, -0.01442482388145905, -0.5555589870233452, -2.4856424421422414, -4.417047329848426]\n"
     ]
    },
    {
     "name": "stdout",
     "output_type": "stream",
     "text": [
      "last point: [28.793629757376646, 0.5286906368908261, 0.7681084468043478, 0.015099212042864654, 0.09376020650300039, 0.09926341856331453]\n"
     ]
    },
    {
     "name": "stdout",
     "output_type": "stream",
     "text": [
      "----------------\n"
     ]
    },
    {
     "name": "stdout",
     "output_type": "stream",
     "text": [
      "  \n"
     ]
    },
    {
     "name": "stdout",
     "output_type": "stream",
     "text": [
      "index: 92; αE: 1.8698232931726908\n"
     ]
    },
    {
     "name": "stdout",
     "output_type": "stream",
     "text": [
      "u0: [28.793629757376646, 0.5286906368908261, 0.7681084468043478, 0.015099212042864654, 0.09376020650300039, 0.09926341856331453]\n"
     ]
    },
    {
     "name": "stdout",
     "output_type": "stream",
     "text": [
      "calc LSE\n"
     ]
    },
    {
     "name": "stdout",
     "output_type": "stream",
     "text": [
      "Λ: [0.0014579976545067111, -0.014232089474766207, -0.019563416442475518, -0.5555972938885808, -2.4828430901643346, -4.337438616739615]\n"
     ]
    },
    {
     "name": "stdout",
     "output_type": "stream",
     "text": [
      "last point: [3.1426855221015835, 0.7708544167270227, 0.73990087444215, 0.014400277115293203, 0.0937982866942052, 0.09967331062408134]\n"
     ]
    },
    {
     "name": "stdout",
     "output_type": "stream",
     "text": [
      "----------------\n"
     ]
    },
    {
     "name": "stdout",
     "output_type": "stream",
     "text": [
      "  \n"
     ]
    },
    {
     "name": "stdout",
     "output_type": "stream",
     "text": [
      "index: 93; αE: 1.8896345381526105\n"
     ]
    },
    {
     "name": "stdout",
     "output_type": "stream",
     "text": [
      "u0: [3.1426855221015835, 0.7708544167270227, 0.73990087444215, 0.014400277115293203, 0.0937982866942052, 0.09967331062408134]\n"
     ]
    },
    {
     "name": "stdout",
     "output_type": "stream",
     "text": [
      "calc LSE\n"
     ]
    },
    {
     "name": "stdout",
     "output_type": "stream",
     "text": [
      "Λ: [0.0002476718889662424, -0.014377539809304138, -0.019954873443077767, -0.5555995094327093, -2.4798874694125423, -4.254303855480841]\n"
     ]
    },
    {
     "name": "stdout",
     "output_type": "stream",
     "text": [
      "last point: [3.2039918560488623, 0.4550607135672724, 0.8223087944306214, 0.013373025391817428, 0.09405452028039289, 0.10028430390954217]\n"
     ]
    },
    {
     "name": "stdout",
     "output_type": "stream",
     "text": [
      "----------------\n"
     ]
    },
    {
     "name": "stdout",
     "output_type": "stream",
     "text": [
      "  \n"
     ]
    },
    {
     "name": "stdout",
     "output_type": "stream",
     "text": [
      "index: 94; αE: 1.9094457831325302\n"
     ]
    },
    {
     "name": "stdout",
     "output_type": "stream",
     "text": [
      "u0: [3.2039918560488623, 0.4550607135672724, 0.8223087944306214, 0.013373025391817428, 0.09405452028039289, 0.10028430390954217]\n"
     ]
    },
    {
     "name": "stdout",
     "output_type": "stream",
     "text": [
      "calc LSE\n"
     ]
    },
    {
     "name": "stdout",
     "output_type": "stream",
     "text": [
      "Λ: [0.00039247125867688474, -0.013908607492090523, -0.01973480064058595, -0.5555695821932956, -2.4750197074082916, -4.173210054463878]\n"
     ]
    },
    {
     "name": "stdout",
     "output_type": "stream",
     "text": [
      "last point: [1.5417133800123444, 0.7485343075494318, 0.7562919964685043, 0.012737213667303123, 0.09390306800595093, 0.10049484430118744]\n"
     ]
    },
    {
     "name": "stdout",
     "output_type": "stream",
     "text": [
      "----------------\n"
     ]
    },
    {
     "name": "stdout",
     "output_type": "stream",
     "text": [
      "  \n"
     ]
    },
    {
     "name": "stdout",
     "output_type": "stream",
     "text": [
      "index: 95; αE: 1.9292570281124497\n"
     ]
    },
    {
     "name": "stdout",
     "output_type": "stream",
     "text": [
      "u0: [1.5417133800123444, 0.7485343075494318, 0.7562919964685043, 0.012737213667303123, 0.09390306800595093, 0.10049484430118744]\n"
     ]
    },
    {
     "name": "stdout",
     "output_type": "stream",
     "text": [
      "calc LSE\n"
     ]
    },
    {
     "name": "stdout",
     "output_type": "stream",
     "text": [
      "Λ: [-0.002113866956147055, -0.01337246773802188, -0.0199325602698259, -0.5555584284846559, -2.467759692785034, -4.089825883814735]\n"
     ]
    },
    {
     "name": "stdout",
     "output_type": "stream",
     "text": [
      "last point: [1.8960215265774145, 0.5363208742940826, 0.8096957210497443, 0.01252063745530874, 0.09406877419445203, 0.1010061145991827]\n"
     ]
    },
    {
     "name": "stdout",
     "output_type": "stream",
     "text": [
      "----------------\n"
     ]
    },
    {
     "name": "stdout",
     "output_type": "stream",
     "text": [
      "  \n"
     ]
    },
    {
     "name": "stdout",
     "output_type": "stream",
     "text": [
      "index: 96; αE: 1.9490682730923694\n"
     ]
    },
    {
     "name": "stdout",
     "output_type": "stream",
     "text": [
      "u0: [1.8960215265774145, 0.5363208742940826, 0.8096957210497443, 0.01252063745530874, 0.09406877419445203, 0.1010061145991827]\n"
     ]
    },
    {
     "name": "stdout",
     "output_type": "stream",
     "text": [
      "calc LSE\n"
     ]
    },
    {
     "name": "stdout",
     "output_type": "stream",
     "text": [
      "Λ: [0.0011955627797617541, -0.014377874644635073, -0.019829982212531114, -0.5555992072977389, -2.4584641424531113, -4.008251398801633]\n"
     ]
    },
    {
     "name": "stdout",
     "output_type": "stream",
     "text": [
      "last point: [1.7217042690112165, 0.7552236496891298, 0.7532747237836027, 0.01231725777632309, 0.09394104128098185, 0.10122676237822435]\n"
     ]
    },
    {
     "name": "stdout",
     "output_type": "stream",
     "text": [
      "----------------\n"
     ]
    },
    {
     "name": "stdout",
     "output_type": "stream",
     "text": [
      "  \n"
     ]
    },
    {
     "name": "stdout",
     "output_type": "stream",
     "text": [
      "index: 97; αE: 1.9688795180722891\n"
     ]
    },
    {
     "name": "stdout",
     "output_type": "stream",
     "text": [
      "u0: [1.7217042690112165, 0.7552236496891298, 0.7532747237836027, 0.01231725777632309, 0.09394104128098185, 0.10122676237822435]\n"
     ]
    },
    {
     "name": "stdout",
     "output_type": "stream",
     "text": [
      "calc LSE\n"
     ]
    },
    {
     "name": "stdout",
     "output_type": "stream",
     "text": [
      "Λ: [-0.0009705569074328571, -0.013752965498384439, -0.019944514238303433, -0.5555740645636073, -2.4432191087804003, -3.926455549158051]\n"
     ]
    },
    {
     "name": "stdout",
     "output_type": "stream",
     "text": [
      "last point: [8.028156493052562, 0.34410498578284016, 0.8360050267556829, 0.012459213830780419, 0.09420551040818524, 0.1018199679130084]\n"
     ]
    },
    {
     "name": "stdout",
     "output_type": "stream",
     "text": [
      "----------------\n"
     ]
    },
    {
     "name": "stdout",
     "output_type": "stream",
     "text": [
      "  \n"
     ]
    },
    {
     "name": "stdout",
     "output_type": "stream",
     "text": [
      "index: 98; αE: 1.9886907630522088\n"
     ]
    },
    {
     "name": "stdout",
     "output_type": "stream",
     "text": [
      "u0: [8.028156493052562, 0.34410498578284016, 0.8360050267556829, 0.012459213830780419, 0.09420551040818524, 0.1018199679130084]\n"
     ]
    },
    {
     "name": "stdout",
     "output_type": "stream",
     "text": [
      "calc LSE\n"
     ]
    },
    {
     "name": "stdout",
     "output_type": "stream",
     "text": [
      "Λ: [-0.0010684560403741556, -0.0139116252678726, -0.02007131865596494, -0.5555690836251753, -2.424818833267061, -3.8461403487003034]\n"
     ]
    },
    {
     "name": "stdout",
     "output_type": "stream",
     "text": [
      "last point: [4.744111916230483, 0.40343358383765193, 0.8303903517583748, 0.011962275310677594, 0.0942037430468897, 0.10214799718612481]\n"
     ]
    },
    {
     "name": "stdout",
     "output_type": "stream",
     "text": [
      "----------------\n"
     ]
    },
    {
     "name": "stdout",
     "output_type": "stream",
     "text": [
      "  \n"
     ]
    },
    {
     "name": "stdout",
     "output_type": "stream",
     "text": [
      "index: 99; αE: 2.0085020080321283\n"
     ]
    },
    {
     "name": "stdout",
     "output_type": "stream",
     "text": [
      "u0: [4.744111916230483, 0.40343358383765193, 0.8303903517583748, 0.011962275310677594, 0.0942037430468897, 0.10214799718612481]\n"
     ]
    },
    {
     "name": "stdout",
     "output_type": "stream",
     "text": [
      "calc LSE\n"
     ]
    },
    {
     "name": "stdout",
     "output_type": "stream",
     "text": [
      "Λ: [-0.0008395716752094519, -0.01363701856491042, -0.02008455985926927, -0.5555600723041878, -2.401114223233098, -3.7674730549899285]\n"
     ]
    },
    {
     "name": "stdout",
     "output_type": "stream",
     "text": [
      "last point: [1.3603763746568382, 0.6204681859247825, 0.7939357155783702, 0.011072743691699449, 0.09412761240069945, 0.10239582465275932]\n"
     ]
    },
    {
     "name": "stdout",
     "output_type": "stream",
     "text": [
      "----------------\n"
     ]
    },
    {
     "name": "stdout",
     "output_type": "stream",
     "text": [
      "  \n"
     ]
    },
    {
     "name": "stdout",
     "output_type": "stream",
     "text": [
      "index: 100; αE: 2.028313253012048\n"
     ]
    },
    {
     "name": "stdout",
     "output_type": "stream",
     "text": [
      "u0: [1.3603763746568382, 0.6204681859247825, 0.7939357155783702, 0.011072743691699449, 0.09412761240069945, 0.10239582465275932]\n"
     ]
    },
    {
     "name": "stdout",
     "output_type": "stream",
     "text": [
      "calc LSE\n"
     ]
    },
    {
     "name": "stdout",
     "output_type": "stream",
     "text": [
      "Λ: [-0.00033182421054010427, -0.013705363455750842, -0.020122461488851728, -0.5555611342372893, -2.3702129011789768, -3.6919438359074674]\n"
     ]
    },
    {
     "name": "stdout",
     "output_type": "stream",
     "text": [
      "last point: [1.2953738578784226, 0.6527196211733753, 0.7866401609387004, 0.010698441715203075, 0.094134159942154, 0.10271454392651667]\n"
     ]
    },
    {
     "name": "stdout",
     "output_type": "stream",
     "text": [
      "----------------\n"
     ]
    },
    {
     "name": "stdout",
     "output_type": "stream",
     "text": [
      "  \n"
     ]
    },
    {
     "name": "stdout",
     "output_type": "stream",
     "text": [
      "index: 101; αE: 2.0481244979919677\n"
     ]
    },
    {
     "name": "stdout",
     "output_type": "stream",
     "text": [
      "u0: [1.2953738578784226, 0.6527196211733753, 0.7866401609387004, 0.010698441715203075, 0.094134159942154, 0.10271454392651667]\n"
     ]
    },
    {
     "name": "stdout",
     "output_type": "stream",
     "text": [
      "calc LSE\n"
     ]
    },
    {
     "name": "stdout",
     "output_type": "stream",
     "text": [
      "Λ: [-0.002268285289582982, -0.013946183247449902, -0.0199709741376485, -0.5555996313044289, -2.331289707118035, -3.6185756670958145]\n"
     ]
    },
    {
     "name": "stdout",
     "output_type": "stream",
     "text": [
      "last point: [13.9665449124368, 0.3019220242523069, 0.8375933463923206, 0.011310862872780967, 0.09433845559507605, 0.10321442963967567]\n"
     ]
    },
    {
     "name": "stdout",
     "output_type": "stream",
     "text": [
      "----------------\n"
     ]
    },
    {
     "name": "stdout",
     "output_type": "stream",
     "text": [
      "  \n"
     ]
    },
    {
     "name": "stdout",
     "output_type": "stream",
     "text": [
      "index: 102; αE: 2.0679357429718874\n"
     ]
    },
    {
     "name": "stdout",
     "output_type": "stream",
     "text": [
      "u0: [13.9665449124368, 0.3019220242523069, 0.8375933463923206, 0.011310862872780967, 0.09433845559507605, 0.10321442963967567]\n"
     ]
    },
    {
     "name": "stdout",
     "output_type": "stream",
     "text": [
      "calc LSE\n"
     ]
    },
    {
     "name": "stdout",
     "output_type": "stream",
     "text": [
      "Λ: [0.00015842732854365235, -0.013733048607432357, -0.020075364146121617, -0.5555781614035856, -2.2820119428579457, -3.551343061675146]\n"
     ]
    },
    {
     "name": "stdout",
     "output_type": "stream",
     "text": [
      "last point: [13.296769703404179, 0.304284442896455, 0.8381741142086685, 0.010956942995599885, 0.09436410255110105, 0.10353008815171276]\n"
     ]
    },
    {
     "name": "stdout",
     "output_type": "stream",
     "text": [
      "----------------\n"
     ]
    },
    {
     "name": "stdout",
     "output_type": "stream",
     "text": [
      "  \n"
     ]
    },
    {
     "name": "stdout",
     "output_type": "stream",
     "text": [
      "index: 103; αE: 2.087746987951807\n"
     ]
    },
    {
     "name": "stdout",
     "output_type": "stream",
     "text": [
      "u0: [13.296769703404179, 0.304284442896455, 0.8381741142086685, 0.010956942995599885, 0.09436410255110105, 0.10353008815171276]\n"
     ]
    },
    {
     "name": "stdout",
     "output_type": "stream",
     "text": [
      "calc LSE\n"
     ]
    },
    {
     "name": "stdout",
     "output_type": "stream",
     "text": [
      "Λ: [0.00428904237563216, -0.014329890048780804, -0.02036592058374024, -0.5555822940465369, -2.22220077888425, -3.489807742739422]\n"
     ]
    },
    {
     "name": "stdout",
     "output_type": "stream",
     "text": [
      "last point: [1.3254687752001337, 0.657506068306873, 0.7859766976930321, 0.009753786033890375, 0.09421218138953737, 0.10366087111651022]\n"
     ]
    },
    {
     "name": "stdout",
     "output_type": "stream",
     "text": [
      "----------------\n"
     ]
    },
    {
     "name": "stdout",
     "output_type": "stream",
     "text": [
      "  \n"
     ]
    },
    {
     "name": "stdout",
     "output_type": "stream",
     "text": [
      "index: 104; αE: 2.107558232931727\n"
     ]
    },
    {
     "name": "stdout",
     "output_type": "stream",
     "text": [
      "u0: [1.3254687752001337, 0.657506068306873, 0.7859766976930321, 0.009753786033890375, 0.09421218138953737, 0.10366087111651022]\n"
     ]
    },
    {
     "name": "stdout",
     "output_type": "stream",
     "text": [
      "calc LSE\n"
     ]
    },
    {
     "name": "stdout",
     "output_type": "stream",
     "text": [
      "Λ: [0.002743883628139973, -0.014822453650061426, -0.02047474315554617, -0.5556213149060476, -2.149925935734395, -3.434196716932662]\n"
     ]
    },
    {
     "name": "stdout",
     "output_type": "stream",
     "text": [
      "last point: [1.343193479353945, 0.6530222049488625, 0.7872673824066972, 0.009434784142020461, 0.09424378584380079, 0.10395381620276817]\n"
     ]
    },
    {
     "name": "stdout",
     "output_type": "stream",
     "text": [
      "----------------\n"
     ]
    },
    {
     "name": "stdout",
     "output_type": "stream",
     "text": [
      "  \n"
     ]
    },
    {
     "name": "stdout",
     "output_type": "stream",
     "text": [
      "index: 105; αE: 2.1273694779116465\n"
     ]
    },
    {
     "name": "stdout",
     "output_type": "stream",
     "text": [
      "u0: [1.343193479353945, 0.6530222049488625, 0.7872673824066972, 0.009434784142020461, 0.09424378584380079, 0.10395381620276817]\n"
     ]
    },
    {
     "name": "stdout",
     "output_type": "stream",
     "text": [
      "calc LSE\n"
     ]
    },
    {
     "name": "stdout",
     "output_type": "stream",
     "text": [
      "Λ: [0.004294895943939052, -0.014368537114346686, -0.02058584142198146, -0.5555826954867097, -2.0608239535026254, -3.3857961160293604]\n"
     ]
    },
    {
     "name": "stdout",
     "output_type": "stream",
     "text": [
      "last point: [1.3627404791639617, 0.6488583828687396, 0.7884686792846056, 0.009106383639066962, 0.0942762733577113, 0.10422927587592383]\n"
     ]
    },
    {
     "name": "stdout",
     "output_type": "stream",
     "text": [
      "----------------\n"
     ]
    },
    {
     "name": "stdout",
     "output_type": "stream",
     "text": [
      "  \n",
      "index: 106; αE: 2.1471807228915663\n"
     ]
    },
    {
     "name": "stdout",
     "output_type": "stream",
     "text": [
      "u0: [1.3627404791639617, 0.6488583828687396, 0.7884686792846056, 0.009106383639066962, 0.0942762733577113, 0.10422927587592383]\n"
     ]
    },
    {
     "name": "stdout",
     "output_type": "stream",
     "text": [
      "calc LSE\n"
     ]
    },
    {
     "name": "stdout",
     "output_type": "stream",
     "text": [
      "Λ: [0.0029417033202961433, -0.015018890203797678, -0.02078655052465901, -0.5556310862740635, -1.956719071415426, -3.3443302319228785]\n"
     ]
    },
    {
     "name": "stdout",
     "output_type": "stream",
     "text": [
      "last point: [4.59434090542813, 0.4087316644291642, 0.8317900335258638, 0.00924582800431482, 0.09442886194387226, 0.10459842076813415]\n"
     ]
    },
    {
     "name": "stdout",
     "output_type": "stream",
     "text": [
      "----------------\n"
     ]
    },
    {
     "name": "stdout",
     "output_type": "stream",
     "text": [
      "  \n"
     ]
    },
    {
     "name": "stdout",
     "output_type": "stream",
     "text": [
      "index: 107; αE: 2.166991967871486\n"
     ]
    },
    {
     "name": "stdout",
     "output_type": "stream",
     "text": [
      "u0: [4.59434090542813, 0.4087316644291642, 0.8317900335258638, 0.00924582800431482, 0.09442886194387226, 0.10459842076813415]\n"
     ]
    },
    {
     "name": "stdout",
     "output_type": "stream",
     "text": [
      "calc LSE\n"
     ]
    },
    {
     "name": "stdout",
     "output_type": "stream",
     "text": [
      "Λ: [-0.007842511424222832, -0.009124075061784297, -0.02014077022923031, -0.5555566498348687, -1.8341878465697774, -3.3119188548767493]\n"
     ]
    },
    {
     "name": "stdout",
     "output_type": "stream",
     "text": [
      "last point: [8.350231978225237, 0.719644265273926, 0.749698129579947, 0.009524403584594643, 0.09419354550195531, 0.10456383195082115]\n"
     ]
    },
    {
     "name": "stdout",
     "output_type": "stream",
     "text": [
      "----------------\n"
     ]
    },
    {
     "name": "stdout",
     "output_type": "stream",
     "text": [
      "  \n"
     ]
    },
    {
     "name": "stdout",
     "output_type": "stream",
     "text": [
      "index: 108; αE: 2.1868032128514057\n"
     ]
    },
    {
     "name": "stdout",
     "output_type": "stream",
     "text": [
      "u0: [8.350231978225237, 0.719644265273926, 0.749698129579947, 0.009524403584594643, 0.09419354550195531, 0.10456383195082115]\n"
     ]
    },
    {
     "name": "stdout",
     "output_type": "stream",
     "text": [
      "calc LSE\n"
     ]
    },
    {
     "name": "stdout",
     "output_type": "stream",
     "text": [
      "Λ: [0.0028434603967606026, -0.014848829271408688, -0.020759298411672778, -0.5555766194047865, -1.6898878860312723, -3.2844906579936937]\n"
     ]
    },
    {
     "name": "stdout",
     "output_type": "stream",
     "text": [
      "last point: [9.013549368151121, 0.33250062614809783, 0.8398781751795166, 0.0086278351380203, 0.09453602518312654, 0.10505095104998009]\n"
     ]
    },
    {
     "name": "stdout",
     "output_type": "stream",
     "text": [
      "----------------\n"
     ]
    },
    {
     "name": "stdout",
     "output_type": "stream",
     "text": [
      "  \n"
     ]
    },
    {
     "name": "stdout",
     "output_type": "stream",
     "text": [
      "index: 109; αE: 2.2066144578313254\n"
     ]
    },
    {
     "name": "stdout",
     "output_type": "stream",
     "text": [
      "u0: [9.013549368151121, 0.33250062614809783, 0.8398781751795166, 0.0086278351380203, 0.09453602518312654, 0.10505095104998009]\n"
     ]
    },
    {
     "name": "stdout",
     "output_type": "stream",
     "text": [
      "calc LSE\n"
     ]
    },
    {
     "name": "stdout",
     "output_type": "stream",
     "text": [
      "Λ: [-0.002326093025810974, -0.018977393395141973, -0.01635335211785564, -0.5555615043351263, -1.522266735648009, -3.26595141309527]\n"
     ]
    },
    {
     "name": "stdout",
     "output_type": "stream",
     "text": [
      "last point: [20.55008808931705, 0.6111664516477587, 0.7638956797462672, 0.008643674130582651, 0.09424881747642301, 0.10487713646778027]\n"
     ]
    },
    {
     "name": "stdout",
     "output_type": "stream",
     "text": [
      "----------------\n"
     ]
    },
    {
     "name": "stdout",
     "output_type": "stream",
     "text": [
      "  \n"
     ]
    },
    {
     "name": "stdout",
     "output_type": "stream",
     "text": [
      "index: 110; αE: 2.226425702811245\n"
     ]
    },
    {
     "name": "stdout",
     "output_type": "stream",
     "text": [
      "u0: [20.55008808931705, 0.6111664516477587, 0.7638956797462672, 0.008643674130582651, 0.09424881747642301, 0.10487713646778027]\n"
     ]
    },
    {
     "name": "stdout",
     "output_type": "stream",
     "text": [
      "calc LSE\n"
     ]
    },
    {
     "name": "stdout",
     "output_type": "stream",
     "text": [
      "Λ: [0.0012274206284646162, -0.01350845785462061, -0.022990530736093365, -0.5555689129605482, -1.3217803962080643, -3.2522837202690655]\n"
     ]
    },
    {
     "name": "stdout",
     "output_type": "stream",
     "text": [
      "last point: [1.4581217879195074, 0.6649730731920757, 0.7852385810845688, 0.007175281214306507, 0.09444679833331324, 0.10509508781958199]\n"
     ]
    },
    {
     "name": "stdout",
     "output_type": "stream",
     "text": [
      "----------------\n"
     ]
    },
    {
     "name": "stdout",
     "output_type": "stream",
     "text": [
      "  \n"
     ]
    },
    {
     "name": "stdout",
     "output_type": "stream",
     "text": [
      "index: 111; αE: 2.246236947791165\n"
     ]
    },
    {
     "name": "stdout",
     "output_type": "stream",
     "text": [
      "u0: [1.4581217879195074, 0.6649730731920757, 0.7852385810845688, 0.007175281214306507, 0.09444679833331324, 0.10509508781958199]\n"
     ]
    },
    {
     "name": "stdout",
     "output_type": "stream",
     "text": [
      "calc LSE\n"
     ]
    },
    {
     "name": "stdout",
     "output_type": "stream",
     "text": [
      "Λ: [-0.001414825093059053, -0.013409904030461033, -0.02426148815132505, -0.5555612617753659, -1.0750158880859515, -3.2459814540584]\n"
     ]
    },
    {
     "name": "stdout",
     "output_type": "stream",
     "text": [
      "last point: [15.652354236523589, 0.651812528212706, 0.7604337874147941, 0.007585406212915506, 0.09435969721920423, 0.10490532794051971]\n"
     ]
    },
    {
     "name": "stdout",
     "output_type": "stream",
     "text": [
      "----------------\n"
     ]
    },
    {
     "name": "stdout",
     "output_type": "stream",
     "text": [
      "  \n"
     ]
    },
    {
     "name": "stdout",
     "output_type": "stream",
     "text": [
      "index: 112; αE: 2.2660481927710845\n"
     ]
    },
    {
     "name": "stdout",
     "output_type": "stream",
     "text": [
      "u0: [15.652354236523589, 0.651812528212706, 0.7604337874147941, 0.007585406212915506, 0.09435969721920423, 0.10490532794051971]\n"
     ]
    },
    {
     "name": "stdout",
     "output_type": "stream",
     "text": [
      "calc LSE\n"
     ]
    },
    {
     "name": "stdout",
     "output_type": "stream",
     "text": [
      "Λ: [-0.0003910447089556736, -0.0090441843298463, -0.031150749394787954, -0.5555609687887244, -0.7377728223046328, -3.2470429452716414]\n"
     ]
    },
    {
     "name": "stdout",
     "output_type": "stream",
     "text": [
      "last point: [3.003803178006697, 0.733796634205861, 0.7594527707367974, 0.006540452848939508, 0.09448520330351382, 0.10463101914609112]\n"
     ]
    },
    {
     "name": "stdout",
     "output_type": "stream",
     "text": [
      "----------------\n"
     ]
    },
    {
     "name": "stdout",
     "output_type": "stream",
     "text": [
      "  \n"
     ]
    },
    {
     "name": "stdout",
     "output_type": "stream",
     "text": [
      "index: 113; αE: 2.285859437751004\n"
     ]
    },
    {
     "name": "stdout",
     "output_type": "stream",
     "text": [
      "u0: [3.003803178006697, 0.733796634205861, 0.7594527707367974, 0.006540452848939508, 0.09448520330351382, 0.10463101914609112]\n"
     ]
    },
    {
     "name": "stdout",
     "output_type": "stream",
     "text": [
      "calc LSE\n"
     ]
    },
    {
     "name": "stdout",
     "output_type": "stream",
     "text": [
      "Λ: [-0.010844339020941837, -0.01176060164820986, -0.4407678535641138, -0.6231922495863024, -0.873442492634503, -3.9584933760511776]\n"
     ]
    },
    {
     "name": "stdout",
     "output_type": "stream",
     "text": [
      "last point: [10.912951787290746, 0.44888699052235964, 0.8139281788496218, 0.00018795283776461966, 0.005881651976224968, 2.343488293170645e-9]\n"
     ]
    },
    {
     "name": "stdout",
     "output_type": "stream",
     "text": [
      "----------------\n"
     ]
    },
    {
     "name": "stdout",
     "output_type": "stream",
     "text": [
      "  \n",
      "index: 114; αE: 2.305670682730924\n"
     ]
    },
    {
     "name": "stdout",
     "output_type": "stream",
     "text": [
      "u0: [10.912951787290746, 0.44888699052235964, 0.8139281788496218, 0.00018795283776461966, 0.005881651976224968, 2.343488293170645e-9]\n"
     ]
    },
    {
     "name": "stdout",
     "output_type": "stream",
     "text": [
      "calc LSE\n"
     ]
    },
    {
     "name": "stdout",
     "output_type": "stream",
     "text": [
      "Λ: [-0.11078393845727366, -0.1620564881385506, -0.16466593441541488, -0.363537518857027, -0.4227283112436726, -3.0669383308045473]\n"
     ]
    },
    {
     "name": "stdout",
     "output_type": "stream",
     "text": [
      "last point: [9.469930891366063, 0.4626157566573558, 0.8177569851619387, 0.00012511957944381807, 0.02539823275890683, 0.00018670312305517307]\n"
     ]
    },
    {
     "name": "stdout",
     "output_type": "stream",
     "text": [
      "----------------\n"
     ]
    },
    {
     "name": "stdout",
     "output_type": "stream",
     "text": [
      "  \n"
     ]
    },
    {
     "name": "stdout",
     "output_type": "stream",
     "text": [
      "index: 115; αE: 2.325481927710843\n"
     ]
    },
    {
     "name": "stdout",
     "output_type": "stream",
     "text": [
      "u0: [9.469930891366063, 0.4626157566573558, 0.8177569851619387, 0.00012511957944381807, 0.02539823275890683, 0.00018670312305517307]\n"
     ]
    },
    {
     "name": "stdout",
     "output_type": "stream",
     "text": [
      "calc LSE\n"
     ]
    },
    {
     "name": "stdout",
     "output_type": "stream",
     "text": [
      "Λ: [0.017424986975486, 0.015701937318635697, -0.18170442034924586, -0.618982322134796, -0.7358205583580969, -3.4871237038597527]\n"
     ]
    },
    {
     "name": "stdout",
     "output_type": "stream",
     "text": [
      "last point: [9.15913182622594, 0.4723077110232926, 0.8132218614271601, 0.00015192723064451312, 0.011820903632866812, 9.039452338646185e-8]\n"
     ]
    },
    {
     "name": "stdout",
     "output_type": "stream",
     "text": [
      "----------------\n"
     ]
    },
    {
     "name": "stdout",
     "output_type": "stream",
     "text": [
      "  \n"
     ]
    },
    {
     "name": "stdout",
     "output_type": "stream",
     "text": [
      "index: 116; αE: 2.345293172690763\n"
     ]
    },
    {
     "name": "stdout",
     "output_type": "stream",
     "text": [
      "u0: [9.15913182622594, 0.4723077110232926, 0.8132218614271601, 0.00015192723064451312, 0.011820903632866812, 9.039452338646185e-8]\n"
     ]
    },
    {
     "name": "stdout",
     "output_type": "stream",
     "text": [
      "calc LSE\n"
     ]
    },
    {
     "name": "stdout",
     "output_type": "stream",
     "text": [
      "Λ: [-0.10603185679573854, -0.32858983589366786, -0.4517912065379433, -0.47914215761296963, -0.49184159001507716, -3.1994577572349785]\n"
     ]
    },
    {
     "name": "stdout",
     "output_type": "stream",
     "text": [
      "last point: [10.253344794658238, 0.43976303431078395, 0.8282809662014265, 7.881338826691138e-5, 0.060161856383600144, 0.03419968570149486]\n",
      "----------------\n"
     ]
    },
    {
     "name": "stdout",
     "output_type": "stream",
     "text": [
      "  \n"
     ]
    },
    {
     "name": "stdout",
     "output_type": "stream",
     "text": [
      "index: 117; αE: 2.3651044176706826\n"
     ]
    },
    {
     "name": "stdout",
     "output_type": "stream",
     "text": [
      "u0: [10.253344794658238, 0.43976303431078395, 0.8282809662014265, 7.881338826691138e-5, 0.060161856383600144, 0.03419968570149486]\n"
     ]
    },
    {
     "name": "stdout",
     "output_type": "stream",
     "text": [
      "calc LSE\n"
     ]
    },
    {
     "name": "stdout",
     "output_type": "stream",
     "text": [
      "Λ: [-0.0937421793146069, -0.09298638025815562, -0.11056577330225714, -0.36595080977448824, -0.4215741262849179, -3.0395861922510776]\n"
     ]
    },
    {
     "name": "stdout",
     "output_type": "stream",
     "text": [
      "last point: [9.371993281419448, 0.4656292473822725, 0.8163518310160592, 0.0001329052093021546, 0.0205731391552212, 2.3029847338763034e-5]\n"
     ]
    },
    {
     "name": "stdout",
     "output_type": "stream",
     "text": [
      "----------------\n"
     ]
    },
    {
     "name": "stdout",
     "output_type": "stream",
     "text": [
      "  \n"
     ]
    },
    {
     "name": "stdout",
     "output_type": "stream",
     "text": [
      "index: 118; αE: 2.3849156626506023\n"
     ]
    },
    {
     "name": "stdout",
     "output_type": "stream",
     "text": [
      "u0: [9.371993281419448, 0.4656292473822725, 0.8163518310160592, 0.0001329052093021546, 0.0205731391552212, 2.3029847338763034e-5]\n"
     ]
    },
    {
     "name": "stdout",
     "output_type": "stream",
     "text": [
      "calc LSE\n"
     ]
    },
    {
     "name": "stdout",
     "output_type": "stream",
     "text": [
      "Λ: [0.02492570513960664, 0.018741478308783865, -0.278272254181778, -0.6958035540717801, -0.8357207815904986, -3.522890776037232]\n"
     ]
    },
    {
     "name": "stdout",
     "output_type": "stream",
     "text": [
      "last point: [9.1141059101162, 0.47374347327383326, 0.8125460638775815, 0.00015635980641778773, 0.009675840469743848, 1.2118245899925827e-8]\n"
     ]
    },
    {
     "name": "stdout",
     "output_type": "stream",
     "text": [
      "----------------\n"
     ]
    },
    {
     "name": "stdout",
     "output_type": "stream",
     "text": [
      "  \n"
     ]
    },
    {
     "name": "stdout",
     "output_type": "stream",
     "text": [
      "index: 119; αE: 2.404726907630522\n",
      "u0: [9.1141059101162, 0.47374347327383326, 0.8125460638775815, 0.00015635980641778773, 0.009675840469743848, 1.2118245899925827e-8]\n"
     ]
    },
    {
     "name": "stdout",
     "output_type": "stream",
     "text": [
      "calc LSE\n"
     ]
    },
    {
     "name": "stdout",
     "output_type": "stream",
     "text": [
      "Λ: [-0.10933715192549956, -0.310637421773355, -0.3123262433295304, -0.3596182912393737, -0.4237063523572285, -3.124830653453905]\n"
     ]
    },
    {
     "name": "stdout",
     "output_type": "stream",
     "text": [
      "last point: [9.691429749903731, 0.4559335425327497, 0.8208575347312199, 0.00010942428558249088, 0.03381433016556509, 0.0025680576015539255]\n"
     ]
    },
    {
     "name": "stdout",
     "output_type": "stream",
     "text": [
      "----------------\n"
     ]
    },
    {
     "name": "stdout",
     "output_type": "stream",
     "text": [
      "  \n",
      "index: 120; αE: 2.4245381526104417\n"
     ]
    },
    {
     "name": "stdout",
     "output_type": "stream",
     "text": [
      "u0: [9.691429749903731, 0.4559335425327497, 0.8208575347312199, 0.00010942428558249088, 0.03381433016556509, 0.0025680576015539255]\n"
     ]
    },
    {
     "name": "stdout",
     "output_type": "stream",
     "text": [
      "calc LSE\n"
     ]
    },
    {
     "name": "stdout",
     "output_type": "stream",
     "text": [
      "Λ: [-0.016586240701229965, -0.016589816106313056, -0.11127756129700142, -0.36677958487064993, -0.42224233823377505, -3.009535660385265]\n"
     ]
    },
    {
     "name": "stdout",
     "output_type": "stream",
     "text": [
      "last point: [9.266180344865965, 0.46892677147419853, 0.8148091560823785, 0.00014197957123551405, 0.015703213266335538, 1.5513131571014816e-6]\n"
     ]
    },
    {
     "name": "stdout",
     "output_type": "stream",
     "text": [
      "----------------\n"
     ]
    },
    {
     "name": "stdout",
     "output_type": "stream",
     "text": [
      "  \n"
     ]
    },
    {
     "name": "stdout",
     "output_type": "stream",
     "text": [
      "index: 121; αE: 2.4443493975903614\n"
     ]
    },
    {
     "name": "stdout",
     "output_type": "stream",
     "text": [
      "u0: [9.266180344865965, 0.46892677147419853, 0.8148091560823785, 0.00014197957123551405, 0.015703213266335538, 1.5513131571014816e-6]\n"
     ]
    },
    {
     "name": "stdout",
     "output_type": "stream",
     "text": [
      "calc LSE\n"
     ]
    },
    {
     "name": "stdout",
     "output_type": "stream",
     "text": [
      "Λ: [0.018874987116083305, 0.012264625477828906, -0.40844788272721655, -0.7046623082252081, -0.954143719216308, -3.5587286850141036]\n"
     ]
    },
    {
     "name": "stdout",
     "output_type": "stream",
     "text": [
      "last point: [9.06728268704613, 0.47524524947839974, 0.8118380815650513, 0.00016113468676452478, 0.0075731017206374564, 1.0663019563199557e-9]\n"
     ]
    },
    {
     "name": "stdout",
     "output_type": "stream",
     "text": [
      "----------------\n"
     ]
    },
    {
     "name": "stdout",
     "output_type": "stream",
     "text": [
      "  \n"
     ]
    },
    {
     "name": "stdout",
     "output_type": "stream",
     "text": [
      "index: 122; αE: 2.464160642570281\n"
     ]
    },
    {
     "name": "stdout",
     "output_type": "stream",
     "text": [
      "u0: [9.06728268704613, 0.47524524947839974, 0.8118380815650513, 0.00016113468676452478, 0.0075731017206374564, 1.0663019563199557e-9]\n"
     ]
    },
    {
     "name": "stdout",
     "output_type": "stream",
     "text": [
      "calc LSE\n"
     ]
    },
    {
     "name": "stdout",
     "output_type": "stream",
     "text": [
      "Λ: [-0.10994395937210288, -0.24588875943507502, -0.2479945165781657, -0.36003949279891123, -0.4246234302877034, -3.0995285281508274]\n"
     ]
    },
    {
     "name": "stdout",
     "output_type": "stream",
     "text": [
      "last point: [9.588296932339222, 0.45902230129085164, 0.8194268600212467, 0.00011642719891075732, 0.02867459517013559, 0.0006107031205637249]\n"
     ]
    },
    {
     "name": "stdout",
     "output_type": "stream",
     "text": [
      "----------------\n"
     ]
    },
    {
     "name": "stdout",
     "output_type": "stream",
     "text": [
      "  \n"
     ]
    },
    {
     "name": "stdout",
     "output_type": "stream",
     "text": [
      "index: 123; αE: 2.483971887550201\n"
     ]
    },
    {
     "name": "stdout",
     "output_type": "stream",
     "text": [
      "u0: [9.588296932339222, 0.45902230129085164, 0.8194268600212467, 0.00011642719891075732, 0.02867459517013559, 0.0006107031205637249]\n"
     ]
    },
    {
     "name": "stdout",
     "output_type": "stream",
     "text": [
      "calc LSE\n"
     ]
    },
    {
     "name": "stdout",
     "output_type": "stream",
     "text": [
      "Λ: [0.008980168024399932, -0.002103709733732287, -0.11217025301809654, -0.3990949346710627, -0.49590432891049274, -3.2936358997475264]\n"
     ]
    },
    {
     "name": "stdout",
     "output_type": "stream",
     "text": [
      "last point: [9.227629090788689, 0.47013909712430657, 0.8142406446874012, 0.00014546932614631198, 0.013787148972402916, 4.336789809220493e-7]\n"
     ]
    },
    {
     "name": "stdout",
     "output_type": "stream",
     "text": [
      "----------------\n"
     ]
    },
    {
     "name": "stdout",
     "output_type": "stream",
     "text": [
      "  \n"
     ]
    },
    {
     "name": "stdout",
     "output_type": "stream",
     "text": [
      "index: 124; αE: 2.5037831325301205\n"
     ]
    },
    {
     "name": "stdout",
     "output_type": "stream",
     "text": [
      "u0: [9.227629090788689, 0.47013909712430657, 0.8142406446874012, 0.00014546932614631198, 0.013787148972402916, 4.336789809220493e-7]\n"
     ]
    },
    {
     "name": "stdout",
     "output_type": "stream",
     "text": [
      "calc LSE\n"
     ]
    },
    {
     "name": "stdout",
     "output_type": "stream",
     "text": [
      "Λ: [0.011147551532193645, 0.007506356528591575, -0.46492887277268574, -0.7039490868438292, -0.9991867109318376, -3.568837398386584]\n"
     ]
    },
    {
     "name": "stdout",
     "output_type": "stream",
     "text": [
      "last point: [9.048025513330936, 0.4758654824266439, 0.8115453517394172, 0.00016314902477861933, 0.006646469509689126, 2.942237850035966e-10]\n"
     ]
    },
    {
     "name": "stdout",
     "output_type": "stream",
     "text": [
      "----------------\n"
     ]
    },
    {
     "name": "stdout",
     "output_type": "stream",
     "text": [
      "  \n"
     ]
    },
    {
     "name": "stdout",
     "output_type": "stream",
     "text": [
      "index: 125; αE: 2.5235943775100402\n"
     ]
    },
    {
     "name": "stdout",
     "output_type": "stream",
     "text": [
      "u0: [9.048025513330936, 0.4758654824266439, 0.8115453517394172, 0.00016314902477861933, 0.006646469509689126, 2.942237850035966e-10]\n"
     ]
    },
    {
     "name": "stdout",
     "output_type": "stream",
     "text": [
      "calc LSE\n"
     ]
    },
    {
     "name": "stdout",
     "output_type": "stream",
     "text": [
      "Λ: [-0.10994435848761476, -0.24467132254027502, -0.24478584571746315, -0.3616595635402085, -0.42305555379521903, -3.0986487702534076]\n"
     ]
    },
    {
     "name": "stdout",
     "output_type": "stream",
     "text": [
      "last point: [9.584400706919459, 0.45913977532798383, 0.819372350045024, 0.00011670266527475074, 0.02784056234867471, 0.0004754265729241387]\n"
     ]
    },
    {
     "name": "stdout",
     "output_type": "stream",
     "text": [
      "----------------\n"
     ]
    },
    {
     "name": "stdout",
     "output_type": "stream",
     "text": [
      "  \n"
     ]
    },
    {
     "name": "stdout",
     "output_type": "stream",
     "text": [
      "index: 126; αE: 2.54340562248996\n"
     ]
    },
    {
     "name": "stdout",
     "output_type": "stream",
     "text": [
      "u0: [9.584400706919459, 0.45913977532798383, 0.819372350045024, 0.00011670266527475074, 0.02784056234867471, 0.0004754265729241387]\n"
     ]
    },
    {
     "name": "stdout",
     "output_type": "stream",
     "text": [
      "calc LSE\n"
     ]
    },
    {
     "name": "stdout",
     "output_type": "stream",
     "text": [
      "Λ: [0.00985752662153893, -0.002134652233402725, -0.11194271328591536, -0.3971321136831484, -0.49052756708684897, -3.280335992769489]\n"
     ]
    },
    {
     "name": "stdout",
     "output_type": "stream",
     "text": [
      "last point: [9.228432885537249, 0.47011376005062655, 0.8142525337946652, 0.00014539552165505933, 0.013496273847650564, 3.6150451577226685e-7]\n"
     ]
    },
    {
     "name": "stdout",
     "output_type": "stream",
     "text": [
      "----------------\n"
     ]
    },
    {
     "name": "stdout",
     "output_type": "stream",
     "text": [
      "  \n"
     ]
    },
    {
     "name": "stdout",
     "output_type": "stream",
     "text": [
      "index: 127; αE: 2.5632168674698796\n"
     ]
    },
    {
     "name": "stdout",
     "output_type": "stream",
     "text": [
      "u0: [9.228432885537249, 0.47011376005062655, 0.8142525337946652, 0.00014539552165505933, 0.013496273847650564, 3.6150451577226685e-7]\n"
     ]
    },
    {
     "name": "stdout",
     "output_type": "stream",
     "text": [
      "calc LSE\n"
     ]
    },
    {
     "name": "stdout",
     "output_type": "stream",
     "text": [
      "Λ: [0.015746867431195508, 0.006861799078983467, -0.45825943432002464, -0.7145705541818297, -0.9911558765910429, -3.5590814834173536]\n"
     ]
    },
    {
     "name": "stdout",
     "output_type": "stream",
     "text": [
      "last point: [9.052666142296884, 0.4757158790151065, 0.8116159775868583, 0.00016266086221652186, 0.006668009941533974, 3.1690346186642626e-10]\n"
     ]
    },
    {
     "name": "stdout",
     "output_type": "stream",
     "text": [
      "----------------\n"
     ]
    },
    {
     "name": "stdout",
     "output_type": "stream",
     "text": [
      "  \n"
     ]
    },
    {
     "name": "stdout",
     "output_type": "stream",
     "text": [
      "index: 128; αE: 2.5830281124497994\n"
     ]
    },
    {
     "name": "stdout",
     "output_type": "stream",
     "text": [
      "u0: [9.052666142296884, 0.4757158790151065, 0.8116159775868583, 0.00016266086221652186, 0.006668009941533974, 3.1690346186642626e-10]\n"
     ]
    },
    {
     "name": "stdout",
     "output_type": "stream",
     "text": [
      "calc LSE\n"
     ]
    },
    {
     "name": "stdout",
     "output_type": "stream",
     "text": [
      "Λ: [-0.10980179016233525, -0.2571261536016573, -0.25988716456694555, -0.3608041309194203, -0.4236638514688287, -3.1039917039826364]\n"
     ]
    },
    {
     "name": "stdout",
     "output_type": "stream",
     "text": [
      "last point: [9.603798710402845, 0.45855560969351733, 0.8196432546708409, 0.00011534480694074515, 0.027972460906110733, 0.0005156222206778407]\n"
     ]
    },
    {
     "name": "stdout",
     "output_type": "stream",
     "text": [
      "----------------\n"
     ]
    },
    {
     "name": "stdout",
     "output_type": "stream",
     "text": [
      "  \n"
     ]
    },
    {
     "name": "stdout",
     "output_type": "stream",
     "text": [
      "index: 129; αE: 2.602839357429719\n"
     ]
    },
    {
     "name": "stdout",
     "output_type": "stream",
     "text": [
      "u0: [9.603798710402845, 0.45855560969351733, 0.8196432546708409, 0.00011534480694074515, 0.027972460906110733, 0.0005156222206778407]\n"
     ]
    },
    {
     "name": "stdout",
     "output_type": "stream",
     "text": [
      "calc LSE\n"
     ]
    },
    {
     "name": "stdout",
     "output_type": "stream",
     "text": [
      "Λ: [-0.0002992628583903637, -0.004456027740017322, -0.11146068494041796, -0.374254089066098, -0.43052528683985486, -3.0777985049582046]\n"
     ]
    },
    {
     "name": "stdout",
     "output_type": "stream",
     "text": [
      "last point: [9.243765993165496, 0.46963092283059066, 0.8144790382350883, 0.0001439961911750617, 0.01377206174714972, 4.601640319547253e-7]\n"
     ]
    },
    {
     "name": "stdout",
     "output_type": "stream",
     "text": [
      "----------------\n"
     ]
    },
    {
     "name": "stdout",
     "output_type": "stream",
     "text": [
      "  \n"
     ]
    },
    {
     "name": "stdout",
     "output_type": "stream",
     "text": [
      "index: 130; αE: 2.6226506024096388\n"
     ]
    },
    {
     "name": "stdout",
     "output_type": "stream",
     "text": [
      "u0: [9.243765993165496, 0.46963092283059066, 0.8144790382350883, 0.0001439961911750617, 0.01377206174714972, 4.601640319547253e-7]\n"
     ]
    },
    {
     "name": "stdout",
     "output_type": "stream",
     "text": [
      "calc LSE\n"
     ]
    },
    {
     "name": "stdout",
     "output_type": "stream",
     "text": [
      "Λ: [0.020918263620796036, 0.010346373385492621, -0.43268526587593026, -0.7256601319446039, -0.9746667523185752, -3.5423643525142223]\n"
     ]
    },
    {
     "name": "stdout",
     "output_type": "stream",
     "text": [
      "last point: [9.060895571398044, 0.4754507970902255, 0.8117410914088342, 0.00016179947434946928, 0.006821571939005846, 4.155400585999305e-10]\n"
     ]
    },
    {
     "name": "stdout",
     "output_type": "stream",
     "text": [
      "----------------\n"
     ]
    },
    {
     "name": "stdout",
     "output_type": "stream",
     "text": [
      "  \n"
     ]
    },
    {
     "name": "stdout",
     "output_type": "stream",
     "text": [
      "index: 131; αE: 2.642461847389558\n"
     ]
    },
    {
     "name": "stdout",
     "output_type": "stream",
     "text": [
      "u0: [9.060895571398044, 0.4754507970902255, 0.8117410914088342, 0.00016179947434946928, 0.006821571939005846, 4.155400585999305e-10]\n"
     ]
    },
    {
     "name": "stdout",
     "output_type": "stream",
     "text": [
      "calc LSE\n"
     ]
    },
    {
     "name": "stdout",
     "output_type": "stream",
     "text": [
      "Λ: [-0.10961168199965199, -0.27825555377943867, -0.27813134944704204, -0.3596679113634438, -0.42445228316807265, -3.111617889349914]\n"
     ]
    },
    {
     "name": "stdout",
     "output_type": "stream",
     "text": [
      "last point: [9.631879032572293, 0.45771244431777225, 0.8200339904825501, 0.00011341223766964348, 0.028438893241582663, 0.0006257599400843418]\n"
     ]
    },
    {
     "name": "stdout",
     "output_type": "stream",
     "text": [
      "----------------\n"
     ]
    },
    {
     "name": "stdout",
     "output_type": "stream",
     "text": [
      "  \n"
     ]
    },
    {
     "name": "stdout",
     "output_type": "stream",
     "text": [
      "index: 132; αE: 2.6622730923694777\n"
     ]
    },
    {
     "name": "stdout",
     "output_type": "stream",
     "text": [
      "u0: [9.631879032572293, 0.45771244431777225, 0.8200339904825501, 0.00011341223766964348, 0.028438893241582663, 0.0006257599400843418]\n"
     ]
    },
    {
     "name": "stdout",
     "output_type": "stream",
     "text": [
      "calc LSE\n"
     ]
    },
    {
     "name": "stdout",
     "output_type": "stream",
     "text": [
      "Λ: [-0.012756648795375964, -0.011185711745899399, -0.11127475266770358, -0.36838904054212535, -0.4206416999904362, -3.007852842560457]\n"
     ]
    },
    {
     "name": "stdout",
     "output_type": "stream",
     "text": [
      "last point: [9.259887711205367, 0.46912425563876414, 0.8147165970000196, 0.00014254228248285815, 0.014065947093680963, 5.96050108076736e-7]\n"
     ]
    },
    {
     "name": "stdout",
     "output_type": "stream",
     "text": [
      "----------------\n"
     ]
    },
    {
     "name": "stdout",
     "output_type": "stream",
     "text": [
      "  \n"
     ]
    },
    {
     "name": "stdout",
     "output_type": "stream",
     "text": [
      "index: 133; αE: 2.6820843373493974\n"
     ]
    },
    {
     "name": "stdout",
     "output_type": "stream",
     "text": [
      "u0: [9.259887711205367, 0.46912425563876414, 0.8147165970000196, 0.00014254228248285815, 0.014065947093680963, 5.96050108076736e-7]\n"
     ]
    },
    {
     "name": "stdout",
     "output_type": "stream",
     "text": [
      "calc LSE\n"
     ]
    },
    {
     "name": "stdout",
     "output_type": "stream",
     "text": [
      "Λ: [0.01938138846410894, 0.013091696483323118, -0.40671078959461726, -0.7353579948048068, -0.9442017666224868, -3.5248679399996337]\n"
     ]
    },
    {
     "name": "stdout",
     "output_type": "stream",
     "text": [
      "last point: [9.070502854455647, 0.47514168244793537, 0.8118869428165941, 0.00016080076351420813, 0.007018580922112837, 5.752583526176546e-10]\n"
     ]
    },
    {
     "name": "stdout",
     "output_type": "stream",
     "text": [
      "----------------\n"
     ]
    },
    {
     "name": "stdout",
     "output_type": "stream",
     "text": [
      "  \n"
     ]
    },
    {
     "name": "stdout",
     "output_type": "stream",
     "text": [
      "index: 134; αE: 2.701895582329317\n"
     ]
    },
    {
     "name": "stdout",
     "output_type": "stream",
     "text": [
      "u0: [9.070502854455647, 0.47514168244793537, 0.8118869428165941, 0.00016080076351420813, 0.007018580922112837, 5.752583526176546e-10]\n"
     ]
    },
    {
     "name": "stdout",
     "output_type": "stream",
     "text": [
      "calc LSE\n"
     ]
    },
    {
     "name": "stdout",
     "output_type": "stream",
     "text": [
      "Λ: [-0.10939621763238964, -0.2989084483791767, -0.29915745097618235, -0.36363477768907154, -0.42008432155543984, -3.1197384725486836]\n"
     ]
    },
    {
     "name": "stdout",
     "output_type": "stream",
     "text": [
      "last point: [9.6619482258786, 0.4568127860827693, 0.8204505388777377, 0.00011138551169462982, 0.028963856511685312, 0.0007767732037929896]\n"
     ]
    },
    {
     "name": "stdout",
     "output_type": "stream",
     "text": [
      "----------------\n"
     ]
    },
    {
     "name": "stdout",
     "output_type": "stream",
     "text": [
      "  \n"
     ]
    },
    {
     "name": "stdout",
     "output_type": "stream",
     "text": [
      "index: 135; αE: 2.721706827309237\n"
     ]
    },
    {
     "name": "stdout",
     "output_type": "stream",
     "text": [
      "u0: [9.6619482258786, 0.4568127860827693, 0.8204505388777377, 0.00011138551169462982, 0.028963856511685312, 0.0007767732037929896]\n"
     ]
    },
    {
     "name": "stdout",
     "output_type": "stream",
     "text": [
      "calc LSE\n"
     ]
    },
    {
     "name": "stdout",
     "output_type": "stream",
     "text": [
      "Λ: [-0.025869553141367616, -0.025703561831505704, -0.11114436806471722, -0.36835710088708323, -0.4204032851813602, -3.0132692918970814]\n"
     ]
    },
    {
     "name": "stdout",
     "output_type": "stream",
     "text": [
      "last point: [9.278892875427045, 0.46852828552830866, 0.8149958638326803, 0.00014085089930613494, 0.01445354240608284, 8.251413392784642e-7]\n"
     ]
    },
    {
     "name": "stdout",
     "output_type": "stream",
     "text": [
      "----------------\n"
     ]
    },
    {
     "name": "stdout",
     "output_type": "stream",
     "text": [
      "  \n"
     ]
    },
    {
     "name": "stdout",
     "output_type": "stream",
     "text": [
      "index: 136; αE: 2.7415180722891566\n"
     ]
    },
    {
     "name": "stdout",
     "output_type": "stream",
     "text": [
      "u0: [9.278892875427045, 0.46852828552830866, 0.8149958638326803, 0.00014085089930613494, 0.01445354240608284, 8.251413392784642e-7]\n"
     ]
    },
    {
     "name": "stdout",
     "output_type": "stream",
     "text": [
      "calc LSE\n"
     ]
    },
    {
     "name": "stdout",
     "output_type": "stream",
     "text": [
      "Λ: [0.022951887808929317, 0.01593931588626729, -0.3798266265462798, -0.7395212585596568, -0.9134628971957227, -3.5045406457693855]\n"
     ]
    },
    {
     "name": "stdout",
     "output_type": "stream",
     "text": [
      "last point: [9.08404470601716, 0.47470661185251145, 0.8120921427150726, 0.00015940554469431284, 0.007347210979174426, 9.615731977304586e-10]\n"
     ]
    },
    {
     "name": "stdout",
     "output_type": "stream",
     "text": [
      "----------------\n"
     ]
    },
    {
     "name": "stdout",
     "output_type": "stream",
     "text": [
      "  \n"
     ]
    },
    {
     "name": "stdout",
     "output_type": "stream",
     "text": [
      "index: 137; αE: 2.7613293172690763\n"
     ]
    },
    {
     "name": "stdout",
     "output_type": "stream",
     "text": [
      "u0: [9.08404470601716, 0.47470661185251145, 0.8120921427150726, 0.00015940554469431284, 0.007347210979174426, 9.615731977304586e-10]\n"
     ]
    },
    {
     "name": "stdout",
     "output_type": "stream",
     "text": [
      "calc LSE\n"
     ]
    },
    {
     "name": "stdout",
     "output_type": "stream",
     "text": [
      "Λ: [-0.1090972829689846, -0.32530288749372654, -0.3274171077602384, -0.3611347723445571, -0.42200848316257683, -3.1304600493507726]\n"
     ]
    },
    {
     "name": "stdout",
     "output_type": "stream",
     "text": [
      "last point: [9.702304657641065, 0.4556105410100251, 0.8210066061864874, 0.00010873248686343957, 0.029856352307825365, 0.0010789807339503413]\n"
     ]
    },
    {
     "name": "stdout",
     "output_type": "stream",
     "text": [
      "----------------\n"
     ]
    },
    {
     "name": "stdout",
     "output_type": "stream",
     "text": [
      "  \n"
     ]
    },
    {
     "name": "stdout",
     "output_type": "stream",
     "text": [
      "index: 138; αE: 2.781140562248996\n"
     ]
    },
    {
     "name": "stdout",
     "output_type": "stream",
     "text": [
      "u0: [9.702304657641065, 0.4556105410100251, 0.8210066061864874, 0.00010873248686343957, 0.029856352307825365, 0.0010789807339503413]\n"
     ]
    },
    {
     "name": "stdout",
     "output_type": "stream",
     "text": [
      "calc LSE\n"
     ]
    },
    {
     "name": "stdout",
     "output_type": "stream",
     "text": [
      "Λ: [-0.04436395285071839, -0.04405267806961311, -0.11098457431272087, -0.366356579588817, -0.4220705948096349, -3.0204449717801505]\n"
     ]
    },
    {
     "name": "stdout",
     "output_type": "stream",
     "text": [
      "last point: [9.304223604023388, 0.46773616403404045, 0.8153667735411776, 0.00013863386759646872, 0.01505306170980324, 1.3037269240898433e-6]\n"
     ]
    },
    {
     "name": "stdout",
     "output_type": "stream",
     "text": [
      "----------------\n"
     ]
    },
    {
     "name": "stdout",
     "output_type": "stream",
     "text": [
      "  \n"
     ]
    },
    {
     "name": "stdout",
     "output_type": "stream",
     "text": [
      "index: 139; αE: 2.8009518072289157\n"
     ]
    },
    {
     "name": "stdout",
     "output_type": "stream",
     "text": [
      "u0: [9.304223604023388, 0.46773616403404045, 0.8153667735411776, 0.00013863386759646872, 0.01505306170980324, 1.3037269240898433e-6]\n"
     ]
    },
    {
     "name": "stdout",
     "output_type": "stream",
     "text": [
      "calc LSE\n"
     ]
    },
    {
     "name": "stdout",
     "output_type": "stream",
     "text": [
      "Λ: [0.02252571046812234, 0.018844673835481277, -0.3395786814569874, -0.7401038623358723, -0.868088426184204, -3.480936061525622]\n"
     ]
    },
    {
     "name": "stdout",
     "output_type": "stream",
     "text": [
      "last point: [9.10065323483815, 0.47417403377098294, 0.8123432013497562, 0.00015771410726466694, 0.007769496505049136, 1.7979300235111822e-9]\n"
     ]
    },
    {
     "name": "stdout",
     "output_type": "stream",
     "text": [
      "----------------\n"
     ]
    },
    {
     "name": "stdout",
     "output_type": "stream",
     "text": [
      "  \n"
     ]
    },
    {
     "name": "stdout",
     "output_type": "stream",
     "text": [
      "index: 140; αE: 2.8207630522088354\n"
     ]
    },
    {
     "name": "stdout",
     "output_type": "stream",
     "text": [
      "u0: [9.10065323483815, 0.47417403377098294, 0.8123432013497562, 0.00015771410726466694, 0.007769496505049136, 1.7979300235111822e-9]\n"
     ]
    },
    {
     "name": "stdout",
     "output_type": "stream",
     "text": [
      "calc LSE\n"
     ]
    },
    {
     "name": "stdout",
     "output_type": "stream",
     "text": [
      "Λ: [-0.10860466208253117, -0.34054537071759816, -0.3755644374006161, -0.3920629273480818, -0.42725504122550395, -3.1500812801450455]\n"
     ]
    },
    {
     "name": "stdout",
     "output_type": "stream",
     "text": [
      "last point: [9.780846816316597, 0.45328761700278347, 0.8220791781756471, 0.00010377877033346586, 0.03213119990590955, 0.002152266196821255]\n"
     ]
    },
    {
     "name": "stdout",
     "output_type": "stream",
     "text": [
      "----------------\n"
     ]
    },
    {
     "name": "stdout",
     "output_type": "stream",
     "text": [
      "  \n"
     ]
    },
    {
     "name": "stdout",
     "output_type": "stream",
     "text": [
      "index: 141; αE: 2.840574297188755\n"
     ]
    },
    {
     "name": "stdout",
     "output_type": "stream",
     "text": [
      "u0: [9.780846816316597, 0.45328761700278347, 0.8220791781756471, 0.00010377877033346586, 0.03213119990590955, 0.002152266196821255]\n"
     ]
    },
    {
     "name": "stdout",
     "output_type": "stream",
     "text": [
      "calc LSE\n"
     ]
    },
    {
     "name": "stdout",
     "output_type": "stream",
     "text": [
      "Λ: [-0.08133178897355212, -0.07773463521670605, -0.11068761434234385, -0.36742570730441376, -0.4203789876575093, -3.034172068827414]\n"
     ]
    },
    {
     "name": "stdout",
     "output_type": "stream",
     "text": [
      "last point: [9.352833707349246, 0.4662230972323106, 0.8160744047338722, 0.00013449557333492572, 0.016451666902911326, 3.390305178177256e-6]\n"
     ]
    },
    {
     "name": "stdout",
     "output_type": "stream",
     "text": [
      "----------------\n"
     ]
    },
    {
     "name": "stdout",
     "output_type": "stream",
     "text": [
      "  \n"
     ]
    },
    {
     "name": "stdout",
     "output_type": "stream",
     "text": [
      "index: 142; αE: 2.860385542168675\n"
     ]
    },
    {
     "name": "stdout",
     "output_type": "stream",
     "text": [
      "u0: [9.352833707349246, 0.4662230972323106, 0.8160744047338722, 0.00013449557333492572, 0.016451666902911326, 3.390305178177256e-6]\n"
     ]
    },
    {
     "name": "stdout",
     "output_type": "stream",
     "text": [
      "calc LSE\n"
     ]
    },
    {
     "name": "stdout",
     "output_type": "stream",
     "text": [
      "Λ: [0.022805129112412854, 0.017606326911634006, -0.27601911439406923, -0.7265246172456327, -0.7810582202783741, -3.445076792812391]\n"
     ]
    },
    {
     "name": "stdout",
     "output_type": "stream",
     "text": [
      "last point: [9.127306378806235, 0.4733216966609533, 0.8127446971272643, 0.00015504441632369293, 0.008518963931326413, 4.78831214187293e-9]\n"
     ]
    },
    {
     "name": "stdout",
     "output_type": "stream",
     "text": [
      "----------------\n"
     ]
    },
    {
     "name": "stdout",
     "output_type": "stream",
     "text": [
      "  \n"
     ]
    },
    {
     "name": "stdout",
     "output_type": "stream",
     "text": [
      "index: 143; αE: 2.8801967871485945\n"
     ]
    },
    {
     "name": "stdout",
     "output_type": "stream",
     "text": [
      "u0: [9.127306378806235, 0.4733216966609533, 0.8127446971272643, 0.00015504441632369293, 0.008518963931326413, 4.78831214187293e-9]\n"
     ]
    },
    {
     "name": "stdout",
     "output_type": "stream",
     "text": [
      "calc LSE\n"
     ]
    },
    {
     "name": "stdout",
     "output_type": "stream",
     "text": [
      "Λ: [-0.10748915737968509, -0.33597443299321117, -0.45758654658143705, -0.4610277635670308, -0.46469764209777903, -3.187159079717761]\n"
     ]
    },
    {
     "name": "stdout",
     "output_type": "stream",
     "text": [
      "last point: [9.957319921461941, 0.44814817262788115, 0.8244439013751138, 9.357386295557491e-5, 0.03793090030704636, 0.007232017131938746]\n"
     ]
    },
    {
     "name": "stdout",
     "output_type": "stream",
     "text": [
      "----------------\n"
     ]
    },
    {
     "name": "stdout",
     "output_type": "stream",
     "text": [
      "  \n"
     ]
    },
    {
     "name": "stdout",
     "output_type": "stream",
     "text": [
      "index: 144; αE: 2.900008032128514\n"
     ]
    },
    {
     "name": "stdout",
     "output_type": "stream",
     "text": [
      "u0: [9.957319921461941, 0.44814817262788115, 0.8244439013751138, 9.357386295557491e-5, 0.03793090030704636, 0.007232017131938746]\n"
     ]
    },
    {
     "name": "stdout",
     "output_type": "stream",
     "text": [
      "calc LSE\n"
     ]
    },
    {
     "name": "stdout",
     "output_type": "stream",
     "text": [
      "Λ: [-0.11086681113555566, -0.1271177718086745, -0.12980164772299418, -0.3665832578759127, -0.42032692952663253, -3.0533284995962737]\n"
     ]
    },
    {
     "name": "stdout",
     "output_type": "stream",
     "text": [
      "last point: [9.42073125498919, 0.46412502001522316, 0.817053775490601, 0.0001289609035772278, 0.018473381727160017, 1.149596052785952e-5]\n"
     ]
    },
    {
     "name": "stdout",
     "output_type": "stream",
     "text": [
      "----------------\n"
     ]
    },
    {
     "name": "stdout",
     "output_type": "stream",
     "text": [
      "  \n"
     ]
    },
    {
     "name": "stdout",
     "output_type": "stream",
     "text": [
      "index: 145; αE: 2.919819277108434\n"
     ]
    },
    {
     "name": "stdout",
     "output_type": "stream",
     "text": [
      "u0: [9.42073125498919, 0.46412502001522316, 0.817053775490601, 0.0001289609035772278, 0.018473381727160017, 1.149596052785952e-5]\n"
     ]
    },
    {
     "name": "stdout",
     "output_type": "stream",
     "text": [
      "calc LSE\n"
     ]
    },
    {
     "name": "stdout",
     "output_type": "stream",
     "text": [
      "Λ: [0.018386990165018113, 0.014927441915881716, -0.19137606195410523, -0.6219713984294375, -0.690875596593868, -3.390636195311733]\n"
     ]
    },
    {
     "name": "stdout",
     "output_type": "stream",
     "text": [
      "last point: [9.16541067845025, 0.4721081425229678, 0.8133157141174207, 0.00015132114381539747, 0.009626126155929093, 1.724814121420047e-8]\n"
     ]
    },
    {
     "name": "stdout",
     "output_type": "stream",
     "text": [
      "----------------\n"
     ]
    },
    {
     "name": "stdout",
     "output_type": "stream",
     "text": [
      "  \n"
     ]
    },
    {
     "name": "stdout",
     "output_type": "stream",
     "text": [
      "index: 146; αE: 2.9396305220883536\n"
     ]
    },
    {
     "name": "stdout",
     "output_type": "stream",
     "text": [
      "u0: [9.16541067845025, 0.4721081425229678, 0.8133157141174207, 0.00015132114381539747, 0.009626126155929093, 1.724814121420047e-8]\n"
     ]
    },
    {
     "name": "stdout",
     "output_type": "stream",
     "text": [
      "calc LSE\n"
     ]
    },
    {
     "name": "stdout",
     "output_type": "stream",
     "text": [
      "Λ: [-0.01435024809849642, -0.019103750513781062, -0.5215447823361911, -0.7029316163973356, -0.7404271954429091, -3.585653994172394]\n"
     ]
    },
    {
     "name": "stdout",
     "output_type": "stream",
     "text": [
      "last point: [24.72989261763696, 0.30370184415567175, 0.8244188643301846, 0.014266665243265723, 0.06168001120123882, 0.04527732562114936]\n"
     ]
    },
    {
     "name": "stdout",
     "output_type": "stream",
     "text": [
      "----------------\n"
     ]
    },
    {
     "name": "stdout",
     "output_type": "stream",
     "text": [
      "  \n"
     ]
    },
    {
     "name": "stdout",
     "output_type": "stream",
     "text": [
      "index: 147; αE: 2.959441767068273\n"
     ]
    },
    {
     "name": "stdout",
     "output_type": "stream",
     "text": [
      "u0: [24.72989261763696, 0.30370184415567175, 0.8244188643301846, 0.014266665243265723, 0.06168001120123882, 0.04527732562114936]\n"
     ]
    },
    {
     "name": "stdout",
     "output_type": "stream",
     "text": [
      "calc LSE\n"
     ]
    },
    {
     "name": "stdout",
     "output_type": "stream",
     "text": [
      "Λ: [-0.10991719062922226, -0.231761761516621, -0.23406565777346747, -0.3621947994424846, -0.42279670749887227, -3.0939527022544904]\n"
     ]
    },
    {
     "name": "stdout",
     "output_type": "stream",
     "text": [
      "last point: [9.56573804175544, 0.45970319035033486, 0.819110867403838, 0.00011803025022024756, 0.02309286324828589, 0.00011283287817245808]\n"
     ]
    },
    {
     "name": "stdout",
     "output_type": "stream",
     "text": [
      "----------------\n"
     ]
    },
    {
     "name": "stdout",
     "output_type": "stream",
     "text": [
      "  \n"
     ]
    },
    {
     "name": "stdout",
     "output_type": "stream",
     "text": [
      "index: 148; αE: 2.9792530120481926\n"
     ]
    },
    {
     "name": "stdout",
     "output_type": "stream",
     "text": [
      "u0: [9.56573804175544, 0.45970319035033486, 0.819110867403838, 0.00011803025022024756, 0.02309286324828589, 0.00011283287817245808]\n"
     ]
    },
    {
     "name": "stdout",
     "output_type": "stream",
     "text": [
      "calc LSE\n"
     ]
    },
    {
     "name": "stdout",
     "output_type": "stream",
     "text": [
      "Λ: [8.799614734573817e-5, -0.007358742264825759, -0.11151608577622929, -0.37675764098143033, -0.44292164693544234, -3.125553010866667]\n"
     ]
    },
    {
     "name": "stdout",
     "output_type": "stream",
     "text": [
      "last point: [9.24397051304217, 0.469624488859218, 0.8144820556773437, 0.00014397763761296814, 0.012038841832012303, 1.7201108843419824e-7]\n"
     ]
    },
    {
     "name": "stdout",
     "output_type": "stream",
     "text": [
      "----------------\n"
     ]
    },
    {
     "name": "stdout",
     "output_type": "stream",
     "text": [
      "  \n"
     ]
    },
    {
     "name": "stdout",
     "output_type": "stream",
     "text": [
      "index: 149; αE: 2.9990642570281123\n"
     ]
    },
    {
     "name": "stdout",
     "output_type": "stream",
     "text": [
      "u0: [9.24397051304217, 0.469624488859218, 0.8144820556773437, 0.00014397763761296814, 0.012038841832012303, 1.7201108843419824e-7]\n"
     ]
    },
    {
     "name": "stdout",
     "output_type": "stream",
     "text": [
      "calc LSE\n"
     ]
    },
    {
     "name": "stdout",
     "output_type": "stream",
     "text": [
      "Λ: [0.02241479392755642, 0.015070206602644208, -0.40816257626907876, -0.7653458858843863, -0.93992502466195, -3.4885202748642477]\n"
     ]
    },
    {
     "name": "stdout",
     "output_type": "stream",
     "text": [
      "last point: [9.07486861021121, 0.4750013385123658, 0.8119531461411656, 0.00016034936773760104, 0.0064183790478841716, 3.2812005843643044e-10]\n"
     ]
    },
    {
     "name": "stdout",
     "output_type": "stream",
     "text": [
      "----------------\n"
     ]
    },
    {
     "name": "stdout",
     "output_type": "stream",
     "text": [
      "  \n"
     ]
    },
    {
     "name": "stdout",
     "output_type": "stream",
     "text": [
      "index: 150; αE: 3.018875502008032\n"
     ]
    },
    {
     "name": "stdout",
     "output_type": "stream",
     "text": [
      "u0: [9.07486861021121, 0.4750013385123658, 0.8119531461411656, 0.00016034936773760104, 0.0064183790478841716, 3.2812005843643044e-10]\n"
     ]
    },
    {
     "name": "stdout",
     "output_type": "stream",
     "text": [
      "calc LSE\n"
     ]
    },
    {
     "name": "stdout",
     "output_type": "stream",
     "text": [
      "Λ: [-0.10867755374601572, -0.3413710920086458, -0.3630950097878732, -0.37955192694269213, -0.4280976570840122, -3.1453547806942415]\n"
     ]
    },
    {
     "name": "stdout",
     "output_type": "stream",
     "text": [
      "last point: [9.756616818789945, 0.45400202493362574, 0.8217494593781272, 0.00010528457438654773, 0.02918340220061358, 0.0011304363445239756]\n"
     ]
    },
    {
     "name": "stdout",
     "output_type": "stream",
     "text": [
      "----------------\n"
     ]
    },
    {
     "name": "stdout",
     "output_type": "stream",
     "text": [
      "  \n"
     ]
    },
    {
     "name": "stdout",
     "output_type": "stream",
     "text": [
      "index: 151; αE: 3.0386867469879517\n"
     ]
    },
    {
     "name": "stdout",
     "output_type": "stream",
     "text": [
      "u0: [9.756616818789945, 0.45400202493362574, 0.8217494593781272, 0.00010528457438654773, 0.02918340220061358, 0.0011304363445239756]\n"
     ]
    },
    {
     "name": "stdout",
     "output_type": "stream",
     "text": [
      "calc LSE\n"
     ]
    },
    {
     "name": "stdout",
     "output_type": "stream",
     "text": [
      "Λ: [-0.08615908790165151, -0.08402172027322848, -0.11062316531890387, -0.3663134454618545, -0.4213676648969191, -3.0363741426372757]\n"
     ]
    },
    {
     "name": "stdout",
     "output_type": "stream",
     "text": [
      "last point: [9.360504542648236, 0.4659851706979725, 0.8161855756720432, 0.00013385618349259605, 0.015632606292722912, 2.5272453957712647e-6]\n"
     ]
    },
    {
     "name": "stdout",
     "output_type": "stream",
     "text": [
      "----------------\n"
     ]
    },
    {
     "name": "stdout",
     "output_type": "stream",
     "text": [
      "  \n"
     ]
    },
    {
     "name": "stdout",
     "output_type": "stream",
     "text": [
      "index: 152; αE: 3.0584979919678714\n"
     ]
    },
    {
     "name": "stdout",
     "output_type": "stream",
     "text": [
      "u0: [9.360504542648236, 0.4659851706979725, 0.8161855756720432, 0.00013385618349259605, 0.015632606292722912, 2.5272453957712647e-6]\n"
     ]
    },
    {
     "name": "stdout",
     "output_type": "stream",
     "text": [
      "calc LSE\n"
     ]
    },
    {
     "name": "stdout",
     "output_type": "stream",
     "text": [
      "Λ: [0.02701442520355723, 0.02089867054256204, -0.24752227377376257, -0.7226485778799523, -0.7342360135818329, -3.410475911704551]\n"
     ]
    },
    {
     "name": "stdout",
     "output_type": "stream",
     "text": [
      "last point: [9.136675645167724, 0.4730227602069061, 0.8128854252531615, 0.00015411883569063086, 0.008267248533107813, 4.4123446954028965e-9]\n"
     ]
    },
    {
     "name": "stdout",
     "output_type": "stream",
     "text": [
      "----------------\n"
     ]
    },
    {
     "name": "stdout",
     "output_type": "stream",
     "text": [
      "  \n"
     ]
    },
    {
     "name": "stdout",
     "output_type": "stream",
     "text": [
      "index: 153; αE: 3.078309236947791\n"
     ]
    },
    {
     "name": "stdout",
     "output_type": "stream",
     "text": [
      "u0: [9.136675645167724, 0.4730227602069061, 0.8128854252531615, 0.00015411883569063086, 0.008267248533107813, 4.4123446954028965e-9]\n"
     ]
    },
    {
     "name": "stdout",
     "output_type": "stream",
     "text": [
      "calc LSE\n"
     ]
    },
    {
     "name": "stdout",
     "output_type": "stream",
     "text": [
      "Λ: [-0.10623926111106109, -0.33149257721044323, -0.4947127239449231, -0.5460093607875641, -0.5139226287199017, -3.2214951366065003]\n"
     ]
    },
    {
     "name": "stdout",
     "output_type": "stream",
     "text": [
      "last point: [10.147534471669983, 0.44272992489519575, 0.8269242189676245, 8.387615685697002e-5, 0.042108012511916745, 0.013616576463109433]\n"
     ]
    },
    {
     "name": "stdout",
     "output_type": "stream",
     "text": [
      "----------------\n"
     ]
    },
    {
     "name": "stdout",
     "output_type": "stream",
     "text": [
      "  \n"
     ]
    },
    {
     "name": "stdout",
     "output_type": "stream",
     "text": [
      "index: 154; αE: 3.098120481927711\n"
     ]
    },
    {
     "name": "stdout",
     "output_type": "stream",
     "text": [
      "u0: [10.147534471669983, 0.44272992489519575, 0.8269242189676245, 8.387615685697002e-5, 0.042108012511916745, 0.013616576463109433]\n"
     ]
    },
    {
     "name": "stdout",
     "output_type": "stream",
     "text": [
      "calc LSE\n"
     ]
    },
    {
     "name": "stdout",
     "output_type": "stream",
     "text": [
      "Λ: [-0.11028225798091147, -0.18376566173144873, -0.1842944650176413, -0.3626917050709926, -0.4231489843583947, -3.0750156867273963]\n"
     ]
    },
    {
     "name": "stdout",
     "output_type": "stream",
     "text": [
      "last point: [9.49760315892907, 0.46177097471609246, 0.8181500788238705, 0.0001230216923331666, 0.01981064279722463, 2.8665954020245694e-5]\n"
     ]
    },
    {
     "name": "stdout",
     "output_type": "stream",
     "text": [
      "----------------\n"
     ]
    },
    {
     "name": "stdout",
     "output_type": "stream",
     "text": [
      "  \n"
     ]
    },
    {
     "name": "stdout",
     "output_type": "stream",
     "text": [
      "index: 155; αE: 3.1179317269076305\n"
     ]
    },
    {
     "name": "stdout",
     "output_type": "stream",
     "text": [
      "u0: [9.49760315892907, 0.46177097471609246, 0.8181500788238705, 0.0001230216923331666, 0.01981064279722463, 2.8665954020245694e-5]\n"
     ]
    },
    {
     "name": "stdout",
     "output_type": "stream",
     "text": [
      "calc LSE\n"
     ]
    },
    {
     "name": "stdout",
     "output_type": "stream",
     "text": [
      "Λ: [0.005733631551933508, -0.00015912662799050245, -0.1181148857527662, -0.4444877264274144, -0.5689294965316393, -3.3099733794739765]\n"
     ]
    },
    {
     "name": "stdout",
     "output_type": "stream",
     "text": [
      "last point: [9.212939835662942, 0.4706025812669395, 0.814023103935539, 0.00014682605443325488, 0.010517650685934046, 5.246282801427421e-8]\n"
     ]
    },
    {
     "name": "stdout",
     "output_type": "stream",
     "text": [
      "----------------\n"
     ]
    },
    {
     "name": "stdout",
     "output_type": "stream",
     "text": [
      "  \n"
     ]
    },
    {
     "name": "stdout",
     "output_type": "stream",
     "text": [
      "index: 156; αE: 3.1377429718875502\n"
     ]
    },
    {
     "name": "stdout",
     "output_type": "stream",
     "text": [
      "u0: [9.212939835662942, 0.4706025812669395, 0.814023103935539, 0.00014682605443325488, 0.010517650685934046, 5.246282801427421e-8]\n"
     ]
    },
    {
     "name": "stdout",
     "output_type": "stream",
     "text": [
      "calc LSE\n"
     ]
    },
    {
     "name": "stdout",
     "output_type": "stream",
     "text": [
      "Λ: [0.019492925330509704, 0.008185955557433632, -0.467125925510332, -0.7790179857496914, -0.9985273032639808, -3.5020322396444303]\n"
     ]
    },
    {
     "name": "stdout",
     "output_type": "stream",
     "text": [
      "last point: [9.056418036534332, 0.4755949906427028, 0.8116730391210264, 0.00016226746591468293, 0.005563155307387597, 9.11607793346873e-11]\n"
     ]
    },
    {
     "name": "stdout",
     "output_type": "stream",
     "text": [
      "----------------\n"
     ]
    },
    {
     "name": "stdout",
     "output_type": "stream",
     "text": [
      "  \n"
     ]
    },
    {
     "name": "stdout",
     "output_type": "stream",
     "text": [
      "index: 157; αE: 3.15755421686747\n"
     ]
    },
    {
     "name": "stdout",
     "output_type": "stream",
     "text": [
      "u0: [9.056418036534332, 0.4755949906427028, 0.8116730391210264, 0.00016226746591468293, 0.005563155307387597, 9.11607793346873e-11]\n"
     ]
    },
    {
     "name": "stdout",
     "output_type": "stream",
     "text": [
      "calc LSE\n"
     ]
    },
    {
     "name": "stdout",
     "output_type": "stream",
     "text": [
      "Λ: [-0.1086324397232604, -0.3414704532267651, -0.36506170333748184, -0.38413930740942803, -0.42423691025299964, -3.145848768643373]\n"
     ]
    },
    {
     "name": "stdout",
     "output_type": "stream",
     "text": [
      "last point: [9.75661480740337, 0.4540021527881165, 0.8217493541825988, 0.00010528740061467568, 0.02790157966973303, 0.000865176394434723]\n"
     ]
    },
    {
     "name": "stdout",
     "output_type": "stream",
     "text": [
      "----------------\n"
     ]
    },
    {
     "name": "stdout",
     "output_type": "stream",
     "text": [
      "  \n"
     ]
    },
    {
     "name": "stdout",
     "output_type": "stream",
     "text": [
      "index: 158; αE: 3.1773654618473897\n"
     ]
    },
    {
     "name": "stdout",
     "output_type": "stream",
     "text": [
      "u0: [9.75661480740337, 0.4540021527881165, 0.8217493541825988, 0.00010528740061467568, 0.02790157966973303, 0.000865176394434723]\n"
     ]
    },
    {
     "name": "stdout",
     "output_type": "stream",
     "text": [
      "calc LSE\n"
     ]
    },
    {
     "name": "stdout",
     "output_type": "stream",
     "text": [
      "Λ: [-0.08649104427673578, -0.08653403785234234, -0.11061282639138938, -0.3651059909569512, -0.4225610949164547, -3.036913900614304]\n"
     ]
    },
    {
     "name": "stdout",
     "output_type": "stream",
     "text": [
      "last point: [9.362450807716634, 0.46592483969476467, 0.816213760822775, 0.0001336945397859392, 0.015011859420370931, 1.9762771457463576e-6]\n"
     ]
    },
    {
     "name": "stdout",
     "output_type": "stream",
     "text": [
      "----------------\n"
     ]
    },
    {
     "name": "stdout",
     "output_type": "stream",
     "text": [
      "  \n"
     ]
    },
    {
     "name": "stdout",
     "output_type": "stream",
     "text": [
      "index: 159; αE: 3.1971767068273094\n"
     ]
    },
    {
     "name": "stdout",
     "output_type": "stream",
     "text": [
      "u0: [9.362450807716634, 0.46592483969476467, 0.816213760822775, 0.0001336945397859392, 0.015011859420370931, 1.9762771457463576e-6]\n"
     ]
    },
    {
     "name": "stdout",
     "output_type": "stream",
     "text": [
      "calc LSE\n"
     ]
    },
    {
     "name": "stdout",
     "output_type": "stream",
     "text": [
      "Λ: [0.021900206731590502, 0.01568382598512633, -0.2428381635536263, -0.7193573079135784, -0.7225052342211249, -3.3937536351581556]\n"
     ]
    },
    {
     "name": "stdout",
     "output_type": "stream",
     "text": [
      "last point: [9.145201350477052, 0.472751045968063, 0.81301329916988, 0.00015328233830208613, 0.008170156734470873, 4.626809622869186e-9]\n"
     ]
    },
    {
     "name": "stdout",
     "output_type": "stream",
     "text": [
      "----------------\n"
     ]
    },
    {
     "name": "stdout",
     "output_type": "stream",
     "text": [
      "  \n"
     ]
    },
    {
     "name": "stdout",
     "output_type": "stream",
     "text": [
      "index: 160; αE: 3.216987951807229\n"
     ]
    },
    {
     "name": "stdout",
     "output_type": "stream",
     "text": [
      "u0: [9.145201350477052, 0.472751045968063, 0.81301329916988, 0.00015328233830208613, 0.008170156734470873, 4.626809622869186e-9]\n"
     ]
    },
    {
     "name": "stdout",
     "output_type": "stream",
     "text": [
      "calc LSE\n"
     ]
    },
    {
     "name": "stdout",
     "output_type": "stream",
     "text": [
      "Λ: [-0.10460433254107812, -0.3256161125933512, -0.5227546770151734, -0.6305805439411357, -0.5709784447847924, -3.2568187672009725]\n"
     ]
    },
    {
     "name": "stdout",
     "output_type": "stream",
     "text": [
      "last point: [10.411210519030448, 0.43541975809408434, 0.8302507217920421, 7.231717952822306e-5, 0.04922728012024396, 0.024854811772196832]\n"
     ]
    },
    {
     "name": "stdout",
     "output_type": "stream",
     "text": [
      "----------------\n"
     ]
    },
    {
     "name": "stdout",
     "output_type": "stream",
     "text": [
      "  \n"
     ]
    },
    {
     "name": "stdout",
     "output_type": "stream",
     "text": [
      "index: 161; αE: 3.236799196787149\n"
     ]
    },
    {
     "name": "stdout",
     "output_type": "stream",
     "text": [
      "u0: [10.411210519030448, 0.43541975809408434, 0.8302507217920421, 7.231717952822306e-5, 0.04922728012024396, 0.024854811772196832]\n"
     ]
    },
    {
     "name": "stdout",
     "output_type": "stream",
     "text": [
      "calc LSE\n"
     ]
    },
    {
     "name": "stdout",
     "output_type": "stream",
     "text": [
      "Λ: [-0.10985032650842376, -0.2304144983357333, -0.23046074293870214, -0.36117241556851054, -0.42386579088818677, -3.0929812877227136]\n"
     ]
    },
    {
     "name": "stdout",
     "output_type": "stream",
     "text": [
      "last point: [9.561950662456212, 0.45981768336484974, 0.8190577154966152, 0.0001183016731422136, 0.02099404895573968, 6.0034441241395704e-5]\n"
     ]
    },
    {
     "name": "stdout",
     "output_type": "stream",
     "text": [
      "----------------\n"
     ]
    },
    {
     "name": "stdout",
     "output_type": "stream",
     "text": [
      "  \n"
     ]
    },
    {
     "name": "stdout",
     "output_type": "stream",
     "text": [
      "index: 162; αE: 3.2566104417670685\n"
     ]
    },
    {
     "name": "stdout",
     "output_type": "stream",
     "text": [
      "u0: [9.561950662456212, 0.45981768336484974, 0.8190577154966152, 0.0001183016731422136, 0.02099404895573968, 6.0034441241395704e-5]\n"
     ]
    },
    {
     "name": "stdout",
     "output_type": "stream",
     "text": [
      "calc LSE\n"
     ]
    },
    {
     "name": "stdout",
     "output_type": "stream",
     "text": [
      "Λ: [-0.010916355549790169, -0.010451922153555565, -0.11129125337383416, -0.36952015257147636, -0.4195723638385053, -3.0073347844376777]\n"
     ]
    },
    {
     "name": "stdout",
     "output_type": "stream",
     "text": [
      "last point: [9.258223371273276, 0.4691765144112687, 0.8146921005214098, 0.00014269156275364703, 0.011448095483059383, 1.4438920792868972e-7]\n"
     ]
    },
    {
     "name": "stdout",
     "output_type": "stream",
     "text": [
      "----------------\n"
     ]
    },
    {
     "name": "stdout",
     "output_type": "stream",
     "text": [
      "  \n"
     ]
    },
    {
     "name": "stdout",
     "output_type": "stream",
     "text": [
      "index: 163; αE: 3.2764216867469877\n"
     ]
    },
    {
     "name": "stdout",
     "output_type": "stream",
     "text": [
      "u0: [9.258223371273276, 0.4691765144112687, 0.8146921005214098, 0.00014269156275364703, 0.011448095483059383, 1.4438920792868972e-7]\n"
     ]
    },
    {
     "name": "stdout",
     "output_type": "stream",
     "text": [
      "calc LSE\n"
     ]
    },
    {
     "name": "stdout",
     "output_type": "stream",
     "text": [
      "Λ: [0.022088067309514847, 0.01511352596084855, -0.37605056346104226, -0.7855924588500782, -0.9014516548310553, -3.453077963720675]\n"
     ]
    },
    {
     "name": "stdout",
     "output_type": "stream",
     "text": [
      "last point: [9.090934984057279, 0.47448552846117487, 0.812196379389927, 0.00015870120446702317, 0.0063526579896875405, 4.0816356209400297e-10]\n"
     ]
    },
    {
     "name": "stdout",
     "output_type": "stream",
     "text": [
      "----------------\n"
     ]
    },
    {
     "name": "stdout",
     "output_type": "stream",
     "text": [
      "  \n"
     ]
    },
    {
     "name": "stdout",
     "output_type": "stream",
     "text": [
      "index: 164; αE: 3.2962329317269075\n"
     ]
    },
    {
     "name": "stdout",
     "output_type": "stream",
     "text": [
      "u0: [9.090934984057279, 0.47448552846117487, 0.812196379389927, 0.00015870120446702317, 0.0063526579896875405, 4.0816356209400297e-10]\n"
     ]
    },
    {
     "name": "stdout",
     "output_type": "stream",
     "text": [
      "calc LSE\n"
     ]
    },
    {
     "name": "stdout",
     "output_type": "stream",
     "text": [
      "Λ: [-0.10788039867662896, -0.33860221915150357, -0.43679803933757744, -0.43406534834398397, -0.4480436825797262, -3.1740457911286284]\n"
     ]
    },
    {
     "name": "stdout",
     "output_type": "stream",
     "text": [
      "last point: [9.867602969002757, 0.45074794863631495, 0.8232487188577142, 9.863182387673224e-5, 0.03026145129474958, 0.0020567836561445397]\n"
     ]
    },
    {
     "name": "stdout",
     "output_type": "stream",
     "text": [
      "----------------\n"
     ]
    },
    {
     "name": "stdout",
     "output_type": "stream",
     "text": [
      "  \n"
     ]
    },
    {
     "name": "stdout",
     "output_type": "stream",
     "text": [
      "index: 165; αE: 3.316044176706827\n"
     ]
    },
    {
     "name": "stdout",
     "output_type": "stream",
     "text": [
      "u0: [9.867602969002757, 0.45074794863631495, 0.8232487188577142, 9.863182387673224e-5, 0.03026145129474958, 0.0020567836561445397]\n"
     ]
    },
    {
     "name": "stdout",
     "output_type": "stream",
     "text": [
      "calc LSE\n"
     ]
    },
    {
     "name": "stdout",
     "output_type": "stream",
     "text": [
      "Λ: [-0.11071031899606214, -0.13096465724432543, -0.13091330936325124, -0.36531314780530405, -0.42154912245573223, -3.054286513863907]\n"
     ]
    },
    {
     "name": "stdout",
     "output_type": "stream",
     "text": [
      "last point: [9.424043671424567, 0.46402311978301186, 0.817101286401593, 0.00012869802444534536, 0.01625669535026807, 5.172691123619115e-6]\n"
     ]
    },
    {
     "name": "stdout",
     "output_type": "stream",
     "text": [
      "----------------\n"
     ]
    },
    {
     "name": "stdout",
     "output_type": "stream",
     "text": [
      "  \n"
     ]
    },
    {
     "name": "stdout",
     "output_type": "stream",
     "text": [
      "index: 166; αE: 3.335855421686747\n",
      "u0: [9.424043671424567, 0.46402311978301186, 0.817101286401593, 0.00012869802444534536, 0.01625669535026807, 5.172691123619115e-6]\n"
     ]
    },
    {
     "name": "stdout",
     "output_type": "stream",
     "text": [
      "calc LSE\n"
     ]
    },
    {
     "name": "stdout",
     "output_type": "stream",
     "text": [
      "Λ: [0.01560539719719204, 0.01025266110433679, -0.1564717617241676, -0.5455519097508164, -0.6298115188521954, -3.322602188872729]\n"
     ]
    },
    {
     "name": "stdout",
     "output_type": "stream",
     "text": [
      "last point: [9.186175829791129, 0.4714492633453617, 0.8136254288250289, 0.00014933725905308487, 0.009038477667093156, 1.4974106557605706e-8]\n"
     ]
    },
    {
     "name": "stdout",
     "output_type": "stream",
     "text": [
      "----------------\n"
     ]
    },
    {
     "name": "stdout",
     "output_type": "stream",
     "text": [
      "  \n"
     ]
    },
    {
     "name": "stdout",
     "output_type": "stream",
     "text": [
      "index: 167; αE: 3.3556666666666666\n"
     ]
    },
    {
     "name": "stdout",
     "output_type": "stream",
     "text": [
      "u0: [9.186175829791129, 0.4714492633453617, 0.8136254288250289, 0.00014933725905308487, 0.009038477667093156, 1.4974106557605706e-8]\n"
     ]
    },
    {
     "name": "stdout",
     "output_type": "stream",
     "text": [
      "calc LSE\n"
     ]
    },
    {
     "name": "stdout",
     "output_type": "stream",
     "text": [
      "Λ: [0.00421883764901624, -0.003971423499884634, -0.5370757645255546, -0.8039859467749105, -1.0768809303252185, -3.517098851398362]\n"
     ]
    },
    {
     "name": "stdout",
     "output_type": "stream",
     "text": [
      "last point: [9.031817284139207, 0.47638969335175074, 0.8112974892484176, 0.0001648739921174068, 0.004489485758029877, 1.3769913248757335e-11]\n"
     ]
    },
    {
     "name": "stdout",
     "output_type": "stream",
     "text": [
      "----------------\n"
     ]
    },
    {
     "name": "stdout",
     "output_type": "stream",
     "text": [
      "  \n"
     ]
    },
    {
     "name": "stdout",
     "output_type": "stream",
     "text": [
      "index: 168; αE: 3.3754779116465863\n"
     ]
    },
    {
     "name": "stdout",
     "output_type": "stream",
     "text": [
      "u0: [9.031817284139207, 0.47638969335175074, 0.8112974892484176, 0.0001648739921174068, 0.004489485758029877, 1.3769913248757335e-11]\n"
     ]
    },
    {
     "name": "stdout",
     "output_type": "stream",
     "text": [
      "calc LSE\n"
     ]
    },
    {
     "name": "stdout",
     "output_type": "stream",
     "text": [
      "Λ: [-0.10842091386675132, -0.34099656014001306, -0.37902292828083917, -0.3966288868416923, -0.4269933539755953, -3.151522761035654]\n"
     ]
    },
    {
     "name": "stdout",
     "output_type": "stream",
     "text": [
      "last point: [9.776109765155189, 0.45342743812145914, 0.8220144508400391, 0.00010408355932625664, 0.026703867717825933, 0.0007420923055761372]\n"
     ]
    },
    {
     "name": "stdout",
     "output_type": "stream",
     "text": [
      "----------------\n"
     ]
    },
    {
     "name": "stdout",
     "output_type": "stream",
     "text": [
      "  \n"
     ]
    },
    {
     "name": "stdout",
     "output_type": "stream",
     "text": [
      "index: 169; αE: 3.395289156626506\n"
     ]
    },
    {
     "name": "stdout",
     "output_type": "stream",
     "text": [
      "u0: [9.776109765155189, 0.45342743812145914, 0.8220144508400391, 0.00010408355932625664, 0.026703867717825933, 0.0007420923055761372]\n"
     ]
    },
    {
     "name": "stdout",
     "output_type": "stream",
     "text": [
      "calc LSE\n"
     ]
    },
    {
     "name": "stdout",
     "output_type": "stream",
     "text": [
      "Λ: [-0.10351443109260361, -0.10127911194495652, -0.11046181592785638, -0.366510630624219, -0.420853545634144, -3.043122877308065]\n"
     ]
    },
    {
     "name": "stdout",
     "output_type": "stream",
     "text": [
      "last point: [9.384352309690822, 0.46524693961624164, 0.8165303369792526, 0.00013189157959307175, 0.014697332708661004, 2.0789401964596575e-6]\n"
     ]
    },
    {
     "name": "stdout",
     "output_type": "stream",
     "text": [
      "----------------\n"
     ]
    },
    {
     "name": "stdout",
     "output_type": "stream",
     "text": [
      "  \n"
     ]
    },
    {
     "name": "stdout",
     "output_type": "stream",
     "text": [
      "index: 170; αE: 3.4151004016064257\n"
     ]
    },
    {
     "name": "stdout",
     "output_type": "stream",
     "text": [
      "u0: [9.384352309690822, 0.46524693961624164, 0.8165303369792526, 0.00013189157959307175, 0.014697332708661004, 2.0789401964596575e-6]\n"
     ]
    },
    {
     "name": "stdout",
     "output_type": "stream",
     "text": [
      "calc LSE\n"
     ]
    },
    {
     "name": "stdout",
     "output_type": "stream",
     "text": [
      "Λ: [0.017484671595923748, 0.0071496284682417205, -0.20810190504759055, -0.6645367494589676, -0.694519716400441, -3.3556265008600223]\n"
     ]
    },
    {
     "name": "stdout",
     "output_type": "stream",
     "text": [
      "last point: [9.164267718831862, 0.472144458842806, 0.8132986368337387, 0.00015143125578538454, 0.0081971690843726, 6.214837707085888e-9]\n"
     ]
    },
    {
     "name": "stdout",
     "output_type": "stream",
     "text": [
      "----------------\n"
     ]
    },
    {
     "name": "stdout",
     "output_type": "stream",
     "text": [
      "  \n"
     ]
    },
    {
     "name": "stdout",
     "output_type": "stream",
     "text": [
      "index: 171; αE: 3.4349116465863454\n"
     ]
    },
    {
     "name": "stdout",
     "output_type": "stream",
     "text": [
      "u0: [9.164267718831862, 0.472144458842806, 0.8132986368337387, 0.00015143125578538454, 0.0081971690843726, 6.214837707085888e-9]\n"
     ]
    },
    {
     "name": "stdout",
     "output_type": "stream",
     "text": [
      "calc LSE\n"
     ]
    },
    {
     "name": "stdout",
     "output_type": "stream",
     "text": [
      "Λ: [-0.008965655641261944, -0.016307085356431692, -0.525614487080809, -0.7746347324407574, -0.8663845977655293, -3.75427267244345]\n"
     ]
    },
    {
     "name": "stdout",
     "output_type": "stream",
     "text": [
      "last point: [1.0528621792712753, 0.7582373132718747, 0.7403544188373286, 0.04161121113404666, 0.01516613039165582, 0.009296067415480343]\n"
     ]
    },
    {
     "name": "stdout",
     "output_type": "stream",
     "text": [
      "----------------\n"
     ]
    },
    {
     "name": "stdout",
     "output_type": "stream",
     "text": [
      "  \n"
     ]
    },
    {
     "name": "stdout",
     "output_type": "stream",
     "text": [
      "index: 172; αE: 3.454722891566265\n"
     ]
    },
    {
     "name": "stdout",
     "output_type": "stream",
     "text": [
      "u0: [1.0528621792712753, 0.7582373132718747, 0.7403544188373286, 0.04161121113404666, 0.01516613039165582, 0.009296067415480343]\n"
     ]
    },
    {
     "name": "stdout",
     "output_type": "stream",
     "text": [
      "calc LSE\n"
     ]
    },
    {
     "name": "stdout",
     "output_type": "stream",
     "text": [
      "Λ: [-0.10889157428675934, -0.3272769243646936, -0.3300186747401078, -0.3584282752125075, -0.4247649132751447, -3.131194542906855]\n"
     ]
    },
    {
     "name": "stdout",
     "output_type": "stream",
     "text": [
      "last point: [9.699802671508568, 0.45568509764792425, 0.8209720106172977, 0.00010890262954491694, 0.02378858856023384, 0.00026730722430493524]\n"
     ]
    },
    {
     "name": "stdout",
     "output_type": "stream",
     "text": [
      "----------------\n"
     ]
    },
    {
     "name": "stdout",
     "output_type": "stream",
     "text": [
      "  \n"
     ]
    },
    {
     "name": "stdout",
     "output_type": "stream",
     "text": [
      "index: 173; αE: 3.474534136546185\n"
     ]
    },
    {
     "name": "stdout",
     "output_type": "stream",
     "text": [
      "u0: [9.699802671508568, 0.45568509764792425, 0.8209720106172977, 0.00010890262954491694, 0.02378858856023384, 0.00026730722430493524]\n"
     ]
    },
    {
     "name": "stdout",
     "output_type": "stream",
     "text": [
      "calc LSE\n"
     ]
    },
    {
     "name": "stdout",
     "output_type": "stream",
     "text": [
      "Λ: [-0.07673176600451695, -0.07258404368831407, -0.11071648031134577, -0.3659820935134381, -0.42192094649996276, -3.0322777343323692]\n"
     ]
    },
    {
     "name": "stdout",
     "output_type": "stream",
     "text": [
      "last point: [9.346101589871926, 0.4664320963003352, 0.81597672684585, 0.00013505976920730935, 0.013255464616180516, 8.186576593662311e-7]\n"
     ]
    },
    {
     "name": "stdout",
     "output_type": "stream",
     "text": [
      "----------------\n"
     ]
    },
    {
     "name": "stdout",
     "output_type": "stream",
     "text": [
      "  \n"
     ]
    },
    {
     "name": "stdout",
     "output_type": "stream",
     "text": [
      "index: 174; αE: 3.4943453815261045\n"
     ]
    },
    {
     "name": "stdout",
     "output_type": "stream",
     "text": [
      "u0: [9.346101589871926, 0.4664320963003352, 0.81597672684585, 0.00013505976920730935, 0.013255464616180516, 8.186576593662311e-7]\n"
     ]
    },
    {
     "name": "stdout",
     "output_type": "stream",
     "text": [
      "calc LSE\n"
     ]
    },
    {
     "name": "stdout",
     "output_type": "stream",
     "text": [
      "Λ: [0.021047801001116733, 0.016843235283654102, -0.25417149599732936, -0.732885850425843, -0.7244077478054155, -3.37258917452614]\n"
     ]
    },
    {
     "name": "stdout",
     "output_type": "stream",
     "text": [
      "last point: [9.144583504707484, 0.4727707268761103, 0.8130040382050817, 0.0001533427749245305, 0.007457997216261436, 2.662499779479531e-9]\n"
     ]
    },
    {
     "name": "stdout",
     "output_type": "stream",
     "text": [
      "----------------\n"
     ]
    },
    {
     "name": "stdout",
     "output_type": "stream",
     "text": [
      "  \n"
     ]
    },
    {
     "name": "stdout",
     "output_type": "stream",
     "text": [
      "index: 175; αE: 3.5141566265060242\n"
     ]
    },
    {
     "name": "stdout",
     "output_type": "stream",
     "text": [
      "u0: [9.144583504707484, 0.4727707268761103, 0.8130040382050817, 0.0001533427749245305, 0.007457997216261436, 2.662499779479531e-9]\n"
     ]
    },
    {
     "name": "stdout",
     "output_type": "stream",
     "text": [
      "calc LSE\n"
     ]
    },
    {
     "name": "stdout",
     "output_type": "stream",
     "text": [
      "Λ: [-0.10355286592960905, -0.32236300895840375, -0.5428102009604846, -0.6902618409677668, -0.6149182646970219, -3.281943759435167]\n"
     ]
    },
    {
     "name": "stdout",
     "output_type": "stream",
     "text": [
      "last point: [10.563468782516322, 0.43130279740797867, 0.8321132348576146, 6.654005516896964e-5, 0.049857753592430526, 0.028400236914832025]\n"
     ]
    },
    {
     "name": "stdout",
     "output_type": "stream",
     "text": [
      "----------------\n"
     ]
    },
    {
     "name": "stdout",
     "output_type": "stream",
     "text": [
      "  \n"
     ]
    },
    {
     "name": "stdout",
     "output_type": "stream",
     "text": [
      "index: 176; αE: 3.533967871485944\n"
     ]
    },
    {
     "name": "stdout",
     "output_type": "stream",
     "text": [
      "u0: [10.563468782516322, 0.43130279740797867, 0.8321132348576146, 6.654005516896964e-5, 0.049857753592430526, 0.028400236914832025]\n"
     ]
    },
    {
     "name": "stdout",
     "output_type": "stream",
     "text": [
      "calc LSE\n"
     ]
    },
    {
     "name": "stdout",
     "output_type": "stream",
     "text": [
      "Λ: [-0.10934105800604978, -0.2748629888565691, -0.2763039912754913, -0.3606630295619257, -0.42350593306808426, -3.1105795203426414]\n"
     ]
    },
    {
     "name": "stdout",
     "output_type": "stream",
     "text": [
      "last point: [9.624778278620743, 0.4579254973510582, 0.8199352123486487, 0.0001139020998302121, 0.021057273470803436, 8.920286130279641e-5]\n"
     ]
    },
    {
     "name": "stdout",
     "output_type": "stream",
     "text": [
      "----------------\n"
     ]
    },
    {
     "name": "stdout",
     "output_type": "stream",
     "text": [
      "  \n"
     ]
    },
    {
     "name": "stdout",
     "output_type": "stream",
     "text": [
      "index: 177; αE: 3.5537791164658636\n"
     ]
    },
    {
     "name": "stdout",
     "output_type": "stream",
     "text": [
      "u0: [9.624778278620743, 0.4579254973510582, 0.8199352123486487, 0.0001139020998302121, 0.021057273470803436, 8.920286130279641e-5]\n"
     ]
    },
    {
     "name": "stdout",
     "output_type": "stream",
     "text": [
      "calc LSE\n"
     ]
    },
    {
     "name": "stdout",
     "output_type": "stream",
     "text": [
      "Λ: [-0.045757480097648774, -0.04596800152294984, -0.11096063967389981, -0.3670792036141795, -0.4213432902335332, -3.021073639735916]\n"
     ]
    },
    {
     "name": "stdout",
     "output_type": "stream",
     "text": [
      "last point: [9.306475515185666, 0.46766586606765803, 0.8153996753799908, 0.00013843881566858945, 0.011843620709451611, 2.917890473718473e-7]\n"
     ]
    },
    {
     "name": "stdout",
     "output_type": "stream",
     "text": [
      "----------------\n"
     ]
    },
    {
     "name": "stdout",
     "output_type": "stream",
     "text": [
      "  \n"
     ]
    },
    {
     "name": "stdout",
     "output_type": "stream",
     "text": [
      "index: 178; αE: 3.5735903614457833\n"
     ]
    },
    {
     "name": "stdout",
     "output_type": "stream",
     "text": [
      "u0: [9.306475515185666, 0.46766586606765803, 0.8153996753799908, 0.00013843881566858945, 0.011843620709451611, 2.917890473718473e-7]\n"
     ]
    },
    {
     "name": "stdout",
     "output_type": "stream",
     "text": [
      "calc LSE\n"
     ]
    },
    {
     "name": "stdout",
     "output_type": "stream",
     "text": [
      "Λ: [0.026364471092095793, 0.018229726052754826, -0.2991708681758954, -0.771985276359849, -0.7958574415130745, -3.393487508807924]\n"
     ]
    },
    {
     "name": "stdout",
     "output_type": "stream",
     "text": [
      "last point: [9.124140598631975, 0.473422784338685, 0.8126970986401936, 0.00015535866516289547, 0.006732058130165889, 1.0490543737562042e-9]\n"
     ]
    },
    {
     "name": "stdout",
     "output_type": "stream",
     "text": [
      "----------------\n"
     ]
    },
    {
     "name": "stdout",
     "output_type": "stream",
     "text": [
      "  \n"
     ]
    },
    {
     "name": "stdout",
     "output_type": "stream",
     "text": [
      "index: 179; αE: 3.5934016064257026\n"
     ]
    },
    {
     "name": "stdout",
     "output_type": "stream",
     "text": [
      "u0: [9.124140598631975, 0.473422784338685, 0.8126970986401936, 0.00015535866516289547, 0.006732058130165889, 1.0490543737562042e-9]\n"
     ]
    },
    {
     "name": "stdout",
     "output_type": "stream",
     "text": [
      "calc LSE\n"
     ]
    },
    {
     "name": "stdout",
     "output_type": "stream",
     "text": [
      "Λ: [-0.10606222898736418, -0.3318800264950382, -0.5112384882658958, -0.5774949880279955, -0.5300490491506133, -3.2330589547279285]\n"
     ]
    },
    {
     "name": "stdout",
     "output_type": "stream",
     "text": [
      "last point: [10.146914113254299, 0.44274903345491773, 0.8269143931702172, 8.395904062702612e-5, 0.03605271544607376, 0.00875772467152657]\n"
     ]
    },
    {
     "name": "stdout",
     "output_type": "stream",
     "text": [
      "----------------\n"
     ]
    },
    {
     "name": "stdout",
     "output_type": "stream",
     "text": [
      "  \n"
     ]
    },
    {
     "name": "stdout",
     "output_type": "stream",
     "text": [
      "index: 180; αE: 3.6132128514056223\n"
     ]
    },
    {
     "name": "stdout",
     "output_type": "stream",
     "text": [
      "u0: [10.146914113254299, 0.44274903345491773, 0.8269143931702172, 8.395904062702612e-5, 0.03605271544607376, 0.00875772467152657]\n"
     ]
    },
    {
     "name": "stdout",
     "output_type": "stream",
     "text": [
      "calc LSE\n"
     ]
    },
    {
     "name": "stdout",
     "output_type": "stream",
     "text": [
      "Λ: [-0.10975480666629481, -0.2272251820371966, -0.22793605417439813, -0.3610345505193973, -0.4240331807649335, -3.09189831658254]\n"
     ]
    },
    {
     "name": "stdout",
     "output_type": "stream",
     "text": [
      "last point: [9.557784830507462, 0.459943673103849, 0.818999223183339, 0.0001186008231382301, 0.018688744987924687, 3.002638660999862e-5]\n"
     ]
    },
    {
     "name": "stdout",
     "output_type": "stream",
     "text": [
      "----------------\n"
     ]
    },
    {
     "name": "stdout",
     "output_type": "stream",
     "text": [
      "  \n"
     ]
    },
    {
     "name": "stdout",
     "output_type": "stream",
     "text": [
      "index: 181; αE: 3.633024096385542\n"
     ]
    },
    {
     "name": "stdout",
     "output_type": "stream",
     "text": [
      "u0: [9.557784830507462, 0.459943673103849, 0.818999223183339, 0.0001186008231382301, 0.018688744987924687, 3.002638660999862e-5]\n"
     ]
    },
    {
     "name": "stdout",
     "output_type": "stream",
     "text": [
      "calc LSE\n"
     ]
    },
    {
     "name": "stdout",
     "output_type": "stream",
     "text": [
      "Λ: [-0.020362311401876283, -0.018624734862283474, -0.11120537297826366, -0.368433552846696, -0.4205079686685989, -3.0107436093315525]\n"
     ]
    },
    {
     "name": "stdout",
     "output_type": "stream",
     "text": [
      "last point: [9.270191800709844, 0.4688009601412731, 0.8148681124766247, 0.00014162225680626212, 0.01058955415957879, 1.0490197623328869e-7]\n"
     ]
    },
    {
     "name": "stdout",
     "output_type": "stream",
     "text": [
      "----------------\n"
     ]
    },
    {
     "name": "stdout",
     "output_type": "stream",
     "text": [
      "  \n"
     ]
    },
    {
     "name": "stdout",
     "output_type": "stream",
     "text": [
      "index: 182; αE: 3.6528353413654617\n"
     ]
    },
    {
     "name": "stdout",
     "output_type": "stream",
     "text": [
      "u0: [9.270191800709844, 0.4688009601412731, 0.8148681124766247, 0.00014162225680626212, 0.01058955415957879, 1.0490197623328869e-7]\n"
     ]
    },
    {
     "name": "stdout",
     "output_type": "stream",
     "text": [
      "calc LSE\n"
     ]
    },
    {
     "name": "stdout",
     "output_type": "stream",
     "text": [
      "Λ: [0.025070649695625447, 0.01846837687032061, -0.34922202611223513, -0.7971485203732442, -0.8673858741386808, -3.413715206878744]\n"
     ]
    },
    {
     "name": "stdout",
     "output_type": "stream",
     "text": [
      "last point: [9.10381494750716, 0.4740727754436376, 0.8123909185568462, 0.00015739455394301862, 0.006042057021746015, 3.935814092741194e-10]\n"
     ]
    },
    {
     "name": "stdout",
     "output_type": "stream",
     "text": [
      "----------------\n"
     ]
    },
    {
     "name": "stdout",
     "output_type": "stream",
     "text": [
      "  \n"
     ]
    },
    {
     "name": "stdout",
     "output_type": "stream",
     "text": [
      "index: 183; αE: 3.6726465863453814\n"
     ]
    },
    {
     "name": "stdout",
     "output_type": "stream",
     "text": [
      "u0: [9.10381494750716, 0.4740727754436376, 0.8123909185568462, 0.00015739455394301862, 0.006042057021746015, 3.935814092741194e-10]\n"
     ]
    },
    {
     "name": "stdout",
     "output_type": "stream",
     "text": [
      "calc LSE\n"
     ]
    },
    {
     "name": "stdout",
     "output_type": "stream",
     "text": [
      "Λ: [-0.10689153063941542, -0.3353242613056234, -0.48599810321857984, -0.5156191413177155, -0.49094640332832784, -3.20784369121894]\n"
     ]
    },
    {
     "name": "stdout",
     "output_type": "stream",
     "text": [
      "last point: [10.005238940940258, 0.4467730667748357, 0.8250735438924033, 9.106608985564549e-5, 0.031135254541699017, 0.0036807353581610703]\n"
     ]
    },
    {
     "name": "stdout",
     "output_type": "stream",
     "text": [
      "----------------\n"
     ]
    },
    {
     "name": "stdout",
     "output_type": "stream",
     "text": [
      "  \n"
     ]
    },
    {
     "name": "stdout",
     "output_type": "stream",
     "text": [
      "index: 184; αE: 3.692457831325301\n"
     ]
    },
    {
     "name": "stdout",
     "output_type": "stream",
     "text": [
      "u0: [10.005238940940258, 0.4467730667748357, 0.8250735438924033, 9.106608985564549e-5, 0.031135254541699017, 0.0036807353581610703]\n"
     ]
    },
    {
     "name": "stdout",
     "output_type": "stream",
     "text": [
      "calc LSE\n"
     ]
    },
    {
     "name": "stdout",
     "output_type": "stream",
     "text": [
      "Λ: [-0.11002268723914917, -0.19559234812406212, -0.19821878160924927, -0.3625458956711066, -0.4231180927426576, -3.079922599921151]\n"
     ]
    },
    {
     "name": "stdout",
     "output_type": "stream",
     "text": [
      "last point: [9.51516386234913, 0.46123636920862626, 0.8183986736837947, 0.00012171163620194462, 0.017106955389552668, 1.3712023199313867e-5]\n"
     ]
    },
    {
     "name": "stdout",
     "output_type": "stream",
     "text": [
      "----------------\n"
     ]
    },
    {
     "name": "stdout",
     "output_type": "stream",
     "text": [
      "  \n"
     ]
    },
    {
     "name": "stdout",
     "output_type": "stream",
     "text": [
      "index: 185; αE: 3.712269076305221\n"
     ]
    },
    {
     "name": "stdout",
     "output_type": "stream",
     "text": [
      "u0: [9.51516386234913, 0.46123636920862626, 0.8183986736837947, 0.00012171163620194462, 0.017106955389552668, 1.3712023199313867e-5]\n"
     ]
    },
    {
     "name": "stdout",
     "output_type": "stream",
     "text": [
      "calc LSE\n"
     ]
    },
    {
     "name": "stdout",
     "output_type": "stream",
     "text": [
      "Λ: [0.0009444582855026423, -0.009460190074353225, -0.11136813365991471, -0.3724339884297214, -0.43388747786103593, -3.0839089007096154]\n"
     ]
    },
    {
     "name": "stdout",
     "output_type": "stream",
     "text": [
      "last point: [9.247819075756281, 0.4695034474899183, 0.8145388189902023, 0.00014362900569153802, 0.00976456089442178, 5.15564577896855e-8]\n"
     ]
    },
    {
     "name": "stdout",
     "output_type": "stream",
     "text": [
      "----------------\n"
     ]
    },
    {
     "name": "stdout",
     "output_type": "stream",
     "text": [
      "  \n"
     ]
    },
    {
     "name": "stdout",
     "output_type": "stream",
     "text": [
      "index: 186; αE: 3.7320803212851406\n"
     ]
    },
    {
     "name": "stdout",
     "output_type": "stream",
     "text": [
      "u0: [9.247819075756281, 0.4695034474899183, 0.8145388189902023, 0.00014362900569153802, 0.00976456089442178, 5.15564577896855e-8]\n"
     ]
    },
    {
     "name": "stdout",
     "output_type": "stream",
     "text": [
      "calc LSE\n"
     ]
    },
    {
     "name": "stdout",
     "output_type": "stream",
     "text": [
      "Λ: [0.023301213423201395, 0.014885243843147638, -0.3735261465190688, -0.8123033760192349, -0.8991638451352642, -3.423000222529997]\n"
     ]
    },
    {
     "name": "stdout",
     "output_type": "stream",
     "text": [
      "last point: [9.091497005380706, 0.47446750379892366, 0.8122048765901484, 0.00015864391791293574, 0.005591728786966744, 2.0012564060481668e-10]\n"
     ]
    },
    {
     "name": "stdout",
     "output_type": "stream",
     "text": [
      "----------------\n"
     ]
    },
    {
     "name": "stdout",
     "output_type": "stream",
     "text": [
      "  \n"
     ]
    },
    {
     "name": "stdout",
     "output_type": "stream",
     "text": [
      "index: 187; αE: 3.7518915662650603\n"
     ]
    },
    {
     "name": "stdout",
     "output_type": "stream",
     "text": [
      "u0: [9.091497005380706, 0.47446750379892366, 0.8122048765901484, 0.00015864391791293574, 0.005591728786966744, 2.0012564060481668e-10]\n"
     ]
    },
    {
     "name": "stdout",
     "output_type": "stream",
     "text": [
      "calc LSE\n"
     ]
    },
    {
     "name": "stdout",
     "output_type": "stream",
     "text": [
      "Λ: [-0.10720002851050302, -0.33667689105160253, -0.4739508058243035, -0.4927641292900919, -0.4715414763870405, -3.1971200458591587]\n"
     ]
    },
    {
     "name": "stdout",
     "output_type": "stream",
     "text": [
      "last point: [9.954178031548455, 0.4482401688118008, 0.8244006985470345, 9.379675912857106e-5, 0.029028660086306876, 0.0023075474348460616]\n"
     ]
    },
    {
     "name": "stdout",
     "output_type": "stream",
     "text": [
      "----------------\n"
     ]
    },
    {
     "name": "stdout",
     "output_type": "stream",
     "text": [
      "  \n"
     ]
    },
    {
     "name": "stdout",
     "output_type": "stream",
     "text": [
      "index: 188; αE: 3.77170281124498\n"
     ]
    },
    {
     "name": "stdout",
     "output_type": "stream",
     "text": [
      "u0: [9.954178031548455, 0.4482401688118008, 0.8244006985470345, 9.379675912857106e-5, 0.029028660086306876, 0.0023075474348460616]\n"
     ]
    },
    {
     "name": "stdout",
     "output_type": "stream",
     "text": [
      "calc LSE\n"
     ]
    },
    {
     "name": "stdout",
     "output_type": "stream",
     "text": [
      "Λ: [-0.11015311851373648, -0.18073836305026003, -0.18170458872645537, -0.3631917546906694, -0.42278426694277527, -3.0737867355778747]\n"
     ]
    },
    {
     "name": "stdout",
     "output_type": "stream",
     "text": [
      "last point: [9.493401394540502, 0.4618990678961113, 0.8180904910836687, 0.00012333787208806157, 0.016159198212582254, 8.561368652993457e-6]\n",
      "----------------\n"
     ]
    },
    {
     "name": "stdout",
     "output_type": "stream",
     "text": [
      "  \n"
     ]
    },
    {
     "name": "stdout",
     "output_type": "stream",
     "text": [
      "index: 189; αE: 3.7915140562248997\n"
     ]
    },
    {
     "name": "stdout",
     "output_type": "stream",
     "text": [
      "u0: [9.493401394540502, 0.4618990678961113, 0.8180904910836687, 0.00012333787208806157, 0.016159198212582254, 8.561368652993457e-6]\n"
     ]
    },
    {
     "name": "stdout",
     "output_type": "stream",
     "text": [
      "calc LSE\n"
     ]
    },
    {
     "name": "stdout",
     "output_type": "stream",
     "text": [
      "Λ: [0.004716038668920447, -0.0002718283146462278, -0.1130553137265795, -0.3690629607845151, -0.4290542808992667, -3.0518855642962293]\n"
     ]
    },
    {
     "name": "stdout",
     "output_type": "stream",
     "text": [
      "last point: [9.238222465963318, 0.46980538020523627, 0.8143972116414493, 0.00014450023420734266, 0.009309377953518104, 3.5148512357508906e-8]\n"
     ]
    },
    {
     "name": "stdout",
     "output_type": "stream",
     "text": [
      "----------------\n"
     ]
    },
    {
     "name": "stdout",
     "output_type": "stream",
     "text": [
      "  \n"
     ]
    },
    {
     "name": "stdout",
     "output_type": "stream",
     "text": [
      "index: 190; αE: 3.8113253012048194\n"
     ]
    },
    {
     "name": "stdout",
     "output_type": "stream",
     "text": [
      "u0: [9.238222465963318, 0.46980538020523627, 0.8143972116414493, 0.00014450023420734266, 0.009309377953518104, 3.5148512357508906e-8]\n"
     ]
    },
    {
     "name": "stdout",
     "output_type": "stream",
     "text": [
      "calc LSE\n"
     ]
    },
    {
     "name": "stdout",
     "output_type": "stream",
     "text": [
      "Λ: [0.02190399927652296, 0.018801374517922333, -0.38590257781766646, -0.8185726551189848, -0.915687569601931, -3.4237493776191954]\n"
     ]
    },
    {
     "name": "stdout",
     "output_type": "stream",
     "text": [
      "last point: [9.08884699903425, 0.4745525037539023, 0.8121648044058574, 0.00015891424885112554, 0.005407685653943207, 1.5773191882580081e-10]\n"
     ]
    },
    {
     "name": "stdout",
     "output_type": "stream",
     "text": [
      "----------------\n"
     ]
    },
    {
     "name": "stdout",
     "output_type": "stream",
     "text": [
      "  \n"
     ]
    },
    {
     "name": "stdout",
     "output_type": "stream",
     "text": [
      "index: 191; αE: 3.831136546184739"
     ]
    },
    {
     "name": "stdout",
     "output_type": "stream",
     "text": [
      "\n",
      "u0: [9.08884699903425, 0.4745525037539023, 0.8121648044058574, 0.00015891424885112554, 0.005407685653943207, 1.5773191882580081e-10]\n"
     ]
    },
    {
     "name": "stdout",
     "output_type": "stream",
     "text": [
      "calc LSE\n"
     ]
    },
    {
     "name": "stdout",
     "output_type": "stream",
     "text": [
      "Λ: [-0.10709453905330124, -0.3363973978251218, -0.477188701916343, -0.49889797880979564, -0.4780714566168125, -3.2002266924626057]\n"
     ]
    },
    {
     "name": "stdout",
     "output_type": "stream",
     "text": [
      "last point: [9.96546844379648, 0.4479150800097082, 0.8245498121451424, 9.318794781567297e-5, 0.0287414289707892, 0.002302969650713824]\n"
     ]
    },
    {
     "name": "stdout",
     "output_type": "stream",
     "text": [
      "----------------\n"
     ]
    },
    {
     "name": "stdout",
     "output_type": "stream",
     "text": [
      "  \n"
     ]
    },
    {
     "name": "stdout",
     "output_type": "stream",
     "text": [
      "index: 192; αE: 3.850947791164659\n",
      "u0: [9.96546844379648, 0.4479150800097082, 0.8245498121451424, 9.318794781567297e-5, 0.0287414289707892, 0.002302969650713824]\n"
     ]
    },
    {
     "name": "stdout",
     "output_type": "stream",
     "text": [
      "calc LSE\n"
     ]
    },
    {
     "name": "stdout",
     "output_type": "stream",
     "text": [
      "Λ: [-0.11002491530315811, -0.19131022102095624, -0.19324026102166753, -0.36348106640773864, -0.42227358254935754, -3.0781121092623]\n"
     ]
    },
    {
     "name": "stdout",
     "output_type": "stream",
     "text": [
      "last point: [9.508705678498885, 0.4614328437860263, 0.8183073265958442, 0.00012219154650486486, 0.016231769990172857, 9.890141499673791e-6]\n"
     ]
    },
    {
     "name": "stdout",
     "output_type": "stream",
     "text": [
      "----------------\n"
     ]
    },
    {
     "name": "stdout",
     "output_type": "stream",
     "text": [
      "  \n"
     ]
    },
    {
     "name": "stdout",
     "output_type": "stream",
     "text": [
      "index: 193; αE: 3.8707590361445785\n"
     ]
    },
    {
     "name": "stdout",
     "output_type": "stream",
     "text": [
      "u0: [9.508705678498885, 0.4614328437860263, 0.8183073265958442, 0.00012219154650486486, 0.016231769990172857, 9.890141499673791e-6]\n"
     ]
    },
    {
     "name": "stdout",
     "output_type": "stream",
     "text": [
      "calc LSE\n"
     ]
    },
    {
     "name": "stdout",
     "output_type": "stream",
     "text": [
      "Λ: [0.0008538644660713963, -0.01082658687067744, -0.11140902256179615, -0.3726758461653408, -0.43590693280240234, -3.0870401273057526]\n"
     ]
    },
    {
     "name": "stdout",
     "output_type": "stream",
     "text": [
      "last point: [9.249587029819864, 0.4694478630927111, 0.814564883300367, 0.00014346919038071932, 0.0094100870036207, 4.311710512567214e-8]\n",
      "----------------\n"
     ]
    },
    {
     "name": "stdout",
     "output_type": "stream",
     "text": [
      "  \n"
     ]
    },
    {
     "name": "stdout",
     "output_type": "stream",
     "text": [
      "index: 194; αE: 3.890570281124498\n"
     ]
    },
    {
     "name": "stdout",
     "output_type": "stream",
     "text": [
      "u0: [9.249587029819864, 0.4694478630927111, 0.814564883300367, 0.00014346919038071932, 0.0094100870036207, 4.311710512567214e-8]\n"
     ]
    },
    {
     "name": "stdout",
     "output_type": "stream",
     "text": [
      "calc LSE\n"
     ]
    },
    {
     "name": "stdout",
     "output_type": "stream",
     "text": [
      "Λ: [0.025714019440871004, 0.018085653978909186, -0.3632090648461018, -0.8129917369868073, -0.8843249864470571, -3.4075675352019976]\n"
     ]
    },
    {
     "name": "stdout",
     "output_type": "stream",
     "text": [
      "last point: [9.098511006186989, 0.4742426647197481, 0.8123108565983373, 0.00015793106334312566, 0.005539784520953886, 2.2174607520377488e-10]\n"
     ]
    },
    {
     "name": "stdout",
     "output_type": "stream",
     "text": [
      "----------------\n"
     ]
    },
    {
     "name": "stdout",
     "output_type": "stream",
     "text": [
      "  \n"
     ]
    },
    {
     "name": "stdout",
     "output_type": "stream",
     "text": [
      "index: 195; αE: 3.9103815261044175\n"
     ]
    },
    {
     "name": "stdout",
     "output_type": "stream",
     "text": [
      "u0: [9.098511006186989, 0.4742426647197481, 0.8123108565983373, 0.00015793106334312566, 0.005539784520953886, 2.2174607520377488e-10]\n"
     ]
    },
    {
     "name": "stdout",
     "output_type": "stream",
     "text": [
      "calc LSE\n"
     ]
    },
    {
     "name": "stdout",
     "output_type": "stream",
     "text": [
      "Λ: [-0.10670184663454428, -0.3349783417191672, -0.4966573715796681, -0.5303568882644027, -0.49554296396381614, -3.2136120512378823]\n"
     ]
    },
    {
     "name": "stdout",
     "output_type": "stream",
     "text": [
      "last point: [10.022987578957562, 0.4462655065754414, 0.8253059076324636, 9.01489559469615e-5, 0.02972686583847983, 0.003264969568624775]\n"
     ]
    },
    {
     "name": "stdout",
     "output_type": "stream",
     "text": [
      "----------------\n"
     ]
    },
    {
     "name": "stdout",
     "output_type": "stream",
     "text": [
      "  \n"
     ]
    },
    {
     "name": "stdout",
     "output_type": "stream",
     "text": [
      "index: 196; αE: 3.930192771084337\n"
     ]
    },
    {
     "name": "stdout",
     "output_type": "stream",
     "text": [
      "u0: [10.022987578957562, 0.4462655065754414, 0.8253059076324636, 9.01489559469615e-5, 0.02972686583847983, 0.003264969568624775]\n"
     ]
    },
    {
     "name": "stdout",
     "output_type": "stream",
     "text": [
      "calc LSE\n"
     ]
    },
    {
     "name": "stdout",
     "output_type": "stream",
     "text": [
      "Λ: [-0.10976067050665826, -0.21808420978708, -0.22076390140395935, -0.3661550620760083, -0.41909655853434924, -3.0886735680733284]\n"
     ]
    },
    {
     "name": "stdout",
     "output_type": "stream",
     "text": [
      "last point: [9.546314615655236, 0.4602908954125494, 0.818837991289776, 0.00011942858213296391, 0.016882461899350887, 1.6160754865414477e-5]\n"
     ]
    },
    {
     "name": "stdout",
     "output_type": "stream",
     "text": [
      "----------------\n"
     ]
    },
    {
     "name": "stdout",
     "output_type": "stream",
     "text": [
      "  \n"
     ]
    },
    {
     "name": "stdout",
     "output_type": "stream",
     "text": [
      "index: 197; αE: 3.950004016064257\n"
     ]
    },
    {
     "name": "stdout",
     "output_type": "stream",
     "text": [
      "u0: [9.546314615655236, 0.4602908954125494, 0.818837991289776, 0.00011942858213296391, 0.016882461899350887, 1.6160754865414477e-5]\n"
     ]
    },
    {
     "name": "stdout",
     "output_type": "stream",
     "text": [
      "calc LSE\n"
     ]
    },
    {
     "name": "stdout",
     "output_type": "stream",
     "text": [
      "Λ: [-0.02177179684863823, -0.021394624880806953, -0.11116077194434422, -0.3669484680327712, -0.42192270732151604, -3.0116170221483327]\n"
     ]
    },
    {
     "name": "stdout",
     "output_type": "stream",
     "text": [
      "last point: [9.273087974287915, 0.46871016668998045, 0.8149106543726548, 0.00014136494869316783, 0.009812731908943488, 7.283425574991717e-8]\n"
     ]
    },
    {
     "name": "stdout",
     "output_type": "stream",
     "text": [
      "----------------\n"
     ]
    },
    {
     "name": "stdout",
     "output_type": "stream",
     "text": [
      "  \n"
     ]
    },
    {
     "name": "stdout",
     "output_type": "stream",
     "text": [
      "index: 198; αE: 3.9698152610441766\n"
     ]
    },
    {
     "name": "stdout",
     "output_type": "stream",
     "text": [
      "u0: [9.273087974287915, 0.46871016668998045, 0.8149106543726548, 0.00014136494869316783, 0.009812731908943488, 7.283425574991717e-8]\n"
     ]
    },
    {
     "name": "stdout",
     "output_type": "stream",
     "text": [
      "calc LSE\n"
     ]
    },
    {
     "name": "stdout",
     "output_type": "stream",
     "text": [
      "Λ: [0.022864469675090447, 0.017422384261968526, -0.3365517351402829, -0.8073790363102596, -0.8479693833681434, -3.391158151333671]\n"
     ]
    },
    {
     "name": "stdout",
     "output_type": "stream",
     "text": [
      "last point: [9.11050264486668, 0.4738587259444006, 0.8124917706954486, 0.00015672118194977116, 0.005724167442771633, 3.407586707049324e-10]\n"
     ]
    },
    {
     "name": "stdout",
     "output_type": "stream",
     "text": [
      "----------------\n"
     ]
    },
    {
     "name": "stdout",
     "output_type": "stream",
     "text": [
      "  \n"
     ]
    },
    {
     "name": "stdout",
     "output_type": "stream",
     "text": [
      "index: 199; αE: 3.9896265060240963\n"
     ]
    },
    {
     "name": "stdout",
     "output_type": "stream",
     "text": [
      "u0: [9.11050264486668, 0.4738587259444006, 0.8124917706954486, 0.00015672118194977116, 0.005724167442771633, 3.407586707049324e-10]\n"
     ]
    },
    {
     "name": "stdout",
     "output_type": "stream",
     "text": [
      "calc LSE\n"
     ]
    },
    {
     "name": "stdout",
     "output_type": "stream",
     "text": [
      "Λ: [-0.10602844154673999, -0.3324750063769209, -0.5150786074934487, -0.5865123826925497, -0.5314463363004489, -3.235399419758598]\n"
     ]
    },
    {
     "name": "stdout",
     "output_type": "stream",
     "text": [
      "last point: [10.126646420223643, 0.44332128537496124, 0.8266525212980269, 8.495974832236609e-5, 0.0319240940943976, 0.0057016316747705706]\n"
     ]
    },
    {
     "name": "stdout",
     "output_type": "stream",
     "text": [
      "----------------\n"
     ]
    },
    {
     "name": "stdout",
     "output_type": "stream",
     "text": [
      "  \n"
     ]
    },
    {
     "name": "stdout",
     "output_type": "stream",
     "text": [
      "index: 200; αE: 4.0094377510040164\n"
     ]
    },
    {
     "name": "stdout",
     "output_type": "stream",
     "text": [
      "u0: [10.126646420223643, 0.44332128537496124, 0.8266525212980269, 8.495974832236609e-5, 0.0319240940943976, 0.0057016316747705706]\n"
     ]
    },
    {
     "name": "stdout",
     "output_type": "stream",
     "text": [
      "calc LSE\n"
     ]
    },
    {
     "name": "stdout",
     "output_type": "stream",
     "text": [
      "Λ: [-0.10941146912199395, -0.25351882987233315, -0.25623569002547214, -0.3606865095025922, -0.4238866463508743, -3.102493283081028]\n"
     ]
    },
    {
     "name": "stdout",
     "output_type": "stream",
     "text": [
      "last point: [9.595565883544571, 0.458803470851967, 0.8195282603028337, 0.00011592317972926635, 0.017809528435582613, 2.9990784198283922e-5]\n"
     ]
    },
    {
     "name": "stdout",
     "output_type": "stream",
     "text": [
      "----------------\n"
     ]
    },
    {
     "name": "stdout",
     "output_type": "stream",
     "text": [
      "  \n"
     ]
    },
    {
     "name": "stdout",
     "output_type": "stream",
     "text": [
      "index: 201; αE: 4.029248995983936\n"
     ]
    },
    {
     "name": "stdout",
     "output_type": "stream",
     "text": [
      "u0: [9.595565883544571, 0.458803470851967, 0.8195282603028337, 0.00011592317972926635, 0.017809528435582613, 2.9990784198283922e-5]\n"
     ]
    },
    {
     "name": "stdout",
     "output_type": "stream",
     "text": [
      "calc LSE\n"
     ]
    },
    {
     "name": "stdout",
     "output_type": "stream",
     "text": [
      "Λ: [-0.04947058432087688, -0.048387540109272764, -0.11092002205530008, -0.3683164378573781, -0.4200534720600025, -3.0222789009056648]\n"
     ]
    },
    {
     "name": "stdout",
     "output_type": "stream",
     "text": [
      "last point: [9.310690404694318, 0.4675343428499953, 0.815461226337425, 0.00013807461068204098, 0.01055054232053716, 1.6449674861780953e-7]\n"
     ]
    },
    {
     "name": "stdout",
     "output_type": "stream",
     "text": [
      "----------------\n"
     ]
    },
    {
     "name": "stdout",
     "output_type": "stream",
     "text": [
      "  \n"
     ]
    },
    {
     "name": "stdout",
     "output_type": "stream",
     "text": [
      "index: 202; αE: 4.049060240963856\n"
     ]
    },
    {
     "name": "stdout",
     "output_type": "stream",
     "text": [
      "u0: [9.310690404694318, 0.4675343428499953, 0.815461226337425, 0.00013807461068204098, 0.01055054232053716, 1.6449674861780953e-7]\n"
     ]
    },
    {
     "name": "stdout",
     "output_type": "stream",
     "text": [
      "calc LSE\n"
     ]
    },
    {
     "name": "stdout",
     "output_type": "stream",
     "text": [
      "Λ: [0.025442033431850527, 0.017605836074629958, -0.2818945678104499, -0.7765774426316236, -0.7582506263283286, -3.3572735060287298]\n"
     ]
    },
    {
     "name": "stdout",
     "output_type": "stream",
     "text": [
      "last point: [9.136729166760839, 0.4730210535605684, 0.8128862285492292, 0.000154113567412214, 0.006246044153712426, 8.922674243236641e-10]\n"
     ]
    },
    {
     "name": "stdout",
     "output_type": "stream",
     "text": [
      "----------------\n"
     ]
    },
    {
     "name": "stdout",
     "output_type": "stream",
     "text": [
      "  \n"
     ]
    },
    {
     "name": "stdout",
     "output_type": "stream",
     "text": [
      "index: 203; αE: 4.068871485943775\n"
     ]
    },
    {
     "name": "stdout",
     "output_type": "stream",
     "text": [
      "u0: [9.136729166760839, 0.4730210535605684, 0.8128862285492292, 0.000154113567412214, 0.006246044153712426, 8.922674243236641e-10]\n"
     ]
    },
    {
     "name": "stdout",
     "output_type": "stream",
     "text": [
      "calc LSE\n"
     ]
    },
    {
     "name": "stdout",
     "output_type": "stream",
     "text": [
      "Λ: [-0.10316692891921683, -0.3218693860715352, -0.5586332180455047, -0.7409368110182204, -0.6495717527177755, -3.3007990691930735]\n"
     ]
    },
    {
     "name": "stdout",
     "output_type": "stream",
     "text": [
      "last point: [10.593194728562615, 0.4305096975040394, 0.8324698119308273, 6.55323204052537e-5, 0.04387288801880501, 0.02409115207944661]\n"
     ]
    },
    {
     "name": "stdout",
     "output_type": "stream",
     "text": [
      "----------------\n"
     ]
    },
    {
     "name": "stdout",
     "output_type": "stream",
     "text": [
      "  \n"
     ]
    },
    {
     "name": "stdout",
     "output_type": "stream",
     "text": [
      "index: 204; αE: 4.088682730923694\n",
      "u0: [10.593194728562615, 0.4305096975040394, 0.8324698119308273, 6.55323204052537e-5, 0.04387288801880501, 0.02409115207944661]\n"
     ]
    },
    {
     "name": "stdout",
     "output_type": "stream",
     "text": [
      "calc LSE\n"
     ]
    },
    {
     "name": "stdout",
     "output_type": "stream",
     "text": [
      "Λ: [-0.10867021899174015, -0.3353692421399808, -0.337539043125601, -0.35992480243150815, -0.4231596974712936, -3.134167556600694]\n"
     ]
    },
    {
     "name": "stdout",
     "output_type": "stream",
     "text": [
      "last point: [9.709574199071188, 0.4553948598337691, 0.8211061235746511, 0.00010827278011446338, 0.02034849810031912, 0.00012453828343296286]\n"
     ]
    },
    {
     "name": "stdout",
     "output_type": "stream",
     "text": [
      "----------------\n"
     ]
    },
    {
     "name": "stdout",
     "output_type": "stream",
     "text": [
      "  \n"
     ]
    },
    {
     "name": "stdout",
     "output_type": "stream",
     "text": [
      "index: 205; αE: 4.108493975903614\n"
     ]
    },
    {
     "name": "stdout",
     "output_type": "stream",
     "text": [
      "u0: [9.709574199071188, 0.4553948598337691, 0.8211061235746511, 0.00010827278011446338, 0.02034849810031912, 0.00012453828343296286]\n"
     ]
    },
    {
     "name": "stdout",
     "output_type": "stream",
     "text": [
      "calc LSE\n"
     ]
    },
    {
     "name": "stdout",
     "output_type": "stream",
     "text": [
      "Λ: [-0.09892454316496152, -0.09906746363478076, -0.11049441219140306, -0.36714210144843445, -0.42033638722445404, -3.041744406381056]\n"
     ]
    },
    {
     "name": "stdout",
     "output_type": "stream",
     "text": [
      "last point: [9.37961063045841, 0.4653935479601801, 0.8164618904936317, 0.00013227944030846727, 0.012029760849626106, 6.751229897759199e-7]\n"
     ]
    },
    {
     "name": "stdout",
     "output_type": "stream",
     "text": [
      "----------------\n"
     ]
    },
    {
     "name": "stdout",
     "output_type": "stream",
     "text": [
      "  \n"
     ]
    },
    {
     "name": "stdout",
     "output_type": "stream",
     "text": [
      "index: 206; αE: 4.128305220883534\n"
     ]
    },
    {
     "name": "stdout",
     "output_type": "stream",
     "text": [
      "u0: [9.37961063045841, 0.4653935479601801, 0.8164618904936317, 0.00013227944030846727, 0.012029760849626106, 6.751229897759199e-7]\n"
     ]
    },
    {
     "name": "stdout",
     "output_type": "stream",
     "text": [
      "calc LSE\n"
     ]
    },
    {
     "name": "stdout",
     "output_type": "stream",
     "text": [
      "Λ: [0.017027575703866992, 0.012119871240826164, -0.17687053694765656, -0.5884671820440374, -0.6375066552350425, -3.2835330116283545]\n"
     ]
    },
    {
     "name": "stdout",
     "output_type": "stream",
     "text": [
      "last point: [9.183267696524965, 0.47154143463353143, 0.8135821155917825, 0.00014961321352597066, 0.007234066078169513, 4.3109726813273325e-9]\n"
     ]
    },
    {
     "name": "stdout",
     "output_type": "stream",
     "text": [
      "----------------\n"
     ]
    },
    {
     "name": "stdout",
     "output_type": "stream",
     "text": [
      "  \n"
     ]
    },
    {
     "name": "stdout",
     "output_type": "stream",
     "text": [
      "index: 207; αE: 4.1481164658634535\n"
     ]
    },
    {
     "name": "stdout",
     "output_type": "stream",
     "text": [
      "u0: [9.183267696524965, 0.47154143463353143, 0.8135821155917825, 0.00014961321352597066, 0.007234066078169513, 4.3109726813273325e-9]\n"
     ]
    },
    {
     "name": "stdout",
     "output_type": "stream",
     "text": [
      "calc LSE\n"
     ]
    },
    {
     "name": "stdout",
     "output_type": "stream",
     "text": [
      "Λ: [0.0074989330963231345, 0.003576899220258141, -0.5297209815442181, -0.857631369227345, -1.0821253411810499, -3.4732290660907084]\n"
     ]
    },
    {
     "name": "stdout",
     "output_type": "stream",
     "text": [
      "last point: [9.040681018494682, 0.4761024291264422, 0.8114334704039003, 0.00016392517907616485, 0.003840125549298517, 7.626647039797555e-12]\n"
     ]
    },
    {
     "name": "stdout",
     "output_type": "stream",
     "text": [
      "----------------\n"
     ]
    },
    {
     "name": "stdout",
     "output_type": "stream",
     "text": [
      "  \n"
     ]
    },
    {
     "name": "stdout",
     "output_type": "stream",
     "text": [
      "index: 208; αE: 4.167927710843373\n"
     ]
    },
    {
     "name": "stdout",
     "output_type": "stream",
     "text": [
      "u0: [9.040681018494682, 0.4761024291264422, 0.8114334704039003, 0.00016392517907616485, 0.003840125549298517, 7.626647039797555e-12]\n"
     ]
    },
    {
     "name": "stdout",
     "output_type": "stream",
     "text": [
      "calc LSE\n"
     ]
    },
    {
     "name": "stdout",
     "output_type": "stream",
     "text": [
      "Λ: [-0.10729873384822237, -0.3376622443846131, -0.4664308544392256, -0.47105008116561675, -0.46673848382890987, -3.190420511554759]\n"
     ]
    },
    {
     "name": "stdout",
     "output_type": "stream",
     "text": [
      "last point: [9.919700178190903, 0.44923603422652514, 0.8239433610385966, 9.569915454618731e-5, 0.025253438843708263, 0.0010853421757083352]\n"
     ]
    },
    {
     "name": "stdout",
     "output_type": "stream",
     "text": [
      "----------------\n"
     ]
    },
    {
     "name": "stdout",
     "output_type": "stream",
     "text": [
      "  \n"
     ]
    },
    {
     "name": "stdout",
     "output_type": "stream",
     "text": [
      "index: 209; αE: 4.187738955823293\n"
     ]
    },
    {
     "name": "stdout",
     "output_type": "stream",
     "text": [
      "u0: [9.919700178190903, 0.44923603422652514, 0.8239433610385966, 9.569915454618731e-5, 0.025253438843708263, 0.0010853421757083352]\n"
     ]
    },
    {
     "name": "stdout",
     "output_type": "stream",
     "text": [
      "calc LSE\n"
     ]
    },
    {
     "name": "stdout",
     "output_type": "stream",
     "text": [
      "Λ: [-0.10992434592090757, -0.1922675723813646, -0.19367094059956216, -0.36256899564876566, -0.4231506165829715, -3.0784134599443473]\n"
     ]
    },
    {
     "name": "stdout",
     "output_type": "stream",
     "text": [
      "last point: [9.509625170081236, 0.46140486164106354, 0.8183203369682485, 0.00012212311469455853, 0.01494875883478397, 6.500330109405215e-6]\n"
     ]
    },
    {
     "name": "stdout",
     "output_type": "stream",
     "text": [
      "----------------\n"
     ]
    },
    {
     "name": "stdout",
     "output_type": "stream",
     "text": [
      "  \n"
     ]
    },
    {
     "name": "stdout",
     "output_type": "stream",
     "text": [
      "index: 210; αE: 4.207550200803213\n"
     ]
    },
    {
     "name": "stdout",
     "output_type": "stream",
     "text": [
      "u0: [9.509625170081236, 0.46140486164106354, 0.8183203369682485, 0.00012212311469455853, 0.01494875883478397, 6.500330109405215e-6]\n"
     ]
    },
    {
     "name": "stdout",
     "output_type": "stream",
     "text": [
      "calc LSE\n"
     ]
    },
    {
     "name": "stdout",
     "output_type": "stream",
     "text": [
      "Λ: [-0.015360372648650492, -0.013522011999233667, -0.1112144448504821, -0.37041746248542706, -0.41858380116583693, -3.008845435545032]\n"
     ]
    },
    {
     "name": "stdout",
     "output_type": "stream",
     "text": [
      "last point: [9.26329035948213, 0.4690174497554007, 0.814766658280858, 0.00014223768011133254, 0.008980439022890068, 4.086871008252845e-8]\n"
     ]
    },
    {
     "name": "stdout",
     "output_type": "stream",
     "text": [
      "----------------\n"
     ]
    },
    {
     "name": "stdout",
     "output_type": "stream",
     "text": [
      "  \n"
     ]
    },
    {
     "name": "stdout",
     "output_type": "stream",
     "text": [
      "index: 211; αE: 4.227361445783132\n"
     ]
    },
    {
     "name": "stdout",
     "output_type": "stream",
     "text": [
      "u0: [9.26329035948213, 0.4690174497554007, 0.814766658280858, 0.00014223768011133254, 0.008980439022890068, 4.086871008252845e-8]\n"
     ]
    },
    {
     "name": "stdout",
     "output_type": "stream",
     "text": [
      "calc LSE\n"
     ]
    },
    {
     "name": "stdout",
     "output_type": "stream",
     "text": [
      "Λ: [0.023945170260989388, 0.019566583341559068, -0.3369404426559749, -0.8201952188496623, -0.8494575239845545, -3.3818928165373174]\n"
     ]
    },
    {
     "name": "stdout",
     "output_type": "stream",
     "text": [
      "last point: [9.109633191278801, 0.4738865438274682, 0.8124786652542411, 0.00015680853020300287, 0.005355333613230854, 2.3805776206397647e-10]\n"
     ]
    },
    {
     "name": "stdout",
     "output_type": "stream",
     "text": [
      "----------------\n"
     ]
    },
    {
     "name": "stdout",
     "output_type": "stream",
     "text": [
      "  \n"
     ]
    },
    {
     "name": "stdout",
     "output_type": "stream",
     "text": [
      "index: 212; αE: 4.247172690763052\n"
     ]
    },
    {
     "name": "stdout",
     "output_type": "stream",
     "text": [
      "u0: [9.109633191278801, 0.4738865438274682, 0.8124786652542411, 0.00015680853020300287, 0.005355333613230854, 2.3805776206397647e-10]\n"
     ]
    },
    {
     "name": "stdout",
     "output_type": "stream",
     "text": [
      "calc LSE\n"
     ]
    },
    {
     "name": "stdout",
     "output_type": "stream",
     "text": [
      "Λ: [-0.10578352853338878, -0.33191232171572416, -0.524721831894113, -0.6085824853479612, -0.5430944246248016, -3.24373759135381]\n"
     ]
    },
    {
     "name": "stdout",
     "output_type": "stream",
     "text": [
      "last point: [10.156045745969124, 0.44249324022963493, 0.8270303407251176, 8.356387537900145e-5, 0.030734719689384647, 0.005471315093116361]\n"
     ]
    },
    {
     "name": "stdout",
     "output_type": "stream",
     "text": [
      "----------------\n"
     ]
    },
    {
     "name": "stdout",
     "output_type": "stream",
     "text": [
      "  \n"
     ]
    },
    {
     "name": "stdout",
     "output_type": "stream",
     "text": [
      "index: 213; αE: 4.266983935742972\n"
     ]
    },
    {
     "name": "stdout",
     "output_type": "stream",
     "text": [
      "u0: [10.156045745969124, 0.44249324022963493, 0.8270303407251176, 8.356387537900145e-5, 0.030734719689384647, 0.005471315093116361]\n"
     ]
    },
    {
     "name": "stdout",
     "output_type": "stream",
     "text": [
      "calc LSE\n"
     ]
    },
    {
     "name": "stdout",
     "output_type": "stream",
     "text": [
      "Λ: [-0.10918611264760647, -0.2751354790525313, -0.2750719435460465, -0.36068168894064295, -0.42355394969320986, -3.1103007796031967]\n"
     ]
    },
    {
     "name": "stdout",
     "output_type": "stream",
     "text": [
      "last point: [9.623577756489528, 0.45796152862001505, 0.8199185103791832, 0.00011398483327877244, 0.017410861372076137, 3.29642685112477e-5]\n"
     ]
    },
    {
     "name": "stdout",
     "output_type": "stream",
     "text": [
      "----------------\n"
     ]
    },
    {
     "name": "stdout",
     "output_type": "stream",
     "text": [
      "  \n"
     ]
    },
    {
     "name": "stdout",
     "output_type": "stream",
     "text": [
      "index: 214; αE: 4.2867951807228915\n"
     ]
    },
    {
     "name": "stdout",
     "output_type": "stream",
     "text": [
      "u0: [9.623577756489528, 0.45796152862001505, 0.8199185103791832, 0.00011398483327877244, 0.017410861372076137, 3.29642685112477e-5]\n"
     ]
    },
    {
     "name": "stdout",
     "output_type": "stream",
     "text": [
      "calc LSE\n"
     ]
    },
    {
     "name": "stdout",
     "output_type": "stream",
     "text": [
      "Λ: [-0.06852248658415759, -0.06872982607568125, -0.11074140170735852, -0.3654096711774153, -0.42260301338764844, -3.0299566657402464]\n"
     ]
    },
    {
     "name": "stdout",
     "output_type": "stream",
     "text": [
      "last point: [9.3377951191036, 0.4666902137280939, 0.8158560636295763, 0.0001357598108690009, 0.010549515963236035, 2.2433069219808969e-7]\n"
     ]
    },
    {
     "name": "stdout",
     "output_type": "stream",
     "text": [
      "----------------\n"
     ]
    },
    {
     "name": "stdout",
     "output_type": "stream",
     "text": [
      "  \n"
     ]
    },
    {
     "name": "stdout",
     "output_type": "stream",
     "text": [
      "index: 215; αE: 4.306606425702811\n"
     ]
    },
    {
     "name": "stdout",
     "output_type": "stream",
     "text": [
      "u0: [9.3377951191036, 0.4666902137280939, 0.8158560636295763, 0.0001357598108690009, 0.010549515963236035, 2.2433069219808969e-7]\n"
     ]
    },
    {
     "name": "stdout",
     "output_type": "stream",
     "text": [
      "calc LSE\n"
     ]
    },
    {
     "name": "stdout",
     "output_type": "stream",
     "text": [
      "Λ: [0.019199332219180257, 0.016313110686815156, -0.23708440998605573, -0.7047324605557709, -0.6996628932327837, -3.312980185619754]\n"
     ]
    },
    {
     "name": "stdout",
     "output_type": "stream",
     "text": [
      "last point: [9.157568405637923, 0.4723574277654664, 0.8131984776170892, 0.00015207859774017655, 0.006347381234531895, 1.4315187140502809e-9]\n"
     ]
    },
    {
     "name": "stdout",
     "output_type": "stream",
     "text": [
      "----------------\n"
     ]
    },
    {
     "name": "stdout",
     "output_type": "stream",
     "text": [
      "  \n"
     ]
    },
    {
     "name": "stdout",
     "output_type": "stream",
     "text": [
      "index: 216; αE: 4.326417670682731\n"
     ]
    },
    {
     "name": "stdout",
     "output_type": "stream",
     "text": [
      "u0: [9.157568405637923, 0.4723574277654664, 0.8131984776170892, 0.00015207859774017655, 0.006347381234531895, 1.4315187140502809e-9]\n"
     ]
    },
    {
     "name": "stdout",
     "output_type": "stream",
     "text": [
      "calc LSE\n"
     ]
    },
    {
     "name": "stdout",
     "output_type": "stream",
     "text": [
      "Λ: [-0.003352308238164082, -0.014246977047288825, -0.5480944287752239, -0.8780813655294978, -0.9325998002414265, -3.779153015344627]\n"
     ]
    },
    {
     "name": "stdout",
     "output_type": "stream",
     "text": [
      "last point: [8.666953865942624, 0.48091467037305047, 0.8106746924795484, 0.0001666938966311321, 0.003155473463583078, 1.3107296911649197e-12]\n"
     ]
    },
    {
     "name": "stdout",
     "output_type": "stream",
     "text": [
      "----------------\n"
     ]
    },
    {
     "name": "stdout",
     "output_type": "stream",
     "text": [
      "  \n"
     ]
    },
    {
     "name": "stdout",
     "output_type": "stream",
     "text": [
      "index: 217; αE: 4.346228915662651\n"
     ]
    },
    {
     "name": "stdout",
     "output_type": "stream",
     "text": [
      "u0: [8.666953865942624, 0.48091467037305047, 0.8106746924795484, 0.0001666938966311321, 0.003155473463583078, 1.3107296911649197e-12]\n"
     ]
    },
    {
     "name": "stdout",
     "output_type": "stream",
     "text": [
      "calc LSE\n"
     ]
    },
    {
     "name": "stdout",
     "output_type": "stream",
     "text": [
      "Λ: [-0.10756554778874826, -0.33888036360573887, -0.4501291174057657, -0.44161848419656985, -0.45252929699558075, -3.17875415002443]\n"
     ]
    },
    {
     "name": "stdout",
     "output_type": "stream",
     "text": [
      "last point: [9.873476845436018, 0.4505773896166716, 0.8233268729504215, 9.831020396879591e-5, 0.023093066275507956, 0.0005768244969243914]\n"
     ]
    },
    {
     "name": "stdout",
     "output_type": "stream",
     "text": [
      "----------------\n"
     ]
    },
    {
     "name": "stdout",
     "output_type": "stream",
     "text": [
      "  \n"
     ]
    },
    {
     "name": "stdout",
     "output_type": "stream",
     "text": [
      "index: 218; αE: 4.36604016064257\n"
     ]
    },
    {
     "name": "stdout",
     "output_type": "stream",
     "text": [
      "u0: [9.873476845436018, 0.4505773896166716, 0.8233268729504215, 9.831020396879591e-5, 0.023093066275507956, 0.0005768244969243914]\n",
      "calc LSE\n"
     ]
    },
    {
     "name": "stdout",
     "output_type": "stream",
     "text": [
      "Λ: [-0.11000881923894769, -0.17844970078404682, -0.18047848093695987, -0.36505037387903055, -0.4209286769984994, -3.073144295380441]\n"
     ]
    },
    {
     "name": "stdout",
     "output_type": "stream",
     "text": [
      "last point: [9.490895836944336, 0.46197548165428104, 0.8180549413214621, 0.00012352681376394243, 0.013901045045600113, 3.933909762187666e-6]\n"
     ]
    },
    {
     "name": "stdout",
     "output_type": "stream",
     "text": [
      "----------------\n"
     ]
    },
    {
     "name": "stdout",
     "output_type": "stream",
     "text": [
      "  \n"
     ]
    },
    {
     "name": "stdout",
     "output_type": "stream",
     "text": [
      "index: 219; αE: 4.38585140562249\n"
     ]
    },
    {
     "name": "stdout",
     "output_type": "stream",
     "text": [
      "u0: [9.490895836944336, 0.46197548165428104, 0.8180549413214621, 0.00012352681376394243, 0.013901045045600113, 3.933909762187666e-6]\n"
     ]
    },
    {
     "name": "stdout",
     "output_type": "stream",
     "text": [
      "calc LSE\n"
     ]
    },
    {
     "name": "stdout",
     "output_type": "stream",
     "text": [
      "Λ: [-0.0073902903115721915, -0.008319961747189396, -0.11124142808429008, -0.36789172263005093, -0.4211992099737889, -3.0064514353514302]\n"
     ]
    },
    {
     "name": "stdout",
     "output_type": "stream",
     "text": [
      "last point: [9.254917077795733, 0.4692803613810115, 0.8146434179441603, 0.00014298866725773654, 0.008425614184310813, 2.6578852160528356e-8]\n"
     ]
    },
    {
     "name": "stdout",
     "output_type": "stream",
     "text": [
      "----------------\n"
     ]
    },
    {
     "name": "stdout",
     "output_type": "stream",
     "text": [
      "  \n"
     ]
    },
    {
     "name": "stdout",
     "output_type": "stream",
     "text": [
      "index: 220; αE: 4.40566265060241\n"
     ]
    },
    {
     "name": "stdout",
     "output_type": "stream",
     "text": [
      "u0: [9.254917077795733, 0.4692803613810115, 0.8146434179441603, 0.00014298866725773654, 0.008425614184310813, 2.6578852160528356e-8]\n"
     ]
    },
    {
     "name": "stdout",
     "output_type": "stream",
     "text": [
      "calc LSE\n"
     ]
    },
    {
     "name": "stdout",
     "output_type": "stream",
     "text": [
      "Λ: [0.024026387686866598, 0.019629766813102054, -0.33889318421549836, -0.8269825445517074, -0.8543277817127002, -3.3761044217752896]\n"
     ]
    },
    {
     "name": "stdout",
     "output_type": "stream",
     "text": [
      "last point: [9.109520402469675, 0.4738901526928334, 0.8124769650325206, 0.0001568198656219502, 0.005136096974952772, 1.945123476706154e-10]\n"
     ]
    },
    {
     "name": "stdout",
     "output_type": "stream",
     "text": [
      "----------------\n"
     ]
    },
    {
     "name": "stdout",
     "output_type": "stream",
     "text": [
      "  \n"
     ]
    },
    {
     "name": "stdout",
     "output_type": "stream",
     "text": [
      "index: 221; αE: 4.425473895582329\n"
     ]
    },
    {
     "name": "stdout",
     "output_type": "stream",
     "text": [
      "u0: [9.109520402469675, 0.4738901526928334, 0.8124769650325206, 0.0001568198656219502, 0.005136096974952772, 1.945123476706154e-10]\n"
     ]
    },
    {
     "name": "stdout",
     "output_type": "stream",
     "text": [
      "calc LSE\n"
     ]
    },
    {
     "name": "stdout",
     "output_type": "stream",
     "text": [
      "Λ: [-0.10546902617205586, -0.3309525076331761, -0.5332245996252818, -0.632729570228451, -0.5617209131301658, -3.253768746479451]\n"
     ]
    },
    {
     "name": "stdout",
     "output_type": "stream",
     "text": [
      "last point: [10.199820824235307, 0.441265399549012, 0.827590221516741, 8.152665325095624e-5, 0.03056628039690255, 0.006054919279432044]\n"
     ]
    },
    {
     "name": "stdout",
     "output_type": "stream",
     "text": [
      "----------------\n"
     ]
    },
    {
     "name": "stdout",
     "output_type": "stream",
     "text": [
      "  \n"
     ]
    },
    {
     "name": "stdout",
     "output_type": "stream",
     "text": [
      "index: 222; αE: 4.445285140562249\n"
     ]
    },
    {
     "name": "stdout",
     "output_type": "stream",
     "text": [
      "u0: [10.199820824235307, 0.441265399549012, 0.827590221516741, 8.152665325095624e-5, 0.03056628039690255, 0.006054919279432044]\n"
     ]
    },
    {
     "name": "stdout",
     "output_type": "stream",
     "text": [
      "calc LSE\n"
     ]
    },
    {
     "name": "stdout",
     "output_type": "stream",
     "text": [
      "Λ: [-0.10896661039925015, -0.29434881227698134, -0.29697178538149277, -0.3600365465917963, -0.42383049080040636, -3.11827329207797]\n"
     ]
    },
    {
     "name": "stdout",
     "output_type": "stream",
     "text": [
      "last point: [9.652143862247877, 0.4571059229569287, 0.8203147479282297, 0.00011204820819345475, 0.017376283044322503, 3.967835815392967e-5]\n"
     ]
    },
    {
     "name": "stdout",
     "output_type": "stream",
     "text": [
      "----------------\n"
     ]
    },
    {
     "name": "stdout",
     "output_type": "stream",
     "text": [
      "  \n"
     ]
    },
    {
     "name": "stdout",
     "output_type": "stream",
     "text": [
      "index: 223; αE: 4.465096385542169\n"
     ]
    },
    {
     "name": "stdout",
     "output_type": "stream",
     "text": [
      "u0: [9.652143862247877, 0.4571059229569287, 0.8203147479282297, 0.00011204820819345475, 0.017376283044322503, 3.967835815392967e-5]\n"
     ]
    },
    {
     "name": "stdout",
     "output_type": "stream",
     "text": [
      "calc LSE\n"
     ]
    },
    {
     "name": "stdout",
     "output_type": "stream",
     "text": [
      "Λ: [-0.0885704860953259, -0.08205212650844347, -0.11059262778419564, -0.36545190601608624, -0.42226085708021327, -3.036453101174733]\n"
     ]
    },
    {
     "name": "stdout",
     "output_type": "stream",
     "text": [
      "last point: [9.360768050567994, 0.4659770018663459, 0.8161893918231253, 0.0001338343009647536, 0.010644578579977294, 3.0416560316942177e-7]\n"
     ]
    },
    {
     "name": "stdout",
     "output_type": "stream",
     "text": [
      "----------------\n"
     ]
    },
    {
     "name": "stdout",
     "output_type": "stream",
     "text": [
      "  \n"
     ]
    },
    {
     "name": "stdout",
     "output_type": "stream",
     "text": [
      "index: 224; αE: 4.4849076305220885\n"
     ]
    },
    {
     "name": "stdout",
     "output_type": "stream",
     "text": [
      "u0: [9.360768050567994, 0.4659770018663459, 0.8161893918231253, 0.0001338343009647536, 0.010644578579977294, 3.0416560316942177e-7]\n"
     ]
    },
    {
     "name": "stdout",
     "output_type": "stream",
     "text": [
      "calc LSE\n"
     ]
    },
    {
     "name": "stdout",
     "output_type": "stream",
     "text": [
      "Λ: [0.016075399445438968, 0.011527262551630918, -0.2044691191295476, -0.6523760603436758, -0.6705620840180114, -3.286030686766417]\n"
     ]
    },
    {
     "name": "stdout",
     "output_type": "stream",
     "text": [
      "last point: [9.17441902757894, 0.4718220951764199, 0.8134502010934928, 0.0001504566373107152, 0.00646454838983824, 2.1243790834459667e-9]\n"
     ]
    },
    {
     "name": "stdout",
     "output_type": "stream",
     "text": [
      "----------------\n"
     ]
    },
    {
     "name": "stdout",
     "output_type": "stream",
     "text": [
      "  \n"
     ]
    },
    {
     "name": "stdout",
     "output_type": "stream",
     "text": [
      "index: 225; αE: 4.504718875502008\n"
     ]
    },
    {
     "name": "stdout",
     "output_type": "stream",
     "text": [
      "u0: [9.17441902757894, 0.4718220951764199, 0.8134502010934928, 0.0001504566373107152, 0.00646454838983824, 2.1243790834459667e-9]\n"
     ]
    },
    {
     "name": "stdout",
     "output_type": "stream",
     "text": [
      "calc LSE\n"
     ]
    },
    {
     "name": "stdout",
     "output_type": "stream",
     "text": [
      "Λ: [0.005140890876291793, 0.00017795365738284828, -0.5506031544881134, -0.8825059070137149, -1.1175733964499799, -3.4713161069378713]\n"
     ]
    },
    {
     "name": "stdout",
     "output_type": "stream",
     "text": [
      "last point: [9.035663970568754, 0.4762643838338192, 0.8113570126969941, 0.00016445749605258807, 0.0034283251236130324, 3.72243415756417e-12]\n"
     ]
    },
    {
     "name": "stdout",
     "output_type": "stream",
     "text": [
      "----------------\n"
     ]
    },
    {
     "name": "stdout",
     "output_type": "stream",
     "text": [
      "  \n"
     ]
    },
    {
     "name": "stdout",
     "output_type": "stream",
     "text": [
      "index: 226; αE: 4.524530120481928\n"
     ]
    },
    {
     "name": "stdout",
     "output_type": "stream",
     "text": [
      "u0: [9.035663970568754, 0.4762643838338192, 0.8113570126969941, 0.00016445749605258807, 0.0034283251236130324, 3.72243415756417e-12]\n"
     ]
    },
    {
     "name": "stdout",
     "output_type": "stream",
     "text": [
      "calc LSE\n"
     ]
    },
    {
     "name": "stdout",
     "output_type": "stream",
     "text": [
      "Λ: [-0.10682216129473189, -0.3362605276110563, -0.4871789589995607, -0.5165701124417005, -0.48662250008809077, -3.207068096626596]\n"
     ]
    },
    {
     "name": "stdout",
     "output_type": "stream",
     "text": [
      "last point: [9.982256889662272, 0.447432811113499, 0.8247707287941746, 9.230214485940152e-5, 0.024731461613299695, 0.0013103424048144868]\n"
     ]
    },
    {
     "name": "stdout",
     "output_type": "stream",
     "text": [
      "----------------\n"
     ]
    },
    {
     "name": "stdout",
     "output_type": "stream",
     "text": [
      "  \n"
     ]
    },
    {
     "name": "stdout",
     "output_type": "stream",
     "text": [
      "index: 227; αE: 4.544341365461848\n"
     ]
    },
    {
     "name": "stdout",
     "output_type": "stream",
     "text": [
      "u0: [9.982256889662272, 0.447432811113499, 0.8247707287941746, 9.230214485940152e-5, 0.024731461613299695, 0.0013103424048144868]\n"
     ]
    },
    {
     "name": "stdout",
     "output_type": "stream",
     "text": [
      "calc LSE\n"
     ]
    },
    {
     "name": "stdout",
     "output_type": "stream",
     "text": [
      "Λ: [-0.10950419399217332, -0.2309926299108836, -0.2334390808622028, -0.36293906819692767, -0.42208142034155693, -3.093639087767951]\n"
     ]
    },
    {
     "name": "stdout",
     "output_type": "stream",
     "text": [
      "last point: [9.563916293126448, 0.4597582717198906, 0.8190852863191315, 0.00011816142464720082, 0.014997793138508917, 1.0299134988193537e-5]\n"
     ]
    },
    {
     "name": "stdout",
     "output_type": "stream",
     "text": [
      "----------------\n"
     ]
    },
    {
     "name": "stdout",
     "output_type": "stream",
     "text": [
      "  \n"
     ]
    },
    {
     "name": "stdout",
     "output_type": "stream",
     "text": [
      "index: 228; αE: 4.564152610441767\n"
     ]
    },
    {
     "name": "stdout",
     "output_type": "stream",
     "text": [
      "u0: [9.563916293126448, 0.4597582717198906, 0.8190852863191315, 0.00011816142464720082, 0.014997793138508917, 1.0299134988193537e-5]\n"
     ]
    },
    {
     "name": "stdout",
     "output_type": "stream",
     "text": [
      "calc LSE\n"
     ]
    },
    {
     "name": "stdout",
     "output_type": "stream",
     "text": [
      "Λ: [-0.045864893161126956, -0.04548494840679125, -0.11093835685672265, -0.36623328836986047, -0.4222152442694292, -3.0210017864343572]\n"
     ]
    },
    {
     "name": "stdout",
     "output_type": "stream",
     "text": [
      "last point: [9.306198489958447, 0.46767451294753876, 0.8153956284455609, 0.00013846279511624946, 0.009215716902311625, 8.137720796976602e-8]\n"
     ]
    },
    {
     "name": "stdout",
     "output_type": "stream",
     "text": [
      "----------------\n"
     ]
    },
    {
     "name": "stdout",
     "output_type": "stream",
     "text": [
      "  \n"
     ]
    },
    {
     "name": "stdout",
     "output_type": "stream",
     "text": [
      "index: 229; αE: 4.583963855421687\n"
     ]
    },
    {
     "name": "stdout",
     "output_type": "stream",
     "text": [
      "u0: [9.306198489958447, 0.46767451294753876, 0.8153956284455609, 0.00013846279511624946, 0.009215716902311625, 8.137720796976602e-8]\n"
     ]
    },
    {
     "name": "stdout",
     "output_type": "stream",
     "text": [
      "calc LSE\n"
     ]
    },
    {
     "name": "stdout",
     "output_type": "stream",
     "text": [
      "Λ: [0.02422410277890206, 0.018328388964230804, -0.2612399806485125, -0.7723608917467004, -0.7216538694749234, -3.3219913205204055]\n"
     ]
    },
    {
     "name": "stdout",
     "output_type": "stream",
     "text": [
      "last point: [9.1421969439091, 0.4728467630046836, 0.8129682571372763, 0.00015357649258607064, 0.005634144338936744, 6.011488196334299e-10]\n"
     ]
    },
    {
     "name": "stdout",
     "output_type": "stream",
     "text": [
      "----------------\n"
     ]
    },
    {
     "name": "stdout",
     "output_type": "stream",
     "text": [
      "  \n"
     ]
    },
    {
     "name": "stdout",
     "output_type": "stream",
     "text": [
      "index: 230; αE: 4.603775100401607\n"
     ]
    },
    {
     "name": "stdout",
     "output_type": "stream",
     "text": [
      "u0: [9.1421969439091, 0.4728467630046836, 0.8129682571372763, 0.00015357649258607064, 0.005634144338936744, 6.011488196334299e-10]\n"
     ]
    },
    {
     "name": "stdout",
     "output_type": "stream",
     "text": [
      "calc LSE\n"
     ]
    },
    {
     "name": "stdout",
     "output_type": "stream",
     "text": [
      "Λ: [-0.008933688528924878, -0.019082900667120782, -0.5584629210139596, -0.8697891995516531, -0.8616134493591006, -3.645898545882074]\n"
     ]
    },
    {
     "name": "stdout",
     "output_type": "stream",
     "text": [
      "last point: [3.254864132892242, 0.4564903538823574, 0.8247597514343395, 0.01092645945674439, 0.043719178025978966, 0.03356074906227449]\n"
     ]
    },
    {
     "name": "stdout",
     "output_type": "stream",
     "text": [
      "----------------\n"
     ]
    },
    {
     "name": "stdout",
     "output_type": "stream",
     "text": [
      "  \n"
     ]
    },
    {
     "name": "stdout",
     "output_type": "stream",
     "text": [
      "index: 231; αE: 4.6235863453815265\n"
     ]
    },
    {
     "name": "stdout",
     "output_type": "stream",
     "text": [
      "u0: [3.254864132892242, 0.4564903538823574, 0.8247597514343395, 0.01092645945674439, 0.043719178025978966, 0.03356074906227449]\n"
     ]
    },
    {
     "name": "stdout",
     "output_type": "stream",
     "text": [
      "calc LSE\n"
     ]
    },
    {
     "name": "stdout",
     "output_type": "stream",
     "text": [
      "Λ: [-0.10770725277340494, -0.3397112948841558, -0.42627866039018836, -0.42759475550440773, -0.44290222386612715, -3.1696284120056366]\n"
     ]
    },
    {
     "name": "stdout",
     "output_type": "stream",
     "text": [
      "last point: [9.838258534027535, 0.4516044439026377, 0.8228542993605186, 0.00010035607914847425, 0.020905310496651616, 0.00030503922668525006]\n"
     ]
    },
    {
     "name": "stdout",
     "output_type": "stream",
     "text": [
      "----------------\n"
     ]
    },
    {
     "name": "stdout",
     "output_type": "stream",
     "text": [
      "  \n"
     ]
    },
    {
     "name": "stdout",
     "output_type": "stream",
     "text": [
      "index: 232; αE: 4.643397590361446\n"
     ]
    },
    {
     "name": "stdout",
     "output_type": "stream",
     "text": [
      "u0: [9.838258534027535, 0.4516044439026377, 0.8228542993605186, 0.00010035607914847425, 0.020905310496651616, 0.00030503922668525006]\n"
     ]
    },
    {
     "name": "stdout",
     "output_type": "stream",
     "text": [
      "calc LSE\n"
     ]
    },
    {
     "name": "stdout",
     "output_type": "stream",
     "text": [
      "Λ: [-0.11003874878167999, -0.17124367241505423, -0.17125758922191914, -0.36328451606428297, -0.42288181655425866, -3.0698962104105205]\n"
     ]
    },
    {
     "name": "stdout",
     "output_type": "stream",
     "text": [
      "last point: [9.479458252156169, 0.46232460049997554, 0.8178924883582328, 0.00012439357587309646, 0.012820031995366235, 2.4151772556642775e-6]\n"
     ]
    },
    {
     "name": "stdout",
     "output_type": "stream",
     "text": [
      "----------------\n"
     ]
    },
    {
     "name": "stdout",
     "output_type": "stream",
     "text": [
      "  \n"
     ]
    },
    {
     "name": "stdout",
     "output_type": "stream",
     "text": [
      "index: 233; αE: 4.663208835341366\n",
      "u0: [9.479458252156169, 0.46232460049997554, 0.8178924883582328, 0.00012439357587309646, 0.012820031995366235, 2.4151772556642775e-6]\n"
     ]
    },
    {
     "name": "stdout",
     "output_type": "stream",
     "text": [
      "calc LSE\n"
     ]
    },
    {
     "name": "stdout",
     "output_type": "stream",
     "text": [
      "Λ: [-0.010566422634316439, -0.010208060045278229, -0.11123902632782683, -0.36704292859443827, -0.42204888651371597, -3.007271980138394]\n"
     ]
    },
    {
     "name": "stdout",
     "output_type": "stream",
     "text": [
      "last point: [9.257772196136282, 0.46919068278709075, 0.8146854588132445, 0.00014273206249654807, 0.007985306943757813, 2.174614978578404e-8]\n"
     ]
    },
    {
     "name": "stdout",
     "output_type": "stream",
     "text": [
      "----------------\n"
     ]
    },
    {
     "name": "stdout",
     "output_type": "stream",
     "text": [
      "  \n"
     ]
    },
    {
     "name": "stdout",
     "output_type": "stream",
     "text": [
      "index: 234; αE: 4.683020080321286\n"
     ]
    },
    {
     "name": "stdout",
     "output_type": "stream",
     "text": [
      "u0: [9.257772196136282, 0.46919068278709075, 0.8146854588132445, 0.00014273206249654807, 0.007985306943757813, 2.174614978578404e-8]\n"
     ]
    },
    {
     "name": "stdout",
     "output_type": "stream",
     "text": [
      "calc LSE\n"
     ]
    },
    {
     "name": "stdout",
     "output_type": "stream",
     "text": [
      "Λ: [0.023944059227303187, 0.017496672900969148, -0.3264536086919133, -0.8264729296155624, -0.8282540914998603, -3.356413313710873]\n"
     ]
    },
    {
     "name": "stdout",
     "output_type": "stream",
     "text": [
      "last point: [9.116865706571092, 0.47365523500875667, 0.8125876265944046, 0.00015608369837084147, 0.0049852233994786225, 1.9935872331317186e-10]\n"
     ]
    },
    {
     "name": "stdout",
     "output_type": "stream",
     "text": [
      "----------------\n"
     ]
    },
    {
     "name": "stdout",
     "output_type": "stream",
     "text": [
      "  \n"
     ]
    },
    {
     "name": "stdout",
     "output_type": "stream",
     "text": [
      "index: 235; αE: 4.702831325301204\n"
     ]
    },
    {
     "name": "stdout",
     "output_type": "stream",
     "text": [
      "u0: [9.116865706571092, 0.47365523500875667, 0.8125876265944046, 0.00015608369837084147, 0.0049852233994786225, 1.9935872331317186e-10]\n"
     ]
    },
    {
     "name": "stdout",
     "output_type": "stream",
     "text": [
      "calc LSE\n"
     ]
    },
    {
     "name": "stdout",
     "output_type": "stream",
     "text": [
      "Λ: [-0.10462719126263088, -0.3281197665650127, -0.5518465295978068, -0.6942264345137703, -0.6081262617305222, -3.278848342121394]\n",
      "last point: [10.326420288925451, 0.4377500391173092, 0.8291897772581965, 7.595021897782681e-5, 0.031694114136479996, 0.008946178447487236]\n"
     ]
    },
    {
     "name": "stdout",
     "output_type": "stream",
     "text": [
      "----------------\n"
     ]
    },
    {
     "name": "stdout",
     "output_type": "stream",
     "text": [
      "  \n"
     ]
    },
    {
     "name": "stdout",
     "output_type": "stream",
     "text": [
      "index: 236; αE: 4.722642570281124\n"
     ]
    },
    {
     "name": "stdout",
     "output_type": "stream",
     "text": [
      "u0: [10.326420288925451, 0.4377500391173092, 0.8291897772581965, 7.595021897782681e-5, 0.031694114136479996, 0.008946178447487236]\n"
     ]
    },
    {
     "name": "stdout",
     "output_type": "stream",
     "text": [
      "calc LSE\n"
     ]
    },
    {
     "name": "stdout",
     "output_type": "stream",
     "text": [
      "Λ: [-0.10841009498545053, -0.34255483985570273, -0.3475448720398842, -0.36531674047177054, -0.42498629420703615, -3.1389728185615255]\n"
     ]
    },
    {
     "name": "stdout",
     "output_type": "stream",
     "text": [
      "last point: [9.726370278948728, 0.4548967424211427, 0.8213362332458986, 0.00010719846665399894, 0.01798704591980113, 7.763924431398363e-5]\n"
     ]
    },
    {
     "name": "stdout",
     "output_type": "stream",
     "text": [
      "----------------\n"
     ]
    },
    {
     "name": "stdout",
     "output_type": "stream",
     "text": [
      "  \n"
     ]
    },
    {
     "name": "stdout",
     "output_type": "stream",
     "text": [
      "index: 237; αE: 4.742453815261044\n"
     ]
    },
    {
     "name": "stdout",
     "output_type": "stream",
     "text": [
      "u0: [9.726370278948728, 0.4548967424211427, 0.8213362332458986, 0.00010719846665399894, 0.01798704591980113, 7.763924431398363e-5]\n"
     ]
    },
    {
     "name": "stdout",
     "output_type": "stream",
     "text": [
      "calc LSE\n"
     ]
    },
    {
     "name": "stdout",
     "output_type": "stream",
     "text": [
      "Λ: [-0.11038099974213426, -0.12707248757614806, -0.12960093706804543, -0.3655920543445889, -0.42132429534001503, -3.0532569896656714]\n"
     ]
    },
    {
     "name": "stdout",
     "output_type": "stream",
     "text": [
      "last point: [9.420217390547267, 0.4641408338983767, 0.8170464004429997, 0.000129001838521988, 0.011285507704570858, 7.534329881992539e-7]\n"
     ]
    },
    {
     "name": "stdout",
     "output_type": "stream",
     "text": [
      "----------------\n"
     ]
    },
    {
     "name": "stdout",
     "output_type": "stream",
     "text": [
      "  \n"
     ]
    },
    {
     "name": "stdout",
     "output_type": "stream",
     "text": [
      "index: 238; αE: 4.7622650602409635\n"
     ]
    },
    {
     "name": "stdout",
     "output_type": "stream",
     "text": [
      "u0: [9.420217390547267, 0.4641408338983767, 0.8170464004429997, 0.000129001838521988, 0.011285507704570858, 7.534329881992539e-7]\n"
     ]
    },
    {
     "name": "stdout",
     "output_type": "stream",
     "text": [
      "calc LSE\n"
     ]
    },
    {
     "name": "stdout",
     "output_type": "stream",
     "text": [
      "Λ: [-0.003239680055470761, 0.006050369595494724, -0.12500486207771744, -0.44428751609778744, -0.5336554996515884, -3.204143508809965]\n"
     ]
    },
    {
     "name": "stdout",
     "output_type": "stream",
     "text": [
      "last point: [9.21921577918486, 0.4704044540796937, 0.8141161099255559, 0.00014624454803181076, 0.007016421629216941, 6.64666955576645e-9]\n"
     ]
    },
    {
     "name": "stdout",
     "output_type": "stream",
     "text": [
      "----------------\n"
     ]
    },
    {
     "name": "stdout",
     "output_type": "stream",
     "text": [
      "  \n"
     ]
    },
    {
     "name": "stdout",
     "output_type": "stream",
     "text": [
      "index: 239; αE: 4.782076305220883\n",
      "u0: [9.21921577918486, 0.4704044540796937, 0.8141161099255559, 0.00014624454803181076, 0.007016421629216941, 6.64666955576645e-9]\n"
     ]
    },
    {
     "name": "stdout",
     "output_type": "stream",
     "text": [
      "calc LSE\n"
     ]
    },
    {
     "name": "stdout",
     "output_type": "stream",
     "text": [
      "Λ: [0.023547912333728886, 0.01754858210623782, -0.3853318203602249, -0.8628647604672361, -0.9238831093279032, -3.3868627183236746]\n"
     ]
    },
    {
     "name": "stdout",
     "output_type": "stream",
     "text": [
      "last point: [9.090382402722726, 0.4745032516235054, 0.8121880241627928, 0.00015875755296553305, 0.004341234733582388, 5.609952208155614e-11]\n"
     ]
    },
    {
     "name": "stdout",
     "output_type": "stream",
     "text": [
      "----------------\n"
     ]
    },
    {
     "name": "stdout",
     "output_type": "stream",
     "text": [
      "  \n"
     ]
    },
    {
     "name": "stdout",
     "output_type": "stream",
     "text": [
      "index: 240; αE: 4.801887550200803\n"
     ]
    },
    {
     "name": "stdout",
     "output_type": "stream",
     "text": [
      "u0: [9.090382402722726, 0.4745032516235054, 0.8121880241627928, 0.00015875755296553305, 0.004341234733582388, 5.609952208155614e-11]\n",
      "calc LSE\n"
     ]
    },
    {
     "name": "stdout",
     "output_type": "stream",
     "text": [
      "Λ: [-0.10574859423737346, -0.3325075929051768, -0.5253849938913199, -0.6111297999623007, -0.5478513793925229, -3.244920406448975]\n"
     ]
    },
    {
     "name": "stdout",
     "output_type": "stream",
     "text": [
      "last point: [10.140086290466956, 0.4429431394145441, 0.8268245899326039, 8.434286465741102e-5, 0.02682537966010639, 0.0033479340572255627]\n"
     ]
    },
    {
     "name": "stdout",
     "output_type": "stream",
     "text": [
      "----------------\n"
     ]
    },
    {
     "name": "stdout",
     "output_type": "stream",
     "text": [
      "  \n"
     ]
    },
    {
     "name": "stdout",
     "output_type": "stream",
     "text": [
      "index: 241; αE: 4.821698795180723\n"
     ]
    },
    {
     "name": "stdout",
     "output_type": "stream",
     "text": [
      "u0: [10.140086290466956, 0.4429431394145441, 0.8268245899326039, 8.434286465741102e-5, 0.02682537966010639, 0.0033479340572255627]\n"
     ]
    },
    {
     "name": "stdout",
     "output_type": "stream",
     "text": [
      "calc LSE\n"
     ]
    },
    {
     "name": "stdout",
     "output_type": "stream",
     "text": [
      "Λ: [-0.1088609889756318, -0.29791007991655677, -0.2978827804828566, -0.3592044503079274, -0.4246118701129487, -3.1191577428510384]\n"
     ]
    },
    {
     "name": "stdout",
     "output_type": "stream",
     "text": [
      "last point: [9.655149123190528, 0.45701608812169103, 0.8203563290329424, 0.00011184690019085307, 0.01608425048699378, 2.8424888201578314e-5]\n"
     ]
    },
    {
     "name": "stdout",
     "output_type": "stream",
     "text": [
      "----------------\n"
     ]
    },
    {
     "name": "stdout",
     "output_type": "stream",
     "text": [
      "  \n"
     ]
    },
    {
     "name": "stdout",
     "output_type": "stream",
     "text": [
      "index: 242; αE: 4.841510040160642\n"
     ]
    },
    {
     "name": "stdout",
     "output_type": "stream",
     "text": [
      "u0: [9.655149123190528, 0.45701608812169103, 0.8203563290329424, 0.00011184690019085307, 0.01608425048699378, 2.8424888201578314e-5]\n"
     ]
    },
    {
     "name": "stdout",
     "output_type": "stream",
     "text": [
      "calc LSE\n"
     ]
    },
    {
     "name": "stdout",
     "output_type": "stream",
     "text": [
      "Λ: [-0.09725952299263123, -0.09620109192174299, -0.11047524442634589, -0.3662837760533418, -0.4212119644878504, -3.0409253909447194]\n"
     ]
    },
    {
     "name": "stdout",
     "output_type": "stream",
     "text": [
      "last point: [9.37650889579489, 0.4654894976600644, 0.8164170891815828, 0.0001325338942315576, 0.01014393823498305, 2.893473717567383e-7]\n"
     ]
    },
    {
     "name": "stdout",
     "output_type": "stream",
     "text": [
      "----------------\n"
     ]
    },
    {
     "name": "stdout",
     "output_type": "stream",
     "text": [
      "  \n"
     ]
    },
    {
     "name": "stdout",
     "output_type": "stream",
     "text": [
      "index: 243; αE: 4.861321285140562\n"
     ]
    },
    {
     "name": "stdout",
     "output_type": "stream",
     "text": [
      "u0: [9.37650889579489, 0.4654894976600644, 0.8164170891815828, 0.0001325338942315576, 0.01014393823498305, 2.893473717567383e-7]\n"
     ]
    },
    {
     "name": "stdout",
     "output_type": "stream",
     "text": [
      "calc LSE\n"
     ]
    },
    {
     "name": "stdout",
     "output_type": "stream",
     "text": [
      "Λ: [0.008012638878855251, 0.011122915910010469, -0.16701895802294006, -0.5659765643364038, -0.6122470763447876, -3.2428181268539054]\n"
     ]
    },
    {
     "name": "stdout",
     "output_type": "stream",
     "text": [
      "last point: [9.19425229310487, 0.4711934626117948, 0.8137456127234273, 0.00014857407418107494, 0.006366079396144345, 2.8214690931309978e-9]\n"
     ]
    },
    {
     "name": "stdout",
     "output_type": "stream",
     "text": [
      "----------------\n"
     ]
    },
    {
     "name": "stdout",
     "output_type": "stream",
     "text": [
      "  \n"
     ]
    },
    {
     "name": "stdout",
     "output_type": "stream",
     "text": [
      "index: 244; αE: 4.881132530120482\n"
     ]
    },
    {
     "name": "stdout",
     "output_type": "stream",
     "text": [
      "u0: [9.19425229310487, 0.4711934626117948, 0.8137456127234273, 0.00014857407418107494, 0.006366079396144345, 2.8214690931309978e-9]\n"
     ]
    },
    {
     "name": "stdout",
     "output_type": "stream",
     "text": [
      "calc LSE\n"
     ]
    },
    {
     "name": "stdout",
     "output_type": "stream",
     "text": [
      "Λ: [0.02019699161440256, 0.012191409636337091, -0.46378220133543746, -0.8920185030153145, -1.0292999466962336, -3.4226828432425944]\n"
     ]
    },
    {
     "name": "stdout",
     "output_type": "stream",
     "text": [
      "last point: [9.062013550750942, 0.47541480670309405, 0.8117580754617064, 0.00016168287543511775, 0.003687507314538873, 1.2153527330158986e-11]\n"
     ]
    },
    {
     "name": "stdout",
     "output_type": "stream",
     "text": [
      "----------------\n"
     ]
    },
    {
     "name": "stdout",
     "output_type": "stream",
     "text": [
      "  \n"
     ]
    },
    {
     "name": "stdout",
     "output_type": "stream",
     "text": [
      "index: 245; αE: 4.9009437751004015\n"
     ]
    },
    {
     "name": "stdout",
     "output_type": "stream",
     "text": [
      "u0: [9.062013550750942, 0.47541480670309405, 0.8117580754617064, 0.00016168287543511775, 0.003687507314538873, 1.2153527330158986e-11]\n"
     ]
    },
    {
     "name": "stdout",
     "output_type": "stream",
     "text": [
      "calc LSE\n"
     ]
    },
    {
     "name": "stdout",
     "output_type": "stream",
     "text": [
      "Λ: [-0.10610645072199738, -0.3339929644004083, -0.5139472852731729, -0.5769618804370146, -0.5237733437188066, -3.2312827262446286]\n"
     ]
    },
    {
     "name": "stdout",
     "output_type": "stream",
     "text": [
      "last point: [10.076972589624155, 0.44472839909246803, 0.8260088742276156, 8.74280543597125e-5, 0.024897814986555016, 0.0020113782944818485]\n"
     ]
    },
    {
     "name": "stdout",
     "output_type": "stream",
     "text": [
      "----------------\n"
     ]
    },
    {
     "name": "stdout",
     "output_type": "stream",
     "text": [
      "  \n"
     ]
    },
    {
     "name": "stdout",
     "output_type": "stream",
     "text": [
      "index: 246; αE: 4.920755020080321\n"
     ]
    },
    {
     "name": "stdout",
     "output_type": "stream",
     "text": [
      "u0: [10.076972589624155, 0.44472839909246803, 0.8260088742276156, 8.74280543597125e-5, 0.024897814986555016, 0.0020113782944818485]\n"
     ]
    },
    {
     "name": "stdout",
     "output_type": "stream",
     "text": [
      "calc LSE\n"
     ]
    },
    {
     "name": "stdout",
     "output_type": "stream",
     "text": [
      "Λ: [-0.10898798705932883, -0.2781206084124496, -0.28084386846909193, -0.36137562627982617, -0.42274469883611343, -3.1120561356004552]\n"
     ]
    },
    {
     "name": "stdout",
     "output_type": "stream",
     "text": [
      "last point: [9.629537541222957, 0.4577827768649156, 0.8200013180369599, 0.00011357763402617382, 0.015222624529419677, 1.8410771955634993e-5]\n"
     ]
    },
    {
     "name": "stdout",
     "output_type": "stream",
     "text": [
      "----------------\n"
     ]
    },
    {
     "name": "stdout",
     "output_type": "stream",
     "text": [
      "  \n"
     ]
    },
    {
     "name": "stdout",
     "output_type": "stream",
     "text": [
      "index: 247; αE: 4.940566265060241\n"
     ]
    },
    {
     "name": "stdout",
     "output_type": "stream",
     "text": [
      "u0: [9.629537541222957, 0.4577827768649156, 0.8200013180369599, 0.00011357763402617382, 0.015222624529419677, 1.8410771955634993e-5]\n"
     ]
    },
    {
     "name": "stdout",
     "output_type": "stream",
     "text": [
      "calc LSE\n"
     ]
    },
    {
     "name": "stdout",
     "output_type": "stream",
     "text": [
      "Λ: [-0.08221070792411413, -0.08105270627331275, -0.1106013247799261, -0.3654181096516247, -0.42235153641468554, -3.0350539538630077]\n"
     ]
    },
    {
     "name": "stdout",
     "output_type": "stream",
     "text": [
      "last point: [9.355708341735616, 0.46613390830614704, 0.8161160811214211, 0.0001342555557461003, 0.009517293455262983, 1.7329608138401413e-7]\n"
     ]
    },
    {
     "name": "stdout",
     "output_type": "stream",
     "text": [
      "----------------\n"
     ]
    },
    {
     "name": "stdout",
     "output_type": "stream",
     "text": [
      "  \n"
     ]
    },
    {
     "name": "stdout",
     "output_type": "stream",
     "text": [
      "index: 248; αE: 4.960377510040161\n"
     ]
    },
    {
     "name": "stdout",
     "output_type": "stream",
     "text": [
      "u0: [9.355708341735616, 0.46613390830614704, 0.8161160811214211, 0.0001342555557461003, 0.009517293455262983, 1.7329608138401413e-7]\n"
     ]
    },
    {
     "name": "stdout",
     "output_type": "stream",
     "text": [
      "calc LSE\n"
     ]
    },
    {
     "name": "stdout",
     "output_type": "stream",
     "text": [
      "Λ: [0.017794438817709677, 0.008663742727722348, -0.20044504103875888, -0.638979816763231, -0.6592404994015675, -3.264489620570739]\n"
     ]
    },
    {
     "name": "stdout",
     "output_type": "stream",
     "text": [
      "last point: [9.182394901315691, 0.47156910387534173, 0.8135691124015962, 0.00014969615283581177, 0.006003258740984194, 1.7557087389318361e-9]\n"
     ]
    },
    {
     "name": "stdout",
     "output_type": "stream",
     "text": [
      "----------------\n"
     ]
    },
    {
     "name": "stdout",
     "output_type": "stream",
     "text": [
      "  \n"
     ]
    },
    {
     "name": "stdout",
     "output_type": "stream",
     "text": [
      "index: 249; αE: 4.98018875502008\n"
     ]
    },
    {
     "name": "stdout",
     "output_type": "stream",
     "text": [
      "u0: [9.182394901315691, 0.47156910387534173, 0.8135691124015962, 0.00014969615283581177, 0.006003258740984194, 1.7557087389318361e-9]\n"
     ]
    },
    {
     "name": "stdout",
     "output_type": "stream",
     "text": [
      "calc LSE\n"
     ]
    },
    {
     "name": "stdout",
     "output_type": "stream",
     "text": [
      "Λ: [0.01675271533878007, 0.00583499797989317, -0.5106986425550158, -0.9056790188502543, -1.0892809196631004, -3.442445606299583]\n"
     ]
    },
    {
     "name": "stdout",
     "output_type": "stream",
     "text": [
      "last point: [9.049364453283488, 0.4758223089322362, 0.8115657345563295, 0.00016300799753356013, 0.0033675826929367328, 5.388450611635845e-12]\n"
     ]
    },
    {
     "name": "stdout",
     "output_type": "stream",
     "text": [
      "----------------\n"
     ]
    },
    {
     "name": "stdout",
     "output_type": "stream",
     "text": [
      "  \n"
     ]
    },
    {
     "name": "stdout",
     "output_type": "stream",
     "text": [
      "index: 250; αE: 5.0\n"
     ]
    },
    {
     "name": "stdout",
     "output_type": "stream",
     "text": [
      "u0: [9.049364453283488, 0.4758223089322362, 0.8115657345563295, 0.00016300799753356013, 0.0033675826929367328, 5.388450611635845e-12]\n"
     ]
    },
    {
     "name": "stdout",
     "output_type": "stream",
     "text": [
      "calc LSE\n"
     ]
    },
    {
     "name": "stdout",
     "output_type": "stream",
     "text": [
      "Λ: [-0.1062280726173422, -0.33454148095744224, -0.5086863435013288, -0.5660963891410358, -0.5176777891591723, -3.2268777541515252]\n"
     ]
    },
    {
     "name": "stdout",
     "output_type": "stream",
     "text": [
      "last point: [10.057249147965456, 0.4452890906386234, 0.8257523937189817, 8.841969150072638e-5, 0.023981589846246373, 0.0016089781671019298]\n"
     ]
    },
    {
     "name": "stdout",
     "output_type": "stream",
     "text": [
      "----------------\n"
     ]
    },
    {
     "name": "stdout",
     "output_type": "stream",
     "text": [
      "  \n"
     ]
    }
   ],
   "source": [
    "for (index, αE) in enumerate(αE_range)\n",
    "\n",
    "    if index == 1\n",
    "        global u0 = u0_start\n",
    "    end\n",
    "\n",
    "    output(index, αE, u0)\n",
    "\n",
    "    param[6] = αE\n",
    "    ds = CoupledODEs(TM6_glial_ECM,  u0, param, diffeq = integ_set)\n",
    "\n",
    "    tr, _ = trajectory(ds, time_transient, Δt = tstep)\n",
    "    u0 = tr[end]; ds = CoupledODEs(TM6_glial_ECM,  u0, param, diffeq = integ_set)\n",
    "    println(\"calc LSE\");flush(stdout)\n",
    "    \n",
    "    tands = TangentDynamicalSystem(ds; J = TM6_glial_ECM_jac);\n",
    "    Λ = lyapunovspectrum(tands, time_lse);\n",
    "\n",
    "    Λs[index, :] = Λ\n",
    "    u0s[index, :] = u0\n",
    "    \n",
    "    jldsave(namefile_LSE; Λs);\n",
    "    jldsave(namefile_u0s; u0s);\n",
    "    \n",
    "    output(Λs[index, :], u0s[index, :])\n",
    "    separate()\n",
    "    \n",
    "end"
   ]
  },
  {
   "cell_type": "code",
   "execution_count": 12,
   "id": "cc5ecf34",
   "metadata": {},
   "outputs": [
    {
     "data": {
      "text/plain": [
       "6-element Vector{Float64}:\n",
       " -0.10941146912199395\n",
       " -0.25351882987233315\n",
       " -0.25623569002547214\n",
       " -0.3606865095025922\n",
       " -0.4238866463508743\n",
       " -3.102493283081028"
      ]
     },
     "metadata": {},
     "output_type": "display_data"
    }
   ],
   "source": [
    "Λs[200,:]"
   ]
  },
  {
   "cell_type": "code",
   "execution_count": 16,
   "id": "50335f3c",
   "metadata": {},
   "outputs": [
    {
     "data": {
      "text/plain": [
       "4.0094377510040164"
      ]
     },
     "metadata": {},
     "output_type": "display_data"
    }
   ],
   "source": [
    "αE_range[200]"
   ]
  },
  {
   "cell_type": "code",
   "execution_count": 17,
   "id": "edf7c65c",
   "metadata": {},
   "outputs": [
    {
     "name": "stdout",
     "output_type": "stream",
     "text": [
      "[9.595565883544571, 0.458803470851967, 0.8195282603028337, 0.00011592317972926635, 0.017809528435582613, 2.9990784198283922e-5]\n"
     ]
    }
   ],
   "source": [
    "println(u0s[200,:])"
   ]
  },
  {
   "cell_type": "code",
   "execution_count": 11,
   "id": "ed132808",
   "metadata": {},
   "outputs": [
    {
     "data": {
      "image/png": "[encoded data removed]"
     },
     "metadata": {},
     "output_type": "display_data"
    }
   ],
   "source": [
    "lb_size = 30; tck_size = 25;\n",
    "\n",
    "f = Figure(resolution = (1200, 300))\n",
    "axis = Axis(f[1, 1], xlabel = L\"αE\", ylabel = L\"\\Lambda s\",\n",
    "            xlabelsize = lb_size, ylabelsize = lb_size,\n",
    "            xticklabelsize = tck_size, yticklabelsize = tck_size,\n",
    "            xgridvisible = false, ygridvisible = false)\n",
    "lines!(axis, αE_range, Λs[:, 1], linewidth = 2.5, color = :red)\n",
    "lines!(axis, αE_range, Λs[:, 2], linewidth = 2.5, color = :green)\n",
    "lines!(axis, αE_range, Λs[:, 3], linewidth = 2.5, color = :blue)\n",
    "f"
   ]
  }
 ],
 "metadata": {
  "kernelspec": {
   "display_name": "Julia 1.9.3",
   "language": "julia",
   "name": "julia-1.9"
  },
  "language_info": {
   "file_extension": ".jl",
   "mimetype": "application/julia",
   "name": "julia",
   "version": "1.9.3"
  }
 },
 "nbformat": 4,
 "nbformat_minor": 5
}
