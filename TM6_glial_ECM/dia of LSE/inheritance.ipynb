{
 "cells": [
  {
   "cell_type": "code",
   "execution_count": 1,
   "id": "9791b4a8",
   "metadata": {},
   "outputs": [
    {
     "name": "stderr",
     "output_type": "stream",
     "text": [
      "\u001b[32m\u001b[1m  Activating\u001b[22m\u001b[39m project at `~/work/repo_ds/dynamical-systems/env/integrate`\n"
     ]
    },
    {
     "data": {
      "text/plain": [
       "TM6_glial_ECM_help (generic function with 1 method)"
      ]
     },
     "metadata": {},
     "output_type": "display_data"
    }
   ],
   "source": [
    "if Sys.iswindows()\n",
    "    username = \"Alex\"\n",
    "    pathtorepo = \"C:\\\\Users\\\\\" *username *  \"\\\\Desktop\\\\\"\n",
    "    using Pkg\n",
    "    Pkg.activate(pathtorepo * \"dynamical-systems\\\\env\\\\integrate\\\\\")\n",
    "    using StaticArrays, DifferentialEquations, DynamicalSystems, JLD2, CairoMakie\n",
    "    include(\"C:\\\\Users\\\\Alex\\\\Desktop\\\\dynamical-systems\\\\system.jl\");\n",
    "else\n",
    "    username = \"nova\"\n",
    "    pathtorepo = \"/home/nova/work/repo_ds/dynamical-systems\"\n",
    "    using Pkg\n",
    "    Pkg.activate(pathtorepo * \"/env/integrate/\")\n",
    "    using StaticArrays, DifferentialEquations, DynamicalSystems, CairoMakie\n",
    "    include(\"/home/nova/work/repo_ds/dynamical-systems/system.jl\")\n",
    "end"
   ]
  },
  {
   "cell_type": "code",
   "execution_count": 2,
   "id": "0a9533e7",
   "metadata": {},
   "outputs": [
    {
     "data": {
      "text/plain": [
       "save_logs (generic function with 1 method)"
      ]
     },
     "metadata": {},
     "output_type": "display_data"
    }
   ],
   "source": [
    "function save_logs(index, u0_st, u0_loc)\n",
    "    open(logs_Λss, \"a\") do file\n",
    "        print(file, \"index: $(index); αE: $(αE_range[index]); \\n\");\n",
    "        print(file, \"u0 start: $(u0_st); \\n\");\n",
    "        print(file, \"u0 end: $(u0_loc) \\n\");\n",
    "        print(file, \"\\n\");\n",
    "    end\n",
    "end"
   ]
  },
  {
   "cell_type": "code",
   "execution_count": 13,
   "id": "bf84417a",
   "metadata": {},
   "outputs": [],
   "source": [
    "len = 250;\n",
    "αE_range = range(0.067, 5.0, length = len);\n",
    "\n",
    "u0s = zeros(len, 6);\n",
    "Λss = zeros(len, 6);\n",
    "logs_Λss = \"lse_logs_journal.txt\";\n",
    "\n",
    "t_tt = 3000;\n",
    "t_lse = 5000;\n",
    "\n",
    "tol = 1e-15;\n",
    "integrator_setting = (alg = Vern9(), adaptive = true, abstol = tol, reltol = tol);\n",
    "\n",
    "index_control_param = 6;\n",
    "\n",
    "u0start = [0.9445509341100914, 0.74116702856987, 0.7361196042973006, 0.0646914552140727, 0.15145764079879162, 0.0009327645775731449];\n",
    "params = TM6_glial_ECM_get_params();\n",
    "ds = CoupledODEs(TM6_glial_ECM, u0start, params, diffeq = integrator_setting);"
   ]
  },
  {
   "cell_type": "code",
   "execution_count": 14,
   "id": "335046f4",
   "metadata": {},
   "outputs": [],
   "source": [
    "for index in eachindex(αE_range)\n",
    "\n",
    "    if index == 1\n",
    "        global u0_loc = u0start;\n",
    "    end\n",
    "    \n",
    "    u0_st = u0_loc # initial condition without truncate transient time\n",
    "\n",
    "    set_parameter!(ds, index_control_param, αE_range[index]);\n",
    "    tr, _ = trajectory(ds, t_tt, u0_loc);\n",
    "\n",
    "    u0_loc = tr[end]; # initial condition with truncate transient time\n",
    "    u0s[index, :] = u0_loc;\n",
    "    save_logs(index, tr[1], tr[end])\n",
    "end"
   ]
  }
 ],
 "metadata": {
  "kernelspec": {
   "display_name": "Julia 1.9.3",
   "language": "julia",
   "name": "julia-1.9"
  },
  "language_info": {
   "file_extension": ".jl",
   "mimetype": "application/julia",
   "name": "julia",
   "version": "1.9.3"
  }
 },
 "nbformat": 4,
 "nbformat_minor": 5
}
