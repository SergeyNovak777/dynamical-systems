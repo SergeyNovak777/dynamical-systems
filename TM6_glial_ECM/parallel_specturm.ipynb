{
 "cells": [
  {
   "cell_type": "code",
   "execution_count": 1,
   "metadata": {},
   "outputs": [
    {
     "name": "stderr",
     "output_type": "stream",
     "text": [
      "\u001b[32m\u001b[1m  Activating\u001b[22m\u001b[39m project at `~/work/repo_ds/dynamical-systems/env/integrate`\n"
     ]
    },
    {
     "data": {
      "text/plain": [
       "TM6_glial_ECM_help (generic function with 1 method)"
      ]
     },
     "metadata": {},
     "output_type": "display_data"
    }
   ],
   "source": [
    "if Sys.iswindows()\n",
    "    username = \"Alex\"\n",
    "    pathtorepo = \"C:\\\\Users\\\\\" *username *  \"\\\\Desktop\\\\\"\n",
    "    using Pkg\n",
    "    Pkg.activate(pathtorepo * \"dynamical-systems\\\\env\\\\integrate\\\\\")\n",
    "    using StaticArrays, DifferentialEquations, DynamicalSystems, BenchmarkTools, CairoMakie\n",
    "        include(\"C:\\\\Users\\\\Alex\\\\Desktop\\\\dynamical-systems\\\\system.jl\");\n",
    "    #include(\"C:\\\\Users\\\\Alex\\\\Desktop\\\\dynamical-systems\\\\visual.jl\");\n",
    "else\n",
    "    username = \"nova\"\n",
    "    pathtorepo = \"/home/nova/work/repo_ds/dynamical-systems\"\n",
    "    using Pkg\n",
    "    Pkg.activate(pathtorepo * \"/env/integrate/\")\n",
    "    using StaticArrays, DifferentialEquations, DynamicalSystems, JLD2, CairoMakie\n",
    "    include(\"/home/nova/work/repo_ds/dynamical-systems/system.jl\")\n",
    "    #include(\"/home/nova/work/repo_ds/dynamical-systems/visual.jl\")\n",
    "end"
   ]
  },
  {
   "cell_type": "code",
   "execution_count": 2,
   "metadata": {},
   "outputs": [],
   "source": [
    "tLSE = 5000; tt = 3000; tstep = 0.001;\n",
    "tol = 1e-15;\n",
    "integ_set = (alg = Vern9(), adaptive = true, abstol = tol, reltol = tol);"
   ]
  },
  {
   "cell_type": "code",
   "execution_count": 47,
   "metadata": {},
   "outputs": [
    {
     "name": "stdout",
     "output_type": "stream",
     "text": [
      "\n",
      "    τ - 1, τD - 2, τF - 3, τy - 4, α - 5, αE - 6, αecm - 7, αp - 8,\n",
      "    J - 9, U0 - 10, I0 - 11, ΔU0 - 12, β - 13, βecm  -14, βp - 15,\n",
      "    γp - 16, ecm0 - 17, ecm1 - 18, kecm - 19, θecm - 20, p0 - 21, p1 - 22, θp - 23, kp - 24, ythr - 25, xthr - 26\n"
     ]
    }
   ],
   "source": [
    "param = TM6_glial_ECM_get_params();\n",
    "dict, indexparams = TM6_glial_ECM_help(param);\n",
    "println(indexparams);"
   ]
  },
  {
   "cell_type": "code",
   "execution_count": 48,
   "metadata": {},
   "outputs": [],
   "source": [
    "u0 = [0.9445509341100914, 0.74116702856987, 0.7361196042973006, 0.0646914552140727, 0.15145764079879162, 0.0009327645775731449];"
   ]
  },
  {
   "cell_type": "code",
   "execution_count": 49,
   "metadata": {},
   "outputs": [
    {
     "data": {
      "text/plain": [
       "lyapunovspectrum_adapt (generic function with 1 method)"
      ]
     },
     "metadata": {},
     "output_type": "display_data"
    }
   ],
   "source": [
    "function print_index_param(ds, name_param, index_param)\n",
    "    println(\"u0: $(current_state(ds))\");\n",
    "    println(\"$(name_param): $(current_parameters(ds)[index_param])\")\n",
    "end\n",
    "\n",
    "function find_zero(Λs; tol = 1e-2)\n",
    "    vec_bool = Vector{Bool}(undef, 6);\n",
    "    for (index, lp) in enumerate(Λs)\n",
    "        checknull=  isapprox(lp, 0.0; atol = tol);\n",
    "        vec_bool[index] = checknull;\n",
    "    end\n",
    "    vec_of_true = findall(x->x==true, vec_bool);\n",
    "    if length(vec_of_true) >=1\n",
    "        return 0;\n",
    "    else\n",
    "        return -1;\n",
    "    end;\n",
    "end\n",
    "\n",
    "function lyapunovspectrum_adapt(tands, time_lse, u0_; tol_ = 1e-2)\n",
    "    coeff_adapt_time = 1;\n",
    "    flag = true;\n",
    "\n",
    "    Λs = lyapunovspectrum(tands, time_lse, u0 = u0_);\n",
    "    while flag == true\n",
    "        checkzero = find_zero(Λs; tol = tol_);\n",
    "        if checkzero == -1\n",
    "            coeff_adapt_time*=2;\n",
    "            Λs = lyapunovspectrum(tands, time_lse * coeff_adapt_time*10, u0 = u0_);\n",
    "        else\n",
    "            flag = false;\n",
    "        end\n",
    "    end\n",
    "    return Λs #, coeff_adapt_time;\n",
    "end"
   ]
  },
  {
   "cell_type": "code",
   "execution_count": 50,
   "metadata": {},
   "outputs": [],
   "source": [
    "ds= CoupledODEs(TM6_glial_ECM, u0, param, diffeq = integ_set);\n",
    "tands = TangentDynamicalSystem(ds; J = TM6_glial_ECM_jac);\n",
    "\n",
    "systems = [deepcopy(tands) for _ in 1:Threads.nthreads()-1];\n",
    "pushfirst!(systems, tands);"
   ]
  },
  {
   "cell_type": "code",
   "execution_count": 43,
   "metadata": {},
   "outputs": [],
   "source": [
    "len = 250;\n",
    "αE_range = range(0.067, 5.0, length = len);\n",
    "u0s = zeros(len, 6);\n",
    "Λs = zeros(len, 6);\n",
    "coeffs = zeros(len);"
   ]
  },
  {
   "cell_type": "code",
   "execution_count": 8,
   "metadata": {},
   "outputs": [],
   "source": [
    "file_logs = \"logs.txt\";"
   ]
  },
  {
   "cell_type": "code",
   "execution_count": 9,
   "metadata": {},
   "outputs": [
    {
     "data": {
      "text/plain": [
       "save_logs (generic function with 1 method)"
      ]
     },
     "metadata": {},
     "output_type": "display_data"
    }
   ],
   "source": [
    "function save_logs(index, u0_st, u0_loc)\n",
    "    open(file_logs, \"a\") do file\n",
    "        print(file, \"index: $(index); αE: $(αE_range[index]); \\n\");\n",
    "        print(file, \"u0 start: $(u0_st); \\n\");\n",
    "        print(file, \"u0 end: $(u0_loc) \\n\");\n",
    "        print(file, \"\\n\");\n",
    "    end\n",
    "end"
   ]
  },
  {
   "cell_type": "code",
   "execution_count": 10,
   "metadata": {},
   "outputs": [],
   "source": [
    "for index in eachindex(αE_range)\n",
    "\n",
    "   if index == 1\n",
    "       global u0_loc = u0;\n",
    "   end\n",
    "   \n",
    "   u0_st = u0_loc\n",
    "\n",
    "   set_parameter!(ds, 6, αE_range[index]);\n",
    "   tr, _ = trajectory(ds, tt, u0_loc);\n",
    "\n",
    "   u0_loc = tr[end];\n",
    "   u0s[index, :] = u0_loc;\n",
    "   save_logs(index, tr[1], tr[end])\n",
    "end"
   ]
  },
  {
   "cell_type": "code",
   "execution_count": 76,
   "metadata": {},
   "outputs": [],
   "source": [
    "Threads.@threads for i in eachindex(αE_range)\n",
    "    system = systems[Threads.threadid()]\n",
    "    set_parameter!(system, 6, αE_range[i])\n",
    "    #set_state!(system, u0s[i, :])\n",
    "    Λs[i, :] = lyapunovspectrum_adapt(system, tLSE, u0s[i, :])\n",
    "end"
   ]
  },
  {
   "cell_type": "code",
   "execution_count": 77,
   "metadata": {},
   "outputs": [
    {
     "data": {
      "text/plain": [
       "6-element Vector{Float64}:\n",
       "  0.006106245367187609\n",
       " -0.0045483198936584045\n",
       " -0.24098359435787065\n",
       " -0.34845653025940493\n",
       " -0.7319173603584904\n",
       " -3.588648444680276"
      ]
     },
     "metadata": {},
     "output_type": "display_data"
    }
   ],
   "source": [
    "Λs[findfirst(x -> x == maximum(Λs[:, 1]), Λs[:, 1]) , :]"
   ]
  },
  {
   "cell_type": "code",
   "execution_count": 78,
   "metadata": {},
   "outputs": [
    {
     "data": {
      "text/plain": [
       "6-element Vector{Float64}:\n",
       " -0.008491824936096223\n",
       " -0.01488859206045697\n",
       " -0.28587781177611693\n",
       " -0.4569642791817169\n",
       " -0.6729740147070747\n",
       " -3.496062470381064"
      ]
     },
     "metadata": {},
     "output_type": "display_data"
    }
   ],
   "source": [
    "Λs[findfirst(x -> x == minimum(Λs[:, 1]), Λs[:, 1]) , :]"
   ]
  },
  {
   "cell_type": "code",
   "execution_count": 79,
   "metadata": {},
   "outputs": [
    {
     "data": {
      "image/png": "[encoded data removed]"
     },
     "metadata": {},
     "output_type": "display_data"
    }
   ],
   "source": [
    "lb_size = 30; tck_size = 25;\n",
    "lw = 1.5;\n",
    "f = Figure(resolution = (1200, 300))\n",
    "axis = Axis(f[1, 1], xlabel = L\"αE\", ylabel = L\"\\Lambda s\",\n",
    "            xlabelsize = lb_size, ylabelsize = lb_size,\n",
    "            xticklabelsize = tck_size, yticklabelsize = tck_size,\n",
    "            xgridvisible = false, ygridvisible = false)\n",
    "\n",
    "lines!(axis, αE_range, Λs[:, 1], linewidth = lw, color = :red)\n",
    "#=lines!(axis, αE_range, Λs[:, 2], linewidth = lw, color = :green)\n",
    "lines!(axis, αE_range, Λs[:, 3], linewidth = lw, color = :deepskyblue)\n",
    "lines!(axis, αE_range, Λs[:, 4], linewidth = lw, color = :slateblue1)\n",
    "lines!(axis, αE_range, Λs[:, 4], linewidth = lw, color = :slateblue1)\n",
    "lines!(axis, αE_range, Λs[:, 5], linewidth = lw, color = :blue)\n",
    "lines!(axis, αE_range, Λs[:, 6], linewidth = lw, color = :navyblue)=#\n",
    "\n",
    "ylims!(-0.1, 0.1)\n",
    "f"
   ]
  }
 ],
 "metadata": {
  "kernelspec": {
   "display_name": "Julia 1.9.3",
   "language": "julia",
   "name": "julia-1.9"
  },
  "language_info": {
   "file_extension": ".jl",
   "mimetype": "application/julia",
   "name": "julia",
   "version": "1.9.3"
  },
  "orig_nbformat": 4
 },
 "nbformat": 4,
 "nbformat_minor": 2
}
