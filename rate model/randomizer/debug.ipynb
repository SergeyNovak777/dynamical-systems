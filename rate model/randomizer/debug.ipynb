{
 "cells": [
  {
   "cell_type": "code",
   "execution_count": 1,
   "metadata": {},
   "outputs": [
    {
     "name": "stderr",
     "output_type": "stream",
     "text": [
      "\u001b[32m\u001b[1m  Activating\u001b[22m\u001b[39m project at `~/work/repo/dynamical-systems/env/integrate`\n"
     ]
    }
   ],
   "source": [
    "if Sys.iswindows()\n",
    "    username = \"Alex\"\n",
    "    pathtorepo = \"C:\\\\Users\\\\\" *username *  \"\\\\Desktop\\\\\"\n",
    "    using Pkg\n",
    "    Pkg.activate(pathtorepo * \"dynamical-systems\\\\env\\\\integrate\\\\\")\n",
    "else\n",
    "    username = \"sergey\"\n",
    "    pathtorepo = \"/home/\" *username *\"/work/repo/dynamical-systems\"\n",
    "    using Pkg\n",
    "    Pkg.activate(pathtorepo * \"/env/integrate/\")\n",
    "end\n",
    "include(\"/home/sergey/work/repo/dynamical-systems/system.jl\")\n",
    "using DifferentialEquations, DynamicalSystems, CSV, DataFrames, DelimitedFiles"
   ]
  },
  {
   "cell_type": "code",
   "execution_count": 2,
   "metadata": {},
   "outputs": [
    {
     "data": {
      "text/plain": [
       "calc_LSE (generic function with 1 method)"
      ]
     },
     "metadata": {},
     "output_type": "display_data"
    }
   ],
   "source": [
    "function traj(sys, u0, params, tspan, integ_setting)\n",
    "    prob = ODEProblem(sys, u0, tspan, params)\n",
    "    if integ_setting.adaptive == true\n",
    "        sol = solve(prob, RK4(), adaptive = true, abstol = integ_setting.abstol, reltol = integ_setting.reltol)\n",
    "    else\n",
    "        sol = solve(prob, RK4(), adaptive = false, dt = integ_setting.dt, maxiters = integ_setting.maxiters)\n",
    "    end\n",
    "\n",
    "    len_sol = length(sol)\n",
    "    tstart = floor(Int64, len_sol / 2)\n",
    "    return sol[:, tstart:len_sol]\n",
    "end\n",
    "\n",
    "function calc_LSE(sys, u0, params, t_LSE, integ_setting)\n",
    "    ds = CoupledODEs(sys, u0, params,\n",
    "    diffeq = integ_setting);\n",
    "    LSE = lyapunovspectrum(ds, t_LSE)\n",
    "    return LSE\n",
    "end"
   ]
  },
  {
   "cell_type": "code",
   "execution_count": 3,
   "metadata": {},
   "outputs": [
    {
     "data": {
      "text/plain": [
       "(alg = RK4(; stage_limiter! = trivial_limiter!, step_limiter! = trivial_limiter!, thread = static(false),), adaptive = true, abstol = 1.0e-11, reltol = 1.0e-11)"
      ]
     },
     "metadata": {},
     "output_type": "display_data"
    }
   ],
   "source": [
    "sys = rate_model\n",
    "params = rate_model_get_params()\n",
    "params[21] = 10.0;\n",
    "tspan = (0.0, 1000.0)\n",
    "t_LSE = 2000\n",
    "u0 = [0.3, 0.2, 0.7, 0.2, 0.001]\n",
    "u0 = SVector{5}(u0)\n",
    "integrator_setting = (alg = RK4(), adaptive = true, abstol = 1e-11, reltol = 1e-11)"
   ]
  },
  {
   "cell_type": "code",
   "execution_count": 4,
   "metadata": {},
   "outputs": [
    {
     "data": {
      "text/plain": [
       "5-element Vector{Float64}:\n",
       "  -0.0031011193483050804\n",
       "  -0.25342190727945985\n",
       "  -0.5032748593970405\n",
       "  -1.7557452322756923\n",
       " -Inf"
      ]
     },
     "metadata": {},
     "output_type": "display_data"
    }
   ],
   "source": [
    "sol = traj(sys, u0, params, tspan, integrator_setting);\n",
    "LSE = calc_LSE(sys, u0, params, t_LSE, integrator_setting)"
   ]
  },
  {
   "cell_type": "code",
   "execution_count": null,
   "metadata": {},
   "outputs": [],
   "source": [
    "sE_sv, sI_sv, rE_sv, rI_sv, Y_sv = sol[1]\n",
    "sE_ev, sI_ev, rE_ev, rI_ev, Y_ev = sol[end]\n",
    "l1, l2, l3, l4, l5 = LSE"
   ]
  },
  {
   "cell_type": "code",
   "execution_count": 11,
   "metadata": {},
   "outputs": [
    {
     "data": {
      "text/html": [
       "<div><div style = \"float: left;\"><span>1×15 DataFrame</span></div><div style = \"clear: both;\"></div></div><div class = \"data-frame\" style = \"overflow-x: scroll;\"><table class = \"data-frame\" style = \"margin-bottom: 6px;\"><thead><tr class = \"header\"><th class = \"rowNumber\" style = \"font-weight: bold; text-align: right;\">Row</th><th style = \"text-align: left;\">sE_start</th><th style = \"text-align: left;\">sI_start</th><th style = \"text-align: left;\">rE_start</th><th style = \"text-align: left;\">rI_start</th><th style = \"text-align: left;\">Y_start</th><th style = \"text-align: left;\">sE_end</th><th style = \"text-align: left;\">sI_end</th><th style = \"text-align: left;\">rE_end</th><th style = \"text-align: left;\">rI_end</th><th style = \"text-align: left;\">Y_end</th><th style = \"text-align: left;\">LE1</th><th style = \"text-align: left;\">LE2</th><th style = \"text-align: left;\">LE3</th><th style = \"text-align: left;\">LE4</th><th style = \"text-align: left;\">LE5</th></tr><tr class = \"subheader headerLastRow\"><th class = \"rowNumber\" style = \"font-weight: bold; text-align: right;\"></th><th title = \"Float64\" style = \"text-align: left;\">Float64</th><th title = \"Float64\" style = \"text-align: left;\">Float64</th><th title = \"Float64\" style = \"text-align: left;\">Float64</th><th title = \"Float64\" style = \"text-align: left;\">Float64</th><th title = \"Float64\" style = \"text-align: left;\">Float64</th><th title = \"Float64\" style = \"text-align: left;\">Float64</th><th title = \"Float64\" style = \"text-align: left;\">Float64</th><th title = \"Float64\" style = \"text-align: left;\">Float64</th><th title = \"Float64\" style = \"text-align: left;\">Float64</th><th title = \"Float64\" style = \"text-align: left;\">Float64</th><th title = \"Float64\" style = \"text-align: left;\">Float64</th><th title = \"Float64\" style = \"text-align: left;\">Float64</th><th title = \"Float64\" style = \"text-align: left;\">Float64</th><th title = \"Float64\" style = \"text-align: left;\">Float64</th><th title = \"Float64\" style = \"text-align: left;\">Float64</th></tr></thead><tbody><tr><td class = \"rowNumber\" style = \"font-weight: bold; text-align: right;\">1</td><td style = \"text-align: right;\">0.495376</td><td style = \"text-align: right;\">0.405511</td><td style = \"text-align: right;\">0.183181</td><td style = \"text-align: right;\">0.118217</td><td style = \"text-align: right;\">2.92076e-5</td><td style = \"text-align: right;\">0.827702</td><td style = \"text-align: right;\">0.442497</td><td style = \"text-align: right;\">0.440448</td><td style = \"text-align: right;\">0.225195</td><td style = \"text-align: right;\">0.0001</td><td style = \"text-align: right;\">-0.00310112</td><td style = \"text-align: right;\">-0.253422</td><td style = \"text-align: right;\">-0.503275</td><td style = \"text-align: right;\">-1.75575</td><td style = \"text-align: right;\">-Inf</td></tr></tbody></table></div>"
      ],
      "text/latex": [
       "\\begin{tabular}{r|ccccccccc}\n",
       "\t& sE\\_start & sI\\_start & rE\\_start & rI\\_start & Y\\_start & sE\\_end & sI\\_end & rE\\_end & \\\\\n",
       "\t\\hline\n",
       "\t& Float64 & Float64 & Float64 & Float64 & Float64 & Float64 & Float64 & Float64 & \\\\\n",
       "\t\\hline\n",
       "\t1 & 0.495376 & 0.405511 & 0.183181 & 0.118217 & 2.92076e-5 & 0.827702 & 0.442497 & 0.440448 & $\\dots$ \\\\\n",
       "\\end{tabular}\n"
      ],
      "text/plain": [
       "\u001b[1m1×15 DataFrame\u001b[0m\n",
       "\u001b[1m Row \u001b[0m│\u001b[1m sE_start \u001b[0m\u001b[1m sI_start \u001b[0m\u001b[1m rE_start \u001b[0m\u001b[1m rI_start \u001b[0m\u001b[1m Y_start    \u001b[0m\u001b[1m sE_end   \u001b[0m\u001b[1m sI_end   \u001b[0m\u001b[1m\u001b[0m ⋯\n",
       "     │\u001b[90m Float64  \u001b[0m\u001b[90m Float64  \u001b[0m\u001b[90m Float64  \u001b[0m\u001b[90m Float64  \u001b[0m\u001b[90m Float64    \u001b[0m\u001b[90m Float64  \u001b[0m\u001b[90m Float64  \u001b[0m\u001b[90m\u001b[0m ⋯\n",
       "─────┼──────────────────────────────────────────────────────────────────────────\n",
       "   1 │ 0.495376  0.405511  0.183181  0.118217  2.92076e-5  0.827702  0.442497  ⋯\n",
       "\u001b[36m                                                               8 columns omitted\u001b[0m"
      ]
     },
     "metadata": {},
     "output_type": "display_data"
    }
   ],
   "source": [
    "df = DataFrame(\"sE_start\" => sE_sv, \"sI_start\" => sI_sv, \"rE_start\" => rE_sv, \"rI_start\" => rI_sv, \"Y_start\" => Y_sv,\n",
    "\"sE_end\" => sE_ev, \"sI_end\" => sI_ev, \"rE_end\" => rE_ev, \"rI_end\" => rI_ev, \"Y_end\" => Y_ev,\n",
    "\"LE1\" => l1, \"LE2\" => l2, \"LE3\" => l3, \"LE4\" => l4, \"LE5\" => l5)"
   ]
  },
  {
   "cell_type": "code",
   "execution_count": 14,
   "metadata": {},
   "outputs": [
    {
     "data": {
      "text/html": [
       "<div><div style = \"float: left;\"><span>2×15 DataFrame</span></div><div style = \"clear: both;\"></div></div><div class = \"data-frame\" style = \"overflow-x: scroll;\"><table class = \"data-frame\" style = \"margin-bottom: 6px;\"><thead><tr class = \"header\"><th class = \"rowNumber\" style = \"font-weight: bold; text-align: right;\">Row</th><th style = \"text-align: left;\">sE_start</th><th style = \"text-align: left;\">sI_start</th><th style = \"text-align: left;\">rE_start</th><th style = \"text-align: left;\">rI_start</th><th style = \"text-align: left;\">Y_start</th><th style = \"text-align: left;\">sE_end</th><th style = \"text-align: left;\">sI_end</th><th style = \"text-align: left;\">rE_end</th><th style = \"text-align: left;\">rI_end</th><th style = \"text-align: left;\">Y_end</th><th style = \"text-align: left;\">LE1</th><th style = \"text-align: left;\">LE2</th><th style = \"text-align: left;\">LE3</th><th style = \"text-align: left;\">LE4</th><th style = \"text-align: left;\">LE5</th></tr><tr class = \"subheader headerLastRow\"><th class = \"rowNumber\" style = \"font-weight: bold; text-align: right;\"></th><th title = \"Float64\" style = \"text-align: left;\">Float64</th><th title = \"Float64\" style = \"text-align: left;\">Float64</th><th title = \"Float64\" style = \"text-align: left;\">Float64</th><th title = \"Float64\" style = \"text-align: left;\">Float64</th><th title = \"Float64\" style = \"text-align: left;\">Float64</th><th title = \"Float64\" style = \"text-align: left;\">Float64</th><th title = \"Float64\" style = \"text-align: left;\">Float64</th><th title = \"Float64\" style = \"text-align: left;\">Float64</th><th title = \"Float64\" style = \"text-align: left;\">Float64</th><th title = \"Float64\" style = \"text-align: left;\">Float64</th><th title = \"Float64\" style = \"text-align: left;\">Float64</th><th title = \"Float64\" style = \"text-align: left;\">Float64</th><th title = \"Float64\" style = \"text-align: left;\">Float64</th><th title = \"Float64\" style = \"text-align: left;\">Float64</th><th title = \"Float64\" style = \"text-align: left;\">Float64</th></tr></thead><tbody><tr><td class = \"rowNumber\" style = \"font-weight: bold; text-align: right;\">1</td><td style = \"text-align: right;\">0.495376</td><td style = \"text-align: right;\">0.405511</td><td style = \"text-align: right;\">0.183181</td><td style = \"text-align: right;\">0.118217</td><td style = \"text-align: right;\">2.92076e-5</td><td style = \"text-align: right;\">0.827702</td><td style = \"text-align: right;\">0.442497</td><td style = \"text-align: right;\">0.440448</td><td style = \"text-align: right;\">0.225195</td><td style = \"text-align: right;\">0.0001</td><td style = \"text-align: right;\">-0.00310112</td><td style = \"text-align: right;\">-0.253422</td><td style = \"text-align: right;\">-0.503275</td><td style = \"text-align: right;\">-1.75575</td><td style = \"text-align: right;\">-Inf</td></tr><tr><td class = \"rowNumber\" style = \"font-weight: bold; text-align: right;\">2</td><td style = \"text-align: right;\">0.495376</td><td style = \"text-align: right;\">0.405511</td><td style = \"text-align: right;\">0.183181</td><td style = \"text-align: right;\">0.118217</td><td style = \"text-align: right;\">2.92076e-5</td><td style = \"text-align: right;\">0.827702</td><td style = \"text-align: right;\">0.442497</td><td style = \"text-align: right;\">0.440448</td><td style = \"text-align: right;\">0.225195</td><td style = \"text-align: right;\">0.0001</td><td style = \"text-align: right;\">-0.00310112</td><td style = \"text-align: right;\">-0.253422</td><td style = \"text-align: right;\">-0.503275</td><td style = \"text-align: right;\">-1.75575</td><td style = \"text-align: right;\">-Inf</td></tr></tbody></table></div>"
      ],
      "text/latex": [
       "\\begin{tabular}{r|ccccccccc}\n",
       "\t& sE\\_start & sI\\_start & rE\\_start & rI\\_start & Y\\_start & sE\\_end & sI\\_end & rE\\_end & \\\\\n",
       "\t\\hline\n",
       "\t& Float64 & Float64 & Float64 & Float64 & Float64 & Float64 & Float64 & Float64 & \\\\\n",
       "\t\\hline\n",
       "\t1 & 0.495376 & 0.405511 & 0.183181 & 0.118217 & 2.92076e-5 & 0.827702 & 0.442497 & 0.440448 & $\\dots$ \\\\\n",
       "\t2 & 0.495376 & 0.405511 & 0.183181 & 0.118217 & 2.92076e-5 & 0.827702 & 0.442497 & 0.440448 & $\\dots$ \\\\\n",
       "\\end{tabular}\n"
      ],
      "text/plain": [
       "\u001b[1m2×15 DataFrame\u001b[0m\n",
       "\u001b[1m Row \u001b[0m│\u001b[1m sE_start \u001b[0m\u001b[1m sI_start \u001b[0m\u001b[1m rE_start \u001b[0m\u001b[1m rI_start \u001b[0m\u001b[1m Y_start    \u001b[0m\u001b[1m sE_end   \u001b[0m\u001b[1m sI_end   \u001b[0m\u001b[1m\u001b[0m ⋯\n",
       "     │\u001b[90m Float64  \u001b[0m\u001b[90m Float64  \u001b[0m\u001b[90m Float64  \u001b[0m\u001b[90m Float64  \u001b[0m\u001b[90m Float64    \u001b[0m\u001b[90m Float64  \u001b[0m\u001b[90m Float64  \u001b[0m\u001b[90m\u001b[0m ⋯\n",
       "─────┼──────────────────────────────────────────────────────────────────────────\n",
       "   1 │ 0.495376  0.405511  0.183181  0.118217  2.92076e-5  0.827702  0.442497  ⋯\n",
       "   2 │ 0.495376  0.405511  0.183181  0.118217  2.92076e-5  0.827702  0.442497\n",
       "\u001b[36m                                                               8 columns omitted\u001b[0m"
      ]
     },
     "metadata": {},
     "output_type": "display_data"
    }
   ],
   "source": [
    "push!(df, (sE_sv, sI_sv, rE_sv, rI_sv, Y_sv, sE_ev, sI_ev, rE_ev, rI_ev, Y_ev, l1, l2, l3, l4, l5))"
   ]
  },
  {
   "cell_type": "code",
   "execution_count": 15,
   "metadata": {},
   "outputs": [
    {
     "data": {
      "text/plain": [
       "\"/home/sergey/work/repo/dynamical-systems/rate model/randomizer/test.csv\""
      ]
     },
     "metadata": {},
     "output_type": "display_data"
    }
   ],
   "source": [
    "pathtofile = \"/home/sergey/work/repo/dynamical-systems/rate model/randomizer/\"\n",
    "namefile = \"test.csv\"\n",
    "fullpath = pathtofile*namefile"
   ]
  },
  {
   "cell_type": "code",
   "execution_count": 16,
   "metadata": {},
   "outputs": [
    {
     "data": {
      "text/plain": [
       "\"/home/sergey/work/repo/dynamical-systems/rate model/randomizer/test.csv\""
      ]
     },
     "metadata": {},
     "output_type": "display_data"
    }
   ],
   "source": [
    "CSV.write(fullpath, df)"
   ]
  },
  {
   "cell_type": "code",
   "execution_count": null,
   "metadata": {},
   "outputs": [],
   "source": [
    "CSV.write(\"/home/sergey/work/repo/dynamical-systems/rate model/randomizer/output.csv\",\n",
    "(u0 = [[0.0, 0.0, 0.0, 0.0, 0.0]], lastpont = [[0.0, 0.0, 0.0, 0.0, 0.0]], LSE = [[0.0, 0.0, 0.0, 0.0, 0.0]]))"
   ]
  }
 ],
 "metadata": {
  "kernelspec": {
   "display_name": "Julia 1.10.0",
   "language": "julia",
   "name": "julia-1.10"
  },
  "language_info": {
   "file_extension": ".jl",
   "mimetype": "application/julia",
   "name": "julia",
   "version": "1.10.0"
  }
 },
 "nbformat": 4,
 "nbformat_minor": 2
}
