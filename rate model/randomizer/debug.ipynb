{
 "cells": [
  {
   "cell_type": "code",
   "execution_count": 1,
   "metadata": {},
   "outputs": [
    {
     "name": "stderr",
     "output_type": "stream",
     "text": [
      "\u001b[32m\u001b[1m  Activating\u001b[22m\u001b[39m project at `~/work/repo/dynamical-systems/env/integrate`\n"
     ]
    }
   ],
   "source": [
    "if Sys.iswindows()\n",
    "    username = \"Alex\"\n",
    "    pathtorepo = \"C:\\\\Users\\\\\" *username *  \"\\\\Desktop\\\\\"\n",
    "    using Pkg\n",
    "    Pkg.activate(pathtorepo * \"dynamical-systems\\\\env\\\\integrate\\\\\")\n",
    "else\n",
    "    username = \"sergey\"\n",
    "    pathtorepo = \"/home/\" *username *\"/work/repo/dynamical-systems\"\n",
    "    using Pkg\n",
    "    Pkg.activate(pathtorepo * \"/env/integrate/\")\n",
    "end\n",
    "include(\"/home/sergey/work/repo/dynamical-systems/system.jl\")\n",
    "using DifferentialEquations, DynamicalSystems, CSV, DataFrames, DelimitedFiles"
   ]
  },
  {
   "cell_type": "code",
   "execution_count": null,
   "metadata": {},
   "outputs": [],
   "source": []
  },
  {
   "cell_type": "code",
   "execution_count": null,
   "metadata": {},
   "outputs": [],
   "source": [
    "CSV.write(\"test.csv\")"
   ]
  },
  {
   "cell_type": "markdown",
   "metadata": {},
   "source": []
  },
  {
   "cell_type": "code",
   "execution_count": 10,
   "metadata": {},
   "outputs": [
    {
     "data": {
      "text/plain": [
       "trajectory (generic function with 1 method)"
      ]
     },
     "metadata": {},
     "output_type": "display_data"
    }
   ],
   "source": [
    "function trajectory(sys, u0, params, tspan, integ_setting)\n",
    "    prob = ODEProblem(sys, u0, tspan, params)\n",
    "    if integ_setting.adaptive == true\n",
    "        sol = solve(prob, RK4(), adaptive = true, abstol = integ_setting.abstol, reltol = integ_setting.reltol)\n",
    "    else\n",
    "        sol = solve(prob, RK4(), adaptive = false, dt = integ_setting.dt, maxiters = integ_setting.maxiters)\n",
    "    end\n",
    "\n",
    "    len_sol = length(sol)\n",
    "    tstart = floor(Int64, len_sol / 2)\n",
    "    return sol[:, tstart:len_sol]\n",
    "end\n",
    "\n",
    "function calc_LSE(sys, u0, params, t_LSE, integ_setting)\n",
    "    ds = CoupledODEs(sys, u0, params,\n",
    "    diffeq = integ_setting);\n",
    "    LSE = lyapunovspectrum(ds, t_LSE)\n",
    "    return LSE\n",
    "end\n",
    "\n",
    "function analys_traj(traj)\n",
    "    \n",
    "end"
   ]
  },
  {
   "cell_type": "code",
   "execution_count": 17,
   "metadata": {},
   "outputs": [
    {
     "data": {
      "text/plain": [
       "(alg = RK4(; stage_limiter! = trivial_limiter!, step_limiter! = trivial_limiter!, thread = static(false),), adaptive = true, abstol = 1.0e-11, reltol = 1.0e-11)"
      ]
     },
     "metadata": {},
     "output_type": "display_data"
    }
   ],
   "source": [
    "sys = rate_model\n",
    "params = rate_model_get_params()\n",
    "params[21] = 10.0;\n",
    "tspan = (0.0, 1000.0)\n",
    "t_LSE = 2000\n",
    "u0 = [0.3, 0.2, 0.7, 0.2, 0.001]\n",
    "u0 = SVector{5}(u0)\n",
    "integrator_setting = (alg = RK4(), adaptive = true, abstol = 1e-11, reltol = 1e-11)"
   ]
  },
  {
   "cell_type": "code",
   "execution_count": 30,
   "metadata": {},
   "outputs": [
    {
     "data": {
      "text/plain": [
       "0.0001"
      ]
     },
     "metadata": {},
     "output_type": "display_data"
    }
   ],
   "source": [
    "params[19] * params[20]"
   ]
  },
  {
   "cell_type": "code",
   "execution_count": 23,
   "metadata": {},
   "outputs": [
    {
     "data": {
      "text/plain": [
       "0.0:2.0408163265306123:100.0"
      ]
     },
     "metadata": {},
     "output_type": "display_data"
    }
   ],
   "source": [
    "testrange = range(0.0, 100.0, length = 50)"
   ]
  },
  {
   "cell_type": "code",
   "execution_count": 26,
   "metadata": {},
   "outputs": [
    {
     "name": "stdout",
     "output_type": "stream",
     "text": [
      "index: 1; value: 0.0\n"
     ]
    }
   ],
   "source": [
    "for (index, value) in enumerate(testrange)\n",
    "    println(\"index: $(index); value: $(value)\")\n",
    "    break\n",
    "end"
   ]
  },
  {
   "cell_type": "code",
   "execution_count": 37,
   "metadata": {},
   "outputs": [
    {
     "data": {
      "text/plain": [
       "44169-element BitVector:\n",
       " 1\n",
       " 1\n",
       " 1\n",
       " 1\n",
       " 1\n",
       " 1\n",
       " 1\n",
       " 1\n",
       " 1\n",
       " 1\n",
       " ⋮\n",
       " 1\n",
       " 1\n",
       " 1\n",
       " 1\n",
       " 1\n",
       " 1\n",
       " 1\n",
       " 1\n",
       " 1"
      ]
     },
     "metadata": {},
     "output_type": "display_data"
    }
   ],
   "source": [
    "res = (sol[5,:] .<= params[19] * params[20])"
   ]
  },
  {
   "cell_type": "code",
   "execution_count": 39,
   "metadata": {},
   "outputs": [],
   "source": [
    "using Random"
   ]
  },
  {
   "cell_type": "code",
   "execution_count": 41,
   "metadata": {},
   "outputs": [],
   "source": [
    "range_neuron = range(0.0, 1.0, length = 100)\n",
    "range_astro = range(0.0, params[19] * params[20], length = 100)\n",
    "array_u0 = zeros(100000, 5);"
   ]
  },
  {
   "cell_type": "code",
   "execution_count": null,
   "metadata": {},
   "outputs": [],
   "source": [
    "for index in range(1, 100000)\n",
    "    array_u0[]\n",
    "end"
   ]
  },
  {
   "cell_type": "code",
   "execution_count": 19,
   "metadata": {},
   "outputs": [
    {
     "data": {
      "text/plain": [
       "5-element Vector{Float64}:\n",
       "  -0.0031011193483050804\n",
       "  -0.25342190727945985\n",
       "  -0.5032748593970405\n",
       "  -1.7557452322756923\n",
       " -Inf"
      ]
     },
     "metadata": {},
     "output_type": "display_data"
    }
   ],
   "source": [
    "sol = trajectory(sys, u0, params, tspan, integrator_setting);\n",
    "LSE = calc_LSE(sys, u0, params, t_LSE, integrator_setting)"
   ]
  },
  {
   "cell_type": "code",
   "execution_count": 28,
   "metadata": {},
   "outputs": [
    {
     "ename": "OutOfMemoryError",
     "evalue": "OutOfMemoryError()",
     "output_type": "error",
     "traceback": [
      "OutOfMemoryError()\n",
      "\n",
      "Stacktrace:\n",
      " [1] Array\n",
      "   @ Core ./boot.jl:479 [inlined]\n",
      " [2] Array\n",
      "   @ Core ./boot.jl:487 [inlined]\n",
      " [3] zeros\n",
      "   @ Base ./array.jl:636 [inlined]\n",
      " [4] zeros\n",
      "   @ Base ./array.jl:633 [inlined]\n",
      " [5] zeros(::Int64, ::Int64)\n",
      "   @ Base ./array.jl:631\n",
      " [6] top-level scope\n",
      "   @ ~/work/repo/dynamical-systems/rate model/randomizer/debug.ipynb:3"
     ]
    }
   ],
   "source": [
    "dim = 5\n",
    "N = 50^dim\n",
    "data = zeros(N, 8)"
   ]
  }
 ],
 "metadata": {
  "kernelspec": {
   "display_name": "Julia 1.10.0",
   "language": "julia",
   "name": "julia-1.10"
  },
  "language_info": {
   "file_extension": ".jl",
   "mimetype": "application/julia",
   "name": "julia",
   "version": "1.10.0"
  }
 },
 "nbformat": 4,
 "nbformat_minor": 2
}
