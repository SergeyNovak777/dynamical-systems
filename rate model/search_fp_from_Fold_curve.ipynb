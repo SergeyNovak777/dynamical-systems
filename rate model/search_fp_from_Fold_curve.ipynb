{
 "cells": [
  {
   "cell_type": "code",
   "execution_count": 1,
   "metadata": {},
   "outputs": [
    {
     "name": "stderr",
     "output_type": "stream",
     "text": [
      "\u001b[32m\u001b[1m  Activating\u001b[22m\u001b[39m project at `C:\\Users\\Alex\\Desktop\\dynamical-systems\\env\\integrate`\n"
     ]
    },
    {
     "data": {
      "text/plain": [
       "TM6_glial_ECM_help (generic function with 1 method)"
      ]
     },
     "metadata": {},
     "output_type": "display_data"
    }
   ],
   "source": [
    "username = \"Alex\"\n",
    "env = \"integrate\"\n",
    "pathtorepo = \"C:\\\\Users\\\\\" *username *  \"\\\\Desktop\\\\\"\n",
    "using Pkg\n",
    "Pkg.activate(pathtorepo * \"dynamical-systems\\\\env\\\\\" * env * \"\\\\\")\n",
    "include(pathtorepo * \"dynamical-systems\\\\system.jl\")"
   ]
  },
  {
   "cell_type": "code",
   "execution_count": 2,
   "metadata": {},
   "outputs": [],
   "source": [
    "using StaticArrays, DifferentialEquations, DynamicalSystems\n",
    "\n",
    "sE, sI, rE, rI, Y  = -100..100, -100..100,  -100..100, -100..100, -100..100\n",
    "box = sE × sI × rE × rI × Y\n",
    "\n",
    "using CairoMakie"
   ]
  },
  {
   "cell_type": "code",
   "execution_count": 3,
   "metadata": {},
   "outputs": [
    {
     "data": {
      "text/plain": [
       "(alg = RK4(; stage_limiter! = trivial_limiter!, step_limiter! = trivial_limiter!, thread = static(false),), adaptive = false, dt = 0.01)"
      ]
     },
     "metadata": {},
     "output_type": "display_data"
    }
   ],
   "source": [
    "time_integrate = 1000.0; tstep = 0.001;\n",
    "integrate_setting = (alg = RK4(), adaptive = false, dt = 0.01)"
   ]
  },
  {
   "cell_type": "code",
   "execution_count": 34,
   "metadata": {},
   "outputs": [
    {
     "data": {
      "text/plain": [
       "1.89820343829"
      ]
     },
     "metadata": {},
     "output_type": "display_data"
    }
   ],
   "source": [
    "u0 = ones(5)*0.01;\n",
    "params = rate_model_get_params();\n",
    "params[21] = 5.00018533304498\n",
    "params[9] = 1.898203438"
   ]
  },
  {
   "cell_type": "code",
   "execution_count": 35,
   "metadata": {},
   "outputs": [
    {
     "data": {
      "text/plain": [
       "5-dimensional CoupledODEs\n",
       " deterministic: true\n",
       " discrete time: false\n",
       " in-place:      false\n",
       " dynamic rule:  rate_model\n",
       " ODE solver:    RK4\n",
       " ODE kwargs:    (adaptive = false, dt = 0.01)\n",
       " parameters:    [3.0, 4.0, 0.15, 10.0, 8.0, 0.1, 2.0, 5.0, 1.89820343829, 3.5  …  0.0, 5.0, 3.0, 0.4, 0.01, 0.01, 5.00018533304498, 0.5, 0.5, 0.01]\n",
       " time:          0.0\n",
       " state:         [0.01, 0.01, 0.01, 0.01, 0.01]\n"
      ]
     },
     "metadata": {},
     "output_type": "display_data"
    }
   ],
   "source": [
    "ds = CoupledODEs(rate_model, u0, params, diffeq = integrate_setting)"
   ]
  },
  {
   "cell_type": "code",
   "execution_count": 36,
   "metadata": {},
   "outputs": [],
   "source": [
    "fp, ei, _ = fixedpoints(ds, box, rate_jac)"
   ]
  },
  {
   "cell_type": "code",
   "execution_count": null,
   "metadata": {},
   "outputs": [],
   "source": [
    "fp"
   ]
  },
  {
   "cell_type": "code",
   "execution_count": null,
   "metadata": {},
   "outputs": [],
   "source": [
    "ei"
   ]
  },
  {
   "cell_type": "code",
   "execution_count": 40,
   "metadata": {},
   "outputs": [
    {
     "data": {
      "text/plain": [
       "(5-dimensional StateSpaceSet{Float64} with 2000001 points, 0.0:0.001:2000.0)"
      ]
     },
     "metadata": {},
     "output_type": "display_data"
    }
   ],
   "source": [
    "tr, trange = trajectory(ds, time*2, Δt = tstep)"
   ]
  },
  {
   "cell_type": "code",
   "execution_count": 41,
   "metadata": {},
   "outputs": [
    {
     "data": {
      "text/plain": [
       "35"
      ]
     },
     "metadata": {},
     "output_type": "display_data"
    }
   ],
   "source": [
    "tickssize = 30; labelsize = 35"
   ]
  },
  {
   "cell_type": "code",
   "execution_count": 42,
   "metadata": {},
   "outputs": [
    {
     "data": {
      "text/plain": [
       "GLMakie.Screen(...)"
      ]
     },
     "metadata": {},
     "output_type": "display_data"
    }
   ],
   "source": [
    "indexx, indexy, indexz = 3, 1, 2\n",
    "tstart, tend = 1, 1500000\n",
    "GLMakie.activate!()\n",
    "f = Figure(resolution = (700, 700))\n",
    "ax = LScene(f[1, 1], show_axis = true)\n",
    "scale!(ax.scene, 1, 1, 1)\n",
    "lines!(ax, tr[tstart:tend, indexx], tr[tstart:tend, indexy], tr[tstart:tend, indexz], linewidth = 1.0, color = :deeppink)\n",
    "\n",
    "for fp_ in fp\n",
    "    scatter!(ax, fp_[indexx], fp_[indexy], fp_[indexz], markersize = 12.0)\n",
    "end\n",
    "display(GLMakie.Screen(), f)"
   ]
  }
 ],
 "metadata": {
  "kernelspec": {
   "display_name": "Julia 1.10.0",
   "language": "julia",
   "name": "julia-1.10"
  },
  "language_info": {
   "file_extension": ".jl",
   "mimetype": "application/julia",
   "name": "julia",
   "version": "1.10.0"
  },
  "orig_nbformat": 4
 },
 "nbformat": 4,
 "nbformat_minor": 2
}
