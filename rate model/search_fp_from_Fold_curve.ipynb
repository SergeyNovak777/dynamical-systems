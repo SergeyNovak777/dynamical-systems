{
 "cells": [
  {
   "cell_type": "code",
   "execution_count": 1,
   "metadata": {},
   "outputs": [
    {
     "name": "stderr",
     "output_type": "stream",
     "text": [
      "\u001b[32m\u001b[1m  Activating\u001b[22m\u001b[39m project at `C:\\Users\\Alex\\Desktop\\dynamical-systems\\env\\integrate`\n"
     ]
    }
   ],
   "source": [
    "username = \"Alex\"\n",
    "pathtorepo = \"C:\\\\Users\\\\\" *username *  \"\\\\Desktop\\\\\"\n",
    "using Pkg\n",
    "Pkg.activate(pathtorepo * \"dynamical-systems\\\\env\\\\integrate\\\\\")"
   ]
  },
  {
   "cell_type": "code",
   "execution_count": 2,
   "metadata": {},
   "outputs": [],
   "source": [
    "using StaticArrays, DifferentialEquations, DynamicalSystems\n",
    "\n",
    "sE, sI, rE, rI, Y  = -50..50, -50..50,  -50..50, -50..50, -50..50\n",
    "box = sE × sI × rE × rI × Y\n",
    "\n",
    "using CairoMakie, GLMakie\n",
    "using LinearAlgebra"
   ]
  },
  {
   "cell_type": "code",
   "execution_count": null,
   "metadata": {},
   "outputs": [],
   "source": [
    "# not optimize\n",
    "\n",
    "\"\"\"function rate_jac(u, p , t)\n",
    "    sE, sI, rE, rI, Y = u\n",
    "    τsE, γE, s0E, τsI, γI, s0I, τrE, kE, IE, wEE, wIE, θE, τrI, kI, II, wEI, wII, θI, τY, βY, gammaY, ythr, sEthr, kY = p\n",
    "\n",
    "    g(Y) = 1.0 + gammaY / (1.0 + exp(-Y + ythr))\n",
    "    HevY(sE) = 1.0/(1.0 + exp(-(sE - sEthr)/kY))\n",
    "\n",
    "    sEsE = 1.0/τsE * ( -1.0 - γE * rE *  g(Y))\n",
    "    sIsE = 0\n",
    "    rEsE = 1.0/τrE * ( kE * wEE * exp(-kE*( (IE + wEE*sE-wIE*sI) - θE) ) ) / ( 1.0 + exp(-kE*( (IE + wEE*sE-wIE*sI) - θE) ) )^2\n",
    "    rIsE = 1.0/τrI * ( kI * wEI * exp( -kI*( (II + wEI*sE-wII*sI) - θI) ) ) / ( 1.0 + exp(-kI*((II + wEI*sE-wII*sI) - θI)) )^2\n",
    "    YsE = (βY * exp( -(sE - sEthr)/kY )) /( ( 1.0 + exp( -(sE - sEthr)/kY ) )^2 * kY)\n",
    "\n",
    "    sEsI = 0.0\n",
    "    sIsI = (1.0/τsI) * ( -1.0 - γI * rI  )\n",
    "    rEsI = (1.0/τrE) * (-kE * wIE * exp(-kE*( (IE + wEE*sE-wIE*sI) - θE) )) / ( 1.0 + exp(-kE*( (IE + wEE*sE-wIE*sI) - θE) ) )^2 \n",
    "    rIsI = (1.0/τrI) * (-kI * wII * exp( -kI*( (II + wEI*sE-wII*sI) - θI) )) / (1.0 + exp( -kI*( (II + wEI*sE-wII*sI) - θI) ))^2\n",
    "    YsI = 0.0\n",
    "\n",
    "    sErE = (1.0/τsE) * ( γE*(1-sE)*g(Y) )\n",
    "    sIrE = 0.0\n",
    "    rErE = (-1.0/τrE)\n",
    "    rIrE = 0.0\n",
    "    YrE = 0.0\n",
    "\n",
    "    sErI = 0.0\n",
    "    sIrI = (1.0/τsI) * ( γI*(1.0-sI) )\n",
    "    rErI = 0.0\n",
    "    rIrI = (-1.0/τrI)\n",
    "    YrI = 0.0\n",
    "\n",
    "    sEY = (1.0/τsE) * ( γE*rE*(1.0-sE) * ( γY * exp(-Y + ythr) ) / (1.0 + exp(-Y + ythr))^2 )\n",
    "    sIY = 0.0\n",
    "    rEY = 0.0\n",
    "    rIY = 0.0\n",
    "    YY = (-1.0/τY)\n",
    "\n",
    "    return SMatrix{5,5}(sEsE, sIsE, rEsE, rIsE, YsE,\n",
    "    sEsI, sIsI, rEsI, rIsI, YsI,\n",
    "    sErE, sIrE, rErE, rIrE, YrE,\n",
    "    sErI, sIrI, rErI, rIrI, YrI,\n",
    "    sEY, sIY, rEY, rIY, YY)\n",
    "\n",
    "end\"\"\""
   ]
  },
  {
   "cell_type": "code",
   "execution_count": null,
   "metadata": {},
   "outputs": [],
   "source": [
    "# before vectorization\n",
    "\n",
    "\"\"\"function rate_jac(u, p , t)\n",
    "    sE, sI, rE, rI, Y = u\n",
    "    τsE, γE, s0E, τsI, γI, s0I, τrE, kE, IE, wEE, wIE, θE, τrI, kI, II, wEI, wII, θI, τY, βY, gammaY, ythr, sEthr, kY = p\n",
    "\n",
    "    gY = 1.0 + gammaY / (1.0 + exp(-Y + ythr))\n",
    "    HevY = 1.0/(1.0 + exp(-(sE - sEthr)/kY))\n",
    "\n",
    "    expE = exp(-kE*( (IE + wEE*sE-wIE*sI) - θE) )\n",
    "    expI = exp( -kI*( (II + wEI*sE-wII*sI) - θI) )\n",
    "    expHev = exp( -(sE - sEthr)/kY )\n",
    "    expY = exp(-Y + ythr)\n",
    "\n",
    "\n",
    "    sEsE = 1.0/τsE * (-1.0 - γE * rE *  gY)\n",
    "    #sIsE = 0.0\n",
    "    rEsE = 1.0/τrE * (kE * wEE * expE) / (1.0 + expE)^2\n",
    "    rIsE = 1.0/τrI * (kI * wEI * expI) / (1.0 + expI)^2\n",
    "    YsE = (βY * expHev) / ((1.0 + expHev)^2 * kY)\n",
    "\n",
    "    #sEsI = 0.0\n",
    "    sIsI = (1.0/τsI) * (-1.0 - γI * rI )\n",
    "    rEsI = (1.0/τrE) * (-kE * wIE * expE) / (1.0 + expE)^2 \n",
    "    rIsI = (1.0/τrI) * (-kI * wII * expI) / (1.0 + expI)^2\n",
    "    YsI = 0.0\n",
    "\n",
    "    sErE = (1.0/τsE) * ( γE*(1-sE)*gY )\n",
    "    #sIrE = 0.0\n",
    "    rErE = (-1.0/τrE)\n",
    "    #rIrE = 0.0\n",
    "    #YrE = 0.0\n",
    "\n",
    "    #sErI = 0.0\n",
    "    sIrI = (1.0/τsI) * ( γI*(1.0-sI) )\n",
    "    #rErI = 0.0\n",
    "    rIrI = (-1.0/τrI)\n",
    "    #YrI = 0.0\n",
    "\n",
    "    sEY = (1.0/τsE) * ( γE*rE*(1.0-sE) * ( γY * expY ) / (1.0 + expY )^2 )\n",
    "    #sIY = 0.0\n",
    "    #rEY = 0.0\n",
    "    #rIY = 0.0\n",
    "    YY = (-1.0/τY)\n",
    "\n",
    "    return SMatrix{5,5}(sEsE, 0.0, rEsE, rIsE, YsE,\n",
    "    0.0, sIsI, rEsI, rIsI, 0.0,\n",
    "    sErE, 0.0, rErE, 0.0, 0.0,\n",
    "    0.0, sIrI, 0.0, rIrI, 0.0,\n",
    "    sEY, 0.0, 0.0, 0.0, YY)\n",
    "\n",
    "end\"\"\""
   ]
  },
  {
   "cell_type": "code",
   "execution_count": 3,
   "metadata": {},
   "outputs": [],
   "source": [
    "function model_braint_rhythms(u, p, t)\n",
    "\n",
    "    sE, sI, rE, rI, Y = u\n",
    "    τsE, γE, s0E, τsI, γI, s0I, τrE, kE, IE, wEE, wIE, θE, τrI, kI, II, wEI, wII, θI, τY, βY, gammaY, ythr, sEthr, kY = p\n",
    "\n",
    "    g(Y) = 1.0 + gammaY / (1.0 + exp(-Y + ythr))\n",
    "    HevY(sE) = 1.0/(1.0 + exp(-(sE - sEthr)/kY))\n",
    "\n",
    "    dsEdt = (1/τsE) *(-sE + γE*rE*(1-sE)*g(Y) + s0E)\n",
    "    dsIdt = (1/τsI) *(-sI + γI*rI*(1-sI) + s0I)\n",
    "\n",
    "    drEdt = (1/ τrE) *(-rE + 1/(1 + exp(-kE*((IE + wEE*sE-wIE*sI) - θE))))\n",
    "    drIdt = (1/τrI) *(-rI + 1/(1 + exp(-kI*((II + wEI*sE-wII*sI) - θI))))\n",
    "    \n",
    "    dYdt = -Y / τY + βY * HevY(sE)  \n",
    "    \n",
    "    return SVector(dsEdt, dsIdt, drEdt, drIdt, dYdt)\n",
    "    \n",
    "end\n",
    "\n",
    "function rate_jac(u, p , t)\n",
    "    \n",
    "    #sE, sI, rE, rI, Y = u\n",
    "    τsE, γE, s0E, τsI, γI, s0I, τrE, kE, IE, wEE, wIE, θE, τrI, kI, II, wEI, wII, θI, τY, βY, gammaY, ythr, sEthr, kY = p\n",
    "\n",
    "    gY = 1.0 + gammaY / (1.0 + exp(-u[5] + ythr))\n",
    "    HevY = 1.0/(1.0 + exp(-(u[1] - sEthr)/kY))\n",
    "\n",
    "    expE = exp(-kE*( (IE + wEE*u[1]-wIE*u[2]) - θE) )\n",
    "    expI = exp( -kI*( (II + wEI*u[1]-wII*u[2]) - θI) )\n",
    "    expHev = exp( -(u[1] - sEthr)/kY )\n",
    "    expY = exp(-u[5] + ythr)\n",
    "\n",
    "\n",
    "    sEsE = 1.0/τsE * (-1.0 - γE * u[3] *  gY)\n",
    "    #sIsE = 0.0\n",
    "    rEsE = 1.0/τrE * (kE * wEE * expE) / (1.0 + expE)^2\n",
    "    rIsE = 1.0/τrI * (kI * wEI * expI) / (1.0 + expI)^2\n",
    "    YsE = (βY * expHev) / ((1.0 + expHev)^2 * kY)\n",
    "\n",
    "    #sEsI = 0.0\n",
    "    sIsI = (1.0/τsI) * (-1.0 - γI * u[4] )\n",
    "    rEsI = (1.0/τrE) * (-kE * wIE * expE) / (1.0 + expE)^2 \n",
    "    rIsI = (1.0/τrI) * (-kI * wII * expI) / (1.0 + expI)^2\n",
    "    #YsI = 0.0\n",
    "\n",
    "    sErE = (1.0/τsE) * ( γE*(1-u[1])*gY )\n",
    "    #sIrE = 0.0\n",
    "    rErE = (-1.0/τrE)\n",
    "    #rIrE = 0.0\n",
    "    #YrE = 0.0\n",
    "\n",
    "    #sErI = 0.0\n",
    "    sIrI = (1.0/τsI) * ( γI*(1.0-u[2]) )\n",
    "    #rErI = 0.0\n",
    "    rIrI = (-1.0/τrI)\n",
    "    #YrI = 0.0\n",
    "\n",
    "    sEY = (1.0/τsE) * ( γE*u[3]*(1.0-u[1]) * ( γY * expY ) / (1.0 + expY )^2 )\n",
    "    #sIY = 0.0\n",
    "    #rEY = 0.0\n",
    "    #rIY = 0.0\n",
    "    YY = (-1.0/τY)\n",
    "\n",
    "    return SMatrix{5,5}(sEsE, 0.0, rEsE, rIsE, YsE,\n",
    "    0.0, sIsI, rEsI, rIsI, 0.0,\n",
    "    sErE, 0.0, rErE, 0.0, 0.0,\n",
    "    0.0, sIrI, 0.0, rIrI, 0.0,\n",
    "    sEY, 0.0, 0.0, 0.0, YY)\n",
    "\n",
    "end\n",
    "\n",
    "function show_fp(fp, names)\n",
    "    for (index, fp_) in enumerate(fp)\n",
    "        println(\"$(index) - fp:\")\n",
    "        for (i, cord) in enumerate(fp_)\n",
    "                println(\"$(names[i]): $cord\")\n",
    "        end\n",
    "    end\n",
    "end\n",
    "function show_eigenvalues(ei)\n",
    "    for (index, ei_) in enumerate(ei)\n",
    "        println(\"$(index) - fp:\")\n",
    "        for (i, ei__) in enumerate(ei_)\n",
    "            println(\"$ei__\")\n",
    "        end\n",
    "    end\n",
    "end\n",
    "names = [\"sE\", \"sI\", \"rE\", \"rI\", \"Y\"];"
   ]
  },
  {
   "cell_type": "code",
   "execution_count": 4,
   "metadata": {},
   "outputs": [],
   "source": [
    "time = 1000; tt = 0.0; tstep = 0.001; times = [time, tt]\n",
    "integ_set = (alg = Vern9(), adaptive = false, dt = tstep);"
   ]
  },
  {
   "cell_type": "code",
   "execution_count": 45,
   "metadata": {},
   "outputs": [
    {
     "data": {
      "text/plain": [
       "5-dimensional CoupledODEs\n",
       " deterministic: true\n",
       " discrete time: false\n",
       " in-place:      false\n",
       " dynamic rule:  model_braint_rhythms\n",
       " ODE solver:    Vern9\n",
       " ODE kwargs:    (adaptive = false, dt = 0.001)\n",
       " parameters:    [3.0, 4.0, 0.15, 10.0, 8.0, 0.1, 2.0, 5.0, 2.2566039, 3.5  …  0.0, 5.0, 3.0, 0.4, 0.01, 0.01, -0.52430801, 0.5, 0.5, 0.01]\n",
       " time:          0.0\n",
       " state:         [0.0, 0.0, 0.0, 0.0, 0.0]\n"
      ]
     },
     "metadata": {},
     "output_type": "display_data"
    }
   ],
   "source": [
    "τsE = 3.0; γE = 4.0; s0E = 0.15;\n",
    "τsI = 10.0; γI = 8.0; s0I = 0.1;\n",
    "\n",
    "τrE = 2.0; kE = 5.0; IE = 2.2566039; wEE = 3.5; wIE = 5.0; θE = 0.2;\n",
    "τrI = 6.0; kI = 5.0; II = 0.0; wEI = 5.0; wII = 3.0; θI = 0.4;\n",
    "\n",
    "τY = 0.01;  βY = 0.01;  γY = -0.52430801; \n",
    "ythr = 0.5; sEthr = 0.5; kY = 0.01\n",
    "\n",
    "p = [τsE, γE, s0E, τsI, γI, s0I, τrE, kE, IE, wEE, wIE, θE, τrI, kI, II, wEI, wII, θI, τY, βY, γY, ythr, sEthr, kY];\n",
    "\n",
    "u0 = [0.0, 0.0, 0.0, 0.0, 0.0]\n",
    "\n",
    "ds = CoupledODEs(model_braint_rhythms, u0, p, diffeq = integ_set)"
   ]
  },
  {
   "cell_type": "code",
   "execution_count": 46,
   "metadata": {},
   "outputs": [
    {
     "name": "stdout",
     "output_type": "stream",
     "text": [
      "1 - fp:\n",
      "sE: 0.7057015819815162\n",
      "sI: 0.8909897160951794\n",
      "rE: 0.5885693492041981\n",
      "rI: 0.9070127236640015\n",
      "Y: 9.999999988345497e-5\n",
      "2 - fp:\n",
      "sE: 0.6971766905069666\n",
      "sI: 0.8891739600462224\n",
      "rE: 0.5632253881954232\n",
      "rI: 0.8901043928567736\n",
      "Y: 9.99999997266462e-5\n",
      "3 - fp:\n",
      "sE: 0.696726092721456\n",
      "sI: 0.8890698437308333\n",
      "rE: 0.5619254354462314\n",
      "rI: 0.8891516408488974\n",
      "Y: 9.999999971404721e-5\n",
      "\n",
      "1 - fp:\n",
      "-99.99999999999964 + 0.0im\n",
      "-1.5635683727267815 + 0.0im\n",
      "-0.8589440455430497 + 0.0im\n",
      "-0.02451901198654199 + 0.0im\n",
      "-0.007987027209884102 + 0.0im\n",
      "2 - fp:\n",
      "-99.99999999999922 + 0.0im\n",
      "-1.5608737028472321 + 0.0im\n",
      "-0.8526971428748883 + 0.0im\n",
      "-0.0035945879243847985 + 0.0im\n",
      "0.002776137568488543 + 0.0im\n",
      "3 - fp:\n",
      "-99.9999999999992 + 0.0im\n",
      "-1.5606899546016515 + 0.0im\n",
      "-0.8523484313295328 + 0.0im\n",
      "0.0004007218691321863 - 0.003217690371286555im\n",
      "0.0004007218691321863 + 0.003217690371286555im\n"
     ]
    }
   ],
   "source": [
    "fp, ei, _ = fixedpoints(ds, box, rate_jac)\n",
    "\n",
    "show_fp(fp, names)\n",
    "println(\"\")\n",
    "show_eigenvalues(ei)"
   ]
  },
  {
   "cell_type": "code",
   "execution_count": 39,
   "metadata": {},
   "outputs": [
    {
     "data": {
      "text/plain": [
       "5-dimensional CoupledODEs\n",
       " deterministic: true\n",
       " discrete time: false\n",
       " in-place:      false\n",
       " dynamic rule:  model_braint_rhythms\n",
       " ODE solver:    RK4\n",
       " ODE kwargs:    (adaptive = false, dt = 0.001)\n",
       " parameters:    [3.0, 4.0, -1.5535255, 10.0, 8.0, 0.1, 2.0, 5.0, 0.9, 3.5  …  0.0, 5.0, 3.0, 0.4, 0.01, 0.01, 0.305, 0.5, 0.5, 0.01]\n",
       " time:          0.0\n",
       " state:         [-1.553525499951717, 0.10000010000000001, 4.238976047149959e-12, 4.100003101564359e-19, -1.3247518451720553e-50]\n"
      ]
     },
     "metadata": {},
     "output_type": "display_data"
    }
   ],
   "source": [
    "index_fp = 1\n",
    "index_vec = 5\n",
    "ϵ = 1e-7\n",
    "\n",
    "Jac = rate_jac(fp[index_fp], p, 0)\n",
    "\n",
    "eivecs = eigvecs(Jac)\n",
    "\n",
    "shift =  fp[index_fp] + real(eivecs[:, index_vec])*ϵ\n",
    "\n",
    "ds = CoupledODEs(model_braint_rhythms, shift, p, diffeq = (alg = RK4(), adaptive = false, dt = tstep))"
   ]
  },
  {
   "cell_type": "code",
   "execution_count": 40,
   "metadata": {},
   "outputs": [
    {
     "data": {
      "text/plain": [
       "(5-dimensional StateSpaceSet{Float64} with 2000001 points, 0.0:0.001:2000.0)"
      ]
     },
     "metadata": {},
     "output_type": "display_data"
    }
   ],
   "source": [
    "tr, trange = trajectory(ds, time*2, Δt = tstep)"
   ]
  },
  {
   "cell_type": "code",
   "execution_count": 41,
   "metadata": {},
   "outputs": [
    {
     "data": {
      "text/plain": [
       "35"
      ]
     },
     "metadata": {},
     "output_type": "display_data"
    }
   ],
   "source": [
    "tickssize = 30; labelsize = 35"
   ]
  },
  {
   "cell_type": "code",
   "execution_count": 42,
   "metadata": {},
   "outputs": [
    {
     "data": {
      "text/plain": [
       "GLMakie.Screen(...)"
      ]
     },
     "metadata": {},
     "output_type": "display_data"
    }
   ],
   "source": [
    "indexx, indexy, indexz = 3, 1, 2\n",
    "tstart, tend = 1, 1500000\n",
    "GLMakie.activate!()\n",
    "f = Figure(resolution = (700, 700))\n",
    "ax = LScene(f[1, 1], show_axis = true)\n",
    "scale!(ax.scene, 1, 1, 1)\n",
    "lines!(ax, tr[tstart:tend, indexx], tr[tstart:tend, indexy], tr[tstart:tend, indexz], linewidth = 1.0, color = :deeppink)\n",
    "\n",
    "for fp_ in fp\n",
    "    scatter!(ax, fp_[indexx], fp_[indexy], fp_[indexz], markersize = 12.0)\n",
    "end\n",
    "display(GLMakie.Screen(), f)"
   ]
  },
  {
   "cell_type": "code",
   "execution_count": 802,
   "metadata": {},
   "outputs": [
    {
     "data": {
      "image/png": "[encoded data removed]"
     },
     "metadata": {},
     "output_type": "display_data"
    },
    {
     "data": {
      "text/plain": [
       "CairoMakie.Screen{IMAGE}\n"
      ]
     },
     "metadata": {},
     "output_type": "display_data"
    }
   ],
   "source": [
    "CairoMakie.activate!()\n",
    "f= Figure(resolution = (1600, 400))\n",
    "axisrHz  = Axis(f[1, 1], xlabel = L\"time\", ylabel = L\"r_{sum}\", xlabelsize = labelsize, ylabelsize = labelsize, xticklabelsize = tickssize, yticklabelsize = tickssize, xgridvisible = true, ygridvisible = true)\n",
    "\n",
    "lines!(axisrHz, trange[tstart:tend], tr[tstart:tend, 3], linewidth = 1.0, color = :red)\n",
    "lines!(axisrHz, trange[tstart:tend], tr[tstart:tend, 4], linewidth = 1.0, color = :blue)\n",
    "\n",
    "display(f)"
   ]
  },
  {
   "cell_type": "code",
   "execution_count": 752,
   "metadata": {},
   "outputs": [
    {
     "data": {
      "image/png": "[encoded data removed]"
     },
     "metadata": {},
     "output_type": "display_data"
    },
    {
     "data": {
      "text/plain": [
       "CairoMakie.Screen{IMAGE}\n"
      ]
     },
     "metadata": {},
     "output_type": "display_data"
    }
   ],
   "source": [
    "CairoMakie.activate!()\n",
    "f= Figure(resolution = (1600, 400))\n",
    "axisrHz  = Axis(f[1, 1], xlabel = L\"time\", ylabel = L\"r_{sum}\", xlabelsize = labelsize, ylabelsize = labelsize, xticklabelsize = tickssize, yticklabelsize = tickssize, xgridvisible = true, ygridvisible = true)\n",
    "\n",
    "lines!(axisrHz, trange[tstart:tend], tr[tstart:tend, 5], linewidth = 1.0, color = :deeppink)\n",
    "\n",
    "display(f)"
   ]
  }
 ],
 "metadata": {
  "kernelspec": {
   "display_name": "Julia 1.10.0",
   "language": "julia",
   "name": "julia-1.10"
  },
  "language_info": {
   "file_extension": ".jl",
   "mimetype": "application/julia",
   "name": "julia",
   "version": "1.10.0"
  },
  "orig_nbformat": 4
 },
 "nbformat": 4,
 "nbformat_minor": 2
}
