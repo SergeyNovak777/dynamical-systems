{
 "cells": [
  {
   "cell_type": "markdown",
   "id": "e6a38b9a",
   "metadata": {},
   "source": [
    "### Packages"
   ]
  },
  {
   "cell_type": "code",
   "execution_count": 1,
   "id": "2ce3ae90",
   "metadata": {},
   "outputs": [],
   "source": [
    "using DynamicalSystems, DifferentialEquations, OrdinaryDiffEq, StaticArrays\n",
    "using CairoMakie"
   ]
  },
  {
   "cell_type": "markdown",
   "id": "084fd137",
   "metadata": {},
   "source": [
    "### Functions"
   ]
  },
  {
   "cell_type": "code",
   "execution_count": 50,
   "id": "a6cd4fc2",
   "metadata": {},
   "outputs": [
    {
     "data": {
      "text/plain": [
       "separate (generic function with 1 method)"
      ]
     },
     "execution_count": 50,
     "metadata": {},
     "output_type": "execute_result"
    }
   ],
   "source": [
    "function model(u, p ,t)\n",
    "    \n",
    "    E, x, u_, y = u\n",
    "    τ, α, τ_D, J, U0, ΔU0, τ_y, β, xthr, ythr, I0 = p\n",
    "    \n",
    "    U(y, U0, ΔU0, ythr) = U0 + ΔU0 / ( 1 + exp( -50 * ( y - ythr ) ) )\n",
    "    σ(x, xthr)= 1 / (1 + exp(-20 * (x - xthr)));\n",
    "    \n",
    "    du1 = (-E + α * log( 1 + exp( ( J * u_ * x * E + I0 ) / α ) )) / τ\n",
    "    du2 = ( 1 - x ) / τ_D - u_ * x * E\n",
    "    du3 = (U(y, U0, ΔU0, ythr) - u_) / τ_F + U(y, U0, ΔU0, ythr) * ( 1 - u_ ) * E\n",
    "    du4 = -y /  τ_y + β * σ(x, xthr)\n",
    "    \n",
    "    return SVector(du1, du2, du3, du4)\n",
    "    \n",
    "end;\n",
    "\n",
    "function output(index_i, index_j, U0_lc, I0_lc, u0_lc)\n",
    "        println(\"index i: $index_i\"); flush(stdout)\n",
    "        println(\"index j: $index_j\"); flush(stdout)\n",
    "        println(\"U0: $U0_lc;\"); flush(stdout)\n",
    "        println(\"I0: $I0_lc;\"); flush(stdout)\n",
    "        println(\"u0: $u0_lc;\"); flush(stdout)\n",
    "end\n",
    "function separate()\n",
    "    println(\" --------------------- \"); flush(stdout)\n",
    "    println(\"  \"); flush(stdout)\n",
    "end\n",
    "\n",
    "function Y(x)\n",
    "    a = 0.1836121365412579\n",
    "    b = 0.2749462902187088\n",
    "    c = 0.25\n",
    "    return  a * (x.^2) + b * x .+ c \n",
    "end\n",
    "\n",
    "function print_output(index, I0, U0, initial_condition)\n",
    "    println(\"index: $index\");flush(stdout)\n",
    "    println(\"I0: $I0\");flush(stdout)\n",
    "    println(\"U0: $U0\");flush(stdout)\n",
    "    println(\"initial condition: $initial_condition\")\n",
    "end\n",
    "function separate()\n",
    "    println(\"_________________\")\n",
    "    println(\"\")\n",
    "end"
   ]
  },
  {
   "cell_type": "markdown",
   "id": "ba3c50c1",
   "metadata": {},
   "source": [
    "### Parametres"
   ]
  },
  {
   "cell_type": "code",
   "execution_count": 45,
   "id": "8b2bf6ae",
   "metadata": {},
   "outputs": [
    {
     "name": "stdout",
     "output_type": "stream",
     "text": [
      "[0.013, 1.5, 0.15, 3.07, NaN, 0.305, 1.8, 0.4375, 0.9, 0.5, NaN]\n"
     ]
    }
   ],
   "source": [
    "τ = 0.013; τ_D = 0.15; τ_y = 1.8; τ_F = 1;\n",
    "α = 1.5; J = 3.07; β = 0.4375\n",
    "ΔU0 = 0.305\n",
    "xthr = 0.9; ythr = 0.5\n",
    "parametres = SA[ τ, α, τ_D, J, NaN, ΔU0, τ_y, β, xthr, ythr, NaN ]\n",
    "timefinal = 500.0\n",
    "println(parametres)"
   ]
  },
  {
   "cell_type": "markdown",
   "id": "acb572bf",
   "metadata": {},
   "source": [
    "### Grid"
   ]
  },
  {
   "cell_type": "code",
   "execution_count": 91,
   "id": "a9f82f72",
   "metadata": {},
   "outputs": [],
   "source": [
    "startI = -1.8\n",
    "endI = -1.24798\n",
    "lengthI = 100\n",
    "\n",
    "rangeI = range( startI, endI, length = lengthI )\n",
    "rangeU0 = Y( rangeI );"
   ]
  },
  {
   "cell_type": "code",
   "execution_count": 92,
   "id": "3a7d92e9",
   "metadata": {},
   "outputs": [
    {
     "data": {
      "text/plain": [
       "\"output_from_function.txt\""
      ]
     },
     "execution_count": 92,
     "metadata": {},
     "output_type": "execute_result"
    }
   ],
   "source": [
    "file = \"output_from_function.txt\""
   ]
  },
  {
   "cell_type": "code",
   "execution_count": null,
   "id": "d7c110e9",
   "metadata": {},
   "outputs": [
    {
     "name": "stdout",
     "output_type": "stream",
     "text": [
      "index: 1\n",
      "I0: -1.8\n",
      "U0: 0.34999999999999987\n"
     ]
    }
   ],
   "source": [
    "for (index, I0) in enumerate(rangeI)\n",
    "    \"\"\"\n",
    "        Итерируемся по точкам c функции\n",
    "    \"\"\"\n",
    "    if index == 1\n",
    "        global initial_condition_function = SA[0.0, 0.2, 0.1, 0.1]\n",
    "    end\n",
    "    \n",
    "    U0 = Y(I0)\n",
    "    \n",
    "    print_output(index, I0, U0, initial_condition_function)\n",
    "    \n",
    "    parametres = SA[  τ, α, τ_D, J, U0, ΔU0, τ_y, β, xthr, ythr, I0  ]\n",
    "    ds = ContinuousDynamicalSystem( model, initial_condition_function, parametres )\n",
    "    \n",
    "    tr = trajectory(ds, timefinal, Ttr = timefinal, Δt = 0.001;\n",
    "                    diffeq = (alg = RK4(), adaptive = false, dense = false, dt = 0.001))\n",
    "    \n",
    "    initial_condition_function = tr[end, :]\n",
    "    println(\"last point: $initial_condition_function\");flush(stdout)\n",
    "    λλ = lyapunovspectrum( ds, timefinal, Ttr = timefinal, Δt = 1;\n",
    "                            diffeq = ( alg = RK4(), adaptive = false, dense = false, dt = 0.001 ))\n",
    "    println(\"LSE: $λλ\");flush(stdout)\n",
    "\n",
    "    open(file, \"a\") do io\n",
    "        println(io, \" $I0 $U0 $(λλ[1])\")\n",
    "    end\n",
    "    \n",
    "    firstdot( I0, U0, initial_condition_function )\n",
    "    lastdot( I0, U0, initial_condition_function )\n",
    "    k_dot( index, I0, U0, initial_condition_function )\n",
    "    separate()\n",
    "end"
   ]
  },
  {
   "cell_type": "code",
   "execution_count": 107,
   "id": "555d6324",
   "metadata": {},
   "outputs": [
    {
     "data": {
      "text/plain": [
       "firstdot (generic function with 1 method)"
      ]
     },
     "execution_count": 107,
     "metadata": {},
     "output_type": "execute_result"
    }
   ],
   "source": [
    "function firstdot( I0, U0, initial_condition_function )\n",
    "    \n",
    "    if I0 == startI\n",
    "        println(\"\");flush(stdout)\n",
    "        println(\"FIRST ITERATION\");flush(stdout)\n",
    "        println(\"MOVE TO RIGHT\")\n",
    "        step_to_right = rangeI.step.hi\n",
    "        range_to_right_border = range( I0 + step_to_right, endI, step = step_to_right )\n",
    "    \n",
    "        for (index, I0_right) in enumerate(range_to_right_border)\n",
    "        \n",
    "            if index == 1\n",
    "                global initial_condition_right = initial_condition_function\n",
    "            end\n",
    "            println(\"->\")\n",
    "            print_output(index, I0_right, U0, initial_condition_right)\n",
    "        \n",
    "            parametres = SA[  τ, α, τ_D, J, U0, ΔU0, τ_y, β, xthr, ythr, I0_right  ]\n",
    "        \n",
    "            ds = ContinuousDynamicalSystem( model, initial_condition_right, parametres )\n",
    "    \n",
    "            tr = trajectory(ds, timefinal, Ttr = timefinal, Δt = 0.001;\n",
    "                    diffeq = (alg = RK4(), adaptive = false, dense = false, dt = 0.001))\n",
    "            initial_condition_right = tr[end, :]\n",
    "        \n",
    "            println(\"last point: $initial_condition_right\");flush(stdout)\n",
    "            λλ = lyapunovspectrum( ds, timefinal, Ttr = timefinal, Δt = 1;\n",
    "                            diffeq = ( alg = RK4(), adaptive = false, dense = false, dt = 0.001 ))\n",
    "            println(\"LSE: $λλ\");flush(stdout)\n",
    "\n",
    "            open(file, \"a\") do io\n",
    "                println(io, \" $I0_right $U0 $(λλ[1])\")\n",
    "            end\n",
    "            separate()\n",
    "        end\n",
    "    end\n",
    "end"
   ]
  },
  {
   "cell_type": "code",
   "execution_count": 108,
   "id": "2c690df0",
   "metadata": {},
   "outputs": [
    {
     "data": {
      "text/plain": [
       "lastdot (generic function with 1 method)"
      ]
     },
     "execution_count": 108,
     "metadata": {},
     "output_type": "execute_result"
    }
   ],
   "source": [
    "function lastdot( I0, U0, initial_condition_function )\n",
    "    \n",
    "    if I0 == endI\n",
    "        println(\"\");flush(stdout)\n",
    "        println(\"LAST ITERATION\");flush(stdout)\n",
    "        println(\"MOVE TO LEFT\")\n",
    "        step_to_left = rangeI.step.hi\n",
    "        range_to_left_border = range( endI - step_to_left, startI, step = -step_to_left )\n",
    "    \n",
    "        for (index, I0_left) in enumerate(range_to_left_border)\n",
    "        \n",
    "            if index == 1\n",
    "                global initial_condition_left = initial_condition_function\n",
    "            end\n",
    "            println(\"<-\")\n",
    "            print_output(index, I0_left, U0, initial_condition_left)\n",
    "        \n",
    "            parametres = SA[  τ, α, τ_D, J, U0, ΔU0, τ_y, β, xthr, ythr, I0_left  ]\n",
    "        \n",
    "            ds = ContinuousDynamicalSystem( model, initial_condition_left, parametres )\n",
    "    \n",
    "            tr = trajectory(ds, timefinal, Ttr = timefinal, Δt = 0.001;\n",
    "                    diffeq = (alg = RK4(), adaptive = false, dense = false, dt = 0.001))\n",
    "            initial_condition_left = tr[end, :]\n",
    "        \n",
    "            println(\"last point: $initial_condition_left\");flush(stdout)\n",
    "            λλ = lyapunovspectrum( ds, timefinal, Ttr = timefinal, Δt = 1;\n",
    "                            diffeq = ( alg = RK4(), adaptive = false, dense = false, dt = 0.001 ))\n",
    "            println(\"LSE: $λλ\");flush(stdout)\n",
    "\n",
    "            open(file, \"a\") do io\n",
    "                println(io, \" $I0_left $U0 $(λλ[1])\")\n",
    "            end\n",
    "            separate()\n",
    "        end\n",
    "    end\n",
    "end"
   ]
  },
  {
   "cell_type": "code",
   "execution_count": 109,
   "id": "ffe2d2fd",
   "metadata": {},
   "outputs": [
    {
     "data": {
      "text/plain": [
       "k_dot (generic function with 2 methods)"
      ]
     },
     "execution_count": 109,
     "metadata": {},
     "output_type": "execute_result"
    }
   ],
   "source": [
    "function k_dot( index_I0, I0, U0, initial_condition_function )\n",
    "    println(\"\");flush(stdout)\n",
    "    println(\" K-dot: $index_I0 \");flush(stdout)\n",
    "    # move to left\n",
    "    step_to_left = rangeI.step.hi\n",
    "    range_to_left_border = range( I0 - step_to_left, startI, step = -step_to_left )\n",
    "    \n",
    "    for (index, I0_left) in enumerate(range_to_left_border)\n",
    "        \n",
    "            if index == 1\n",
    "                global initial_condition_left = initial_condition_function\n",
    "            end\n",
    "            println(\"<-\")\n",
    "            print_output(index, I0_left, U0, initial_condition_left)\n",
    "        \n",
    "            parametres = SA[  τ, α, τ_D, J, U0, ΔU0, τ_y, β, xthr, ythr, I0_left  ]\n",
    "        \n",
    "            ds = ContinuousDynamicalSystem( model, initial_condition_left, parametres )\n",
    "    \n",
    "            tr = trajectory(ds, timefinal, Ttr = timefinal, Δt = 0.001;\n",
    "                    diffeq = (alg = RK4(), adaptive = false, dense = false, dt = 0.001))\n",
    "            initial_condition_left = tr[end, :]\n",
    "        \n",
    "            println(\"last point: $initial_condition_left\");flush(stdout)\n",
    "            λλ = lyapunovspectrum( ds, timefinal, Ttr = timefinal, Δt = 1;\n",
    "                            diffeq = ( alg = RK4(), adaptive = false, dense = false, dt = 0.001 ))\n",
    "            println(\"LSE: $λλ\");flush(stdout)\n",
    "\n",
    "            open(file, \"a\") do io\n",
    "                println(io, \" $I0_left $U0 $(λλ[1])\")\n",
    "            end\n",
    "            separate()\n",
    "    end\n",
    "    \n",
    "    #move to right\n",
    "    step_to_right = rangeI.step.hi\n",
    "    range_to_right_border = range( I0 + step_to_right, endI, step = step_to_right )\n",
    "    for (index, I0_left) in enumerate(range_to_left_border)\n",
    "        \n",
    "            if index == 1\n",
    "                global initial_condition_left = initial_condition_function\n",
    "            end\n",
    "            println(\"<-\")\n",
    "            print_output(index, I0_left, U0, initial_condition_left)\n",
    "        \n",
    "            parametres = SA[  τ, α, τ_D, J, U0, ΔU0, τ_y, β, xthr, ythr, I0_left  ]\n",
    "        \n",
    "            ds = ContinuousDynamicalSystem( model, initial_condition_left, parametres )\n",
    "    \n",
    "            tr = trajectory(ds, timefinal, Ttr = timefinal, Δt = 0.001;\n",
    "                    diffeq = (alg = RK4(), adaptive = false, dense = false, dt = 0.001))\n",
    "            initial_condition_left = tr[end, :]\n",
    "        \n",
    "            println(\"last point: $initial_condition_left\");flush(stdout)\n",
    "            λλ = lyapunovspectrum( ds, timefinal, Ttr = timefinal, Δt = 1;\n",
    "                            diffeq = ( alg = RK4(), adaptive = false, dense = false, dt = 0.001 ))\n",
    "            println(\"LSE: $λλ\");flush(stdout)\n",
    "\n",
    "            open(file, \"a\") do io\n",
    "                println(io, \" $I0_left $U0 $(λλ[1])\")\n",
    "            end\n",
    "            separate()\n",
    "        end\n",
    "end"
   ]
  },
  {
   "cell_type": "code",
   "execution_count": null,
   "id": "af474aa1",
   "metadata": {},
   "outputs": [],
   "source": []
  }
 ],
 "metadata": {
  "kernelspec": {
   "display_name": "Julia 1.8.1",
   "language": "julia",
   "name": "julia-1.8"
  },
  "language_info": {
   "file_extension": ".jl",
   "mimetype": "application/julia",
   "name": "julia",
   "version": "1.8.1"
  }
 },
 "nbformat": 4,
 "nbformat_minor": 5
}
