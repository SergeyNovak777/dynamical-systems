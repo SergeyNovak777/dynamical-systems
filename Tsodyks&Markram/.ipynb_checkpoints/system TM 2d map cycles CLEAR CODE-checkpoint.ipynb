{
 "cells": [
  {
   "cell_type": "markdown",
   "id": "e6a38b9a",
   "metadata": {},
   "source": [
    "### Packages"
   ]
  },
  {
   "cell_type": "code",
   "execution_count": 1,
   "id": "2ce3ae90",
   "metadata": {},
   "outputs": [],
   "source": [
    "using DynamicalSystems, DifferentialEquations, OrdinaryDiffEq, StaticArrays\n",
    "using CairoMakie"
   ]
  },
  {
   "cell_type": "markdown",
   "id": "d9fa4d59",
   "metadata": {},
   "source": [
    "### Parametres"
   ]
  },
  {
   "cell_type": "code",
   "execution_count": 60,
   "id": "4cc6d448",
   "metadata": {},
   "outputs": [],
   "source": [
    "τ = 0.013; τ_D = 0.15; τ_y = 1.8; τ_F = 1;\n",
    "α = 1.5; J = 3.07; β = 0.4375\n",
    "U0 = 0.34; ΔU0 = 0.305\n",
    "xthr = 0.9; ythr = 0.5\n",
    "I0 = -1.61;"
   ]
  },
  {
   "cell_type": "markdown",
   "id": "084fd137",
   "metadata": {},
   "source": [
    "### function system"
   ]
  },
  {
   "cell_type": "code",
   "execution_count": null,
   "id": "cb809f9d",
   "metadata": {},
   "outputs": [],
   "source": [
    "p_loc = SA[τ, α, τ_D, J, U0_lc, ΔU0, τ_y, β, xthr, ythr, I0_lc]"
   ]
  },
  {
   "cell_type": "code",
   "execution_count": 65,
   "id": "a6cd4fc2",
   "metadata": {},
   "outputs": [],
   "source": [
    "function model(u, p ,t)\n",
    "    \n",
    "    E, x, u_, y = u\n",
    "    τ, α, τ_D, J, U0, ΔU0, τ_y, β, xthr, ythr, I0 = p\n",
    "    \n",
    "    U(y) = U0 + ΔU0 / ( 1 + exp( -50 * ( y - ythr ) ) )\n",
    "    σ(x)= 1 / (1 + exp(-20 * (x - xthr)));\n",
    "    \n",
    "    du1 = (-E + α * log( 1 + exp( ( J * u_ * x * E + I0 ) / α ) )) / τ\n",
    "    du2 = ( 1 - x ) / τ_D - u_ * x * E\n",
    "    du3 = (U(y) - u_) / τ_F + U(y) * ( 1 - u_ ) * E\n",
    "    du4 = -y /  τ_y + β * σ(x)\n",
    "    \n",
    "    return SVector(du1, du2, du3, du4)\n",
    "    \n",
    "end;"
   ]
  },
  {
   "cell_type": "markdown",
   "id": "4591b7db",
   "metadata": {},
   "source": [
    "### initialize system"
   ]
  },
  {
   "cell_type": "code",
   "execution_count": null,
   "id": "4fe14dcd",
   "metadata": {},
   "outputs": [],
   "source": [
    "26.232637796407218\n",
    " 0.45554422062068795\n",
    " 0.822749138030918\n",
    " 0.004751076068781969"
   ]
  },
  {
   "cell_type": "code",
   "execution_count": 61,
   "id": "781b1c3a",
   "metadata": {},
   "outputs": [
    {
     "data": {
      "text/plain": [
       "4-dimensional continuous dynamical system\n",
       " state:       [1.78208, 0.666481, 0.809933, 0.00428063]\n",
       " rule f:      model\n",
       " in-place?    false\n",
       " jacobian:    ForwardDiff\n",
       " parameters:  [0.013, 1.5, 0.15, 3.07, 0.34, …, 1.8, 0.4375, 0.9, 0.5, -1.61]"
      ]
     },
     "execution_count": 61,
     "metadata": {},
     "output_type": "execute_result"
    }
   ],
   "source": [
    "p = SA[τ, α, τ_D, J, U0, ΔU0, τ_y, β, xthr, ythr, I0]\n",
    "u0 = SA[1.7820839109401163,  0.6664813533729692,  0.8099329070680172,  0.0042806262334190775]\n",
    "tspan = (0.0, 500.0);\n",
    "ds = ContinuousDynamicalSystem(model, u0, p)"
   ]
  },
  {
   "cell_type": "code",
   "execution_count": 62,
   "id": "c4a9e2e3",
   "metadata": {},
   "outputs": [
    {
     "data": {
      "text/plain": [
       "11-element SVector{11, Float64} with indices SOneTo(11):\n",
       "  0.013\n",
       "  1.5\n",
       "  0.15\n",
       "  3.07\n",
       "  0.34\n",
       "  0.305\n",
       "  1.8\n",
       "  0.4375\n",
       "  0.9\n",
       "  0.5\n",
       " -1.61"
      ]
     },
     "execution_count": 62,
     "metadata": {},
     "output_type": "execute_result"
    }
   ],
   "source": [
    "ds.p"
   ]
  },
  {
   "cell_type": "markdown",
   "id": "c0dcb0e9",
   "metadata": {},
   "source": [
    "### Trajectory"
   ]
  },
  {
   "cell_type": "code",
   "execution_count": 63,
   "id": "8c050773",
   "metadata": {},
   "outputs": [
    {
     "data": {
      "text/plain": [
       "4-dimensional Dataset{Float64} with 500001 points\n",
       "  4.09382  0.441859  0.845485  0.00502702\n",
       "  4.03081  0.444052  0.845193  0.00502428\n",
       "  3.96916  0.446246  0.844899  0.00502154\n",
       "  3.90886  0.448442  0.844602  0.0050188\n",
       "  3.84986  0.450639  0.844303  0.00501606\n",
       "  3.79213  0.452837  0.844001  0.00501333\n",
       "  3.73566  0.455036  0.843697  0.00501061\n",
       "  3.68041  0.457235  0.84339   0.00500789\n",
       "  3.62636  0.459434  0.843082  0.00500517\n",
       "  3.57348  0.461633  0.842771  0.00500246\n",
       "  3.52175  0.463832  0.842459  0.00499975\n",
       "  3.47115  0.46603   0.842144  0.00499704\n",
       "  3.42165  0.468227  0.841827  0.00499434\n",
       "  ⋮                            \n",
       " 15.1802   0.62542   0.788287  0.00544118\n",
       " 15.6589   0.62036   0.788946  0.00543987\n",
       " 16.1429   0.615155  0.789636  0.00543839\n",
       " 16.6309   0.60981   0.790356  0.00543675\n",
       " 17.122    0.604328  0.791106  0.00543498\n",
       " 17.6149   0.598716  0.791886  0.00543308\n",
       " 18.1084   0.592978  0.792695  0.00543106\n",
       " 18.6011   0.587121  0.793533  0.00542893\n",
       " 19.0916   0.581153  0.794399  0.0054267\n",
       " 19.5786   0.575081  0.795293  0.00542439\n",
       " 20.0606   0.568913  0.796214  0.00542199\n",
       " 20.536    0.562658  0.79716   0.00541953"
      ]
     },
     "execution_count": 63,
     "metadata": {},
     "output_type": "execute_result"
    }
   ],
   "source": [
    "tr = trajectory(ds, tspan[2], Ttr = tspan[2]; Δt = 0.001,\n",
    "                diffeq = (alg = RK4(),  adaptive = false, dense = false, dt = 0.001))"
   ]
  },
  {
   "cell_type": "code",
   "execution_count": 64,
   "id": "53e8e6b4",
   "metadata": {},
   "outputs": [
    {
     "data": {
      "image/png": "[encoded data removed]",
      "text/plain": [
       "Figure()"
      ]
     },
     "execution_count": 64,
     "metadata": {},
     "output_type": "execute_result"
    }
   ],
   "source": [
    "ts, tf = 1, 25000\n",
    "\n",
    "f = Figure(resolution = (1600, 400))\n",
    "ax1 = Axis(f[1, 1], xlabel = \"t\", ylabel = \"E\", xlabelsize = 22, ylabelsize = 22,xticklabelsize = 17, yticklabelsize = 17)\n",
    "ax2 = Axis(f[2, 1], xlabel = \"t\", ylabel = \"X, u, Y\", xlabelsize = 22, ylabelsize = 22,xticklabelsize = 17, yticklabelsize = 17)\n",
    "\n",
    "lines!(ax1, tr[ts:tf, 1], color = \"blue\", label = \"E\")\n",
    "lines!(ax2, tr[ts:tf, 2], color = \"red\", label = \"X\")\n",
    "lines!(ax2, tr[ts:tf, 3], color = \"green\", label = \"u\")\n",
    "lines!(ax2, tr[ts:tf, 4], color = \"orange\", label = \"Y\")\n",
    "\n",
    "f"
   ]
  },
  {
   "cell_type": "code",
   "execution_count": 25,
   "id": "c0e4e1f9",
   "metadata": {},
   "outputs": [
    {
     "data": {
      "image/png": "[encoded data removed]",
      "text/plain": [
       "Figure()"
      ]
     },
     "execution_count": 25,
     "metadata": {},
     "output_type": "execute_result"
    }
   ],
   "source": [
    "cord1 = 2\n",
    "cord2 = 3\n",
    "cord3 = 1\n",
    "ts, tf = 1, 25000\n",
    "\n",
    "f = Figure(resolution = (1400, 1000))\n",
    "ax = Axis3(f[1, 1], xlabel = \"E\", ylabel = \"Y\", zlabel = \"u\")\n",
    "ax.xgridvisible = false\n",
    "ax.ygridvisible = false\n",
    "ax.zgridvisible = false\n",
    "lines!(tr[ts:tf, cord1], tr[ts:tf, cord2], tr[ts:tf, cord3], linewidth = 1)\n",
    "f"
   ]
  },
  {
   "cell_type": "markdown",
   "id": "f1233be1",
   "metadata": {},
   "source": [
    "### function for 2d map"
   ]
  },
  {
   "cell_type": "code",
   "execution_count": 31,
   "id": "2ae2bb92",
   "metadata": {},
   "outputs": [
    {
     "data": {
      "text/plain": [
       "separate (generic function with 1 method)"
      ]
     },
     "execution_count": 31,
     "metadata": {},
     "output_type": "execute_result"
    }
   ],
   "source": [
    "function check_fp_point(fp, point)\n",
    "\"\"\"\n",
    "    Проверка на совпадение точки с одним из состояний равновесия.\n",
    "    \n",
    "    Алгоритм\n",
    "        - Находится кол-во состояний равновесия, задаётся некоторое ϵ.\n",
    "        - Проходимся по всем состояниям равновесия и сравниваем их с точкой с помощью следующего неравенства:\n",
    "            abs( (E_fp, X_fp, u_fp, Y_fp) - abs( (E_p, X_p, u_p, Y_p) ) ) < ϵ\n",
    "            то есть, если расстояние между двумя точками по модулю строго меньше, чем ϵ\n",
    "        - Если неравенство выполняется, то сохраняем индекс, который соответствует этому состоянию равновесия\n",
    "        - Иначе сохраняем индекс -1\n",
    "        - По выполнению цикла ищем максимум из всех индексов.\n",
    "\"\"\"\n",
    "    \n",
    "    len = length(fp)\n",
    "    ϵ = [0.001, 0.001, 0.001, 0.001]\n",
    "    res = zeros(len)\n",
    "    \n",
    "    for index in range(1, len, step = 1)\n",
    "    \n",
    "        if ( abs.(fp[index] - abs.(point)) ) < ϵ\n",
    "            res[index] = index\n",
    "        else\n",
    "            res[index] = -1\n",
    "\n",
    "        end\n",
    "        \n",
    "    end\n",
    "    return convert(Int64, maximum(res))\n",
    "end\n",
    "\n",
    "function check_eigs_SLE(λλ, eigs)\n",
    "\"\"\"\n",
    "    Проверка на совпадение SLE (Спектр Ляпуновских показателей) и собственных чисел состояния равновесия\n",
    "    \n",
    "    Алгоритм\n",
    "        - Задаётся ϵ вектор.\n",
    "        - Если разница между собственными числами состояния равновесия и SLE меньше заданного ϵ вектора, то вернуть true\n",
    "        - иначе вернуть false\n",
    "\"\"\"\n",
    "    ϵ = [0.01, 0.01, 0.01, 0.01]\n",
    "    dif = abs.( sort( real(eigs) ) + (-1) * sort( λλ ) )\n",
    "    \n",
    "    if dif < ϵ\n",
    "        return true # bad\n",
    "    else\n",
    "        return false # good\n",
    "    end\n",
    "end\n",
    "\n",
    "function check_start(u0_started = SA[3.3403239669724387, 0.1, 0.1, 0.03677942307955071])\n",
    "\n",
    "    if flag_start == true\n",
    "                global u0_loc = u0_started\n",
    "                flag_start == false\n",
    "    end\n",
    "    \n",
    "end\n",
    "function output(index_i, index_j, U0_lc, I0_lc, u0_lc)\n",
    "        println(\"index i: $index_i\"); flush(stdout)\n",
    "        println(\"index j: $index_j\"); flush(stdout)\n",
    "        println(\"U0: $U0_lc;\"); flush(stdout)\n",
    "        println(\"I0: $I0_lc;\"); flush(stdout)\n",
    "        println(\"u0: $u0_lc;\"); flush(stdout)\n",
    "end\n",
    "function separate()\n",
    "    println(\" --------------------- \"); flush(stdout)\n",
    "    println(\"  \"); flush(stdout)\n",
    "end"
   ]
  },
  {
   "cell_type": "markdown",
   "id": "acb572bf",
   "metadata": {},
   "source": [
    "### 2d map"
   ]
  },
  {
   "cell_type": "code",
   "execution_count": 34,
   "id": "a9f82f72",
   "metadata": {},
   "outputs": [],
   "source": [
    "I0_start =  -1.65\n",
    "I0_finish = -1.5\n",
    "I0_step = 0.01\n",
    "\n",
    "U0_start =  0.35\n",
    "U0_finish = 0.32\n",
    "U0_step = -0.002\n",
    "\n",
    "range_U0 = range(U0_start, U0_finish, step = U0_step)\n",
    "range_I0 = range(I0_start, I0_finish, step = I0_step)\n",
    "\n",
    "array_u0 = zeros(length(range_U0), length(range_I0), 4 )\n",
    "array_cycles = zeros(length(range_U0), length(range_I0));"
   ]
  },
  {
   "cell_type": "code",
   "execution_count": 51,
   "id": "d08705ed",
   "metadata": {},
   "outputs": [
    {
     "data": {
      "text/plain": [
       "0.35:-0.002:0.32"
      ]
     },
     "execution_count": 51,
     "metadata": {},
     "output_type": "execute_result"
    }
   ],
   "source": [
    "range_U0"
   ]
  },
  {
   "cell_type": "code",
   "execution_count": 35,
   "id": "ce9b70f7",
   "metadata": {},
   "outputs": [
    {
     "data": {
      "text/plain": [
       "true"
      ]
     },
     "execution_count": 35,
     "metadata": {},
     "output_type": "execute_result"
    }
   ],
   "source": [
    "abs.(tr[end, :] - tr[300000, :]) <= [0.001, 0.001, 0.001, 0.001]"
   ]
  },
  {
   "cell_type": "code",
   "execution_count": 36,
   "id": "91c55dfe",
   "metadata": {},
   "outputs": [
    {
     "data": {
      "text/plain": [
       "4-element SVector{4, Float64} with indices SOneTo(4):\n",
       " 9.775871624283953\n",
       " 0.4442840363676028\n",
       " 0.8529928973133339\n",
       " 8.667706404168112e-5"
      ]
     },
     "execution_count": 36,
     "metadata": {},
     "output_type": "execute_result"
    }
   ],
   "source": [
    "tr[end, :]"
   ]
  },
  {
   "cell_type": "code",
   "execution_count": 37,
   "id": "aeb41632",
   "metadata": {},
   "outputs": [
    {
     "data": {
      "text/plain": [
       "4-element SVector{4, Float64} with indices SOneTo(4):\n",
       " 9.775871624283953\n",
       " 0.4442840363676028\n",
       " 0.8529928973133339\n",
       " 8.667706404168112e-5"
      ]
     },
     "execution_count": 37,
     "metadata": {},
     "output_type": "execute_result"
    }
   ],
   "source": [
    "tr[300000, :]"
   ]
  },
  {
   "cell_type": "code",
   "execution_count": 38,
   "id": "0b123b60",
   "metadata": {},
   "outputs": [
    {
     "data": {
      "text/plain": [
       "4-element SVector{4, Float64} with indices SOneTo(4):\n",
       " 0.0\n",
       " 0.0\n",
       " 0.0\n",
       " 0.0"
      ]
     },
     "execution_count": 38,
     "metadata": {},
     "output_type": "execute_result"
    }
   ],
   "source": [
    "tr[end, :] - tr[300000, :]"
   ]
  },
  {
   "cell_type": "code",
   "execution_count": 39,
   "id": "7d0f63e2",
   "metadata": {},
   "outputs": [
    {
     "data": {
      "text/plain": [
       "(16, 16)"
      ]
     },
     "execution_count": 39,
     "metadata": {},
     "output_type": "execute_result"
    }
   ],
   "source": [
    "length(range_U0), length(range_I0)"
   ]
  },
  {
   "cell_type": "code",
   "execution_count": null,
   "id": "9351b0f6",
   "metadata": {},
   "outputs": [],
   "source": []
  },
  {
   "cell_type": "code",
   "execution_count": 44,
   "id": "2ae33009",
   "metadata": {
    "scrolled": true
   },
   "outputs": [
    {
     "name": "stdout",
     "output_type": "stream",
     "text": [
      "index i: 1\n",
      "index j: 1\n",
      "U0: 0.35;\n",
      "I0: -1.65;\n",
      "u0: [0.0, 0.2, 0.1, 0.1];\n",
      "last point: [1.4532726406060006, 0.6128188288248325, 0.8216678336611694, 0.00848216076958664]\n",
      "random point: [5.053001361489919, 0.7382969896887166, 0.7769133749430952, 0.009433415783485957]\n",
      "distance between last point and random point: [-3.5997287208839186, -0.12547816086388408, 0.04475445871807415, -0.0009512550138993173]\n",
      "Cycles: (1 - true, 0 - false): 1.0;\n",
      " --------------------- \n",
      "  \n",
      "index i: 2\n",
      "index j: 1\n",
      "U0: 0.348;\n",
      "I0: -1.65;\n",
      "u0: [1.4532726406060006, 0.6128188288248325, 0.8216678336611694, 0.00848216076958664];\n",
      "last point: [1.4882088263735032, 0.7073439319627065, 0.7983549637423425, 0.008466252874388009]\n",
      "random point: [28.809896960589644, 0.41591319626860096, 0.824783173113024, 0.009402768955435762]\n",
      "distance between last point and random point: [-27.32168813421614, 0.29143073569410555, -0.026428209370681466, -0.0009365160810477537]\n",
      "Cycles: (1 - true, 0 - false): 1.0;\n",
      " --------------------- \n",
      "  \n",
      "index i: 3\n",
      "index j: 1\n",
      "U0: 0.346;\n",
      "I0: -1.65;\n",
      "u0: [1.4882088263735032, 0.7073439319627065, 0.7983549637423425, 0.008466252874388009];\n",
      "last point: [2.8864559883877328, 0.7485441704843603, 0.7796934260340409, 0.009145877056140709]\n",
      "random point: [9.889737490806306, 0.3362296356673503, 0.8600415697268323, 0.009076591062284652]\n",
      "distance between last point and random point: [-7.003281502418574, 0.41231453481700997, -0.08034814369279142, 6.928599385605701e-5]\n",
      "Cycles: (1 - true, 0 - false): 1.0;\n",
      " --------------------- \n",
      "  \n",
      "index i: 4\n",
      "index j: 1\n",
      "U0: 0.344;\n",
      "I0: -1.65;\n",
      "u0: [2.8864559883877328, 0.7485441704843603, 0.7796934260340409, 0.009145877056140709];\n",
      "last point: [22.698426533996088, 0.5626322572107961, 0.7977737429983632, 0.009508448453881397]\n",
      "random point: [2.9498967588701013, 0.47267405901051696, 0.8458705711292501, 0.008763066875395187]\n",
      "distance between last point and random point: [19.748529775125988, 0.08995819820027917, -0.04809682813088689, 0.0007453815784862101]\n",
      "Cycles: (1 - true, 0 - false): 1.0;\n",
      " --------------------- \n",
      "  \n",
      "index i: 5\n",
      "index j: 1\n",
      "U0: 0.342;\n",
      "I0: -1.65;\n",
      "u0: [22.698426533996088, 0.5626322572107961, 0.7977737429983632, 0.009508448453881397];\n",
      "last point: [15.48713386787383, 0.31437221151450695, 0.8578688351520668, 0.009181734695112494]\n",
      "random point: [1.4657109059387807, 0.6094566842202375, 0.8223569886260822, 0.008488241867067621]\n",
      "distance between last point and random point: [14.021422961935048, -0.2950844727057305, 0.0355118465259846, 0.0006934928280448727]\n",
      "Cycles: (1 - true, 0 - false): 1.0;\n",
      " --------------------- \n",
      "  \n",
      "index i: 6\n",
      "index j: 1\n",
      "U0: 0.34;\n",
      "I0: -1.65;\n",
      "u0: [15.48713386787383, 0.31437221151450695, 0.8578688351520668, 0.009181734695112494];\n",
      "last point: [4.221323579154816, 0.424223871003302, 0.8523617574130572, 0.00886353003105272]\n",
      "random point: [1.4763825227798149, 0.7053156751915652, 0.7989774254384868, 0.008458641302745559]\n",
      "distance between last point and random point: [2.7449410563750005, -0.28109180418826324, 0.053384331974570376, 0.0004048887283071619]\n",
      "Cycles: (1 - true, 0 - false): 1.0;\n",
      " --------------------- \n",
      "  \n",
      "index i: 7\n",
      "index j: 1\n",
      "U0: 0.338;\n",
      "I0: -1.65;\n",
      "u0: [4.221323579154816, 0.424223871003302, 0.8523617574130572, 0.00886353003105272];\n",
      "last point: [1.6924269963730205, 0.5684489307619225, 0.8302670836496953, 0.008567887888512333]\n",
      "random point: [2.7834544856375647, 0.7485045469049405, 0.7800759459378716, 0.009118565243648305]\n",
      "distance between last point and random point: [-1.0910274892645442, -0.18005561614301802, 0.05019113771182371, -0.0005506773551359721]\n",
      "Cycles: (1 - true, 0 - false): 1.0;\n",
      " --------------------- \n",
      "  \n",
      "index i: 8\n",
      "index j: 1\n",
      "U0: 0.336;\n",
      "I0: -1.65;\n",
      "u0: [1.6924269963730205, 0.5684489307619225, 0.8302670836496953, 0.008567887888512333];\n",
      "last point: [1.3857894076234276, 0.6792428228142722, 0.8063267652255718, 0.008412827555774913]\n",
      "random point: [21.71665652485746, 0.5756502186375179, 0.7957244275098878, 0.009516945275434983]\n",
      "distance between last point and random point: [-20.330867117234032, 0.10359260417675431, 0.010602337715683974, -0.0011041177196600693]\n",
      "Cycles: (1 - true, 0 - false): 1.0;\n",
      " --------------------- \n",
      "  \n",
      "index i: 9\n",
      "index j: 1\n",
      "U0: 0.334;\n",
      "I0: -1.65;\n",
      "u0: [1.3857894076234276, 0.6792428228142722, 0.8063267652255718, 0.008412827555774913];\n",
      "last point: [2.031470053523584, 0.7419059640884259, 0.7853309818304549, 0.008822517259149827]\n",
      "random point: [16.09680104623509, 0.3137937094708993, 0.8573638351052536, 0.009190957171130354]\n",
      "distance between last point and random point: [-14.065330992711505, 0.4281122546175266, -0.07203285327479869, -0.0003684399119805275]\n",
      "Cycles: (1 - true, 0 - false): 1.0;\n",
      " --------------------- \n",
      "  \n",
      "index i: 10\n",
      "index j: 1\n",
      "U0: 0.332;\n",
      "I0: -1.65;\n",
      "u0: [2.031470053523584, 0.7419059640884259, 0.7853309818304549, 0.008822517259149827];\n",
      "last point: [10.820805651686733, 0.6912891937009472, 0.7800812208946457, 0.009566663445264835]\n",
      "random point: [4.363200248608047, 0.4200506343509528, 0.8528703204630631, 0.008872383146987585]\n",
      "distance between last point and random point: [6.457605403078686, 0.2712385593499944, -0.07278909956841739, 0.0006942802982772504]\n",
      "Cycles: (1 - true, 0 - false): 1.0;\n",
      " --------------------- \n",
      "  \n",
      "index i: 11\n",
      "index j: 1\n",
      "U0: 0.33;\n",
      "I0: -1.65;\n",
      "u0: [10.820805651686733, 0.6912891937009472, 0.7800812208946457, 0.009566663445264835];\n",
      "last point: [23.975841767924074, 0.3322411487014646, 0.8463958990284267, 0.009297435006504696]\n",
      "random point: [1.7208507794465795, 0.5646758220835864, 0.8309532375370788, 0.00857549553716713]\n",
      "distance between last point and random point: [22.254990988477495, -0.23243467338212176, 0.015442661491347875, 0.0007219394693375666]\n",
      "Cycles: (1 - true, 0 - false): 1.0;\n",
      " --------------------- \n",
      "  \n",
      "index i: 12\n",
      "index j: 1\n",
      "U0: 0.328;\n",
      "I0: -1.65;\n",
      "u0: [23.975841767924074, 0.3322411487014646, 0.8463958990284267, 0.009297435006504696];\n",
      "last point: [6.49348801602182, 0.3740828027206177, 0.8577567084397848, 0.008974847103844196]\n",
      "random point: [1.381603936861706, 0.6767291981527811, 0.8069832331858231, 0.008412056424362017]\n",
      "distance between last point and random point: [5.111884079160114, -0.3026463954321634, 0.0507734752539617, 0.0005627906794821794]\n",
      "Cycles: (1 - true, 0 - false): 1.0;\n",
      " --------------------- \n",
      "  \n",
      "index i: 13\n",
      "index j: 1\n",
      "U0: 0.326;\n",
      "I0: -1.65;\n",
      "u0: [6.49348801602182, 0.3740828027206177, 0.8577567084397848, 0.008974847103844196];\n",
      "last point: [2.1807975934980743, 0.5194600827507247, 0.83870258157107, 0.008667530511790063]\n",
      "random point: [1.9901379482270591, 0.7409061806235606, 0.785845824031495, 0.008799531578625053]\n",
      "distance between last point and random point: [0.1906596452710152, -0.22144609787283587, 0.05285675753957497, -0.0001320010668349903]\n",
      "Cycles: (1 - true, 0 - false): 1.0;\n",
      " --------------------- \n",
      "  \n",
      "index i: 14\n",
      "index j: 1\n",
      "U0: 0.324;\n",
      "I0: -1.65;\n",
      "u0: [2.1807975934980743, 0.5194600827507247, 0.83870258157107, 0.008667530511790063];\n",
      "last point: [1.3772775148652134, 0.6451567013413976, 0.8146585707046581, 0.008431732800235861]\n",
      "random point: [10.087051632786489, 0.6978419756629766, 0.7794015036475752, 0.009563464731261209]\n",
      "distance between last point and random point: [-8.709774117921276, -0.05268527432157899, 0.03525706705708287, -0.0011317319310253475]\n",
      "Cycles: (1 - true, 0 - false): 1.0;\n",
      " --------------------- \n",
      "  \n",
      "index i: 15\n",
      "index j: 1\n",
      "U0: 0.322;\n",
      "I0: -1.65;\n",
      "u0: [1.3772775148652134, 0.6451567013413976, 0.8146585707046581, 0.008431732800235861];\n",
      "last point: [1.6546294057507416, 0.7257753006749219, 0.7921868846247231, 0.00858259474908447]\n",
      "random point: [24.651185789087215, 0.3366516789688746, 0.8449170056368388, 0.009306770539982811]\n",
      "distance between last point and random point: [-22.996556383336472, 0.3891236217060473, -0.052730121012115716, -0.0007241757908983404]\n",
      "Cycles: (1 - true, 0 - false): 1.0;\n",
      " --------------------- \n",
      "  \n",
      "index i: 16\n",
      "index j: 1\n",
      "U0: 0.32;\n",
      "I0: -1.65;\n",
      "u0: [1.6546294057507416, 0.7257753006749219, 0.7921868846247231, 0.00858259474908447];\n",
      "last point: [4.694756780230929, 0.740668429672796, 0.777017789974484, 0.009407186598695268]\n",
      "random point: [6.7329742400378, 0.37033246449502816, 0.8580805881596604, 0.008983847456823268]\n",
      "distance between last point and random point: [-2.038217459806871, 0.37033596517776785, -0.08106279818517637, 0.00042333914187200027]\n",
      "Cycles: (1 - true, 0 - false): 1.0;\n",
      " --------------------- \n"
     ]
    },
    {
     "name": "stdout",
     "output_type": "stream",
     "text": [
      "  \n"
     ]
    }
   ],
   "source": [
    "for (index_i, U0_lc) in enumerate(range_U0)\n",
    "    \n",
    "    if index_i == 1\n",
    "        global u0_lc = SA[0.0, 0.2, 0.1, 0.1]\n",
    "    end\n",
    "            \n",
    "    output(index_i, 1, U0_lc, I0_start, u0_lc)\n",
    "    \n",
    "    p_loc = SA[τ, α, τ_D, J, U0_lc, ΔU0, τ_y, β, xthr, ythr, I0_start]\n",
    "    ds_loc = ContinuousDynamicalSystem(model, u0_lc, p_loc)\n",
    "\n",
    "    tr_loc = trajectory(ds_loc, tspan[2], Ttr = tspan[2]; Δt = 0.001, diffeq = (alg = RK4(),  adaptive = false, dense = false, dt = 0.001))\n",
    "    u0_lc = tr_loc[end, :]\n",
    "    array_u0[1, index_i, :] = u0_lc\n",
    "    \n",
    "    println(\"last point: $u0_lc\");flush(stdout)\n",
    "    \n",
    "    random_dot = tr_loc[300000, :]\n",
    "    println(\"random point: $random_dot\")\n",
    "    \n",
    "    if abs.(u0_lc - random_dot) <= [0.001, 0.001, 0.001, 0.001]\n",
    "        color = 0\n",
    "    else\n",
    "        color = 1\n",
    "    end\n",
    "    \n",
    "    array_cycles[1, index_i] = color\n",
    "    println(\"distance between last point and random point: \",u0_lc - random_dot )\n",
    "    println(\"Cycles: (1 - true, 0 - false): $(array_cycles[1, index_i]);\")\n",
    "    separate()\n",
    "end"
   ]
  },
  {
   "cell_type": "code",
   "execution_count": 49,
   "id": "44b110a8",
   "metadata": {},
   "outputs": [
    {
     "data": {
      "text/plain": [
       "11-element SVector{11, Float64} with indices SOneTo(11):\n",
       "  0.013\n",
       "  1.5\n",
       "  0.15\n",
       "  3.07\n",
       "  0.35\n",
       "  0.305\n",
       "  1.8\n",
       "  0.4375\n",
       "  0.9\n",
       "  0.5\n",
       " -1.6"
      ]
     },
     "execution_count": 49,
     "metadata": {},
     "output_type": "execute_result"
    }
   ],
   "source": [
    "ds.p"
   ]
  },
  {
   "cell_type": "code",
   "execution_count": 54,
   "id": "0335a5f9",
   "metadata": {},
   "outputs": [
    {
     "name": "stdout",
     "output_type": "stream",
     "text": [
      "1\n",
      "0.35\n",
      "\n",
      "2\n",
      "0.348\n",
      "\n",
      "3\n",
      "0.346\n",
      "\n",
      "4\n",
      "0.344\n",
      "\n",
      "5\n",
      "0.342\n",
      "\n",
      "6\n",
      "0.34\n",
      "\n",
      "7\n",
      "0.338\n",
      "\n",
      "8\n",
      "0.336\n",
      "\n",
      "9\n",
      "0.334\n",
      "\n",
      "10\n",
      "0.332\n",
      "\n",
      "11\n",
      "0.33\n",
      "\n",
      "12\n",
      "0.328\n",
      "\n",
      "13\n",
      "0.326\n",
      "\n",
      "14\n",
      "0.324\n",
      "\n",
      "15\n",
      "0.322\n",
      "\n",
      "16\n",
      "0.32\n",
      "\n"
     ]
    }
   ],
   "source": [
    "for i in range(1, length(range_U0), step = 1)\n",
    "    println(i)\n",
    "    println(range_U0[i])\n",
    "    println(\"\")\n",
    "end"
   ]
  },
  {
   "cell_type": "code",
   "execution_count": 55,
   "id": "b7f4fab6",
   "metadata": {},
   "outputs": [
    {
     "name": "stdout",
     "output_type": "stream",
     "text": [
      "1\n",
      "0.35\n",
      "\n",
      "2\n",
      "0.348\n",
      "\n",
      "3\n",
      "0.346\n",
      "\n",
      "4\n",
      "0.344\n",
      "\n",
      "5\n",
      "0.342\n",
      "\n",
      "6\n",
      "0.34\n",
      "\n",
      "7\n",
      "0.338\n",
      "\n",
      "8\n",
      "0.336\n",
      "\n",
      "9\n",
      "0.334\n",
      "\n",
      "10\n",
      "0.332\n",
      "\n",
      "11\n",
      "0.33\n",
      "\n",
      "12\n",
      "0.328\n",
      "\n",
      "13\n",
      "0.326\n",
      "\n",
      "14\n",
      "0.324\n",
      "\n",
      "15\n",
      "0.322\n",
      "\n",
      "16\n",
      "0.32\n",
      "\n"
     ]
    }
   ],
   "source": [
    "for (index_i, U0_lc) in enumerate(range_U0)\n",
    "    println(index_i)\n",
    "    println(U0_lc)\n",
    "    println(\"\")\n",
    "end"
   ]
  },
  {
   "cell_type": "code",
   "execution_count": null,
   "id": "b275ba61",
   "metadata": {
    "scrolled": true
   },
   "outputs": [
    {
     "name": "stdout",
     "output_type": "stream",
     "text": [
      "index i: 1\n",
      "index j: 2\n",
      "U0: 0.35;\n",
      "I0: -1.64;\n",
      "u0: [1.4532726406060006, 0.6128188288248325, 0.8216678336611694, 0.00848216076958664];\n",
      "p_loc: [0.013, 1.5, 0.15, 3.07, 0.35, 0.305, 1.8, 0.4375, 0.9, 0.5, -1.64]\n",
      "last point: [1.4615151396367503, 0.6726613234978973, 0.8082100455537441, 0.007157237967184155]\n",
      "random point: [24.38152157287174, 0.5302503381768814, 0.8048417327210592, 0.008058324014045614]\n",
      "distance between last point and random point: [-22.92000643323499, 0.14241098532101593, 0.0033683128326849054, -0.0009010860468614589]\n",
      "Cycles: (1 - true, 0 - false): 1.0;\n",
      " --------------------- \n",
      "  \n",
      "index i: 1\n",
      "index j: 3\n",
      "U0: 0.35;\n",
      "I0: -1.63;\n",
      "u0: [1.4615151396367503, 0.6726613234978973, 0.8082100455537441, 0.007157237967184155];\n",
      "p_loc: [0.013, 1.5, 0.15, 3.07, 0.35, 0.305, 1.8, 0.4375, 0.9, 0.5, -1.63]\n",
      "last point: [6.134674464211448, 0.38394213303349606, 0.8580097244027246, 0.006188367374447492]\n",
      "random point: [11.44866785055914, 0.6708842445141351, 0.7873045697244907, 0.006608564705669698]\n",
      "distance between last point and random point: [-5.313993386347692, -0.28694211148063903, 0.0707051546782339, -0.00042019733122220567]\n",
      "Cycles: (1 - true, 0 - false): 1.0;\n",
      " --------------------- \n",
      "  \n",
      "index i: 1\n",
      "index j: 4\n",
      "U0: 0.35;\n",
      "I0: -1.62;\n",
      "u0: [6.134674464211448, 0.38394213303349606, 0.8580097244027246, 0.006188367374447492];\n",
      "p_loc: [0.013, 1.5, 0.15, 3.07, 0.35, 0.305, 1.8, 0.4375, 0.9, 0.5, -1.62]\n",
      "last point: [5.471521189915824, 0.7053743700209869, 0.7894045043243724, 0.004735194401960778]\n",
      "random point: [16.425450454521393, 0.32069564271928347, 0.8586689564784458, 0.004631871393902466]\n",
      "distance between last point and random point: [-10.95392926460557, 0.38467872730170344, -0.0692644521540734, 0.00010332300805831161]\n",
      "Cycles: (1 - true, 0 - false): 1.0;\n",
      " --------------------- \n",
      "  \n",
      "index i: 1\n",
      "index j: 5\n",
      "U0: 0.35;\n",
      "I0: -1.61;\n",
      "u0: [5.471521189915824, 0.7053743700209869, 0.7894045043243724, 0.004735194401960778];\n",
      "p_loc: [0.013, 1.5, 0.15, 3.07, 0.35, 0.305, 1.8, 0.4375, 0.9, 0.5, -1.61]\n",
      "last point: [9.751762728748158, 0.44497515347255245, 0.8527118119441439, 8.78833278600113e-5]\n",
      "random point: [9.751762728748158, 0.44497515347255245, 0.8527118119441439, 8.78833278600113e-5]\n",
      "distance between last point and random point: [0.0, 0.0, 0.0, 0.0]\n",
      "Cycles: (1 - true, 0 - false): 0.0;\n",
      " --------------------- \n",
      "  \n",
      "index i: 1\n",
      "index j: 6\n",
      "U0: 0.35;\n",
      "I0: -1.6;\n",
      "u0: [9.751762728748158, 0.44497515347255245, 0.8527118119441439, 8.78833278600113e-5];\n",
      "p_loc: [0.013, 1.5, 0.15, 3.07, 0.35, 0.305, 1.8, 0.4375, 0.9, 0.5, -1.6]\n",
      "last point: [9.775871624283939, 0.4442840363676032, 0.8529928973133337, 8.667706404168188e-5]\n",
      "random point: [9.775871624283939, 0.4442840363676032, 0.8529928973133337, 8.667706404168188e-5]\n",
      "distance between last point and random point: [0.0, 0.0, 0.0, 0.0]\n",
      "Cycles: (1 - true, 0 - false): 0.0;\n",
      " --------------------- \n",
      "  \n",
      "index i: 1\n",
      "index j: 7\n",
      "U0: 0.35;\n",
      "I0: -1.59;\n",
      "u0: [9.775871624283939, 0.4442840363676032, 0.8529928973133337, 8.667706404168188e-5];\n",
      "p_loc: [0.013, 1.5, 0.15, 3.07, 0.35, 0.305, 1.8, 0.4375, 0.9, 0.5, -1.59]\n",
      "last point: [9.799881209871753, 0.4435978066679343, 0.8532717606223785, 8.549571101906653e-5]\n",
      "random point: [9.799881209871753, 0.4435978066679343, 0.8532717606223785, 8.549571101906653e-5]\n",
      "distance between last point and random point: [0.0, 0.0, 0.0, 0.0]\n",
      "Cycles: (1 - true, 0 - false): 0.0;\n",
      " --------------------- \n",
      "  \n",
      "index i: 1\n",
      "index j: 8\n",
      "U0: 0.35;\n",
      "I0: -1.58;\n",
      "u0: [9.799881209871753, 0.4435978066679343, 0.8532717606223785, 8.549571101906653e-5];\n",
      "p_loc: [0.013, 1.5, 0.15, 3.07, 0.35, 0.305, 1.8, 0.4375, 0.9, 0.5, -1.58]\n",
      "last point: [9.823793093787268, 0.4429163848948449, 0.8535484396183697, 8.433856597357067e-5]\n",
      "random point: [9.823793093787268, 0.4429163848948449, 0.8535484396183697, 8.433856597357067e-5]\n",
      "distance between last point and random point: [0.0, 0.0, 0.0, 0.0]\n",
      "Cycles: (1 - true, 0 - false): 0.0;\n",
      " --------------------- \n",
      "  \n",
      "index i: 1\n",
      "index j: 9\n",
      "U0: 0.35;\n",
      "I0: -1.57;\n",
      "u0: [9.823793093787268, 0.4429163848948449, 0.8535484396183697, 8.433856597357067e-5];\n",
      "p_loc: [0.013, 1.5, 0.15, 3.07, 0.35, 0.305, 1.8, 0.4375, 0.9, 0.5, -1.57]\n",
      "last point: [9.847608842210509, 0.4422396936557301, 0.8538229710378552, 8.320495157120142e-5]\n",
      "random point: [9.847608842210509, 0.4422396936557301, 0.8538229710378552, 8.320495157120142e-5]\n",
      "distance between last point and random point: [0.0, 0.0, 0.0, 0.0]\n",
      "Cycles: (1 - true, 0 - false): 0.0;\n",
      " --------------------- \n",
      "  \n",
      "index i: 1\n",
      "index j: 10\n",
      "U0: 0.35;\n",
      "I0: -1.56;\n",
      "u0: [9.847608842210509, 0.4422396936557301, 0.8538229710378552, 8.320495157120142e-5];\n",
      "p_loc: [0.013, 1.5, 0.15, 3.07, 0.35, 0.305, 1.8, 0.4375, 0.9, 0.5, -1.56]\n",
      "last point: [9.871329980745195, 0.44156765756863614, 0.854095390643789, 8.209421482539893e-5]\n",
      "random point: [9.871329980745195, 0.44156765756863614, 0.854095390643789, 8.209421482539893e-5]\n",
      "distance between last point and random point: [0.0, 0.0, 0.0, 0.0]\n",
      "Cycles: (1 - true, 0 - false): 0.0;\n",
      " --------------------- \n",
      "  \n",
      "index i: 1\n",
      "index j: 11\n",
      "U0: 0.35;\n",
      "I0: -1.55;\n",
      "u0: [9.871329980745195, 0.44156765756863614, 0.854095390643789, 8.209421482539893e-5];\n",
      "p_loc: [0.013, 1.5, 0.15, 3.07, 0.35, 0.305, 1.8, 0.4375, 0.9, 0.5, -1.55]\n",
      "last point: [9.894957995870078, 0.4409002031902562, 0.8543657332607749, 8.100572602027987e-5]\n",
      "random point: [9.894957995870078, 0.4409002031902562, 0.8543657332607749, 8.100572602027987e-5]\n",
      "distance between last point and random point: [0.0, 0.0, 0.0, 0.0]\n",
      "Cycles: (1 - true, 0 - false): 0.0;\n",
      " --------------------- \n",
      "  \n",
      "index i: 1\n",
      "index j: 12\n",
      "U0: 0.35;\n",
      "I0: -1.54;\n",
      "u0: [9.894957995870078, 0.4409002031902562, 0.8543657332607749, 8.100572602027987e-5];\n",
      "p_loc: [0.013, 1.5, 0.15, 3.07, 0.35, 0.305, 1.8, 0.4375, 0.9, 0.5, -1.54]\n",
      "last point: [9.918494336321942, 0.44023725894722376, 0.8546340328087, 7.993887769064508e-5]\n",
      "random point: [9.918494336321942, 0.44023725894722376, 0.8546340328087, 7.993887769064508e-5]\n",
      "distance between last point and random point: [0.0, 0.0, 0.0, 0.0]\n",
      "Cycles: (1 - true, 0 - false): 0.0;\n",
      " --------------------- \n",
      "  \n",
      "index i: 1\n",
      "index j: 13\n",
      "U0: 0.35;\n",
      "I0: -1.53;\n",
      "u0: [9.918494336321942, 0.44023725894722376, 0.8546340328087, 7.993887769064508e-5];\n",
      "p_loc: [0.013, 1.5, 0.15, 3.07, 0.35, 0.305, 1.8, 0.4375, 0.9, 0.5, -1.53]\n",
      "last point: [9.9419404144189, 0.43957875507047794, 0.8549003223348359, 7.889308365519992e-5]\n",
      "random point: [9.9419404144189, 0.43957875507047794, 0.8549003223348359, 7.889308365519992e-5]\n",
      "distance between last point and random point: [0.0, 0.0, 0.0, 0.0]\n",
      "Cycles: (1 - true, 0 - false): 0.0;\n",
      " --------------------- \n",
      "  \n",
      "index i: 1\n",
      "index j: 14\n",
      "U0: 0.35;\n",
      "I0: -1.52;\n",
      "u0: [9.9419404144189, 0.43957875507047794, 0.8549003223348359, 7.889308365519992e-5];\n",
      "p_loc: [0.013, 1.5, 0.15, 3.07, 0.35, 0.305, 1.8, 0.4375, 0.9, 0.5, -1.52]\n",
      "last point: [9.965297607322807, 0.4389246235325606, 0.8551646340445254, 7.786777809980795e-5]\n",
      "random point: [9.965297607322807, 0.4389246235325606, 0.8551646340445254, 7.786777809980795e-5]\n",
      "distance between last point and random point: [0.0, 0.0, 0.0, 0.0]\n",
      "Cycles: (1 - true, 0 - false): 0.0;\n",
      " --------------------- \n",
      "  \n",
      "index i: 1\n",
      "index j: 15\n",
      "U0: 0.35;\n",
      "I0: -1.51;\n",
      "u0: [9.965297607322807, 0.4389246235325606, 0.8551646340445254, 7.786777809980795e-5];\n",
      "p_loc: [0.013, 1.5, 0.15, 3.07, 0.35, 0.305, 1.8, 0.4375, 0.9, 0.5, -1.51]\n",
      "last point: [9.988567258247318, 0.4382747979877006, 0.8554269993304489, 7.686241470778498e-5]\n",
      "random point: [9.988567258247318, 0.4382747979877006, 0.8554269993304489, 7.686241470778498e-5]\n",
      "distance between last point and random point: [0.0, 0.0, 0.0, 0.0]\n",
      "Cycles: (1 - true, 0 - false): 0.0;\n",
      " --------------------- \n",
      "  \n",
      "index i: 1\n",
      "index j: 16\n",
      "U0: 0.35;\n",
      "I0: -1.5;\n",
      "u0: [9.988567258247318, 0.4382747979877006, 0.8554269993304489, 7.686241470778498e-5];\n",
      "p_loc: [0.013, 1.5, 0.15, 3.07, 0.35, 0.305, 1.8, 0.4375, 0.9, 0.5, -1.5]\n",
      "last point: [10.011750677613644, 0.4376292137144705, 0.8556874488006784, 7.58764658343342e-5]\n",
      "random point: [10.011750677613644, 0.4376292137144705, 0.8556874488006784, 7.58764658343342e-5]\n",
      "distance between last point and random point: [0.0, 0.0, 0.0, 0.0]\n",
      "Cycles: (1 - true, 0 - false): 0.0;\n",
      " --------------------- \n",
      "  \n",
      "index i: 2\n",
      "index j: 2\n",
      "U0: 0.348;\n",
      "I0: -1.64;\n",
      "u0: [1.4882088263735032, 0.7073439319627065, 0.7983549637423425, 0.008466252874388009];\n"
     ]
    },
    {
     "name": "stdout",
     "output_type": "stream",
     "text": [
      "p_loc: [0.013, 1.5, 0.15, 3.07, 0.348, 0.305, 1.8, 0.4375, 0.9, 0.5, -1.64]\n",
      "last point: [4.594109451209809, 0.7363133768459038, 0.7779507188281841, 0.008382371668973895]\n",
      "random point: [7.6776457200063035, 0.35915602874148744, 0.8580658446839906, 0.008048790228461973]\n",
      "distance between last point and random point: [-3.083536268796495, 0.37715734810441637, -0.08011512585580649, 0.00033358144051192154]\n",
      "Cycles: (1 - true, 0 - false): 1.0;\n",
      " --------------------- \n",
      "  \n",
      "index i: 2\n",
      "index j: 3\n",
      "U0: 0.348;\n",
      "I0: -1.63;\n",
      "u0: [4.594109451209809, 0.7363133768459038, 0.7779507188281841, 0.008382371668973895];\n",
      "p_loc: [0.013, 1.5, 0.15, 3.07, 0.348, 0.305, 1.8, 0.4375, 0.9, 0.5, -1.63]\n",
      "last point: [19.957552918605483, 0.3212744029382579, 0.8524955068839795, 0.006805441368738536]\n",
      "random point: [6.243301489546506, 0.3821114066747552, 0.8567640679211883, 0.006591704234213494]\n",
      "distance between last point and random point: [13.714251429058976, -0.06083700373649731, -0.004268561037208851, 0.00021373713452504158]\n",
      "Cycles: (1 - true, 0 - false): 1.0;\n",
      " --------------------- \n",
      "  \n",
      "index i: 2\n",
      "index j: 4\n",
      "U0: 0.348;\n",
      "I0: -1.62;\n",
      "u0: [19.957552918605483, 0.3212744029382579, 0.8524955068839795, 0.006805441368738536];\n",
      "p_loc: [0.013, 1.5, 0.15, 3.07, 0.348, 0.305, 1.8, 0.4375, 0.9, 0.5, -1.62]\n",
      "last point: [2.282660398028825, 0.7108869221296076, 0.794382379993798, 0.00491839643190339]\n",
      "random point: [8.421207460803842, 0.3549924166103382, 0.8596204724473498, 0.005040172478716963]\n",
      "distance between last point and random point: [-6.138547062775017, 0.3558945055192694, -0.06523809245355183, -0.00012177604681357264]\n",
      "Cycles: (1 - true, 0 - false): 1.0;\n",
      " --------------------- \n",
      "  \n",
      "index i: 2\n",
      "index j: 5\n",
      "U0: 0.348;\n",
      "I0: -1.61;\n",
      "u0: [2.282660398028825, 0.7108869221296076, 0.794382379993798, 0.00491839643190339];\n",
      "p_loc: [0.013, 1.5, 0.15, 3.07, 0.348, 0.305, 1.8, 0.4375, 0.9, 0.5, -1.61]\n",
      "last point: [9.735823533156342, 0.44575511902942555, 0.851415199226004, 8.926483913605654e-5]\n",
      "random point: [9.735823533156342, 0.44575511902942555, 0.851415199226004, 8.926483913605654e-5]\n",
      "distance between last point and random point: [0.0, 0.0, 0.0, 0.0]\n",
      "Cycles: (1 - true, 0 - false): 0.0;\n",
      " --------------------- \n",
      "  \n",
      "index i: 2\n",
      "index j: 6\n",
      "U0: 0.348;\n",
      "I0: -1.6;\n",
      "u0: [9.735823533156342, 0.44575511902942555, 0.851415199226004, 8.926483913605654e-5];\n",
      "p_loc: [0.013, 1.5, 0.15, 3.07, 0.348, 0.305, 1.8, 0.4375, 0.9, 0.5, -1.6]\n",
      "last point: [9.760034131157159, 0.44505900651414043, 0.8516999421049365, 8.803082071407131e-5]\n",
      "random point: [9.760034131157159, 0.44505900651414043, 0.8516999421049365, 8.803082071407131e-5]\n",
      "distance between last point and random point: [0.0, 0.0, 0.0, 0.0]\n",
      "Cycles: (1 - true, 0 - false): 0.0;\n",
      " --------------------- \n",
      "  \n",
      "index i: 2\n",
      "index j: 7\n",
      "U0: 0.348;\n",
      "I0: -1.59;\n",
      "u0: [9.760034131157159, 0.44505900651414043, 0.8516999421049365, 8.803082071407131e-5];\n",
      "p_loc: [0.013, 1.5, 0.15, 3.07, 0.348, 0.305, 1.8, 0.4375, 0.9, 0.5, -1.59]\n",
      "last point: [9.784143809512456, 0.4443678607827743, 0.8519824155962281, 8.682248296734734e-5]\n",
      "random point: [9.784143809512456, 0.4443678607827743, 0.8519824155962281, 8.682248296734734e-5]\n",
      "distance between last point and random point: [0.0, 0.0, 0.0, 0.0]\n",
      "Cycles: (1 - true, 0 - false): 0.0;\n",
      " --------------------- \n",
      "  \n",
      "index i: 2\n",
      "index j: 8\n",
      "U0: 0.348;\n",
      "I0: -1.58;\n",
      "u0: [9.784143809512456, 0.4443678607827743, 0.8519824155962281, 8.682248296734734e-5];\n",
      "p_loc: [0.013, 1.5, 0.15, 3.07, 0.348, 0.305, 1.8, 0.4375, 0.9, 0.5, -1.58]\n",
      "last point: [9.808154218561553, 0.44368160027616005, 0.852262658612654, 8.56390954333558e-5]\n",
      "random point: [9.808154218561553, 0.44368160027616005, 0.852262658612654, 8.56390954333558e-5]\n",
      "distance between last point and random point: [0.0, 0.0, 0.0, 0.0]\n",
      "Cycles: (1 - true, 0 - false): 0.0;\n",
      " --------------------- \n",
      "  \n",
      "index i: 2\n",
      "index j: 9\n",
      "U0: 0.348;\n",
      "I0: -1.57;\n",
      "u0: [9.808154218561553, 0.44368160027616005, 0.852262658612654, 8.56390954333558e-5];\n",
      "p_loc: [0.013, 1.5, 0.15, 3.07, 0.348, 0.305, 1.8, 0.4375, 0.9, 0.5, -1.57]\n",
      "last point: [9.83206696502299, 0.4430001455968317, 0.8525407090152343, 8.447995436169736e-5]\n",
      "random point: [9.83206696502299, 0.4430001455968317, 0.8525407090152343, 8.447995436169736e-5]\n",
      "distance between last point and random point: [0.0, 0.0, 0.0, 0.0]\n",
      "Cycles: (1 - true, 0 - false): 0.0;\n",
      " --------------------- \n",
      "  \n",
      "index i: 2\n",
      "index j: 10\n",
      "U0: 0.348;\n",
      "I0: -1.56;\n",
      "u0: [9.83206696502299, 0.4430001455968317, 0.8525407090152343, 8.447995436169736e-5];\n",
      "p_loc: [0.013, 1.5, 0.15, 3.07, 0.348, 0.305, 1.8, 0.4375, 0.9, 0.5, -1.56]\n"
     ]
    }
   ],
   "source": [
    "range_I0_new = range(I0_start, I0_finish, step = I0_step)\n",
    "\n",
    "for (index_i, U0_lc) in enumerate(range_U0)\n",
    "    \n",
    "\n",
    "        for (index_j, I0_lc) in enumerate(range_I0_new)\n",
    "            \n",
    "            if index_j == 1\n",
    "                continue\n",
    "            end\n",
    "            if index_j == 2\n",
    "                global u0_lc = array_u0[index_j - 1, index_i, :]\n",
    "            end\n",
    "            \n",
    "            output(index_i, index_j, U0_lc, I0_lc, u0_lc)\n",
    "            p_loc = SA[τ, α, τ_D, J, U0_lc, ΔU0, τ_y, β, xthr, ythr, I0_lc]\n",
    "            println(\"p_loc: $p_loc\");flush(stdout)\n",
    "            ds_loc = ContinuousDynamicalSystem(model, u0_lc, p_loc)\n",
    "\n",
    "            tr_loc = trajectory(ds_loc, tspan[2], Ttr = tspan[2]; Δt = 0.001, diffeq = (alg = RK4(),  adaptive = false, dense = false, dt = 0.001))\n",
    "            u0_lc = tr_loc[end, :]\n",
    "            println(\"last point: $u0_lc\");flush(stdout)\n",
    "            array_u0[index_j, index_i, :] = u0_lc\n",
    "        \n",
    "            random_dot = tr_loc[300000, :]\n",
    "            println(\"random point: $random_dot\")\n",
    "        \n",
    "            if abs.(u0_lc - random_dot) <= [0.001, 0.001, 0.001, 0.001]\n",
    "                color = 0\n",
    "            else\n",
    "                color = 1\n",
    "            end\n",
    "        \n",
    "            array_cycles[index_j, index_i] = color\n",
    "    \n",
    "            println(\"distance between last point and random point: \",u0_lc - random_dot )\n",
    "            println(\"Cycles: (1 - true, 0 - false): $(array_cycles[index_j, index_i]);\")\n",
    "            separate()\n",
    "        end\n",
    "\n",
    "    \n",
    "end"
   ]
  },
  {
   "cell_type": "code",
   "execution_count": 48,
   "id": "ec3c0c0e",
   "metadata": {},
   "outputs": [
    {
     "data": {
      "image/png": "[encoded data removed]",
      "text/plain": [
       "Figure()"
      ]
     },
     "execution_count": 48,
     "metadata": {},
     "output_type": "execute_result"
    }
   ],
   "source": [
    "fig, ax, hm = heatmap(range_I0, range_U0, array_cycles[:, :], colormap = :seismic)\n",
    "Colorbar(fig[:, end+1], hm)\n",
    "\n",
    "fig"
   ]
  },
  {
   "cell_type": "code",
   "execution_count": null,
   "id": "260012a0",
   "metadata": {},
   "outputs": [],
   "source": []
  }
 ],
 "metadata": {
  "kernelspec": {
   "display_name": "Julia 1.8.1",
   "language": "julia",
   "name": "julia-1.8"
  },
  "language_info": {
   "file_extension": ".jl",
   "mimetype": "application/julia",
   "name": "julia",
   "version": "1.8.1"
  }
 },
 "nbformat": 4,
 "nbformat_minor": 5
}
