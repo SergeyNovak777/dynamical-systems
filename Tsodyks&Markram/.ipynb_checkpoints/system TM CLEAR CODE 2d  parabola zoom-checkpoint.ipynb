{
 "cells": [
  {
   "cell_type": "markdown",
   "id": "e6a38b9a",
   "metadata": {},
   "source": [
    "### Packages"
   ]
  },
  {
   "cell_type": "code",
   "execution_count": 1,
   "id": "2ce3ae90",
   "metadata": {},
   "outputs": [],
   "source": [
    "using DynamicalSystems, DifferentialEquations, OrdinaryDiffEq, StaticArrays\n",
    "using CairoMakie"
   ]
  },
  {
   "cell_type": "markdown",
   "id": "084fd137",
   "metadata": {},
   "source": [
    "### Functions"
   ]
  },
  {
   "cell_type": "code",
   "execution_count": 2,
   "id": "a6cd4fc2",
   "metadata": {},
   "outputs": [
    {
     "data": {
      "text/plain": [
       "separate (generic function with 1 method)"
      ]
     },
     "execution_count": 2,
     "metadata": {},
     "output_type": "execute_result"
    }
   ],
   "source": [
    "function model(u, p ,t)\n",
    "    \n",
    "    E, x, u_, y = u\n",
    "    τ, α, τ_D, J, U0, ΔU0, τ_y, β, xthr, ythr, I0 = p\n",
    "    \n",
    "    U(y, U0, ΔU0, ythr) = U0 + ΔU0 / ( 1 + exp( -50 * ( y - ythr ) ) )\n",
    "    σ(x, xthr)= 1 / (1 + exp(-20 * (x - xthr)));\n",
    "    \n",
    "    du1 = (-E + α * log( 1 + exp( ( J * u_ * x * E + I0 ) / α ) )) / τ\n",
    "    du2 = ( 1 - x ) / τ_D - u_ * x * E\n",
    "    du3 = (U(y, U0, ΔU0, ythr) - u_) / τ_F + U(y, U0, ΔU0, ythr) * ( 1 - u_ ) * E\n",
    "    du4 = -y /  τ_y + β * σ(x, xthr)\n",
    "    \n",
    "    return SVector(du1, du2, du3, du4)\n",
    "    \n",
    "end;\n",
    "\n",
    "function output(index_i, index_j, U0_lc, I0_lc, u0_lc)\n",
    "        println(\"index i: $index_i\"); flush(stdout)\n",
    "        println(\"index j: $index_j\"); flush(stdout)\n",
    "        println(\"U0: $U0_lc;\"); flush(stdout)\n",
    "        println(\"I0: $I0_lc;\"); flush(stdout)\n",
    "        println(\"u0: $u0_lc;\"); flush(stdout)\n",
    "end\n",
    "function separate()\n",
    "    println(\" --------------------- \"); flush(stdout)\n",
    "    println(\"  \"); flush(stdout)\n",
    "end\n",
    "\n",
    "function parabola(x)\n",
    "    a = 0.13625841750841752\n",
    "    b = 0.189709595959596\n",
    "    c = 0.22\n",
    "    return  a * (x.^2) + b * x .+ c \n",
    "end\n",
    "\n",
    "function print_output(index, I0, U0, initial_condition)\n",
    "    println(\"index: $index\");flush(stdout)\n",
    "    println(\"I0: $I0\");flush(stdout)\n",
    "    println(\"U0: $U0\");flush(stdout)\n",
    "    println(\"initial condition: $initial_condition\")\n",
    "end\n",
    "function separate()\n",
    "    println(\"_________________\")\n",
    "    println(\"\")\n",
    "end"
   ]
  },
  {
   "cell_type": "markdown",
   "id": "b0c79ae1",
   "metadata": {},
   "source": [
    "### Parametres"
   ]
  },
  {
   "cell_type": "code",
   "execution_count": 3,
   "id": "09318f15",
   "metadata": {},
   "outputs": [
    {
     "name": "stdout",
     "output_type": "stream",
     "text": [
      "[0.013, 1.5, 0.15, 3.07, NaN, 0.305, 1.8, 0.4375, 0.9, 0.5, NaN]\n"
     ]
    }
   ],
   "source": [
    "τ = 0.013; τ_D = 0.15; τ_y = 1.8; τ_F = 1;\n",
    "α = 1.5; J = 3.07; β = 0.4375\n",
    "ΔU0 = 0.305\n",
    "xthr = 0.9; ythr = 0.5\n",
    "parametres = SA[ τ, α, τ_D, J, NaN, ΔU0, τ_y, β, xthr, ythr, NaN ]\n",
    "timefinal = 500.0\n",
    "println(parametres)"
   ]
  },
  {
   "cell_type": "markdown",
   "id": "acb572bf",
   "metadata": {},
   "source": [
    "### Grid"
   ]
  },
  {
   "cell_type": "code",
   "execution_count": 4,
   "id": "a9f82f72",
   "metadata": {},
   "outputs": [
    {
     "data": {
      "text/plain": [
       "0.00022613065326632098"
      ]
     },
     "execution_count": 4,
     "metadata": {},
     "output_type": "execute_result"
    }
   ],
   "source": [
    "startI = -1.75\n",
    "endI = -1.705\n",
    "lengthI = 200\n",
    "\n",
    "rangeI = range( startI, endI, length = lengthI )\n",
    "\n",
    "step_to_left = rangeI.step.hi"
   ]
  },
  {
   "cell_type": "code",
   "execution_count": 5,
   "id": "7d4a24da",
   "metadata": {},
   "outputs": [
    {
     "data": {
      "text/plain": [
       "\"2d_map_parabola_zoom.txt\""
      ]
     },
     "execution_count": 5,
     "metadata": {},
     "output_type": "execute_result"
    }
   ],
   "source": [
    "file = \"2d_map_parabola_zoom.txt\""
   ]
  },
  {
   "cell_type": "code",
   "execution_count": 7,
   "id": "a5213afe",
   "metadata": {},
   "outputs": [
    {
     "name": "stdout",
     "output_type": "stream",
     "text": [
      "index: 1\n",
      "I0: -1.75\n",
      "U0: 0.3052996106902357\n",
      "initial condition: [0.0, 0.2, 0.1, 0.1]\n",
      "last point: [5.459768226577614, 0.8026888078499941, 0.6717356838694429, 0.08021679550830378]\n",
      "LSE: [-0.0008047912203706438, -0.5555556779286381, -0.7737067863575887, -8.340035071510915]\n"
     ]
    },
    {
     "ename": "LoadError",
     "evalue": "InterruptException:",
     "output_type": "error",
     "traceback": [
      "InterruptException:",
      "",
      "Stacktrace:",
      "  [1] try_yieldto(undo::typeof(Base.ensure_rescheduled))",
      "    @ Base .\\task.jl:871",
      "  [2] wait()",
      "    @ Base .\\task.jl:931",
      "  [3] uv_write(s::Base.PipeEndpoint, p::Ptr{UInt8}, n::UInt64)",
      "    @ Base .\\stream.jl:1043",
      "  [4] unsafe_write(s::Base.PipeEndpoint, p::Ptr{UInt8}, n::UInt64)",
      "    @ Base .\\stream.jl:1115",
      "  [5] unsafe_write",
      "    @ .\\io.jl:419 [inlined]",
      "  [6] write",
      "    @ .\\strings\\io.jl:244 [inlined]",
      "  [7] print",
      "    @ .\\strings\\io.jl:246 [inlined]",
      "  [8] print(::IJulia.IJuliaStdio{Base.PipeEndpoint}, ::String, ::String)",
      "    @ Base .\\strings\\io.jl:46",
      "  [9] println(io::IJulia.IJuliaStdio{Base.PipeEndpoint}, xs::String)",
      "    @ Base .\\strings\\io.jl:75",
      " [10] println(xs::String)",
      "    @ Base .\\coreio.jl:4",
      " [11] top-level scope",
      "    @ In[7]:23",
      " [12] eval",
      "    @ .\\boot.jl:368 [inlined]",
      " [13] include_string(mapexpr::typeof(REPL.softscope), mod::Module, code::String, filename::String)",
      "    @ Base .\\loading.jl:1428"
     ]
    }
   ],
   "source": [
    "for (index_I0, I0) in enumerate(rangeI)\n",
    "    \n",
    "        if index_I0 == 1\n",
    "            global initial_condition_function = SA[0.0, 0.2, 0.1, 0.1]\n",
    "        end\n",
    "        \n",
    "        U0 = parabola(I0)\n",
    "    \n",
    "        print_output(index_I0, I0, U0, initial_condition_function)\n",
    "    \n",
    "        parametres = SA[  τ, α, τ_D, J, U0, ΔU0, τ_y, β, xthr, ythr, I0  ]\n",
    "    \n",
    "        ds = ContinuousDynamicalSystem( model, initial_condition_function, parametres )\n",
    "    \n",
    "        tr = trajectory(ds, timefinal / 2, Ttr = timefinal / 4, Δt = 0.001;\n",
    "                    diffeq = (alg = RK4(), adaptive = false, dense = false, dt = 0.001))\n",
    "        initial_condition_function = tr[end, :]\n",
    "    \n",
    "        println(\"last point: $initial_condition_function\");flush(stdout)\n",
    "    \n",
    "        λλ = lyapunovspectrum( ds, timefinal, Ttr = timefinal / 4, Δt = 1;\n",
    "                            diffeq = ( alg = RK4(), adaptive = false, dense = false, dt = 0.001 ))\n",
    "        println(\"LSE: $λλ\");flush(stdout)\n",
    "\n",
    "        open(file, \"a\") do io\n",
    "            println(io, \" $I0 $U0 $(λλ[1])\")\n",
    "        end\n",
    "    \n",
    "        println(\"----------------------\")\n",
    "    \n",
    "        if I0 != startI\n",
    "            move_to_left( I0, U0, initial_condition_function, step_to_left )\n",
    "        end\n",
    "        \n",
    "end"
   ]
  },
  {
   "cell_type": "code",
   "execution_count": 8,
   "id": "a0a0f42a",
   "metadata": {},
   "outputs": [
    {
     "data": {
      "text/plain": [
       "move_to_left (generic function with 1 method)"
      ]
     },
     "execution_count": 8,
     "metadata": {},
     "output_type": "execute_result"
    }
   ],
   "source": [
    "function move_to_left( I0, U0, initial_condition_function, step_to_left )\n",
    "    \n",
    "    println(\"\");flush(stdout)\n",
    "    println(\"<<<<<<<<<<<<<<<<<<<<<\");flush(stdout)\n",
    "    \n",
    "    println(\"MOVE TO LEFT\")\n",
    "        \n",
    "    range_to_left_border = range( I0 - step_to_left, startI, step = -step_to_left )\n",
    "        \n",
    "    for (index_left, I0_left) in enumerate( range_to_left_border )\n",
    "        \n",
    "        if index_left == 1\n",
    "            global initial_condition_left = initial_condition_function\n",
    "        end\n",
    "            \n",
    "        println(\" <- \")\n",
    "        print_output(index_left, I0_left, U0, initial_condition_left)\n",
    "        \n",
    "        parametres = SA[  τ, α, τ_D, J, U0, ΔU0, τ_y, β, xthr, ythr, I0_left  ]\n",
    "        \n",
    "        ds = ContinuousDynamicalSystem( model, initial_condition_left, parametres )\n",
    "    \n",
    "        tr = trajectory(ds, timefinal, Ttr = timefinal, Δt = 0.001;\n",
    "                            diffeq = (alg = RK4(), adaptive = false, dense = false, dt = 0.001))\n",
    "        initial_condition_left = tr[end, :]\n",
    "        \n",
    "        println(\"last point: $initial_condition_left\");flush(stdout)\n",
    "        λλ = lyapunovspectrum( ds, timefinal, Ttr = timefinal, Δt = 1;\n",
    "                                diffeq = ( alg = RK4(), adaptive = false, dense = false, dt = 0.001 ))\n",
    "        println(\"LSE: $λλ\");flush(stdout)\n",
    "\n",
    "        open(file, \"a\") do io\n",
    "            println(io, \" $I0_left $U0 $(λλ[1])\")\n",
    "        end\n",
    "        separate()\n",
    "    end\n",
    "end"
   ]
  },
  {
   "cell_type": "code",
   "execution_count": null,
   "id": "2a15649b",
   "metadata": {},
   "outputs": [],
   "source": []
  }
 ],
 "metadata": {
  "kernelspec": {
   "display_name": "Julia 1.8.1",
   "language": "julia",
   "name": "julia-1.8"
  },
  "language_info": {
   "file_extension": ".jl",
   "mimetype": "application/julia",
   "name": "julia",
   "version": "1.8.1"
  }
 },
 "nbformat": 4,
 "nbformat_minor": 5
}
