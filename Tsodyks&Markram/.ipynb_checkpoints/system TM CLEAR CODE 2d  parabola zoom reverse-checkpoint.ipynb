{
 "cells": [
  {
   "cell_type": "markdown",
   "id": "e6a38b9a",
   "metadata": {},
   "source": [
    "### Packages"
   ]
  },
  {
   "cell_type": "code",
   "execution_count": 1,
   "id": "2ce3ae90",
   "metadata": {},
   "outputs": [],
   "source": [
    "using DynamicalSystems, DifferentialEquations, OrdinaryDiffEq, StaticArrays\n",
    "using CairoMakie"
   ]
  },
  {
   "cell_type": "markdown",
   "id": "084fd137",
   "metadata": {},
   "source": [
    "### Functions"
   ]
  },
  {
   "cell_type": "code",
   "execution_count": 16,
   "id": "a6cd4fc2",
   "metadata": {},
   "outputs": [
    {
     "data": {
      "text/plain": [
       "separate (generic function with 1 method)"
      ]
     },
     "execution_count": 16,
     "metadata": {},
     "output_type": "execute_result"
    }
   ],
   "source": [
    "function model(u, p ,t)\n",
    "    \n",
    "    E, x, u_, y = u\n",
    "    τ, α, τ_D, J, U0, ΔU0, τ_y, β, xthr, ythr, I0 = p\n",
    "    \n",
    "    U(y, U0, ΔU0, ythr) = U0 + ΔU0 / ( 1 + exp( -50 * ( y - ythr ) ) )\n",
    "    σ(x, xthr)= 1 / (1 + exp(-20 * (x - xthr)));\n",
    "    \n",
    "    du1 = (-E + α * log( 1 + exp( ( J * u_ * x * E + I0 ) / α ) )) / τ\n",
    "    du2 = ( 1 - x ) / τ_D - u_ * x * E\n",
    "    du3 = (U(y, U0, ΔU0, ythr) - u_) / τ_F + U(y, U0, ΔU0, ythr) * ( 1 - u_ ) * E\n",
    "    du4 = -y /  τ_y + β * σ(x, xthr)\n",
    "    \n",
    "    return SVector(du1, du2, du3, du4)\n",
    "    \n",
    "end;\n",
    "\n",
    "function output(index_i, index_j, U0_lc, I0_lc, u0_lc)\n",
    "        println(\"index i: $index_i\"); flush(stdout)\n",
    "        println(\"index j: $index_j\"); flush(stdout)\n",
    "        println(\"U0: $U0_lc;\"); flush(stdout)\n",
    "        println(\"I0: $I0_lc;\"); flush(stdout)\n",
    "        println(\"u0: $u0_lc;\"); flush(stdout)\n",
    "end\n",
    "function separate()\n",
    "    println(\" --------------------- \"); flush(stdout)\n",
    "    println(\"  \"); flush(stdout)\n",
    "end\n",
    "\n",
    "function parabola(x)\n",
    "    a = 0.13625841750841752\n",
    "    b = 0.189709595959596\n",
    "    c = 0.22\n",
    "    return  a * (x.^2) + b * x .+ c \n",
    "end\n",
    "\n",
    "function print_output(index, I0, U0, initial_condition)\n",
    "    println(\"index: $index\");flush(stdout)\n",
    "    println(\"I0: $I0\");flush(stdout)\n",
    "    println(\"U0: $U0\");flush(stdout)\n",
    "    println(\"initial condition: $initial_condition\")\n",
    "end\n",
    "function separate()\n",
    "    println(\"_________________\")\n",
    "    println(\"\")\n",
    "end"
   ]
  },
  {
   "cell_type": "markdown",
   "id": "b0c79ae1",
   "metadata": {},
   "source": [
    "### Parametres"
   ]
  },
  {
   "cell_type": "code",
   "execution_count": 17,
   "id": "09318f15",
   "metadata": {},
   "outputs": [
    {
     "name": "stdout",
     "output_type": "stream",
     "text": [
      "[0.013, 1.5, 0.15, 3.07, NaN, 0.305, 1.8, 0.4375, 0.9, 0.5, NaN]\n"
     ]
    }
   ],
   "source": [
    "τ = 0.013; τ_D = 0.15; τ_y = 1.8; τ_F = 1;\n",
    "α = 1.5; J = 3.07; β = 0.4375\n",
    "ΔU0 = 0.305\n",
    "xthr = 0.9; ythr = 0.5\n",
    "parametres = SA[ τ, α, τ_D, J, NaN, ΔU0, τ_y, β, xthr, ythr, NaN ]\n",
    "timefinal = 500.0\n",
    "println(parametres)"
   ]
  },
  {
   "cell_type": "markdown",
   "id": "acb572bf",
   "metadata": {},
   "source": [
    "### Grid"
   ]
  },
  {
   "cell_type": "code",
   "execution_count": 27,
   "id": "a9f82f72",
   "metadata": {},
   "outputs": [
    {
     "data": {
      "text/plain": [
       "-0.00022613065326632098"
      ]
     },
     "execution_count": 27,
     "metadata": {},
     "output_type": "execute_result"
    }
   ],
   "source": [
    "startI = -1.705\n",
    "endI = -1.75\n",
    "lengthI = 200\n",
    "\n",
    "rangeI = range( startI, endI, length = lengthI )\n",
    "\n",
    "step_to_left = rangeI.step.hi"
   ]
  },
  {
   "cell_type": "code",
   "execution_count": 28,
   "id": "7d4a24da",
   "metadata": {},
   "outputs": [
    {
     "data": {
      "text/plain": [
       "\"2d_map_parabola_zoom_reverse.txt\""
      ]
     },
     "execution_count": 28,
     "metadata": {},
     "output_type": "execute_result"
    }
   ],
   "source": [
    "file = \"2d_map_parabola_zoom_reverse.txt\""
   ]
  },
  {
   "cell_type": "code",
   "execution_count": 31,
   "id": "a5213afe",
   "metadata": {},
   "outputs": [
    {
     "name": "stdout",
     "output_type": "stream",
     "text": [
      "index: 1\n",
      "I0: -1.705\n",
      "U0: 0.2926517650462963\n",
      "initial condition: [0.0, 0.2, 0.1, 0.1]\n",
      "last point: [3.07618504041362, 0.48970947753123895, 0.7789842956814212, 0.06464758424385432]\n",
      "LSE: [-0.004207965412879482, -0.5555557904803415, -0.8523111511813979, -7.832413345689426]\n",
      "----------------------\n",
      "\n",
      "<<<<<<<<<<<<<<<<<<<<<\n",
      "MOVE TO LEFT\n",
      " <- \n",
      "index: 1\n",
      "I0: -1.7052261306532663\n",
      "U0: 0.2926517650462963\n",
      "initial condition: [3.07618504041362, 0.48970947753123895, 0.7789842956814212, 0.06464758424385432]\n",
      "last point: [1.6873002023251409, 0.840526783468722, 0.67799179899348, 0.0657879427671468]\n",
      "LSE: [0.008138906496881907, -0.5555555175634755, -0.8392423689628302, -7.840274103915949]\n",
      "_________________\n",
      "\n",
      " <- \n",
      "index: 2\n",
      "I0: -1.7054522613065326\n",
      "U0: 0.2926517650462963\n",
      "initial condition: [1.6873002023251409, 0.840526783468722, 0.67799179899348, 0.0657879427671468]\n",
      "last point: [1.299878915807506, 0.8225566751658245, 0.6953539902419008, 0.06222909069044837]\n",
      "LSE: [0.006524111227003303, -0.5555554871013596, -0.834079613053363, -7.837905542773414]\n",
      "_________________\n",
      "\n",
      " <- \n",
      "index: 3\n",
      "I0: -1.705678391959799\n",
      "U0: 0.2926517650462963\n",
      "initial condition: [1.299878915807506, 0.8225566751658245, 0.6953539902419008, 0.06222909069044837]\n",
      "last point: [3.1381865938011004, 0.8282816605741716, 0.6645227379143006, 0.07118366128797685]\n",
      "LSE: [0.0016006566279209249, -0.5555555962782381, -0.825432376598559, -7.84056466261783]\n"
     ]
    },
    {
     "ename": "LoadError",
     "evalue": "InterruptException:",
     "output_type": "error",
     "traceback": [
      "InterruptException:",
      "",
      "Stacktrace:",
      "  [1] try_yieldto(undo::typeof(Base.ensure_rescheduled))",
      "    @ Base .\\task.jl:871",
      "  [2] wait()",
      "    @ Base .\\task.jl:931",
      "  [3] uv_write(s::Base.PipeEndpoint, p::Ptr{UInt8}, n::UInt64)",
      "    @ Base .\\stream.jl:1043",
      "  [4] unsafe_write(s::Base.PipeEndpoint, p::Ptr{UInt8}, n::UInt64)",
      "    @ Base .\\stream.jl:1115",
      "  [5] unsafe_write",
      "    @ .\\io.jl:419 [inlined]",
      "  [6] write",
      "    @ .\\strings\\io.jl:244 [inlined]",
      "  [7] print",
      "    @ .\\strings\\io.jl:246 [inlined]",
      "  [8] print(::IJulia.IJuliaStdio{Base.PipeEndpoint}, ::String, ::String)",
      "    @ Base .\\strings\\io.jl:46",
      "  [9] println(io::IJulia.IJuliaStdio{Base.PipeEndpoint}, xs::String)",
      "    @ Base .\\strings\\io.jl:75",
      " [10] println(xs::String)",
      "    @ Base .\\coreio.jl:4",
      " [11] move_to_left(I0::Float64, U0::Float64, initial_condition_function::SVector{4, Float64}, step_to_left::Float64)",
      "    @ Main .\\In[30]:30",
      " [12] top-level scope",
      "    @ In[31]:32",
      " [13] eval",
      "    @ .\\boot.jl:368 [inlined]",
      " [14] include_string(mapexpr::typeof(REPL.softscope), mod::Module, code::String, filename::String)",
      "    @ Base .\\loading.jl:1428"
     ]
    }
   ],
   "source": [
    "for (index_I0, I0) in enumerate(rangeI)\n",
    "    \n",
    "        if index_I0 == 1\n",
    "            global initial_condition_function = SA[0.0, 0.2, 0.1, 0.1]\n",
    "        end\n",
    "        \n",
    "        U0 = parabola(I0)\n",
    "    \n",
    "        print_output(index_I0, I0, U0, initial_condition_function)\n",
    "    \n",
    "        parametres = SA[  τ, α, τ_D, J, U0, ΔU0, τ_y, β, xthr, ythr, I0  ]\n",
    "    \n",
    "        ds = ContinuousDynamicalSystem( model, initial_condition_function, parametres )\n",
    "    \n",
    "        tr = trajectory(ds, timefinal / 2, Ttr = timefinal / 4, Δt = 0.001;\n",
    "                    diffeq = (alg = RK4(), adaptive = false, dense = false, dt = 0.001))\n",
    "        initial_condition_function = tr[end, :]\n",
    "    \n",
    "        println(\"last point: $initial_condition_function\");flush(stdout)\n",
    "    \n",
    "        λλ = lyapunovspectrum( ds, timefinal, Ttr = timefinal / 4, Δt = 1;\n",
    "                            diffeq = ( alg = RK4(), adaptive = false, dense = false, dt = 0.001 ))\n",
    "        println(\"LSE: $λλ\");flush(stdout)\n",
    "\n",
    "        open(file, \"a\") do io\n",
    "            println(io, \" $I0 $U0 $(λλ[1]) \\n\")\n",
    "        end\n",
    "    \n",
    "        println(\"----------------------\")\n",
    "    \n",
    "        if I0 != -1.75\n",
    "            move_to_left( I0, U0, initial_condition_function, step_to_left )\n",
    "        end\n",
    "        \n",
    "end"
   ]
  },
  {
   "cell_type": "code",
   "execution_count": 30,
   "id": "a0a0f42a",
   "metadata": {},
   "outputs": [
    {
     "data": {
      "text/plain": [
       "move_to_left (generic function with 1 method)"
      ]
     },
     "execution_count": 30,
     "metadata": {},
     "output_type": "execute_result"
    }
   ],
   "source": [
    "function move_to_left( I0, U0, initial_condition_function, step_to_left )\n",
    "    \n",
    "    println(\"\");flush(stdout)\n",
    "    println(\"<<<<<<<<<<<<<<<<<<<<<\");flush(stdout)\n",
    "    \n",
    "    println(\"MOVE TO LEFT\")\n",
    "        \n",
    "    range_to_left_border = range( I0 + step_to_left, endI, step = step_to_left )\n",
    "        \n",
    "    for (index_left, I0_left) in enumerate( range_to_left_border )\n",
    "        \n",
    "        if index_left == 1\n",
    "            global initial_condition_left = initial_condition_function\n",
    "        end\n",
    "            \n",
    "        println(\" <- \")\n",
    "        print_output(index_left, I0_left, U0, initial_condition_left)\n",
    "        \n",
    "        parametres = SA[  τ, α, τ_D, J, U0, ΔU0, τ_y, β, xthr, ythr, I0_left  ]\n",
    "        \n",
    "        ds = ContinuousDynamicalSystem( model, initial_condition_left, parametres )\n",
    "    \n",
    "        tr = trajectory(ds, timefinal, Ttr = timefinal, Δt = 0.001;\n",
    "                            diffeq = (alg = RK4(), adaptive = false, dense = false, dt = 0.001))\n",
    "        initial_condition_left = tr[end, :]\n",
    "        \n",
    "        println(\"last point: $initial_condition_left\");flush(stdout)\n",
    "        λλ = lyapunovspectrum( ds, timefinal, Ttr = timefinal, Δt = 1;\n",
    "                                diffeq = ( alg = RK4(), adaptive = false, dense = false, dt = 0.001 ))\n",
    "        println(\"LSE: $λλ\");flush(stdout)\n",
    "\n",
    "        open(file, \"a\") do io\n",
    "            println(io, \" $I0_left $U0 $(λλ[1]) \\n\")\n",
    "        end\n",
    "        separate()\n",
    "    end\n",
    "end"
   ]
  },
  {
   "cell_type": "code",
   "execution_count": null,
   "id": "2418f0ae",
   "metadata": {},
   "outputs": [],
   "source": []
  }
 ],
 "metadata": {
  "kernelspec": {
   "display_name": "Julia 1.8.0",
   "language": "julia",
   "name": "julia-1.8"
  },
  "language_info": {
   "file_extension": ".jl",
   "mimetype": "application/julia",
   "name": "julia",
   "version": "1.8.0"
  }
 },
 "nbformat": 4,
 "nbformat_minor": 5
}
