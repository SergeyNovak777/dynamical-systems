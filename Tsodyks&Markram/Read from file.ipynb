{
 "cells": [
  {
   "cell_type": "code",
   "execution_count": 1,
   "id": "76db52be",
   "metadata": {},
   "outputs": [],
   "source": [
    "using DelimitedFiles"
   ]
  },
  {
   "cell_type": "code",
   "execution_count": 19,
   "id": "3676a853",
   "metadata": {},
   "outputs": [
    {
     "data": {
      "text/plain": [
       "60×3 Matrix{Float64}:\n",
       " -1.8  0.35  -0.000228556\n",
       " -1.8  0.35   0.0014843\n",
       " -1.8  0.35   0.00115258\n",
       " -1.8  0.35  -0.00504634\n",
       " -1.8  0.35   0.0026745\n",
       " -1.8  0.35  -0.00838701\n",
       " -1.8  0.35  -0.00811968\n",
       " -1.8  0.35  -0.00573793\n",
       " -1.8  0.35   0.000644298\n",
       " -1.8  0.35   0.00385024\n",
       " -1.8  0.35  -0.00311662\n",
       " -1.8  0.35   0.0028727\n",
       " -1.8  0.35   0.00141017\n",
       "  ⋮          \n",
       " -1.8  0.35  -0.555556\n",
       " -1.8  0.35  -0.555556\n",
       " -1.8  0.35  -0.555556\n",
       " -1.8  0.35  -0.555556\n",
       " -1.8  0.35  -0.555556\n",
       " -1.8  0.35  -0.555556\n",
       " -1.8  0.35  -0.555556\n",
       " -1.8  0.35  -0.555556\n",
       " -1.8  0.35  -0.555556\n",
       " -1.8  0.35  -0.555556\n",
       " -1.8  0.35  -0.555556\n",
       " -1.8  0.35  -0.555556"
      ]
     },
     "execution_count": 19,
     "metadata": {},
     "output_type": "execute_result"
    }
   ],
   "source": [
    " matrix = readdlm(\"output_from_function.txt\")"
   ]
  },
  {
   "cell_type": "code",
   "execution_count": 14,
   "id": "7b9e21d7",
   "metadata": {},
   "outputs": [
    {
     "data": {
      "text/plain": [
       "-0.0068565563526544054"
      ]
     },
     "execution_count": 14,
     "metadata": {},
     "output_type": "execute_result"
    }
   ],
   "source": [
    "matrix[2, 3]"
   ]
  },
  {
   "cell_type": "code",
   "execution_count": 33,
   "id": "d55f73cd",
   "metadata": {},
   "outputs": [
    {
     "data": {
      "text/plain": [
       "4×4 Matrix{Float64}:\n",
       " 0.0  0.0  0.0  0.0\n",
       " 0.0  0.0  0.0  0.0\n",
       " 0.0  0.0  0.0  0.0\n",
       " 0.0  0.0  0.0  0.0"
      ]
     },
     "execution_count": 33,
     "metadata": {},
     "output_type": "execute_result"
    }
   ],
   "source": [
    "t = zeros(4, 4)"
   ]
  },
  {
   "cell_type": "code",
   "execution_count": 34,
   "id": "abedb6a3",
   "metadata": {},
   "outputs": [
    {
     "data": {
      "text/plain": [
       "1"
      ]
     },
     "execution_count": 34,
     "metadata": {},
     "output_type": "execute_result"
    }
   ],
   "source": [
    "t[1, 2] = 1"
   ]
  },
  {
   "cell_type": "code",
   "execution_count": null,
   "id": "818faca0",
   "metadata": {},
   "outputs": [],
   "source": []
  }
 ],
 "metadata": {
  "kernelspec": {
   "display_name": "Julia 1.8.1",
   "language": "julia",
   "name": "julia-1.8"
  },
  "language_info": {
   "file_extension": ".jl",
   "mimetype": "application/julia",
   "name": "julia",
   "version": "1.8.1"
  }
 },
 "nbformat": 4,
 "nbformat_minor": 5
}
