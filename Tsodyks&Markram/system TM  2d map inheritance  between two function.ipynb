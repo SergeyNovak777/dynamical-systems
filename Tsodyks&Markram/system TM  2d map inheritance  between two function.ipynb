{
 "cells": [
  {
   "cell_type": "markdown",
   "id": "e6a38b9a",
   "metadata": {},
   "source": [
    "### Packages"
   ]
  },
  {
   "cell_type": "code",
   "execution_count": 1,
   "id": "2ce3ae90",
   "metadata": {},
   "outputs": [],
   "source": [
    "using DynamicalSystems, DifferentialEquations, OrdinaryDiffEq, StaticArrays\n",
    "using CairoMakie"
   ]
  },
  {
   "cell_type": "markdown",
   "id": "084fd137",
   "metadata": {},
   "source": [
    "### Functions"
   ]
  },
  {
   "cell_type": "code",
   "execution_count": 2,
   "id": "a6cd4fc2",
   "metadata": {},
   "outputs": [
    {
     "data": {
      "text/plain": [
       "separate (generic function with 1 method)"
      ]
     },
     "execution_count": 2,
     "metadata": {},
     "output_type": "execute_result"
    }
   ],
   "source": [
    "function model(u, p ,t)\n",
    "    \n",
    "    E, x, u_, y = u\n",
    "    τ, α, τ_D, J, U0, ΔU0, τ_y, β, xthr, ythr, I0 = p\n",
    "    \n",
    "    U(y, U0, ΔU0, ythr) = U0 + ΔU0 / ( 1 + exp( -50 * ( y - ythr ) ) )\n",
    "    σ(x, xthr)= 1 / (1 + exp(-20 * (x - xthr)));\n",
    "    \n",
    "    du1 = (-E + α * log( 1 + exp( ( J * u_ * x * E + I0 ) / α ) )) / τ\n",
    "    du2 = ( 1 - x ) / τ_D - u_ * x * E\n",
    "    du3 = (U(y, U0, ΔU0, ythr) - u_) / τ_F + U(y, U0, ΔU0, ythr) * ( 1 - u_ ) * E\n",
    "    du4 = -y /  τ_y + β * σ(x, xthr)\n",
    "    \n",
    "    return SVector(du1, du2, du3, du4)\n",
    "    \n",
    "end;\n",
    "\n",
    "function output(index_i, index_j, U0_lc, I0_lc, u0_lc)\n",
    "        println(\"index i: $index_i\"); flush(stdout)\n",
    "        println(\"index j: $index_j\"); flush(stdout)\n",
    "        println(\"U0: $U0_lc;\"); flush(stdout)\n",
    "        println(\"I0: $I0_lc;\"); flush(stdout)\n",
    "        println(\"u0: $u0_lc;\"); flush(stdout)\n",
    "end\n",
    "function separate()\n",
    "    println(\" --------------------- \"); flush(stdout)\n",
    "    println(\"  \"); flush(stdout)\n",
    "end\n",
    "\n",
    "function parabola(x)\n",
    "    a = 0.13625841750841752\n",
    "    b = 0.189709595959596\n",
    "    c = 0.22\n",
    "    return  a * (x.^2) + b * x .+ c \n",
    "end\n",
    "\n",
    "function line(x)\n",
    "    a = -0.2558139534883721\n",
    "    b = -0.16046511627906984\n",
    "    return a * x .+ b\n",
    "end\n",
    "\n",
    "function print_output(index, I0, U0, initial_condition)\n",
    "    println(\"index: $index\");flush(stdout)\n",
    "    println(\"I0: $I0\");flush(stdout)\n",
    "    println(\"U0: $U0\");flush(stdout)\n",
    "    println(\"initial condition: $initial_condition\")\n",
    "end\n",
    "function separate()\n",
    "    println(\"_________________\")\n",
    "    println(\"\")\n",
    "end"
   ]
  },
  {
   "cell_type": "markdown",
   "id": "239fd37b",
   "metadata": {},
   "source": [
    "### Parametres"
   ]
  },
  {
   "cell_type": "code",
   "execution_count": 3,
   "id": "c73be8cb",
   "metadata": {},
   "outputs": [
    {
     "name": "stdout",
     "output_type": "stream",
     "text": [
      "[0.013, 1.5, 0.15, 3.07, NaN, 0.305, 1.8, 0.4375, 0.9, 0.5, NaN]\n"
     ]
    }
   ],
   "source": [
    "τ = 0.013; τ_D = 0.15; τ_y = 1.8; τ_F = 1;\n",
    "α = 1.5; J = 3.07; β = 0.4375\n",
    "ΔU0 = 0.305\n",
    "xthr = 0.9; ythr = 0.5\n",
    "parametres = SA[ τ, α, τ_D, J, NaN, ΔU0, τ_y, β, xthr, ythr, NaN ]\n",
    "timefinal = 3000.0\n",
    "println(parametres)"
   ]
  },
  {
   "cell_type": "markdown",
   "id": "acb572bf",
   "metadata": {},
   "source": [
    "### Grid"
   ]
  },
  {
   "cell_type": "code",
   "execution_count": 4,
   "id": "a9f82f72",
   "metadata": {},
   "outputs": [
    {
     "data": {
      "text/plain": [
       "0.004848484848484658"
      ]
     },
     "execution_count": 4,
     "metadata": {},
     "output_type": "execute_result"
    }
   ],
   "source": [
    "startI = -1.8\n",
    "endI = -1.32\n",
    "lengthI = 100\n",
    "rangeI = range( startI, endI, length = 100 )\n",
    "step_to_left = rangeI.step.hi"
   ]
  },
  {
   "cell_type": "code",
   "execution_count": 5,
   "id": "b6078758",
   "metadata": {},
   "outputs": [
    {
     "data": {
      "text/plain": [
       "\"2d_map_betweeen_line_parabola.txt\""
      ]
     },
     "execution_count": 5,
     "metadata": {},
     "output_type": "execute_result"
    }
   ],
   "source": [
    "file = \"2d_map_betweeen_line_parabola.txt\""
   ]
  },
  {
   "cell_type": "code",
   "execution_count": null,
   "id": "f074164a",
   "metadata": {},
   "outputs": [
    {
     "name": "stdout",
     "output_type": "stream",
     "text": [
      "index: 1\n",
      "I0: -1.8\n",
      "U0: 0.32000000000000006\n",
      "initial condition: [0.0, 0.2, 0.1, 0.1]\n",
      "last point: [1.7303735312129922, 0.8546534767458698, 0.6819520373729314, 0.09103793623701394]\n",
      "LSE: [0.00045279931611982827, -0.4584742933804628, -0.5556136735610765, -8.704974692499281]\n",
      "----------------------\n",
      "index: 2\n",
      "I0: -1.7951515151515152\n",
      "U0: 0.31854467849601\n",
      "initial condition: [1.7303735312129922, 0.8546534767458698, 0.6819520373729314, 0.09103793623701394]\n",
      "last point: [1.0486697820068387, 0.6124287315138137, 0.7774131582109282, 0.08304585378161278]\n",
      "LSE: [0.00036172332160014446, -0.5167413091914771, -0.5553448575277006, -8.692111743781584]\n",
      "----------------------\n",
      "\n",
      "<<<<<<<<<<<<<<<<<<<<<\n",
      " <- \n",
      "index: 1\n",
      "I0: -1.7999999999999998\n",
      "U0: 0.31854467849601\n",
      "initial condition: [1.0486697820068387, 0.6124287315138137, 0.7774131582109282, 0.08304585378161278]\n",
      "last point: [0.9150143815319376, 0.9247912913711375, 0.5925230111024512, 0.4894138343536877]\n",
      "LSE: [-0.3347300117843138, -0.33452609000071026, -12.242345234710735, -14.078395105022421]\n",
      "_________________\n",
      "\n",
      "index: 3\n",
      "I0: -1.7903030303030303\n",
      "U0: 0.31709576326472566\n",
      "initial condition: [1.0486697820068387, 0.6124287315138137, 0.7774131582109282, 0.08304585378161278]\n",
      "last point: [13.579511134732929, 0.7113030943664204, 0.6906741366323522, 0.09173717978912582]\n",
      "LSE: [0.0013549863913977999, -0.5555513891968256, -0.5640737827905684, -8.670246038921475]\n",
      "----------------------\n",
      "\n",
      "<<<<<<<<<<<<<<<<<<<<<\n",
      " <- \n",
      "index: 1\n",
      "I0: -1.795151515151515\n",
      "U0: 0.31709576326472566\n",
      "initial condition: [13.579511134732929, 0.7113030943664204, 0.6906741366323522, 0.09173717978912582]\n",
      "last point: [0.9174164940684496, 0.9247714173425611, 0.591140450685131, 0.4893401959492236]\n",
      "LSE: [-0.3324529158441629, -0.3334723650927331, -12.171665942685134, -14.178936501856715]\n",
      "_________________\n",
      "\n",
      " <- \n",
      "index: 2\n",
      "I0: -1.7999999999999996\n",
      "U0: 0.31709576326472566\n",
      "initial condition: [0.9174164940684496, 0.9247714173425611, 0.591140450685131, 0.4893401959492236]\n",
      "last point: [0.9140822023072948, 0.9248910672038789, 0.5922764902652186, 0.4897834220008179]\n",
      "LSE: [-0.3357867500154829, -0.3346313156234346, -12.085508640404479, -14.294677459630064]\n",
      "_________________\n",
      "\n",
      "index: 4\n",
      "I0: -1.7854545454545454\n",
      "U0: 0.3156532543061469\n",
      "initial condition: [13.579511134732929, 0.7113030943664204, 0.6906741366323522, 0.09173717978912582]\n",
      "last point: [2.6406626417184045, 0.49180628557480843, 0.7949145890678843, 0.08203695966994481]\n",
      "LSE: [-0.0004208894283236292, -0.555556187022434, -0.6038013655203862, -8.641793272818385]\n",
      "----------------------\n",
      "\n",
      "<<<<<<<<<<<<<<<<<<<<<\n",
      " <- \n",
      "index: 1\n",
      "I0: -1.79030303030303\n",
      "U0: 0.3156532543061469\n",
      "initial condition: [2.6406626417184045, 0.49180628557480843, 0.7949145890678843, 0.08203695966994481]\n",
      "last point: [0.9198227525979212, 0.9247515884770534, 0.5897620775720014, 0.4892667178035978]\n",
      "LSE: [-0.331180550945405, -0.33143077203441146, -12.107409334632695, -14.273126430166318]\n",
      "_________________\n",
      "\n",
      " <- \n",
      "index: 2\n",
      "I0: -1.7951515151515147\n",
      "U0: 0.3156532543061469\n",
      "initial condition: [0.9198227525979212, 0.9247515884770534, 0.5897620775720014, 0.4892667178035978]\n",
      "last point: [0.9164854217152699, 0.9248708851524013, 0.5908950390436495, 0.4897086785380387]\n",
      "LSE: [-0.33284868895518466, -0.3342171550761436, -12.028620071816453, -14.38118833883036]\n",
      "_________________\n",
      "\n",
      " <- \n",
      "index: 3\n",
      "I0: -1.7999999999999994\n",
      "U0: 0.3156532543061469\n",
      "initial condition: [0.9164854217152699, 0.9248708851524013, 0.5908950390436495, 0.4897086785380387]\n",
      "last point: [0.9131587687051004, 0.9249899798164618, 0.5920313454011918, 0.49014963462115707]\n",
      "LSE: [-0.336265507897158, -0.3353819137407558, -11.955903571540087, -14.483185455605176]\n",
      "_________________\n",
      "\n",
      "index: 5\n",
      "I0: -1.7806060606060605\n",
      "U0: 0.31421715162027375\n",
      "initial condition: [2.6406626417184045, 0.49180628557480843, 0.7949145890678843, 0.08203695966994481]\n",
      "last point: [0.9147354194080426, 0.7550237597920717, 0.7412815931348801, 0.0751702816648407]\n",
      "LSE: [-0.0002567113719497877, -0.5555559157103185, -0.6378747407714898, -8.609347034075228]\n",
      "----------------------\n",
      "\n",
      "<<<<<<<<<<<<<<<<<<<<<\n",
      " <- \n",
      "index: 1\n",
      "I0: -1.7854545454545452\n",
      "U0: 0.31421715162027375\n",
      "initial condition: [0.9147354194080426, 0.7550237597920717, 0.7412815931348801, 0.0751702816648407]\n",
      "last point: [0.9222331744251786, 0.9247318028202638, 0.5883878830089754, 0.48919339272679924]\n",
      "LSE: [-0.3295229605659405, -0.3297912093627955, -12.048264297373041, -14.362274638560667]\n",
      "_________________\n",
      "\n",
      " <- \n",
      "index: 2\n",
      "I0: -1.7903030303030298\n",
      "U0: 0.31421715162027375\n",
      "initial condition: [0.9222331744251786, 0.9247318028202638, 0.5883878830089754, 0.48919339272679924]\n",
      "last point: [0.9188928066434479, 0.9248507473278141, 0.5895177737144488, 0.4896340915392063]\n",
      "LSE: [-0.3317975195676011, -0.3319329802254674, -11.975579414428257, -14.463922425804906]\n",
      "_________________\n",
      "\n",
      " <- \n",
      "index: 3\n",
      "I0: -1.7951515151515145\n",
      "U0: 0.31421715162027375\n",
      "initial condition: [0.9188928066434479, 0.9248507473278141, 0.5895177737144488, 0.4896340915392063]\n",
      "last point: [0.9155631150828074, 0.9249694888064257, 0.5906510100042761, 0.4900737835460757]\n",
      "LSE: [-0.33412527826042077, -0.33414824862652315, -11.907840405448258, -14.560631195594326]\n",
      "_________________\n",
      "\n",
      " <- \n",
      "index: 4\n",
      "I0: -1.7999999999999992\n",
      "U0: 0.31421715162027375\n",
      "initial condition: [0.9155631150828074, 0.9249694888064257, 0.5906510100042761, 0.4900737835460757]\n",
      "last point: [0.9122438425563197, 0.9250880528365896, 0.5917875356858243, 0.490512563676803]\n",
      "LSE: [-0.33659059378347816, -0.33635235657041596, -11.84414920325062, -14.653314232179138]\n",
      "_________________\n",
      "\n",
      "index: 6\n",
      "I0: -1.7757575757575759\n",
      "U0: 0.31278745520710627\n",
      "initial condition: [0.9147354194080426, 0.7550237597920717, 0.7412815931348801, 0.0751702816648407]\n",
      "last point: [0.9602690120509202, 0.7745953513221242, 0.7337830271267318, 0.07360518798112063]\n",
      "LSE: [0.0015187782233001157, -0.5555557501761433, -0.6673049161119261, -8.57273589096801]\n",
      "----------------------\n",
      "\n",
      "<<<<<<<<<<<<<<<<<<<<<\n",
      " <- \n",
      "index: 1\n",
      "I0: -1.7806060606060605\n",
      "U0: 0.31278745520710627\n",
      "initial condition: [0.9602690120509202, 0.7745953513221242, 0.7337830271267318, 0.07360518798112063]\n",
      "last point: [0.9246477770000474, 0.9247120584141538, 0.587017858264886, 0.4891202135122484]\n",
      "LSE: [-0.32833161727638355, -0.32770214725166574, -11.99331168152893, -14.447298915179516]\n",
      "_________________\n",
      "\n",
      " <- \n",
      "index: 2\n",
      "I0: -1.7854545454545452\n",
      "U0: 0.31278745520710627\n",
      "initial condition: [0.9246477770000474, 0.9247120584141538, 0.587017858264886, 0.4891202135122484]\n",
      "last point: [0.9213043744083165, 0.924830651779782, 0.5881446855428282, 0.48955965383280003]\n",
      "LSE: [-0.3306880002763862, -0.3297239756227648, -11.925794716174867, -14.543470312367111]\n",
      "_________________\n",
      "\n",
      " <- \n",
      "index: 3\n",
      "I0: -1.7903030303030298\n",
      "U0: 0.31278745520710627\n",
      "initial condition: [0.9213043744083165, 0.924830651779782, 0.5881446855428282, 0.48955965383280003]\n",
      "last point: [0.9179716461448995, 0.9249490411289383, 0.589274858947157, 0.4899980852933061]\n"
     ]
    }
   ],
   "source": [
    "for (index_I0, I0) in enumerate(rangeI)\n",
    "    \n",
    "        if index_I0 == 1\n",
    "            global initial_condition_function = SA[0.0, 0.2, 0.1, 0.1]\n",
    "        end\n",
    "        \n",
    "        U0 = parabola(I0)\n",
    "    \n",
    "        print_output(index_I0, I0, U0, initial_condition_function)\n",
    "    \n",
    "        parametres = SA[  τ, α, τ_D, J, U0, ΔU0, τ_y, β, xthr, ythr, I0  ]\n",
    "    \n",
    "        ds = ContinuousDynamicalSystem( model, initial_condition_function, parametres )\n",
    "    \n",
    "        tr = trajectory(ds, timefinal / 2, Ttr = timefinal / 4, Δt = 0.001;\n",
    "                    diffeq = (alg = RK4(), adaptive = false, dense = false, dt = 0.001))\n",
    "        initial_condition_function = tr[end, :]\n",
    "    \n",
    "        println(\"last point: $initial_condition_function\");flush(stdout)\n",
    "    \n",
    "        λλ = lyapunovspectrum( ds, timefinal, Ttr = timefinal / 4, Δt = 1;\n",
    "                            diffeq = ( alg = RK4(), adaptive = false, dense = false, dt = 0.001 ))\n",
    "        println(\"LSE: $λλ\");flush(stdout)\n",
    "\n",
    "        open(file, \"a\") do io\n",
    "            println(io, \" $I0 $U0 $(λλ[1])\")\n",
    "        end\n",
    "    \n",
    "        println(\"----------------------\")\n",
    "        if I0  >  -1.8\n",
    "            move_to_left( I0, U0, initial_condition_function, step_to_left )\n",
    "        end\n",
    "        \n",
    "end"
   ]
  },
  {
   "cell_type": "code",
   "execution_count": 7,
   "id": "f7837f86",
   "metadata": {},
   "outputs": [
    {
     "data": {
      "text/plain": [
       "move_to_left (generic function with 1 method)"
      ]
     },
     "execution_count": 7,
     "metadata": {},
     "output_type": "execute_result"
    }
   ],
   "source": [
    "function move_to_left( I0, U0, initial_condition_function, step )\n",
    "    \n",
    "    println(\"\");flush(stdout)\n",
    "    println(\"<<<<<<<<<<<<<<<<<<<<<\");flush(stdout)\n",
    "    index_left = 1\n",
    "    \n",
    "    while line(I0) < U0 && I0 > -1.8\n",
    "        \n",
    "        if index_left == 1\n",
    "            global initial_condition_left = initial_condition_function\n",
    "            I0 = I0 - step\n",
    "        end\n",
    "        \n",
    "        println(\" <- \")\n",
    "        print_output(index_left, I0, U0, initial_condition_left)\n",
    "        \n",
    "        parametres = SA[  τ, α, τ_D, J, U0, ΔU0, τ_y, β, xthr, ythr, I0  ]\n",
    "        \n",
    "        ds = ContinuousDynamicalSystem( model, initial_condition_left, parametres )\n",
    "    \n",
    "        tr = trajectory(ds, timefinal / 2, Ttr = timefinal / 4, Δt = 0.001;\n",
    "                            diffeq = (alg = RK4(), adaptive = false, dense = false, dt = 0.001))\n",
    "        initial_condition_left = tr[end, :]\n",
    "        \n",
    "        println(\"last point: $initial_condition_left\");flush(stdout)\n",
    "        λλ = lyapunovspectrum( ds, timefinal, Ttr = timefinal / 2, Δt = 1;\n",
    "                                diffeq = ( alg = RK4(), adaptive = false, dense = false, dt = 0.001 ))\n",
    "        println(\"LSE: $λλ\");flush(stdout)\n",
    "\n",
    "        open(file, \"a\") do io\n",
    "            println(io, \" $I0 $U0 $(λλ[1])\")\n",
    "        end\n",
    "        separate()\n",
    "        I0 = I0 - step\n",
    "        index_left += 1\n",
    "    end\n",
    "end"
   ]
  }
 ],
 "metadata": {
  "kernelspec": {
   "display_name": "Julia 1.8.1",
   "language": "julia",
   "name": "julia-1.8"
  },
  "language_info": {
   "file_extension": ".jl",
   "mimetype": "application/julia",
   "name": "julia",
   "version": "1.8.1"
  }
 },
 "nbformat": 4,
 "nbformat_minor": 5
}
