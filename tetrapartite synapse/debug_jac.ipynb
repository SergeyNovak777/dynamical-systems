{
 "cells": [
  {
   "cell_type": "code",
   "execution_count": 807,
   "metadata": {},
   "outputs": [
    {
     "name": "stderr",
     "output_type": "stream",
     "text": [
      "\u001b[32m\u001b[1m  Activating\u001b[22m\u001b[39m project at `~/work/repo_ds/dynamical-systems/env/integrate`\n"
     ]
    }
   ],
   "source": [
    "# linux\n",
    "username = \"nova\"\n",
    "pathtorepo = \"/home/nova/work/repo_ds/dynamical-systems\"\n",
    "using Pkg\n",
    "Pkg.activate(pathtorepo * \"/env/integrate/\")"
   ]
  },
  {
   "cell_type": "code",
   "execution_count": 808,
   "metadata": {},
   "outputs": [
    {
     "data": {
      "text/plain": [
       "\"# windows\\nusername = \\\"Alex\\\"\\npathtorepo = \\\"C:\\\\Users\\\\\\\" *username *  \\\"\\\\Desktop\\\\\\\"\\nusing Pkg\\nPkg.activate(pathtorepo * \\\"dynamical-systems\\\\env\\\\integrate\\\\\\\")\""
      ]
     },
     "metadata": {},
     "output_type": "display_data"
    }
   ],
   "source": [
    "\"\"\"# windows\n",
    "username = \"Alex\"\n",
    "pathtorepo = \"C:\\\\Users\\\\\" *username *  \"\\\\Desktop\\\\\"\n",
    "using Pkg\n",
    "Pkg.activate(pathtorepo * \"dynamical-systems\\\\env\\\\integrate\\\\\")\"\"\""
   ]
  },
  {
   "cell_type": "code",
   "execution_count": 809,
   "metadata": {},
   "outputs": [],
   "source": [
    "using StaticArrays, DifferentialEquations, DynamicalSystems, ForwardDiff, BenchmarkTools, IntervalRootFinding, LinearAlgebra\n",
    "using CairoMakie, GLMakie"
   ]
  },
  {
   "cell_type": "code",
   "execution_count": 810,
   "metadata": {},
   "outputs": [
    {
     "data": {
      "text/plain": [
       "tetra_jac (generic function with 1 method)"
      ]
     },
     "metadata": {},
     "output_type": "display_data"
    }
   ],
   "source": [
    "@inbounds function tetra(var, par, t)\n",
    "\n",
    "    g = log( 1.0 + exp( ( (par[9] + par[6] * var[5]) * var[3] * var[2] * var[1] + par[11]) / par[5] ) );\n",
    "    U = par[10] + par[12] / ( 1.0 + exp( -50.0 * ( var[4] - par[25] ) ) );\n",
    "    Hy = 1.0 / ( 1.0 + exp( -20.0 * ( var[2] - par[26] ) ) );\n",
    "    Hecm = par[17] - (par[17] - par[18]) / (1.0 + exp( -(var[1] - par[20]) / par[19] ) );\n",
    "    Hp =  par[21] - (par[21] - par[22]) / (1.0 + exp( -(var[1] - par[23]) / par[24]) );\n",
    "\n",
    "    dE = (-var[1] + par[5] * g) / par[1];\n",
    "    dx = (1.0 - var[2]) / par[2]  -var[3] * var[2] * var[1];\n",
    "    du = (U - var[3]) / par[3]  + U * (1.0 - var[3]) * var[1];\n",
    "    dy = (-var[4]) / par[4] + par[13] * Hy;\n",
    "    decm = -( par[7] + par[16] * var[6] ) * var[5] + par[14] * Hecm; \n",
    "    dp = -par[8] * var[6] + par[15] * Hp;\n",
    "\n",
    "    return SVector(dE, dx, du, dy, decm, dp);\n",
    "end\n",
    "\n",
    "@inbounds function tetra_jac(vars, params, t)\n",
    "\n",
    "    E_sum =  params[9] + params[6] * vars[5];\n",
    "\n",
    "    exp_ = exp( ( E_sum * vars[3] * vars[2] * vars[1] + params[11] ) / params[5] );\n",
    "    \n",
    "    denomE = 1.0 + exp_;\n",
    "\n",
    "    exp50 = exp( -50.0 * ( vars[4] - params[25] ) );\n",
    "    exp20 = exp( -20.0 * ( vars[2] - params[26] ) );\n",
    "    exphecm = exp( -(vars[1] - params[20]) / (params[19]) );\n",
    "    exphp = exp( -(vars[1] - params[23]) / (params[24]) );\n",
    "\n",
    "    U = params[10] + params[12] / ( 1.0 + exp( -50.0 * ( vars[4] - params[25] ) ) );\n",
    "    Uder = (50.0 * params[12] * exp50) / ( 1.0 + exp50 )^2;\n",
    "\n",
    "    Hyder = 20.0 * exp20 / (1.0 + exp20)^2;\n",
    "\n",
    "    Hecmder = (params[17] - params[18]) * exphecm / ( params[19] * (1.0 + exphecm)^2 );\n",
    "    Hpder = (params[21] - params[22]) * exphp / ( params[24] * (1.0 + exphp)^2 );\n",
    "\n",
    "    EE = ( -1.0 + ( E_sum * vars[3] * vars[2] * exp_ ) / denomE ) / params[1];\n",
    "    Ex = ( ( E_sum * vars[3] * vars[1] * exp_ ) / denomE ) / params[1];\n",
    "    Eu = ( ( E_sum * vars[2] * vars[1] * exp_ ) / denomE ) / params[1];\n",
    "    Eecm = ( (exp_ * params[6] * vars[3] * vars[2] * vars[1]) / denomE ) / params[1];\n",
    "\n",
    "    xE = -vars[3] * vars[2];\n",
    "    xx = - 1.0 / params[2] - vars[3] * vars[1];\n",
    "    xu = -vars[2] * vars[1];\n",
    "\n",
    "\n",
    "    uE = U * (1.0 - vars[3]);\n",
    "    uu = -1.0 / params[3] - U * vars[1];\n",
    "    uy = Uder * ( 1.0 / params[3] + (1.0 - vars[3]) * vars[1] );\n",
    "\n",
    "    yx = params[13] * Hyder;\n",
    "\n",
    "    ecmE =  -params[14] * Hecmder;\n",
    "    ecmecm = -(params[7] + params[16] * vars[6]);\n",
    "    ecmp = -vars[5] * params[16];\n",
    "\n",
    "    pE = -params[15] * Hpder;\n",
    "\n",
    "    SMatrix{6,6}(EE, xE, uE, 0.0, ecmE, pE,\n",
    "        Ex, xx, 0.0, yx, 0.0, 0.0,\n",
    "        Eu, xu, uu, 0.0, 0.0, 0.0,\n",
    "        0.0, 0.0, uy, - 1.0 / params[4], 0.0, 0.0,\n",
    "        Eecm, 0.0, 0.0, 0.0, ecmecm, 0.0,\n",
    "        0.0, 0.0, 0.0, 0.0, ecmp, -params[8])\n",
    "end"
   ]
  },
  {
   "cell_type": "code",
   "execution_count": 811,
   "metadata": {},
   "outputs": [],
   "source": [
    "time = 5000.0; tt = 0.0; tstep = 0.001; ttr = 2500.0; times = [time, tt];\n",
    "integ_set = (alg = RK4(), adaptive = false, dt = tstep);"
   ]
  },
  {
   "cell_type": "code",
   "execution_count": 812,
   "metadata": {},
   "outputs": [],
   "source": [
    "τ = 0.05; τD = 0.15; τF = 1.0; τy = 3.3;   \n",
    "α = 1.58; αecm = 0.001; αp = 0.01;\n",
    "J = 3.07; U0 = 0.3; ΔU0 = 0.305; \n",
    "β = 0.438; βp = 0.001; βecm = 0.01;\n",
    "ecm0 = 0.0; ecm1 = 1.0; kecm = 0.15; θecm = 30;\n",
    "p0 = 0.0; p1 = 1.0; kp = 0.05; γp = 0.1; θp = 26.0; \n",
    "ythr = 0.4; xthr = 0.75;"
   ]
  },
  {
   "cell_type": "code",
   "execution_count": 813,
   "metadata": {},
   "outputs": [],
   "source": [
    "u01 = [2.422092651924434, 0.8446031114662503, 0.6534291088738378, 0.09540062161211987, 0.0004056327238809937, 1.4805608752412292e-9];\n",
    "u02 = ones(6);\n",
    "u03 = [8.8746, 0.4815, 0.8089, 0.0, 0.0, 0.0];"
   ]
  },
  {
   "cell_type": "code",
   "execution_count": 814,
   "metadata": {},
   "outputs": [],
   "source": [
    "# control parameter\n",
    "αE = 5.23;\n",
    "I0 = -1.741;\n",
    "param = SA[τ, τD, τF, τy, α, αE, αecm, αp, J, U0, I0, ΔU0, β, βecm, βp, γp, ecm0, ecm1, kecm, θecm, p0, p1, θp, kp, ythr, xthr];\n",
    "ds = CoupledODEs(tetra, u03, param, diffeq = integ_set);"
   ]
  },
  {
   "cell_type": "code",
   "execution_count": 815,
   "metadata": {},
   "outputs": [],
   "source": [
    "Jacobi(u0) = ForwardDiff.jacobian((x) -> tetra(x, param, 0.0), u0);"
   ]
  },
  {
   "cell_type": "code",
   "execution_count": 816,
   "metadata": {},
   "outputs": [
    {
     "data": {
      "text/plain": [
       "6×6 Matrix{Float64}:\n",
       "  7.70926      79.4627    102.711     0.0         114.256   0.0\n",
       " -0.551888     -8.24933    -2.04571   0.0           0.0     0.0\n",
       "  0.103971      0.0        -1.72663   6.81806e-6    0.0     0.0\n",
       "  0.0           0.997291    0.0      -0.30303       0.0     0.0\n",
       "  9.49924e-82   0.0         0.0       0.0          -0.001  -4.05633e-5\n",
       "  0.0           0.0         0.0       0.0           0.0    -0.01"
      ]
     },
     "metadata": {},
     "output_type": "display_data"
    }
   ],
   "source": [
    "jac_ana = Matrix(tetra_jac(u01, param, 0.0))"
   ]
  },
  {
   "cell_type": "code",
   "execution_count": 817,
   "metadata": {},
   "outputs": [
    {
     "data": {
      "text/plain": [
       "6×6 Matrix{Float64}:\n",
       "  7.70926      79.4627    102.711     0.0         114.256   0.0\n",
       " -0.551888     -8.24933    -2.04571  -0.0          -0.0    -0.0\n",
       "  0.103971      0.0        -1.72663   6.81806e-6    0.0     0.0\n",
       "  0.0           0.997291    0.0      -0.30303       0.0     0.0\n",
       "  9.49924e-82   0.0         0.0       0.0          -0.001  -4.05633e-5\n",
       "  0.0           0.0         0.0       0.0           0.0    -0.01"
      ]
     },
     "metadata": {},
     "output_type": "display_data"
    }
   ],
   "source": [
    "jac_num = Jacobi(u01)"
   ]
  },
  {
   "cell_type": "code",
   "execution_count": 818,
   "metadata": {},
   "outputs": [
    {
     "data": {
      "text/plain": [
       "4.056327238809937e-5"
      ]
     },
     "metadata": {},
     "output_type": "display_data"
    }
   ],
   "source": [
    "0.0004056327238809937 * γp"
   ]
  },
  {
   "cell_type": "code",
   "execution_count": 819,
   "metadata": {},
   "outputs": [
    {
     "data": {
      "text/plain": [
       "false"
      ]
     },
     "metadata": {},
     "output_type": "display_data"
    }
   ],
   "source": [
    "row = 5\n",
    "col = 5\n",
    "jac_ana[row, :] == jac_num[row, :]"
   ]
  },
  {
   "cell_type": "code",
   "execution_count": 820,
   "metadata": {},
   "outputs": [
    {
     "data": {
      "text/plain": [
       "6-element Vector{Float64}:\n",
       "  9.499239764096717e-82\n",
       "  0.0\n",
       "  0.0\n",
       "  0.0\n",
       " -0.0010000001480560876\n",
       " -4.056327238809937e-5"
      ]
     },
     "metadata": {},
     "output_type": "display_data"
    }
   ],
   "source": [
    "jac_ana[row, :]"
   ]
  },
  {
   "cell_type": "code",
   "execution_count": 821,
   "metadata": {},
   "outputs": [
    {
     "data": {
      "text/plain": [
       "6-element Vector{Float64}:\n",
       "  9.499239764096719e-82\n",
       "  0.0\n",
       "  0.0\n",
       "  0.0\n",
       " -0.0010000001480560876\n",
       " -4.056327238809937e-5"
      ]
     },
     "metadata": {},
     "output_type": "display_data"
    }
   ],
   "source": [
    "jac_num[row, :]"
   ]
  },
  {
   "cell_type": "code",
   "execution_count": 822,
   "metadata": {},
   "outputs": [],
   "source": [
    "Er = interval(0.0, 10.0);\n",
    "xr, ur, yr = interval(0.0, 1.0), interval(0.0, 1.0), interval(0.0, 1.0);\n",
    "ecmr, pr = interval(0.0, 0.1), interval(0.0, 0.1);\n",
    "box = IntervalBox(Er, xr, ur, yr, ecmr, pr);"
   ]
  },
  {
   "cell_type": "code",
   "execution_count": 823,
   "metadata": {},
   "outputs": [
    {
     "name": "stderr",
     "output_type": "stream",
     "text": [
      "┌ Warning: Non-unique fixed points found!\n",
      "└ @ ChaosTools /home/nova/.julia/packages/ChaosTools/Nr2Oq/src/stability/fixedpoints.jl:103\n"
     ]
    },
    {
     "data": {
      "text/plain": [
       "(6-dimensional StateSpaceSet{Float64} with 6 points, Vector{ComplexF64}[[-5.2896408370108565 - 8.88992404577992im, -5.2896408370108565 + 8.88992404577992im, -3.1129277710557277 + 0.0im, -0.3030303044047327 + 0.0im, -0.01 + 0.0im, -0.001 + 0.0im], [-5.289640837010866 - 8.889924045779937im, -5.289640837010866 + 8.889924045779937im, -3.1129277710557357 + 0.0im, -0.3030303044047327 + 0.0im, -0.01 + 0.0im, -0.001 + 0.0im], [-5.289640837010857 - 8.889924045779928im, -5.289640837010857 + 8.889924045779928im, -3.112927771055735 + 0.0im, -0.3030303044047327 + 0.0im, -0.01 + 0.0im, -0.001 + 0.0im], [-5.289640837010854 - 8.889924045779914im, -5.289640837010854 + 8.889924045779914im, -3.1129277710557295 + 0.0im, -0.3030303044047327 + 0.0im, -0.01 + 0.0im, -0.001 + 0.0im], [-5.289640837010866 - 8.889924045779937im, -5.289640837010866 + 8.889924045779937im, -3.1129277710557433 + 0.0im, -0.3030303044047327 + 0.0im, -0.01 + 0.0im, -0.001 + 0.0im], [-5.289640837010877 - 8.889924045779946im, -5.289640837010877 + 8.889924045779946im, -3.112927771055744 + 0.0im, -0.3030303044047327 + 0.0im, -0.01 + 0.0im, -0.001 + 0.0im]], Bool[1, 1, 1, 1, 1, 1])"
      ]
     },
     "metadata": {},
     "output_type": "display_data"
    }
   ],
   "source": [
    "fp, eigs, stable = fixedpoints(ds, box, tetra_jac, tol = 1e-14, method = IntervalRootFinding.Newton)"
   ]
  },
  {
   "cell_type": "code",
   "execution_count": 824,
   "metadata": {},
   "outputs": [
    {
     "data": {
      "text/plain": [
       "6-dimensional StateSpaceSet{Float64} with 6 points\n",
       " 8.87979  0.481349  0.808949  0.00667582  2.46164e-27  5.91646e-30\n",
       " 8.87979  0.481349  0.808949  0.00667582  2.46164e-27  5.91646e-30\n",
       " 8.87979  0.481349  0.808949  0.00667582  2.46164e-27  5.91646e-30\n",
       " 8.87979  0.481349  0.808949  0.00667582  9.99092e-27  1.26218e-29\n",
       " 8.87979  0.481349  0.808949  0.00667582  2.46164e-27  5.91646e-30\n",
       " 8.87979  0.481349  0.808949  0.00667582  9.99092e-27  1.26218e-29"
      ]
     },
     "metadata": {},
     "output_type": "display_data"
    }
   ],
   "source": [
    "fp"
   ]
  },
  {
   "cell_type": "code",
   "execution_count": 825,
   "metadata": {},
   "outputs": [
    {
     "data": {
      "text/plain": [
       "6-element SVector{6, Float64} with indices SOneTo(6):\n",
       " 8.879793602041058\n",
       " 0.481349008022014\n",
       " 0.8089487370604937\n",
       " 0.006675820870481918\n",
       " 2.4616404547421673e-27\n",
       " 5.9164567891575885e-30"
      ]
     },
     "metadata": {},
     "output_type": "display_data"
    }
   ],
   "source": [
    "fp[1]"
   ]
  },
  {
   "cell_type": "code",
   "execution_count": 826,
   "metadata": {},
   "outputs": [
    {
     "data": {
      "text/plain": [
       "6-element SVector{6, Float64} with indices SOneTo(6):\n",
       " 8.879793602041074\n",
       " 0.4813490080220141\n",
       " 0.8089487370604937\n",
       " 0.006675820870481923\n",
       " 2.4616404547421673e-27\n",
       " 5.9164567891575885e-30"
      ]
     },
     "metadata": {},
     "output_type": "display_data"
    }
   ],
   "source": [
    "fp[2]"
   ]
  }
 ],
 "metadata": {
  "kernelspec": {
   "display_name": "Julia 1.9.3",
   "language": "julia",
   "name": "julia-1.9"
  },
  "language_info": {
   "file_extension": ".jl",
   "mimetype": "application/julia",
   "name": "julia",
   "version": "1.9.3"
  },
  "orig_nbformat": 4
 },
 "nbformat": 4,
 "nbformat_minor": 2
}
