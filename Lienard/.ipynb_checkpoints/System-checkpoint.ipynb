{
 "cells": [
  {
   "cell_type": "code",
   "execution_count": 1,
   "id": "8cd197e9",
   "metadata": {},
   "outputs": [],
   "source": [
    "using DynamicalSystems\n",
    "using DifferentialEquations\n",
    "using OrdinaryDiffEq\n",
    "using StaticArrays\n",
    "using CairoMakie"
   ]
  },
  {
   "cell_type": "code",
   "execution_count": 2,
   "id": "1e196fa7",
   "metadata": {},
   "outputs": [
    {
     "data": {
      "text/plain": [
       "Lienard (generic function with 1 method)"
      ]
     },
     "execution_count": 2,
     "metadata": {},
     "output_type": "execute_result"
    }
   ],
   "source": [
    "function Lienard(u, p, t)\n",
    "\n",
    "            x, y = u\n",
    "            alpha, beta, gamma, A, w = p\n",
    "            du1 = y\n",
    "            du2 = -alpha * x * y - gamma * x - beta * x^3 + A * sin( w * t )\n",
    "\n",
    "            return SVector(du1, du2)\n",
    "end"
   ]
  },
  {
   "cell_type": "code",
   "execution_count": 3,
   "id": "f85047c5",
   "metadata": {},
   "outputs": [
    {
     "data": {
      "text/plain": [
       "-0.5"
      ]
     },
     "execution_count": 3,
     "metadata": {},
     "output_type": "execute_result"
    }
   ],
   "source": [
    "alpha = 0.45\n",
    "beta = 0.50\n",
    "gamma = -0.50"
   ]
  },
  {
   "cell_type": "code",
   "execution_count": 4,
   "id": "80f87ebb",
   "metadata": {},
   "outputs": [
    {
     "data": {
      "text/plain": [
       "(0.0, 500000.0)"
      ]
     },
     "execution_count": 4,
     "metadata": {},
     "output_type": "execute_result"
    }
   ],
   "source": [
    "u0 = SA[0.1, 0.2]\n",
    "p = SA[alpha, beta, gamma, 0.2, 0.7315]\n",
    "tspan = (0., 500000.)"
   ]
  }
 ],
 "metadata": {
  "kernelspec": {
   "display_name": "Julia 1.7.2",
   "language": "julia",
   "name": "julia-1.7"
  },
  "language_info": {
   "file_extension": ".jl",
   "mimetype": "application/julia",
   "name": "julia",
   "version": "1.7.2"
  }
 },
 "nbformat": 4,
 "nbformat_minor": 5
}
