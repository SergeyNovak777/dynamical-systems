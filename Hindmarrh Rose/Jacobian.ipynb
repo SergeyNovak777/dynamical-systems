{
 "cells": [
  {
   "cell_type": "code",
   "execution_count": 1,
   "id": "eebd66a2",
   "metadata": {},
   "outputs": [],
   "source": [
    "using StaticArrays\n",
    "using LinearAlgebra"
   ]
  },
  {
   "cell_type": "code",
   "execution_count": 162,
   "id": "e7cff658",
   "metadata": {},
   "outputs": [
    {
     "data": {
      "text/plain": [
       "Γ (generic function with 1 method)"
      ]
     },
     "execution_count": 162,
     "metadata": {},
     "output_type": "execute_result"
    }
   ],
   "source": [
    "a = 1.0\n",
    "b = 3.0\n",
    "c = 1.0\n",
    "d = 5.0\n",
    "xr = -1.6\n",
    "r = 0.01\n",
    "s = 5.0\n",
    "I = 4.0\n",
    "vs = 2.0\n",
    "\n",
    "k1= -0.17\n",
    "k2 = -0.17\n",
    "k = 0.11111111\n",
    "\n",
    "\n",
    "\n",
    "λ = 10\n",
    "θ = -0.25\n",
    "\n",
    "Γ(x) = 1.0 / ( 1.0 + exp( -10.0 * ( x  - ( - 0.25 ) ) ) )"
   ]
  },
  {
   "cell_type": "code",
   "execution_count": 163,
   "id": "08b19557",
   "metadata": {},
   "outputs": [
    {
     "data": {
      "text/plain": [
       "(-0.7382288183273402, -1.7249089410449048, 4.3088559083633)"
      ]
     },
     "execution_count": 163,
     "metadata": {},
     "output_type": "execute_result"
    }
   ],
   "source": [
    "x1, y1, z1 = -0.5, -1.7249089410449048, 4.3088559083633\n",
    "x2, y2, z2 = -0.7382288183273402, -1.7249089410449048, 4.3088559083633"
   ]
  },
  {
   "cell_type": "code",
   "execution_count": 164,
   "id": "8798c533",
   "metadata": {},
   "outputs": [
    {
     "data": {
      "text/plain": [
       "-0.01"
      ]
     },
     "execution_count": 164,
     "metadata": {},
     "output_type": "execute_result"
    }
   ],
   "source": [
    "x1_x1 = 2 * b * x1 - 3 * a^2 * x1 - k1 * ( 1 - vs ) * Γ(x2) + k * (x2 - 1)\n",
    "x1_y1 = 1\n",
    "x1_z1 = -1\n",
    "\n",
    "y1_x1 = -2 * d * x1\n",
    "y1_y1 = -1\n",
    "y1_z1 = 0\n",
    "\n",
    "z1_x1 = r * s\n",
    "z1_y1 = 0\n",
    "z1_z1 = -r\n",
    "\n",
    "x1_x2 = -k1 * (x1 - vs) * Γ(x2) + k\n",
    "x2_x1 = -k2 * (x2 - vs) * Γ(x1) + k\n",
    "\n",
    "\n",
    "x2_x2 = 2 * b * x2 - 3 * a^2 * x2 - k2 * ( 1 - vs ) * Γ(x1) + k * (x1 - 1)\n",
    "x2_y2 = 1\n",
    "x2_z2 = -1\n",
    "\n",
    "y2_x2 = -2 * d * x2\n",
    "y2_y2 = -1\n",
    "y2_z2 = -\n",
    "\n",
    "z2_x2 = r * s\n",
    "z2_y2 = 0\n",
    "z2_z2 = -r"
   ]
  },
  {
   "cell_type": "code",
   "execution_count": 165,
   "id": "af410b7d",
   "metadata": {},
   "outputs": [
    {
     "data": {
      "text/plain": [
       "6×6 Matrix{Float64}:\n",
       " 0.0  0.0  0.0  0.0  0.0  0.0\n",
       " 0.0  0.0  0.0  0.0  0.0  0.0\n",
       " 0.0  0.0  0.0  0.0  0.0  0.0\n",
       " 0.0  0.0  0.0  0.0  0.0  0.0\n",
       " 0.0  0.0  0.0  0.0  0.0  0.0\n",
       " 0.0  0.0  0.0  0.0  0.0  0.0"
      ]
     },
     "execution_count": 165,
     "metadata": {},
     "output_type": "execute_result"
    }
   ],
   "source": [
    "Jac = zeros(6, 6)"
   ]
  },
  {
   "cell_type": "code",
   "execution_count": 166,
   "id": "8700fda1",
   "metadata": {},
   "outputs": [
    {
     "data": {
      "text/plain": [
       "-0.01"
      ]
     },
     "execution_count": 166,
     "metadata": {},
     "output_type": "execute_result"
    }
   ],
   "source": [
    "Jac[1, 1] = 2 * b * x1 - 3 * a * x1^2 - k1 * Γ(x2) - k\n",
    "Jac[1, 2] = 1\n",
    "Jac[1, 3] = -1\n",
    "\n",
    "Jac[2, 1] = -2 * d * x1\n",
    "Jac[2, 2] = -1\n",
    "Jac[2, 3] = 0\n",
    "\n",
    "Jac[3, 1] = r * s\n",
    "Jac[3, 2] = 0\n",
    "Jac[3, 3] = -r\n",
    "\n",
    "Jac[1, 4] = -k1 * (x1 - vs) * Γ(x2) + k\n",
    "Jac[4, 1] = -k2 * (x2 - vs) * Γ(x1) + k\n",
    "\n",
    "\n",
    "Jac[4, 4] = 2 * b * x2 - 3 * a * x2^2 - k2 * Γ(x1) - k\n",
    "Jac[4, 5] = 1\n",
    "Jac[4, 6] = -1\n",
    "\n",
    "Jac[5, 4] = -2 * d * x2\n",
    "Jac[5, 5] = -1\n",
    "Jac[5, 6] = 0\n",
    "\n",
    "Jac[6, 4] = r * s\n",
    "Jac[6, 5] = 0\n",
    "Jac[6, 6] = -r"
   ]
  },
  {
   "cell_type": "code",
   "execution_count": 167,
   "id": "e0a287c0",
   "metadata": {},
   "outputs": [
    {
     "data": {
      "text/plain": [
       "6×6 Matrix{Float64}:\n",
       " -3.85983     1.0  -1.0    0.107914   0.0   0.0\n",
       "  5.0        -1.0   0.0    0.0        0.0   0.0\n",
       "  0.05        0.0  -0.01   0.0        0.0   0.0\n",
       "  0.0757992   0.0   0.0   -6.16253    1.0  -1.0\n",
       "  0.0         0.0   0.0    7.38229   -1.0   0.0\n",
       "  0.0         0.0   0.0    0.05       0.0  -0.01"
      ]
     },
     "execution_count": 167,
     "metadata": {},
     "output_type": "execute_result"
    }
   ],
   "source": [
    "Jac"
   ]
  },
  {
   "cell_type": "code",
   "execution_count": 169,
   "id": "37d5abd9",
   "metadata": {},
   "outputs": [
    {
     "data": {
      "text/plain": [
       "6-element Vector{ComplexF64}:\n",
       "   -7.325767081332564 + 0.0im\n",
       "   -5.074325982384627 + 0.0im\n",
       " 0.040572553454105466 + 0.0im\n",
       "  0.07454896282659157 - 0.013994878671519849im\n",
       "  0.07454896282659157 + 0.013994878671519849im\n",
       "   0.1680568279981496 + 0.0im"
      ]
     },
     "execution_count": 169,
     "metadata": {},
     "output_type": "execute_result"
    }
   ],
   "source": [
    "eigvals(Jac)"
   ]
  },
  {
   "cell_type": "code",
   "execution_count": null,
   "id": "6f8512aa",
   "metadata": {},
   "outputs": [],
   "source": []
  }
 ],
 "metadata": {
  "kernelspec": {
   "display_name": "Julia 1.8.1",
   "language": "julia",
   "name": "julia-1.8"
  },
  "language_info": {
   "file_extension": ".jl",
   "mimetype": "application/julia",
   "name": "julia",
   "version": "1.8.1"
  }
 },
 "nbformat": 4,
 "nbformat_minor": 5
}
