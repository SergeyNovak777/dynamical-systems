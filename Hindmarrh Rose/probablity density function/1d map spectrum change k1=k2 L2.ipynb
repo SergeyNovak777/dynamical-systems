{
 "cells": [
  {
   "cell_type": "code",
   "execution_count": 1,
   "id": "c70e2f97",
   "metadata": {},
   "outputs": [],
   "source": [
    "using DynamicalSystems\n",
    "using DifferentialEquations\n",
    "using OrdinaryDiffEq\n",
    "using StaticArrays\n",
    "using Statistics\n",
    "using JLD"
   ]
  },
  {
   "cell_type": "code",
   "execution_count": 2,
   "id": "7cc9e45e",
   "metadata": {},
   "outputs": [
    {
     "data": {
      "text/plain": [
       "HR (generic function with 1 method)"
      ]
     },
     "execution_count": 2,
     "metadata": {},
     "output_type": "execute_result"
    }
   ],
   "source": [
    "function sigma(x)\n",
    "    return 1.0 / ( 1.0 + exp( -10.0 * ( x  - ( - 0.25 ) ) ) )\n",
    "end\n",
    "\n",
    "function HR(u, p, t)\n",
    "        \n",
    "    a, b, c, d, s, xr, r,  I, vs, k1, k2, el_link  = p\n",
    "    x1, y1, z1, x2, y2, z2 = u\n",
    "    \n",
    "    du1 = y1 + b * x1 ^ 2 - a * x1 ^3 - z1 + I - k1 * ( x1 - vs ) * sigma(x2) + el_link * ( x2 - x1 )\n",
    "    du2 = c - d * x1 ^2 - y1\n",
    "    du3 = r * ( s * ( x1 - xr ) - z1 )\n",
    "    \n",
    "    du4 = y2 + b * x2 ^ 2 - a * x2 ^3 - z2 + I - k2 * ( x2 - vs ) * sigma(x1) + el_link * ( x1 - x2 )\n",
    "    du5 = c - d * x2 ^2 - y2\n",
    "    du6 = r * ( s * ( x2 - xr ) - z2 )\n",
    "    return SVector(du1, du2, du3,\n",
    "                    du4, du5, du6)\n",
    "end"
   ]
  },
  {
   "cell_type": "code",
   "execution_count": 3,
   "id": "32e39460",
   "metadata": {},
   "outputs": [
    {
     "data": {
      "text/plain": [
       "CALCPDF (generic function with 1 method)"
      ]
     },
     "execution_count": 3,
     "metadata": {},
     "output_type": "execute_result"
    }
   ],
   "source": [
    "function CALCPDF(spikes)\n",
    "    ϵ = 0.9\n",
    "    ee_counter = [sum(i->s<=i<s+ϵ, spikes) for s in range(0,4,5000000)]\n",
    "    pdf = ee_counter ./ length(spikes)\n",
    "    return range(0,4,5000000), pdf\n",
    "end"
   ]
  },
  {
   "cell_type": "code",
   "execution_count": 8,
   "id": "6a05b0b3",
   "metadata": {},
   "outputs": [
    {
     "data": {
      "text/plain": [
       "(0.0, 300000.0)"
      ]
     },
     "execution_count": 8,
     "metadata": {},
     "output_type": "execute_result"
    }
   ],
   "source": [
    "a = 1.0; b = 3.0; c = 1.0; d = 5.0\n",
    "xr = -1.6; r = 0.01; s = 5.0; I = 4.0; xv = 2.0\n",
    "k1= -0.17; k2 = -0.17\n",
    "k = 0.0\n",
    "tspan = (0.0, 300000.0)"
   ]
  },
  {
   "cell_type": "code",
   "execution_count": 25,
   "id": "3f727356",
   "metadata": {},
   "outputs": [
    {
     "data": {
      "text/plain": [
       "13"
      ]
     },
     "execution_count": 25,
     "metadata": {},
     "output_type": "execute_result"
    }
   ],
   "source": [
    "k_space = range(0.0, -0.5, step = -0.04)\n",
    "length(k_space)"
   ]
  },
  {
   "cell_type": "code",
   "execution_count": 26,
   "id": "54db4ae1-d1f2-451f-87e8-b072f0631944",
   "metadata": {},
   "outputs": [
    {
     "data": {
      "text/plain": [
       "int (generic function with 1 method)"
      ]
     },
     "execution_count": 26,
     "metadata": {},
     "output_type": "execute_result"
    }
   ],
   "source": [
    "spectrum_array = zeros(6, length(k_space))\n",
    "condition_array = zeros(6, length(k_space))\n",
    "\n",
    "EVA_array = zeros(length(k_space))\n",
    "\n",
    "int(x) = floor(Int, x)"
   ]
  },
  {
   "cell_type": "code",
   "execution_count": 27,
   "id": "3989873a-fd9a-4a17-93e7-db0f83b52599",
   "metadata": {},
   "outputs": [
    {
     "data": {
      "text/plain": [
       "12-element SVector{12, Float64} with indices SOneTo(12):\n",
       "  1.0\n",
       "  3.0\n",
       "  1.0\n",
       "  5.0\n",
       "  5.0\n",
       " -1.6\n",
       "  0.01\n",
       "  4.0\n",
       "  2.0\n",
       " -0.17\n",
       " -0.17\n",
       "  0.0"
      ]
     },
     "execution_count": 27,
     "metadata": {},
     "output_type": "execute_result"
    }
   ],
   "source": [
    "p = SA[a, b, c, d,\n",
    "        s, xr, r, I, xv, k1, k2, 0.0]"
   ]
  },
  {
   "cell_type": "code",
   "execution_count": 28,
   "id": "28a61dcb",
   "metadata": {
    "jupyter": {
     "outputs_hidden": true
    },
    "scrolled": true,
    "tags": []
   },
   "outputs": [
    {
     "name": "stdout",
     "output_type": "stream",
     "text": [
      "Initial condition: [-0.1, -0.1, -0.1, -0.1, -0.1, -0.1]\n",
      "index: 1\n",
      "k: 0.0\n",
      "p: [1.0, 3.0, 1.0, 5.0, 5.0, -1.6, 0.01, 4.0, 2.0, 0.0, 0.0, 0.0]\n",
      "Spectrum: [0.00014660322154511974, 0.00014660322154522252, -0.014952044690841474, -0.014952044690842423, -8.722418242098126, -8.722418242098126]\n",
      "Last point: [-1.06443064005911, -4.474097515896169, 4.149001594303559, -1.06443064005911, -4.474097515896169, 4.149001594303559]\n",
      "x_sum before truncate length: 3000001\n",
      "x_sum after truncate length: 1500002\n",
      ">>>>>>>>>>>>>>>\n",
      "\n",
      "Initial condition: [-1.06443064005911, -4.474097515896169, 4.149001594303559, -1.06443064005911, -4.474097515896169, 4.149001594303559]\n",
      "index: 2\n",
      "k: -0.04\n",
      "p: [1.0, 3.0, 1.0, 5.0, 5.0, -1.6, 0.01, 4.0, 2.0, -0.04, -0.04, 0.0]\n",
      "Spectrum: [0.010790462053719236, 0.010695616756398437, -6.635549268900504e-5, -0.01384026313693175, -8.76629368520977, -8.772621916395364]\n",
      "Last point: [-1.2163441546313958, -6.503042344207349, 3.724621821296314, -1.2163441546313958, -6.503042344207349, 3.724621821296314]\n",
      "x_sum before truncate length: 3000001\n",
      "x_sum after truncate length: 1500002\n",
      ">>>>>>>>>>>>>>>\n",
      "\n",
      "Initial condition: [-1.2163441546313958, -6.503042344207349, 3.724621821296314, -1.2163441546313958, -6.503042344207349, 3.724621821296314]\n",
      "index: 3\n",
      "k: -0.08\n",
      "p: [1.0, 3.0, 1.0, 5.0, 5.0, -1.6, 0.01, 4.0, 2.0, -0.08, -0.08, 0.0]\n",
      "Spectrum: [0.0380782827362075, 0.01596194410799332, -3.903179173683308e-5, -0.005406541829906468, -8.804209835467685, -8.805546871153588]\n",
      "Last point: [-0.9498458871961992, -3.7181833215043487, 3.820386791509179, -0.9498458871961992, -3.7181833215043487, 3.820386791509179]\n",
      "x_sum before truncate length: 3000001\n",
      "x_sum after truncate length: 1500002\n",
      ">>>>>>>>>>>>>>>\n",
      "\n",
      "Initial condition: [-0.9498458871961992, -3.7181833215043487, 3.820386791509179, -0.9498458871961992, -3.7181833215043487, 3.820386791509179]\n",
      "index: 4\n",
      "k: -0.12\n",
      "p: [1.0, 3.0, 1.0, 5.0, 5.0, -1.6, 0.01, 4.0, 2.0, -0.12, -0.12, 0.0]\n",
      "Spectrum: [0.06509270581542483, 0.017312194447616967, 1.4280630458752758e-5, -0.0016773737441816176, -8.827409127578322, -8.838734848483039]\n",
      "Last point: [-1.2747155986754906, -7.144957858660769, 3.797776470625381, -1.2747155986754906, -7.144957858660769, 3.797776470625381]\n",
      "x_sum before truncate length: 3000001\n",
      "x_sum after truncate length: 1500002\n",
      ">>>>>>>>>>>>>>>\n",
      "\n",
      "Initial condition: [-1.2747155986754906, -7.144957858660769, 3.797776470625381, -1.2747155986754906, -7.144957858660769, 3.797776470625381]\n",
      "index: 5\n",
      "k: -0.16\n",
      "p: [1.0, 3.0, 1.0, 5.0, 5.0, -1.6, 0.01, 4.0, 2.0, -0.16, -0.16, 0.0]\n",
      "Spectrum: [0.09136581936410676, 0.0152801557499, -1.8005276655353362e-5, -0.00177181859128585, -8.81491107642717, -8.839187188079574]\n",
      "Last point: [-1.3027838459078247, -7.5619178735069745, 3.733476088037096, -1.3027838459078247, -7.5619178735069745, 3.733476088037096]\n",
      "x_sum before truncate length: 3000001\n",
      "x_sum after truncate length: 1500002\n",
      ">>>>>>>>>>>>>>>\n",
      "\n",
      "Initial condition: [-1.3027838459078247, -7.5619178735069745, 3.733476088037096, -1.3027838459078247, -7.5619178735069745, 3.733476088037096]\n",
      "index: 6\n",
      "k: -0.2\n",
      "p: [1.0, 3.0, 1.0, 5.0, 5.0, -1.6, 0.01, 4.0, 2.0, -0.2, -0.2, 0.0]\n",
      "Spectrum: [0.11697877420495836, 0.014289645916679595, 6.618706044877524e-5, -0.0003399456229228026, -8.751013837359986, -8.789906256783704]\n",
      "Last point: [-0.9197150654095704, -3.429078307426044, 3.8609722130427877, -0.9197150654095704, -3.429078307426044, 3.8609722130427877]\n",
      "x_sum before truncate length: 3000001\n",
      "x_sum after truncate length: 1500002\n",
      ">>>>>>>>>>>>>>>\n",
      "\n",
      "Initial condition: [-0.9197150654095704, -3.429078307426044, 3.8609722130427877, -0.9197150654095704, -3.429078307426044, 3.8609722130427877]\n",
      "index: 7\n",
      "k: -0.24\n",
      "p: [1.0, 3.0, 1.0, 5.0, 5.0, -1.6, 0.01, 4.0, 2.0, -0.24, -0.24, 0.0]\n",
      "Spectrum: [0.13997869549495953, 0.015378935563626918, 0.008351610650891399, 3.9303350288883104e-6, -8.655218660586462, -8.717747061136299]\n",
      "Last point: [-0.1379270800487078, 0.5684490093436502, 4.0876051729086855, -0.1379270800487078, 0.5684490093436502, 4.0876051729086855]\n",
      "x_sum before truncate length: 3000001\n",
      "x_sum after truncate length: 1500002\n",
      ">>>>>>>>>>>>>>>\n",
      "\n",
      "Initial condition: [-0.1379270800487078, 0.5684490093436502, 4.0876051729086855, -0.1379270800487078, 0.5684490093436502, 4.0876051729086855]\n",
      "index: 8\n",
      "k: -0.28\n",
      "p: [1.0, 3.0, 1.0, 5.0, 5.0, -1.6, 0.01, 4.0, 2.0, -0.28, -0.28, 0.0]\n",
      "Spectrum: [0.2605266079938645, -1.88744021346875e-5, -0.008629083024676664, -0.016143335763398672, -8.716983257764761, -9.023163379589775]\n",
      "Last point: [0.1865304342984778, 0.8196336111006824, 3.980487062450098, 0.1865304342984778, 0.8196336111006824, 3.980487062450098]\n",
      "x_sum before truncate length: 3000001\n",
      "x_sum after truncate length: 1500002\n",
      ">>>>>>>>>>>>>>>\n",
      "\n",
      "Initial condition: [0.1865304342984778, 0.8196336111006824, 3.980487062450098, 0.1865304342984778, 0.8196336111006824, 3.980487062450098]\n",
      "index: 9\n",
      "k: -0.32\n",
      "p: [1.0, 3.0, 1.0, 5.0, 5.0, -1.6, 0.01, 4.0, 2.0, -0.32, -0.32, 0.0]\n",
      "Spectrum: [0.33372634403820295, 6.508229185897157e-7, -0.005871656768067993, -0.03295974554971403, -8.59547313560883, -9.019265012091298]\n",
      "Last point: [-0.9762366539019252, -4.229661802454685, 3.5848792151653908, -0.9762366539019252, -4.229661802454685, 3.5848792151653908]\n",
      "x_sum before truncate length: 3000001\n",
      "x_sum after truncate length: 1500002\n",
      ">>>>>>>>>>>>>>>\n",
      "\n",
      "Initial condition: [-0.9762366539019252, -4.229661802454685, 3.5848792151653908, -0.9762366539019252, -4.229661802454685, 3.5848792151653908]\n",
      "index: 10\n",
      "k: -0.36\n",
      "p: [1.0, 3.0, 1.0, 5.0, 5.0, -1.6, 0.01, 4.0, 2.0, -0.36, -0.36, 0.0]\n",
      "Spectrum: [0.37216463740661637, 7.159475165507319e-5, -0.00997192591028694, -0.03507177762394471, -8.587224223084574, -9.137598747371559]\n",
      "Last point: [-1.4496304829726707, -9.800645566249887, 3.5286049289245915, -1.4496304829726707, -9.800645566249887, 3.5286049289245915]\n",
      "x_sum before truncate length: 3000001\n",
      "x_sum after truncate length: 1500002\n",
      ">>>>>>>>>>>>>>>\n",
      "\n",
      "Initial condition: [-1.4496304829726707, -9.800645566249887, 3.5286049289245915, -1.4496304829726707, -9.800645566249887, 3.5286049289245915]\n",
      "index: 11\n",
      "k: -0.4\n",
      "p: [1.0, 3.0, 1.0, 5.0, 5.0, -1.6, 0.01, 4.0, 2.0, -0.4, -0.4, 0.0]\n",
      "Spectrum: [0.41896144436875726, -6.761850283736592e-5, -0.017337858391896593, -0.03193960070080344, -8.649452477885157, -9.221669781199873]\n",
      "Last point: [-0.3939545823842666, -0.7602193412513996, 3.3587354135339758, -0.3939545823842666, -0.7602193412513996, 3.3587354135339758]\n",
      "x_sum before truncate length: 3000001\n",
      "x_sum after truncate length: 1500002\n",
      ">>>>>>>>>>>>>>>\n",
      "\n",
      "Initial condition: [-0.3939545823842666, -0.7602193412513996, 3.3587354135339758, -0.3939545823842666, -0.7602193412513996, 3.3587354135339758]\n",
      "index: 12\n",
      "k: -0.44\n",
      "p: [1.0, 3.0, 1.0, 5.0, 5.0, -1.6, 0.01, 4.0, 2.0, -0.44, -0.44, 0.0]\n",
      "Spectrum: [0.5085107563042666, -8.154412389363398e-5, -0.008820509220224015, -0.062069579724253865, -8.521439207649756, -9.210626312911778]\n",
      "Last point: [-0.721976214883956, -2.464989179726603, 3.3301097992965047, -0.721976214883956, -2.464989179726603, 3.3301097992965047]\n",
      "x_sum before truncate length: 3000001\n",
      "x_sum after truncate length: 1500002\n",
      ">>>>>>>>>>>>>>>\n",
      "\n",
      "Initial condition: [-0.721976214883956, -2.464989179726603, 3.3301097992965047, -0.721976214883956, -2.464989179726603, 3.3301097992965047]\n",
      "index: 13\n",
      "k: -0.48\n",
      "p: [1.0, 3.0, 1.0, 5.0, 5.0, -1.6, 0.01, 4.0, 2.0, -0.48, -0.48, 0.0]\n",
      "Spectrum: [0.5724701578896193, 9.526657153857303e-7, -0.01016271652155934, -0.06594437835269067, -8.437765355159582, -9.279435054502153]\n",
      "Last point: [-1.5883614548699108, -11.63216772632329, 3.940576537771504, -1.5883614548699108, -11.63216772632329, 3.940576537771504]\n",
      "x_sum before truncate length: 3000001\n",
      "x_sum after truncate length: 1500002\n",
      ">>>>>>>>>>>>>>>\n",
      "\n"
     ]
    }
   ],
   "source": [
    "for (i, k) in enumerate(k_space)\n",
    "    \n",
    "    if i == 1\n",
    "        global u0 =  SA[-0.1, -0.1, -0.1, -0.1, -0.1, -0.1]\n",
    "    end\n",
    "    \n",
    "    println(\"Initial condition: $u0\"); flush(stdout)\n",
    "    println(\"index: $i\");flush(stdout)\n",
    "    println(\"k: $k\"); flush(stdout)\n",
    "    \n",
    "    condition_array[:, i] = u0\n",
    "    \n",
    "    p = SA[a, b, c, d,\n",
    "        s, xr, r, I, xv, k, k, 0]\n",
    "    println(\"p: $p\");flush(stdout)\n",
    "    prob = ODEProblem(HR, u0, tspan, p)\n",
    "    sol = solve(prob, Vern9(), adaptive = false, dt = 0.1,  abstol = 1e-14, reltol = 1e-14, maxiters = 50000000);\n",
    "   \n",
    "    ds_HR = ContinuousDynamicalSystem(HR, u0, p )\n",
    "    spectrum = lyapunovspectrum(ds_HR, tspan[2];\n",
    "                                        Ttr = tspan[2] / 2, Δt = 0.1,\n",
    "                                        diffeq = (alg = Vern9(), abstol = 1e-14, reltol = 1e-14, maxiters = 50000000 ))\n",
    "    \n",
    "    spectrum_array[1:6, i] = spectrum[1:6]\n",
    "    println(\"Spectrum: \", spectrum_array[1:6, i]); flush(stdout)\n",
    "    \n",
    "    u0 = sol[end]\n",
    "    \n",
    "    println(\"Last point: \", u0); flush(stdout)\n",
    "    \n",
    "    xsum = sol[1,:] + sol[4,:]\n",
    "    println(\"x_sum before truncate length: \", length(xsum)); flush(stdout)\n",
    "    xsum = xsum[floor(Int, length(xsum) / 2):end ]\n",
    "    println(\"x_sum after truncate length: \", length(xsum)); flush(stdout)\n",
    "    \n",
    "    \"\"\"Hs = Statistics.mean(xsum) + 6 * Statistics.std(xsum)\n",
    "    counts = xsum[xsum.>=Hs]\n",
    "    counts = length(counts)\n",
    "    EVA_array[i]  = counts\n",
    "    \n",
    "    println(\"counts: \", counts)\"\"\"\n",
    "    \n",
    "    println(\">>>>>>>>>>>>>>>\")\n",
    "    println(\"\")\n",
    "end"
   ]
  },
  {
   "cell_type": "code",
   "execution_count": 29,
   "id": "7f1dc136-127a-461d-866a-9203ef928da7",
   "metadata": {},
   "outputs": [],
   "source": [
    "using CairoMakie"
   ]
  },
  {
   "cell_type": "code",
   "execution_count": 30,
   "id": "01ea872c",
   "metadata": {},
   "outputs": [],
   "source": [
    "CairoMakie.activate!()"
   ]
  },
  {
   "cell_type": "code",
   "execution_count": 31,
   "id": "07643726",
   "metadata": {},
   "outputs": [],
   "source": [
    "using JLD"
   ]
  },
  {
   "cell_type": "code",
   "execution_count": 123,
   "id": "9d28ebf1",
   "metadata": {},
   "outputs": [],
   "source": [
    "# save(\"spectrum_k1_k2_L2.jld\", \"data\", spectrum_array)"
   ]
  },
  {
   "cell_type": "code",
   "execution_count": 33,
   "id": "9a3bea69",
   "metadata": {},
   "outputs": [
    {
     "data": {
      "image/png": "[encoded data removed]",
      "text/plain": [
       "Figure()"
      ]
     },
     "execution_count": 33,
     "metadata": {},
     "output_type": "execute_result"
    }
   ],
   "source": [
    "# L2\n",
    "\n",
    "f = Figure(resolution = (1600, 700), fontsize = 20)\n",
    "ax = Axis(f[1, 1], xlabel = L\"k_{1, 2}\", ylabel = L\"\\lambda_{1, 2, 3}\",\n",
    "xlabelsize = 60, ylabelsize = 60,\n",
    "                xticklabelsize = 45, yticklabelsize = 45  )\n",
    "\n",
    "lines!(ax, k_space, spectrum_array[1, :], linewidth = 3.0, color = \"red\")\n",
    "lines!(ax, k_space, spectrum_array[2, :], linewidth = 3.0, color = \"green\")\n",
    "lines!(ax, k_space, spectrum_array[3, :], linewidth = 3.0, color = \"blue\")\n",
    "lines!(ax, k_space, spectrum_array[4, :], linewidth = 3.0, color = \"lime\")\n",
    "\n",
    "# save(\"LE_orbit_full.eps\", f)\n",
    "f"
   ]
  },
  {
   "cell_type": "code",
   "execution_count": null,
   "id": "5f5c7827",
   "metadata": {},
   "outputs": [],
   "source": []
  }
 ],
 "metadata": {
  "kernelspec": {
   "display_name": "Julia 1.8.1",
   "language": "julia",
   "name": "julia-1.8"
  },
  "language_info": {
   "file_extension": ".jl",
   "mimetype": "application/julia",
   "name": "julia",
   "version": "1.8.1"
  }
 },
 "nbformat": 4,
 "nbformat_minor": 5
}
