{
 "cells": [
  {
   "cell_type": "code",
   "execution_count": 1,
   "id": "49d27d2c",
   "metadata": {},
   "outputs": [],
   "source": [
    "using DynamicalSystems\n",
    "using DifferentialEquations\n",
    "using OrdinaryDiffEq\n",
    "\n",
    "using PyPlot\n",
    "using StaticArrays"
   ]
  },
  {
   "cell_type": "code",
   "execution_count": 2,
   "id": "a24788ed",
   "metadata": {},
   "outputs": [],
   "source": [
    "using JLD"
   ]
  },
  {
   "cell_type": "code",
   "execution_count": 3,
   "id": "040f0f02",
   "metadata": {},
   "outputs": [
    {
     "data": {
      "text/plain": [
       "\"C:\\\\Users\\\\olenin.s\\\\Desktop\\\\dynamical-systems\\\\Hindmarrh Rose\\\\probablity density function\\\\result\\\\HR_small_saved\\\\condition_HR_array.jld\""
      ]
     },
     "execution_count": 3,
     "metadata": {},
     "output_type": "execute_result"
    }
   ],
   "source": [
    "dir_spec = \"C:\\\\Users\\\\olenin.s\\\\Desktop\\\\dynamical-systems\\\\Hindmarrh Rose\\\\probablity density function\\\\result\\\\HR_small_saved\\\\spectrum_HR_array.jld\"\n",
    "dir_cond = \"C:\\\\Users\\\\olenin.s\\\\Desktop\\\\dynamical-systems\\\\Hindmarrh Rose\\\\probablity density function\\\\result\\\\HR_small_saved\\\\condition_HR_array.jld\""
   ]
  },
  {
   "cell_type": "code",
   "execution_count": 4,
   "id": "e52abaf1",
   "metadata": {},
   "outputs": [
    {
     "data": {
      "text/plain": [
       "6×1001 Matrix{Float64}:\n",
       " -1.5  -1.40416   -1.05529   -0.898304  …  -1.16079  -0.952531  -0.798957\n",
       "  0.0  -8.91851   -4.76027   -3.39811      -6.02688  -3.80106   -2.60755\n",
       "  0.0   3.75836    3.73025    3.7013        3.55218   3.84761    3.75601\n",
       " -2.5  -0.940059  -0.698735  -1.20362      -1.16079  -0.952531  -0.798957\n",
       "  0.0  -3.37097   -1.90282   -6.09311      -6.02688  -3.80106   -2.60755\n",
       "  0.0   4.117      3.82588    4.00787   …   3.55218   3.84761    3.75601"
      ]
     },
     "execution_count": 4,
     "metadata": {},
     "output_type": "execute_result"
    }
   ],
   "source": [
    "spectrum_array = load(dir_spec)[\"data\"]\n",
    "condition_HR_array = load(dir_cond)[\"data\"]"
   ]
  },
  {
   "cell_type": "code",
   "execution_count": 5,
   "id": "e9a87a4c",
   "metadata": {},
   "outputs": [
    {
     "data": {
      "text/plain": [
       "HR (generic function with 1 method)"
      ]
     },
     "execution_count": 5,
     "metadata": {},
     "output_type": "execute_result"
    }
   ],
   "source": [
    "function sigma(x)\n",
    "    return @fastmath 1.0 / ( 1.0 + exp( -10.0 * ( x  - ( - 0.25 ) ) ) )\n",
    "end\n",
    "\n",
    "function HR(u, p, t)\n",
    "        \n",
    "    a, b, c, d, s, xr, r,  I, vs, k1, k2, el_link  = p\n",
    "    x1, y1, z1, x2, y2, z2 = u\n",
    "    \n",
    "    du1 = y1 + b * x1 ^ 2 - a * x1 ^3 - z1 + I - k1 * ( x1 - vs ) * sigma(x2) + el_link * ( x2 - x1 )\n",
    "    du2 = c - d * x1 ^2 - y1\n",
    "    du3 = r * ( s * ( x1 - xr ) - z1 )\n",
    "    \n",
    "    du4 = y2 + b * x2 ^ 2 - a * x2 ^3 - z2 + I - k2 * ( x2 - vs ) * sigma(x1) + el_link * ( x1 - x2 )\n",
    "    du5 = c - d * x2 ^2 - y2\n",
    "    du6 = r * ( s * ( x2 - xr ) - z2 )\n",
    "    return SVector(du1, du2, du3,\n",
    "                    du4, du5, du6)\n",
    "end"
   ]
  },
  {
   "cell_type": "code",
   "execution_count": 6,
   "id": "08a33174",
   "metadata": {},
   "outputs": [
    {
     "data": {
      "text/plain": [
       "6-element Vector{Float64}:\n",
       " -0.6925302979542225\n",
       " -2.2083565485726155\n",
       "  3.4251812063410423\n",
       " -0.49710798909310244\n",
       " -0.24112901660181446\n",
       "  4.585643148476261"
      ]
     },
     "execution_count": 6,
     "metadata": {},
     "output_type": "execute_result"
    }
   ],
   "source": [
    "condition = condition_HR_array[:, 156] # k = 0.155\n",
    "condition"
   ]
  },
  {
   "cell_type": "code",
   "execution_count": 7,
   "id": "e34e5a21",
   "metadata": {},
   "outputs": [
    {
     "data": {
      "text/plain": [
       "6-element SArray{Tuple{6}, Float64, 1, 6} with indices SOneTo(6):\n",
       " -0.6925302979542225\n",
       " -2.2083565485726155\n",
       "  3.4251812063410423\n",
       " -0.49710798909310244\n",
       " -0.24112901660181446\n",
       "  4.585643148476261"
      ]
     },
     "execution_count": 7,
     "metadata": {},
     "output_type": "execute_result"
    }
   ],
   "source": [
    "condition = SA[-0.6925302979542225,\n",
    " -2.2083565485726155,\n",
    "  3.4251812063410423,\n",
    " -0.49710798909310244,\n",
    " -0.24112901660181446,\n",
    "  4.585643148476261]"
   ]
  },
  {
   "cell_type": "code",
   "execution_count": 8,
   "id": "1fea8443",
   "metadata": {},
   "outputs": [
    {
     "data": {
      "text/plain": [
       "12-element SArray{Tuple{12}, Float64, 1, 12} with indices SOneTo(12):\n",
       "  1.0\n",
       "  3.0\n",
       "  1.0\n",
       "  5.0\n",
       "  5.0\n",
       " -1.6\n",
       "  0.01\n",
       "  4.0\n",
       "  2.0\n",
       " -0.17\n",
       " -0.17\n",
       "  0.155"
      ]
     },
     "execution_count": 8,
     "metadata": {},
     "output_type": "execute_result"
    }
   ],
   "source": [
    "tspan = (0.0, 500000.0)\n",
    "\n",
    "a = 1.\n",
    "b = 3.\n",
    "c = 1.\n",
    "d = 5.\n",
    "xr = -1.6\n",
    "r = 0.01 # 0.01\n",
    "s = 5.\n",
    "I = 4.\n",
    "xv = 2.\n",
    "\n",
    "k1= -0.17\n",
    "k2 = k1\n",
    "k = 0.155\n",
    "\n",
    "p = SA[a, b, c, d, s, xr, r, I, xv, k1, k2, k]"
   ]
  },
  {
   "cell_type": "code",
   "execution_count": 43,
   "id": "87edc143",
   "metadata": {},
   "outputs": [
    {
     "data": {
      "text/plain": [
       "21"
      ]
     },
     "execution_count": 43,
     "metadata": {},
     "output_type": "execute_result"
    }
   ],
   "source": [
    "k_space = range(0.155, 0.1552, step = 0.00001)\n",
    "\n",
    "\n",
    "\n",
    "\n",
    "spectrum_array = zeros(6, length(k_space))\n",
    "condition_array = zeros(6, length(k_space))\n",
    "\n",
    "int(x) = floor(Int, x)\n",
    "length(k_space)"
   ]
  },
  {
   "cell_type": "code",
   "execution_count": null,
   "id": "c7f23d78",
   "metadata": {},
   "outputs": [
    {
     "name": "stdout",
     "output_type": "stream",
     "text": [
      "Initial condition: [-0.6925302979542225, -2.2083565485726155, 3.4251812063410423, -0.49710798909310244, -0.24112901660181446, 4.585643148476261]\n",
      "k: 0.155\n"
     ]
    }
   ],
   "source": [
    "for (i, k) in enumerate(k_space)\n",
    "    if i == 1\n",
    "        global initialcondition =  condition\n",
    "    end\n",
    "    println(\"Initial condition: $initialcondition\"); flush(stdout)\n",
    "    println(\"k: $k\"); flush(stdout)\n",
    "    \n",
    "    condition_array[:, i] = initialcondition\n",
    "    \n",
    "    p = SA[a, b, c, d,\n",
    "        s, xr, r, I, xv, k1, k2, k]\n",
    "    \n",
    "    prob = ODEProblem(HR, initialcondition, tspan, p)\n",
    "    sol = solve(prob, Vern9(), abstol = 1e-14, reltol = 1e-14, dense=false, maxiters = 30000000)\n",
    "    println(\"solve complete\"); flush(stdout)\n",
    "    ds_HR = ContinuousDynamicalSystem(HR, initialcondition, p )\n",
    "    spectrum = lyapunovspectrum(ds_HR, tspan[2]; diffeq = (alg = Vern9(),\n",
    "                                                            abstol = 1e-14, reltol = 1e-14,\n",
    "                                                            maxiters = 30000000\n",
    "                                                            ))\n",
    "    spectrum_array[1:6, i] = spectrum[1:6]\n",
    "    \n",
    "    println(\"Spectrum: \", spectrum_array[1:6, i]); flush(stdout)\n",
    "    \n",
    "    initialcondition = sol[length(sol.u)]\n",
    "    println(\">>>>>>>>>>>>>\")\n",
    "    println(\"\")\n",
    "end"
   ]
  },
  {
   "cell_type": "code",
   "execution_count": null,
   "id": "780d0840",
   "metadata": {},
   "outputs": [],
   "source": [
    "fig, ax = subplots(figsize = (40, 10))\n",
    "\n",
    "\n",
    "ax.scatter(k_space, spectrum_array[1, :], color = \"red\")\n",
    "ax.scatter(k_space, spectrum_array[2, :], color = \"green\")\n",
    "ax.scatter(k_space, spectrum_array[3, :], color = \"blue\")\n",
    "\n",
    "\n",
    "\n",
    "ax.axhline(0, color = \"black\")\n",
    "ax.tick_params(labelsize = 25)"
   ]
  },
  {
   "cell_type": "code",
   "execution_count": null,
   "id": "08c88484",
   "metadata": {},
   "outputs": [],
   "source": []
  }
 ],
 "metadata": {
  "kernelspec": {
   "display_name": "Julia 1.7.2",
   "language": "julia",
   "name": "julia-1.7"
  },
  "language_info": {
   "file_extension": ".jl",
   "mimetype": "application/julia",
   "name": "julia",
   "version": "1.7.2"
  }
 },
 "nbformat": 4,
 "nbformat_minor": 5
}
