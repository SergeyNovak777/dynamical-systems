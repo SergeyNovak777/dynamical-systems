{
 "cells": [
  {
   "cell_type": "code",
   "execution_count": null,
   "id": "1df7d372",
   "metadata": {},
   "outputs": [],
   "source": [
    "using DynamicalSystems, CairoMakie,  DifferentialEquations, OrdinaryDiffEq"
   ]
  },
  {
   "cell_type": "code",
   "execution_count": null,
   "id": "e3a29ebb",
   "metadata": {},
   "outputs": [],
   "source": [
    "using StaticArrays"
   ]
  },
  {
   "cell_type": "code",
   "execution_count": null,
   "id": "2254b79d",
   "metadata": {},
   "outputs": [],
   "source": [
    "function sigma(x)\n",
    "    return @fastmath 1.0 / ( 1.0 + exp( -10.0 * ( x  - ( - 0.25 ) ) ) )\n",
    "end\n",
    "\n",
    "function HR(u, p, t)\n",
    "        \n",
    "    a, b, c, d, s, xr, r,  I, vs, k1, k2, el_link  = p\n",
    "    x1, y1, z1, x2, y2, z2 = u\n",
    "    \n",
    "    du1 = y1 + b * x1 ^ 2 - a * x1 ^3 - z1 + I - k1 * ( x1 - vs ) * sigma(x2) + el_link * ( x2 - x1 )\n",
    "    du2 = c - d * x1 ^2 - y1\n",
    "    du3 = r * ( s * ( x1 - xr ) - z1 )\n",
    "    \n",
    "    du4 = y2 + b * x2 ^ 2 - a * x2 ^3 - z2 + I - k2 * ( x2 - vs ) * sigma(x1) + el_link * ( x1 - x2 )\n",
    "    du5 = c - d * x2 ^2 - y2\n",
    "    du6 = r * ( s * ( x2 - xr ) - z2 )\n",
    "    return SVector(du1, du2, du3,\n",
    "                    du4, du5, du6)\n",
    "end"
   ]
  },
  {
   "cell_type": "code",
   "execution_count": null,
   "id": "9df05158",
   "metadata": {},
   "outputs": [],
   "source": [
    "a = 1.; b = 3.; c = 1.; d = 5.;\n",
    "xr = -1.6; r = 0.01; s = 5.; I = 4.; xv = 2.;\n",
    "k1= -0.17; k2 = -0.17;\n",
    "k = 1.0\n",
    "# condition = SA[-1.5, 0.0, 0.0, -2.5, 0.0, 0.0]\n",
    "condition = SA[-0.5, -0.5, -0.5, -0.5, 0-0.5, -0.5]\n",
    "\n",
    "p = SA[a, b, c, d,\n",
    "        s, xr, r, I, xv, k1, k2, k]"
   ]
  },
  {
   "cell_type": "code",
   "execution_count": null,
   "id": "306ba22e",
   "metadata": {},
   "outputs": [],
   "source": [
    "p = [a, b, c, d, s, xr, r, I, xv, k1, k2, k]\n",
    "ds_HR = ContinuousDynamicalSystem(HR,  condition, p )"
   ]
  },
  {
   "cell_type": "code",
   "execution_count": null,
   "id": "3e8a8fc9",
   "metadata": {},
   "outputs": [],
   "source": [
    "data = trajectory(ds_HR, 100000.0;\n",
    "                              diffeq = (alg = AutoVern9(Rodas5()), abstol = 1e-11, reltol = 1e-11,  maxiters = 10000000))"
   ]
  },
  {
   "cell_type": "code",
   "execution_count": null,
   "id": "20f577ba",
   "metadata": {},
   "outputs": [],
   "source": [
    "xyz = columns(data)"
   ]
  }
 ],
 "metadata": {
  "kernelspec": {
   "display_name": "Julia 1.7.2",
   "language": "julia",
   "name": "julia-1.7"
  },
  "language_info": {
   "file_extension": ".jl",
   "mimetype": "application/julia",
   "name": "julia",
   "version": "1.7.2"
  }
 },
 "nbformat": 4,
 "nbformat_minor": 5
}
