{
 "cells": [
  {
   "cell_type": "code",
   "execution_count": null,
   "id": "be73b66a",
   "metadata": {},
   "outputs": [],
   "source": [
    "function hindmarshrose(u0=[-1.0, 0.0, 0.0]; a=1, b=3, c=1, d=5, r=0.001, s=4, xr=-8/5, I=2.0)\n",
    "    return CDS(hindmarshrose_rule, u0, [a,b,c,d,r,s,xr, I], hindmarshrose_jac)\n",
    "end\n",
    "function hindmarshrose_rule(u, p, t)\n",
    "    @inbounds begin\n",
    "        a,b,c,d,r,s, xr, I = p\n",
    "        du1 = u[2] - a*u[1]^3 + b*u[1]^2 -u[3] + I\n",
    "        du2 = c - d*u[1]^2 - u[2]\n",
    "        du3 = r*(s*(u[1] - xr) - u[3])\n",
    "        return SVector{3}(du1, du2, du3)\n",
    "    end\n",
    "end\n",
    "function hindmarshrose_jac(u, p, t)\n",
    "    @inbounds begin\n",
    "        a,b,c,d,r,s, xr, I = p\n",
    "        J = @SMatrix [(-3*a*u[1]^2 + 2*b*u[1]) 1 -1;\n",
    "        -2*d*u[1] -1 0;\n",
    "        r*s 0 -r]\n",
    "        return J\n",
    "    end\n",
    "end"
   ]
  },
  {
   "cell_type": "code",
   "execution_count": null,
   "id": "f328cbdc",
   "metadata": {},
   "outputs": [],
   "source": [
    "function hindmarshrose_two_coupled( u0 = SA[0.1, 0.2, 0.3, 0.4, 0.5, 0.6];\n",
    "                                    a = 1.0, b = 3.0, c = 1.0, d = 5.0,\n",
    "                                    xr = -1.6, r = 0.01, s = 5.0, I = 4.0, xv = 2.0,\n",
    "                                    g1_ch = -0.17, g2_ch = -0.17, g_el = 0.0)\n",
    "    \n",
    "    return CDS( hindmarshrose_two_coupled_rule(u0,\n",
    "                SA[a, b, c, d, s, xr, r, I, xv, g1_ch, g2_ch, g_el],\n",
    "                hindmarshrose_two_coupled_jac )\n",
    "end"
   ]
  },
  {
   "cell_type": "code",
   "execution_count": null,
   "id": "1761f4a1",
   "metadata": {},
   "outputs": [],
   "source": [
    "function sigma(x)\n",
    "    return @fastmath 1.0 / ( 1.0 + exp( -10.0 * ( x  - ( - 0.25 ) ) ) )\n",
    "end\n",
    "\n",
    "function hindmarshrose_two_coupled_rule(u, p, t)\n",
    "        \n",
    "    a, b, c, d, s, xr, r,  I, vs, g1_ch, g2_ch, g_el  = p\n",
    "    x1, y1, z1, x2, y2, z2 = u\n",
    "    \n",
    "    du1 = y1 + b * x1 ^ 2 - a * x1 ^3 - z1 + I - g1_ch * ( x1 - vs ) * sigma(x2) + g_el * ( x2 - x1 )\n",
    "    du2 = c - d * x1 ^2 - y1\n",
    "    du3 = r * ( s * ( x1 - xr ) - z1 )\n",
    "    \n",
    "    du4 = y2 + b * x2 ^ 2 - a * x2 ^3 - z2 + I - g2_ch * ( x2 - vs ) * sigma(x1) + g_el * ( x1 - x2 )\n",
    "    du5 = c - d * x2 ^2 - y2\n",
    "    du6 = r * ( s * ( x2 - xr ) - z2 )\n",
    "    \n",
    "    return SVector(du1, du2, du3,\n",
    "                    du4, du5, du6)\n",
    "end"
   ]
  },
  {
   "cell_type": "code",
   "execution_count": null,
   "id": "10c1aa34",
   "metadata": {},
   "outputs": [],
   "source": [
    "function hindmarshrose_jac(u, p, t)\n",
    "\n",
    "        a, b, c, d, s, xr, r,  I, vs, g1_ch, g2_ch, g_el  = p\n",
    "        x1, y1, z1, x2, y2, z2 = u\n",
    "    \n",
    "        J = @SMatrix [\n",
    "                     y1 + b * x1^2 - a * x1^3 * * * 0 0;\n",
    "                     * * * 0 0 0;\n",
    "                     * * * 0 0 0;\n",
    "                     * 0 0 * * *;\n",
    "                     0 0 0 * * *;\n",
    "                     0 0 0 * * *\n",
    "                    ]\n",
    "                    \n",
    "    \n",
    "        return J\n",
    "\n",
    "end"
   ]
  },
  {
   "cell_type": "code",
   "execution_count": 1,
   "id": "afeb4635",
   "metadata": {},
   "outputs": [],
   "source": [
    "using StaticArrays"
   ]
  },
  {
   "cell_type": "code",
   "execution_count": 6,
   "id": "d2d35e04",
   "metadata": {},
   "outputs": [
    {
     "data": {
      "text/plain": [
       "6×6 SArray{Tuple{6, 6}, Float64, 2, 36} with indices SOneTo(6)×SOneTo(6):\n",
       " 0.0  0.0  0.0  0.0  0.0  0.0\n",
       " 0.0  0.0  0.0  0.0  0.0  0.0\n",
       " 0.0  0.0  0.0  0.0  0.0  0.0\n",
       " 0.0  0.0  0.0  0.0  0.0  0.0\n",
       " 0.0  0.0  0.0  0.0  0.0  0.0\n",
       " 0.0  0.0  0.0  0.0  0.0  0.0"
      ]
     },
     "execution_count": 6,
     "metadata": {},
     "output_type": "execute_result"
    }
   ],
   "source": [
    "J = @SMatrix zeros(6, 6)"
   ]
  }
 ],
 "metadata": {
  "kernelspec": {
   "display_name": "Julia 1.7.2",
   "language": "julia",
   "name": "julia-1.7"
  },
  "language_info": {
   "file_extension": ".jl",
   "mimetype": "application/julia",
   "name": "julia",
   "version": "1.7.2"
  }
 },
 "nbformat": 4,
 "nbformat_minor": 5
}
