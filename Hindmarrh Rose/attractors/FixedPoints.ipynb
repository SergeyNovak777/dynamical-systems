{
 "cells": [
  {
   "cell_type": "code",
   "execution_count": null,
   "id": "49d27d2c",
   "metadata": {},
   "outputs": [],
   "source": [
    "using DynamicalSystems\n",
    "using DifferentialEquations\n",
    "using OrdinaryDiffEq\n",
    "\n",
    "using PyPlot\n",
    "using StaticArrays"
   ]
  },
  {
   "cell_type": "code",
   "execution_count": null,
   "id": "a24788ed",
   "metadata": {},
   "outputs": [],
   "source": [
    "using JLD"
   ]
  },
  {
   "cell_type": "code",
   "execution_count": null,
   "id": "040f0f02",
   "metadata": {},
   "outputs": [],
   "source": [
    "dir_spec = \"C:\\\\Users\\\\olenin.s\\\\Desktop\\\\dynamical-systems\\\\Hindmarrh Rose\\\\probablity density function\\\\result\\\\HR_small_saved\\\\spectrum_HR_array.jld\"\n",
    "dir_cond = \"C:\\\\Users\\\\olenin.s\\\\Desktop\\\\dynamical-systems\\\\Hindmarrh Rose\\\\probablity density function\\\\result\\\\HR_small_saved\\\\condition_HR_array.jld\""
   ]
  },
  {
   "cell_type": "code",
   "execution_count": null,
   "id": "e52abaf1",
   "metadata": {},
   "outputs": [],
   "source": [
    "spectrum_array = load(dir_spec)[\"data\"]\n",
    "condition_HR_array = load(dir_cond)[\"data\"]"
   ]
  },
  {
   "cell_type": "code",
   "execution_count": null,
   "id": "e9a87a4c",
   "metadata": {},
   "outputs": [],
   "source": [
    "function sigma(x)\n",
    "    return @fastmath 1.0 / ( 1.0 + exp( -10.0 * ( x  - ( - 0.25 ) ) ) )\n",
    "end\n",
    "\n",
    "function HR(u, p, t)\n",
    "        \n",
    "    a, b, c, d, s, xr, r,  I, vs, k1, k2, el_link  = p\n",
    "    x1, y1, z1, x2, y2, z2 = u\n",
    "    \n",
    "    du1 = y1 + b * x1 ^ 2 - a * x1 ^3 - z1 + I - k1 * ( x1 - vs ) * sigma(x2) + el_link * ( x2 - x1 )\n",
    "    du2 = c - d * x1 ^2 - y1\n",
    "    du3 = r * ( s * ( x1 - xr ) - z1 )\n",
    "    \n",
    "    du4 = y2 + b * x2 ^ 2 - a * x2 ^3 - z2 + I - k2 * ( x2 - vs ) * sigma(x1) + el_link * ( x1 - x2 )\n",
    "    du5 = c - d * x2 ^2 - y2\n",
    "    du6 = r * ( s * ( x2 - xr ) - z2 )\n",
    "    return SVector(du1, du2, du3,\n",
    "                    du4, du5, du6)\n",
    "end"
   ]
  },
  {
   "cell_type": "code",
   "execution_count": null,
   "id": "08a33174",
   "metadata": {},
   "outputs": [],
   "source": [
    "condition = condition_HR_array[:, 156] # k = 0.155\n",
    "condition"
   ]
  },
  {
   "cell_type": "code",
   "execution_count": null,
   "id": "e34e5a21",
   "metadata": {},
   "outputs": [],
   "source": [
    "condition = SA[-0.6925302979542225,\n",
    " -2.2083565485726155,\n",
    "  3.4251812063410423,\n",
    " -0.49710798909310244,\n",
    " -0.24112901660181446,\n",
    "  4.585643148476261]"
   ]
  },
  {
   "cell_type": "code",
   "execution_count": 79,
   "id": "1fea8443",
   "metadata": {},
   "outputs": [
    {
     "data": {
      "text/plain": [
       "12-element SArray{Tuple{12}, Float64, 1, 12} with indices SOneTo(12):\n",
       "  1.0\n",
       "  3.0\n",
       "  1.0\n",
       "  5.0\n",
       "  5.0\n",
       " -1.6\n",
       "  0.01\n",
       "  4.0\n",
       "  2.0\n",
       " -0.17\n",
       " -0.17\n",
       "  1.0"
      ]
     },
     "execution_count": 79,
     "metadata": {},
     "output_type": "execute_result"
    }
   ],
   "source": [
    "tspan = (0.0, 500000.0)\n",
    "condition1 = SA[0.02, 0.01, 0.01, 0.01, 0.01, 0.01]\n",
    "condition2 = SA[0.01, 0.01, 0.01, 0.01, 0.01, 0.01]\n",
    "a = 1.\n",
    "b = 3.\n",
    "c = 1.\n",
    "d = 5.\n",
    "xr = -1.6\n",
    "r = 0.01 # 0.01\n",
    "s = 5.\n",
    "I = 4.\n",
    "xv = 2.\n",
    "\n",
    "k1= -0.17\n",
    "k2 = k1\n",
    "k = 1.0\n",
    "\n",
    "p = SA[a, b, c, d, s, xr, r, I, xv, k1, k2, k]"
   ]
  },
  {
   "cell_type": "code",
   "execution_count": 80,
   "id": "e6fc4c74",
   "metadata": {},
   "outputs": [
    {
     "data": {
      "text/plain": [
       "[-15, 15]⁶"
      ]
     },
     "execution_count": 80,
     "metadata": {},
     "output_type": "execute_result"
    }
   ],
   "source": [
    "x1 = y1 = z1 = x2 = y2 = z3 = -15..15\n",
    "box = x1 × y1 × z1 × x2 × y2 × z3"
   ]
  },
  {
   "cell_type": "code",
   "execution_count": 81,
   "id": "3d48ca2b",
   "metadata": {},
   "outputs": [
    {
     "data": {
      "text/plain": [
       "6-dimensional continuous dynamical system\n",
       " state:       [0.02, 0.01, 0.01, 0.01, 0.01, 0.01]\n",
       " rule f:      HR\n",
       " in-place?    false\n",
       " jacobian:    ForwardDiff\n",
       " parameters:  [1.0, 3.0, 1.0, 5.0, 5.0, -1.6, …, 4.0, 2.0, -0.17, -0.17, 1.0]"
      ]
     },
     "execution_count": 81,
     "metadata": {},
     "output_type": "execute_result"
    }
   ],
   "source": [
    "ds = ContinuousDynamicalSystem(HR, condition1, p )"
   ]
  },
  {
   "cell_type": "code",
   "execution_count": 82,
   "id": "7c79282c",
   "metadata": {},
   "outputs": [
    {
     "data": {
      "text/plain": [
       "(6-dimensional Dataset{Float64} with 1 points, Vector{ComplexF64}[[-8.951148537373278 + 0.0im, -7.2685720091863 + 0.0im, -0.04356827411227428 - 0.06640310594655666im, -0.04356827411227428 + 0.06640310594655666im, 0.043637659307650824 + 0.0im, 0.1171405810457494 + 0.0im]], Bool[0])"
      ]
     },
     "execution_count": 82,
     "metadata": {},
     "output_type": "execute_result"
    }
   ],
   "source": [
    "fp, eigs, stable = fixedpoints(ds, box)"
   ]
  },
  {
   "attachments": {
    "image.png": {
     "image/png": "[encoded data removed]"
    }
   },
   "cell_type": "markdown",
   "id": "dc7292d4",
   "metadata": {},
   "source": [
    "![image.png](attachment:image.png)"
   ]
  },
  {
   "cell_type": "markdown",
   "id": "101c13ea",
   "metadata": {},
   "source": [
    "## k = 0.0"
   ]
  },
  {
   "cell_type": "code",
   "execution_count": 53,
   "id": "c58256af",
   "metadata": {},
   "outputs": [
    {
     "data": {
      "text/plain": [
       "6-dimensional Dataset{Float64} with 1 points\n",
       " -0.738229  -1.72491  4.30886  -0.738229  -1.72491  4.30886"
      ]
     },
     "execution_count": 53,
     "metadata": {},
     "output_type": "execute_result"
    }
   ],
   "source": [
    "fp"
   ]
  },
  {
   "cell_type": "code",
   "execution_count": 54,
   "id": "2ec56ec2",
   "metadata": {},
   "outputs": [
    {
     "data": {
      "text/plain": [
       "6-element Vector{ComplexF64}:\n",
       "    -7.2685720091863 + 0.0im\n",
       "  -7.210096522033617 + 0.0im\n",
       " 0.03770821879322181 + 0.0im\n",
       " 0.04363765930765034 + 0.0im\n",
       "  0.1171405810457492 + 0.0im\n",
       "  0.1341032176425762 + 0.0im"
      ]
     },
     "execution_count": 54,
     "metadata": {},
     "output_type": "execute_result"
    }
   ],
   "source": [
    "eigs[1]"
   ]
  },
  {
   "cell_type": "markdown",
   "id": "4c159f03",
   "metadata": {},
   "source": [
    "## k = 0.5"
   ]
  },
  {
   "cell_type": "code",
   "execution_count": 59,
   "id": "917980cc",
   "metadata": {},
   "outputs": [
    {
     "data": {
      "text/plain": [
       "6-dimensional Dataset{Float64} with 1 points\n",
       " -0.738229  -1.72491  4.30886  -0.738229  -1.72491  4.30886"
      ]
     },
     "execution_count": 59,
     "metadata": {},
     "output_type": "execute_result"
    }
   ],
   "source": [
    "fp"
   ]
  },
  {
   "cell_type": "code",
   "execution_count": 60,
   "id": "22afbf01",
   "metadata": {},
   "outputs": [
    {
     "data": {
      "text/plain": [
       "6-element Vector{ComplexF64}:\n",
       "   -8.066732749238547 + 0.0im\n",
       "   -7.268572009186302 + 0.0im\n",
       " 0.014223831820364656 - 0.0745461985531838im\n",
       " 0.014223831820364656 + 0.0745461985531838im\n",
       "  0.04363765930765022 + 0.0im\n",
       "  0.11714058104574947 + 0.0im"
      ]
     },
     "execution_count": 60,
     "metadata": {},
     "output_type": "execute_result"
    }
   ],
   "source": [
    "eigs[1]"
   ]
  },
  {
   "cell_type": "markdown",
   "id": "9f5fd729",
   "metadata": {},
   "source": [
    "## k = 0.133"
   ]
  },
  {
   "cell_type": "code",
   "execution_count": 71,
   "id": "ecaf7142",
   "metadata": {},
   "outputs": [
    {
     "data": {
      "text/plain": [
       "6-dimensional Dataset{Float64} with 1 points\n",
       " -0.738229  -1.72491  4.30886  -0.738229  -1.72491  4.30886"
      ]
     },
     "execution_count": 71,
     "metadata": {},
     "output_type": "execute_result"
    }
   ],
   "source": [
    "fp"
   ]
  },
  {
   "cell_type": "code",
   "execution_count": 72,
   "id": "6b9b97e4",
   "metadata": {},
   "outputs": [
    {
     "data": {
      "text/plain": [
       "6-element Vector{ComplexF64}:\n",
       "  -7.434795995137219 + 0.0im\n",
       "  -7.268572009186299 + 0.0im\n",
       " 0.04363765930765188 + 0.0im\n",
       " 0.06525545476970074 - 0.0316775372851849im\n",
       " 0.06525545476970074 + 0.0316775372851849im\n",
       " 0.11714058104574744 + 0.0im"
      ]
     },
     "execution_count": 72,
     "metadata": {},
     "output_type": "execute_result"
    }
   ],
   "source": [
    "eigs[1]"
   ]
  },
  {
   "cell_type": "markdown",
   "id": "02f501cc",
   "metadata": {},
   "source": [
    "## k = 0.134"
   ]
  },
  {
   "cell_type": "code",
   "execution_count": 77,
   "id": "05fd1265",
   "metadata": {},
   "outputs": [
    {
     "data": {
      "text/plain": [
       "6-dimensional Dataset{Float64} with 1 points\n",
       " -0.738229  -1.72491  4.30886  -0.738229  -1.72491  4.30886"
      ]
     },
     "execution_count": 77,
     "metadata": {},
     "output_type": "execute_result"
    }
   ],
   "source": [
    "fp"
   ]
  },
  {
   "cell_type": "code",
   "execution_count": 78,
   "id": "fefed763",
   "metadata": {},
   "outputs": [
    {
     "data": {
      "text/plain": [
       "6-element Vector{ComplexF64}:\n",
       "  -7.436494748587782 + 0.0im\n",
       "  -7.268572009186302 + 0.0im\n",
       " 0.04363765930765181 + 0.0im\n",
       " 0.06510483149497995 - 0.032009203936183644im\n",
       " 0.06510483149497995 + 0.032009203936183644im\n",
       " 0.11714058104574716 + 0.0im"
      ]
     },
     "execution_count": 78,
     "metadata": {},
     "output_type": "execute_result"
    }
   ],
   "source": [
    "eigs[1]"
   ]
  },
  {
   "cell_type": "markdown",
   "id": "8c51d5d8",
   "metadata": {},
   "source": [
    "## k = 1.0"
   ]
  },
  {
   "cell_type": "code",
   "execution_count": 83,
   "id": "68b33280",
   "metadata": {},
   "outputs": [
    {
     "data": {
      "text/plain": [
       "6-dimensional Dataset{Float64} with 1 points\n",
       " -0.738229  -1.72491  4.30886  -0.738229  -1.72491  4.30886"
      ]
     },
     "execution_count": 83,
     "metadata": {},
     "output_type": "execute_result"
    }
   ],
   "source": [
    "fp"
   ]
  },
  {
   "cell_type": "code",
   "execution_count": 84,
   "id": "2960bf59",
   "metadata": {},
   "outputs": [
    {
     "data": {
      "text/plain": [
       "6-element Vector{ComplexF64}:\n",
       "   -8.951148537373278 + 0.0im\n",
       "     -7.2685720091863 + 0.0im\n",
       " -0.04356827411227428 - 0.06640310594655666im\n",
       " -0.04356827411227428 + 0.06640310594655666im\n",
       " 0.043637659307650824 + 0.0im\n",
       "   0.1171405810457494 + 0.0im"
      ]
     },
     "execution_count": 84,
     "metadata": {},
     "output_type": "execute_result"
    }
   ],
   "source": [
    "eigs[1]"
   ]
  }
 ],
 "metadata": {
  "kernelspec": {
   "display_name": "Julia 1.7.2",
   "language": "julia",
   "name": "julia-1.7"
  },
  "language_info": {
   "file_extension": ".jl",
   "mimetype": "application/julia",
   "name": "julia",
   "version": "1.7.2"
  }
 },
 "nbformat": 4,
 "nbformat_minor": 5
}
