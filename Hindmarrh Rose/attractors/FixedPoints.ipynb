{
 "cells": [
  {
   "cell_type": "code",
   "execution_count": 1,
   "id": "49d27d2c",
   "metadata": {},
   "outputs": [],
   "source": [
    "using DynamicalSystems\n",
    "using DifferentialEquations\n",
    "using OrdinaryDiffEq\n",
    "\n",
    "using StaticArrays"
   ]
  },
  {
   "cell_type": "code",
   "execution_count": 2,
   "id": "e9a87a4c",
   "metadata": {},
   "outputs": [
    {
     "data": {
      "text/plain": [
       "HR (generic function with 1 method)"
      ]
     },
     "execution_count": 2,
     "metadata": {},
     "output_type": "execute_result"
    }
   ],
   "source": [
    "function sigma(x)\n",
    "    return @fastmath 1.0 / ( 1.0 + exp( -10.0 * ( x  - ( - 0.25 ) ) ) )\n",
    "end\n",
    "\n",
    "function HR(u, p, t)\n",
    "        \n",
    "    a, b, c, d, s, xr, r,  I, vs, k1, k2, el_link  = p\n",
    "    x1, y1, z1, x2, y2, z2 = u\n",
    "    \n",
    "    du1 = y1 + b * x1 ^ 2 - a * x1 ^3 - z1 + I - k1 * ( x1 - vs ) * sigma(x2) + el_link * ( x2 - x1 )\n",
    "    du2 = c - d * x1 ^2 - y1\n",
    "    du3 = r * ( s * ( x1 - xr ) - z1 )\n",
    "    \n",
    "    du4 = y2 + b * x2 ^ 2 - a * x2 ^3 - z2 + I - k2 * ( x2 - vs ) * sigma(x1) + el_link * ( x1 - x2 )\n",
    "    du5 = c - d * x2 ^2 - y2\n",
    "    du6 = r * ( s * ( x2 - xr ) - z2 )\n",
    "    return SVector(du1, du2, du3,\n",
    "                    du4, du5, du6)\n",
    "end"
   ]
  },
  {
   "cell_type": "code",
   "execution_count": 3,
   "id": "1fea8443",
   "metadata": {},
   "outputs": [
    {
     "data": {
      "text/plain": [
       "12-element SArray{Tuple{12}, Float64, 1, 12} with indices SOneTo(12):\n",
       "  1.0\n",
       "  3.0\n",
       "  1.0\n",
       "  5.0\n",
       "  5.0\n",
       " -1.6\n",
       "  0.01\n",
       "  4.0\n",
       "  2.0\n",
       " -0.17\n",
       " -0.17\n",
       "  1.0"
      ]
     },
     "execution_count": 3,
     "metadata": {},
     "output_type": "execute_result"
    }
   ],
   "source": [
    "tspan = (0.0, 100000.0)\n",
    "\n",
    "condition1 = SA[0.02, 0.01, 0.01, 0.01, 0.01, 0.01]\n",
    "condition2 = SA[0.01, 0.01, 0.01, 0.01, 0.01, 0.01]\n",
    "a = 1.\n",
    "b = 3.\n",
    "c = 1.\n",
    "d = 5.\n",
    "xr = -1.6\n",
    "r = 0.01\n",
    "s = 5.\n",
    "I = 4.\n",
    "xv = 2.\n",
    "\n",
    "k1= -0.17\n",
    "k2 = k1\n",
    "k = 1.0\n",
    "\n",
    "p = SA[a, b, c, d, s, xr, r, I, xv, k1, k2, k]"
   ]
  },
  {
   "cell_type": "code",
   "execution_count": 5,
   "id": "3d48ca2b",
   "metadata": {},
   "outputs": [
    {
     "data": {
      "text/plain": [
       "6-dimensional continuous dynamical system\n",
       " state:       [0.02, 0.01, 0.01, 0.01, 0.01, 0.01]\n",
       " rule f:      HR\n",
       " in-place?    false\n",
       " jacobian:    ForwardDiff\n",
       " parameters:  [1.0, 3.0, 1.0, 5.0, 5.0, -1.6, …, 4.0, 2.0, -0.17, -0.17, 1.0]"
      ]
     },
     "execution_count": 5,
     "metadata": {},
     "output_type": "execute_result"
    }
   ],
   "source": [
    "ds = ContinuousDynamicalSystem(HR, condition1, p )"
   ]
  },
  {
   "cell_type": "code",
   "execution_count": 6,
   "id": "7c79282c",
   "metadata": {},
   "outputs": [
    {
     "data": {
      "text/plain": [
       "(6-dimensional Dataset{Float64} with 1 points, Vector{ComplexF64}[[-8.951148537373278 + 0.0im, -7.2685720091863 + 0.0im, -0.04356827411227428 - 0.06640310594655666im, -0.04356827411227428 + 0.06640310594655666im, 0.043637659307650824 + 0.0im, 0.1171405810457494 + 0.0im]], Bool[0])"
      ]
     },
     "execution_count": 6,
     "metadata": {},
     "output_type": "execute_result"
    }
   ],
   "source": [
    "fp, eigs, stable = fixedpoints(ds, box)"
   ]
  },
  {
   "cell_type": "code",
   "execution_count": 7,
   "id": "5968b30c",
   "metadata": {},
   "outputs": [
    {
     "data": {
      "text/plain": [
       "6-element Vector{ComplexF64}:\n",
       "   -8.951148537373278 + 0.0im\n",
       "     -7.2685720091863 + 0.0im\n",
       " -0.04356827411227428 - 0.06640310594655666im\n",
       " -0.04356827411227428 + 0.06640310594655666im\n",
       " 0.043637659307650824 + 0.0im\n",
       "   0.1171405810457494 + 0.0im"
      ]
     },
     "execution_count": 7,
     "metadata": {},
     "output_type": "execute_result"
    }
   ],
   "source": [
    "eigs[1]"
   ]
  },
  {
   "cell_type": "code",
   "execution_count": 4,
   "id": "5f3e46bd",
   "metadata": {},
   "outputs": [
    {
     "data": {
      "text/plain": [
       "circleShape (generic function with 1 method)"
      ]
     },
     "execution_count": 4,
     "metadata": {},
     "output_type": "execute_result"
    }
   ],
   "source": [
    "function circleShape(h, k, r)\n",
    "     θ = LinRange(0, 2*π, 500)\n",
    "     h .+ r*sin.(θ), k .+ r*cos.(θ)\n",
    "end"
   ]
  },
  {
   "cell_type": "code",
   "execution_count": 64,
   "id": "b064ac5c",
   "metadata": {},
   "outputs": [
    {
     "data": {
      "text/plain": [
       "6-element Vector{String}:\n",
       " \"black\"\n",
       " \"red\"\n",
       " \"orange\"\n",
       " \"yellow\"\n",
       " \"lime\"\n",
       " \"green\""
      ]
     },
     "execution_count": 64,
     "metadata": {},
     "output_type": "execute_result"
    }
   ],
   "source": [
    "COLORS = [\n",
    "    \"black\",\n",
    "     \"red\",\n",
    "    \"orange\",\n",
    "    \"yellow\",\n",
    "    \"lime\",\n",
    "    \"green\"\n",
    "]"
   ]
  },
  {
   "cell_type": "code",
   "execution_count": 76,
   "id": "4745d06a",
   "metadata": {},
   "outputs": [],
   "source": [
    "kvalues = range(1.0, 0.0, length = 20)\n",
    "\n",
    "x1 = y1 = z1 = x2 = y2 = z3 = -15..15\n",
    "box = x1 × y1 × z1 × x2 × y2 × z3\n",
    "using CairoMakie\n"
   ]
  },
  {
   "cell_type": "code",
   "execution_count": 79,
   "id": "de8beda6",
   "metadata": {},
   "outputs": [
    {
     "name": "stdout",
     "output_type": "stream",
     "text": [
      "k: 1.0\n",
      "index: 1\n",
      "fixed  points: 6-dimensional Dataset{Float64} with 1 points\n",
      "eigs: ComplexF64[-8.951148537373275 + 0.0im, -7.268572009186295 + 0.0im, -0.043568274112274374 - 0.06640310594655657im, -0.043568274112274374 + 0.06640310594655657im, 0.04363765930765069 + 0.0im, 0.11714058104574915 + 0.0im]\n",
      ">>>>>>>>>>>>>>>>>\n",
      "\n",
      "k: 0.9473684210526315\n",
      "index: 2\n",
      "fixed  points: 6-dimensional Dataset{Float64} with 1 points\n",
      "eigs: ComplexF64[-8.856956502205549 + 0.0im, -7.268572009186301 + 0.0im, -0.03803271274876805 - 0.0693491998096832im, -0.03803271274876805 + 0.0693491998096832im, 0.04363765930765206 + 0.0im, 0.1171405810457472 + 0.0im]\n",
      ">>>>>>>>>>>>>>>>>\n",
      "\n",
      "k: 0.8947368421052632\n",
      "index: 3\n",
      "fixed  points: 6-dimensional Dataset{Float64} with 1 points\n",
      "eigs: ComplexF64[-8.763004101236769 + 0.0im, -7.268572009186306 + 0.0im, -0.03237733428579022 - 0.07179454150968943im, -0.03237733428579022 + 0.07179454150968943im, 0.04363765930765166 + 0.0im, 0.11714058104574816 + 0.0im]\n",
      ">>>>>>>>>>>>>>>>>\n",
      "\n",
      "k: 0.8421052631578947\n",
      "index: 4\n",
      "fixed  points: 6-dimensional Dataset{Float64} with 1 points\n",
      "eigs: ComplexF64[-8.669298224956606 + 0.0im, -7.2685720091862995 + 0.0im, -0.02659869347850032 - 0.07376233419518223im, -0.02659869347850032 + 0.07376233419518223im, 0.04363765930765165 + 0.0im, 0.11714058104574777 + 0.0im]\n",
      ">>>>>>>>>>>>>>>>>\n",
      "\n",
      "k: 0.7894736842105263\n",
      "index: 5\n",
      "fixed  points: 6-dimensional Dataset{Float64} with 1 points\n",
      "eigs: ComplexF64[-8.575845987023644 + 0.0im, -7.268572009186312 + 0.0im, -0.02069323349761631 - 0.07526233104895974im, -0.02069323349761631 + 0.07526233104895974im, 0.04363765930765103 + 0.0im, 0.11714058104574787 + 0.0im]\n",
      ">>>>>>>>>>>>>>>>>\n",
      "\n",
      "k: 0.7368421052631579\n",
      "index: 6\n",
      "fixed  points: 6-dimensional Dataset{Float64} with 1 points\n",
      "eigs: ComplexF64[-8.482654730890781 + 0.0im, -7.268572009186299 + 0.0im, -0.014657282616675206 - 0.0762930823704435im, -0.014657282616675206 + 0.0762930823704435im, 0.04363765930765147 + 0.0im, 0.11714058104574794 + 0.0im]\n",
      ">>>>>>>>>>>>>>>>>\n",
      "\n",
      "k: 0.6842105263157895\n",
      "index: 7\n",
      "fixed  points: 6-dimensional Dataset{Float64} with 1 points\n",
      "eigs: ComplexF64[-8.38973203648557 + 0.0im, -7.268572009186306 + 0.0im, -0.008487050871915246 - 0.07684283385590551im, -0.008487050871915246 + 0.07684283385590551im, 0.0436376593076515 + 0.0im, 0.11714058104574823 + 0.0im]\n",
      ">>>>>>>>>>>>>>>>>\n",
      "\n",
      "k: 0.631578947368421\n",
      "index: 8\n",
      "fixed  points: 6-dimensional Dataset{Float64} with 1 points\n",
      "eigs: ComplexF64[-8.297085726925747 + 0.0im, -7.268572009186303 + 0.0im, -0.0021786267044621565 - 0.07688937106327405im, -0.0021786267044621565 + 0.07688937106327405im, 0.043637659307650914 + 0.0im, 0.11714058104574834 + 0.0im]\n",
      ">>>>>>>>>>>>>>>>>\n",
      "\n",
      "k: 0.5789473684210527\n",
      "index: 9\n",
      "fixed  points: 6-dimensional Dataset{Float64} with 1 points\n",
      "eigs: ComplexF64[-8.204723875248124 + 0.0im, -7.2685720091863075 + 0.0im, 0.004272026404100022 - 0.07639883014905884im, 0.004272026404100022 + 0.07639883014905884im, 0.043637659307650706 + 0.0im, 0.11714058104574919 + 0.0im]\n",
      ">>>>>>>>>>>>>>>>>\n",
      "\n",
      "k: 0.5263157894736842\n",
      "index: 10\n",
      "fixed  points: 6-dimensional Dataset{Float64} with 1 points\n",
      "eigs: ComplexF64[-8.112654811125587 + 0.0im, -7.268572009186303 + 0.0im, 0.010869073290198183 - 0.07532324079230958im, 0.010869073290198183 + 0.07532324079230958im, 0.04363765930765133 + 0.0im, 0.11714058104574804 + 0.0im]\n",
      ">>>>>>>>>>>>>>>>>\n",
      "\n",
      "k: 0.47368421052631576\n",
      "index: 11\n",
      "fixed  points: 6-dimensional Dataset{Float64} with 1 points\n",
      "eigs: ComplexF64[-8.020887127543602 + 0.0im, -7.2685720091862995 + 0.0im, 0.017616810446575645 - 0.07359621397785378im, 0.017616810446575645 + 0.07359621397785378im, 0.043637659307651816 + 0.0im, 0.11714058104574762 + 0.0im]\n",
      ">>>>>>>>>>>>>>>>>\n",
      "\n",
      "k: 0.42105263157894735\n",
      "index: 12\n",
      "fixed  points: 6-dimensional Dataset{Float64} with 1 points\n",
      "eigs: ComplexF64[-7.929429687404621 + 0.0im, -7.268572009186297 + 0.0im, 0.024519669324453985 - 0.07112554055632124im, 0.024519669324453985 + 0.07112554055632124im, 0.043637659307652274 + 0.0im, 0.1171405810457475 + 0.0im]\n",
      ">>>>>>>>>>>>>>>>>\n",
      "\n",
      "k: 0.3684210526315789\n",
      "index: 13\n",
      "fixed  points: 6-dimensional Dataset{Float64} with 1 points\n",
      "eigs: ComplexF64[-7.838291630024314 + 0.0im, -7.268572009186303 + 0.0im, 0.03158221958166532 - 0.06778006868979553im, 0.03158221958166532 + 0.06778006868979553im, 0.0436376593076527 + 0.0im, 0.1171405810457466 + 0.0im]\n",
      ">>>>>>>>>>>>>>>>>\n",
      "\n",
      "k: 0.3157894736842105\n",
      "index: 14\n",
      "fixed  points: 6-dimensional Dataset{Float64} with 1 points\n",
      "eigs: ComplexF64[-7.747482377479881 + 0.0im, -7.268572009186301 + 0.0im, 0.03880917225682017 - 0.063364773019673im, 0.03880917225682017 + 0.063364773019673im, 0.04363765930765145 + 0.0im, 0.11714058104574833 + 0.0im]\n",
      ">>>>>>>>>>>>>>>>>\n",
      "\n",
      "k: 0.2631578947368421\n",
      "index: 15\n",
      "fixed  points: 6-dimensional Dataset{Float64} with 1 points\n",
      "eigs: ComplexF64[-7.6570116407662505 + 0.0im, -7.268572009186302 + 0.0im, 0.04363765930765248 + 0.0im, 0.04620538284737281 - 0.057567975485815444im, 0.04620538284737281 + 0.057567975485815444im, 0.11714058104574697 + 0.0im]\n",
      ">>>>>>>>>>>>>>>>>\n",
      "\n",
      "k: 0.21052631578947367\n",
      "index: 16\n",
      "fixed  points: 6-dimensional Dataset{Float64} with 1 points\n",
      "eigs: ComplexF64[-7.566889425710959 + 0.0im, -7.268572009186296 + 0.0im, 0.04363765930765138 + 0.0im, 0.053775854267098674 - 0.049829254434920596im, 0.053775854267098674 + 0.049829254434920596im, 0.11714058104574841 + 0.0im]\n",
      ">>>>>>>>>>>>>>>>>\n",
      "\n",
      "k: 0.15789473684210525\n",
      "index: 17\n",
      "fixed  points: 6-dimensional Dataset{Float64} with 1 points\n",
      "eigs: ComplexF64[-7.477126038594072 + 0.0im, -7.268572009186308 + 0.0im, 0.04363765930765121 + 0.0im, 0.06152573965601735 - 0.03889890760370916im, 0.06152573965601735 + 0.03889890760370916im, 0.11714058104574848 + 0.0im]\n",
      ">>>>>>>>>>>>>>>>>\n",
      "\n",
      "k: 0.10526315789473684\n",
      "index: 18\n",
      "fixed  points: 6-dimensional Dataset{Float64} with 1 points\n",
      "eigs: ComplexF64[-7.38773209141361 + 0.0im, -7.268572009186304 + 0.0im, 0.04363765930765087 + 0.0im, 0.06946034501315684 - 0.01988548382965055im, 0.06946034501315684 + 0.01988548382965055im, 0.11714058104574819 + 0.0im]\n",
      ">>>>>>>>>>>>>>>>>\n",
      "\n",
      "k: 0.05263157894736842\n",
      "index: 19\n",
      "fixed  points: 6-dimensional Dataset{Float64} with 1 points\n",
      "eigs: ComplexF64[-7.298718506732138 + 0.0im, -7.268572009186301 + 0.0im, 0.04363765930765167 + 0.0im, 0.047923068422010634 + 0.0im, 0.10724719481757114 + 0.0im, 0.11714058104574786 + 0.0im]\n",
      ">>>>>>>>>>>>>>>>>\n",
      "\n",
      "k: 0.0\n",
      "index: 20\n",
      "fixed  points: 6-dimensional Dataset{Float64} with 1 points\n",
      "eigs: ComplexF64[-7.268572009186307 + 0.0im, -7.2100965220336235 + 0.0im, 0.0377082187932206 + 0.0im, 0.04363765930765063 + 0.0im, 0.1171405810457483 + 0.0im, 0.13410321764257677 + 0.0im]\n",
      ">>>>>>>>>>>>>>>>>\n",
      "\n"
     ]
    }
   ],
   "source": [
    "fig = Figure()\n",
    "ax = Axis(fig[1,1]; xlabel = L\"Re\", ylabel = L\"Im\")\n",
    "\n",
    "vlines!(0.0, lw = 0.5, linestyle = :dash)\n",
    "\n",
    "for (index_k, k) in enumerate(kvalues)\n",
    "    \n",
    "    println(\"k: \", k); flush(stdout)\n",
    "    println(\"index: \", index_k); flush(stdout)\n",
    "    p = SA[a, b, c, d, s, xr, r, I, xv, k1, k2, k]\n",
    "    ds = ContinuousDynamicalSystem(HR, condition1, p )\n",
    "    \n",
    "    x1 = y1 = z1 = x2 = y2 = z3 = -10..10\n",
    "    box = x1 × y1 × z1 × x2 × y2 × z3\n",
    "    \n",
    "    fp, eigs, stable = fixedpoints(ds, box)\n",
    "    eigins = eigs[1]\n",
    "    \n",
    "    println(\"fixed  points: \", fp); flush(stdout)\n",
    "    println(\"eigs: \", eigins); flush(stdout)\n",
    "    \n",
    "    for (index_eig, eig) in enumerate(eigins)\n",
    "        \n",
    "        re = eig.re\n",
    "        im = eig.im\n",
    "        \n",
    "        if index_eig >= 3\n",
    "         scatter!(ax, re, im, color = \"blue\", markersize = 4.0 ) # COLORS[index_eig]\n",
    "        end\n",
    "    end\n",
    "    println(\">>>>>>>>>>>>>>>>>\"); flush(stdout)\n",
    "    println(\"\")\n",
    "end"
   ]
  },
  {
   "cell_type": "code",
   "execution_count": 80,
   "id": "22b4017f",
   "metadata": {},
   "outputs": [
    {
     "data": {
      "image/png": "[encoded data removed]",
      "text/plain": [
       "Figure()"
      ]
     },
     "execution_count": 80,
     "metadata": {},
     "output_type": "execute_result"
    }
   ],
   "source": [
    "fig"
   ]
  },
  {
   "cell_type": "markdown",
   "id": "101c13ea",
   "metadata": {},
   "source": [
    "## k = 0.0"
   ]
  },
  {
   "cell_type": "code",
   "execution_count": 53,
   "id": "c58256af",
   "metadata": {},
   "outputs": [
    {
     "data": {
      "text/plain": [
       "6-dimensional Dataset{Float64} with 1 points\n",
       " -0.738229  -1.72491  4.30886  -0.738229  -1.72491  4.30886"
      ]
     },
     "execution_count": 53,
     "metadata": {},
     "output_type": "execute_result"
    }
   ],
   "source": [
    "fp"
   ]
  },
  {
   "cell_type": "code",
   "execution_count": 54,
   "id": "2ec56ec2",
   "metadata": {},
   "outputs": [
    {
     "data": {
      "text/plain": [
       "6-element Vector{ComplexF64}:\n",
       "    -7.2685720091863 + 0.0im\n",
       "  -7.210096522033617 + 0.0im\n",
       " 0.03770821879322181 + 0.0im\n",
       " 0.04363765930765034 + 0.0im\n",
       "  0.1171405810457492 + 0.0im\n",
       "  0.1341032176425762 + 0.0im"
      ]
     },
     "execution_count": 54,
     "metadata": {},
     "output_type": "execute_result"
    }
   ],
   "source": [
    "eigs[1]"
   ]
  },
  {
   "cell_type": "markdown",
   "id": "4c159f03",
   "metadata": {},
   "source": [
    "## k = 0.5"
   ]
  },
  {
   "cell_type": "code",
   "execution_count": 59,
   "id": "917980cc",
   "metadata": {},
   "outputs": [
    {
     "data": {
      "text/plain": [
       "6-dimensional Dataset{Float64} with 1 points\n",
       " -0.738229  -1.72491  4.30886  -0.738229  -1.72491  4.30886"
      ]
     },
     "execution_count": 59,
     "metadata": {},
     "output_type": "execute_result"
    }
   ],
   "source": [
    "fp"
   ]
  },
  {
   "cell_type": "code",
   "execution_count": 60,
   "id": "22afbf01",
   "metadata": {},
   "outputs": [
    {
     "data": {
      "text/plain": [
       "6-element Vector{ComplexF64}:\n",
       "   -8.066732749238547 + 0.0im\n",
       "   -7.268572009186302 + 0.0im\n",
       " 0.014223831820364656 - 0.0745461985531838im\n",
       " 0.014223831820364656 + 0.0745461985531838im\n",
       "  0.04363765930765022 + 0.0im\n",
       "  0.11714058104574947 + 0.0im"
      ]
     },
     "execution_count": 60,
     "metadata": {},
     "output_type": "execute_result"
    }
   ],
   "source": [
    "eigs[1]"
   ]
  },
  {
   "cell_type": "markdown",
   "id": "9f5fd729",
   "metadata": {},
   "source": [
    "## k = 0.133"
   ]
  },
  {
   "cell_type": "code",
   "execution_count": 71,
   "id": "ecaf7142",
   "metadata": {},
   "outputs": [
    {
     "data": {
      "text/plain": [
       "6-dimensional Dataset{Float64} with 1 points\n",
       " -0.738229  -1.72491  4.30886  -0.738229  -1.72491  4.30886"
      ]
     },
     "execution_count": 71,
     "metadata": {},
     "output_type": "execute_result"
    }
   ],
   "source": [
    "fp"
   ]
  },
  {
   "cell_type": "code",
   "execution_count": 72,
   "id": "6b9b97e4",
   "metadata": {},
   "outputs": [
    {
     "data": {
      "text/plain": [
       "6-element Vector{ComplexF64}:\n",
       "  -7.434795995137219 + 0.0im\n",
       "  -7.268572009186299 + 0.0im\n",
       " 0.04363765930765188 + 0.0im\n",
       " 0.06525545476970074 - 0.0316775372851849im\n",
       " 0.06525545476970074 + 0.0316775372851849im\n",
       " 0.11714058104574744 + 0.0im"
      ]
     },
     "execution_count": 72,
     "metadata": {},
     "output_type": "execute_result"
    }
   ],
   "source": [
    "eigs[1]"
   ]
  },
  {
   "cell_type": "markdown",
   "id": "02f501cc",
   "metadata": {},
   "source": [
    "## k = 0.134"
   ]
  },
  {
   "cell_type": "code",
   "execution_count": 77,
   "id": "05fd1265",
   "metadata": {},
   "outputs": [
    {
     "data": {
      "text/plain": [
       "6-dimensional Dataset{Float64} with 1 points\n",
       " -0.738229  -1.72491  4.30886  -0.738229  -1.72491  4.30886"
      ]
     },
     "execution_count": 77,
     "metadata": {},
     "output_type": "execute_result"
    }
   ],
   "source": [
    "fp"
   ]
  },
  {
   "cell_type": "code",
   "execution_count": 78,
   "id": "fefed763",
   "metadata": {},
   "outputs": [
    {
     "data": {
      "text/plain": [
       "6-element Vector{ComplexF64}:\n",
       "  -7.436494748587782 + 0.0im\n",
       "  -7.268572009186302 + 0.0im\n",
       " 0.04363765930765181 + 0.0im\n",
       " 0.06510483149497995 - 0.032009203936183644im\n",
       " 0.06510483149497995 + 0.032009203936183644im\n",
       " 0.11714058104574716 + 0.0im"
      ]
     },
     "execution_count": 78,
     "metadata": {},
     "output_type": "execute_result"
    }
   ],
   "source": [
    "eigs[1]"
   ]
  },
  {
   "cell_type": "markdown",
   "id": "8c51d5d8",
   "metadata": {},
   "source": [
    "## k = 1.0"
   ]
  },
  {
   "cell_type": "code",
   "execution_count": 83,
   "id": "68b33280",
   "metadata": {},
   "outputs": [
    {
     "data": {
      "text/plain": [
       "6-dimensional Dataset{Float64} with 1 points\n",
       " -0.738229  -1.72491  4.30886  -0.738229  -1.72491  4.30886"
      ]
     },
     "execution_count": 83,
     "metadata": {},
     "output_type": "execute_result"
    }
   ],
   "source": [
    "fp"
   ]
  },
  {
   "cell_type": "code",
   "execution_count": 84,
   "id": "2960bf59",
   "metadata": {},
   "outputs": [
    {
     "data": {
      "text/plain": [
       "6-element Vector{ComplexF64}:\n",
       "   -8.951148537373278 + 0.0im\n",
       "     -7.2685720091863 + 0.0im\n",
       " -0.04356827411227428 - 0.06640310594655666im\n",
       " -0.04356827411227428 + 0.06640310594655666im\n",
       " 0.043637659307650824 + 0.0im\n",
       "   0.1171405810457494 + 0.0im"
      ]
     },
     "execution_count": 84,
     "metadata": {},
     "output_type": "execute_result"
    }
   ],
   "source": [
    "eigs[1]"
   ]
  }
 ],
 "metadata": {
  "kernelspec": {
   "display_name": "Julia 1.8.0",
   "language": "julia",
   "name": "julia-1.8"
  },
  "language_info": {
   "file_extension": ".jl",
   "mimetype": "application/julia",
   "name": "julia",
   "version": "1.8.0"
  }
 },
 "nbformat": 4,
 "nbformat_minor": 5
}
