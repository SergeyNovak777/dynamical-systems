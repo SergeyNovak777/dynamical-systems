{
 "cells": [
  {
   "cell_type": "code",
   "execution_count": 1,
   "id": "49d27d2c",
   "metadata": {},
   "outputs": [],
   "source": [
    "using DynamicalSystems\n",
    "using DifferentialEquations\n",
    "using OrdinaryDiffEq\n",
    "\n",
    "using StaticArrays"
   ]
  },
  {
   "cell_type": "code",
   "execution_count": 2,
   "id": "1da746ca",
   "metadata": {},
   "outputs": [],
   "source": [
    "kvalues = range(1.0, 0.0, length = 10)\n",
    "x1 = y1 = z1 = x2 = y2 = z3 = -15..15\n",
    "box = x1 × y1 × z1 × x2 × y2 × z3\n",
    "\n",
    "using CairoMakie"
   ]
  },
  {
   "cell_type": "code",
   "execution_count": 3,
   "id": "e9a87a4c",
   "metadata": {},
   "outputs": [
    {
     "data": {
      "text/plain": [
       "HR (generic function with 1 method)"
      ]
     },
     "execution_count": 3,
     "metadata": {},
     "output_type": "execute_result"
    }
   ],
   "source": [
    "function sigma(x)\n",
    "    return 1.0 / ( 1.0 + exp( -10.0 * ( x  - ( - 0.25 ) ) ) )\n",
    "end\n",
    "\n",
    "function HR(u, p, t)\n",
    "        \n",
    "    a, b, c, d, s, xr, r,  I, vs, k1, k2, el_link  = p\n",
    "    x1, y1, z1, x2, y2, z2 = u\n",
    "    \n",
    "    \n",
    "    du1 = y1 + b * x1 ^ 2 - a * x1 ^3 - z1 + I - k1 * ( x1 - vs ) * sigma(x2) + el_link * ( x2 - x1 )\n",
    "    du2 = c - d * x1 ^2 - y1\n",
    "    du3 = r * ( s * ( x1 - xr ) - z1 )\n",
    "    \n",
    "    du4 = y2 + b * x2 ^ 2 - a * x2 ^3 - z2 + I - k2 * ( x2 - vs ) * sigma(x1) + el_link * ( x1 - x2 )\n",
    "    du5 = c - d * x2 ^2 - y2\n",
    "    du6 = r * ( s * ( x2 - xr ) - z2 )\n",
    "    \n",
    "    return SVector(du1, du2, du3,\n",
    "                    du4, du5, du6)\n",
    "end\n"
   ]
  },
  {
   "cell_type": "code",
   "execution_count": 58,
   "id": "1fea8443",
   "metadata": {},
   "outputs": [
    {
     "data": {
      "text/plain": [
       "12-element SVector{12, Float64} with indices SOneTo(12):\n",
       "  1.0\n",
       "  3.0\n",
       "  1.0\n",
       "  5.0\n",
       "  5.0\n",
       " -1.6\n",
       "  0.01\n",
       "  4.0\n",
       "  2.0\n",
       " -0.17\n",
       " -0.17\n",
       "  0.1111111111111111"
      ]
     },
     "execution_count": 58,
     "metadata": {},
     "output_type": "execute_result"
    }
   ],
   "source": [
    "tspan = (0.0, 100000.0)\n",
    "\n",
    "u0 = SA[0.02, 0.01, 0.01, 0.01, 0.01, 0.01]\n",
    "\n",
    "a = 1.0\n",
    "b = 3.0\n",
    "c = 1.0\n",
    "d = 5.0\n",
    "xr = -1.6\n",
    "r = 0.01\n",
    "s = 5.0\n",
    "I = 4.0\n",
    "xv = 2.0\n",
    "\n",
    "k1= -0.17\n",
    "k2 = -0.17\n",
    "k = 0.1111111111111111\n",
    "\n",
    "p = SA[a, b, c, d, s, xr, r, I, xv, k1, k2, k]"
   ]
  },
  {
   "cell_type": "code",
   "execution_count": 59,
   "id": "3d48ca2b",
   "metadata": {},
   "outputs": [
    {
     "data": {
      "text/plain": [
       "6-dimensional continuous dynamical system\n",
       " state:       [0.02, 0.01, 0.01, 0.01, 0.01, 0.01]\n",
       " rule f:      HR\n",
       " in-place?    false\n",
       " jacobian:    ForwardDiff\n",
       " parameters:  [1.0, 3.0, 1.0, 5.0, 5.0, -1.6, …, 2.0, -0.17, -0.17, 0.111111]"
      ]
     },
     "execution_count": 59,
     "metadata": {},
     "output_type": "execute_result"
    }
   ],
   "source": [
    "ds = ContinuousDynamicalSystem(HR, u0, p )"
   ]
  },
  {
   "cell_type": "code",
   "execution_count": 6,
   "id": "fc27e843",
   "metadata": {},
   "outputs": [
    {
     "data": {
      "image/png": "[encoded data removed]",
      "text/plain": [
       "Figure()"
      ]
     },
     "execution_count": 6,
     "metadata": {},
     "output_type": "execute_result"
    }
   ],
   "source": [
    "f = Figure()\n",
    "ax = Axis(f[1, 1])\n",
    "scatter!(ax, 1, 0.0)\n",
    "f"
   ]
  },
  {
   "cell_type": "code",
   "execution_count": 60,
   "id": "7c79282c",
   "metadata": {},
   "outputs": [
    {
     "data": {
      "text/plain": [
       "(6-dimensional Dataset{Float64} with 1 points, Vector{ComplexF64}[[-7.397646171355659 + 0.0im, -7.268572009186301 + 0.0im, 0.043637659307650394 + 0.0im, 0.06856943176780866 - 0.022961259334100606im, 0.06856943176780866 + 0.022961259334100606im, 0.117140581045749 + 0.0im]], Bool[0])"
      ]
     },
     "execution_count": 60,
     "metadata": {},
     "output_type": "execute_result"
    }
   ],
   "source": [
    "fp, eigs, stable = fixedpoints(ds, box)"
   ]
  },
  {
   "cell_type": "code",
   "execution_count": 106,
   "id": "ca9bde74",
   "metadata": {},
   "outputs": [
    {
     "data": {
      "text/plain": [
       "6-element Vector{ComplexF64}:\n",
       "   -7.397646171355659 + 0.0im\n",
       "   -7.268572009186301 + 0.0im\n",
       " 0.043637659307650394 + 0.0im\n",
       "  0.06856943176780866 - 0.022961259334100606im\n",
       "  0.06856943176780866 + 0.022961259334100606im\n",
       "    0.117140581045749 + 0.0im"
      ]
     },
     "execution_count": 106,
     "metadata": {},
     "output_type": "execute_result"
    }
   ],
   "source": [
    "sort(eigs[1], lt = (x,y) -> imag(x)==imag(y) ? real(x)<real(y)  : real(x)<real(y))"
   ]
  },
  {
   "cell_type": "code",
   "execution_count": 62,
   "id": "5968b30c",
   "metadata": {},
   "outputs": [
    {
     "data": {
      "text/plain": [
       "6-element Vector{ComplexF64}:\n",
       "   -7.397646171355659 + 0.0im\n",
       "   -7.268572009186301 + 0.0im\n",
       " 0.043637659307650394 + 0.0im\n",
       "  0.06856943176780866 - 0.022961259334100606im\n",
       "  0.06856943176780866 + 0.022961259334100606im\n",
       "    0.117140581045749 + 0.0im"
      ]
     },
     "execution_count": 62,
     "metadata": {},
     "output_type": "execute_result"
    }
   ],
   "source": [
    "eigs[1]"
   ]
  },
  {
   "cell_type": "code",
   "execution_count": 24,
   "id": "3d1d43e3",
   "metadata": {},
   "outputs": [
    {
     "name": "stdout",
     "output_type": "stream",
     "text": [
      "Re first pair pair: -8.951148537373273\n",
      "Re second pair pair: -7.268572009186295\n",
      "--------------\n",
      "Im first pair: 0.0\n",
      "Im second pair: 0.0\n",
      ">>>>>>>>>>>>>\n",
      "Re first pair pair: -0.043568274112274166\n",
      "Re second pair pair: -0.043568274112274166\n",
      "--------------\n",
      "Im first pair: -0.06640310594655666\n",
      "Im second pair: 0.06640310594655666\n",
      ">>>>>>>>>>>>>\n",
      "Re first pair pair: 0.04363765930765128\n",
      "Re second pair pair: 0.11714058104574845\n",
      "--------------\n",
      "Im first pair: 0.0\n",
      "Im second pair: 0.0\n",
      ">>>>>>>>>>>>>\n"
     ]
    }
   ],
   "source": [
    "f = Figure()\n",
    "ax = Axis(f[1, 1])\n",
    "\n",
    "for index in range(1, 5, step = 2)\n",
    "    \n",
    "        f_p = eigs[1][index]\n",
    "        s_p = eigs[1][index+1]\n",
    "       \n",
    "        re1 = f_p.re\n",
    "        im1 = f_p.im\n",
    "        re2 = s_p.re\n",
    "        im2 = s_p.im\n",
    "            \n",
    "        println(\"Re first pair pair: $re1\")\n",
    "        println(\"Re second pair pair: $re2\")\n",
    "        println(\"--------------\")\n",
    "        println(\"Im first pair: $im1\")\n",
    "        println(\"Im second pair: $im2\")\n",
    "        println(\">>>>>>>>>>>>>\")\n",
    "    \n",
    "        scatter!(ax, re1, im1, color = COLORS[index])\n",
    "        scatter!(ax, re2, im2, color = COLORS[index])\n",
    "    \n",
    "        prre1 = f_p.re\n",
    "        prim1 = f_p.im\n",
    "        prre2 = s_p.re\n",
    "        prim2 = s_p.im\n",
    "        \n",
    "end"
   ]
  },
  {
   "cell_type": "code",
   "execution_count": null,
   "id": "40ad354f",
   "metadata": {
    "scrolled": true
   },
   "outputs": [
    {
     "name": "stdout",
     "output_type": "stream",
     "text": [
      "index: 1\n",
      "k: 1.0\n",
      "fixed  points: 6-dimensional Dataset{Float64} with 1 points\n",
      "eigins: ComplexF64[-8.951148537373273 + 0.0im, -7.268572009186295 + 0.0im, -0.043568274112274166 - 0.06640310594655666im, -0.043568274112274166 + 0.06640310594655666im, 0.04363765930765128 + 0.0im, 0.11714058104574845 + 0.0im]\n",
      "\n",
      "Re first pair pair: -8.951148537373273\n",
      "Re second pair pair: -7.268572009186295\n",
      " \n",
      "Im first pair: 0.0\n",
      "Im second pair: 0.0\n",
      "----------------\n",
      "----------------\n",
      "Re first pair pair: -0.043568274112274166\n",
      "Re second pair pair: -0.043568274112274166\n",
      " \n",
      "Im first pair: -0.06640310594655666\n",
      "Im second pair: 0.06640310594655666\n",
      "----------------\n",
      "----------------\n",
      "Re first pair pair: 0.04363765930765128\n",
      "Re second pair pair: 0.11714058104574845\n",
      " \n",
      "Im first pair: 0.0\n",
      "Im second pair: 0.0\n",
      "----------------\n",
      "----------------\n",
      ">>>>>>>>>>>>>>>>>\n",
      "\n",
      "index: 2\n",
      "k: 0.8888888888888888\n",
      "fixed  points: 6-dimensional Dataset{Float64} with 1 points\n",
      "eigins: ComplexF64[-8.75258003499041 + 0.0im, -7.2685720091862995 + 0.0im, -0.031741414192595505 - 0.0720364843121707im, -0.031741414192595505 + 0.0720364843121707im, 0.0436376593076516 + 0.0im, 0.11714058104574827 + 0.0im]\n",
      "\n",
      "Re first pair pair: -8.75258003499041\n",
      "Re second pair pair: -7.2685720091862995\n",
      " \n",
      "Im first pair: 0.0\n",
      "Im second pair: 0.0\n",
      "----------------\n",
      "----------------\n",
      "Re first pair pair: -0.031741414192595505\n",
      "Re second pair pair: -0.031741414192595505\n",
      " \n",
      "Im first pair: -0.0720364843121707\n",
      "Im second pair: 0.0720364843121707\n",
      "----------------\n",
      "----------------\n",
      "Re first pair pair: 0.0436376593076516\n",
      "Re second pair pair: 0.11714058104574827\n",
      " \n",
      "Im first pair: 0.0\n",
      "Im second pair: 0.0\n",
      "----------------\n",
      "----------------\n",
      ">>>>>>>>>>>>>>>>>\n",
      "\n",
      "index: 3\n",
      "k: 0.7777777777777778\n",
      "fixed  points: 6-dimensional Dataset{Float64} with 1 points\n",
      "eigins: ComplexF64[-8.555114001883911 + 0.0im, -7.2685720091862995 + 0.0im, -0.019363319634725974 - 0.07553219369405828im, -0.019363319634725974 + 0.07553219369405828im, 0.04363765930765179 + 0.0im, 0.11714058104574798 + 0.0im]\n",
      "\n",
      "Re first pair pair: -8.555114001883911\n",
      "Re second pair pair: -7.2685720091862995\n",
      " \n",
      "Im first pair: 0.0\n",
      "Im second pair: 0.0\n",
      "----------------\n",
      "----------------\n",
      "Re first pair pair: -0.019363319634725974\n",
      "Re second pair pair: -0.019363319634725974\n",
      " \n",
      "Im first pair: -0.07553219369405828\n",
      "Im second pair: 0.07553219369405828\n",
      "----------------\n",
      "----------------\n",
      "Re first pair pair: 0.04363765930765179\n",
      "Re second pair pair: 0.11714058104574798\n",
      " \n",
      "Im first pair: 0.0\n",
      "Im second pair: 0.0\n",
      "----------------\n",
      "----------------\n",
      ">>>>>>>>>>>>>>>>>\n",
      "\n",
      "index: 4\n",
      "k: 0.6666666666666666\n",
      "fixed  points: 6-dimensional Dataset{Float64} with 1 points\n",
      "eigins: ComplexF64[-8.35881883041018 + 0.0im, -7.268572009186307 + 0.0im, -0.006399794260487549 - 0.07691567414940506im, -0.006399794260487549 + 0.07691567414940506im, 0.04363765930765116 + 0.0im, 0.11714058104574832 + 0.0im]\n",
      "\n",
      "Re first pair pair: -8.35881883041018\n",
      "Re second pair pair: -7.268572009186307\n",
      " \n",
      "Im first pair: 0.0\n",
      "Im second pair: 0.0\n",
      "----------------\n",
      "----------------\n",
      "Re first pair pair: -0.006399794260487549\n",
      "Re second pair pair: -0.006399794260487549\n",
      " \n",
      "Im first pair: -0.07691567414940506\n",
      "Im second pair: 0.07691567414940506\n",
      "----------------\n",
      "----------------\n",
      "Re first pair pair: 0.04363765930765116\n",
      "Re second pair pair: 0.11714058104574832\n",
      " \n",
      "Im first pair: 0.0\n",
      "Im second pair: 0.0\n",
      "----------------\n",
      "----------------\n",
      ">>>>>>>>>>>>>>>>>\n",
      "\n",
      "index: 5\n",
      "k: 0.5555555555555556\n"
     ]
    }
   ],
   "source": [
    "f = Figure()\n",
    "ax = Axis(f[1,1]; xlabel = L\"Re\", ylabel = L\"Im\")\n",
    "\n",
    "xlims!(-1.3, 1.3)\n",
    "vlines!(ax, 0.0, lw = 0.5, linestyle = :dash)\n",
    "\n",
    "for (index, k) in enumerate(kvalues)\n",
    "    \n",
    "    println(\"index: $index\");flush(stdout)\n",
    "    println(\"k: $k\");flush(stdout)\n",
    "    \n",
    "    p = SA[a, b, c, d, s, xr, r, I, xv, k1, k2, k]\n",
    "    ds = ContinuousDynamicalSystem(HR, u0, p )\n",
    "    \n",
    "    fp, eigs, stable = fixedpoints(ds, box)\n",
    "    eigins = eigs[1]\n",
    "    \n",
    "    println(\"fixed  points: \", fp); flush(stdout)\n",
    "    println(\"eigins: $eigins\")\n",
    "    println(\"\")\n",
    "    for index in range(1, 5, step = 2)\n",
    "    \n",
    "        f_p = eigins[index]\n",
    "        s_p = eigins[index+1]\n",
    "       \n",
    "        re1 = f_p.re\n",
    "        im1 = f_p.im\n",
    "        re2 = s_p.re\n",
    "        im2 = s_p.im\n",
    "        println(\"Re first pair pair: $re1\")\n",
    "        println(\"Re second pair pair: $re2\")\n",
    "        println(\" \")\n",
    "        println(\"Im first pair: $im1\")\n",
    "        println(\"Im second pair: $im2\")\n",
    "        println(\"----------------\")\n",
    "        println(\"----------------\")\n",
    "        \n",
    "        if im1 != 0\n",
    "            scatter!(ax, re1, im1, color = \"black\")\n",
    "        else\n",
    "            scatter!(ax, re1, im1, color = COLORS[index])\n",
    "        end\n",
    "        \n",
    "        if im2 != 0\n",
    "            scatter!(ax, re2, im2, color = \"black\")\n",
    "        else\n",
    "            scatter!(ax, re2, im2, color = COLORS[index])\n",
    "        end\n",
    "        \n",
    "        \n",
    "    end\n",
    "    println(\">>>>>>>>>>>>>>>>>\"); flush(stdout)\n",
    "    println(\"\")\n",
    "    \n",
    "end"
   ]
  },
  {
   "cell_type": "code",
   "execution_count": null,
   "id": "95563ea8",
   "metadata": {},
   "outputs": [],
   "source": [
    "xlims!(-0.05, 0.15)\n",
    "f"
   ]
  },
  {
   "cell_type": "code",
   "execution_count": 51,
   "id": "b1212a9e",
   "metadata": {},
   "outputs": [
    {
     "data": {
      "image/png": "[encoded data removed]",
      "text/plain": [
       "Figure()"
      ]
     },
     "execution_count": 51,
     "metadata": {},
     "output_type": "execute_result"
    }
   ],
   "source": [
    "xlims!(-0.05, 0.15)\n",
    "f"
   ]
  },
  {
   "cell_type": "code",
   "execution_count": null,
   "id": "b4b31b16",
   "metadata": {},
   "outputs": [],
   "source": [
    "index: 7\n",
    "k: 0.3333333333333333\n",
    "fixed  points: 6-dimensional Dataset{Float64} with 1 points\n",
    "eigins: ComplexF64[-7.777715001024106 + 0.0im, -7.268572009186303 + 0.0im, 0.03638162437980823 - 0.06497134231440276im, 0.03638162437980823 + 0.06497134231440276im, 0.04363765930765126 + 0.0im, 0.11714058104574814 + 0.0im]\n",
    "\n",
    "\n",
    "Re first pair pair: 0.03638162437980823\n",
    "Re second pair pair: 0.03638162437980823\n",
    " \n",
    "Im first pair: -0.06497134231440276\n",
    "Im second pair: 0.06497134231440276\n",
    "----------------\n",
    "----------------\n",
    "\n",
    ">>>>>>>>>>>>>>>>>\n",
    "\n",
    "index: 8\n",
    "k: 0.2222222222222222\n",
    "fixed  points: 6-dimensional Dataset{Float64} with 1 points\n",
    "eigins: ComplexF64[-7.586885942402814 + 0.0im, -7.268572009186304 + 0.0im, 0.043637659307650935 + 0.0im, 0.05207820618027373 - 0.051762179819630945im, 0.05207820618027373 + 0.051762179819630945im, 0.11714058104574826 + 0.0im]\n",
    "\n",
    "Re first pair pair: 0.043637659307650935\n",
    "Re second pair pair: 0.05207820618027373\n",
    " \n",
    "Im first pair: 0.0\n",
    "Im second pair: -0.051762179819630945\n",
    "----------------\n",
    "----------------\n",
    "Re first pair pair: 0.05207820618027373\n",
    "Re second pair pair: 0.11714058104574826\n",
    " \n",
    "Im first pair: 0.051762179819630945\n",
    "Im second pair: 0.0\n",
    "\n",
    ">>>>>>>>>>>>>>>>>\n",
    "\n",
    "index: 9\n",
    "k: 0.1111111111111111\n",
    "fixed  points: 6-dimensional Dataset{Float64} with 1 points\n",
    "eigins: ComplexF64[-7.397646171355659 + 0.0im, -7.268572009186301 + 0.0im, 0.043637659307650394 + 0.0im, 0.06856943176780866 - 0.022961259334100606im, 0.06856943176780866 + 0.022961259334100606im, 0.117140581045749 + 0.0im]\n",
    "\n",
    "Re first pair pair: -7.397646171355659\n",
    "Re second pair pair: -7.268572009186301\n",
    " \n",
    "Im first pair: 0.0\n",
    "Im second pair: 0.0\n",
    "----------------\n",
    "----------------\n",
    "Re first pair pair: 0.043637659307650394\n",
    "Re second pair pair: 0.06856943176780866\n",
    " \n",
    "Im first pair: 0.0\n",
    "Im second pair: -0.022961259334100606\n",
    "----------------\n",
    "----------------\n",
    "Re first pair pair: 0.06856943176780866\n",
    "Re second pair pair: 0.117140581045749\n",
    " \n",
    "Im first pair: 0.022961259334100606\n",
    "Im second pair: 0.0\n",
    "----------------\n",
    "----------------\n",
    ">>>>>>>>>>>>>>>>>\n",
    "\n",
    "index: 10\n",
    "k: 0.0\n",
    "fixed  points: 6-dimensional Dataset{Float64} with 1 points\n",
    "eigins: ComplexF64[-7.268572009186302 + 0.0im, -7.210096522033619 + 0.0im, 0.037708218793220824 + 0.0im, 0.04363765930765135 + 0.0im, 0.11714058104574797 + 0.0im, 0.13410321764257688 + 0.0im]\n",
    "\n",
    "Re first pair pair: -7.268572009186302\n",
    "Re second pair pair: -7.210096522033619\n",
    " \n",
    "Im first pair: 0.0\n",
    "Im second pair: 0.0\n",
    "----------------\n",
    "----------------\n",
    "Re first pair pair: 0.037708218793220824\n",
    "Re second pair pair: 0.04363765930765135\n",
    " \n",
    "Im first pair: 0.0\n",
    "Im second pair: 0.0\n",
    "----------------\n",
    "----------------\n",
    "Re first pair pair: 0.11714058104574797\n",
    "Re second pair pair: 0.13410321764257688\n",
    " \n",
    "Im first pair: 0.0\n",
    "Im second pair: 0.0\n",
    "----------------\n",
    "----------------\n",
    ">>>>>>>>>>>>>>>>>"
   ]
  },
  {
   "cell_type": "code",
   "execution_count": 18,
   "id": "b064ac5c",
   "metadata": {},
   "outputs": [
    {
     "data": {
      "text/plain": [
       "6-element Vector{String}:\n",
       " \"black\"\n",
       " \"red\"\n",
       " \"orange\"\n",
       " \"yellow\"\n",
       " \"lime\"\n",
       " \"green\""
      ]
     },
     "execution_count": 18,
     "metadata": {},
     "output_type": "execute_result"
    }
   ],
   "source": [
    "COLORS = [\n",
    "    \"black\",\n",
    "     \"red\",\n",
    "    \"orange\",\n",
    "    \"yellow\",\n",
    "    \"lime\",\n",
    "    \"green\"\n",
    "]"
   ]
  },
  {
   "cell_type": "code",
   "execution_count": 26,
   "id": "de8beda6",
   "metadata": {},
   "outputs": [
    {
     "name": "stdout",
     "output_type": "stream",
     "text": [
      "k: 1.0\n",
      "index: 1\n"
     ]
    },
    {
     "ename": "LoadError",
     "evalue": "UndefVarError: condition1 not defined",
     "output_type": "error",
     "traceback": [
      "UndefVarError: condition1 not defined",
      "",
      "Stacktrace:",
      " [1] top-level scope",
      "   @ .\\In[26]:11",
      " [2] eval",
      "   @ .\\boot.jl:368 [inlined]",
      " [3] include_string(mapexpr::typeof(REPL.softscope), mod::Module, code::String, filename::String)",
      "   @ Base .\\loading.jl:1428"
     ]
    }
   ],
   "source": [
    "fig = Figure()\n",
    "ax = Axis(fig[1,1]; xlabel = L\"Re\", ylabel = L\"Im\")\n",
    "\n",
    "vlines!(0.0, lw = 0.5, linestyle = :dash)\n",
    "\n",
    "for (index_k, k) in enumerate(kvalues)\n",
    "    \n",
    "    println(\"k: \", k); flush(stdout)\n",
    "    println(\"index: \", index_k); flush(stdout)\n",
    "    p = SA[a, b, c, d, s, xr, r, I, xv, k1, k2, k]\n",
    "    ds = ContinuousDynamicalSystem(HR, condition1, p )\n",
    "    \n",
    "    x1 = y1 = z1 = x2 = y2 = z3 = -10..10\n",
    "    box = x1 × y1 × z1 × x2 × y2 × z3\n",
    "    \n",
    "    fp, eigs, stable = fixedpoints(ds, box)\n",
    "    eigins = eigs[1]\n",
    "    \n",
    "    println(\"fixed  points: \", fp); flush(stdout)\n",
    "    println(\"eigs: \", eigins); flush(stdout)\n",
    "    \n",
    "    for (index_eig, eig) in enumerate(eigins)\n",
    "        \n",
    "        re = eig.re\n",
    "        im = eig.im\n",
    "        \n",
    "        if index_eig >= 3\n",
    "         scatter!(ax, re, im, color = \"blue\", markersize = 4.0 ) # COLORS[index_eig]\n",
    "        end\n",
    "    end\n",
    "    println(\">>>>>>>>>>>>>>>>>\"); flush(stdout)\n",
    "    println(\"\")\n",
    "end"
   ]
  },
  {
   "cell_type": "code",
   "execution_count": 80,
   "id": "22b4017f",
   "metadata": {},
   "outputs": [
    {
     "data": {
      "image/png": "[encoded data removed]",
      "text/plain": [
       "Figure()"
      ]
     },
     "execution_count": 80,
     "metadata": {},
     "output_type": "execute_result"
    }
   ],
   "source": [
    "fig"
   ]
  },
  {
   "cell_type": "code",
   "execution_count": null,
   "id": "3e785397",
   "metadata": {},
   "outputs": [],
   "source": [
    "index: 9\n",
    "k: 0.1111111111111111\n",
    "fixed  points: 6-dimensional Dataset{Float64} with 1 points\n",
    "\n",
    "Re first pair pair: -7.397646171355659\n",
    "Re second pair pair: -7.268572009186301\n",
    "|||||||||||||||\n",
    "Im first pair: 0.0\n",
    "Im second pair: 0.0\n",
    "----------------\n",
    "Re first pair pair: 0.043637659307650394\n",
    "Re second pair pair: 0.06856943176780866\n",
    "|||||||||||||||\n",
    "Im first pair: 0.0\n",
    "Im second pair: -0.022961259334100606\n",
    "----------------\n",
    "Re first pair pair: 0.06856943176780866\n",
    "Re second pair pair: 0.117140581045749\n",
    "|||||||||||||||\n",
    "Im first pair: 0.022961259334100606\n",
    "Im second pair: 0.0\n",
    "----------------\n",
    ">>>>>>>>>>>>>>>>>"
   ]
  },
  {
   "cell_type": "markdown",
   "id": "101c13ea",
   "metadata": {},
   "source": [
    "## k = 0.0"
   ]
  },
  {
   "cell_type": "code",
   "execution_count": 40,
   "id": "d8eb9692",
   "metadata": {},
   "outputs": [
    {
     "data": {
      "image/png": "[encoded data removed]",
      "text/plain": [
       "Figure()"
      ]
     },
     "execution_count": 40,
     "metadata": {},
     "output_type": "execute_result"
    }
   ],
   "source": [
    "f3d = Figure()\n",
    "ax = Axis3(f3d[1, 1])\n",
    "scatter!(ax, 0.1111111111111111, 0.0, 0.043637659307650394, color = \"red\"  )\n",
    "scatter!(ax, 0.1111111111111111, -0.022961259334100606, 0.06856943176780866, color = \"red\"  )\n",
    "hlines!(ax, 0, 1.0, 0)\n",
    "f3d"
   ]
  },
  {
   "cell_type": "code",
   "execution_count": 53,
   "id": "c58256af",
   "metadata": {},
   "outputs": [
    {
     "data": {
      "text/plain": [
       "6-dimensional Dataset{Float64} with 1 points\n",
       " -0.738229  -1.72491  4.30886  -0.738229  -1.72491  4.30886"
      ]
     },
     "execution_count": 53,
     "metadata": {},
     "output_type": "execute_result"
    }
   ],
   "source": [
    "fp"
   ]
  },
  {
   "cell_type": "code",
   "execution_count": 54,
   "id": "2ec56ec2",
   "metadata": {},
   "outputs": [
    {
     "data": {
      "text/plain": [
       "6-element Vector{ComplexF64}:\n",
       "    -7.2685720091863 + 0.0im\n",
       "  -7.210096522033617 + 0.0im\n",
       " 0.03770821879322181 + 0.0im\n",
       " 0.04363765930765034 + 0.0im\n",
       "  0.1171405810457492 + 0.0im\n",
       "  0.1341032176425762 + 0.0im"
      ]
     },
     "execution_count": 54,
     "metadata": {},
     "output_type": "execute_result"
    }
   ],
   "source": [
    "eigs[1]"
   ]
  },
  {
   "cell_type": "markdown",
   "id": "4c159f03",
   "metadata": {},
   "source": [
    "## k = 0.5"
   ]
  },
  {
   "cell_type": "code",
   "execution_count": 59,
   "id": "917980cc",
   "metadata": {},
   "outputs": [
    {
     "data": {
      "text/plain": [
       "6-dimensional Dataset{Float64} with 1 points\n",
       " -0.738229  -1.72491  4.30886  -0.738229  -1.72491  4.30886"
      ]
     },
     "execution_count": 59,
     "metadata": {},
     "output_type": "execute_result"
    }
   ],
   "source": [
    "fp"
   ]
  },
  {
   "cell_type": "code",
   "execution_count": 60,
   "id": "22afbf01",
   "metadata": {},
   "outputs": [
    {
     "data": {
      "text/plain": [
       "6-element Vector{ComplexF64}:\n",
       "   -8.066732749238547 + 0.0im\n",
       "   -7.268572009186302 + 0.0im\n",
       " 0.014223831820364656 - 0.0745461985531838im\n",
       " 0.014223831820364656 + 0.0745461985531838im\n",
       "  0.04363765930765022 + 0.0im\n",
       "  0.11714058104574947 + 0.0im"
      ]
     },
     "execution_count": 60,
     "metadata": {},
     "output_type": "execute_result"
    }
   ],
   "source": [
    "eigs[1]"
   ]
  },
  {
   "cell_type": "markdown",
   "id": "9f5fd729",
   "metadata": {},
   "source": [
    "## k = 0.133"
   ]
  },
  {
   "cell_type": "code",
   "execution_count": 71,
   "id": "ecaf7142",
   "metadata": {},
   "outputs": [
    {
     "data": {
      "text/plain": [
       "6-dimensional Dataset{Float64} with 1 points\n",
       " -0.738229  -1.72491  4.30886  -0.738229  -1.72491  4.30886"
      ]
     },
     "execution_count": 71,
     "metadata": {},
     "output_type": "execute_result"
    }
   ],
   "source": [
    "fp"
   ]
  },
  {
   "cell_type": "code",
   "execution_count": 72,
   "id": "6b9b97e4",
   "metadata": {},
   "outputs": [
    {
     "data": {
      "text/plain": [
       "6-element Vector{ComplexF64}:\n",
       "  -7.434795995137219 + 0.0im\n",
       "  -7.268572009186299 + 0.0im\n",
       " 0.04363765930765188 + 0.0im\n",
       " 0.06525545476970074 - 0.0316775372851849im\n",
       " 0.06525545476970074 + 0.0316775372851849im\n",
       " 0.11714058104574744 + 0.0im"
      ]
     },
     "execution_count": 72,
     "metadata": {},
     "output_type": "execute_result"
    }
   ],
   "source": [
    "eigs[1]"
   ]
  },
  {
   "cell_type": "markdown",
   "id": "02f501cc",
   "metadata": {},
   "source": [
    "## k = 0.134"
   ]
  },
  {
   "cell_type": "code",
   "execution_count": 77,
   "id": "05fd1265",
   "metadata": {},
   "outputs": [
    {
     "data": {
      "text/plain": [
       "6-dimensional Dataset{Float64} with 1 points\n",
       " -0.738229  -1.72491  4.30886  -0.738229  -1.72491  4.30886"
      ]
     },
     "execution_count": 77,
     "metadata": {},
     "output_type": "execute_result"
    }
   ],
   "source": [
    "fp"
   ]
  },
  {
   "cell_type": "code",
   "execution_count": 16,
   "id": "d7240903",
   "metadata": {},
   "outputs": [
    {
     "data": {
      "text/plain": [
       "6-element Vector{ComplexF64}:\n",
       "   -8.933053010985624 + 0.0im\n",
       "   -7.268572009186305 + 0.0im\n",
       " -0.04251502720509005 - 0.06700896704899675im\n",
       " -0.04251502720509005 + 0.06700896704899675im\n",
       "  0.04363765930765141 + 0.0im\n",
       "  0.11714058104574782 + 0.0im"
      ]
     },
     "execution_count": 16,
     "metadata": {},
     "output_type": "execute_result"
    }
   ],
   "source": [
    "eigs[1]"
   ]
  },
  {
   "cell_type": "code",
   "execution_count": 78,
   "id": "fefed763",
   "metadata": {},
   "outputs": [
    {
     "data": {
      "text/plain": [
       "6-element Vector{ComplexF64}:\n",
       "  -7.436494748587782 + 0.0im\n",
       "  -7.268572009186302 + 0.0im\n",
       " 0.04363765930765181 + 0.0im\n",
       " 0.06510483149497995 - 0.032009203936183644im\n",
       " 0.06510483149497995 + 0.032009203936183644im\n",
       " 0.11714058104574716 + 0.0im"
      ]
     },
     "execution_count": 78,
     "metadata": {},
     "output_type": "execute_result"
    }
   ],
   "source": [
    "eigs[1]"
   ]
  },
  {
   "cell_type": "markdown",
   "id": "8c51d5d8",
   "metadata": {},
   "source": [
    "## k = 1.0"
   ]
  },
  {
   "cell_type": "code",
   "execution_count": 83,
   "id": "68b33280",
   "metadata": {},
   "outputs": [
    {
     "data": {
      "text/plain": [
       "6-dimensional Dataset{Float64} with 1 points\n",
       " -0.738229  -1.72491  4.30886  -0.738229  -1.72491  4.30886"
      ]
     },
     "execution_count": 83,
     "metadata": {},
     "output_type": "execute_result"
    }
   ],
   "source": [
    "fp"
   ]
  },
  {
   "cell_type": "code",
   "execution_count": 84,
   "id": "2960bf59",
   "metadata": {},
   "outputs": [
    {
     "data": {
      "text/plain": [
       "6-element Vector{ComplexF64}:\n",
       "   -8.951148537373278 + 0.0im\n",
       "     -7.2685720091863 + 0.0im\n",
       " -0.04356827411227428 - 0.06640310594655666im\n",
       " -0.04356827411227428 + 0.06640310594655666im\n",
       " 0.043637659307650824 + 0.0im\n",
       "   0.1171405810457494 + 0.0im"
      ]
     },
     "execution_count": 84,
     "metadata": {},
     "output_type": "execute_result"
    }
   ],
   "source": [
    "eigs[1]"
   ]
  }
 ],
 "metadata": {
  "kernelspec": {
   "display_name": "Julia 1.8.1",
   "language": "julia",
   "name": "julia-1.8"
  },
  "language_info": {
   "file_extension": ".jl",
   "mimetype": "application/julia",
   "name": "julia",
   "version": "1.8.1"
  }
 },
 "nbformat": 4,
 "nbformat_minor": 5
}
