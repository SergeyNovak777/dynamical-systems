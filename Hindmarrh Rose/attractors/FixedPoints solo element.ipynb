{
 "cells": [
  {
   "cell_type": "code",
   "execution_count": 1,
   "id": "49d27d2c",
   "metadata": {},
   "outputs": [],
   "source": [
    "using DynamicalSystems\n",
    "using DifferentialEquations\n",
    "using OrdinaryDiffEq\n",
    "\n",
    "using PyPlot\n",
    "using StaticArrays"
   ]
  },
  {
   "cell_type": "code",
   "execution_count": 3,
   "id": "e9a87a4c",
   "metadata": {},
   "outputs": [
    {
     "data": {
      "text/plain": [
       "HR (generic function with 1 method)"
      ]
     },
     "execution_count": 3,
     "metadata": {},
     "output_type": "execute_result"
    }
   ],
   "source": [
    "function sigma(x)\n",
    "    return @fastmath 1.0 / ( 1.0 + exp( -10.0 * ( x  - ( - 0.25 ) ) ) )\n",
    "end\n",
    "\n",
    "function HR(u, p, t)\n",
    "        \n",
    "    a, b, c, d, s, xr, r,  I, vs  = p\n",
    "    x1, y1, z1= u\n",
    "    \n",
    "    du1 = y1 + b * x1 ^ 2 - a * x1 ^3 - z1 + I\n",
    "    du2 = c - d * x1 ^2 - y1\n",
    "    du3 = r * ( s * ( x1 - xr ) - z1 )\n",
    "    \n",
    "    return SVector(du1, du2, du3)\n",
    "end"
   ]
  },
  {
   "cell_type": "code",
   "execution_count": 8,
   "id": "e34e5a21",
   "metadata": {},
   "outputs": [
    {
     "data": {
      "text/plain": [
       "3-element SArray{Tuple{3}, Float64, 1, 3} with indices SOneTo(3):\n",
       " -0.6925302979542225\n",
       " -2.2083565485726155\n",
       "  3.4251812063410423"
      ]
     },
     "execution_count": 8,
     "metadata": {},
     "output_type": "execute_result"
    }
   ],
   "source": [
    "condition = SA[-0.6925302979542225, -2.2083565485726155, 3.4251812063410423]"
   ]
  },
  {
   "cell_type": "code",
   "execution_count": 9,
   "id": "1fea8443",
   "metadata": {},
   "outputs": [
    {
     "data": {
      "text/plain": [
       "9-element SArray{Tuple{9}, Float64, 1, 9} with indices SOneTo(9):\n",
       "  1.0\n",
       "  3.0\n",
       "  1.0\n",
       "  5.0\n",
       "  5.0\n",
       " -1.6\n",
       "  0.01\n",
       "  4.0\n",
       "  2.0"
      ]
     },
     "execution_count": 9,
     "metadata": {},
     "output_type": "execute_result"
    }
   ],
   "source": [
    "tspan = (0.0, 500000.0)\n",
    "\n",
    "a = 1.\n",
    "b = 3.\n",
    "c = 1.\n",
    "d = 5.\n",
    "xr = -1.6\n",
    "r = 0.01 # 0.01\n",
    "s = 5.\n",
    "I = 4.\n",
    "xv = 2.\n",
    "\n",
    "\n",
    "p = SA[a, b, c, d, s, xr, r, I, xv]"
   ]
  },
  {
   "cell_type": "code",
   "execution_count": 15,
   "id": "e6fc4c74",
   "metadata": {},
   "outputs": [
    {
     "data": {
      "text/plain": [
       "[-20, 20]³"
      ]
     },
     "execution_count": 15,
     "metadata": {},
     "output_type": "execute_result"
    }
   ],
   "source": [
    "x1 = y1 = z1 = -20..20\n",
    "box = x1 × y1 × z1"
   ]
  },
  {
   "cell_type": "code",
   "execution_count": 16,
   "id": "3d48ca2b",
   "metadata": {},
   "outputs": [
    {
     "data": {
      "text/plain": [
       "3-dimensional continuous dynamical system\n",
       " state:       [0.1, 0.2, 0.3]\n",
       " rule f:      HR\n",
       " in-place?    false\n",
       " jacobian:    ForwardDiff\n",
       " parameters:  [1.0, 3.0, 1.0, 5.0, 5.0, -1.6, 0.01, 4.0, 2.0]"
      ]
     },
     "execution_count": 16,
     "metadata": {},
     "output_type": "execute_result"
    }
   ],
   "source": [
    "ds = ContinuousDynamicalSystem(HR, SA[0.1, 0.2, 0.3], p )"
   ]
  },
  {
   "cell_type": "code",
   "execution_count": 17,
   "id": "7c79282c",
   "metadata": {},
   "outputs": [
    {
     "data": {
      "text/plain": [
       "(3-dimensional Dataset{Float64} with 1 points, Vector{ComplexF64}[[-7.230763483270617 + 0.0im, 0.04043219576417969 + 0.0im, 0.12592965097530065 + 0.0im]], Bool[0])"
      ]
     },
     "execution_count": 17,
     "metadata": {},
     "output_type": "execute_result"
    }
   ],
   "source": [
    "fp, eigs, stable = fixedpoints(ds, box)"
   ]
  },
  {
   "cell_type": "code",
   "execution_count": 18,
   "id": "2ec56ec2",
   "metadata": {},
   "outputs": [
    {
     "data": {
      "text/plain": [
       "3-dimensional Dataset{Float64} with 1 points\n",
       " -0.737278  -1.71789  4.31361"
      ]
     },
     "execution_count": 18,
     "metadata": {},
     "output_type": "execute_result"
    }
   ],
   "source": [
    "fp"
   ]
  },
  {
   "cell_type": "code",
   "execution_count": 19,
   "id": "fca36c07",
   "metadata": {},
   "outputs": [
    {
     "data": {
      "text/plain": [
       "1-element Vector{Vector{ComplexF64}}:\n",
       " [-7.230763483270617 + 0.0im, 0.04043219576417969 + 0.0im, 0.12592965097530065 + 0.0im]"
      ]
     },
     "execution_count": 19,
     "metadata": {},
     "output_type": "execute_result"
    }
   ],
   "source": [
    "eigs"
   ]
  },
  {
   "cell_type": "code",
   "execution_count": null,
   "id": "09e948ba",
   "metadata": {},
   "outputs": [],
   "source": []
  }
 ],
 "metadata": {
  "kernelspec": {
   "display_name": "Julia 1.7.2",
   "language": "julia",
   "name": "julia-1.7"
  },
  "language_info": {
   "file_extension": ".jl",
   "mimetype": "application/julia",
   "name": "julia",
   "version": "1.7.2"
  }
 },
 "nbformat": 4,
 "nbformat_minor": 5
}
