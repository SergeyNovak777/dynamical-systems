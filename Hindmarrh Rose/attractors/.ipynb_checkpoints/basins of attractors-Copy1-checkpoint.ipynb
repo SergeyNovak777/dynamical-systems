{
 "cells": [
  {
   "cell_type": "code",
   "execution_count": 1,
   "id": "b812fa7b",
   "metadata": {},
   "outputs": [],
   "source": [
    "using DynamicalSystems, CairoMakie,  DifferentialEquations, OrdinaryDiffEq\n",
    "using StaticArrays"
   ]
  },
  {
   "cell_type": "code",
   "execution_count": 2,
   "id": "87acbff0",
   "metadata": {},
   "outputs": [
    {
     "data": {
      "text/plain": [
       "HR (generic function with 1 method)"
      ]
     },
     "execution_count": 2,
     "metadata": {},
     "output_type": "execute_result"
    }
   ],
   "source": [
    "function sigma(x)\n",
    "    return @fastmath 1.0 / ( 1.0 + exp( -10.0 * ( x  - ( - 0.25 ) ) ) )\n",
    "end\n",
    "\n",
    "function HR(u, p, t)\n",
    "        \n",
    "    a, b, c, d, s, xr, r,  I, vs, k1, k2, el_link  = p\n",
    "    x1, y1, z1, x2, y2, z2 = u\n",
    "    \n",
    "    du1 = y1 + b * x1 ^ 2 - a * x1 ^3 - z1 + I - k1 * ( x1 - vs ) * sigma(x2) + el_link * ( x2 - x1 )\n",
    "    du2 = c - d * x1 ^2 - y1\n",
    "    du3 = r * ( s * ( x1 - xr ) - z1 )\n",
    "    \n",
    "    du4 = y2 + b * x2 ^ 2 - a * x2 ^3 - z2 + I - k2 * ( x2 - vs ) * sigma(x1) + el_link * ( x1 - x2 )\n",
    "    du5 = c - d * x2 ^2 - y2\n",
    "    du6 = r * ( s * ( x2 - xr ) - z2 )\n",
    "    return SVector(du1, du2, du3,\n",
    "                    du4, du5, du6)\n",
    "end"
   ]
  },
  {
   "cell_type": "code",
   "execution_count": 3,
   "id": "c2e28891",
   "metadata": {},
   "outputs": [
    {
     "data": {
      "text/plain": [
       "12-element SArray{Tuple{12}, Float64, 1, 12} with indices SOneTo(12):\n",
       "  1.0\n",
       "  3.0\n",
       "  1.0\n",
       "  5.0\n",
       "  5.0\n",
       " -1.6\n",
       "  0.01\n",
       "  4.0\n",
       "  2.0\n",
       " -0.17\n",
       " -0.17\n",
       "  1.0"
      ]
     },
     "execution_count": 3,
     "metadata": {},
     "output_type": "execute_result"
    }
   ],
   "source": [
    "a = 1.; b = 3.; c = 1.; d = 5.;\n",
    "xr = -1.6; r = 0.01; s = 5.; I = 4.; xv = 2.;\n",
    "k1= -0.17; k2 = -0.17;\n",
    "k = 1.0\n",
    "condition = SA[-1.5, 0.0, 0.0, -2.5, 0.0, 0.0]\n",
    "# condition = SA[-0.5, -0.5, -0.5, -0.5, 0-0.5, -0.5]\n",
    "\n",
    "p = SA[a, b, c, d,\n",
    "        s, xr, r, I, xv, k1, k2, k]"
   ]
  },
  {
   "cell_type": "code",
   "execution_count": 4,
   "id": "cfa71004",
   "metadata": {},
   "outputs": [
    {
     "data": {
      "text/plain": [
       "6-dimensional continuous dynamical system\n",
       " state:       [-1.5, 0.0, 0.0, -2.5, 0.0, 0.0]\n",
       " rule f:      HR\n",
       " in-place?    false\n",
       " jacobian:    ForwardDiff\n",
       " parameters:  [1.0, 3.0, 1.0, 5.0, 5.0, -1.6, …, 4.0, 2.0, -0.17, -0.17, 1.0]"
      ]
     },
     "execution_count": 4,
     "metadata": {},
     "output_type": "execute_result"
    }
   ],
   "source": [
    "p = [a, b, c, d, s, xr, r, I, xv, k1, k2, k]\n",
    "ds_HR = ContinuousDynamicalSystem(HR,  condition, p )"
   ]
  },
  {
   "cell_type": "code",
   "execution_count": 5,
   "id": "d1142ce8",
   "metadata": {},
   "outputs": [
    {
     "data": {
      "text/plain": [
       "-6.0:1.3333333333333333:6.0"
      ]
     },
     "execution_count": 5,
     "metadata": {},
     "output_type": "execute_result"
    }
   ],
   "source": [
    "xg1 = yg1 = zg1 = xg2 = yg2 = zg2 = range(-6.0, 6.0; length = 10)"
   ]
  },
  {
   "cell_type": "code",
   "execution_count": 6,
   "id": "5727bab0",
   "metadata": {},
   "outputs": [
    {
     "name": "stderr",
     "output_type": "stream",
     "text": [
      "┌ Info: Automatic Δt estimation yielded Δt = 0.1771579779261815\n",
      "└ @ ChaosTools C:\\Users\\olenin.s\\.julia\\packages\\ChaosTools\\PHPDF\\src\\basins\\attractor_mapping_recurrences.jl:238\n"
     ]
    },
    {
     "data": {
      "text/plain": [
       "AttractorsViaRecurrences\n",
       " rule f:      HR\n",
       " type:        SimpleATsit5Integrator\n",
       " attractors:  Dict{Int16, Dataset{6, Float64}}()\n",
       " grid:        (-6.0:1.3333333333333333:6.0, -6.0:1.3333333333333333:6.0, -6.0:1.3333333333333333:6.0, -6.0:1.3333333333333333:6.0, -6.0:1.3333333333333333:6.0, -6.0:1.3333333333333333:6.0)\n"
      ]
     },
     "execution_count": 6,
     "metadata": {},
     "output_type": "execute_result"
    }
   ],
   "source": [
    "mapper = AttractorsViaRecurrences(ds_HR, (xg1, yg1, zg1, xg2, yg2, zg2))"
   ]
  },
  {
   "cell_type": "code",
   "execution_count": 7,
   "id": "9676912e",
   "metadata": {},
   "outputs": [
    {
     "name": "stderr",
     "output_type": "stream",
     "text": [
      "┌ Info: AttractorsViaRecurrences found new attractor with id: 1\n",
      "└ @ ChaosTools C:\\Users\\olenin.s\\.julia\\packages\\ChaosTools\\PHPDF\\src\\basins\\attractor_mapping_recurrences.jl:412\n",
      "\u001b[32mBasins of attraction:  20%|██████                       |  ETA: 0:17:31\u001b[39m┌ Info: AttractorsViaRecurrences found new attractor with id: 2\n",
      "└ @ ChaosTools C:\\Users\\olenin.s\\.julia\\packages\\ChaosTools\\PHPDF\\src\\basins\\attractor_mapping_recurrences.jl:412\n",
      "\u001b[32mBasins of attraction:  23%|███████                      |  ETA: 0:17:17\u001b[39m┌ Info: AttractorsViaRecurrences found new attractor with id: 3\n",
      "└ @ ChaosTools C:\\Users\\olenin.s\\.julia\\packages\\ChaosTools\\PHPDF\\src\\basins\\attractor_mapping_recurrences.jl:412\n",
      "\u001b[32mBasins of attraction: 100%|█████████████████████████████| Time: 0:16:37\u001b[39m\n"
     ]
    },
    {
     "data": {
      "text/plain": [
       "Dict{Int16, Dataset{6, Float64}} with 3 entries:\n",
       "  2 => 6-dimensional Dataset{Float64} with 12 points\n",
       "  3 => 6-dimensional Dataset{Float64} with 2 points\n",
       "  1 => 6-dimensional Dataset{Float64} with 25 points"
      ]
     },
     "execution_count": 7,
     "metadata": {},
     "output_type": "execute_result"
    }
   ],
   "source": [
    "basins, attractors = basins_of_attraction(mapper; show_progress = true)\n",
    "attractors"
   ]
  },
  {
   "cell_type": "code",
   "execution_count": 39,
   "id": "aba724ea",
   "metadata": {},
   "outputs": [
    {
     "data": {
      "text/plain": [
       "Figure()"
      ]
     },
     "execution_count": 39,
     "metadata": {},
     "output_type": "execute_result"
    }
   ],
   "source": [
    "function scatter_attractors!(ax, attractors)\n",
    "    \n",
    "    for k ∈ keys(attractors)\n",
    "        \n",
    "        x1, y1, z1, x2, y2, z2  = columns(attractors[k])\n",
    "        \n",
    "        scatter!(ax, x1, y1, z1;\n",
    "            color = Cycled(k),\n",
    "            strokewidth = 3, strokecolor = :white\n",
    "        )\n",
    "        \n",
    "        j = findfirst(isequal(k), basins)\n",
    "        \n",
    "        xp1 = xg1[j[1]]\n",
    "        yp1 = yg1[j[2]]\n",
    "        zp1 = zg1[j[3]]\n",
    "        xp2 = xg2[j[4]]\n",
    "        yp2 = yg2[j[5]]\n",
    "        zp2 = zg2[j[6]]\n",
    "        \n",
    "        \n",
    "        tr = trajectory(ds_HR, 100000, SVector(xp1, yp1, zp1, xp2, xp2, xp2);\n",
    "                        diffeq = (alg = AutoVern9(Rodas5()), abstol = 1e-11, reltol = 1e-11,  maxiters = 10000000))\n",
    "        \n",
    "        scatter!(ax, tr[1], tr[2], tr[3]; color = cmap[k])\n",
    "        \n",
    "    end\n",
    "end\n",
    "\n",
    "\n",
    "fig = Figure()\n",
    "\n",
    "ax = fig[1,1] = Axis3(fig; title = \"found attractors\")\n",
    "cmap = cgrad(:dense, 6; categorical = true)\n",
    "\n",
    "scatter_attractors!(ax, attractors)\n",
    "\n",
    "fig"
   ]
  },
  {
   "cell_type": "code",
   "execution_count": 25,
   "id": "f526f1ca",
   "metadata": {},
   "outputs": [
    {
     "data": {
      "image/png": "[encoded data removed]",
      "text/plain": [
       "Figure()"
      ]
     },
     "execution_count": 25,
     "metadata": {},
     "output_type": "execute_result"
    }
   ],
   "source": [
    "function scatter_attractors!(ax, attractors)\n",
    "    \n",
    "    for k ∈ keys(attractors)\n",
    "        x1, y1, z1, x2, y2, z2 = columns(attractors[k])\n",
    "        scatter!(ax, y1, z1; color = Cycled(k), strokewidth = 3, strokecolor = :white )\n",
    "    end\n",
    "    \n",
    "end\n",
    "\n",
    "\n",
    "\n",
    "f = Figure()\n",
    "\n",
    "ax = Axis(f[1, 1])\n",
    "\n",
    "scatter_attractors!(ax, attractors)\n",
    "f"
   ]
  }
 ],
 "metadata": {
  "kernelspec": {
   "display_name": "Julia 1.7.2",
   "language": "julia",
   "name": "julia-1.7"
  },
  "language_info": {
   "file_extension": ".jl",
   "mimetype": "application/julia",
   "name": "julia",
   "version": "1.7.2"
  }
 },
 "nbformat": 4,
 "nbformat_minor": 5
}
