{
 "cells": [
  {
   "cell_type": "code",
   "execution_count": 19,
   "id": "cfa67dc1",
   "metadata": {},
   "outputs": [],
   "source": [
    "using CairoMakie\n",
    "using JLD\n",
    "using NPZ"
   ]
  },
  {
   "cell_type": "code",
   "execution_count": 6,
   "id": "c88a8089",
   "metadata": {},
   "outputs": [
    {
     "data": {
      "text/plain": [
       "101×101 Matrix{Float64}:\n",
       " 2.0  2.0  2.0  2.0  2.0  2.0  2.0  2.0  …  4.0  4.0  4.0  4.0  4.0  4.0  4.0\n",
       " 2.0  2.0  2.0  2.0  2.0  2.0  2.0  2.0     4.0  4.0  4.0  4.0  4.0  4.0  4.0\n",
       " 2.0  2.0  2.0  2.0  2.0  2.0  2.0  2.0     2.0  4.0  4.0  4.0  4.0  4.0  4.0\n",
       " 2.0  2.0  2.0  2.0  2.0  2.0  2.0  2.0     4.0  4.0  4.0  4.0  4.0  4.0  4.0\n",
       " 2.0  2.0  2.0  2.0  2.0  2.0  2.0  2.0     4.0  4.0  4.0  4.0  4.0  4.0  4.0\n",
       " 2.0  2.0  2.0  2.0  2.0  2.0  2.0  2.0  …  4.0  4.0  4.0  4.0  4.0  4.0  4.0\n",
       " 2.0  2.0  2.0  2.0  2.0  2.0  2.0  2.0     4.0  4.0  4.0  4.0  4.0  4.0  4.0\n",
       " 2.0  2.0  2.0  2.0  2.0  2.0  2.0  2.0     4.0  4.0  4.0  4.0  4.0  4.0  4.0\n",
       " 2.0  2.0  2.0  2.0  2.0  2.0  2.0  2.0     4.0  4.0  4.0  4.0  4.0  4.0  4.0\n",
       " 2.0  2.0  2.0  2.0  2.0  2.0  2.0  2.0     4.0  4.0  4.0  4.0  4.0  4.0  4.0\n",
       " 2.0  2.0  2.0  2.0  2.0  2.0  2.0  2.0  …  4.0  4.0  4.0  4.0  4.0  4.0  4.0\n",
       " 2.0  2.0  2.0  2.0  2.0  2.0  2.0  2.0     4.0  4.0  4.0  4.0  4.0  4.0  4.0\n",
       " 2.0  2.0  2.0  2.0  2.0  2.0  2.0  2.0     4.0  4.0  4.0  4.0  4.0  4.0  4.0\n",
       " ⋮                        ⋮              ⋱       ⋮                        ⋮\n",
       " 4.0  4.0  4.0  4.0  4.0  4.0  4.0  4.0     2.0  2.0  2.0  4.0  4.0  4.0  3.0\n",
       " 4.0  4.0  4.0  4.0  3.0  4.0  4.0  4.0  …  3.0  3.0  3.0  4.0  4.0  4.0  4.0\n",
       " 4.0  4.0  4.0  4.0  4.0  4.0  4.0  4.0     4.0  4.0  4.0  4.0  4.0  4.0  4.0\n",
       " 4.0  4.0  4.0  4.0  4.0  4.0  4.0  4.0     4.0  4.0  4.0  4.0  4.0  4.0  4.0\n",
       " 4.0  4.0  4.0  4.0  4.0  2.0  2.0  4.0     4.0  4.0  4.0  4.0  4.0  4.0  4.0\n",
       " 4.0  4.0  2.0  2.0  2.0  4.0  4.0  4.0     4.0  4.0  4.0  4.0  4.0  4.0  4.0\n",
       " 2.0  4.0  4.0  4.0  4.0  4.0  4.0  4.0  …  4.0  4.0  4.0  4.0  4.0  4.0  4.0\n",
       " 4.0  4.0  4.0  4.0  4.0  4.0  4.0  4.0     4.0  4.0  4.0  4.0  4.0  4.0  4.0\n",
       " 4.0  4.0  4.0  4.0  4.0  4.0  4.0  4.0     4.0  4.0  4.0  4.0  4.0  4.0  4.0\n",
       " 4.0  4.0  4.0  4.0  4.0  4.0  4.0  4.0     4.0  4.0  4.0  4.0  4.0  4.0  4.0\n",
       " 4.0  4.0  4.0  4.0  4.0  4.0  4.0  4.0     4.0  4.0  4.0  4.0  4.0  4.0  4.0\n",
       " 4.0  4.0  4.0  4.0  4.0  4.0  4.0  4.0  …  4.0  4.0  4.0  4.0  4.0  4.0  4.0"
      ]
     },
     "execution_count": 6,
     "metadata": {},
     "output_type": "execute_result"
    }
   ],
   "source": [
    "spec_map_00 = load(\"color_map_k01.jld\")[\"data\"]\n",
    "spec_map_01 = load(\"color_map_k00.jld\")[\"data\"]"
   ]
  },
  {
   "cell_type": "code",
   "execution_count": 21,
   "id": "90be92c2",
   "metadata": {},
   "outputs": [],
   "source": [
    "npzwrite(\"spec_map_00.npy\", spec_map_00 )\n",
    "npzwrite(\"spec_map_01.npy\", spec_map_01)\n",
    "npzwrite(\"EE_map_00.npy\", EE_map_00)"
   ]
  },
  {
   "cell_type": "code",
   "execution_count": 12,
   "id": "bb8823fe",
   "metadata": {},
   "outputs": [
    {
     "data": {
      "text/plain": [
       "101×101 Matrix{Float64}:\n",
       " 0.0  0.0  0.0  0.0  0.0  0.0  0.0  0.0  …  0.0  0.0  0.0  0.0  0.0  0.0  0.0\n",
       " 0.0  0.0  0.0  0.0  0.0  0.0  0.0  0.0     0.0  0.0  0.0  0.0  0.0  0.0  0.0\n",
       " 0.0  0.0  0.0  0.0  0.0  0.0  0.0  0.0     0.0  0.0  0.0  0.0  0.0  0.0  0.0\n",
       " 0.0  0.0  0.0  0.0  0.0  0.0  0.0  0.0     0.0  0.0  0.0  0.0  0.0  0.0  0.0\n",
       " 0.0  0.0  0.0  0.0  0.0  0.0  0.0  0.0     0.0  0.0  0.0  0.0  0.0  0.0  0.0\n",
       " 0.0  0.0  0.0  0.0  0.0  0.0  0.0  0.0  …  0.0  0.0  0.0  0.0  0.0  0.0  0.0\n",
       " 0.0  0.0  0.0  0.0  0.0  0.0  0.0  0.0     0.0  0.0  0.0  0.0  0.0  0.0  0.0\n",
       " 0.0  0.0  0.0  0.0  0.0  0.0  0.0  0.0     0.0  0.0  0.0  0.0  0.0  0.0  0.0\n",
       " 0.0  0.0  0.0  0.0  0.0  0.0  0.0  0.0     0.0  0.0  0.0  0.0  0.0  0.0  0.0\n",
       " 0.0  0.0  0.0  0.0  0.0  0.0  0.0  0.0     0.0  0.0  0.0  0.0  0.0  0.0  0.0\n",
       " 0.0  0.0  0.0  0.0  0.0  0.0  0.0  0.0  …  0.0  0.0  0.0  0.0  0.0  0.0  0.0\n",
       " 0.0  0.0  0.0  0.0  0.0  0.0  0.0  0.0     0.0  0.0  0.0  0.0  0.0  0.0  0.0\n",
       " 0.0  0.0  0.0  0.0  0.0  0.0  0.0  0.0     0.0  0.0  0.0  0.0  0.0  0.0  0.0\n",
       " ⋮                        ⋮              ⋱       ⋮                        ⋮\n",
       " 0.0  0.0  0.0  0.0  0.0  0.0  0.0  0.0     0.0  0.0  0.0  0.0  0.0  0.0  0.0\n",
       " 0.0  0.0  0.0  0.0  0.0  0.0  0.0  0.0  …  0.0  0.0  0.0  0.0  0.0  0.0  0.0\n",
       " 0.0  0.0  0.0  0.0  0.0  0.0  0.0  0.0     0.0  0.0  0.0  0.0  0.0  0.0  0.0\n",
       " 0.0  0.0  0.0  0.0  0.0  0.0  0.0  0.0     0.0  0.0  0.0  0.0  0.0  0.0  0.0\n",
       " 0.0  0.0  0.0  0.0  0.0  0.0  0.0  0.0     0.0  0.0  0.0  0.0  0.0  0.0  0.0\n",
       " 0.0  0.0  0.0  0.0  0.0  0.0  0.0  0.0     0.0  0.0  0.0  0.0  0.0  0.0  0.0\n",
       " 0.0  0.0  0.0  0.0  0.0  0.0  0.0  0.0  …  0.0  0.0  0.0  0.0  0.0  0.0  0.0\n",
       " 0.0  0.0  0.0  0.0  0.0  0.0  0.0  0.0     0.0  0.0  0.0  0.0  0.0  0.0  0.0\n",
       " 0.0  0.0  0.0  0.0  0.0  0.0  0.0  0.0     0.0  0.0  0.0  0.0  0.0  0.0  0.0\n",
       " 0.0  0.0  0.0  0.0  0.0  0.0  0.0  0.0     0.0  0.0  0.0  0.0  0.0  0.0  0.0\n",
       " 0.0  0.0  0.0  0.0  0.0  0.0  0.0  0.0     0.0  0.0  0.0  0.0  0.0  0.0  0.0\n",
       " 0.0  0.0  0.0  0.0  0.0  0.0  0.0  0.0  …  0.0  0.0  0.0  0.0  0.0  0.0  0.0"
      ]
     },
     "execution_count": 12,
     "metadata": {},
     "output_type": "execute_result"
    }
   ],
   "source": [
    "EE_map_00 = load(\"C:\\\\Users\\\\Alex\\\\Desktop\\\\dynamical-systems\\\\Hindmarrh Rose\\\\probablity density function\\\\EV_map_k01.jld\")[\"data\"]"
   ]
  },
  {
   "cell_type": "code",
   "execution_count": 13,
   "id": "11d32913",
   "metadata": {},
   "outputs": [
    {
     "data": {
      "text/plain": [
       "-0.5:0.01:0.5"
      ]
     },
     "execution_count": 13,
     "metadata": {},
     "output_type": "execute_result"
    }
   ],
   "source": [
    "start_k1, end_k1, step_k1 = -0.5, 0.5, 0.01\n",
    "start_k2, end_k2, step_k2 = -0.5, 0.5, 0.01\n",
    "\n",
    "k1_array = range( start_k1, end_k1, step = step_k1 )\n",
    "k2_array = range( start_k2, end_k2, step = step_k2 )"
   ]
  },
  {
   "cell_type": "code",
   "execution_count": 30,
   "id": "b9b06157",
   "metadata": {},
   "outputs": [
    {
     "data": {
      "image/png": "[encoded data removed]",
      "text/plain": [
       "Figure()"
      ]
     },
     "execution_count": 30,
     "metadata": {},
     "output_type": "execute_result"
    }
   ],
   "source": [
    "EE_00 = EE_map_00;\n",
    "EE_00 = [ iszero(x) ? missing : x for x in EE_map_00 ];\n",
    "\n",
    "fig = Figure(fontsize = 35)\n",
    "ax = Axis(fig[1, 1], xlabel = L\"k_1\", ylabel = L\"k_2\")\n",
    "hm = heatmap!(ax, k1_array, k2_array, transpose(spec_map_00), colormap = :rainbow1)\n",
    "# Colorbar(fig[:, end+1], hm)\n",
    "fig"
   ]
  },
  {
   "cell_type": "code",
   "execution_count": null,
   "id": "36605bf6",
   "metadata": {},
   "outputs": [],
   "source": []
  }
 ],
 "metadata": {
  "kernelspec": {
   "display_name": "Julia 1.8.1",
   "language": "julia",
   "name": "julia-1.8"
  },
  "language_info": {
   "file_extension": ".jl",
   "mimetype": "application/julia",
   "name": "julia",
   "version": "1.8.1"
  }
 },
 "nbformat": 4,
 "nbformat_minor": 5
}
