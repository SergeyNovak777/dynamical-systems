{
 "cells": [
  {
   "cell_type": "code",
   "execution_count": 1,
   "id": "b60230bd",
   "metadata": {},
   "outputs": [],
   "source": [
    "using JLD"
   ]
  },
  {
   "cell_type": "code",
   "execution_count": 2,
   "id": "80f05314",
   "metadata": {},
   "outputs": [
    {
     "data": {
      "text/plain": [
       "-0.5:0.01:0.5"
      ]
     },
     "execution_count": 2,
     "metadata": {},
     "output_type": "execute_result"
    }
   ],
   "source": [
    "start_k1, end_k1, step_k1 = -0.5, 0.5, 0.01\n",
    "start_k2, end_k2, step_k2 = -0.5, 0.5, 0.01\n",
    "\n",
    "k1_array = range( start_k1, end_k1, step = step_k1 )\n",
    "k2_array = range( start_k2, end_k2, step = step_k2 )"
   ]
  },
  {
   "cell_type": "code",
   "execution_count": 3,
   "id": "cbc89ac5",
   "metadata": {},
   "outputs": [
    {
     "ename": "LoadError",
     "evalue": "syntax: invalid escape sequence",
     "output_type": "error",
     "traceback": [
      "syntax: invalid escape sequence",
      "",
      "Stacktrace:",
      " [1] top-level scope",
      "   @ In[3]:1",
      " [2] eval",
      "   @ .\\boot.jl:373 [inlined]",
      " [3] include_string(mapexpr::typeof(REPL.softscope), mod::Module, code::String, filename::String)",
      "   @ Base .\\loading.jl:1196"
     ]
    }
   ],
   "source": [
    "spectrum_matrix = load(\"C:\\\\Users\\olenin.s\\\\Desktop\\\\dynamical-systems\\\\Hindmarrh Rose\\\\chaos_EV_map\\\\spectrum_matrix.jld\")[\"data\"]\n",
    "color_matrix = zeros( ( length(k1_array), length(k2_array) ) );"
   ]
  },
  {
   "cell_type": "code",
   "execution_count": 10,
   "id": "c0fd4b38",
   "metadata": {},
   "outputs": [
    {
     "data": {
      "text/plain": [
       "-3.23323231e-8"
      ]
     },
     "execution_count": 10,
     "metadata": {},
     "output_type": "execute_result"
    }
   ],
   "source": [
    "ms1 = 0.0\n",
    "ms2 = 1.0\n",
    "ms3 = 3.45\n",
    "ms4 = -1e-7\n",
    "ms5 = -0.34\n",
    "ms6 = -0.323323231e-7"
   ]
  },
  {
   "cell_type": "code",
   "execution_count": 7,
   "id": "a73c10a7",
   "metadata": {},
   "outputs": [
    {
     "data": {
      "text/plain": [
       "check_condition (generic function with 1 method)"
      ]
     },
     "execution_count": 7,
     "metadata": {},
     "output_type": "execute_result"
    }
   ],
   "source": [
    "function check_condition(spectrum)\n",
    "    spectrum[1]>0  && spectrum[2]>0   && spectrum[3]==0 && spectrum[4]<0 && spectrum[5]<0 && spectrum[6]<0   ? color = 1 :\n",
    "    spectrum[1]>0  && spectrum[2]==0  && spectrum[3]<0  && spectrum[4]<0 && spectrum[5]<0 && spectrum[6]<0   ? color = 2 :\n",
    "    spectrum[1]==0 && spectrum[2]==0  && spectrum[3]<0  && spectrum[4]<0 && spectrum[5]<0 && spectrum[6]<0   ? color = 3 :\n",
    "    spectrum[1]==0 && spectrum[2]==0  && spectrum[3]<0  && spectrum[4]<0 && spectrum[5]<0 && spectrum[6]<0   ? color = 4 :\n",
    "    color = 5\n",
    "    return color\n",
    "end"
   ]
  },
  {
   "cell_type": "code",
   "execution_count": 1,
   "id": "a4d30617",
   "metadata": {},
   "outputs": [
    {
     "data": {
      "text/plain": [
       "false"
      ]
     },
     "execution_count": 1,
     "metadata": {},
     "output_type": "execute_result"
    }
   ],
   "source": [
    "isapprox(-7.653599252595345e-5, 0.0; atol = 1e-5)"
   ]
  },
  {
   "cell_type": "code",
   "execution_count": null,
   "id": "66d2613f",
   "metadata": {},
   "outputs": [],
   "source": []
  }
 ],
 "metadata": {
  "kernelspec": {
   "display_name": "Julia 1.7.2",
   "language": "julia",
   "name": "julia-1.7"
  },
  "language_info": {
   "file_extension": ".jl",
   "mimetype": "application/julia",
   "name": "julia",
   "version": "1.7.2"
  }
 },
 "nbformat": 4,
 "nbformat_minor": 5
}
