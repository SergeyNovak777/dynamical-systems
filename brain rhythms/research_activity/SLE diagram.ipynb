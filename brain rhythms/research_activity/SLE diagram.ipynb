{
 "cells": [
  {
   "cell_type": "code",
   "execution_count": 1,
   "id": "9791b4a8",
   "metadata": {},
   "outputs": [
    {
     "name": "stderr",
     "output_type": "stream",
     "text": [
      "\u001b[32m\u001b[1m  Activating\u001b[22m\u001b[39m project at `C:\\Users\\Alex\\Desktop\\dynamical-systems\\env\\integrate`\n"
     ]
    }
   ],
   "source": [
    "username = \"Alex\"\n",
    "pathtorepo = \"C:\\\\Users\\\\\" *username *  \"\\\\Desktop\\\\\"\n",
    "using Pkg\n",
    "Pkg.activate(pathtorepo * \"dynamical-systems\\\\env\\\\integrate\\\\\")"
   ]
  },
  {
   "cell_type": "code",
   "execution_count": 15,
   "id": "af8f077d",
   "metadata": {},
   "outputs": [],
   "source": [
    "using StaticArrays, DifferentialEquations, DynamicalSystems, CairoMakie"
   ]
  },
  {
   "cell_type": "code",
   "execution_count": 16,
   "id": "18e701ba",
   "metadata": {},
   "outputs": [
    {
     "data": {
      "text/plain": [
       "save_tofile (generic function with 1 method)"
      ]
     },
     "metadata": {},
     "output_type": "display_data"
    }
   ],
   "source": [
    "function model_braint_rhythms(u, p, t)\n",
    "\n",
    "    sE, sI, rE, rI, Y = u\n",
    "    τsE, γE, s0E, τsI, γI, s0I, τrE, kE, IE, wEE, wIE, θE, τrI, kI, II, wEI, wII, θI, τY, βY, gammaY, ythr, sEthr, kY = p\n",
    "\n",
    "    g(Y) = 1 + gammaY / (1 + exp(-Y + ythr))\n",
    "    HevY(sE) = 1/(1 + exp(-(sE - sEthr)/kY))\n",
    "\n",
    "    dsEdt = (1/τsE) *(-sE + γE*rE*(1-sE)*g(Y) + s0E)\n",
    "    dsIdt = (1/τsI) *(-sI + γI*rI*(1-sI) + s0I)\n",
    "\n",
    "    drEdt = (1/ τrE) *(-rE + 1/(1 + exp(-kE*((IE + wEE*sE-wIE*sI) -  θE))))\n",
    "    drIdt = (1/τrI) *(-rI + 1/(1 + exp(-kI*((II + wEI*sE-wII*sI) - θI))))\n",
    "    \n",
    "    dYdt = -Y / τY + βY * HevY(sE)\n",
    "    \n",
    "    return SVector(dsEdt, dsIdt, drEdt, drIdt, dYdt)\n",
    "end\n",
    "\n",
    "function output(idx, parameter, u0)\n",
    "    println(\"index: $idx; \" * name_control_param * \": $parameter\");flush(stdout)\n",
    "    println(\"u0: $u0\");flush(stdout)\n",
    "end\n",
    "function output(Λ, u0)\n",
    "    println(\"Λ: $Λ\");flush(stdout)\n",
    "    println(\"last point: $u0\");flush(stdout)\n",
    "end\n",
    "function separate()\n",
    "    println(\"----------------\");flush(stdout)\n",
    "    println(\"  \");flush(stdout)\n",
    "end\n",
    "function save_tofile(name, Λs, u0s)\n",
    "    nameLS = \"LSs \"*  name * \".jld\"\n",
    "    nameu0s = \"u0s \"*  name * \".jld\"\n",
    "    save(nameLS, \"data\", Λs)\n",
    "    save(nameu0s, \"data\", u0s)\n",
    "end"
   ]
  },
  {
   "cell_type": "code",
   "execution_count": 17,
   "id": "553bff5f",
   "metadata": {},
   "outputs": [],
   "source": [
    "time = 500.0; tt = 250.0; tstep = 0.001; times = [time, tt]\n",
    "integ_set = (alg = Vern9(), adaptive = false, dt = tstep);"
   ]
  },
  {
   "cell_type": "code",
   "execution_count": 18,
   "id": "1da086f1",
   "metadata": {},
   "outputs": [
    {
     "data": {
      "text/plain": [
       "0.01"
      ]
     },
     "metadata": {},
     "output_type": "display_data"
    }
   ],
   "source": [
    "τsE = 3.0; γE = 4.0; s0E = 0.15;\n",
    "τsI = 10.0; γI = 8.0; s0I = 0.1;\n",
    "\n",
    "τrE = 2.0; kE = 5.0; IE = 0.9; wEE = 3.5; wIE = 5.0; θE = 0.2;\n",
    "τrI = 6.0; kI = 5.0; II = 0.0; wEI = 5.0; wII = 3.0; θI = 0.4;\n",
    "\n",
    "τY = 0.01;  βY = 0.01; γY = 0.0\n",
    "ythr = 0.5; sEthr = 0.5; kY = 0.01"
   ]
  },
  {
   "cell_type": "code",
   "execution_count": 19,
   "id": "00498ca5",
   "metadata": {},
   "outputs": [
    {
     "data": {
      "text/plain": [
       "5-element Vector{Float64}:\n",
       " 0.0\n",
       " 0.0\n",
       " 0.0\n",
       " 0.0\n",
       " 0.0"
      ]
     },
     "metadata": {},
     "output_type": "display_data"
    }
   ],
   "source": [
    "params = [τsE, γE, s0E, τsI, γI, s0I, τrE, kE, IE, wEE, wIE, θE, τrI, kI, II, wEI, wII, θI, τY, βY, γY, ythr, sEthr, kY];\n",
    "u0_start = [0.0, 0.0, 0.0, 0.0, 0.0]"
   ]
  },
  {
   "cell_type": "code",
   "execution_count": 20,
   "id": "d70006a5",
   "metadata": {},
   "outputs": [
    {
     "data": {
      "text/plain": [
       "0.0:0.05:100.0"
      ]
     },
     "metadata": {},
     "output_type": "display_data"
    }
   ],
   "source": [
    "name_control_param = \"γy\"\n",
    "index_control_param = 21\n",
    "start_param = 0.0\n",
    "end_param = 100.0\n",
    "length_range = 2001\n",
    "param_range = range(start_param, end_param, length = length_range)"
   ]
  },
  {
   "cell_type": "code",
   "execution_count": 21,
   "id": "c67f4110",
   "metadata": {},
   "outputs": [
    {
     "data": {
      "text/plain": [
       "\"2000 change γY to 100.0\""
      ]
     },
     "metadata": {},
     "output_type": "display_data"
    }
   ],
   "source": [
    "Λs =  zeros(length(param_range), 5)\n",
    "u0s = zeros(length(param_range), 5)\n",
    "filename = \"2000 change γY to 100.0\""
   ]
  },
  {
   "cell_type": "code",
   "execution_count": 22,
   "id": "1ba9526c",
   "metadata": {
    "scrolled": true
   },
   "outputs": [],
   "source": [
    "for (idx_enum, p) in enumerate(param_range)\n",
    "\n",
    "    if idx_enum == 1\n",
    "        global u0 = u0_start\n",
    "        global params_ = params\n",
    "    end\n",
    "\n",
    "    params_[index_control_param] = p\n",
    "    #output(idx_enum, params_[index_control_param], u0)\n",
    "\n",
    "    ds = CoupledODEs(model_braint_rhythms,  u0, params_, diffeq = integ_set)\n",
    "\n",
    "    tr, _ = trajectory(ds, time, Δt = tstep; Ttr = tt)\n",
    "    u0 = tr[end]; ds = CoupledODEs(model_braint_rhythms,  u0, params_, diffeq = integ_set)\n",
    "    Λ = lyapunovspectrum(ds, Int(time))\n",
    "    Λs[idx_enum, :] = Λ\n",
    "    u0s[idx_enum, :] = u0\n",
    "    \n",
    "    #output(Λs[idx_enum, :], u0s[idx_enum, :])\n",
    "    #separate()\n",
    "    save_tofile(filename, Λs, u0s)\n",
    "    \n",
    "end"
   ]
  }
 ],
 "metadata": {
  "kernelspec": {
   "display_name": "Julia 1.9.1",
   "language": "julia",
   "name": "julia-1.9"
  },
  "language_info": {
   "file_extension": ".jl",
   "mimetype": "application/julia",
   "name": "julia",
   "version": "1.9.1"
  }
 },
 "nbformat": 4,
 "nbformat_minor": 5
}
