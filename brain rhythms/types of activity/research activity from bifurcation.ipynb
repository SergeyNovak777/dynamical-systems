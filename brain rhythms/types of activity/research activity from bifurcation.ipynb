{
 "cells": [
  {
   "cell_type": "code",
   "execution_count": 1,
   "metadata": {},
   "outputs": [
    {
     "name": "stderr",
     "output_type": "stream",
     "text": [
      "\u001b[32m\u001b[1m  Activating\u001b[22m\u001b[39m project at `C:\\Users\\Alex\\Desktop\\dynamical-systems\\env\\integrate`"
     ]
    },
    {
     "name": "stderr",
     "output_type": "stream",
     "text": [
      "\n"
     ]
    }
   ],
   "source": [
    "username = \"Alex\"\n",
    "env = \"integrate\"\n",
    "pathtorepo = \"C:\\\\Users\\\\\" *username *  \"\\\\Desktop\\\\\"\n",
    "using Pkg\n",
    "Pkg.activate(pathtorepo * \"dynamical-systems\\\\env\\\\\" * env * \"\\\\\")\n",
    "include(pathtorepo * \"dynamical-systems\\\\system.jl\")\n",
    "\n",
    "using StaticArrays, DifferentialEquations, DynamicalSystems\n",
    "sE, sI, rE, rI, Y  = -50..50, -50..50,  -50..50, -50..50, -50..50\n",
    "box = sE × sI × rE × rI × Y\n",
    "using GLMakie, LinearAlgebra"
   ]
  },
  {
   "cell_type": "code",
   "execution_count": 2,
   "metadata": {},
   "outputs": [
    {
     "data": {
      "text/plain": [
       "get_valus_vectors (generic function with 1 method)"
      ]
     },
     "metadata": {},
     "output_type": "display_data"
    }
   ],
   "source": [
    "function get_valus_vectors(fp)\n",
    "    Jfp = rate_jac(fp, p, 0.0)\n",
    "    Jfp_value_vectors = eigen(Jfp)\n",
    "    Jfp_value = Jfp_value_vectors.values\n",
    "    Jfp_vectors = Jfp_value_vectors.vectors\n",
    "    return Jfp_value, Jfp_vectors\n",
    "end"
   ]
  },
  {
   "cell_type": "code",
   "execution_count": 14,
   "metadata": {},
   "outputs": [
    {
     "data": {
      "text/plain": [
       "0.0"
      ]
     },
     "metadata": {},
     "output_type": "display_data"
    }
   ],
   "source": [
    "τsE = 3.0; γE = 4.0; s0E = 0.15;\n",
    "τsI = 10.0; γI = 8.0; s0I = 0.1 # 0.3267\n",
    "# IE = 0.9; \n",
    "τrE = 2.0; kE = 5.0; IE = 0.9; wEE = 3.5; wIE = 5.0; θE = 0.2;\n",
    "τrI = 6.0; kI = 5.0; II = 0.0; wEI = 5.0; wII = 3.0; θI = 0.4;\n",
    "\n",
    "τY = 0.01;  βY = 0.0;\n",
    "ythr = 0.5; sEthr = 0.5; kY = 0.01; γY = 0.0"
   ]
  },
  {
   "cell_type": "code",
   "execution_count": 15,
   "metadata": {},
   "outputs": [],
   "source": [
    "time = 500.0; tt = 0.0; tstep = 0.001; tspan = (0.0, time)\n",
    "integ_set = (alg = Vern9(), adaptive = false, dt = tstep);"
   ]
  },
  {
   "cell_type": "code",
   "execution_count": 16,
   "metadata": {},
   "outputs": [],
   "source": [
    "p = [τsE, γE, s0E, τsI, γI, s0I, τrE, kE, IE, wEE, wIE, θE, τrI, kI, II, wEI, wII, θI, τY, βY, γY, ythr, sEthr, kY];\n",
    "u0 = [0.0, 0.0, 0.0, 0.0, 0.0]\n",
    "\n",
    "ds = CoupledODEs(model_braint_rhythms, u0, p, diffeq = integ_set);"
   ]
  },
  {
   "cell_type": "code",
   "execution_count": 17,
   "metadata": {},
   "outputs": [],
   "source": [
    "fp, _, _ = fixedpoints(ds, box, rate_jac);"
   ]
  },
  {
   "cell_type": "code",
   "execution_count": 19,
   "metadata": {},
   "outputs": [
    {
     "data": {
      "text/plain": [
       "5-element SVector{5, Float64} with indices SOneTo(5):\n",
       "  0.2522329213720189\n",
       "  0.45021724371685473\n",
       "  0.034179400342014936\n",
       "  0.07962627958826166\n",
       " -2.7617715536363738e-67"
      ]
     },
     "metadata": {},
     "output_type": "display_data"
    }
   ],
   "source": [
    "fp[1]"
   ]
  },
  {
   "cell_type": "code",
   "execution_count": 8,
   "metadata": {},
   "outputs": [
    {
     "data": {
      "text/plain": [
       "([-100.0, -1.7779371261620636, -0.8028053921851471, 0.0025466515889394988, 0.41680599642289984], [-0.0008185327177697605 -0.8393629248388502 … -0.2852904284154034 0.5876324122887837; -6.7620377925110675e-9 -0.038351106937266115 … -0.13963072665121126 0.06890990399913219; … ; 6.490785940195281e-6 0.401095807831147 … -0.942769063882444 0.7412059536601635; 0.9999996649690234 0.0 … 0.0 0.0])"
      ]
     },
     "metadata": {},
     "output_type": "display_data"
    }
   ],
   "source": [
    "valuesfp1, vectorsfp1 = get_valus_vectors(fp[3])"
   ]
  },
  {
   "cell_type": "code",
   "execution_count": 9,
   "metadata": {},
   "outputs": [
    {
     "data": {
      "text/plain": [
       "5-element SVector{5, Float64} with indices SOneTo(5):\n",
       " -100.0\n",
       "   -1.7779371261620636\n",
       "   -0.8028053921851471\n",
       "    0.0025466515889394988\n",
       "    0.41680599642289984"
      ]
     },
     "metadata": {},
     "output_type": "display_data"
    }
   ],
   "source": [
    "valuesfp1"
   ]
  },
  {
   "cell_type": "code",
   "execution_count": 10,
   "metadata": {},
   "outputs": [
    {
     "data": {
      "text/plain": [
       "5-element SVector{5, Float64} with indices SOneTo(5):\n",
       " 0.6452839487186042\n",
       " 0.870682381180306\n",
       " 0.07329021069342598\n",
       " 0.7449510598956918\n",
       " 0.0"
      ]
     },
     "metadata": {},
     "output_type": "display_data"
    }
   ],
   "source": [
    "Jac = rate_jac(fp[3], p, 0)\n",
    "eivecs = eigvecs(Jac)\n",
    "shift = real(eivecs[:, 4])*1e-6 + fp[3]"
   ]
  },
  {
   "cell_type": "code",
   "execution_count": 11,
   "metadata": {},
   "outputs": [],
   "source": [
    "prob = ODEProblem(model_braint_rhythms, shift, tspan, p);"
   ]
  },
  {
   "cell_type": "code",
   "execution_count": 12,
   "metadata": {},
   "outputs": [
    {
     "data": {
      "text/plain": [
       "retcode: Success\n",
       "Interpolation: specialized 9th order lazy interpolation\n",
       "t: 500002-element Vector{Float64}:\n",
       "   0.0\n",
       "   0.001\n",
       "   0.002\n",
       "   0.003\n",
       "   0.004\n",
       "   0.005\n",
       "   0.006\n",
       "   0.007\n",
       "   0.008\n",
       "   0.009000000000000001\n",
       "   ⋮\n",
       " 499.9929999950886\n",
       " 499.9939999950886\n",
       " 499.99499999508856\n",
       " 499.99599999508854\n",
       " 499.9969999950885\n",
       " 499.9979999950885\n",
       " 499.99899999508847\n",
       " 499.99999999508844\n",
       " 500.0\n",
       "u: 500002-element Vector{SVector{5, Float64}}:\n",
       " [0.6452839487186042, 0.870682381180306, 0.07329021069342598, 0.7449510598956918, 0.0]\n",
       " [0.6452839487178774, 0.8706823811799503, 0.07329021069316756, 0.7449510598932907, 0.0]\n",
       " [0.6452839487171507, 0.8706823811795946, 0.07329021069290914, 0.7449510598908896, 0.0]\n",
       " [0.6452839487164239, 0.8706823811792389, 0.07329021069265072, 0.7449510598884885, 0.0]\n",
       " [0.6452839487156972, 0.8706823811788832, 0.0732902106923923, 0.7449510598860875, 0.0]\n",
       " [0.6452839487149704, 0.8706823811785275, 0.07329021069213389, 0.7449510598836864, 0.0]\n",
       " [0.6452839487142437, 0.8706823811781718, 0.07329021069187547, 0.7449510598812852, 0.0]\n",
       " [0.6452839487135169, 0.870682381177816, 0.07329021069161705, 0.744951059878884, 0.0]\n",
       " [0.6452839487127902, 0.8706823811774603, 0.07329021069135863, 0.7449510598764828, 0.0]\n",
       " [0.6452839487120634, 0.8706823811771046, 0.07329021069110021, 0.7449510598740816, 0.0]\n",
       " ⋮\n",
       " [0.9527612348817747, 0.8999783336691205, 0.8919908842666049, 0.9997563065777223, 0.0]\n",
       " [0.9527612348817747, 0.8999783336691205, 0.8919908842666049, 0.9997563065777223, 0.0]\n",
       " [0.9527612348817747, 0.8999783336691205, 0.8919908842666049, 0.9997563065777223, 0.0]\n",
       " [0.9527612348817747, 0.8999783336691205, 0.8919908842666049, 0.9997563065777223, 0.0]\n",
       " [0.9527612348817747, 0.8999783336691205, 0.8919908842666049, 0.9997563065777223, 0.0]\n",
       " [0.9527612348817747, 0.8999783336691205, 0.8919908842666049, 0.9997563065777223, 0.0]\n",
       " [0.9527612348817747, 0.8999783336691205, 0.8919908842666049, 0.9997563065777223, 0.0]\n",
       " [0.9527612348817747, 0.8999783336691205, 0.8919908842666049, 0.9997563065777223, 0.0]\n",
       " [0.9527612348817747, 0.8999783336691205, 0.8919908842666049, 0.9997563065777223, 0.0]"
      ]
     },
     "metadata": {},
     "output_type": "display_data"
    }
   ],
   "source": [
    "sol = solve(prob, alg = Vern9(), adaptive = false, dt = 0.001)"
   ]
  },
  {
   "cell_type": "code",
   "execution_count": 13,
   "metadata": {},
   "outputs": [
    {
     "data": {
      "text/plain": [
       "GLMakie.Screen(...)"
      ]
     },
     "metadata": {},
     "output_type": "display_data"
    }
   ],
   "source": [
    "tstart, tend = 1, 500000\n",
    "GLMakie.activate!()\n",
    "f = Figure(resolution = (700, 700))\n",
    "ax = LScene(f[1, 1], show_axis = true)\n",
    "scale!(ax.scene, 1, 1, 1)\n",
    "\n",
    "lines!(ax, sol[3, tstart:tend], sol[4, tstart:tend], sol[1, tstart:tend], linewidth = 0.5, color = :deeppink)\n",
    "\n",
    "display(GLMakie.Screen(), f)"
   ]
  }
 ],
 "metadata": {
  "kernelspec": {
   "display_name": "Julia 1.9.1",
   "language": "julia",
   "name": "julia-1.9"
  },
  "language_info": {
   "file_extension": ".jl",
   "mimetype": "application/julia",
   "name": "julia",
   "version": "1.9.1"
  },
  "orig_nbformat": 4
 },
 "nbformat": 4,
 "nbformat_minor": 2
}
