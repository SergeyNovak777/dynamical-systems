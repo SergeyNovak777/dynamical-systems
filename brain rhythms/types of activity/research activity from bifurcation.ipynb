{
 "cells": [
  {
   "cell_type": "code",
   "execution_count": 73,
   "metadata": {},
   "outputs": [
    {
     "name": "stderr",
     "output_type": "stream",
     "text": [
      "\u001b[32m\u001b[1m  Activating\u001b[22m\u001b[39m project at `C:\\Users\\Alex\\Desktop\\dynamical-systems\\env\\integrate`"
     ]
    },
    {
     "name": "stderr",
     "output_type": "stream",
     "text": [
      "\n"
     ]
    },
    {
     "data": {
      "text/plain": [
       "rate_jac (generic function with 1 method)"
      ]
     },
     "metadata": {},
     "output_type": "display_data"
    }
   ],
   "source": [
    "username = \"Alex\"\n",
    "pathtorepo = \"C:\\\\Users\\\\\" *username *  \"\\\\Desktop\\\\\"\n",
    "using Pkg\n",
    "Pkg.activate(pathtorepo * \"dynamical-systems\\\\env\\\\integrate\\\\\")\n",
    "include(pathtorepo * \"dynamical-systems\\\\system.jl\")"
   ]
  },
  {
   "cell_type": "code",
   "execution_count": 74,
   "metadata": {},
   "outputs": [],
   "source": [
    "using StaticArrays, DifferentialEquations, DynamicalSystems\n",
    "sE, sI, rE, rI, Y  = -50..50, -50..50,  -50..50, -50..50, -50..50\n",
    "box = sE × sI × rE × rI × Y\n",
    "using GLMakie, LinearAlgebra"
   ]
  },
  {
   "cell_type": "code",
   "execution_count": 75,
   "metadata": {},
   "outputs": [],
   "source": [
    "# (+1.92522693, +1.92525595)"
   ]
  },
  {
   "cell_type": "code",
   "execution_count": 76,
   "metadata": {},
   "outputs": [],
   "source": [
    "τsE = 3.0; γE = 4.0; s0E = 0.15;\n",
    "τsI = 10.0; γI = 8.0; s0I = 0.6441371581267546\n",
    "# IE = 0.9; \n",
    "τrE = 2.0; kE = 5.0; IE = 1.9251587331649411; wEE = 3.5; wIE = 5.0; θE = 0.2;\n",
    "τrI = 6.0; kI = 5.0; II = 0.0; wEI = 5.0; wII = 3.0; θI = 0.4;\n",
    "\n",
    "τY = 0.01;  βY = 0.0;\n",
    "ythr = 0.5; sEthr = 0.5; kY = 0.01; γY = 0.0;"
   ]
  },
  {
   "cell_type": "code",
   "execution_count": 77,
   "metadata": {},
   "outputs": [],
   "source": [
    "time = 1000; tt = 0.0; tstep = 0.001; times = [time, tt]\n",
    "integ_set = (alg = Vern9(), adaptive = false, dt = tstep);"
   ]
  },
  {
   "cell_type": "code",
   "execution_count": 78,
   "metadata": {},
   "outputs": [],
   "source": [
    "p = [τsE, γE, s0E, τsI, γI, s0I, τrE, kE, IE, wEE, wIE, θE, τrI, kI, II, wEI, wII, θI, τY, βY, γY, ythr, sEthr, kY];\n",
    "u0 = [0.0, 0.0, 0.0, 0.0, 0.0]\n",
    "\n",
    "ds = CoupledODEs(model_braint_rhythms, u0, p, diffeq = integ_set);"
   ]
  },
  {
   "cell_type": "code",
   "execution_count": 79,
   "metadata": {},
   "outputs": [],
   "source": [
    "fp, _, _ = fixedpoints(ds, box, rate_jac);"
   ]
  },
  {
   "cell_type": "code",
   "execution_count": 100,
   "metadata": {},
   "outputs": [],
   "source": [
    "Jfp = rate_jac(fp[1], p, 0.0)\n",
    "Jfp_value_vectors = eigen(Jfp)\n",
    "Jfp_value = Jfp_value_vectors.values\n",
    "Jfp_vectors = Jfp_value_vectors.vectors;"
   ]
  },
  {
   "cell_type": "code",
   "execution_count": 99,
   "metadata": {},
   "outputs": [
    {
     "data": {
      "text/plain": [
       "Eigen{Float64, Float64, SMatrix{5, 5, Float64, 25}, SVector{5, Float64}}\n",
       "values:\n",
       "5-element SVector{5, Float64} with indices SOneTo(5):\n",
       " -100.0\n",
       "   -0.9356287690191849\n",
       "   -0.20498539534386642\n",
       "   -0.000962691351841854\n",
       "    0.0010791207936811445\n",
       "vectors:\n",
       "5×5 SMatrix{5, 5, Float64, 25} with indices SOneTo(5)×SOneTo(5):\n",
       " 0.0   0.87436     -0.849873  -0.925154   -0.925298\n",
       " 0.0   0.00452695  -0.476845  -0.163867   -0.159236\n",
       " 0.0  -0.485068    -0.139199  -0.337159   -0.339069\n",
       " 0.0  -0.0135561    0.17595   -0.0596743  -0.0591562\n",
       " 1.0   0.0          0.0        0.0         0.0"
      ]
     },
     "metadata": {},
     "output_type": "display_data"
    }
   ],
   "source": [
    "# 1fp \n",
    "Jfp_value_vectors"
   ]
  },
  {
   "cell_type": "code",
   "execution_count": 97,
   "metadata": {},
   "outputs": [
    {
     "data": {
      "text/plain": [
       "Eigen{ComplexF64, ComplexF64, SMatrix{5, 5, ComplexF64, 25}, SVector{5, ComplexF64}}\n",
       "values:\n",
       "5-element SVector{5, ComplexF64} with indices SOneTo(5):\n",
       "                -100.0 + 0.0im\n",
       "   -0.9355334264399358 + 0.0im\n",
       "  -0.20496938191382563 + 0.0im\n",
       " 1.1369482919028338e-5 - 0.0010195519043432822im\n",
       " 1.1369482919028338e-5 + 0.0010195519043432822im\n",
       "vectors:\n",
       "5×5 SMatrix{5, 5, ComplexF64, 25} with indices SOneTo(5)×SOneTo(5):\n",
       " 0.0+0.0im    -0.874398+0.0im    -0.8499+0.0im  …   0.925257+0.0im\n",
       " 0.0+0.0im  -0.00452499+0.0im  -0.476811+0.0im      0.161513-0.00232549im\n",
       " 0.0+0.0im     0.484999+0.0im  -0.139197+0.0im      0.338054+0.000927702im\n",
       " 0.0+0.0im    0.0135485+0.0im    0.17591+0.0im     0.0593892-0.000263238im\n",
       " 1.0+0.0im          0.0+0.0im        0.0+0.0im           0.0+0.0im"
      ]
     },
     "metadata": {},
     "output_type": "display_data"
    }
   ],
   "source": [
    "# 2fp \n",
    "Jfp_value_vectors"
   ]
  },
  {
   "cell_type": "code",
   "execution_count": 101,
   "metadata": {},
   "outputs": [
    {
     "data": {
      "text/plain": [
       "Eigen{Float64, Float64, SMatrix{5, 5, Float64, 25}, SVector{5, Float64}}\n",
       "values:\n",
       "5-element SVector{5, Float64} with indices SOneTo(5):\n",
       " -100.0\n",
       "   -1.0436950357301025\n",
       "   -0.23004395508578496\n",
       "    0.014792952969609901\n",
       "    0.09396802665565543\n",
       "vectors:\n",
       "5×5 SMatrix{5, 5, Float64, 25} with indices SOneTo(5)×SOneTo(5):\n",
       " 0.0   0.827843    -0.820252  -0.883626  -0.882283\n",
       " 0.0   0.00768177  -0.503829  -0.256643  -0.119694\n",
       " 0.0  -0.560271    -0.138822  -0.374501  -0.446567\n",
       " 0.0  -0.0267078    0.232534  -0.114408  -0.0884771\n",
       " 1.0   0.0          0.0        0.0        0.0"
      ]
     },
     "metadata": {},
     "output_type": "display_data"
    }
   ],
   "source": [
    "# 3fp\n",
    "\n",
    "Jfp_value_vectors"
   ]
  }
 ],
 "metadata": {
  "kernelspec": {
   "display_name": "Julia 1.9.1",
   "language": "julia",
   "name": "julia-1.9"
  },
  "language_info": {
   "file_extension": ".jl",
   "mimetype": "application/julia",
   "name": "julia",
   "version": "1.9.1"
  },
  "orig_nbformat": 4
 },
 "nbformat": 4,
 "nbformat_minor": 2
}
