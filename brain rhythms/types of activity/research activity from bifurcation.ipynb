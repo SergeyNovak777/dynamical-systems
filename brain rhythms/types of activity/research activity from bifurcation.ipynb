{
 "cells": [
  {
   "cell_type": "code",
   "execution_count": 154,
   "metadata": {},
   "outputs": [
    {
     "name": "stderr",
     "output_type": "stream",
     "text": [
      "\u001b[32m\u001b[1m  Activating\u001b[22m\u001b[39m project at `C:\\Users\\Alex\\Desktop\\dynamical-systems\\env\\integrate`\n"
     ]
    }
   ],
   "source": [
    "username = \"Alex\"\n",
    "env = \"integrate\"\n",
    "pathtorepo = \"C:\\\\Users\\\\\" *username *  \"\\\\Desktop\\\\\"\n",
    "using Pkg\n",
    "Pkg.activate(pathtorepo * \"dynamical-systems\\\\env\\\\\" * env * \"\\\\\")\n",
    "include(pathtorepo * \"dynamical-systems\\\\system.jl\")\n",
    "\n",
    "using StaticArrays, DifferentialEquations, DynamicalSystems\n",
    "sE, sI, rE, rI, Y  = -50..50, -50..50,  -50..50, -50..50, -50..50\n",
    "box = sE × sI × rE × rI × Y\n",
    "using GLMakie, LinearAlgebra"
   ]
  },
  {
   "cell_type": "code",
   "execution_count": 155,
   "metadata": {},
   "outputs": [
    {
     "data": {
      "text/plain": [
       "get_valus_vectors (generic function with 1 method)"
      ]
     },
     "metadata": {},
     "output_type": "display_data"
    }
   ],
   "source": [
    "function get_valus_vectors(fp)\n",
    "    Jfp = rate_jac(fp, p, 0.0)\n",
    "    Jfp_value_vectors = eigen(Jfp)\n",
    "    Jfp_value = Jfp_value_vectors.values\n",
    "    Jfp_vectors = Jfp_value_vectors.vectors\n",
    "    return Jfp_value, Jfp_vectors\n",
    "end"
   ]
  },
  {
   "cell_type": "code",
   "execution_count": 156,
   "metadata": {},
   "outputs": [],
   "source": [
    "τsE = 3.0; γE = 4.0; s0E = 0.15;\n",
    "τsI = 10.0; γI = 8.0; s0I = 0.32507438 # 0.3267\n",
    "# IE = 0.9; \n",
    "τrE = 2.0; kE = 5.0; IE = 0.9; wEE = 3.5; wIE = 5.0; θE = 0.2;\n",
    "τrI = 6.0; kI = 5.0; II = 0.0; wEI = 5.0; wII = 3.0; θI = 0.4;\n",
    "\n",
    "τY = 0.01;  βY = 0.0;\n",
    "ythr = 0.5; sEthr = 0.5; kY = 0.01; γY = 0.0;"
   ]
  },
  {
   "cell_type": "code",
   "execution_count": 157,
   "metadata": {},
   "outputs": [],
   "source": [
    "time = 1000; tt = 0.0; tstep = 0.001; times = [time, tt]\n",
    "integ_set = (alg = Vern9(), adaptive = false, dt = tstep);"
   ]
  },
  {
   "cell_type": "code",
   "execution_count": 158,
   "metadata": {},
   "outputs": [],
   "source": [
    "p = [τsE, γE, s0E, τsI, γI, s0I, τrE, kE, IE, wEE, wIE, θE, τrI, kI, II, wEI, wII, θI, τY, βY, γY, ythr, sEthr, kY];\n",
    "u0 = [0.0, 0.0, 0.0, 0.0, 0.0]\n",
    "\n",
    "ds = CoupledODEs(model_braint_rhythms, u0, p, diffeq = integ_set);"
   ]
  },
  {
   "cell_type": "code",
   "execution_count": 159,
   "metadata": {},
   "outputs": [],
   "source": [
    "fp, _, _ = fixedpoints(ds, box, rate_jac);"
   ]
  },
  {
   "cell_type": "code",
   "execution_count": 162,
   "metadata": {},
   "outputs": [
    {
     "data": {
      "text/plain": [
       "5-element SVector{5, Float64} with indices SOneTo(5):\n",
       " 0.2038456920320365\n",
       " 0.44520847844293177\n",
       " 0.016908057738664897\n",
       " 0.02706739689031421\n",
       " 2.74791723210987e-82"
      ]
     },
     "metadata": {},
     "output_type": "display_data"
    }
   ],
   "source": [
    "fp[1]"
   ]
  },
  {
   "cell_type": "code",
   "execution_count": 160,
   "metadata": {},
   "outputs": [
    {
     "data": {
      "text/plain": [
       "(ComplexF64[-100.0 + 0.0im, -0.7966545770528577 + 0.0im, -0.34769198084889685 + 0.0im, 7.428170230836667e-5 - 0.2073332995889558im, 7.428170230836667e-5 + 0.2073332995889558im], ComplexF64[0.0 + 0.0im -0.9089195423214191 + 0.0im … 0.7074458324564599 - 0.0im 0.7074458324564599 + 0.0im; 0.0 + 0.0im -0.0974013243370146 + 0.0im … 0.06215817149922635 + 0.5692661186299908im 0.06215817149922635 - 0.5692661186299908im; … ; 0.0 + 0.0im 0.14813212624242167 + 0.0im … 0.2829761724060193 + 0.1270934182245284im 0.2829761724060193 - 0.1270934182245284im; 1.0 + 0.0im 0.0 + 0.0im … 0.0 - 0.0im 0.0 + 0.0im])"
      ]
     },
     "metadata": {},
     "output_type": "display_data"
    }
   ],
   "source": [
    "valuesfp1, vectorsfp1 = get_valus_vectors(fp[1])"
   ]
  },
  {
   "cell_type": "code",
   "execution_count": 161,
   "metadata": {},
   "outputs": [
    {
     "data": {
      "text/plain": [
       "5-element SVector{5, ComplexF64} with indices SOneTo(5):\n",
       "               -100.0 + 0.0im\n",
       "  -0.7966545770528577 + 0.0im\n",
       " -0.34769198084889685 + 0.0im\n",
       " 7.428170230836667e-5 - 0.2073332995889558im\n",
       " 7.428170230836667e-5 + 0.2073332995889558im"
      ]
     },
     "metadata": {},
     "output_type": "display_data"
    }
   ],
   "source": [
    "valuesfp1"
   ]
  }
 ],
 "metadata": {
  "kernelspec": {
   "display_name": "Julia 1.9.1",
   "language": "julia",
   "name": "julia-1.9"
  },
  "language_info": {
   "file_extension": ".jl",
   "mimetype": "application/julia",
   "name": "julia",
   "version": "1.9.1"
  },
  "orig_nbformat": 4
 },
 "nbformat": 4,
 "nbformat_minor": 2
}
