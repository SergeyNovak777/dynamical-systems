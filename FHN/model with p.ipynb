{
 "cells": [
  {
   "cell_type": "code",
   "execution_count": 1,
   "metadata": {},
   "outputs": [],
   "source": [
    "if Sys.iswindows()\n",
    "    username = \"Alex\"\n",
    "    pathtorepo = \"C:\\\\Users\\\\\" *username *  \"\\\\Desktop\\\\\"\n",
    "    using Pkg\n",
    "    Pkg.activate(pathtorepo * \"dynamical-systems\\\\env\\\\integrate\\\\\")\n",
    "else\n",
    "    username = \"sergey\"\n",
    "    pathtorepo = \"/home/\" *username *\"/work/repo/dynamical-systems\"\n",
    "    using Pkg\n",
    "    Pkg.activate(pathtorepo * \"/env/integrate/\")\n",
    "end\n",
    "\n",
    "using DifferentialEquations, DynamicalSystems, StaticArrays, CairoMakie, GLMakie"
   ]
  },
  {
   "cell_type": "code",
   "execution_count": null,
   "metadata": {},
   "outputs": [],
   "source": [
    "function two_coupled_fhn(u, p ,t)\n",
    "\n",
    "    I(ϕ, g, σ, α, k) = (g / ( 1 + exp( k * ( cosd( σ / 2 ) - cosd( ϕ - α - σ / 2 ) ))))\n",
    "    ρ(z, k1, k2) = k1 + k2 * z ^ 2\n",
    "\n",
    "    x1, y1, x2, y2, z = u\n",
    "    ϵ, a, α, g, σ, k, k1, k2 = p\n",
    "\n",
    "    ϕ2 = rad2deg(atan(y2, x2))\n",
    "    dx1dt = ( x1 - x1 ^ 3 / 3 - y1 + I(ϕ2, g, σ, α, k) + ρ(z, k1, k2) * ( x2 -x1 ) ) / ϵ\n",
    "    dy1dt = x1 - a\n",
    "\n",
    "    ϕ1= rad2deg(atan(y1, x1))\n",
    "    dx2dt = ( x2 - x2 ^ 3 / 3 - y2 + I(ϕ1, g, σ, α, k) + ρ(z, k1, k2) * (x1 - x2) ) / ϵ\n",
    "    dy2dt = x2 - a\n",
    "    \n",
    "    dzdt = x1 - x2\n",
    "\n",
    "    return SVector(dx1dt, dy1dt, dx2dt, dy2dt, dzdt)\n",
    "end\n",
    "\n",
    "function two_coupled_fhn_get_params()\n",
    "    ϵ = 0.01; a = -1.01; α = 160; g = 0.1; σ = 50.0; k = 50.0; k1 = 0.0; k2 = 0.0\n",
    "    params = [ϵ, a, α, g, σ, k, k1, k2]\n",
    "    return params\n",
    "end"
   ]
  },
  {
   "cell_type": "code",
   "execution_count": null,
   "metadata": {},
   "outputs": [],
   "source": [
    "params = two_coupled_fhn_get_params();\n",
    "params[7] = 0.09\n",
    "params[8] = 0.0025\n",
    "u0 = SVector(-1.0092493342265774, -0.6369086486640424, -1.010765472352876, -0.6365947579973191, 1.6183689231427258);\n",
    "t_integrate = 1500.0;\n",
    "tspan = (0.0, t_integrate);\n",
    "integ_set = (alg = RK4(), adaptive = false, dt = 0.001);"
   ]
  },
  {
   "cell_type": "code",
   "execution_count": null,
   "metadata": {},
   "outputs": [],
   "source": [
    "prob = ODEProblem(two_coupled_fhn, u0, tspan, params)\n",
    "sol = solve(prob, RK4(), adaptive = false, dt = 0.001, maxiters = 5e6);"
   ]
  },
  {
   "cell_type": "code",
   "execution_count": null,
   "metadata": {},
   "outputs": [],
   "source": [
    "#=\n",
    "ϵ = 0.01; a = -1.01; α = 160; g = 0.1; σ = 50.0; k = 50.0; k1 = 0.0; k2 = 0.0\n",
    "[-1.0690237112785876, -0.5773325275931365, -1.1977568518748323, -0.5654141361024896, 1.6067644223190947]\n",
    "------------------------------------------\n",
    "\n",
    "params = [0.01, -1.01, 160.0, 0.1, 50.0, 50.0, 0.09, 0.0]\n",
    "[-1.0644089047623642, -0.6038182815265748, -0.9741882488376581, -0.6411960684480774, 1.6560606007311998]\n",
    "------------------------------------------\n",
    "\n",
    "params = [0.01, -1.01, 160.0, 0.1, 50.0, 50.0, 0.09, 0.002]\n",
    "[-1.0095426498917903, -0.6366092428501819, -1.0104600932840184, -0.6368958801138922, 1.618969451073162]\n",
    "------------------------------------------\n",
    "\n",
    "params = 0.01, -1.01, 160.0, 0.1, 50.0, 50.0, 0.09, 0.0025\n",
    "-1.0092493342265774, -0.6369086486640424, -1.010765472352876, -0.6365947579973191, 1.6183689231427258\n",
    "=#"
   ]
  },
  {
   "cell_type": "code",
   "execution_count": null,
   "metadata": {},
   "outputs": [],
   "source": [
    "tstart = 400000; tend = 1000000\n",
    "f = Figure(size = (1000, 250))\n",
    "ax = Axis(f[1, 1])\n",
    "lines!(sol.t[tstart:tend], sol[1, tstart:tend], color = :red, linewidth = 1.0)\n",
    "lines!(sol.t[tstart:tend], sol[3, tstart:tend], color = :green, linewidth = 1.0)\n",
    "display(f)"
   ]
  },
  {
   "cell_type": "code",
   "execution_count": null,
   "metadata": {},
   "outputs": [],
   "source": [
    "f = Figure(size = (500, 500))\n",
    "ax = Axis3(f[1, 1], xlabel = \"x2\", ylabel = \"x1\", zlabel = \"y2\")\n",
    "lines!(sol[3, tstart:tend], sol[1, tstart:tend], sol[4, tstart:tend])\n",
    "display(f)"
   ]
  },
  {
   "cell_type": "code",
   "execution_count": null,
   "metadata": {},
   "outputs": [],
   "source": [
    "#=\n",
    "ds = CoupledODEs(two_coupled_fhn, u0, params, diffeq = integ_set)\n",
    "pmap = PoincareMap(ds, (4, 0.0))\n",
    "\n",
    "tr, trange = trajectory(pmap, 15000)\n",
    "\n",
    "tstart = 1; tend = 15000\n",
    "CairoMakie.activate!()\n",
    "f = Figure(size = (450, 450))\n",
    "ax = Axis(f[1, 1], xticks = [1.65, 1.7, 1.75, 1.8], yticks = [1.73, 1.74, 1.75, 1.76])\n",
    "scatter!(tr[tstart:tend, 1], tr[tstart:tend, 3], color = :red, markersize = 1.0)\n",
    "xlims!(1.65, 1.85)\n",
    "ylims!(1.73, 1.77)\n",
    "display(f)\n",
    "=#"
   ]
  }
 ],
 "metadata": {
  "kernelspec": {
   "display_name": "Julia 1.10.0",
   "language": "julia",
   "name": "julia-1.10"
  },
  "language_info": {
   "file_extension": ".jl",
   "mimetype": "application/julia",
   "name": "julia",
   "version": "1.10.0"
  }
 },
 "nbformat": 4,
 "nbformat_minor": 2
}
