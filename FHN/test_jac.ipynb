{
 "cells": [
  {
   "cell_type": "code",
   "execution_count": 2,
   "metadata": {},
   "outputs": [
    {
     "name": "stderr",
     "output_type": "stream",
     "text": [
      "\u001b[32m\u001b[1m  Activating\u001b[22m\u001b[39m project at `~/work/repo/dynamical-systems/env/integrate`\n"
     ]
    },
    {
     "data": {
      "text/plain": [
       "two_FHN_jac (generic function with 1 method)"
      ]
     },
     "metadata": {},
     "output_type": "display_data"
    }
   ],
   "source": [
    "if Sys.iswindows()\n",
    "    username = \"Alex\"\n",
    "    pathtorepo = \"C:\\\\Users\\\\\" *username *  \"\\\\Desktop\\\\\"\n",
    "    using Pkg\n",
    "    Pkg.activate(pathtorepo * \"dynamical-systems\\\\env\\\\integrate\\\\\")\n",
    "else\n",
    "    username = \"sergey\"\n",
    "    pathtorepo = \"/home/\" *username *\"/work/repo/dynamical-systems\"\n",
    "    using Pkg\n",
    "    Pkg.activate(pathtorepo * \"/env/integrate/\")\n",
    "    include(pathtorepo * \"/system.jl\");\n",
    "    include(\"/home/sergey/work/repo/dynamical-systems/FHN/jacobian.jl\");\n",
    "end"
   ]
  },
  {
   "cell_type": "code",
   "execution_count": 4,
   "metadata": {},
   "outputs": [],
   "source": [
    "using DifferentialEquations, DynamicalSystems, StaticArrays, CairoMakie\n",
    "using LinearAlgebra, ForwardDiff"
   ]
  },
  {
   "cell_type": "code",
   "execution_count": 33,
   "metadata": {},
   "outputs": [
    {
     "data": {
      "text/plain": [
       "(alg = RK4(; stage_limiter! = trivial_limiter!, step_limiter! = trivial_limiter!, thread = static(false),), adaptive = false, dt = 0.001)"
      ]
     },
     "metadata": {},
     "output_type": "display_data"
    }
   ],
   "source": [
    "params = two_coupled_fhn_get_params();\n",
    "params[7] = 0.09\n",
    "params[8] = 75.76\n",
    "u0 = SVector(-1.0092493342265774, -0.6369086486640424, -1.010765472352876, -0.6365947579973191, 1.6183689231427258);\n",
    "t_integrate = 1500.0;\n",
    "tspan = (0.0, t_integrate);\n",
    "integ_set = (alg = RK4(), adaptive = false, dt = 0.001)"
   ]
  },
  {
   "cell_type": "code",
   "execution_count": 35,
   "metadata": {},
   "outputs": [
    {
     "data": {
      "text/plain": [
       "5-dimensional CoupledODEs\n",
       " deterministic: true\n",
       " discrete time: false\n",
       " in-place:      false\n",
       " dynamic rule:  two_coupled_fhn\n",
       " ODE solver:    RK4\n",
       " ODE kwargs:    (adaptive = false, dt = 0.001)\n",
       " parameters:    [0.01, -1.01, 160.0, 0.1, 50.0, 50.0, 0.09, 75.76]\n",
       " time:          0.0\n",
       " state:         [-1.0092493342265774, -0.6369086486640424, -1.010765472352876, -0.6365947579973191, 1.6183689231427258]\n"
      ]
     },
     "metadata": {},
     "output_type": "display_data"
    }
   ],
   "source": [
    "ds = CoupledODEs(two_coupled_fhn, u0, params, diffeq = integ_set)"
   ]
  },
  {
   "cell_type": "code",
   "execution_count": 36,
   "metadata": {},
   "outputs": [
    {
     "data": {
      "text/plain": [
       "5×5 SMatrix{5, 5, Float64, 25} with indices SOneTo(5)×SOneTo(5):\n",
       " -19853.3  -100.0     19830.0    34.0211  -37.178\n",
       "      1.0     0.0         0.0     0.0       0.0\n",
       "  19830.1    33.811  -19853.6  -100.0      37.178\n",
       "      0.0     0.0         1.0     0.0       0.0\n",
       "      1.0     0.0        -1.0     0.0       0.0"
      ]
     },
     "metadata": {},
     "output_type": "display_data"
    }
   ],
   "source": [
    "Jacobi(u0) = ForwardDiff.jacobian((x) -> two_coupled_fhn(x, params, 0.0), u0)\n",
    "Jacobi(u0)"
   ]
  },
  {
   "cell_type": "code",
   "execution_count": 39,
   "metadata": {},
   "outputs": [
    {
     "data": {
      "text/plain": [
       "0.0"
      ]
     },
     "metadata": {},
     "output_type": "display_data"
    }
   ],
   "source": [
    "det(Jacobi(u0))"
   ]
  },
  {
   "cell_type": "code",
   "execution_count": 38,
   "metadata": {},
   "outputs": [
    {
     "data": {
      "text/plain": [
       "5×5 SMatrix{5, 5, Float64, 25} with indices SOneTo(5)×SOneTo(5):\n",
       " -12271.6  -100.0     12291.2   -34.0211  -11.4863\n",
       "      1.0     0.0         0.0     0.0       0.0\n",
       "  12291.1   -33.811  -12271.9  -100.0      11.4863\n",
       "      0.0     0.0         1.0     0.0       0.0\n",
       "      1.0     0.0        -1.0     0.0       0.0"
      ]
     },
     "metadata": {},
     "output_type": "display_data"
    }
   ],
   "source": [
    "two_FHN_jac(u0, params, 0.0)"
   ]
  },
  {
   "cell_type": "code",
   "execution_count": 40,
   "metadata": {},
   "outputs": [
    {
     "data": {
      "text/plain": [
       "0.0"
      ]
     },
     "metadata": {},
     "output_type": "display_data"
    }
   ],
   "source": [
    "det(two_FHN_jac(u0, params, 0.0))"
   ]
  },
  {
   "cell_type": "code",
   "execution_count": 10,
   "metadata": {},
   "outputs": [
    {
     "data": {
      "text/plain": [
       "5-dimensional TangentDynamicalSystem\n",
       " deterministic:     true\n",
       " discrete time:     false\n",
       " in-place:          false\n",
       " dynamic rule:      two_coupled_fhn\n",
       " jacobian:          two_FHN_jac\n",
       " deviation vectors: 5\n",
       " parameters:        [0.01, -1.01, 160.0, 0.1, 50.0, 50.0, 0.09, 0.0025]\n",
       " time:              0.0\n",
       " state:             [-1.0100851158481972, -0.6365889912684914, -1.0099261711695993, -0.6369147033834776, 1.619008525924632]\n"
      ]
     },
     "metadata": {},
     "output_type": "display_data"
    }
   ],
   "source": [
    "tands = TangentDynamicalSystem(ds; J = two_FHN_jac)"
   ]
  },
  {
   "cell_type": "code",
   "execution_count": 11,
   "metadata": {},
   "outputs": [
    {
     "data": {
      "text/plain": [
       "5-element Vector{Float64}:\n",
       "   9.484204700069785\n",
       "   9.431460336553815\n",
       "  -0.0005092980885129175\n",
       " -Inf\n",
       " -Inf"
      ]
     },
     "metadata": {},
     "output_type": "display_data"
    }
   ],
   "source": [
    "lyapunovspectrum(tands, 20000)"
   ]
  },
  {
   "cell_type": "code",
   "execution_count": 12,
   "metadata": {},
   "outputs": [
    {
     "data": {
      "text/plain": [
       "5-element Vector{Float64}:\n",
       "   0.024151559157269357\n",
       "  -2.66338528122942e-5\n",
       "  -0.00035290586711944426\n",
       " -Inf\n",
       " -Inf"
      ]
     },
     "metadata": {},
     "output_type": "display_data"
    }
   ],
   "source": [
    "lyapunovspectrum(ds, 20000)"
   ]
  }
 ],
 "metadata": {
  "kernelspec": {
   "display_name": "Julia 1.10.0",
   "language": "julia",
   "name": "julia-1.10"
  },
  "language_info": {
   "file_extension": ".jl",
   "mimetype": "application/julia",
   "name": "julia",
   "version": "1.10.0"
  }
 },
 "nbformat": 4,
 "nbformat_minor": 2
}
