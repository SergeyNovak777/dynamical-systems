{
 "cells": [
  {
   "cell_type": "code",
   "execution_count": 1,
   "id": "73226339",
   "metadata": {},
   "outputs": [
    {
     "name": "stderr",
     "output_type": "stream",
     "text": [
      "\u001b[32m\u001b[1m  Activating\u001b[22m\u001b[39m project at `C:\\Users\\Alex\\Desktop\\dynamical-systems\\env\\integrate`"
     ]
    },
    {
     "name": "stderr",
     "output_type": "stream",
     "text": [
      "\n"
     ]
    }
   ],
   "source": [
    "username = \"Alex\"\n",
    "env = \"integrate\"\n",
    "pathtorepo = \"C:\\\\Users\\\\\" *username *  \"\\\\Desktop\\\\\"\n",
    "using Pkg\n",
    "Pkg.activate(pathtorepo * \"dynamical-systems\\\\env\\\\\" * env * \"\\\\\")\n",
    "include(pathtorepo * \"dynamical-systems\\\\system.jl\")\n",
    "\n",
    "using StaticArrays, DifferentialEquations, DynamicalSystems, JLD2"
   ]
  },
  {
   "cell_type": "code",
   "execution_count": 2,
   "id": "64acc277",
   "metadata": {},
   "outputs": [],
   "source": [
    "function output(idx_I0, idx_U0, I0, U0, u0)\n",
    "    println(\"Индекс I0: $idx_I0; I0: $I0\");flush(stdout)\n",
    "    println(\"Индекс U0: $idx_U0; U0: $U0\");flush(stdout)\n",
    "    println(\"Начальные условия: $u0\");flush(stdout)\n",
    "end\n",
    "function output(idx_U0,U0, u0)\n",
    "    println(\"Индекс U0: $idx_U0; U0: $U0\");flush(stdout)\n",
    "    println(\"Начальные условия: $u0\");flush(stdout)\n",
    "end\n",
    "function output_end_iter(ΛΛ, u0_lc)\n",
    "    println(\"Спектр: $(ΛΛ)\");flush(stdout)\n",
    "    println(\"Последняя точка: $(u0_lc)\");flush(stdout)\n",
    "end\n",
    "function separate()\n",
    "    println();flush(stdout)\n",
    "    println(\"---------\");flush(stdout)\n",
    "end;"
   ]
  },
  {
   "cell_type": "code",
   "execution_count": 3,
   "id": "7a5db5e2",
   "metadata": {},
   "outputs": [],
   "source": [
    "t = 500; time_attract = 600; tstep = 0.001\n",
    "trange = range(0.0, t, step = tstep)\n",
    "integ_set = (alg = RK4(), adaptive = false, dt = tstep);"
   ]
  },
  {
   "cell_type": "code",
   "execution_count": 4,
   "id": "441e01c8",
   "metadata": {},
   "outputs": [],
   "source": [
    "const τ = 0.013;  const τD = 0.07993;  const τy = 3.3;  const J = 3.07;  const β = 0.300\n",
    "const xthr = 0.75; const ythr = 0.4\n",
    "const α = 1.58; const ΔU0 = 0.305;"
   ]
  },
  {
   "cell_type": "code",
   "execution_count": 5,
   "id": "822682b2",
   "metadata": {},
   "outputs": [],
   "source": [
    "u0 = [10.870367054955267, 0.6670395183801261, 0.44434050730193664];"
   ]
  },
  {
   "cell_type": "code",
   "execution_count": 6,
   "id": "c9ec2d3e",
   "metadata": {},
   "outputs": [
    {
     "data": {
      "text/plain": [
       "0.4:-0.001606425702811245:0.0"
      ]
     },
     "metadata": {},
     "output_type": "display_data"
    }
   ],
   "source": [
    "len = 250\n",
    "I0range = range( -0.7, -4.00,  length = len )\n",
    "U0range = range( 0.4,  0.0, length = len )"
   ]
  },
  {
   "cell_type": "code",
   "execution_count": 7,
   "id": "69711302",
   "metadata": {},
   "outputs": [],
   "source": [
    "Λs = zeros(length(I0range), length(U0range), 3)\n",
    "u0s = zeros(length(I0range), length(U0range), 3);"
   ]
  },
  {
   "cell_type": "code",
   "execution_count": 8,
   "id": "45cb403d",
   "metadata": {},
   "outputs": [
    {
     "data": {
      "text/plain": [
       "\"u0s 250x250  tau_D article2 for Hopf Fold Hom.jld2\""
      ]
     },
     "metadata": {},
     "output_type": "display_data"
    }
   ],
   "source": [
    "map_dim = \" $(len)x$(len) \"\n",
    "name = \" tau_D article2 for Hopf Fold Hom\"\n",
    "format = \".jld2\"\n",
    "namefile_LSE = \"LSE\" * map_dim * name * format\n",
    "namefile_u0s = \"u0s\" * map_dim * name * format"
   ]
  },
  {
   "cell_type": "code",
   "execution_count": 9,
   "id": "df971f46",
   "metadata": {},
   "outputs": [
    {
     "data": {
      "text/plain": [
       "save_tofile (generic function with 1 method)"
      ]
     },
     "metadata": {},
     "output_type": "display_data"
    }
   ],
   "source": [
    "const I0_start_value = I0range[1]\n",
    "\n",
    "function init_ds(U0_, u0_lc)\n",
    "    p = [α, τ, τD, τy, J, xthr, ythr, U0_, ΔU0, β, I0_start_value]\n",
    "    ds = CoupledODEs(TM, u0_lc, p, diffeq = integ_set)\n",
    "    return ds\n",
    "end\n",
    "function init_ds(U0_, I0_, u0_lc)\n",
    "    p = [α, τ, τD, τy, J, xthr, ythr, U0_, ΔU0, β, I0_]\n",
    "    ds = CoupledODEs(TM, u0_lc, p,  diffeq = integ_set)\n",
    "    return ds\n",
    "end\n",
    "function goto_attractor(ds_, time_attract)\n",
    "    tr,_ = trajectory(ds_, time_attract; Δt = tstep)\n",
    "    u0_lc = tr[end]\n",
    "    return u0_lc\n",
    "end\n",
    "function spectrum(ds_)\n",
    "    ΛΛ = lyapunovspectrum(ds_, t)\n",
    "    return ΛΛ\n",
    "end\n",
    "function save_output(idx_U0, ΛΛ, u0_lc)\n",
    "    Λs[1, idx_U0, :] = ΛΛ\n",
    "    u0s[1, idx_U0, :] = u0_lc\n",
    "end\n",
    "function save_output(index_I0, idx_U0, ΛΛ, u0_lc)\n",
    "    Λs[index_I0, idx_U0, :] = ΛΛ\n",
    "    u0s[index_I0, idx_U0, :] = u0_lc\n",
    "end\n",
    "function save_tofile()\n",
    "    jldsave(namefile_LSE; Λs)\n",
    "    jldsave(namefile_u0s; u0s)\n",
    "end"
   ]
  },
  {
   "cell_type": "code",
   "execution_count": 10,
   "id": "9cf1d941",
   "metadata": {
    "scrolled": true
   },
   "outputs": [],
   "source": [
    "for (idx_U0, U0_) in enumerate(U0range)\n",
    "    \n",
    "    if idx_U0 == 1 # Проверка на первую итерацию\n",
    "        # Если использовать while условие не нужно!\n",
    "        global u0_lc = u0\n",
    "    end\n",
    "    \n",
    "    #output(idx_U0,U0_, u0_lc)\n",
    "    \n",
    "    ds = init_ds(U0_, u0_lc) # Инициализация системы\n",
    "    u0_lc = goto_attractor(ds, time_attract) # Выход на аттрактор\n",
    "    ds = init_ds(U0_, u0_lc)\n",
    "    ΛΛ = spectrum(ds) # Вычисление спектра\n",
    "    \n",
    "    #output_end_iter(ΛΛ, u0_lc)\n",
    "    \n",
    "    save_output(idx_U0, ΛΛ, u0_lc) # Сохранение значений\n",
    "    \n",
    "    #separate()\n",
    "end\n",
    "save_tofile()"
   ]
  },
  {
   "cell_type": "code",
   "execution_count": 11,
   "id": "18bb7b6b",
   "metadata": {},
   "outputs": [],
   "source": [
    "for (idx_U0, U0_) in enumerate(U0range)\n",
    "    for (idx_I0, I0_) in enumerate(I0range)\n",
    "        \n",
    "        if idx_I0 == 1 # Если использовать while условие не нужно!\n",
    "            continue\n",
    "        end\n",
    "        \n",
    "        \n",
    "        u0_lc = u0s[idx_I0 - 1, idx_U0, :]\n",
    "        \n",
    "        # output(idx_I0, idx_U0, I0_, U0_, u0_lc)\n",
    "        \n",
    "        ds = init_ds(U0_, I0_, u0_lc)\n",
    "        u0_lc = goto_attractor(ds, time_attract) # Выход на аттрактор\n",
    "        ds = init_ds(U0_, I0_, u0_lc) \n",
    "        ΛΛ = spectrum(ds) # Вычисление спектра\n",
    "        \n",
    "        # output_end_iter(ΛΛ, u0_lc)\n",
    "        \n",
    "        save_output(idx_I0, idx_U0, ΛΛ, u0_lc)\n",
    "        \n",
    "        # separate()\n",
    "    end\n",
    "    save_tofile()\n",
    "end"
   ]
  }
 ],
 "metadata": {
  "kernelspec": {
   "display_name": "Julia 1.9.2",
   "language": "julia",
   "name": "julia-1.9"
  },
  "language_info": {
   "file_extension": ".jl",
   "mimetype": "application/julia",
   "name": "julia",
   "version": "1.9.2"
  }
 },
 "nbformat": 4,
 "nbformat_minor": 5
}
