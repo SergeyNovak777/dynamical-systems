{
 "cells": [
  {
   "cell_type": "code",
   "execution_count": 22,
   "id": "95365e8a",
   "metadata": {},
   "outputs": [
    {
     "name": "stderr",
     "output_type": "stream",
     "text": [
      "\u001b[32m\u001b[1m  Activating\u001b[22m\u001b[39m project at `C:\\Users\\Alex\\Desktop\\dynamical-systems\\env\\integrate`"
     ]
    },
    {
     "name": "stderr",
     "output_type": "stream",
     "text": [
      "\n"
     ]
    }
   ],
   "source": [
    "username = \"Alex\"\n",
    "pathtorepo = \"C:\\\\Users\\\\\" *username *  \"\\\\Desktop\\\\\"\n",
    "using Pkg\n",
    "Pkg.activate(pathtorepo * \"dynamical-systems\\\\env\\\\integrate\\\\\")\n",
    "include(pathtorepo * \"dynamical-systems\\\\system.jl\")\n",
    "\n",
    "\n",
    "using StaticArrays, DifferentialEquations, DynamicalSystems, JLD\n",
    "E, x, y  = -10..10, -10..10,  -10..10\n",
    "box = E × x × y\n",
    "using GLMakie\n",
    "using LinearAlgebra, LinearSolve,Statistics"
   ]
  },
  {
   "cell_type": "code",
   "execution_count": 23,
   "id": "39e21e6c",
   "metadata": {},
   "outputs": [],
   "source": [
    "@inbounds function Res(u, p, t)\n",
    "    du1 = -u[2]-u[3]\n",
    "    du2 = u[1]+p[1]*u[2]\n",
    "    du3 = p[2]*u[1]-p[3]*u[3]+u[1]*u[3]\n",
    "    return SVector(du1, du2, du3)\n",
    "end\n",
    "@inbounds function jac_res(u, p, t)\n",
    "    SMatrix{3, 3}(0.0, 1.0, p[2]+u[3],\n",
    "                -1.0, p[1], 0.0,\n",
    "                -1.0, 0.0, -p[3]+u[1])\n",
    "end\n",
    "function norm_cyylinder(sol)\n",
    "    return max( abs( sol[1] ), sqrt( sol[2]^2 + sol[3]^2 ) )\n",
    "end\n",
    "function makeevent(fp, ϵbox)\n",
    "    function condition(u, t, integrator)\n",
    "        x = Vector(u)\n",
    "        b = x - fp[1]\n",
    "        b = Vector(b)\n",
    "        linprob = LinearProblem(A, b)\n",
    "        linsolve = solve(linprob)\n",
    "        return norm_cyylinder(linsolve.u) - ϵbox\n",
    "    end\n",
    "    return condition\n",
    "end\n",
    "affect!(integrator) = terminate!(integrator)\n",
    "function get_norm_αs(u)\n",
    "    x = Vector(u)\n",
    "    b = x - fp[1]\n",
    "    b = Vector(b)\n",
    "    linprob = LinearProblem(A, b)\n",
    "    linsolve = solve(linprob)\n",
    "    return norm_cyylinder(linsolve.u), linsolve\n",
    "end;"
   ]
  },
  {
   "cell_type": "code",
   "execution_count": 24,
   "id": "7a5db5e2",
   "metadata": {},
   "outputs": [],
   "source": [
    "b = 0.3;  c = 3.458; a = 0.4916\n",
    "t = 100000.0; tspan = [0.0, t]\n",
    "p = [a, b, c]\n",
    "u0 = [0.0, 0.0, 0.0];"
   ]
  },
  {
   "cell_type": "code",
   "execution_count": 25,
   "id": "d3802c13",
   "metadata": {},
   "outputs": [
    {
     "data": {
      "text/plain": [
       "3×3 Matrix{Float64}:\n",
       "  0.264692   0.960091    0.0\n",
       " -0.068448  -0.269859   -0.999772\n",
       "  0.961901   0.0734972  -0.0213429"
      ]
     },
     "metadata": {},
     "output_type": "display_data"
    }
   ],
   "source": [
    "ds = CoupledODEs(Res, u0, p)\n",
    "fp, _, _ = fixedpoints(ds, box, jac_res)\n",
    "\n",
    "ϵbox = 1e-3\n",
    "Ju0 = jac_res(fp[1], p, 0);\n",
    "fp_ = fp[1]\n",
    "\n",
    "eigen_val_vec = eigen(Ju0)\n",
    "eigen_vectors = eigen_val_vec.vectors\n",
    "\n",
    "v1 = real(eigen_vectors[:, 1])\n",
    "v2 = real(eigen_vectors[:, 2])\n",
    "v3 = imag(eigen_vectors[:, 3])\n",
    "\n",
    "v1 = normalize(v1, 2)\n",
    "v1t = transpose(v1)\n",
    "\n",
    "v2 = normalize(v2, 2)\n",
    "v2t = transpose(v2)\n",
    "\n",
    "v3 = normalize(v3, 2)\n",
    "v3t = transpose(v3)\n",
    "\n",
    "A = transpose([v1t; v2t; v3t])\n",
    "A = Matrix(A)"
   ]
  },
  {
   "cell_type": "code",
   "execution_count": 26,
   "id": "0a147ec9",
   "metadata": {},
   "outputs": [],
   "source": [
    "N = 51\n",
    "nrange = range(1, N - 1, step = 1)\n",
    "dots = zeros(length(nrange), 3)\n",
    "\n",
    "Es = Float64[]; xs = Float64[]; ys = Float64[]\n",
    "α1su0 =  Float64[]; α2su0 =  Float64[]; α3su0 =  Float64[]\n",
    "α1s =  Float64[]; α2s =  Float64[]; α3s =  Float64[]\n",
    "\n",
    "colors = []\n",
    "check_events = []\n",
    "time_events = []\n",
    "\n",
    "for (i, n) in enumerate(nrange)\n",
    "    α1 = 0\n",
    "    α2 = cos(2 * pi * n / N) * ϵbox\n",
    "    α3 = sin(2 * pi * n / N) * ϵbox\n",
    "    αs = [α1, α2, α3]\n",
    "\n",
    "    push!(α2su0, α2)\n",
    "    push!(α3su0, α3)\n",
    "\n",
    "    dot = fp_ + A * αs\n",
    "    dots[i, :] = dot\n",
    "end"
   ]
  },
  {
   "cell_type": "code",
   "execution_count": 45,
   "id": "a25cb0ea",
   "metadata": {},
   "outputs": [
    {
     "data": {
      "text/plain": [
       "(0.0, 100000.0)"
      ]
     },
     "metadata": {},
     "output_type": "display_data"
    }
   ],
   "source": [
    "tspan = (0.0, 100000.0)"
   ]
  },
  {
   "cell_type": "code",
   "execution_count": 46,
   "id": "a95f625c",
   "metadata": {},
   "outputs": [
    {
     "name": "stdout",
     "output_type": "stream",
     "text": [
      "Not make event\n"
     ]
    }
   ],
   "source": [
    "index = 1\n",
    "event = makeevent(fp, ϵbox)\n",
    "cb = ContinuousCallback(event, nothing, affect!)\n",
    "u0 = SA[dots[index, 1], dots[index, 2], dots[index, 3]]\n",
    "prob = ODEProblem(Res, u0, tspan, p)\n",
    "sol = solve(prob, alg = Vern9(), abstol = 1e-14, reltol = 1e-14, callback = cb, maxiters = 5e6)\n",
    "if sol.retcode == ReturnCode.Terminated\n",
    "    _, αs =  get_norm_αs(sol[end])\n",
    "else\n",
    "    println(\"Not make event\")\n",
    "end"
   ]
  },
  {
   "cell_type": "code",
   "execution_count": 47,
   "id": "f3e2b222",
   "metadata": {},
   "outputs": [
    {
     "data": {
      "text/plain": [
       "2218712"
      ]
     },
     "metadata": {},
     "output_type": "display_data"
    }
   ],
   "source": [
    "length(sol)"
   ]
  },
  {
   "cell_type": "code",
   "execution_count": 29,
   "id": "1696d0a2",
   "metadata": {},
   "outputs": [
    {
     "ename": "UndefVarError",
     "evalue": "UndefVarError: `αs` not defined",
     "output_type": "error",
     "traceback": [
      "UndefVarError: `αs` not defined\n",
      "\n",
      "Stacktrace:\n",
      " [1] top-level scope\n",
      "   @ c:\\Users\\Alex\\Desktop\\dynamical-systems\\Tsodyks Markram\\Levanova\\3 набор параметров\\manifolds\\Rossler\\cylinder test.ipynb:10"
     ]
    }
   ],
   "source": [
    "width, height = 600, 500\n",
    "markersize = 8.0\n",
    "color = :black\n",
    "xlabel = L\"α_2\"; ylabel = L\"α_3\"\n",
    "xlabelsize = 25; ylabelsize = 25\n",
    "\n",
    "f = Figure(resolution = (width, height))\n",
    "ax = Axis(f[1, 1], xlabel = xlabel, ylabel = ylabel, xlabelsize = xlabelsize, ylabelsize = ylabelsize)\n",
    "\n",
    "scatter!(ax, αs[2], αs[3], markersize = markersize, color = color)\n",
    "\n",
    "scatter!(ax, α2su0, α3su0, markersize = markersize, color = :blue)\n",
    "\n",
    "scatter!(ax, 0.0, 0.0, markersize = markersize, color = :green)\n",
    "display(GLMakie.Screen(), f)"
   ]
  },
  {
   "cell_type": "code",
   "execution_count": 52,
   "id": "5f9e20c5",
   "metadata": {},
   "outputs": [
    {
     "data": {
      "text/plain": [
       "GLMakie.Screen(...)"
      ]
     },
     "metadata": {},
     "output_type": "display_data"
    }
   ],
   "source": [
    "width, height = 600, 500\n",
    "markersize = 1.0\n",
    "color = :black\n",
    "\n",
    "tstart, tend = 1, 5000\n",
    "f = Figure(resolution = (width, height))\n",
    "\n",
    "ax = LScene(f[1, 1], show_axis = true)\n",
    "scale!(ax.scene, 100, 100, 100)\n",
    "\n",
    "lines!(sol[2, tstart:tend], sol[3, tstart:tend], sol[1, tstart:tend], color = :deeppink, linewidth = 1.0)\n",
    "scatter!(ax, dots[:, 2], dots[:, 3], dots[:, 1],  markersize = markersize, color = color)\n",
    "\n",
    "scatter!(ax, fp_[2], fp_[3], fp_[1],  markersize = markersize, color = :blue)\n",
    "display(GLMakie.Screen(), f)"
   ]
  }
 ],
 "metadata": {
  "kernelspec": {
   "display_name": "Julia 1.9.1",
   "language": "julia",
   "name": "julia-1.9"
  },
  "language_info": {
   "file_extension": ".jl",
   "mimetype": "application/julia",
   "name": "julia",
   "version": "1.9.1"
  }
 },
 "nbformat": 4,
 "nbformat_minor": 5
}
