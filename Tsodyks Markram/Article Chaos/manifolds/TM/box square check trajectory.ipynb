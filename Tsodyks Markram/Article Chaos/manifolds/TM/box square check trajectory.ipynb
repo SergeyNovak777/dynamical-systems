{
 "cells": [
  {
   "cell_type": "code",
   "execution_count": 1,
   "metadata": {},
   "outputs": [
    {
     "name": "stderr",
     "output_type": "stream",
     "text": [
      "\u001b[32m\u001b[1m  Activating\u001b[22m\u001b[39m project at `C:\\Users\\Alex\\Desktop\\dynamical-systems\\env\\integrate`"
     ]
    },
    {
     "name": "stderr",
     "output_type": "stream",
     "text": [
      "\n"
     ]
    }
   ],
   "source": [
    "username = \"Alex\"\n",
    "pathtorepo = \"C:\\\\Users\\\\\" *username *  \"\\\\Desktop\\\\\"\n",
    "using Pkg\n",
    "Pkg.activate(pathtorepo * \"dynamical-systems\\\\env\\\\integrate\\\\\")\n",
    "include(pathtorepo * \"dynamical-systems\\\\system.jl\")\n",
    "\n",
    "\n",
    "using StaticArrays, DifferentialEquations, DynamicalSystems, JLD\n",
    "E, x, y  = -40..40, -5..5,  -5..5\n",
    "box = E × x × y\n",
    "using GLMakie\n",
    "using LinearAlgebra, LinearSolve,Statistics\n",
    "\n",
    "cd(\"C:\\\\Users\\\\\" *username *  \"\\\\Desktop\\\\dynamical-systems\\\\Tsodyks Markram\\\\Levanova\\\\3 набор параметров\\\\Сопоставление с матконт\\\\файлы matlab\")\n",
    "I0_hom = load(\"I0_hom_hom.jld\")[\"data\"]\n",
    "u0_hom = load(\"U0_hom_hom.jld\")[\"data\"]\n",
    "I0_hom = I0_hom[:]\n",
    "u0_hom = u0_hom[:];"
   ]
  },
  {
   "cell_type": "code",
   "execution_count": 2,
   "metadata": {},
   "outputs": [],
   "source": [
    "function makeevent(fp, ϵbox)\n",
    "    function condition(u, t, integrator)\n",
    "        x = Vector(u)\n",
    "        b = x - fp[1]\n",
    "        b = Vector(b)\n",
    "        linprob = LinearProblem(A, b)\n",
    "        linsolve = solve(linprob)\n",
    "        return norm(linsolve.u, Inf) - ϵ_box\n",
    "    end\n",
    "    return condition\n",
    "end\n",
    "affect!(integrator) = terminate!(integrator)\n",
    "function get_norm_αs(u)\n",
    "    x = Vector(u)\n",
    "    b = x - fp[1]\n",
    "    b = Vector(b)\n",
    "    linprob = LinearProblem(A, b)\n",
    "    linsolve = solve(linprob)\n",
    "    return norm(linsolve.u, Inf), linsolve\n",
    "end\n",
    "function color_alpha(alpha)\n",
    "    if alpha > 0.0\n",
    "        return \"red\"\n",
    "    else\n",
    "        return \"blue\"\n",
    "    end\n",
    "end;"
   ]
  },
  {
   "cell_type": "code",
   "execution_count": 3,
   "metadata": {},
   "outputs": [],
   "source": [
    "const τ = 0.013;  const τD = 0.07993;  const τy = 3.3;  const J = 3.07;  const β = 0.300\n",
    "const xthr = 0.75; const ythr = 0.4; const α = 1.58; const ΔU0 = 0.305\n",
    "\n",
    "t = 3000.0; tspan = [0.0, t];"
   ]
  },
  {
   "cell_type": "code",
   "execution_count": 4,
   "metadata": {},
   "outputs": [
    {
     "data": {
      "text/plain": [
       "3×3 Matrix{Float64}:\n",
       "  0.998728    0.999899     0.0\n",
       " -0.0489879  -0.0141814    0.984697\n",
       "  0.0119121   0.000705852  0.174274"
      ]
     },
     "metadata": {},
     "output_type": "display_data"
    }
   ],
   "source": [
    "# index point from homoclinic curve\n",
    "index_hom = 1\n",
    "I0 = I0_hom[index_hom]; U0 = u0_hom[index_hom]\n",
    "\n",
    "p = SA[α, τ, τD, τy, J, xthr, ythr, U0, ΔU0, β, I0]\n",
    "u0 = [0.0, 0.0, 0.0]\n",
    "\n",
    "ds = CoupledODEs(TM, u0, p)\n",
    "fp, _, _ = fixedpoints(ds, box, jacob_TM_)\n",
    "\n",
    "ϵ_box = 1e-5\n",
    "Ju0 = jacob_TM_(fp[1], p, 0);\n",
    "fp_ = fp[1]\n",
    "\n",
    "eigen_val_vec = eigen(Ju0)\n",
    "eigen_vectors = eigen_val_vec.vectors\n",
    "\n",
    "v1 = real(eigen_vectors[:, 1])\n",
    "v2 = real(eigen_vectors[:, 2])\n",
    "v3 = imag(eigen_vectors[:, 3])\n",
    "\n",
    "v1 = normalize(v1, 2)\n",
    "v1t = transpose(v1)\n",
    "\n",
    "v2 = normalize(v2, 2)\n",
    "v2t = transpose(v2)\n",
    "\n",
    "v3 = normalize(v3, 2)\n",
    "v3t = transpose(v3)\n",
    "\n",
    "A = transpose([v1t; v2t; v3t])\n",
    "A = Matrix(A)"
   ]
  },
  {
   "cell_type": "code",
   "execution_count": 5,
   "metadata": {},
   "outputs": [],
   "source": [
    "total_number_points = 50\n",
    "number_points_on_side = Int((total_number_points) / 1)\n",
    "\n",
    "dots_right_side = zeros(number_points_on_side, length(u0))\n",
    "array_α_vec_right = zeros(number_points_on_side, length(u0))\n",
    "\n",
    "dots_left_side = zeros(number_points_on_side, length(u0))\n",
    "array_α_vec_left = zeros(number_points_on_side, length(u0))\n",
    "\n",
    "dots_up_side = zeros(number_points_on_side, length(u0))\n",
    "array_α_vec_up = zeros(number_points_on_side, length(u0))\n",
    "\n",
    "dots_down_side = zeros(number_points_on_side, length(u0))\n",
    "array_α_vec_down = zeros(number_points_on_side, length(u0));"
   ]
  },
  {
   "cell_type": "code",
   "execution_count": 6,
   "metadata": {},
   "outputs": [],
   "source": [
    "# case α1 = 0; α2 = ϵ_box; α3 = [-ϵ_box; ϵ_box]\n",
    "n = 1\n",
    "N = total_number_points\n",
    "while n <= number_points_on_side\n",
    "\n",
    "    α1 = 0.0\n",
    "    α2 = ϵ_box\n",
    "    α3 = - ϵ_box + 2 * ϵ_box * n / N\n",
    "    α_vec = [α1, α2, α3]\n",
    "    point = fp_ + A * α_vec\n",
    "    \n",
    "    dots_right_side[n, :] = point\n",
    "    _, α_vec = get_norm_αs( dots_right_side[n, :] )\n",
    "    array_α_vec_right[n, :] = α_vec\n",
    "    n+=1\n",
    "end\n",
    "\n",
    "# case α1 = 0; α2 = -ϵ_box; α3 = [-ϵ_box; ϵ_box]\n",
    "n = 1\n",
    "N = total_number_points\n",
    "while n <= number_points_on_side\n",
    "\n",
    "    α1 = 0.0\n",
    "    α2 = -ϵ_box\n",
    "    α3 = - ϵ_box + 2 * ϵ_box * n / N\n",
    "    α_vec = [α1, α2, α3]\n",
    "    point = fp_ + A * α_vec\n",
    "    \n",
    "    dots_left_side[n, :] = point\n",
    "    _, α_vec = get_norm_αs( dots_left_side[n, :] )\n",
    "    array_α_vec_left[n, :] = α_vec\n",
    "    n+=1\n",
    "end\n",
    "\n",
    "# case α1 = 0; α2 = [-ϵ_box; ϵ_box]; α3 = ϵ_box\n",
    "n = 1\n",
    "N = total_number_points\n",
    "while n <= number_points_on_side\n",
    "\n",
    "    α1 = 0.0\n",
    "    α2 = - ϵ_box + 2 * ϵ_box * n / N\n",
    "    α3 = ϵ_box\n",
    "    α_vec = [α1, α2, α3]\n",
    "    point = fp_ + A * α_vec\n",
    "    \n",
    "    dots_up_side[n, :] = point\n",
    "    _, α_vec = get_norm_αs( dots_up_side[n, :] )\n",
    "    array_α_vec_up[n, :] = α_vec\n",
    "    n+=1\n",
    "end\n",
    "\n",
    "# case α1 = 0; α2 = [-ϵ_box; ϵ_box]; α3 = -ϵ_box\n",
    "n = 1\n",
    "N = total_number_points\n",
    "while n <= number_points_on_side\n",
    "\n",
    "    α1 = 0.0\n",
    "    α2 = - ϵ_box + 2 * ϵ_box * n / N\n",
    "    α3 = -ϵ_box\n",
    "    α_vec = [α1, α2, α3]\n",
    "    point = fp_ + A * α_vec\n",
    "    \n",
    "    dots_down_side[n, :] = point\n",
    "    _, α_vec = get_norm_αs( dots_down_side[n, :] )\n",
    "    array_α_vec_down[n, :] = α_vec\n",
    "    n+=1\n",
    "end;"
   ]
  },
  {
   "cell_type": "code",
   "execution_count": 7,
   "metadata": {},
   "outputs": [
    {
     "data": {
      "text/plain": [
       "(::var\"#condition#20\"{StateSpaceSet{3, Float64}}) (generic function with 1 method)"
      ]
     },
     "metadata": {},
     "output_type": "display_data"
    }
   ],
   "source": [
    "event = makeevent(fp, ϵ_box)"
   ]
  },
  {
   "cell_type": "code",
   "execution_count": 8,
   "metadata": {},
   "outputs": [
    {
     "data": {
      "text/plain": [
       "retcode: Terminated\n",
       "Interpolation: specialized 9th order lazy interpolation\n",
       "t: 280433-element Vector{Float64}:\n",
       "    0.0\n",
       "    0.030805382554545225\n",
       "    0.0493471258944327\n",
       "    0.06907923400876988\n",
       "    0.09159462786475568\n",
       "    0.1110208686324919\n",
       "    0.13162323181807667\n",
       "    0.15437041828689635\n",
       "    0.17509139256626885\n",
       "    0.19657412951512795\n",
       "    ⋮\n",
       " 2891.307161128974\n",
       " 2891.3271450900934\n",
       " 2891.3472594048626\n",
       " 2891.3718816678447\n",
       " 2891.392654175351\n",
       " 2891.4143344781564\n",
       " 2891.43610911502\n",
       " 2891.4539810580054\n",
       " 2891.4539810580054\n",
       "u: 280433-element Vector{SVector{3, Float64}}:\n",
       " [8.345798852588567, 0.7385046477659781, 0.43830029631861533]\n",
       " [8.346264207852645, 0.7384978316878643, 0.4383005865809681]\n",
       " [8.346539301191275, 0.7384928811357127, 0.43830059511825914]\n",
       " [8.346801225227058, 0.7384873018440303, 0.4383004500442738]\n",
       " [8.347032021764644, 0.7384810600706856, 0.4383000876612758]\n",
       " [8.347150025081955, 0.7384762609833265, 0.43829961790181227]\n",
       " [8.347174575017267, 0.7384722515887228, 0.4382989874020922]\n",
       " [8.347067946951137, 0.7384696401649442, 0.43829818248259056]\n",
       " [8.346845983598602, 0.7384693034945605, 0.4382974091991498]\n",
       " [8.346498987146369, 0.7384712470238629, 0.4382966373087315]\n",
       " ⋮\n",
       " [8.346484971114318, 0.7384879065718778, 0.4382996751368855]\n",
       " [8.346581940056021, 0.7384848085285821, 0.4382994225178643]\n",
       " [8.346626115814923, 0.7384821740246115, 0.4382990840238981]\n",
       " [8.34659505869016, 0.7384799922260612, 0.4382985828417171]\n",
       " [8.34649133628246, 0.7384793223064107, 0.438298119649354]\n",
       " [8.34630980474597, 0.7384799573250743, 0.43829763814279116]\n",
       " [8.346062015434171, 0.7384820419723735, 0.4382972013544232]\n",
       " [8.345821504591989, 0.7384848030836436, 0.4382969101222927]\n",
       " [8.345821504591989, 0.7384848030836436, 0.4382969101222927]"
      ]
     },
     "metadata": {},
     "output_type": "display_data"
    }
   ],
   "source": [
    "index = 1\n",
    "cb = ContinuousCallback(event, nothing, affect!)\n",
    "u0 = SA[dots_up_side[index, 1], dots_up_side[index, 2], dots_up_side[index, 3]]\n",
    "\n",
    "prob = ODEProblem(TM, u0, tspan, p)\n",
    "sol = solve(prob, alg = Vern9(), abstol = 1e-14, reltol = 1e-14, callback = cb)"
   ]
  },
  {
   "cell_type": "code",
   "execution_count": 9,
   "metadata": {},
   "outputs": [
    {
     "data": {
      "text/plain": [
       "(1.0000000007083036e-5, [3.057867884496885e-6, 1.0000000007083036e-5, -9.718679697691452e-6])"
      ]
     },
     "metadata": {},
     "output_type": "display_data"
    }
   ],
   "source": [
    "norm_, alpha_ = get_norm_αs(sol[end])"
   ]
  },
  {
   "cell_type": "code",
   "execution_count": 45,
   "metadata": {},
   "outputs": [
    {
     "data": {
      "text/plain": [
       "GLMakie.Screen(...)"
      ]
     },
     "metadata": {},
     "output_type": "display_data"
    }
   ],
   "source": [
    "width, height = 600, 500\n",
    "markersize = 5.0\n",
    "color = :black\n",
    "xlabel = L\"x\"; ylabel = L\"y\"; zlabel = L\"E\"\n",
    "xlabelsize = 25; ylabelsize = 25; zlabelsize = 25\n",
    "\n",
    "tstart, tend = length(sol)-500, length(sol)\n",
    "f = Figure(resolution = (width, height))\n",
    "#ax = Axis3(f[1, 1], xlabel = xlabel, ylabel = ylabel, zlabel = zlabel, xlabelsize = xlabelsize, ylabelsize = ylabelsize, zlabelsize = zlabelsize)\n",
    "\n",
    "ax = LScene(f[1, 1], show_axis = true)\n",
    "scale!(ax.scene, 50, 50, 1)\n",
    "\n",
    "lines!(sol[2, tstart:tend], sol[3, tstart:tend], sol[1, tstart:tend], color = :deeppink, linewidth = 1.0)\n",
    "\n",
    "\n",
    "scatter!(ax, dots_right_side[:, 2], dots_right_side[:, 3], dots_right_side[:, 1],  markersize = markersize, color = color)\n",
    "scatter!(ax, dots_left_side[:, 2], dots_left_side[:, 3], dots_left_side[:, 1],  markersize = markersize, color = color)\n",
    "scatter!(ax, dots_up_side[:, 2], dots_up_side[:, 3], dots_up_side[:, 1],  markersize = markersize, color = color)\n",
    "scatter!(ax, dots_down_side[:, 2], dots_down_side[:, 3], dots_down_side[:, 1],  markersize = markersize, color = color)\n",
    "\n",
    "scatter!(ax, fp_[2], fp_[3], fp_[1],  markersize = markersize, color = :blue)\n",
    "display(GLMakie.Screen(), f)"
   ]
  },
  {
   "cell_type": "code",
   "execution_count": 43,
   "metadata": {},
   "outputs": [
    {
     "data": {
      "text/plain": [
       "GLMakie.Screen(...)"
      ]
     },
     "metadata": {},
     "output_type": "display_data"
    }
   ],
   "source": [
    "width, height = 600, 500\n",
    "markersize = 5.0\n",
    "color = color_alpha(alpha_[1])\n",
    "xlabel = L\"α_2\"; ylabel = L\"α_3\"\n",
    "xlabelsize = 25; ylabelsize = 25\n",
    "\n",
    "f = Figure(resolution = (width, height))\n",
    "ax = Axis(f[1, 1], xlabel = xlabel, ylabel = ylabel, xlabelsize = xlabelsize, ylabelsize = ylabelsize)\n",
    "\n",
    "scatter!(ax, alpha_[2], alpha_[3], markersize = markersize, color = color)\n",
    "\n",
    "\n",
    "scatter!(ax, 0.0, 0.0, markersize = markersize, color = :green)\n",
    "display(GLMakie.Screen(), f)"
   ]
  },
  {
   "cell_type": "code",
   "execution_count": 11,
   "metadata": {},
   "outputs": [
    {
     "data": {
      "text/plain": [
       "GLMakie.Screen(...)"
      ]
     },
     "metadata": {},
     "output_type": "display_data"
    }
   ],
   "source": [
    "width, height = 600, 500\n",
    "markersize = 5.0\n",
    "color = :black\n",
    "xlabel = L\"x\"; ylabel = L\"y\"; zlabel = L\"E\"\n",
    "xlabelsize = 25; ylabelsize = 25; zlabelsize = 25\n",
    "\n",
    "f = Figure(resolution = (width, height))\n",
    "ax = Axis3(f[1, 1], xlabel = xlabel, ylabel = ylabel, zlabel = zlabel, xlabelsize = xlabelsize, ylabelsize = ylabelsize, zlabelsize = zlabelsize)\n",
    "scatter!(ax, dots_right_side[:, 2], dots_right_side[:, 3], dots_right_side[:, 1],  markersize = markersize, color = color)\n",
    "scatter!(ax, dots_left_side[:, 2], dots_left_side[:, 3], dots_left_side[:, 1],  markersize = markersize, color = color)\n",
    "scatter!(ax, dots_up_side[:, 2], dots_up_side[:, 3], dots_up_side[:, 1],  markersize = markersize, color = color)\n",
    "scatter!(ax, dots_down_side[:, 2], dots_down_side[:, 3], dots_down_side[:, 1],  markersize = markersize, color = color)\n",
    "\n",
    "scatter!(ax, fp_[2], fp_[3], fp_[1],  markersize = markersize, color = :blue)\n",
    "display(GLMakie.Screen(), f)"
   ]
  }
 ],
 "metadata": {
  "kernelspec": {
   "display_name": "Julia 1.9.1",
   "language": "julia",
   "name": "julia-1.9"
  },
  "language_info": {
   "file_extension": ".jl",
   "mimetype": "application/julia",
   "name": "julia",
   "version": "1.9.1"
  },
  "orig_nbformat": 4
 },
 "nbformat": 4,
 "nbformat_minor": 2
}
