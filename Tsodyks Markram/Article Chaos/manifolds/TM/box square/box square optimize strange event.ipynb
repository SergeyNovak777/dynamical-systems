{
 "cells": [
  {
   "cell_type": "code",
   "execution_count": 1,
   "metadata": {},
   "outputs": [
    {
     "name": "stderr",
     "output_type": "stream",
     "text": [
      "\u001b[32m\u001b[1m  Activating\u001b[22m\u001b[39m project at `C:\\Users\\Alex\\Desktop\\dynamical-systems\\env\\integrate`"
     ]
    },
    {
     "name": "stderr",
     "output_type": "stream",
     "text": [
      "\n"
     ]
    }
   ],
   "source": [
    "username = \"Alex\"\n",
    "env = \"integrate\"\n",
    "pathtorepo = \"C:\\\\Users\\\\\" *username *  \"\\\\Desktop\\\\\"\n",
    "using Pkg\n",
    "Pkg.activate(pathtorepo * \"dynamical-systems\\\\env\\\\\" * env * \"\\\\\")\n",
    "include(pathtorepo * \"dynamical-systems\\\\system.jl\")\n",
    "include(pathtorepo * \"dynamical-systems\\\\box_square_functions.jl\")\n",
    "\n",
    "using StaticArrays, DifferentialEquations, DynamicalSystems, JLD2\n",
    "E, x, y  = -40..40, -5..5,  -5..5\n",
    "box = E × x × y\n",
    "using GLMakie, LinearAlgebra, LinearSolve\n",
    "\n",
    "pathtofile = \"C:\\\\Users\\\\\" *username *  \"\\\\Desktop\\\\dynamical-systems\\\\Tsodyks Markram\\\\Levanova\\\\3 набор параметров\\\\Сопоставление с матконт\\\\файлы matlab\\\\\"\n",
    "I0_hom = load(pathtofile * \"I0_hom_hom.jld\")[\"data\"]\n",
    "u0_hom = load(pathtofile * \"U0_hom_hom.jld\")[\"data\"]\n",
    "I0_hom = I0_hom[:]\n",
    "u0_hom = u0_hom[:];"
   ]
  },
  {
   "cell_type": "code",
   "execution_count": 2,
   "metadata": {},
   "outputs": [],
   "source": [
    "index_point_from_curve = 1\n",
    "\n",
    "const τ = 0.013;  const τD = 0.07993;  const τy = 3.3;  const J = 3.07;  const β = 0.300\n",
    "const xthr = 0.75; const ythr = 0.4; const α = 1.58; const ΔU0 = 0.305; const U0 = u0_hom[index_point_from_curve]\n",
    "\n",
    "t = 2000.0; tspan = [0.0, t]\n",
    "u0 = [0.0, 0.0, 0.0]\n",
    "ϵ_box = 1.0e-5; ϵ_shift = 1.0e-2;"
   ]
  },
  {
   "cell_type": "code",
   "execution_count": 3,
   "metadata": {},
   "outputs": [
    {
     "data": {
      "text/plain": [
       "-1.70629651132633"
      ]
     },
     "metadata": {},
     "output_type": "display_data"
    }
   ],
   "source": [
    "number_points_on_side = 10\n",
    "total_count_points = number_points_on_side * 2\n",
    "\n",
    "I0 = I0_hom[index_point_from_curve]"
   ]
  },
  {
   "cell_type": "code",
   "execution_count": 6,
   "metadata": {},
   "outputs": [
    {
     "data": {
      "text/plain": [
       "ContinuousCallback{var\"#condition#27\"{SVector{3, Float64}, Float64, Matrix{Float64}}, Nothing, typeof(affect!), typeof(SciMLBase.INITIALIZE_DEFAULT), typeof(SciMLBase.FINALIZE_DEFAULT), Float64, Int64, Rational{Int64}, Nothing, Int64}(condition, nothing, affect!, SciMLBase.INITIALIZE_DEFAULT, SciMLBase.FINALIZE_DEFAULT, nothing, SciMLBase.LeftRootFind, 10, Bool[1, 1], 1, 2.220446049250313e-15, 0, 1//100)"
      ]
     },
     "metadata": {},
     "output_type": "display_data"
    }
   ],
   "source": [
    "p = SA[α, τ, τD, τy, J, xthr, ythr, U0, ΔU0, β, I0]\n",
    "\n",
    "fixedpoint = get_fixed_point(TM, jacob_TM_, p, u0)\n",
    "A = get_matrix(fixedpoint[1], p, jacob_TM_, 2)\n",
    "\n",
    "\n",
    "condition = make_event(fixedpoint[1], ϵ_box, A)\n",
    "cb = ContinuousCallback(condition, nothing, affect!)"
   ]
  },
  {
   "cell_type": "code",
   "execution_count": 14,
   "metadata": {},
   "outputs": [
    {
     "data": {
      "text/plain": [
       "retcode: Terminated\n",
       "Interpolation: specialized 9th order lazy interpolation\n",
       "t: 180268-element Vector{Float64}:\n",
       "    0.0\n",
       "    0.030920887027979592\n",
       "    0.04966965313301733\n",
       "    0.07089555414604806\n",
       "    0.09091553496819131\n",
       "    0.11033110356036858\n",
       "    0.12951326368890145\n",
       "    0.14821312270056533\n",
       "    0.16696739501878988\n",
       "    0.1861641487655803\n",
       "    ⋮\n",
       " 1928.9835923095534\n",
       " 1929.0066649758612\n",
       " 1929.03006884812\n",
       " 1929.0523947856557\n",
       " 1929.0748137895228\n",
       " 1929.0990590377876\n",
       " 1929.120981736987\n",
       " 1929.1234228457663\n",
       " 1929.1234228457663\n",
       "u: 180268-element Vector{SVector{3, Float64}}:\n",
       " [8.345810451419165, 0.7385044832615892, 0.43830030450649443]\n",
       " [8.346277259208673, 0.7384975944292903, 0.43830058656308807]\n",
       " [8.346553905269584, 0.738492573486556, 0.43830058763649904]\n",
       " [8.34683049499266, 0.7384865740250764, 0.438300415368727]\n",
       " [8.347030825726161, 0.7384810529074972, 0.4383000825471508]\n",
       " [8.347148067651503, 0.7384762693783594, 0.43829961309245263]\n",
       " [8.347173947538563, 0.7384725043868261, 0.4382990301140898]\n",
       " [8.347103796840639, 0.7384701013042042, 0.43829837934765103]\n",
       " [8.346935796998002, 0.7384692270826048, 0.4382976844703685]\n",
       " [8.346666416916447, 0.7384701246347268, 0.4382969770913453]\n",
       " ⋮\n",
       " [8.346297799082013, 0.7384886801128288, 0.4382995044381054]\n",
       " [8.346357765943518, 0.7384865213337414, 0.43829925636682354]\n",
       " [8.346367555138293, 0.738484843493225, 0.43829893944447806]\n",
       " [8.346322543906204, 0.738483964351276, 0.4382985966908273]\n",
       " [8.346222683321768, 0.738483972235751, 0.43829824002311574]\n",
       " [8.346058144559489, 0.7384851037414972, 0.4382978767179096]\n",
       " [8.345869166460494, 0.7384871397512048, 0.4382976024490584]\n",
       " [8.345846373031147, 0.7384874228485434, 0.43829757648368717]\n",
       " [8.345846373031147, 0.7384874228485434, 0.43829757648368717]"
      ]
     },
     "metadata": {},
     "output_type": "display_data"
    }
   ],
   "source": [
    "u0 = SA[8.345810451419165, 0.7385044832615892, 0.43830030450649443]\n",
    "prob = ODEProblem(TM, u0, tspan, p)\n",
    "sol = solve(prob, alg = Vern9(), abstol = 1e-14, reltol = 1e-14, callback = cb)\n"
   ]
  },
  {
   "cell_type": "code",
   "execution_count": 19,
   "metadata": {},
   "outputs": [
    {
     "data": {
      "text/plain": [
       "(2.7813591103930512e-5, [1.0123496859795507e-5, 2.7813591103930512e-5, -6.45014459268911e-6])"
      ]
     },
     "metadata": {},
     "output_type": "display_data"
    }
   ],
   "source": [
    "norm_, linsolve = get_norm_αs(Vector(sol[end]), Vector(fixedpoint[1]), A) "
   ]
  },
  {
   "cell_type": "code",
   "execution_count": 6,
   "metadata": {},
   "outputs": [
    {
     "name": "stdout",
     "output_type": "stream",
     "text": [
      "number of event: 4; number of no event: 16\n"
     ]
    }
   ],
   "source": [
    "number_of_event = length(findall(check_events .== true))\n",
    "number_of_no_event = length(check_events) - number_of_event\n",
    "println(\"number of event: $(number_of_event); number of no event: $(number_of_no_event)\")"
   ]
  },
  {
   "cell_type": "code",
   "execution_count": 7,
   "metadata": {},
   "outputs": [
    {
     "data": {
      "text/plain": [
       "20×3 Matrix{Float64}:\n",
       " 0.0         0.0          0.0\n",
       " 0.0         0.0          0.0\n",
       " 9.94549e-6  1.0e-5      -6.21704e-6\n",
       " 0.0         0.0          0.0\n",
       " 0.0         0.0          0.0\n",
       " 1.01235e-5  2.78136e-5  -6.45014e-6\n",
       " 0.0         0.0          0.0\n",
       " 0.0         0.0          0.0\n",
       " 0.0         0.0          0.0\n",
       " 0.0         0.0          0.0\n",
       " 0.0         0.0          0.0\n",
       " 0.0         0.0          0.0\n",
       " 0.0         0.0          0.0\n",
       " 9.97805e-6  1.0e-5      -7.118e-6\n",
       " 0.0         0.0          0.0\n",
       " 0.0         0.0          0.0\n",
       " 0.0         0.0          0.0\n",
       " 0.0         0.0          0.0\n",
       " 9.61955e-6  1.0e-5      -5.62205e-6\n",
       " 0.0         0.0          0.0"
      ]
     },
     "metadata": {},
     "output_type": "display_data"
    }
   ],
   "source": [
    "αs"
   ]
  },
  {
   "cell_type": "code",
   "execution_count": 18,
   "metadata": {},
   "outputs": [],
   "source": [
    "αs_without_zeros =  permutedims(stack(filter(!iszero,eachrow(αs))))\n",
    "# last points in space (α2, α3)\n",
    "f = Figure(resolution = (700, 700))\n",
    "ax = Axis(f[1, 1], xlabel = L\"α_2\", ylabel = L\"α_3\", xlabelsize = 35, ylabelsize = 35)\n",
    "scatter!(ax, 0.0, 0.0, color = :green, markersize = 15, marker = :rect)\n",
    "\n",
    "scatter!(ax, αs_without_zeros[:, 2], αs_without_zeros[:, 3], markersize = 5)\n",
    "\n",
    "display(GLMakie.Screen(), f);"
   ]
  },
  {
   "cell_type": "code",
   "execution_count": 11,
   "metadata": {},
   "outputs": [
    {
     "data": {
      "text/plain": [
       "\"index_point_from_curve 1.jld2\""
      ]
     },
     "metadata": {},
     "output_type": "display_data"
    }
   ],
   "source": [
    "filename = \"index_point_from_curve $(index_point_from_curve)\"\n",
    "filename = filename*\".jld2\""
   ]
  },
  {
   "cell_type": "code",
   "execution_count": 12,
   "metadata": {},
   "outputs": [],
   "source": [
    "cd(\"C:\\\\Users\\\\\" *username *  \"\\\\Desktop\\\\dynamical-systems\\\\Tsodyks Markram\\\\Levanova\\\\3 набор параметров\\\\manifolds\\\\TM\\\\box square\\\\\")\n",
    "jldsave(filename; dots_u0, check_events, time_events, dots_on_event ,αs, norms)"
   ]
  }
 ],
 "metadata": {
  "kernelspec": {
   "display_name": "Julia 1.9.1",
   "language": "julia",
   "name": "julia-1.9"
  },
  "language_info": {
   "file_extension": ".jl",
   "mimetype": "application/julia",
   "name": "julia",
   "version": "1.9.1"
  },
  "orig_nbformat": 4
 },
 "nbformat": 4,
 "nbformat_minor": 2
}
