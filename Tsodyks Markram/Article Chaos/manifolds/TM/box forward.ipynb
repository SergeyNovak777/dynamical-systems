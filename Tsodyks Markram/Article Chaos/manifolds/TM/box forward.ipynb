{
 "cells": [
  {
   "cell_type": "code",
   "execution_count": 1,
   "metadata": {},
   "outputs": [
    {
     "name": "stderr",
     "output_type": "stream",
     "text": [
      "\u001b[32m\u001b[1m  Activating\u001b[22m\u001b[39m project at `C:\\Users\\Alex\\Desktop\\dynamical-systems\\env\\integrate`"
     ]
    },
    {
     "name": "stderr",
     "output_type": "stream",
     "text": [
      "\n"
     ]
    }
   ],
   "source": [
    "username = \"Alex\"\n",
    "pathtorepo = \"C:\\\\Users\\\\\" *username *  \"\\\\Desktop\\\\\"\n",
    "using Pkg\n",
    "Pkg.activate(pathtorepo * \"dynamical-systems\\\\env\\\\integrate\\\\\")\n",
    "include(pathtorepo * \"dynamical-systems\\\\system.jl\")\n",
    "\n",
    "\n",
    "using StaticArrays, DifferentialEquations, DynamicalSystems, JLD\n",
    "E, x, y  = -40..40, -5..5,  -5..5\n",
    "box = E × x × y\n",
    "using GLMakie\n",
    "using LinearAlgebra, LinearSolve\n",
    "\n",
    "cd(\"C:\\\\Users\\\\\" *username *  \"\\\\Desktop\\\\dynamical-systems\\\\Tsodyks Markram\\\\Levanova\\\\3 набор параметров\\\\Сопоставление с матконт\\\\файлы matlab\")\n",
    "I0_hom = load(\"I0_hom_hom.jld\")[\"data\"]\n",
    "u0_hom = load(\"U0_hom_hom.jld\")[\"data\"]\n",
    "I0_hom = I0_hom[:]\n",
    "u0_hom = u0_hom[:];"
   ]
  },
  {
   "cell_type": "code",
   "execution_count": 2,
   "metadata": {},
   "outputs": [],
   "source": [
    "const τ = 0.013;  const τD = 0.07993;  const τy = 3.3;  const J = 3.07;  const β = 0.300\n",
    "const xthr = 0.75; const ythr = 0.4; const α = 1.58; const ΔU0 = 0.305\n",
    "\n",
    "t = 1000.0; tt = 1000.0; tstep = 0.001; tspan = [0.0, t]\n",
    "integ_set = (alg = Vern9(), adaptive = false, dt = tstep);"
   ]
  },
  {
   "cell_type": "code",
   "execution_count": 3,
   "metadata": {},
   "outputs": [],
   "source": [
    "index_hom = 1;"
   ]
  },
  {
   "cell_type": "code",
   "execution_count": 4,
   "metadata": {},
   "outputs": [],
   "source": [
    "I0 = I0_hom[index_hom]; U0 = u0_hom[index_hom]\n",
    "p = SA[α, τ, τD, τy, J, xthr, ythr, U0, ΔU0, β, I0]\n",
    "u0 = [11.325905642223786, 0.6594706953104683, 0.4863175026548461];"
   ]
  },
  {
   "cell_type": "code",
   "execution_count": 5,
   "metadata": {},
   "outputs": [],
   "source": [
    "ds = CoupledODEs(TM, u0, p, diffeq = integ_set)\n",
    "fp, _, _ = fixedpoints(ds, box, jacob_TM_);"
   ]
  },
  {
   "cell_type": "code",
   "execution_count": 6,
   "metadata": {},
   "outputs": [
    {
     "data": {
      "text/plain": [
       "3×3 Matrix{Float64}:\n",
       "  0.998728    0.999899     0.0\n",
       " -0.0489879  -0.0141814    0.984697\n",
       "  0.0119121   0.000705852  0.174274"
      ]
     },
     "metadata": {},
     "output_type": "display_data"
    }
   ],
   "source": [
    "ϵ_box = 1e-4\n",
    "Ju0 = jacob_TM_(fp[1], p, 0);\n",
    "fp_ = fp[1]\n",
    "\n",
    "eigen_val_vec = eigen(Ju0)\n",
    "eigen_vectors = eigen_val_vec.vectors\n",
    "\n",
    "v1 = real(eigen_vectors[:, 1])\n",
    "v2 = real(eigen_vectors[:, 2])\n",
    "v3 = imag(eigen_vectors[:, 3])\n",
    "\n",
    "v1 = normalize(v1, 2)\n",
    "v2 = normalize(v2, 2)\n",
    "v3 = normalize(v3, 2)\n",
    "\n",
    "v1t = transpose(v1)\n",
    "v2t = transpose(v2)\n",
    "v3t = transpose(v3)\n",
    "\n",
    "A = transpose([v1t; v2t; v3t])\n",
    "A = Matrix(A)"
   ]
  },
  {
   "cell_type": "code",
   "execution_count": 7,
   "metadata": {},
   "outputs": [
    {
     "data": {
      "text/plain": [
       "12×3 Matrix{Float64}:\n",
       " 0.0  0.0  0.0\n",
       " 0.0  0.0  0.0\n",
       " 0.0  0.0  0.0\n",
       " 0.0  0.0  0.0\n",
       " 0.0  0.0  0.0\n",
       " 0.0  0.0  0.0\n",
       " 0.0  0.0  0.0\n",
       " 0.0  0.0  0.0\n",
       " 0.0  0.0  0.0\n",
       " 0.0  0.0  0.0\n",
       " 0.0  0.0  0.0\n",
       " 0.0  0.0  0.0"
      ]
     },
     "metadata": {},
     "output_type": "display_data"
    }
   ],
   "source": [
    "N = 13\n",
    "nrange = range(1, N - 1, step = 1)\n",
    "dots = zeros(length(nrange), 3)"
   ]
  },
  {
   "cell_type": "code",
   "execution_count": 8,
   "metadata": {},
   "outputs": [],
   "source": [
    "for (i, n) in enumerate(nrange)\n",
    "    α1 = 0\n",
    "    α2 = cos(2 * pi * n / N) * (ϵ_box / sqrt(2))\n",
    "    α3 = sin(2 * pi * n / N) * (ϵ_box / sqrt(2))\n",
    "    αs = [α1, α2, α3]\n",
    "    dot = fp_ + A * αs\n",
    "    dots[i, :] = dot\n",
    "end"
   ]
  },
  {
   "cell_type": "code",
   "execution_count": 9,
   "metadata": {},
   "outputs": [
    {
     "data": {
      "text/plain": [
       "condition (generic function with 2 methods)"
      ]
     },
     "metadata": {},
     "output_type": "display_data"
    }
   ],
   "source": [
    "function condition(u, t, integrator)\n",
    "    x = Vector(u)\n",
    "    b = x - fp[1]\n",
    "    b = Vector(b)\n",
    "    linprob = LinearProblem(A, b)\n",
    "    linsolve = solve(linprob)\n",
    "    return norm(linsolve.u, Inf) - ϵ_box\n",
    "end\n",
    "affect!(integrator) = terminate!(integrator)\n",
    "\n",
    "function condition(u)\n",
    "    x = Vector(u)\n",
    "    b = x - fp[1]\n",
    "    b = Vector(b)\n",
    "    linprob = LinearProblem(A, b)\n",
    "    linsolve = solve(linprob)\n",
    "    return norm(linsolve.u, Inf), linsolve\n",
    "end"
   ]
  },
  {
   "cell_type": "code",
   "execution_count": 31,
   "metadata": {},
   "outputs": [
    {
     "data": {
      "text/plain": [
       "(0.00010000000000077539, [4.1070806931192506e-7, 0.00010000000000077539, -5.3481450489796865e-5])"
      ]
     },
     "metadata": {},
     "output_type": "display_data"
    }
   ],
   "source": [
    "indexn = 1\n",
    "u01 = SA[dots[indexn, 1], dots[indexn, 2], dots[indexn, 3]]\n",
    "cb1 = ContinuousCallback(condition, nothing, affect!)\n",
    "prob1 = ODEProblem(TM, u01, tspan, p)\n",
    "sol1 = solve(prob1, alg = RK4(), abstol = 1e-8, reltol = 1e-8, callback = cb1)\n",
    "norm1, linsolve1 = condition(sol1[end])"
   ]
  },
  {
   "cell_type": "code",
   "execution_count": 32,
   "metadata": {},
   "outputs": [
    {
     "data": {
      "text/plain": [
       "(0.00010000000000268696, [1.2882179710913395e-6, 0.00010000000000268696, -9.494057980636234e-5])"
      ]
     },
     "metadata": {},
     "output_type": "display_data"
    }
   ],
   "source": [
    "indexn = 2\n",
    "u02 = SA[dots[indexn, 1], dots[indexn, 2], dots[indexn, 3]]\n",
    "cb2 = ContinuousCallback(condition, nothing, affect!)\n",
    "prob2 = ODEProblem(TM, u02, tspan, p)\n",
    "sol2 = solve(prob2, alg = RK4(), abstol = 1e-8, reltol = 1e-8, callback = cb2)\n",
    "norm2, linsolve2 = condition(sol2[end])"
   ]
  },
  {
   "cell_type": "code",
   "execution_count": 33,
   "metadata": {},
   "outputs": [
    {
     "data": {
      "text/plain": [
       "(0.00010000000000383622, [4.889805204636666e-5, -0.00010000000000383622, 6.105929496028661e-5])"
      ]
     },
     "metadata": {},
     "output_type": "display_data"
    }
   ],
   "source": [
    "indexn = 3\n",
    "u03 = SA[dots[indexn, 1], dots[indexn, 2], dots[indexn, 3]]\n",
    "cb3 = ContinuousCallback(condition, nothing, affect!)\n",
    "prob3 = ODEProblem(TM, u03, tspan, p)\n",
    "sol3 = solve(prob3, alg = RK4(), abstol = 1e-8, reltol = 1e-8, callback = cb3)\n",
    "norm3, linsolve3 = condition(sol3[end])"
   ]
  },
  {
   "cell_type": "code",
   "execution_count": 34,
   "metadata": {},
   "outputs": [
    {
     "data": {
      "text/plain": [
       "(0.00010000000000086073, [4.8136510796808694e-5, -0.00010000000000086073, 6.058998565574279e-6])"
      ]
     },
     "metadata": {},
     "output_type": "display_data"
    }
   ],
   "source": [
    "indexn = 4\n",
    "u04 = SA[dots[indexn, 1], dots[indexn, 2], dots[indexn, 3]]\n",
    "cb4 = ContinuousCallback(condition, nothing, affect!)\n",
    "prob4 = ODEProblem(TM, u04, tspan, p)\n",
    "sol4 = solve(prob4, alg = RK4(), abstol = 1e-8, reltol = 1e-8, callback = cb4)\n",
    "norm4, linsolve4 = condition(sol4[end])"
   ]
  },
  {
   "cell_type": "code",
   "execution_count": 35,
   "metadata": {},
   "outputs": [
    {
     "data": {
      "text/plain": [
       "(0.00010000000000181192, [8.420169665487291e-7, 0.00010000000000181192, -7.669712469838916e-5])"
      ]
     },
     "metadata": {},
     "output_type": "display_data"
    }
   ],
   "source": [
    "indexn = 5\n",
    "u05 = SA[dots[indexn, 1], dots[indexn, 2], dots[indexn, 3]]\n",
    "cb5 = ContinuousCallback(condition, nothing, affect!)\n",
    "prob5 = ODEProblem(TM, u05, tspan, p)\n",
    "sol5 = solve(prob5, alg = RK4(), abstol = 1e-8, reltol = 1e-8, callback = cb5)\n",
    "norm5, linsolve5 = condition(sol5[end])"
   ]
  },
  {
   "cell_type": "code",
   "execution_count": 36,
   "metadata": {},
   "outputs": [
    {
     "data": {
      "text/plain": [
       "(0.00010000000000053953, [1.1169091782894105e-7, 0.00010000000000053953, -2.7728179346650086e-5])"
      ]
     },
     "metadata": {},
     "output_type": "display_data"
    }
   ],
   "source": [
    "indexn = 6\n",
    "u06 = SA[dots[indexn, 1], dots[indexn, 2], dots[indexn, 3]]\n",
    "cb6 = ContinuousCallback(condition, nothing, affect!)\n",
    "prob6 = ODEProblem(TM, u06, tspan, p)\n",
    "sol6 = solve(prob6, alg = RK4(), abstol = 1e-8, reltol = 1e-8, callback = cb6)\n",
    "norm6, linsolve6 = condition(sol6[end])"
   ]
  },
  {
   "cell_type": "code",
   "execution_count": 37,
   "metadata": {},
   "outputs": [
    {
     "data": {
      "text/plain": [
       "(0.00010000000000088345, [1.090622381461963e-7, -0.00010000000000088345, 2.74146659917971e-5])"
      ]
     },
     "metadata": {},
     "output_type": "display_data"
    }
   ],
   "source": [
    "indexn = 7\n",
    "u07 = SA[dots[indexn, 1], dots[indexn, 2], dots[indexn, 3]]\n",
    "cb7 = ContinuousCallback(condition, nothing, affect!)\n",
    "prob7 = ODEProblem(TM, u07, tspan, p)\n",
    "sol7 = solve(prob7, alg = RK4(), abstol = 1e-8, reltol = 1e-8, callback = cb7)\n",
    "norm7, linsolve7 = condition(sol7[end])"
   ]
  },
  {
   "cell_type": "code",
   "execution_count": 38,
   "metadata": {},
   "outputs": [
    {
     "data": {
      "text/plain": [
       "(0.00010000000000137072, [8.382228096292299e-7, -0.00010000000000137072, 7.660082188462048e-5])"
      ]
     },
     "metadata": {},
     "output_type": "display_data"
    }
   ],
   "source": [
    "indexn = 8\n",
    "u08 = SA[dots[indexn, 1], dots[indexn, 2], dots[indexn, 3]]\n",
    "cb8 = ContinuousCallback(condition, nothing, affect!)\n",
    "prob8 = ODEProblem(TM, u08, tspan, p)\n",
    "sol8 = solve(prob8, alg = RK4(), abstol = 1e-8, reltol = 1e-8, callback = cb8)\n",
    "norm8, linsolve8 = condition(sol8[end])"
   ]
  },
  {
   "cell_type": "code",
   "execution_count": 39,
   "metadata": {},
   "outputs": [
    {
     "data": {
      "text/plain": [
       "(0.00010000000001300336, [5.023171890603848e-5, 0.00010000000001300336, -8.730897467332272e-5])"
      ]
     },
     "metadata": {},
     "output_type": "display_data"
    }
   ],
   "source": [
    "indexn = 9\n",
    "u09 = SA[dots[indexn, 1], dots[indexn, 2], dots[indexn, 3]]\n",
    "cb9 = ContinuousCallback(condition, nothing, affect!)\n",
    "prob9 = ODEProblem(TM, u09, tspan, p)\n",
    "sol9 = solve(prob9, alg = RK4(), abstol = 1e-8, reltol = 1e-8, callback = cb9)\n",
    "norm9, linsolve9= condition(sol9[end])"
   ]
  },
  {
   "cell_type": "code",
   "execution_count": 40,
   "metadata": {},
   "outputs": [
    {
     "data": {
      "text/plain": [
       "(0.00010000000000468345, [5.016607637504945e-5, 0.00010000000000468345, -8.42510314997491e-5])"
      ]
     },
     "metadata": {},
     "output_type": "display_data"
    }
   ],
   "source": [
    "indexn = 10\n",
    "u010 = SA[dots[indexn, 1], dots[indexn, 2], dots[indexn, 3]]\n",
    "cb10 = ContinuousCallback(condition, nothing, affect!)\n",
    "prob10 = ODEProblem(TM, u010, tspan, p)\n",
    "sol10 = solve(prob10, alg = RK4(), abstol = 1e-8, reltol = 1e-8, callback = cb10)\n",
    "norm10, linsolve10= condition(sol10[end])"
   ]
  },
  {
   "cell_type": "code",
   "execution_count": 41,
   "metadata": {},
   "outputs": [
    {
     "data": {
      "text/plain": [
       "(0.00010000000000230366, [1.2974752929392075e-6, -0.00010000000000230366, 9.538485987992423e-5])"
      ]
     },
     "metadata": {},
     "output_type": "display_data"
    }
   ],
   "source": [
    "indexn = 11\n",
    "u011 = SA[dots[indexn, 1], dots[indexn, 2], dots[indexn, 3]]\n",
    "cb11 = ContinuousCallback(condition, nothing, affect!)\n",
    "prob11 = ODEProblem(TM, u011, tspan, p)\n",
    "sol11 = solve(prob11, alg = RK4(), abstol = 1e-8, reltol = 1e-8, callback = cb11)\n",
    "norm11, linsolve11= condition(sol11[end])"
   ]
  },
  {
   "cell_type": "code",
   "execution_count": 42,
   "metadata": {},
   "outputs": [
    {
     "data": {
      "text/plain": [
       "(0.00010000000000082359, [4.1619713337386606e-7, -0.00010000000000082359, 5.3865692068143394e-5])"
      ]
     },
     "metadata": {},
     "output_type": "display_data"
    }
   ],
   "source": [
    "indexn = 12\n",
    "u012 = SA[dots[indexn, 1], dots[indexn, 2], dots[indexn, 3]]\n",
    "cb12 = ContinuousCallback(condition, nothing, affect!)\n",
    "prob12 = ODEProblem(TM, u012, tspan, p)\n",
    "sol12 = solve(prob12, alg = RK4(), abstol = 1e-8, reltol = 1e-8, callback = cb12)\n",
    "norm12, linsolve12= condition(sol12[end])"
   ]
  },
  {
   "cell_type": "code",
   "execution_count": 27,
   "metadata": {},
   "outputs": [],
   "source": [
    "ts = 1\n",
    "idx, idy, idz = 2, 3, 1\n",
    "\n",
    "f = Figure(resolution = (700, 700))\n",
    "\n",
    "ax = LScene(f[1, 1], show_axis = true)\n",
    "    \n",
    "scale!(ax.scene, 50, 50, 1)\n",
    "\n",
    "lines!(sol1[idx, ts: length(sol1)], sol1[idy, ts: length(sol1)], sol1[idz, ts: length(sol1)], linewidth = 1.0, color = :deeppink)\n",
    "lines!(sol2[idx, ts: length(sol2)], sol2[idy, ts: length(sol2)], sol2[idz, ts: length(sol2)], linewidth = 1.0, color = :deeppink)\n",
    "lines!(sol3[idx, ts: length(sol3)], sol3[idy, ts: length(sol3)], sol3[idz, ts: length(sol3)], linewidth = 1.0, color = :deeppink)\n",
    "lines!(sol4[idx, ts: length(sol4)], sol4[idy, ts: length(sol4)], sol4[idz, ts: length(sol4)], linewidth = 1.0, color = :deeppink)\n",
    "lines!(sol5[idx, ts: length(sol5)], sol5[idy, ts: length(sol5)], sol5[idz, ts: length(sol5)], linewidth = 1.0, color = :deeppink)\n",
    "lines!(sol6[idx, ts: length(sol6)], sol6[idy, ts: length(sol6)], sol6[idz, ts: length(sol6)], linewidth = 1.0, color = :deeppink)\n",
    "lines!(sol7[idx, ts: length(sol7)], sol7[idy, ts: length(sol7)], sol7[idz, ts: length(sol7)], linewidth = 1.0, color = :deeppink)\n",
    "\n",
    "\n",
    "scatter!(ax, fp[1][idx], fp[1][idy], fp[1][idz], color = :blue)\n",
    "scatter!(ax, dots[:, idx], dots[:, idy], dots[:, idz], markersize = 5)\n",
    "\n",
    "\n",
    "display(GLMakie.Screen(), f);"
   ]
  },
  {
   "cell_type": "code",
   "execution_count": 1,
   "metadata": {},
   "outputs": [
    {
     "ename": "UndefVarError",
     "evalue": "UndefVarError: `Figure` not defined",
     "output_type": "error",
     "traceback": [
      "UndefVarError: `Figure` not defined\n",
      "\n",
      "Stacktrace:\n",
      " [1] top-level scope\n",
      "   @ c:\\Users\\Alex\\Desktop\\dynamical-systems\\Tsodyks Markram\\Levanova\\3 набор параметров\\manifolds\\box forward.ipynb:1"
     ]
    }
   ],
   "source": [
    "f = Figure(resolution = (700, 700))\n",
    "\n",
    "ax = Axis(f[1, 1])\n",
    "idx, idy = 2, 3\n",
    "\n",
    "scatter!(ax, 0.0, 0.0, color = :green, markersize = 15, marker = :rect)\n",
    "\n",
    "scatter!(ax, linsolve1[idx], linsolve1[idy], color = :black, markersize = 5)\n",
    "scatter!(ax, linsolve2[idx], linsolve2[idy], color = :black, markersize = 5)\n",
    "#scatter!(ax, linsolve3[idx], linsolve3[idy], color = :black, markersize = 5)\n",
    "#scatter!(ax, linsolve4[idx], linsolve4[idy], color = :black, markersize = 5)\n",
    "scatter!(ax, linsolve5[idx], linsolve5[idy], color = :black, markersize = 5)\n",
    "scatter!(ax, linsolve6[idx], linsolve6[idy], color = :black, markersize = 5)\n",
    "scatter!(ax, linsolve7[idx], linsolve7[idy], color = :black, markersize = 5)\n",
    "scatter!(ax, linsolve8[idx], linsolve8[idy], color = :black, markersize = 5)\n",
    "#scatter!(ax, linsolve9[idx], linsolve9[idy], color = :black, markersize = 5)\n",
    "#scatter!(ax, linsolve10[idx], linsolve10[idy], color = :black, markersize = 5)\n",
    "scatter!(ax, linsolve11[idx], linsolve11[idy], color = :black, markersize = 5)\n",
    "scatter!(ax, linsolve12[idx], linsolve12[idy], color = :black, markersize = 5)\n",
    "\n",
    "display(GLMakie.Screen(), f);"
   ]
  }
 ],
 "metadata": {
  "kernelspec": {
   "display_name": "Julia 1.9.1",
   "language": "julia",
   "name": "julia-1.9"
  },
  "language_info": {
   "file_extension": ".jl",
   "mimetype": "application/julia",
   "name": "julia",
   "version": "1.9.1"
  },
  "orig_nbformat": 4
 },
 "nbformat": 4,
 "nbformat_minor": 2
}
