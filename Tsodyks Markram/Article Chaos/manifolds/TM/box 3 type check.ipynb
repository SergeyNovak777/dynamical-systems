{
 "cells": [
  {
   "cell_type": "code",
   "execution_count": 1,
   "metadata": {},
   "outputs": [
    {
     "name": "stderr",
     "output_type": "stream",
     "text": [
      "\u001b[32m\u001b[1m  Activating\u001b[22m\u001b[39m project at `C:\\Users\\Alex\\Desktop\\dynamical-systems\\env\\integrate`"
     ]
    },
    {
     "name": "stderr",
     "output_type": "stream",
     "text": [
      "\n"
     ]
    }
   ],
   "source": [
    "username = \"Alex\"\n",
    "pathtorepo = \"C:\\\\Users\\\\\" *username *  \"\\\\Desktop\\\\\"\n",
    "using Pkg\n",
    "Pkg.activate(pathtorepo * \"dynamical-systems\\\\env\\\\integrate\\\\\")\n",
    "include(pathtorepo * \"dynamical-systems\\\\system.jl\")\n",
    "\n",
    "\n",
    "using StaticArrays, DifferentialEquations, DynamicalSystems, JLD\n",
    "E, x, y  = -40..40, -5..5,  -5..5\n",
    "box = E × x × y\n",
    "using GLMakie\n",
    "using LinearAlgebra, LinearSolve,Statistics\n",
    "\n",
    "cd(\"C:\\\\Users\\\\\" *username *  \"\\\\Desktop\\\\dynamical-systems\\\\Tsodyks Markram\\\\Levanova\\\\3 набор параметров\\\\Сопоставление с матконт\\\\файлы matlab\")\n",
    "I0_hom = load(\"I0_hom_hom.jld\")[\"data\"]\n",
    "u0_hom = load(\"U0_hom_hom.jld\")[\"data\"]\n",
    "I0_hom = I0_hom[:]\n",
    "u0_hom = u0_hom[:];"
   ]
  },
  {
   "cell_type": "code",
   "execution_count": 2,
   "metadata": {},
   "outputs": [
    {
     "data": {
      "text/plain": [
       "get_norm_αs (generic function with 1 method)"
      ]
     },
     "metadata": {},
     "output_type": "display_data"
    }
   ],
   "source": [
    "function norm_cyylinder(u)\n",
    "    return max( abs( u[1] ), sqrt( u[2]^2 + u[3]^2 ) )\n",
    "end\n",
    "function condition(u, t, integrator)\n",
    "    x = Vector(u)\n",
    "    b = x - fp[1]\n",
    "    b = Vector(b)\n",
    "    linprob = LinearProblem(A, b)\n",
    "    linsolve = solve(linprob)\n",
    "    return norm_cyylinder(linsolve.u) - ϵ_box\n",
    "end\n",
    "affect!(integrator) = terminate!(integrator)\n",
    "function get_norm_αs(u)\n",
    "    x = Vector(u)\n",
    "    b = x - fp[1]\n",
    "    b = Vector(b)\n",
    "    linprob = LinearProblem(A, b)\n",
    "    linsolve = solve(linprob)\n",
    "    return norm_cyylinder(linsolve.u), linsolve\n",
    "end"
   ]
  },
  {
   "cell_type": "code",
   "execution_count": 3,
   "metadata": {},
   "outputs": [],
   "source": [
    "const τ = 0.013;  const τD = 0.07993;  const τy = 3.3;  const J = 3.07;  const β = 0.300\n",
    "const xthr = 0.75; const ythr = 0.4; const α = 1.58; const ΔU0 = 0.305\n",
    "t = 2000.0; tspan = [0.0, t];"
   ]
  },
  {
   "cell_type": "code",
   "execution_count": 4,
   "metadata": {},
   "outputs": [
    {
     "data": {
      "text/plain": [
       "3×3 Matrix{Float64}:\n",
       "  0.998728    0.999899     0.0\n",
       " -0.0489879  -0.0141814    0.984697\n",
       "  0.0119121   0.000705852  0.174274"
      ]
     },
     "metadata": {},
     "output_type": "display_data"
    }
   ],
   "source": [
    "# index point from homoclinic curve\n",
    "index_hom = 1\n",
    "I0 = I0_hom[index_hom]; U0 = u0_hom[index_hom]\n",
    "\n",
    "p = SA[α, τ, τD, τy, J, xthr, ythr, U0, ΔU0, β, I0]\n",
    "u0 = [0.0, 0.0, 0.0]\n",
    "\n",
    "ds = CoupledODEs(TM, u0, p)\n",
    "fp, _, _ = fixedpoints(ds, box, jacob_TM_)\n",
    "\n",
    "ϵ_box = 1e-5\n",
    "Ju0 = jacob_TM_(fp[1], p, 0);\n",
    "fp_ = fp[1]\n",
    "\n",
    "eigen_val_vec = eigen(Ju0)\n",
    "eigen_vectors = eigen_val_vec.vectors\n",
    "\n",
    "v1 = real(eigen_vectors[:, 1])\n",
    "v2 = real(eigen_vectors[:, 2])\n",
    "v3 = imag(eigen_vectors[:, 3])\n",
    "\n",
    "v1 = normalize(v1, 2)\n",
    "v1t = transpose(v1)\n",
    "\n",
    "v2 = normalize(v2, 2)\n",
    "v2t = transpose(v2)\n",
    "\n",
    "v3 = normalize(v3, 2)\n",
    "v3t = transpose(v3)\n",
    "\n",
    "A = transpose([v1t; v2t; v3t])\n",
    "A = Matrix(A)"
   ]
  },
  {
   "cell_type": "code",
   "execution_count": 5,
   "metadata": {},
   "outputs": [],
   "source": [
    "N = 51\n",
    "nrange = range(1, N - 1, step = 1)\n",
    "dots = zeros(length(nrange), 3)\n",
    "\n",
    "Es = Float64[]; xs = Float64[]; ys = Float64[]\n",
    "α1su0 =  Float64[]; α2su0 =  Float64[]; α3su0 =  Float64[]\n",
    "α1s =  Float64[]; α2s =  Float64[]; α3s =  Float64[]\n",
    "colors = []\n",
    "check_events = []\n",
    "time_events = []\n",
    "\n",
    "for (i, n) in enumerate(nrange)\n",
    "    α1 = 0\n",
    "    α2 = cos(2 * pi * n / N) * ϵ_box\n",
    "    α3 = sin(2 * pi * n / N) * ϵ_box\n",
    "    αs = [α1, α2, α3]\n",
    "\n",
    "    push!(α2su0, α2)\n",
    "    push!(α3su0, α3)\n",
    "\n",
    "    dot = fp_ + A * αs\n",
    "    dots[i, :] = dot\n",
    "end"
   ]
  },
  {
   "cell_type": "code",
   "execution_count": 6,
   "metadata": {},
   "outputs": [
    {
     "data": {
      "text/plain": [
       "retcode: Terminated\n",
       "Interpolation: specialized 9th order lazy interpolation\n",
       "t: 11-element Vector{Float64}:\n",
       " 0.0\n",
       " 0.03516697972492334\n",
       " 0.057912089963057176\n",
       " 0.08257494407133834\n",
       " 0.10709790607528605\n",
       " 0.13252460602649885\n",
       " 0.15669982109738212\n",
       " 0.17905275837599952\n",
       " 0.2040385968834346\n",
       " 0.21901872776640494\n",
       " 0.21901872776640494\n",
       "u: 11-element Vector{SVector{3, Float64}}:\n",
       " [8.34581837482542, 0.738495733991004, 0.4382987815206269]\n",
       " [8.345883187619544, 0.7384947135830516, 0.4382988093663714]\n",
       " [8.345921664505921, 0.7384939414032903, 0.438298796447142]\n",
       " [8.345954328788741, 0.7384931021302178, 0.43829875296073956]\n",
       " [8.345972573027051, 0.7384923653065166, 0.43829868123169774]\n",
       " [8.345972422953217, 0.738491812286151, 0.4382985828767921]\n",
       " [8.345952255310666, 0.738491573792596, 0.43829847581045184]\n",
       " [8.345916387860177, 0.7384916557117557, 0.4382983749596052]\n",
       " [8.345859196859527, 0.7384921177557834, 0.4382982728057269]\n",
       " [8.345818253683541, 0.7384925781491067, 0.4382982226121672]\n",
       " [8.345818253683541, 0.7384925781491067, 0.4382982226121672]"
      ]
     },
     "metadata": {},
     "output_type": "display_data"
    }
   ],
   "source": [
    "index = 1\n",
    "cb = ContinuousCallback(condition, nothing, affect!)\n",
    "u0 = SA[dots[index, 1], dots[index, 2], dots[index, 3]]\n",
    "prob = ODEProblem(TM, u0, tspan, p)\n",
    "sol = solve(prob, alg = Vern9(), abstol = 1e-14, reltol = 1e-14, callback = cb)"
   ]
  },
  {
   "cell_type": "code",
   "execution_count": 7,
   "metadata": {},
   "outputs": [],
   "source": [
    "for i in range(1, length(sol.u), step  =1)\n",
    "    norm, linsolve = get_norm_αs(sol[i])\n",
    "    push!(α2s, linsolve[2])\n",
    "    push!(α3s, linsolve[3])\n",
    "end"
   ]
  },
  {
   "cell_type": "code",
   "execution_count": 8,
   "metadata": {},
   "outputs": [
    {
     "data": {
      "text/plain": [
       "GLMakie.Screen(...)"
      ]
     },
     "metadata": {},
     "output_type": "display_data"
    }
   ],
   "source": [
    "width, height = 600, 500\n",
    "markersize = 5.0\n",
    "color = :black\n",
    "xlabel = L\"α_2\"; ylabel = L\"α_3\"\n",
    "xlabelsize = 25; ylabelsize = 25\n",
    "\n",
    "f = Figure(resolution = (width, height))\n",
    "ax = Axis(f[1, 1], xlabel = xlabel, ylabel = ylabel, xlabelsize = xlabelsize, ylabelsize = ylabelsize)\n",
    "\n",
    "scatter!(ax, α2s, α3s, markersize = markersize, color = color)\n",
    "\n",
    "scatter!(ax, α2su0, α3su0, markersize = markersize, color = :blue)\n",
    "\n",
    "scatter!(ax, 0.0, 0.0, markersize = markersize, color = :green)\n",
    "display(GLMakie.Screen(), f)"
   ]
  },
  {
   "cell_type": "code",
   "execution_count": 9,
   "metadata": {},
   "outputs": [
    {
     "data": {
      "text/plain": [
       "GLMakie.Screen(...)"
      ]
     },
     "metadata": {},
     "output_type": "display_data"
    }
   ],
   "source": [
    "width, height = 600, 500\n",
    "markersize = 5.0\n",
    "color = :black\n",
    "xlabel = L\"x\"; ylabel = L\"y\"; zlabel = L\"E\"\n",
    "xlabelsize = 25; ylabelsize = 25; zlabelsize = 25\n",
    "\n",
    "tstart, tend = 1, length(sol)\n",
    "f = Figure(resolution = (width, height))\n",
    "#ax = Axis3(f[1, 1], xlabel = xlabel, ylabel = ylabel, zlabel = zlabel, xlabelsize = xlabelsize, ylabelsize = ylabelsize, zlabelsize = zlabelsize)\n",
    "\n",
    "ax = LScene(f[1, 1], show_axis = true)\n",
    "scale!(ax.scene, 50, 50, 1)\n",
    "\n",
    "lines!(sol[2, tstart:tend], sol[3, tstart:tend], sol[1, tstart:tend], color = :deeppink, linewidth = 1.0)\n",
    "scatter!(ax, dots[:, 2], dots[:, 3], dots[:, 1],  markersize = markersize, color = color)\n",
    "\n",
    "scatter!(ax, fp_[2], fp_[3], fp_[1],  markersize = markersize, color = :blue)\n",
    "display(GLMakie.Screen(), f)"
   ]
  }
 ],
 "metadata": {
  "kernelspec": {
   "display_name": "Julia 1.9.1",
   "language": "julia",
   "name": "julia-1.9"
  },
  "language_info": {
   "file_extension": ".jl",
   "mimetype": "application/julia",
   "name": "julia",
   "version": "1.9.1"
  },
  "orig_nbformat": 4
 },
 "nbformat": 4,
 "nbformat_minor": 2
}
