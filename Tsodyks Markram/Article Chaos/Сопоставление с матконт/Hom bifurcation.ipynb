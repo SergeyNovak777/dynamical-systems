{
 "cells": [
  {
   "cell_type": "code",
   "execution_count": 1,
   "id": "1e765d35",
   "metadata": {},
   "outputs": [
    {
     "name": "stderr",
     "output_type": "stream",
     "text": [
      "\u001b[32m\u001b[1m  Activating\u001b[22m\u001b[39m project at `C:\\Users\\Alex\\Desktop\\dynamical-systems\\env\\integrate`\n"
     ]
    }
   ],
   "source": [
    "username = \"Alex\"\n",
    "pathtorepo = \"C:\\\\Users\\\\\" *username *  \"\\\\Desktop\\\\\"\n",
    "using Pkg\n",
    "Pkg.activate(pathtorepo * \"dynamical-systems\\\\env\\\\integrate\\\\\")\n",
    "include(pathtorepo * \"dynamical-systems\\\\system.jl\")\n",
    "include(pathtorepo * \"dynamical-systems\\\\visual_regimes.jl\");"
   ]
  },
  {
   "cell_type": "code",
   "execution_count": 2,
   "id": "1bdee5a7",
   "metadata": {},
   "outputs": [],
   "source": [
    "using StaticArrays, DifferentialEquations, DynamicalSystems\n",
    "E, x, y  = 0..40, 0..5,  0..5\n",
    "box = E × x × y\n",
    "using CairoMakie, GLMakie\n",
    "using LinearAlgebra"
   ]
  },
  {
   "cell_type": "code",
   "execution_count": 3,
   "id": "2cc715eb",
   "metadata": {},
   "outputs": [],
   "source": [
    "const τ = 0.013;  const τD = 0.07993;  const τy = 3.3;  const J = 3.07;  const β = 0.300\n",
    "const xthr = 0.75; const ythr = 0.4\n",
    "const α = 1.58; const ΔU0 = 0.305; "
   ]
  },
  {
   "cell_type": "code",
   "execution_count": 4,
   "id": "37add348",
   "metadata": {},
   "outputs": [],
   "source": [
    "time = 1000; tt = 1000; tstep = 0.001; times = [time, tt]\n",
    "integ_set = (alg = Vern9(), adaptive = false, dt = tstep);"
   ]
  },
  {
   "cell_type": "markdown",
   "id": "8b00e575",
   "metadata": {},
   "source": [
    "U0 = 0.268371462842221 # 0.265;\n",
    "I0 = -1.75061296075842 # -1.7064049"
   ]
  },
  {
   "cell_type": "markdown",
   "id": "408743fe",
   "metadata": {},
   "source": [
    "Homoclinic destroyed\n",
    "\n",
    "U0 = 0.2665\n",
    "I0 = -1.7266\n",
    "I0 =  -1.7265152 более точная граница"
   ]
  },
  {
   "cell_type": "code",
   "execution_count": 154,
   "id": "441e01c8",
   "metadata": {},
   "outputs": [
    {
     "name": "stdout",
     "output_type": "stream",
     "text": [
      "last point  pink trajectory:[1.7179320586715578, 0.9272835050926821, 0.9621907929989197]\n"
     ]
    }
   ],
   "source": [
    "U0 = 0.2665; I0 = -1.7265152 #-1.7265151221443\n",
    "p = SA[α, τ, τD, τy, J, xthr, ythr, U0, ΔU0, β, I0]\n",
    "u0_1 = shift\n",
    "println(\"last point  pink trajectory:$u0_1\")"
   ]
  },
  {
   "cell_type": "code",
   "execution_count": 155,
   "id": "772f973f",
   "metadata": {},
   "outputs": [
    {
     "data": {
      "text/plain": [
       "3-element Vector{Float64}:\n",
       " 1.7174816805868953\n",
       " 0.9273011301846298\n",
       " 0.9622003523070933"
      ]
     },
     "execution_count": 155,
     "metadata": {},
     "output_type": "execute_result"
    }
   ],
   "source": [
    "[1.7174816805868953, 0.9273011301846298, 0.9622003523070933]"
   ]
  },
  {
   "cell_type": "code",
   "execution_count": 156,
   "id": "3d1acfa9",
   "metadata": {},
   "outputs": [
    {
     "data": {
      "text/plain": [
       "3-dimensional CoupledODEs\n",
       " deterministic: true\n",
       " discrete time: false\n",
       " in-place:      false\n",
       " dynamic rule:  TM\n",
       " ODE solver:    Vern9\n",
       " ODE kwargs:    (adaptive = false, dt = 0.001)\n",
       " parameters:    [1.58, 0.013, 0.07993, 3.3, 3.07, 0.75, 0.4, 0.2665, 0.305, 0.3, -1.7265152]\n",
       " time:          0.0\n",
       " state:         [1.7179320586715578, 0.9272835050926821, 0.9621907929989197]\n"
      ]
     },
     "execution_count": 156,
     "metadata": {},
     "output_type": "execute_result"
    }
   ],
   "source": [
    "ds = CoupledODEs(TM, u0_1, p, diffeq = integ_set)"
   ]
  },
  {
   "cell_type": "code",
   "execution_count": 157,
   "id": "26791d3c",
   "metadata": {},
   "outputs": [],
   "source": [
    "fp, ei, _ = fixedpoints(ds, box, jacob_TM_);"
   ]
  },
  {
   "cell_type": "code",
   "execution_count": 158,
   "id": "71519c1e",
   "metadata": {},
   "outputs": [
    {
     "data": {
      "text/plain": [
       "3-dimensional StateSpaceSet{Float64} with 3 points\n",
       " 1.71761  0.927248  0.962221\n",
       " 8.32665  0.73847   0.438176\n",
       " 1.71893  0.927196  0.962193"
      ]
     },
     "execution_count": 158,
     "metadata": {},
     "output_type": "execute_result"
    }
   ],
   "source": [
    "fp"
   ]
  },
  {
   "cell_type": "code",
   "execution_count": 159,
   "id": "9c21e961",
   "metadata": {},
   "outputs": [
    {
     "data": {
      "text/plain": [
       "3-element Vector{ComplexF64}:\n",
       "    -7.448326631057968 + 0.0im\n",
       "  -0.30303030293653405 + 0.0im\n",
       " -0.021802268604215334 + 0.0im"
      ]
     },
     "execution_count": 159,
     "metadata": {},
     "output_type": "execute_result"
    }
   ],
   "source": [
    "ei[1]"
   ]
  },
  {
   "cell_type": "code",
   "execution_count": 160,
   "id": "f11a58b4",
   "metadata": {},
   "outputs": [
    {
     "data": {
      "text/plain": [
       "3-element SVector{3, Float64} with indices SOneTo(3):\n",
       " 1.7179320586715578\n",
       " 0.9272835050926821\n",
       " 0.9621907929989197"
      ]
     },
     "execution_count": 160,
     "metadata": {},
     "output_type": "execute_result"
    }
   ],
   "source": [
    "idx = 3\n",
    "Jac = jacob_TM_(fp[idx], p, 0)\n",
    "eivecs = eigvecs(Jac)\n",
    "shift = real(eivecs[:, 1])*1e-3 + fp[idx]"
   ]
  },
  {
   "cell_type": "code",
   "execution_count": 161,
   "id": "44802528",
   "metadata": {},
   "outputs": [
    {
     "data": {
      "text/plain": [
       "3-element SVector{3, Float64} with indices SOneTo(3):\n",
       " -3.8877749532527055e-5\n",
       "  3.06376250247542e-6\n",
       " -4.4315791536408966e-8"
      ]
     },
     "execution_count": 161,
     "metadata": {},
     "output_type": "execute_result"
    }
   ],
   "source": [
    "TM([1.71826,  0.927222,  0.962207], p, 0)"
   ]
  },
  {
   "cell_type": "code",
   "execution_count": 162,
   "id": "59dc04be",
   "metadata": {},
   "outputs": [
    {
     "data": {
      "text/plain": [
       "(3-dimensional StateSpaceSet{Float64} with 500001 points, 0.0:0.001:500.0)"
      ]
     },
     "execution_count": 162,
     "metadata": {},
     "output_type": "execute_result"
    }
   ],
   "source": [
    "tr, trange = trajectory(ds, 500, Δt = tstep)"
   ]
  },
  {
   "cell_type": "code",
   "execution_count": 164,
   "id": "d003ca7b",
   "metadata": {},
   "outputs": [
    {
     "data": {
      "text/plain": [
       "GLMakie.Screen(...)"
      ]
     },
     "execution_count": 164,
     "metadata": {},
     "output_type": "execute_result"
    }
   ],
   "source": [
    "ts, tf = 1, 500000\n",
    "idx, idy, idz = 3, 2, 1\n",
    "\n",
    "GLMakie.activate!()\n",
    "f = Figure(resolution = (700, 700))\n",
    "\n",
    "ax = LScene(f[1, 1], show_axis = true)\n",
    "\n",
    "scale!(ax.scene, 50, 50, 1)\n",
    "\n",
    "lines!(tr[ts:tf, idx], tr[ts:tf, idy], tr[ts:tf,idz],\n",
    "    linewidth = 0.5, color = :deeppink)\n",
    "\n",
    "for (i, ep) in enumerate(fp)\n",
    "    scatter!(ep[idx], ep[idy], ep[idz], color = colors[i], markersize = 10)\n",
    "end\n",
    "\n",
    "display(GLMakie.Screen(), f)"
   ]
  },
  {
   "cell_type": "code",
   "execution_count": 135,
   "id": "51cae009",
   "metadata": {},
   "outputs": [
    {
     "data": {
      "image/png": "[encoded data removed]"
     },
     "metadata": {},
     "output_type": "display_data"
    },
    {
     "data": {
      "text/plain": [
       "CairoMakie.Screen{IMAGE}\n"
      ]
     },
     "execution_count": 135,
     "metadata": {},
     "output_type": "execute_result"
    }
   ],
   "source": [
    "ts, tf = 1, 1500000\n",
    "\n",
    "CairoMakie.activate!()\n",
    "f = Figure(resolution = (1600, 450))\n",
    "ax = Axis(f[1, 1])\n",
    "\n",
    "lines!(trange[ts:tf], tr[ts:tf, 1], linewidth = 2.5, color = :deeppink)\n",
    "#display(GLMakie.Screen(), f)\n",
    "display(f)"
   ]
  },
  {
   "cell_type": "code",
   "execution_count": 15,
   "id": "7ee7bdb0",
   "metadata": {},
   "outputs": [],
   "source": [
    "colors = [\"orange\", \"black\", \"blue\"];"
   ]
  }
 ],
 "metadata": {
  "kernelspec": {
   "display_name": "Julia 1.8.5",
   "language": "julia",
   "name": "julia-1.8"
  },
  "language_info": {
   "file_extension": ".jl",
   "mimetype": "application/julia",
   "name": "julia",
   "version": "1.8.5"
  }
 },
 "nbformat": 4,
 "nbformat_minor": 5
}
