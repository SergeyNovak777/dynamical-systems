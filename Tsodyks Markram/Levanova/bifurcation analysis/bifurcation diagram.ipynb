{
 "cells": [
  {
   "cell_type": "code",
   "execution_count": 50,
   "metadata": {},
   "outputs": [],
   "source": [
    "using StaticArrays, DifferentialEquations, DynamicalSystems, CairoMakie"
   ]
  },
  {
   "cell_type": "code",
   "execution_count": 84,
   "metadata": {},
   "outputs": [
    {
     "data": {
      "text/plain": [
       "TM (generic function with 1 method)"
      ]
     },
     "execution_count": 84,
     "metadata": {},
     "output_type": "execute_result"
    }
   ],
   "source": [
    "function TM(u, p, t)\n",
    "\n",
    "    U(y) = U0 + ΔU0 / ( 1 + exp( -50*(y-ythr) ) )\n",
    "    σ(x) = 1 / ( 1 + exp( -20*(x-xthr) ) )\n",
    "\n",
    "    E, x, y = u\n",
    "    α, τ, τD, τy, J, xthr, ythr, U0, ΔU0, β, I0 = p\n",
    "\n",
    "    du1 = (-E + α * log( 1 + exp( (J * U(y) * x * E + I0  ) / (α) ) ) ) / τ\n",
    "    du2 = (1-x)/τD - U(y)*x*E\n",
    "    du3 = (-y)/τy+β*σ(x)\n",
    "\n",
    "    return SVector(du1, du2, du3)\n",
    "end"
   ]
  },
  {
   "cell_type": "code",
   "execution_count": 134,
   "metadata": {},
   "outputs": [],
   "source": [
    "t = 100.0\n",
    "tt = 100.0\n",
    "tstep = 0.001\n",
    "trange = range(0.0, t, step = tstep);\n",
    "integ_set = (alg = RK4(), adaptive = false, dt = tstep);"
   ]
  },
  {
   "cell_type": "code",
   "execution_count": 135,
   "metadata": {},
   "outputs": [],
   "source": [
    "const τ = 0.013; const τD = 0.15; const τy = 1.8; const J = 3.07; const β = 0.4375\n",
    "const xthr = 0.9; const ythr = 0.4\n",
    "α = 0.0900; U0 = 0.40; ΔU0 = 0.330; I0 =  -0.09635;"
   ]
  },
  {
   "cell_type": "code",
   "execution_count": 136,
   "metadata": {},
   "outputs": [
    {
     "data": {
      "text/plain": [
       "3-dimensional continuous dynamical system\n",
       " state:       [0.501657, 0.884356, 0.346549]\n",
       " rule f:      TM\n",
       " in-place?    false\n",
       " jacobian:    ForwardDiff\n",
       " parameters:  [0.09, 0.013, 0.15, 1.8, 3.07, …, 0.4, 0.33, 0.4375, -0.09635]"
      ]
     },
     "execution_count": 136,
     "metadata": {},
     "output_type": "execute_result"
    }
   ],
   "source": [
    "u0 = [0.5016565343933567\n",
    " 0.8843561571148351\n",
    " 0.3465491964077342]\n",
    "p = [α, τ, τD, τy, J, xthr, ythr, U0, ΔU0, β, I0]\n",
    "ds = ContinuousDynamicalSystem(TM, u0, p)"
   ]
  },
  {
   "cell_type": "code",
   "execution_count": 137,
   "metadata": {},
   "outputs": [],
   "source": [
    "I0range = range( -0.09639, -0.0969, step = -0.0000002 ) # -0.0000004\n",
    "\n",
    "idx_control_parameter = 11\n",
    "\n",
    "idx_fix = 1; fixed_value = 20.0\n",
    "surface = (idx_fix, fixed_value)\n",
    "setting_root = (xrtol = 1e-11, atol = 1e-11);"
   ]
  },
  {
   "cell_type": "code",
   "execution_count": 138,
   "metadata": {},
   "outputs": [
    {
     "data": {
      "text/plain": [
       "2551"
      ]
     },
     "execution_count": 138,
     "metadata": {},
     "output_type": "execute_result"
    }
   ],
   "source": [
    "length(I0range)"
   ]
  },
  {
   "cell_type": "code",
   "execution_count": null,
   "metadata": {
    "scrolled": true
   },
   "outputs": [
    {
     "name": "stdout",
     "output_type": "stream",
     "text": [
      "parameter = -0.09639\n",
      "parameter = -0.0963902\n",
      "parameter = -0.0963904\n",
      "parameter = -0.0963906\n",
      "parameter = -0.0963908\n",
      "parameter = -0.096391\n",
      "parameter = -0.0963912\n",
      "parameter = -0.0963914\n",
      "parameter = -0.0963916\n",
      "parameter = -0.0963918\n",
      "parameter = -0.096392\n",
      "parameter = -0.0963922\n",
      "parameter = -0.0963924\n",
      "parameter = -0.0963926\n",
      "parameter = -0.0963928\n",
      "parameter = -0.096393\n",
      "parameter = -0.0963932\n",
      "parameter = -0.0963934\n",
      "parameter = -0.0963936\n",
      "parameter = -0.0963938\n",
      "parameter = -0.096394\n",
      "parameter = -0.0963942\n",
      "parameter = -0.0963944\n",
      "parameter = -0.0963946\n",
      "parameter = -0.0963948\n",
      "parameter = -0.096395\n",
      "parameter = -0.0963952\n",
      "parameter = -0.0963954\n",
      "parameter = -0.0963956\n",
      "parameter = -0.0963958\n",
      "parameter = -0.096396\n",
      "parameter = -0.0963962\n",
      "parameter = -0.0963964\n",
      "parameter = -0.0963966\n",
      "parameter = -0.0963968\n",
      "parameter = -0.096397\n",
      "parameter = -0.0963972\n",
      "parameter = -0.0963974\n",
      "parameter = -0.0963976\n",
      "parameter = -0.0963978\n",
      "parameter = -0.096398\n",
      "parameter = -0.0963982\n",
      "parameter = -0.0963984\n",
      "parameter = -0.0963986\n",
      "parameter = -0.0963988\n",
      "parameter = -0.096399\n",
      "parameter = -0.0963992\n",
      "parameter = -0.0963994\n",
      "parameter = -0.0963996\n",
      "parameter = -0.0963998\n",
      "parameter = -0.0964\n",
      "parameter = -0.0964002\n",
      "parameter = -0.0964004\n",
      "parameter = -0.0964006\n",
      "parameter = -0.0964008\n",
      "parameter = -0.096401\n",
      "parameter = -0.0964012\n",
      "parameter = -0.0964014\n",
      "parameter = -0.0964016\n",
      "parameter = -0.0964018\n",
      "parameter = -0.096402\n",
      "parameter = -0.0964022\n",
      "parameter = -0.0964024\n",
      "parameter = -0.0964026\n",
      "parameter = -0.0964028\n",
      "parameter = -0.096403\n",
      "parameter = -0.0964032\n",
      "parameter = -0.0964034\n",
      "parameter = -0.0964036\n",
      "parameter = -0.0964038\n",
      "parameter = -0.096404\n",
      "parameter = -0.0964042\n",
      "parameter = -0.0964044\n",
      "parameter = -0.0964046\n",
      "parameter = -0.0964048\n",
      "parameter = -0.096405\n",
      "parameter = -0.0964052\n",
      "parameter = -0.0964054\n",
      "parameter = -0.0964056\n",
      "parameter = -0.0964058\n",
      "parameter = -0.096406\n",
      "parameter = -0.0964062\n",
      "parameter = -0.0964064\n",
      "parameter = -0.0964066\n",
      "parameter = -0.0964068\n",
      "parameter = -0.096407\n",
      "parameter = -0.0964072\n",
      "parameter = -0.0964074\n",
      "parameter = -0.0964076\n",
      "parameter = -0.0964078\n",
      "parameter = -0.096408\n",
      "parameter = -0.0964082\n",
      "parameter = -0.0964084\n",
      "parameter = -0.0964086\n",
      "parameter = -0.0964088\n",
      "parameter = -0.096409\n",
      "parameter = -0.0964092\n",
      "parameter = -0.0964094\n",
      "parameter = -0.0964096\n",
      "parameter = -0.0964098\n",
      "parameter = -0.09641\n",
      "parameter = -0.0964102\n",
      "parameter = -0.0964104\n",
      "parameter = -0.0964106\n",
      "parameter = -0.0964108\n",
      "parameter = -0.096411\n",
      "parameter = -0.0964112\n",
      "parameter = -0.0964114\n",
      "parameter = -0.0964116\n",
      "parameter = -0.0964118\n",
      "parameter = -0.096412\n",
      "parameter = -0.0964122\n",
      "parameter = -0.0964124\n",
      "parameter = -0.0964126\n",
      "parameter = -0.0964128\n",
      "parameter = -0.096413\n",
      "parameter = -0.0964132\n",
      "parameter = -0.0964134\n",
      "parameter = -0.0964136\n",
      "parameter = -0.0964138\n",
      "parameter = -0.096414\n",
      "parameter = -0.0964142\n",
      "parameter = -0.0964144\n",
      "parameter = -0.0964146\n",
      "parameter = -0.0964148\n",
      "parameter = -0.096415\n",
      "parameter = -0.0964152\n",
      "parameter = -0.0964154\n",
      "parameter = -0.0964156\n",
      "parameter = -0.0964158\n",
      "parameter = -0.096416\n",
      "parameter = -0.0964162\n",
      "parameter = -0.0964164\n",
      "parameter = -0.0964166\n",
      "parameter = -0.0964168\n",
      "parameter = -0.096417\n",
      "parameter = -0.0964172\n",
      "parameter = -0.0964174\n",
      "parameter = -0.0964176\n",
      "parameter = -0.0964178\n",
      "parameter = -0.096418\n",
      "parameter = -0.0964182\n",
      "parameter = -0.0964184\n",
      "parameter = -0.0964186\n",
      "parameter = -0.0964188\n",
      "parameter = -0.096419\n",
      "parameter = -0.0964192\n",
      "parameter = -0.0964194\n",
      "parameter = -0.0964196\n",
      "parameter = -0.0964198\n",
      "parameter = -0.09642\n",
      "parameter = -0.0964202\n",
      "parameter = -0.0964204\n",
      "parameter = -0.0964206\n",
      "parameter = -0.0964208\n",
      "parameter = -0.096421\n",
      "parameter = -0.0964212\n",
      "parameter = -0.0964214\n",
      "parameter = -0.0964216\n",
      "parameter = -0.0964218\n",
      "parameter = -0.096422\n",
      "parameter = -0.0964222\n",
      "parameter = -0.0964224\n",
      "parameter = -0.0964226\n",
      "parameter = -0.0964228\n",
      "parameter = -0.096423\n",
      "parameter = -0.0964232\n",
      "parameter = -0.0964234\n",
      "parameter = -0.0964236\n",
      "parameter = -0.0964238\n",
      "parameter = -0.096424\n",
      "parameter = -0.0964242\n",
      "parameter = -0.0964244\n",
      "parameter = -0.0964246\n",
      "parameter = -0.0964248\n",
      "parameter = -0.096425\n",
      "parameter = -0.0964252\n",
      "parameter = -0.0964254\n",
      "parameter = -0.0964256\n",
      "parameter = -0.0964258\n",
      "parameter = -0.096426\n",
      "parameter = -0.0964262\n",
      "parameter = -0.0964264\n",
      "parameter = -0.0964266\n",
      "parameter = -0.0964268\n",
      "parameter = -0.096427\n",
      "parameter = -0.0964272\n",
      "parameter = -0.0964274\n",
      "parameter = -0.0964276\n",
      "parameter = -0.0964278\n",
      "parameter = -0.096428\n",
      "parameter = -0.0964282\n",
      "parameter = -0.0964284\n",
      "parameter = -0.0964286\n",
      "parameter = -0.0964288\n",
      "parameter = -0.096429\n",
      "parameter = -0.0964292\n",
      "parameter = -0.0964294\n",
      "parameter = -0.0964296\n",
      "parameter = -0.0964298\n",
      "parameter = -0.09643\n",
      "parameter = -0.0964302\n",
      "parameter = -0.0964304\n",
      "parameter = -0.0964306\n",
      "parameter = -0.0964308\n",
      "parameter = -0.096431\n",
      "parameter = -0.0964312\n",
      "parameter = -0.0964314\n",
      "parameter = -0.0964316\n",
      "parameter = -0.0964318\n",
      "parameter = -0.096432\n",
      "parameter = -0.0964322\n",
      "parameter = -0.0964324\n",
      "parameter = -0.0964326\n",
      "parameter = -0.0964328\n",
      "parameter = -0.096433\n",
      "parameter = -0.0964332\n",
      "parameter = -0.0964334\n",
      "parameter = -0.0964336\n",
      "parameter = -0.0964338\n",
      "parameter = -0.096434\n",
      "parameter = -0.0964342\n",
      "parameter = -0.0964344\n",
      "parameter = -0.0964346\n",
      "parameter = -0.0964348\n",
      "parameter = -0.096435\n",
      "parameter = -0.0964352\n",
      "parameter = -0.0964354\n",
      "parameter = -0.0964356\n",
      "parameter = -0.0964358\n",
      "parameter = -0.096436\n",
      "parameter = -0.0964362\n",
      "parameter = -0.0964364\n",
      "parameter = -0.0964366\n",
      "parameter = -0.0964368\n",
      "parameter = -0.096437\n",
      "parameter = -0.0964372\n",
      "parameter = -0.0964374\n",
      "parameter = -0.0964376\n",
      "parameter = -0.0964378\n",
      "parameter = -0.096438\n",
      "parameter = -0.0964382\n",
      "parameter = -0.0964384\n",
      "parameter = -0.0964386\n",
      "parameter = -0.0964388\n",
      "parameter = -0.096439\n",
      "parameter = -0.0964392\n",
      "parameter = -0.0964394\n",
      "parameter = -0.0964396\n",
      "parameter = -0.0964398\n",
      "parameter = -0.09644\n",
      "parameter = -0.0964402\n",
      "parameter = -0.0964404\n",
      "parameter = -0.0964406\n",
      "parameter = -0.0964408\n",
      "parameter = -0.096441\n",
      "parameter = -0.0964412\n",
      "parameter = -0.0964414\n",
      "parameter = -0.0964416\n",
      "parameter = -0.0964418\n",
      "parameter = -0.096442\n",
      "parameter = -0.0964422\n",
      "parameter = -0.0964424\n",
      "parameter = -0.0964426\n",
      "parameter = -0.0964428\n",
      "parameter = -0.096443\n",
      "parameter = -0.0964432\n",
      "parameter = -0.0964434\n",
      "parameter = -0.0964436\n",
      "parameter = -0.0964438\n",
      "parameter = -0.096444\n",
      "parameter = -0.0964442\n",
      "parameter = -0.0964444\n",
      "parameter = -0.0964446\n",
      "parameter = -0.0964448\n",
      "parameter = -0.096445\n",
      "parameter = -0.0964452\n",
      "parameter = -0.0964454\n",
      "parameter = -0.0964456\n",
      "parameter = -0.0964458\n",
      "parameter = -0.096446\n",
      "parameter = -0.0964462\n",
      "parameter = -0.0964464\n",
      "parameter = -0.0964466\n",
      "parameter = -0.0964468\n",
      "parameter = -0.096447\n",
      "parameter = -0.0964472\n",
      "parameter = -0.0964474\n",
      "parameter = -0.0964476\n",
      "parameter = -0.0964478\n",
      "parameter = -0.096448\n",
      "parameter = -0.0964482\n",
      "parameter = -0.0964484\n",
      "parameter = -0.0964486\n",
      "parameter = -0.0964488\n",
      "parameter = -0.096449\n",
      "parameter = -0.0964492\n",
      "parameter = -0.0964494\n",
      "parameter = -0.0964496\n",
      "parameter = -0.0964498\n",
      "parameter = -0.09645\n",
      "parameter = -0.0964502\n",
      "parameter = -0.0964504\n",
      "parameter = -0.0964506\n",
      "parameter = -0.0964508\n",
      "parameter = -0.096451\n",
      "parameter = -0.0964512\n",
      "parameter = -0.0964514\n",
      "parameter = -0.0964516\n",
      "parameter = -0.0964518\n",
      "parameter = -0.096452\n",
      "parameter = -0.0964522\n",
      "parameter = -0.0964524\n",
      "parameter = -0.0964526\n",
      "parameter = -0.0964528\n",
      "parameter = -0.096453\n",
      "parameter = -0.0964532\n",
      "parameter = -0.0964534\n",
      "parameter = -0.0964536\n",
      "parameter = -0.0964538\n",
      "parameter = -0.096454\n",
      "parameter = -0.0964542\n",
      "parameter = -0.0964544\n",
      "parameter = -0.0964546\n",
      "parameter = -0.0964548\n",
      "parameter = -0.096455\n",
      "parameter = -0.0964552\n",
      "parameter = -0.0964554\n",
      "parameter = -0.0964556\n",
      "parameter = -0.0964558\n",
      "parameter = -0.096456\n",
      "parameter = -0.0964562\n",
      "parameter = -0.0964564\n",
      "parameter = -0.0964566\n",
      "parameter = -0.0964568\n",
      "parameter = -0.096457\n",
      "parameter = -0.0964572\n",
      "parameter = -0.0964574\n",
      "parameter = -0.0964576\n",
      "parameter = -0.0964578\n",
      "parameter = -0.096458\n",
      "parameter = -0.0964582\n",
      "parameter = -0.0964584\n",
      "parameter = -0.0964586\n",
      "parameter = -0.0964588\n",
      "parameter = -0.096459\n",
      "parameter = -0.0964592\n",
      "parameter = -0.0964594\n",
      "parameter = -0.0964596\n",
      "parameter = -0.0964598\n",
      "parameter = -0.09646\n",
      "parameter = -0.0964602\n",
      "parameter = -0.0964604\n",
      "parameter = -0.0964606\n",
      "parameter = -0.0964608\n",
      "parameter = -0.096461\n",
      "parameter = -0.0964612\n",
      "parameter = -0.0964614\n",
      "parameter = -0.0964616\n"
     ]
    },
    {
     "name": "stdout",
     "output_type": "stream",
     "text": [
      "parameter = -0.0964618\n",
      "parameter = -0.096462\n",
      "parameter = -0.0964622\n",
      "parameter = -0.0964624\n",
      "parameter = -0.0964626\n",
      "parameter = -0.0964628\n",
      "parameter = -0.096463\n",
      "parameter = -0.0964632\n",
      "parameter = -0.0964634\n",
      "parameter = -0.0964636\n",
      "parameter = -0.0964638\n",
      "parameter = -0.096464\n",
      "parameter = -0.0964642\n",
      "parameter = -0.0964644\n",
      "parameter = -0.0964646\n",
      "parameter = -0.0964648\n",
      "parameter = -0.096465\n",
      "parameter = -0.0964652\n",
      "parameter = -0.0964654\n",
      "parameter = -0.0964656\n",
      "parameter = -0.0964658\n",
      "parameter = -0.096466\n",
      "parameter = -0.0964662\n",
      "parameter = -0.0964664\n",
      "parameter = -0.0964666\n",
      "parameter = -0.0964668\n",
      "parameter = -0.096467\n",
      "parameter = -0.0964672\n",
      "parameter = -0.0964674\n",
      "parameter = -0.0964676\n",
      "parameter = -0.0964678\n",
      "parameter = -0.096468\n",
      "parameter = -0.0964682\n",
      "parameter = -0.0964684\n",
      "parameter = -0.0964686\n",
      "parameter = -0.0964688\n",
      "parameter = -0.096469\n",
      "parameter = -0.0964692\n",
      "parameter = -0.0964694\n",
      "parameter = -0.0964696\n",
      "parameter = -0.0964698\n",
      "parameter = -0.09647\n",
      "parameter = -0.0964702\n",
      "parameter = -0.0964704\n",
      "parameter = -0.0964706\n",
      "parameter = -0.0964708\n",
      "parameter = -0.096471\n",
      "parameter = -0.0964712\n",
      "parameter = -0.0964714\n",
      "parameter = -0.0964716\n",
      "parameter = -0.0964718\n",
      "parameter = -0.096472\n",
      "parameter = -0.0964722\n",
      "parameter = -0.0964724\n",
      "parameter = -0.0964726\n",
      "parameter = -0.0964728\n",
      "parameter = -0.096473\n",
      "parameter = -0.0964732\n",
      "parameter = -0.0964734\n",
      "parameter = -0.0964736\n",
      "parameter = -0.0964738\n",
      "parameter = -0.096474\n",
      "parameter = -0.0964742\n",
      "parameter = -0.0964744\n",
      "parameter = -0.0964746\n",
      "parameter = -0.0964748\n",
      "parameter = -0.096475\n",
      "parameter = -0.0964752\n",
      "parameter = -0.0964754\n",
      "parameter = -0.0964756\n",
      "parameter = -0.0964758\n",
      "parameter = -0.096476\n",
      "parameter = -0.0964762\n",
      "parameter = -0.0964764\n",
      "parameter = -0.0964766\n",
      "parameter = -0.0964768\n",
      "parameter = -0.096477\n",
      "parameter = -0.0964772\n",
      "parameter = -0.0964774\n",
      "parameter = -0.0964776\n",
      "parameter = -0.0964778\n",
      "parameter = -0.096478\n",
      "parameter = -0.0964782\n",
      "parameter = -0.0964784\n",
      "parameter = -0.0964786\n",
      "parameter = -0.0964788\n",
      "parameter = -0.096479\n",
      "parameter = -0.0964792\n",
      "parameter = -0.0964794\n",
      "parameter = -0.0964796\n",
      "parameter = -0.0964798\n",
      "parameter = -0.09648\n",
      "parameter = -0.0964802\n",
      "parameter = -0.0964804\n",
      "parameter = -0.0964806\n",
      "parameter = -0.0964808\n",
      "parameter = -0.096481\n",
      "parameter = -0.0964812\n",
      "parameter = -0.0964814\n",
      "parameter = -0.0964816\n",
      "parameter = -0.0964818\n",
      "parameter = -0.096482\n",
      "parameter = -0.0964822\n",
      "parameter = -0.0964824\n",
      "parameter = -0.0964826\n",
      "parameter = -0.0964828\n",
      "parameter = -0.096483\n",
      "parameter = -0.0964832\n",
      "parameter = -0.0964834\n",
      "parameter = -0.0964836\n",
      "parameter = -0.0964838\n",
      "parameter = -0.096484\n",
      "parameter = -0.0964842\n",
      "parameter = -0.0964844\n",
      "parameter = -0.0964846\n",
      "parameter = -0.0964848\n",
      "parameter = -0.096485\n",
      "parameter = -0.0964852\n",
      "parameter = -0.0964854\n",
      "parameter = -0.0964856\n",
      "parameter = -0.0964858\n",
      "parameter = -0.096486\n",
      "parameter = -0.0964862\n",
      "parameter = -0.0964864\n",
      "parameter = -0.0964866\n",
      "parameter = -0.0964868\n",
      "parameter = -0.096487\n",
      "parameter = -0.0964872\n",
      "parameter = -0.0964874\n",
      "parameter = -0.0964876\n",
      "parameter = -0.0964878\n",
      "parameter = -0.096488\n",
      "parameter = -0.0964882\n",
      "parameter = -0.0964884\n",
      "parameter = -0.0964886\n",
      "parameter = -0.0964888\n",
      "parameter = -0.096489\n",
      "parameter = -0.0964892\n",
      "parameter = -0.0964894\n",
      "parameter = -0.0964896\n",
      "parameter = -0.0964898\n",
      "parameter = -0.09649\n",
      "parameter = -0.0964902\n",
      "parameter = -0.0964904\n",
      "parameter = -0.0964906\n",
      "parameter = -0.0964908\n",
      "parameter = -0.096491\n",
      "parameter = -0.0964912\n",
      "parameter = -0.0964914\n",
      "parameter = -0.0964916\n",
      "parameter = -0.0964918\n",
      "parameter = -0.096492\n",
      "parameter = -0.0964922\n",
      "parameter = -0.0964924\n",
      "parameter = -0.0964926\n",
      "parameter = -0.0964928\n",
      "parameter = -0.096493\n",
      "parameter = -0.0964932\n",
      "parameter = -0.0964934\n",
      "parameter = -0.0964936\n",
      "parameter = -0.0964938\n",
      "parameter = -0.096494\n",
      "parameter = -0.0964942\n",
      "parameter = -0.0964944\n",
      "parameter = -0.0964946\n",
      "parameter = -0.0964948\n",
      "parameter = -0.096495\n",
      "parameter = -0.0964952\n",
      "parameter = -0.0964954\n",
      "parameter = -0.0964956\n",
      "parameter = -0.0964958\n",
      "parameter = -0.096496\n",
      "parameter = -0.0964962\n",
      "parameter = -0.0964964\n",
      "parameter = -0.0964966\n",
      "parameter = -0.0964968\n",
      "parameter = -0.096497\n",
      "parameter = -0.0964972\n",
      "parameter = -0.0964974\n",
      "parameter = -0.0964976\n",
      "parameter = -0.0964978\n",
      "parameter = -0.096498\n",
      "parameter = -0.0964982\n",
      "parameter = -0.0964984\n",
      "parameter = -0.0964986\n",
      "parameter = -0.0964988\n",
      "parameter = -0.096499\n",
      "parameter = -0.0964992\n",
      "parameter = -0.0964994\n",
      "parameter = -0.0964996\n",
      "parameter = -0.0964998\n",
      "parameter = -0.0965\n",
      "parameter = -0.0965002\n",
      "parameter = -0.0965004\n",
      "parameter = -0.0965006\n",
      "parameter = -0.0965008\n",
      "parameter = -0.096501\n",
      "parameter = -0.0965012\n",
      "parameter = -0.0965014\n",
      "parameter = -0.0965016\n",
      "parameter = -0.0965018\n",
      "parameter = -0.096502\n",
      "parameter = -0.0965022\n",
      "parameter = -0.0965024\n",
      "parameter = -0.0965026\n",
      "parameter = -0.0965028\n",
      "parameter = -0.096503\n",
      "parameter = -0.0965032\n",
      "parameter = -0.0965034\n",
      "parameter = -0.0965036\n",
      "parameter = -0.0965038\n",
      "parameter = -0.096504\n",
      "parameter = -0.0965042\n",
      "parameter = -0.0965044\n",
      "parameter = -0.0965046\n",
      "parameter = -0.0965048\n",
      "parameter = -0.096505\n",
      "parameter = -0.0965052\n",
      "parameter = -0.0965054\n",
      "parameter = -0.0965056\n",
      "parameter = -0.0965058\n",
      "parameter = -0.096506\n",
      "parameter = -0.0965062\n",
      "parameter = -0.0965064\n",
      "parameter = -0.0965066\n",
      "parameter = -0.0965068\n",
      "parameter = -0.096507\n",
      "parameter = -0.0965072\n",
      "parameter = -0.0965074\n",
      "parameter = -0.0965076\n",
      "parameter = -0.0965078\n",
      "parameter = -0.096508\n",
      "parameter = -0.0965082\n",
      "parameter = -0.0965084\n",
      "parameter = -0.0965086\n",
      "parameter = -0.0965088\n",
      "parameter = -0.096509\n",
      "parameter = -0.0965092\n",
      "parameter = -0.0965094\n",
      "parameter = -0.0965096\n",
      "parameter = -0.0965098\n",
      "parameter = -0.09651\n",
      "parameter = -0.0965102\n",
      "parameter = -0.0965104\n",
      "parameter = -0.0965106\n",
      "parameter = -0.0965108\n",
      "parameter = -0.096511\n",
      "parameter = -0.0965112\n",
      "parameter = -0.0965114\n",
      "parameter = -0.0965116\n",
      "parameter = -0.0965118\n",
      "parameter = -0.096512\n",
      "parameter = -0.0965122\n",
      "parameter = -0.0965124\n",
      "parameter = -0.0965126\n",
      "parameter = -0.0965128\n",
      "parameter = -0.096513\n",
      "parameter = -0.0965132\n",
      "parameter = -0.0965134\n",
      "parameter = -0.0965136\n",
      "parameter = -0.0965138\n",
      "parameter = -0.096514\n",
      "parameter = -0.0965142\n",
      "parameter = -0.0965144\n",
      "parameter = -0.0965146\n",
      "parameter = -0.0965148\n",
      "parameter = -0.096515\n",
      "parameter = -0.0965152\n",
      "parameter = -0.0965154\n",
      "parameter = -0.0965156\n",
      "parameter = -0.0965158\n",
      "parameter = -0.096516\n",
      "parameter = -0.0965162\n",
      "parameter = -0.0965164\n",
      "parameter = -0.0965166\n",
      "parameter = -0.0965168\n",
      "parameter = -0.096517\n",
      "parameter = -0.0965172\n",
      "parameter = -0.0965174\n",
      "parameter = -0.0965176\n",
      "parameter = -0.0965178\n",
      "parameter = -0.096518\n",
      "parameter = -0.0965182\n",
      "parameter = -0.0965184\n",
      "parameter = -0.0965186\n",
      "parameter = -0.0965188\n",
      "parameter = -0.096519\n",
      "parameter = -0.0965192\n",
      "parameter = -0.0965194\n",
      "parameter = -0.0965196\n",
      "parameter = -0.0965198\n",
      "parameter = -0.09652\n",
      "parameter = -0.0965202\n",
      "parameter = -0.0965204\n",
      "parameter = -0.0965206\n",
      "parameter = -0.0965208\n",
      "parameter = -0.096521\n",
      "parameter = -0.0965212\n",
      "parameter = -0.0965214\n",
      "parameter = -0.0965216\n",
      "parameter = -0.0965218\n",
      "parameter = -0.096522\n",
      "parameter = -0.0965222\n",
      "parameter = -0.0965224\n",
      "parameter = -0.0965226\n",
      "parameter = -0.0965228\n",
      "parameter = -0.096523\n",
      "parameter = -0.0965232\n",
      "parameter = -0.0965234\n",
      "parameter = -0.0965236\n",
      "parameter = -0.0965238\n",
      "parameter = -0.096524\n",
      "parameter = -0.0965242\n",
      "parameter = -0.0965244\n",
      "parameter = -0.0965246\n",
      "parameter = -0.0965248\n",
      "parameter = -0.096525\n",
      "parameter = -0.0965252\n",
      "parameter = -0.0965254\n",
      "parameter = -0.0965256\n",
      "parameter = -0.0965258\n",
      "parameter = -0.096526\n",
      "parameter = -0.0965262\n",
      "parameter = -0.0965264\n",
      "parameter = -0.0965266\n",
      "parameter = -0.0965268\n",
      "parameter = -0.096527\n",
      "parameter = -0.0965272\n",
      "parameter = -0.0965274\n",
      "parameter = -0.0965276\n",
      "parameter = -0.0965278\n",
      "parameter = -0.096528\n",
      "parameter = -0.0965282\n",
      "parameter = -0.0965284\n",
      "parameter = -0.0965286\n",
      "parameter = -0.0965288\n",
      "parameter = -0.096529\n",
      "parameter = -0.0965292\n",
      "parameter = -0.0965294\n",
      "parameter = -0.0965296\n",
      "parameter = -0.0965298\n",
      "parameter = -0.09653\n",
      "parameter = -0.0965302\n",
      "parameter = -0.0965304\n",
      "parameter = -0.0965306\n",
      "parameter = -0.0965308\n",
      "parameter = -0.096531\n",
      "parameter = -0.0965312\n",
      "parameter = -0.0965314\n",
      "parameter = -0.0965316\n",
      "parameter = -0.0965318\n",
      "parameter = -0.096532\n",
      "parameter = -0.0965322\n",
      "parameter = -0.0965324\n",
      "parameter = -0.0965326\n",
      "parameter = -0.0965328\n",
      "parameter = -0.096533\n",
      "parameter = -0.0965332\n",
      "parameter = -0.0965334\n"
     ]
    },
    {
     "name": "stdout",
     "output_type": "stream",
     "text": [
      "parameter = -0.0965336\n",
      "parameter = -0.0965338\n",
      "parameter = -0.096534\n",
      "parameter = -0.0965342\n",
      "parameter = -0.0965344\n",
      "parameter = -0.0965346\n",
      "parameter = -0.0965348\n",
      "parameter = -0.096535\n",
      "parameter = -0.0965352\n",
      "parameter = -0.0965354\n",
      "parameter = -0.0965356\n",
      "parameter = -0.0965358\n",
      "parameter = -0.096536\n",
      "parameter = -0.0965362\n",
      "parameter = -0.0965364\n",
      "parameter = -0.0965366\n",
      "parameter = -0.0965368\n",
      "parameter = -0.096537\n",
      "parameter = -0.0965372\n",
      "parameter = -0.0965374\n",
      "parameter = -0.0965376\n",
      "parameter = -0.0965378\n",
      "parameter = -0.096538\n",
      "parameter = -0.0965382\n",
      "parameter = -0.0965384\n",
      "parameter = -0.0965386\n",
      "parameter = -0.0965388\n",
      "parameter = -0.096539\n",
      "parameter = -0.0965392\n",
      "parameter = -0.0965394\n",
      "parameter = -0.0965396\n",
      "parameter = -0.0965398\n",
      "parameter = -0.09654\n",
      "parameter = -0.0965402\n",
      "parameter = -0.0965404\n",
      "parameter = -0.0965406\n",
      "parameter = -0.0965408\n",
      "parameter = -0.096541\n",
      "parameter = -0.0965412\n",
      "parameter = -0.0965414\n",
      "parameter = -0.0965416\n",
      "parameter = -0.0965418\n",
      "parameter = -0.096542\n",
      "parameter = -0.0965422\n",
      "parameter = -0.0965424\n",
      "parameter = -0.0965426\n",
      "parameter = -0.0965428\n",
      "parameter = -0.096543\n",
      "parameter = -0.0965432\n",
      "parameter = -0.0965434\n",
      "parameter = -0.0965436\n",
      "parameter = -0.0965438\n",
      "parameter = -0.096544\n",
      "parameter = -0.0965442\n",
      "parameter = -0.0965444\n",
      "parameter = -0.0965446\n",
      "parameter = -0.0965448\n",
      "parameter = -0.096545\n",
      "parameter = -0.0965452\n",
      "parameter = -0.0965454\n",
      "parameter = -0.0965456\n",
      "parameter = -0.0965458\n",
      "parameter = -0.096546\n",
      "parameter = -0.0965462\n",
      "parameter = -0.0965464\n",
      "parameter = -0.0965466\n",
      "parameter = -0.0965468\n",
      "parameter = -0.096547\n",
      "parameter = -0.0965472\n",
      "parameter = -0.0965474\n",
      "parameter = -0.0965476\n",
      "parameter = -0.0965478\n",
      "parameter = -0.096548\n",
      "parameter = -0.0965482\n",
      "parameter = -0.0965484\n",
      "parameter = -0.0965486\n",
      "parameter = -0.0965488\n",
      "parameter = -0.096549\n",
      "parameter = -0.0965492\n",
      "parameter = -0.0965494\n",
      "parameter = -0.0965496\n",
      "parameter = -0.0965498\n",
      "parameter = -0.09655\n",
      "parameter = -0.0965502\n",
      "parameter = -0.0965504\n",
      "parameter = -0.0965506\n",
      "parameter = -0.0965508\n",
      "parameter = -0.096551\n",
      "parameter = -0.0965512\n",
      "parameter = -0.0965514\n",
      "parameter = -0.0965516\n",
      "parameter = -0.0965518\n",
      "parameter = -0.096552\n",
      "parameter = -0.0965522\n",
      "parameter = -0.0965524\n",
      "parameter = -0.0965526\n",
      "parameter = -0.0965528\n",
      "parameter = -0.096553\n",
      "parameter = -0.0965532\n",
      "parameter = -0.0965534\n",
      "parameter = -0.0965536\n",
      "parameter = -0.0965538\n",
      "parameter = -0.096554\n",
      "parameter = -0.0965542\n",
      "parameter = -0.0965544\n",
      "parameter = -0.0965546\n",
      "parameter = -0.0965548\n",
      "parameter = -0.096555\n",
      "parameter = -0.0965552\n",
      "parameter = -0.0965554\n",
      "parameter = -0.0965556\n",
      "parameter = -0.0965558\n",
      "parameter = -0.096556\n",
      "parameter = -0.0965562\n",
      "parameter = -0.0965564\n",
      "parameter = -0.0965566\n",
      "parameter = -0.0965568\n",
      "parameter = -0.096557\n",
      "parameter = -0.0965572\n",
      "parameter = -0.0965574\n",
      "parameter = -0.0965576\n",
      "parameter = -0.0965578\n",
      "parameter = -0.096558\n",
      "parameter = -0.0965582\n",
      "parameter = -0.0965584\n",
      "parameter = -0.0965586\n",
      "parameter = -0.0965588\n",
      "parameter = -0.096559\n",
      "parameter = -0.0965592\n",
      "parameter = -0.0965594\n",
      "parameter = -0.0965596\n",
      "parameter = -0.0965598\n",
      "parameter = -0.09656\n",
      "parameter = -0.0965602\n",
      "parameter = -0.0965604\n",
      "parameter = -0.0965606\n",
      "parameter = -0.0965608\n",
      "parameter = -0.096561\n",
      "parameter = -0.0965612\n",
      "parameter = -0.0965614\n",
      "parameter = -0.0965616\n",
      "parameter = -0.0965618\n",
      "parameter = -0.096562\n",
      "parameter = -0.0965622\n",
      "parameter = -0.0965624\n",
      "parameter = -0.0965626\n",
      "parameter = -0.0965628\n",
      "parameter = -0.096563\n",
      "parameter = -0.0965632\n",
      "parameter = -0.0965634\n",
      "parameter = -0.0965636\n",
      "parameter = -0.0965638\n",
      "parameter = -0.096564\n",
      "parameter = -0.0965642\n",
      "parameter = -0.0965644\n",
      "parameter = -0.0965646\n",
      "parameter = -0.0965648\n",
      "parameter = -0.096565\n",
      "parameter = -0.0965652\n",
      "parameter = -0.0965654\n",
      "parameter = -0.0965656\n",
      "parameter = -0.0965658\n",
      "parameter = -0.096566\n",
      "parameter = -0.0965662\n",
      "parameter = -0.0965664\n",
      "parameter = -0.0965666\n",
      "parameter = -0.0965668\n",
      "parameter = -0.096567\n",
      "parameter = -0.0965672\n",
      "parameter = -0.0965674\n",
      "parameter = -0.0965676\n",
      "parameter = -0.0965678\n",
      "parameter = -0.096568\n",
      "parameter = -0.0965682\n",
      "parameter = -0.0965684\n",
      "parameter = -0.0965686\n",
      "parameter = -0.0965688\n",
      "parameter = -0.096569\n",
      "parameter = -0.0965692\n",
      "parameter = -0.0965694\n",
      "parameter = -0.0965696\n",
      "parameter = -0.0965698\n",
      "parameter = -0.09657\n",
      "parameter = -0.0965702\n",
      "parameter = -0.0965704\n",
      "parameter = -0.0965706\n",
      "parameter = -0.0965708\n",
      "parameter = -0.096571\n",
      "parameter = -0.0965712\n",
      "parameter = -0.0965714\n",
      "parameter = -0.0965716\n",
      "parameter = -0.0965718\n",
      "parameter = -0.096572\n",
      "parameter = -0.0965722\n",
      "parameter = -0.0965724\n",
      "parameter = -0.0965726\n",
      "parameter = -0.0965728\n",
      "parameter = -0.096573\n",
      "parameter = -0.0965732\n",
      "parameter = -0.0965734\n",
      "parameter = -0.0965736\n",
      "parameter = -0.0965738\n",
      "parameter = -0.096574\n",
      "parameter = -0.0965742\n",
      "parameter = -0.0965744\n",
      "parameter = -0.0965746\n",
      "parameter = -0.0965748\n",
      "parameter = -0.096575\n",
      "parameter = -0.0965752\n",
      "parameter = -0.0965754\n",
      "parameter = -0.0965756\n",
      "parameter = -0.0965758\n",
      "parameter = -0.096576\n",
      "parameter = -0.0965762\n",
      "parameter = -0.0965764\n",
      "parameter = -0.0965766\n",
      "parameter = -0.0965768\n",
      "parameter = -0.096577\n",
      "parameter = -0.0965772\n",
      "parameter = -0.0965774\n",
      "parameter = -0.0965776\n",
      "parameter = -0.0965778\n",
      "parameter = -0.096578\n",
      "parameter = -0.0965782\n",
      "parameter = -0.0965784\n",
      "parameter = -0.0965786\n",
      "parameter = -0.0965788\n",
      "parameter = -0.096579\n",
      "parameter = -0.0965792\n",
      "parameter = -0.0965794\n",
      "parameter = -0.0965796\n",
      "parameter = -0.0965798\n",
      "parameter = -0.09658\n",
      "parameter = -0.0965802\n",
      "parameter = -0.0965804\n",
      "parameter = -0.0965806\n",
      "parameter = -0.0965808\n",
      "parameter = -0.096581\n",
      "parameter = -0.0965812\n",
      "parameter = -0.0965814\n",
      "parameter = -0.0965816\n",
      "parameter = -0.0965818\n",
      "parameter = -0.096582\n",
      "parameter = -0.0965822\n",
      "parameter = -0.0965824\n",
      "parameter = -0.0965826\n",
      "parameter = -0.0965828\n",
      "parameter = -0.096583\n",
      "parameter = -0.0965832\n",
      "parameter = -0.0965834\n",
      "parameter = -0.0965836\n",
      "parameter = -0.0965838\n",
      "parameter = -0.096584\n",
      "parameter = -0.0965842\n",
      "parameter = -0.0965844\n",
      "parameter = -0.0965846\n",
      "parameter = -0.0965848\n",
      "parameter = -0.096585\n",
      "parameter = -0.0965852\n",
      "parameter = -0.0965854\n",
      "parameter = -0.0965856\n",
      "parameter = -0.0965858\n",
      "parameter = -0.096586\n",
      "parameter = -0.0965862\n",
      "parameter = -0.0965864\n",
      "parameter = -0.0965866\n",
      "parameter = -0.0965868\n",
      "parameter = -0.096587\n",
      "parameter = -0.0965872\n",
      "parameter = -0.0965874\n",
      "parameter = -0.0965876\n",
      "parameter = -0.0965878\n",
      "parameter = -0.096588\n",
      "parameter = -0.0965882\n",
      "parameter = -0.0965884\n",
      "parameter = -0.0965886\n",
      "parameter = -0.0965888\n",
      "parameter = -0.096589\n",
      "parameter = -0.0965892\n",
      "parameter = -0.0965894\n",
      "parameter = -0.0965896\n",
      "parameter = -0.0965898\n",
      "parameter = -0.09659\n",
      "parameter = -0.0965902\n",
      "parameter = -0.0965904\n",
      "parameter = -0.0965906\n",
      "parameter = -0.0965908\n",
      "parameter = -0.096591\n",
      "parameter = -0.0965912\n",
      "parameter = -0.0965914\n",
      "parameter = -0.0965916\n",
      "parameter = -0.0965918\n",
      "parameter = -0.096592\n",
      "parameter = -0.0965922\n",
      "parameter = -0.0965924\n",
      "parameter = -0.0965926\n",
      "parameter = -0.0965928\n",
      "parameter = -0.096593\n",
      "parameter = -0.0965932\n",
      "parameter = -0.0965934\n",
      "parameter = -0.0965936\n",
      "parameter = -0.0965938\n",
      "parameter = -0.096594\n",
      "parameter = -0.0965942\n",
      "parameter = -0.0965944\n",
      "parameter = -0.0965946\n",
      "parameter = -0.0965948\n",
      "parameter = -0.096595\n",
      "parameter = -0.0965952\n",
      "parameter = -0.0965954\n",
      "parameter = -0.0965956\n",
      "parameter = -0.0965958"
     ]
    },
    {
     "name": "stderr",
     "output_type": "stream",
     "text": [
      "\u001b[33m\u001b[1m┌ \u001b[22m\u001b[39m\u001b[33m\u001b[1mWarning: \u001b[22m\u001b[39mFor parameter -0.0965956 The Poincaré surface of section did not have any points!\n",
      "\u001b[33m\u001b[1m└ \u001b[22m\u001b[39m\u001b[90m@ ChaosTools C:\\Users\\Alex\\.julia\\packages\\ChaosTools\\PHPDF\\src\\orbitdiagrams\\produce_orbitdiagram.jl:75\u001b[39m\n"
     ]
    },
    {
     "name": "stdout",
     "output_type": "stream",
     "text": [
      "\n",
      "parameter = -0.096596"
     ]
    },
    {
     "name": "stderr",
     "output_type": "stream",
     "text": [
      "\u001b[33m\u001b[1m┌ \u001b[22m\u001b[39m\u001b[33m\u001b[1mWarning: \u001b[22m\u001b[39mFor parameter -0.0965958 The Poincaré surface of section did not have any points!\n",
      "\u001b[33m\u001b[1m└ \u001b[22m\u001b[39m\u001b[90m@ ChaosTools C:\\Users\\Alex\\.julia\\packages\\ChaosTools\\PHPDF\\src\\orbitdiagrams\\produce_orbitdiagram.jl:75\u001b[39m\n"
     ]
    },
    {
     "name": "stdout",
     "output_type": "stream",
     "text": [
      "\n",
      "parameter = -0.0965962\n"
     ]
    },
    {
     "name": "stderr",
     "output_type": "stream",
     "text": [
      "\u001b[33m\u001b[1m┌ \u001b[22m\u001b[39m\u001b[33m\u001b[1mWarning: \u001b[22m\u001b[39mFor parameter -0.096596 The Poincaré surface of section did not have any points!\n",
      "\u001b[33m\u001b[1m└ \u001b[22m\u001b[39m\u001b[90m@ ChaosTools C:\\Users\\Alex\\.julia\\packages\\ChaosTools\\PHPDF\\src\\orbitdiagrams\\produce_orbitdiagram.jl:75\u001b[39m\n"
     ]
    },
    {
     "name": "stdout",
     "output_type": "stream",
     "text": [
      "parameter = -0.0965964\n"
     ]
    },
    {
     "name": "stderr",
     "output_type": "stream",
     "text": [
      "\u001b[33m\u001b[1m┌ \u001b[22m\u001b[39m\u001b[33m\u001b[1mWarning: \u001b[22m\u001b[39mFor parameter -0.0965962 The Poincaré surface of section did not have any points!\n",
      "\u001b[33m\u001b[1m└ \u001b[22m\u001b[39m\u001b[90m@ ChaosTools C:\\Users\\Alex\\.julia\\packages\\ChaosTools\\PHPDF\\src\\orbitdiagrams\\produce_orbitdiagram.jl:75\u001b[39m\n"
     ]
    },
    {
     "name": "stdout",
     "output_type": "stream",
     "text": [
      "parameter = -0.0965966"
     ]
    },
    {
     "name": "stderr",
     "output_type": "stream",
     "text": [
      "\u001b[33m\u001b[1m┌ \u001b[22m\u001b[39m\u001b[33m\u001b[1mWarning: \u001b[22m\u001b[39mFor parameter -0.0965964 The Poincaré surface of section did not have any points!\n",
      "\u001b[33m\u001b[1m└ \u001b[22m\u001b[39m\u001b[90m@ ChaosTools C:\\Users\\Alex\\.julia\\packages\\ChaosTools\\PHPDF\\src\\orbitdiagrams\\produce_orbitdiagram.jl:75\u001b[39m\n"
     ]
    },
    {
     "name": "stdout",
     "output_type": "stream",
     "text": [
      "\n",
      "parameter = -0.0965968"
     ]
    },
    {
     "name": "stderr",
     "output_type": "stream",
     "text": [
      "\u001b[33m\u001b[1m┌ \u001b[22m\u001b[39m\u001b[33m\u001b[1mWarning: \u001b[22m\u001b[39mFor parameter -0.0965966 The Poincaré surface of section did not have any points!\n",
      "\u001b[33m\u001b[1m└ \u001b[22m\u001b[39m\u001b[90m@ ChaosTools C:\\Users\\Alex\\.julia\\packages\\ChaosTools\\PHPDF\\src\\orbitdiagrams\\produce_orbitdiagram.jl:75\u001b[39m\n"
     ]
    },
    {
     "name": "stdout",
     "output_type": "stream",
     "text": [
      "\n",
      "parameter = -0.096597\n"
     ]
    },
    {
     "name": "stderr",
     "output_type": "stream",
     "text": [
      "\u001b[33m\u001b[1m┌ \u001b[22m\u001b[39m\u001b[33m\u001b[1mWarning: \u001b[22m\u001b[39mFor parameter -0.0965968 The Poincaré surface of section did not have any points!\n",
      "\u001b[33m\u001b[1m└ \u001b[22m\u001b[39m\u001b[90m@ ChaosTools C:\\Users\\Alex\\.julia\\packages\\ChaosTools\\PHPDF\\src\\orbitdiagrams\\produce_orbitdiagram.jl:75\u001b[39m\n"
     ]
    },
    {
     "name": "stdout",
     "output_type": "stream",
     "text": [
      "parameter = -0.0965972\n"
     ]
    },
    {
     "name": "stderr",
     "output_type": "stream",
     "text": [
      "\u001b[33m\u001b[1m┌ \u001b[22m\u001b[39m\u001b[33m\u001b[1mWarning: \u001b[22m\u001b[39mFor parameter -0.096597 The Poincaré surface of section did not have any points!\n",
      "\u001b[33m\u001b[1m└ \u001b[22m\u001b[39m\u001b[90m@ ChaosTools C:\\Users\\Alex\\.julia\\packages\\ChaosTools\\PHPDF\\src\\orbitdiagrams\\produce_orbitdiagram.jl:75\u001b[39m\n"
     ]
    },
    {
     "name": "stdout",
     "output_type": "stream",
     "text": [
      "parameter = -0.0965974"
     ]
    },
    {
     "name": "stderr",
     "output_type": "stream",
     "text": [
      "\u001b[33m\u001b[1m┌ \u001b[22m\u001b[39m\u001b[33m\u001b[1mWarning: \u001b[22m\u001b[39mFor parameter -0.0965972 The Poincaré surface of section did not have any points!\n",
      "\u001b[33m\u001b[1m└ \u001b[22m\u001b[39m\u001b[90m@ ChaosTools C:\\Users\\Alex\\.julia\\packages\\ChaosTools\\PHPDF\\src\\orbitdiagrams\\produce_orbitdiagram.jl:75\u001b[39m\n"
     ]
    },
    {
     "name": "stdout",
     "output_type": "stream",
     "text": [
      "\n",
      "parameter = -0.0965976\n"
     ]
    },
    {
     "name": "stderr",
     "output_type": "stream",
     "text": [
      "\u001b[33m\u001b[1m┌ \u001b[22m\u001b[39m\u001b[33m\u001b[1mWarning: \u001b[22m\u001b[39mFor parameter -0.0965974 The Poincaré surface of section did not have any points!\n",
      "\u001b[33m\u001b[1m└ \u001b[22m\u001b[39m\u001b[90m@ ChaosTools C:\\Users\\Alex\\.julia\\packages\\ChaosTools\\PHPDF\\src\\orbitdiagrams\\produce_orbitdiagram.jl:75\u001b[39m\n"
     ]
    },
    {
     "name": "stdout",
     "output_type": "stream",
     "text": [
      "parameter = -0.0965978\n"
     ]
    },
    {
     "name": "stderr",
     "output_type": "stream",
     "text": [
      "\u001b[33m\u001b[1m┌ \u001b[22m\u001b[39m\u001b[33m\u001b[1mWarning: \u001b[22m\u001b[39mFor parameter -0.0965976 The Poincaré surface of section did not have any points!\n",
      "\u001b[33m\u001b[1m└ \u001b[22m\u001b[39m\u001b[90m@ ChaosTools C:\\Users\\Alex\\.julia\\packages\\ChaosTools\\PHPDF\\src\\orbitdiagrams\\produce_orbitdiagram.jl:75\u001b[39m\n"
     ]
    },
    {
     "name": "stdout",
     "output_type": "stream",
     "text": [
      "parameter = -0.096598"
     ]
    },
    {
     "name": "stderr",
     "output_type": "stream",
     "text": [
      "\u001b[33m\u001b[1m┌ \u001b[22m\u001b[39m\u001b[33m\u001b[1mWarning: \u001b[22m\u001b[39mFor parameter -0.0965978 The Poincaré surface of section did not have any points!\n",
      "\u001b[33m\u001b[1m└ \u001b[22m\u001b[39m\u001b[90m@ ChaosTools C:\\Users\\Alex\\.julia\\packages\\ChaosTools\\PHPDF\\src\\orbitdiagrams\\produce_orbitdiagram.jl:75\u001b[39m\n"
     ]
    },
    {
     "name": "stdout",
     "output_type": "stream",
     "text": [
      "\n",
      "parameter = -0.0965982\n"
     ]
    },
    {
     "name": "stderr",
     "output_type": "stream",
     "text": [
      "\u001b[33m\u001b[1m┌ \u001b[22m\u001b[39m\u001b[33m\u001b[1mWarning: \u001b[22m\u001b[39mFor parameter -0.096598 The Poincaré surface of section did not have any points!\n",
      "\u001b[33m\u001b[1m└ \u001b[22m\u001b[39m\u001b[90m@ ChaosTools C:\\Users\\Alex\\.julia\\packages\\ChaosTools\\PHPDF\\src\\orbitdiagrams\\produce_orbitdiagram.jl:75\u001b[39m\n"
     ]
    },
    {
     "name": "stdout",
     "output_type": "stream",
     "text": [
      "parameter = -0.0965984"
     ]
    },
    {
     "name": "stderr",
     "output_type": "stream",
     "text": [
      "\u001b[33m\u001b[1m┌ \u001b[22m\u001b[39m\u001b[33m\u001b[1mWarning: \u001b[22m\u001b[39mFor parameter -0.0965982 The Poincaré surface of section did not have any points!\n",
      "\u001b[33m\u001b[1m└ \u001b[22m\u001b[39m\u001b[90m@ ChaosTools C:\\Users\\Alex\\.julia\\packages\\ChaosTools\\PHPDF\\src\\orbitdiagrams\\produce_orbitdiagram.jl:75\u001b[39m\n"
     ]
    },
    {
     "name": "stdout",
     "output_type": "stream",
     "text": [
      "\n",
      "parameter = -0.0965986\n"
     ]
    },
    {
     "name": "stderr",
     "output_type": "stream",
     "text": [
      "\u001b[33m\u001b[1m┌ \u001b[22m\u001b[39m\u001b[33m\u001b[1mWarning: \u001b[22m\u001b[39mFor parameter -0.0965984 The Poincaré surface of section did not have any points!\n",
      "\u001b[33m\u001b[1m└ \u001b[22m\u001b[39m\u001b[90m@ ChaosTools C:\\Users\\Alex\\.julia\\packages\\ChaosTools\\PHPDF\\src\\orbitdiagrams\\produce_orbitdiagram.jl:75\u001b[39m\n"
     ]
    },
    {
     "name": "stdout",
     "output_type": "stream",
     "text": [
      "parameter = -0.0965988\n"
     ]
    },
    {
     "name": "stderr",
     "output_type": "stream",
     "text": [
      "\u001b[33m\u001b[1m┌ \u001b[22m\u001b[39m\u001b[33m\u001b[1mWarning: \u001b[22m\u001b[39mFor parameter -0.0965986 The Poincaré surface of section did not have any points!\n",
      "\u001b[33m\u001b[1m└ \u001b[22m\u001b[39m\u001b[90m@ ChaosTools C:\\Users\\Alex\\.julia\\packages\\ChaosTools\\PHPDF\\src\\orbitdiagrams\\produce_orbitdiagram.jl:75\u001b[39m\n"
     ]
    },
    {
     "name": "stdout",
     "output_type": "stream",
     "text": [
      "parameter = -0.096599"
     ]
    },
    {
     "name": "stderr",
     "output_type": "stream",
     "text": [
      "\u001b[33m\u001b[1m┌ \u001b[22m\u001b[39m\u001b[33m\u001b[1mWarning: \u001b[22m\u001b[39mFor parameter -0.0965988 The Poincaré surface of section did not have any points!\n",
      "\u001b[33m\u001b[1m└ \u001b[22m\u001b[39m\u001b[90m@ ChaosTools C:\\Users\\Alex\\.julia\\packages\\ChaosTools\\PHPDF\\src\\orbitdiagrams\\produce_orbitdiagram.jl:75\u001b[39m\n"
     ]
    },
    {
     "name": "stdout",
     "output_type": "stream",
     "text": [
      "\n",
      "parameter = -0.0965992"
     ]
    },
    {
     "name": "stderr",
     "output_type": "stream",
     "text": [
      "\u001b[33m\u001b[1m┌ \u001b[22m\u001b[39m\u001b[33m\u001b[1mWarning: \u001b[22m\u001b[39mFor parameter -0.096599 The Poincaré surface of section did not have any points!\n",
      "\u001b[33m\u001b[1m└ \u001b[22m\u001b[39m\u001b[90m@ ChaosTools C:\\Users\\Alex\\.julia\\packages\\ChaosTools\\PHPDF\\src\\orbitdiagrams\\produce_orbitdiagram.jl:75\u001b[39m\n"
     ]
    },
    {
     "name": "stdout",
     "output_type": "stream",
     "text": [
      "\n",
      "parameter = -0.0965994"
     ]
    },
    {
     "name": "stderr",
     "output_type": "stream",
     "text": [
      "\u001b[33m\u001b[1m┌ \u001b[22m\u001b[39m\u001b[33m\u001b[1mWarning: \u001b[22m\u001b[39mFor parameter -0.0965992 The Poincaré surface of section did not have any points!\n",
      "\u001b[33m\u001b[1m└ \u001b[22m\u001b[39m\u001b[90m@ ChaosTools C:\\Users\\Alex\\.julia\\packages\\ChaosTools\\PHPDF\\src\\orbitdiagrams\\produce_orbitdiagram.jl:75\u001b[39m\n"
     ]
    },
    {
     "name": "stdout",
     "output_type": "stream",
     "text": [
      "\n",
      "parameter = -0.0965996\n"
     ]
    },
    {
     "name": "stderr",
     "output_type": "stream",
     "text": [
      "\u001b[33m\u001b[1m┌ \u001b[22m\u001b[39m\u001b[33m\u001b[1mWarning: \u001b[22m\u001b[39mFor parameter -0.0965994 The Poincaré surface of section did not have any points!\n",
      "\u001b[33m\u001b[1m└ \u001b[22m\u001b[39m\u001b[90m@ ChaosTools C:\\Users\\Alex\\.julia\\packages\\ChaosTools\\PHPDF\\src\\orbitdiagrams\\produce_orbitdiagram.jl:75\u001b[39m\n"
     ]
    },
    {
     "name": "stdout",
     "output_type": "stream",
     "text": [
      "parameter = -0.0965998"
     ]
    },
    {
     "name": "stderr",
     "output_type": "stream",
     "text": [
      "\u001b[33m\u001b[1m┌ \u001b[22m\u001b[39m\u001b[33m\u001b[1mWarning: \u001b[22m\u001b[39mFor parameter -0.0965996 The Poincaré surface of section did not have any points!\n",
      "\u001b[33m\u001b[1m└ \u001b[22m\u001b[39m\u001b[90m@ ChaosTools C:\\Users\\Alex\\.julia\\packages\\ChaosTools\\PHPDF\\src\\orbitdiagrams\\produce_orbitdiagram.jl:75\u001b[39m\n"
     ]
    },
    {
     "name": "stdout",
     "output_type": "stream",
     "text": [
      "\n",
      "parameter = -0.0966\n"
     ]
    },
    {
     "name": "stderr",
     "output_type": "stream",
     "text": [
      "\u001b[33m\u001b[1m┌ \u001b[22m\u001b[39m\u001b[33m\u001b[1mWarning: \u001b[22m\u001b[39mFor parameter -0.0965998 The Poincaré surface of section did not have any points!\n",
      "\u001b[33m\u001b[1m└ \u001b[22m\u001b[39m\u001b[90m@ ChaosTools C:\\Users\\Alex\\.julia\\packages\\ChaosTools\\PHPDF\\src\\orbitdiagrams\\produce_orbitdiagram.jl:75\u001b[39m\n"
     ]
    },
    {
     "name": "stdout",
     "output_type": "stream",
     "text": [
      "parameter = -0.0966002"
     ]
    },
    {
     "name": "stderr",
     "output_type": "stream",
     "text": [
      "\u001b[33m\u001b[1m┌ \u001b[22m\u001b[39m\u001b[33m\u001b[1mWarning: \u001b[22m\u001b[39mFor parameter -0.0966 The Poincaré surface of section did not have any points!\n",
      "\u001b[33m\u001b[1m└ \u001b[22m\u001b[39m\u001b[90m@ ChaosTools C:\\Users\\Alex\\.julia\\packages\\ChaosTools\\PHPDF\\src\\orbitdiagrams\\produce_orbitdiagram.jl:75\u001b[39m\n"
     ]
    },
    {
     "name": "stdout",
     "output_type": "stream",
     "text": [
      "\n",
      "parameter = -0.0966004"
     ]
    },
    {
     "name": "stderr",
     "output_type": "stream",
     "text": [
      "\u001b[33m\u001b[1m┌ \u001b[22m\u001b[39m\u001b[33m\u001b[1mWarning: \u001b[22m\u001b[39mFor parameter -0.0966002 The Poincaré surface of section did not have any points!\n",
      "\u001b[33m\u001b[1m└ \u001b[22m\u001b[39m\u001b[90m@ ChaosTools C:\\Users\\Alex\\.julia\\packages\\ChaosTools\\PHPDF\\src\\orbitdiagrams\\produce_orbitdiagram.jl:75\u001b[39m\n"
     ]
    },
    {
     "name": "stdout",
     "output_type": "stream",
     "text": [
      "\n",
      "parameter = -0.0966006\n"
     ]
    },
    {
     "name": "stderr",
     "output_type": "stream",
     "text": [
      "\u001b[33m\u001b[1m┌ \u001b[22m\u001b[39m\u001b[33m\u001b[1mWarning: \u001b[22m\u001b[39mFor parameter -0.0966004 The Poincaré surface of section did not have any points!\n",
      "\u001b[33m\u001b[1m└ \u001b[22m\u001b[39m\u001b[90m@ ChaosTools C:\\Users\\Alex\\.julia\\packages\\ChaosTools\\PHPDF\\src\\orbitdiagrams\\produce_orbitdiagram.jl:75\u001b[39m\n"
     ]
    },
    {
     "name": "stdout",
     "output_type": "stream",
     "text": [
      "parameter = -0.0966008"
     ]
    },
    {
     "name": "stderr",
     "output_type": "stream",
     "text": [
      "\u001b[33m\u001b[1m┌ \u001b[22m\u001b[39m\u001b[33m\u001b[1mWarning: \u001b[22m\u001b[39mFor parameter -0.0966006 The Poincaré surface of section did not have any points!\n",
      "\u001b[33m\u001b[1m└ \u001b[22m\u001b[39m\u001b[90m@ ChaosTools C:\\Users\\Alex\\.julia\\packages\\ChaosTools\\PHPDF\\src\\orbitdiagrams\\produce_orbitdiagram.jl:75\u001b[39m\n"
     ]
    },
    {
     "name": "stdout",
     "output_type": "stream",
     "text": [
      "\n",
      "parameter = -0.096601"
     ]
    },
    {
     "name": "stderr",
     "output_type": "stream",
     "text": [
      "\u001b[33m\u001b[1m┌ \u001b[22m\u001b[39m\u001b[33m\u001b[1mWarning: \u001b[22m\u001b[39mFor parameter -0.0966008 The Poincaré surface of section did not have any points!\n",
      "\u001b[33m\u001b[1m└ \u001b[22m\u001b[39m\u001b[90m@ ChaosTools C:\\Users\\Alex\\.julia\\packages\\ChaosTools\\PHPDF\\src\\orbitdiagrams\\produce_orbitdiagram.jl:75\u001b[39m\n"
     ]
    },
    {
     "name": "stdout",
     "output_type": "stream",
     "text": [
      "\n",
      "parameter = -0.0966012"
     ]
    },
    {
     "name": "stderr",
     "output_type": "stream",
     "text": [
      "\u001b[33m\u001b[1m┌ \u001b[22m\u001b[39m\u001b[33m\u001b[1mWarning: \u001b[22m\u001b[39mFor parameter -0.096601 The Poincaré surface of section did not have any points!\n",
      "\u001b[33m\u001b[1m└ \u001b[22m\u001b[39m\u001b[90m@ ChaosTools C:\\Users\\Alex\\.julia\\packages\\ChaosTools\\PHPDF\\src\\orbitdiagrams\\produce_orbitdiagram.jl:75\u001b[39m\n"
     ]
    },
    {
     "name": "stdout",
     "output_type": "stream",
     "text": [
      "\n",
      "parameter = -0.0966014\n"
     ]
    },
    {
     "name": "stderr",
     "output_type": "stream",
     "text": [
      "\u001b[33m\u001b[1m┌ \u001b[22m\u001b[39m\u001b[33m\u001b[1mWarning: \u001b[22m\u001b[39mFor parameter -0.0966012 The Poincaré surface of section did not have any points!\n",
      "\u001b[33m\u001b[1m└ \u001b[22m\u001b[39m\u001b[90m@ ChaosTools C:\\Users\\Alex\\.julia\\packages\\ChaosTools\\PHPDF\\src\\orbitdiagrams\\produce_orbitdiagram.jl:75\u001b[39m\n",
      "\u001b[33m\u001b[1m┌ \u001b[22m\u001b[39m\u001b[33m\u001b[1mWarning: \u001b[22m\u001b[39mFor parameter -0.0966014 The Poincaré surface of section did not have any points!\n",
      "\u001b[33m\u001b[1m└ \u001b[22m\u001b[39m\u001b[90m@ ChaosTools C:\\Users\\Alex\\.julia\\packages\\ChaosTools\\PHPDF\\src\\orbitdiagrams\\produce_orbitdiagram.jl:75\u001b[39m\n"
     ]
    },
    {
     "name": "stdout",
     "output_type": "stream",
     "text": [
      "parameter = -0.0966016\n",
      "parameter = -0.0966018"
     ]
    },
    {
     "name": "stderr",
     "output_type": "stream",
     "text": [
      "\u001b[33m\u001b[1m┌ \u001b[22m\u001b[39m\u001b[33m\u001b[1mWarning: \u001b[22m\u001b[39mFor parameter -0.0966016 The Poincaré surface of section did not have any points!\n",
      "\u001b[33m\u001b[1m└ \u001b[22m\u001b[39m\u001b[90m@ ChaosTools C:\\Users\\Alex\\.julia\\packages\\ChaosTools\\PHPDF\\src\\orbitdiagrams\\produce_orbitdiagram.jl:75\u001b[39m\n"
     ]
    },
    {
     "name": "stdout",
     "output_type": "stream",
     "text": [
      "\n",
      "parameter = -0.096602\n"
     ]
    },
    {
     "name": "stderr",
     "output_type": "stream",
     "text": [
      "\u001b[33m\u001b[1m┌ \u001b[22m\u001b[39m\u001b[33m\u001b[1mWarning: \u001b[22m\u001b[39mFor parameter -0.0966018 The Poincaré surface of section did not have any points!\n",
      "\u001b[33m\u001b[1m└ \u001b[22m\u001b[39m\u001b[90m@ ChaosTools C:\\Users\\Alex\\.julia\\packages\\ChaosTools\\PHPDF\\src\\orbitdiagrams\\produce_orbitdiagram.jl:75\u001b[39m\n",
      "\u001b[33m\u001b[1m┌ \u001b[22m\u001b[39m\u001b[33m\u001b[1mWarning: \u001b[22m\u001b[39mFor parameter -0.096602 The Poincaré surface of section did not have any points!\n",
      "\u001b[33m\u001b[1m└ \u001b[22m\u001b[39m\u001b[90m@ ChaosTools C:\\Users\\Alex\\.julia\\packages\\ChaosTools\\PHPDF\\src\\orbitdiagrams\\produce_orbitdiagram.jl:75\u001b[39m\n"
     ]
    },
    {
     "name": "stdout",
     "output_type": "stream",
     "text": [
      "parameter = -0.0966022\n",
      "parameter = -0.0966024"
     ]
    },
    {
     "name": "stderr",
     "output_type": "stream",
     "text": [
      "\u001b[33m\u001b[1m┌ \u001b[22m\u001b[39m\u001b[33m\u001b[1mWarning: \u001b[22m\u001b[39mFor parameter -0.0966022 The Poincaré surface of section did not have any points!\n",
      "\u001b[33m\u001b[1m└ \u001b[22m\u001b[39m\u001b[90m@ ChaosTools C:\\Users\\Alex\\.julia\\packages\\ChaosTools\\PHPDF\\src\\orbitdiagrams\\produce_orbitdiagram.jl:75\u001b[39m\n"
     ]
    },
    {
     "name": "stdout",
     "output_type": "stream",
     "text": [
      "\n",
      "parameter = -0.0966026\n"
     ]
    },
    {
     "name": "stderr",
     "output_type": "stream",
     "text": [
      "\u001b[33m\u001b[1m┌ \u001b[22m\u001b[39m\u001b[33m\u001b[1mWarning: \u001b[22m\u001b[39mFor parameter -0.0966024 The Poincaré surface of section did not have any points!\n",
      "\u001b[33m\u001b[1m└ \u001b[22m\u001b[39m\u001b[90m@ ChaosTools C:\\Users\\Alex\\.julia\\packages\\ChaosTools\\PHPDF\\src\\orbitdiagrams\\produce_orbitdiagram.jl:75\u001b[39m\n",
      "\u001b[33m\u001b[1m┌ \u001b[22m\u001b[39m\u001b[33m\u001b[1mWarning: \u001b[22m\u001b[39mFor parameter -0.0966026 The Poincaré surface of section did not have any points!\n",
      "\u001b[33m\u001b[1m└ \u001b[22m\u001b[39m\u001b[90m@ ChaosTools C:\\Users\\Alex\\.julia\\packages\\ChaosTools\\PHPDF\\src\\orbitdiagrams\\produce_orbitdiagram.jl:75\u001b[39m\n"
     ]
    },
    {
     "name": "stdout",
     "output_type": "stream",
     "text": [
      "parameter = -0.0966028\n",
      "parameter = -0.096603"
     ]
    },
    {
     "name": "stderr",
     "output_type": "stream",
     "text": [
      "\u001b[33m\u001b[1m┌ \u001b[22m\u001b[39m\u001b[33m\u001b[1mWarning: \u001b[22m\u001b[39mFor parameter -0.0966028 The Poincaré surface of section did not have any points!\n",
      "\u001b[33m\u001b[1m└ \u001b[22m\u001b[39m\u001b[90m@ ChaosTools C:\\Users\\Alex\\.julia\\packages\\ChaosTools\\PHPDF\\src\\orbitdiagrams\\produce_orbitdiagram.jl:75\u001b[39m\n"
     ]
    },
    {
     "name": "stdout",
     "output_type": "stream",
     "text": [
      "\n",
      "parameter = -0.0966032"
     ]
    },
    {
     "name": "stderr",
     "output_type": "stream",
     "text": [
      "\u001b[33m\u001b[1m┌ \u001b[22m\u001b[39m\u001b[33m\u001b[1mWarning: \u001b[22m\u001b[39mFor parameter -0.096603 The Poincaré surface of section did not have any points!\n",
      "\u001b[33m\u001b[1m└ \u001b[22m\u001b[39m\u001b[90m@ ChaosTools C:\\Users\\Alex\\.julia\\packages\\ChaosTools\\PHPDF\\src\\orbitdiagrams\\produce_orbitdiagram.jl:75\u001b[39m\n"
     ]
    },
    {
     "name": "stdout",
     "output_type": "stream",
     "text": [
      "\n",
      "parameter = -0.0966034\n"
     ]
    },
    {
     "name": "stderr",
     "output_type": "stream",
     "text": [
      "\u001b[33m\u001b[1m┌ \u001b[22m\u001b[39m\u001b[33m\u001b[1mWarning: \u001b[22m\u001b[39mFor parameter -0.0966032 The Poincaré surface of section did not have any points!\n",
      "\u001b[33m\u001b[1m└ \u001b[22m\u001b[39m\u001b[90m@ ChaosTools C:\\Users\\Alex\\.julia\\packages\\ChaosTools\\PHPDF\\src\\orbitdiagrams\\produce_orbitdiagram.jl:75\u001b[39m\n"
     ]
    },
    {
     "name": "stdout",
     "output_type": "stream",
     "text": [
      "parameter = -0.0966036\n"
     ]
    },
    {
     "name": "stderr",
     "output_type": "stream",
     "text": [
      "\u001b[33m\u001b[1m┌ \u001b[22m\u001b[39m\u001b[33m\u001b[1mWarning: \u001b[22m\u001b[39mFor parameter -0.0966034 The Poincaré surface of section did not have any points!\n",
      "\u001b[33m\u001b[1m└ \u001b[22m\u001b[39m\u001b[90m@ ChaosTools C:\\Users\\Alex\\.julia\\packages\\ChaosTools\\PHPDF\\src\\orbitdiagrams\\produce_orbitdiagram.jl:75\u001b[39m\n"
     ]
    },
    {
     "name": "stdout",
     "output_type": "stream",
     "text": [
      "parameter = -0.0966038"
     ]
    },
    {
     "name": "stderr",
     "output_type": "stream",
     "text": [
      "\u001b[33m\u001b[1m┌ \u001b[22m\u001b[39m\u001b[33m\u001b[1mWarning: \u001b[22m\u001b[39mFor parameter -0.0966036 The Poincaré surface of section did not have any points!\n",
      "\u001b[33m\u001b[1m└ \u001b[22m\u001b[39m\u001b[90m@ ChaosTools C:\\Users\\Alex\\.julia\\packages\\ChaosTools\\PHPDF\\src\\orbitdiagrams\\produce_orbitdiagram.jl:75\u001b[39m\n"
     ]
    },
    {
     "name": "stdout",
     "output_type": "stream",
     "text": [
      "\n",
      "parameter = -0.096604\n"
     ]
    },
    {
     "name": "stderr",
     "output_type": "stream",
     "text": [
      "\u001b[33m\u001b[1m┌ \u001b[22m\u001b[39m\u001b[33m\u001b[1mWarning: \u001b[22m\u001b[39mFor parameter -0.0966038 The Poincaré surface of section did not have any points!\n",
      "\u001b[33m\u001b[1m└ \u001b[22m\u001b[39m\u001b[90m@ ChaosTools C:\\Users\\Alex\\.julia\\packages\\ChaosTools\\PHPDF\\src\\orbitdiagrams\\produce_orbitdiagram.jl:75\u001b[39m\n"
     ]
    },
    {
     "name": "stdout",
     "output_type": "stream",
     "text": [
      "parameter = -0.0966042"
     ]
    },
    {
     "name": "stderr",
     "output_type": "stream",
     "text": [
      "\u001b[33m\u001b[1m┌ \u001b[22m\u001b[39m\u001b[33m\u001b[1mWarning: \u001b[22m\u001b[39mFor parameter -0.096604 The Poincaré surface of section did not have any points!\n",
      "\u001b[33m\u001b[1m└ \u001b[22m\u001b[39m\u001b[90m@ ChaosTools C:\\Users\\Alex\\.julia\\packages\\ChaosTools\\PHPDF\\src\\orbitdiagrams\\produce_orbitdiagram.jl:75\u001b[39m\n"
     ]
    },
    {
     "name": "stdout",
     "output_type": "stream",
     "text": [
      "\n",
      "parameter = -0.0966044\n"
     ]
    },
    {
     "name": "stderr",
     "output_type": "stream",
     "text": [
      "\u001b[33m\u001b[1m┌ \u001b[22m\u001b[39m\u001b[33m\u001b[1mWarning: \u001b[22m\u001b[39mFor parameter -0.0966042 The Poincaré surface of section did not have any points!\n",
      "\u001b[33m\u001b[1m└ \u001b[22m\u001b[39m\u001b[90m@ ChaosTools C:\\Users\\Alex\\.julia\\packages\\ChaosTools\\PHPDF\\src\\orbitdiagrams\\produce_orbitdiagram.jl:75\u001b[39m\n"
     ]
    },
    {
     "name": "stdout",
     "output_type": "stream",
     "text": [
      "parameter = -0.0966046\n"
     ]
    },
    {
     "name": "stderr",
     "output_type": "stream",
     "text": [
      "\u001b[33m\u001b[1m┌ \u001b[22m\u001b[39m\u001b[33m\u001b[1mWarning: \u001b[22m\u001b[39mFor parameter -0.0966044 The Poincaré surface of section did not have any points!\n",
      "\u001b[33m\u001b[1m└ \u001b[22m\u001b[39m\u001b[90m@ ChaosTools C:\\Users\\Alex\\.julia\\packages\\ChaosTools\\PHPDF\\src\\orbitdiagrams\\produce_orbitdiagram.jl:75\u001b[39m\n"
     ]
    },
    {
     "name": "stdout",
     "output_type": "stream",
     "text": [
      "parameter = -0.0966048"
     ]
    },
    {
     "name": "stderr",
     "output_type": "stream",
     "text": [
      "\u001b[33m\u001b[1m┌ \u001b[22m\u001b[39m\u001b[33m\u001b[1mWarning: \u001b[22m\u001b[39mFor parameter -0.0966046 The Poincaré surface of section did not have any points!\n",
      "\u001b[33m\u001b[1m└ \u001b[22m\u001b[39m\u001b[90m@ ChaosTools C:\\Users\\Alex\\.julia\\packages\\ChaosTools\\PHPDF\\src\\orbitdiagrams\\produce_orbitdiagram.jl:75\u001b[39m\n"
     ]
    },
    {
     "name": "stdout",
     "output_type": "stream",
     "text": [
      "\n"
     ]
    },
    {
     "name": "stderr",
     "output_type": "stream",
     "text": [
      "\u001b[33m\u001b[1m┌ \u001b[22m\u001b[39m\u001b[33m\u001b[1mWarning: \u001b[22m\u001b[39mFor parameter -0.0966048 The Poincaré surface of section did not have any points!\n",
      "\u001b[33m\u001b[1m└ \u001b[22m\u001b[39m\u001b[90m@ ChaosTools C:\\Users\\Alex\\.julia\\packages\\ChaosTools\\PHPDF\\src\\orbitdiagrams\\produce_orbitdiagram.jl:75\u001b[39m\n"
     ]
    },
    {
     "name": "stdout",
     "output_type": "stream",
     "text": [
      "parameter = -0.096605\n",
      "parameter = -0.0966052\n"
     ]
    },
    {
     "name": "stderr",
     "output_type": "stream",
     "text": [
      "\u001b[33m\u001b[1m┌ \u001b[22m\u001b[39m\u001b[33m\u001b[1mWarning: \u001b[22m\u001b[39mFor parameter -0.096605 The Poincaré surface of section did not have any points!\n",
      "\u001b[33m\u001b[1m└ \u001b[22m\u001b[39m\u001b[90m@ ChaosTools C:\\Users\\Alex\\.julia\\packages\\ChaosTools\\PHPDF\\src\\orbitdiagrams\\produce_orbitdiagram.jl:75\u001b[39m\n"
     ]
    },
    {
     "name": "stdout",
     "output_type": "stream",
     "text": [
      "parameter = -0.0966054\n"
     ]
    },
    {
     "name": "stderr",
     "output_type": "stream",
     "text": [
      "\u001b[33m\u001b[1m┌ \u001b[22m\u001b[39m\u001b[33m\u001b[1mWarning: \u001b[22m\u001b[39mFor parameter -0.0966052 The Poincaré surface of section did not have any points!\n",
      "\u001b[33m\u001b[1m└ \u001b[22m\u001b[39m\u001b[90m@ ChaosTools C:\\Users\\Alex\\.julia\\packages\\ChaosTools\\PHPDF\\src\\orbitdiagrams\\produce_orbitdiagram.jl:75\u001b[39m\n"
     ]
    },
    {
     "name": "stdout",
     "output_type": "stream",
     "text": [
      "parameter = -0.0966056"
     ]
    },
    {
     "name": "stderr",
     "output_type": "stream",
     "text": [
      "\u001b[33m\u001b[1m┌ \u001b[22m\u001b[39m\u001b[33m\u001b[1mWarning: \u001b[22m\u001b[39mFor parameter -0.0966054 The Poincaré surface of section did not have any points!\n",
      "\u001b[33m\u001b[1m└ \u001b[22m\u001b[39m\u001b[90m@ ChaosTools C:\\Users\\Alex\\.julia\\packages\\ChaosTools\\PHPDF\\src\\orbitdiagrams\\produce_orbitdiagram.jl:75\u001b[39m\n"
     ]
    },
    {
     "name": "stdout",
     "output_type": "stream",
     "text": [
      "\n",
      "parameter = -0.0966058\n"
     ]
    },
    {
     "name": "stderr",
     "output_type": "stream",
     "text": [
      "\u001b[33m\u001b[1m┌ \u001b[22m\u001b[39m\u001b[33m\u001b[1mWarning: \u001b[22m\u001b[39mFor parameter -0.0966056 The Poincaré surface of section did not have any points!\n",
      "\u001b[33m\u001b[1m└ \u001b[22m\u001b[39m\u001b[90m@ ChaosTools C:\\Users\\Alex\\.julia\\packages\\ChaosTools\\PHPDF\\src\\orbitdiagrams\\produce_orbitdiagram.jl:75\u001b[39m\n"
     ]
    },
    {
     "name": "stdout",
     "output_type": "stream",
     "text": [
      "parameter = -0.096606"
     ]
    },
    {
     "name": "stderr",
     "output_type": "stream",
     "text": [
      "\u001b[33m\u001b[1m┌ \u001b[22m\u001b[39m\u001b[33m\u001b[1mWarning: \u001b[22m\u001b[39mFor parameter -0.0966058 The Poincaré surface of section did not have any points!\n",
      "\u001b[33m\u001b[1m└ \u001b[22m\u001b[39m\u001b[90m@ ChaosTools C:\\Users\\Alex\\.julia\\packages\\ChaosTools\\PHPDF\\src\\orbitdiagrams\\produce_orbitdiagram.jl:75\u001b[39m\n"
     ]
    },
    {
     "name": "stdout",
     "output_type": "stream",
     "text": [
      "\n",
      "parameter = -0.0966062\n"
     ]
    },
    {
     "name": "stderr",
     "output_type": "stream",
     "text": [
      "\u001b[33m\u001b[1m┌ \u001b[22m\u001b[39m\u001b[33m\u001b[1mWarning: \u001b[22m\u001b[39mFor parameter -0.096606 The Poincaré surface of section did not have any points!\n",
      "\u001b[33m\u001b[1m└ \u001b[22m\u001b[39m\u001b[90m@ ChaosTools C:\\Users\\Alex\\.julia\\packages\\ChaosTools\\PHPDF\\src\\orbitdiagrams\\produce_orbitdiagram.jl:75\u001b[39m\n"
     ]
    },
    {
     "name": "stdout",
     "output_type": "stream",
     "text": [
      "parameter = -0.0966064"
     ]
    },
    {
     "name": "stderr",
     "output_type": "stream",
     "text": [
      "\u001b[33m\u001b[1m┌ \u001b[22m\u001b[39m\u001b[33m\u001b[1mWarning: \u001b[22m\u001b[39mFor parameter -0.0966062 The Poincaré surface of section did not have any points!\n",
      "\u001b[33m\u001b[1m└ \u001b[22m\u001b[39m\u001b[90m@ ChaosTools C:\\Users\\Alex\\.julia\\packages\\ChaosTools\\PHPDF\\src\\orbitdiagrams\\produce_orbitdiagram.jl:75\u001b[39m\n"
     ]
    },
    {
     "name": "stdout",
     "output_type": "stream",
     "text": [
      "\n",
      "parameter = -0.0966066"
     ]
    },
    {
     "name": "stderr",
     "output_type": "stream",
     "text": [
      "\u001b[33m\u001b[1m┌ \u001b[22m\u001b[39m\u001b[33m\u001b[1mWarning: \u001b[22m\u001b[39mFor parameter -0.0966064 The Poincaré surface of section did not have any points!\n",
      "\u001b[33m\u001b[1m└ \u001b[22m\u001b[39m\u001b[90m@ ChaosTools C:\\Users\\Alex\\.julia\\packages\\ChaosTools\\PHPDF\\src\\orbitdiagrams\\produce_orbitdiagram.jl:75\u001b[39m\n"
     ]
    },
    {
     "name": "stdout",
     "output_type": "stream",
     "text": [
      "\n",
      "parameter = -0.0966068"
     ]
    },
    {
     "name": "stderr",
     "output_type": "stream",
     "text": [
      "\u001b[33m\u001b[1m┌ \u001b[22m\u001b[39m\u001b[33m\u001b[1mWarning: \u001b[22m\u001b[39mFor parameter -0.0966066 The Poincaré surface of section did not have any points!\n",
      "\u001b[33m\u001b[1m└ \u001b[22m\u001b[39m\u001b[90m@ ChaosTools C:\\Users\\Alex\\.julia\\packages\\ChaosTools\\PHPDF\\src\\orbitdiagrams\\produce_orbitdiagram.jl:75\u001b[39m\n"
     ]
    },
    {
     "name": "stdout",
     "output_type": "stream",
     "text": [
      "\n",
      "parameter = -0.096607\n"
     ]
    },
    {
     "name": "stderr",
     "output_type": "stream",
     "text": [
      "\u001b[33m\u001b[1m┌ \u001b[22m\u001b[39m\u001b[33m\u001b[1mWarning: \u001b[22m\u001b[39mFor parameter -0.0966068 The Poincaré surface of section did not have any points!\n",
      "\u001b[33m\u001b[1m└ \u001b[22m\u001b[39m\u001b[90m@ ChaosTools C:\\Users\\Alex\\.julia\\packages\\ChaosTools\\PHPDF\\src\\orbitdiagrams\\produce_orbitdiagram.jl:75\u001b[39m\n"
     ]
    },
    {
     "name": "stdout",
     "output_type": "stream",
     "text": [
      "parameter = -0.0966072"
     ]
    },
    {
     "name": "stderr",
     "output_type": "stream",
     "text": [
      "\u001b[33m\u001b[1m┌ \u001b[22m\u001b[39m\u001b[33m\u001b[1mWarning: \u001b[22m\u001b[39mFor parameter -0.096607 The Poincaré surface of section did not have any points!\n",
      "\u001b[33m\u001b[1m└ \u001b[22m\u001b[39m\u001b[90m@ ChaosTools C:\\Users\\Alex\\.julia\\packages\\ChaosTools\\PHPDF\\src\\orbitdiagrams\\produce_orbitdiagram.jl:75\u001b[39m\n"
     ]
    },
    {
     "name": "stdout",
     "output_type": "stream",
     "text": [
      "\n",
      "parameter = -0.0966074\n"
     ]
    },
    {
     "name": "stderr",
     "output_type": "stream",
     "text": [
      "\u001b[33m\u001b[1m┌ \u001b[22m\u001b[39m\u001b[33m\u001b[1mWarning: \u001b[22m\u001b[39mFor parameter -0.0966072 The Poincaré surface of section did not have any points!\n",
      "\u001b[33m\u001b[1m└ \u001b[22m\u001b[39m\u001b[90m@ ChaosTools C:\\Users\\Alex\\.julia\\packages\\ChaosTools\\PHPDF\\src\\orbitdiagrams\\produce_orbitdiagram.jl:75\u001b[39m\n"
     ]
    },
    {
     "name": "stdout",
     "output_type": "stream",
     "text": [
      "parameter = -0.0966076\n"
     ]
    },
    {
     "name": "stderr",
     "output_type": "stream",
     "text": [
      "\u001b[33m\u001b[1m┌ \u001b[22m\u001b[39m\u001b[33m\u001b[1mWarning: \u001b[22m\u001b[39mFor parameter -0.0966074 The Poincaré surface of section did not have any points!\n",
      "\u001b[33m\u001b[1m└ \u001b[22m\u001b[39m\u001b[90m@ ChaosTools C:\\Users\\Alex\\.julia\\packages\\ChaosTools\\PHPDF\\src\\orbitdiagrams\\produce_orbitdiagram.jl:75\u001b[39m\n"
     ]
    },
    {
     "name": "stdout",
     "output_type": "stream",
     "text": [
      "parameter = -0.0966078"
     ]
    },
    {
     "name": "stderr",
     "output_type": "stream",
     "text": [
      "\u001b[33m\u001b[1m┌ \u001b[22m\u001b[39m\u001b[33m\u001b[1mWarning: \u001b[22m\u001b[39mFor parameter -0.0966076 The Poincaré surface of section did not have any points!\n",
      "\u001b[33m\u001b[1m└ \u001b[22m\u001b[39m\u001b[90m@ ChaosTools C:\\Users\\Alex\\.julia\\packages\\ChaosTools\\PHPDF\\src\\orbitdiagrams\\produce_orbitdiagram.jl:75\u001b[39m\n"
     ]
    },
    {
     "name": "stdout",
     "output_type": "stream",
     "text": [
      "\n",
      "parameter = -0.096608\n"
     ]
    },
    {
     "name": "stderr",
     "output_type": "stream",
     "text": [
      "\u001b[33m\u001b[1m┌ \u001b[22m\u001b[39m\u001b[33m\u001b[1mWarning: \u001b[22m\u001b[39mFor parameter -0.0966078 The Poincaré surface of section did not have any points!\n",
      "\u001b[33m\u001b[1m└ \u001b[22m\u001b[39m\u001b[90m@ ChaosTools C:\\Users\\Alex\\.julia\\packages\\ChaosTools\\PHPDF\\src\\orbitdiagrams\\produce_orbitdiagram.jl:75\u001b[39m\n"
     ]
    },
    {
     "name": "stdout",
     "output_type": "stream",
     "text": [
      "parameter = -0.0966082"
     ]
    },
    {
     "name": "stderr",
     "output_type": "stream",
     "text": [
      "\u001b[33m\u001b[1m┌ \u001b[22m\u001b[39m\u001b[33m\u001b[1mWarning: \u001b[22m\u001b[39mFor parameter -0.096608 The Poincaré surface of section did not have any points!\n",
      "\u001b[33m\u001b[1m└ \u001b[22m\u001b[39m\u001b[90m@ ChaosTools C:\\Users\\Alex\\.julia\\packages\\ChaosTools\\PHPDF\\src\\orbitdiagrams\\produce_orbitdiagram.jl:75\u001b[39m\n"
     ]
    },
    {
     "name": "stdout",
     "output_type": "stream",
     "text": [
      "\n",
      "parameter = -0.0966084"
     ]
    },
    {
     "name": "stderr",
     "output_type": "stream",
     "text": [
      "\u001b[33m\u001b[1m┌ \u001b[22m\u001b[39m\u001b[33m\u001b[1mWarning: \u001b[22m\u001b[39mFor parameter -0.0966082 The Poincaré surface of section did not have any points!\n",
      "\u001b[33m\u001b[1m└ \u001b[22m\u001b[39m\u001b[90m@ ChaosTools C:\\Users\\Alex\\.julia\\packages\\ChaosTools\\PHPDF\\src\\orbitdiagrams\\produce_orbitdiagram.jl:75\u001b[39m\n"
     ]
    },
    {
     "name": "stdout",
     "output_type": "stream",
     "text": [
      "\n",
      "parameter = -0.0966086\n"
     ]
    },
    {
     "name": "stderr",
     "output_type": "stream",
     "text": [
      "\u001b[33m\u001b[1m┌ \u001b[22m\u001b[39m\u001b[33m\u001b[1mWarning: \u001b[22m\u001b[39mFor parameter -0.0966084 The Poincaré surface of section did not have any points!\n",
      "\u001b[33m\u001b[1m└ \u001b[22m\u001b[39m\u001b[90m@ ChaosTools C:\\Users\\Alex\\.julia\\packages\\ChaosTools\\PHPDF\\src\\orbitdiagrams\\produce_orbitdiagram.jl:75\u001b[39m\n"
     ]
    },
    {
     "name": "stdout",
     "output_type": "stream",
     "text": [
      "parameter = -0.0966088"
     ]
    },
    {
     "name": "stderr",
     "output_type": "stream",
     "text": [
      "\u001b[33m\u001b[1m┌ \u001b[22m\u001b[39m\u001b[33m\u001b[1mWarning: \u001b[22m\u001b[39mFor parameter -0.0966086 The Poincaré surface of section did not have any points!\n",
      "\u001b[33m\u001b[1m└ \u001b[22m\u001b[39m\u001b[90m@ ChaosTools C:\\Users\\Alex\\.julia\\packages\\ChaosTools\\PHPDF\\src\\orbitdiagrams\\produce_orbitdiagram.jl:75\u001b[39m\n"
     ]
    },
    {
     "name": "stdout",
     "output_type": "stream",
     "text": [
      "\n",
      "parameter = -0.096609\n"
     ]
    },
    {
     "name": "stderr",
     "output_type": "stream",
     "text": [
      "\u001b[33m\u001b[1m┌ \u001b[22m\u001b[39m\u001b[33m\u001b[1mWarning: \u001b[22m\u001b[39mFor parameter -0.0966088 The Poincaré surface of section did not have any points!\n",
      "\u001b[33m\u001b[1m└ \u001b[22m\u001b[39m\u001b[90m@ ChaosTools C:\\Users\\Alex\\.julia\\packages\\ChaosTools\\PHPDF\\src\\orbitdiagrams\\produce_orbitdiagram.jl:75\u001b[39m\n"
     ]
    },
    {
     "name": "stdout",
     "output_type": "stream",
     "text": [
      "parameter = -0.0966092\n"
     ]
    },
    {
     "name": "stderr",
     "output_type": "stream",
     "text": [
      "\u001b[33m\u001b[1m┌ \u001b[22m\u001b[39m\u001b[33m\u001b[1mWarning: \u001b[22m\u001b[39mFor parameter -0.096609 The Poincaré surface of section did not have any points!\n",
      "\u001b[33m\u001b[1m└ \u001b[22m\u001b[39m\u001b[90m@ ChaosTools C:\\Users\\Alex\\.julia\\packages\\ChaosTools\\PHPDF\\src\\orbitdiagrams\\produce_orbitdiagram.jl:75\u001b[39m\n"
     ]
    },
    {
     "name": "stdout",
     "output_type": "stream",
     "text": [
      "parameter = -0.0966094"
     ]
    },
    {
     "name": "stderr",
     "output_type": "stream",
     "text": [
      "\u001b[33m\u001b[1m┌ \u001b[22m\u001b[39m\u001b[33m\u001b[1mWarning: \u001b[22m\u001b[39mFor parameter -0.0966092 The Poincaré surface of section did not have any points!\n",
      "\u001b[33m\u001b[1m└ \u001b[22m\u001b[39m\u001b[90m@ ChaosTools C:\\Users\\Alex\\.julia\\packages\\ChaosTools\\PHPDF\\src\\orbitdiagrams\\produce_orbitdiagram.jl:75\u001b[39m\n"
     ]
    },
    {
     "name": "stdout",
     "output_type": "stream",
     "text": [
      "\n",
      "parameter = -0.0966096\n"
     ]
    },
    {
     "name": "stderr",
     "output_type": "stream",
     "text": [
      "\u001b[33m\u001b[1m┌ \u001b[22m\u001b[39m\u001b[33m\u001b[1mWarning: \u001b[22m\u001b[39mFor parameter -0.0966094 The Poincaré surface of section did not have any points!\n",
      "\u001b[33m\u001b[1m└ \u001b[22m\u001b[39m\u001b[90m@ ChaosTools C:\\Users\\Alex\\.julia\\packages\\ChaosTools\\PHPDF\\src\\orbitdiagrams\\produce_orbitdiagram.jl:75\u001b[39m\n"
     ]
    },
    {
     "name": "stdout",
     "output_type": "stream",
     "text": [
      "parameter = -0.0966098"
     ]
    },
    {
     "name": "stderr",
     "output_type": "stream",
     "text": [
      "\u001b[33m\u001b[1m┌ \u001b[22m\u001b[39m\u001b[33m\u001b[1mWarning: \u001b[22m\u001b[39mFor parameter -0.0966096 The Poincaré surface of section did not have any points!\n",
      "\u001b[33m\u001b[1m└ \u001b[22m\u001b[39m\u001b[90m@ ChaosTools C:\\Users\\Alex\\.julia\\packages\\ChaosTools\\PHPDF\\src\\orbitdiagrams\\produce_orbitdiagram.jl:75\u001b[39m\n"
     ]
    },
    {
     "name": "stdout",
     "output_type": "stream",
     "text": [
      "\n",
      "parameter = -0.09661"
     ]
    },
    {
     "name": "stderr",
     "output_type": "stream",
     "text": [
      "\u001b[33m\u001b[1m┌ \u001b[22m\u001b[39m\u001b[33m\u001b[1mWarning: \u001b[22m\u001b[39mFor parameter -0.0966098 The Poincaré surface of section did not have any points!\n",
      "\u001b[33m\u001b[1m└ \u001b[22m\u001b[39m\u001b[90m@ ChaosTools C:\\Users\\Alex\\.julia\\packages\\ChaosTools\\PHPDF\\src\\orbitdiagrams\\produce_orbitdiagram.jl:75\u001b[39m\n"
     ]
    },
    {
     "name": "stdout",
     "output_type": "stream",
     "text": [
      "\n",
      "parameter = -0.0966102\n"
     ]
    },
    {
     "name": "stderr",
     "output_type": "stream",
     "text": [
      "\u001b[33m\u001b[1m┌ \u001b[22m\u001b[39m\u001b[33m\u001b[1mWarning: \u001b[22m\u001b[39mFor parameter -0.09661 The Poincaré surface of section did not have any points!\n",
      "\u001b[33m\u001b[1m└ \u001b[22m\u001b[39m\u001b[90m@ ChaosTools C:\\Users\\Alex\\.julia\\packages\\ChaosTools\\PHPDF\\src\\orbitdiagrams\\produce_orbitdiagram.jl:75\u001b[39m\n"
     ]
    },
    {
     "name": "stdout",
     "output_type": "stream",
     "text": [
      "parameter = -0.0966104"
     ]
    },
    {
     "name": "stderr",
     "output_type": "stream",
     "text": [
      "\u001b[33m\u001b[1m┌ \u001b[22m\u001b[39m\u001b[33m\u001b[1mWarning: \u001b[22m\u001b[39mFor parameter -0.0966102 The Poincaré surface of section did not have any points!\n",
      "\u001b[33m\u001b[1m└ \u001b[22m\u001b[39m\u001b[90m@ ChaosTools C:\\Users\\Alex\\.julia\\packages\\ChaosTools\\PHPDF\\src\\orbitdiagrams\\produce_orbitdiagram.jl:75\u001b[39m\n"
     ]
    },
    {
     "name": "stdout",
     "output_type": "stream",
     "text": [
      "\n",
      "parameter = -0.0966106"
     ]
    },
    {
     "name": "stderr",
     "output_type": "stream",
     "text": [
      "\u001b[33m\u001b[1m┌ \u001b[22m\u001b[39m\u001b[33m\u001b[1mWarning: \u001b[22m\u001b[39mFor parameter -0.0966104 The Poincaré surface of section did not have any points!\n",
      "\u001b[33m\u001b[1m└ \u001b[22m\u001b[39m\u001b[90m@ ChaosTools C:\\Users\\Alex\\.julia\\packages\\ChaosTools\\PHPDF\\src\\orbitdiagrams\\produce_orbitdiagram.jl:75\u001b[39m\n"
     ]
    },
    {
     "name": "stdout",
     "output_type": "stream",
     "text": [
      "\n",
      "parameter = -0.0966108\n"
     ]
    },
    {
     "name": "stderr",
     "output_type": "stream",
     "text": [
      "\u001b[33m\u001b[1m┌ \u001b[22m\u001b[39m\u001b[33m\u001b[1mWarning: \u001b[22m\u001b[39mFor parameter -0.0966106 The Poincaré surface of section did not have any points!\n",
      "\u001b[33m\u001b[1m└ \u001b[22m\u001b[39m\u001b[90m@ ChaosTools C:\\Users\\Alex\\.julia\\packages\\ChaosTools\\PHPDF\\src\\orbitdiagrams\\produce_orbitdiagram.jl:75\u001b[39m\n"
     ]
    },
    {
     "name": "stdout",
     "output_type": "stream",
     "text": [
      "parameter = -0.096611"
     ]
    },
    {
     "name": "stderr",
     "output_type": "stream",
     "text": [
      "\u001b[33m\u001b[1m┌ \u001b[22m\u001b[39m\u001b[33m\u001b[1mWarning: \u001b[22m\u001b[39mFor parameter -0.0966108 The Poincaré surface of section did not have any points!\n",
      "\u001b[33m\u001b[1m└ \u001b[22m\u001b[39m\u001b[90m@ ChaosTools C:\\Users\\Alex\\.julia\\packages\\ChaosTools\\PHPDF\\src\\orbitdiagrams\\produce_orbitdiagram.jl:75\u001b[39m\n"
     ]
    },
    {
     "name": "stdout",
     "output_type": "stream",
     "text": [
      "\n",
      "parameter = -0.0966112"
     ]
    },
    {
     "name": "stderr",
     "output_type": "stream",
     "text": [
      "\u001b[33m\u001b[1m┌ \u001b[22m\u001b[39m\u001b[33m\u001b[1mWarning: \u001b[22m\u001b[39mFor parameter -0.096611 The Poincaré surface of section did not have any points!\n",
      "\u001b[33m\u001b[1m└ \u001b[22m\u001b[39m\u001b[90m@ ChaosTools C:\\Users\\Alex\\.julia\\packages\\ChaosTools\\PHPDF\\src\\orbitdiagrams\\produce_orbitdiagram.jl:75\u001b[39m\n"
     ]
    },
    {
     "name": "stdout",
     "output_type": "stream",
     "text": [
      "\n",
      "parameter = -0.0966114\n"
     ]
    },
    {
     "name": "stderr",
     "output_type": "stream",
     "text": [
      "\u001b[33m\u001b[1m┌ \u001b[22m\u001b[39m\u001b[33m\u001b[1mWarning: \u001b[22m\u001b[39mFor parameter -0.0966112 The Poincaré surface of section did not have any points!\n",
      "\u001b[33m\u001b[1m└ \u001b[22m\u001b[39m\u001b[90m@ ChaosTools C:\\Users\\Alex\\.julia\\packages\\ChaosTools\\PHPDF\\src\\orbitdiagrams\\produce_orbitdiagram.jl:75\u001b[39m\n"
     ]
    },
    {
     "name": "stdout",
     "output_type": "stream",
     "text": [
      "parameter = -0.0966116\n"
     ]
    },
    {
     "name": "stderr",
     "output_type": "stream",
     "text": [
      "\u001b[33m\u001b[1m┌ \u001b[22m\u001b[39m\u001b[33m\u001b[1mWarning: \u001b[22m\u001b[39mFor parameter -0.0966114 The Poincaré surface of section did not have any points!\n",
      "\u001b[33m\u001b[1m└ \u001b[22m\u001b[39m\u001b[90m@ ChaosTools C:\\Users\\Alex\\.julia\\packages\\ChaosTools\\PHPDF\\src\\orbitdiagrams\\produce_orbitdiagram.jl:75\u001b[39m\n"
     ]
    },
    {
     "name": "stdout",
     "output_type": "stream",
     "text": [
      "parameter = -0.0966118"
     ]
    },
    {
     "name": "stderr",
     "output_type": "stream",
     "text": [
      "\u001b[33m\u001b[1m┌ \u001b[22m\u001b[39m\u001b[33m\u001b[1mWarning: \u001b[22m\u001b[39mFor parameter -0.0966116 The Poincaré surface of section did not have any points!\n",
      "\u001b[33m\u001b[1m└ \u001b[22m\u001b[39m\u001b[90m@ ChaosTools C:\\Users\\Alex\\.julia\\packages\\ChaosTools\\PHPDF\\src\\orbitdiagrams\\produce_orbitdiagram.jl:75\u001b[39m\n"
     ]
    },
    {
     "name": "stdout",
     "output_type": "stream",
     "text": [
      "\n",
      "parameter = -0.096612"
     ]
    },
    {
     "name": "stderr",
     "output_type": "stream",
     "text": [
      "\u001b[33m\u001b[1m┌ \u001b[22m\u001b[39m\u001b[33m\u001b[1mWarning: \u001b[22m\u001b[39mFor parameter -0.0966118 The Poincaré surface of section did not have any points!\n",
      "\u001b[33m\u001b[1m└ \u001b[22m\u001b[39m\u001b[90m@ ChaosTools C:\\Users\\Alex\\.julia\\packages\\ChaosTools\\PHPDF\\src\\orbitdiagrams\\produce_orbitdiagram.jl:75\u001b[39m\n"
     ]
    },
    {
     "name": "stdout",
     "output_type": "stream",
     "text": [
      "\n",
      "parameter = -0.0966122\n"
     ]
    },
    {
     "name": "stderr",
     "output_type": "stream",
     "text": [
      "\u001b[33m\u001b[1m┌ \u001b[22m\u001b[39m\u001b[33m\u001b[1mWarning: \u001b[22m\u001b[39mFor parameter -0.096612 The Poincaré surface of section did not have any points!\n",
      "\u001b[33m\u001b[1m└ \u001b[22m\u001b[39m\u001b[90m@ ChaosTools C:\\Users\\Alex\\.julia\\packages\\ChaosTools\\PHPDF\\src\\orbitdiagrams\\produce_orbitdiagram.jl:75\u001b[39m\n"
     ]
    },
    {
     "name": "stdout",
     "output_type": "stream",
     "text": [
      "parameter = -0.0966124"
     ]
    },
    {
     "name": "stderr",
     "output_type": "stream",
     "text": [
      "\u001b[33m\u001b[1m┌ \u001b[22m\u001b[39m\u001b[33m\u001b[1mWarning: \u001b[22m\u001b[39mFor parameter -0.0966122 The Poincaré surface of section did not have any points!\n",
      "\u001b[33m\u001b[1m└ \u001b[22m\u001b[39m\u001b[90m@ ChaosTools C:\\Users\\Alex\\.julia\\packages\\ChaosTools\\PHPDF\\src\\orbitdiagrams\\produce_orbitdiagram.jl:75\u001b[39m\n"
     ]
    },
    {
     "name": "stdout",
     "output_type": "stream",
     "text": [
      "\n",
      "parameter = -0.0966126\n"
     ]
    },
    {
     "name": "stderr",
     "output_type": "stream",
     "text": [
      "\u001b[33m\u001b[1m┌ \u001b[22m\u001b[39m\u001b[33m\u001b[1mWarning: \u001b[22m\u001b[39mFor parameter -0.0966124 The Poincaré surface of section did not have any points!\n",
      "\u001b[33m\u001b[1m└ \u001b[22m\u001b[39m\u001b[90m@ ChaosTools C:\\Users\\Alex\\.julia\\packages\\ChaosTools\\PHPDF\\src\\orbitdiagrams\\produce_orbitdiagram.jl:75\u001b[39m\n"
     ]
    },
    {
     "name": "stdout",
     "output_type": "stream",
     "text": [
      "parameter = -0.0966128"
     ]
    },
    {
     "name": "stderr",
     "output_type": "stream",
     "text": [
      "\u001b[33m\u001b[1m┌ \u001b[22m\u001b[39m\u001b[33m\u001b[1mWarning: \u001b[22m\u001b[39mFor parameter -0.0966126 The Poincaré surface of section did not have any points!\n",
      "\u001b[33m\u001b[1m└ \u001b[22m\u001b[39m\u001b[90m@ ChaosTools C:\\Users\\Alex\\.julia\\packages\\ChaosTools\\PHPDF\\src\\orbitdiagrams\\produce_orbitdiagram.jl:75\u001b[39m\n"
     ]
    },
    {
     "name": "stdout",
     "output_type": "stream",
     "text": [
      "\n",
      "parameter = -0.096613"
     ]
    },
    {
     "name": "stderr",
     "output_type": "stream",
     "text": [
      "\u001b[33m\u001b[1m┌ \u001b[22m\u001b[39m\u001b[33m\u001b[1mWarning: \u001b[22m\u001b[39mFor parameter -0.0966128 The Poincaré surface of section did not have any points!\n",
      "\u001b[33m\u001b[1m└ \u001b[22m\u001b[39m\u001b[90m@ ChaosTools C:\\Users\\Alex\\.julia\\packages\\ChaosTools\\PHPDF\\src\\orbitdiagrams\\produce_orbitdiagram.jl:75\u001b[39m\n"
     ]
    },
    {
     "name": "stdout",
     "output_type": "stream",
     "text": [
      "\n",
      "parameter = -0.0966132"
     ]
    },
    {
     "name": "stderr",
     "output_type": "stream",
     "text": [
      "\u001b[33m\u001b[1m┌ \u001b[22m\u001b[39m\u001b[33m\u001b[1mWarning: \u001b[22m\u001b[39mFor parameter -0.096613 The Poincaré surface of section did not have any points!\n",
      "\u001b[33m\u001b[1m└ \u001b[22m\u001b[39m\u001b[90m@ ChaosTools C:\\Users\\Alex\\.julia\\packages\\ChaosTools\\PHPDF\\src\\orbitdiagrams\\produce_orbitdiagram.jl:75\u001b[39m\n"
     ]
    },
    {
     "name": "stdout",
     "output_type": "stream",
     "text": [
      "\n",
      "parameter = -0.0966134\n"
     ]
    },
    {
     "name": "stderr",
     "output_type": "stream",
     "text": [
      "\u001b[33m\u001b[1m┌ \u001b[22m\u001b[39m\u001b[33m\u001b[1mWarning: \u001b[22m\u001b[39mFor parameter -0.0966132 The Poincaré surface of section did not have any points!\n",
      "\u001b[33m\u001b[1m└ \u001b[22m\u001b[39m\u001b[90m@ ChaosTools C:\\Users\\Alex\\.julia\\packages\\ChaosTools\\PHPDF\\src\\orbitdiagrams\\produce_orbitdiagram.jl:75\u001b[39m\n"
     ]
    },
    {
     "name": "stdout",
     "output_type": "stream",
     "text": [
      "parameter = -0.0966136"
     ]
    },
    {
     "name": "stderr",
     "output_type": "stream",
     "text": [
      "\u001b[33m\u001b[1m┌ \u001b[22m\u001b[39m\u001b[33m\u001b[1mWarning: \u001b[22m\u001b[39mFor parameter -0.0966134 The Poincaré surface of section did not have any points!\n",
      "\u001b[33m\u001b[1m└ \u001b[22m\u001b[39m\u001b[90m@ ChaosTools C:\\Users\\Alex\\.julia\\packages\\ChaosTools\\PHPDF\\src\\orbitdiagrams\\produce_orbitdiagram.jl:75\u001b[39m\n"
     ]
    },
    {
     "name": "stdout",
     "output_type": "stream",
     "text": [
      "\n",
      "parameter = -0.0966138"
     ]
    },
    {
     "name": "stderr",
     "output_type": "stream",
     "text": [
      "\u001b[33m\u001b[1m┌ \u001b[22m\u001b[39m\u001b[33m\u001b[1mWarning: \u001b[22m\u001b[39mFor parameter -0.0966136 The Poincaré surface of section did not have any points!\n",
      "\u001b[33m\u001b[1m└ \u001b[22m\u001b[39m\u001b[90m@ ChaosTools C:\\Users\\Alex\\.julia\\packages\\ChaosTools\\PHPDF\\src\\orbitdiagrams\\produce_orbitdiagram.jl:75\u001b[39m\n"
     ]
    },
    {
     "name": "stdout",
     "output_type": "stream",
     "text": [
      "\n",
      "parameter = -0.096614\n"
     ]
    },
    {
     "name": "stderr",
     "output_type": "stream",
     "text": [
      "\u001b[33m\u001b[1m┌ \u001b[22m\u001b[39m\u001b[33m\u001b[1mWarning: \u001b[22m\u001b[39mFor parameter -0.0966138 The Poincaré surface of section did not have any points!\n",
      "\u001b[33m\u001b[1m└ \u001b[22m\u001b[39m\u001b[90m@ ChaosTools C:\\Users\\Alex\\.julia\\packages\\ChaosTools\\PHPDF\\src\\orbitdiagrams\\produce_orbitdiagram.jl:75\u001b[39m\n"
     ]
    },
    {
     "name": "stdout",
     "output_type": "stream",
     "text": [
      "parameter = -0.0966142"
     ]
    },
    {
     "name": "stderr",
     "output_type": "stream",
     "text": [
      "\u001b[33m\u001b[1m┌ \u001b[22m\u001b[39m\u001b[33m\u001b[1mWarning: \u001b[22m\u001b[39mFor parameter -0.096614 The Poincaré surface of section did not have any points!\n",
      "\u001b[33m\u001b[1m└ \u001b[22m\u001b[39m\u001b[90m@ ChaosTools C:\\Users\\Alex\\.julia\\packages\\ChaosTools\\PHPDF\\src\\orbitdiagrams\\produce_orbitdiagram.jl:75\u001b[39m\n"
     ]
    },
    {
     "name": "stdout",
     "output_type": "stream",
     "text": [
      "\n",
      "parameter = -0.0966144"
     ]
    },
    {
     "name": "stderr",
     "output_type": "stream",
     "text": [
      "\u001b[33m\u001b[1m┌ \u001b[22m\u001b[39m\u001b[33m\u001b[1mWarning: \u001b[22m\u001b[39mFor parameter -0.0966142 The Poincaré surface of section did not have any points!\n",
      "\u001b[33m\u001b[1m└ \u001b[22m\u001b[39m\u001b[90m@ ChaosTools C:\\Users\\Alex\\.julia\\packages\\ChaosTools\\PHPDF\\src\\orbitdiagrams\\produce_orbitdiagram.jl:75\u001b[39m\n"
     ]
    },
    {
     "name": "stdout",
     "output_type": "stream",
     "text": [
      "\n",
      "parameter = -0.0966146\n"
     ]
    },
    {
     "name": "stderr",
     "output_type": "stream",
     "text": [
      "\u001b[33m\u001b[1m┌ \u001b[22m\u001b[39m\u001b[33m\u001b[1mWarning: \u001b[22m\u001b[39mFor parameter -0.0966144 The Poincaré surface of section did not have any points!\n",
      "\u001b[33m\u001b[1m└ \u001b[22m\u001b[39m\u001b[90m@ ChaosTools C:\\Users\\Alex\\.julia\\packages\\ChaosTools\\PHPDF\\src\\orbitdiagrams\\produce_orbitdiagram.jl:75\u001b[39m\n"
     ]
    },
    {
     "name": "stdout",
     "output_type": "stream",
     "text": [
      "parameter = -0.0966148\n"
     ]
    },
    {
     "name": "stderr",
     "output_type": "stream",
     "text": [
      "\u001b[33m\u001b[1m┌ \u001b[22m\u001b[39m\u001b[33m\u001b[1mWarning: \u001b[22m\u001b[39mFor parameter -0.0966146 The Poincaré surface of section did not have any points!\n",
      "\u001b[33m\u001b[1m└ \u001b[22m\u001b[39m\u001b[90m@ ChaosTools C:\\Users\\Alex\\.julia\\packages\\ChaosTools\\PHPDF\\src\\orbitdiagrams\\produce_orbitdiagram.jl:75\u001b[39m\n"
     ]
    },
    {
     "name": "stdout",
     "output_type": "stream",
     "text": [
      "parameter = -0.096615\n"
     ]
    },
    {
     "name": "stderr",
     "output_type": "stream",
     "text": [
      "\u001b[33m\u001b[1m┌ \u001b[22m\u001b[39m\u001b[33m\u001b[1mWarning: \u001b[22m\u001b[39mFor parameter -0.0966148 The Poincaré surface of section did not have any points!\n",
      "\u001b[33m\u001b[1m└ \u001b[22m\u001b[39m\u001b[90m@ ChaosTools C:\\Users\\Alex\\.julia\\packages\\ChaosTools\\PHPDF\\src\\orbitdiagrams\\produce_orbitdiagram.jl:75\u001b[39m\n"
     ]
    },
    {
     "name": "stdout",
     "output_type": "stream",
     "text": [
      "parameter = -0.0966152"
     ]
    },
    {
     "name": "stderr",
     "output_type": "stream",
     "text": [
      "\u001b[33m\u001b[1m┌ \u001b[22m\u001b[39m\u001b[33m\u001b[1mWarning: \u001b[22m\u001b[39mFor parameter -0.096615 The Poincaré surface of section did not have any points!\n",
      "\u001b[33m\u001b[1m└ \u001b[22m\u001b[39m\u001b[90m@ ChaosTools C:\\Users\\Alex\\.julia\\packages\\ChaosTools\\PHPDF\\src\\orbitdiagrams\\produce_orbitdiagram.jl:75\u001b[39m\n"
     ]
    },
    {
     "name": "stdout",
     "output_type": "stream",
     "text": [
      "\n",
      "parameter = -0.0966154"
     ]
    },
    {
     "name": "stderr",
     "output_type": "stream",
     "text": [
      "\u001b[33m\u001b[1m┌ \u001b[22m\u001b[39m\u001b[33m\u001b[1mWarning: \u001b[22m\u001b[39mFor parameter -0.0966152 The Poincaré surface of section did not have any points!\n",
      "\u001b[33m\u001b[1m└ \u001b[22m\u001b[39m\u001b[90m@ ChaosTools C:\\Users\\Alex\\.julia\\packages\\ChaosTools\\PHPDF\\src\\orbitdiagrams\\produce_orbitdiagram.jl:75\u001b[39m\n"
     ]
    },
    {
     "name": "stdout",
     "output_type": "stream",
     "text": [
      "\n",
      "parameter = -0.0966156"
     ]
    },
    {
     "name": "stderr",
     "output_type": "stream",
     "text": [
      "\u001b[33m\u001b[1m┌ \u001b[22m\u001b[39m\u001b[33m\u001b[1mWarning: \u001b[22m\u001b[39mFor parameter -0.0966154 The Poincaré surface of section did not have any points!\n",
      "\u001b[33m\u001b[1m└ \u001b[22m\u001b[39m\u001b[90m@ ChaosTools C:\\Users\\Alex\\.julia\\packages\\ChaosTools\\PHPDF\\src\\orbitdiagrams\\produce_orbitdiagram.jl:75\u001b[39m\n"
     ]
    },
    {
     "name": "stdout",
     "output_type": "stream",
     "text": [
      "\n",
      "parameter = -0.0966158\n"
     ]
    },
    {
     "name": "stderr",
     "output_type": "stream",
     "text": [
      "\u001b[33m\u001b[1m┌ \u001b[22m\u001b[39m\u001b[33m\u001b[1mWarning: \u001b[22m\u001b[39mFor parameter -0.0966156 The Poincaré surface of section did not have any points!\n",
      "\u001b[33m\u001b[1m└ \u001b[22m\u001b[39m\u001b[90m@ ChaosTools C:\\Users\\Alex\\.julia\\packages\\ChaosTools\\PHPDF\\src\\orbitdiagrams\\produce_orbitdiagram.jl:75\u001b[39m\n"
     ]
    },
    {
     "name": "stdout",
     "output_type": "stream",
     "text": [
      "parameter = -0.096616"
     ]
    },
    {
     "name": "stderr",
     "output_type": "stream",
     "text": [
      "\u001b[33m\u001b[1m┌ \u001b[22m\u001b[39m\u001b[33m\u001b[1mWarning: \u001b[22m\u001b[39mFor parameter -0.0966158 The Poincaré surface of section did not have any points!\n",
      "\u001b[33m\u001b[1m└ \u001b[22m\u001b[39m\u001b[90m@ ChaosTools C:\\Users\\Alex\\.julia\\packages\\ChaosTools\\PHPDF\\src\\orbitdiagrams\\produce_orbitdiagram.jl:75\u001b[39m\n"
     ]
    },
    {
     "name": "stdout",
     "output_type": "stream",
     "text": [
      "\n",
      "parameter = -0.0966162\n"
     ]
    },
    {
     "name": "stderr",
     "output_type": "stream",
     "text": [
      "\u001b[33m\u001b[1m┌ \u001b[22m\u001b[39m\u001b[33m\u001b[1mWarning: \u001b[22m\u001b[39mFor parameter -0.096616 The Poincaré surface of section did not have any points!\n",
      "\u001b[33m\u001b[1m└ \u001b[22m\u001b[39m\u001b[90m@ ChaosTools C:\\Users\\Alex\\.julia\\packages\\ChaosTools\\PHPDF\\src\\orbitdiagrams\\produce_orbitdiagram.jl:75\u001b[39m\n"
     ]
    },
    {
     "name": "stdout",
     "output_type": "stream",
     "text": [
      "parameter = -0.0966164"
     ]
    },
    {
     "name": "stderr",
     "output_type": "stream",
     "text": [
      "\u001b[33m\u001b[1m┌ \u001b[22m\u001b[39m\u001b[33m\u001b[1mWarning: \u001b[22m\u001b[39mFor parameter -0.0966162 The Poincaré surface of section did not have any points!\n",
      "\u001b[33m\u001b[1m└ \u001b[22m\u001b[39m\u001b[90m@ ChaosTools C:\\Users\\Alex\\.julia\\packages\\ChaosTools\\PHPDF\\src\\orbitdiagrams\\produce_orbitdiagram.jl:75\u001b[39m\n"
     ]
    },
    {
     "name": "stdout",
     "output_type": "stream",
     "text": [
      "\n",
      "parameter = -0.0966166\n"
     ]
    },
    {
     "name": "stderr",
     "output_type": "stream",
     "text": [
      "\u001b[33m\u001b[1m┌ \u001b[22m\u001b[39m\u001b[33m\u001b[1mWarning: \u001b[22m\u001b[39mFor parameter -0.0966164 The Poincaré surface of section did not have any points!\n",
      "\u001b[33m\u001b[1m└ \u001b[22m\u001b[39m\u001b[90m@ ChaosTools C:\\Users\\Alex\\.julia\\packages\\ChaosTools\\PHPDF\\src\\orbitdiagrams\\produce_orbitdiagram.jl:75\u001b[39m\n"
     ]
    },
    {
     "name": "stdout",
     "output_type": "stream",
     "text": [
      "parameter = -0.0966168"
     ]
    },
    {
     "name": "stderr",
     "output_type": "stream",
     "text": [
      "\u001b[33m\u001b[1m┌ \u001b[22m\u001b[39m\u001b[33m\u001b[1mWarning: \u001b[22m\u001b[39mFor parameter -0.0966166 The Poincaré surface of section did not have any points!\n",
      "\u001b[33m\u001b[1m└ \u001b[22m\u001b[39m\u001b[90m@ ChaosTools C:\\Users\\Alex\\.julia\\packages\\ChaosTools\\PHPDF\\src\\orbitdiagrams\\produce_orbitdiagram.jl:75\u001b[39m\n"
     ]
    },
    {
     "name": "stdout",
     "output_type": "stream",
     "text": [
      "\n",
      "parameter = -0.096617\n"
     ]
    },
    {
     "name": "stderr",
     "output_type": "stream",
     "text": [
      "\u001b[33m\u001b[1m┌ \u001b[22m\u001b[39m\u001b[33m\u001b[1mWarning: \u001b[22m\u001b[39mFor parameter -0.0966168 The Poincaré surface of section did not have any points!\n",
      "\u001b[33m\u001b[1m└ \u001b[22m\u001b[39m\u001b[90m@ ChaosTools C:\\Users\\Alex\\.julia\\packages\\ChaosTools\\PHPDF\\src\\orbitdiagrams\\produce_orbitdiagram.jl:75\u001b[39m\n"
     ]
    },
    {
     "name": "stdout",
     "output_type": "stream",
     "text": [
      "parameter = -0.0966172"
     ]
    },
    {
     "name": "stderr",
     "output_type": "stream",
     "text": [
      "\u001b[33m\u001b[1m┌ \u001b[22m\u001b[39m\u001b[33m\u001b[1mWarning: \u001b[22m\u001b[39mFor parameter -0.096617 The Poincaré surface of section did not have any points!\n",
      "\u001b[33m\u001b[1m└ \u001b[22m\u001b[39m\u001b[90m@ ChaosTools C:\\Users\\Alex\\.julia\\packages\\ChaosTools\\PHPDF\\src\\orbitdiagrams\\produce_orbitdiagram.jl:75\u001b[39m\n"
     ]
    },
    {
     "name": "stdout",
     "output_type": "stream",
     "text": [
      "\n",
      "parameter = -0.0966174\n"
     ]
    },
    {
     "name": "stderr",
     "output_type": "stream",
     "text": [
      "\u001b[33m\u001b[1m┌ \u001b[22m\u001b[39m\u001b[33m\u001b[1mWarning: \u001b[22m\u001b[39mFor parameter -0.0966172 The Poincaré surface of section did not have any points!\n",
      "\u001b[33m\u001b[1m└ \u001b[22m\u001b[39m\u001b[90m@ ChaosTools C:\\Users\\Alex\\.julia\\packages\\ChaosTools\\PHPDF\\src\\orbitdiagrams\\produce_orbitdiagram.jl:75\u001b[39m\n"
     ]
    },
    {
     "name": "stdout",
     "output_type": "stream",
     "text": [
      "parameter = -0.0966176"
     ]
    },
    {
     "name": "stderr",
     "output_type": "stream",
     "text": [
      "\u001b[33m\u001b[1m┌ \u001b[22m\u001b[39m\u001b[33m\u001b[1mWarning: \u001b[22m\u001b[39mFor parameter -0.0966174 The Poincaré surface of section did not have any points!\n",
      "\u001b[33m\u001b[1m└ \u001b[22m\u001b[39m\u001b[90m@ ChaosTools C:\\Users\\Alex\\.julia\\packages\\ChaosTools\\PHPDF\\src\\orbitdiagrams\\produce_orbitdiagram.jl:75\u001b[39m\n"
     ]
    },
    {
     "name": "stdout",
     "output_type": "stream",
     "text": [
      "\n",
      "parameter = -0.0966178\n"
     ]
    },
    {
     "name": "stderr",
     "output_type": "stream",
     "text": [
      "\u001b[33m\u001b[1m┌ \u001b[22m\u001b[39m\u001b[33m\u001b[1mWarning: \u001b[22m\u001b[39mFor parameter -0.0966176 The Poincaré surface of section did not have any points!\n",
      "\u001b[33m\u001b[1m└ \u001b[22m\u001b[39m\u001b[90m@ ChaosTools C:\\Users\\Alex\\.julia\\packages\\ChaosTools\\PHPDF\\src\\orbitdiagrams\\produce_orbitdiagram.jl:75\u001b[39m\n"
     ]
    },
    {
     "name": "stdout",
     "output_type": "stream",
     "text": [
      "parameter = -0.096618\n"
     ]
    },
    {
     "name": "stderr",
     "output_type": "stream",
     "text": [
      "\u001b[33m\u001b[1m┌ \u001b[22m\u001b[39m\u001b[33m\u001b[1mWarning: \u001b[22m\u001b[39mFor parameter -0.0966178 The Poincaré surface of section did not have any points!\n",
      "\u001b[33m\u001b[1m└ \u001b[22m\u001b[39m\u001b[90m@ ChaosTools C:\\Users\\Alex\\.julia\\packages\\ChaosTools\\PHPDF\\src\\orbitdiagrams\\produce_orbitdiagram.jl:75\u001b[39m\n"
     ]
    },
    {
     "name": "stdout",
     "output_type": "stream",
     "text": [
      "parameter = -0.0966182\n"
     ]
    },
    {
     "name": "stderr",
     "output_type": "stream",
     "text": [
      "\u001b[33m\u001b[1m┌ \u001b[22m\u001b[39m\u001b[33m\u001b[1mWarning: \u001b[22m\u001b[39mFor parameter -0.096618 The Poincaré surface of section did not have any points!\n",
      "\u001b[33m\u001b[1m└ \u001b[22m\u001b[39m\u001b[90m@ ChaosTools C:\\Users\\Alex\\.julia\\packages\\ChaosTools\\PHPDF\\src\\orbitdiagrams\\produce_orbitdiagram.jl:75\u001b[39m\n"
     ]
    },
    {
     "name": "stdout",
     "output_type": "stream",
     "text": [
      "parameter = -0.0966184"
     ]
    },
    {
     "name": "stderr",
     "output_type": "stream",
     "text": [
      "\u001b[33m\u001b[1m┌ \u001b[22m\u001b[39m\u001b[33m\u001b[1mWarning: \u001b[22m\u001b[39mFor parameter -0.0966182 The Poincaré surface of section did not have any points!\n",
      "\u001b[33m\u001b[1m└ \u001b[22m\u001b[39m\u001b[90m@ ChaosTools C:\\Users\\Alex\\.julia\\packages\\ChaosTools\\PHPDF\\src\\orbitdiagrams\\produce_orbitdiagram.jl:75\u001b[39m\n"
     ]
    },
    {
     "name": "stdout",
     "output_type": "stream",
     "text": [
      "\n",
      "parameter = -0.0966186\n"
     ]
    },
    {
     "name": "stderr",
     "output_type": "stream",
     "text": [
      "\u001b[33m\u001b[1m┌ \u001b[22m\u001b[39m\u001b[33m\u001b[1mWarning: \u001b[22m\u001b[39mFor parameter -0.0966184 The Poincaré surface of section did not have any points!\n",
      "\u001b[33m\u001b[1m└ \u001b[22m\u001b[39m\u001b[90m@ ChaosTools C:\\Users\\Alex\\.julia\\packages\\ChaosTools\\PHPDF\\src\\orbitdiagrams\\produce_orbitdiagram.jl:75\u001b[39m\n"
     ]
    },
    {
     "name": "stdout",
     "output_type": "stream",
     "text": [
      "parameter = -0.0966188"
     ]
    },
    {
     "name": "stderr",
     "output_type": "stream",
     "text": [
      "\u001b[33m\u001b[1m┌ \u001b[22m\u001b[39m\u001b[33m\u001b[1mWarning: \u001b[22m\u001b[39mFor parameter -0.0966186 The Poincaré surface of section did not have any points!\n",
      "\u001b[33m\u001b[1m└ \u001b[22m\u001b[39m\u001b[90m@ ChaosTools C:\\Users\\Alex\\.julia\\packages\\ChaosTools\\PHPDF\\src\\orbitdiagrams\\produce_orbitdiagram.jl:75\u001b[39m\n"
     ]
    },
    {
     "name": "stdout",
     "output_type": "stream",
     "text": [
      "\n",
      "parameter = -0.096619"
     ]
    },
    {
     "name": "stderr",
     "output_type": "stream",
     "text": [
      "\u001b[33m\u001b[1m┌ \u001b[22m\u001b[39m\u001b[33m\u001b[1mWarning: \u001b[22m\u001b[39mFor parameter -0.0966188 The Poincaré surface of section did not have any points!\n",
      "\u001b[33m\u001b[1m└ \u001b[22m\u001b[39m\u001b[90m@ ChaosTools C:\\Users\\Alex\\.julia\\packages\\ChaosTools\\PHPDF\\src\\orbitdiagrams\\produce_orbitdiagram.jl:75\u001b[39m\n"
     ]
    },
    {
     "name": "stdout",
     "output_type": "stream",
     "text": [
      "\n",
      "parameter = -0.0966192"
     ]
    },
    {
     "name": "stderr",
     "output_type": "stream",
     "text": [
      "\u001b[33m\u001b[1m┌ \u001b[22m\u001b[39m\u001b[33m\u001b[1mWarning: \u001b[22m\u001b[39mFor parameter -0.096619 The Poincaré surface of section did not have any points!\n",
      "\u001b[33m\u001b[1m└ \u001b[22m\u001b[39m\u001b[90m@ ChaosTools C:\\Users\\Alex\\.julia\\packages\\ChaosTools\\PHPDF\\src\\orbitdiagrams\\produce_orbitdiagram.jl:75\u001b[39m\n"
     ]
    },
    {
     "name": "stdout",
     "output_type": "stream",
     "text": [
      "\n",
      "parameter = -0.0966194"
     ]
    },
    {
     "name": "stderr",
     "output_type": "stream",
     "text": [
      "\u001b[33m\u001b[1m┌ \u001b[22m\u001b[39m\u001b[33m\u001b[1mWarning: \u001b[22m\u001b[39mFor parameter -0.0966192 The Poincaré surface of section did not have any points!\n",
      "\u001b[33m\u001b[1m└ \u001b[22m\u001b[39m\u001b[90m@ ChaosTools C:\\Users\\Alex\\.julia\\packages\\ChaosTools\\PHPDF\\src\\orbitdiagrams\\produce_orbitdiagram.jl:75\u001b[39m\n"
     ]
    },
    {
     "name": "stdout",
     "output_type": "stream",
     "text": [
      "\n",
      "parameter = -0.0966196"
     ]
    },
    {
     "name": "stderr",
     "output_type": "stream",
     "text": [
      "\u001b[33m\u001b[1m┌ \u001b[22m\u001b[39m\u001b[33m\u001b[1mWarning: \u001b[22m\u001b[39mFor parameter -0.0966194 The Poincaré surface of section did not have any points!\n",
      "\u001b[33m\u001b[1m└ \u001b[22m\u001b[39m\u001b[90m@ ChaosTools C:\\Users\\Alex\\.julia\\packages\\ChaosTools\\PHPDF\\src\\orbitdiagrams\\produce_orbitdiagram.jl:75\u001b[39m\n"
     ]
    },
    {
     "name": "stdout",
     "output_type": "stream",
     "text": [
      "\n",
      "parameter = -0.0966198\n"
     ]
    },
    {
     "name": "stderr",
     "output_type": "stream",
     "text": [
      "\u001b[33m\u001b[1m┌ \u001b[22m\u001b[39m\u001b[33m\u001b[1mWarning: \u001b[22m\u001b[39mFor parameter -0.0966196 The Poincaré surface of section did not have any points!\n",
      "\u001b[33m\u001b[1m└ \u001b[22m\u001b[39m\u001b[90m@ ChaosTools C:\\Users\\Alex\\.julia\\packages\\ChaosTools\\PHPDF\\src\\orbitdiagrams\\produce_orbitdiagram.jl:75\u001b[39m\n"
     ]
    },
    {
     "name": "stdout",
     "output_type": "stream",
     "text": [
      "parameter = -0.09662"
     ]
    },
    {
     "name": "stderr",
     "output_type": "stream",
     "text": [
      "\u001b[33m\u001b[1m┌ \u001b[22m\u001b[39m\u001b[33m\u001b[1mWarning: \u001b[22m\u001b[39mFor parameter -0.0966198 The Poincaré surface of section did not have any points!\n",
      "\u001b[33m\u001b[1m└ \u001b[22m\u001b[39m\u001b[90m@ ChaosTools C:\\Users\\Alex\\.julia\\packages\\ChaosTools\\PHPDF\\src\\orbitdiagrams\\produce_orbitdiagram.jl:75\u001b[39m\n"
     ]
    },
    {
     "name": "stdout",
     "output_type": "stream",
     "text": [
      "\n",
      "parameter = -0.0966202\n"
     ]
    },
    {
     "name": "stderr",
     "output_type": "stream",
     "text": [
      "\u001b[33m\u001b[1m┌ \u001b[22m\u001b[39m\u001b[33m\u001b[1mWarning: \u001b[22m\u001b[39mFor parameter -0.09662 The Poincaré surface of section did not have any points!\n",
      "\u001b[33m\u001b[1m└ \u001b[22m\u001b[39m\u001b[90m@ ChaosTools C:\\Users\\Alex\\.julia\\packages\\ChaosTools\\PHPDF\\src\\orbitdiagrams\\produce_orbitdiagram.jl:75\u001b[39m\n"
     ]
    },
    {
     "name": "stdout",
     "output_type": "stream",
     "text": [
      "parameter = -0.0966204"
     ]
    },
    {
     "name": "stderr",
     "output_type": "stream",
     "text": [
      "\u001b[33m\u001b[1m┌ \u001b[22m\u001b[39m\u001b[33m\u001b[1mWarning: \u001b[22m\u001b[39mFor parameter -0.0966202 The Poincaré surface of section did not have any points!\n",
      "\u001b[33m\u001b[1m└ \u001b[22m\u001b[39m\u001b[90m@ ChaosTools C:\\Users\\Alex\\.julia\\packages\\ChaosTools\\PHPDF\\src\\orbitdiagrams\\produce_orbitdiagram.jl:75\u001b[39m\n"
     ]
    },
    {
     "name": "stdout",
     "output_type": "stream",
     "text": [
      "\n",
      "parameter = -0.0966206"
     ]
    },
    {
     "name": "stderr",
     "output_type": "stream",
     "text": [
      "\u001b[33m\u001b[1m┌ \u001b[22m\u001b[39m\u001b[33m\u001b[1mWarning: \u001b[22m\u001b[39mFor parameter -0.0966204 The Poincaré surface of section did not have any points!\n",
      "\u001b[33m\u001b[1m└ \u001b[22m\u001b[39m\u001b[90m@ ChaosTools C:\\Users\\Alex\\.julia\\packages\\ChaosTools\\PHPDF\\src\\orbitdiagrams\\produce_orbitdiagram.jl:75\u001b[39m\n"
     ]
    },
    {
     "name": "stdout",
     "output_type": "stream",
     "text": [
      "\n",
      "parameter = -0.0966208"
     ]
    },
    {
     "name": "stderr",
     "output_type": "stream",
     "text": [
      "\u001b[33m\u001b[1m┌ \u001b[22m\u001b[39m\u001b[33m\u001b[1mWarning: \u001b[22m\u001b[39mFor parameter -0.0966206 The Poincaré surface of section did not have any points!\n",
      "\u001b[33m\u001b[1m└ \u001b[22m\u001b[39m\u001b[90m@ ChaosTools C:\\Users\\Alex\\.julia\\packages\\ChaosTools\\PHPDF\\src\\orbitdiagrams\\produce_orbitdiagram.jl:75\u001b[39m\n"
     ]
    },
    {
     "name": "stdout",
     "output_type": "stream",
     "text": [
      "\n",
      "parameter = -0.096621\n"
     ]
    },
    {
     "name": "stderr",
     "output_type": "stream",
     "text": [
      "\u001b[33m\u001b[1m┌ \u001b[22m\u001b[39m\u001b[33m\u001b[1mWarning: \u001b[22m\u001b[39mFor parameter -0.0966208 The Poincaré surface of section did not have any points!\n",
      "\u001b[33m\u001b[1m└ \u001b[22m\u001b[39m\u001b[90m@ ChaosTools C:\\Users\\Alex\\.julia\\packages\\ChaosTools\\PHPDF\\src\\orbitdiagrams\\produce_orbitdiagram.jl:75\u001b[39m\n"
     ]
    },
    {
     "name": "stdout",
     "output_type": "stream",
     "text": [
      "parameter = -0.0966212"
     ]
    },
    {
     "name": "stderr",
     "output_type": "stream",
     "text": [
      "\u001b[33m\u001b[1m┌ \u001b[22m\u001b[39m\u001b[33m\u001b[1mWarning: \u001b[22m\u001b[39mFor parameter -0.096621 The Poincaré surface of section did not have any points!\n",
      "\u001b[33m\u001b[1m└ \u001b[22m\u001b[39m\u001b[90m@ ChaosTools C:\\Users\\Alex\\.julia\\packages\\ChaosTools\\PHPDF\\src\\orbitdiagrams\\produce_orbitdiagram.jl:75\u001b[39m\n"
     ]
    },
    {
     "name": "stdout",
     "output_type": "stream",
     "text": [
      "\n",
      "parameter = -0.0966214"
     ]
    },
    {
     "name": "stderr",
     "output_type": "stream",
     "text": [
      "\u001b[33m\u001b[1m┌ \u001b[22m\u001b[39m\u001b[33m\u001b[1mWarning: \u001b[22m\u001b[39mFor parameter -0.0966212 The Poincaré surface of section did not have any points!\n",
      "\u001b[33m\u001b[1m└ \u001b[22m\u001b[39m\u001b[90m@ ChaosTools C:\\Users\\Alex\\.julia\\packages\\ChaosTools\\PHPDF\\src\\orbitdiagrams\\produce_orbitdiagram.jl:75\u001b[39m\n"
     ]
    },
    {
     "name": "stdout",
     "output_type": "stream",
     "text": [
      "\n",
      "parameter = -0.0966216"
     ]
    },
    {
     "name": "stderr",
     "output_type": "stream",
     "text": [
      "\u001b[33m\u001b[1m┌ \u001b[22m\u001b[39m\u001b[33m\u001b[1mWarning: \u001b[22m\u001b[39mFor parameter -0.0966214 The Poincaré surface of section did not have any points!\n",
      "\u001b[33m\u001b[1m└ \u001b[22m\u001b[39m\u001b[90m@ ChaosTools C:\\Users\\Alex\\.julia\\packages\\ChaosTools\\PHPDF\\src\\orbitdiagrams\\produce_orbitdiagram.jl:75\u001b[39m\n"
     ]
    },
    {
     "name": "stdout",
     "output_type": "stream",
     "text": [
      "\n",
      "parameter = -0.0966218"
     ]
    },
    {
     "name": "stderr",
     "output_type": "stream",
     "text": [
      "\u001b[33m\u001b[1m┌ \u001b[22m\u001b[39m\u001b[33m\u001b[1mWarning: \u001b[22m\u001b[39mFor parameter -0.0966216 The Poincaré surface of section did not have any points!\n",
      "\u001b[33m\u001b[1m└ \u001b[22m\u001b[39m\u001b[90m@ ChaosTools C:\\Users\\Alex\\.julia\\packages\\ChaosTools\\PHPDF\\src\\orbitdiagrams\\produce_orbitdiagram.jl:75\u001b[39m\n"
     ]
    },
    {
     "name": "stdout",
     "output_type": "stream",
     "text": [
      "\n",
      "parameter = -0.096622"
     ]
    },
    {
     "name": "stderr",
     "output_type": "stream",
     "text": [
      "\u001b[33m\u001b[1m┌ \u001b[22m\u001b[39m\u001b[33m\u001b[1mWarning: \u001b[22m\u001b[39mFor parameter -0.0966218 The Poincaré surface of section did not have any points!\n",
      "\u001b[33m\u001b[1m└ \u001b[22m\u001b[39m\u001b[90m@ ChaosTools C:\\Users\\Alex\\.julia\\packages\\ChaosTools\\PHPDF\\src\\orbitdiagrams\\produce_orbitdiagram.jl:75\u001b[39m\n"
     ]
    },
    {
     "name": "stdout",
     "output_type": "stream",
     "text": [
      "\n"
     ]
    },
    {
     "name": "stderr",
     "output_type": "stream",
     "text": [
      "\u001b[33m\u001b[1m┌ \u001b[22m\u001b[39m\u001b[33m\u001b[1mWarning: \u001b[22m\u001b[39mFor parameter -0.096622 The Poincaré surface of section did not have any points!\n",
      "\u001b[33m\u001b[1m└ \u001b[22m\u001b[39m\u001b[90m@ ChaosTools C:\\Users\\Alex\\.julia\\packages\\ChaosTools\\PHPDF\\src\\orbitdiagrams\\produce_orbitdiagram.jl:75\u001b[39m\n"
     ]
    },
    {
     "name": "stdout",
     "output_type": "stream",
     "text": [
      "parameter = -0.0966222\n",
      "parameter = -0.0966224\n"
     ]
    },
    {
     "name": "stderr",
     "output_type": "stream",
     "text": [
      "\u001b[33m\u001b[1m┌ \u001b[22m\u001b[39m\u001b[33m\u001b[1mWarning: \u001b[22m\u001b[39mFor parameter -0.0966222 The Poincaré surface of section did not have any points!\n",
      "\u001b[33m\u001b[1m└ \u001b[22m\u001b[39m\u001b[90m@ ChaosTools C:\\Users\\Alex\\.julia\\packages\\ChaosTools\\PHPDF\\src\\orbitdiagrams\\produce_orbitdiagram.jl:75\u001b[39m\n"
     ]
    },
    {
     "name": "stdout",
     "output_type": "stream",
     "text": [
      "parameter = -0.0966226"
     ]
    },
    {
     "name": "stderr",
     "output_type": "stream",
     "text": [
      "\u001b[33m\u001b[1m┌ \u001b[22m\u001b[39m\u001b[33m\u001b[1mWarning: \u001b[22m\u001b[39mFor parameter -0.0966224 The Poincaré surface of section did not have any points!\n",
      "\u001b[33m\u001b[1m└ \u001b[22m\u001b[39m\u001b[90m@ ChaosTools C:\\Users\\Alex\\.julia\\packages\\ChaosTools\\PHPDF\\src\\orbitdiagrams\\produce_orbitdiagram.jl:75\u001b[39m\n"
     ]
    },
    {
     "name": "stdout",
     "output_type": "stream",
     "text": [
      "\n",
      "parameter = -0.0966228"
     ]
    },
    {
     "name": "stderr",
     "output_type": "stream",
     "text": [
      "\u001b[33m\u001b[1m┌ \u001b[22m\u001b[39m\u001b[33m\u001b[1mWarning: \u001b[22m\u001b[39mFor parameter -0.0966226 The Poincaré surface of section did not have any points!\n",
      "\u001b[33m\u001b[1m└ \u001b[22m\u001b[39m\u001b[90m@ ChaosTools C:\\Users\\Alex\\.julia\\packages\\ChaosTools\\PHPDF\\src\\orbitdiagrams\\produce_orbitdiagram.jl:75\u001b[39m\n"
     ]
    },
    {
     "name": "stdout",
     "output_type": "stream",
     "text": [
      "\n",
      "parameter = -0.096623"
     ]
    },
    {
     "name": "stderr",
     "output_type": "stream",
     "text": [
      "\u001b[33m\u001b[1m┌ \u001b[22m\u001b[39m\u001b[33m\u001b[1mWarning: \u001b[22m\u001b[39mFor parameter -0.0966228 The Poincaré surface of section did not have any points!\n",
      "\u001b[33m\u001b[1m└ \u001b[22m\u001b[39m\u001b[90m@ ChaosTools C:\\Users\\Alex\\.julia\\packages\\ChaosTools\\PHPDF\\src\\orbitdiagrams\\produce_orbitdiagram.jl:75\u001b[39m\n"
     ]
    },
    {
     "name": "stdout",
     "output_type": "stream",
     "text": [
      "\n",
      "parameter = -0.0966232\n"
     ]
    },
    {
     "name": "stderr",
     "output_type": "stream",
     "text": [
      "\u001b[33m\u001b[1m┌ \u001b[22m\u001b[39m\u001b[33m\u001b[1mWarning: \u001b[22m\u001b[39mFor parameter -0.096623 The Poincaré surface of section did not have any points!\n",
      "\u001b[33m\u001b[1m└ \u001b[22m\u001b[39m\u001b[90m@ ChaosTools C:\\Users\\Alex\\.julia\\packages\\ChaosTools\\PHPDF\\src\\orbitdiagrams\\produce_orbitdiagram.jl:75\u001b[39m\n"
     ]
    },
    {
     "name": "stdout",
     "output_type": "stream",
     "text": [
      "parameter = -0.0966234"
     ]
    },
    {
     "name": "stderr",
     "output_type": "stream",
     "text": [
      "\u001b[33m\u001b[1m┌ \u001b[22m\u001b[39m\u001b[33m\u001b[1mWarning: \u001b[22m\u001b[39mFor parameter -0.0966232 The Poincaré surface of section did not have any points!\n",
      "\u001b[33m\u001b[1m└ \u001b[22m\u001b[39m\u001b[90m@ ChaosTools C:\\Users\\Alex\\.julia\\packages\\ChaosTools\\PHPDF\\src\\orbitdiagrams\\produce_orbitdiagram.jl:75\u001b[39m\n"
     ]
    },
    {
     "name": "stdout",
     "output_type": "stream",
     "text": [
      "\n",
      "parameter = -0.0966236"
     ]
    },
    {
     "name": "stderr",
     "output_type": "stream",
     "text": [
      "\u001b[33m\u001b[1m┌ \u001b[22m\u001b[39m\u001b[33m\u001b[1mWarning: \u001b[22m\u001b[39mFor parameter -0.0966234 The Poincaré surface of section did not have any points!\n",
      "\u001b[33m\u001b[1m└ \u001b[22m\u001b[39m\u001b[90m@ ChaosTools C:\\Users\\Alex\\.julia\\packages\\ChaosTools\\PHPDF\\src\\orbitdiagrams\\produce_orbitdiagram.jl:75\u001b[39m\n"
     ]
    },
    {
     "name": "stdout",
     "output_type": "stream",
     "text": [
      "\n",
      "parameter = -0.0966238"
     ]
    },
    {
     "name": "stderr",
     "output_type": "stream",
     "text": [
      "\u001b[33m\u001b[1m┌ \u001b[22m\u001b[39m\u001b[33m\u001b[1mWarning: \u001b[22m\u001b[39mFor parameter -0.0966236 The Poincaré surface of section did not have any points!\n",
      "\u001b[33m\u001b[1m└ \u001b[22m\u001b[39m\u001b[90m@ ChaosTools C:\\Users\\Alex\\.julia\\packages\\ChaosTools\\PHPDF\\src\\orbitdiagrams\\produce_orbitdiagram.jl:75\u001b[39m\n"
     ]
    },
    {
     "name": "stdout",
     "output_type": "stream",
     "text": [
      "\n",
      "parameter = -0.096624\n"
     ]
    },
    {
     "name": "stderr",
     "output_type": "stream",
     "text": [
      "\u001b[33m\u001b[1m┌ \u001b[22m\u001b[39m\u001b[33m\u001b[1mWarning: \u001b[22m\u001b[39mFor parameter -0.0966238 The Poincaré surface of section did not have any points!\n",
      "\u001b[33m\u001b[1m└ \u001b[22m\u001b[39m\u001b[90m@ ChaosTools C:\\Users\\Alex\\.julia\\packages\\ChaosTools\\PHPDF\\src\\orbitdiagrams\\produce_orbitdiagram.jl:75\u001b[39m\n"
     ]
    },
    {
     "name": "stdout",
     "output_type": "stream",
     "text": [
      "parameter = -0.0966242\n"
     ]
    },
    {
     "name": "stderr",
     "output_type": "stream",
     "text": [
      "\u001b[33m\u001b[1m┌ \u001b[22m\u001b[39m\u001b[33m\u001b[1mWarning: \u001b[22m\u001b[39mFor parameter -0.096624 The Poincaré surface of section did not have any points!\n",
      "\u001b[33m\u001b[1m└ \u001b[22m\u001b[39m\u001b[90m@ ChaosTools C:\\Users\\Alex\\.julia\\packages\\ChaosTools\\PHPDF\\src\\orbitdiagrams\\produce_orbitdiagram.jl:75\u001b[39m\n"
     ]
    },
    {
     "name": "stdout",
     "output_type": "stream",
     "text": [
      "parameter = -0.0966244"
     ]
    },
    {
     "name": "stderr",
     "output_type": "stream",
     "text": [
      "\u001b[33m\u001b[1m┌ \u001b[22m\u001b[39m\u001b[33m\u001b[1mWarning: \u001b[22m\u001b[39mFor parameter -0.0966242 The Poincaré surface of section did not have any points!\n",
      "\u001b[33m\u001b[1m└ \u001b[22m\u001b[39m\u001b[90m@ ChaosTools C:\\Users\\Alex\\.julia\\packages\\ChaosTools\\PHPDF\\src\\orbitdiagrams\\produce_orbitdiagram.jl:75\u001b[39m\n"
     ]
    },
    {
     "name": "stdout",
     "output_type": "stream",
     "text": [
      "\n",
      "parameter = -0.0966246\n"
     ]
    },
    {
     "name": "stderr",
     "output_type": "stream",
     "text": [
      "\u001b[33m\u001b[1m┌ \u001b[22m\u001b[39m\u001b[33m\u001b[1mWarning: \u001b[22m\u001b[39mFor parameter -0.0966244 The Poincaré surface of section did not have any points!\n",
      "\u001b[33m\u001b[1m└ \u001b[22m\u001b[39m\u001b[90m@ ChaosTools C:\\Users\\Alex\\.julia\\packages\\ChaosTools\\PHPDF\\src\\orbitdiagrams\\produce_orbitdiagram.jl:75\u001b[39m\n"
     ]
    },
    {
     "name": "stdout",
     "output_type": "stream",
     "text": [
      "parameter = -0.0966248\n"
     ]
    },
    {
     "name": "stderr",
     "output_type": "stream",
     "text": [
      "\u001b[33m\u001b[1m┌ \u001b[22m\u001b[39m\u001b[33m\u001b[1mWarning: \u001b[22m\u001b[39mFor parameter -0.0966246 The Poincaré surface of section did not have any points!\n",
      "\u001b[33m\u001b[1m└ \u001b[22m\u001b[39m\u001b[90m@ ChaosTools C:\\Users\\Alex\\.julia\\packages\\ChaosTools\\PHPDF\\src\\orbitdiagrams\\produce_orbitdiagram.jl:75\u001b[39m\n"
     ]
    },
    {
     "name": "stdout",
     "output_type": "stream",
     "text": [
      "parameter = -0.096625"
     ]
    },
    {
     "name": "stderr",
     "output_type": "stream",
     "text": [
      "\u001b[33m\u001b[1m┌ \u001b[22m\u001b[39m\u001b[33m\u001b[1mWarning: \u001b[22m\u001b[39mFor parameter -0.0966248 The Poincaré surface of section did not have any points!\n",
      "\u001b[33m\u001b[1m└ \u001b[22m\u001b[39m\u001b[90m@ ChaosTools C:\\Users\\Alex\\.julia\\packages\\ChaosTools\\PHPDF\\src\\orbitdiagrams\\produce_orbitdiagram.jl:75\u001b[39m\n"
     ]
    },
    {
     "name": "stdout",
     "output_type": "stream",
     "text": [
      "\n",
      "parameter = -0.0966252\n"
     ]
    },
    {
     "name": "stderr",
     "output_type": "stream",
     "text": [
      "\u001b[33m\u001b[1m┌ \u001b[22m\u001b[39m\u001b[33m\u001b[1mWarning: \u001b[22m\u001b[39mFor parameter -0.096625 The Poincaré surface of section did not have any points!\n",
      "\u001b[33m\u001b[1m└ \u001b[22m\u001b[39m\u001b[90m@ ChaosTools C:\\Users\\Alex\\.julia\\packages\\ChaosTools\\PHPDF\\src\\orbitdiagrams\\produce_orbitdiagram.jl:75\u001b[39m\n"
     ]
    },
    {
     "name": "stdout",
     "output_type": "stream",
     "text": [
      "parameter = -0.0966254\n"
     ]
    },
    {
     "name": "stderr",
     "output_type": "stream",
     "text": [
      "\u001b[33m\u001b[1m┌ \u001b[22m\u001b[39m\u001b[33m\u001b[1mWarning: \u001b[22m\u001b[39mFor parameter -0.0966252 The Poincaré surface of section did not have any points!\n",
      "\u001b[33m\u001b[1m└ \u001b[22m\u001b[39m\u001b[90m@ ChaosTools C:\\Users\\Alex\\.julia\\packages\\ChaosTools\\PHPDF\\src\\orbitdiagrams\\produce_orbitdiagram.jl:75\u001b[39m\n"
     ]
    },
    {
     "name": "stdout",
     "output_type": "stream",
     "text": [
      "parameter = -0.0966256\n"
     ]
    },
    {
     "name": "stderr",
     "output_type": "stream",
     "text": [
      "\u001b[33m\u001b[1m┌ \u001b[22m\u001b[39m\u001b[33m\u001b[1mWarning: \u001b[22m\u001b[39mFor parameter -0.0966254 The Poincaré surface of section did not have any points!\n",
      "\u001b[33m\u001b[1m└ \u001b[22m\u001b[39m\u001b[90m@ ChaosTools C:\\Users\\Alex\\.julia\\packages\\ChaosTools\\PHPDF\\src\\orbitdiagrams\\produce_orbitdiagram.jl:75\u001b[39m\n"
     ]
    },
    {
     "name": "stdout",
     "output_type": "stream",
     "text": [
      "parameter = -0.0966258\n"
     ]
    },
    {
     "name": "stderr",
     "output_type": "stream",
     "text": [
      "\u001b[33m\u001b[1m┌ \u001b[22m\u001b[39m\u001b[33m\u001b[1mWarning: \u001b[22m\u001b[39mFor parameter -0.0966256 The Poincaré surface of section did not have any points!\n",
      "\u001b[33m\u001b[1m└ \u001b[22m\u001b[39m\u001b[90m@ ChaosTools C:\\Users\\Alex\\.julia\\packages\\ChaosTools\\PHPDF\\src\\orbitdiagrams\\produce_orbitdiagram.jl:75\u001b[39m\n"
     ]
    },
    {
     "name": "stdout",
     "output_type": "stream",
     "text": [
      "parameter = -0.096626"
     ]
    },
    {
     "name": "stderr",
     "output_type": "stream",
     "text": [
      "\u001b[33m\u001b[1m┌ \u001b[22m\u001b[39m\u001b[33m\u001b[1mWarning: \u001b[22m\u001b[39mFor parameter -0.0966258 The Poincaré surface of section did not have any points!\n",
      "\u001b[33m\u001b[1m└ \u001b[22m\u001b[39m\u001b[90m@ ChaosTools C:\\Users\\Alex\\.julia\\packages\\ChaosTools\\PHPDF\\src\\orbitdiagrams\\produce_orbitdiagram.jl:75\u001b[39m\n"
     ]
    },
    {
     "name": "stdout",
     "output_type": "stream",
     "text": [
      "\n",
      "parameter = -0.0966262"
     ]
    },
    {
     "name": "stderr",
     "output_type": "stream",
     "text": [
      "\u001b[33m\u001b[1m┌ \u001b[22m\u001b[39m\u001b[33m\u001b[1mWarning: \u001b[22m\u001b[39mFor parameter -0.096626 The Poincaré surface of section did not have any points!\n",
      "\u001b[33m\u001b[1m└ \u001b[22m\u001b[39m\u001b[90m@ ChaosTools C:\\Users\\Alex\\.julia\\packages\\ChaosTools\\PHPDF\\src\\orbitdiagrams\\produce_orbitdiagram.jl:75\u001b[39m\n"
     ]
    },
    {
     "name": "stdout",
     "output_type": "stream",
     "text": [
      "\n",
      "parameter = -0.0966264"
     ]
    },
    {
     "name": "stderr",
     "output_type": "stream",
     "text": [
      "\u001b[33m\u001b[1m┌ \u001b[22m\u001b[39m\u001b[33m\u001b[1mWarning: \u001b[22m\u001b[39mFor parameter -0.0966262 The Poincaré surface of section did not have any points!\n",
      "\u001b[33m\u001b[1m└ \u001b[22m\u001b[39m\u001b[90m@ ChaosTools C:\\Users\\Alex\\.julia\\packages\\ChaosTools\\PHPDF\\src\\orbitdiagrams\\produce_orbitdiagram.jl:75\u001b[39m\n"
     ]
    },
    {
     "name": "stdout",
     "output_type": "stream",
     "text": [
      "\n",
      "parameter = -0.0966266\n"
     ]
    },
    {
     "name": "stderr",
     "output_type": "stream",
     "text": [
      "\u001b[33m\u001b[1m┌ \u001b[22m\u001b[39m\u001b[33m\u001b[1mWarning: \u001b[22m\u001b[39mFor parameter -0.0966264 The Poincaré surface of section did not have any points!\n",
      "\u001b[33m\u001b[1m└ \u001b[22m\u001b[39m\u001b[90m@ ChaosTools C:\\Users\\Alex\\.julia\\packages\\ChaosTools\\PHPDF\\src\\orbitdiagrams\\produce_orbitdiagram.jl:75\u001b[39m\n"
     ]
    },
    {
     "name": "stdout",
     "output_type": "stream",
     "text": [
      "parameter = -0.0966268\n"
     ]
    },
    {
     "name": "stderr",
     "output_type": "stream",
     "text": [
      "\u001b[33m\u001b[1m┌ \u001b[22m\u001b[39m\u001b[33m\u001b[1mWarning: \u001b[22m\u001b[39mFor parameter -0.0966266 The Poincaré surface of section did not have any points!\n",
      "\u001b[33m\u001b[1m└ \u001b[22m\u001b[39m\u001b[90m@ ChaosTools C:\\Users\\Alex\\.julia\\packages\\ChaosTools\\PHPDF\\src\\orbitdiagrams\\produce_orbitdiagram.jl:75\u001b[39m\n"
     ]
    },
    {
     "name": "stdout",
     "output_type": "stream",
     "text": [
      "parameter = -0.096627"
     ]
    },
    {
     "name": "stderr",
     "output_type": "stream",
     "text": [
      "\u001b[33m\u001b[1m┌ \u001b[22m\u001b[39m\u001b[33m\u001b[1mWarning: \u001b[22m\u001b[39mFor parameter -0.0966268 The Poincaré surface of section did not have any points!\n",
      "\u001b[33m\u001b[1m└ \u001b[22m\u001b[39m\u001b[90m@ ChaosTools C:\\Users\\Alex\\.julia\\packages\\ChaosTools\\PHPDF\\src\\orbitdiagrams\\produce_orbitdiagram.jl:75\u001b[39m\n"
     ]
    },
    {
     "name": "stdout",
     "output_type": "stream",
     "text": [
      "\n",
      "parameter = -0.0966272"
     ]
    },
    {
     "name": "stderr",
     "output_type": "stream",
     "text": [
      "\u001b[33m\u001b[1m┌ \u001b[22m\u001b[39m\u001b[33m\u001b[1mWarning: \u001b[22m\u001b[39mFor parameter -0.096627 The Poincaré surface of section did not have any points!\n",
      "\u001b[33m\u001b[1m└ \u001b[22m\u001b[39m\u001b[90m@ ChaosTools C:\\Users\\Alex\\.julia\\packages\\ChaosTools\\PHPDF\\src\\orbitdiagrams\\produce_orbitdiagram.jl:75\u001b[39m\n"
     ]
    },
    {
     "name": "stdout",
     "output_type": "stream",
     "text": [
      "\n",
      "parameter = -0.0966274"
     ]
    },
    {
     "name": "stderr",
     "output_type": "stream",
     "text": [
      "\u001b[33m\u001b[1m┌ \u001b[22m\u001b[39m\u001b[33m\u001b[1mWarning: \u001b[22m\u001b[39mFor parameter -0.0966272 The Poincaré surface of section did not have any points!\n",
      "\u001b[33m\u001b[1m└ \u001b[22m\u001b[39m\u001b[90m@ ChaosTools C:\\Users\\Alex\\.julia\\packages\\ChaosTools\\PHPDF\\src\\orbitdiagrams\\produce_orbitdiagram.jl:75\u001b[39m\n"
     ]
    },
    {
     "name": "stdout",
     "output_type": "stream",
     "text": [
      "\n",
      "parameter = -0.0966276\n"
     ]
    },
    {
     "name": "stderr",
     "output_type": "stream",
     "text": [
      "\u001b[33m\u001b[1m┌ \u001b[22m\u001b[39m\u001b[33m\u001b[1mWarning: \u001b[22m\u001b[39mFor parameter -0.0966274 The Poincaré surface of section did not have any points!\n",
      "\u001b[33m\u001b[1m└ \u001b[22m\u001b[39m\u001b[90m@ ChaosTools C:\\Users\\Alex\\.julia\\packages\\ChaosTools\\PHPDF\\src\\orbitdiagrams\\produce_orbitdiagram.jl:75\u001b[39m\n"
     ]
    },
    {
     "name": "stdout",
     "output_type": "stream",
     "text": [
      "parameter = -0.0966278"
     ]
    },
    {
     "name": "stderr",
     "output_type": "stream",
     "text": [
      "\u001b[33m\u001b[1m┌ \u001b[22m\u001b[39m\u001b[33m\u001b[1mWarning: \u001b[22m\u001b[39mFor parameter -0.0966276 The Poincaré surface of section did not have any points!\n",
      "\u001b[33m\u001b[1m└ \u001b[22m\u001b[39m\u001b[90m@ ChaosTools C:\\Users\\Alex\\.julia\\packages\\ChaosTools\\PHPDF\\src\\orbitdiagrams\\produce_orbitdiagram.jl:75\u001b[39m\n"
     ]
    },
    {
     "name": "stdout",
     "output_type": "stream",
     "text": [
      "\n",
      "parameter = -0.096628"
     ]
    },
    {
     "name": "stderr",
     "output_type": "stream",
     "text": [
      "\u001b[33m\u001b[1m┌ \u001b[22m\u001b[39m\u001b[33m\u001b[1mWarning: \u001b[22m\u001b[39mFor parameter -0.0966278 The Poincaré surface of section did not have any points!\n",
      "\u001b[33m\u001b[1m└ \u001b[22m\u001b[39m\u001b[90m@ ChaosTools C:\\Users\\Alex\\.julia\\packages\\ChaosTools\\PHPDF\\src\\orbitdiagrams\\produce_orbitdiagram.jl:75\u001b[39m\n"
     ]
    },
    {
     "name": "stdout",
     "output_type": "stream",
     "text": [
      "\n",
      "parameter = -0.0966282\n"
     ]
    },
    {
     "name": "stderr",
     "output_type": "stream",
     "text": [
      "\u001b[33m\u001b[1m┌ \u001b[22m\u001b[39m\u001b[33m\u001b[1mWarning: \u001b[22m\u001b[39mFor parameter -0.096628 The Poincaré surface of section did not have any points!\n",
      "\u001b[33m\u001b[1m└ \u001b[22m\u001b[39m\u001b[90m@ ChaosTools C:\\Users\\Alex\\.julia\\packages\\ChaosTools\\PHPDF\\src\\orbitdiagrams\\produce_orbitdiagram.jl:75\u001b[39m\n"
     ]
    },
    {
     "name": "stdout",
     "output_type": "stream",
     "text": [
      "parameter = -0.0966284"
     ]
    },
    {
     "name": "stderr",
     "output_type": "stream",
     "text": [
      "\u001b[33m\u001b[1m┌ \u001b[22m\u001b[39m\u001b[33m\u001b[1mWarning: \u001b[22m\u001b[39mFor parameter -0.0966282 The Poincaré surface of section did not have any points!\n",
      "\u001b[33m\u001b[1m└ \u001b[22m\u001b[39m\u001b[90m@ ChaosTools C:\\Users\\Alex\\.julia\\packages\\ChaosTools\\PHPDF\\src\\orbitdiagrams\\produce_orbitdiagram.jl:75\u001b[39m\n"
     ]
    },
    {
     "name": "stdout",
     "output_type": "stream",
     "text": [
      "\n",
      "parameter = -0.0966286"
     ]
    },
    {
     "name": "stderr",
     "output_type": "stream",
     "text": [
      "\u001b[33m\u001b[1m┌ \u001b[22m\u001b[39m\u001b[33m\u001b[1mWarning: \u001b[22m\u001b[39mFor parameter -0.0966284 The Poincaré surface of section did not have any points!\n",
      "\u001b[33m\u001b[1m└ \u001b[22m\u001b[39m\u001b[90m@ ChaosTools C:\\Users\\Alex\\.julia\\packages\\ChaosTools\\PHPDF\\src\\orbitdiagrams\\produce_orbitdiagram.jl:75\u001b[39m\n"
     ]
    },
    {
     "name": "stdout",
     "output_type": "stream",
     "text": [
      "\n",
      "parameter = -0.0966288\n"
     ]
    },
    {
     "name": "stderr",
     "output_type": "stream",
     "text": [
      "\u001b[33m\u001b[1m┌ \u001b[22m\u001b[39m\u001b[33m\u001b[1mWarning: \u001b[22m\u001b[39mFor parameter -0.0966286 The Poincaré surface of section did not have any points!\n",
      "\u001b[33m\u001b[1m└ \u001b[22m\u001b[39m\u001b[90m@ ChaosTools C:\\Users\\Alex\\.julia\\packages\\ChaosTools\\PHPDF\\src\\orbitdiagrams\\produce_orbitdiagram.jl:75\u001b[39m\n"
     ]
    },
    {
     "name": "stdout",
     "output_type": "stream",
     "text": [
      "parameter = -0.096629\n"
     ]
    },
    {
     "name": "stderr",
     "output_type": "stream",
     "text": [
      "\u001b[33m\u001b[1m┌ \u001b[22m\u001b[39m\u001b[33m\u001b[1mWarning: \u001b[22m\u001b[39mFor parameter -0.0966288 The Poincaré surface of section did not have any points!\n",
      "\u001b[33m\u001b[1m└ \u001b[22m\u001b[39m\u001b[90m@ ChaosTools C:\\Users\\Alex\\.julia\\packages\\ChaosTools\\PHPDF\\src\\orbitdiagrams\\produce_orbitdiagram.jl:75\u001b[39m\n"
     ]
    },
    {
     "name": "stdout",
     "output_type": "stream",
     "text": [
      "parameter = -0.0966292"
     ]
    },
    {
     "name": "stderr",
     "output_type": "stream",
     "text": [
      "\u001b[33m\u001b[1m┌ \u001b[22m\u001b[39m\u001b[33m\u001b[1mWarning: \u001b[22m\u001b[39mFor parameter -0.096629 The Poincaré surface of section did not have any points!\n",
      "\u001b[33m\u001b[1m└ \u001b[22m\u001b[39m\u001b[90m@ ChaosTools C:\\Users\\Alex\\.julia\\packages\\ChaosTools\\PHPDF\\src\\orbitdiagrams\\produce_orbitdiagram.jl:75\u001b[39m\n"
     ]
    },
    {
     "name": "stdout",
     "output_type": "stream",
     "text": [
      "\n",
      "parameter = -0.0966294\n"
     ]
    },
    {
     "name": "stderr",
     "output_type": "stream",
     "text": [
      "\u001b[33m\u001b[1m┌ \u001b[22m\u001b[39m\u001b[33m\u001b[1mWarning: \u001b[22m\u001b[39mFor parameter -0.0966292 The Poincaré surface of section did not have any points!\n",
      "\u001b[33m\u001b[1m└ \u001b[22m\u001b[39m\u001b[90m@ ChaosTools C:\\Users\\Alex\\.julia\\packages\\ChaosTools\\PHPDF\\src\\orbitdiagrams\\produce_orbitdiagram.jl:75\u001b[39m\n"
     ]
    },
    {
     "name": "stdout",
     "output_type": "stream",
     "text": [
      "parameter = -0.0966296"
     ]
    },
    {
     "name": "stderr",
     "output_type": "stream",
     "text": [
      "\u001b[33m\u001b[1m┌ \u001b[22m\u001b[39m\u001b[33m\u001b[1mWarning: \u001b[22m\u001b[39mFor parameter -0.0966294 The Poincaré surface of section did not have any points!\n",
      "\u001b[33m\u001b[1m└ \u001b[22m\u001b[39m\u001b[90m@ ChaosTools C:\\Users\\Alex\\.julia\\packages\\ChaosTools\\PHPDF\\src\\orbitdiagrams\\produce_orbitdiagram.jl:75\u001b[39m\n"
     ]
    },
    {
     "name": "stdout",
     "output_type": "stream",
     "text": [
      "\n",
      "parameter = -0.0966298\n"
     ]
    },
    {
     "name": "stderr",
     "output_type": "stream",
     "text": [
      "\u001b[33m\u001b[1m┌ \u001b[22m\u001b[39m\u001b[33m\u001b[1mWarning: \u001b[22m\u001b[39mFor parameter -0.0966296 The Poincaré surface of section did not have any points!\n",
      "\u001b[33m\u001b[1m└ \u001b[22m\u001b[39m\u001b[90m@ ChaosTools C:\\Users\\Alex\\.julia\\packages\\ChaosTools\\PHPDF\\src\\orbitdiagrams\\produce_orbitdiagram.jl:75\u001b[39m\n"
     ]
    },
    {
     "name": "stdout",
     "output_type": "stream",
     "text": [
      "parameter = -0.09663"
     ]
    },
    {
     "name": "stderr",
     "output_type": "stream",
     "text": [
      "\u001b[33m\u001b[1m┌ \u001b[22m\u001b[39m\u001b[33m\u001b[1mWarning: \u001b[22m\u001b[39mFor parameter -0.0966298 The Poincaré surface of section did not have any points!\n",
      "\u001b[33m\u001b[1m└ \u001b[22m\u001b[39m\u001b[90m@ ChaosTools C:\\Users\\Alex\\.julia\\packages\\ChaosTools\\PHPDF\\src\\orbitdiagrams\\produce_orbitdiagram.jl:75\u001b[39m\n"
     ]
    },
    {
     "name": "stdout",
     "output_type": "stream",
     "text": [
      "\n",
      "parameter = -0.0966302"
     ]
    },
    {
     "name": "stderr",
     "output_type": "stream",
     "text": [
      "\u001b[33m\u001b[1m┌ \u001b[22m\u001b[39m\u001b[33m\u001b[1mWarning: \u001b[22m\u001b[39mFor parameter -0.09663 The Poincaré surface of section did not have any points!\n",
      "\u001b[33m\u001b[1m└ \u001b[22m\u001b[39m\u001b[90m@ ChaosTools C:\\Users\\Alex\\.julia\\packages\\ChaosTools\\PHPDF\\src\\orbitdiagrams\\produce_orbitdiagram.jl:75\u001b[39m\n"
     ]
    },
    {
     "name": "stdout",
     "output_type": "stream",
     "text": [
      "\n",
      "parameter = -0.0966304"
     ]
    },
    {
     "name": "stderr",
     "output_type": "stream",
     "text": [
      "\u001b[33m\u001b[1m┌ \u001b[22m\u001b[39m\u001b[33m\u001b[1mWarning: \u001b[22m\u001b[39mFor parameter -0.0966302 The Poincaré surface of section did not have any points!\n",
      "\u001b[33m\u001b[1m└ \u001b[22m\u001b[39m\u001b[90m@ ChaosTools C:\\Users\\Alex\\.julia\\packages\\ChaosTools\\PHPDF\\src\\orbitdiagrams\\produce_orbitdiagram.jl:75\u001b[39m\n"
     ]
    },
    {
     "name": "stdout",
     "output_type": "stream",
     "text": [
      "\n",
      "parameter = -0.0966306"
     ]
    },
    {
     "name": "stderr",
     "output_type": "stream",
     "text": [
      "\u001b[33m\u001b[1m┌ \u001b[22m\u001b[39m\u001b[33m\u001b[1mWarning: \u001b[22m\u001b[39mFor parameter -0.0966304 The Poincaré surface of section did not have any points!\n",
      "\u001b[33m\u001b[1m└ \u001b[22m\u001b[39m\u001b[90m@ ChaosTools C:\\Users\\Alex\\.julia\\packages\\ChaosTools\\PHPDF\\src\\orbitdiagrams\\produce_orbitdiagram.jl:75\u001b[39m\n"
     ]
    },
    {
     "name": "stdout",
     "output_type": "stream",
     "text": [
      "\n",
      "parameter = -0.0966308"
     ]
    },
    {
     "name": "stderr",
     "output_type": "stream",
     "text": [
      "\u001b[33m\u001b[1m┌ \u001b[22m\u001b[39m\u001b[33m\u001b[1mWarning: \u001b[22m\u001b[39mFor parameter -0.0966306 The Poincaré surface of section did not have any points!\n",
      "\u001b[33m\u001b[1m└ \u001b[22m\u001b[39m\u001b[90m@ ChaosTools C:\\Users\\Alex\\.julia\\packages\\ChaosTools\\PHPDF\\src\\orbitdiagrams\\produce_orbitdiagram.jl:75\u001b[39m\n"
     ]
    },
    {
     "name": "stdout",
     "output_type": "stream",
     "text": [
      "\n",
      "parameter = -0.096631"
     ]
    },
    {
     "name": "stderr",
     "output_type": "stream",
     "text": [
      "\u001b[33m\u001b[1m┌ \u001b[22m\u001b[39m\u001b[33m\u001b[1mWarning: \u001b[22m\u001b[39mFor parameter -0.0966308 The Poincaré surface of section did not have any points!\n",
      "\u001b[33m\u001b[1m└ \u001b[22m\u001b[39m\u001b[90m@ ChaosTools C:\\Users\\Alex\\.julia\\packages\\ChaosTools\\PHPDF\\src\\orbitdiagrams\\produce_orbitdiagram.jl:75\u001b[39m\n"
     ]
    },
    {
     "name": "stdout",
     "output_type": "stream",
     "text": [
      "\n",
      "parameter = -0.0966312\n"
     ]
    },
    {
     "name": "stderr",
     "output_type": "stream",
     "text": [
      "\u001b[33m\u001b[1m┌ \u001b[22m\u001b[39m\u001b[33m\u001b[1mWarning: \u001b[22m\u001b[39mFor parameter -0.096631 The Poincaré surface of section did not have any points!\n",
      "\u001b[33m\u001b[1m└ \u001b[22m\u001b[39m\u001b[90m@ ChaosTools C:\\Users\\Alex\\.julia\\packages\\ChaosTools\\PHPDF\\src\\orbitdiagrams\\produce_orbitdiagram.jl:75\u001b[39m\n"
     ]
    },
    {
     "name": "stdout",
     "output_type": "stream",
     "text": [
      "parameter = -0.0966314"
     ]
    },
    {
     "name": "stderr",
     "output_type": "stream",
     "text": [
      "\u001b[33m\u001b[1m┌ \u001b[22m\u001b[39m\u001b[33m\u001b[1mWarning: \u001b[22m\u001b[39mFor parameter -0.0966312 The Poincaré surface of section did not have any points!\n",
      "\u001b[33m\u001b[1m└ \u001b[22m\u001b[39m\u001b[90m@ ChaosTools C:\\Users\\Alex\\.julia\\packages\\ChaosTools\\PHPDF\\src\\orbitdiagrams\\produce_orbitdiagram.jl:75\u001b[39m\n"
     ]
    },
    {
     "name": "stdout",
     "output_type": "stream",
     "text": [
      "\n",
      "parameter = -0.0966316\n"
     ]
    },
    {
     "name": "stderr",
     "output_type": "stream",
     "text": [
      "\u001b[33m\u001b[1m┌ \u001b[22m\u001b[39m\u001b[33m\u001b[1mWarning: \u001b[22m\u001b[39mFor parameter -0.0966314 The Poincaré surface of section did not have any points!\n",
      "\u001b[33m\u001b[1m└ \u001b[22m\u001b[39m\u001b[90m@ ChaosTools C:\\Users\\Alex\\.julia\\packages\\ChaosTools\\PHPDF\\src\\orbitdiagrams\\produce_orbitdiagram.jl:75\u001b[39m\n"
     ]
    },
    {
     "name": "stdout",
     "output_type": "stream",
     "text": [
      "parameter = -0.0966318"
     ]
    },
    {
     "name": "stderr",
     "output_type": "stream",
     "text": [
      "\u001b[33m\u001b[1m┌ \u001b[22m\u001b[39m\u001b[33m\u001b[1mWarning: \u001b[22m\u001b[39mFor parameter -0.0966316 The Poincaré surface of section did not have any points!\n",
      "\u001b[33m\u001b[1m└ \u001b[22m\u001b[39m\u001b[90m@ ChaosTools C:\\Users\\Alex\\.julia\\packages\\ChaosTools\\PHPDF\\src\\orbitdiagrams\\produce_orbitdiagram.jl:75\u001b[39m\n"
     ]
    },
    {
     "name": "stdout",
     "output_type": "stream",
     "text": [
      "\n",
      "parameter = -0.096632"
     ]
    },
    {
     "name": "stderr",
     "output_type": "stream",
     "text": [
      "\u001b[33m\u001b[1m┌ \u001b[22m\u001b[39m\u001b[33m\u001b[1mWarning: \u001b[22m\u001b[39mFor parameter -0.0966318 The Poincaré surface of section did not have any points!\n",
      "\u001b[33m\u001b[1m└ \u001b[22m\u001b[39m\u001b[90m@ ChaosTools C:\\Users\\Alex\\.julia\\packages\\ChaosTools\\PHPDF\\src\\orbitdiagrams\\produce_orbitdiagram.jl:75\u001b[39m\n"
     ]
    },
    {
     "name": "stdout",
     "output_type": "stream",
     "text": [
      "\n",
      "parameter = -0.0966322\n"
     ]
    },
    {
     "name": "stderr",
     "output_type": "stream",
     "text": [
      "\u001b[33m\u001b[1m┌ \u001b[22m\u001b[39m\u001b[33m\u001b[1mWarning: \u001b[22m\u001b[39mFor parameter -0.096632 The Poincaré surface of section did not have any points!\n",
      "\u001b[33m\u001b[1m└ \u001b[22m\u001b[39m\u001b[90m@ ChaosTools C:\\Users\\Alex\\.julia\\packages\\ChaosTools\\PHPDF\\src\\orbitdiagrams\\produce_orbitdiagram.jl:75\u001b[39m\n",
      "\u001b[33m\u001b[1m┌ \u001b[22m\u001b[39m\u001b[33m\u001b[1mWarning: \u001b[22m\u001b[39mFor parameter -0.0966322 The Poincaré surface of section did not have any points!\n",
      "\u001b[33m\u001b[1m└ \u001b[22m\u001b[39m\u001b[90m@ ChaosTools C:\\Users\\Alex\\.julia\\packages\\ChaosTools\\PHPDF\\src\\orbitdiagrams\\produce_orbitdiagram.jl:75\u001b[39m\n"
     ]
    },
    {
     "name": "stdout",
     "output_type": "stream",
     "text": [
      "parameter = -0.0966324\n",
      "parameter = -0.0966326"
     ]
    },
    {
     "name": "stderr",
     "output_type": "stream",
     "text": [
      "\u001b[33m\u001b[1m┌ \u001b[22m\u001b[39m\u001b[33m\u001b[1mWarning: \u001b[22m\u001b[39mFor parameter -0.0966324 The Poincaré surface of section did not have any points!\n",
      "\u001b[33m\u001b[1m└ \u001b[22m\u001b[39m\u001b[90m@ ChaosTools C:\\Users\\Alex\\.julia\\packages\\ChaosTools\\PHPDF\\src\\orbitdiagrams\\produce_orbitdiagram.jl:75\u001b[39m\n"
     ]
    },
    {
     "name": "stdout",
     "output_type": "stream",
     "text": [
      "\n",
      "parameter = -0.0966328"
     ]
    },
    {
     "name": "stderr",
     "output_type": "stream",
     "text": [
      "\u001b[33m\u001b[1m┌ \u001b[22m\u001b[39m\u001b[33m\u001b[1mWarning: \u001b[22m\u001b[39mFor parameter -0.0966326 The Poincaré surface of section did not have any points!\n",
      "\u001b[33m\u001b[1m└ \u001b[22m\u001b[39m\u001b[90m@ ChaosTools C:\\Users\\Alex\\.julia\\packages\\ChaosTools\\PHPDF\\src\\orbitdiagrams\\produce_orbitdiagram.jl:75\u001b[39m\n"
     ]
    },
    {
     "name": "stdout",
     "output_type": "stream",
     "text": [
      "\n",
      "parameter = -0.096633\n"
     ]
    },
    {
     "name": "stderr",
     "output_type": "stream",
     "text": [
      "\u001b[33m\u001b[1m┌ \u001b[22m\u001b[39m\u001b[33m\u001b[1mWarning: \u001b[22m\u001b[39mFor parameter -0.0966328 The Poincaré surface of section did not have any points!\n",
      "\u001b[33m\u001b[1m└ \u001b[22m\u001b[39m\u001b[90m@ ChaosTools C:\\Users\\Alex\\.julia\\packages\\ChaosTools\\PHPDF\\src\\orbitdiagrams\\produce_orbitdiagram.jl:75\u001b[39m\n"
     ]
    },
    {
     "name": "stdout",
     "output_type": "stream",
     "text": [
      "parameter = -0.0966332"
     ]
    },
    {
     "name": "stderr",
     "output_type": "stream",
     "text": [
      "\u001b[33m\u001b[1m┌ \u001b[22m\u001b[39m\u001b[33m\u001b[1mWarning: \u001b[22m\u001b[39mFor parameter -0.096633 The Poincaré surface of section did not have any points!\n",
      "\u001b[33m\u001b[1m└ \u001b[22m\u001b[39m\u001b[90m@ ChaosTools C:\\Users\\Alex\\.julia\\packages\\ChaosTools\\PHPDF\\src\\orbitdiagrams\\produce_orbitdiagram.jl:75\u001b[39m\n"
     ]
    },
    {
     "name": "stdout",
     "output_type": "stream",
     "text": [
      "\n",
      "parameter = -0.0966334"
     ]
    },
    {
     "name": "stderr",
     "output_type": "stream",
     "text": [
      "\u001b[33m\u001b[1m┌ \u001b[22m\u001b[39m\u001b[33m\u001b[1mWarning: \u001b[22m\u001b[39mFor parameter -0.0966332 The Poincaré surface of section did not have any points!\n",
      "\u001b[33m\u001b[1m└ \u001b[22m\u001b[39m\u001b[90m@ ChaosTools C:\\Users\\Alex\\.julia\\packages\\ChaosTools\\PHPDF\\src\\orbitdiagrams\\produce_orbitdiagram.jl:75\u001b[39m\n"
     ]
    },
    {
     "name": "stdout",
     "output_type": "stream",
     "text": [
      "\n",
      "parameter = -0.0966336"
     ]
    },
    {
     "name": "stderr",
     "output_type": "stream",
     "text": [
      "\u001b[33m\u001b[1m┌ \u001b[22m\u001b[39m\u001b[33m\u001b[1mWarning: \u001b[22m\u001b[39mFor parameter -0.0966334 The Poincaré surface of section did not have any points!\n",
      "\u001b[33m\u001b[1m└ \u001b[22m\u001b[39m\u001b[90m@ ChaosTools C:\\Users\\Alex\\.julia\\packages\\ChaosTools\\PHPDF\\src\\orbitdiagrams\\produce_orbitdiagram.jl:75\u001b[39m\n"
     ]
    },
    {
     "name": "stdout",
     "output_type": "stream",
     "text": [
      "\n",
      "parameter = -0.0966338\n"
     ]
    },
    {
     "name": "stderr",
     "output_type": "stream",
     "text": [
      "\u001b[33m\u001b[1m┌ \u001b[22m\u001b[39m\u001b[33m\u001b[1mWarning: \u001b[22m\u001b[39mFor parameter -0.0966336 The Poincaré surface of section did not have any points!\n",
      "\u001b[33m\u001b[1m└ \u001b[22m\u001b[39m\u001b[90m@ ChaosTools C:\\Users\\Alex\\.julia\\packages\\ChaosTools\\PHPDF\\src\\orbitdiagrams\\produce_orbitdiagram.jl:75\u001b[39m\n"
     ]
    },
    {
     "name": "stdout",
     "output_type": "stream",
     "text": [
      "parameter = -0.096634"
     ]
    },
    {
     "name": "stderr",
     "output_type": "stream",
     "text": [
      "\u001b[33m\u001b[1m┌ \u001b[22m\u001b[39m\u001b[33m\u001b[1mWarning: \u001b[22m\u001b[39mFor parameter -0.0966338 The Poincaré surface of section did not have any points!\n",
      "\u001b[33m\u001b[1m└ \u001b[22m\u001b[39m\u001b[90m@ ChaosTools C:\\Users\\Alex\\.julia\\packages\\ChaosTools\\PHPDF\\src\\orbitdiagrams\\produce_orbitdiagram.jl:75\u001b[39m\n"
     ]
    },
    {
     "name": "stdout",
     "output_type": "stream",
     "text": [
      "\n",
      "parameter = -0.0966342"
     ]
    },
    {
     "name": "stderr",
     "output_type": "stream",
     "text": [
      "\u001b[33m\u001b[1m┌ \u001b[22m\u001b[39m\u001b[33m\u001b[1mWarning: \u001b[22m\u001b[39mFor parameter -0.096634 The Poincaré surface of section did not have any points!\n",
      "\u001b[33m\u001b[1m└ \u001b[22m\u001b[39m\u001b[90m@ ChaosTools C:\\Users\\Alex\\.julia\\packages\\ChaosTools\\PHPDF\\src\\orbitdiagrams\\produce_orbitdiagram.jl:75\u001b[39m\n"
     ]
    },
    {
     "name": "stdout",
     "output_type": "stream",
     "text": [
      "\n",
      "parameter = -0.0966344"
     ]
    },
    {
     "name": "stderr",
     "output_type": "stream",
     "text": [
      "\u001b[33m\u001b[1m┌ \u001b[22m\u001b[39m\u001b[33m\u001b[1mWarning: \u001b[22m\u001b[39mFor parameter -0.0966342 The Poincaré surface of section did not have any points!\n",
      "\u001b[33m\u001b[1m└ \u001b[22m\u001b[39m\u001b[90m@ ChaosTools C:\\Users\\Alex\\.julia\\packages\\ChaosTools\\PHPDF\\src\\orbitdiagrams\\produce_orbitdiagram.jl:75\u001b[39m\n"
     ]
    },
    {
     "name": "stdout",
     "output_type": "stream",
     "text": [
      "\n",
      "parameter = -0.0966346\n"
     ]
    },
    {
     "name": "stderr",
     "output_type": "stream",
     "text": [
      "\u001b[33m\u001b[1m┌ \u001b[22m\u001b[39m\u001b[33m\u001b[1mWarning: \u001b[22m\u001b[39mFor parameter -0.0966344 The Poincaré surface of section did not have any points!\n",
      "\u001b[33m\u001b[1m└ \u001b[22m\u001b[39m\u001b[90m@ ChaosTools C:\\Users\\Alex\\.julia\\packages\\ChaosTools\\PHPDF\\src\\orbitdiagrams\\produce_orbitdiagram.jl:75\u001b[39m\n"
     ]
    },
    {
     "name": "stdout",
     "output_type": "stream",
     "text": [
      "parameter = -0.0966348"
     ]
    },
    {
     "name": "stderr",
     "output_type": "stream",
     "text": [
      "\u001b[33m\u001b[1m┌ \u001b[22m\u001b[39m\u001b[33m\u001b[1mWarning: \u001b[22m\u001b[39mFor parameter -0.0966346 The Poincaré surface of section did not have any points!\n",
      "\u001b[33m\u001b[1m└ \u001b[22m\u001b[39m\u001b[90m@ ChaosTools C:\\Users\\Alex\\.julia\\packages\\ChaosTools\\PHPDF\\src\\orbitdiagrams\\produce_orbitdiagram.jl:75\u001b[39m\n"
     ]
    },
    {
     "name": "stdout",
     "output_type": "stream",
     "text": [
      "\n",
      "parameter = -0.096635"
     ]
    },
    {
     "name": "stderr",
     "output_type": "stream",
     "text": [
      "\u001b[33m\u001b[1m┌ \u001b[22m\u001b[39m\u001b[33m\u001b[1mWarning: \u001b[22m\u001b[39mFor parameter -0.0966348 The Poincaré surface of section did not have any points!\n",
      "\u001b[33m\u001b[1m└ \u001b[22m\u001b[39m\u001b[90m@ ChaosTools C:\\Users\\Alex\\.julia\\packages\\ChaosTools\\PHPDF\\src\\orbitdiagrams\\produce_orbitdiagram.jl:75\u001b[39m\n"
     ]
    },
    {
     "name": "stdout",
     "output_type": "stream",
     "text": [
      "\n",
      "parameter = -0.0966352\n"
     ]
    },
    {
     "name": "stderr",
     "output_type": "stream",
     "text": [
      "\u001b[33m\u001b[1m┌ \u001b[22m\u001b[39m\u001b[33m\u001b[1mWarning: \u001b[22m\u001b[39mFor parameter -0.096635 The Poincaré surface of section did not have any points!\n",
      "\u001b[33m\u001b[1m└ \u001b[22m\u001b[39m\u001b[90m@ ChaosTools C:\\Users\\Alex\\.julia\\packages\\ChaosTools\\PHPDF\\src\\orbitdiagrams\\produce_orbitdiagram.jl:75\u001b[39m\n"
     ]
    },
    {
     "name": "stdout",
     "output_type": "stream",
     "text": [
      "parameter = -0.0966354\n"
     ]
    },
    {
     "name": "stderr",
     "output_type": "stream",
     "text": [
      "\u001b[33m\u001b[1m┌ \u001b[22m\u001b[39m\u001b[33m\u001b[1mWarning: \u001b[22m\u001b[39mFor parameter -0.0966352 The Poincaré surface of section did not have any points!\n",
      "\u001b[33m\u001b[1m└ \u001b[22m\u001b[39m\u001b[90m@ ChaosTools C:\\Users\\Alex\\.julia\\packages\\ChaosTools\\PHPDF\\src\\orbitdiagrams\\produce_orbitdiagram.jl:75\u001b[39m\n"
     ]
    },
    {
     "name": "stdout",
     "output_type": "stream",
     "text": [
      "parameter = -0.0966356"
     ]
    },
    {
     "name": "stderr",
     "output_type": "stream",
     "text": [
      "\u001b[33m\u001b[1m┌ \u001b[22m\u001b[39m\u001b[33m\u001b[1mWarning: \u001b[22m\u001b[39mFor parameter -0.0966354 The Poincaré surface of section did not have any points!\n",
      "\u001b[33m\u001b[1m└ \u001b[22m\u001b[39m\u001b[90m@ ChaosTools C:\\Users\\Alex\\.julia\\packages\\ChaosTools\\PHPDF\\src\\orbitdiagrams\\produce_orbitdiagram.jl:75\u001b[39m\n"
     ]
    },
    {
     "name": "stdout",
     "output_type": "stream",
     "text": [
      "\n",
      "parameter = -0.0966358"
     ]
    },
    {
     "name": "stderr",
     "output_type": "stream",
     "text": [
      "\u001b[33m\u001b[1m┌ \u001b[22m\u001b[39m\u001b[33m\u001b[1mWarning: \u001b[22m\u001b[39mFor parameter -0.0966356 The Poincaré surface of section did not have any points!\n",
      "\u001b[33m\u001b[1m└ \u001b[22m\u001b[39m\u001b[90m@ ChaosTools C:\\Users\\Alex\\.julia\\packages\\ChaosTools\\PHPDF\\src\\orbitdiagrams\\produce_orbitdiagram.jl:75\u001b[39m\n"
     ]
    },
    {
     "name": "stdout",
     "output_type": "stream",
     "text": [
      "\n",
      "parameter = -0.096636"
     ]
    },
    {
     "name": "stderr",
     "output_type": "stream",
     "text": [
      "\u001b[33m\u001b[1m┌ \u001b[22m\u001b[39m\u001b[33m\u001b[1mWarning: \u001b[22m\u001b[39mFor parameter -0.0966358 The Poincaré surface of section did not have any points!\n",
      "\u001b[33m\u001b[1m└ \u001b[22m\u001b[39m\u001b[90m@ ChaosTools C:\\Users\\Alex\\.julia\\packages\\ChaosTools\\PHPDF\\src\\orbitdiagrams\\produce_orbitdiagram.jl:75\u001b[39m\n"
     ]
    },
    {
     "name": "stdout",
     "output_type": "stream",
     "text": [
      "\n",
      "parameter = -0.0966362"
     ]
    },
    {
     "name": "stderr",
     "output_type": "stream",
     "text": [
      "\u001b[33m\u001b[1m┌ \u001b[22m\u001b[39m\u001b[33m\u001b[1mWarning: \u001b[22m\u001b[39mFor parameter -0.096636 The Poincaré surface of section did not have any points!\n",
      "\u001b[33m\u001b[1m└ \u001b[22m\u001b[39m\u001b[90m@ ChaosTools C:\\Users\\Alex\\.julia\\packages\\ChaosTools\\PHPDF\\src\\orbitdiagrams\\produce_orbitdiagram.jl:75\u001b[39m\n"
     ]
    },
    {
     "name": "stdout",
     "output_type": "stream",
     "text": [
      "\n",
      "parameter = -0.0966364"
     ]
    },
    {
     "name": "stderr",
     "output_type": "stream",
     "text": [
      "\u001b[33m\u001b[1m┌ \u001b[22m\u001b[39m\u001b[33m\u001b[1mWarning: \u001b[22m\u001b[39mFor parameter -0.0966362 The Poincaré surface of section did not have any points!\n",
      "\u001b[33m\u001b[1m└ \u001b[22m\u001b[39m\u001b[90m@ ChaosTools C:\\Users\\Alex\\.julia\\packages\\ChaosTools\\PHPDF\\src\\orbitdiagrams\\produce_orbitdiagram.jl:75\u001b[39m\n"
     ]
    },
    {
     "name": "stdout",
     "output_type": "stream",
     "text": [
      "\n",
      "parameter = -0.0966366"
     ]
    },
    {
     "name": "stderr",
     "output_type": "stream",
     "text": [
      "\u001b[33m\u001b[1m┌ \u001b[22m\u001b[39m\u001b[33m\u001b[1mWarning: \u001b[22m\u001b[39mFor parameter -0.0966364 The Poincaré surface of section did not have any points!\n",
      "\u001b[33m\u001b[1m└ \u001b[22m\u001b[39m\u001b[90m@ ChaosTools C:\\Users\\Alex\\.julia\\packages\\ChaosTools\\PHPDF\\src\\orbitdiagrams\\produce_orbitdiagram.jl:75\u001b[39m\n"
     ]
    },
    {
     "name": "stdout",
     "output_type": "stream",
     "text": [
      "\n",
      "parameter = -0.0966368"
     ]
    },
    {
     "name": "stderr",
     "output_type": "stream",
     "text": [
      "\u001b[33m\u001b[1m┌ \u001b[22m\u001b[39m\u001b[33m\u001b[1mWarning: \u001b[22m\u001b[39mFor parameter -0.0966366 The Poincaré surface of section did not have any points!\n",
      "\u001b[33m\u001b[1m└ \u001b[22m\u001b[39m\u001b[90m@ ChaosTools C:\\Users\\Alex\\.julia\\packages\\ChaosTools\\PHPDF\\src\\orbitdiagrams\\produce_orbitdiagram.jl:75\u001b[39m\n"
     ]
    },
    {
     "name": "stdout",
     "output_type": "stream",
     "text": [
      "\n",
      "parameter = -0.096637"
     ]
    },
    {
     "name": "stderr",
     "output_type": "stream",
     "text": [
      "\u001b[33m\u001b[1m┌ \u001b[22m\u001b[39m\u001b[33m\u001b[1mWarning: \u001b[22m\u001b[39mFor parameter -0.0966368 The Poincaré surface of section did not have any points!\n",
      "\u001b[33m\u001b[1m└ \u001b[22m\u001b[39m\u001b[90m@ ChaosTools C:\\Users\\Alex\\.julia\\packages\\ChaosTools\\PHPDF\\src\\orbitdiagrams\\produce_orbitdiagram.jl:75\u001b[39m\n"
     ]
    },
    {
     "name": "stdout",
     "output_type": "stream",
     "text": [
      "\n",
      "parameter = -0.0966372"
     ]
    },
    {
     "name": "stderr",
     "output_type": "stream",
     "text": [
      "\u001b[33m\u001b[1m┌ \u001b[22m\u001b[39m\u001b[33m\u001b[1mWarning: \u001b[22m\u001b[39mFor parameter -0.096637 The Poincaré surface of section did not have any points!\n",
      "\u001b[33m\u001b[1m└ \u001b[22m\u001b[39m\u001b[90m@ ChaosTools C:\\Users\\Alex\\.julia\\packages\\ChaosTools\\PHPDF\\src\\orbitdiagrams\\produce_orbitdiagram.jl:75\u001b[39m\n"
     ]
    },
    {
     "name": "stdout",
     "output_type": "stream",
     "text": [
      "\n",
      "parameter = -0.0966374"
     ]
    },
    {
     "name": "stderr",
     "output_type": "stream",
     "text": [
      "\u001b[33m\u001b[1m┌ \u001b[22m\u001b[39m\u001b[33m\u001b[1mWarning: \u001b[22m\u001b[39mFor parameter -0.0966372 The Poincaré surface of section did not have any points!\n",
      "\u001b[33m\u001b[1m└ \u001b[22m\u001b[39m\u001b[90m@ ChaosTools C:\\Users\\Alex\\.julia\\packages\\ChaosTools\\PHPDF\\src\\orbitdiagrams\\produce_orbitdiagram.jl:75\u001b[39m\n"
     ]
    },
    {
     "name": "stdout",
     "output_type": "stream",
     "text": [
      "\n",
      "parameter = -0.0966376\n"
     ]
    },
    {
     "name": "stderr",
     "output_type": "stream",
     "text": [
      "\u001b[33m\u001b[1m┌ \u001b[22m\u001b[39m\u001b[33m\u001b[1mWarning: \u001b[22m\u001b[39mFor parameter -0.0966374 The Poincaré surface of section did not have any points!\n",
      "\u001b[33m\u001b[1m└ \u001b[22m\u001b[39m\u001b[90m@ ChaosTools C:\\Users\\Alex\\.julia\\packages\\ChaosTools\\PHPDF\\src\\orbitdiagrams\\produce_orbitdiagram.jl:75\u001b[39m\n"
     ]
    },
    {
     "name": "stdout",
     "output_type": "stream",
     "text": [
      "parameter = -0.0966378"
     ]
    },
    {
     "name": "stderr",
     "output_type": "stream",
     "text": [
      "\u001b[33m\u001b[1m┌ \u001b[22m\u001b[39m\u001b[33m\u001b[1mWarning: \u001b[22m\u001b[39mFor parameter -0.0966376 The Poincaré surface of section did not have any points!\n",
      "\u001b[33m\u001b[1m└ \u001b[22m\u001b[39m\u001b[90m@ ChaosTools C:\\Users\\Alex\\.julia\\packages\\ChaosTools\\PHPDF\\src\\orbitdiagrams\\produce_orbitdiagram.jl:75\u001b[39m\n"
     ]
    },
    {
     "name": "stdout",
     "output_type": "stream",
     "text": [
      "\n",
      "parameter = -0.096638\n"
     ]
    },
    {
     "name": "stderr",
     "output_type": "stream",
     "text": [
      "\u001b[33m\u001b[1m┌ \u001b[22m\u001b[39m\u001b[33m\u001b[1mWarning: \u001b[22m\u001b[39mFor parameter -0.0966378 The Poincaré surface of section did not have any points!\n",
      "\u001b[33m\u001b[1m└ \u001b[22m\u001b[39m\u001b[90m@ ChaosTools C:\\Users\\Alex\\.julia\\packages\\ChaosTools\\PHPDF\\src\\orbitdiagrams\\produce_orbitdiagram.jl:75\u001b[39m\n"
     ]
    },
    {
     "name": "stdout",
     "output_type": "stream",
     "text": [
      "parameter = -0.0966382"
     ]
    },
    {
     "name": "stderr",
     "output_type": "stream",
     "text": [
      "\u001b[33m\u001b[1m┌ \u001b[22m\u001b[39m\u001b[33m\u001b[1mWarning: \u001b[22m\u001b[39mFor parameter -0.096638 The Poincaré surface of section did not have any points!\n",
      "\u001b[33m\u001b[1m└ \u001b[22m\u001b[39m\u001b[90m@ ChaosTools C:\\Users\\Alex\\.julia\\packages\\ChaosTools\\PHPDF\\src\\orbitdiagrams\\produce_orbitdiagram.jl:75\u001b[39m\n"
     ]
    },
    {
     "name": "stdout",
     "output_type": "stream",
     "text": [
      "\n",
      "parameter = -0.0966384\n"
     ]
    },
    {
     "name": "stderr",
     "output_type": "stream",
     "text": [
      "\u001b[33m\u001b[1m┌ \u001b[22m\u001b[39m\u001b[33m\u001b[1mWarning: \u001b[22m\u001b[39mFor parameter -0.0966382 The Poincaré surface of section did not have any points!\n",
      "\u001b[33m\u001b[1m└ \u001b[22m\u001b[39m\u001b[90m@ ChaosTools C:\\Users\\Alex\\.julia\\packages\\ChaosTools\\PHPDF\\src\\orbitdiagrams\\produce_orbitdiagram.jl:75\u001b[39m\n"
     ]
    },
    {
     "name": "stdout",
     "output_type": "stream",
     "text": [
      "parameter = -0.0966386"
     ]
    },
    {
     "name": "stderr",
     "output_type": "stream",
     "text": [
      "\u001b[33m\u001b[1m┌ \u001b[22m\u001b[39m\u001b[33m\u001b[1mWarning: \u001b[22m\u001b[39mFor parameter -0.0966384 The Poincaré surface of section did not have any points!\n",
      "\u001b[33m\u001b[1m└ \u001b[22m\u001b[39m\u001b[90m@ ChaosTools C:\\Users\\Alex\\.julia\\packages\\ChaosTools\\PHPDF\\src\\orbitdiagrams\\produce_orbitdiagram.jl:75\u001b[39m\n"
     ]
    },
    {
     "name": "stdout",
     "output_type": "stream",
     "text": [
      "\n",
      "parameter = -0.0966388"
     ]
    },
    {
     "name": "stderr",
     "output_type": "stream",
     "text": [
      "\u001b[33m\u001b[1m┌ \u001b[22m\u001b[39m\u001b[33m\u001b[1mWarning: \u001b[22m\u001b[39mFor parameter -0.0966386 The Poincaré surface of section did not have any points!\n",
      "\u001b[33m\u001b[1m└ \u001b[22m\u001b[39m\u001b[90m@ ChaosTools C:\\Users\\Alex\\.julia\\packages\\ChaosTools\\PHPDF\\src\\orbitdiagrams\\produce_orbitdiagram.jl:75\u001b[39m\n"
     ]
    },
    {
     "name": "stdout",
     "output_type": "stream",
     "text": [
      "\n",
      "parameter = -0.096639\n"
     ]
    },
    {
     "name": "stderr",
     "output_type": "stream",
     "text": [
      "\u001b[33m\u001b[1m┌ \u001b[22m\u001b[39m\u001b[33m\u001b[1mWarning: \u001b[22m\u001b[39mFor parameter -0.0966388 The Poincaré surface of section did not have any points!\n",
      "\u001b[33m\u001b[1m└ \u001b[22m\u001b[39m\u001b[90m@ ChaosTools C:\\Users\\Alex\\.julia\\packages\\ChaosTools\\PHPDF\\src\\orbitdiagrams\\produce_orbitdiagram.jl:75\u001b[39m\n"
     ]
    },
    {
     "name": "stdout",
     "output_type": "stream",
     "text": [
      "parameter = -0.0966392"
     ]
    },
    {
     "name": "stderr",
     "output_type": "stream",
     "text": [
      "\u001b[33m\u001b[1m┌ \u001b[22m\u001b[39m\u001b[33m\u001b[1mWarning: \u001b[22m\u001b[39mFor parameter -0.096639 The Poincaré surface of section did not have any points!\n",
      "\u001b[33m\u001b[1m└ \u001b[22m\u001b[39m\u001b[90m@ ChaosTools C:\\Users\\Alex\\.julia\\packages\\ChaosTools\\PHPDF\\src\\orbitdiagrams\\produce_orbitdiagram.jl:75\u001b[39m\n"
     ]
    },
    {
     "name": "stdout",
     "output_type": "stream",
     "text": [
      "\n",
      "parameter = -0.0966394"
     ]
    },
    {
     "name": "stderr",
     "output_type": "stream",
     "text": [
      "\u001b[33m\u001b[1m┌ \u001b[22m\u001b[39m\u001b[33m\u001b[1mWarning: \u001b[22m\u001b[39mFor parameter -0.0966392 The Poincaré surface of section did not have any points!\n",
      "\u001b[33m\u001b[1m└ \u001b[22m\u001b[39m\u001b[90m@ ChaosTools C:\\Users\\Alex\\.julia\\packages\\ChaosTools\\PHPDF\\src\\orbitdiagrams\\produce_orbitdiagram.jl:75\u001b[39m\n"
     ]
    },
    {
     "name": "stdout",
     "output_type": "stream",
     "text": [
      "\n",
      "parameter = -0.0966396\n"
     ]
    },
    {
     "name": "stderr",
     "output_type": "stream",
     "text": [
      "\u001b[33m\u001b[1m┌ \u001b[22m\u001b[39m\u001b[33m\u001b[1mWarning: \u001b[22m\u001b[39mFor parameter -0.0966394 The Poincaré surface of section did not have any points!\n",
      "\u001b[33m\u001b[1m└ \u001b[22m\u001b[39m\u001b[90m@ ChaosTools C:\\Users\\Alex\\.julia\\packages\\ChaosTools\\PHPDF\\src\\orbitdiagrams\\produce_orbitdiagram.jl:75\u001b[39m\n"
     ]
    },
    {
     "name": "stdout",
     "output_type": "stream",
     "text": [
      "parameter = -0.0966398"
     ]
    },
    {
     "name": "stderr",
     "output_type": "stream",
     "text": [
      "\u001b[33m\u001b[1m┌ \u001b[22m\u001b[39m\u001b[33m\u001b[1mWarning: \u001b[22m\u001b[39mFor parameter -0.0966396 The Poincaré surface of section did not have any points!\n",
      "\u001b[33m\u001b[1m└ \u001b[22m\u001b[39m\u001b[90m@ ChaosTools C:\\Users\\Alex\\.julia\\packages\\ChaosTools\\PHPDF\\src\\orbitdiagrams\\produce_orbitdiagram.jl:75\u001b[39m\n"
     ]
    },
    {
     "name": "stdout",
     "output_type": "stream",
     "text": [
      "\n",
      "parameter = -0.09664\n"
     ]
    },
    {
     "name": "stderr",
     "output_type": "stream",
     "text": [
      "\u001b[33m\u001b[1m┌ \u001b[22m\u001b[39m\u001b[33m\u001b[1mWarning: \u001b[22m\u001b[39mFor parameter -0.0966398 The Poincaré surface of section did not have any points!\n",
      "\u001b[33m\u001b[1m└ \u001b[22m\u001b[39m\u001b[90m@ ChaosTools C:\\Users\\Alex\\.julia\\packages\\ChaosTools\\PHPDF\\src\\orbitdiagrams\\produce_orbitdiagram.jl:75\u001b[39m\n"
     ]
    },
    {
     "name": "stdout",
     "output_type": "stream",
     "text": [
      "parameter = -0.0966402"
     ]
    },
    {
     "name": "stderr",
     "output_type": "stream",
     "text": [
      "\u001b[33m\u001b[1m┌ \u001b[22m\u001b[39m\u001b[33m\u001b[1mWarning: \u001b[22m\u001b[39mFor parameter -0.09664 The Poincaré surface of section did not have any points!\n",
      "\u001b[33m\u001b[1m└ \u001b[22m\u001b[39m\u001b[90m@ ChaosTools C:\\Users\\Alex\\.julia\\packages\\ChaosTools\\PHPDF\\src\\orbitdiagrams\\produce_orbitdiagram.jl:75\u001b[39m\n"
     ]
    },
    {
     "name": "stdout",
     "output_type": "stream",
     "text": [
      "\n",
      "parameter = -0.0966404"
     ]
    },
    {
     "name": "stderr",
     "output_type": "stream",
     "text": [
      "\u001b[33m\u001b[1m┌ \u001b[22m\u001b[39m\u001b[33m\u001b[1mWarning: \u001b[22m\u001b[39mFor parameter -0.0966402 The Poincaré surface of section did not have any points!\n",
      "\u001b[33m\u001b[1m└ \u001b[22m\u001b[39m\u001b[90m@ ChaosTools C:\\Users\\Alex\\.julia\\packages\\ChaosTools\\PHPDF\\src\\orbitdiagrams\\produce_orbitdiagram.jl:75\u001b[39m\n"
     ]
    },
    {
     "name": "stdout",
     "output_type": "stream",
     "text": [
      "\n",
      "parameter = -0.0966406"
     ]
    },
    {
     "name": "stderr",
     "output_type": "stream",
     "text": [
      "\u001b[33m\u001b[1m┌ \u001b[22m\u001b[39m\u001b[33m\u001b[1mWarning: \u001b[22m\u001b[39mFor parameter -0.0966404 The Poincaré surface of section did not have any points!\n",
      "\u001b[33m\u001b[1m└ \u001b[22m\u001b[39m\u001b[90m@ ChaosTools C:\\Users\\Alex\\.julia\\packages\\ChaosTools\\PHPDF\\src\\orbitdiagrams\\produce_orbitdiagram.jl:75\u001b[39m\n"
     ]
    },
    {
     "name": "stdout",
     "output_type": "stream",
     "text": [
      "\n",
      "parameter = -0.0966408\n"
     ]
    },
    {
     "name": "stderr",
     "output_type": "stream",
     "text": [
      "\u001b[33m\u001b[1m┌ \u001b[22m\u001b[39m\u001b[33m\u001b[1mWarning: \u001b[22m\u001b[39mFor parameter -0.0966406 The Poincaré surface of section did not have any points!\n",
      "\u001b[33m\u001b[1m└ \u001b[22m\u001b[39m\u001b[90m@ ChaosTools C:\\Users\\Alex\\.julia\\packages\\ChaosTools\\PHPDF\\src\\orbitdiagrams\\produce_orbitdiagram.jl:75\u001b[39m\n"
     ]
    },
    {
     "name": "stdout",
     "output_type": "stream",
     "text": [
      "parameter = -0.096641"
     ]
    },
    {
     "name": "stderr",
     "output_type": "stream",
     "text": [
      "\u001b[33m\u001b[1m┌ \u001b[22m\u001b[39m\u001b[33m\u001b[1mWarning: \u001b[22m\u001b[39mFor parameter -0.0966408 The Poincaré surface of section did not have any points!\n",
      "\u001b[33m\u001b[1m└ \u001b[22m\u001b[39m\u001b[90m@ ChaosTools C:\\Users\\Alex\\.julia\\packages\\ChaosTools\\PHPDF\\src\\orbitdiagrams\\produce_orbitdiagram.jl:75\u001b[39m\n"
     ]
    },
    {
     "name": "stdout",
     "output_type": "stream",
     "text": [
      "\n",
      "parameter = -0.0966412\n"
     ]
    },
    {
     "name": "stderr",
     "output_type": "stream",
     "text": [
      "\u001b[33m\u001b[1m┌ \u001b[22m\u001b[39m\u001b[33m\u001b[1mWarning: \u001b[22m\u001b[39mFor parameter -0.096641 The Poincaré surface of section did not have any points!\n",
      "\u001b[33m\u001b[1m└ \u001b[22m\u001b[39m\u001b[90m@ ChaosTools C:\\Users\\Alex\\.julia\\packages\\ChaosTools\\PHPDF\\src\\orbitdiagrams\\produce_orbitdiagram.jl:75\u001b[39m\n"
     ]
    },
    {
     "name": "stdout",
     "output_type": "stream",
     "text": [
      "parameter = -0.0966414\n"
     ]
    },
    {
     "name": "stderr",
     "output_type": "stream",
     "text": [
      "\u001b[33m\u001b[1m┌ \u001b[22m\u001b[39m\u001b[33m\u001b[1mWarning: \u001b[22m\u001b[39mFor parameter -0.0966412 The Poincaré surface of section did not have any points!\n",
      "\u001b[33m\u001b[1m└ \u001b[22m\u001b[39m\u001b[90m@ ChaosTools C:\\Users\\Alex\\.julia\\packages\\ChaosTools\\PHPDF\\src\\orbitdiagrams\\produce_orbitdiagram.jl:75\u001b[39m\n"
     ]
    },
    {
     "name": "stdout",
     "output_type": "stream",
     "text": [
      "parameter = -0.0966416\n"
     ]
    },
    {
     "name": "stderr",
     "output_type": "stream",
     "text": [
      "\u001b[33m\u001b[1m┌ \u001b[22m\u001b[39m\u001b[33m\u001b[1mWarning: \u001b[22m\u001b[39mFor parameter -0.0966414 The Poincaré surface of section did not have any points!\n",
      "\u001b[33m\u001b[1m└ \u001b[22m\u001b[39m\u001b[90m@ ChaosTools C:\\Users\\Alex\\.julia\\packages\\ChaosTools\\PHPDF\\src\\orbitdiagrams\\produce_orbitdiagram.jl:75\u001b[39m\n"
     ]
    },
    {
     "name": "stdout",
     "output_type": "stream",
     "text": [
      "parameter = -0.0966418"
     ]
    },
    {
     "name": "stderr",
     "output_type": "stream",
     "text": [
      "\u001b[33m\u001b[1m┌ \u001b[22m\u001b[39m\u001b[33m\u001b[1mWarning: \u001b[22m\u001b[39mFor parameter -0.0966416 The Poincaré surface of section did not have any points!\n",
      "\u001b[33m\u001b[1m└ \u001b[22m\u001b[39m\u001b[90m@ ChaosTools C:\\Users\\Alex\\.julia\\packages\\ChaosTools\\PHPDF\\src\\orbitdiagrams\\produce_orbitdiagram.jl:75\u001b[39m\n"
     ]
    },
    {
     "name": "stdout",
     "output_type": "stream",
     "text": [
      "\n"
     ]
    },
    {
     "name": "stderr",
     "output_type": "stream",
     "text": [
      "\u001b[33m\u001b[1m┌ \u001b[22m\u001b[39m\u001b[33m\u001b[1mWarning: \u001b[22m\u001b[39mFor parameter -0.0966418 The Poincaré surface of section did not have any points!\n",
      "\u001b[33m\u001b[1m└ \u001b[22m\u001b[39m\u001b[90m@ ChaosTools C:\\Users\\Alex\\.julia\\packages\\ChaosTools\\PHPDF\\src\\orbitdiagrams\\produce_orbitdiagram.jl:75\u001b[39m\n"
     ]
    },
    {
     "name": "stdout",
     "output_type": "stream",
     "text": [
      "parameter = -0.096642\n",
      "parameter = -0.0966422\n"
     ]
    },
    {
     "name": "stderr",
     "output_type": "stream",
     "text": [
      "\u001b[33m\u001b[1m┌ \u001b[22m\u001b[39m\u001b[33m\u001b[1mWarning: \u001b[22m\u001b[39mFor parameter -0.096642 The Poincaré surface of section did not have any points!\n",
      "\u001b[33m\u001b[1m└ \u001b[22m\u001b[39m\u001b[90m@ ChaosTools C:\\Users\\Alex\\.julia\\packages\\ChaosTools\\PHPDF\\src\\orbitdiagrams\\produce_orbitdiagram.jl:75\u001b[39m\n"
     ]
    },
    {
     "name": "stdout",
     "output_type": "stream",
     "text": [
      "parameter = -0.0966424\n"
     ]
    },
    {
     "name": "stderr",
     "output_type": "stream",
     "text": [
      "\u001b[33m\u001b[1m┌ \u001b[22m\u001b[39m\u001b[33m\u001b[1mWarning: \u001b[22m\u001b[39mFor parameter -0.0966422 The Poincaré surface of section did not have any points!\n",
      "\u001b[33m\u001b[1m└ \u001b[22m\u001b[39m\u001b[90m@ ChaosTools C:\\Users\\Alex\\.julia\\packages\\ChaosTools\\PHPDF\\src\\orbitdiagrams\\produce_orbitdiagram.jl:75\u001b[39m\n"
     ]
    },
    {
     "name": "stdout",
     "output_type": "stream",
     "text": [
      "parameter = -0.0966426"
     ]
    },
    {
     "name": "stderr",
     "output_type": "stream",
     "text": [
      "\u001b[33m\u001b[1m┌ \u001b[22m\u001b[39m\u001b[33m\u001b[1mWarning: \u001b[22m\u001b[39mFor parameter -0.0966424 The Poincaré surface of section did not have any points!\n",
      "\u001b[33m\u001b[1m└ \u001b[22m\u001b[39m\u001b[90m@ ChaosTools C:\\Users\\Alex\\.julia\\packages\\ChaosTools\\PHPDF\\src\\orbitdiagrams\\produce_orbitdiagram.jl:75\u001b[39m\n"
     ]
    },
    {
     "name": "stdout",
     "output_type": "stream",
     "text": [
      "\n",
      "parameter = -0.0966428\n"
     ]
    },
    {
     "name": "stderr",
     "output_type": "stream",
     "text": [
      "\u001b[33m\u001b[1m┌ \u001b[22m\u001b[39m\u001b[33m\u001b[1mWarning: \u001b[22m\u001b[39mFor parameter -0.0966426 The Poincaré surface of section did not have any points!\n",
      "\u001b[33m\u001b[1m└ \u001b[22m\u001b[39m\u001b[90m@ ChaosTools C:\\Users\\Alex\\.julia\\packages\\ChaosTools\\PHPDF\\src\\orbitdiagrams\\produce_orbitdiagram.jl:75\u001b[39m\n"
     ]
    },
    {
     "name": "stdout",
     "output_type": "stream",
     "text": [
      "parameter = -0.096643\n"
     ]
    },
    {
     "name": "stderr",
     "output_type": "stream",
     "text": [
      "\u001b[33m\u001b[1m┌ \u001b[22m\u001b[39m\u001b[33m\u001b[1mWarning: \u001b[22m\u001b[39mFor parameter -0.0966428 The Poincaré surface of section did not have any points!\n",
      "\u001b[33m\u001b[1m└ \u001b[22m\u001b[39m\u001b[90m@ ChaosTools C:\\Users\\Alex\\.julia\\packages\\ChaosTools\\PHPDF\\src\\orbitdiagrams\\produce_orbitdiagram.jl:75\u001b[39m\n"
     ]
    },
    {
     "name": "stdout",
     "output_type": "stream",
     "text": [
      "parameter = -0.0966432"
     ]
    },
    {
     "name": "stderr",
     "output_type": "stream",
     "text": [
      "\u001b[33m\u001b[1m┌ \u001b[22m\u001b[39m\u001b[33m\u001b[1mWarning: \u001b[22m\u001b[39mFor parameter -0.096643 The Poincaré surface of section did not have any points!\n",
      "\u001b[33m\u001b[1m└ \u001b[22m\u001b[39m\u001b[90m@ ChaosTools C:\\Users\\Alex\\.julia\\packages\\ChaosTools\\PHPDF\\src\\orbitdiagrams\\produce_orbitdiagram.jl:75\u001b[39m\n"
     ]
    },
    {
     "name": "stdout",
     "output_type": "stream",
     "text": [
      "\n",
      "parameter = -0.0966434"
     ]
    },
    {
     "name": "stderr",
     "output_type": "stream",
     "text": [
      "\u001b[33m\u001b[1m┌ \u001b[22m\u001b[39m\u001b[33m\u001b[1mWarning: \u001b[22m\u001b[39mFor parameter -0.0966432 The Poincaré surface of section did not have any points!\n",
      "\u001b[33m\u001b[1m└ \u001b[22m\u001b[39m\u001b[90m@ ChaosTools C:\\Users\\Alex\\.julia\\packages\\ChaosTools\\PHPDF\\src\\orbitdiagrams\\produce_orbitdiagram.jl:75\u001b[39m\n"
     ]
    },
    {
     "name": "stdout",
     "output_type": "stream",
     "text": [
      "\n",
      "parameter = -0.0966436"
     ]
    },
    {
     "name": "stderr",
     "output_type": "stream",
     "text": [
      "\u001b[33m\u001b[1m┌ \u001b[22m\u001b[39m\u001b[33m\u001b[1mWarning: \u001b[22m\u001b[39mFor parameter -0.0966434 The Poincaré surface of section did not have any points!\n",
      "\u001b[33m\u001b[1m└ \u001b[22m\u001b[39m\u001b[90m@ ChaosTools C:\\Users\\Alex\\.julia\\packages\\ChaosTools\\PHPDF\\src\\orbitdiagrams\\produce_orbitdiagram.jl:75\u001b[39m\n"
     ]
    },
    {
     "name": "stdout",
     "output_type": "stream",
     "text": [
      "\n",
      "parameter = -0.0966438"
     ]
    },
    {
     "name": "stderr",
     "output_type": "stream",
     "text": [
      "\u001b[33m\u001b[1m┌ \u001b[22m\u001b[39m\u001b[33m\u001b[1mWarning: \u001b[22m\u001b[39mFor parameter -0.0966436 The Poincaré surface of section did not have any points!\n",
      "\u001b[33m\u001b[1m└ \u001b[22m\u001b[39m\u001b[90m@ ChaosTools C:\\Users\\Alex\\.julia\\packages\\ChaosTools\\PHPDF\\src\\orbitdiagrams\\produce_orbitdiagram.jl:75\u001b[39m\n"
     ]
    },
    {
     "name": "stdout",
     "output_type": "stream",
     "text": [
      "\n",
      "parameter = -0.096644\n"
     ]
    },
    {
     "name": "stderr",
     "output_type": "stream",
     "text": [
      "\u001b[33m\u001b[1m┌ \u001b[22m\u001b[39m\u001b[33m\u001b[1mWarning: \u001b[22m\u001b[39mFor parameter -0.0966438 The Poincaré surface of section did not have any points!\n",
      "\u001b[33m\u001b[1m└ \u001b[22m\u001b[39m\u001b[90m@ ChaosTools C:\\Users\\Alex\\.julia\\packages\\ChaosTools\\PHPDF\\src\\orbitdiagrams\\produce_orbitdiagram.jl:75\u001b[39m\n"
     ]
    },
    {
     "name": "stdout",
     "output_type": "stream",
     "text": [
      "parameter = -0.0966442"
     ]
    },
    {
     "name": "stderr",
     "output_type": "stream",
     "text": [
      "\u001b[33m\u001b[1m┌ \u001b[22m\u001b[39m\u001b[33m\u001b[1mWarning: \u001b[22m\u001b[39mFor parameter -0.096644 The Poincaré surface of section did not have any points!\n",
      "\u001b[33m\u001b[1m└ \u001b[22m\u001b[39m\u001b[90m@ ChaosTools C:\\Users\\Alex\\.julia\\packages\\ChaosTools\\PHPDF\\src\\orbitdiagrams\\produce_orbitdiagram.jl:75\u001b[39m\n"
     ]
    },
    {
     "name": "stdout",
     "output_type": "stream",
     "text": [
      "\n",
      "parameter = -0.0966444"
     ]
    },
    {
     "name": "stderr",
     "output_type": "stream",
     "text": [
      "\u001b[33m\u001b[1m┌ \u001b[22m\u001b[39m\u001b[33m\u001b[1mWarning: \u001b[22m\u001b[39mFor parameter -0.0966442 The Poincaré surface of section did not have any points!\n",
      "\u001b[33m\u001b[1m└ \u001b[22m\u001b[39m\u001b[90m@ ChaosTools C:\\Users\\Alex\\.julia\\packages\\ChaosTools\\PHPDF\\src\\orbitdiagrams\\produce_orbitdiagram.jl:75\u001b[39m\n"
     ]
    },
    {
     "name": "stdout",
     "output_type": "stream",
     "text": [
      "\n",
      "parameter = -0.0966446\n"
     ]
    },
    {
     "name": "stderr",
     "output_type": "stream",
     "text": [
      "\u001b[33m\u001b[1m┌ \u001b[22m\u001b[39m\u001b[33m\u001b[1mWarning: \u001b[22m\u001b[39mFor parameter -0.0966444 The Poincaré surface of section did not have any points!\n",
      "\u001b[33m\u001b[1m└ \u001b[22m\u001b[39m\u001b[90m@ ChaosTools C:\\Users\\Alex\\.julia\\packages\\ChaosTools\\PHPDF\\src\\orbitdiagrams\\produce_orbitdiagram.jl:75\u001b[39m\n"
     ]
    },
    {
     "name": "stdout",
     "output_type": "stream",
     "text": [
      "parameter = -0.0966448\n"
     ]
    },
    {
     "name": "stderr",
     "output_type": "stream",
     "text": [
      "\u001b[33m\u001b[1m┌ \u001b[22m\u001b[39m\u001b[33m\u001b[1mWarning: \u001b[22m\u001b[39mFor parameter -0.0966446 The Poincaré surface of section did not have any points!\n",
      "\u001b[33m\u001b[1m└ \u001b[22m\u001b[39m\u001b[90m@ ChaosTools C:\\Users\\Alex\\.julia\\packages\\ChaosTools\\PHPDF\\src\\orbitdiagrams\\produce_orbitdiagram.jl:75\u001b[39m\n",
      "\u001b[33m\u001b[1m┌ \u001b[22m\u001b[39m\u001b[33m\u001b[1mWarning: \u001b[22m\u001b[39mFor parameter -0.0966448 The Poincaré surface of section did not have any points!\n",
      "\u001b[33m\u001b[1m└ \u001b[22m\u001b[39m\u001b[90m@ ChaosTools C:\\Users\\Alex\\.julia\\packages\\ChaosTools\\PHPDF\\src\\orbitdiagrams\\produce_orbitdiagram.jl:75\u001b[39m\n"
     ]
    },
    {
     "name": "stdout",
     "output_type": "stream",
     "text": [
      "parameter = -0.096645\n",
      "parameter = -0.0966452\n"
     ]
    },
    {
     "name": "stderr",
     "output_type": "stream",
     "text": [
      "\u001b[33m\u001b[1m┌ \u001b[22m\u001b[39m\u001b[33m\u001b[1mWarning: \u001b[22m\u001b[39mFor parameter -0.096645 The Poincaré surface of section did not have any points!\n",
      "\u001b[33m\u001b[1m└ \u001b[22m\u001b[39m\u001b[90m@ ChaosTools C:\\Users\\Alex\\.julia\\packages\\ChaosTools\\PHPDF\\src\\orbitdiagrams\\produce_orbitdiagram.jl:75\u001b[39m\n"
     ]
    },
    {
     "name": "stdout",
     "output_type": "stream",
     "text": [
      "parameter = -0.0966454\n"
     ]
    },
    {
     "name": "stderr",
     "output_type": "stream",
     "text": [
      "\u001b[33m\u001b[1m┌ \u001b[22m\u001b[39m\u001b[33m\u001b[1mWarning: \u001b[22m\u001b[39mFor parameter -0.0966452 The Poincaré surface of section did not have any points!\n",
      "\u001b[33m\u001b[1m└ \u001b[22m\u001b[39m\u001b[90m@ ChaosTools C:\\Users\\Alex\\.julia\\packages\\ChaosTools\\PHPDF\\src\\orbitdiagrams\\produce_orbitdiagram.jl:75\u001b[39m\n"
     ]
    },
    {
     "name": "stdout",
     "output_type": "stream",
     "text": [
      "parameter = -0.0966456\n"
     ]
    },
    {
     "name": "stderr",
     "output_type": "stream",
     "text": [
      "\u001b[33m\u001b[1m┌ \u001b[22m\u001b[39m\u001b[33m\u001b[1mWarning: \u001b[22m\u001b[39mFor parameter -0.0966454 The Poincaré surface of section did not have any points!\n",
      "\u001b[33m\u001b[1m└ \u001b[22m\u001b[39m\u001b[90m@ ChaosTools C:\\Users\\Alex\\.julia\\packages\\ChaosTools\\PHPDF\\src\\orbitdiagrams\\produce_orbitdiagram.jl:75\u001b[39m\n"
     ]
    },
    {
     "name": "stdout",
     "output_type": "stream",
     "text": [
      "parameter = -0.0966458"
     ]
    },
    {
     "name": "stderr",
     "output_type": "stream",
     "text": [
      "\u001b[33m\u001b[1m┌ \u001b[22m\u001b[39m\u001b[33m\u001b[1mWarning: \u001b[22m\u001b[39mFor parameter -0.0966456 The Poincaré surface of section did not have any points!\n",
      "\u001b[33m\u001b[1m└ \u001b[22m\u001b[39m\u001b[90m@ ChaosTools C:\\Users\\Alex\\.julia\\packages\\ChaosTools\\PHPDF\\src\\orbitdiagrams\\produce_orbitdiagram.jl:75\u001b[39m\n"
     ]
    },
    {
     "name": "stdout",
     "output_type": "stream",
     "text": [
      "\n",
      "parameter = -0.096646"
     ]
    },
    {
     "name": "stderr",
     "output_type": "stream",
     "text": [
      "\u001b[33m\u001b[1m┌ \u001b[22m\u001b[39m\u001b[33m\u001b[1mWarning: \u001b[22m\u001b[39mFor parameter -0.0966458 The Poincaré surface of section did not have any points!\n",
      "\u001b[33m\u001b[1m└ \u001b[22m\u001b[39m\u001b[90m@ ChaosTools C:\\Users\\Alex\\.julia\\packages\\ChaosTools\\PHPDF\\src\\orbitdiagrams\\produce_orbitdiagram.jl:75\u001b[39m\n"
     ]
    },
    {
     "name": "stdout",
     "output_type": "stream",
     "text": [
      "\n",
      "parameter = -0.0966462"
     ]
    },
    {
     "name": "stderr",
     "output_type": "stream",
     "text": [
      "\u001b[33m\u001b[1m┌ \u001b[22m\u001b[39m\u001b[33m\u001b[1mWarning: \u001b[22m\u001b[39mFor parameter -0.096646 The Poincaré surface of section did not have any points!\n",
      "\u001b[33m\u001b[1m└ \u001b[22m\u001b[39m\u001b[90m@ ChaosTools C:\\Users\\Alex\\.julia\\packages\\ChaosTools\\PHPDF\\src\\orbitdiagrams\\produce_orbitdiagram.jl:75\u001b[39m\n"
     ]
    },
    {
     "name": "stdout",
     "output_type": "stream",
     "text": [
      "\n",
      "parameter = -0.0966464\n"
     ]
    },
    {
     "name": "stderr",
     "output_type": "stream",
     "text": [
      "\u001b[33m\u001b[1m┌ \u001b[22m\u001b[39m\u001b[33m\u001b[1mWarning: \u001b[22m\u001b[39mFor parameter -0.0966462 The Poincaré surface of section did not have any points!\n",
      "\u001b[33m\u001b[1m└ \u001b[22m\u001b[39m\u001b[90m@ ChaosTools C:\\Users\\Alex\\.julia\\packages\\ChaosTools\\PHPDF\\src\\orbitdiagrams\\produce_orbitdiagram.jl:75\u001b[39m\n"
     ]
    },
    {
     "name": "stdout",
     "output_type": "stream",
     "text": [
      "parameter = -0.0966466\n"
     ]
    },
    {
     "name": "stderr",
     "output_type": "stream",
     "text": [
      "\u001b[33m\u001b[1m┌ \u001b[22m\u001b[39m\u001b[33m\u001b[1mWarning: \u001b[22m\u001b[39mFor parameter -0.0966464 The Poincaré surface of section did not have any points!\n",
      "\u001b[33m\u001b[1m└ \u001b[22m\u001b[39m\u001b[90m@ ChaosTools C:\\Users\\Alex\\.julia\\packages\\ChaosTools\\PHPDF\\src\\orbitdiagrams\\produce_orbitdiagram.jl:75\u001b[39m\n"
     ]
    },
    {
     "name": "stdout",
     "output_type": "stream",
     "text": [
      "parameter = -0.0966468"
     ]
    },
    {
     "name": "stderr",
     "output_type": "stream",
     "text": [
      "\u001b[33m\u001b[1m┌ \u001b[22m\u001b[39m\u001b[33m\u001b[1mWarning: \u001b[22m\u001b[39mFor parameter -0.0966466 The Poincaré surface of section did not have any points!\n",
      "\u001b[33m\u001b[1m└ \u001b[22m\u001b[39m\u001b[90m@ ChaosTools C:\\Users\\Alex\\.julia\\packages\\ChaosTools\\PHPDF\\src\\orbitdiagrams\\produce_orbitdiagram.jl:75\u001b[39m\n"
     ]
    },
    {
     "name": "stdout",
     "output_type": "stream",
     "text": [
      "\n",
      "parameter = -0.096647"
     ]
    },
    {
     "name": "stderr",
     "output_type": "stream",
     "text": [
      "\u001b[33m\u001b[1m┌ \u001b[22m\u001b[39m\u001b[33m\u001b[1mWarning: \u001b[22m\u001b[39mFor parameter -0.0966468 The Poincaré surface of section did not have any points!\n",
      "\u001b[33m\u001b[1m└ \u001b[22m\u001b[39m\u001b[90m@ ChaosTools C:\\Users\\Alex\\.julia\\packages\\ChaosTools\\PHPDF\\src\\orbitdiagrams\\produce_orbitdiagram.jl:75\u001b[39m\n"
     ]
    },
    {
     "name": "stdout",
     "output_type": "stream",
     "text": [
      "\n",
      "parameter = -0.0966472\n"
     ]
    },
    {
     "name": "stderr",
     "output_type": "stream",
     "text": [
      "\u001b[33m\u001b[1m┌ \u001b[22m\u001b[39m\u001b[33m\u001b[1mWarning: \u001b[22m\u001b[39mFor parameter -0.096647 The Poincaré surface of section did not have any points!\n",
      "\u001b[33m\u001b[1m└ \u001b[22m\u001b[39m\u001b[90m@ ChaosTools C:\\Users\\Alex\\.julia\\packages\\ChaosTools\\PHPDF\\src\\orbitdiagrams\\produce_orbitdiagram.jl:75\u001b[39m\n"
     ]
    },
    {
     "name": "stdout",
     "output_type": "stream",
     "text": [
      "parameter = -0.0966474"
     ]
    },
    {
     "name": "stderr",
     "output_type": "stream",
     "text": [
      "\u001b[33m\u001b[1m┌ \u001b[22m\u001b[39m\u001b[33m\u001b[1mWarning: \u001b[22m\u001b[39mFor parameter -0.0966472 The Poincaré surface of section did not have any points!\n",
      "\u001b[33m\u001b[1m└ \u001b[22m\u001b[39m\u001b[90m@ ChaosTools C:\\Users\\Alex\\.julia\\packages\\ChaosTools\\PHPDF\\src\\orbitdiagrams\\produce_orbitdiagram.jl:75\u001b[39m\n"
     ]
    },
    {
     "name": "stdout",
     "output_type": "stream",
     "text": [
      "\n",
      "parameter = -0.0966476"
     ]
    },
    {
     "name": "stderr",
     "output_type": "stream",
     "text": [
      "\u001b[33m\u001b[1m┌ \u001b[22m\u001b[39m\u001b[33m\u001b[1mWarning: \u001b[22m\u001b[39mFor parameter -0.0966474 The Poincaré surface of section did not have any points!\n",
      "\u001b[33m\u001b[1m└ \u001b[22m\u001b[39m\u001b[90m@ ChaosTools C:\\Users\\Alex\\.julia\\packages\\ChaosTools\\PHPDF\\src\\orbitdiagrams\\produce_orbitdiagram.jl:75\u001b[39m\n"
     ]
    },
    {
     "name": "stdout",
     "output_type": "stream",
     "text": [
      "\n"
     ]
    },
    {
     "name": "stderr",
     "output_type": "stream",
     "text": [
      "\u001b[33m\u001b[1m┌ \u001b[22m\u001b[39m\u001b[33m\u001b[1mWarning: \u001b[22m\u001b[39mFor parameter -0.0966476 The Poincaré surface of section did not have any points!\n",
      "\u001b[33m\u001b[1m└ \u001b[22m\u001b[39m\u001b[90m@ ChaosTools C:\\Users\\Alex\\.julia\\packages\\ChaosTools\\PHPDF\\src\\orbitdiagrams\\produce_orbitdiagram.jl:75\u001b[39m\n"
     ]
    },
    {
     "name": "stdout",
     "output_type": "stream",
     "text": [
      "parameter = -0.0966478\n",
      "parameter = -0.096648\n"
     ]
    },
    {
     "name": "stderr",
     "output_type": "stream",
     "text": [
      "\u001b[33m\u001b[1m┌ \u001b[22m\u001b[39m\u001b[33m\u001b[1mWarning: \u001b[22m\u001b[39mFor parameter -0.0966478 The Poincaré surface of section did not have any points!\n",
      "\u001b[33m\u001b[1m└ \u001b[22m\u001b[39m\u001b[90m@ ChaosTools C:\\Users\\Alex\\.julia\\packages\\ChaosTools\\PHPDF\\src\\orbitdiagrams\\produce_orbitdiagram.jl:75\u001b[39m\n"
     ]
    },
    {
     "name": "stdout",
     "output_type": "stream",
     "text": [
      "parameter = -0.0966482"
     ]
    },
    {
     "name": "stderr",
     "output_type": "stream",
     "text": [
      "\u001b[33m\u001b[1m┌ \u001b[22m\u001b[39m\u001b[33m\u001b[1mWarning: \u001b[22m\u001b[39mFor parameter -0.096648 The Poincaré surface of section did not have any points!\n",
      "\u001b[33m\u001b[1m└ \u001b[22m\u001b[39m\u001b[90m@ ChaosTools C:\\Users\\Alex\\.julia\\packages\\ChaosTools\\PHPDF\\src\\orbitdiagrams\\produce_orbitdiagram.jl:75\u001b[39m\n"
     ]
    },
    {
     "name": "stdout",
     "output_type": "stream",
     "text": [
      "\n",
      "parameter = -0.0966484"
     ]
    },
    {
     "name": "stderr",
     "output_type": "stream",
     "text": [
      "\u001b[33m\u001b[1m┌ \u001b[22m\u001b[39m\u001b[33m\u001b[1mWarning: \u001b[22m\u001b[39mFor parameter -0.0966482 The Poincaré surface of section did not have any points!\n",
      "\u001b[33m\u001b[1m└ \u001b[22m\u001b[39m\u001b[90m@ ChaosTools C:\\Users\\Alex\\.julia\\packages\\ChaosTools\\PHPDF\\src\\orbitdiagrams\\produce_orbitdiagram.jl:75\u001b[39m\n"
     ]
    },
    {
     "name": "stdout",
     "output_type": "stream",
     "text": [
      "\n",
      "parameter = -0.0966486"
     ]
    },
    {
     "name": "stderr",
     "output_type": "stream",
     "text": [
      "\u001b[33m\u001b[1m┌ \u001b[22m\u001b[39m\u001b[33m\u001b[1mWarning: \u001b[22m\u001b[39mFor parameter -0.0966484 The Poincaré surface of section did not have any points!\n",
      "\u001b[33m\u001b[1m└ \u001b[22m\u001b[39m\u001b[90m@ ChaosTools C:\\Users\\Alex\\.julia\\packages\\ChaosTools\\PHPDF\\src\\orbitdiagrams\\produce_orbitdiagram.jl:75\u001b[39m\n"
     ]
    },
    {
     "name": "stdout",
     "output_type": "stream",
     "text": [
      "\n",
      "parameter = -0.0966488\n"
     ]
    },
    {
     "name": "stderr",
     "output_type": "stream",
     "text": [
      "\u001b[33m\u001b[1m┌ \u001b[22m\u001b[39m\u001b[33m\u001b[1mWarning: \u001b[22m\u001b[39mFor parameter -0.0966486 The Poincaré surface of section did not have any points!\n",
      "\u001b[33m\u001b[1m└ \u001b[22m\u001b[39m\u001b[90m@ ChaosTools C:\\Users\\Alex\\.julia\\packages\\ChaosTools\\PHPDF\\src\\orbitdiagrams\\produce_orbitdiagram.jl:75\u001b[39m\n"
     ]
    },
    {
     "name": "stdout",
     "output_type": "stream",
     "text": [
      "parameter = -0.096649"
     ]
    },
    {
     "name": "stderr",
     "output_type": "stream",
     "text": [
      "\u001b[33m\u001b[1m┌ \u001b[22m\u001b[39m\u001b[33m\u001b[1mWarning: \u001b[22m\u001b[39mFor parameter -0.0966488 The Poincaré surface of section did not have any points!\n",
      "\u001b[33m\u001b[1m└ \u001b[22m\u001b[39m\u001b[90m@ ChaosTools C:\\Users\\Alex\\.julia\\packages\\ChaosTools\\PHPDF\\src\\orbitdiagrams\\produce_orbitdiagram.jl:75\u001b[39m\n"
     ]
    },
    {
     "name": "stdout",
     "output_type": "stream",
     "text": [
      "\n",
      "parameter = -0.0966492"
     ]
    },
    {
     "name": "stderr",
     "output_type": "stream",
     "text": [
      "\u001b[33m\u001b[1m┌ \u001b[22m\u001b[39m\u001b[33m\u001b[1mWarning: \u001b[22m\u001b[39mFor parameter -0.096649 The Poincaré surface of section did not have any points!\n",
      "\u001b[33m\u001b[1m└ \u001b[22m\u001b[39m\u001b[90m@ ChaosTools C:\\Users\\Alex\\.julia\\packages\\ChaosTools\\PHPDF\\src\\orbitdiagrams\\produce_orbitdiagram.jl:75\u001b[39m\n"
     ]
    },
    {
     "name": "stdout",
     "output_type": "stream",
     "text": [
      "\n",
      "parameter = -0.0966494\n"
     ]
    },
    {
     "name": "stderr",
     "output_type": "stream",
     "text": [
      "\u001b[33m\u001b[1m┌ \u001b[22m\u001b[39m\u001b[33m\u001b[1mWarning: \u001b[22m\u001b[39mFor parameter -0.0966492 The Poincaré surface of section did not have any points!\n",
      "\u001b[33m\u001b[1m└ \u001b[22m\u001b[39m\u001b[90m@ ChaosTools C:\\Users\\Alex\\.julia\\packages\\ChaosTools\\PHPDF\\src\\orbitdiagrams\\produce_orbitdiagram.jl:75\u001b[39m\n"
     ]
    },
    {
     "name": "stdout",
     "output_type": "stream",
     "text": [
      "parameter = -0.0966496"
     ]
    },
    {
     "name": "stderr",
     "output_type": "stream",
     "text": [
      "\u001b[33m\u001b[1m┌ \u001b[22m\u001b[39m\u001b[33m\u001b[1mWarning: \u001b[22m\u001b[39mFor parameter -0.0966494 The Poincaré surface of section did not have any points!\n",
      "\u001b[33m\u001b[1m└ \u001b[22m\u001b[39m\u001b[90m@ ChaosTools C:\\Users\\Alex\\.julia\\packages\\ChaosTools\\PHPDF\\src\\orbitdiagrams\\produce_orbitdiagram.jl:75\u001b[39m\n"
     ]
    },
    {
     "name": "stdout",
     "output_type": "stream",
     "text": [
      "\n",
      "parameter = -0.0966498\n"
     ]
    },
    {
     "name": "stderr",
     "output_type": "stream",
     "text": [
      "\u001b[33m\u001b[1m┌ \u001b[22m\u001b[39m\u001b[33m\u001b[1mWarning: \u001b[22m\u001b[39mFor parameter -0.0966496 The Poincaré surface of section did not have any points!\n",
      "\u001b[33m\u001b[1m└ \u001b[22m\u001b[39m\u001b[90m@ ChaosTools C:\\Users\\Alex\\.julia\\packages\\ChaosTools\\PHPDF\\src\\orbitdiagrams\\produce_orbitdiagram.jl:75\u001b[39m\n"
     ]
    },
    {
     "name": "stdout",
     "output_type": "stream",
     "text": [
      "parameter = -0.09665"
     ]
    },
    {
     "name": "stderr",
     "output_type": "stream",
     "text": [
      "\u001b[33m\u001b[1m┌ \u001b[22m\u001b[39m\u001b[33m\u001b[1mWarning: \u001b[22m\u001b[39mFor parameter -0.0966498 The Poincaré surface of section did not have any points!\n",
      "\u001b[33m\u001b[1m└ \u001b[22m\u001b[39m\u001b[90m@ ChaosTools C:\\Users\\Alex\\.julia\\packages\\ChaosTools\\PHPDF\\src\\orbitdiagrams\\produce_orbitdiagram.jl:75\u001b[39m\n"
     ]
    },
    {
     "name": "stdout",
     "output_type": "stream",
     "text": [
      "\n",
      "parameter = -0.0966502"
     ]
    },
    {
     "name": "stderr",
     "output_type": "stream",
     "text": [
      "\u001b[33m\u001b[1m┌ \u001b[22m\u001b[39m\u001b[33m\u001b[1mWarning: \u001b[22m\u001b[39mFor parameter -0.09665 The Poincaré surface of section did not have any points!\n",
      "\u001b[33m\u001b[1m└ \u001b[22m\u001b[39m\u001b[90m@ ChaosTools C:\\Users\\Alex\\.julia\\packages\\ChaosTools\\PHPDF\\src\\orbitdiagrams\\produce_orbitdiagram.jl:75\u001b[39m\n"
     ]
    },
    {
     "name": "stdout",
     "output_type": "stream",
     "text": [
      "\n",
      "parameter = -0.0966504\n"
     ]
    },
    {
     "name": "stderr",
     "output_type": "stream",
     "text": [
      "\u001b[33m\u001b[1m┌ \u001b[22m\u001b[39m\u001b[33m\u001b[1mWarning: \u001b[22m\u001b[39mFor parameter -0.0966502 The Poincaré surface of section did not have any points!\n",
      "\u001b[33m\u001b[1m└ \u001b[22m\u001b[39m\u001b[90m@ ChaosTools C:\\Users\\Alex\\.julia\\packages\\ChaosTools\\PHPDF\\src\\orbitdiagrams\\produce_orbitdiagram.jl:75\u001b[39m\n"
     ]
    },
    {
     "name": "stdout",
     "output_type": "stream",
     "text": [
      "parameter = -0.0966506"
     ]
    },
    {
     "name": "stderr",
     "output_type": "stream",
     "text": [
      "\u001b[33m\u001b[1m┌ \u001b[22m\u001b[39m\u001b[33m\u001b[1mWarning: \u001b[22m\u001b[39mFor parameter -0.0966504 The Poincaré surface of section did not have any points!\n",
      "\u001b[33m\u001b[1m└ \u001b[22m\u001b[39m\u001b[90m@ ChaosTools C:\\Users\\Alex\\.julia\\packages\\ChaosTools\\PHPDF\\src\\orbitdiagrams\\produce_orbitdiagram.jl:75\u001b[39m\n"
     ]
    },
    {
     "name": "stdout",
     "output_type": "stream",
     "text": [
      "\n",
      "parameter = -0.0966508"
     ]
    },
    {
     "name": "stderr",
     "output_type": "stream",
     "text": [
      "\u001b[33m\u001b[1m┌ \u001b[22m\u001b[39m\u001b[33m\u001b[1mWarning: \u001b[22m\u001b[39mFor parameter -0.0966506 The Poincaré surface of section did not have any points!\n",
      "\u001b[33m\u001b[1m└ \u001b[22m\u001b[39m\u001b[90m@ ChaosTools C:\\Users\\Alex\\.julia\\packages\\ChaosTools\\PHPDF\\src\\orbitdiagrams\\produce_orbitdiagram.jl:75\u001b[39m\n"
     ]
    },
    {
     "name": "stdout",
     "output_type": "stream",
     "text": [
      "\n",
      "parameter = -0.096651"
     ]
    },
    {
     "name": "stderr",
     "output_type": "stream",
     "text": [
      "\u001b[33m\u001b[1m┌ \u001b[22m\u001b[39m\u001b[33m\u001b[1mWarning: \u001b[22m\u001b[39mFor parameter -0.0966508 The Poincaré surface of section did not have any points!\n",
      "\u001b[33m\u001b[1m└ \u001b[22m\u001b[39m\u001b[90m@ ChaosTools C:\\Users\\Alex\\.julia\\packages\\ChaosTools\\PHPDF\\src\\orbitdiagrams\\produce_orbitdiagram.jl:75\u001b[39m\n"
     ]
    },
    {
     "name": "stdout",
     "output_type": "stream",
     "text": [
      "\n",
      "parameter = -0.0966512\n"
     ]
    },
    {
     "name": "stderr",
     "output_type": "stream",
     "text": [
      "\u001b[33m\u001b[1m┌ \u001b[22m\u001b[39m\u001b[33m\u001b[1mWarning: \u001b[22m\u001b[39mFor parameter -0.096651 The Poincaré surface of section did not have any points!\n",
      "\u001b[33m\u001b[1m└ \u001b[22m\u001b[39m\u001b[90m@ ChaosTools C:\\Users\\Alex\\.julia\\packages\\ChaosTools\\PHPDF\\src\\orbitdiagrams\\produce_orbitdiagram.jl:75\u001b[39m\n"
     ]
    },
    {
     "name": "stdout",
     "output_type": "stream",
     "text": [
      "parameter = -0.0966514"
     ]
    },
    {
     "name": "stderr",
     "output_type": "stream",
     "text": [
      "\u001b[33m\u001b[1m┌ \u001b[22m\u001b[39m\u001b[33m\u001b[1mWarning: \u001b[22m\u001b[39mFor parameter -0.0966512 The Poincaré surface of section did not have any points!\n",
      "\u001b[33m\u001b[1m└ \u001b[22m\u001b[39m\u001b[90m@ ChaosTools C:\\Users\\Alex\\.julia\\packages\\ChaosTools\\PHPDF\\src\\orbitdiagrams\\produce_orbitdiagram.jl:75\u001b[39m\n"
     ]
    },
    {
     "name": "stdout",
     "output_type": "stream",
     "text": [
      "\n",
      "parameter = -0.0966516\n"
     ]
    },
    {
     "name": "stderr",
     "output_type": "stream",
     "text": [
      "\u001b[33m\u001b[1m┌ \u001b[22m\u001b[39m\u001b[33m\u001b[1mWarning: \u001b[22m\u001b[39mFor parameter -0.0966514 The Poincaré surface of section did not have any points!\n",
      "\u001b[33m\u001b[1m└ \u001b[22m\u001b[39m\u001b[90m@ ChaosTools C:\\Users\\Alex\\.julia\\packages\\ChaosTools\\PHPDF\\src\\orbitdiagrams\\produce_orbitdiagram.jl:75\u001b[39m\n"
     ]
    },
    {
     "name": "stdout",
     "output_type": "stream",
     "text": [
      "parameter = -0.0966518\n"
     ]
    },
    {
     "name": "stderr",
     "output_type": "stream",
     "text": [
      "\u001b[33m\u001b[1m┌ \u001b[22m\u001b[39m\u001b[33m\u001b[1mWarning: \u001b[22m\u001b[39mFor parameter -0.0966516 The Poincaré surface of section did not have any points!\n",
      "\u001b[33m\u001b[1m└ \u001b[22m\u001b[39m\u001b[90m@ ChaosTools C:\\Users\\Alex\\.julia\\packages\\ChaosTools\\PHPDF\\src\\orbitdiagrams\\produce_orbitdiagram.jl:75\u001b[39m\n",
      "\u001b[33m\u001b[1m┌ \u001b[22m\u001b[39m\u001b[33m\u001b[1mWarning: \u001b[22m\u001b[39mFor parameter -0.0966518 The Poincaré surface of section did not have any points!\n",
      "\u001b[33m\u001b[1m└ \u001b[22m\u001b[39m\u001b[90m@ ChaosTools C:\\Users\\Alex\\.julia\\packages\\ChaosTools\\PHPDF\\src\\orbitdiagrams\\produce_orbitdiagram.jl:75\u001b[39m\n"
     ]
    },
    {
     "name": "stdout",
     "output_type": "stream",
     "text": [
      "parameter = -0.096652\n",
      "parameter = -0.0966522\n"
     ]
    },
    {
     "name": "stderr",
     "output_type": "stream",
     "text": [
      "\u001b[33m\u001b[1m┌ \u001b[22m\u001b[39m\u001b[33m\u001b[1mWarning: \u001b[22m\u001b[39mFor parameter -0.096652 The Poincaré surface of section did not have any points!\n",
      "\u001b[33m\u001b[1m└ \u001b[22m\u001b[39m\u001b[90m@ ChaosTools C:\\Users\\Alex\\.julia\\packages\\ChaosTools\\PHPDF\\src\\orbitdiagrams\\produce_orbitdiagram.jl:75\u001b[39m\n"
     ]
    },
    {
     "name": "stdout",
     "output_type": "stream",
     "text": [
      "parameter = -0.0966524"
     ]
    },
    {
     "name": "stderr",
     "output_type": "stream",
     "text": [
      "\u001b[33m\u001b[1m┌ \u001b[22m\u001b[39m\u001b[33m\u001b[1mWarning: \u001b[22m\u001b[39mFor parameter -0.0966522 The Poincaré surface of section did not have any points!\n",
      "\u001b[33m\u001b[1m└ \u001b[22m\u001b[39m\u001b[90m@ ChaosTools C:\\Users\\Alex\\.julia\\packages\\ChaosTools\\PHPDF\\src\\orbitdiagrams\\produce_orbitdiagram.jl:75\u001b[39m\n"
     ]
    },
    {
     "name": "stdout",
     "output_type": "stream",
     "text": [
      "\n",
      "parameter = -0.0966526"
     ]
    },
    {
     "name": "stderr",
     "output_type": "stream",
     "text": [
      "\u001b[33m\u001b[1m┌ \u001b[22m\u001b[39m\u001b[33m\u001b[1mWarning: \u001b[22m\u001b[39mFor parameter -0.0966524 The Poincaré surface of section did not have any points!\n",
      "\u001b[33m\u001b[1m└ \u001b[22m\u001b[39m\u001b[90m@ ChaosTools C:\\Users\\Alex\\.julia\\packages\\ChaosTools\\PHPDF\\src\\orbitdiagrams\\produce_orbitdiagram.jl:75\u001b[39m\n"
     ]
    },
    {
     "name": "stdout",
     "output_type": "stream",
     "text": [
      "\n",
      "parameter = -0.0966528"
     ]
    },
    {
     "name": "stderr",
     "output_type": "stream",
     "text": [
      "\u001b[33m\u001b[1m┌ \u001b[22m\u001b[39m\u001b[33m\u001b[1mWarning: \u001b[22m\u001b[39mFor parameter -0.0966526 The Poincaré surface of section did not have any points!\n",
      "\u001b[33m\u001b[1m└ \u001b[22m\u001b[39m\u001b[90m@ ChaosTools C:\\Users\\Alex\\.julia\\packages\\ChaosTools\\PHPDF\\src\\orbitdiagrams\\produce_orbitdiagram.jl:75\u001b[39m\n"
     ]
    },
    {
     "name": "stdout",
     "output_type": "stream",
     "text": [
      "\n",
      "parameter = -0.096653"
     ]
    },
    {
     "name": "stderr",
     "output_type": "stream",
     "text": [
      "\u001b[33m\u001b[1m┌ \u001b[22m\u001b[39m\u001b[33m\u001b[1mWarning: \u001b[22m\u001b[39mFor parameter -0.0966528 The Poincaré surface of section did not have any points!\n",
      "\u001b[33m\u001b[1m└ \u001b[22m\u001b[39m\u001b[90m@ ChaosTools C:\\Users\\Alex\\.julia\\packages\\ChaosTools\\PHPDF\\src\\orbitdiagrams\\produce_orbitdiagram.jl:75\u001b[39m\n"
     ]
    },
    {
     "name": "stdout",
     "output_type": "stream",
     "text": [
      "\n",
      "parameter = -0.0966532"
     ]
    },
    {
     "name": "stderr",
     "output_type": "stream",
     "text": [
      "\u001b[33m\u001b[1m┌ \u001b[22m\u001b[39m\u001b[33m\u001b[1mWarning: \u001b[22m\u001b[39mFor parameter -0.096653 The Poincaré surface of section did not have any points!\n",
      "\u001b[33m\u001b[1m└ \u001b[22m\u001b[39m\u001b[90m@ ChaosTools C:\\Users\\Alex\\.julia\\packages\\ChaosTools\\PHPDF\\src\\orbitdiagrams\\produce_orbitdiagram.jl:75\u001b[39m\n"
     ]
    },
    {
     "name": "stdout",
     "output_type": "stream",
     "text": [
      "\n",
      "parameter = -0.0966534"
     ]
    },
    {
     "name": "stderr",
     "output_type": "stream",
     "text": [
      "\u001b[33m\u001b[1m┌ \u001b[22m\u001b[39m\u001b[33m\u001b[1mWarning: \u001b[22m\u001b[39mFor parameter -0.0966532 The Poincaré surface of section did not have any points!\n",
      "\u001b[33m\u001b[1m└ \u001b[22m\u001b[39m\u001b[90m@ ChaosTools C:\\Users\\Alex\\.julia\\packages\\ChaosTools\\PHPDF\\src\\orbitdiagrams\\produce_orbitdiagram.jl:75\u001b[39m\n"
     ]
    },
    {
     "name": "stdout",
     "output_type": "stream",
     "text": [
      "\n",
      "parameter = -0.0966536"
     ]
    },
    {
     "name": "stderr",
     "output_type": "stream",
     "text": [
      "\u001b[33m\u001b[1m┌ \u001b[22m\u001b[39m\u001b[33m\u001b[1mWarning: \u001b[22m\u001b[39mFor parameter -0.0966534 The Poincaré surface of section did not have any points!\n",
      "\u001b[33m\u001b[1m└ \u001b[22m\u001b[39m\u001b[90m@ ChaosTools C:\\Users\\Alex\\.julia\\packages\\ChaosTools\\PHPDF\\src\\orbitdiagrams\\produce_orbitdiagram.jl:75\u001b[39m\n"
     ]
    },
    {
     "name": "stdout",
     "output_type": "stream",
     "text": [
      "\n",
      "parameter = -0.0966538"
     ]
    },
    {
     "name": "stderr",
     "output_type": "stream",
     "text": [
      "\u001b[33m\u001b[1m┌ \u001b[22m\u001b[39m\u001b[33m\u001b[1mWarning: \u001b[22m\u001b[39mFor parameter -0.0966536 The Poincaré surface of section did not have any points!\n",
      "\u001b[33m\u001b[1m└ \u001b[22m\u001b[39m\u001b[90m@ ChaosTools C:\\Users\\Alex\\.julia\\packages\\ChaosTools\\PHPDF\\src\\orbitdiagrams\\produce_orbitdiagram.jl:75\u001b[39m\n"
     ]
    },
    {
     "name": "stdout",
     "output_type": "stream",
     "text": [
      "\n",
      "parameter = -0.096654"
     ]
    },
    {
     "name": "stderr",
     "output_type": "stream",
     "text": [
      "\u001b[33m\u001b[1m┌ \u001b[22m\u001b[39m\u001b[33m\u001b[1mWarning: \u001b[22m\u001b[39mFor parameter -0.0966538 The Poincaré surface of section did not have any points!\n",
      "\u001b[33m\u001b[1m└ \u001b[22m\u001b[39m\u001b[90m@ ChaosTools C:\\Users\\Alex\\.julia\\packages\\ChaosTools\\PHPDF\\src\\orbitdiagrams\\produce_orbitdiagram.jl:75\u001b[39m\n"
     ]
    },
    {
     "name": "stdout",
     "output_type": "stream",
     "text": [
      "\n",
      "parameter = -0.0966542\n"
     ]
    },
    {
     "name": "stderr",
     "output_type": "stream",
     "text": [
      "\u001b[33m\u001b[1m┌ \u001b[22m\u001b[39m\u001b[33m\u001b[1mWarning: \u001b[22m\u001b[39mFor parameter -0.096654 The Poincaré surface of section did not have any points!\n",
      "\u001b[33m\u001b[1m└ \u001b[22m\u001b[39m\u001b[90m@ ChaosTools C:\\Users\\Alex\\.julia\\packages\\ChaosTools\\PHPDF\\src\\orbitdiagrams\\produce_orbitdiagram.jl:75\u001b[39m\n"
     ]
    },
    {
     "name": "stdout",
     "output_type": "stream",
     "text": [
      "parameter = -0.0966544"
     ]
    },
    {
     "name": "stderr",
     "output_type": "stream",
     "text": [
      "\u001b[33m\u001b[1m┌ \u001b[22m\u001b[39m\u001b[33m\u001b[1mWarning: \u001b[22m\u001b[39mFor parameter -0.0966542 The Poincaré surface of section did not have any points!\n",
      "\u001b[33m\u001b[1m└ \u001b[22m\u001b[39m\u001b[90m@ ChaosTools C:\\Users\\Alex\\.julia\\packages\\ChaosTools\\PHPDF\\src\\orbitdiagrams\\produce_orbitdiagram.jl:75\u001b[39m\n"
     ]
    },
    {
     "name": "stdout",
     "output_type": "stream",
     "text": [
      "\n",
      "parameter = -0.0966546"
     ]
    },
    {
     "name": "stderr",
     "output_type": "stream",
     "text": [
      "\u001b[33m\u001b[1m┌ \u001b[22m\u001b[39m\u001b[33m\u001b[1mWarning: \u001b[22m\u001b[39mFor parameter -0.0966544 The Poincaré surface of section did not have any points!\n",
      "\u001b[33m\u001b[1m└ \u001b[22m\u001b[39m\u001b[90m@ ChaosTools C:\\Users\\Alex\\.julia\\packages\\ChaosTools\\PHPDF\\src\\orbitdiagrams\\produce_orbitdiagram.jl:75\u001b[39m\n"
     ]
    },
    {
     "name": "stdout",
     "output_type": "stream",
     "text": [
      "\n",
      "parameter = -0.0966548"
     ]
    },
    {
     "name": "stderr",
     "output_type": "stream",
     "text": [
      "\u001b[33m\u001b[1m┌ \u001b[22m\u001b[39m\u001b[33m\u001b[1mWarning: \u001b[22m\u001b[39mFor parameter -0.0966546 The Poincaré surface of section did not have any points!\n",
      "\u001b[33m\u001b[1m└ \u001b[22m\u001b[39m\u001b[90m@ ChaosTools C:\\Users\\Alex\\.julia\\packages\\ChaosTools\\PHPDF\\src\\orbitdiagrams\\produce_orbitdiagram.jl:75\u001b[39m\n"
     ]
    },
    {
     "name": "stdout",
     "output_type": "stream",
     "text": [
      "\n",
      "parameter = -0.096655\n"
     ]
    },
    {
     "name": "stderr",
     "output_type": "stream",
     "text": [
      "\u001b[33m\u001b[1m┌ \u001b[22m\u001b[39m\u001b[33m\u001b[1mWarning: \u001b[22m\u001b[39mFor parameter -0.0966548 The Poincaré surface of section did not have any points!\n",
      "\u001b[33m\u001b[1m└ \u001b[22m\u001b[39m\u001b[90m@ ChaosTools C:\\Users\\Alex\\.julia\\packages\\ChaosTools\\PHPDF\\src\\orbitdiagrams\\produce_orbitdiagram.jl:75\u001b[39m\n"
     ]
    },
    {
     "name": "stdout",
     "output_type": "stream",
     "text": [
      "parameter = -0.0966552\n"
     ]
    },
    {
     "name": "stderr",
     "output_type": "stream",
     "text": [
      "\u001b[33m\u001b[1m┌ \u001b[22m\u001b[39m\u001b[33m\u001b[1mWarning: \u001b[22m\u001b[39mFor parameter -0.096655 The Poincaré surface of section did not have any points!\n",
      "\u001b[33m\u001b[1m└ \u001b[22m\u001b[39m\u001b[90m@ ChaosTools C:\\Users\\Alex\\.julia\\packages\\ChaosTools\\PHPDF\\src\\orbitdiagrams\\produce_orbitdiagram.jl:75\u001b[39m\n"
     ]
    },
    {
     "name": "stdout",
     "output_type": "stream",
     "text": [
      "parameter = -0.0966554\n"
     ]
    },
    {
     "name": "stderr",
     "output_type": "stream",
     "text": [
      "\u001b[33m\u001b[1m┌ \u001b[22m\u001b[39m\u001b[33m\u001b[1mWarning: \u001b[22m\u001b[39mFor parameter -0.0966552 The Poincaré surface of section did not have any points!\n",
      "\u001b[33m\u001b[1m└ \u001b[22m\u001b[39m\u001b[90m@ ChaosTools C:\\Users\\Alex\\.julia\\packages\\ChaosTools\\PHPDF\\src\\orbitdiagrams\\produce_orbitdiagram.jl:75\u001b[39m\n"
     ]
    },
    {
     "name": "stdout",
     "output_type": "stream",
     "text": [
      "parameter = -0.0966556\n"
     ]
    },
    {
     "name": "stderr",
     "output_type": "stream",
     "text": [
      "\u001b[33m\u001b[1m┌ \u001b[22m\u001b[39m\u001b[33m\u001b[1mWarning: \u001b[22m\u001b[39mFor parameter -0.0966554 The Poincaré surface of section did not have any points!\n",
      "\u001b[33m\u001b[1m└ \u001b[22m\u001b[39m\u001b[90m@ ChaosTools C:\\Users\\Alex\\.julia\\packages\\ChaosTools\\PHPDF\\src\\orbitdiagrams\\produce_orbitdiagram.jl:75\u001b[39m\n"
     ]
    },
    {
     "name": "stdout",
     "output_type": "stream",
     "text": [
      "parameter = -0.0966558"
     ]
    },
    {
     "name": "stderr",
     "output_type": "stream",
     "text": [
      "\u001b[33m\u001b[1m┌ \u001b[22m\u001b[39m\u001b[33m\u001b[1mWarning: \u001b[22m\u001b[39mFor parameter -0.0966556 The Poincaré surface of section did not have any points!\n",
      "\u001b[33m\u001b[1m└ \u001b[22m\u001b[39m\u001b[90m@ ChaosTools C:\\Users\\Alex\\.julia\\packages\\ChaosTools\\PHPDF\\src\\orbitdiagrams\\produce_orbitdiagram.jl:75\u001b[39m\n"
     ]
    },
    {
     "name": "stdout",
     "output_type": "stream",
     "text": [
      "\n",
      "parameter = -0.096656"
     ]
    },
    {
     "name": "stderr",
     "output_type": "stream",
     "text": [
      "\u001b[33m\u001b[1m┌ \u001b[22m\u001b[39m\u001b[33m\u001b[1mWarning: \u001b[22m\u001b[39mFor parameter -0.0966558 The Poincaré surface of section did not have any points!\n",
      "\u001b[33m\u001b[1m└ \u001b[22m\u001b[39m\u001b[90m@ ChaosTools C:\\Users\\Alex\\.julia\\packages\\ChaosTools\\PHPDF\\src\\orbitdiagrams\\produce_orbitdiagram.jl:75\u001b[39m\n"
     ]
    },
    {
     "name": "stdout",
     "output_type": "stream",
     "text": [
      "\n",
      "parameter = -0.0966562"
     ]
    },
    {
     "name": "stderr",
     "output_type": "stream",
     "text": [
      "\u001b[33m\u001b[1m┌ \u001b[22m\u001b[39m\u001b[33m\u001b[1mWarning: \u001b[22m\u001b[39mFor parameter -0.096656 The Poincaré surface of section did not have any points!\n",
      "\u001b[33m\u001b[1m└ \u001b[22m\u001b[39m\u001b[90m@ ChaosTools C:\\Users\\Alex\\.julia\\packages\\ChaosTools\\PHPDF\\src\\orbitdiagrams\\produce_orbitdiagram.jl:75\u001b[39m\n"
     ]
    },
    {
     "name": "stdout",
     "output_type": "stream",
     "text": [
      "\n",
      "parameter = -0.0966564"
     ]
    },
    {
     "name": "stderr",
     "output_type": "stream",
     "text": [
      "\u001b[33m\u001b[1m┌ \u001b[22m\u001b[39m\u001b[33m\u001b[1mWarning: \u001b[22m\u001b[39mFor parameter -0.0966562 The Poincaré surface of section did not have any points!\n",
      "\u001b[33m\u001b[1m└ \u001b[22m\u001b[39m\u001b[90m@ ChaosTools C:\\Users\\Alex\\.julia\\packages\\ChaosTools\\PHPDF\\src\\orbitdiagrams\\produce_orbitdiagram.jl:75\u001b[39m\n"
     ]
    },
    {
     "name": "stdout",
     "output_type": "stream",
     "text": [
      "\n",
      "parameter = -0.0966566"
     ]
    },
    {
     "name": "stderr",
     "output_type": "stream",
     "text": [
      "\u001b[33m\u001b[1m┌ \u001b[22m\u001b[39m\u001b[33m\u001b[1mWarning: \u001b[22m\u001b[39mFor parameter -0.0966564 The Poincaré surface of section did not have any points!\n",
      "\u001b[33m\u001b[1m└ \u001b[22m\u001b[39m\u001b[90m@ ChaosTools C:\\Users\\Alex\\.julia\\packages\\ChaosTools\\PHPDF\\src\\orbitdiagrams\\produce_orbitdiagram.jl:75\u001b[39m\n"
     ]
    },
    {
     "name": "stdout",
     "output_type": "stream",
     "text": [
      "\n",
      "parameter = -0.0966568\n"
     ]
    },
    {
     "name": "stderr",
     "output_type": "stream",
     "text": [
      "\u001b[33m\u001b[1m┌ \u001b[22m\u001b[39m\u001b[33m\u001b[1mWarning: \u001b[22m\u001b[39mFor parameter -0.0966566 The Poincaré surface of section did not have any points!\n",
      "\u001b[33m\u001b[1m└ \u001b[22m\u001b[39m\u001b[90m@ ChaosTools C:\\Users\\Alex\\.julia\\packages\\ChaosTools\\PHPDF\\src\\orbitdiagrams\\produce_orbitdiagram.jl:75\u001b[39m\n"
     ]
    },
    {
     "name": "stdout",
     "output_type": "stream",
     "text": [
      "parameter = -0.096657\n"
     ]
    },
    {
     "name": "stderr",
     "output_type": "stream",
     "text": [
      "\u001b[33m\u001b[1m┌ \u001b[22m\u001b[39m\u001b[33m\u001b[1mWarning: \u001b[22m\u001b[39mFor parameter -0.0966568 The Poincaré surface of section did not have any points!\n",
      "\u001b[33m\u001b[1m└ \u001b[22m\u001b[39m\u001b[90m@ ChaosTools C:\\Users\\Alex\\.julia\\packages\\ChaosTools\\PHPDF\\src\\orbitdiagrams\\produce_orbitdiagram.jl:75\u001b[39m\n"
     ]
    },
    {
     "name": "stdout",
     "output_type": "stream",
     "text": [
      "parameter = -0.0966572"
     ]
    },
    {
     "name": "stderr",
     "output_type": "stream",
     "text": [
      "\u001b[33m\u001b[1m┌ \u001b[22m\u001b[39m\u001b[33m\u001b[1mWarning: \u001b[22m\u001b[39mFor parameter -0.096657 The Poincaré surface of section did not have any points!\n",
      "\u001b[33m\u001b[1m└ \u001b[22m\u001b[39m\u001b[90m@ ChaosTools C:\\Users\\Alex\\.julia\\packages\\ChaosTools\\PHPDF\\src\\orbitdiagrams\\produce_orbitdiagram.jl:75\u001b[39m\n"
     ]
    },
    {
     "name": "stdout",
     "output_type": "stream",
     "text": [
      "\n",
      "parameter = -0.0966574"
     ]
    },
    {
     "name": "stderr",
     "output_type": "stream",
     "text": [
      "\u001b[33m\u001b[1m┌ \u001b[22m\u001b[39m\u001b[33m\u001b[1mWarning: \u001b[22m\u001b[39mFor parameter -0.0966572 The Poincaré surface of section did not have any points!\n",
      "\u001b[33m\u001b[1m└ \u001b[22m\u001b[39m\u001b[90m@ ChaosTools C:\\Users\\Alex\\.julia\\packages\\ChaosTools\\PHPDF\\src\\orbitdiagrams\\produce_orbitdiagram.jl:75\u001b[39m\n"
     ]
    },
    {
     "name": "stdout",
     "output_type": "stream",
     "text": [
      "\n",
      "parameter = -0.0966576"
     ]
    },
    {
     "name": "stderr",
     "output_type": "stream",
     "text": [
      "\u001b[33m\u001b[1m┌ \u001b[22m\u001b[39m\u001b[33m\u001b[1mWarning: \u001b[22m\u001b[39mFor parameter -0.0966574 The Poincaré surface of section did not have any points!\n",
      "\u001b[33m\u001b[1m└ \u001b[22m\u001b[39m\u001b[90m@ ChaosTools C:\\Users\\Alex\\.julia\\packages\\ChaosTools\\PHPDF\\src\\orbitdiagrams\\produce_orbitdiagram.jl:75\u001b[39m\n"
     ]
    },
    {
     "name": "stdout",
     "output_type": "stream",
     "text": [
      "\n",
      "parameter = -0.0966578"
     ]
    },
    {
     "name": "stderr",
     "output_type": "stream",
     "text": [
      "\u001b[33m\u001b[1m┌ \u001b[22m\u001b[39m\u001b[33m\u001b[1mWarning: \u001b[22m\u001b[39mFor parameter -0.0966576 The Poincaré surface of section did not have any points!\n",
      "\u001b[33m\u001b[1m└ \u001b[22m\u001b[39m\u001b[90m@ ChaosTools C:\\Users\\Alex\\.julia\\packages\\ChaosTools\\PHPDF\\src\\orbitdiagrams\\produce_orbitdiagram.jl:75\u001b[39m\n"
     ]
    },
    {
     "name": "stdout",
     "output_type": "stream",
     "text": [
      "\n",
      "parameter = -0.096658\n"
     ]
    },
    {
     "name": "stderr",
     "output_type": "stream",
     "text": [
      "\u001b[33m\u001b[1m┌ \u001b[22m\u001b[39m\u001b[33m\u001b[1mWarning: \u001b[22m\u001b[39mFor parameter -0.0966578 The Poincaré surface of section did not have any points!\n",
      "\u001b[33m\u001b[1m└ \u001b[22m\u001b[39m\u001b[90m@ ChaosTools C:\\Users\\Alex\\.julia\\packages\\ChaosTools\\PHPDF\\src\\orbitdiagrams\\produce_orbitdiagram.jl:75\u001b[39m\n"
     ]
    },
    {
     "name": "stdout",
     "output_type": "stream",
     "text": [
      "parameter = -0.0966582\n"
     ]
    },
    {
     "name": "stderr",
     "output_type": "stream",
     "text": [
      "\u001b[33m\u001b[1m┌ \u001b[22m\u001b[39m\u001b[33m\u001b[1mWarning: \u001b[22m\u001b[39mFor parameter -0.096658 The Poincaré surface of section did not have any points!\n",
      "\u001b[33m\u001b[1m└ \u001b[22m\u001b[39m\u001b[90m@ ChaosTools C:\\Users\\Alex\\.julia\\packages\\ChaosTools\\PHPDF\\src\\orbitdiagrams\\produce_orbitdiagram.jl:75\u001b[39m\n"
     ]
    },
    {
     "name": "stdout",
     "output_type": "stream",
     "text": [
      "parameter = -0.0966584\n"
     ]
    },
    {
     "name": "stderr",
     "output_type": "stream",
     "text": [
      "\u001b[33m\u001b[1m┌ \u001b[22m\u001b[39m\u001b[33m\u001b[1mWarning: \u001b[22m\u001b[39mFor parameter -0.0966582 The Poincaré surface of section did not have any points!\n",
      "\u001b[33m\u001b[1m└ \u001b[22m\u001b[39m\u001b[90m@ ChaosTools C:\\Users\\Alex\\.julia\\packages\\ChaosTools\\PHPDF\\src\\orbitdiagrams\\produce_orbitdiagram.jl:75\u001b[39m\n"
     ]
    },
    {
     "name": "stdout",
     "output_type": "stream",
     "text": [
      "parameter = -0.0966586"
     ]
    },
    {
     "name": "stderr",
     "output_type": "stream",
     "text": [
      "\u001b[33m\u001b[1m┌ \u001b[22m\u001b[39m\u001b[33m\u001b[1mWarning: \u001b[22m\u001b[39mFor parameter -0.0966584 The Poincaré surface of section did not have any points!\n",
      "\u001b[33m\u001b[1m└ \u001b[22m\u001b[39m\u001b[90m@ ChaosTools C:\\Users\\Alex\\.julia\\packages\\ChaosTools\\PHPDF\\src\\orbitdiagrams\\produce_orbitdiagram.jl:75\u001b[39m\n"
     ]
    },
    {
     "name": "stdout",
     "output_type": "stream",
     "text": [
      "\n",
      "parameter = -0.0966588"
     ]
    },
    {
     "name": "stderr",
     "output_type": "stream",
     "text": [
      "\u001b[33m\u001b[1m┌ \u001b[22m\u001b[39m\u001b[33m\u001b[1mWarning: \u001b[22m\u001b[39mFor parameter -0.0966586 The Poincaré surface of section did not have any points!\n",
      "\u001b[33m\u001b[1m└ \u001b[22m\u001b[39m\u001b[90m@ ChaosTools C:\\Users\\Alex\\.julia\\packages\\ChaosTools\\PHPDF\\src\\orbitdiagrams\\produce_orbitdiagram.jl:75\u001b[39m\n"
     ]
    },
    {
     "name": "stdout",
     "output_type": "stream",
     "text": [
      "\n",
      "parameter = -0.096659\n"
     ]
    },
    {
     "name": "stderr",
     "output_type": "stream",
     "text": [
      "\u001b[33m\u001b[1m┌ \u001b[22m\u001b[39m\u001b[33m\u001b[1mWarning: \u001b[22m\u001b[39mFor parameter -0.0966588 The Poincaré surface of section did not have any points!\n",
      "\u001b[33m\u001b[1m└ \u001b[22m\u001b[39m\u001b[90m@ ChaosTools C:\\Users\\Alex\\.julia\\packages\\ChaosTools\\PHPDF\\src\\orbitdiagrams\\produce_orbitdiagram.jl:75\u001b[39m\n"
     ]
    },
    {
     "name": "stdout",
     "output_type": "stream",
     "text": [
      "parameter = -0.0966592"
     ]
    },
    {
     "name": "stderr",
     "output_type": "stream",
     "text": [
      "\u001b[33m\u001b[1m┌ \u001b[22m\u001b[39m\u001b[33m\u001b[1mWarning: \u001b[22m\u001b[39mFor parameter -0.096659 The Poincaré surface of section did not have any points!\n",
      "\u001b[33m\u001b[1m└ \u001b[22m\u001b[39m\u001b[90m@ ChaosTools C:\\Users\\Alex\\.julia\\packages\\ChaosTools\\PHPDF\\src\\orbitdiagrams\\produce_orbitdiagram.jl:75\u001b[39m\n"
     ]
    },
    {
     "name": "stdout",
     "output_type": "stream",
     "text": [
      "\n",
      "parameter = -0.0966594\n"
     ]
    },
    {
     "name": "stderr",
     "output_type": "stream",
     "text": [
      "\u001b[33m\u001b[1m┌ \u001b[22m\u001b[39m\u001b[33m\u001b[1mWarning: \u001b[22m\u001b[39mFor parameter -0.0966592 The Poincaré surface of section did not have any points!\n",
      "\u001b[33m\u001b[1m└ \u001b[22m\u001b[39m\u001b[90m@ ChaosTools C:\\Users\\Alex\\.julia\\packages\\ChaosTools\\PHPDF\\src\\orbitdiagrams\\produce_orbitdiagram.jl:75\u001b[39m\n"
     ]
    },
    {
     "name": "stdout",
     "output_type": "stream",
     "text": [
      "parameter = -0.0966596"
     ]
    },
    {
     "name": "stderr",
     "output_type": "stream",
     "text": [
      "\u001b[33m\u001b[1m┌ \u001b[22m\u001b[39m\u001b[33m\u001b[1mWarning: \u001b[22m\u001b[39mFor parameter -0.0966594 The Poincaré surface of section did not have any points!\n",
      "\u001b[33m\u001b[1m└ \u001b[22m\u001b[39m\u001b[90m@ ChaosTools C:\\Users\\Alex\\.julia\\packages\\ChaosTools\\PHPDF\\src\\orbitdiagrams\\produce_orbitdiagram.jl:75\u001b[39m\n"
     ]
    },
    {
     "name": "stdout",
     "output_type": "stream",
     "text": [
      "\n",
      "parameter = -0.0966598"
     ]
    },
    {
     "name": "stderr",
     "output_type": "stream",
     "text": [
      "\u001b[33m\u001b[1m┌ \u001b[22m\u001b[39m\u001b[33m\u001b[1mWarning: \u001b[22m\u001b[39mFor parameter -0.0966596 The Poincaré surface of section did not have any points!\n",
      "\u001b[33m\u001b[1m└ \u001b[22m\u001b[39m\u001b[90m@ ChaosTools C:\\Users\\Alex\\.julia\\packages\\ChaosTools\\PHPDF\\src\\orbitdiagrams\\produce_orbitdiagram.jl:75\u001b[39m\n"
     ]
    },
    {
     "name": "stdout",
     "output_type": "stream",
     "text": [
      "\n",
      "parameter = -0.09666"
     ]
    },
    {
     "name": "stderr",
     "output_type": "stream",
     "text": [
      "\u001b[33m\u001b[1m┌ \u001b[22m\u001b[39m\u001b[33m\u001b[1mWarning: \u001b[22m\u001b[39mFor parameter -0.0966598 The Poincaré surface of section did not have any points!\n",
      "\u001b[33m\u001b[1m└ \u001b[22m\u001b[39m\u001b[90m@ ChaosTools C:\\Users\\Alex\\.julia\\packages\\ChaosTools\\PHPDF\\src\\orbitdiagrams\\produce_orbitdiagram.jl:75\u001b[39m\n"
     ]
    },
    {
     "name": "stdout",
     "output_type": "stream",
     "text": [
      "\n",
      "parameter = -0.0966602"
     ]
    },
    {
     "name": "stderr",
     "output_type": "stream",
     "text": [
      "\u001b[33m\u001b[1m┌ \u001b[22m\u001b[39m\u001b[33m\u001b[1mWarning: \u001b[22m\u001b[39mFor parameter -0.09666 The Poincaré surface of section did not have any points!\n",
      "\u001b[33m\u001b[1m└ \u001b[22m\u001b[39m\u001b[90m@ ChaosTools C:\\Users\\Alex\\.julia\\packages\\ChaosTools\\PHPDF\\src\\orbitdiagrams\\produce_orbitdiagram.jl:75\u001b[39m\n"
     ]
    },
    {
     "name": "stdout",
     "output_type": "stream",
     "text": [
      "\n",
      "parameter = -0.0966604"
     ]
    },
    {
     "name": "stderr",
     "output_type": "stream",
     "text": [
      "\u001b[33m\u001b[1m┌ \u001b[22m\u001b[39m\u001b[33m\u001b[1mWarning: \u001b[22m\u001b[39mFor parameter -0.0966602 The Poincaré surface of section did not have any points!\n",
      "\u001b[33m\u001b[1m└ \u001b[22m\u001b[39m\u001b[90m@ ChaosTools C:\\Users\\Alex\\.julia\\packages\\ChaosTools\\PHPDF\\src\\orbitdiagrams\\produce_orbitdiagram.jl:75\u001b[39m\n"
     ]
    },
    {
     "name": "stdout",
     "output_type": "stream",
     "text": [
      "\n",
      "parameter = -0.0966606\n"
     ]
    },
    {
     "name": "stderr",
     "output_type": "stream",
     "text": [
      "\u001b[33m\u001b[1m┌ \u001b[22m\u001b[39m\u001b[33m\u001b[1mWarning: \u001b[22m\u001b[39mFor parameter -0.0966604 The Poincaré surface of section did not have any points!\n",
      "\u001b[33m\u001b[1m└ \u001b[22m\u001b[39m\u001b[90m@ ChaosTools C:\\Users\\Alex\\.julia\\packages\\ChaosTools\\PHPDF\\src\\orbitdiagrams\\produce_orbitdiagram.jl:75\u001b[39m\n"
     ]
    },
    {
     "name": "stdout",
     "output_type": "stream",
     "text": [
      "parameter = -0.0966608\n"
     ]
    },
    {
     "name": "stderr",
     "output_type": "stream",
     "text": [
      "\u001b[33m\u001b[1m┌ \u001b[22m\u001b[39m\u001b[33m\u001b[1mWarning: \u001b[22m\u001b[39mFor parameter -0.0966606 The Poincaré surface of section did not have any points!\n",
      "\u001b[33m\u001b[1m└ \u001b[22m\u001b[39m\u001b[90m@ ChaosTools C:\\Users\\Alex\\.julia\\packages\\ChaosTools\\PHPDF\\src\\orbitdiagrams\\produce_orbitdiagram.jl:75\u001b[39m\n"
     ]
    },
    {
     "name": "stdout",
     "output_type": "stream",
     "text": [
      "parameter = -0.096661"
     ]
    },
    {
     "name": "stderr",
     "output_type": "stream",
     "text": [
      "\u001b[33m\u001b[1m┌ \u001b[22m\u001b[39m\u001b[33m\u001b[1mWarning: \u001b[22m\u001b[39mFor parameter -0.0966608 The Poincaré surface of section did not have any points!\n",
      "\u001b[33m\u001b[1m└ \u001b[22m\u001b[39m\u001b[90m@ ChaosTools C:\\Users\\Alex\\.julia\\packages\\ChaosTools\\PHPDF\\src\\orbitdiagrams\\produce_orbitdiagram.jl:75\u001b[39m\n"
     ]
    },
    {
     "name": "stdout",
     "output_type": "stream",
     "text": [
      "\n",
      "parameter = -0.0966612"
     ]
    },
    {
     "name": "stderr",
     "output_type": "stream",
     "text": [
      "\u001b[33m\u001b[1m┌ \u001b[22m\u001b[39m\u001b[33m\u001b[1mWarning: \u001b[22m\u001b[39mFor parameter -0.096661 The Poincaré surface of section did not have any points!\n",
      "\u001b[33m\u001b[1m└ \u001b[22m\u001b[39m\u001b[90m@ ChaosTools C:\\Users\\Alex\\.julia\\packages\\ChaosTools\\PHPDF\\src\\orbitdiagrams\\produce_orbitdiagram.jl:75\u001b[39m\n"
     ]
    },
    {
     "name": "stdout",
     "output_type": "stream",
     "text": [
      "\n",
      "parameter = -0.0966614\n"
     ]
    },
    {
     "name": "stderr",
     "output_type": "stream",
     "text": [
      "\u001b[33m\u001b[1m┌ \u001b[22m\u001b[39m\u001b[33m\u001b[1mWarning: \u001b[22m\u001b[39mFor parameter -0.0966612 The Poincaré surface of section did not have any points!\n",
      "\u001b[33m\u001b[1m└ \u001b[22m\u001b[39m\u001b[90m@ ChaosTools C:\\Users\\Alex\\.julia\\packages\\ChaosTools\\PHPDF\\src\\orbitdiagrams\\produce_orbitdiagram.jl:75\u001b[39m\n"
     ]
    },
    {
     "name": "stdout",
     "output_type": "stream",
     "text": [
      "parameter = -0.0966616"
     ]
    },
    {
     "name": "stderr",
     "output_type": "stream",
     "text": [
      "\u001b[33m\u001b[1m┌ \u001b[22m\u001b[39m\u001b[33m\u001b[1mWarning: \u001b[22m\u001b[39mFor parameter -0.0966614 The Poincaré surface of section did not have any points!\n",
      "\u001b[33m\u001b[1m└ \u001b[22m\u001b[39m\u001b[90m@ ChaosTools C:\\Users\\Alex\\.julia\\packages\\ChaosTools\\PHPDF\\src\\orbitdiagrams\\produce_orbitdiagram.jl:75\u001b[39m\n"
     ]
    },
    {
     "name": "stdout",
     "output_type": "stream",
     "text": [
      "\n",
      "parameter = -0.0966618"
     ]
    },
    {
     "name": "stderr",
     "output_type": "stream",
     "text": [
      "\u001b[33m\u001b[1m┌ \u001b[22m\u001b[39m\u001b[33m\u001b[1mWarning: \u001b[22m\u001b[39mFor parameter -0.0966616 The Poincaré surface of section did not have any points!\n",
      "\u001b[33m\u001b[1m└ \u001b[22m\u001b[39m\u001b[90m@ ChaosTools C:\\Users\\Alex\\.julia\\packages\\ChaosTools\\PHPDF\\src\\orbitdiagrams\\produce_orbitdiagram.jl:75\u001b[39m\n"
     ]
    },
    {
     "name": "stdout",
     "output_type": "stream",
     "text": [
      "\n",
      "parameter = -0.096662"
     ]
    },
    {
     "name": "stderr",
     "output_type": "stream",
     "text": [
      "\u001b[33m\u001b[1m┌ \u001b[22m\u001b[39m\u001b[33m\u001b[1mWarning: \u001b[22m\u001b[39mFor parameter -0.0966618 The Poincaré surface of section did not have any points!\n",
      "\u001b[33m\u001b[1m└ \u001b[22m\u001b[39m\u001b[90m@ ChaosTools C:\\Users\\Alex\\.julia\\packages\\ChaosTools\\PHPDF\\src\\orbitdiagrams\\produce_orbitdiagram.jl:75\u001b[39m\n"
     ]
    },
    {
     "name": "stdout",
     "output_type": "stream",
     "text": [
      "\n"
     ]
    },
    {
     "name": "stderr",
     "output_type": "stream",
     "text": [
      "\u001b[33m\u001b[1m┌ \u001b[22m\u001b[39m\u001b[33m\u001b[1mWarning: \u001b[22m\u001b[39mFor parameter -0.096662 The Poincaré surface of section did not have any points!\n",
      "\u001b[33m\u001b[1m└ \u001b[22m\u001b[39m\u001b[90m@ ChaosTools C:\\Users\\Alex\\.julia\\packages\\ChaosTools\\PHPDF\\src\\orbitdiagrams\\produce_orbitdiagram.jl:75\u001b[39m\n"
     ]
    },
    {
     "name": "stdout",
     "output_type": "stream",
     "text": [
      "parameter = -0.0966622\n",
      "parameter = -0.0966624"
     ]
    },
    {
     "name": "stderr",
     "output_type": "stream",
     "text": [
      "\u001b[33m\u001b[1m┌ \u001b[22m\u001b[39m\u001b[33m\u001b[1mWarning: \u001b[22m\u001b[39mFor parameter -0.0966622 The Poincaré surface of section did not have any points!\n",
      "\u001b[33m\u001b[1m└ \u001b[22m\u001b[39m\u001b[90m@ ChaosTools C:\\Users\\Alex\\.julia\\packages\\ChaosTools\\PHPDF\\src\\orbitdiagrams\\produce_orbitdiagram.jl:75\u001b[39m\n"
     ]
    },
    {
     "name": "stdout",
     "output_type": "stream",
     "text": [
      "\n",
      "parameter = -0.0966626"
     ]
    },
    {
     "name": "stderr",
     "output_type": "stream",
     "text": [
      "\u001b[33m\u001b[1m┌ \u001b[22m\u001b[39m\u001b[33m\u001b[1mWarning: \u001b[22m\u001b[39mFor parameter -0.0966624 The Poincaré surface of section did not have any points!\n",
      "\u001b[33m\u001b[1m└ \u001b[22m\u001b[39m\u001b[90m@ ChaosTools C:\\Users\\Alex\\.julia\\packages\\ChaosTools\\PHPDF\\src\\orbitdiagrams\\produce_orbitdiagram.jl:75\u001b[39m\n"
     ]
    },
    {
     "name": "stdout",
     "output_type": "stream",
     "text": [
      "\n",
      "parameter = -0.0966628"
     ]
    },
    {
     "name": "stderr",
     "output_type": "stream",
     "text": [
      "\u001b[33m\u001b[1m┌ \u001b[22m\u001b[39m\u001b[33m\u001b[1mWarning: \u001b[22m\u001b[39mFor parameter -0.0966626 The Poincaré surface of section did not have any points!\n",
      "\u001b[33m\u001b[1m└ \u001b[22m\u001b[39m\u001b[90m@ ChaosTools C:\\Users\\Alex\\.julia\\packages\\ChaosTools\\PHPDF\\src\\orbitdiagrams\\produce_orbitdiagram.jl:75\u001b[39m\n"
     ]
    },
    {
     "name": "stdout",
     "output_type": "stream",
     "text": [
      "\n",
      "parameter = -0.096663"
     ]
    },
    {
     "name": "stderr",
     "output_type": "stream",
     "text": [
      "\u001b[33m\u001b[1m┌ \u001b[22m\u001b[39m\u001b[33m\u001b[1mWarning: \u001b[22m\u001b[39mFor parameter -0.0966628 The Poincaré surface of section did not have any points!\n",
      "\u001b[33m\u001b[1m└ \u001b[22m\u001b[39m\u001b[90m@ ChaosTools C:\\Users\\Alex\\.julia\\packages\\ChaosTools\\PHPDF\\src\\orbitdiagrams\\produce_orbitdiagram.jl:75\u001b[39m\n"
     ]
    },
    {
     "name": "stdout",
     "output_type": "stream",
     "text": [
      "\n",
      "parameter = -0.0966632"
     ]
    },
    {
     "name": "stderr",
     "output_type": "stream",
     "text": [
      "\u001b[33m\u001b[1m┌ \u001b[22m\u001b[39m\u001b[33m\u001b[1mWarning: \u001b[22m\u001b[39mFor parameter -0.096663 The Poincaré surface of section did not have any points!\n",
      "\u001b[33m\u001b[1m└ \u001b[22m\u001b[39m\u001b[90m@ ChaosTools C:\\Users\\Alex\\.julia\\packages\\ChaosTools\\PHPDF\\src\\orbitdiagrams\\produce_orbitdiagram.jl:75\u001b[39m\n"
     ]
    },
    {
     "name": "stdout",
     "output_type": "stream",
     "text": [
      "\n"
     ]
    },
    {
     "name": "stderr",
     "output_type": "stream",
     "text": [
      "\u001b[33m\u001b[1m┌ \u001b[22m\u001b[39m\u001b[33m\u001b[1mWarning: \u001b[22m\u001b[39mFor parameter -0.0966632 The Poincaré surface of section did not have any points!\n",
      "\u001b[33m\u001b[1m└ \u001b[22m\u001b[39m\u001b[90m@ ChaosTools C:\\Users\\Alex\\.julia\\packages\\ChaosTools\\PHPDF\\src\\orbitdiagrams\\produce_orbitdiagram.jl:75\u001b[39m\n"
     ]
    },
    {
     "name": "stdout",
     "output_type": "stream",
     "text": [
      "parameter = -0.0966634\n",
      "parameter = -0.0966636"
     ]
    },
    {
     "name": "stderr",
     "output_type": "stream",
     "text": [
      "\u001b[33m\u001b[1m┌ \u001b[22m\u001b[39m\u001b[33m\u001b[1mWarning: \u001b[22m\u001b[39mFor parameter -0.0966634 The Poincaré surface of section did not have any points!\n",
      "\u001b[33m\u001b[1m└ \u001b[22m\u001b[39m\u001b[90m@ ChaosTools C:\\Users\\Alex\\.julia\\packages\\ChaosTools\\PHPDF\\src\\orbitdiagrams\\produce_orbitdiagram.jl:75\u001b[39m\n"
     ]
    },
    {
     "name": "stdout",
     "output_type": "stream",
     "text": [
      "\n",
      "parameter = -0.0966638\n"
     ]
    },
    {
     "name": "stderr",
     "output_type": "stream",
     "text": [
      "\u001b[33m\u001b[1m┌ \u001b[22m\u001b[39m\u001b[33m\u001b[1mWarning: \u001b[22m\u001b[39mFor parameter -0.0966636 The Poincaré surface of section did not have any points!\n",
      "\u001b[33m\u001b[1m└ \u001b[22m\u001b[39m\u001b[90m@ ChaosTools C:\\Users\\Alex\\.julia\\packages\\ChaosTools\\PHPDF\\src\\orbitdiagrams\\produce_orbitdiagram.jl:75\u001b[39m\n"
     ]
    },
    {
     "name": "stdout",
     "output_type": "stream",
     "text": [
      "parameter = -0.096664"
     ]
    },
    {
     "name": "stderr",
     "output_type": "stream",
     "text": [
      "\u001b[33m\u001b[1m┌ \u001b[22m\u001b[39m\u001b[33m\u001b[1mWarning: \u001b[22m\u001b[39mFor parameter -0.0966638 The Poincaré surface of section did not have any points!\n",
      "\u001b[33m\u001b[1m└ \u001b[22m\u001b[39m\u001b[90m@ ChaosTools C:\\Users\\Alex\\.julia\\packages\\ChaosTools\\PHPDF\\src\\orbitdiagrams\\produce_orbitdiagram.jl:75\u001b[39m\n"
     ]
    },
    {
     "name": "stdout",
     "output_type": "stream",
     "text": [
      "\n",
      "parameter = -0.0966642"
     ]
    },
    {
     "name": "stderr",
     "output_type": "stream",
     "text": [
      "\u001b[33m\u001b[1m┌ \u001b[22m\u001b[39m\u001b[33m\u001b[1mWarning: \u001b[22m\u001b[39mFor parameter -0.096664 The Poincaré surface of section did not have any points!\n",
      "\u001b[33m\u001b[1m└ \u001b[22m\u001b[39m\u001b[90m@ ChaosTools C:\\Users\\Alex\\.julia\\packages\\ChaosTools\\PHPDF\\src\\orbitdiagrams\\produce_orbitdiagram.jl:75\u001b[39m\n"
     ]
    },
    {
     "name": "stdout",
     "output_type": "stream",
     "text": [
      "\n",
      "parameter = -0.0966644"
     ]
    },
    {
     "name": "stderr",
     "output_type": "stream",
     "text": [
      "\u001b[33m\u001b[1m┌ \u001b[22m\u001b[39m\u001b[33m\u001b[1mWarning: \u001b[22m\u001b[39mFor parameter -0.0966642 The Poincaré surface of section did not have any points!\n",
      "\u001b[33m\u001b[1m└ \u001b[22m\u001b[39m\u001b[90m@ ChaosTools C:\\Users\\Alex\\.julia\\packages\\ChaosTools\\PHPDF\\src\\orbitdiagrams\\produce_orbitdiagram.jl:75\u001b[39m\n"
     ]
    },
    {
     "name": "stdout",
     "output_type": "stream",
     "text": [
      "\n",
      "parameter = -0.0966646\n"
     ]
    },
    {
     "name": "stderr",
     "output_type": "stream",
     "text": [
      "\u001b[33m\u001b[1m┌ \u001b[22m\u001b[39m\u001b[33m\u001b[1mWarning: \u001b[22m\u001b[39mFor parameter -0.0966644 The Poincaré surface of section did not have any points!\n",
      "\u001b[33m\u001b[1m└ \u001b[22m\u001b[39m\u001b[90m@ ChaosTools C:\\Users\\Alex\\.julia\\packages\\ChaosTools\\PHPDF\\src\\orbitdiagrams\\produce_orbitdiagram.jl:75\u001b[39m\n"
     ]
    },
    {
     "name": "stdout",
     "output_type": "stream",
     "text": [
      "parameter = -0.0966648\n"
     ]
    },
    {
     "name": "stderr",
     "output_type": "stream",
     "text": [
      "\u001b[33m\u001b[1m┌ \u001b[22m\u001b[39m\u001b[33m\u001b[1mWarning: \u001b[22m\u001b[39mFor parameter -0.0966646 The Poincaré surface of section did not have any points!\n",
      "\u001b[33m\u001b[1m└ \u001b[22m\u001b[39m\u001b[90m@ ChaosTools C:\\Users\\Alex\\.julia\\packages\\ChaosTools\\PHPDF\\src\\orbitdiagrams\\produce_orbitdiagram.jl:75\u001b[39m\n"
     ]
    },
    {
     "name": "stdout",
     "output_type": "stream",
     "text": [
      "parameter = -0.096665"
     ]
    },
    {
     "name": "stderr",
     "output_type": "stream",
     "text": [
      "\u001b[33m\u001b[1m┌ \u001b[22m\u001b[39m\u001b[33m\u001b[1mWarning: \u001b[22m\u001b[39mFor parameter -0.0966648 The Poincaré surface of section did not have any points!\n",
      "\u001b[33m\u001b[1m└ \u001b[22m\u001b[39m\u001b[90m@ ChaosTools C:\\Users\\Alex\\.julia\\packages\\ChaosTools\\PHPDF\\src\\orbitdiagrams\\produce_orbitdiagram.jl:75\u001b[39m\n"
     ]
    },
    {
     "name": "stdout",
     "output_type": "stream",
     "text": [
      "\n",
      "parameter = -0.0966652\n"
     ]
    },
    {
     "name": "stderr",
     "output_type": "stream",
     "text": [
      "\u001b[33m\u001b[1m┌ \u001b[22m\u001b[39m\u001b[33m\u001b[1mWarning: \u001b[22m\u001b[39mFor parameter -0.096665 The Poincaré surface of section did not have any points!\n",
      "\u001b[33m\u001b[1m└ \u001b[22m\u001b[39m\u001b[90m@ ChaosTools C:\\Users\\Alex\\.julia\\packages\\ChaosTools\\PHPDF\\src\\orbitdiagrams\\produce_orbitdiagram.jl:75\u001b[39m\n"
     ]
    },
    {
     "name": "stdout",
     "output_type": "stream",
     "text": [
      "parameter = -0.0966654"
     ]
    },
    {
     "name": "stderr",
     "output_type": "stream",
     "text": [
      "\u001b[33m\u001b[1m┌ \u001b[22m\u001b[39m\u001b[33m\u001b[1mWarning: \u001b[22m\u001b[39mFor parameter -0.0966652 The Poincaré surface of section did not have any points!\n",
      "\u001b[33m\u001b[1m└ \u001b[22m\u001b[39m\u001b[90m@ ChaosTools C:\\Users\\Alex\\.julia\\packages\\ChaosTools\\PHPDF\\src\\orbitdiagrams\\produce_orbitdiagram.jl:75\u001b[39m\n"
     ]
    },
    {
     "name": "stdout",
     "output_type": "stream",
     "text": [
      "\n",
      "parameter = -0.0966656"
     ]
    },
    {
     "name": "stderr",
     "output_type": "stream",
     "text": [
      "\u001b[33m\u001b[1m┌ \u001b[22m\u001b[39m\u001b[33m\u001b[1mWarning: \u001b[22m\u001b[39mFor parameter -0.0966654 The Poincaré surface of section did not have any points!\n",
      "\u001b[33m\u001b[1m└ \u001b[22m\u001b[39m\u001b[90m@ ChaosTools C:\\Users\\Alex\\.julia\\packages\\ChaosTools\\PHPDF\\src\\orbitdiagrams\\produce_orbitdiagram.jl:75\u001b[39m\n"
     ]
    },
    {
     "name": "stdout",
     "output_type": "stream",
     "text": [
      "\n",
      "parameter = -0.0966658\n"
     ]
    },
    {
     "name": "stderr",
     "output_type": "stream",
     "text": [
      "\u001b[33m\u001b[1m┌ \u001b[22m\u001b[39m\u001b[33m\u001b[1mWarning: \u001b[22m\u001b[39mFor parameter -0.0966656 The Poincaré surface of section did not have any points!\n",
      "\u001b[33m\u001b[1m└ \u001b[22m\u001b[39m\u001b[90m@ ChaosTools C:\\Users\\Alex\\.julia\\packages\\ChaosTools\\PHPDF\\src\\orbitdiagrams\\produce_orbitdiagram.jl:75\u001b[39m\n"
     ]
    },
    {
     "name": "stdout",
     "output_type": "stream",
     "text": [
      "parameter = -0.096666\n"
     ]
    },
    {
     "name": "stderr",
     "output_type": "stream",
     "text": [
      "\u001b[33m\u001b[1m┌ \u001b[22m\u001b[39m\u001b[33m\u001b[1mWarning: \u001b[22m\u001b[39mFor parameter -0.0966658 The Poincaré surface of section did not have any points!\n",
      "\u001b[33m\u001b[1m└ \u001b[22m\u001b[39m\u001b[90m@ ChaosTools C:\\Users\\Alex\\.julia\\packages\\ChaosTools\\PHPDF\\src\\orbitdiagrams\\produce_orbitdiagram.jl:75\u001b[39m\n"
     ]
    },
    {
     "name": "stdout",
     "output_type": "stream",
     "text": [
      "parameter = -0.0966662\n"
     ]
    },
    {
     "name": "stderr",
     "output_type": "stream",
     "text": [
      "\u001b[33m\u001b[1m┌ \u001b[22m\u001b[39m\u001b[33m\u001b[1mWarning: \u001b[22m\u001b[39mFor parameter -0.096666 The Poincaré surface of section did not have any points!\n",
      "\u001b[33m\u001b[1m└ \u001b[22m\u001b[39m\u001b[90m@ ChaosTools C:\\Users\\Alex\\.julia\\packages\\ChaosTools\\PHPDF\\src\\orbitdiagrams\\produce_orbitdiagram.jl:75\u001b[39m\n"
     ]
    },
    {
     "name": "stdout",
     "output_type": "stream",
     "text": [
      "parameter = -0.0966664"
     ]
    },
    {
     "name": "stderr",
     "output_type": "stream",
     "text": [
      "\u001b[33m\u001b[1m┌ \u001b[22m\u001b[39m\u001b[33m\u001b[1mWarning: \u001b[22m\u001b[39mFor parameter -0.0966662 The Poincaré surface of section did not have any points!\n",
      "\u001b[33m\u001b[1m└ \u001b[22m\u001b[39m\u001b[90m@ ChaosTools C:\\Users\\Alex\\.julia\\packages\\ChaosTools\\PHPDF\\src\\orbitdiagrams\\produce_orbitdiagram.jl:75\u001b[39m\n"
     ]
    },
    {
     "name": "stdout",
     "output_type": "stream",
     "text": [
      "\n",
      "parameter = -0.0966666\n"
     ]
    },
    {
     "name": "stderr",
     "output_type": "stream",
     "text": [
      "\u001b[33m\u001b[1m┌ \u001b[22m\u001b[39m\u001b[33m\u001b[1mWarning: \u001b[22m\u001b[39mFor parameter -0.0966664 The Poincaré surface of section did not have any points!\n",
      "\u001b[33m\u001b[1m└ \u001b[22m\u001b[39m\u001b[90m@ ChaosTools C:\\Users\\Alex\\.julia\\packages\\ChaosTools\\PHPDF\\src\\orbitdiagrams\\produce_orbitdiagram.jl:75\u001b[39m\n"
     ]
    },
    {
     "name": "stdout",
     "output_type": "stream",
     "text": [
      "parameter = -0.0966668"
     ]
    },
    {
     "name": "stderr",
     "output_type": "stream",
     "text": [
      "\u001b[33m\u001b[1m┌ \u001b[22m\u001b[39m\u001b[33m\u001b[1mWarning: \u001b[22m\u001b[39mFor parameter -0.0966666 The Poincaré surface of section did not have any points!\n",
      "\u001b[33m\u001b[1m└ \u001b[22m\u001b[39m\u001b[90m@ ChaosTools C:\\Users\\Alex\\.julia\\packages\\ChaosTools\\PHPDF\\src\\orbitdiagrams\\produce_orbitdiagram.jl:75\u001b[39m\n"
     ]
    },
    {
     "name": "stdout",
     "output_type": "stream",
     "text": [
      "\n",
      "parameter = -0.096667"
     ]
    },
    {
     "name": "stderr",
     "output_type": "stream",
     "text": [
      "\u001b[33m\u001b[1m┌ \u001b[22m\u001b[39m\u001b[33m\u001b[1mWarning: \u001b[22m\u001b[39mFor parameter -0.0966668 The Poincaré surface of section did not have any points!\n",
      "\u001b[33m\u001b[1m└ \u001b[22m\u001b[39m\u001b[90m@ ChaosTools C:\\Users\\Alex\\.julia\\packages\\ChaosTools\\PHPDF\\src\\orbitdiagrams\\produce_orbitdiagram.jl:75\u001b[39m\n"
     ]
    },
    {
     "name": "stdout",
     "output_type": "stream",
     "text": [
      "\n",
      "parameter = -0.0966672\n"
     ]
    },
    {
     "name": "stderr",
     "output_type": "stream",
     "text": [
      "\u001b[33m\u001b[1m┌ \u001b[22m\u001b[39m\u001b[33m\u001b[1mWarning: \u001b[22m\u001b[39mFor parameter -0.096667 The Poincaré surface of section did not have any points!\n",
      "\u001b[33m\u001b[1m└ \u001b[22m\u001b[39m\u001b[90m@ ChaosTools C:\\Users\\Alex\\.julia\\packages\\ChaosTools\\PHPDF\\src\\orbitdiagrams\\produce_orbitdiagram.jl:75\u001b[39m\n"
     ]
    },
    {
     "name": "stdout",
     "output_type": "stream",
     "text": [
      "parameter = -0.0966674\n"
     ]
    },
    {
     "name": "stderr",
     "output_type": "stream",
     "text": [
      "\u001b[33m\u001b[1m┌ \u001b[22m\u001b[39m\u001b[33m\u001b[1mWarning: \u001b[22m\u001b[39mFor parameter -0.0966672 The Poincaré surface of section did not have any points!\n",
      "\u001b[33m\u001b[1m└ \u001b[22m\u001b[39m\u001b[90m@ ChaosTools C:\\Users\\Alex\\.julia\\packages\\ChaosTools\\PHPDF\\src\\orbitdiagrams\\produce_orbitdiagram.jl:75\u001b[39m\n"
     ]
    },
    {
     "name": "stdout",
     "output_type": "stream",
     "text": [
      "parameter = -0.0966676"
     ]
    },
    {
     "name": "stderr",
     "output_type": "stream",
     "text": [
      "\u001b[33m\u001b[1m┌ \u001b[22m\u001b[39m\u001b[33m\u001b[1mWarning: \u001b[22m\u001b[39mFor parameter -0.0966674 The Poincaré surface of section did not have any points!\n",
      "\u001b[33m\u001b[1m└ \u001b[22m\u001b[39m\u001b[90m@ ChaosTools C:\\Users\\Alex\\.julia\\packages\\ChaosTools\\PHPDF\\src\\orbitdiagrams\\produce_orbitdiagram.jl:75\u001b[39m\n"
     ]
    },
    {
     "name": "stdout",
     "output_type": "stream",
     "text": [
      "\n",
      "parameter = -0.0966678\n"
     ]
    },
    {
     "name": "stderr",
     "output_type": "stream",
     "text": [
      "\u001b[33m\u001b[1m┌ \u001b[22m\u001b[39m\u001b[33m\u001b[1mWarning: \u001b[22m\u001b[39mFor parameter -0.0966676 The Poincaré surface of section did not have any points!\n",
      "\u001b[33m\u001b[1m└ \u001b[22m\u001b[39m\u001b[90m@ ChaosTools C:\\Users\\Alex\\.julia\\packages\\ChaosTools\\PHPDF\\src\\orbitdiagrams\\produce_orbitdiagram.jl:75\u001b[39m\n"
     ]
    },
    {
     "name": "stdout",
     "output_type": "stream",
     "text": [
      "parameter = -0.096668\n"
     ]
    },
    {
     "name": "stderr",
     "output_type": "stream",
     "text": [
      "\u001b[33m\u001b[1m┌ \u001b[22m\u001b[39m\u001b[33m\u001b[1mWarning: \u001b[22m\u001b[39mFor parameter -0.0966678 The Poincaré surface of section did not have any points!\n",
      "\u001b[33m\u001b[1m└ \u001b[22m\u001b[39m\u001b[90m@ ChaosTools C:\\Users\\Alex\\.julia\\packages\\ChaosTools\\PHPDF\\src\\orbitdiagrams\\produce_orbitdiagram.jl:75\u001b[39m\n"
     ]
    },
    {
     "name": "stdout",
     "output_type": "stream",
     "text": [
      "parameter = -0.0966682"
     ]
    },
    {
     "name": "stderr",
     "output_type": "stream",
     "text": [
      "\u001b[33m\u001b[1m┌ \u001b[22m\u001b[39m\u001b[33m\u001b[1mWarning: \u001b[22m\u001b[39mFor parameter -0.096668 The Poincaré surface of section did not have any points!\n",
      "\u001b[33m\u001b[1m└ \u001b[22m\u001b[39m\u001b[90m@ ChaosTools C:\\Users\\Alex\\.julia\\packages\\ChaosTools\\PHPDF\\src\\orbitdiagrams\\produce_orbitdiagram.jl:75\u001b[39m\n"
     ]
    },
    {
     "name": "stdout",
     "output_type": "stream",
     "text": [
      "\n",
      "parameter = -0.0966684"
     ]
    },
    {
     "name": "stderr",
     "output_type": "stream",
     "text": [
      "\u001b[33m\u001b[1m┌ \u001b[22m\u001b[39m\u001b[33m\u001b[1mWarning: \u001b[22m\u001b[39mFor parameter -0.0966682 The Poincaré surface of section did not have any points!\n",
      "\u001b[33m\u001b[1m└ \u001b[22m\u001b[39m\u001b[90m@ ChaosTools C:\\Users\\Alex\\.julia\\packages\\ChaosTools\\PHPDF\\src\\orbitdiagrams\\produce_orbitdiagram.jl:75\u001b[39m\n"
     ]
    },
    {
     "name": "stdout",
     "output_type": "stream",
     "text": [
      "\n",
      "parameter = -0.0966686"
     ]
    },
    {
     "name": "stderr",
     "output_type": "stream",
     "text": [
      "\u001b[33m\u001b[1m┌ \u001b[22m\u001b[39m\u001b[33m\u001b[1mWarning: \u001b[22m\u001b[39mFor parameter -0.0966684 The Poincaré surface of section did not have any points!\n",
      "\u001b[33m\u001b[1m└ \u001b[22m\u001b[39m\u001b[90m@ ChaosTools C:\\Users\\Alex\\.julia\\packages\\ChaosTools\\PHPDF\\src\\orbitdiagrams\\produce_orbitdiagram.jl:75\u001b[39m\n"
     ]
    },
    {
     "name": "stdout",
     "output_type": "stream",
     "text": [
      "\n",
      "parameter = -0.0966688"
     ]
    },
    {
     "name": "stderr",
     "output_type": "stream",
     "text": [
      "\u001b[33m\u001b[1m┌ \u001b[22m\u001b[39m\u001b[33m\u001b[1mWarning: \u001b[22m\u001b[39mFor parameter -0.0966686 The Poincaré surface of section did not have any points!\n",
      "\u001b[33m\u001b[1m└ \u001b[22m\u001b[39m\u001b[90m@ ChaosTools C:\\Users\\Alex\\.julia\\packages\\ChaosTools\\PHPDF\\src\\orbitdiagrams\\produce_orbitdiagram.jl:75\u001b[39m\n"
     ]
    },
    {
     "name": "stdout",
     "output_type": "stream",
     "text": [
      "\n",
      "parameter = -0.096669\n"
     ]
    },
    {
     "name": "stderr",
     "output_type": "stream",
     "text": [
      "\u001b[33m\u001b[1m┌ \u001b[22m\u001b[39m\u001b[33m\u001b[1mWarning: \u001b[22m\u001b[39mFor parameter -0.0966688 The Poincaré surface of section did not have any points!\n",
      "\u001b[33m\u001b[1m└ \u001b[22m\u001b[39m\u001b[90m@ ChaosTools C:\\Users\\Alex\\.julia\\packages\\ChaosTools\\PHPDF\\src\\orbitdiagrams\\produce_orbitdiagram.jl:75\u001b[39m\n"
     ]
    },
    {
     "name": "stdout",
     "output_type": "stream",
     "text": [
      "parameter = -0.0966692"
     ]
    },
    {
     "name": "stderr",
     "output_type": "stream",
     "text": [
      "\u001b[33m\u001b[1m┌ \u001b[22m\u001b[39m\u001b[33m\u001b[1mWarning: \u001b[22m\u001b[39mFor parameter -0.096669 The Poincaré surface of section did not have any points!\n",
      "\u001b[33m\u001b[1m└ \u001b[22m\u001b[39m\u001b[90m@ ChaosTools C:\\Users\\Alex\\.julia\\packages\\ChaosTools\\PHPDF\\src\\orbitdiagrams\\produce_orbitdiagram.jl:75\u001b[39m\n"
     ]
    },
    {
     "name": "stdout",
     "output_type": "stream",
     "text": [
      "\n",
      "parameter = -0.0966694\n"
     ]
    },
    {
     "name": "stderr",
     "output_type": "stream",
     "text": [
      "\u001b[33m\u001b[1m┌ \u001b[22m\u001b[39m\u001b[33m\u001b[1mWarning: \u001b[22m\u001b[39mFor parameter -0.0966692 The Poincaré surface of section did not have any points!\n",
      "\u001b[33m\u001b[1m└ \u001b[22m\u001b[39m\u001b[90m@ ChaosTools C:\\Users\\Alex\\.julia\\packages\\ChaosTools\\PHPDF\\src\\orbitdiagrams\\produce_orbitdiagram.jl:75\u001b[39m\n"
     ]
    },
    {
     "name": "stdout",
     "output_type": "stream",
     "text": [
      "parameter = -0.0966696"
     ]
    },
    {
     "name": "stderr",
     "output_type": "stream",
     "text": [
      "\u001b[33m\u001b[1m┌ \u001b[22m\u001b[39m\u001b[33m\u001b[1mWarning: \u001b[22m\u001b[39mFor parameter -0.0966694 The Poincaré surface of section did not have any points!\n",
      "\u001b[33m\u001b[1m└ \u001b[22m\u001b[39m\u001b[90m@ ChaosTools C:\\Users\\Alex\\.julia\\packages\\ChaosTools\\PHPDF\\src\\orbitdiagrams\\produce_orbitdiagram.jl:75\u001b[39m\n"
     ]
    },
    {
     "name": "stdout",
     "output_type": "stream",
     "text": [
      "\n",
      "parameter = -0.0966698\n"
     ]
    },
    {
     "name": "stderr",
     "output_type": "stream",
     "text": [
      "\u001b[33m\u001b[1m┌ \u001b[22m\u001b[39m\u001b[33m\u001b[1mWarning: \u001b[22m\u001b[39mFor parameter -0.0966696 The Poincaré surface of section did not have any points!\n",
      "\u001b[33m\u001b[1m└ \u001b[22m\u001b[39m\u001b[90m@ ChaosTools C:\\Users\\Alex\\.julia\\packages\\ChaosTools\\PHPDF\\src\\orbitdiagrams\\produce_orbitdiagram.jl:75\u001b[39m\n"
     ]
    },
    {
     "name": "stdout",
     "output_type": "stream",
     "text": [
      "parameter = -0.09667"
     ]
    },
    {
     "name": "stderr",
     "output_type": "stream",
     "text": [
      "\u001b[33m\u001b[1m┌ \u001b[22m\u001b[39m\u001b[33m\u001b[1mWarning: \u001b[22m\u001b[39mFor parameter -0.0966698 The Poincaré surface of section did not have any points!\n",
      "\u001b[33m\u001b[1m└ \u001b[22m\u001b[39m\u001b[90m@ ChaosTools C:\\Users\\Alex\\.julia\\packages\\ChaosTools\\PHPDF\\src\\orbitdiagrams\\produce_orbitdiagram.jl:75\u001b[39m\n"
     ]
    },
    {
     "name": "stdout",
     "output_type": "stream",
     "text": [
      "\n",
      "parameter = -0.0966702"
     ]
    },
    {
     "name": "stderr",
     "output_type": "stream",
     "text": [
      "\u001b[33m\u001b[1m┌ \u001b[22m\u001b[39m\u001b[33m\u001b[1mWarning: \u001b[22m\u001b[39mFor parameter -0.09667 The Poincaré surface of section did not have any points!\n",
      "\u001b[33m\u001b[1m└ \u001b[22m\u001b[39m\u001b[90m@ ChaosTools C:\\Users\\Alex\\.julia\\packages\\ChaosTools\\PHPDF\\src\\orbitdiagrams\\produce_orbitdiagram.jl:75\u001b[39m\n"
     ]
    },
    {
     "name": "stdout",
     "output_type": "stream",
     "text": [
      "\n",
      "parameter = -0.0966704"
     ]
    },
    {
     "name": "stderr",
     "output_type": "stream",
     "text": [
      "\u001b[33m\u001b[1m┌ \u001b[22m\u001b[39m\u001b[33m\u001b[1mWarning: \u001b[22m\u001b[39mFor parameter -0.0966702 The Poincaré surface of section did not have any points!\n",
      "\u001b[33m\u001b[1m└ \u001b[22m\u001b[39m\u001b[90m@ ChaosTools C:\\Users\\Alex\\.julia\\packages\\ChaosTools\\PHPDF\\src\\orbitdiagrams\\produce_orbitdiagram.jl:75\u001b[39m\n"
     ]
    },
    {
     "name": "stdout",
     "output_type": "stream",
     "text": [
      "\n",
      "parameter = -0.0966706"
     ]
    },
    {
     "name": "stderr",
     "output_type": "stream",
     "text": [
      "\u001b[33m\u001b[1m┌ \u001b[22m\u001b[39m\u001b[33m\u001b[1mWarning: \u001b[22m\u001b[39mFor parameter -0.0966704 The Poincaré surface of section did not have any points!\n",
      "\u001b[33m\u001b[1m└ \u001b[22m\u001b[39m\u001b[90m@ ChaosTools C:\\Users\\Alex\\.julia\\packages\\ChaosTools\\PHPDF\\src\\orbitdiagrams\\produce_orbitdiagram.jl:75\u001b[39m\n"
     ]
    },
    {
     "name": "stdout",
     "output_type": "stream",
     "text": [
      "\n",
      "parameter = -0.0966708\n"
     ]
    },
    {
     "name": "stderr",
     "output_type": "stream",
     "text": [
      "\u001b[33m\u001b[1m┌ \u001b[22m\u001b[39m\u001b[33m\u001b[1mWarning: \u001b[22m\u001b[39mFor parameter -0.0966706 The Poincaré surface of section did not have any points!\n",
      "\u001b[33m\u001b[1m└ \u001b[22m\u001b[39m\u001b[90m@ ChaosTools C:\\Users\\Alex\\.julia\\packages\\ChaosTools\\PHPDF\\src\\orbitdiagrams\\produce_orbitdiagram.jl:75\u001b[39m\n"
     ]
    },
    {
     "name": "stdout",
     "output_type": "stream",
     "text": [
      "parameter = -0.096671\n"
     ]
    },
    {
     "name": "stderr",
     "output_type": "stream",
     "text": [
      "\u001b[33m\u001b[1m┌ \u001b[22m\u001b[39m\u001b[33m\u001b[1mWarning: \u001b[22m\u001b[39mFor parameter -0.0966708 The Poincaré surface of section did not have any points!\n",
      "\u001b[33m\u001b[1m└ \u001b[22m\u001b[39m\u001b[90m@ ChaosTools C:\\Users\\Alex\\.julia\\packages\\ChaosTools\\PHPDF\\src\\orbitdiagrams\\produce_orbitdiagram.jl:75\u001b[39m\n"
     ]
    },
    {
     "name": "stdout",
     "output_type": "stream",
     "text": [
      "parameter = -0.0966712"
     ]
    },
    {
     "name": "stderr",
     "output_type": "stream",
     "text": [
      "\u001b[33m\u001b[1m┌ \u001b[22m\u001b[39m\u001b[33m\u001b[1mWarning: \u001b[22m\u001b[39mFor parameter -0.096671 The Poincaré surface of section did not have any points!\n",
      "\u001b[33m\u001b[1m└ \u001b[22m\u001b[39m\u001b[90m@ ChaosTools C:\\Users\\Alex\\.julia\\packages\\ChaosTools\\PHPDF\\src\\orbitdiagrams\\produce_orbitdiagram.jl:75\u001b[39m\n"
     ]
    },
    {
     "name": "stdout",
     "output_type": "stream",
     "text": [
      "\n",
      "parameter = -0.0966714"
     ]
    },
    {
     "name": "stderr",
     "output_type": "stream",
     "text": [
      "\u001b[33m\u001b[1m┌ \u001b[22m\u001b[39m\u001b[33m\u001b[1mWarning: \u001b[22m\u001b[39mFor parameter -0.0966712 The Poincaré surface of section did not have any points!\n",
      "\u001b[33m\u001b[1m└ \u001b[22m\u001b[39m\u001b[90m@ ChaosTools C:\\Users\\Alex\\.julia\\packages\\ChaosTools\\PHPDF\\src\\orbitdiagrams\\produce_orbitdiagram.jl:75\u001b[39m\n"
     ]
    },
    {
     "name": "stdout",
     "output_type": "stream",
     "text": [
      "\n",
      "parameter = -0.0966716"
     ]
    },
    {
     "name": "stderr",
     "output_type": "stream",
     "text": [
      "\u001b[33m\u001b[1m┌ \u001b[22m\u001b[39m\u001b[33m\u001b[1mWarning: \u001b[22m\u001b[39mFor parameter -0.0966714 The Poincaré surface of section did not have any points!\n",
      "\u001b[33m\u001b[1m└ \u001b[22m\u001b[39m\u001b[90m@ ChaosTools C:\\Users\\Alex\\.julia\\packages\\ChaosTools\\PHPDF\\src\\orbitdiagrams\\produce_orbitdiagram.jl:75\u001b[39m\n"
     ]
    },
    {
     "name": "stdout",
     "output_type": "stream",
     "text": [
      "\n",
      "parameter = -0.0966718\n"
     ]
    },
    {
     "name": "stderr",
     "output_type": "stream",
     "text": [
      "\u001b[33m\u001b[1m┌ \u001b[22m\u001b[39m\u001b[33m\u001b[1mWarning: \u001b[22m\u001b[39mFor parameter -0.0966716 The Poincaré surface of section did not have any points!\n",
      "\u001b[33m\u001b[1m└ \u001b[22m\u001b[39m\u001b[90m@ ChaosTools C:\\Users\\Alex\\.julia\\packages\\ChaosTools\\PHPDF\\src\\orbitdiagrams\\produce_orbitdiagram.jl:75\u001b[39m\n"
     ]
    },
    {
     "name": "stdout",
     "output_type": "stream",
     "text": [
      "parameter = -0.096672\n"
     ]
    },
    {
     "name": "stderr",
     "output_type": "stream",
     "text": [
      "\u001b[33m\u001b[1m┌ \u001b[22m\u001b[39m\u001b[33m\u001b[1mWarning: \u001b[22m\u001b[39mFor parameter -0.0966718 The Poincaré surface of section did not have any points!\n",
      "\u001b[33m\u001b[1m└ \u001b[22m\u001b[39m\u001b[90m@ ChaosTools C:\\Users\\Alex\\.julia\\packages\\ChaosTools\\PHPDF\\src\\orbitdiagrams\\produce_orbitdiagram.jl:75\u001b[39m\n"
     ]
    },
    {
     "name": "stdout",
     "output_type": "stream",
     "text": [
      "parameter = -0.0966722\n"
     ]
    },
    {
     "name": "stderr",
     "output_type": "stream",
     "text": [
      "\u001b[33m\u001b[1m┌ \u001b[22m\u001b[39m\u001b[33m\u001b[1mWarning: \u001b[22m\u001b[39mFor parameter -0.096672 The Poincaré surface of section did not have any points!\n",
      "\u001b[33m\u001b[1m└ \u001b[22m\u001b[39m\u001b[90m@ ChaosTools C:\\Users\\Alex\\.julia\\packages\\ChaosTools\\PHPDF\\src\\orbitdiagrams\\produce_orbitdiagram.jl:75\u001b[39m\n"
     ]
    },
    {
     "name": "stdout",
     "output_type": "stream",
     "text": [
      "parameter = -0.0966724"
     ]
    },
    {
     "name": "stderr",
     "output_type": "stream",
     "text": [
      "\u001b[33m\u001b[1m┌ \u001b[22m\u001b[39m\u001b[33m\u001b[1mWarning: \u001b[22m\u001b[39mFor parameter -0.0966722 The Poincaré surface of section did not have any points!\n",
      "\u001b[33m\u001b[1m└ \u001b[22m\u001b[39m\u001b[90m@ ChaosTools C:\\Users\\Alex\\.julia\\packages\\ChaosTools\\PHPDF\\src\\orbitdiagrams\\produce_orbitdiagram.jl:75\u001b[39m\n"
     ]
    },
    {
     "name": "stdout",
     "output_type": "stream",
     "text": [
      "\n",
      "parameter = -0.0966726"
     ]
    },
    {
     "name": "stderr",
     "output_type": "stream",
     "text": [
      "\u001b[33m\u001b[1m┌ \u001b[22m\u001b[39m\u001b[33m\u001b[1mWarning: \u001b[22m\u001b[39mFor parameter -0.0966724 The Poincaré surface of section did not have any points!\n",
      "\u001b[33m\u001b[1m└ \u001b[22m\u001b[39m\u001b[90m@ ChaosTools C:\\Users\\Alex\\.julia\\packages\\ChaosTools\\PHPDF\\src\\orbitdiagrams\\produce_orbitdiagram.jl:75\u001b[39m\n"
     ]
    },
    {
     "name": "stdout",
     "output_type": "stream",
     "text": [
      "\n",
      "parameter = -0.0966728\n"
     ]
    },
    {
     "name": "stderr",
     "output_type": "stream",
     "text": [
      "\u001b[33m\u001b[1m┌ \u001b[22m\u001b[39m\u001b[33m\u001b[1mWarning: \u001b[22m\u001b[39mFor parameter -0.0966726 The Poincaré surface of section did not have any points!\n",
      "\u001b[33m\u001b[1m└ \u001b[22m\u001b[39m\u001b[90m@ ChaosTools C:\\Users\\Alex\\.julia\\packages\\ChaosTools\\PHPDF\\src\\orbitdiagrams\\produce_orbitdiagram.jl:75\u001b[39m\n"
     ]
    },
    {
     "name": "stdout",
     "output_type": "stream",
     "text": [
      "parameter = -0.096673"
     ]
    },
    {
     "name": "stderr",
     "output_type": "stream",
     "text": [
      "\u001b[33m\u001b[1m┌ \u001b[22m\u001b[39m\u001b[33m\u001b[1mWarning: \u001b[22m\u001b[39mFor parameter -0.0966728 The Poincaré surface of section did not have any points!\n",
      "\u001b[33m\u001b[1m└ \u001b[22m\u001b[39m\u001b[90m@ ChaosTools C:\\Users\\Alex\\.julia\\packages\\ChaosTools\\PHPDF\\src\\orbitdiagrams\\produce_orbitdiagram.jl:75\u001b[39m\n"
     ]
    },
    {
     "name": "stdout",
     "output_type": "stream",
     "text": [
      "\n",
      "parameter = -0.0966732\n"
     ]
    },
    {
     "name": "stderr",
     "output_type": "stream",
     "text": [
      "\u001b[33m\u001b[1m┌ \u001b[22m\u001b[39m\u001b[33m\u001b[1mWarning: \u001b[22m\u001b[39mFor parameter -0.096673 The Poincaré surface of section did not have any points!\n",
      "\u001b[33m\u001b[1m└ \u001b[22m\u001b[39m\u001b[90m@ ChaosTools C:\\Users\\Alex\\.julia\\packages\\ChaosTools\\PHPDF\\src\\orbitdiagrams\\produce_orbitdiagram.jl:75\u001b[39m\n"
     ]
    },
    {
     "name": "stdout",
     "output_type": "stream",
     "text": [
      "parameter = -0.0966734"
     ]
    },
    {
     "name": "stderr",
     "output_type": "stream",
     "text": [
      "\u001b[33m\u001b[1m┌ \u001b[22m\u001b[39m\u001b[33m\u001b[1mWarning: \u001b[22m\u001b[39mFor parameter -0.0966732 The Poincaré surface of section did not have any points!\n",
      "\u001b[33m\u001b[1m└ \u001b[22m\u001b[39m\u001b[90m@ ChaosTools C:\\Users\\Alex\\.julia\\packages\\ChaosTools\\PHPDF\\src\\orbitdiagrams\\produce_orbitdiagram.jl:75\u001b[39m\n"
     ]
    },
    {
     "name": "stdout",
     "output_type": "stream",
     "text": [
      "\n",
      "parameter = -0.0966736"
     ]
    },
    {
     "name": "stderr",
     "output_type": "stream",
     "text": [
      "\u001b[33m\u001b[1m┌ \u001b[22m\u001b[39m\u001b[33m\u001b[1mWarning: \u001b[22m\u001b[39mFor parameter -0.0966734 The Poincaré surface of section did not have any points!\n",
      "\u001b[33m\u001b[1m└ \u001b[22m\u001b[39m\u001b[90m@ ChaosTools C:\\Users\\Alex\\.julia\\packages\\ChaosTools\\PHPDF\\src\\orbitdiagrams\\produce_orbitdiagram.jl:75\u001b[39m\n"
     ]
    },
    {
     "name": "stdout",
     "output_type": "stream",
     "text": [
      "\n",
      "parameter = -0.0966738\n"
     ]
    },
    {
     "name": "stderr",
     "output_type": "stream",
     "text": [
      "\u001b[33m\u001b[1m┌ \u001b[22m\u001b[39m\u001b[33m\u001b[1mWarning: \u001b[22m\u001b[39mFor parameter -0.0966736 The Poincaré surface of section did not have any points!\n",
      "\u001b[33m\u001b[1m└ \u001b[22m\u001b[39m\u001b[90m@ ChaosTools C:\\Users\\Alex\\.julia\\packages\\ChaosTools\\PHPDF\\src\\orbitdiagrams\\produce_orbitdiagram.jl:75\u001b[39m\n"
     ]
    },
    {
     "name": "stdout",
     "output_type": "stream",
     "text": [
      "parameter = -0.096674\n"
     ]
    },
    {
     "name": "stderr",
     "output_type": "stream",
     "text": [
      "\u001b[33m\u001b[1m┌ \u001b[22m\u001b[39m\u001b[33m\u001b[1mWarning: \u001b[22m\u001b[39mFor parameter -0.0966738 The Poincaré surface of section did not have any points!\n",
      "\u001b[33m\u001b[1m└ \u001b[22m\u001b[39m\u001b[90m@ ChaosTools C:\\Users\\Alex\\.julia\\packages\\ChaosTools\\PHPDF\\src\\orbitdiagrams\\produce_orbitdiagram.jl:75\u001b[39m\n"
     ]
    },
    {
     "name": "stdout",
     "output_type": "stream",
     "text": [
      "parameter = -0.0966742"
     ]
    },
    {
     "name": "stderr",
     "output_type": "stream",
     "text": [
      "\u001b[33m\u001b[1m┌ \u001b[22m\u001b[39m\u001b[33m\u001b[1mWarning: \u001b[22m\u001b[39mFor parameter -0.096674 The Poincaré surface of section did not have any points!\n",
      "\u001b[33m\u001b[1m└ \u001b[22m\u001b[39m\u001b[90m@ ChaosTools C:\\Users\\Alex\\.julia\\packages\\ChaosTools\\PHPDF\\src\\orbitdiagrams\\produce_orbitdiagram.jl:75\u001b[39m\n"
     ]
    },
    {
     "name": "stdout",
     "output_type": "stream",
     "text": [
      "\n",
      "parameter = -0.0966744\n"
     ]
    },
    {
     "name": "stderr",
     "output_type": "stream",
     "text": [
      "\u001b[33m\u001b[1m┌ \u001b[22m\u001b[39m\u001b[33m\u001b[1mWarning: \u001b[22m\u001b[39mFor parameter -0.0966742 The Poincaré surface of section did not have any points!\n",
      "\u001b[33m\u001b[1m└ \u001b[22m\u001b[39m\u001b[90m@ ChaosTools C:\\Users\\Alex\\.julia\\packages\\ChaosTools\\PHPDF\\src\\orbitdiagrams\\produce_orbitdiagram.jl:75\u001b[39m\n"
     ]
    },
    {
     "name": "stdout",
     "output_type": "stream",
     "text": [
      "parameter = -0.0966746\n"
     ]
    },
    {
     "name": "stderr",
     "output_type": "stream",
     "text": [
      "\u001b[33m\u001b[1m┌ \u001b[22m\u001b[39m\u001b[33m\u001b[1mWarning: \u001b[22m\u001b[39mFor parameter -0.0966744 The Poincaré surface of section did not have any points!\n",
      "\u001b[33m\u001b[1m└ \u001b[22m\u001b[39m\u001b[90m@ ChaosTools C:\\Users\\Alex\\.julia\\packages\\ChaosTools\\PHPDF\\src\\orbitdiagrams\\produce_orbitdiagram.jl:75\u001b[39m\n"
     ]
    },
    {
     "name": "stdout",
     "output_type": "stream",
     "text": [
      "parameter = -0.0966748\n"
     ]
    },
    {
     "name": "stderr",
     "output_type": "stream",
     "text": [
      "\u001b[33m\u001b[1m┌ \u001b[22m\u001b[39m\u001b[33m\u001b[1mWarning: \u001b[22m\u001b[39mFor parameter -0.0966746 The Poincaré surface of section did not have any points!\n",
      "\u001b[33m\u001b[1m└ \u001b[22m\u001b[39m\u001b[90m@ ChaosTools C:\\Users\\Alex\\.julia\\packages\\ChaosTools\\PHPDF\\src\\orbitdiagrams\\produce_orbitdiagram.jl:75\u001b[39m\n"
     ]
    },
    {
     "name": "stdout",
     "output_type": "stream",
     "text": [
      "parameter = -0.096675"
     ]
    },
    {
     "name": "stderr",
     "output_type": "stream",
     "text": [
      "\u001b[33m\u001b[1m┌ \u001b[22m\u001b[39m\u001b[33m\u001b[1mWarning: \u001b[22m\u001b[39mFor parameter -0.0966748 The Poincaré surface of section did not have any points!\n",
      "\u001b[33m\u001b[1m└ \u001b[22m\u001b[39m\u001b[90m@ ChaosTools C:\\Users\\Alex\\.julia\\packages\\ChaosTools\\PHPDF\\src\\orbitdiagrams\\produce_orbitdiagram.jl:75\u001b[39m\n"
     ]
    },
    {
     "name": "stdout",
     "output_type": "stream",
     "text": [
      "\n",
      "parameter = -0.0966752"
     ]
    },
    {
     "name": "stderr",
     "output_type": "stream",
     "text": [
      "\u001b[33m\u001b[1m┌ \u001b[22m\u001b[39m\u001b[33m\u001b[1mWarning: \u001b[22m\u001b[39mFor parameter -0.096675 The Poincaré surface of section did not have any points!\n",
      "\u001b[33m\u001b[1m└ \u001b[22m\u001b[39m\u001b[90m@ ChaosTools C:\\Users\\Alex\\.julia\\packages\\ChaosTools\\PHPDF\\src\\orbitdiagrams\\produce_orbitdiagram.jl:75\u001b[39m\n"
     ]
    },
    {
     "name": "stdout",
     "output_type": "stream",
     "text": [
      "\n",
      "parameter = -0.0966754\n"
     ]
    },
    {
     "name": "stderr",
     "output_type": "stream",
     "text": [
      "\u001b[33m\u001b[1m┌ \u001b[22m\u001b[39m\u001b[33m\u001b[1mWarning: \u001b[22m\u001b[39mFor parameter -0.0966752 The Poincaré surface of section did not have any points!\n",
      "\u001b[33m\u001b[1m└ \u001b[22m\u001b[39m\u001b[90m@ ChaosTools C:\\Users\\Alex\\.julia\\packages\\ChaosTools\\PHPDF\\src\\orbitdiagrams\\produce_orbitdiagram.jl:75\u001b[39m\n"
     ]
    },
    {
     "name": "stdout",
     "output_type": "stream",
     "text": [
      "parameter = -0.0966756"
     ]
    },
    {
     "name": "stderr",
     "output_type": "stream",
     "text": [
      "\u001b[33m\u001b[1m┌ \u001b[22m\u001b[39m\u001b[33m\u001b[1mWarning: \u001b[22m\u001b[39mFor parameter -0.0966754 The Poincaré surface of section did not have any points!\n",
      "\u001b[33m\u001b[1m└ \u001b[22m\u001b[39m\u001b[90m@ ChaosTools C:\\Users\\Alex\\.julia\\packages\\ChaosTools\\PHPDF\\src\\orbitdiagrams\\produce_orbitdiagram.jl:75\u001b[39m\n"
     ]
    },
    {
     "name": "stdout",
     "output_type": "stream",
     "text": [
      "\n",
      "parameter = -0.0966758\n"
     ]
    },
    {
     "name": "stderr",
     "output_type": "stream",
     "text": [
      "\u001b[33m\u001b[1m┌ \u001b[22m\u001b[39m\u001b[33m\u001b[1mWarning: \u001b[22m\u001b[39mFor parameter -0.0966756 The Poincaré surface of section did not have any points!\n",
      "\u001b[33m\u001b[1m└ \u001b[22m\u001b[39m\u001b[90m@ ChaosTools C:\\Users\\Alex\\.julia\\packages\\ChaosTools\\PHPDF\\src\\orbitdiagrams\\produce_orbitdiagram.jl:75\u001b[39m\n"
     ]
    },
    {
     "name": "stdout",
     "output_type": "stream",
     "text": [
      "parameter = -0.096676"
     ]
    },
    {
     "name": "stderr",
     "output_type": "stream",
     "text": [
      "\u001b[33m\u001b[1m┌ \u001b[22m\u001b[39m\u001b[33m\u001b[1mWarning: \u001b[22m\u001b[39mFor parameter -0.0966758 The Poincaré surface of section did not have any points!\n",
      "\u001b[33m\u001b[1m└ \u001b[22m\u001b[39m\u001b[90m@ ChaosTools C:\\Users\\Alex\\.julia\\packages\\ChaosTools\\PHPDF\\src\\orbitdiagrams\\produce_orbitdiagram.jl:75\u001b[39m\n"
     ]
    },
    {
     "name": "stdout",
     "output_type": "stream",
     "text": [
      "\n",
      "parameter = -0.0966762"
     ]
    },
    {
     "name": "stderr",
     "output_type": "stream",
     "text": [
      "\u001b[33m\u001b[1m┌ \u001b[22m\u001b[39m\u001b[33m\u001b[1mWarning: \u001b[22m\u001b[39mFor parameter -0.096676 The Poincaré surface of section did not have any points!\n",
      "\u001b[33m\u001b[1m└ \u001b[22m\u001b[39m\u001b[90m@ ChaosTools C:\\Users\\Alex\\.julia\\packages\\ChaosTools\\PHPDF\\src\\orbitdiagrams\\produce_orbitdiagram.jl:75\u001b[39m\n"
     ]
    },
    {
     "name": "stdout",
     "output_type": "stream",
     "text": [
      "\n",
      "parameter = -0.0966764"
     ]
    },
    {
     "name": "stderr",
     "output_type": "stream",
     "text": [
      "\u001b[33m\u001b[1m┌ \u001b[22m\u001b[39m\u001b[33m\u001b[1mWarning: \u001b[22m\u001b[39mFor parameter -0.0966762 The Poincaré surface of section did not have any points!\n",
      "\u001b[33m\u001b[1m└ \u001b[22m\u001b[39m\u001b[90m@ ChaosTools C:\\Users\\Alex\\.julia\\packages\\ChaosTools\\PHPDF\\src\\orbitdiagrams\\produce_orbitdiagram.jl:75\u001b[39m\n"
     ]
    },
    {
     "name": "stdout",
     "output_type": "stream",
     "text": [
      "\n",
      "parameter = -0.0966766\n"
     ]
    },
    {
     "name": "stderr",
     "output_type": "stream",
     "text": [
      "\u001b[33m\u001b[1m┌ \u001b[22m\u001b[39m\u001b[33m\u001b[1mWarning: \u001b[22m\u001b[39mFor parameter -0.0966764 The Poincaré surface of section did not have any points!\n",
      "\u001b[33m\u001b[1m└ \u001b[22m\u001b[39m\u001b[90m@ ChaosTools C:\\Users\\Alex\\.julia\\packages\\ChaosTools\\PHPDF\\src\\orbitdiagrams\\produce_orbitdiagram.jl:75\u001b[39m\n"
     ]
    },
    {
     "name": "stdout",
     "output_type": "stream",
     "text": [
      "parameter = -0.0966768"
     ]
    },
    {
     "name": "stderr",
     "output_type": "stream",
     "text": [
      "\u001b[33m\u001b[1m┌ \u001b[22m\u001b[39m\u001b[33m\u001b[1mWarning: \u001b[22m\u001b[39mFor parameter -0.0966766 The Poincaré surface of section did not have any points!\n",
      "\u001b[33m\u001b[1m└ \u001b[22m\u001b[39m\u001b[90m@ ChaosTools C:\\Users\\Alex\\.julia\\packages\\ChaosTools\\PHPDF\\src\\orbitdiagrams\\produce_orbitdiagram.jl:75\u001b[39m\n"
     ]
    },
    {
     "name": "stdout",
     "output_type": "stream",
     "text": [
      "\n",
      "parameter = -0.096677\n"
     ]
    },
    {
     "name": "stderr",
     "output_type": "stream",
     "text": [
      "\u001b[33m\u001b[1m┌ \u001b[22m\u001b[39m\u001b[33m\u001b[1mWarning: \u001b[22m\u001b[39mFor parameter -0.0966768 The Poincaré surface of section did not have any points!\n",
      "\u001b[33m\u001b[1m└ \u001b[22m\u001b[39m\u001b[90m@ ChaosTools C:\\Users\\Alex\\.julia\\packages\\ChaosTools\\PHPDF\\src\\orbitdiagrams\\produce_orbitdiagram.jl:75\u001b[39m\n"
     ]
    },
    {
     "name": "stdout",
     "output_type": "stream",
     "text": [
      "parameter = -0.0966772"
     ]
    },
    {
     "name": "stderr",
     "output_type": "stream",
     "text": [
      "\u001b[33m\u001b[1m┌ \u001b[22m\u001b[39m\u001b[33m\u001b[1mWarning: \u001b[22m\u001b[39mFor parameter -0.096677 The Poincaré surface of section did not have any points!\n",
      "\u001b[33m\u001b[1m└ \u001b[22m\u001b[39m\u001b[90m@ ChaosTools C:\\Users\\Alex\\.julia\\packages\\ChaosTools\\PHPDF\\src\\orbitdiagrams\\produce_orbitdiagram.jl:75\u001b[39m\n"
     ]
    },
    {
     "name": "stdout",
     "output_type": "stream",
     "text": [
      "\n",
      "parameter = -0.0966774\n"
     ]
    },
    {
     "name": "stderr",
     "output_type": "stream",
     "text": [
      "\u001b[33m\u001b[1m┌ \u001b[22m\u001b[39m\u001b[33m\u001b[1mWarning: \u001b[22m\u001b[39mFor parameter -0.0966772 The Poincaré surface of section did not have any points!\n",
      "\u001b[33m\u001b[1m└ \u001b[22m\u001b[39m\u001b[90m@ ChaosTools C:\\Users\\Alex\\.julia\\packages\\ChaosTools\\PHPDF\\src\\orbitdiagrams\\produce_orbitdiagram.jl:75\u001b[39m\n"
     ]
    },
    {
     "name": "stdout",
     "output_type": "stream",
     "text": [
      "parameter = -0.0966776\n"
     ]
    },
    {
     "name": "stderr",
     "output_type": "stream",
     "text": [
      "\u001b[33m\u001b[1m┌ \u001b[22m\u001b[39m\u001b[33m\u001b[1mWarning: \u001b[22m\u001b[39mFor parameter -0.0966774 The Poincaré surface of section did not have any points!\n",
      "\u001b[33m\u001b[1m└ \u001b[22m\u001b[39m\u001b[90m@ ChaosTools C:\\Users\\Alex\\.julia\\packages\\ChaosTools\\PHPDF\\src\\orbitdiagrams\\produce_orbitdiagram.jl:75\u001b[39m\n"
     ]
    },
    {
     "name": "stdout",
     "output_type": "stream",
     "text": [
      "parameter = -0.0966778"
     ]
    },
    {
     "name": "stderr",
     "output_type": "stream",
     "text": [
      "\u001b[33m\u001b[1m┌ \u001b[22m\u001b[39m\u001b[33m\u001b[1mWarning: \u001b[22m\u001b[39mFor parameter -0.0966776 The Poincaré surface of section did not have any points!\n",
      "\u001b[33m\u001b[1m└ \u001b[22m\u001b[39m\u001b[90m@ ChaosTools C:\\Users\\Alex\\.julia\\packages\\ChaosTools\\PHPDF\\src\\orbitdiagrams\\produce_orbitdiagram.jl:75\u001b[39m\n"
     ]
    },
    {
     "name": "stdout",
     "output_type": "stream",
     "text": [
      "\n",
      "parameter = -0.096678\n"
     ]
    },
    {
     "name": "stderr",
     "output_type": "stream",
     "text": [
      "\u001b[33m\u001b[1m┌ \u001b[22m\u001b[39m\u001b[33m\u001b[1mWarning: \u001b[22m\u001b[39mFor parameter -0.0966778 The Poincaré surface of section did not have any points!\n",
      "\u001b[33m\u001b[1m└ \u001b[22m\u001b[39m\u001b[90m@ ChaosTools C:\\Users\\Alex\\.julia\\packages\\ChaosTools\\PHPDF\\src\\orbitdiagrams\\produce_orbitdiagram.jl:75\u001b[39m\n"
     ]
    },
    {
     "name": "stdout",
     "output_type": "stream",
     "text": [
      "parameter = -0.0966782\n"
     ]
    },
    {
     "name": "stderr",
     "output_type": "stream",
     "text": [
      "\u001b[33m\u001b[1m┌ \u001b[22m\u001b[39m\u001b[33m\u001b[1mWarning: \u001b[22m\u001b[39mFor parameter -0.096678 The Poincaré surface of section did not have any points!\n",
      "\u001b[33m\u001b[1m└ \u001b[22m\u001b[39m\u001b[90m@ ChaosTools C:\\Users\\Alex\\.julia\\packages\\ChaosTools\\PHPDF\\src\\orbitdiagrams\\produce_orbitdiagram.jl:75\u001b[39m\n"
     ]
    },
    {
     "name": "stdout",
     "output_type": "stream",
     "text": [
      "parameter = -0.0966784\n"
     ]
    },
    {
     "name": "stderr",
     "output_type": "stream",
     "text": [
      "\u001b[33m\u001b[1m┌ \u001b[22m\u001b[39m\u001b[33m\u001b[1mWarning: \u001b[22m\u001b[39mFor parameter -0.0966782 The Poincaré surface of section did not have any points!\n",
      "\u001b[33m\u001b[1m└ \u001b[22m\u001b[39m\u001b[90m@ ChaosTools C:\\Users\\Alex\\.julia\\packages\\ChaosTools\\PHPDF\\src\\orbitdiagrams\\produce_orbitdiagram.jl:75\u001b[39m\n"
     ]
    },
    {
     "name": "stdout",
     "output_type": "stream",
     "text": [
      "parameter = -0.0966786\n"
     ]
    },
    {
     "name": "stderr",
     "output_type": "stream",
     "text": [
      "\u001b[33m\u001b[1m┌ \u001b[22m\u001b[39m\u001b[33m\u001b[1mWarning: \u001b[22m\u001b[39mFor parameter -0.0966784 The Poincaré surface of section did not have any points!\n",
      "\u001b[33m\u001b[1m└ \u001b[22m\u001b[39m\u001b[90m@ ChaosTools C:\\Users\\Alex\\.julia\\packages\\ChaosTools\\PHPDF\\src\\orbitdiagrams\\produce_orbitdiagram.jl:75\u001b[39m\n"
     ]
    },
    {
     "name": "stdout",
     "output_type": "stream",
     "text": [
      "parameter = -0.0966788"
     ]
    },
    {
     "name": "stderr",
     "output_type": "stream",
     "text": [
      "\u001b[33m\u001b[1m┌ \u001b[22m\u001b[39m\u001b[33m\u001b[1mWarning: \u001b[22m\u001b[39mFor parameter -0.0966786 The Poincaré surface of section did not have any points!\n",
      "\u001b[33m\u001b[1m└ \u001b[22m\u001b[39m\u001b[90m@ ChaosTools C:\\Users\\Alex\\.julia\\packages\\ChaosTools\\PHPDF\\src\\orbitdiagrams\\produce_orbitdiagram.jl:75\u001b[39m\n"
     ]
    },
    {
     "name": "stdout",
     "output_type": "stream",
     "text": [
      "\n",
      "parameter = -0.096679"
     ]
    },
    {
     "name": "stderr",
     "output_type": "stream",
     "text": [
      "\u001b[33m\u001b[1m┌ \u001b[22m\u001b[39m\u001b[33m\u001b[1mWarning: \u001b[22m\u001b[39mFor parameter -0.0966788 The Poincaré surface of section did not have any points!\n",
      "\u001b[33m\u001b[1m└ \u001b[22m\u001b[39m\u001b[90m@ ChaosTools C:\\Users\\Alex\\.julia\\packages\\ChaosTools\\PHPDF\\src\\orbitdiagrams\\produce_orbitdiagram.jl:75\u001b[39m\n"
     ]
    },
    {
     "name": "stdout",
     "output_type": "stream",
     "text": [
      "\n",
      "parameter = -0.0966792\n"
     ]
    },
    {
     "name": "stderr",
     "output_type": "stream",
     "text": [
      "\u001b[33m\u001b[1m┌ \u001b[22m\u001b[39m\u001b[33m\u001b[1mWarning: \u001b[22m\u001b[39mFor parameter -0.096679 The Poincaré surface of section did not have any points!\n",
      "\u001b[33m\u001b[1m└ \u001b[22m\u001b[39m\u001b[90m@ ChaosTools C:\\Users\\Alex\\.julia\\packages\\ChaosTools\\PHPDF\\src\\orbitdiagrams\\produce_orbitdiagram.jl:75\u001b[39m\n"
     ]
    },
    {
     "name": "stdout",
     "output_type": "stream",
     "text": [
      "parameter = -0.0966794\n"
     ]
    },
    {
     "name": "stderr",
     "output_type": "stream",
     "text": [
      "\u001b[33m\u001b[1m┌ \u001b[22m\u001b[39m\u001b[33m\u001b[1mWarning: \u001b[22m\u001b[39mFor parameter -0.0966792 The Poincaré surface of section did not have any points!\n",
      "\u001b[33m\u001b[1m└ \u001b[22m\u001b[39m\u001b[90m@ ChaosTools C:\\Users\\Alex\\.julia\\packages\\ChaosTools\\PHPDF\\src\\orbitdiagrams\\produce_orbitdiagram.jl:75\u001b[39m\n"
     ]
    },
    {
     "name": "stdout",
     "output_type": "stream",
     "text": [
      "parameter = -0.0966796\n"
     ]
    },
    {
     "name": "stderr",
     "output_type": "stream",
     "text": [
      "\u001b[33m\u001b[1m┌ \u001b[22m\u001b[39m\u001b[33m\u001b[1mWarning: \u001b[22m\u001b[39mFor parameter -0.0966794 The Poincaré surface of section did not have any points!\n",
      "\u001b[33m\u001b[1m└ \u001b[22m\u001b[39m\u001b[90m@ ChaosTools C:\\Users\\Alex\\.julia\\packages\\ChaosTools\\PHPDF\\src\\orbitdiagrams\\produce_orbitdiagram.jl:75\u001b[39m\n"
     ]
    },
    {
     "name": "stdout",
     "output_type": "stream",
     "text": [
      "parameter = -0.0966798"
     ]
    },
    {
     "name": "stderr",
     "output_type": "stream",
     "text": [
      "\u001b[33m\u001b[1m┌ \u001b[22m\u001b[39m\u001b[33m\u001b[1mWarning: \u001b[22m\u001b[39mFor parameter -0.0966796 The Poincaré surface of section did not have any points!\n",
      "\u001b[33m\u001b[1m└ \u001b[22m\u001b[39m\u001b[90m@ ChaosTools C:\\Users\\Alex\\.julia\\packages\\ChaosTools\\PHPDF\\src\\orbitdiagrams\\produce_orbitdiagram.jl:75\u001b[39m\n"
     ]
    },
    {
     "name": "stdout",
     "output_type": "stream",
     "text": [
      "\n",
      "parameter = -0.09668"
     ]
    },
    {
     "name": "stderr",
     "output_type": "stream",
     "text": [
      "\u001b[33m\u001b[1m┌ \u001b[22m\u001b[39m\u001b[33m\u001b[1mWarning: \u001b[22m\u001b[39mFor parameter -0.0966798 The Poincaré surface of section did not have any points!\n",
      "\u001b[33m\u001b[1m└ \u001b[22m\u001b[39m\u001b[90m@ ChaosTools C:\\Users\\Alex\\.julia\\packages\\ChaosTools\\PHPDF\\src\\orbitdiagrams\\produce_orbitdiagram.jl:75\u001b[39m\n"
     ]
    },
    {
     "name": "stdout",
     "output_type": "stream",
     "text": [
      "\n",
      "parameter = -0.0966802"
     ]
    },
    {
     "name": "stderr",
     "output_type": "stream",
     "text": [
      "\u001b[33m\u001b[1m┌ \u001b[22m\u001b[39m\u001b[33m\u001b[1mWarning: \u001b[22m\u001b[39mFor parameter -0.09668 The Poincaré surface of section did not have any points!\n",
      "\u001b[33m\u001b[1m└ \u001b[22m\u001b[39m\u001b[90m@ ChaosTools C:\\Users\\Alex\\.julia\\packages\\ChaosTools\\PHPDF\\src\\orbitdiagrams\\produce_orbitdiagram.jl:75\u001b[39m\n"
     ]
    },
    {
     "name": "stdout",
     "output_type": "stream",
     "text": [
      "\n",
      "parameter = -0.0966804\n"
     ]
    },
    {
     "name": "stderr",
     "output_type": "stream",
     "text": [
      "\u001b[33m\u001b[1m┌ \u001b[22m\u001b[39m\u001b[33m\u001b[1mWarning: \u001b[22m\u001b[39mFor parameter -0.0966802 The Poincaré surface of section did not have any points!\n",
      "\u001b[33m\u001b[1m└ \u001b[22m\u001b[39m\u001b[90m@ ChaosTools C:\\Users\\Alex\\.julia\\packages\\ChaosTools\\PHPDF\\src\\orbitdiagrams\\produce_orbitdiagram.jl:75\u001b[39m\n"
     ]
    },
    {
     "name": "stdout",
     "output_type": "stream",
     "text": [
      "parameter = -0.0966806\n"
     ]
    },
    {
     "name": "stderr",
     "output_type": "stream",
     "text": [
      "\u001b[33m\u001b[1m┌ \u001b[22m\u001b[39m\u001b[33m\u001b[1mWarning: \u001b[22m\u001b[39mFor parameter -0.0966804 The Poincaré surface of section did not have any points!\n",
      "\u001b[33m\u001b[1m└ \u001b[22m\u001b[39m\u001b[90m@ ChaosTools C:\\Users\\Alex\\.julia\\packages\\ChaosTools\\PHPDF\\src\\orbitdiagrams\\produce_orbitdiagram.jl:75\u001b[39m\n"
     ]
    },
    {
     "name": "stdout",
     "output_type": "stream",
     "text": [
      "parameter = -0.0966808"
     ]
    },
    {
     "name": "stderr",
     "output_type": "stream",
     "text": [
      "\u001b[33m\u001b[1m┌ \u001b[22m\u001b[39m\u001b[33m\u001b[1mWarning: \u001b[22m\u001b[39mFor parameter -0.0966806 The Poincaré surface of section did not have any points!\n",
      "\u001b[33m\u001b[1m└ \u001b[22m\u001b[39m\u001b[90m@ ChaosTools C:\\Users\\Alex\\.julia\\packages\\ChaosTools\\PHPDF\\src\\orbitdiagrams\\produce_orbitdiagram.jl:75\u001b[39m\n"
     ]
    },
    {
     "name": "stdout",
     "output_type": "stream",
     "text": [
      "\n"
     ]
    },
    {
     "name": "stderr",
     "output_type": "stream",
     "text": [
      "\u001b[33m\u001b[1m┌ \u001b[22m\u001b[39m\u001b[33m\u001b[1mWarning: \u001b[22m\u001b[39mFor parameter -0.0966808 The Poincaré surface of section did not have any points!\n",
      "\u001b[33m\u001b[1m└ \u001b[22m\u001b[39m\u001b[90m@ ChaosTools C:\\Users\\Alex\\.julia\\packages\\ChaosTools\\PHPDF\\src\\orbitdiagrams\\produce_orbitdiagram.jl:75\u001b[39m\n"
     ]
    },
    {
     "name": "stdout",
     "output_type": "stream",
     "text": [
      "parameter = -0.096681\n",
      "parameter = -0.0966812\n"
     ]
    },
    {
     "name": "stderr",
     "output_type": "stream",
     "text": [
      "\u001b[33m\u001b[1m┌ \u001b[22m\u001b[39m\u001b[33m\u001b[1mWarning: \u001b[22m\u001b[39mFor parameter -0.096681 The Poincaré surface of section did not have any points!\n",
      "\u001b[33m\u001b[1m└ \u001b[22m\u001b[39m\u001b[90m@ ChaosTools C:\\Users\\Alex\\.julia\\packages\\ChaosTools\\PHPDF\\src\\orbitdiagrams\\produce_orbitdiagram.jl:75\u001b[39m\n"
     ]
    },
    {
     "name": "stdout",
     "output_type": "stream",
     "text": [
      "parameter = -0.0966814\n"
     ]
    },
    {
     "name": "stderr",
     "output_type": "stream",
     "text": [
      "\u001b[33m\u001b[1m┌ \u001b[22m\u001b[39m\u001b[33m\u001b[1mWarning: \u001b[22m\u001b[39mFor parameter -0.0966812 The Poincaré surface of section did not have any points!\n",
      "\u001b[33m\u001b[1m└ \u001b[22m\u001b[39m\u001b[90m@ ChaosTools C:\\Users\\Alex\\.julia\\packages\\ChaosTools\\PHPDF\\src\\orbitdiagrams\\produce_orbitdiagram.jl:75\u001b[39m\n"
     ]
    },
    {
     "name": "stdout",
     "output_type": "stream",
     "text": [
      "parameter = -0.0966816"
     ]
    },
    {
     "name": "stderr",
     "output_type": "stream",
     "text": [
      "\u001b[33m\u001b[1m┌ \u001b[22m\u001b[39m\u001b[33m\u001b[1mWarning: \u001b[22m\u001b[39mFor parameter -0.0966814 The Poincaré surface of section did not have any points!\n",
      "\u001b[33m\u001b[1m└ \u001b[22m\u001b[39m\u001b[90m@ ChaosTools C:\\Users\\Alex\\.julia\\packages\\ChaosTools\\PHPDF\\src\\orbitdiagrams\\produce_orbitdiagram.jl:75\u001b[39m\n"
     ]
    },
    {
     "name": "stdout",
     "output_type": "stream",
     "text": [
      "\n",
      "parameter = -0.0966818"
     ]
    },
    {
     "name": "stderr",
     "output_type": "stream",
     "text": [
      "\u001b[33m\u001b[1m┌ \u001b[22m\u001b[39m\u001b[33m\u001b[1mWarning: \u001b[22m\u001b[39mFor parameter -0.0966816 The Poincaré surface of section did not have any points!\n",
      "\u001b[33m\u001b[1m└ \u001b[22m\u001b[39m\u001b[90m@ ChaosTools C:\\Users\\Alex\\.julia\\packages\\ChaosTools\\PHPDF\\src\\orbitdiagrams\\produce_orbitdiagram.jl:75\u001b[39m\n"
     ]
    },
    {
     "name": "stdout",
     "output_type": "stream",
     "text": [
      "\n",
      "parameter = -0.096682"
     ]
    },
    {
     "name": "stderr",
     "output_type": "stream",
     "text": [
      "\u001b[33m\u001b[1m┌ \u001b[22m\u001b[39m\u001b[33m\u001b[1mWarning: \u001b[22m\u001b[39mFor parameter -0.0966818 The Poincaré surface of section did not have any points!\n",
      "\u001b[33m\u001b[1m└ \u001b[22m\u001b[39m\u001b[90m@ ChaosTools C:\\Users\\Alex\\.julia\\packages\\ChaosTools\\PHPDF\\src\\orbitdiagrams\\produce_orbitdiagram.jl:75\u001b[39m\n"
     ]
    },
    {
     "name": "stdout",
     "output_type": "stream",
     "text": [
      "\n",
      "parameter = -0.0966822"
     ]
    },
    {
     "name": "stderr",
     "output_type": "stream",
     "text": [
      "\u001b[33m\u001b[1m┌ \u001b[22m\u001b[39m\u001b[33m\u001b[1mWarning: \u001b[22m\u001b[39mFor parameter -0.096682 The Poincaré surface of section did not have any points!\n",
      "\u001b[33m\u001b[1m└ \u001b[22m\u001b[39m\u001b[90m@ ChaosTools C:\\Users\\Alex\\.julia\\packages\\ChaosTools\\PHPDF\\src\\orbitdiagrams\\produce_orbitdiagram.jl:75\u001b[39m\n"
     ]
    },
    {
     "name": "stdout",
     "output_type": "stream",
     "text": [
      "\n",
      "parameter = -0.0966824\n"
     ]
    },
    {
     "name": "stderr",
     "output_type": "stream",
     "text": [
      "\u001b[33m\u001b[1m┌ \u001b[22m\u001b[39m\u001b[33m\u001b[1mWarning: \u001b[22m\u001b[39mFor parameter -0.0966822 The Poincaré surface of section did not have any points!\n",
      "\u001b[33m\u001b[1m└ \u001b[22m\u001b[39m\u001b[90m@ ChaosTools C:\\Users\\Alex\\.julia\\packages\\ChaosTools\\PHPDF\\src\\orbitdiagrams\\produce_orbitdiagram.jl:75\u001b[39m\n"
     ]
    },
    {
     "name": "stdout",
     "output_type": "stream",
     "text": [
      "parameter = -0.0966826\n"
     ]
    },
    {
     "name": "stderr",
     "output_type": "stream",
     "text": [
      "\u001b[33m\u001b[1m┌ \u001b[22m\u001b[39m\u001b[33m\u001b[1mWarning: \u001b[22m\u001b[39mFor parameter -0.0966824 The Poincaré surface of section did not have any points!\n",
      "\u001b[33m\u001b[1m└ \u001b[22m\u001b[39m\u001b[90m@ ChaosTools C:\\Users\\Alex\\.julia\\packages\\ChaosTools\\PHPDF\\src\\orbitdiagrams\\produce_orbitdiagram.jl:75\u001b[39m\n"
     ]
    },
    {
     "name": "stdout",
     "output_type": "stream",
     "text": [
      "parameter = -0.0966828"
     ]
    },
    {
     "name": "stderr",
     "output_type": "stream",
     "text": [
      "\u001b[33m\u001b[1m┌ \u001b[22m\u001b[39m\u001b[33m\u001b[1mWarning: \u001b[22m\u001b[39mFor parameter -0.0966826 The Poincaré surface of section did not have any points!\n",
      "\u001b[33m\u001b[1m└ \u001b[22m\u001b[39m\u001b[90m@ ChaosTools C:\\Users\\Alex\\.julia\\packages\\ChaosTools\\PHPDF\\src\\orbitdiagrams\\produce_orbitdiagram.jl:75\u001b[39m\n"
     ]
    },
    {
     "name": "stdout",
     "output_type": "stream",
     "text": [
      "\n",
      "parameter = -0.096683\n"
     ]
    },
    {
     "name": "stderr",
     "output_type": "stream",
     "text": [
      "\u001b[33m\u001b[1m┌ \u001b[22m\u001b[39m\u001b[33m\u001b[1mWarning: \u001b[22m\u001b[39mFor parameter -0.0966828 The Poincaré surface of section did not have any points!\n",
      "\u001b[33m\u001b[1m└ \u001b[22m\u001b[39m\u001b[90m@ ChaosTools C:\\Users\\Alex\\.julia\\packages\\ChaosTools\\PHPDF\\src\\orbitdiagrams\\produce_orbitdiagram.jl:75\u001b[39m\n"
     ]
    },
    {
     "name": "stdout",
     "output_type": "stream",
     "text": [
      "parameter = -0.0966832\n"
     ]
    },
    {
     "name": "stderr",
     "output_type": "stream",
     "text": [
      "\u001b[33m\u001b[1m┌ \u001b[22m\u001b[39m\u001b[33m\u001b[1mWarning: \u001b[22m\u001b[39mFor parameter -0.096683 The Poincaré surface of section did not have any points!\n",
      "\u001b[33m\u001b[1m└ \u001b[22m\u001b[39m\u001b[90m@ ChaosTools C:\\Users\\Alex\\.julia\\packages\\ChaosTools\\PHPDF\\src\\orbitdiagrams\\produce_orbitdiagram.jl:75\u001b[39m\n"
     ]
    },
    {
     "name": "stdout",
     "output_type": "stream",
     "text": [
      "parameter = -0.0966834"
     ]
    },
    {
     "name": "stderr",
     "output_type": "stream",
     "text": [
      "\u001b[33m\u001b[1m┌ \u001b[22m\u001b[39m\u001b[33m\u001b[1mWarning: \u001b[22m\u001b[39mFor parameter -0.0966832 The Poincaré surface of section did not have any points!\n",
      "\u001b[33m\u001b[1m└ \u001b[22m\u001b[39m\u001b[90m@ ChaosTools C:\\Users\\Alex\\.julia\\packages\\ChaosTools\\PHPDF\\src\\orbitdiagrams\\produce_orbitdiagram.jl:75\u001b[39m\n"
     ]
    },
    {
     "name": "stdout",
     "output_type": "stream",
     "text": [
      "\n",
      "parameter = -0.0966836"
     ]
    },
    {
     "name": "stderr",
     "output_type": "stream",
     "text": [
      "\u001b[33m\u001b[1m┌ \u001b[22m\u001b[39m\u001b[33m\u001b[1mWarning: \u001b[22m\u001b[39mFor parameter -0.0966834 The Poincaré surface of section did not have any points!\n",
      "\u001b[33m\u001b[1m└ \u001b[22m\u001b[39m\u001b[90m@ ChaosTools C:\\Users\\Alex\\.julia\\packages\\ChaosTools\\PHPDF\\src\\orbitdiagrams\\produce_orbitdiagram.jl:75\u001b[39m\n"
     ]
    },
    {
     "name": "stdout",
     "output_type": "stream",
     "text": [
      "\n",
      "parameter = -0.0966838"
     ]
    },
    {
     "name": "stderr",
     "output_type": "stream",
     "text": [
      "\u001b[33m\u001b[1m┌ \u001b[22m\u001b[39m\u001b[33m\u001b[1mWarning: \u001b[22m\u001b[39mFor parameter -0.0966836 The Poincaré surface of section did not have any points!\n",
      "\u001b[33m\u001b[1m└ \u001b[22m\u001b[39m\u001b[90m@ ChaosTools C:\\Users\\Alex\\.julia\\packages\\ChaosTools\\PHPDF\\src\\orbitdiagrams\\produce_orbitdiagram.jl:75\u001b[39m\n"
     ]
    },
    {
     "name": "stdout",
     "output_type": "stream",
     "text": [
      "\n",
      "parameter = -0.096684"
     ]
    },
    {
     "name": "stderr",
     "output_type": "stream",
     "text": [
      "\u001b[33m\u001b[1m┌ \u001b[22m\u001b[39m\u001b[33m\u001b[1mWarning: \u001b[22m\u001b[39mFor parameter -0.0966838 The Poincaré surface of section did not have any points!\n",
      "\u001b[33m\u001b[1m└ \u001b[22m\u001b[39m\u001b[90m@ ChaosTools C:\\Users\\Alex\\.julia\\packages\\ChaosTools\\PHPDF\\src\\orbitdiagrams\\produce_orbitdiagram.jl:75\u001b[39m\n"
     ]
    },
    {
     "name": "stdout",
     "output_type": "stream",
     "text": [
      "\n",
      "parameter = -0.0966842"
     ]
    },
    {
     "name": "stderr",
     "output_type": "stream",
     "text": [
      "\u001b[33m\u001b[1m┌ \u001b[22m\u001b[39m\u001b[33m\u001b[1mWarning: \u001b[22m\u001b[39mFor parameter -0.096684 The Poincaré surface of section did not have any points!\n",
      "\u001b[33m\u001b[1m└ \u001b[22m\u001b[39m\u001b[90m@ ChaosTools C:\\Users\\Alex\\.julia\\packages\\ChaosTools\\PHPDF\\src\\orbitdiagrams\\produce_orbitdiagram.jl:75\u001b[39m\n"
     ]
    },
    {
     "name": "stdout",
     "output_type": "stream",
     "text": [
      "\n",
      "parameter = -0.0966844\n"
     ]
    },
    {
     "name": "stderr",
     "output_type": "stream",
     "text": [
      "\u001b[33m\u001b[1m┌ \u001b[22m\u001b[39m\u001b[33m\u001b[1mWarning: \u001b[22m\u001b[39mFor parameter -0.0966842 The Poincaré surface of section did not have any points!\n",
      "\u001b[33m\u001b[1m└ \u001b[22m\u001b[39m\u001b[90m@ ChaosTools C:\\Users\\Alex\\.julia\\packages\\ChaosTools\\PHPDF\\src\\orbitdiagrams\\produce_orbitdiagram.jl:75\u001b[39m\n"
     ]
    },
    {
     "name": "stdout",
     "output_type": "stream",
     "text": [
      "parameter = -0.0966846\n"
     ]
    },
    {
     "name": "stderr",
     "output_type": "stream",
     "text": [
      "\u001b[33m\u001b[1m┌ \u001b[22m\u001b[39m\u001b[33m\u001b[1mWarning: \u001b[22m\u001b[39mFor parameter -0.0966844 The Poincaré surface of section did not have any points!\n",
      "\u001b[33m\u001b[1m└ \u001b[22m\u001b[39m\u001b[90m@ ChaosTools C:\\Users\\Alex\\.julia\\packages\\ChaosTools\\PHPDF\\src\\orbitdiagrams\\produce_orbitdiagram.jl:75\u001b[39m\n"
     ]
    },
    {
     "name": "stdout",
     "output_type": "stream",
     "text": [
      "parameter = -0.0966848\n"
     ]
    },
    {
     "name": "stderr",
     "output_type": "stream",
     "text": [
      "\u001b[33m\u001b[1m┌ \u001b[22m\u001b[39m\u001b[33m\u001b[1mWarning: \u001b[22m\u001b[39mFor parameter -0.0966846 The Poincaré surface of section did not have any points!\n",
      "\u001b[33m\u001b[1m└ \u001b[22m\u001b[39m\u001b[90m@ ChaosTools C:\\Users\\Alex\\.julia\\packages\\ChaosTools\\PHPDF\\src\\orbitdiagrams\\produce_orbitdiagram.jl:75\u001b[39m\n"
     ]
    },
    {
     "name": "stdout",
     "output_type": "stream",
     "text": [
      "parameter = -0.096685"
     ]
    },
    {
     "name": "stderr",
     "output_type": "stream",
     "text": [
      "\u001b[33m\u001b[1m┌ \u001b[22m\u001b[39m\u001b[33m\u001b[1mWarning: \u001b[22m\u001b[39mFor parameter -0.0966848 The Poincaré surface of section did not have any points!\n",
      "\u001b[33m\u001b[1m└ \u001b[22m\u001b[39m\u001b[90m@ ChaosTools C:\\Users\\Alex\\.julia\\packages\\ChaosTools\\PHPDF\\src\\orbitdiagrams\\produce_orbitdiagram.jl:75\u001b[39m\n"
     ]
    },
    {
     "name": "stdout",
     "output_type": "stream",
     "text": [
      "\n",
      "parameter = -0.0966852\n"
     ]
    },
    {
     "name": "stderr",
     "output_type": "stream",
     "text": [
      "\u001b[33m\u001b[1m┌ \u001b[22m\u001b[39m\u001b[33m\u001b[1mWarning: \u001b[22m\u001b[39mFor parameter -0.096685 The Poincaré surface of section did not have any points!\n",
      "\u001b[33m\u001b[1m└ \u001b[22m\u001b[39m\u001b[90m@ ChaosTools C:\\Users\\Alex\\.julia\\packages\\ChaosTools\\PHPDF\\src\\orbitdiagrams\\produce_orbitdiagram.jl:75\u001b[39m\n"
     ]
    },
    {
     "name": "stdout",
     "output_type": "stream",
     "text": [
      "parameter = -0.0966854\n"
     ]
    },
    {
     "name": "stderr",
     "output_type": "stream",
     "text": [
      "\u001b[33m\u001b[1m┌ \u001b[22m\u001b[39m\u001b[33m\u001b[1mWarning: \u001b[22m\u001b[39mFor parameter -0.0966852 The Poincaré surface of section did not have any points!\n",
      "\u001b[33m\u001b[1m└ \u001b[22m\u001b[39m\u001b[90m@ ChaosTools C:\\Users\\Alex\\.julia\\packages\\ChaosTools\\PHPDF\\src\\orbitdiagrams\\produce_orbitdiagram.jl:75\u001b[39m\n"
     ]
    },
    {
     "name": "stdout",
     "output_type": "stream",
     "text": [
      "parameter = -0.0966856"
     ]
    },
    {
     "name": "stderr",
     "output_type": "stream",
     "text": [
      "\u001b[33m\u001b[1m┌ \u001b[22m\u001b[39m\u001b[33m\u001b[1mWarning: \u001b[22m\u001b[39mFor parameter -0.0966854 The Poincaré surface of section did not have any points!\n",
      "\u001b[33m\u001b[1m└ \u001b[22m\u001b[39m\u001b[90m@ ChaosTools C:\\Users\\Alex\\.julia\\packages\\ChaosTools\\PHPDF\\src\\orbitdiagrams\\produce_orbitdiagram.jl:75\u001b[39m\n"
     ]
    },
    {
     "name": "stdout",
     "output_type": "stream",
     "text": [
      "\n",
      "parameter = -0.0966858\n"
     ]
    },
    {
     "name": "stderr",
     "output_type": "stream",
     "text": [
      "\u001b[33m\u001b[1m┌ \u001b[22m\u001b[39m\u001b[33m\u001b[1mWarning: \u001b[22m\u001b[39mFor parameter -0.0966856 The Poincaré surface of section did not have any points!\n",
      "\u001b[33m\u001b[1m└ \u001b[22m\u001b[39m\u001b[90m@ ChaosTools C:\\Users\\Alex\\.julia\\packages\\ChaosTools\\PHPDF\\src\\orbitdiagrams\\produce_orbitdiagram.jl:75\u001b[39m\n",
      "\u001b[33m\u001b[1m┌ \u001b[22m\u001b[39m\u001b[33m\u001b[1mWarning: \u001b[22m\u001b[39mFor parameter -0.0966858 The Poincaré surface of section did not have any points!\n",
      "\u001b[33m\u001b[1m└ \u001b[22m\u001b[39m\u001b[90m@ ChaosTools C:\\Users\\Alex\\.julia\\packages\\ChaosTools\\PHPDF\\src\\orbitdiagrams\\produce_orbitdiagram.jl:75\u001b[39m\n"
     ]
    },
    {
     "name": "stdout",
     "output_type": "stream",
     "text": [
      "parameter = -0.096686\n",
      "parameter = -0.0966862\n"
     ]
    },
    {
     "name": "stderr",
     "output_type": "stream",
     "text": [
      "\u001b[33m\u001b[1m┌ \u001b[22m\u001b[39m\u001b[33m\u001b[1mWarning: \u001b[22m\u001b[39mFor parameter -0.096686 The Poincaré surface of section did not have any points!\n",
      "\u001b[33m\u001b[1m└ \u001b[22m\u001b[39m\u001b[90m@ ChaosTools C:\\Users\\Alex\\.julia\\packages\\ChaosTools\\PHPDF\\src\\orbitdiagrams\\produce_orbitdiagram.jl:75\u001b[39m\n"
     ]
    },
    {
     "name": "stdout",
     "output_type": "stream",
     "text": [
      "parameter = -0.0966864"
     ]
    },
    {
     "name": "stderr",
     "output_type": "stream",
     "text": [
      "\u001b[33m\u001b[1m┌ \u001b[22m\u001b[39m\u001b[33m\u001b[1mWarning: \u001b[22m\u001b[39mFor parameter -0.0966862 The Poincaré surface of section did not have any points!\n",
      "\u001b[33m\u001b[1m└ \u001b[22m\u001b[39m\u001b[90m@ ChaosTools C:\\Users\\Alex\\.julia\\packages\\ChaosTools\\PHPDF\\src\\orbitdiagrams\\produce_orbitdiagram.jl:75\u001b[39m\n"
     ]
    },
    {
     "name": "stdout",
     "output_type": "stream",
     "text": [
      "\n",
      "parameter = -0.0966866\n"
     ]
    },
    {
     "name": "stderr",
     "output_type": "stream",
     "text": [
      "\u001b[33m\u001b[1m┌ \u001b[22m\u001b[39m\u001b[33m\u001b[1mWarning: \u001b[22m\u001b[39mFor parameter -0.0966864 The Poincaré surface of section did not have any points!\n",
      "\u001b[33m\u001b[1m└ \u001b[22m\u001b[39m\u001b[90m@ ChaosTools C:\\Users\\Alex\\.julia\\packages\\ChaosTools\\PHPDF\\src\\orbitdiagrams\\produce_orbitdiagram.jl:75\u001b[39m\n"
     ]
    },
    {
     "name": "stdout",
     "output_type": "stream",
     "text": [
      "parameter = -0.0966868"
     ]
    },
    {
     "name": "stderr",
     "output_type": "stream",
     "text": [
      "\u001b[33m\u001b[1m┌ \u001b[22m\u001b[39m\u001b[33m\u001b[1mWarning: \u001b[22m\u001b[39mFor parameter -0.0966866 The Poincaré surface of section did not have any points!\n",
      "\u001b[33m\u001b[1m└ \u001b[22m\u001b[39m\u001b[90m@ ChaosTools C:\\Users\\Alex\\.julia\\packages\\ChaosTools\\PHPDF\\src\\orbitdiagrams\\produce_orbitdiagram.jl:75\u001b[39m\n"
     ]
    },
    {
     "name": "stdout",
     "output_type": "stream",
     "text": [
      "\n",
      "parameter = -0.096687"
     ]
    },
    {
     "name": "stderr",
     "output_type": "stream",
     "text": [
      "\u001b[33m\u001b[1m┌ \u001b[22m\u001b[39m\u001b[33m\u001b[1mWarning: \u001b[22m\u001b[39mFor parameter -0.0966868 The Poincaré surface of section did not have any points!\n",
      "\u001b[33m\u001b[1m└ \u001b[22m\u001b[39m\u001b[90m@ ChaosTools C:\\Users\\Alex\\.julia\\packages\\ChaosTools\\PHPDF\\src\\orbitdiagrams\\produce_orbitdiagram.jl:75\u001b[39m\n"
     ]
    },
    {
     "name": "stdout",
     "output_type": "stream",
     "text": [
      "\n",
      "parameter = -0.0966872\n"
     ]
    },
    {
     "name": "stderr",
     "output_type": "stream",
     "text": [
      "\u001b[33m\u001b[1m┌ \u001b[22m\u001b[39m\u001b[33m\u001b[1mWarning: \u001b[22m\u001b[39mFor parameter -0.096687 The Poincaré surface of section did not have any points!\n",
      "\u001b[33m\u001b[1m└ \u001b[22m\u001b[39m\u001b[90m@ ChaosTools C:\\Users\\Alex\\.julia\\packages\\ChaosTools\\PHPDF\\src\\orbitdiagrams\\produce_orbitdiagram.jl:75\u001b[39m\n"
     ]
    },
    {
     "name": "stdout",
     "output_type": "stream",
     "text": [
      "parameter = -0.0966874\n"
     ]
    },
    {
     "name": "stderr",
     "output_type": "stream",
     "text": [
      "\u001b[33m\u001b[1m┌ \u001b[22m\u001b[39m\u001b[33m\u001b[1mWarning: \u001b[22m\u001b[39mFor parameter -0.0966872 The Poincaré surface of section did not have any points!\n",
      "\u001b[33m\u001b[1m└ \u001b[22m\u001b[39m\u001b[90m@ ChaosTools C:\\Users\\Alex\\.julia\\packages\\ChaosTools\\PHPDF\\src\\orbitdiagrams\\produce_orbitdiagram.jl:75\u001b[39m\n"
     ]
    },
    {
     "name": "stdout",
     "output_type": "stream",
     "text": [
      "parameter = -0.0966876\n"
     ]
    },
    {
     "name": "stderr",
     "output_type": "stream",
     "text": [
      "\u001b[33m\u001b[1m┌ \u001b[22m\u001b[39m\u001b[33m\u001b[1mWarning: \u001b[22m\u001b[39mFor parameter -0.0966874 The Poincaré surface of section did not have any points!\n",
      "\u001b[33m\u001b[1m└ \u001b[22m\u001b[39m\u001b[90m@ ChaosTools C:\\Users\\Alex\\.julia\\packages\\ChaosTools\\PHPDF\\src\\orbitdiagrams\\produce_orbitdiagram.jl:75\u001b[39m\n"
     ]
    },
    {
     "name": "stdout",
     "output_type": "stream",
     "text": [
      "parameter = -0.0966878"
     ]
    },
    {
     "name": "stderr",
     "output_type": "stream",
     "text": [
      "\u001b[33m\u001b[1m┌ \u001b[22m\u001b[39m\u001b[33m\u001b[1mWarning: \u001b[22m\u001b[39mFor parameter -0.0966876 The Poincaré surface of section did not have any points!\n",
      "\u001b[33m\u001b[1m└ \u001b[22m\u001b[39m\u001b[90m@ ChaosTools C:\\Users\\Alex\\.julia\\packages\\ChaosTools\\PHPDF\\src\\orbitdiagrams\\produce_orbitdiagram.jl:75\u001b[39m\n"
     ]
    },
    {
     "name": "stdout",
     "output_type": "stream",
     "text": [
      "\n",
      "parameter = -0.096688"
     ]
    },
    {
     "name": "stderr",
     "output_type": "stream",
     "text": [
      "\u001b[33m\u001b[1m┌ \u001b[22m\u001b[39m\u001b[33m\u001b[1mWarning: \u001b[22m\u001b[39mFor parameter -0.0966878 The Poincaré surface of section did not have any points!\n",
      "\u001b[33m\u001b[1m└ \u001b[22m\u001b[39m\u001b[90m@ ChaosTools C:\\Users\\Alex\\.julia\\packages\\ChaosTools\\PHPDF\\src\\orbitdiagrams\\produce_orbitdiagram.jl:75\u001b[39m\n"
     ]
    },
    {
     "name": "stdout",
     "output_type": "stream",
     "text": [
      "\n",
      "parameter = -0.0966882\n"
     ]
    },
    {
     "name": "stderr",
     "output_type": "stream",
     "text": [
      "\u001b[33m\u001b[1m┌ \u001b[22m\u001b[39m\u001b[33m\u001b[1mWarning: \u001b[22m\u001b[39mFor parameter -0.096688 The Poincaré surface of section did not have any points!\n",
      "\u001b[33m\u001b[1m└ \u001b[22m\u001b[39m\u001b[90m@ ChaosTools C:\\Users\\Alex\\.julia\\packages\\ChaosTools\\PHPDF\\src\\orbitdiagrams\\produce_orbitdiagram.jl:75\u001b[39m\n"
     ]
    },
    {
     "name": "stdout",
     "output_type": "stream",
     "text": [
      "parameter = -0.0966884"
     ]
    },
    {
     "name": "stderr",
     "output_type": "stream",
     "text": [
      "\u001b[33m\u001b[1m┌ \u001b[22m\u001b[39m\u001b[33m\u001b[1mWarning: \u001b[22m\u001b[39mFor parameter -0.0966882 The Poincaré surface of section did not have any points!\n",
      "\u001b[33m\u001b[1m└ \u001b[22m\u001b[39m\u001b[90m@ ChaosTools C:\\Users\\Alex\\.julia\\packages\\ChaosTools\\PHPDF\\src\\orbitdiagrams\\produce_orbitdiagram.jl:75\u001b[39m\n"
     ]
    },
    {
     "name": "stdout",
     "output_type": "stream",
     "text": [
      "\n",
      "parameter = -0.0966886"
     ]
    },
    {
     "name": "stderr",
     "output_type": "stream",
     "text": [
      "\u001b[33m\u001b[1m┌ \u001b[22m\u001b[39m\u001b[33m\u001b[1mWarning: \u001b[22m\u001b[39mFor parameter -0.0966884 The Poincaré surface of section did not have any points!\n",
      "\u001b[33m\u001b[1m└ \u001b[22m\u001b[39m\u001b[90m@ ChaosTools C:\\Users\\Alex\\.julia\\packages\\ChaosTools\\PHPDF\\src\\orbitdiagrams\\produce_orbitdiagram.jl:75\u001b[39m\n"
     ]
    },
    {
     "name": "stdout",
     "output_type": "stream",
     "text": [
      "\n",
      "parameter = -0.0966888"
     ]
    },
    {
     "name": "stderr",
     "output_type": "stream",
     "text": [
      "\u001b[33m\u001b[1m┌ \u001b[22m\u001b[39m\u001b[33m\u001b[1mWarning: \u001b[22m\u001b[39mFor parameter -0.0966886 The Poincaré surface of section did not have any points!\n",
      "\u001b[33m\u001b[1m└ \u001b[22m\u001b[39m\u001b[90m@ ChaosTools C:\\Users\\Alex\\.julia\\packages\\ChaosTools\\PHPDF\\src\\orbitdiagrams\\produce_orbitdiagram.jl:75\u001b[39m\n"
     ]
    },
    {
     "name": "stdout",
     "output_type": "stream",
     "text": [
      "\n",
      "parameter = -0.096689\n"
     ]
    },
    {
     "name": "stderr",
     "output_type": "stream",
     "text": [
      "\u001b[33m\u001b[1m┌ \u001b[22m\u001b[39m\u001b[33m\u001b[1mWarning: \u001b[22m\u001b[39mFor parameter -0.0966888 The Poincaré surface of section did not have any points!\n",
      "\u001b[33m\u001b[1m└ \u001b[22m\u001b[39m\u001b[90m@ ChaosTools C:\\Users\\Alex\\.julia\\packages\\ChaosTools\\PHPDF\\src\\orbitdiagrams\\produce_orbitdiagram.jl:75\u001b[39m\n"
     ]
    },
    {
     "name": "stdout",
     "output_type": "stream",
     "text": [
      "parameter = -0.0966892"
     ]
    },
    {
     "name": "stderr",
     "output_type": "stream",
     "text": [
      "\u001b[33m\u001b[1m┌ \u001b[22m\u001b[39m\u001b[33m\u001b[1mWarning: \u001b[22m\u001b[39mFor parameter -0.096689 The Poincaré surface of section did not have any points!\n",
      "\u001b[33m\u001b[1m└ \u001b[22m\u001b[39m\u001b[90m@ ChaosTools C:\\Users\\Alex\\.julia\\packages\\ChaosTools\\PHPDF\\src\\orbitdiagrams\\produce_orbitdiagram.jl:75\u001b[39m\n"
     ]
    },
    {
     "name": "stdout",
     "output_type": "stream",
     "text": [
      "\n",
      "parameter = -0.0966894"
     ]
    },
    {
     "name": "stderr",
     "output_type": "stream",
     "text": [
      "\u001b[33m\u001b[1m┌ \u001b[22m\u001b[39m\u001b[33m\u001b[1mWarning: \u001b[22m\u001b[39mFor parameter -0.0966892 The Poincaré surface of section did not have any points!\n",
      "\u001b[33m\u001b[1m└ \u001b[22m\u001b[39m\u001b[90m@ ChaosTools C:\\Users\\Alex\\.julia\\packages\\ChaosTools\\PHPDF\\src\\orbitdiagrams\\produce_orbitdiagram.jl:75\u001b[39m\n"
     ]
    },
    {
     "name": "stdout",
     "output_type": "stream",
     "text": [
      "\n",
      "parameter = -0.0966896"
     ]
    },
    {
     "name": "stderr",
     "output_type": "stream",
     "text": [
      "\u001b[33m\u001b[1m┌ \u001b[22m\u001b[39m\u001b[33m\u001b[1mWarning: \u001b[22m\u001b[39mFor parameter -0.0966894 The Poincaré surface of section did not have any points!\n",
      "\u001b[33m\u001b[1m└ \u001b[22m\u001b[39m\u001b[90m@ ChaosTools C:\\Users\\Alex\\.julia\\packages\\ChaosTools\\PHPDF\\src\\orbitdiagrams\\produce_orbitdiagram.jl:75\u001b[39m\n"
     ]
    },
    {
     "name": "stdout",
     "output_type": "stream",
     "text": [
      "\n",
      "parameter = -0.0966898"
     ]
    },
    {
     "name": "stderr",
     "output_type": "stream",
     "text": [
      "\u001b[33m\u001b[1m┌ \u001b[22m\u001b[39m\u001b[33m\u001b[1mWarning: \u001b[22m\u001b[39mFor parameter -0.0966896 The Poincaré surface of section did not have any points!\n",
      "\u001b[33m\u001b[1m└ \u001b[22m\u001b[39m\u001b[90m@ ChaosTools C:\\Users\\Alex\\.julia\\packages\\ChaosTools\\PHPDF\\src\\orbitdiagrams\\produce_orbitdiagram.jl:75\u001b[39m\n"
     ]
    },
    {
     "name": "stdout",
     "output_type": "stream",
     "text": [
      "\n",
      "parameter = -0.09669\n"
     ]
    },
    {
     "name": "stderr",
     "output_type": "stream",
     "text": [
      "\u001b[33m\u001b[1m┌ \u001b[22m\u001b[39m\u001b[33m\u001b[1mWarning: \u001b[22m\u001b[39mFor parameter -0.0966898 The Poincaré surface of section did not have any points!\n",
      "\u001b[33m\u001b[1m└ \u001b[22m\u001b[39m\u001b[90m@ ChaosTools C:\\Users\\Alex\\.julia\\packages\\ChaosTools\\PHPDF\\src\\orbitdiagrams\\produce_orbitdiagram.jl:75\u001b[39m\n"
     ]
    },
    {
     "name": "stdout",
     "output_type": "stream",
     "text": [
      "parameter = -0.0966902"
     ]
    },
    {
     "name": "stderr",
     "output_type": "stream",
     "text": [
      "\u001b[33m\u001b[1m┌ \u001b[22m\u001b[39m\u001b[33m\u001b[1mWarning: \u001b[22m\u001b[39mFor parameter -0.09669 The Poincaré surface of section did not have any points!\n",
      "\u001b[33m\u001b[1m└ \u001b[22m\u001b[39m\u001b[90m@ ChaosTools C:\\Users\\Alex\\.julia\\packages\\ChaosTools\\PHPDF\\src\\orbitdiagrams\\produce_orbitdiagram.jl:75\u001b[39m\n"
     ]
    },
    {
     "name": "stdout",
     "output_type": "stream",
     "text": [
      "\n",
      "parameter = -0.0966904\n"
     ]
    },
    {
     "name": "stderr",
     "output_type": "stream",
     "text": [
      "\u001b[33m\u001b[1m┌ \u001b[22m\u001b[39m\u001b[33m\u001b[1mWarning: \u001b[22m\u001b[39mFor parameter -0.0966902 The Poincaré surface of section did not have any points!\n",
      "\u001b[33m\u001b[1m└ \u001b[22m\u001b[39m\u001b[90m@ ChaosTools C:\\Users\\Alex\\.julia\\packages\\ChaosTools\\PHPDF\\src\\orbitdiagrams\\produce_orbitdiagram.jl:75\u001b[39m\n"
     ]
    },
    {
     "name": "stdout",
     "output_type": "stream",
     "text": [
      "parameter = -0.0966906\n"
     ]
    },
    {
     "name": "stderr",
     "output_type": "stream",
     "text": [
      "\u001b[33m\u001b[1m┌ \u001b[22m\u001b[39m\u001b[33m\u001b[1mWarning: \u001b[22m\u001b[39mFor parameter -0.0966904 The Poincaré surface of section did not have any points!\n",
      "\u001b[33m\u001b[1m└ \u001b[22m\u001b[39m\u001b[90m@ ChaosTools C:\\Users\\Alex\\.julia\\packages\\ChaosTools\\PHPDF\\src\\orbitdiagrams\\produce_orbitdiagram.jl:75\u001b[39m\n"
     ]
    },
    {
     "name": "stdout",
     "output_type": "stream",
     "text": [
      "parameter = -0.0966908\n"
     ]
    },
    {
     "name": "stderr",
     "output_type": "stream",
     "text": [
      "\u001b[33m\u001b[1m┌ \u001b[22m\u001b[39m\u001b[33m\u001b[1mWarning: \u001b[22m\u001b[39mFor parameter -0.0966906 The Poincaré surface of section did not have any points!\n",
      "\u001b[33m\u001b[1m└ \u001b[22m\u001b[39m\u001b[90m@ ChaosTools C:\\Users\\Alex\\.julia\\packages\\ChaosTools\\PHPDF\\src\\orbitdiagrams\\produce_orbitdiagram.jl:75\u001b[39m\n"
     ]
    },
    {
     "name": "stdout",
     "output_type": "stream",
     "text": [
      "parameter = -0.096691"
     ]
    },
    {
     "name": "stderr",
     "output_type": "stream",
     "text": [
      "\u001b[33m\u001b[1m┌ \u001b[22m\u001b[39m\u001b[33m\u001b[1mWarning: \u001b[22m\u001b[39mFor parameter -0.0966908 The Poincaré surface of section did not have any points!\n",
      "\u001b[33m\u001b[1m└ \u001b[22m\u001b[39m\u001b[90m@ ChaosTools C:\\Users\\Alex\\.julia\\packages\\ChaosTools\\PHPDF\\src\\orbitdiagrams\\produce_orbitdiagram.jl:75\u001b[39m\n"
     ]
    },
    {
     "name": "stdout",
     "output_type": "stream",
     "text": [
      "\n",
      "parameter = -0.0966912"
     ]
    },
    {
     "name": "stderr",
     "output_type": "stream",
     "text": [
      "\u001b[33m\u001b[1m┌ \u001b[22m\u001b[39m\u001b[33m\u001b[1mWarning: \u001b[22m\u001b[39mFor parameter -0.096691 The Poincaré surface of section did not have any points!\n",
      "\u001b[33m\u001b[1m└ \u001b[22m\u001b[39m\u001b[90m@ ChaosTools C:\\Users\\Alex\\.julia\\packages\\ChaosTools\\PHPDF\\src\\orbitdiagrams\\produce_orbitdiagram.jl:75\u001b[39m\n"
     ]
    },
    {
     "name": "stdout",
     "output_type": "stream",
     "text": [
      "\n",
      "parameter = -0.0966914"
     ]
    },
    {
     "name": "stderr",
     "output_type": "stream",
     "text": [
      "\u001b[33m\u001b[1m┌ \u001b[22m\u001b[39m\u001b[33m\u001b[1mWarning: \u001b[22m\u001b[39mFor parameter -0.0966912 The Poincaré surface of section did not have any points!\n",
      "\u001b[33m\u001b[1m└ \u001b[22m\u001b[39m\u001b[90m@ ChaosTools C:\\Users\\Alex\\.julia\\packages\\ChaosTools\\PHPDF\\src\\orbitdiagrams\\produce_orbitdiagram.jl:75\u001b[39m\n"
     ]
    },
    {
     "name": "stdout",
     "output_type": "stream",
     "text": [
      "\n",
      "parameter = -0.0966916"
     ]
    },
    {
     "name": "stderr",
     "output_type": "stream",
     "text": [
      "\u001b[33m\u001b[1m┌ \u001b[22m\u001b[39m\u001b[33m\u001b[1mWarning: \u001b[22m\u001b[39mFor parameter -0.0966914 The Poincaré surface of section did not have any points!\n",
      "\u001b[33m\u001b[1m└ \u001b[22m\u001b[39m\u001b[90m@ ChaosTools C:\\Users\\Alex\\.julia\\packages\\ChaosTools\\PHPDF\\src\\orbitdiagrams\\produce_orbitdiagram.jl:75\u001b[39m\n"
     ]
    },
    {
     "name": "stdout",
     "output_type": "stream",
     "text": [
      "\n",
      "parameter = -0.0966918\n"
     ]
    },
    {
     "name": "stderr",
     "output_type": "stream",
     "text": [
      "\u001b[33m\u001b[1m┌ \u001b[22m\u001b[39m\u001b[33m\u001b[1mWarning: \u001b[22m\u001b[39mFor parameter -0.0966916 The Poincaré surface of section did not have any points!\n",
      "\u001b[33m\u001b[1m└ \u001b[22m\u001b[39m\u001b[90m@ ChaosTools C:\\Users\\Alex\\.julia\\packages\\ChaosTools\\PHPDF\\src\\orbitdiagrams\\produce_orbitdiagram.jl:75\u001b[39m\n"
     ]
    },
    {
     "name": "stdout",
     "output_type": "stream",
     "text": [
      "parameter = -0.096692\n"
     ]
    },
    {
     "name": "stderr",
     "output_type": "stream",
     "text": [
      "\u001b[33m\u001b[1m┌ \u001b[22m\u001b[39m\u001b[33m\u001b[1mWarning: \u001b[22m\u001b[39mFor parameter -0.0966918 The Poincaré surface of section did not have any points!\n",
      "\u001b[33m\u001b[1m└ \u001b[22m\u001b[39m\u001b[90m@ ChaosTools C:\\Users\\Alex\\.julia\\packages\\ChaosTools\\PHPDF\\src\\orbitdiagrams\\produce_orbitdiagram.jl:75\u001b[39m\n"
     ]
    },
    {
     "name": "stdout",
     "output_type": "stream",
     "text": [
      "parameter = -0.0966922"
     ]
    },
    {
     "name": "stderr",
     "output_type": "stream",
     "text": [
      "\u001b[33m\u001b[1m┌ \u001b[22m\u001b[39m\u001b[33m\u001b[1mWarning: \u001b[22m\u001b[39mFor parameter -0.096692 The Poincaré surface of section did not have any points!\n",
      "\u001b[33m\u001b[1m└ \u001b[22m\u001b[39m\u001b[90m@ ChaosTools C:\\Users\\Alex\\.julia\\packages\\ChaosTools\\PHPDF\\src\\orbitdiagrams\\produce_orbitdiagram.jl:75\u001b[39m\n"
     ]
    },
    {
     "name": "stdout",
     "output_type": "stream",
     "text": [
      "\n",
      "parameter = -0.0966924\n"
     ]
    },
    {
     "name": "stderr",
     "output_type": "stream",
     "text": [
      "\u001b[33m\u001b[1m┌ \u001b[22m\u001b[39m\u001b[33m\u001b[1mWarning: \u001b[22m\u001b[39mFor parameter -0.0966922 The Poincaré surface of section did not have any points!\n",
      "\u001b[33m\u001b[1m└ \u001b[22m\u001b[39m\u001b[90m@ ChaosTools C:\\Users\\Alex\\.julia\\packages\\ChaosTools\\PHPDF\\src\\orbitdiagrams\\produce_orbitdiagram.jl:75\u001b[39m\n"
     ]
    },
    {
     "name": "stdout",
     "output_type": "stream",
     "text": [
      "parameter = -0.0966926"
     ]
    },
    {
     "name": "stderr",
     "output_type": "stream",
     "text": [
      "\u001b[33m\u001b[1m┌ \u001b[22m\u001b[39m\u001b[33m\u001b[1mWarning: \u001b[22m\u001b[39mFor parameter -0.0966924 The Poincaré surface of section did not have any points!\n",
      "\u001b[33m\u001b[1m└ \u001b[22m\u001b[39m\u001b[90m@ ChaosTools C:\\Users\\Alex\\.julia\\packages\\ChaosTools\\PHPDF\\src\\orbitdiagrams\\produce_orbitdiagram.jl:75\u001b[39m\n"
     ]
    },
    {
     "name": "stdout",
     "output_type": "stream",
     "text": [
      "\n",
      "parameter = -0.0966928\n"
     ]
    },
    {
     "name": "stderr",
     "output_type": "stream",
     "text": [
      "\u001b[33m\u001b[1m┌ \u001b[22m\u001b[39m\u001b[33m\u001b[1mWarning: \u001b[22m\u001b[39mFor parameter -0.0966926 The Poincaré surface of section did not have any points!\n",
      "\u001b[33m\u001b[1m└ \u001b[22m\u001b[39m\u001b[90m@ ChaosTools C:\\Users\\Alex\\.julia\\packages\\ChaosTools\\PHPDF\\src\\orbitdiagrams\\produce_orbitdiagram.jl:75\u001b[39m\n"
     ]
    },
    {
     "name": "stdout",
     "output_type": "stream",
     "text": [
      "parameter = -0.096693"
     ]
    },
    {
     "name": "stderr",
     "output_type": "stream",
     "text": [
      "\u001b[33m\u001b[1m┌ \u001b[22m\u001b[39m\u001b[33m\u001b[1mWarning: \u001b[22m\u001b[39mFor parameter -0.0966928 The Poincaré surface of section did not have any points!\n",
      "\u001b[33m\u001b[1m└ \u001b[22m\u001b[39m\u001b[90m@ ChaosTools C:\\Users\\Alex\\.julia\\packages\\ChaosTools\\PHPDF\\src\\orbitdiagrams\\produce_orbitdiagram.jl:75\u001b[39m\n"
     ]
    },
    {
     "name": "stdout",
     "output_type": "stream",
     "text": [
      "\n",
      "parameter = -0.0966932"
     ]
    },
    {
     "name": "stderr",
     "output_type": "stream",
     "text": [
      "\u001b[33m\u001b[1m┌ \u001b[22m\u001b[39m\u001b[33m\u001b[1mWarning: \u001b[22m\u001b[39mFor parameter -0.096693 The Poincaré surface of section did not have any points!\n",
      "\u001b[33m\u001b[1m└ \u001b[22m\u001b[39m\u001b[90m@ ChaosTools C:\\Users\\Alex\\.julia\\packages\\ChaosTools\\PHPDF\\src\\orbitdiagrams\\produce_orbitdiagram.jl:75\u001b[39m\n"
     ]
    },
    {
     "name": "stdout",
     "output_type": "stream",
     "text": [
      "\n",
      "parameter = -0.0966934"
     ]
    },
    {
     "name": "stderr",
     "output_type": "stream",
     "text": [
      "\u001b[33m\u001b[1m┌ \u001b[22m\u001b[39m\u001b[33m\u001b[1mWarning: \u001b[22m\u001b[39mFor parameter -0.0966932 The Poincaré surface of section did not have any points!\n",
      "\u001b[33m\u001b[1m└ \u001b[22m\u001b[39m\u001b[90m@ ChaosTools C:\\Users\\Alex\\.julia\\packages\\ChaosTools\\PHPDF\\src\\orbitdiagrams\\produce_orbitdiagram.jl:75\u001b[39m\n"
     ]
    },
    {
     "name": "stdout",
     "output_type": "stream",
     "text": [
      "\n",
      "parameter = -0.0966936\n"
     ]
    },
    {
     "name": "stderr",
     "output_type": "stream",
     "text": [
      "\u001b[33m\u001b[1m┌ \u001b[22m\u001b[39m\u001b[33m\u001b[1mWarning: \u001b[22m\u001b[39mFor parameter -0.0966934 The Poincaré surface of section did not have any points!\n",
      "\u001b[33m\u001b[1m└ \u001b[22m\u001b[39m\u001b[90m@ ChaosTools C:\\Users\\Alex\\.julia\\packages\\ChaosTools\\PHPDF\\src\\orbitdiagrams\\produce_orbitdiagram.jl:75\u001b[39m\n"
     ]
    },
    {
     "name": "stdout",
     "output_type": "stream",
     "text": [
      "parameter = -0.0966938"
     ]
    },
    {
     "name": "stderr",
     "output_type": "stream",
     "text": [
      "\u001b[33m\u001b[1m┌ \u001b[22m\u001b[39m\u001b[33m\u001b[1mWarning: \u001b[22m\u001b[39mFor parameter -0.0966936 The Poincaré surface of section did not have any points!\n",
      "\u001b[33m\u001b[1m└ \u001b[22m\u001b[39m\u001b[90m@ ChaosTools C:\\Users\\Alex\\.julia\\packages\\ChaosTools\\PHPDF\\src\\orbitdiagrams\\produce_orbitdiagram.jl:75\u001b[39m\n"
     ]
    },
    {
     "name": "stdout",
     "output_type": "stream",
     "text": [
      "\n",
      "parameter = -0.096694\n"
     ]
    },
    {
     "name": "stderr",
     "output_type": "stream",
     "text": [
      "\u001b[33m\u001b[1m┌ \u001b[22m\u001b[39m\u001b[33m\u001b[1mWarning: \u001b[22m\u001b[39mFor parameter -0.0966938 The Poincaré surface of section did not have any points!\n",
      "\u001b[33m\u001b[1m└ \u001b[22m\u001b[39m\u001b[90m@ ChaosTools C:\\Users\\Alex\\.julia\\packages\\ChaosTools\\PHPDF\\src\\orbitdiagrams\\produce_orbitdiagram.jl:75\u001b[39m\n"
     ]
    },
    {
     "name": "stdout",
     "output_type": "stream",
     "text": [
      "parameter = -0.0966942\n"
     ]
    },
    {
     "name": "stderr",
     "output_type": "stream",
     "text": [
      "\u001b[33m\u001b[1m┌ \u001b[22m\u001b[39m\u001b[33m\u001b[1mWarning: \u001b[22m\u001b[39mFor parameter -0.096694 The Poincaré surface of section did not have any points!\n",
      "\u001b[33m\u001b[1m└ \u001b[22m\u001b[39m\u001b[90m@ ChaosTools C:\\Users\\Alex\\.julia\\packages\\ChaosTools\\PHPDF\\src\\orbitdiagrams\\produce_orbitdiagram.jl:75\u001b[39m\n"
     ]
    },
    {
     "name": "stdout",
     "output_type": "stream",
     "text": [
      "parameter = -0.0966944"
     ]
    },
    {
     "name": "stderr",
     "output_type": "stream",
     "text": [
      "\u001b[33m\u001b[1m┌ \u001b[22m\u001b[39m\u001b[33m\u001b[1mWarning: \u001b[22m\u001b[39mFor parameter -0.0966942 The Poincaré surface of section did not have any points!\n",
      "\u001b[33m\u001b[1m└ \u001b[22m\u001b[39m\u001b[90m@ ChaosTools C:\\Users\\Alex\\.julia\\packages\\ChaosTools\\PHPDF\\src\\orbitdiagrams\\produce_orbitdiagram.jl:75\u001b[39m\n"
     ]
    },
    {
     "name": "stdout",
     "output_type": "stream",
     "text": [
      "\n",
      "parameter = -0.0966946"
     ]
    },
    {
     "name": "stderr",
     "output_type": "stream",
     "text": [
      "\u001b[33m\u001b[1m┌ \u001b[22m\u001b[39m\u001b[33m\u001b[1mWarning: \u001b[22m\u001b[39mFor parameter -0.0966944 The Poincaré surface of section did not have any points!\n",
      "\u001b[33m\u001b[1m└ \u001b[22m\u001b[39m\u001b[90m@ ChaosTools C:\\Users\\Alex\\.julia\\packages\\ChaosTools\\PHPDF\\src\\orbitdiagrams\\produce_orbitdiagram.jl:75\u001b[39m\n"
     ]
    },
    {
     "name": "stdout",
     "output_type": "stream",
     "text": [
      "\n",
      "parameter = -0.0966948"
     ]
    },
    {
     "name": "stderr",
     "output_type": "stream",
     "text": [
      "\u001b[33m\u001b[1m┌ \u001b[22m\u001b[39m\u001b[33m\u001b[1mWarning: \u001b[22m\u001b[39mFor parameter -0.0966946 The Poincaré surface of section did not have any points!\n",
      "\u001b[33m\u001b[1m└ \u001b[22m\u001b[39m\u001b[90m@ ChaosTools C:\\Users\\Alex\\.julia\\packages\\ChaosTools\\PHPDF\\src\\orbitdiagrams\\produce_orbitdiagram.jl:75\u001b[39m\n"
     ]
    },
    {
     "name": "stdout",
     "output_type": "stream",
     "text": [
      "\n",
      "parameter = -0.096695"
     ]
    },
    {
     "name": "stderr",
     "output_type": "stream",
     "text": [
      "\u001b[33m\u001b[1m┌ \u001b[22m\u001b[39m\u001b[33m\u001b[1mWarning: \u001b[22m\u001b[39mFor parameter -0.0966948 The Poincaré surface of section did not have any points!\n",
      "\u001b[33m\u001b[1m└ \u001b[22m\u001b[39m\u001b[90m@ ChaosTools C:\\Users\\Alex\\.julia\\packages\\ChaosTools\\PHPDF\\src\\orbitdiagrams\\produce_orbitdiagram.jl:75\u001b[39m\n"
     ]
    },
    {
     "name": "stdout",
     "output_type": "stream",
     "text": [
      "\n",
      "parameter = -0.0966952"
     ]
    },
    {
     "name": "stderr",
     "output_type": "stream",
     "text": [
      "\u001b[33m\u001b[1m┌ \u001b[22m\u001b[39m\u001b[33m\u001b[1mWarning: \u001b[22m\u001b[39mFor parameter -0.096695 The Poincaré surface of section did not have any points!\n",
      "\u001b[33m\u001b[1m└ \u001b[22m\u001b[39m\u001b[90m@ ChaosTools C:\\Users\\Alex\\.julia\\packages\\ChaosTools\\PHPDF\\src\\orbitdiagrams\\produce_orbitdiagram.jl:75\u001b[39m\n"
     ]
    },
    {
     "name": "stdout",
     "output_type": "stream",
     "text": [
      "\n",
      "parameter = -0.0966954"
     ]
    },
    {
     "name": "stderr",
     "output_type": "stream",
     "text": [
      "\u001b[33m\u001b[1m┌ \u001b[22m\u001b[39m\u001b[33m\u001b[1mWarning: \u001b[22m\u001b[39mFor parameter -0.0966952 The Poincaré surface of section did not have any points!\n",
      "\u001b[33m\u001b[1m└ \u001b[22m\u001b[39m\u001b[90m@ ChaosTools C:\\Users\\Alex\\.julia\\packages\\ChaosTools\\PHPDF\\src\\orbitdiagrams\\produce_orbitdiagram.jl:75\u001b[39m\n"
     ]
    },
    {
     "name": "stdout",
     "output_type": "stream",
     "text": [
      "\n",
      "parameter = -0.0966956\n"
     ]
    },
    {
     "name": "stderr",
     "output_type": "stream",
     "text": [
      "\u001b[33m\u001b[1m┌ \u001b[22m\u001b[39m\u001b[33m\u001b[1mWarning: \u001b[22m\u001b[39mFor parameter -0.0966954 The Poincaré surface of section did not have any points!\n",
      "\u001b[33m\u001b[1m└ \u001b[22m\u001b[39m\u001b[90m@ ChaosTools C:\\Users\\Alex\\.julia\\packages\\ChaosTools\\PHPDF\\src\\orbitdiagrams\\produce_orbitdiagram.jl:75\u001b[39m\n"
     ]
    },
    {
     "name": "stdout",
     "output_type": "stream",
     "text": [
      "parameter = -0.0966958"
     ]
    },
    {
     "name": "stderr",
     "output_type": "stream",
     "text": [
      "\u001b[33m\u001b[1m┌ \u001b[22m\u001b[39m\u001b[33m\u001b[1mWarning: \u001b[22m\u001b[39mFor parameter -0.0966956 The Poincaré surface of section did not have any points!\n",
      "\u001b[33m\u001b[1m└ \u001b[22m\u001b[39m\u001b[90m@ ChaosTools C:\\Users\\Alex\\.julia\\packages\\ChaosTools\\PHPDF\\src\\orbitdiagrams\\produce_orbitdiagram.jl:75\u001b[39m\n"
     ]
    },
    {
     "name": "stdout",
     "output_type": "stream",
     "text": [
      "\n",
      "parameter = -0.096696"
     ]
    },
    {
     "name": "stderr",
     "output_type": "stream",
     "text": [
      "\u001b[33m\u001b[1m┌ \u001b[22m\u001b[39m\u001b[33m\u001b[1mWarning: \u001b[22m\u001b[39mFor parameter -0.0966958 The Poincaré surface of section did not have any points!\n",
      "\u001b[33m\u001b[1m└ \u001b[22m\u001b[39m\u001b[90m@ ChaosTools C:\\Users\\Alex\\.julia\\packages\\ChaosTools\\PHPDF\\src\\orbitdiagrams\\produce_orbitdiagram.jl:75\u001b[39m\n"
     ]
    },
    {
     "name": "stdout",
     "output_type": "stream",
     "text": [
      "\n",
      "parameter = -0.0966962"
     ]
    },
    {
     "name": "stderr",
     "output_type": "stream",
     "text": [
      "\u001b[33m\u001b[1m┌ \u001b[22m\u001b[39m\u001b[33m\u001b[1mWarning: \u001b[22m\u001b[39mFor parameter -0.096696 The Poincaré surface of section did not have any points!\n",
      "\u001b[33m\u001b[1m└ \u001b[22m\u001b[39m\u001b[90m@ ChaosTools C:\\Users\\Alex\\.julia\\packages\\ChaosTools\\PHPDF\\src\\orbitdiagrams\\produce_orbitdiagram.jl:75\u001b[39m\n"
     ]
    },
    {
     "name": "stdout",
     "output_type": "stream",
     "text": [
      "\n",
      "parameter = -0.0966964\n"
     ]
    },
    {
     "name": "stderr",
     "output_type": "stream",
     "text": [
      "\u001b[33m\u001b[1m┌ \u001b[22m\u001b[39m\u001b[33m\u001b[1mWarning: \u001b[22m\u001b[39mFor parameter -0.0966962 The Poincaré surface of section did not have any points!\n",
      "\u001b[33m\u001b[1m└ \u001b[22m\u001b[39m\u001b[90m@ ChaosTools C:\\Users\\Alex\\.julia\\packages\\ChaosTools\\PHPDF\\src\\orbitdiagrams\\produce_orbitdiagram.jl:75\u001b[39m\n"
     ]
    },
    {
     "name": "stdout",
     "output_type": "stream",
     "text": [
      "parameter = -0.0966966\n"
     ]
    },
    {
     "name": "stderr",
     "output_type": "stream",
     "text": [
      "\u001b[33m\u001b[1m┌ \u001b[22m\u001b[39m\u001b[33m\u001b[1mWarning: \u001b[22m\u001b[39mFor parameter -0.0966964 The Poincaré surface of section did not have any points!\n",
      "\u001b[33m\u001b[1m└ \u001b[22m\u001b[39m\u001b[90m@ ChaosTools C:\\Users\\Alex\\.julia\\packages\\ChaosTools\\PHPDF\\src\\orbitdiagrams\\produce_orbitdiagram.jl:75\u001b[39m\n"
     ]
    },
    {
     "name": "stdout",
     "output_type": "stream",
     "text": [
      "parameter = -0.0966968\n"
     ]
    },
    {
     "name": "stderr",
     "output_type": "stream",
     "text": [
      "\u001b[33m\u001b[1m┌ \u001b[22m\u001b[39m\u001b[33m\u001b[1mWarning: \u001b[22m\u001b[39mFor parameter -0.0966966 The Poincaré surface of section did not have any points!\n",
      "\u001b[33m\u001b[1m└ \u001b[22m\u001b[39m\u001b[90m@ ChaosTools C:\\Users\\Alex\\.julia\\packages\\ChaosTools\\PHPDF\\src\\orbitdiagrams\\produce_orbitdiagram.jl:75\u001b[39m\n"
     ]
    },
    {
     "name": "stdout",
     "output_type": "stream",
     "text": [
      "parameter = -0.096697\n"
     ]
    },
    {
     "name": "stderr",
     "output_type": "stream",
     "text": [
      "\u001b[33m\u001b[1m┌ \u001b[22m\u001b[39m\u001b[33m\u001b[1mWarning: \u001b[22m\u001b[39mFor parameter -0.0966968 The Poincaré surface of section did not have any points!\n",
      "\u001b[33m\u001b[1m└ \u001b[22m\u001b[39m\u001b[90m@ ChaosTools C:\\Users\\Alex\\.julia\\packages\\ChaosTools\\PHPDF\\src\\orbitdiagrams\\produce_orbitdiagram.jl:75\u001b[39m\n"
     ]
    },
    {
     "name": "stdout",
     "output_type": "stream",
     "text": [
      "parameter = -0.0966972"
     ]
    },
    {
     "name": "stderr",
     "output_type": "stream",
     "text": [
      "\u001b[33m\u001b[1m┌ \u001b[22m\u001b[39m\u001b[33m\u001b[1mWarning: \u001b[22m\u001b[39mFor parameter -0.096697 The Poincaré surface of section did not have any points!\n",
      "\u001b[33m\u001b[1m└ \u001b[22m\u001b[39m\u001b[90m@ ChaosTools C:\\Users\\Alex\\.julia\\packages\\ChaosTools\\PHPDF\\src\\orbitdiagrams\\produce_orbitdiagram.jl:75\u001b[39m\n"
     ]
    },
    {
     "name": "stdout",
     "output_type": "stream",
     "text": [
      "\n",
      "parameter = -0.0966974"
     ]
    },
    {
     "name": "stderr",
     "output_type": "stream",
     "text": [
      "\u001b[33m\u001b[1m┌ \u001b[22m\u001b[39m\u001b[33m\u001b[1mWarning: \u001b[22m\u001b[39mFor parameter -0.0966972 The Poincaré surface of section did not have any points!\n",
      "\u001b[33m\u001b[1m└ \u001b[22m\u001b[39m\u001b[90m@ ChaosTools C:\\Users\\Alex\\.julia\\packages\\ChaosTools\\PHPDF\\src\\orbitdiagrams\\produce_orbitdiagram.jl:75\u001b[39m\n"
     ]
    },
    {
     "name": "stdout",
     "output_type": "stream",
     "text": [
      "\n",
      "parameter = -0.0966976\n"
     ]
    },
    {
     "name": "stderr",
     "output_type": "stream",
     "text": [
      "\u001b[33m\u001b[1m┌ \u001b[22m\u001b[39m\u001b[33m\u001b[1mWarning: \u001b[22m\u001b[39mFor parameter -0.0966974 The Poincaré surface of section did not have any points!\n",
      "\u001b[33m\u001b[1m└ \u001b[22m\u001b[39m\u001b[90m@ ChaosTools C:\\Users\\Alex\\.julia\\packages\\ChaosTools\\PHPDF\\src\\orbitdiagrams\\produce_orbitdiagram.jl:75\u001b[39m\n"
     ]
    },
    {
     "name": "stdout",
     "output_type": "stream",
     "text": [
      "parameter = -0.0966978"
     ]
    },
    {
     "name": "stderr",
     "output_type": "stream",
     "text": [
      "\u001b[33m\u001b[1m┌ \u001b[22m\u001b[39m\u001b[33m\u001b[1mWarning: \u001b[22m\u001b[39mFor parameter -0.0966976 The Poincaré surface of section did not have any points!\n",
      "\u001b[33m\u001b[1m└ \u001b[22m\u001b[39m\u001b[90m@ ChaosTools C:\\Users\\Alex\\.julia\\packages\\ChaosTools\\PHPDF\\src\\orbitdiagrams\\produce_orbitdiagram.jl:75\u001b[39m\n"
     ]
    },
    {
     "name": "stdout",
     "output_type": "stream",
     "text": [
      "\n",
      "parameter = -0.096698"
     ]
    },
    {
     "name": "stderr",
     "output_type": "stream",
     "text": [
      "\u001b[33m\u001b[1m┌ \u001b[22m\u001b[39m\u001b[33m\u001b[1mWarning: \u001b[22m\u001b[39mFor parameter -0.0966978 The Poincaré surface of section did not have any points!\n",
      "\u001b[33m\u001b[1m└ \u001b[22m\u001b[39m\u001b[90m@ ChaosTools C:\\Users\\Alex\\.julia\\packages\\ChaosTools\\PHPDF\\src\\orbitdiagrams\\produce_orbitdiagram.jl:75\u001b[39m\n"
     ]
    },
    {
     "name": "stdout",
     "output_type": "stream",
     "text": [
      "\n",
      "parameter = -0.0966982"
     ]
    },
    {
     "name": "stderr",
     "output_type": "stream",
     "text": [
      "\u001b[33m\u001b[1m┌ \u001b[22m\u001b[39m\u001b[33m\u001b[1mWarning: \u001b[22m\u001b[39mFor parameter -0.096698 The Poincaré surface of section did not have any points!\n",
      "\u001b[33m\u001b[1m└ \u001b[22m\u001b[39m\u001b[90m@ ChaosTools C:\\Users\\Alex\\.julia\\packages\\ChaosTools\\PHPDF\\src\\orbitdiagrams\\produce_orbitdiagram.jl:75\u001b[39m\n"
     ]
    },
    {
     "name": "stdout",
     "output_type": "stream",
     "text": [
      "\n",
      "parameter = -0.0966984\n"
     ]
    },
    {
     "name": "stderr",
     "output_type": "stream",
     "text": [
      "\u001b[33m\u001b[1m┌ \u001b[22m\u001b[39m\u001b[33m\u001b[1mWarning: \u001b[22m\u001b[39mFor parameter -0.0966982 The Poincaré surface of section did not have any points!\n",
      "\u001b[33m\u001b[1m└ \u001b[22m\u001b[39m\u001b[90m@ ChaosTools C:\\Users\\Alex\\.julia\\packages\\ChaosTools\\PHPDF\\src\\orbitdiagrams\\produce_orbitdiagram.jl:75\u001b[39m\n"
     ]
    },
    {
     "name": "stdout",
     "output_type": "stream",
     "text": [
      "parameter = -0.0966986"
     ]
    },
    {
     "name": "stderr",
     "output_type": "stream",
     "text": [
      "\u001b[33m\u001b[1m┌ \u001b[22m\u001b[39m\u001b[33m\u001b[1mWarning: \u001b[22m\u001b[39mFor parameter -0.0966984 The Poincaré surface of section did not have any points!\n",
      "\u001b[33m\u001b[1m└ \u001b[22m\u001b[39m\u001b[90m@ ChaosTools C:\\Users\\Alex\\.julia\\packages\\ChaosTools\\PHPDF\\src\\orbitdiagrams\\produce_orbitdiagram.jl:75\u001b[39m\n"
     ]
    },
    {
     "name": "stdout",
     "output_type": "stream",
     "text": [
      "\n",
      "parameter = -0.0966988"
     ]
    },
    {
     "name": "stderr",
     "output_type": "stream",
     "text": [
      "\u001b[33m\u001b[1m┌ \u001b[22m\u001b[39m\u001b[33m\u001b[1mWarning: \u001b[22m\u001b[39mFor parameter -0.0966986 The Poincaré surface of section did not have any points!\n",
      "\u001b[33m\u001b[1m└ \u001b[22m\u001b[39m\u001b[90m@ ChaosTools C:\\Users\\Alex\\.julia\\packages\\ChaosTools\\PHPDF\\src\\orbitdiagrams\\produce_orbitdiagram.jl:75\u001b[39m\n"
     ]
    },
    {
     "name": "stdout",
     "output_type": "stream",
     "text": [
      "\n",
      "parameter = -0.096699\n"
     ]
    },
    {
     "name": "stderr",
     "output_type": "stream",
     "text": [
      "\u001b[33m\u001b[1m┌ \u001b[22m\u001b[39m\u001b[33m\u001b[1mWarning: \u001b[22m\u001b[39mFor parameter -0.0966988 The Poincaré surface of section did not have any points!\n",
      "\u001b[33m\u001b[1m└ \u001b[22m\u001b[39m\u001b[90m@ ChaosTools C:\\Users\\Alex\\.julia\\packages\\ChaosTools\\PHPDF\\src\\orbitdiagrams\\produce_orbitdiagram.jl:75\u001b[39m\n"
     ]
    },
    {
     "name": "stdout",
     "output_type": "stream",
     "text": [
      "parameter = -0.0966992"
     ]
    },
    {
     "name": "stderr",
     "output_type": "stream",
     "text": [
      "\u001b[33m\u001b[1m┌ \u001b[22m\u001b[39m\u001b[33m\u001b[1mWarning: \u001b[22m\u001b[39mFor parameter -0.096699 The Poincaré surface of section did not have any points!\n",
      "\u001b[33m\u001b[1m└ \u001b[22m\u001b[39m\u001b[90m@ ChaosTools C:\\Users\\Alex\\.julia\\packages\\ChaosTools\\PHPDF\\src\\orbitdiagrams\\produce_orbitdiagram.jl:75\u001b[39m\n"
     ]
    },
    {
     "name": "stdout",
     "output_type": "stream",
     "text": [
      "\n",
      "parameter = -0.0966994"
     ]
    },
    {
     "name": "stderr",
     "output_type": "stream",
     "text": [
      "\u001b[33m\u001b[1m┌ \u001b[22m\u001b[39m\u001b[33m\u001b[1mWarning: \u001b[22m\u001b[39mFor parameter -0.0966992 The Poincaré surface of section did not have any points!\n",
      "\u001b[33m\u001b[1m└ \u001b[22m\u001b[39m\u001b[90m@ ChaosTools C:\\Users\\Alex\\.julia\\packages\\ChaosTools\\PHPDF\\src\\orbitdiagrams\\produce_orbitdiagram.jl:75\u001b[39m\n"
     ]
    },
    {
     "name": "stdout",
     "output_type": "stream",
     "text": [
      "\n",
      "parameter = -0.0966996"
     ]
    },
    {
     "name": "stderr",
     "output_type": "stream",
     "text": [
      "\u001b[33m\u001b[1m┌ \u001b[22m\u001b[39m\u001b[33m\u001b[1mWarning: \u001b[22m\u001b[39mFor parameter -0.0966994 The Poincaré surface of section did not have any points!\n",
      "\u001b[33m\u001b[1m└ \u001b[22m\u001b[39m\u001b[90m@ ChaosTools C:\\Users\\Alex\\.julia\\packages\\ChaosTools\\PHPDF\\src\\orbitdiagrams\\produce_orbitdiagram.jl:75\u001b[39m\n"
     ]
    },
    {
     "name": "stdout",
     "output_type": "stream",
     "text": [
      "\n",
      "parameter = -0.0966998\n"
     ]
    },
    {
     "name": "stderr",
     "output_type": "stream",
     "text": [
      "\u001b[33m\u001b[1m┌ \u001b[22m\u001b[39m\u001b[33m\u001b[1mWarning: \u001b[22m\u001b[39mFor parameter -0.0966996 The Poincaré surface of section did not have any points!\n",
      "\u001b[33m\u001b[1m└ \u001b[22m\u001b[39m\u001b[90m@ ChaosTools C:\\Users\\Alex\\.julia\\packages\\ChaosTools\\PHPDF\\src\\orbitdiagrams\\produce_orbitdiagram.jl:75\u001b[39m\n"
     ]
    },
    {
     "name": "stdout",
     "output_type": "stream",
     "text": [
      "parameter = -0.0967"
     ]
    },
    {
     "name": "stderr",
     "output_type": "stream",
     "text": [
      "\u001b[33m\u001b[1m┌ \u001b[22m\u001b[39m\u001b[33m\u001b[1mWarning: \u001b[22m\u001b[39mFor parameter -0.0966998 The Poincaré surface of section did not have any points!\n",
      "\u001b[33m\u001b[1m└ \u001b[22m\u001b[39m\u001b[90m@ ChaosTools C:\\Users\\Alex\\.julia\\packages\\ChaosTools\\PHPDF\\src\\orbitdiagrams\\produce_orbitdiagram.jl:75\u001b[39m\n"
     ]
    },
    {
     "name": "stdout",
     "output_type": "stream",
     "text": [
      "\n",
      "parameter = -0.0967002"
     ]
    },
    {
     "name": "stderr",
     "output_type": "stream",
     "text": [
      "\u001b[33m\u001b[1m┌ \u001b[22m\u001b[39m\u001b[33m\u001b[1mWarning: \u001b[22m\u001b[39mFor parameter -0.0967 The Poincaré surface of section did not have any points!\n",
      "\u001b[33m\u001b[1m└ \u001b[22m\u001b[39m\u001b[90m@ ChaosTools C:\\Users\\Alex\\.julia\\packages\\ChaosTools\\PHPDF\\src\\orbitdiagrams\\produce_orbitdiagram.jl:75\u001b[39m\n"
     ]
    },
    {
     "name": "stdout",
     "output_type": "stream",
     "text": [
      "\n",
      "parameter = -0.0967004"
     ]
    },
    {
     "name": "stderr",
     "output_type": "stream",
     "text": [
      "\u001b[33m\u001b[1m┌ \u001b[22m\u001b[39m\u001b[33m\u001b[1mWarning: \u001b[22m\u001b[39mFor parameter -0.0967002 The Poincaré surface of section did not have any points!\n",
      "\u001b[33m\u001b[1m└ \u001b[22m\u001b[39m\u001b[90m@ ChaosTools C:\\Users\\Alex\\.julia\\packages\\ChaosTools\\PHPDF\\src\\orbitdiagrams\\produce_orbitdiagram.jl:75\u001b[39m\n"
     ]
    },
    {
     "name": "stdout",
     "output_type": "stream",
     "text": [
      "\n",
      "parameter = -0.0967006"
     ]
    },
    {
     "name": "stderr",
     "output_type": "stream",
     "text": [
      "\u001b[33m\u001b[1m┌ \u001b[22m\u001b[39m\u001b[33m\u001b[1mWarning: \u001b[22m\u001b[39mFor parameter -0.0967004 The Poincaré surface of section did not have any points!\n",
      "\u001b[33m\u001b[1m└ \u001b[22m\u001b[39m\u001b[90m@ ChaosTools C:\\Users\\Alex\\.julia\\packages\\ChaosTools\\PHPDF\\src\\orbitdiagrams\\produce_orbitdiagram.jl:75\u001b[39m\n"
     ]
    },
    {
     "name": "stdout",
     "output_type": "stream",
     "text": [
      "\n",
      "parameter = -0.0967008"
     ]
    },
    {
     "name": "stderr",
     "output_type": "stream",
     "text": [
      "\u001b[33m\u001b[1m┌ \u001b[22m\u001b[39m\u001b[33m\u001b[1mWarning: \u001b[22m\u001b[39mFor parameter -0.0967006 The Poincaré surface of section did not have any points!\n",
      "\u001b[33m\u001b[1m└ \u001b[22m\u001b[39m\u001b[90m@ ChaosTools C:\\Users\\Alex\\.julia\\packages\\ChaosTools\\PHPDF\\src\\orbitdiagrams\\produce_orbitdiagram.jl:75\u001b[39m\n"
     ]
    },
    {
     "name": "stdout",
     "output_type": "stream",
     "text": [
      "\n",
      "parameter = -0.096701\n"
     ]
    },
    {
     "name": "stderr",
     "output_type": "stream",
     "text": [
      "\u001b[33m\u001b[1m┌ \u001b[22m\u001b[39m\u001b[33m\u001b[1mWarning: \u001b[22m\u001b[39mFor parameter -0.0967008 The Poincaré surface of section did not have any points!\n",
      "\u001b[33m\u001b[1m└ \u001b[22m\u001b[39m\u001b[90m@ ChaosTools C:\\Users\\Alex\\.julia\\packages\\ChaosTools\\PHPDF\\src\\orbitdiagrams\\produce_orbitdiagram.jl:75\u001b[39m\n"
     ]
    },
    {
     "name": "stdout",
     "output_type": "stream",
     "text": [
      "parameter = -0.0967012\n"
     ]
    },
    {
     "name": "stderr",
     "output_type": "stream",
     "text": [
      "\u001b[33m\u001b[1m┌ \u001b[22m\u001b[39m\u001b[33m\u001b[1mWarning: \u001b[22m\u001b[39mFor parameter -0.096701 The Poincaré surface of section did not have any points!\n",
      "\u001b[33m\u001b[1m└ \u001b[22m\u001b[39m\u001b[90m@ ChaosTools C:\\Users\\Alex\\.julia\\packages\\ChaosTools\\PHPDF\\src\\orbitdiagrams\\produce_orbitdiagram.jl:75\u001b[39m\n"
     ]
    },
    {
     "name": "stdout",
     "output_type": "stream",
     "text": [
      "parameter = -0.0967014"
     ]
    },
    {
     "name": "stderr",
     "output_type": "stream",
     "text": [
      "\u001b[33m\u001b[1m┌ \u001b[22m\u001b[39m\u001b[33m\u001b[1mWarning: \u001b[22m\u001b[39mFor parameter -0.0967012 The Poincaré surface of section did not have any points!\n",
      "\u001b[33m\u001b[1m└ \u001b[22m\u001b[39m\u001b[90m@ ChaosTools C:\\Users\\Alex\\.julia\\packages\\ChaosTools\\PHPDF\\src\\orbitdiagrams\\produce_orbitdiagram.jl:75\u001b[39m\n"
     ]
    },
    {
     "name": "stdout",
     "output_type": "stream",
     "text": [
      "\n",
      "parameter = -0.0967016"
     ]
    },
    {
     "name": "stderr",
     "output_type": "stream",
     "text": [
      "\u001b[33m\u001b[1m┌ \u001b[22m\u001b[39m\u001b[33m\u001b[1mWarning: \u001b[22m\u001b[39mFor parameter -0.0967014 The Poincaré surface of section did not have any points!\n",
      "\u001b[33m\u001b[1m└ \u001b[22m\u001b[39m\u001b[90m@ ChaosTools C:\\Users\\Alex\\.julia\\packages\\ChaosTools\\PHPDF\\src\\orbitdiagrams\\produce_orbitdiagram.jl:75\u001b[39m\n"
     ]
    },
    {
     "name": "stdout",
     "output_type": "stream",
     "text": [
      "\n",
      "parameter = -0.0967018"
     ]
    },
    {
     "name": "stderr",
     "output_type": "stream",
     "text": [
      "\u001b[33m\u001b[1m┌ \u001b[22m\u001b[39m\u001b[33m\u001b[1mWarning: \u001b[22m\u001b[39mFor parameter -0.0967016 The Poincaré surface of section did not have any points!\n",
      "\u001b[33m\u001b[1m└ \u001b[22m\u001b[39m\u001b[90m@ ChaosTools C:\\Users\\Alex\\.julia\\packages\\ChaosTools\\PHPDF\\src\\orbitdiagrams\\produce_orbitdiagram.jl:75\u001b[39m\n"
     ]
    },
    {
     "name": "stdout",
     "output_type": "stream",
     "text": [
      "\n",
      "parameter = -0.096702\n"
     ]
    },
    {
     "name": "stderr",
     "output_type": "stream",
     "text": [
      "\u001b[33m\u001b[1m┌ \u001b[22m\u001b[39m\u001b[33m\u001b[1mWarning: \u001b[22m\u001b[39mFor parameter -0.0967018 The Poincaré surface of section did not have any points!\n",
      "\u001b[33m\u001b[1m└ \u001b[22m\u001b[39m\u001b[90m@ ChaosTools C:\\Users\\Alex\\.julia\\packages\\ChaosTools\\PHPDF\\src\\orbitdiagrams\\produce_orbitdiagram.jl:75\u001b[39m\n"
     ]
    },
    {
     "name": "stdout",
     "output_type": "stream",
     "text": [
      "parameter = -0.0967022"
     ]
    },
    {
     "name": "stderr",
     "output_type": "stream",
     "text": [
      "\u001b[33m\u001b[1m┌ \u001b[22m\u001b[39m\u001b[33m\u001b[1mWarning: \u001b[22m\u001b[39mFor parameter -0.096702 The Poincaré surface of section did not have any points!\n",
      "\u001b[33m\u001b[1m└ \u001b[22m\u001b[39m\u001b[90m@ ChaosTools C:\\Users\\Alex\\.julia\\packages\\ChaosTools\\PHPDF\\src\\orbitdiagrams\\produce_orbitdiagram.jl:75\u001b[39m\n"
     ]
    },
    {
     "name": "stdout",
     "output_type": "stream",
     "text": [
      "\n",
      "parameter = -0.0967024\n"
     ]
    },
    {
     "name": "stderr",
     "output_type": "stream",
     "text": [
      "\u001b[33m\u001b[1m┌ \u001b[22m\u001b[39m\u001b[33m\u001b[1mWarning: \u001b[22m\u001b[39mFor parameter -0.0967022 The Poincaré surface of section did not have any points!\n",
      "\u001b[33m\u001b[1m└ \u001b[22m\u001b[39m\u001b[90m@ ChaosTools C:\\Users\\Alex\\.julia\\packages\\ChaosTools\\PHPDF\\src\\orbitdiagrams\\produce_orbitdiagram.jl:75\u001b[39m\n"
     ]
    },
    {
     "name": "stdout",
     "output_type": "stream",
     "text": [
      "parameter = -0.0967026"
     ]
    },
    {
     "name": "stderr",
     "output_type": "stream",
     "text": [
      "\u001b[33m\u001b[1m┌ \u001b[22m\u001b[39m\u001b[33m\u001b[1mWarning: \u001b[22m\u001b[39mFor parameter -0.0967024 The Poincaré surface of section did not have any points!\n",
      "\u001b[33m\u001b[1m└ \u001b[22m\u001b[39m\u001b[90m@ ChaosTools C:\\Users\\Alex\\.julia\\packages\\ChaosTools\\PHPDF\\src\\orbitdiagrams\\produce_orbitdiagram.jl:75\u001b[39m\n"
     ]
    },
    {
     "name": "stdout",
     "output_type": "stream",
     "text": [
      "\n",
      "parameter = -0.0967028\n"
     ]
    },
    {
     "name": "stderr",
     "output_type": "stream",
     "text": [
      "\u001b[33m\u001b[1m┌ \u001b[22m\u001b[39m\u001b[33m\u001b[1mWarning: \u001b[22m\u001b[39mFor parameter -0.0967026 The Poincaré surface of section did not have any points!\n",
      "\u001b[33m\u001b[1m└ \u001b[22m\u001b[39m\u001b[90m@ ChaosTools C:\\Users\\Alex\\.julia\\packages\\ChaosTools\\PHPDF\\src\\orbitdiagrams\\produce_orbitdiagram.jl:75\u001b[39m\n"
     ]
    },
    {
     "name": "stdout",
     "output_type": "stream",
     "text": [
      "parameter = -0.096703\n"
     ]
    },
    {
     "name": "stderr",
     "output_type": "stream",
     "text": [
      "\u001b[33m\u001b[1m┌ \u001b[22m\u001b[39m\u001b[33m\u001b[1mWarning: \u001b[22m\u001b[39mFor parameter -0.0967028 The Poincaré surface of section did not have any points!\n",
      "\u001b[33m\u001b[1m└ \u001b[22m\u001b[39m\u001b[90m@ ChaosTools C:\\Users\\Alex\\.julia\\packages\\ChaosTools\\PHPDF\\src\\orbitdiagrams\\produce_orbitdiagram.jl:75\u001b[39m\n"
     ]
    },
    {
     "name": "stdout",
     "output_type": "stream",
     "text": [
      "parameter = -0.0967032\n"
     ]
    },
    {
     "name": "stderr",
     "output_type": "stream",
     "text": [
      "\u001b[33m\u001b[1m┌ \u001b[22m\u001b[39m\u001b[33m\u001b[1mWarning: \u001b[22m\u001b[39mFor parameter -0.096703 The Poincaré surface of section did not have any points!\n",
      "\u001b[33m\u001b[1m└ \u001b[22m\u001b[39m\u001b[90m@ ChaosTools C:\\Users\\Alex\\.julia\\packages\\ChaosTools\\PHPDF\\src\\orbitdiagrams\\produce_orbitdiagram.jl:75\u001b[39m\n"
     ]
    },
    {
     "name": "stdout",
     "output_type": "stream",
     "text": [
      "parameter = -0.0967034"
     ]
    },
    {
     "name": "stderr",
     "output_type": "stream",
     "text": [
      "\u001b[33m\u001b[1m┌ \u001b[22m\u001b[39m\u001b[33m\u001b[1mWarning: \u001b[22m\u001b[39mFor parameter -0.0967032 The Poincaré surface of section did not have any points!\n",
      "\u001b[33m\u001b[1m└ \u001b[22m\u001b[39m\u001b[90m@ ChaosTools C:\\Users\\Alex\\.julia\\packages\\ChaosTools\\PHPDF\\src\\orbitdiagrams\\produce_orbitdiagram.jl:75\u001b[39m\n"
     ]
    },
    {
     "name": "stdout",
     "output_type": "stream",
     "text": [
      "\n",
      "parameter = -0.0967036\n"
     ]
    },
    {
     "name": "stderr",
     "output_type": "stream",
     "text": [
      "\u001b[33m\u001b[1m┌ \u001b[22m\u001b[39m\u001b[33m\u001b[1mWarning: \u001b[22m\u001b[39mFor parameter -0.0967034 The Poincaré surface of section did not have any points!\n",
      "\u001b[33m\u001b[1m└ \u001b[22m\u001b[39m\u001b[90m@ ChaosTools C:\\Users\\Alex\\.julia\\packages\\ChaosTools\\PHPDF\\src\\orbitdiagrams\\produce_orbitdiagram.jl:75\u001b[39m\n"
     ]
    },
    {
     "name": "stdout",
     "output_type": "stream",
     "text": [
      "parameter = -0.0967038"
     ]
    },
    {
     "name": "stderr",
     "output_type": "stream",
     "text": [
      "\u001b[33m\u001b[1m┌ \u001b[22m\u001b[39m\u001b[33m\u001b[1mWarning: \u001b[22m\u001b[39mFor parameter -0.0967036 The Poincaré surface of section did not have any points!\n",
      "\u001b[33m\u001b[1m└ \u001b[22m\u001b[39m\u001b[90m@ ChaosTools C:\\Users\\Alex\\.julia\\packages\\ChaosTools\\PHPDF\\src\\orbitdiagrams\\produce_orbitdiagram.jl:75\u001b[39m\n"
     ]
    },
    {
     "name": "stdout",
     "output_type": "stream",
     "text": [
      "\n",
      "parameter = -0.096704\n"
     ]
    },
    {
     "name": "stderr",
     "output_type": "stream",
     "text": [
      "\u001b[33m\u001b[1m┌ \u001b[22m\u001b[39m\u001b[33m\u001b[1mWarning: \u001b[22m\u001b[39mFor parameter -0.0967038 The Poincaré surface of section did not have any points!\n",
      "\u001b[33m\u001b[1m└ \u001b[22m\u001b[39m\u001b[90m@ ChaosTools C:\\Users\\Alex\\.julia\\packages\\ChaosTools\\PHPDF\\src\\orbitdiagrams\\produce_orbitdiagram.jl:75\u001b[39m\n"
     ]
    },
    {
     "name": "stdout",
     "output_type": "stream",
     "text": [
      "parameter = -0.0967042\n"
     ]
    },
    {
     "name": "stderr",
     "output_type": "stream",
     "text": [
      "\u001b[33m\u001b[1m┌ \u001b[22m\u001b[39m\u001b[33m\u001b[1mWarning: \u001b[22m\u001b[39mFor parameter -0.096704 The Poincaré surface of section did not have any points!\n",
      "\u001b[33m\u001b[1m└ \u001b[22m\u001b[39m\u001b[90m@ ChaosTools C:\\Users\\Alex\\.julia\\packages\\ChaosTools\\PHPDF\\src\\orbitdiagrams\\produce_orbitdiagram.jl:75\u001b[39m\n"
     ]
    },
    {
     "name": "stdout",
     "output_type": "stream",
     "text": [
      "parameter = -0.0967044"
     ]
    },
    {
     "name": "stderr",
     "output_type": "stream",
     "text": [
      "\u001b[33m\u001b[1m┌ \u001b[22m\u001b[39m\u001b[33m\u001b[1mWarning: \u001b[22m\u001b[39mFor parameter -0.0967042 The Poincaré surface of section did not have any points!\n",
      "\u001b[33m\u001b[1m└ \u001b[22m\u001b[39m\u001b[90m@ ChaosTools C:\\Users\\Alex\\.julia\\packages\\ChaosTools\\PHPDF\\src\\orbitdiagrams\\produce_orbitdiagram.jl:75\u001b[39m\n"
     ]
    },
    {
     "name": "stdout",
     "output_type": "stream",
     "text": [
      "\n",
      "parameter = -0.0967046\n"
     ]
    },
    {
     "name": "stderr",
     "output_type": "stream",
     "text": [
      "\u001b[33m\u001b[1m┌ \u001b[22m\u001b[39m\u001b[33m\u001b[1mWarning: \u001b[22m\u001b[39mFor parameter -0.0967044 The Poincaré surface of section did not have any points!\n",
      "\u001b[33m\u001b[1m└ \u001b[22m\u001b[39m\u001b[90m@ ChaosTools C:\\Users\\Alex\\.julia\\packages\\ChaosTools\\PHPDF\\src\\orbitdiagrams\\produce_orbitdiagram.jl:75\u001b[39m\n"
     ]
    },
    {
     "name": "stdout",
     "output_type": "stream",
     "text": [
      "parameter = -0.0967048"
     ]
    },
    {
     "name": "stderr",
     "output_type": "stream",
     "text": [
      "\u001b[33m\u001b[1m┌ \u001b[22m\u001b[39m\u001b[33m\u001b[1mWarning: \u001b[22m\u001b[39mFor parameter -0.0967046 The Poincaré surface of section did not have any points!\n",
      "\u001b[33m\u001b[1m└ \u001b[22m\u001b[39m\u001b[90m@ ChaosTools C:\\Users\\Alex\\.julia\\packages\\ChaosTools\\PHPDF\\src\\orbitdiagrams\\produce_orbitdiagram.jl:75\u001b[39m\n"
     ]
    },
    {
     "name": "stdout",
     "output_type": "stream",
     "text": [
      "\n",
      "parameter = -0.096705"
     ]
    },
    {
     "name": "stderr",
     "output_type": "stream",
     "text": [
      "\u001b[33m\u001b[1m┌ \u001b[22m\u001b[39m\u001b[33m\u001b[1mWarning: \u001b[22m\u001b[39mFor parameter -0.0967048 The Poincaré surface of section did not have any points!\n",
      "\u001b[33m\u001b[1m└ \u001b[22m\u001b[39m\u001b[90m@ ChaosTools C:\\Users\\Alex\\.julia\\packages\\ChaosTools\\PHPDF\\src\\orbitdiagrams\\produce_orbitdiagram.jl:75\u001b[39m\n"
     ]
    },
    {
     "name": "stdout",
     "output_type": "stream",
     "text": [
      "\n",
      "parameter = -0.0967052"
     ]
    },
    {
     "name": "stderr",
     "output_type": "stream",
     "text": [
      "\u001b[33m\u001b[1m┌ \u001b[22m\u001b[39m\u001b[33m\u001b[1mWarning: \u001b[22m\u001b[39mFor parameter -0.096705 The Poincaré surface of section did not have any points!\n",
      "\u001b[33m\u001b[1m└ \u001b[22m\u001b[39m\u001b[90m@ ChaosTools C:\\Users\\Alex\\.julia\\packages\\ChaosTools\\PHPDF\\src\\orbitdiagrams\\produce_orbitdiagram.jl:75\u001b[39m\n"
     ]
    },
    {
     "name": "stdout",
     "output_type": "stream",
     "text": [
      "\n",
      "parameter = -0.0967054"
     ]
    },
    {
     "name": "stderr",
     "output_type": "stream",
     "text": [
      "\u001b[33m\u001b[1m┌ \u001b[22m\u001b[39m\u001b[33m\u001b[1mWarning: \u001b[22m\u001b[39mFor parameter -0.0967052 The Poincaré surface of section did not have any points!\n",
      "\u001b[33m\u001b[1m└ \u001b[22m\u001b[39m\u001b[90m@ ChaosTools C:\\Users\\Alex\\.julia\\packages\\ChaosTools\\PHPDF\\src\\orbitdiagrams\\produce_orbitdiagram.jl:75\u001b[39m\n"
     ]
    },
    {
     "name": "stdout",
     "output_type": "stream",
     "text": [
      "\n",
      "parameter = -0.0967056"
     ]
    },
    {
     "name": "stderr",
     "output_type": "stream",
     "text": [
      "\u001b[33m\u001b[1m┌ \u001b[22m\u001b[39m\u001b[33m\u001b[1mWarning: \u001b[22m\u001b[39mFor parameter -0.0967054 The Poincaré surface of section did not have any points!\n",
      "\u001b[33m\u001b[1m└ \u001b[22m\u001b[39m\u001b[90m@ ChaosTools C:\\Users\\Alex\\.julia\\packages\\ChaosTools\\PHPDF\\src\\orbitdiagrams\\produce_orbitdiagram.jl:75\u001b[39m\n"
     ]
    },
    {
     "name": "stdout",
     "output_type": "stream",
     "text": [
      "\n",
      "parameter = -0.0967058\n"
     ]
    },
    {
     "name": "stderr",
     "output_type": "stream",
     "text": [
      "\u001b[33m\u001b[1m┌ \u001b[22m\u001b[39m\u001b[33m\u001b[1mWarning: \u001b[22m\u001b[39mFor parameter -0.0967056 The Poincaré surface of section did not have any points!\n",
      "\u001b[33m\u001b[1m└ \u001b[22m\u001b[39m\u001b[90m@ ChaosTools C:\\Users\\Alex\\.julia\\packages\\ChaosTools\\PHPDF\\src\\orbitdiagrams\\produce_orbitdiagram.jl:75\u001b[39m\n"
     ]
    },
    {
     "name": "stdout",
     "output_type": "stream",
     "text": [
      "parameter = -0.096706\n"
     ]
    },
    {
     "name": "stderr",
     "output_type": "stream",
     "text": [
      "\u001b[33m\u001b[1m┌ \u001b[22m\u001b[39m\u001b[33m\u001b[1mWarning: \u001b[22m\u001b[39mFor parameter -0.0967058 The Poincaré surface of section did not have any points!\n",
      "\u001b[33m\u001b[1m└ \u001b[22m\u001b[39m\u001b[90m@ ChaosTools C:\\Users\\Alex\\.julia\\packages\\ChaosTools\\PHPDF\\src\\orbitdiagrams\\produce_orbitdiagram.jl:75\u001b[39m\n"
     ]
    },
    {
     "name": "stdout",
     "output_type": "stream",
     "text": [
      "parameter = -0.0967062"
     ]
    },
    {
     "name": "stderr",
     "output_type": "stream",
     "text": [
      "\u001b[33m\u001b[1m┌ \u001b[22m\u001b[39m\u001b[33m\u001b[1mWarning: \u001b[22m\u001b[39mFor parameter -0.096706 The Poincaré surface of section did not have any points!\n",
      "\u001b[33m\u001b[1m└ \u001b[22m\u001b[39m\u001b[90m@ ChaosTools C:\\Users\\Alex\\.julia\\packages\\ChaosTools\\PHPDF\\src\\orbitdiagrams\\produce_orbitdiagram.jl:75\u001b[39m\n"
     ]
    },
    {
     "name": "stdout",
     "output_type": "stream",
     "text": [
      "\n",
      "parameter = -0.0967064\n"
     ]
    },
    {
     "name": "stderr",
     "output_type": "stream",
     "text": [
      "\u001b[33m\u001b[1m┌ \u001b[22m\u001b[39m\u001b[33m\u001b[1mWarning: \u001b[22m\u001b[39mFor parameter -0.0967062 The Poincaré surface of section did not have any points!\n",
      "\u001b[33m\u001b[1m└ \u001b[22m\u001b[39m\u001b[90m@ ChaosTools C:\\Users\\Alex\\.julia\\packages\\ChaosTools\\PHPDF\\src\\orbitdiagrams\\produce_orbitdiagram.jl:75\u001b[39m\n"
     ]
    },
    {
     "name": "stdout",
     "output_type": "stream",
     "text": [
      "parameter = -0.0967066"
     ]
    },
    {
     "name": "stderr",
     "output_type": "stream",
     "text": [
      "\u001b[33m\u001b[1m┌ \u001b[22m\u001b[39m\u001b[33m\u001b[1mWarning: \u001b[22m\u001b[39mFor parameter -0.0967064 The Poincaré surface of section did not have any points!\n",
      "\u001b[33m\u001b[1m└ \u001b[22m\u001b[39m\u001b[90m@ ChaosTools C:\\Users\\Alex\\.julia\\packages\\ChaosTools\\PHPDF\\src\\orbitdiagrams\\produce_orbitdiagram.jl:75\u001b[39m\n"
     ]
    },
    {
     "name": "stdout",
     "output_type": "stream",
     "text": [
      "\n",
      "parameter = -0.0967068\n"
     ]
    },
    {
     "name": "stderr",
     "output_type": "stream",
     "text": [
      "\u001b[33m\u001b[1m┌ \u001b[22m\u001b[39m\u001b[33m\u001b[1mWarning: \u001b[22m\u001b[39mFor parameter -0.0967066 The Poincaré surface of section did not have any points!\n",
      "\u001b[33m\u001b[1m└ \u001b[22m\u001b[39m\u001b[90m@ ChaosTools C:\\Users\\Alex\\.julia\\packages\\ChaosTools\\PHPDF\\src\\orbitdiagrams\\produce_orbitdiagram.jl:75\u001b[39m\n"
     ]
    },
    {
     "name": "stdout",
     "output_type": "stream",
     "text": [
      "parameter = -0.096707"
     ]
    },
    {
     "name": "stderr",
     "output_type": "stream",
     "text": [
      "\u001b[33m\u001b[1m┌ \u001b[22m\u001b[39m\u001b[33m\u001b[1mWarning: \u001b[22m\u001b[39mFor parameter -0.0967068 The Poincaré surface of section did not have any points!\n",
      "\u001b[33m\u001b[1m└ \u001b[22m\u001b[39m\u001b[90m@ ChaosTools C:\\Users\\Alex\\.julia\\packages\\ChaosTools\\PHPDF\\src\\orbitdiagrams\\produce_orbitdiagram.jl:75\u001b[39m\n"
     ]
    },
    {
     "name": "stdout",
     "output_type": "stream",
     "text": [
      "\n",
      "parameter = -0.0967072"
     ]
    },
    {
     "name": "stderr",
     "output_type": "stream",
     "text": [
      "\u001b[33m\u001b[1m┌ \u001b[22m\u001b[39m\u001b[33m\u001b[1mWarning: \u001b[22m\u001b[39mFor parameter -0.096707 The Poincaré surface of section did not have any points!\n",
      "\u001b[33m\u001b[1m└ \u001b[22m\u001b[39m\u001b[90m@ ChaosTools C:\\Users\\Alex\\.julia\\packages\\ChaosTools\\PHPDF\\src\\orbitdiagrams\\produce_orbitdiagram.jl:75\u001b[39m\n"
     ]
    },
    {
     "name": "stdout",
     "output_type": "stream",
     "text": [
      "\n",
      "parameter = -0.0967074"
     ]
    },
    {
     "name": "stderr",
     "output_type": "stream",
     "text": [
      "\u001b[33m\u001b[1m┌ \u001b[22m\u001b[39m\u001b[33m\u001b[1mWarning: \u001b[22m\u001b[39mFor parameter -0.0967072 The Poincaré surface of section did not have any points!\n",
      "\u001b[33m\u001b[1m└ \u001b[22m\u001b[39m\u001b[90m@ ChaosTools C:\\Users\\Alex\\.julia\\packages\\ChaosTools\\PHPDF\\src\\orbitdiagrams\\produce_orbitdiagram.jl:75\u001b[39m\n"
     ]
    },
    {
     "name": "stdout",
     "output_type": "stream",
     "text": [
      "\n",
      "parameter = -0.0967076"
     ]
    },
    {
     "name": "stderr",
     "output_type": "stream",
     "text": [
      "\u001b[33m\u001b[1m┌ \u001b[22m\u001b[39m\u001b[33m\u001b[1mWarning: \u001b[22m\u001b[39mFor parameter -0.0967074 The Poincaré surface of section did not have any points!\n",
      "\u001b[33m\u001b[1m└ \u001b[22m\u001b[39m\u001b[90m@ ChaosTools C:\\Users\\Alex\\.julia\\packages\\ChaosTools\\PHPDF\\src\\orbitdiagrams\\produce_orbitdiagram.jl:75\u001b[39m\n"
     ]
    },
    {
     "name": "stdout",
     "output_type": "stream",
     "text": [
      "\n",
      "parameter = -0.0967078\n"
     ]
    },
    {
     "name": "stderr",
     "output_type": "stream",
     "text": [
      "\u001b[33m\u001b[1m┌ \u001b[22m\u001b[39m\u001b[33m\u001b[1mWarning: \u001b[22m\u001b[39mFor parameter -0.0967076 The Poincaré surface of section did not have any points!\n",
      "\u001b[33m\u001b[1m└ \u001b[22m\u001b[39m\u001b[90m@ ChaosTools C:\\Users\\Alex\\.julia\\packages\\ChaosTools\\PHPDF\\src\\orbitdiagrams\\produce_orbitdiagram.jl:75\u001b[39m\n"
     ]
    },
    {
     "name": "stdout",
     "output_type": "stream",
     "text": [
      "parameter = -0.096708"
     ]
    },
    {
     "name": "stderr",
     "output_type": "stream",
     "text": [
      "\u001b[33m\u001b[1m┌ \u001b[22m\u001b[39m\u001b[33m\u001b[1mWarning: \u001b[22m\u001b[39mFor parameter -0.0967078 The Poincaré surface of section did not have any points!\n",
      "\u001b[33m\u001b[1m└ \u001b[22m\u001b[39m\u001b[90m@ ChaosTools C:\\Users\\Alex\\.julia\\packages\\ChaosTools\\PHPDF\\src\\orbitdiagrams\\produce_orbitdiagram.jl:75\u001b[39m\n"
     ]
    },
    {
     "name": "stdout",
     "output_type": "stream",
     "text": [
      "\n",
      "parameter = -0.0967082\n"
     ]
    },
    {
     "name": "stderr",
     "output_type": "stream",
     "text": [
      "\u001b[33m\u001b[1m┌ \u001b[22m\u001b[39m\u001b[33m\u001b[1mWarning: \u001b[22m\u001b[39mFor parameter -0.096708 The Poincaré surface of section did not have any points!\n",
      "\u001b[33m\u001b[1m└ \u001b[22m\u001b[39m\u001b[90m@ ChaosTools C:\\Users\\Alex\\.julia\\packages\\ChaosTools\\PHPDF\\src\\orbitdiagrams\\produce_orbitdiagram.jl:75\u001b[39m\n"
     ]
    },
    {
     "name": "stdout",
     "output_type": "stream",
     "text": [
      "parameter = -0.0967084\n"
     ]
    },
    {
     "name": "stderr",
     "output_type": "stream",
     "text": [
      "\u001b[33m\u001b[1m┌ \u001b[22m\u001b[39m\u001b[33m\u001b[1mWarning: \u001b[22m\u001b[39mFor parameter -0.0967082 The Poincaré surface of section did not have any points!\n",
      "\u001b[33m\u001b[1m└ \u001b[22m\u001b[39m\u001b[90m@ ChaosTools C:\\Users\\Alex\\.julia\\packages\\ChaosTools\\PHPDF\\src\\orbitdiagrams\\produce_orbitdiagram.jl:75\u001b[39m\n"
     ]
    },
    {
     "name": "stdout",
     "output_type": "stream",
     "text": [
      "parameter = -0.0967086"
     ]
    },
    {
     "name": "stderr",
     "output_type": "stream",
     "text": [
      "\u001b[33m\u001b[1m┌ \u001b[22m\u001b[39m\u001b[33m\u001b[1mWarning: \u001b[22m\u001b[39mFor parameter -0.0967084 The Poincaré surface of section did not have any points!\n",
      "\u001b[33m\u001b[1m└ \u001b[22m\u001b[39m\u001b[90m@ ChaosTools C:\\Users\\Alex\\.julia\\packages\\ChaosTools\\PHPDF\\src\\orbitdiagrams\\produce_orbitdiagram.jl:75\u001b[39m\n"
     ]
    },
    {
     "name": "stdout",
     "output_type": "stream",
     "text": [
      "\n",
      "parameter = -0.0967088\n"
     ]
    },
    {
     "name": "stderr",
     "output_type": "stream",
     "text": [
      "\u001b[33m\u001b[1m┌ \u001b[22m\u001b[39m\u001b[33m\u001b[1mWarning: \u001b[22m\u001b[39mFor parameter -0.0967086 The Poincaré surface of section did not have any points!\n",
      "\u001b[33m\u001b[1m└ \u001b[22m\u001b[39m\u001b[90m@ ChaosTools C:\\Users\\Alex\\.julia\\packages\\ChaosTools\\PHPDF\\src\\orbitdiagrams\\produce_orbitdiagram.jl:75\u001b[39m\n"
     ]
    },
    {
     "name": "stdout",
     "output_type": "stream",
     "text": [
      "parameter = -0.096709\n"
     ]
    },
    {
     "name": "stderr",
     "output_type": "stream",
     "text": [
      "\u001b[33m\u001b[1m┌ \u001b[22m\u001b[39m\u001b[33m\u001b[1mWarning: \u001b[22m\u001b[39mFor parameter -0.0967088 The Poincaré surface of section did not have any points!\n",
      "\u001b[33m\u001b[1m└ \u001b[22m\u001b[39m\u001b[90m@ ChaosTools C:\\Users\\Alex\\.julia\\packages\\ChaosTools\\PHPDF\\src\\orbitdiagrams\\produce_orbitdiagram.jl:75\u001b[39m\n"
     ]
    },
    {
     "name": "stdout",
     "output_type": "stream",
     "text": [
      "parameter = -0.0967092"
     ]
    },
    {
     "name": "stderr",
     "output_type": "stream",
     "text": [
      "\u001b[33m\u001b[1m┌ \u001b[22m\u001b[39m\u001b[33m\u001b[1mWarning: \u001b[22m\u001b[39mFor parameter -0.096709 The Poincaré surface of section did not have any points!\n",
      "\u001b[33m\u001b[1m└ \u001b[22m\u001b[39m\u001b[90m@ ChaosTools C:\\Users\\Alex\\.julia\\packages\\ChaosTools\\PHPDF\\src\\orbitdiagrams\\produce_orbitdiagram.jl:75\u001b[39m\n"
     ]
    },
    {
     "name": "stdout",
     "output_type": "stream",
     "text": [
      "\n",
      "parameter = -0.0967094\n"
     ]
    },
    {
     "name": "stderr",
     "output_type": "stream",
     "text": [
      "\u001b[33m\u001b[1m┌ \u001b[22m\u001b[39m\u001b[33m\u001b[1mWarning: \u001b[22m\u001b[39mFor parameter -0.0967092 The Poincaré surface of section did not have any points!\n",
      "\u001b[33m\u001b[1m└ \u001b[22m\u001b[39m\u001b[90m@ ChaosTools C:\\Users\\Alex\\.julia\\packages\\ChaosTools\\PHPDF\\src\\orbitdiagrams\\produce_orbitdiagram.jl:75\u001b[39m\n"
     ]
    },
    {
     "name": "stdout",
     "output_type": "stream",
     "text": [
      "parameter = -0.0967096"
     ]
    },
    {
     "name": "stderr",
     "output_type": "stream",
     "text": [
      "\u001b[33m\u001b[1m┌ \u001b[22m\u001b[39m\u001b[33m\u001b[1mWarning: \u001b[22m\u001b[39mFor parameter -0.0967094 The Poincaré surface of section did not have any points!\n",
      "\u001b[33m\u001b[1m└ \u001b[22m\u001b[39m\u001b[90m@ ChaosTools C:\\Users\\Alex\\.julia\\packages\\ChaosTools\\PHPDF\\src\\orbitdiagrams\\produce_orbitdiagram.jl:75\u001b[39m\n"
     ]
    },
    {
     "name": "stdout",
     "output_type": "stream",
     "text": [
      "\n",
      "parameter = -0.0967098"
     ]
    },
    {
     "name": "stderr",
     "output_type": "stream",
     "text": [
      "\u001b[33m\u001b[1m┌ \u001b[22m\u001b[39m\u001b[33m\u001b[1mWarning: \u001b[22m\u001b[39mFor parameter -0.0967096 The Poincaré surface of section did not have any points!\n",
      "\u001b[33m\u001b[1m└ \u001b[22m\u001b[39m\u001b[90m@ ChaosTools C:\\Users\\Alex\\.julia\\packages\\ChaosTools\\PHPDF\\src\\orbitdiagrams\\produce_orbitdiagram.jl:75\u001b[39m\n"
     ]
    },
    {
     "name": "stdout",
     "output_type": "stream",
     "text": [
      "\n",
      "parameter = -0.09671\n"
     ]
    },
    {
     "name": "stderr",
     "output_type": "stream",
     "text": [
      "\u001b[33m\u001b[1m┌ \u001b[22m\u001b[39m\u001b[33m\u001b[1mWarning: \u001b[22m\u001b[39mFor parameter -0.0967098 The Poincaré surface of section did not have any points!\n",
      "\u001b[33m\u001b[1m└ \u001b[22m\u001b[39m\u001b[90m@ ChaosTools C:\\Users\\Alex\\.julia\\packages\\ChaosTools\\PHPDF\\src\\orbitdiagrams\\produce_orbitdiagram.jl:75\u001b[39m\n"
     ]
    },
    {
     "name": "stdout",
     "output_type": "stream",
     "text": [
      "parameter = -0.0967102"
     ]
    },
    {
     "name": "stderr",
     "output_type": "stream",
     "text": [
      "\u001b[33m\u001b[1m┌ \u001b[22m\u001b[39m\u001b[33m\u001b[1mWarning: \u001b[22m\u001b[39mFor parameter -0.09671 The Poincaré surface of section did not have any points!\n",
      "\u001b[33m\u001b[1m└ \u001b[22m\u001b[39m\u001b[90m@ ChaosTools C:\\Users\\Alex\\.julia\\packages\\ChaosTools\\PHPDF\\src\\orbitdiagrams\\produce_orbitdiagram.jl:75\u001b[39m\n"
     ]
    },
    {
     "name": "stdout",
     "output_type": "stream",
     "text": [
      "\n",
      "parameter = -0.0967104\n"
     ]
    },
    {
     "name": "stderr",
     "output_type": "stream",
     "text": [
      "\u001b[33m\u001b[1m┌ \u001b[22m\u001b[39m\u001b[33m\u001b[1mWarning: \u001b[22m\u001b[39mFor parameter -0.0967102 The Poincaré surface of section did not have any points!\n",
      "\u001b[33m\u001b[1m└ \u001b[22m\u001b[39m\u001b[90m@ ChaosTools C:\\Users\\Alex\\.julia\\packages\\ChaosTools\\PHPDF\\src\\orbitdiagrams\\produce_orbitdiagram.jl:75\u001b[39m\n"
     ]
    },
    {
     "name": "stdout",
     "output_type": "stream",
     "text": [
      "parameter = -0.0967106"
     ]
    },
    {
     "name": "stderr",
     "output_type": "stream",
     "text": [
      "\u001b[33m\u001b[1m┌ \u001b[22m\u001b[39m\u001b[33m\u001b[1mWarning: \u001b[22m\u001b[39mFor parameter -0.0967104 The Poincaré surface of section did not have any points!\n",
      "\u001b[33m\u001b[1m└ \u001b[22m\u001b[39m\u001b[90m@ ChaosTools C:\\Users\\Alex\\.julia\\packages\\ChaosTools\\PHPDF\\src\\orbitdiagrams\\produce_orbitdiagram.jl:75\u001b[39m\n"
     ]
    },
    {
     "name": "stdout",
     "output_type": "stream",
     "text": [
      "\n",
      "parameter = -0.0967108\n"
     ]
    },
    {
     "name": "stderr",
     "output_type": "stream",
     "text": [
      "\u001b[33m\u001b[1m┌ \u001b[22m\u001b[39m\u001b[33m\u001b[1mWarning: \u001b[22m\u001b[39mFor parameter -0.0967106 The Poincaré surface of section did not have any points!\n",
      "\u001b[33m\u001b[1m└ \u001b[22m\u001b[39m\u001b[90m@ ChaosTools C:\\Users\\Alex\\.julia\\packages\\ChaosTools\\PHPDF\\src\\orbitdiagrams\\produce_orbitdiagram.jl:75\u001b[39m\n"
     ]
    },
    {
     "name": "stdout",
     "output_type": "stream",
     "text": [
      "parameter = -0.096711\n"
     ]
    },
    {
     "name": "stderr",
     "output_type": "stream",
     "text": [
      "\u001b[33m\u001b[1m┌ \u001b[22m\u001b[39m\u001b[33m\u001b[1mWarning: \u001b[22m\u001b[39mFor parameter -0.0967108 The Poincaré surface of section did not have any points!\n",
      "\u001b[33m\u001b[1m└ \u001b[22m\u001b[39m\u001b[90m@ ChaosTools C:\\Users\\Alex\\.julia\\packages\\ChaosTools\\PHPDF\\src\\orbitdiagrams\\produce_orbitdiagram.jl:75\u001b[39m\n"
     ]
    },
    {
     "name": "stdout",
     "output_type": "stream",
     "text": [
      "parameter = -0.0967112"
     ]
    },
    {
     "name": "stderr",
     "output_type": "stream",
     "text": [
      "\u001b[33m\u001b[1m┌ \u001b[22m\u001b[39m\u001b[33m\u001b[1mWarning: \u001b[22m\u001b[39mFor parameter -0.096711 The Poincaré surface of section did not have any points!\n",
      "\u001b[33m\u001b[1m└ \u001b[22m\u001b[39m\u001b[90m@ ChaosTools C:\\Users\\Alex\\.julia\\packages\\ChaosTools\\PHPDF\\src\\orbitdiagrams\\produce_orbitdiagram.jl:75\u001b[39m\n"
     ]
    },
    {
     "name": "stdout",
     "output_type": "stream",
     "text": [
      "\n",
      "parameter = -0.0967114\n"
     ]
    },
    {
     "name": "stderr",
     "output_type": "stream",
     "text": [
      "\u001b[33m\u001b[1m┌ \u001b[22m\u001b[39m\u001b[33m\u001b[1mWarning: \u001b[22m\u001b[39mFor parameter -0.0967112 The Poincaré surface of section did not have any points!\n",
      "\u001b[33m\u001b[1m└ \u001b[22m\u001b[39m\u001b[90m@ ChaosTools C:\\Users\\Alex\\.julia\\packages\\ChaosTools\\PHPDF\\src\\orbitdiagrams\\produce_orbitdiagram.jl:75\u001b[39m\n"
     ]
    },
    {
     "name": "stdout",
     "output_type": "stream",
     "text": [
      "parameter = -0.0967116"
     ]
    },
    {
     "name": "stderr",
     "output_type": "stream",
     "text": [
      "\u001b[33m\u001b[1m┌ \u001b[22m\u001b[39m\u001b[33m\u001b[1mWarning: \u001b[22m\u001b[39mFor parameter -0.0967114 The Poincaré surface of section did not have any points!\n",
      "\u001b[33m\u001b[1m└ \u001b[22m\u001b[39m\u001b[90m@ ChaosTools C:\\Users\\Alex\\.julia\\packages\\ChaosTools\\PHPDF\\src\\orbitdiagrams\\produce_orbitdiagram.jl:75\u001b[39m\n"
     ]
    },
    {
     "name": "stdout",
     "output_type": "stream",
     "text": [
      "\n",
      "parameter = -0.0967118\n"
     ]
    },
    {
     "name": "stderr",
     "output_type": "stream",
     "text": [
      "\u001b[33m\u001b[1m┌ \u001b[22m\u001b[39m\u001b[33m\u001b[1mWarning: \u001b[22m\u001b[39mFor parameter -0.0967116 The Poincaré surface of section did not have any points!\n",
      "\u001b[33m\u001b[1m└ \u001b[22m\u001b[39m\u001b[90m@ ChaosTools C:\\Users\\Alex\\.julia\\packages\\ChaosTools\\PHPDF\\src\\orbitdiagrams\\produce_orbitdiagram.jl:75\u001b[39m\n"
     ]
    },
    {
     "name": "stdout",
     "output_type": "stream",
     "text": [
      "parameter = -0.096712"
     ]
    },
    {
     "name": "stderr",
     "output_type": "stream",
     "text": [
      "\u001b[33m\u001b[1m┌ \u001b[22m\u001b[39m\u001b[33m\u001b[1mWarning: \u001b[22m\u001b[39mFor parameter -0.0967118 The Poincaré surface of section did not have any points!\n",
      "\u001b[33m\u001b[1m└ \u001b[22m\u001b[39m\u001b[90m@ ChaosTools C:\\Users\\Alex\\.julia\\packages\\ChaosTools\\PHPDF\\src\\orbitdiagrams\\produce_orbitdiagram.jl:75\u001b[39m\n"
     ]
    },
    {
     "name": "stdout",
     "output_type": "stream",
     "text": [
      "\n",
      "parameter = -0.0967122"
     ]
    },
    {
     "name": "stderr",
     "output_type": "stream",
     "text": [
      "\u001b[33m\u001b[1m┌ \u001b[22m\u001b[39m\u001b[33m\u001b[1mWarning: \u001b[22m\u001b[39mFor parameter -0.096712 The Poincaré surface of section did not have any points!\n",
      "\u001b[33m\u001b[1m└ \u001b[22m\u001b[39m\u001b[90m@ ChaosTools C:\\Users\\Alex\\.julia\\packages\\ChaosTools\\PHPDF\\src\\orbitdiagrams\\produce_orbitdiagram.jl:75\u001b[39m\n"
     ]
    },
    {
     "name": "stdout",
     "output_type": "stream",
     "text": [
      "\n",
      "parameter = -0.0967124"
     ]
    },
    {
     "name": "stderr",
     "output_type": "stream",
     "text": [
      "\u001b[33m\u001b[1m┌ \u001b[22m\u001b[39m\u001b[33m\u001b[1mWarning: \u001b[22m\u001b[39mFor parameter -0.0967122 The Poincaré surface of section did not have any points!\n",
      "\u001b[33m\u001b[1m└ \u001b[22m\u001b[39m\u001b[90m@ ChaosTools C:\\Users\\Alex\\.julia\\packages\\ChaosTools\\PHPDF\\src\\orbitdiagrams\\produce_orbitdiagram.jl:75\u001b[39m\n"
     ]
    },
    {
     "name": "stdout",
     "output_type": "stream",
     "text": [
      "\n",
      "parameter = -0.0967126"
     ]
    },
    {
     "name": "stderr",
     "output_type": "stream",
     "text": [
      "\u001b[33m\u001b[1m┌ \u001b[22m\u001b[39m\u001b[33m\u001b[1mWarning: \u001b[22m\u001b[39mFor parameter -0.0967124 The Poincaré surface of section did not have any points!\n",
      "\u001b[33m\u001b[1m└ \u001b[22m\u001b[39m\u001b[90m@ ChaosTools C:\\Users\\Alex\\.julia\\packages\\ChaosTools\\PHPDF\\src\\orbitdiagrams\\produce_orbitdiagram.jl:75\u001b[39m\n"
     ]
    },
    {
     "name": "stdout",
     "output_type": "stream",
     "text": [
      "\n",
      "parameter = -0.0967128\n"
     ]
    },
    {
     "name": "stderr",
     "output_type": "stream",
     "text": [
      "\u001b[33m\u001b[1m┌ \u001b[22m\u001b[39m\u001b[33m\u001b[1mWarning: \u001b[22m\u001b[39mFor parameter -0.0967126 The Poincaré surface of section did not have any points!\n",
      "\u001b[33m\u001b[1m└ \u001b[22m\u001b[39m\u001b[90m@ ChaosTools C:\\Users\\Alex\\.julia\\packages\\ChaosTools\\PHPDF\\src\\orbitdiagrams\\produce_orbitdiagram.jl:75\u001b[39m\n"
     ]
    },
    {
     "name": "stdout",
     "output_type": "stream",
     "text": [
      "parameter = -0.096713"
     ]
    },
    {
     "name": "stderr",
     "output_type": "stream",
     "text": [
      "\u001b[33m\u001b[1m┌ \u001b[22m\u001b[39m\u001b[33m\u001b[1mWarning: \u001b[22m\u001b[39mFor parameter -0.0967128 The Poincaré surface of section did not have any points!\n",
      "\u001b[33m\u001b[1m└ \u001b[22m\u001b[39m\u001b[90m@ ChaosTools C:\\Users\\Alex\\.julia\\packages\\ChaosTools\\PHPDF\\src\\orbitdiagrams\\produce_orbitdiagram.jl:75\u001b[39m\n"
     ]
    },
    {
     "name": "stdout",
     "output_type": "stream",
     "text": [
      "\n",
      "parameter = -0.0967132\n"
     ]
    },
    {
     "name": "stderr",
     "output_type": "stream",
     "text": [
      "\u001b[33m\u001b[1m┌ \u001b[22m\u001b[39m\u001b[33m\u001b[1mWarning: \u001b[22m\u001b[39mFor parameter -0.096713 The Poincaré surface of section did not have any points!\n",
      "\u001b[33m\u001b[1m└ \u001b[22m\u001b[39m\u001b[90m@ ChaosTools C:\\Users\\Alex\\.julia\\packages\\ChaosTools\\PHPDF\\src\\orbitdiagrams\\produce_orbitdiagram.jl:75\u001b[39m\n"
     ]
    },
    {
     "name": "stdout",
     "output_type": "stream",
     "text": [
      "parameter = -0.0967134"
     ]
    },
    {
     "name": "stderr",
     "output_type": "stream",
     "text": [
      "\u001b[33m\u001b[1m┌ \u001b[22m\u001b[39m\u001b[33m\u001b[1mWarning: \u001b[22m\u001b[39mFor parameter -0.0967132 The Poincaré surface of section did not have any points!\n",
      "\u001b[33m\u001b[1m└ \u001b[22m\u001b[39m\u001b[90m@ ChaosTools C:\\Users\\Alex\\.julia\\packages\\ChaosTools\\PHPDF\\src\\orbitdiagrams\\produce_orbitdiagram.jl:75\u001b[39m\n"
     ]
    },
    {
     "name": "stdout",
     "output_type": "stream",
     "text": [
      "\n",
      "parameter = -0.0967136\n"
     ]
    },
    {
     "name": "stderr",
     "output_type": "stream",
     "text": [
      "\u001b[33m\u001b[1m┌ \u001b[22m\u001b[39m\u001b[33m\u001b[1mWarning: \u001b[22m\u001b[39mFor parameter -0.0967134 The Poincaré surface of section did not have any points!\n",
      "\u001b[33m\u001b[1m└ \u001b[22m\u001b[39m\u001b[90m@ ChaosTools C:\\Users\\Alex\\.julia\\packages\\ChaosTools\\PHPDF\\src\\orbitdiagrams\\produce_orbitdiagram.jl:75\u001b[39m\n"
     ]
    },
    {
     "name": "stdout",
     "output_type": "stream",
     "text": [
      "parameter = -0.0967138\n"
     ]
    },
    {
     "name": "stderr",
     "output_type": "stream",
     "text": [
      "\u001b[33m\u001b[1m┌ \u001b[22m\u001b[39m\u001b[33m\u001b[1mWarning: \u001b[22m\u001b[39mFor parameter -0.0967136 The Poincaré surface of section did not have any points!\n",
      "\u001b[33m\u001b[1m└ \u001b[22m\u001b[39m\u001b[90m@ ChaosTools C:\\Users\\Alex\\.julia\\packages\\ChaosTools\\PHPDF\\src\\orbitdiagrams\\produce_orbitdiagram.jl:75\u001b[39m\n"
     ]
    },
    {
     "name": "stdout",
     "output_type": "stream",
     "text": [
      "parameter = -0.096714"
     ]
    },
    {
     "name": "stderr",
     "output_type": "stream",
     "text": [
      "\u001b[33m\u001b[1m┌ \u001b[22m\u001b[39m\u001b[33m\u001b[1mWarning: \u001b[22m\u001b[39mFor parameter -0.0967138 The Poincaré surface of section did not have any points!\n",
      "\u001b[33m\u001b[1m└ \u001b[22m\u001b[39m\u001b[90m@ ChaosTools C:\\Users\\Alex\\.julia\\packages\\ChaosTools\\PHPDF\\src\\orbitdiagrams\\produce_orbitdiagram.jl:75\u001b[39m\n"
     ]
    },
    {
     "name": "stdout",
     "output_type": "stream",
     "text": [
      "\n",
      "parameter = -0.0967142"
     ]
    },
    {
     "name": "stderr",
     "output_type": "stream",
     "text": [
      "\u001b[33m\u001b[1m┌ \u001b[22m\u001b[39m\u001b[33m\u001b[1mWarning: \u001b[22m\u001b[39mFor parameter -0.096714 The Poincaré surface of section did not have any points!\n",
      "\u001b[33m\u001b[1m└ \u001b[22m\u001b[39m\u001b[90m@ ChaosTools C:\\Users\\Alex\\.julia\\packages\\ChaosTools\\PHPDF\\src\\orbitdiagrams\\produce_orbitdiagram.jl:75\u001b[39m\n"
     ]
    },
    {
     "name": "stdout",
     "output_type": "stream",
     "text": [
      "\n",
      "parameter = -0.0967144\n"
     ]
    },
    {
     "name": "stderr",
     "output_type": "stream",
     "text": [
      "\u001b[33m\u001b[1m┌ \u001b[22m\u001b[39m\u001b[33m\u001b[1mWarning: \u001b[22m\u001b[39mFor parameter -0.0967142 The Poincaré surface of section did not have any points!\n",
      "\u001b[33m\u001b[1m└ \u001b[22m\u001b[39m\u001b[90m@ ChaosTools C:\\Users\\Alex\\.julia\\packages\\ChaosTools\\PHPDF\\src\\orbitdiagrams\\produce_orbitdiagram.jl:75\u001b[39m\n"
     ]
    },
    {
     "name": "stdout",
     "output_type": "stream",
     "text": [
      "parameter = -0.0967146"
     ]
    },
    {
     "name": "stderr",
     "output_type": "stream",
     "text": [
      "\u001b[33m\u001b[1m┌ \u001b[22m\u001b[39m\u001b[33m\u001b[1mWarning: \u001b[22m\u001b[39mFor parameter -0.0967144 The Poincaré surface of section did not have any points!\n",
      "\u001b[33m\u001b[1m└ \u001b[22m\u001b[39m\u001b[90m@ ChaosTools C:\\Users\\Alex\\.julia\\packages\\ChaosTools\\PHPDF\\src\\orbitdiagrams\\produce_orbitdiagram.jl:75\u001b[39m\n"
     ]
    },
    {
     "name": "stdout",
     "output_type": "stream",
     "text": [
      "\n",
      "parameter = -0.0967148\n"
     ]
    },
    {
     "name": "stderr",
     "output_type": "stream",
     "text": [
      "\u001b[33m\u001b[1m┌ \u001b[22m\u001b[39m\u001b[33m\u001b[1mWarning: \u001b[22m\u001b[39mFor parameter -0.0967146 The Poincaré surface of section did not have any points!\n",
      "\u001b[33m\u001b[1m└ \u001b[22m\u001b[39m\u001b[90m@ ChaosTools C:\\Users\\Alex\\.julia\\packages\\ChaosTools\\PHPDF\\src\\orbitdiagrams\\produce_orbitdiagram.jl:75\u001b[39m\n"
     ]
    },
    {
     "name": "stdout",
     "output_type": "stream",
     "text": [
      "parameter = -0.096715\n"
     ]
    },
    {
     "name": "stderr",
     "output_type": "stream",
     "text": [
      "\u001b[33m\u001b[1m┌ \u001b[22m\u001b[39m\u001b[33m\u001b[1mWarning: \u001b[22m\u001b[39mFor parameter -0.0967148 The Poincaré surface of section did not have any points!\n",
      "\u001b[33m\u001b[1m└ \u001b[22m\u001b[39m\u001b[90m@ ChaosTools C:\\Users\\Alex\\.julia\\packages\\ChaosTools\\PHPDF\\src\\orbitdiagrams\\produce_orbitdiagram.jl:75\u001b[39m\n"
     ]
    },
    {
     "name": "stdout",
     "output_type": "stream",
     "text": [
      "parameter = -0.0967152"
     ]
    },
    {
     "name": "stderr",
     "output_type": "stream",
     "text": [
      "\u001b[33m\u001b[1m┌ \u001b[22m\u001b[39m\u001b[33m\u001b[1mWarning: \u001b[22m\u001b[39mFor parameter -0.096715 The Poincaré surface of section did not have any points!\n",
      "\u001b[33m\u001b[1m└ \u001b[22m\u001b[39m\u001b[90m@ ChaosTools C:\\Users\\Alex\\.julia\\packages\\ChaosTools\\PHPDF\\src\\orbitdiagrams\\produce_orbitdiagram.jl:75\u001b[39m\n"
     ]
    },
    {
     "name": "stdout",
     "output_type": "stream",
     "text": [
      "\n",
      "parameter = -0.0967154\n"
     ]
    },
    {
     "name": "stderr",
     "output_type": "stream",
     "text": [
      "\u001b[33m\u001b[1m┌ \u001b[22m\u001b[39m\u001b[33m\u001b[1mWarning: \u001b[22m\u001b[39mFor parameter -0.0967152 The Poincaré surface of section did not have any points!\n",
      "\u001b[33m\u001b[1m└ \u001b[22m\u001b[39m\u001b[90m@ ChaosTools C:\\Users\\Alex\\.julia\\packages\\ChaosTools\\PHPDF\\src\\orbitdiagrams\\produce_orbitdiagram.jl:75\u001b[39m\n"
     ]
    },
    {
     "name": "stdout",
     "output_type": "stream",
     "text": [
      "parameter = -0.0967156\n"
     ]
    },
    {
     "name": "stderr",
     "output_type": "stream",
     "text": [
      "\u001b[33m\u001b[1m┌ \u001b[22m\u001b[39m\u001b[33m\u001b[1mWarning: \u001b[22m\u001b[39mFor parameter -0.0967154 The Poincaré surface of section did not have any points!\n",
      "\u001b[33m\u001b[1m└ \u001b[22m\u001b[39m\u001b[90m@ ChaosTools C:\\Users\\Alex\\.julia\\packages\\ChaosTools\\PHPDF\\src\\orbitdiagrams\\produce_orbitdiagram.jl:75\u001b[39m\n"
     ]
    },
    {
     "name": "stdout",
     "output_type": "stream",
     "text": [
      "parameter = -0.0967158\n"
     ]
    },
    {
     "name": "stderr",
     "output_type": "stream",
     "text": [
      "\u001b[33m\u001b[1m┌ \u001b[22m\u001b[39m\u001b[33m\u001b[1mWarning: \u001b[22m\u001b[39mFor parameter -0.0967156 The Poincaré surface of section did not have any points!\n",
      "\u001b[33m\u001b[1m└ \u001b[22m\u001b[39m\u001b[90m@ ChaosTools C:\\Users\\Alex\\.julia\\packages\\ChaosTools\\PHPDF\\src\\orbitdiagrams\\produce_orbitdiagram.jl:75\u001b[39m\n"
     ]
    },
    {
     "name": "stdout",
     "output_type": "stream",
     "text": [
      "parameter = -0.096716"
     ]
    },
    {
     "name": "stderr",
     "output_type": "stream",
     "text": [
      "\u001b[33m\u001b[1m┌ \u001b[22m\u001b[39m\u001b[33m\u001b[1mWarning: \u001b[22m\u001b[39mFor parameter -0.0967158 The Poincaré surface of section did not have any points!\n",
      "\u001b[33m\u001b[1m└ \u001b[22m\u001b[39m\u001b[90m@ ChaosTools C:\\Users\\Alex\\.julia\\packages\\ChaosTools\\PHPDF\\src\\orbitdiagrams\\produce_orbitdiagram.jl:75\u001b[39m\n"
     ]
    },
    {
     "name": "stdout",
     "output_type": "stream",
     "text": [
      "\n"
     ]
    },
    {
     "name": "stderr",
     "output_type": "stream",
     "text": [
      "\u001b[33m\u001b[1m┌ \u001b[22m\u001b[39m\u001b[33m\u001b[1mWarning: \u001b[22m\u001b[39mFor parameter -0.096716 The Poincaré surface of section did not have any points!\n",
      "\u001b[33m\u001b[1m└ \u001b[22m\u001b[39m\u001b[90m@ ChaosTools C:\\Users\\Alex\\.julia\\packages\\ChaosTools\\PHPDF\\src\\orbitdiagrams\\produce_orbitdiagram.jl:75\u001b[39m\n"
     ]
    },
    {
     "name": "stdout",
     "output_type": "stream",
     "text": [
      "parameter = -0.0967162\n",
      "parameter = -0.0967164\n"
     ]
    },
    {
     "name": "stderr",
     "output_type": "stream",
     "text": [
      "\u001b[33m\u001b[1m┌ \u001b[22m\u001b[39m\u001b[33m\u001b[1mWarning: \u001b[22m\u001b[39mFor parameter -0.0967162 The Poincaré surface of section did not have any points!\n",
      "\u001b[33m\u001b[1m└ \u001b[22m\u001b[39m\u001b[90m@ ChaosTools C:\\Users\\Alex\\.julia\\packages\\ChaosTools\\PHPDF\\src\\orbitdiagrams\\produce_orbitdiagram.jl:75\u001b[39m\n"
     ]
    },
    {
     "name": "stdout",
     "output_type": "stream",
     "text": [
      "parameter = -0.0967166"
     ]
    },
    {
     "name": "stderr",
     "output_type": "stream",
     "text": [
      "\u001b[33m\u001b[1m┌ \u001b[22m\u001b[39m\u001b[33m\u001b[1mWarning: \u001b[22m\u001b[39mFor parameter -0.0967164 The Poincaré surface of section did not have any points!\n",
      "\u001b[33m\u001b[1m└ \u001b[22m\u001b[39m\u001b[90m@ ChaosTools C:\\Users\\Alex\\.julia\\packages\\ChaosTools\\PHPDF\\src\\orbitdiagrams\\produce_orbitdiagram.jl:75\u001b[39m\n"
     ]
    },
    {
     "name": "stdout",
     "output_type": "stream",
     "text": [
      "\n",
      "parameter = -0.0967168"
     ]
    },
    {
     "name": "stderr",
     "output_type": "stream",
     "text": [
      "\u001b[33m\u001b[1m┌ \u001b[22m\u001b[39m\u001b[33m\u001b[1mWarning: \u001b[22m\u001b[39mFor parameter -0.0967166 The Poincaré surface of section did not have any points!\n",
      "\u001b[33m\u001b[1m└ \u001b[22m\u001b[39m\u001b[90m@ ChaosTools C:\\Users\\Alex\\.julia\\packages\\ChaosTools\\PHPDF\\src\\orbitdiagrams\\produce_orbitdiagram.jl:75\u001b[39m\n"
     ]
    },
    {
     "name": "stdout",
     "output_type": "stream",
     "text": [
      "\n",
      "parameter = -0.096717\n"
     ]
    },
    {
     "name": "stderr",
     "output_type": "stream",
     "text": [
      "\u001b[33m\u001b[1m┌ \u001b[22m\u001b[39m\u001b[33m\u001b[1mWarning: \u001b[22m\u001b[39mFor parameter -0.0967168 The Poincaré surface of section did not have any points!\n",
      "\u001b[33m\u001b[1m└ \u001b[22m\u001b[39m\u001b[90m@ ChaosTools C:\\Users\\Alex\\.julia\\packages\\ChaosTools\\PHPDF\\src\\orbitdiagrams\\produce_orbitdiagram.jl:75\u001b[39m\n"
     ]
    },
    {
     "name": "stdout",
     "output_type": "stream",
     "text": [
      "parameter = -0.0967172"
     ]
    },
    {
     "name": "stderr",
     "output_type": "stream",
     "text": [
      "\u001b[33m\u001b[1m┌ \u001b[22m\u001b[39m\u001b[33m\u001b[1mWarning: \u001b[22m\u001b[39mFor parameter -0.096717 The Poincaré surface of section did not have any points!\n",
      "\u001b[33m\u001b[1m└ \u001b[22m\u001b[39m\u001b[90m@ ChaosTools C:\\Users\\Alex\\.julia\\packages\\ChaosTools\\PHPDF\\src\\orbitdiagrams\\produce_orbitdiagram.jl:75\u001b[39m\n"
     ]
    },
    {
     "name": "stdout",
     "output_type": "stream",
     "text": [
      "\n",
      "parameter = -0.0967174"
     ]
    },
    {
     "name": "stderr",
     "output_type": "stream",
     "text": [
      "\u001b[33m\u001b[1m┌ \u001b[22m\u001b[39m\u001b[33m\u001b[1mWarning: \u001b[22m\u001b[39mFor parameter -0.0967172 The Poincaré surface of section did not have any points!\n",
      "\u001b[33m\u001b[1m└ \u001b[22m\u001b[39m\u001b[90m@ ChaosTools C:\\Users\\Alex\\.julia\\packages\\ChaosTools\\PHPDF\\src\\orbitdiagrams\\produce_orbitdiagram.jl:75\u001b[39m\n"
     ]
    },
    {
     "name": "stdout",
     "output_type": "stream",
     "text": [
      "\n",
      "parameter = -0.0967176"
     ]
    },
    {
     "name": "stderr",
     "output_type": "stream",
     "text": [
      "\u001b[33m\u001b[1m┌ \u001b[22m\u001b[39m\u001b[33m\u001b[1mWarning: \u001b[22m\u001b[39mFor parameter -0.0967174 The Poincaré surface of section did not have any points!\n",
      "\u001b[33m\u001b[1m└ \u001b[22m\u001b[39m\u001b[90m@ ChaosTools C:\\Users\\Alex\\.julia\\packages\\ChaosTools\\PHPDF\\src\\orbitdiagrams\\produce_orbitdiagram.jl:75\u001b[39m\n"
     ]
    },
    {
     "name": "stdout",
     "output_type": "stream",
     "text": [
      "\n",
      "parameter = -0.0967178\n"
     ]
    },
    {
     "name": "stderr",
     "output_type": "stream",
     "text": [
      "\u001b[33m\u001b[1m┌ \u001b[22m\u001b[39m\u001b[33m\u001b[1mWarning: \u001b[22m\u001b[39mFor parameter -0.0967176 The Poincaré surface of section did not have any points!\n",
      "\u001b[33m\u001b[1m└ \u001b[22m\u001b[39m\u001b[90m@ ChaosTools C:\\Users\\Alex\\.julia\\packages\\ChaosTools\\PHPDF\\src\\orbitdiagrams\\produce_orbitdiagram.jl:75\u001b[39m\n"
     ]
    },
    {
     "name": "stdout",
     "output_type": "stream",
     "text": [
      "parameter = -0.096718"
     ]
    },
    {
     "name": "stderr",
     "output_type": "stream",
     "text": [
      "\u001b[33m\u001b[1m┌ \u001b[22m\u001b[39m\u001b[33m\u001b[1mWarning: \u001b[22m\u001b[39mFor parameter -0.0967178 The Poincaré surface of section did not have any points!\n",
      "\u001b[33m\u001b[1m└ \u001b[22m\u001b[39m\u001b[90m@ ChaosTools C:\\Users\\Alex\\.julia\\packages\\ChaosTools\\PHPDF\\src\\orbitdiagrams\\produce_orbitdiagram.jl:75\u001b[39m\n"
     ]
    },
    {
     "name": "stdout",
     "output_type": "stream",
     "text": [
      "\n",
      "parameter = -0.0967182\n"
     ]
    },
    {
     "name": "stderr",
     "output_type": "stream",
     "text": [
      "\u001b[33m\u001b[1m┌ \u001b[22m\u001b[39m\u001b[33m\u001b[1mWarning: \u001b[22m\u001b[39mFor parameter -0.096718 The Poincaré surface of section did not have any points!\n",
      "\u001b[33m\u001b[1m└ \u001b[22m\u001b[39m\u001b[90m@ ChaosTools C:\\Users\\Alex\\.julia\\packages\\ChaosTools\\PHPDF\\src\\orbitdiagrams\\produce_orbitdiagram.jl:75\u001b[39m\n"
     ]
    },
    {
     "name": "stdout",
     "output_type": "stream",
     "text": [
      "parameter = -0.0967184"
     ]
    },
    {
     "name": "stderr",
     "output_type": "stream",
     "text": [
      "\u001b[33m\u001b[1m┌ \u001b[22m\u001b[39m\u001b[33m\u001b[1mWarning: \u001b[22m\u001b[39mFor parameter -0.0967182 The Poincaré surface of section did not have any points!\n",
      "\u001b[33m\u001b[1m└ \u001b[22m\u001b[39m\u001b[90m@ ChaosTools C:\\Users\\Alex\\.julia\\packages\\ChaosTools\\PHPDF\\src\\orbitdiagrams\\produce_orbitdiagram.jl:75\u001b[39m\n"
     ]
    },
    {
     "name": "stdout",
     "output_type": "stream",
     "text": [
      "\n",
      "parameter = -0.0967186"
     ]
    },
    {
     "name": "stderr",
     "output_type": "stream",
     "text": [
      "\u001b[33m\u001b[1m┌ \u001b[22m\u001b[39m\u001b[33m\u001b[1mWarning: \u001b[22m\u001b[39mFor parameter -0.0967184 The Poincaré surface of section did not have any points!\n",
      "\u001b[33m\u001b[1m└ \u001b[22m\u001b[39m\u001b[90m@ ChaosTools C:\\Users\\Alex\\.julia\\packages\\ChaosTools\\PHPDF\\src\\orbitdiagrams\\produce_orbitdiagram.jl:75\u001b[39m\n"
     ]
    },
    {
     "name": "stdout",
     "output_type": "stream",
     "text": [
      "\n",
      "parameter = -0.0967188"
     ]
    },
    {
     "name": "stderr",
     "output_type": "stream",
     "text": [
      "\u001b[33m\u001b[1m┌ \u001b[22m\u001b[39m\u001b[33m\u001b[1mWarning: \u001b[22m\u001b[39mFor parameter -0.0967186 The Poincaré surface of section did not have any points!\n",
      "\u001b[33m\u001b[1m└ \u001b[22m\u001b[39m\u001b[90m@ ChaosTools C:\\Users\\Alex\\.julia\\packages\\ChaosTools\\PHPDF\\src\\orbitdiagrams\\produce_orbitdiagram.jl:75\u001b[39m\n"
     ]
    },
    {
     "name": "stdout",
     "output_type": "stream",
     "text": [
      "\n",
      "parameter = -0.096719"
     ]
    },
    {
     "name": "stderr",
     "output_type": "stream",
     "text": [
      "\u001b[33m\u001b[1m┌ \u001b[22m\u001b[39m\u001b[33m\u001b[1mWarning: \u001b[22m\u001b[39mFor parameter -0.0967188 The Poincaré surface of section did not have any points!\n",
      "\u001b[33m\u001b[1m└ \u001b[22m\u001b[39m\u001b[90m@ ChaosTools C:\\Users\\Alex\\.julia\\packages\\ChaosTools\\PHPDF\\src\\orbitdiagrams\\produce_orbitdiagram.jl:75\u001b[39m\n"
     ]
    },
    {
     "name": "stdout",
     "output_type": "stream",
     "text": [
      "\n",
      "parameter = -0.0967192"
     ]
    },
    {
     "name": "stderr",
     "output_type": "stream",
     "text": [
      "\u001b[33m\u001b[1m┌ \u001b[22m\u001b[39m\u001b[33m\u001b[1mWarning: \u001b[22m\u001b[39mFor parameter -0.096719 The Poincaré surface of section did not have any points!\n",
      "\u001b[33m\u001b[1m└ \u001b[22m\u001b[39m\u001b[90m@ ChaosTools C:\\Users\\Alex\\.julia\\packages\\ChaosTools\\PHPDF\\src\\orbitdiagrams\\produce_orbitdiagram.jl:75\u001b[39m\n"
     ]
    },
    {
     "name": "stdout",
     "output_type": "stream",
     "text": [
      "\n",
      "parameter = -0.0967194\n"
     ]
    },
    {
     "name": "stderr",
     "output_type": "stream",
     "text": [
      "\u001b[33m\u001b[1m┌ \u001b[22m\u001b[39m\u001b[33m\u001b[1mWarning: \u001b[22m\u001b[39mFor parameter -0.0967192 The Poincaré surface of section did not have any points!\n",
      "\u001b[33m\u001b[1m└ \u001b[22m\u001b[39m\u001b[90m@ ChaosTools C:\\Users\\Alex\\.julia\\packages\\ChaosTools\\PHPDF\\src\\orbitdiagrams\\produce_orbitdiagram.jl:75\u001b[39m\n"
     ]
    },
    {
     "name": "stdout",
     "output_type": "stream",
     "text": [
      "parameter = -0.0967196\n"
     ]
    },
    {
     "name": "stderr",
     "output_type": "stream",
     "text": [
      "\u001b[33m\u001b[1m┌ \u001b[22m\u001b[39m\u001b[33m\u001b[1mWarning: \u001b[22m\u001b[39mFor parameter -0.0967194 The Poincaré surface of section did not have any points!\n",
      "\u001b[33m\u001b[1m└ \u001b[22m\u001b[39m\u001b[90m@ ChaosTools C:\\Users\\Alex\\.julia\\packages\\ChaosTools\\PHPDF\\src\\orbitdiagrams\\produce_orbitdiagram.jl:75\u001b[39m\n"
     ]
    },
    {
     "name": "stdout",
     "output_type": "stream",
     "text": [
      "parameter = -0.0967198"
     ]
    },
    {
     "name": "stderr",
     "output_type": "stream",
     "text": [
      "\u001b[33m\u001b[1m┌ \u001b[22m\u001b[39m\u001b[33m\u001b[1mWarning: \u001b[22m\u001b[39mFor parameter -0.0967196 The Poincaré surface of section did not have any points!\n",
      "\u001b[33m\u001b[1m└ \u001b[22m\u001b[39m\u001b[90m@ ChaosTools C:\\Users\\Alex\\.julia\\packages\\ChaosTools\\PHPDF\\src\\orbitdiagrams\\produce_orbitdiagram.jl:75\u001b[39m\n"
     ]
    },
    {
     "name": "stdout",
     "output_type": "stream",
     "text": [
      "\n",
      "parameter = -0.09672"
     ]
    },
    {
     "name": "stderr",
     "output_type": "stream",
     "text": [
      "\u001b[33m\u001b[1m┌ \u001b[22m\u001b[39m\u001b[33m\u001b[1mWarning: \u001b[22m\u001b[39mFor parameter -0.0967198 The Poincaré surface of section did not have any points!\n",
      "\u001b[33m\u001b[1m└ \u001b[22m\u001b[39m\u001b[90m@ ChaosTools C:\\Users\\Alex\\.julia\\packages\\ChaosTools\\PHPDF\\src\\orbitdiagrams\\produce_orbitdiagram.jl:75\u001b[39m\n"
     ]
    },
    {
     "name": "stdout",
     "output_type": "stream",
     "text": [
      "\n",
      "parameter = -0.0967202"
     ]
    },
    {
     "name": "stderr",
     "output_type": "stream",
     "text": [
      "\u001b[33m\u001b[1m┌ \u001b[22m\u001b[39m\u001b[33m\u001b[1mWarning: \u001b[22m\u001b[39mFor parameter -0.09672 The Poincaré surface of section did not have any points!\n",
      "\u001b[33m\u001b[1m└ \u001b[22m\u001b[39m\u001b[90m@ ChaosTools C:\\Users\\Alex\\.julia\\packages\\ChaosTools\\PHPDF\\src\\orbitdiagrams\\produce_orbitdiagram.jl:75\u001b[39m\n"
     ]
    },
    {
     "name": "stdout",
     "output_type": "stream",
     "text": [
      "\n",
      "parameter = -0.0967204"
     ]
    },
    {
     "name": "stderr",
     "output_type": "stream",
     "text": [
      "\u001b[33m\u001b[1m┌ \u001b[22m\u001b[39m\u001b[33m\u001b[1mWarning: \u001b[22m\u001b[39mFor parameter -0.0967202 The Poincaré surface of section did not have any points!\n",
      "\u001b[33m\u001b[1m└ \u001b[22m\u001b[39m\u001b[90m@ ChaosTools C:\\Users\\Alex\\.julia\\packages\\ChaosTools\\PHPDF\\src\\orbitdiagrams\\produce_orbitdiagram.jl:75\u001b[39m\n"
     ]
    },
    {
     "name": "stdout",
     "output_type": "stream",
     "text": [
      "\n",
      "parameter = -0.0967206"
     ]
    },
    {
     "name": "stderr",
     "output_type": "stream",
     "text": [
      "\u001b[33m\u001b[1m┌ \u001b[22m\u001b[39m\u001b[33m\u001b[1mWarning: \u001b[22m\u001b[39mFor parameter -0.0967204 The Poincaré surface of section did not have any points!\n",
      "\u001b[33m\u001b[1m└ \u001b[22m\u001b[39m\u001b[90m@ ChaosTools C:\\Users\\Alex\\.julia\\packages\\ChaosTools\\PHPDF\\src\\orbitdiagrams\\produce_orbitdiagram.jl:75\u001b[39m\n"
     ]
    },
    {
     "name": "stdout",
     "output_type": "stream",
     "text": [
      "\n",
      "parameter = -0.0967208\n"
     ]
    },
    {
     "name": "stderr",
     "output_type": "stream",
     "text": [
      "\u001b[33m\u001b[1m┌ \u001b[22m\u001b[39m\u001b[33m\u001b[1mWarning: \u001b[22m\u001b[39mFor parameter -0.0967206 The Poincaré surface of section did not have any points!\n",
      "\u001b[33m\u001b[1m└ \u001b[22m\u001b[39m\u001b[90m@ ChaosTools C:\\Users\\Alex\\.julia\\packages\\ChaosTools\\PHPDF\\src\\orbitdiagrams\\produce_orbitdiagram.jl:75\u001b[39m\n"
     ]
    },
    {
     "name": "stdout",
     "output_type": "stream",
     "text": [
      "parameter = -0.096721"
     ]
    },
    {
     "name": "stderr",
     "output_type": "stream",
     "text": [
      "\u001b[33m\u001b[1m┌ \u001b[22m\u001b[39m\u001b[33m\u001b[1mWarning: \u001b[22m\u001b[39mFor parameter -0.0967208 The Poincaré surface of section did not have any points!\n",
      "\u001b[33m\u001b[1m└ \u001b[22m\u001b[39m\u001b[90m@ ChaosTools C:\\Users\\Alex\\.julia\\packages\\ChaosTools\\PHPDF\\src\\orbitdiagrams\\produce_orbitdiagram.jl:75\u001b[39m\n"
     ]
    },
    {
     "name": "stdout",
     "output_type": "stream",
     "text": [
      "\n",
      "parameter = -0.0967212"
     ]
    },
    {
     "name": "stderr",
     "output_type": "stream",
     "text": [
      "\u001b[33m\u001b[1m┌ \u001b[22m\u001b[39m\u001b[33m\u001b[1mWarning: \u001b[22m\u001b[39mFor parameter -0.096721 The Poincaré surface of section did not have any points!\n",
      "\u001b[33m\u001b[1m└ \u001b[22m\u001b[39m\u001b[90m@ ChaosTools C:\\Users\\Alex\\.julia\\packages\\ChaosTools\\PHPDF\\src\\orbitdiagrams\\produce_orbitdiagram.jl:75\u001b[39m\n"
     ]
    },
    {
     "name": "stdout",
     "output_type": "stream",
     "text": [
      "\n",
      "parameter = -0.0967214\n"
     ]
    },
    {
     "name": "stderr",
     "output_type": "stream",
     "text": [
      "\u001b[33m\u001b[1m┌ \u001b[22m\u001b[39m\u001b[33m\u001b[1mWarning: \u001b[22m\u001b[39mFor parameter -0.0967212 The Poincaré surface of section did not have any points!\n",
      "\u001b[33m\u001b[1m└ \u001b[22m\u001b[39m\u001b[90m@ ChaosTools C:\\Users\\Alex\\.julia\\packages\\ChaosTools\\PHPDF\\src\\orbitdiagrams\\produce_orbitdiagram.jl:75\u001b[39m\n"
     ]
    },
    {
     "name": "stdout",
     "output_type": "stream",
     "text": [
      "parameter = -0.0967216"
     ]
    },
    {
     "name": "stderr",
     "output_type": "stream",
     "text": [
      "\u001b[33m\u001b[1m┌ \u001b[22m\u001b[39m\u001b[33m\u001b[1mWarning: \u001b[22m\u001b[39mFor parameter -0.0967214 The Poincaré surface of section did not have any points!\n",
      "\u001b[33m\u001b[1m└ \u001b[22m\u001b[39m\u001b[90m@ ChaosTools C:\\Users\\Alex\\.julia\\packages\\ChaosTools\\PHPDF\\src\\orbitdiagrams\\produce_orbitdiagram.jl:75\u001b[39m\n"
     ]
    },
    {
     "name": "stdout",
     "output_type": "stream",
     "text": [
      "\n",
      "parameter = -0.0967218\n"
     ]
    },
    {
     "name": "stderr",
     "output_type": "stream",
     "text": [
      "\u001b[33m\u001b[1m┌ \u001b[22m\u001b[39m\u001b[33m\u001b[1mWarning: \u001b[22m\u001b[39mFor parameter -0.0967216 The Poincaré surface of section did not have any points!\n",
      "\u001b[33m\u001b[1m└ \u001b[22m\u001b[39m\u001b[90m@ ChaosTools C:\\Users\\Alex\\.julia\\packages\\ChaosTools\\PHPDF\\src\\orbitdiagrams\\produce_orbitdiagram.jl:75\u001b[39m\n"
     ]
    },
    {
     "name": "stdout",
     "output_type": "stream",
     "text": [
      "parameter = -0.096722"
     ]
    },
    {
     "name": "stderr",
     "output_type": "stream",
     "text": [
      "\u001b[33m\u001b[1m┌ \u001b[22m\u001b[39m\u001b[33m\u001b[1mWarning: \u001b[22m\u001b[39mFor parameter -0.0967218 The Poincaré surface of section did not have any points!\n",
      "\u001b[33m\u001b[1m└ \u001b[22m\u001b[39m\u001b[90m@ ChaosTools C:\\Users\\Alex\\.julia\\packages\\ChaosTools\\PHPDF\\src\\orbitdiagrams\\produce_orbitdiagram.jl:75\u001b[39m\n"
     ]
    },
    {
     "name": "stdout",
     "output_type": "stream",
     "text": [
      "\n",
      "parameter = -0.0967222"
     ]
    },
    {
     "name": "stderr",
     "output_type": "stream",
     "text": [
      "\u001b[33m\u001b[1m┌ \u001b[22m\u001b[39m\u001b[33m\u001b[1mWarning: \u001b[22m\u001b[39mFor parameter -0.096722 The Poincaré surface of section did not have any points!\n",
      "\u001b[33m\u001b[1m└ \u001b[22m\u001b[39m\u001b[90m@ ChaosTools C:\\Users\\Alex\\.julia\\packages\\ChaosTools\\PHPDF\\src\\orbitdiagrams\\produce_orbitdiagram.jl:75\u001b[39m\n"
     ]
    },
    {
     "name": "stdout",
     "output_type": "stream",
     "text": [
      "\n"
     ]
    },
    {
     "name": "stderr",
     "output_type": "stream",
     "text": [
      "\u001b[33m\u001b[1m┌ \u001b[22m\u001b[39m\u001b[33m\u001b[1mWarning: \u001b[22m\u001b[39mFor parameter -0.0967222 The Poincaré surface of section did not have any points!\n",
      "\u001b[33m\u001b[1m└ \u001b[22m\u001b[39m\u001b[90m@ ChaosTools C:\\Users\\Alex\\.julia\\packages\\ChaosTools\\PHPDF\\src\\orbitdiagrams\\produce_orbitdiagram.jl:75\u001b[39m\n"
     ]
    },
    {
     "name": "stdout",
     "output_type": "stream",
     "text": [
      "parameter = -0.0967224\n",
      "parameter = -0.0967226\n"
     ]
    },
    {
     "name": "stderr",
     "output_type": "stream",
     "text": [
      "\u001b[33m\u001b[1m┌ \u001b[22m\u001b[39m\u001b[33m\u001b[1mWarning: \u001b[22m\u001b[39mFor parameter -0.0967224 The Poincaré surface of section did not have any points!\n",
      "\u001b[33m\u001b[1m└ \u001b[22m\u001b[39m\u001b[90m@ ChaosTools C:\\Users\\Alex\\.julia\\packages\\ChaosTools\\PHPDF\\src\\orbitdiagrams\\produce_orbitdiagram.jl:75\u001b[39m\n"
     ]
    },
    {
     "name": "stdout",
     "output_type": "stream",
     "text": [
      "parameter = -0.0967228"
     ]
    },
    {
     "name": "stderr",
     "output_type": "stream",
     "text": [
      "\u001b[33m\u001b[1m┌ \u001b[22m\u001b[39m\u001b[33m\u001b[1mWarning: \u001b[22m\u001b[39mFor parameter -0.0967226 The Poincaré surface of section did not have any points!\n",
      "\u001b[33m\u001b[1m└ \u001b[22m\u001b[39m\u001b[90m@ ChaosTools C:\\Users\\Alex\\.julia\\packages\\ChaosTools\\PHPDF\\src\\orbitdiagrams\\produce_orbitdiagram.jl:75\u001b[39m\n"
     ]
    },
    {
     "name": "stdout",
     "output_type": "stream",
     "text": [
      "\n",
      "parameter = -0.096723"
     ]
    },
    {
     "name": "stderr",
     "output_type": "stream",
     "text": [
      "\u001b[33m\u001b[1m┌ \u001b[22m\u001b[39m\u001b[33m\u001b[1mWarning: \u001b[22m\u001b[39mFor parameter -0.0967228 The Poincaré surface of section did not have any points!\n",
      "\u001b[33m\u001b[1m└ \u001b[22m\u001b[39m\u001b[90m@ ChaosTools C:\\Users\\Alex\\.julia\\packages\\ChaosTools\\PHPDF\\src\\orbitdiagrams\\produce_orbitdiagram.jl:75\u001b[39m\n"
     ]
    },
    {
     "name": "stdout",
     "output_type": "stream",
     "text": [
      "\n",
      "parameter = -0.0967232\n"
     ]
    },
    {
     "name": "stderr",
     "output_type": "stream",
     "text": [
      "\u001b[33m\u001b[1m┌ \u001b[22m\u001b[39m\u001b[33m\u001b[1mWarning: \u001b[22m\u001b[39mFor parameter -0.096723 The Poincaré surface of section did not have any points!\n",
      "\u001b[33m\u001b[1m└ \u001b[22m\u001b[39m\u001b[90m@ ChaosTools C:\\Users\\Alex\\.julia\\packages\\ChaosTools\\PHPDF\\src\\orbitdiagrams\\produce_orbitdiagram.jl:75\u001b[39m\n"
     ]
    },
    {
     "name": "stdout",
     "output_type": "stream",
     "text": [
      "parameter = -0.0967234"
     ]
    },
    {
     "name": "stderr",
     "output_type": "stream",
     "text": [
      "\u001b[33m\u001b[1m┌ \u001b[22m\u001b[39m\u001b[33m\u001b[1mWarning: \u001b[22m\u001b[39mFor parameter -0.0967232 The Poincaré surface of section did not have any points!\n",
      "\u001b[33m\u001b[1m└ \u001b[22m\u001b[39m\u001b[90m@ ChaosTools C:\\Users\\Alex\\.julia\\packages\\ChaosTools\\PHPDF\\src\\orbitdiagrams\\produce_orbitdiagram.jl:75\u001b[39m\n"
     ]
    },
    {
     "name": "stdout",
     "output_type": "stream",
     "text": [
      "\n",
      "parameter = -0.0967236"
     ]
    },
    {
     "name": "stderr",
     "output_type": "stream",
     "text": [
      "\u001b[33m\u001b[1m┌ \u001b[22m\u001b[39m\u001b[33m\u001b[1mWarning: \u001b[22m\u001b[39mFor parameter -0.0967234 The Poincaré surface of section did not have any points!\n",
      "\u001b[33m\u001b[1m└ \u001b[22m\u001b[39m\u001b[90m@ ChaosTools C:\\Users\\Alex\\.julia\\packages\\ChaosTools\\PHPDF\\src\\orbitdiagrams\\produce_orbitdiagram.jl:75\u001b[39m\n"
     ]
    },
    {
     "name": "stdout",
     "output_type": "stream",
     "text": [
      "\n",
      "parameter = -0.0967238"
     ]
    },
    {
     "name": "stderr",
     "output_type": "stream",
     "text": [
      "\u001b[33m\u001b[1m┌ \u001b[22m\u001b[39m\u001b[33m\u001b[1mWarning: \u001b[22m\u001b[39mFor parameter -0.0967236 The Poincaré surface of section did not have any points!\n",
      "\u001b[33m\u001b[1m└ \u001b[22m\u001b[39m\u001b[90m@ ChaosTools C:\\Users\\Alex\\.julia\\packages\\ChaosTools\\PHPDF\\src\\orbitdiagrams\\produce_orbitdiagram.jl:75\u001b[39m\n"
     ]
    },
    {
     "name": "stdout",
     "output_type": "stream",
     "text": [
      "\n",
      "parameter = -0.096724"
     ]
    },
    {
     "name": "stderr",
     "output_type": "stream",
     "text": [
      "\u001b[33m\u001b[1m┌ \u001b[22m\u001b[39m\u001b[33m\u001b[1mWarning: \u001b[22m\u001b[39mFor parameter -0.0967238 The Poincaré surface of section did not have any points!\n",
      "\u001b[33m\u001b[1m└ \u001b[22m\u001b[39m\u001b[90m@ ChaosTools C:\\Users\\Alex\\.julia\\packages\\ChaosTools\\PHPDF\\src\\orbitdiagrams\\produce_orbitdiagram.jl:75\u001b[39m\n"
     ]
    },
    {
     "name": "stdout",
     "output_type": "stream",
     "text": [
      "\n",
      "parameter = -0.0967242"
     ]
    },
    {
     "name": "stderr",
     "output_type": "stream",
     "text": [
      "\u001b[33m\u001b[1m┌ \u001b[22m\u001b[39m\u001b[33m\u001b[1mWarning: \u001b[22m\u001b[39mFor parameter -0.096724 The Poincaré surface of section did not have any points!\n",
      "\u001b[33m\u001b[1m└ \u001b[22m\u001b[39m\u001b[90m@ ChaosTools C:\\Users\\Alex\\.julia\\packages\\ChaosTools\\PHPDF\\src\\orbitdiagrams\\produce_orbitdiagram.jl:75\u001b[39m\n"
     ]
    },
    {
     "name": "stdout",
     "output_type": "stream",
     "text": [
      "\n",
      "parameter = -0.0967244\n"
     ]
    },
    {
     "name": "stderr",
     "output_type": "stream",
     "text": [
      "\u001b[33m\u001b[1m┌ \u001b[22m\u001b[39m\u001b[33m\u001b[1mWarning: \u001b[22m\u001b[39mFor parameter -0.0967242 The Poincaré surface of section did not have any points!\n",
      "\u001b[33m\u001b[1m└ \u001b[22m\u001b[39m\u001b[90m@ ChaosTools C:\\Users\\Alex\\.julia\\packages\\ChaosTools\\PHPDF\\src\\orbitdiagrams\\produce_orbitdiagram.jl:75\u001b[39m\n"
     ]
    },
    {
     "name": "stdout",
     "output_type": "stream",
     "text": [
      "parameter = -0.0967246"
     ]
    },
    {
     "name": "stderr",
     "output_type": "stream",
     "text": [
      "\u001b[33m\u001b[1m┌ \u001b[22m\u001b[39m\u001b[33m\u001b[1mWarning: \u001b[22m\u001b[39mFor parameter -0.0967244 The Poincaré surface of section did not have any points!\n",
      "\u001b[33m\u001b[1m└ \u001b[22m\u001b[39m\u001b[90m@ ChaosTools C:\\Users\\Alex\\.julia\\packages\\ChaosTools\\PHPDF\\src\\orbitdiagrams\\produce_orbitdiagram.jl:75\u001b[39m\n"
     ]
    },
    {
     "name": "stdout",
     "output_type": "stream",
     "text": [
      "\n",
      "parameter = -0.0967248\n"
     ]
    },
    {
     "name": "stderr",
     "output_type": "stream",
     "text": [
      "\u001b[33m\u001b[1m┌ \u001b[22m\u001b[39m\u001b[33m\u001b[1mWarning: \u001b[22m\u001b[39mFor parameter -0.0967246 The Poincaré surface of section did not have any points!\n",
      "\u001b[33m\u001b[1m└ \u001b[22m\u001b[39m\u001b[90m@ ChaosTools C:\\Users\\Alex\\.julia\\packages\\ChaosTools\\PHPDF\\src\\orbitdiagrams\\produce_orbitdiagram.jl:75\u001b[39m\n"
     ]
    },
    {
     "name": "stdout",
     "output_type": "stream",
     "text": [
      "parameter = -0.096725"
     ]
    },
    {
     "name": "stderr",
     "output_type": "stream",
     "text": [
      "\u001b[33m\u001b[1m┌ \u001b[22m\u001b[39m\u001b[33m\u001b[1mWarning: \u001b[22m\u001b[39mFor parameter -0.0967248 The Poincaré surface of section did not have any points!\n",
      "\u001b[33m\u001b[1m└ \u001b[22m\u001b[39m\u001b[90m@ ChaosTools C:\\Users\\Alex\\.julia\\packages\\ChaosTools\\PHPDF\\src\\orbitdiagrams\\produce_orbitdiagram.jl:75\u001b[39m\n"
     ]
    },
    {
     "name": "stdout",
     "output_type": "stream",
     "text": [
      "\n",
      "parameter = -0.0967252"
     ]
    },
    {
     "name": "stderr",
     "output_type": "stream",
     "text": [
      "\u001b[33m\u001b[1m┌ \u001b[22m\u001b[39m\u001b[33m\u001b[1mWarning: \u001b[22m\u001b[39mFor parameter -0.096725 The Poincaré surface of section did not have any points!\n",
      "\u001b[33m\u001b[1m└ \u001b[22m\u001b[39m\u001b[90m@ ChaosTools C:\\Users\\Alex\\.julia\\packages\\ChaosTools\\PHPDF\\src\\orbitdiagrams\\produce_orbitdiagram.jl:75\u001b[39m\n"
     ]
    },
    {
     "name": "stdout",
     "output_type": "stream",
     "text": [
      "\n",
      "parameter = -0.0967254"
     ]
    },
    {
     "name": "stderr",
     "output_type": "stream",
     "text": [
      "\u001b[33m\u001b[1m┌ \u001b[22m\u001b[39m\u001b[33m\u001b[1mWarning: \u001b[22m\u001b[39mFor parameter -0.0967252 The Poincaré surface of section did not have any points!\n",
      "\u001b[33m\u001b[1m└ \u001b[22m\u001b[39m\u001b[90m@ ChaosTools C:\\Users\\Alex\\.julia\\packages\\ChaosTools\\PHPDF\\src\\orbitdiagrams\\produce_orbitdiagram.jl:75\u001b[39m\n"
     ]
    },
    {
     "name": "stdout",
     "output_type": "stream",
     "text": [
      "\n",
      "parameter = -0.0967256\n"
     ]
    },
    {
     "name": "stderr",
     "output_type": "stream",
     "text": [
      "\u001b[33m\u001b[1m┌ \u001b[22m\u001b[39m\u001b[33m\u001b[1mWarning: \u001b[22m\u001b[39mFor parameter -0.0967254 The Poincaré surface of section did not have any points!\n",
      "\u001b[33m\u001b[1m└ \u001b[22m\u001b[39m\u001b[90m@ ChaosTools C:\\Users\\Alex\\.julia\\packages\\ChaosTools\\PHPDF\\src\\orbitdiagrams\\produce_orbitdiagram.jl:75\u001b[39m\n"
     ]
    },
    {
     "name": "stdout",
     "output_type": "stream",
     "text": [
      "parameter = -0.0967258"
     ]
    },
    {
     "name": "stderr",
     "output_type": "stream",
     "text": [
      "\u001b[33m\u001b[1m┌ \u001b[22m\u001b[39m\u001b[33m\u001b[1mWarning: \u001b[22m\u001b[39mFor parameter -0.0967256 The Poincaré surface of section did not have any points!\n",
      "\u001b[33m\u001b[1m└ \u001b[22m\u001b[39m\u001b[90m@ ChaosTools C:\\Users\\Alex\\.julia\\packages\\ChaosTools\\PHPDF\\src\\orbitdiagrams\\produce_orbitdiagram.jl:75\u001b[39m\n"
     ]
    },
    {
     "name": "stdout",
     "output_type": "stream",
     "text": [
      "\n",
      "parameter = -0.096726"
     ]
    },
    {
     "name": "stderr",
     "output_type": "stream",
     "text": [
      "\u001b[33m\u001b[1m┌ \u001b[22m\u001b[39m\u001b[33m\u001b[1mWarning: \u001b[22m\u001b[39mFor parameter -0.0967258 The Poincaré surface of section did not have any points!\n",
      "\u001b[33m\u001b[1m└ \u001b[22m\u001b[39m\u001b[90m@ ChaosTools C:\\Users\\Alex\\.julia\\packages\\ChaosTools\\PHPDF\\src\\orbitdiagrams\\produce_orbitdiagram.jl:75\u001b[39m\n"
     ]
    },
    {
     "name": "stdout",
     "output_type": "stream",
     "text": [
      "\n",
      "parameter = -0.0967262"
     ]
    },
    {
     "name": "stderr",
     "output_type": "stream",
     "text": [
      "\u001b[33m\u001b[1m┌ \u001b[22m\u001b[39m\u001b[33m\u001b[1mWarning: \u001b[22m\u001b[39mFor parameter -0.096726 The Poincaré surface of section did not have any points!\n",
      "\u001b[33m\u001b[1m└ \u001b[22m\u001b[39m\u001b[90m@ ChaosTools C:\\Users\\Alex\\.julia\\packages\\ChaosTools\\PHPDF\\src\\orbitdiagrams\\produce_orbitdiagram.jl:75\u001b[39m\n"
     ]
    },
    {
     "name": "stdout",
     "output_type": "stream",
     "text": [
      "\n",
      "parameter = -0.0967264\n"
     ]
    },
    {
     "name": "stderr",
     "output_type": "stream",
     "text": [
      "\u001b[33m\u001b[1m┌ \u001b[22m\u001b[39m\u001b[33m\u001b[1mWarning: \u001b[22m\u001b[39mFor parameter -0.0967262 The Poincaré surface of section did not have any points!\n",
      "\u001b[33m\u001b[1m└ \u001b[22m\u001b[39m\u001b[90m@ ChaosTools C:\\Users\\Alex\\.julia\\packages\\ChaosTools\\PHPDF\\src\\orbitdiagrams\\produce_orbitdiagram.jl:75\u001b[39m\n"
     ]
    },
    {
     "name": "stdout",
     "output_type": "stream",
     "text": [
      "parameter = -0.0967266"
     ]
    },
    {
     "name": "stderr",
     "output_type": "stream",
     "text": [
      "\u001b[33m\u001b[1m┌ \u001b[22m\u001b[39m\u001b[33m\u001b[1mWarning: \u001b[22m\u001b[39mFor parameter -0.0967264 The Poincaré surface of section did not have any points!\n",
      "\u001b[33m\u001b[1m└ \u001b[22m\u001b[39m\u001b[90m@ ChaosTools C:\\Users\\Alex\\.julia\\packages\\ChaosTools\\PHPDF\\src\\orbitdiagrams\\produce_orbitdiagram.jl:75\u001b[39m\n"
     ]
    },
    {
     "name": "stdout",
     "output_type": "stream",
     "text": [
      "\n",
      "parameter = -0.0967268\n"
     ]
    },
    {
     "name": "stderr",
     "output_type": "stream",
     "text": [
      "\u001b[33m\u001b[1m┌ \u001b[22m\u001b[39m\u001b[33m\u001b[1mWarning: \u001b[22m\u001b[39mFor parameter -0.0967266 The Poincaré surface of section did not have any points!\n",
      "\u001b[33m\u001b[1m└ \u001b[22m\u001b[39m\u001b[90m@ ChaosTools C:\\Users\\Alex\\.julia\\packages\\ChaosTools\\PHPDF\\src\\orbitdiagrams\\produce_orbitdiagram.jl:75\u001b[39m\n"
     ]
    },
    {
     "name": "stdout",
     "output_type": "stream",
     "text": [
      "parameter = -0.096727"
     ]
    },
    {
     "name": "stderr",
     "output_type": "stream",
     "text": [
      "\u001b[33m\u001b[1m┌ \u001b[22m\u001b[39m\u001b[33m\u001b[1mWarning: \u001b[22m\u001b[39mFor parameter -0.0967268 The Poincaré surface of section did not have any points!\n",
      "\u001b[33m\u001b[1m└ \u001b[22m\u001b[39m\u001b[90m@ ChaosTools C:\\Users\\Alex\\.julia\\packages\\ChaosTools\\PHPDF\\src\\orbitdiagrams\\produce_orbitdiagram.jl:75\u001b[39m\n"
     ]
    },
    {
     "name": "stdout",
     "output_type": "stream",
     "text": [
      "\n",
      "parameter = -0.0967272"
     ]
    },
    {
     "name": "stderr",
     "output_type": "stream",
     "text": [
      "\u001b[33m\u001b[1m┌ \u001b[22m\u001b[39m\u001b[33m\u001b[1mWarning: \u001b[22m\u001b[39mFor parameter -0.096727 The Poincaré surface of section did not have any points!\n",
      "\u001b[33m\u001b[1m└ \u001b[22m\u001b[39m\u001b[90m@ ChaosTools C:\\Users\\Alex\\.julia\\packages\\ChaosTools\\PHPDF\\src\\orbitdiagrams\\produce_orbitdiagram.jl:75\u001b[39m\n"
     ]
    },
    {
     "name": "stdout",
     "output_type": "stream",
     "text": [
      "\n",
      "parameter = -0.0967274"
     ]
    },
    {
     "name": "stderr",
     "output_type": "stream",
     "text": [
      "\u001b[33m\u001b[1m┌ \u001b[22m\u001b[39m\u001b[33m\u001b[1mWarning: \u001b[22m\u001b[39mFor parameter -0.0967272 The Poincaré surface of section did not have any points!\n",
      "\u001b[33m\u001b[1m└ \u001b[22m\u001b[39m\u001b[90m@ ChaosTools C:\\Users\\Alex\\.julia\\packages\\ChaosTools\\PHPDF\\src\\orbitdiagrams\\produce_orbitdiagram.jl:75\u001b[39m\n"
     ]
    },
    {
     "name": "stdout",
     "output_type": "stream",
     "text": [
      "\n",
      "parameter = -0.0967276\n"
     ]
    },
    {
     "name": "stderr",
     "output_type": "stream",
     "text": [
      "\u001b[33m\u001b[1m┌ \u001b[22m\u001b[39m\u001b[33m\u001b[1mWarning: \u001b[22m\u001b[39mFor parameter -0.0967274 The Poincaré surface of section did not have any points!\n",
      "\u001b[33m\u001b[1m└ \u001b[22m\u001b[39m\u001b[90m@ ChaosTools C:\\Users\\Alex\\.julia\\packages\\ChaosTools\\PHPDF\\src\\orbitdiagrams\\produce_orbitdiagram.jl:75\u001b[39m\n"
     ]
    },
    {
     "name": "stdout",
     "output_type": "stream",
     "text": [
      "parameter = -0.0967278\n"
     ]
    },
    {
     "name": "stderr",
     "output_type": "stream",
     "text": [
      "\u001b[33m\u001b[1m┌ \u001b[22m\u001b[39m\u001b[33m\u001b[1mWarning: \u001b[22m\u001b[39mFor parameter -0.0967276 The Poincaré surface of section did not have any points!\n",
      "\u001b[33m\u001b[1m└ \u001b[22m\u001b[39m\u001b[90m@ ChaosTools C:\\Users\\Alex\\.julia\\packages\\ChaosTools\\PHPDF\\src\\orbitdiagrams\\produce_orbitdiagram.jl:75\u001b[39m\n"
     ]
    },
    {
     "name": "stdout",
     "output_type": "stream",
     "text": [
      "parameter = -0.096728"
     ]
    },
    {
     "name": "stderr",
     "output_type": "stream",
     "text": [
      "\u001b[33m\u001b[1m┌ \u001b[22m\u001b[39m\u001b[33m\u001b[1mWarning: \u001b[22m\u001b[39mFor parameter -0.0967278 The Poincaré surface of section did not have any points!\n",
      "\u001b[33m\u001b[1m└ \u001b[22m\u001b[39m\u001b[90m@ ChaosTools C:\\Users\\Alex\\.julia\\packages\\ChaosTools\\PHPDF\\src\\orbitdiagrams\\produce_orbitdiagram.jl:75\u001b[39m\n"
     ]
    },
    {
     "name": "stdout",
     "output_type": "stream",
     "text": [
      "\n",
      "parameter = -0.0967282"
     ]
    },
    {
     "name": "stderr",
     "output_type": "stream",
     "text": [
      "\u001b[33m\u001b[1m┌ \u001b[22m\u001b[39m\u001b[33m\u001b[1mWarning: \u001b[22m\u001b[39mFor parameter -0.096728 The Poincaré surface of section did not have any points!\n",
      "\u001b[33m\u001b[1m└ \u001b[22m\u001b[39m\u001b[90m@ ChaosTools C:\\Users\\Alex\\.julia\\packages\\ChaosTools\\PHPDF\\src\\orbitdiagrams\\produce_orbitdiagram.jl:75\u001b[39m\n"
     ]
    },
    {
     "name": "stdout",
     "output_type": "stream",
     "text": [
      "\n",
      "parameter = -0.0967284"
     ]
    },
    {
     "name": "stderr",
     "output_type": "stream",
     "text": [
      "\u001b[33m\u001b[1m┌ \u001b[22m\u001b[39m\u001b[33m\u001b[1mWarning: \u001b[22m\u001b[39mFor parameter -0.0967282 The Poincaré surface of section did not have any points!\n",
      "\u001b[33m\u001b[1m└ \u001b[22m\u001b[39m\u001b[90m@ ChaosTools C:\\Users\\Alex\\.julia\\packages\\ChaosTools\\PHPDF\\src\\orbitdiagrams\\produce_orbitdiagram.jl:75\u001b[39m\n"
     ]
    },
    {
     "name": "stdout",
     "output_type": "stream",
     "text": [
      "\n",
      "parameter = -0.0967286\n"
     ]
    },
    {
     "name": "stderr",
     "output_type": "stream",
     "text": [
      "\u001b[33m\u001b[1m┌ \u001b[22m\u001b[39m\u001b[33m\u001b[1mWarning: \u001b[22m\u001b[39mFor parameter -0.0967284 The Poincaré surface of section did not have any points!\n",
      "\u001b[33m\u001b[1m└ \u001b[22m\u001b[39m\u001b[90m@ ChaosTools C:\\Users\\Alex\\.julia\\packages\\ChaosTools\\PHPDF\\src\\orbitdiagrams\\produce_orbitdiagram.jl:75\u001b[39m\n"
     ]
    },
    {
     "name": "stdout",
     "output_type": "stream",
     "text": [
      "parameter = -0.0967288\n"
     ]
    },
    {
     "name": "stderr",
     "output_type": "stream",
     "text": [
      "\u001b[33m\u001b[1m┌ \u001b[22m\u001b[39m\u001b[33m\u001b[1mWarning: \u001b[22m\u001b[39mFor parameter -0.0967286 The Poincaré surface of section did not have any points!\n",
      "\u001b[33m\u001b[1m└ \u001b[22m\u001b[39m\u001b[90m@ ChaosTools C:\\Users\\Alex\\.julia\\packages\\ChaosTools\\PHPDF\\src\\orbitdiagrams\\produce_orbitdiagram.jl:75\u001b[39m\n"
     ]
    },
    {
     "name": "stdout",
     "output_type": "stream",
     "text": [
      "parameter = -0.096729\n"
     ]
    },
    {
     "name": "stderr",
     "output_type": "stream",
     "text": [
      "\u001b[33m\u001b[1m┌ \u001b[22m\u001b[39m\u001b[33m\u001b[1mWarning: \u001b[22m\u001b[39mFor parameter -0.0967288 The Poincaré surface of section did not have any points!\n",
      "\u001b[33m\u001b[1m└ \u001b[22m\u001b[39m\u001b[90m@ ChaosTools C:\\Users\\Alex\\.julia\\packages\\ChaosTools\\PHPDF\\src\\orbitdiagrams\\produce_orbitdiagram.jl:75\u001b[39m\n"
     ]
    },
    {
     "name": "stdout",
     "output_type": "stream",
     "text": [
      "parameter = -0.0967292"
     ]
    },
    {
     "name": "stderr",
     "output_type": "stream",
     "text": [
      "\u001b[33m\u001b[1m┌ \u001b[22m\u001b[39m\u001b[33m\u001b[1mWarning: \u001b[22m\u001b[39mFor parameter -0.096729 The Poincaré surface of section did not have any points!\n",
      "\u001b[33m\u001b[1m└ \u001b[22m\u001b[39m\u001b[90m@ ChaosTools C:\\Users\\Alex\\.julia\\packages\\ChaosTools\\PHPDF\\src\\orbitdiagrams\\produce_orbitdiagram.jl:75\u001b[39m\n"
     ]
    },
    {
     "name": "stdout",
     "output_type": "stream",
     "text": [
      "\n",
      "parameter = -0.0967294"
     ]
    },
    {
     "name": "stderr",
     "output_type": "stream",
     "text": [
      "\u001b[33m\u001b[1m┌ \u001b[22m\u001b[39m\u001b[33m\u001b[1mWarning: \u001b[22m\u001b[39mFor parameter -0.0967292 The Poincaré surface of section did not have any points!\n",
      "\u001b[33m\u001b[1m└ \u001b[22m\u001b[39m\u001b[90m@ ChaosTools C:\\Users\\Alex\\.julia\\packages\\ChaosTools\\PHPDF\\src\\orbitdiagrams\\produce_orbitdiagram.jl:75\u001b[39m\n"
     ]
    },
    {
     "name": "stdout",
     "output_type": "stream",
     "text": [
      "\n",
      "parameter = -0.0967296"
     ]
    },
    {
     "name": "stderr",
     "output_type": "stream",
     "text": [
      "\u001b[33m\u001b[1m┌ \u001b[22m\u001b[39m\u001b[33m\u001b[1mWarning: \u001b[22m\u001b[39mFor parameter -0.0967294 The Poincaré surface of section did not have any points!\n",
      "\u001b[33m\u001b[1m└ \u001b[22m\u001b[39m\u001b[90m@ ChaosTools C:\\Users\\Alex\\.julia\\packages\\ChaosTools\\PHPDF\\src\\orbitdiagrams\\produce_orbitdiagram.jl:75\u001b[39m\n"
     ]
    },
    {
     "name": "stdout",
     "output_type": "stream",
     "text": [
      "\n",
      "parameter = -0.0967298\n"
     ]
    },
    {
     "name": "stderr",
     "output_type": "stream",
     "text": [
      "\u001b[33m\u001b[1m┌ \u001b[22m\u001b[39m\u001b[33m\u001b[1mWarning: \u001b[22m\u001b[39mFor parameter -0.0967296 The Poincaré surface of section did not have any points!\n",
      "\u001b[33m\u001b[1m└ \u001b[22m\u001b[39m\u001b[90m@ ChaosTools C:\\Users\\Alex\\.julia\\packages\\ChaosTools\\PHPDF\\src\\orbitdiagrams\\produce_orbitdiagram.jl:75\u001b[39m\n"
     ]
    },
    {
     "name": "stdout",
     "output_type": "stream",
     "text": [
      "parameter = -0.09673"
     ]
    },
    {
     "name": "stderr",
     "output_type": "stream",
     "text": [
      "\u001b[33m\u001b[1m┌ \u001b[22m\u001b[39m\u001b[33m\u001b[1mWarning: \u001b[22m\u001b[39mFor parameter -0.0967298 The Poincaré surface of section did not have any points!\n",
      "\u001b[33m\u001b[1m└ \u001b[22m\u001b[39m\u001b[90m@ ChaosTools C:\\Users\\Alex\\.julia\\packages\\ChaosTools\\PHPDF\\src\\orbitdiagrams\\produce_orbitdiagram.jl:75\u001b[39m\n"
     ]
    },
    {
     "name": "stdout",
     "output_type": "stream",
     "text": [
      "\n",
      "parameter = -0.0967302"
     ]
    },
    {
     "name": "stderr",
     "output_type": "stream",
     "text": [
      "\u001b[33m\u001b[1m┌ \u001b[22m\u001b[39m\u001b[33m\u001b[1mWarning: \u001b[22m\u001b[39mFor parameter -0.09673 The Poincaré surface of section did not have any points!\n",
      "\u001b[33m\u001b[1m└ \u001b[22m\u001b[39m\u001b[90m@ ChaosTools C:\\Users\\Alex\\.julia\\packages\\ChaosTools\\PHPDF\\src\\orbitdiagrams\\produce_orbitdiagram.jl:75\u001b[39m\n"
     ]
    },
    {
     "name": "stdout",
     "output_type": "stream",
     "text": [
      "\n",
      "parameter = -0.0967304\n"
     ]
    },
    {
     "name": "stderr",
     "output_type": "stream",
     "text": [
      "\u001b[33m\u001b[1m┌ \u001b[22m\u001b[39m\u001b[33m\u001b[1mWarning: \u001b[22m\u001b[39mFor parameter -0.0967302 The Poincaré surface of section did not have any points!\n",
      "\u001b[33m\u001b[1m└ \u001b[22m\u001b[39m\u001b[90m@ ChaosTools C:\\Users\\Alex\\.julia\\packages\\ChaosTools\\PHPDF\\src\\orbitdiagrams\\produce_orbitdiagram.jl:75\u001b[39m\n",
      "\u001b[33m\u001b[1m┌ \u001b[22m\u001b[39m\u001b[33m\u001b[1mWarning: \u001b[22m\u001b[39mFor parameter -0.0967304 The Poincaré surface of section did not have any points!\n",
      "\u001b[33m\u001b[1m└ \u001b[22m\u001b[39m\u001b[90m@ ChaosTools C:\\Users\\Alex\\.julia\\packages\\ChaosTools\\PHPDF\\src\\orbitdiagrams\\produce_orbitdiagram.jl:75\u001b[39m\n"
     ]
    },
    {
     "name": "stdout",
     "output_type": "stream",
     "text": [
      "parameter = -0.0967306\n",
      "parameter = -0.0967308\n"
     ]
    },
    {
     "name": "stderr",
     "output_type": "stream",
     "text": [
      "\u001b[33m\u001b[1m┌ \u001b[22m\u001b[39m\u001b[33m\u001b[1mWarning: \u001b[22m\u001b[39mFor parameter -0.0967306 The Poincaré surface of section did not have any points!\n",
      "\u001b[33m\u001b[1m└ \u001b[22m\u001b[39m\u001b[90m@ ChaosTools C:\\Users\\Alex\\.julia\\packages\\ChaosTools\\PHPDF\\src\\orbitdiagrams\\produce_orbitdiagram.jl:75\u001b[39m\n"
     ]
    },
    {
     "name": "stdout",
     "output_type": "stream",
     "text": [
      "parameter = -0.096731"
     ]
    },
    {
     "name": "stderr",
     "output_type": "stream",
     "text": [
      "\u001b[33m\u001b[1m┌ \u001b[22m\u001b[39m\u001b[33m\u001b[1mWarning: \u001b[22m\u001b[39mFor parameter -0.0967308 The Poincaré surface of section did not have any points!\n",
      "\u001b[33m\u001b[1m└ \u001b[22m\u001b[39m\u001b[90m@ ChaosTools C:\\Users\\Alex\\.julia\\packages\\ChaosTools\\PHPDF\\src\\orbitdiagrams\\produce_orbitdiagram.jl:75\u001b[39m\n"
     ]
    },
    {
     "name": "stdout",
     "output_type": "stream",
     "text": [
      "\n"
     ]
    },
    {
     "name": "stderr",
     "output_type": "stream",
     "text": [
      "\u001b[33m\u001b[1m┌ \u001b[22m\u001b[39m\u001b[33m\u001b[1mWarning: \u001b[22m\u001b[39mFor parameter -0.096731 The Poincaré surface of section did not have any points!\n",
      "\u001b[33m\u001b[1m└ \u001b[22m\u001b[39m\u001b[90m@ ChaosTools C:\\Users\\Alex\\.julia\\packages\\ChaosTools\\PHPDF\\src\\orbitdiagrams\\produce_orbitdiagram.jl:75\u001b[39m\n"
     ]
    },
    {
     "name": "stdout",
     "output_type": "stream",
     "text": [
      "parameter = -0.0967312\n",
      "parameter = -0.0967314"
     ]
    },
    {
     "name": "stderr",
     "output_type": "stream",
     "text": [
      "\u001b[33m\u001b[1m┌ \u001b[22m\u001b[39m\u001b[33m\u001b[1mWarning: \u001b[22m\u001b[39mFor parameter -0.0967312 The Poincaré surface of section did not have any points!\n",
      "\u001b[33m\u001b[1m└ \u001b[22m\u001b[39m\u001b[90m@ ChaosTools C:\\Users\\Alex\\.julia\\packages\\ChaosTools\\PHPDF\\src\\orbitdiagrams\\produce_orbitdiagram.jl:75\u001b[39m\n"
     ]
    },
    {
     "name": "stdout",
     "output_type": "stream",
     "text": [
      "\n",
      "parameter = -0.0967316\n"
     ]
    },
    {
     "name": "stderr",
     "output_type": "stream",
     "text": [
      "\u001b[33m\u001b[1m┌ \u001b[22m\u001b[39m\u001b[33m\u001b[1mWarning: \u001b[22m\u001b[39mFor parameter -0.0967314 The Poincaré surface of section did not have any points!\n",
      "\u001b[33m\u001b[1m└ \u001b[22m\u001b[39m\u001b[90m@ ChaosTools C:\\Users\\Alex\\.julia\\packages\\ChaosTools\\PHPDF\\src\\orbitdiagrams\\produce_orbitdiagram.jl:75\u001b[39m\n"
     ]
    },
    {
     "name": "stdout",
     "output_type": "stream",
     "text": [
      "parameter = -0.0967318\n"
     ]
    },
    {
     "name": "stderr",
     "output_type": "stream",
     "text": [
      "\u001b[33m\u001b[1m┌ \u001b[22m\u001b[39m\u001b[33m\u001b[1mWarning: \u001b[22m\u001b[39mFor parameter -0.0967316 The Poincaré surface of section did not have any points!\n",
      "\u001b[33m\u001b[1m└ \u001b[22m\u001b[39m\u001b[90m@ ChaosTools C:\\Users\\Alex\\.julia\\packages\\ChaosTools\\PHPDF\\src\\orbitdiagrams\\produce_orbitdiagram.jl:75\u001b[39m\n"
     ]
    },
    {
     "name": "stdout",
     "output_type": "stream",
     "text": [
      "parameter = -0.096732\n"
     ]
    },
    {
     "name": "stderr",
     "output_type": "stream",
     "text": [
      "\u001b[33m\u001b[1m┌ \u001b[22m\u001b[39m\u001b[33m\u001b[1mWarning: \u001b[22m\u001b[39mFor parameter -0.0967318 The Poincaré surface of section did not have any points!\n",
      "\u001b[33m\u001b[1m└ \u001b[22m\u001b[39m\u001b[90m@ ChaosTools C:\\Users\\Alex\\.julia\\packages\\ChaosTools\\PHPDF\\src\\orbitdiagrams\\produce_orbitdiagram.jl:75\u001b[39m\n"
     ]
    },
    {
     "name": "stdout",
     "output_type": "stream",
     "text": [
      "parameter = -0.0967322"
     ]
    },
    {
     "name": "stderr",
     "output_type": "stream",
     "text": [
      "\u001b[33m\u001b[1m┌ \u001b[22m\u001b[39m\u001b[33m\u001b[1mWarning: \u001b[22m\u001b[39mFor parameter -0.096732 The Poincaré surface of section did not have any points!\n",
      "\u001b[33m\u001b[1m└ \u001b[22m\u001b[39m\u001b[90m@ ChaosTools C:\\Users\\Alex\\.julia\\packages\\ChaosTools\\PHPDF\\src\\orbitdiagrams\\produce_orbitdiagram.jl:75\u001b[39m\n"
     ]
    },
    {
     "name": "stdout",
     "output_type": "stream",
     "text": [
      "\n",
      "parameter = -0.0967324"
     ]
    },
    {
     "name": "stderr",
     "output_type": "stream",
     "text": [
      "\u001b[33m\u001b[1m┌ \u001b[22m\u001b[39m\u001b[33m\u001b[1mWarning: \u001b[22m\u001b[39mFor parameter -0.0967322 The Poincaré surface of section did not have any points!\n",
      "\u001b[33m\u001b[1m└ \u001b[22m\u001b[39m\u001b[90m@ ChaosTools C:\\Users\\Alex\\.julia\\packages\\ChaosTools\\PHPDF\\src\\orbitdiagrams\\produce_orbitdiagram.jl:75\u001b[39m\n"
     ]
    },
    {
     "name": "stdout",
     "output_type": "stream",
     "text": [
      "\n",
      "parameter = -0.0967326"
     ]
    },
    {
     "name": "stderr",
     "output_type": "stream",
     "text": [
      "\u001b[33m\u001b[1m┌ \u001b[22m\u001b[39m\u001b[33m\u001b[1mWarning: \u001b[22m\u001b[39mFor parameter -0.0967324 The Poincaré surface of section did not have any points!\n",
      "\u001b[33m\u001b[1m└ \u001b[22m\u001b[39m\u001b[90m@ ChaosTools C:\\Users\\Alex\\.julia\\packages\\ChaosTools\\PHPDF\\src\\orbitdiagrams\\produce_orbitdiagram.jl:75\u001b[39m\n"
     ]
    },
    {
     "name": "stdout",
     "output_type": "stream",
     "text": [
      "\n"
     ]
    },
    {
     "name": "stderr",
     "output_type": "stream",
     "text": [
      "\u001b[33m\u001b[1m┌ \u001b[22m\u001b[39m\u001b[33m\u001b[1mWarning: \u001b[22m\u001b[39mFor parameter -0.0967326 The Poincaré surface of section did not have any points!\n",
      "\u001b[33m\u001b[1m└ \u001b[22m\u001b[39m\u001b[90m@ ChaosTools C:\\Users\\Alex\\.julia\\packages\\ChaosTools\\PHPDF\\src\\orbitdiagrams\\produce_orbitdiagram.jl:75\u001b[39m\n"
     ]
    },
    {
     "name": "stdout",
     "output_type": "stream",
     "text": [
      "parameter = -0.0967328\n",
      "parameter = -0.096733\n"
     ]
    },
    {
     "name": "stderr",
     "output_type": "stream",
     "text": [
      "\u001b[33m\u001b[1m┌ \u001b[22m\u001b[39m\u001b[33m\u001b[1mWarning: \u001b[22m\u001b[39mFor parameter -0.0967328 The Poincaré surface of section did not have any points!\n",
      "\u001b[33m\u001b[1m└ \u001b[22m\u001b[39m\u001b[90m@ ChaosTools C:\\Users\\Alex\\.julia\\packages\\ChaosTools\\PHPDF\\src\\orbitdiagrams\\produce_orbitdiagram.jl:75\u001b[39m\n",
      "\u001b[33m\u001b[1m┌ \u001b[22m\u001b[39m\u001b[33m\u001b[1mWarning: \u001b[22m\u001b[39mFor parameter -0.096733 The Poincaré surface of section did not have any points!\n",
      "\u001b[33m\u001b[1m└ \u001b[22m\u001b[39m\u001b[90m@ ChaosTools C:\\Users\\Alex\\.julia\\packages\\ChaosTools\\PHPDF\\src\\orbitdiagrams\\produce_orbitdiagram.jl:75\u001b[39m\n"
     ]
    },
    {
     "name": "stdout",
     "output_type": "stream",
     "text": [
      "parameter = -0.0967332\n",
      "parameter = -0.0967334"
     ]
    },
    {
     "name": "stderr",
     "output_type": "stream",
     "text": [
      "\u001b[33m\u001b[1m┌ \u001b[22m\u001b[39m\u001b[33m\u001b[1mWarning: \u001b[22m\u001b[39mFor parameter -0.0967332 The Poincaré surface of section did not have any points!\n",
      "\u001b[33m\u001b[1m└ \u001b[22m\u001b[39m\u001b[90m@ ChaosTools C:\\Users\\Alex\\.julia\\packages\\ChaosTools\\PHPDF\\src\\orbitdiagrams\\produce_orbitdiagram.jl:75\u001b[39m\n"
     ]
    },
    {
     "name": "stdout",
     "output_type": "stream",
     "text": [
      "\n",
      "parameter = -0.0967336"
     ]
    },
    {
     "name": "stderr",
     "output_type": "stream",
     "text": [
      "\u001b[33m\u001b[1m┌ \u001b[22m\u001b[39m\u001b[33m\u001b[1mWarning: \u001b[22m\u001b[39mFor parameter -0.0967334 The Poincaré surface of section did not have any points!\n",
      "\u001b[33m\u001b[1m└ \u001b[22m\u001b[39m\u001b[90m@ ChaosTools C:\\Users\\Alex\\.julia\\packages\\ChaosTools\\PHPDF\\src\\orbitdiagrams\\produce_orbitdiagram.jl:75\u001b[39m\n"
     ]
    },
    {
     "name": "stdout",
     "output_type": "stream",
     "text": [
      "\n",
      "parameter = -0.0967338"
     ]
    },
    {
     "name": "stderr",
     "output_type": "stream",
     "text": [
      "\u001b[33m\u001b[1m┌ \u001b[22m\u001b[39m\u001b[33m\u001b[1mWarning: \u001b[22m\u001b[39mFor parameter -0.0967336 The Poincaré surface of section did not have any points!\n",
      "\u001b[33m\u001b[1m└ \u001b[22m\u001b[39m\u001b[90m@ ChaosTools C:\\Users\\Alex\\.julia\\packages\\ChaosTools\\PHPDF\\src\\orbitdiagrams\\produce_orbitdiagram.jl:75\u001b[39m\n"
     ]
    },
    {
     "name": "stdout",
     "output_type": "stream",
     "text": [
      "\n",
      "parameter = -0.096734\n"
     ]
    },
    {
     "name": "stderr",
     "output_type": "stream",
     "text": [
      "\u001b[33m\u001b[1m┌ \u001b[22m\u001b[39m\u001b[33m\u001b[1mWarning: \u001b[22m\u001b[39mFor parameter -0.0967338 The Poincaré surface of section did not have any points!\n",
      "\u001b[33m\u001b[1m└ \u001b[22m\u001b[39m\u001b[90m@ ChaosTools C:\\Users\\Alex\\.julia\\packages\\ChaosTools\\PHPDF\\src\\orbitdiagrams\\produce_orbitdiagram.jl:75\u001b[39m\n"
     ]
    },
    {
     "name": "stdout",
     "output_type": "stream",
     "text": [
      "parameter = -0.0967342\n"
     ]
    },
    {
     "name": "stderr",
     "output_type": "stream",
     "text": [
      "\u001b[33m\u001b[1m┌ \u001b[22m\u001b[39m\u001b[33m\u001b[1mWarning: \u001b[22m\u001b[39mFor parameter -0.096734 The Poincaré surface of section did not have any points!\n",
      "\u001b[33m\u001b[1m└ \u001b[22m\u001b[39m\u001b[90m@ ChaosTools C:\\Users\\Alex\\.julia\\packages\\ChaosTools\\PHPDF\\src\\orbitdiagrams\\produce_orbitdiagram.jl:75\u001b[39m\n",
      "\u001b[33m\u001b[1m┌ \u001b[22m\u001b[39m\u001b[33m\u001b[1mWarning: \u001b[22m\u001b[39mFor parameter -0.0967342 The Poincaré surface of section did not have any points!\n",
      "\u001b[33m\u001b[1m└ \u001b[22m\u001b[39m\u001b[90m@ ChaosTools C:\\Users\\Alex\\.julia\\packages\\ChaosTools\\PHPDF\\src\\orbitdiagrams\\produce_orbitdiagram.jl:75\u001b[39m\n"
     ]
    },
    {
     "name": "stdout",
     "output_type": "stream",
     "text": [
      "parameter = -0.0967344\n",
      "parameter = -0.0967346"
     ]
    },
    {
     "name": "stderr",
     "output_type": "stream",
     "text": [
      "\u001b[33m\u001b[1m┌ \u001b[22m\u001b[39m\u001b[33m\u001b[1mWarning: \u001b[22m\u001b[39mFor parameter -0.0967344 The Poincaré surface of section did not have any points!\n",
      "\u001b[33m\u001b[1m└ \u001b[22m\u001b[39m\u001b[90m@ ChaosTools C:\\Users\\Alex\\.julia\\packages\\ChaosTools\\PHPDF\\src\\orbitdiagrams\\produce_orbitdiagram.jl:75\u001b[39m\n"
     ]
    },
    {
     "name": "stdout",
     "output_type": "stream",
     "text": [
      "\n",
      "parameter = -0.0967348"
     ]
    },
    {
     "name": "stderr",
     "output_type": "stream",
     "text": [
      "\u001b[33m\u001b[1m┌ \u001b[22m\u001b[39m\u001b[33m\u001b[1mWarning: \u001b[22m\u001b[39mFor parameter -0.0967346 The Poincaré surface of section did not have any points!\n",
      "\u001b[33m\u001b[1m└ \u001b[22m\u001b[39m\u001b[90m@ ChaosTools C:\\Users\\Alex\\.julia\\packages\\ChaosTools\\PHPDF\\src\\orbitdiagrams\\produce_orbitdiagram.jl:75\u001b[39m\n"
     ]
    },
    {
     "name": "stdout",
     "output_type": "stream",
     "text": [
      "\n",
      "parameter = -0.096735"
     ]
    },
    {
     "name": "stderr",
     "output_type": "stream",
     "text": [
      "\u001b[33m\u001b[1m┌ \u001b[22m\u001b[39m\u001b[33m\u001b[1mWarning: \u001b[22m\u001b[39mFor parameter -0.0967348 The Poincaré surface of section did not have any points!\n",
      "\u001b[33m\u001b[1m└ \u001b[22m\u001b[39m\u001b[90m@ ChaosTools C:\\Users\\Alex\\.julia\\packages\\ChaosTools\\PHPDF\\src\\orbitdiagrams\\produce_orbitdiagram.jl:75\u001b[39m\n"
     ]
    },
    {
     "name": "stdout",
     "output_type": "stream",
     "text": [
      "\n",
      "parameter = -0.0967352"
     ]
    },
    {
     "name": "stderr",
     "output_type": "stream",
     "text": [
      "\u001b[33m\u001b[1m┌ \u001b[22m\u001b[39m\u001b[33m\u001b[1mWarning: \u001b[22m\u001b[39mFor parameter -0.096735 The Poincaré surface of section did not have any points!\n",
      "\u001b[33m\u001b[1m└ \u001b[22m\u001b[39m\u001b[90m@ ChaosTools C:\\Users\\Alex\\.julia\\packages\\ChaosTools\\PHPDF\\src\\orbitdiagrams\\produce_orbitdiagram.jl:75\u001b[39m\n"
     ]
    },
    {
     "name": "stdout",
     "output_type": "stream",
     "text": [
      "\n",
      "parameter = -0.0967354\n"
     ]
    },
    {
     "name": "stderr",
     "output_type": "stream",
     "text": [
      "\u001b[33m\u001b[1m┌ \u001b[22m\u001b[39m\u001b[33m\u001b[1mWarning: \u001b[22m\u001b[39mFor parameter -0.0967352 The Poincaré surface of section did not have any points!\n",
      "\u001b[33m\u001b[1m└ \u001b[22m\u001b[39m\u001b[90m@ ChaosTools C:\\Users\\Alex\\.julia\\packages\\ChaosTools\\PHPDF\\src\\orbitdiagrams\\produce_orbitdiagram.jl:75\u001b[39m\n"
     ]
    },
    {
     "name": "stdout",
     "output_type": "stream",
     "text": [
      "parameter = -0.0967356"
     ]
    },
    {
     "name": "stderr",
     "output_type": "stream",
     "text": [
      "\u001b[33m\u001b[1m┌ \u001b[22m\u001b[39m\u001b[33m\u001b[1mWarning: \u001b[22m\u001b[39mFor parameter -0.0967354 The Poincaré surface of section did not have any points!\n",
      "\u001b[33m\u001b[1m└ \u001b[22m\u001b[39m\u001b[90m@ ChaosTools C:\\Users\\Alex\\.julia\\packages\\ChaosTools\\PHPDF\\src\\orbitdiagrams\\produce_orbitdiagram.jl:75\u001b[39m\n"
     ]
    },
    {
     "name": "stdout",
     "output_type": "stream",
     "text": [
      "\n",
      "parameter = -0.0967358\n"
     ]
    },
    {
     "name": "stderr",
     "output_type": "stream",
     "text": [
      "\u001b[33m\u001b[1m┌ \u001b[22m\u001b[39m\u001b[33m\u001b[1mWarning: \u001b[22m\u001b[39mFor parameter -0.0967356 The Poincaré surface of section did not have any points!\n",
      "\u001b[33m\u001b[1m└ \u001b[22m\u001b[39m\u001b[90m@ ChaosTools C:\\Users\\Alex\\.julia\\packages\\ChaosTools\\PHPDF\\src\\orbitdiagrams\\produce_orbitdiagram.jl:75\u001b[39m\n"
     ]
    },
    {
     "name": "stdout",
     "output_type": "stream",
     "text": [
      "parameter = -0.096736"
     ]
    },
    {
     "name": "stderr",
     "output_type": "stream",
     "text": [
      "\u001b[33m\u001b[1m┌ \u001b[22m\u001b[39m\u001b[33m\u001b[1mWarning: \u001b[22m\u001b[39mFor parameter -0.0967358 The Poincaré surface of section did not have any points!\n",
      "\u001b[33m\u001b[1m└ \u001b[22m\u001b[39m\u001b[90m@ ChaosTools C:\\Users\\Alex\\.julia\\packages\\ChaosTools\\PHPDF\\src\\orbitdiagrams\\produce_orbitdiagram.jl:75\u001b[39m\n"
     ]
    },
    {
     "name": "stdout",
     "output_type": "stream",
     "text": [
      "\n",
      "parameter = -0.0967362"
     ]
    },
    {
     "name": "stderr",
     "output_type": "stream",
     "text": [
      "\u001b[33m\u001b[1m┌ \u001b[22m\u001b[39m\u001b[33m\u001b[1mWarning: \u001b[22m\u001b[39mFor parameter -0.096736 The Poincaré surface of section did not have any points!\n",
      "\u001b[33m\u001b[1m└ \u001b[22m\u001b[39m\u001b[90m@ ChaosTools C:\\Users\\Alex\\.julia\\packages\\ChaosTools\\PHPDF\\src\\orbitdiagrams\\produce_orbitdiagram.jl:75\u001b[39m\n"
     ]
    },
    {
     "name": "stdout",
     "output_type": "stream",
     "text": [
      "\n",
      "parameter = -0.0967364"
     ]
    },
    {
     "name": "stderr",
     "output_type": "stream",
     "text": [
      "\u001b[33m\u001b[1m┌ \u001b[22m\u001b[39m\u001b[33m\u001b[1mWarning: \u001b[22m\u001b[39mFor parameter -0.0967362 The Poincaré surface of section did not have any points!\n",
      "\u001b[33m\u001b[1m└ \u001b[22m\u001b[39m\u001b[90m@ ChaosTools C:\\Users\\Alex\\.julia\\packages\\ChaosTools\\PHPDF\\src\\orbitdiagrams\\produce_orbitdiagram.jl:75\u001b[39m\n"
     ]
    },
    {
     "name": "stdout",
     "output_type": "stream",
     "text": [
      "\n",
      "parameter = -0.0967366\n"
     ]
    },
    {
     "name": "stderr",
     "output_type": "stream",
     "text": [
      "\u001b[33m\u001b[1m┌ \u001b[22m\u001b[39m\u001b[33m\u001b[1mWarning: \u001b[22m\u001b[39mFor parameter -0.0967364 The Poincaré surface of section did not have any points!\n",
      "\u001b[33m\u001b[1m└ \u001b[22m\u001b[39m\u001b[90m@ ChaosTools C:\\Users\\Alex\\.julia\\packages\\ChaosTools\\PHPDF\\src\\orbitdiagrams\\produce_orbitdiagram.jl:75\u001b[39m\n"
     ]
    },
    {
     "name": "stdout",
     "output_type": "stream",
     "text": [
      "parameter = -0.0967368"
     ]
    },
    {
     "name": "stderr",
     "output_type": "stream",
     "text": [
      "\u001b[33m\u001b[1m┌ \u001b[22m\u001b[39m\u001b[33m\u001b[1mWarning: \u001b[22m\u001b[39mFor parameter -0.0967366 The Poincaré surface of section did not have any points!\n",
      "\u001b[33m\u001b[1m└ \u001b[22m\u001b[39m\u001b[90m@ ChaosTools C:\\Users\\Alex\\.julia\\packages\\ChaosTools\\PHPDF\\src\\orbitdiagrams\\produce_orbitdiagram.jl:75\u001b[39m\n"
     ]
    },
    {
     "name": "stdout",
     "output_type": "stream",
     "text": [
      "\n",
      "parameter = -0.096737"
     ]
    },
    {
     "name": "stderr",
     "output_type": "stream",
     "text": [
      "\u001b[33m\u001b[1m┌ \u001b[22m\u001b[39m\u001b[33m\u001b[1mWarning: \u001b[22m\u001b[39mFor parameter -0.0967368 The Poincaré surface of section did not have any points!\n",
      "\u001b[33m\u001b[1m└ \u001b[22m\u001b[39m\u001b[90m@ ChaosTools C:\\Users\\Alex\\.julia\\packages\\ChaosTools\\PHPDF\\src\\orbitdiagrams\\produce_orbitdiagram.jl:75\u001b[39m\n"
     ]
    },
    {
     "name": "stdout",
     "output_type": "stream",
     "text": [
      "\n",
      "parameter = -0.0967372"
     ]
    },
    {
     "name": "stderr",
     "output_type": "stream",
     "text": [
      "\u001b[33m\u001b[1m┌ \u001b[22m\u001b[39m\u001b[33m\u001b[1mWarning: \u001b[22m\u001b[39mFor parameter -0.096737 The Poincaré surface of section did not have any points!\n",
      "\u001b[33m\u001b[1m└ \u001b[22m\u001b[39m\u001b[90m@ ChaosTools C:\\Users\\Alex\\.julia\\packages\\ChaosTools\\PHPDF\\src\\orbitdiagrams\\produce_orbitdiagram.jl:75\u001b[39m\n"
     ]
    },
    {
     "name": "stdout",
     "output_type": "stream",
     "text": [
      "\n",
      "parameter = -0.0967374"
     ]
    },
    {
     "name": "stderr",
     "output_type": "stream",
     "text": [
      "\u001b[33m\u001b[1m┌ \u001b[22m\u001b[39m\u001b[33m\u001b[1mWarning: \u001b[22m\u001b[39mFor parameter -0.0967372 The Poincaré surface of section did not have any points!\n",
      "\u001b[33m\u001b[1m└ \u001b[22m\u001b[39m\u001b[90m@ ChaosTools C:\\Users\\Alex\\.julia\\packages\\ChaosTools\\PHPDF\\src\\orbitdiagrams\\produce_orbitdiagram.jl:75\u001b[39m\n"
     ]
    },
    {
     "name": "stdout",
     "output_type": "stream",
     "text": [
      "\n",
      "parameter = -0.0967376"
     ]
    },
    {
     "name": "stderr",
     "output_type": "stream",
     "text": [
      "\u001b[33m\u001b[1m┌ \u001b[22m\u001b[39m\u001b[33m\u001b[1mWarning: \u001b[22m\u001b[39mFor parameter -0.0967374 The Poincaré surface of section did not have any points!\n",
      "\u001b[33m\u001b[1m└ \u001b[22m\u001b[39m\u001b[90m@ ChaosTools C:\\Users\\Alex\\.julia\\packages\\ChaosTools\\PHPDF\\src\\orbitdiagrams\\produce_orbitdiagram.jl:75\u001b[39m\n"
     ]
    },
    {
     "name": "stdout",
     "output_type": "stream",
     "text": [
      "\n",
      "parameter = -0.0967378"
     ]
    },
    {
     "name": "stderr",
     "output_type": "stream",
     "text": [
      "\u001b[33m\u001b[1m┌ \u001b[22m\u001b[39m\u001b[33m\u001b[1mWarning: \u001b[22m\u001b[39mFor parameter -0.0967376 The Poincaré surface of section did not have any points!\n",
      "\u001b[33m\u001b[1m└ \u001b[22m\u001b[39m\u001b[90m@ ChaosTools C:\\Users\\Alex\\.julia\\packages\\ChaosTools\\PHPDF\\src\\orbitdiagrams\\produce_orbitdiagram.jl:75\u001b[39m\n"
     ]
    },
    {
     "name": "stdout",
     "output_type": "stream",
     "text": [
      "\n",
      "parameter = -0.096738\n"
     ]
    },
    {
     "name": "stderr",
     "output_type": "stream",
     "text": [
      "\u001b[33m\u001b[1m┌ \u001b[22m\u001b[39m\u001b[33m\u001b[1mWarning: \u001b[22m\u001b[39mFor parameter -0.0967378 The Poincaré surface of section did not have any points!\n",
      "\u001b[33m\u001b[1m└ \u001b[22m\u001b[39m\u001b[90m@ ChaosTools C:\\Users\\Alex\\.julia\\packages\\ChaosTools\\PHPDF\\src\\orbitdiagrams\\produce_orbitdiagram.jl:75\u001b[39m\n"
     ]
    },
    {
     "name": "stdout",
     "output_type": "stream",
     "text": [
      "parameter = -0.0967382\n"
     ]
    },
    {
     "name": "stderr",
     "output_type": "stream",
     "text": [
      "\u001b[33m\u001b[1m┌ \u001b[22m\u001b[39m\u001b[33m\u001b[1mWarning: \u001b[22m\u001b[39mFor parameter -0.096738 The Poincaré surface of section did not have any points!\n",
      "\u001b[33m\u001b[1m└ \u001b[22m\u001b[39m\u001b[90m@ ChaosTools C:\\Users\\Alex\\.julia\\packages\\ChaosTools\\PHPDF\\src\\orbitdiagrams\\produce_orbitdiagram.jl:75\u001b[39m\n"
     ]
    },
    {
     "name": "stdout",
     "output_type": "stream",
     "text": [
      "parameter = -0.0967384"
     ]
    },
    {
     "name": "stderr",
     "output_type": "stream",
     "text": [
      "\u001b[33m\u001b[1m┌ \u001b[22m\u001b[39m\u001b[33m\u001b[1mWarning: \u001b[22m\u001b[39mFor parameter -0.0967382 The Poincaré surface of section did not have any points!\n",
      "\u001b[33m\u001b[1m└ \u001b[22m\u001b[39m\u001b[90m@ ChaosTools C:\\Users\\Alex\\.julia\\packages\\ChaosTools\\PHPDF\\src\\orbitdiagrams\\produce_orbitdiagram.jl:75\u001b[39m\n"
     ]
    },
    {
     "name": "stdout",
     "output_type": "stream",
     "text": [
      "\n",
      "parameter = -0.0967386"
     ]
    },
    {
     "name": "stderr",
     "output_type": "stream",
     "text": [
      "\u001b[33m\u001b[1m┌ \u001b[22m\u001b[39m\u001b[33m\u001b[1mWarning: \u001b[22m\u001b[39mFor parameter -0.0967384 The Poincaré surface of section did not have any points!\n",
      "\u001b[33m\u001b[1m└ \u001b[22m\u001b[39m\u001b[90m@ ChaosTools C:\\Users\\Alex\\.julia\\packages\\ChaosTools\\PHPDF\\src\\orbitdiagrams\\produce_orbitdiagram.jl:75\u001b[39m\n"
     ]
    },
    {
     "name": "stdout",
     "output_type": "stream",
     "text": [
      "\n",
      "parameter = -0.0967388"
     ]
    },
    {
     "name": "stderr",
     "output_type": "stream",
     "text": [
      "\u001b[33m\u001b[1m┌ \u001b[22m\u001b[39m\u001b[33m\u001b[1mWarning: \u001b[22m\u001b[39mFor parameter -0.0967386 The Poincaré surface of section did not have any points!\n",
      "\u001b[33m\u001b[1m└ \u001b[22m\u001b[39m\u001b[90m@ ChaosTools C:\\Users\\Alex\\.julia\\packages\\ChaosTools\\PHPDF\\src\\orbitdiagrams\\produce_orbitdiagram.jl:75\u001b[39m\n"
     ]
    },
    {
     "name": "stdout",
     "output_type": "stream",
     "text": [
      "\n",
      "parameter = -0.096739"
     ]
    },
    {
     "name": "stderr",
     "output_type": "stream",
     "text": [
      "\u001b[33m\u001b[1m┌ \u001b[22m\u001b[39m\u001b[33m\u001b[1mWarning: \u001b[22m\u001b[39mFor parameter -0.0967388 The Poincaré surface of section did not have any points!\n",
      "\u001b[33m\u001b[1m└ \u001b[22m\u001b[39m\u001b[90m@ ChaosTools C:\\Users\\Alex\\.julia\\packages\\ChaosTools\\PHPDF\\src\\orbitdiagrams\\produce_orbitdiagram.jl:75\u001b[39m\n"
     ]
    },
    {
     "name": "stdout",
     "output_type": "stream",
     "text": [
      "\n",
      "parameter = -0.0967392\n"
     ]
    },
    {
     "name": "stderr",
     "output_type": "stream",
     "text": [
      "\u001b[33m\u001b[1m┌ \u001b[22m\u001b[39m\u001b[33m\u001b[1mWarning: \u001b[22m\u001b[39mFor parameter -0.096739 The Poincaré surface of section did not have any points!\n",
      "\u001b[33m\u001b[1m└ \u001b[22m\u001b[39m\u001b[90m@ ChaosTools C:\\Users\\Alex\\.julia\\packages\\ChaosTools\\PHPDF\\src\\orbitdiagrams\\produce_orbitdiagram.jl:75\u001b[39m\n"
     ]
    },
    {
     "name": "stdout",
     "output_type": "stream",
     "text": [
      "parameter = -0.0967394"
     ]
    },
    {
     "name": "stderr",
     "output_type": "stream",
     "text": [
      "\u001b[33m\u001b[1m┌ \u001b[22m\u001b[39m\u001b[33m\u001b[1mWarning: \u001b[22m\u001b[39mFor parameter -0.0967392 The Poincaré surface of section did not have any points!\n",
      "\u001b[33m\u001b[1m└ \u001b[22m\u001b[39m\u001b[90m@ ChaosTools C:\\Users\\Alex\\.julia\\packages\\ChaosTools\\PHPDF\\src\\orbitdiagrams\\produce_orbitdiagram.jl:75\u001b[39m\n"
     ]
    },
    {
     "name": "stdout",
     "output_type": "stream",
     "text": [
      "\n",
      "parameter = -0.0967396"
     ]
    },
    {
     "name": "stderr",
     "output_type": "stream",
     "text": [
      "\u001b[33m\u001b[1m┌ \u001b[22m\u001b[39m\u001b[33m\u001b[1mWarning: \u001b[22m\u001b[39mFor parameter -0.0967394 The Poincaré surface of section did not have any points!\n",
      "\u001b[33m\u001b[1m└ \u001b[22m\u001b[39m\u001b[90m@ ChaosTools C:\\Users\\Alex\\.julia\\packages\\ChaosTools\\PHPDF\\src\\orbitdiagrams\\produce_orbitdiagram.jl:75\u001b[39m\n"
     ]
    },
    {
     "name": "stdout",
     "output_type": "stream",
     "text": [
      "\n",
      "parameter = -0.0967398\n"
     ]
    },
    {
     "name": "stderr",
     "output_type": "stream",
     "text": [
      "\u001b[33m\u001b[1m┌ \u001b[22m\u001b[39m\u001b[33m\u001b[1mWarning: \u001b[22m\u001b[39mFor parameter -0.0967396 The Poincaré surface of section did not have any points!\n",
      "\u001b[33m\u001b[1m└ \u001b[22m\u001b[39m\u001b[90m@ ChaosTools C:\\Users\\Alex\\.julia\\packages\\ChaosTools\\PHPDF\\src\\orbitdiagrams\\produce_orbitdiagram.jl:75\u001b[39m\n"
     ]
    },
    {
     "name": "stdout",
     "output_type": "stream",
     "text": [
      "parameter = -0.09674"
     ]
    },
    {
     "name": "stderr",
     "output_type": "stream",
     "text": [
      "\u001b[33m\u001b[1m┌ \u001b[22m\u001b[39m\u001b[33m\u001b[1mWarning: \u001b[22m\u001b[39mFor parameter -0.0967398 The Poincaré surface of section did not have any points!\n",
      "\u001b[33m\u001b[1m└ \u001b[22m\u001b[39m\u001b[90m@ ChaosTools C:\\Users\\Alex\\.julia\\packages\\ChaosTools\\PHPDF\\src\\orbitdiagrams\\produce_orbitdiagram.jl:75\u001b[39m\n"
     ]
    },
    {
     "name": "stdout",
     "output_type": "stream",
     "text": [
      "\n",
      "parameter = -0.0967402"
     ]
    },
    {
     "name": "stderr",
     "output_type": "stream",
     "text": [
      "\u001b[33m\u001b[1m┌ \u001b[22m\u001b[39m\u001b[33m\u001b[1mWarning: \u001b[22m\u001b[39mFor parameter -0.09674 The Poincaré surface of section did not have any points!\n",
      "\u001b[33m\u001b[1m└ \u001b[22m\u001b[39m\u001b[90m@ ChaosTools C:\\Users\\Alex\\.julia\\packages\\ChaosTools\\PHPDF\\src\\orbitdiagrams\\produce_orbitdiagram.jl:75\u001b[39m\n"
     ]
    },
    {
     "name": "stdout",
     "output_type": "stream",
     "text": [
      "\n",
      "parameter = -0.0967404\n"
     ]
    },
    {
     "name": "stderr",
     "output_type": "stream",
     "text": [
      "\u001b[33m\u001b[1m┌ \u001b[22m\u001b[39m\u001b[33m\u001b[1mWarning: \u001b[22m\u001b[39mFor parameter -0.0967402 The Poincaré surface of section did not have any points!\n",
      "\u001b[33m\u001b[1m└ \u001b[22m\u001b[39m\u001b[90m@ ChaosTools C:\\Users\\Alex\\.julia\\packages\\ChaosTools\\PHPDF\\src\\orbitdiagrams\\produce_orbitdiagram.jl:75\u001b[39m\n"
     ]
    },
    {
     "name": "stdout",
     "output_type": "stream",
     "text": [
      "parameter = -0.0967406"
     ]
    },
    {
     "name": "stderr",
     "output_type": "stream",
     "text": [
      "\u001b[33m\u001b[1m┌ \u001b[22m\u001b[39m\u001b[33m\u001b[1mWarning: \u001b[22m\u001b[39mFor parameter -0.0967404 The Poincaré surface of section did not have any points!\n",
      "\u001b[33m\u001b[1m└ \u001b[22m\u001b[39m\u001b[90m@ ChaosTools C:\\Users\\Alex\\.julia\\packages\\ChaosTools\\PHPDF\\src\\orbitdiagrams\\produce_orbitdiagram.jl:75\u001b[39m\n"
     ]
    },
    {
     "name": "stdout",
     "output_type": "stream",
     "text": [
      "\n",
      "parameter = -0.0967408\n"
     ]
    },
    {
     "name": "stderr",
     "output_type": "stream",
     "text": [
      "\u001b[33m\u001b[1m┌ \u001b[22m\u001b[39m\u001b[33m\u001b[1mWarning: \u001b[22m\u001b[39mFor parameter -0.0967406 The Poincaré surface of section did not have any points!\n",
      "\u001b[33m\u001b[1m└ \u001b[22m\u001b[39m\u001b[90m@ ChaosTools C:\\Users\\Alex\\.julia\\packages\\ChaosTools\\PHPDF\\src\\orbitdiagrams\\produce_orbitdiagram.jl:75\u001b[39m\n"
     ]
    },
    {
     "name": "stdout",
     "output_type": "stream",
     "text": [
      "parameter = -0.096741"
     ]
    },
    {
     "name": "stderr",
     "output_type": "stream",
     "text": [
      "\u001b[33m\u001b[1m┌ \u001b[22m\u001b[39m\u001b[33m\u001b[1mWarning: \u001b[22m\u001b[39mFor parameter -0.0967408 The Poincaré surface of section did not have any points!\n",
      "\u001b[33m\u001b[1m└ \u001b[22m\u001b[39m\u001b[90m@ ChaosTools C:\\Users\\Alex\\.julia\\packages\\ChaosTools\\PHPDF\\src\\orbitdiagrams\\produce_orbitdiagram.jl:75\u001b[39m\n"
     ]
    },
    {
     "name": "stdout",
     "output_type": "stream",
     "text": [
      "\n",
      "parameter = -0.0967412\n"
     ]
    },
    {
     "name": "stderr",
     "output_type": "stream",
     "text": [
      "\u001b[33m\u001b[1m┌ \u001b[22m\u001b[39m\u001b[33m\u001b[1mWarning: \u001b[22m\u001b[39mFor parameter -0.096741 The Poincaré surface of section did not have any points!\n",
      "\u001b[33m\u001b[1m└ \u001b[22m\u001b[39m\u001b[90m@ ChaosTools C:\\Users\\Alex\\.julia\\packages\\ChaosTools\\PHPDF\\src\\orbitdiagrams\\produce_orbitdiagram.jl:75\u001b[39m\n"
     ]
    },
    {
     "name": "stdout",
     "output_type": "stream",
     "text": [
      "parameter = -0.0967414"
     ]
    },
    {
     "name": "stderr",
     "output_type": "stream",
     "text": [
      "\u001b[33m\u001b[1m┌ \u001b[22m\u001b[39m\u001b[33m\u001b[1mWarning: \u001b[22m\u001b[39mFor parameter -0.0967412 The Poincaré surface of section did not have any points!\n",
      "\u001b[33m\u001b[1m└ \u001b[22m\u001b[39m\u001b[90m@ ChaosTools C:\\Users\\Alex\\.julia\\packages\\ChaosTools\\PHPDF\\src\\orbitdiagrams\\produce_orbitdiagram.jl:75\u001b[39m\n"
     ]
    },
    {
     "name": "stdout",
     "output_type": "stream",
     "text": [
      "\n",
      "parameter = -0.0967416"
     ]
    },
    {
     "name": "stderr",
     "output_type": "stream",
     "text": [
      "\u001b[33m\u001b[1m┌ \u001b[22m\u001b[39m\u001b[33m\u001b[1mWarning: \u001b[22m\u001b[39mFor parameter -0.0967414 The Poincaré surface of section did not have any points!\n",
      "\u001b[33m\u001b[1m└ \u001b[22m\u001b[39m\u001b[90m@ ChaosTools C:\\Users\\Alex\\.julia\\packages\\ChaosTools\\PHPDF\\src\\orbitdiagrams\\produce_orbitdiagram.jl:75\u001b[39m\n"
     ]
    },
    {
     "name": "stdout",
     "output_type": "stream",
     "text": [
      "\n",
      "parameter = -0.0967418"
     ]
    },
    {
     "name": "stderr",
     "output_type": "stream",
     "text": [
      "\u001b[33m\u001b[1m┌ \u001b[22m\u001b[39m\u001b[33m\u001b[1mWarning: \u001b[22m\u001b[39mFor parameter -0.0967416 The Poincaré surface of section did not have any points!\n",
      "\u001b[33m\u001b[1m└ \u001b[22m\u001b[39m\u001b[90m@ ChaosTools C:\\Users\\Alex\\.julia\\packages\\ChaosTools\\PHPDF\\src\\orbitdiagrams\\produce_orbitdiagram.jl:75\u001b[39m\n"
     ]
    },
    {
     "name": "stdout",
     "output_type": "stream",
     "text": [
      "\n",
      "parameter = -0.096742"
     ]
    },
    {
     "name": "stderr",
     "output_type": "stream",
     "text": [
      "\u001b[33m\u001b[1m┌ \u001b[22m\u001b[39m\u001b[33m\u001b[1mWarning: \u001b[22m\u001b[39mFor parameter -0.0967418 The Poincaré surface of section did not have any points!\n",
      "\u001b[33m\u001b[1m└ \u001b[22m\u001b[39m\u001b[90m@ ChaosTools C:\\Users\\Alex\\.julia\\packages\\ChaosTools\\PHPDF\\src\\orbitdiagrams\\produce_orbitdiagram.jl:75\u001b[39m\n"
     ]
    },
    {
     "name": "stdout",
     "output_type": "stream",
     "text": [
      "\n",
      "parameter = -0.0967422\n"
     ]
    },
    {
     "name": "stderr",
     "output_type": "stream",
     "text": [
      "\u001b[33m\u001b[1m┌ \u001b[22m\u001b[39m\u001b[33m\u001b[1mWarning: \u001b[22m\u001b[39mFor parameter -0.096742 The Poincaré surface of section did not have any points!\n",
      "\u001b[33m\u001b[1m└ \u001b[22m\u001b[39m\u001b[90m@ ChaosTools C:\\Users\\Alex\\.julia\\packages\\ChaosTools\\PHPDF\\src\\orbitdiagrams\\produce_orbitdiagram.jl:75\u001b[39m\n"
     ]
    },
    {
     "name": "stdout",
     "output_type": "stream",
     "text": [
      "parameter = -0.0967424\n"
     ]
    },
    {
     "name": "stderr",
     "output_type": "stream",
     "text": [
      "\u001b[33m\u001b[1m┌ \u001b[22m\u001b[39m\u001b[33m\u001b[1mWarning: \u001b[22m\u001b[39mFor parameter -0.0967422 The Poincaré surface of section did not have any points!\n",
      "\u001b[33m\u001b[1m└ \u001b[22m\u001b[39m\u001b[90m@ ChaosTools C:\\Users\\Alex\\.julia\\packages\\ChaosTools\\PHPDF\\src\\orbitdiagrams\\produce_orbitdiagram.jl:75\u001b[39m\n",
      "\u001b[33m\u001b[1m┌ \u001b[22m\u001b[39m\u001b[33m\u001b[1mWarning: \u001b[22m\u001b[39mFor parameter -0.0967424 The Poincaré surface of section did not have any points!\n",
      "\u001b[33m\u001b[1m└ \u001b[22m\u001b[39m\u001b[90m@ ChaosTools C:\\Users\\Alex\\.julia\\packages\\ChaosTools\\PHPDF\\src\\orbitdiagrams\\produce_orbitdiagram.jl:75\u001b[39m\n"
     ]
    },
    {
     "name": "stdout",
     "output_type": "stream",
     "text": [
      "parameter = -0.0967426\n",
      "parameter = -0.0967428"
     ]
    },
    {
     "name": "stderr",
     "output_type": "stream",
     "text": [
      "\u001b[33m\u001b[1m┌ \u001b[22m\u001b[39m\u001b[33m\u001b[1mWarning: \u001b[22m\u001b[39mFor parameter -0.0967426 The Poincaré surface of section did not have any points!\n",
      "\u001b[33m\u001b[1m└ \u001b[22m\u001b[39m\u001b[90m@ ChaosTools C:\\Users\\Alex\\.julia\\packages\\ChaosTools\\PHPDF\\src\\orbitdiagrams\\produce_orbitdiagram.jl:75\u001b[39m\n"
     ]
    },
    {
     "name": "stdout",
     "output_type": "stream",
     "text": [
      "\n",
      "parameter = -0.096743\n"
     ]
    },
    {
     "name": "stderr",
     "output_type": "stream",
     "text": [
      "\u001b[33m\u001b[1m┌ \u001b[22m\u001b[39m\u001b[33m\u001b[1mWarning: \u001b[22m\u001b[39mFor parameter -0.0967428 The Poincaré surface of section did not have any points!\n",
      "\u001b[33m\u001b[1m└ \u001b[22m\u001b[39m\u001b[90m@ ChaosTools C:\\Users\\Alex\\.julia\\packages\\ChaosTools\\PHPDF\\src\\orbitdiagrams\\produce_orbitdiagram.jl:75\u001b[39m\n"
     ]
    },
    {
     "name": "stdout",
     "output_type": "stream",
     "text": [
      "parameter = -0.0967432"
     ]
    },
    {
     "name": "stderr",
     "output_type": "stream",
     "text": [
      "\u001b[33m\u001b[1m┌ \u001b[22m\u001b[39m\u001b[33m\u001b[1mWarning: \u001b[22m\u001b[39mFor parameter -0.096743 The Poincaré surface of section did not have any points!\n",
      "\u001b[33m\u001b[1m└ \u001b[22m\u001b[39m\u001b[90m@ ChaosTools C:\\Users\\Alex\\.julia\\packages\\ChaosTools\\PHPDF\\src\\orbitdiagrams\\produce_orbitdiagram.jl:75\u001b[39m\n"
     ]
    },
    {
     "name": "stdout",
     "output_type": "stream",
     "text": [
      "\n",
      "parameter = -0.0967434\n"
     ]
    },
    {
     "name": "stderr",
     "output_type": "stream",
     "text": [
      "\u001b[33m\u001b[1m┌ \u001b[22m\u001b[39m\u001b[33m\u001b[1mWarning: \u001b[22m\u001b[39mFor parameter -0.0967432 The Poincaré surface of section did not have any points!\n",
      "\u001b[33m\u001b[1m└ \u001b[22m\u001b[39m\u001b[90m@ ChaosTools C:\\Users\\Alex\\.julia\\packages\\ChaosTools\\PHPDF\\src\\orbitdiagrams\\produce_orbitdiagram.jl:75\u001b[39m\n"
     ]
    },
    {
     "name": "stdout",
     "output_type": "stream",
     "text": [
      "parameter = -0.0967436"
     ]
    },
    {
     "name": "stderr",
     "output_type": "stream",
     "text": [
      "\u001b[33m\u001b[1m┌ \u001b[22m\u001b[39m\u001b[33m\u001b[1mWarning: \u001b[22m\u001b[39mFor parameter -0.0967434 The Poincaré surface of section did not have any points!\n",
      "\u001b[33m\u001b[1m└ \u001b[22m\u001b[39m\u001b[90m@ ChaosTools C:\\Users\\Alex\\.julia\\packages\\ChaosTools\\PHPDF\\src\\orbitdiagrams\\produce_orbitdiagram.jl:75\u001b[39m\n"
     ]
    },
    {
     "name": "stdout",
     "output_type": "stream",
     "text": [
      "\n",
      "parameter = -0.0967438\n"
     ]
    },
    {
     "name": "stderr",
     "output_type": "stream",
     "text": [
      "\u001b[33m\u001b[1m┌ \u001b[22m\u001b[39m\u001b[33m\u001b[1mWarning: \u001b[22m\u001b[39mFor parameter -0.0967436 The Poincaré surface of section did not have any points!\n",
      "\u001b[33m\u001b[1m└ \u001b[22m\u001b[39m\u001b[90m@ ChaosTools C:\\Users\\Alex\\.julia\\packages\\ChaosTools\\PHPDF\\src\\orbitdiagrams\\produce_orbitdiagram.jl:75\u001b[39m\n"
     ]
    },
    {
     "name": "stdout",
     "output_type": "stream",
     "text": [
      "parameter = -0.096744"
     ]
    },
    {
     "name": "stderr",
     "output_type": "stream",
     "text": [
      "\u001b[33m\u001b[1m┌ \u001b[22m\u001b[39m\u001b[33m\u001b[1mWarning: \u001b[22m\u001b[39mFor parameter -0.0967438 The Poincaré surface of section did not have any points!\n",
      "\u001b[33m\u001b[1m└ \u001b[22m\u001b[39m\u001b[90m@ ChaosTools C:\\Users\\Alex\\.julia\\packages\\ChaosTools\\PHPDF\\src\\orbitdiagrams\\produce_orbitdiagram.jl:75\u001b[39m\n"
     ]
    },
    {
     "name": "stdout",
     "output_type": "stream",
     "text": [
      "\n",
      "parameter = -0.0967442\n"
     ]
    },
    {
     "name": "stderr",
     "output_type": "stream",
     "text": [
      "\u001b[33m\u001b[1m┌ \u001b[22m\u001b[39m\u001b[33m\u001b[1mWarning: \u001b[22m\u001b[39mFor parameter -0.096744 The Poincaré surface of section did not have any points!\n",
      "\u001b[33m\u001b[1m└ \u001b[22m\u001b[39m\u001b[90m@ ChaosTools C:\\Users\\Alex\\.julia\\packages\\ChaosTools\\PHPDF\\src\\orbitdiagrams\\produce_orbitdiagram.jl:75\u001b[39m\n"
     ]
    },
    {
     "name": "stdout",
     "output_type": "stream",
     "text": [
      "parameter = -0.0967444\n"
     ]
    },
    {
     "name": "stderr",
     "output_type": "stream",
     "text": [
      "\u001b[33m\u001b[1m┌ \u001b[22m\u001b[39m\u001b[33m\u001b[1mWarning: \u001b[22m\u001b[39mFor parameter -0.0967442 The Poincaré surface of section did not have any points!\n",
      "\u001b[33m\u001b[1m└ \u001b[22m\u001b[39m\u001b[90m@ ChaosTools C:\\Users\\Alex\\.julia\\packages\\ChaosTools\\PHPDF\\src\\orbitdiagrams\\produce_orbitdiagram.jl:75\u001b[39m\n"
     ]
    },
    {
     "name": "stdout",
     "output_type": "stream",
     "text": [
      "parameter = -0.0967446"
     ]
    },
    {
     "name": "stderr",
     "output_type": "stream",
     "text": [
      "\u001b[33m\u001b[1m┌ \u001b[22m\u001b[39m\u001b[33m\u001b[1mWarning: \u001b[22m\u001b[39mFor parameter -0.0967444 The Poincaré surface of section did not have any points!\n",
      "\u001b[33m\u001b[1m└ \u001b[22m\u001b[39m\u001b[90m@ ChaosTools C:\\Users\\Alex\\.julia\\packages\\ChaosTools\\PHPDF\\src\\orbitdiagrams\\produce_orbitdiagram.jl:75\u001b[39m\n"
     ]
    },
    {
     "name": "stdout",
     "output_type": "stream",
     "text": [
      "\n",
      "parameter = -0.0967448\n"
     ]
    },
    {
     "name": "stderr",
     "output_type": "stream",
     "text": [
      "\u001b[33m\u001b[1m┌ \u001b[22m\u001b[39m\u001b[33m\u001b[1mWarning: \u001b[22m\u001b[39mFor parameter -0.0967446 The Poincaré surface of section did not have any points!\n",
      "\u001b[33m\u001b[1m└ \u001b[22m\u001b[39m\u001b[90m@ ChaosTools C:\\Users\\Alex\\.julia\\packages\\ChaosTools\\PHPDF\\src\\orbitdiagrams\\produce_orbitdiagram.jl:75\u001b[39m\n"
     ]
    },
    {
     "name": "stdout",
     "output_type": "stream",
     "text": [
      "parameter = -0.096745\n"
     ]
    },
    {
     "name": "stderr",
     "output_type": "stream",
     "text": [
      "\u001b[33m\u001b[1m┌ \u001b[22m\u001b[39m\u001b[33m\u001b[1mWarning: \u001b[22m\u001b[39mFor parameter -0.0967448 The Poincaré surface of section did not have any points!\n",
      "\u001b[33m\u001b[1m└ \u001b[22m\u001b[39m\u001b[90m@ ChaosTools C:\\Users\\Alex\\.julia\\packages\\ChaosTools\\PHPDF\\src\\orbitdiagrams\\produce_orbitdiagram.jl:75\u001b[39m\n"
     ]
    },
    {
     "name": "stdout",
     "output_type": "stream",
     "text": [
      "parameter = -0.0967452"
     ]
    },
    {
     "name": "stderr",
     "output_type": "stream",
     "text": [
      "\u001b[33m\u001b[1m┌ \u001b[22m\u001b[39m\u001b[33m\u001b[1mWarning: \u001b[22m\u001b[39mFor parameter -0.096745 The Poincaré surface of section did not have any points!\n",
      "\u001b[33m\u001b[1m└ \u001b[22m\u001b[39m\u001b[90m@ ChaosTools C:\\Users\\Alex\\.julia\\packages\\ChaosTools\\PHPDF\\src\\orbitdiagrams\\produce_orbitdiagram.jl:75\u001b[39m\n"
     ]
    },
    {
     "name": "stdout",
     "output_type": "stream",
     "text": [
      "\n",
      "parameter = -0.0967454"
     ]
    },
    {
     "name": "stderr",
     "output_type": "stream",
     "text": [
      "\u001b[33m\u001b[1m┌ \u001b[22m\u001b[39m\u001b[33m\u001b[1mWarning: \u001b[22m\u001b[39mFor parameter -0.0967452 The Poincaré surface of section did not have any points!\n",
      "\u001b[33m\u001b[1m└ \u001b[22m\u001b[39m\u001b[90m@ ChaosTools C:\\Users\\Alex\\.julia\\packages\\ChaosTools\\PHPDF\\src\\orbitdiagrams\\produce_orbitdiagram.jl:75\u001b[39m\n"
     ]
    },
    {
     "name": "stdout",
     "output_type": "stream",
     "text": [
      "\n",
      "parameter = -0.0967456"
     ]
    },
    {
     "name": "stderr",
     "output_type": "stream",
     "text": [
      "\u001b[33m\u001b[1m┌ \u001b[22m\u001b[39m\u001b[33m\u001b[1mWarning: \u001b[22m\u001b[39mFor parameter -0.0967454 The Poincaré surface of section did not have any points!\n",
      "\u001b[33m\u001b[1m└ \u001b[22m\u001b[39m\u001b[90m@ ChaosTools C:\\Users\\Alex\\.julia\\packages\\ChaosTools\\PHPDF\\src\\orbitdiagrams\\produce_orbitdiagram.jl:75\u001b[39m\n"
     ]
    },
    {
     "name": "stdout",
     "output_type": "stream",
     "text": [
      "\n",
      "parameter = -0.0967458"
     ]
    },
    {
     "name": "stderr",
     "output_type": "stream",
     "text": [
      "\u001b[33m\u001b[1m┌ \u001b[22m\u001b[39m\u001b[33m\u001b[1mWarning: \u001b[22m\u001b[39mFor parameter -0.0967456 The Poincaré surface of section did not have any points!\n",
      "\u001b[33m\u001b[1m└ \u001b[22m\u001b[39m\u001b[90m@ ChaosTools C:\\Users\\Alex\\.julia\\packages\\ChaosTools\\PHPDF\\src\\orbitdiagrams\\produce_orbitdiagram.jl:75\u001b[39m\n"
     ]
    },
    {
     "name": "stdout",
     "output_type": "stream",
     "text": [
      "\n",
      "parameter = -0.096746\n"
     ]
    },
    {
     "name": "stderr",
     "output_type": "stream",
     "text": [
      "\u001b[33m\u001b[1m┌ \u001b[22m\u001b[39m\u001b[33m\u001b[1mWarning: \u001b[22m\u001b[39mFor parameter -0.0967458 The Poincaré surface of section did not have any points!\n",
      "\u001b[33m\u001b[1m└ \u001b[22m\u001b[39m\u001b[90m@ ChaosTools C:\\Users\\Alex\\.julia\\packages\\ChaosTools\\PHPDF\\src\\orbitdiagrams\\produce_orbitdiagram.jl:75\u001b[39m\n"
     ]
    },
    {
     "name": "stdout",
     "output_type": "stream",
     "text": [
      "parameter = -0.0967462"
     ]
    },
    {
     "name": "stderr",
     "output_type": "stream",
     "text": [
      "\u001b[33m\u001b[1m┌ \u001b[22m\u001b[39m\u001b[33m\u001b[1mWarning: \u001b[22m\u001b[39mFor parameter -0.096746 The Poincaré surface of section did not have any points!\n",
      "\u001b[33m\u001b[1m└ \u001b[22m\u001b[39m\u001b[90m@ ChaosTools C:\\Users\\Alex\\.julia\\packages\\ChaosTools\\PHPDF\\src\\orbitdiagrams\\produce_orbitdiagram.jl:75\u001b[39m\n"
     ]
    },
    {
     "name": "stdout",
     "output_type": "stream",
     "text": [
      "\n",
      "parameter = -0.0967464\n"
     ]
    },
    {
     "name": "stderr",
     "output_type": "stream",
     "text": [
      "\u001b[33m\u001b[1m┌ \u001b[22m\u001b[39m\u001b[33m\u001b[1mWarning: \u001b[22m\u001b[39mFor parameter -0.0967462 The Poincaré surface of section did not have any points!\n",
      "\u001b[33m\u001b[1m└ \u001b[22m\u001b[39m\u001b[90m@ ChaosTools C:\\Users\\Alex\\.julia\\packages\\ChaosTools\\PHPDF\\src\\orbitdiagrams\\produce_orbitdiagram.jl:75\u001b[39m\n"
     ]
    },
    {
     "name": "stdout",
     "output_type": "stream",
     "text": [
      "parameter = -0.0967466"
     ]
    },
    {
     "name": "stderr",
     "output_type": "stream",
     "text": [
      "\u001b[33m\u001b[1m┌ \u001b[22m\u001b[39m\u001b[33m\u001b[1mWarning: \u001b[22m\u001b[39mFor parameter -0.0967464 The Poincaré surface of section did not have any points!\n",
      "\u001b[33m\u001b[1m└ \u001b[22m\u001b[39m\u001b[90m@ ChaosTools C:\\Users\\Alex\\.julia\\packages\\ChaosTools\\PHPDF\\src\\orbitdiagrams\\produce_orbitdiagram.jl:75\u001b[39m\n"
     ]
    },
    {
     "name": "stdout",
     "output_type": "stream",
     "text": [
      "\n"
     ]
    },
    {
     "name": "stderr",
     "output_type": "stream",
     "text": [
      "\u001b[33m\u001b[1m┌ \u001b[22m\u001b[39m\u001b[33m\u001b[1mWarning: \u001b[22m\u001b[39mFor parameter -0.0967466 The Poincaré surface of section did not have any points!\n",
      "\u001b[33m\u001b[1m└ \u001b[22m\u001b[39m\u001b[90m@ ChaosTools C:\\Users\\Alex\\.julia\\packages\\ChaosTools\\PHPDF\\src\\orbitdiagrams\\produce_orbitdiagram.jl:75\u001b[39m\n"
     ]
    },
    {
     "name": "stdout",
     "output_type": "stream",
     "text": [
      "parameter = -0.0967468\n",
      "parameter = -0.096747\n"
     ]
    },
    {
     "name": "stderr",
     "output_type": "stream",
     "text": [
      "\u001b[33m\u001b[1m┌ \u001b[22m\u001b[39m\u001b[33m\u001b[1mWarning: \u001b[22m\u001b[39mFor parameter -0.0967468 The Poincaré surface of section did not have any points!\n",
      "\u001b[33m\u001b[1m└ \u001b[22m\u001b[39m\u001b[90m@ ChaosTools C:\\Users\\Alex\\.julia\\packages\\ChaosTools\\PHPDF\\src\\orbitdiagrams\\produce_orbitdiagram.jl:75\u001b[39m\n"
     ]
    },
    {
     "name": "stdout",
     "output_type": "stream",
     "text": [
      "parameter = -0.0967472"
     ]
    },
    {
     "name": "stderr",
     "output_type": "stream",
     "text": [
      "\u001b[33m\u001b[1m┌ \u001b[22m\u001b[39m\u001b[33m\u001b[1mWarning: \u001b[22m\u001b[39mFor parameter -0.096747 The Poincaré surface of section did not have any points!\n",
      "\u001b[33m\u001b[1m└ \u001b[22m\u001b[39m\u001b[90m@ ChaosTools C:\\Users\\Alex\\.julia\\packages\\ChaosTools\\PHPDF\\src\\orbitdiagrams\\produce_orbitdiagram.jl:75\u001b[39m\n"
     ]
    },
    {
     "name": "stdout",
     "output_type": "stream",
     "text": [
      "\n",
      "parameter = -0.0967474"
     ]
    },
    {
     "name": "stderr",
     "output_type": "stream",
     "text": [
      "\u001b[33m\u001b[1m┌ \u001b[22m\u001b[39m\u001b[33m\u001b[1mWarning: \u001b[22m\u001b[39mFor parameter -0.0967472 The Poincaré surface of section did not have any points!\n",
      "\u001b[33m\u001b[1m└ \u001b[22m\u001b[39m\u001b[90m@ ChaosTools C:\\Users\\Alex\\.julia\\packages\\ChaosTools\\PHPDF\\src\\orbitdiagrams\\produce_orbitdiagram.jl:75\u001b[39m\n"
     ]
    },
    {
     "name": "stdout",
     "output_type": "stream",
     "text": [
      "\n",
      "parameter = -0.0967476"
     ]
    },
    {
     "name": "stderr",
     "output_type": "stream",
     "text": [
      "\u001b[33m\u001b[1m┌ \u001b[22m\u001b[39m\u001b[33m\u001b[1mWarning: \u001b[22m\u001b[39mFor parameter -0.0967474 The Poincaré surface of section did not have any points!\n",
      "\u001b[33m\u001b[1m└ \u001b[22m\u001b[39m\u001b[90m@ ChaosTools C:\\Users\\Alex\\.julia\\packages\\ChaosTools\\PHPDF\\src\\orbitdiagrams\\produce_orbitdiagram.jl:75\u001b[39m\n"
     ]
    },
    {
     "name": "stdout",
     "output_type": "stream",
     "text": [
      "\n",
      "parameter = -0.0967478"
     ]
    },
    {
     "name": "stderr",
     "output_type": "stream",
     "text": [
      "\u001b[33m\u001b[1m┌ \u001b[22m\u001b[39m\u001b[33m\u001b[1mWarning: \u001b[22m\u001b[39mFor parameter -0.0967476 The Poincaré surface of section did not have any points!\n",
      "\u001b[33m\u001b[1m└ \u001b[22m\u001b[39m\u001b[90m@ ChaosTools C:\\Users\\Alex\\.julia\\packages\\ChaosTools\\PHPDF\\src\\orbitdiagrams\\produce_orbitdiagram.jl:75\u001b[39m\n"
     ]
    },
    {
     "name": "stdout",
     "output_type": "stream",
     "text": [
      "\n",
      "parameter = -0.096748"
     ]
    },
    {
     "name": "stderr",
     "output_type": "stream",
     "text": [
      "\u001b[33m\u001b[1m┌ \u001b[22m\u001b[39m\u001b[33m\u001b[1mWarning: \u001b[22m\u001b[39mFor parameter -0.0967478 The Poincaré surface of section did not have any points!\n",
      "\u001b[33m\u001b[1m└ \u001b[22m\u001b[39m\u001b[90m@ ChaosTools C:\\Users\\Alex\\.julia\\packages\\ChaosTools\\PHPDF\\src\\orbitdiagrams\\produce_orbitdiagram.jl:75\u001b[39m\n"
     ]
    },
    {
     "name": "stdout",
     "output_type": "stream",
     "text": [
      "\n",
      "parameter = -0.0967482\n"
     ]
    },
    {
     "name": "stderr",
     "output_type": "stream",
     "text": [
      "\u001b[33m\u001b[1m┌ \u001b[22m\u001b[39m\u001b[33m\u001b[1mWarning: \u001b[22m\u001b[39mFor parameter -0.096748 The Poincaré surface of section did not have any points!\n",
      "\u001b[33m\u001b[1m└ \u001b[22m\u001b[39m\u001b[90m@ ChaosTools C:\\Users\\Alex\\.julia\\packages\\ChaosTools\\PHPDF\\src\\orbitdiagrams\\produce_orbitdiagram.jl:75\u001b[39m\n"
     ]
    },
    {
     "name": "stdout",
     "output_type": "stream",
     "text": [
      "parameter = -0.0967484"
     ]
    },
    {
     "name": "stderr",
     "output_type": "stream",
     "text": [
      "\u001b[33m\u001b[1m┌ \u001b[22m\u001b[39m\u001b[33m\u001b[1mWarning: \u001b[22m\u001b[39mFor parameter -0.0967482 The Poincaré surface of section did not have any points!\n",
      "\u001b[33m\u001b[1m└ \u001b[22m\u001b[39m\u001b[90m@ ChaosTools C:\\Users\\Alex\\.julia\\packages\\ChaosTools\\PHPDF\\src\\orbitdiagrams\\produce_orbitdiagram.jl:75\u001b[39m\n"
     ]
    },
    {
     "name": "stdout",
     "output_type": "stream",
     "text": [
      "\n",
      "parameter = -0.0967486"
     ]
    },
    {
     "name": "stderr",
     "output_type": "stream",
     "text": [
      "\u001b[33m\u001b[1m┌ \u001b[22m\u001b[39m\u001b[33m\u001b[1mWarning: \u001b[22m\u001b[39mFor parameter -0.0967484 The Poincaré surface of section did not have any points!\n",
      "\u001b[33m\u001b[1m└ \u001b[22m\u001b[39m\u001b[90m@ ChaosTools C:\\Users\\Alex\\.julia\\packages\\ChaosTools\\PHPDF\\src\\orbitdiagrams\\produce_orbitdiagram.jl:75\u001b[39m\n"
     ]
    },
    {
     "name": "stdout",
     "output_type": "stream",
     "text": [
      "\n",
      "parameter = -0.0967488"
     ]
    },
    {
     "name": "stderr",
     "output_type": "stream",
     "text": [
      "\u001b[33m\u001b[1m┌ \u001b[22m\u001b[39m\u001b[33m\u001b[1mWarning: \u001b[22m\u001b[39mFor parameter -0.0967486 The Poincaré surface of section did not have any points!\n",
      "\u001b[33m\u001b[1m└ \u001b[22m\u001b[39m\u001b[90m@ ChaosTools C:\\Users\\Alex\\.julia\\packages\\ChaosTools\\PHPDF\\src\\orbitdiagrams\\produce_orbitdiagram.jl:75\u001b[39m\n"
     ]
    },
    {
     "name": "stdout",
     "output_type": "stream",
     "text": [
      "\n",
      "parameter = -0.096749"
     ]
    },
    {
     "name": "stderr",
     "output_type": "stream",
     "text": [
      "\u001b[33m\u001b[1m┌ \u001b[22m\u001b[39m\u001b[33m\u001b[1mWarning: \u001b[22m\u001b[39mFor parameter -0.0967488 The Poincaré surface of section did not have any points!\n",
      "\u001b[33m\u001b[1m└ \u001b[22m\u001b[39m\u001b[90m@ ChaosTools C:\\Users\\Alex\\.julia\\packages\\ChaosTools\\PHPDF\\src\\orbitdiagrams\\produce_orbitdiagram.jl:75\u001b[39m\n"
     ]
    },
    {
     "name": "stdout",
     "output_type": "stream",
     "text": [
      "\n",
      "parameter = -0.0967492"
     ]
    },
    {
     "name": "stderr",
     "output_type": "stream",
     "text": [
      "\u001b[33m\u001b[1m┌ \u001b[22m\u001b[39m\u001b[33m\u001b[1mWarning: \u001b[22m\u001b[39mFor parameter -0.096749 The Poincaré surface of section did not have any points!\n",
      "\u001b[33m\u001b[1m└ \u001b[22m\u001b[39m\u001b[90m@ ChaosTools C:\\Users\\Alex\\.julia\\packages\\ChaosTools\\PHPDF\\src\\orbitdiagrams\\produce_orbitdiagram.jl:75\u001b[39m\n"
     ]
    },
    {
     "name": "stdout",
     "output_type": "stream",
     "text": [
      "\n",
      "parameter = -0.0967494\n"
     ]
    },
    {
     "name": "stderr",
     "output_type": "stream",
     "text": [
      "\u001b[33m\u001b[1m┌ \u001b[22m\u001b[39m\u001b[33m\u001b[1mWarning: \u001b[22m\u001b[39mFor parameter -0.0967492 The Poincaré surface of section did not have any points!\n",
      "\u001b[33m\u001b[1m└ \u001b[22m\u001b[39m\u001b[90m@ ChaosTools C:\\Users\\Alex\\.julia\\packages\\ChaosTools\\PHPDF\\src\\orbitdiagrams\\produce_orbitdiagram.jl:75\u001b[39m\n"
     ]
    },
    {
     "name": "stdout",
     "output_type": "stream",
     "text": [
      "parameter = -0.0967496"
     ]
    },
    {
     "name": "stderr",
     "output_type": "stream",
     "text": [
      "\u001b[33m\u001b[1m┌ \u001b[22m\u001b[39m\u001b[33m\u001b[1mWarning: \u001b[22m\u001b[39mFor parameter -0.0967494 The Poincaré surface of section did not have any points!\n",
      "\u001b[33m\u001b[1m└ \u001b[22m\u001b[39m\u001b[90m@ ChaosTools C:\\Users\\Alex\\.julia\\packages\\ChaosTools\\PHPDF\\src\\orbitdiagrams\\produce_orbitdiagram.jl:75\u001b[39m\n"
     ]
    },
    {
     "name": "stdout",
     "output_type": "stream",
     "text": [
      "\n",
      "parameter = -0.0967498\n"
     ]
    },
    {
     "name": "stderr",
     "output_type": "stream",
     "text": [
      "\u001b[33m\u001b[1m┌ \u001b[22m\u001b[39m\u001b[33m\u001b[1mWarning: \u001b[22m\u001b[39mFor parameter -0.0967496 The Poincaré surface of section did not have any points!\n",
      "\u001b[33m\u001b[1m└ \u001b[22m\u001b[39m\u001b[90m@ ChaosTools C:\\Users\\Alex\\.julia\\packages\\ChaosTools\\PHPDF\\src\\orbitdiagrams\\produce_orbitdiagram.jl:75\u001b[39m\n"
     ]
    },
    {
     "name": "stdout",
     "output_type": "stream",
     "text": [
      "parameter = -0.09675"
     ]
    },
    {
     "name": "stderr",
     "output_type": "stream",
     "text": [
      "\u001b[33m\u001b[1m┌ \u001b[22m\u001b[39m\u001b[33m\u001b[1mWarning: \u001b[22m\u001b[39mFor parameter -0.0967498 The Poincaré surface of section did not have any points!\n",
      "\u001b[33m\u001b[1m└ \u001b[22m\u001b[39m\u001b[90m@ ChaosTools C:\\Users\\Alex\\.julia\\packages\\ChaosTools\\PHPDF\\src\\orbitdiagrams\\produce_orbitdiagram.jl:75\u001b[39m\n"
     ]
    },
    {
     "name": "stdout",
     "output_type": "stream",
     "text": [
      "\n",
      "parameter = -0.0967502\n"
     ]
    },
    {
     "name": "stderr",
     "output_type": "stream",
     "text": [
      "\u001b[33m\u001b[1m┌ \u001b[22m\u001b[39m\u001b[33m\u001b[1mWarning: \u001b[22m\u001b[39mFor parameter -0.09675 The Poincaré surface of section did not have any points!\n",
      "\u001b[33m\u001b[1m└ \u001b[22m\u001b[39m\u001b[90m@ ChaosTools C:\\Users\\Alex\\.julia\\packages\\ChaosTools\\PHPDF\\src\\orbitdiagrams\\produce_orbitdiagram.jl:75\u001b[39m\n"
     ]
    },
    {
     "name": "stdout",
     "output_type": "stream",
     "text": [
      "parameter = -0.0967504"
     ]
    },
    {
     "name": "stderr",
     "output_type": "stream",
     "text": [
      "\u001b[33m\u001b[1m┌ \u001b[22m\u001b[39m\u001b[33m\u001b[1mWarning: \u001b[22m\u001b[39mFor parameter -0.0967502 The Poincaré surface of section did not have any points!\n",
      "\u001b[33m\u001b[1m└ \u001b[22m\u001b[39m\u001b[90m@ ChaosTools C:\\Users\\Alex\\.julia\\packages\\ChaosTools\\PHPDF\\src\\orbitdiagrams\\produce_orbitdiagram.jl:75\u001b[39m\n"
     ]
    },
    {
     "name": "stdout",
     "output_type": "stream",
     "text": [
      "\n",
      "parameter = -0.0967506"
     ]
    },
    {
     "name": "stderr",
     "output_type": "stream",
     "text": [
      "\u001b[33m\u001b[1m┌ \u001b[22m\u001b[39m\u001b[33m\u001b[1mWarning: \u001b[22m\u001b[39mFor parameter -0.0967504 The Poincaré surface of section did not have any points!\n",
      "\u001b[33m\u001b[1m└ \u001b[22m\u001b[39m\u001b[90m@ ChaosTools C:\\Users\\Alex\\.julia\\packages\\ChaosTools\\PHPDF\\src\\orbitdiagrams\\produce_orbitdiagram.jl:75\u001b[39m\n"
     ]
    },
    {
     "name": "stdout",
     "output_type": "stream",
     "text": [
      "\n",
      "parameter = -0.0967508"
     ]
    },
    {
     "name": "stderr",
     "output_type": "stream",
     "text": [
      "\u001b[33m\u001b[1m┌ \u001b[22m\u001b[39m\u001b[33m\u001b[1mWarning: \u001b[22m\u001b[39mFor parameter -0.0967506 The Poincaré surface of section did not have any points!\n",
      "\u001b[33m\u001b[1m└ \u001b[22m\u001b[39m\u001b[90m@ ChaosTools C:\\Users\\Alex\\.julia\\packages\\ChaosTools\\PHPDF\\src\\orbitdiagrams\\produce_orbitdiagram.jl:75\u001b[39m\n"
     ]
    },
    {
     "name": "stdout",
     "output_type": "stream",
     "text": [
      "\n",
      "parameter = -0.096751\n"
     ]
    },
    {
     "name": "stderr",
     "output_type": "stream",
     "text": [
      "\u001b[33m\u001b[1m┌ \u001b[22m\u001b[39m\u001b[33m\u001b[1mWarning: \u001b[22m\u001b[39mFor parameter -0.0967508 The Poincaré surface of section did not have any points!\n",
      "\u001b[33m\u001b[1m└ \u001b[22m\u001b[39m\u001b[90m@ ChaosTools C:\\Users\\Alex\\.julia\\packages\\ChaosTools\\PHPDF\\src\\orbitdiagrams\\produce_orbitdiagram.jl:75\u001b[39m\n"
     ]
    },
    {
     "name": "stdout",
     "output_type": "stream",
     "text": [
      "parameter = -0.0967512"
     ]
    },
    {
     "name": "stderr",
     "output_type": "stream",
     "text": [
      "\u001b[33m\u001b[1m┌ \u001b[22m\u001b[39m\u001b[33m\u001b[1mWarning: \u001b[22m\u001b[39mFor parameter -0.096751 The Poincaré surface of section did not have any points!\n",
      "\u001b[33m\u001b[1m└ \u001b[22m\u001b[39m\u001b[90m@ ChaosTools C:\\Users\\Alex\\.julia\\packages\\ChaosTools\\PHPDF\\src\\orbitdiagrams\\produce_orbitdiagram.jl:75\u001b[39m\n"
     ]
    },
    {
     "name": "stdout",
     "output_type": "stream",
     "text": [
      "\n",
      "parameter = -0.0967514\n"
     ]
    },
    {
     "name": "stderr",
     "output_type": "stream",
     "text": [
      "\u001b[33m\u001b[1m┌ \u001b[22m\u001b[39m\u001b[33m\u001b[1mWarning: \u001b[22m\u001b[39mFor parameter -0.0967512 The Poincaré surface of section did not have any points!\n",
      "\u001b[33m\u001b[1m└ \u001b[22m\u001b[39m\u001b[90m@ ChaosTools C:\\Users\\Alex\\.julia\\packages\\ChaosTools\\PHPDF\\src\\orbitdiagrams\\produce_orbitdiagram.jl:75\u001b[39m\n"
     ]
    },
    {
     "name": "stdout",
     "output_type": "stream",
     "text": [
      "parameter = -0.0967516"
     ]
    },
    {
     "name": "stderr",
     "output_type": "stream",
     "text": [
      "\u001b[33m\u001b[1m┌ \u001b[22m\u001b[39m\u001b[33m\u001b[1mWarning: \u001b[22m\u001b[39mFor parameter -0.0967514 The Poincaré surface of section did not have any points!\n",
      "\u001b[33m\u001b[1m└ \u001b[22m\u001b[39m\u001b[90m@ ChaosTools C:\\Users\\Alex\\.julia\\packages\\ChaosTools\\PHPDF\\src\\orbitdiagrams\\produce_orbitdiagram.jl:75\u001b[39m\n"
     ]
    },
    {
     "name": "stdout",
     "output_type": "stream",
     "text": [
      "\n",
      "parameter = -0.0967518"
     ]
    },
    {
     "name": "stderr",
     "output_type": "stream",
     "text": [
      "\u001b[33m\u001b[1m┌ \u001b[22m\u001b[39m\u001b[33m\u001b[1mWarning: \u001b[22m\u001b[39mFor parameter -0.0967516 The Poincaré surface of section did not have any points!\n",
      "\u001b[33m\u001b[1m└ \u001b[22m\u001b[39m\u001b[90m@ ChaosTools C:\\Users\\Alex\\.julia\\packages\\ChaosTools\\PHPDF\\src\\orbitdiagrams\\produce_orbitdiagram.jl:75\u001b[39m\n"
     ]
    },
    {
     "name": "stdout",
     "output_type": "stream",
     "text": [
      "\n",
      "parameter = -0.096752"
     ]
    },
    {
     "name": "stderr",
     "output_type": "stream",
     "text": [
      "\u001b[33m\u001b[1m┌ \u001b[22m\u001b[39m\u001b[33m\u001b[1mWarning: \u001b[22m\u001b[39mFor parameter -0.0967518 The Poincaré surface of section did not have any points!\n",
      "\u001b[33m\u001b[1m└ \u001b[22m\u001b[39m\u001b[90m@ ChaosTools C:\\Users\\Alex\\.julia\\packages\\ChaosTools\\PHPDF\\src\\orbitdiagrams\\produce_orbitdiagram.jl:75\u001b[39m\n"
     ]
    },
    {
     "name": "stdout",
     "output_type": "stream",
     "text": [
      "\n",
      "parameter = -0.0967522"
     ]
    },
    {
     "name": "stderr",
     "output_type": "stream",
     "text": [
      "\u001b[33m\u001b[1m┌ \u001b[22m\u001b[39m\u001b[33m\u001b[1mWarning: \u001b[22m\u001b[39mFor parameter -0.096752 The Poincaré surface of section did not have any points!\n",
      "\u001b[33m\u001b[1m└ \u001b[22m\u001b[39m\u001b[90m@ ChaosTools C:\\Users\\Alex\\.julia\\packages\\ChaosTools\\PHPDF\\src\\orbitdiagrams\\produce_orbitdiagram.jl:75\u001b[39m\n"
     ]
    },
    {
     "name": "stdout",
     "output_type": "stream",
     "text": [
      "\n",
      "parameter = -0.0967524"
     ]
    },
    {
     "name": "stderr",
     "output_type": "stream",
     "text": [
      "\u001b[33m\u001b[1m┌ \u001b[22m\u001b[39m\u001b[33m\u001b[1mWarning: \u001b[22m\u001b[39mFor parameter -0.0967522 The Poincaré surface of section did not have any points!\n",
      "\u001b[33m\u001b[1m└ \u001b[22m\u001b[39m\u001b[90m@ ChaosTools C:\\Users\\Alex\\.julia\\packages\\ChaosTools\\PHPDF\\src\\orbitdiagrams\\produce_orbitdiagram.jl:75\u001b[39m\n"
     ]
    },
    {
     "name": "stdout",
     "output_type": "stream",
     "text": [
      "\n",
      "parameter = -0.0967526\n"
     ]
    },
    {
     "name": "stderr",
     "output_type": "stream",
     "text": [
      "\u001b[33m\u001b[1m┌ \u001b[22m\u001b[39m\u001b[33m\u001b[1mWarning: \u001b[22m\u001b[39mFor parameter -0.0967524 The Poincaré surface of section did not have any points!\n",
      "\u001b[33m\u001b[1m└ \u001b[22m\u001b[39m\u001b[90m@ ChaosTools C:\\Users\\Alex\\.julia\\packages\\ChaosTools\\PHPDF\\src\\orbitdiagrams\\produce_orbitdiagram.jl:75\u001b[39m\n"
     ]
    },
    {
     "name": "stdout",
     "output_type": "stream",
     "text": [
      "parameter = -0.0967528\n"
     ]
    },
    {
     "name": "stderr",
     "output_type": "stream",
     "text": [
      "\u001b[33m\u001b[1m┌ \u001b[22m\u001b[39m\u001b[33m\u001b[1mWarning: \u001b[22m\u001b[39mFor parameter -0.0967526 The Poincaré surface of section did not have any points!\n",
      "\u001b[33m\u001b[1m└ \u001b[22m\u001b[39m\u001b[90m@ ChaosTools C:\\Users\\Alex\\.julia\\packages\\ChaosTools\\PHPDF\\src\\orbitdiagrams\\produce_orbitdiagram.jl:75\u001b[39m\n"
     ]
    },
    {
     "name": "stdout",
     "output_type": "stream",
     "text": [
      "parameter = -0.096753\n"
     ]
    },
    {
     "name": "stderr",
     "output_type": "stream",
     "text": [
      "\u001b[33m\u001b[1m┌ \u001b[22m\u001b[39m\u001b[33m\u001b[1mWarning: \u001b[22m\u001b[39mFor parameter -0.0967528 The Poincaré surface of section did not have any points!\n",
      "\u001b[33m\u001b[1m└ \u001b[22m\u001b[39m\u001b[90m@ ChaosTools C:\\Users\\Alex\\.julia\\packages\\ChaosTools\\PHPDF\\src\\orbitdiagrams\\produce_orbitdiagram.jl:75\u001b[39m\n"
     ]
    },
    {
     "name": "stdout",
     "output_type": "stream",
     "text": [
      "parameter = -0.0967532\n"
     ]
    },
    {
     "name": "stderr",
     "output_type": "stream",
     "text": [
      "\u001b[33m\u001b[1m┌ \u001b[22m\u001b[39m\u001b[33m\u001b[1mWarning: \u001b[22m\u001b[39mFor parameter -0.096753 The Poincaré surface of section did not have any points!\n",
      "\u001b[33m\u001b[1m└ \u001b[22m\u001b[39m\u001b[90m@ ChaosTools C:\\Users\\Alex\\.julia\\packages\\ChaosTools\\PHPDF\\src\\orbitdiagrams\\produce_orbitdiagram.jl:75\u001b[39m\n"
     ]
    },
    {
     "name": "stdout",
     "output_type": "stream",
     "text": [
      "parameter = -0.0967534"
     ]
    },
    {
     "name": "stderr",
     "output_type": "stream",
     "text": [
      "\u001b[33m\u001b[1m┌ \u001b[22m\u001b[39m\u001b[33m\u001b[1mWarning: \u001b[22m\u001b[39mFor parameter -0.0967532 The Poincaré surface of section did not have any points!\n",
      "\u001b[33m\u001b[1m└ \u001b[22m\u001b[39m\u001b[90m@ ChaosTools C:\\Users\\Alex\\.julia\\packages\\ChaosTools\\PHPDF\\src\\orbitdiagrams\\produce_orbitdiagram.jl:75\u001b[39m\n"
     ]
    },
    {
     "name": "stdout",
     "output_type": "stream",
     "text": [
      "\n",
      "parameter = -0.0967536"
     ]
    },
    {
     "name": "stderr",
     "output_type": "stream",
     "text": [
      "\u001b[33m\u001b[1m┌ \u001b[22m\u001b[39m\u001b[33m\u001b[1mWarning: \u001b[22m\u001b[39mFor parameter -0.0967534 The Poincaré surface of section did not have any points!\n",
      "\u001b[33m\u001b[1m└ \u001b[22m\u001b[39m\u001b[90m@ ChaosTools C:\\Users\\Alex\\.julia\\packages\\ChaosTools\\PHPDF\\src\\orbitdiagrams\\produce_orbitdiagram.jl:75\u001b[39m\n"
     ]
    },
    {
     "name": "stdout",
     "output_type": "stream",
     "text": [
      "\n",
      "parameter = -0.0967538"
     ]
    },
    {
     "name": "stderr",
     "output_type": "stream",
     "text": [
      "\u001b[33m\u001b[1m┌ \u001b[22m\u001b[39m\u001b[33m\u001b[1mWarning: \u001b[22m\u001b[39mFor parameter -0.0967536 The Poincaré surface of section did not have any points!\n",
      "\u001b[33m\u001b[1m└ \u001b[22m\u001b[39m\u001b[90m@ ChaosTools C:\\Users\\Alex\\.julia\\packages\\ChaosTools\\PHPDF\\src\\orbitdiagrams\\produce_orbitdiagram.jl:75\u001b[39m\n"
     ]
    },
    {
     "name": "stdout",
     "output_type": "stream",
     "text": [
      "\n",
      "parameter = -0.096754"
     ]
    },
    {
     "name": "stderr",
     "output_type": "stream",
     "text": [
      "\u001b[33m\u001b[1m┌ \u001b[22m\u001b[39m\u001b[33m\u001b[1mWarning: \u001b[22m\u001b[39mFor parameter -0.0967538 The Poincaré surface of section did not have any points!\n",
      "\u001b[33m\u001b[1m└ \u001b[22m\u001b[39m\u001b[90m@ ChaosTools C:\\Users\\Alex\\.julia\\packages\\ChaosTools\\PHPDF\\src\\orbitdiagrams\\produce_orbitdiagram.jl:75\u001b[39m\n"
     ]
    },
    {
     "name": "stdout",
     "output_type": "stream",
     "text": [
      "\n",
      "parameter = -0.0967542"
     ]
    },
    {
     "name": "stderr",
     "output_type": "stream",
     "text": [
      "\u001b[33m\u001b[1m┌ \u001b[22m\u001b[39m\u001b[33m\u001b[1mWarning: \u001b[22m\u001b[39mFor parameter -0.096754 The Poincaré surface of section did not have any points!\n",
      "\u001b[33m\u001b[1m└ \u001b[22m\u001b[39m\u001b[90m@ ChaosTools C:\\Users\\Alex\\.julia\\packages\\ChaosTools\\PHPDF\\src\\orbitdiagrams\\produce_orbitdiagram.jl:75\u001b[39m\n"
     ]
    },
    {
     "name": "stdout",
     "output_type": "stream",
     "text": [
      "\n",
      "parameter = -0.0967544"
     ]
    },
    {
     "name": "stderr",
     "output_type": "stream",
     "text": [
      "\u001b[33m\u001b[1m┌ \u001b[22m\u001b[39m\u001b[33m\u001b[1mWarning: \u001b[22m\u001b[39mFor parameter -0.0967542 The Poincaré surface of section did not have any points!\n",
      "\u001b[33m\u001b[1m└ \u001b[22m\u001b[39m\u001b[90m@ ChaosTools C:\\Users\\Alex\\.julia\\packages\\ChaosTools\\PHPDF\\src\\orbitdiagrams\\produce_orbitdiagram.jl:75\u001b[39m\n"
     ]
    },
    {
     "name": "stdout",
     "output_type": "stream",
     "text": [
      "\n",
      "parameter = -0.0967546"
     ]
    },
    {
     "name": "stderr",
     "output_type": "stream",
     "text": [
      "\u001b[33m\u001b[1m┌ \u001b[22m\u001b[39m\u001b[33m\u001b[1mWarning: \u001b[22m\u001b[39mFor parameter -0.0967544 The Poincaré surface of section did not have any points!\n",
      "\u001b[33m\u001b[1m└ \u001b[22m\u001b[39m\u001b[90m@ ChaosTools C:\\Users\\Alex\\.julia\\packages\\ChaosTools\\PHPDF\\src\\orbitdiagrams\\produce_orbitdiagram.jl:75\u001b[39m\n"
     ]
    },
    {
     "name": "stdout",
     "output_type": "stream",
     "text": [
      "\n",
      "parameter = -0.0967548"
     ]
    },
    {
     "name": "stderr",
     "output_type": "stream",
     "text": [
      "\u001b[33m\u001b[1m┌ \u001b[22m\u001b[39m\u001b[33m\u001b[1mWarning: \u001b[22m\u001b[39mFor parameter -0.0967546 The Poincaré surface of section did not have any points!\n",
      "\u001b[33m\u001b[1m└ \u001b[22m\u001b[39m\u001b[90m@ ChaosTools C:\\Users\\Alex\\.julia\\packages\\ChaosTools\\PHPDF\\src\\orbitdiagrams\\produce_orbitdiagram.jl:75\u001b[39m\n"
     ]
    },
    {
     "name": "stdout",
     "output_type": "stream",
     "text": [
      "\n",
      "parameter = -0.096755"
     ]
    },
    {
     "name": "stderr",
     "output_type": "stream",
     "text": [
      "\u001b[33m\u001b[1m┌ \u001b[22m\u001b[39m\u001b[33m\u001b[1mWarning: \u001b[22m\u001b[39mFor parameter -0.0967548 The Poincaré surface of section did not have any points!\n",
      "\u001b[33m\u001b[1m└ \u001b[22m\u001b[39m\u001b[90m@ ChaosTools C:\\Users\\Alex\\.julia\\packages\\ChaosTools\\PHPDF\\src\\orbitdiagrams\\produce_orbitdiagram.jl:75\u001b[39m\n"
     ]
    },
    {
     "name": "stdout",
     "output_type": "stream",
     "text": [
      "\n",
      "parameter = -0.0967552\n"
     ]
    },
    {
     "name": "stderr",
     "output_type": "stream",
     "text": [
      "\u001b[33m\u001b[1m┌ \u001b[22m\u001b[39m\u001b[33m\u001b[1mWarning: \u001b[22m\u001b[39mFor parameter -0.096755 The Poincaré surface of section did not have any points!\n",
      "\u001b[33m\u001b[1m└ \u001b[22m\u001b[39m\u001b[90m@ ChaosTools C:\\Users\\Alex\\.julia\\packages\\ChaosTools\\PHPDF\\src\\orbitdiagrams\\produce_orbitdiagram.jl:75\u001b[39m\n"
     ]
    },
    {
     "name": "stdout",
     "output_type": "stream",
     "text": [
      "parameter = -0.0967554\n"
     ]
    },
    {
     "name": "stderr",
     "output_type": "stream",
     "text": [
      "\u001b[33m\u001b[1m┌ \u001b[22m\u001b[39m\u001b[33m\u001b[1mWarning: \u001b[22m\u001b[39mFor parameter -0.0967552 The Poincaré surface of section did not have any points!\n",
      "\u001b[33m\u001b[1m└ \u001b[22m\u001b[39m\u001b[90m@ ChaosTools C:\\Users\\Alex\\.julia\\packages\\ChaosTools\\PHPDF\\src\\orbitdiagrams\\produce_orbitdiagram.jl:75\u001b[39m\n"
     ]
    },
    {
     "name": "stdout",
     "output_type": "stream",
     "text": [
      "parameter = -0.0967556"
     ]
    },
    {
     "name": "stderr",
     "output_type": "stream",
     "text": [
      "\u001b[33m\u001b[1m┌ \u001b[22m\u001b[39m\u001b[33m\u001b[1mWarning: \u001b[22m\u001b[39mFor parameter -0.0967554 The Poincaré surface of section did not have any points!\n",
      "\u001b[33m\u001b[1m└ \u001b[22m\u001b[39m\u001b[90m@ ChaosTools C:\\Users\\Alex\\.julia\\packages\\ChaosTools\\PHPDF\\src\\orbitdiagrams\\produce_orbitdiagram.jl:75\u001b[39m\n"
     ]
    },
    {
     "name": "stdout",
     "output_type": "stream",
     "text": [
      "\n",
      "parameter = -0.0967558\n"
     ]
    },
    {
     "name": "stderr",
     "output_type": "stream",
     "text": [
      "\u001b[33m\u001b[1m┌ \u001b[22m\u001b[39m\u001b[33m\u001b[1mWarning: \u001b[22m\u001b[39mFor parameter -0.0967556 The Poincaré surface of section did not have any points!\n",
      "\u001b[33m\u001b[1m└ \u001b[22m\u001b[39m\u001b[90m@ ChaosTools C:\\Users\\Alex\\.julia\\packages\\ChaosTools\\PHPDF\\src\\orbitdiagrams\\produce_orbitdiagram.jl:75\u001b[39m\n"
     ]
    },
    {
     "name": "stdout",
     "output_type": "stream",
     "text": [
      "parameter = -0.096756"
     ]
    },
    {
     "name": "stderr",
     "output_type": "stream",
     "text": [
      "\u001b[33m\u001b[1m┌ \u001b[22m\u001b[39m\u001b[33m\u001b[1mWarning: \u001b[22m\u001b[39mFor parameter -0.0967558 The Poincaré surface of section did not have any points!\n",
      "\u001b[33m\u001b[1m└ \u001b[22m\u001b[39m\u001b[90m@ ChaosTools C:\\Users\\Alex\\.julia\\packages\\ChaosTools\\PHPDF\\src\\orbitdiagrams\\produce_orbitdiagram.jl:75\u001b[39m\n"
     ]
    },
    {
     "name": "stdout",
     "output_type": "stream",
     "text": [
      "\n",
      "parameter = -0.0967562"
     ]
    },
    {
     "name": "stderr",
     "output_type": "stream",
     "text": [
      "\u001b[33m\u001b[1m┌ \u001b[22m\u001b[39m\u001b[33m\u001b[1mWarning: \u001b[22m\u001b[39mFor parameter -0.096756 The Poincaré surface of section did not have any points!\n",
      "\u001b[33m\u001b[1m└ \u001b[22m\u001b[39m\u001b[90m@ ChaosTools C:\\Users\\Alex\\.julia\\packages\\ChaosTools\\PHPDF\\src\\orbitdiagrams\\produce_orbitdiagram.jl:75\u001b[39m\n"
     ]
    },
    {
     "name": "stdout",
     "output_type": "stream",
     "text": [
      "\n",
      "parameter = -0.0967564"
     ]
    },
    {
     "name": "stderr",
     "output_type": "stream",
     "text": [
      "\u001b[33m\u001b[1m┌ \u001b[22m\u001b[39m\u001b[33m\u001b[1mWarning: \u001b[22m\u001b[39mFor parameter -0.0967562 The Poincaré surface of section did not have any points!\n",
      "\u001b[33m\u001b[1m└ \u001b[22m\u001b[39m\u001b[90m@ ChaosTools C:\\Users\\Alex\\.julia\\packages\\ChaosTools\\PHPDF\\src\\orbitdiagrams\\produce_orbitdiagram.jl:75\u001b[39m\n"
     ]
    },
    {
     "name": "stdout",
     "output_type": "stream",
     "text": [
      "\n",
      "parameter = -0.0967566"
     ]
    },
    {
     "name": "stderr",
     "output_type": "stream",
     "text": [
      "\u001b[33m\u001b[1m┌ \u001b[22m\u001b[39m\u001b[33m\u001b[1mWarning: \u001b[22m\u001b[39mFor parameter -0.0967564 The Poincaré surface of section did not have any points!\n",
      "\u001b[33m\u001b[1m└ \u001b[22m\u001b[39m\u001b[90m@ ChaosTools C:\\Users\\Alex\\.julia\\packages\\ChaosTools\\PHPDF\\src\\orbitdiagrams\\produce_orbitdiagram.jl:75\u001b[39m\n"
     ]
    },
    {
     "name": "stdout",
     "output_type": "stream",
     "text": [
      "\n",
      "parameter = -0.0967568"
     ]
    },
    {
     "name": "stderr",
     "output_type": "stream",
     "text": [
      "\u001b[33m\u001b[1m┌ \u001b[22m\u001b[39m\u001b[33m\u001b[1mWarning: \u001b[22m\u001b[39mFor parameter -0.0967566 The Poincaré surface of section did not have any points!\n",
      "\u001b[33m\u001b[1m└ \u001b[22m\u001b[39m\u001b[90m@ ChaosTools C:\\Users\\Alex\\.julia\\packages\\ChaosTools\\PHPDF\\src\\orbitdiagrams\\produce_orbitdiagram.jl:75\u001b[39m\n"
     ]
    },
    {
     "name": "stdout",
     "output_type": "stream",
     "text": [
      "\n",
      "parameter = -0.096757"
     ]
    },
    {
     "name": "stderr",
     "output_type": "stream",
     "text": [
      "\u001b[33m\u001b[1m┌ \u001b[22m\u001b[39m\u001b[33m\u001b[1mWarning: \u001b[22m\u001b[39mFor parameter -0.0967568 The Poincaré surface of section did not have any points!\n",
      "\u001b[33m\u001b[1m└ \u001b[22m\u001b[39m\u001b[90m@ ChaosTools C:\\Users\\Alex\\.julia\\packages\\ChaosTools\\PHPDF\\src\\orbitdiagrams\\produce_orbitdiagram.jl:75\u001b[39m\n"
     ]
    },
    {
     "name": "stdout",
     "output_type": "stream",
     "text": [
      "\n",
      "parameter = -0.0967572"
     ]
    },
    {
     "name": "stderr",
     "output_type": "stream",
     "text": [
      "\u001b[33m\u001b[1m┌ \u001b[22m\u001b[39m\u001b[33m\u001b[1mWarning: \u001b[22m\u001b[39mFor parameter -0.096757 The Poincaré surface of section did not have any points!\n",
      "\u001b[33m\u001b[1m└ \u001b[22m\u001b[39m\u001b[90m@ ChaosTools C:\\Users\\Alex\\.julia\\packages\\ChaosTools\\PHPDF\\src\\orbitdiagrams\\produce_orbitdiagram.jl:75\u001b[39m\n"
     ]
    },
    {
     "name": "stdout",
     "output_type": "stream",
     "text": [
      "\n",
      "parameter = -0.0967574"
     ]
    },
    {
     "name": "stderr",
     "output_type": "stream",
     "text": [
      "\u001b[33m\u001b[1m┌ \u001b[22m\u001b[39m\u001b[33m\u001b[1mWarning: \u001b[22m\u001b[39mFor parameter -0.0967572 The Poincaré surface of section did not have any points!\n",
      "\u001b[33m\u001b[1m└ \u001b[22m\u001b[39m\u001b[90m@ ChaosTools C:\\Users\\Alex\\.julia\\packages\\ChaosTools\\PHPDF\\src\\orbitdiagrams\\produce_orbitdiagram.jl:75\u001b[39m\n"
     ]
    },
    {
     "name": "stdout",
     "output_type": "stream",
     "text": [
      "\n",
      "parameter = -0.0967576\n"
     ]
    },
    {
     "name": "stderr",
     "output_type": "stream",
     "text": [
      "\u001b[33m\u001b[1m┌ \u001b[22m\u001b[39m\u001b[33m\u001b[1mWarning: \u001b[22m\u001b[39mFor parameter -0.0967574 The Poincaré surface of section did not have any points!\n",
      "\u001b[33m\u001b[1m└ \u001b[22m\u001b[39m\u001b[90m@ ChaosTools C:\\Users\\Alex\\.julia\\packages\\ChaosTools\\PHPDF\\src\\orbitdiagrams\\produce_orbitdiagram.jl:75\u001b[39m\n"
     ]
    },
    {
     "name": "stdout",
     "output_type": "stream",
     "text": [
      "parameter = -0.0967578\n"
     ]
    },
    {
     "name": "stderr",
     "output_type": "stream",
     "text": [
      "\u001b[33m\u001b[1m┌ \u001b[22m\u001b[39m\u001b[33m\u001b[1mWarning: \u001b[22m\u001b[39mFor parameter -0.0967576 The Poincaré surface of section did not have any points!\n",
      "\u001b[33m\u001b[1m└ \u001b[22m\u001b[39m\u001b[90m@ ChaosTools C:\\Users\\Alex\\.julia\\packages\\ChaosTools\\PHPDF\\src\\orbitdiagrams\\produce_orbitdiagram.jl:75\u001b[39m\n"
     ]
    },
    {
     "name": "stdout",
     "output_type": "stream",
     "text": [
      "parameter = -0.096758\n"
     ]
    },
    {
     "name": "stderr",
     "output_type": "stream",
     "text": [
      "\u001b[33m\u001b[1m┌ \u001b[22m\u001b[39m\u001b[33m\u001b[1mWarning: \u001b[22m\u001b[39mFor parameter -0.0967578 The Poincaré surface of section did not have any points!\n",
      "\u001b[33m\u001b[1m└ \u001b[22m\u001b[39m\u001b[90m@ ChaosTools C:\\Users\\Alex\\.julia\\packages\\ChaosTools\\PHPDF\\src\\orbitdiagrams\\produce_orbitdiagram.jl:75\u001b[39m\n"
     ]
    },
    {
     "name": "stdout",
     "output_type": "stream",
     "text": [
      "parameter = -0.0967582"
     ]
    },
    {
     "name": "stderr",
     "output_type": "stream",
     "text": [
      "\u001b[33m\u001b[1m┌ \u001b[22m\u001b[39m\u001b[33m\u001b[1mWarning: \u001b[22m\u001b[39mFor parameter -0.096758 The Poincaré surface of section did not have any points!\n",
      "\u001b[33m\u001b[1m└ \u001b[22m\u001b[39m\u001b[90m@ ChaosTools C:\\Users\\Alex\\.julia\\packages\\ChaosTools\\PHPDF\\src\\orbitdiagrams\\produce_orbitdiagram.jl:75\u001b[39m\n"
     ]
    },
    {
     "name": "stdout",
     "output_type": "stream",
     "text": [
      "\n"
     ]
    },
    {
     "name": "stderr",
     "output_type": "stream",
     "text": [
      "\u001b[33m\u001b[1m┌ \u001b[22m\u001b[39m\u001b[33m\u001b[1mWarning: \u001b[22m\u001b[39mFor parameter -0.0967582 The Poincaré surface of section did not have any points!\n",
      "\u001b[33m\u001b[1m└ \u001b[22m\u001b[39m\u001b[90m@ ChaosTools C:\\Users\\Alex\\.julia\\packages\\ChaosTools\\PHPDF\\src\\orbitdiagrams\\produce_orbitdiagram.jl:75\u001b[39m\n"
     ]
    },
    {
     "name": "stdout",
     "output_type": "stream",
     "text": [
      "parameter = -0.0967584\n",
      "parameter = -0.0967586"
     ]
    },
    {
     "name": "stderr",
     "output_type": "stream",
     "text": [
      "\u001b[33m\u001b[1m┌ \u001b[22m\u001b[39m\u001b[33m\u001b[1mWarning: \u001b[22m\u001b[39mFor parameter -0.0967584 The Poincaré surface of section did not have any points!\n",
      "\u001b[33m\u001b[1m└ \u001b[22m\u001b[39m\u001b[90m@ ChaosTools C:\\Users\\Alex\\.julia\\packages\\ChaosTools\\PHPDF\\src\\orbitdiagrams\\produce_orbitdiagram.jl:75\u001b[39m\n"
     ]
    },
    {
     "name": "stdout",
     "output_type": "stream",
     "text": [
      "\n",
      "parameter = -0.0967588"
     ]
    },
    {
     "name": "stderr",
     "output_type": "stream",
     "text": [
      "\u001b[33m\u001b[1m┌ \u001b[22m\u001b[39m\u001b[33m\u001b[1mWarning: \u001b[22m\u001b[39mFor parameter -0.0967586 The Poincaré surface of section did not have any points!\n",
      "\u001b[33m\u001b[1m└ \u001b[22m\u001b[39m\u001b[90m@ ChaosTools C:\\Users\\Alex\\.julia\\packages\\ChaosTools\\PHPDF\\src\\orbitdiagrams\\produce_orbitdiagram.jl:75\u001b[39m\n"
     ]
    },
    {
     "name": "stdout",
     "output_type": "stream",
     "text": [
      "\n",
      "parameter = -0.096759"
     ]
    },
    {
     "name": "stderr",
     "output_type": "stream",
     "text": [
      "\u001b[33m\u001b[1m┌ \u001b[22m\u001b[39m\u001b[33m\u001b[1mWarning: \u001b[22m\u001b[39mFor parameter -0.0967588 The Poincaré surface of section did not have any points!\n",
      "\u001b[33m\u001b[1m└ \u001b[22m\u001b[39m\u001b[90m@ ChaosTools C:\\Users\\Alex\\.julia\\packages\\ChaosTools\\PHPDF\\src\\orbitdiagrams\\produce_orbitdiagram.jl:75\u001b[39m\n"
     ]
    },
    {
     "name": "stdout",
     "output_type": "stream",
     "text": [
      "\n",
      "parameter = -0.0967592\n"
     ]
    },
    {
     "name": "stderr",
     "output_type": "stream",
     "text": [
      "\u001b[33m\u001b[1m┌ \u001b[22m\u001b[39m\u001b[33m\u001b[1mWarning: \u001b[22m\u001b[39mFor parameter -0.096759 The Poincaré surface of section did not have any points!\n",
      "\u001b[33m\u001b[1m└ \u001b[22m\u001b[39m\u001b[90m@ ChaosTools C:\\Users\\Alex\\.julia\\packages\\ChaosTools\\PHPDF\\src\\orbitdiagrams\\produce_orbitdiagram.jl:75\u001b[39m\n"
     ]
    },
    {
     "name": "stdout",
     "output_type": "stream",
     "text": [
      "parameter = -0.0967594"
     ]
    },
    {
     "name": "stderr",
     "output_type": "stream",
     "text": [
      "\u001b[33m\u001b[1m┌ \u001b[22m\u001b[39m\u001b[33m\u001b[1mWarning: \u001b[22m\u001b[39mFor parameter -0.0967592 The Poincaré surface of section did not have any points!\n",
      "\u001b[33m\u001b[1m└ \u001b[22m\u001b[39m\u001b[90m@ ChaosTools C:\\Users\\Alex\\.julia\\packages\\ChaosTools\\PHPDF\\src\\orbitdiagrams\\produce_orbitdiagram.jl:75\u001b[39m\n"
     ]
    },
    {
     "name": "stdout",
     "output_type": "stream",
     "text": [
      "\n",
      "parameter = -0.0967596"
     ]
    },
    {
     "name": "stderr",
     "output_type": "stream",
     "text": [
      "\u001b[33m\u001b[1m┌ \u001b[22m\u001b[39m\u001b[33m\u001b[1mWarning: \u001b[22m\u001b[39mFor parameter -0.0967594 The Poincaré surface of section did not have any points!\n",
      "\u001b[33m\u001b[1m└ \u001b[22m\u001b[39m\u001b[90m@ ChaosTools C:\\Users\\Alex\\.julia\\packages\\ChaosTools\\PHPDF\\src\\orbitdiagrams\\produce_orbitdiagram.jl:75\u001b[39m\n"
     ]
    },
    {
     "name": "stdout",
     "output_type": "stream",
     "text": [
      "\n",
      "parameter = -0.0967598"
     ]
    },
    {
     "name": "stderr",
     "output_type": "stream",
     "text": [
      "\u001b[33m\u001b[1m┌ \u001b[22m\u001b[39m\u001b[33m\u001b[1mWarning: \u001b[22m\u001b[39mFor parameter -0.0967596 The Poincaré surface of section did not have any points!\n",
      "\u001b[33m\u001b[1m└ \u001b[22m\u001b[39m\u001b[90m@ ChaosTools C:\\Users\\Alex\\.julia\\packages\\ChaosTools\\PHPDF\\src\\orbitdiagrams\\produce_orbitdiagram.jl:75\u001b[39m\n"
     ]
    },
    {
     "name": "stdout",
     "output_type": "stream",
     "text": [
      "\n",
      "parameter = -0.09676"
     ]
    },
    {
     "name": "stderr",
     "output_type": "stream",
     "text": [
      "\u001b[33m\u001b[1m┌ \u001b[22m\u001b[39m\u001b[33m\u001b[1mWarning: \u001b[22m\u001b[39mFor parameter -0.0967598 The Poincaré surface of section did not have any points!\n",
      "\u001b[33m\u001b[1m└ \u001b[22m\u001b[39m\u001b[90m@ ChaosTools C:\\Users\\Alex\\.julia\\packages\\ChaosTools\\PHPDF\\src\\orbitdiagrams\\produce_orbitdiagram.jl:75\u001b[39m\n"
     ]
    },
    {
     "name": "stdout",
     "output_type": "stream",
     "text": [
      "\n",
      "parameter = -0.0967602\n"
     ]
    },
    {
     "name": "stderr",
     "output_type": "stream",
     "text": [
      "\u001b[33m\u001b[1m┌ \u001b[22m\u001b[39m\u001b[33m\u001b[1mWarning: \u001b[22m\u001b[39mFor parameter -0.09676 The Poincaré surface of section did not have any points!\n",
      "\u001b[33m\u001b[1m└ \u001b[22m\u001b[39m\u001b[90m@ ChaosTools C:\\Users\\Alex\\.julia\\packages\\ChaosTools\\PHPDF\\src\\orbitdiagrams\\produce_orbitdiagram.jl:75\u001b[39m\n"
     ]
    },
    {
     "name": "stdout",
     "output_type": "stream",
     "text": [
      "parameter = -0.0967604\n"
     ]
    },
    {
     "name": "stderr",
     "output_type": "stream",
     "text": [
      "\u001b[33m\u001b[1m┌ \u001b[22m\u001b[39m\u001b[33m\u001b[1mWarning: \u001b[22m\u001b[39mFor parameter -0.0967602 The Poincaré surface of section did not have any points!\n",
      "\u001b[33m\u001b[1m└ \u001b[22m\u001b[39m\u001b[90m@ ChaosTools C:\\Users\\Alex\\.julia\\packages\\ChaosTools\\PHPDF\\src\\orbitdiagrams\\produce_orbitdiagram.jl:75\u001b[39m\n"
     ]
    },
    {
     "name": "stdout",
     "output_type": "stream",
     "text": [
      "parameter = -0.0967606"
     ]
    },
    {
     "name": "stderr",
     "output_type": "stream",
     "text": [
      "\u001b[33m\u001b[1m┌ \u001b[22m\u001b[39m\u001b[33m\u001b[1mWarning: \u001b[22m\u001b[39mFor parameter -0.0967604 The Poincaré surface of section did not have any points!\n",
      "\u001b[33m\u001b[1m└ \u001b[22m\u001b[39m\u001b[90m@ ChaosTools C:\\Users\\Alex\\.julia\\packages\\ChaosTools\\PHPDF\\src\\orbitdiagrams\\produce_orbitdiagram.jl:75\u001b[39m\n"
     ]
    },
    {
     "name": "stdout",
     "output_type": "stream",
     "text": [
      "\n"
     ]
    },
    {
     "name": "stderr",
     "output_type": "stream",
     "text": [
      "\u001b[33m\u001b[1m┌ \u001b[22m\u001b[39m\u001b[33m\u001b[1mWarning: \u001b[22m\u001b[39mFor parameter -0.0967606 The Poincaré surface of section did not have any points!\n",
      "\u001b[33m\u001b[1m└ \u001b[22m\u001b[39m\u001b[90m@ ChaosTools C:\\Users\\Alex\\.julia\\packages\\ChaosTools\\PHPDF\\src\\orbitdiagrams\\produce_orbitdiagram.jl:75\u001b[39m\n"
     ]
    },
    {
     "name": "stdout",
     "output_type": "stream",
     "text": [
      "parameter = -0.0967608\n",
      "parameter = -0.096761"
     ]
    },
    {
     "name": "stderr",
     "output_type": "stream",
     "text": [
      "\u001b[33m\u001b[1m┌ \u001b[22m\u001b[39m\u001b[33m\u001b[1mWarning: \u001b[22m\u001b[39mFor parameter -0.0967608 The Poincaré surface of section did not have any points!\n",
      "\u001b[33m\u001b[1m└ \u001b[22m\u001b[39m\u001b[90m@ ChaosTools C:\\Users\\Alex\\.julia\\packages\\ChaosTools\\PHPDF\\src\\orbitdiagrams\\produce_orbitdiagram.jl:75\u001b[39m\n"
     ]
    },
    {
     "name": "stdout",
     "output_type": "stream",
     "text": [
      "\n",
      "parameter = -0.0967612\n"
     ]
    },
    {
     "name": "stderr",
     "output_type": "stream",
     "text": [
      "\u001b[33m\u001b[1m┌ \u001b[22m\u001b[39m\u001b[33m\u001b[1mWarning: \u001b[22m\u001b[39mFor parameter -0.096761 The Poincaré surface of section did not have any points!\n",
      "\u001b[33m\u001b[1m└ \u001b[22m\u001b[39m\u001b[90m@ ChaosTools C:\\Users\\Alex\\.julia\\packages\\ChaosTools\\PHPDF\\src\\orbitdiagrams\\produce_orbitdiagram.jl:75\u001b[39m\n"
     ]
    },
    {
     "name": "stdout",
     "output_type": "stream",
     "text": [
      "parameter = -0.0967614\n"
     ]
    },
    {
     "name": "stderr",
     "output_type": "stream",
     "text": [
      "\u001b[33m\u001b[1m┌ \u001b[22m\u001b[39m\u001b[33m\u001b[1mWarning: \u001b[22m\u001b[39mFor parameter -0.0967612 The Poincaré surface of section did not have any points!\n",
      "\u001b[33m\u001b[1m└ \u001b[22m\u001b[39m\u001b[90m@ ChaosTools C:\\Users\\Alex\\.julia\\packages\\ChaosTools\\PHPDF\\src\\orbitdiagrams\\produce_orbitdiagram.jl:75\u001b[39m\n"
     ]
    },
    {
     "name": "stdout",
     "output_type": "stream",
     "text": [
      "parameter = -0.0967616"
     ]
    },
    {
     "name": "stderr",
     "output_type": "stream",
     "text": [
      "\u001b[33m\u001b[1m┌ \u001b[22m\u001b[39m\u001b[33m\u001b[1mWarning: \u001b[22m\u001b[39mFor parameter -0.0967614 The Poincaré surface of section did not have any points!\n",
      "\u001b[33m\u001b[1m└ \u001b[22m\u001b[39m\u001b[90m@ ChaosTools C:\\Users\\Alex\\.julia\\packages\\ChaosTools\\PHPDF\\src\\orbitdiagrams\\produce_orbitdiagram.jl:75\u001b[39m\n"
     ]
    },
    {
     "name": "stdout",
     "output_type": "stream",
     "text": [
      "\n",
      "parameter = -0.0967618"
     ]
    },
    {
     "name": "stderr",
     "output_type": "stream",
     "text": [
      "\u001b[33m\u001b[1m┌ \u001b[22m\u001b[39m\u001b[33m\u001b[1mWarning: \u001b[22m\u001b[39mFor parameter -0.0967616 The Poincaré surface of section did not have any points!\n",
      "\u001b[33m\u001b[1m└ \u001b[22m\u001b[39m\u001b[90m@ ChaosTools C:\\Users\\Alex\\.julia\\packages\\ChaosTools\\PHPDF\\src\\orbitdiagrams\\produce_orbitdiagram.jl:75\u001b[39m\n"
     ]
    },
    {
     "name": "stdout",
     "output_type": "stream",
     "text": [
      "\n",
      "parameter = -0.096762"
     ]
    },
    {
     "name": "stderr",
     "output_type": "stream",
     "text": [
      "\u001b[33m\u001b[1m┌ \u001b[22m\u001b[39m\u001b[33m\u001b[1mWarning: \u001b[22m\u001b[39mFor parameter -0.0967618 The Poincaré surface of section did not have any points!\n",
      "\u001b[33m\u001b[1m└ \u001b[22m\u001b[39m\u001b[90m@ ChaosTools C:\\Users\\Alex\\.julia\\packages\\ChaosTools\\PHPDF\\src\\orbitdiagrams\\produce_orbitdiagram.jl:75\u001b[39m\n"
     ]
    },
    {
     "name": "stdout",
     "output_type": "stream",
     "text": [
      "\n",
      "parameter = -0.0967622"
     ]
    },
    {
     "name": "stderr",
     "output_type": "stream",
     "text": [
      "\u001b[33m\u001b[1m┌ \u001b[22m\u001b[39m\u001b[33m\u001b[1mWarning: \u001b[22m\u001b[39mFor parameter -0.096762 The Poincaré surface of section did not have any points!\n",
      "\u001b[33m\u001b[1m└ \u001b[22m\u001b[39m\u001b[90m@ ChaosTools C:\\Users\\Alex\\.julia\\packages\\ChaosTools\\PHPDF\\src\\orbitdiagrams\\produce_orbitdiagram.jl:75\u001b[39m\n"
     ]
    },
    {
     "name": "stdout",
     "output_type": "stream",
     "text": [
      "\n",
      "parameter = -0.0967624\n"
     ]
    },
    {
     "name": "stderr",
     "output_type": "stream",
     "text": [
      "\u001b[33m\u001b[1m┌ \u001b[22m\u001b[39m\u001b[33m\u001b[1mWarning: \u001b[22m\u001b[39mFor parameter -0.0967622 The Poincaré surface of section did not have any points!\n",
      "\u001b[33m\u001b[1m└ \u001b[22m\u001b[39m\u001b[90m@ ChaosTools C:\\Users\\Alex\\.julia\\packages\\ChaosTools\\PHPDF\\src\\orbitdiagrams\\produce_orbitdiagram.jl:75\u001b[39m\n"
     ]
    },
    {
     "name": "stdout",
     "output_type": "stream",
     "text": [
      "parameter = -0.0967626\n"
     ]
    },
    {
     "name": "stderr",
     "output_type": "stream",
     "text": [
      "\u001b[33m\u001b[1m┌ \u001b[22m\u001b[39m\u001b[33m\u001b[1mWarning: \u001b[22m\u001b[39mFor parameter -0.0967624 The Poincaré surface of section did not have any points!\n",
      "\u001b[33m\u001b[1m└ \u001b[22m\u001b[39m\u001b[90m@ ChaosTools C:\\Users\\Alex\\.julia\\packages\\ChaosTools\\PHPDF\\src\\orbitdiagrams\\produce_orbitdiagram.jl:75\u001b[39m\n"
     ]
    },
    {
     "name": "stdout",
     "output_type": "stream",
     "text": [
      "parameter = -0.0967628"
     ]
    },
    {
     "name": "stderr",
     "output_type": "stream",
     "text": [
      "\u001b[33m\u001b[1m┌ \u001b[22m\u001b[39m\u001b[33m\u001b[1mWarning: \u001b[22m\u001b[39mFor parameter -0.0967626 The Poincaré surface of section did not have any points!\n",
      "\u001b[33m\u001b[1m└ \u001b[22m\u001b[39m\u001b[90m@ ChaosTools C:\\Users\\Alex\\.julia\\packages\\ChaosTools\\PHPDF\\src\\orbitdiagrams\\produce_orbitdiagram.jl:75\u001b[39m\n"
     ]
    },
    {
     "name": "stdout",
     "output_type": "stream",
     "text": [
      "\n",
      "parameter = -0.096763"
     ]
    },
    {
     "name": "stderr",
     "output_type": "stream",
     "text": [
      "\u001b[33m\u001b[1m┌ \u001b[22m\u001b[39m\u001b[33m\u001b[1mWarning: \u001b[22m\u001b[39mFor parameter -0.0967628 The Poincaré surface of section did not have any points!\n",
      "\u001b[33m\u001b[1m└ \u001b[22m\u001b[39m\u001b[90m@ ChaosTools C:\\Users\\Alex\\.julia\\packages\\ChaosTools\\PHPDF\\src\\orbitdiagrams\\produce_orbitdiagram.jl:75\u001b[39m\n"
     ]
    },
    {
     "name": "stdout",
     "output_type": "stream",
     "text": [
      "\n",
      "parameter = -0.0967632\n"
     ]
    },
    {
     "name": "stderr",
     "output_type": "stream",
     "text": [
      "\u001b[33m\u001b[1m┌ \u001b[22m\u001b[39m\u001b[33m\u001b[1mWarning: \u001b[22m\u001b[39mFor parameter -0.096763 The Poincaré surface of section did not have any points!\n",
      "\u001b[33m\u001b[1m└ \u001b[22m\u001b[39m\u001b[90m@ ChaosTools C:\\Users\\Alex\\.julia\\packages\\ChaosTools\\PHPDF\\src\\orbitdiagrams\\produce_orbitdiagram.jl:75\u001b[39m\n"
     ]
    },
    {
     "name": "stdout",
     "output_type": "stream",
     "text": [
      "parameter = -0.0967634"
     ]
    },
    {
     "name": "stderr",
     "output_type": "stream",
     "text": [
      "\u001b[33m\u001b[1m┌ \u001b[22m\u001b[39m\u001b[33m\u001b[1mWarning: \u001b[22m\u001b[39mFor parameter -0.0967632 The Poincaré surface of section did not have any points!\n",
      "\u001b[33m\u001b[1m└ \u001b[22m\u001b[39m\u001b[90m@ ChaosTools C:\\Users\\Alex\\.julia\\packages\\ChaosTools\\PHPDF\\src\\orbitdiagrams\\produce_orbitdiagram.jl:75\u001b[39m\n"
     ]
    },
    {
     "name": "stdout",
     "output_type": "stream",
     "text": [
      "\n",
      "parameter = -0.0967636"
     ]
    },
    {
     "name": "stderr",
     "output_type": "stream",
     "text": [
      "\u001b[33m\u001b[1m┌ \u001b[22m\u001b[39m\u001b[33m\u001b[1mWarning: \u001b[22m\u001b[39mFor parameter -0.0967634 The Poincaré surface of section did not have any points!\n",
      "\u001b[33m\u001b[1m└ \u001b[22m\u001b[39m\u001b[90m@ ChaosTools C:\\Users\\Alex\\.julia\\packages\\ChaosTools\\PHPDF\\src\\orbitdiagrams\\produce_orbitdiagram.jl:75\u001b[39m\n"
     ]
    },
    {
     "name": "stdout",
     "output_type": "stream",
     "text": [
      "\n",
      "parameter = -0.0967638"
     ]
    },
    {
     "name": "stderr",
     "output_type": "stream",
     "text": [
      "\u001b[33m\u001b[1m┌ \u001b[22m\u001b[39m\u001b[33m\u001b[1mWarning: \u001b[22m\u001b[39mFor parameter -0.0967636 The Poincaré surface of section did not have any points!\n",
      "\u001b[33m\u001b[1m└ \u001b[22m\u001b[39m\u001b[90m@ ChaosTools C:\\Users\\Alex\\.julia\\packages\\ChaosTools\\PHPDF\\src\\orbitdiagrams\\produce_orbitdiagram.jl:75\u001b[39m\n"
     ]
    },
    {
     "name": "stdout",
     "output_type": "stream",
     "text": [
      "\n",
      "parameter = -0.096764"
     ]
    },
    {
     "name": "stderr",
     "output_type": "stream",
     "text": [
      "\u001b[33m\u001b[1m┌ \u001b[22m\u001b[39m\u001b[33m\u001b[1mWarning: \u001b[22m\u001b[39mFor parameter -0.0967638 The Poincaré surface of section did not have any points!\n",
      "\u001b[33m\u001b[1m└ \u001b[22m\u001b[39m\u001b[90m@ ChaosTools C:\\Users\\Alex\\.julia\\packages\\ChaosTools\\PHPDF\\src\\orbitdiagrams\\produce_orbitdiagram.jl:75\u001b[39m\n"
     ]
    },
    {
     "name": "stdout",
     "output_type": "stream",
     "text": [
      "\n",
      "parameter = -0.0967642"
     ]
    },
    {
     "name": "stderr",
     "output_type": "stream",
     "text": [
      "\u001b[33m\u001b[1m┌ \u001b[22m\u001b[39m\u001b[33m\u001b[1mWarning: \u001b[22m\u001b[39mFor parameter -0.096764 The Poincaré surface of section did not have any points!\n",
      "\u001b[33m\u001b[1m└ \u001b[22m\u001b[39m\u001b[90m@ ChaosTools C:\\Users\\Alex\\.julia\\packages\\ChaosTools\\PHPDF\\src\\orbitdiagrams\\produce_orbitdiagram.jl:75\u001b[39m\n"
     ]
    },
    {
     "name": "stdout",
     "output_type": "stream",
     "text": [
      "\n"
     ]
    },
    {
     "name": "stderr",
     "output_type": "stream",
     "text": [
      "\u001b[33m\u001b[1m┌ \u001b[22m\u001b[39m\u001b[33m\u001b[1mWarning: \u001b[22m\u001b[39mFor parameter -0.0967642 The Poincaré surface of section did not have any points!\n",
      "\u001b[33m\u001b[1m└ \u001b[22m\u001b[39m\u001b[90m@ ChaosTools C:\\Users\\Alex\\.julia\\packages\\ChaosTools\\PHPDF\\src\\orbitdiagrams\\produce_orbitdiagram.jl:75\u001b[39m\n"
     ]
    },
    {
     "name": "stdout",
     "output_type": "stream",
     "text": [
      "parameter = -0.0967644\n",
      "parameter = -0.0967646"
     ]
    },
    {
     "name": "stderr",
     "output_type": "stream",
     "text": [
      "\u001b[33m\u001b[1m┌ \u001b[22m\u001b[39m\u001b[33m\u001b[1mWarning: \u001b[22m\u001b[39mFor parameter -0.0967644 The Poincaré surface of section did not have any points!\n",
      "\u001b[33m\u001b[1m└ \u001b[22m\u001b[39m\u001b[90m@ ChaosTools C:\\Users\\Alex\\.julia\\packages\\ChaosTools\\PHPDF\\src\\orbitdiagrams\\produce_orbitdiagram.jl:75\u001b[39m\n"
     ]
    },
    {
     "name": "stdout",
     "output_type": "stream",
     "text": [
      "\n",
      "parameter = -0.0967648"
     ]
    },
    {
     "name": "stderr",
     "output_type": "stream",
     "text": [
      "\u001b[33m\u001b[1m┌ \u001b[22m\u001b[39m\u001b[33m\u001b[1mWarning: \u001b[22m\u001b[39mFor parameter -0.0967646 The Poincaré surface of section did not have any points!\n",
      "\u001b[33m\u001b[1m└ \u001b[22m\u001b[39m\u001b[90m@ ChaosTools C:\\Users\\Alex\\.julia\\packages\\ChaosTools\\PHPDF\\src\\orbitdiagrams\\produce_orbitdiagram.jl:75\u001b[39m\n"
     ]
    },
    {
     "name": "stdout",
     "output_type": "stream",
     "text": [
      "\n",
      "parameter = -0.096765"
     ]
    },
    {
     "name": "stderr",
     "output_type": "stream",
     "text": [
      "\u001b[33m\u001b[1m┌ \u001b[22m\u001b[39m\u001b[33m\u001b[1mWarning: \u001b[22m\u001b[39mFor parameter -0.0967648 The Poincaré surface of section did not have any points!\n",
      "\u001b[33m\u001b[1m└ \u001b[22m\u001b[39m\u001b[90m@ ChaosTools C:\\Users\\Alex\\.julia\\packages\\ChaosTools\\PHPDF\\src\\orbitdiagrams\\produce_orbitdiagram.jl:75\u001b[39m\n"
     ]
    },
    {
     "name": "stdout",
     "output_type": "stream",
     "text": [
      "\n",
      "parameter = -0.0967652\n"
     ]
    },
    {
     "name": "stderr",
     "output_type": "stream",
     "text": [
      "\u001b[33m\u001b[1m┌ \u001b[22m\u001b[39m\u001b[33m\u001b[1mWarning: \u001b[22m\u001b[39mFor parameter -0.096765 The Poincaré surface of section did not have any points!\n",
      "\u001b[33m\u001b[1m└ \u001b[22m\u001b[39m\u001b[90m@ ChaosTools C:\\Users\\Alex\\.julia\\packages\\ChaosTools\\PHPDF\\src\\orbitdiagrams\\produce_orbitdiagram.jl:75\u001b[39m\n"
     ]
    },
    {
     "name": "stdout",
     "output_type": "stream",
     "text": [
      "parameter = -0.0967654"
     ]
    },
    {
     "name": "stderr",
     "output_type": "stream",
     "text": [
      "\u001b[33m\u001b[1m┌ \u001b[22m\u001b[39m\u001b[33m\u001b[1mWarning: \u001b[22m\u001b[39mFor parameter -0.0967652 The Poincaré surface of section did not have any points!\n",
      "\u001b[33m\u001b[1m└ \u001b[22m\u001b[39m\u001b[90m@ ChaosTools C:\\Users\\Alex\\.julia\\packages\\ChaosTools\\PHPDF\\src\\orbitdiagrams\\produce_orbitdiagram.jl:75\u001b[39m\n"
     ]
    },
    {
     "name": "stdout",
     "output_type": "stream",
     "text": [
      "\n",
      "parameter = -0.0967656"
     ]
    },
    {
     "name": "stderr",
     "output_type": "stream",
     "text": [
      "\u001b[33m\u001b[1m┌ \u001b[22m\u001b[39m\u001b[33m\u001b[1mWarning: \u001b[22m\u001b[39mFor parameter -0.0967654 The Poincaré surface of section did not have any points!\n",
      "\u001b[33m\u001b[1m└ \u001b[22m\u001b[39m\u001b[90m@ ChaosTools C:\\Users\\Alex\\.julia\\packages\\ChaosTools\\PHPDF\\src\\orbitdiagrams\\produce_orbitdiagram.jl:75\u001b[39m\n"
     ]
    },
    {
     "name": "stdout",
     "output_type": "stream",
     "text": [
      "\n",
      "parameter = -0.0967658"
     ]
    },
    {
     "name": "stderr",
     "output_type": "stream",
     "text": [
      "\u001b[33m\u001b[1m┌ \u001b[22m\u001b[39m\u001b[33m\u001b[1mWarning: \u001b[22m\u001b[39mFor parameter -0.0967656 The Poincaré surface of section did not have any points!\n",
      "\u001b[33m\u001b[1m└ \u001b[22m\u001b[39m\u001b[90m@ ChaosTools C:\\Users\\Alex\\.julia\\packages\\ChaosTools\\PHPDF\\src\\orbitdiagrams\\produce_orbitdiagram.jl:75\u001b[39m\n"
     ]
    },
    {
     "name": "stdout",
     "output_type": "stream",
     "text": [
      "\n",
      "parameter = -0.096766\n"
     ]
    },
    {
     "name": "stderr",
     "output_type": "stream",
     "text": [
      "\u001b[33m\u001b[1m┌ \u001b[22m\u001b[39m\u001b[33m\u001b[1mWarning: \u001b[22m\u001b[39mFor parameter -0.0967658 The Poincaré surface of section did not have any points!\n",
      "\u001b[33m\u001b[1m└ \u001b[22m\u001b[39m\u001b[90m@ ChaosTools C:\\Users\\Alex\\.julia\\packages\\ChaosTools\\PHPDF\\src\\orbitdiagrams\\produce_orbitdiagram.jl:75\u001b[39m\n"
     ]
    },
    {
     "name": "stdout",
     "output_type": "stream",
     "text": [
      "parameter = -0.0967662"
     ]
    },
    {
     "name": "stderr",
     "output_type": "stream",
     "text": [
      "\u001b[33m\u001b[1m┌ \u001b[22m\u001b[39m\u001b[33m\u001b[1mWarning: \u001b[22m\u001b[39mFor parameter -0.096766 The Poincaré surface of section did not have any points!\n",
      "\u001b[33m\u001b[1m└ \u001b[22m\u001b[39m\u001b[90m@ ChaosTools C:\\Users\\Alex\\.julia\\packages\\ChaosTools\\PHPDF\\src\\orbitdiagrams\\produce_orbitdiagram.jl:75\u001b[39m\n"
     ]
    },
    {
     "name": "stdout",
     "output_type": "stream",
     "text": [
      "\n",
      "parameter = -0.0967664\n"
     ]
    },
    {
     "name": "stderr",
     "output_type": "stream",
     "text": [
      "\u001b[33m\u001b[1m┌ \u001b[22m\u001b[39m\u001b[33m\u001b[1mWarning: \u001b[22m\u001b[39mFor parameter -0.0967662 The Poincaré surface of section did not have any points!\n",
      "\u001b[33m\u001b[1m└ \u001b[22m\u001b[39m\u001b[90m@ ChaosTools C:\\Users\\Alex\\.julia\\packages\\ChaosTools\\PHPDF\\src\\orbitdiagrams\\produce_orbitdiagram.jl:75\u001b[39m\n"
     ]
    },
    {
     "name": "stdout",
     "output_type": "stream",
     "text": [
      "parameter = -0.0967666"
     ]
    },
    {
     "name": "stderr",
     "output_type": "stream",
     "text": [
      "\u001b[33m\u001b[1m┌ \u001b[22m\u001b[39m\u001b[33m\u001b[1mWarning: \u001b[22m\u001b[39mFor parameter -0.0967664 The Poincaré surface of section did not have any points!\n",
      "\u001b[33m\u001b[1m└ \u001b[22m\u001b[39m\u001b[90m@ ChaosTools C:\\Users\\Alex\\.julia\\packages\\ChaosTools\\PHPDF\\src\\orbitdiagrams\\produce_orbitdiagram.jl:75\u001b[39m\n"
     ]
    },
    {
     "name": "stdout",
     "output_type": "stream",
     "text": [
      "\n",
      "parameter = -0.0967668\n"
     ]
    },
    {
     "name": "stderr",
     "output_type": "stream",
     "text": [
      "\u001b[33m\u001b[1m┌ \u001b[22m\u001b[39m\u001b[33m\u001b[1mWarning: \u001b[22m\u001b[39mFor parameter -0.0967666 The Poincaré surface of section did not have any points!\n",
      "\u001b[33m\u001b[1m└ \u001b[22m\u001b[39m\u001b[90m@ ChaosTools C:\\Users\\Alex\\.julia\\packages\\ChaosTools\\PHPDF\\src\\orbitdiagrams\\produce_orbitdiagram.jl:75\u001b[39m\n"
     ]
    },
    {
     "name": "stdout",
     "output_type": "stream",
     "text": [
      "parameter = -0.096767\n"
     ]
    },
    {
     "name": "stderr",
     "output_type": "stream",
     "text": [
      "\u001b[33m\u001b[1m┌ \u001b[22m\u001b[39m\u001b[33m\u001b[1mWarning: \u001b[22m\u001b[39mFor parameter -0.0967668 The Poincaré surface of section did not have any points!\n",
      "\u001b[33m\u001b[1m└ \u001b[22m\u001b[39m\u001b[90m@ ChaosTools C:\\Users\\Alex\\.julia\\packages\\ChaosTools\\PHPDF\\src\\orbitdiagrams\\produce_orbitdiagram.jl:75\u001b[39m\n"
     ]
    },
    {
     "name": "stdout",
     "output_type": "stream",
     "text": [
      "parameter = -0.0967672"
     ]
    },
    {
     "name": "stderr",
     "output_type": "stream",
     "text": [
      "\u001b[33m\u001b[1m┌ \u001b[22m\u001b[39m\u001b[33m\u001b[1mWarning: \u001b[22m\u001b[39mFor parameter -0.096767 The Poincaré surface of section did not have any points!\n",
      "\u001b[33m\u001b[1m└ \u001b[22m\u001b[39m\u001b[90m@ ChaosTools C:\\Users\\Alex\\.julia\\packages\\ChaosTools\\PHPDF\\src\\orbitdiagrams\\produce_orbitdiagram.jl:75\u001b[39m\n"
     ]
    },
    {
     "name": "stdout",
     "output_type": "stream",
     "text": [
      "\n",
      "parameter = -0.0967674"
     ]
    },
    {
     "name": "stderr",
     "output_type": "stream",
     "text": [
      "\u001b[33m\u001b[1m┌ \u001b[22m\u001b[39m\u001b[33m\u001b[1mWarning: \u001b[22m\u001b[39mFor parameter -0.0967672 The Poincaré surface of section did not have any points!\n",
      "\u001b[33m\u001b[1m└ \u001b[22m\u001b[39m\u001b[90m@ ChaosTools C:\\Users\\Alex\\.julia\\packages\\ChaosTools\\PHPDF\\src\\orbitdiagrams\\produce_orbitdiagram.jl:75\u001b[39m\n"
     ]
    },
    {
     "name": "stdout",
     "output_type": "stream",
     "text": [
      "\n",
      "parameter = -0.0967676"
     ]
    },
    {
     "name": "stderr",
     "output_type": "stream",
     "text": [
      "\u001b[33m\u001b[1m┌ \u001b[22m\u001b[39m\u001b[33m\u001b[1mWarning: \u001b[22m\u001b[39mFor parameter -0.0967674 The Poincaré surface of section did not have any points!\n",
      "\u001b[33m\u001b[1m└ \u001b[22m\u001b[39m\u001b[90m@ ChaosTools C:\\Users\\Alex\\.julia\\packages\\ChaosTools\\PHPDF\\src\\orbitdiagrams\\produce_orbitdiagram.jl:75\u001b[39m\n"
     ]
    },
    {
     "name": "stdout",
     "output_type": "stream",
     "text": [
      "\n",
      "parameter = -0.0967678\n"
     ]
    },
    {
     "name": "stderr",
     "output_type": "stream",
     "text": [
      "\u001b[33m\u001b[1m┌ \u001b[22m\u001b[39m\u001b[33m\u001b[1mWarning: \u001b[22m\u001b[39mFor parameter -0.0967676 The Poincaré surface of section did not have any points!\n",
      "\u001b[33m\u001b[1m└ \u001b[22m\u001b[39m\u001b[90m@ ChaosTools C:\\Users\\Alex\\.julia\\packages\\ChaosTools\\PHPDF\\src\\orbitdiagrams\\produce_orbitdiagram.jl:75\u001b[39m\n"
     ]
    },
    {
     "name": "stdout",
     "output_type": "stream",
     "text": [
      "parameter = -0.096768"
     ]
    },
    {
     "name": "stderr",
     "output_type": "stream",
     "text": [
      "\u001b[33m\u001b[1m┌ \u001b[22m\u001b[39m\u001b[33m\u001b[1mWarning: \u001b[22m\u001b[39mFor parameter -0.0967678 The Poincaré surface of section did not have any points!\n",
      "\u001b[33m\u001b[1m└ \u001b[22m\u001b[39m\u001b[90m@ ChaosTools C:\\Users\\Alex\\.julia\\packages\\ChaosTools\\PHPDF\\src\\orbitdiagrams\\produce_orbitdiagram.jl:75\u001b[39m\n"
     ]
    },
    {
     "name": "stdout",
     "output_type": "stream",
     "text": [
      "\n",
      "parameter = -0.0967682\n"
     ]
    },
    {
     "name": "stderr",
     "output_type": "stream",
     "text": [
      "\u001b[33m\u001b[1m┌ \u001b[22m\u001b[39m\u001b[33m\u001b[1mWarning: \u001b[22m\u001b[39mFor parameter -0.096768 The Poincaré surface of section did not have any points!\n",
      "\u001b[33m\u001b[1m└ \u001b[22m\u001b[39m\u001b[90m@ ChaosTools C:\\Users\\Alex\\.julia\\packages\\ChaosTools\\PHPDF\\src\\orbitdiagrams\\produce_orbitdiagram.jl:75\u001b[39m\n"
     ]
    },
    {
     "name": "stdout",
     "output_type": "stream",
     "text": [
      "parameter = -0.0967684\n"
     ]
    },
    {
     "name": "stderr",
     "output_type": "stream",
     "text": [
      "\u001b[33m\u001b[1m┌ \u001b[22m\u001b[39m\u001b[33m\u001b[1mWarning: \u001b[22m\u001b[39mFor parameter -0.0967682 The Poincaré surface of section did not have any points!\n",
      "\u001b[33m\u001b[1m└ \u001b[22m\u001b[39m\u001b[90m@ ChaosTools C:\\Users\\Alex\\.julia\\packages\\ChaosTools\\PHPDF\\src\\orbitdiagrams\\produce_orbitdiagram.jl:75\u001b[39m\n"
     ]
    },
    {
     "name": "stdout",
     "output_type": "stream",
     "text": [
      "parameter = -0.0967686\n"
     ]
    },
    {
     "name": "stderr",
     "output_type": "stream",
     "text": [
      "\u001b[33m\u001b[1m┌ \u001b[22m\u001b[39m\u001b[33m\u001b[1mWarning: \u001b[22m\u001b[39mFor parameter -0.0967684 The Poincaré surface of section did not have any points!\n",
      "\u001b[33m\u001b[1m└ \u001b[22m\u001b[39m\u001b[90m@ ChaosTools C:\\Users\\Alex\\.julia\\packages\\ChaosTools\\PHPDF\\src\\orbitdiagrams\\produce_orbitdiagram.jl:75\u001b[39m\n"
     ]
    },
    {
     "name": "stdout",
     "output_type": "stream",
     "text": [
      "parameter = -0.0967688"
     ]
    },
    {
     "name": "stderr",
     "output_type": "stream",
     "text": [
      "\u001b[33m\u001b[1m┌ \u001b[22m\u001b[39m\u001b[33m\u001b[1mWarning: \u001b[22m\u001b[39mFor parameter -0.0967686 The Poincaré surface of section did not have any points!\n",
      "\u001b[33m\u001b[1m└ \u001b[22m\u001b[39m\u001b[90m@ ChaosTools C:\\Users\\Alex\\.julia\\packages\\ChaosTools\\PHPDF\\src\\orbitdiagrams\\produce_orbitdiagram.jl:75\u001b[39m\n"
     ]
    },
    {
     "name": "stdout",
     "output_type": "stream",
     "text": [
      "\n",
      "parameter = -0.096769"
     ]
    },
    {
     "name": "stderr",
     "output_type": "stream",
     "text": [
      "\u001b[33m\u001b[1m┌ \u001b[22m\u001b[39m\u001b[33m\u001b[1mWarning: \u001b[22m\u001b[39mFor parameter -0.0967688 The Poincaré surface of section did not have any points!\n",
      "\u001b[33m\u001b[1m└ \u001b[22m\u001b[39m\u001b[90m@ ChaosTools C:\\Users\\Alex\\.julia\\packages\\ChaosTools\\PHPDF\\src\\orbitdiagrams\\produce_orbitdiagram.jl:75\u001b[39m\n"
     ]
    },
    {
     "name": "stdout",
     "output_type": "stream",
     "text": [
      "\n",
      "parameter = -0.0967692\n"
     ]
    },
    {
     "name": "stderr",
     "output_type": "stream",
     "text": [
      "\u001b[33m\u001b[1m┌ \u001b[22m\u001b[39m\u001b[33m\u001b[1mWarning: \u001b[22m\u001b[39mFor parameter -0.096769 The Poincaré surface of section did not have any points!\n",
      "\u001b[33m\u001b[1m└ \u001b[22m\u001b[39m\u001b[90m@ ChaosTools C:\\Users\\Alex\\.julia\\packages\\ChaosTools\\PHPDF\\src\\orbitdiagrams\\produce_orbitdiagram.jl:75\u001b[39m\n"
     ]
    },
    {
     "name": "stdout",
     "output_type": "stream",
     "text": [
      "parameter = -0.0967694"
     ]
    },
    {
     "name": "stderr",
     "output_type": "stream",
     "text": [
      "\u001b[33m\u001b[1m┌ \u001b[22m\u001b[39m\u001b[33m\u001b[1mWarning: \u001b[22m\u001b[39mFor parameter -0.0967692 The Poincaré surface of section did not have any points!\n",
      "\u001b[33m\u001b[1m└ \u001b[22m\u001b[39m\u001b[90m@ ChaosTools C:\\Users\\Alex\\.julia\\packages\\ChaosTools\\PHPDF\\src\\orbitdiagrams\\produce_orbitdiagram.jl:75\u001b[39m\n"
     ]
    },
    {
     "name": "stdout",
     "output_type": "stream",
     "text": [
      "\n",
      "parameter = -0.0967696\n"
     ]
    },
    {
     "name": "stderr",
     "output_type": "stream",
     "text": [
      "\u001b[33m\u001b[1m┌ \u001b[22m\u001b[39m\u001b[33m\u001b[1mWarning: \u001b[22m\u001b[39mFor parameter -0.0967694 The Poincaré surface of section did not have any points!\n",
      "\u001b[33m\u001b[1m└ \u001b[22m\u001b[39m\u001b[90m@ ChaosTools C:\\Users\\Alex\\.julia\\packages\\ChaosTools\\PHPDF\\src\\orbitdiagrams\\produce_orbitdiagram.jl:75\u001b[39m\n"
     ]
    },
    {
     "name": "stdout",
     "output_type": "stream",
     "text": [
      "parameter = -0.0967698"
     ]
    },
    {
     "name": "stderr",
     "output_type": "stream",
     "text": [
      "\u001b[33m\u001b[1m┌ \u001b[22m\u001b[39m\u001b[33m\u001b[1mWarning: \u001b[22m\u001b[39mFor parameter -0.0967696 The Poincaré surface of section did not have any points!\n",
      "\u001b[33m\u001b[1m└ \u001b[22m\u001b[39m\u001b[90m@ ChaosTools C:\\Users\\Alex\\.julia\\packages\\ChaosTools\\PHPDF\\src\\orbitdiagrams\\produce_orbitdiagram.jl:75\u001b[39m\n"
     ]
    },
    {
     "name": "stdout",
     "output_type": "stream",
     "text": [
      "\n"
     ]
    },
    {
     "name": "stderr",
     "output_type": "stream",
     "text": [
      "\u001b[33m\u001b[1m┌ \u001b[22m\u001b[39m\u001b[33m\u001b[1mWarning: \u001b[22m\u001b[39mFor parameter -0.0967698 The Poincaré surface of section did not have any points!\n",
      "\u001b[33m\u001b[1m└ \u001b[22m\u001b[39m\u001b[90m@ ChaosTools C:\\Users\\Alex\\.julia\\packages\\ChaosTools\\PHPDF\\src\\orbitdiagrams\\produce_orbitdiagram.jl:75\u001b[39m\n"
     ]
    },
    {
     "name": "stdout",
     "output_type": "stream",
     "text": [
      "parameter = -0.09677\n",
      "parameter = -0.0967702"
     ]
    },
    {
     "name": "stderr",
     "output_type": "stream",
     "text": [
      "\u001b[33m\u001b[1m┌ \u001b[22m\u001b[39m\u001b[33m\u001b[1mWarning: \u001b[22m\u001b[39mFor parameter -0.09677 The Poincaré surface of section did not have any points!\n",
      "\u001b[33m\u001b[1m└ \u001b[22m\u001b[39m\u001b[90m@ ChaosTools C:\\Users\\Alex\\.julia\\packages\\ChaosTools\\PHPDF\\src\\orbitdiagrams\\produce_orbitdiagram.jl:75\u001b[39m\n"
     ]
    },
    {
     "name": "stdout",
     "output_type": "stream",
     "text": [
      "\n",
      "parameter = -0.0967704\n"
     ]
    },
    {
     "name": "stderr",
     "output_type": "stream",
     "text": [
      "\u001b[33m\u001b[1m┌ \u001b[22m\u001b[39m\u001b[33m\u001b[1mWarning: \u001b[22m\u001b[39mFor parameter -0.0967702 The Poincaré surface of section did not have any points!\n",
      "\u001b[33m\u001b[1m└ \u001b[22m\u001b[39m\u001b[90m@ ChaosTools C:\\Users\\Alex\\.julia\\packages\\ChaosTools\\PHPDF\\src\\orbitdiagrams\\produce_orbitdiagram.jl:75\u001b[39m\n"
     ]
    },
    {
     "name": "stdout",
     "output_type": "stream",
     "text": [
      "parameter = -0.0967706\n"
     ]
    },
    {
     "name": "stderr",
     "output_type": "stream",
     "text": [
      "\u001b[33m\u001b[1m┌ \u001b[22m\u001b[39m\u001b[33m\u001b[1mWarning: \u001b[22m\u001b[39mFor parameter -0.0967704 The Poincaré surface of section did not have any points!\n",
      "\u001b[33m\u001b[1m└ \u001b[22m\u001b[39m\u001b[90m@ ChaosTools C:\\Users\\Alex\\.julia\\packages\\ChaosTools\\PHPDF\\src\\orbitdiagrams\\produce_orbitdiagram.jl:75\u001b[39m\n"
     ]
    },
    {
     "name": "stdout",
     "output_type": "stream",
     "text": [
      "parameter = -0.0967708"
     ]
    },
    {
     "name": "stderr",
     "output_type": "stream",
     "text": [
      "\u001b[33m\u001b[1m┌ \u001b[22m\u001b[39m\u001b[33m\u001b[1mWarning: \u001b[22m\u001b[39mFor parameter -0.0967706 The Poincaré surface of section did not have any points!\n",
      "\u001b[33m\u001b[1m└ \u001b[22m\u001b[39m\u001b[90m@ ChaosTools C:\\Users\\Alex\\.julia\\packages\\ChaosTools\\PHPDF\\src\\orbitdiagrams\\produce_orbitdiagram.jl:75\u001b[39m\n"
     ]
    },
    {
     "name": "stdout",
     "output_type": "stream",
     "text": [
      "\n",
      "parameter = -0.096771"
     ]
    },
    {
     "name": "stderr",
     "output_type": "stream",
     "text": [
      "\u001b[33m\u001b[1m┌ \u001b[22m\u001b[39m\u001b[33m\u001b[1mWarning: \u001b[22m\u001b[39mFor parameter -0.0967708 The Poincaré surface of section did not have any points!\n",
      "\u001b[33m\u001b[1m└ \u001b[22m\u001b[39m\u001b[90m@ ChaosTools C:\\Users\\Alex\\.julia\\packages\\ChaosTools\\PHPDF\\src\\orbitdiagrams\\produce_orbitdiagram.jl:75\u001b[39m\n"
     ]
    },
    {
     "name": "stdout",
     "output_type": "stream",
     "text": [
      "\n",
      "parameter = -0.0967712\n"
     ]
    },
    {
     "name": "stderr",
     "output_type": "stream",
     "text": [
      "\u001b[33m\u001b[1m┌ \u001b[22m\u001b[39m\u001b[33m\u001b[1mWarning: \u001b[22m\u001b[39mFor parameter -0.096771 The Poincaré surface of section did not have any points!\n",
      "\u001b[33m\u001b[1m└ \u001b[22m\u001b[39m\u001b[90m@ ChaosTools C:\\Users\\Alex\\.julia\\packages\\ChaosTools\\PHPDF\\src\\orbitdiagrams\\produce_orbitdiagram.jl:75\u001b[39m\n"
     ]
    },
    {
     "name": "stdout",
     "output_type": "stream",
     "text": [
      "parameter = -0.0967714\n"
     ]
    },
    {
     "name": "stderr",
     "output_type": "stream",
     "text": [
      "\u001b[33m\u001b[1m┌ \u001b[22m\u001b[39m\u001b[33m\u001b[1mWarning: \u001b[22m\u001b[39mFor parameter -0.0967712 The Poincaré surface of section did not have any points!\n",
      "\u001b[33m\u001b[1m└ \u001b[22m\u001b[39m\u001b[90m@ ChaosTools C:\\Users\\Alex\\.julia\\packages\\ChaosTools\\PHPDF\\src\\orbitdiagrams\\produce_orbitdiagram.jl:75\u001b[39m\n"
     ]
    },
    {
     "name": "stdout",
     "output_type": "stream",
     "text": [
      "parameter = -0.0967716"
     ]
    },
    {
     "name": "stderr",
     "output_type": "stream",
     "text": [
      "\u001b[33m\u001b[1m┌ \u001b[22m\u001b[39m\u001b[33m\u001b[1mWarning: \u001b[22m\u001b[39mFor parameter -0.0967714 The Poincaré surface of section did not have any points!\n",
      "\u001b[33m\u001b[1m└ \u001b[22m\u001b[39m\u001b[90m@ ChaosTools C:\\Users\\Alex\\.julia\\packages\\ChaosTools\\PHPDF\\src\\orbitdiagrams\\produce_orbitdiagram.jl:75\u001b[39m\n"
     ]
    },
    {
     "name": "stdout",
     "output_type": "stream",
     "text": [
      "\n",
      "parameter = -0.0967718"
     ]
    },
    {
     "name": "stderr",
     "output_type": "stream",
     "text": [
      "\u001b[33m\u001b[1m┌ \u001b[22m\u001b[39m\u001b[33m\u001b[1mWarning: \u001b[22m\u001b[39mFor parameter -0.0967716 The Poincaré surface of section did not have any points!\n",
      "\u001b[33m\u001b[1m└ \u001b[22m\u001b[39m\u001b[90m@ ChaosTools C:\\Users\\Alex\\.julia\\packages\\ChaosTools\\PHPDF\\src\\orbitdiagrams\\produce_orbitdiagram.jl:75\u001b[39m\n"
     ]
    },
    {
     "name": "stdout",
     "output_type": "stream",
     "text": [
      "\n",
      "parameter = -0.096772"
     ]
    },
    {
     "name": "stderr",
     "output_type": "stream",
     "text": [
      "\u001b[33m\u001b[1m┌ \u001b[22m\u001b[39m\u001b[33m\u001b[1mWarning: \u001b[22m\u001b[39mFor parameter -0.0967718 The Poincaré surface of section did not have any points!\n",
      "\u001b[33m\u001b[1m└ \u001b[22m\u001b[39m\u001b[90m@ ChaosTools C:\\Users\\Alex\\.julia\\packages\\ChaosTools\\PHPDF\\src\\orbitdiagrams\\produce_orbitdiagram.jl:75\u001b[39m\n"
     ]
    },
    {
     "name": "stdout",
     "output_type": "stream",
     "text": [
      "\n",
      "parameter = -0.0967722"
     ]
    },
    {
     "name": "stderr",
     "output_type": "stream",
     "text": [
      "\u001b[33m\u001b[1m┌ \u001b[22m\u001b[39m\u001b[33m\u001b[1mWarning: \u001b[22m\u001b[39mFor parameter -0.096772 The Poincaré surface of section did not have any points!\n",
      "\u001b[33m\u001b[1m└ \u001b[22m\u001b[39m\u001b[90m@ ChaosTools C:\\Users\\Alex\\.julia\\packages\\ChaosTools\\PHPDF\\src\\orbitdiagrams\\produce_orbitdiagram.jl:75\u001b[39m\n"
     ]
    },
    {
     "name": "stdout",
     "output_type": "stream",
     "text": [
      "\n",
      "parameter = -0.0967724"
     ]
    },
    {
     "name": "stderr",
     "output_type": "stream",
     "text": [
      "\u001b[33m\u001b[1m┌ \u001b[22m\u001b[39m\u001b[33m\u001b[1mWarning: \u001b[22m\u001b[39mFor parameter -0.0967722 The Poincaré surface of section did not have any points!\n",
      "\u001b[33m\u001b[1m└ \u001b[22m\u001b[39m\u001b[90m@ ChaosTools C:\\Users\\Alex\\.julia\\packages\\ChaosTools\\PHPDF\\src\\orbitdiagrams\\produce_orbitdiagram.jl:75\u001b[39m\n"
     ]
    },
    {
     "name": "stdout",
     "output_type": "stream",
     "text": [
      "\n",
      "parameter = -0.0967726\n"
     ]
    },
    {
     "name": "stderr",
     "output_type": "stream",
     "text": [
      "\u001b[33m\u001b[1m┌ \u001b[22m\u001b[39m\u001b[33m\u001b[1mWarning: \u001b[22m\u001b[39mFor parameter -0.0967724 The Poincaré surface of section did not have any points!\n",
      "\u001b[33m\u001b[1m└ \u001b[22m\u001b[39m\u001b[90m@ ChaosTools C:\\Users\\Alex\\.julia\\packages\\ChaosTools\\PHPDF\\src\\orbitdiagrams\\produce_orbitdiagram.jl:75\u001b[39m\n"
     ]
    },
    {
     "name": "stdout",
     "output_type": "stream",
     "text": [
      "parameter = -0.0967728"
     ]
    },
    {
     "name": "stderr",
     "output_type": "stream",
     "text": [
      "\u001b[33m\u001b[1m┌ \u001b[22m\u001b[39m\u001b[33m\u001b[1mWarning: \u001b[22m\u001b[39mFor parameter -0.0967726 The Poincaré surface of section did not have any points!\n",
      "\u001b[33m\u001b[1m└ \u001b[22m\u001b[39m\u001b[90m@ ChaosTools C:\\Users\\Alex\\.julia\\packages\\ChaosTools\\PHPDF\\src\\orbitdiagrams\\produce_orbitdiagram.jl:75\u001b[39m\n"
     ]
    },
    {
     "name": "stdout",
     "output_type": "stream",
     "text": [
      "\n",
      "parameter = -0.096773\n"
     ]
    },
    {
     "name": "stderr",
     "output_type": "stream",
     "text": [
      "\u001b[33m\u001b[1m┌ \u001b[22m\u001b[39m\u001b[33m\u001b[1mWarning: \u001b[22m\u001b[39mFor parameter -0.0967728 The Poincaré surface of section did not have any points!\n",
      "\u001b[33m\u001b[1m└ \u001b[22m\u001b[39m\u001b[90m@ ChaosTools C:\\Users\\Alex\\.julia\\packages\\ChaosTools\\PHPDF\\src\\orbitdiagrams\\produce_orbitdiagram.jl:75\u001b[39m\n"
     ]
    },
    {
     "name": "stdout",
     "output_type": "stream",
     "text": [
      "parameter = -0.0967732"
     ]
    },
    {
     "name": "stderr",
     "output_type": "stream",
     "text": [
      "\u001b[33m\u001b[1m┌ \u001b[22m\u001b[39m\u001b[33m\u001b[1mWarning: \u001b[22m\u001b[39mFor parameter -0.096773 The Poincaré surface of section did not have any points!\n",
      "\u001b[33m\u001b[1m└ \u001b[22m\u001b[39m\u001b[90m@ ChaosTools C:\\Users\\Alex\\.julia\\packages\\ChaosTools\\PHPDF\\src\\orbitdiagrams\\produce_orbitdiagram.jl:75\u001b[39m\n"
     ]
    },
    {
     "name": "stdout",
     "output_type": "stream",
     "text": [
      "\n",
      "parameter = -0.0967734\n"
     ]
    },
    {
     "name": "stderr",
     "output_type": "stream",
     "text": [
      "\u001b[33m\u001b[1m┌ \u001b[22m\u001b[39m\u001b[33m\u001b[1mWarning: \u001b[22m\u001b[39mFor parameter -0.0967732 The Poincaré surface of section did not have any points!\n",
      "\u001b[33m\u001b[1m└ \u001b[22m\u001b[39m\u001b[90m@ ChaosTools C:\\Users\\Alex\\.julia\\packages\\ChaosTools\\PHPDF\\src\\orbitdiagrams\\produce_orbitdiagram.jl:75\u001b[39m\n"
     ]
    },
    {
     "name": "stdout",
     "output_type": "stream",
     "text": [
      "parameter = -0.0967736\n"
     ]
    },
    {
     "name": "stderr",
     "output_type": "stream",
     "text": [
      "\u001b[33m\u001b[1m┌ \u001b[22m\u001b[39m\u001b[33m\u001b[1mWarning: \u001b[22m\u001b[39mFor parameter -0.0967734 The Poincaré surface of section did not have any points!\n",
      "\u001b[33m\u001b[1m└ \u001b[22m\u001b[39m\u001b[90m@ ChaosTools C:\\Users\\Alex\\.julia\\packages\\ChaosTools\\PHPDF\\src\\orbitdiagrams\\produce_orbitdiagram.jl:75\u001b[39m\n"
     ]
    },
    {
     "name": "stdout",
     "output_type": "stream",
     "text": [
      "parameter = -0.0967738"
     ]
    },
    {
     "name": "stderr",
     "output_type": "stream",
     "text": [
      "\u001b[33m\u001b[1m┌ \u001b[22m\u001b[39m\u001b[33m\u001b[1mWarning: \u001b[22m\u001b[39mFor parameter -0.0967736 The Poincaré surface of section did not have any points!\n",
      "\u001b[33m\u001b[1m└ \u001b[22m\u001b[39m\u001b[90m@ ChaosTools C:\\Users\\Alex\\.julia\\packages\\ChaosTools\\PHPDF\\src\\orbitdiagrams\\produce_orbitdiagram.jl:75\u001b[39m\n"
     ]
    },
    {
     "name": "stdout",
     "output_type": "stream",
     "text": [
      "\n",
      "parameter = -0.096774"
     ]
    },
    {
     "name": "stderr",
     "output_type": "stream",
     "text": [
      "\u001b[33m\u001b[1m┌ \u001b[22m\u001b[39m\u001b[33m\u001b[1mWarning: \u001b[22m\u001b[39mFor parameter -0.0967738 The Poincaré surface of section did not have any points!\n",
      "\u001b[33m\u001b[1m└ \u001b[22m\u001b[39m\u001b[90m@ ChaosTools C:\\Users\\Alex\\.julia\\packages\\ChaosTools\\PHPDF\\src\\orbitdiagrams\\produce_orbitdiagram.jl:75\u001b[39m\n"
     ]
    },
    {
     "name": "stdout",
     "output_type": "stream",
     "text": [
      "\n",
      "parameter = -0.0967742\n"
     ]
    },
    {
     "name": "stderr",
     "output_type": "stream",
     "text": [
      "\u001b[33m\u001b[1m┌ \u001b[22m\u001b[39m\u001b[33m\u001b[1mWarning: \u001b[22m\u001b[39mFor parameter -0.096774 The Poincaré surface of section did not have any points!\n",
      "\u001b[33m\u001b[1m└ \u001b[22m\u001b[39m\u001b[90m@ ChaosTools C:\\Users\\Alex\\.julia\\packages\\ChaosTools\\PHPDF\\src\\orbitdiagrams\\produce_orbitdiagram.jl:75\u001b[39m\n"
     ]
    },
    {
     "name": "stdout",
     "output_type": "stream",
     "text": [
      "parameter = -0.0967744"
     ]
    },
    {
     "name": "stderr",
     "output_type": "stream",
     "text": [
      "\u001b[33m\u001b[1m┌ \u001b[22m\u001b[39m\u001b[33m\u001b[1mWarning: \u001b[22m\u001b[39mFor parameter -0.0967742 The Poincaré surface of section did not have any points!\n",
      "\u001b[33m\u001b[1m└ \u001b[22m\u001b[39m\u001b[90m@ ChaosTools C:\\Users\\Alex\\.julia\\packages\\ChaosTools\\PHPDF\\src\\orbitdiagrams\\produce_orbitdiagram.jl:75\u001b[39m\n"
     ]
    },
    {
     "name": "stdout",
     "output_type": "stream",
     "text": [
      "\n",
      "parameter = -0.0967746"
     ]
    },
    {
     "name": "stderr",
     "output_type": "stream",
     "text": [
      "\u001b[33m\u001b[1m┌ \u001b[22m\u001b[39m\u001b[33m\u001b[1mWarning: \u001b[22m\u001b[39mFor parameter -0.0967744 The Poincaré surface of section did not have any points!\n",
      "\u001b[33m\u001b[1m└ \u001b[22m\u001b[39m\u001b[90m@ ChaosTools C:\\Users\\Alex\\.julia\\packages\\ChaosTools\\PHPDF\\src\\orbitdiagrams\\produce_orbitdiagram.jl:75\u001b[39m\n"
     ]
    },
    {
     "name": "stdout",
     "output_type": "stream",
     "text": [
      "\n",
      "parameter = -0.0967748"
     ]
    },
    {
     "name": "stderr",
     "output_type": "stream",
     "text": [
      "\u001b[33m\u001b[1m┌ \u001b[22m\u001b[39m\u001b[33m\u001b[1mWarning: \u001b[22m\u001b[39mFor parameter -0.0967746 The Poincaré surface of section did not have any points!\n",
      "\u001b[33m\u001b[1m└ \u001b[22m\u001b[39m\u001b[90m@ ChaosTools C:\\Users\\Alex\\.julia\\packages\\ChaosTools\\PHPDF\\src\\orbitdiagrams\\produce_orbitdiagram.jl:75\u001b[39m\n"
     ]
    },
    {
     "name": "stdout",
     "output_type": "stream",
     "text": [
      "\n",
      "parameter = -0.096775\n"
     ]
    },
    {
     "name": "stderr",
     "output_type": "stream",
     "text": [
      "\u001b[33m\u001b[1m┌ \u001b[22m\u001b[39m\u001b[33m\u001b[1mWarning: \u001b[22m\u001b[39mFor parameter -0.0967748 The Poincaré surface of section did not have any points!\n",
      "\u001b[33m\u001b[1m└ \u001b[22m\u001b[39m\u001b[90m@ ChaosTools C:\\Users\\Alex\\.julia\\packages\\ChaosTools\\PHPDF\\src\\orbitdiagrams\\produce_orbitdiagram.jl:75\u001b[39m\n"
     ]
    },
    {
     "name": "stdout",
     "output_type": "stream",
     "text": [
      "parameter = -0.0967752\n"
     ]
    },
    {
     "name": "stderr",
     "output_type": "stream",
     "text": [
      "\u001b[33m\u001b[1m┌ \u001b[22m\u001b[39m\u001b[33m\u001b[1mWarning: \u001b[22m\u001b[39mFor parameter -0.096775 The Poincaré surface of section did not have any points!\n",
      "\u001b[33m\u001b[1m└ \u001b[22m\u001b[39m\u001b[90m@ ChaosTools C:\\Users\\Alex\\.julia\\packages\\ChaosTools\\PHPDF\\src\\orbitdiagrams\\produce_orbitdiagram.jl:75\u001b[39m\n"
     ]
    },
    {
     "name": "stdout",
     "output_type": "stream",
     "text": [
      "parameter = -0.0967754"
     ]
    },
    {
     "name": "stderr",
     "output_type": "stream",
     "text": [
      "\u001b[33m\u001b[1m┌ \u001b[22m\u001b[39m\u001b[33m\u001b[1mWarning: \u001b[22m\u001b[39mFor parameter -0.0967752 The Poincaré surface of section did not have any points!\n",
      "\u001b[33m\u001b[1m└ \u001b[22m\u001b[39m\u001b[90m@ ChaosTools C:\\Users\\Alex\\.julia\\packages\\ChaosTools\\PHPDF\\src\\orbitdiagrams\\produce_orbitdiagram.jl:75\u001b[39m\n"
     ]
    },
    {
     "name": "stdout",
     "output_type": "stream",
     "text": [
      "\n",
      "parameter = -0.0967756"
     ]
    },
    {
     "name": "stderr",
     "output_type": "stream",
     "text": [
      "\u001b[33m\u001b[1m┌ \u001b[22m\u001b[39m\u001b[33m\u001b[1mWarning: \u001b[22m\u001b[39mFor parameter -0.0967754 The Poincaré surface of section did not have any points!\n",
      "\u001b[33m\u001b[1m└ \u001b[22m\u001b[39m\u001b[90m@ ChaosTools C:\\Users\\Alex\\.julia\\packages\\ChaosTools\\PHPDF\\src\\orbitdiagrams\\produce_orbitdiagram.jl:75\u001b[39m\n"
     ]
    },
    {
     "name": "stdout",
     "output_type": "stream",
     "text": [
      "\n",
      "parameter = -0.0967758"
     ]
    },
    {
     "name": "stderr",
     "output_type": "stream",
     "text": [
      "\u001b[33m\u001b[1m┌ \u001b[22m\u001b[39m\u001b[33m\u001b[1mWarning: \u001b[22m\u001b[39mFor parameter -0.0967756 The Poincaré surface of section did not have any points!\n",
      "\u001b[33m\u001b[1m└ \u001b[22m\u001b[39m\u001b[90m@ ChaosTools C:\\Users\\Alex\\.julia\\packages\\ChaosTools\\PHPDF\\src\\orbitdiagrams\\produce_orbitdiagram.jl:75\u001b[39m\n"
     ]
    },
    {
     "name": "stdout",
     "output_type": "stream",
     "text": [
      "\n",
      "parameter = -0.096776\n"
     ]
    },
    {
     "name": "stderr",
     "output_type": "stream",
     "text": [
      "\u001b[33m\u001b[1m┌ \u001b[22m\u001b[39m\u001b[33m\u001b[1mWarning: \u001b[22m\u001b[39mFor parameter -0.0967758 The Poincaré surface of section did not have any points!\n",
      "\u001b[33m\u001b[1m└ \u001b[22m\u001b[39m\u001b[90m@ ChaosTools C:\\Users\\Alex\\.julia\\packages\\ChaosTools\\PHPDF\\src\\orbitdiagrams\\produce_orbitdiagram.jl:75\u001b[39m\n"
     ]
    },
    {
     "name": "stdout",
     "output_type": "stream",
     "text": [
      "parameter = -0.0967762"
     ]
    },
    {
     "name": "stderr",
     "output_type": "stream",
     "text": [
      "\u001b[33m\u001b[1m┌ \u001b[22m\u001b[39m\u001b[33m\u001b[1mWarning: \u001b[22m\u001b[39mFor parameter -0.096776 The Poincaré surface of section did not have any points!\n",
      "\u001b[33m\u001b[1m└ \u001b[22m\u001b[39m\u001b[90m@ ChaosTools C:\\Users\\Alex\\.julia\\packages\\ChaosTools\\PHPDF\\src\\orbitdiagrams\\produce_orbitdiagram.jl:75\u001b[39m\n"
     ]
    },
    {
     "name": "stdout",
     "output_type": "stream",
     "text": [
      "\n",
      "parameter = -0.0967764"
     ]
    },
    {
     "name": "stderr",
     "output_type": "stream",
     "text": [
      "\u001b[33m\u001b[1m┌ \u001b[22m\u001b[39m\u001b[33m\u001b[1mWarning: \u001b[22m\u001b[39mFor parameter -0.0967762 The Poincaré surface of section did not have any points!\n",
      "\u001b[33m\u001b[1m└ \u001b[22m\u001b[39m\u001b[90m@ ChaosTools C:\\Users\\Alex\\.julia\\packages\\ChaosTools\\PHPDF\\src\\orbitdiagrams\\produce_orbitdiagram.jl:75\u001b[39m\n"
     ]
    },
    {
     "name": "stdout",
     "output_type": "stream",
     "text": [
      "\n",
      "parameter = -0.0967766"
     ]
    },
    {
     "name": "stderr",
     "output_type": "stream",
     "text": [
      "\u001b[33m\u001b[1m┌ \u001b[22m\u001b[39m\u001b[33m\u001b[1mWarning: \u001b[22m\u001b[39mFor parameter -0.0967764 The Poincaré surface of section did not have any points!\n",
      "\u001b[33m\u001b[1m└ \u001b[22m\u001b[39m\u001b[90m@ ChaosTools C:\\Users\\Alex\\.julia\\packages\\ChaosTools\\PHPDF\\src\\orbitdiagrams\\produce_orbitdiagram.jl:75\u001b[39m\n"
     ]
    },
    {
     "name": "stdout",
     "output_type": "stream",
     "text": [
      "\n",
      "parameter = -0.0967768"
     ]
    },
    {
     "name": "stderr",
     "output_type": "stream",
     "text": [
      "\u001b[33m\u001b[1m┌ \u001b[22m\u001b[39m\u001b[33m\u001b[1mWarning: \u001b[22m\u001b[39mFor parameter -0.0967766 The Poincaré surface of section did not have any points!\n",
      "\u001b[33m\u001b[1m└ \u001b[22m\u001b[39m\u001b[90m@ ChaosTools C:\\Users\\Alex\\.julia\\packages\\ChaosTools\\PHPDF\\src\\orbitdiagrams\\produce_orbitdiagram.jl:75\u001b[39m\n"
     ]
    },
    {
     "name": "stdout",
     "output_type": "stream",
     "text": [
      "\n",
      "parameter = -0.096777"
     ]
    },
    {
     "name": "stderr",
     "output_type": "stream",
     "text": [
      "\u001b[33m\u001b[1m┌ \u001b[22m\u001b[39m\u001b[33m\u001b[1mWarning: \u001b[22m\u001b[39mFor parameter -0.0967768 The Poincaré surface of section did not have any points!\n",
      "\u001b[33m\u001b[1m└ \u001b[22m\u001b[39m\u001b[90m@ ChaosTools C:\\Users\\Alex\\.julia\\packages\\ChaosTools\\PHPDF\\src\\orbitdiagrams\\produce_orbitdiagram.jl:75\u001b[39m\n"
     ]
    },
    {
     "name": "stdout",
     "output_type": "stream",
     "text": [
      "\n",
      "parameter = -0.0967772\n"
     ]
    },
    {
     "name": "stderr",
     "output_type": "stream",
     "text": [
      "\u001b[33m\u001b[1m┌ \u001b[22m\u001b[39m\u001b[33m\u001b[1mWarning: \u001b[22m\u001b[39mFor parameter -0.096777 The Poincaré surface of section did not have any points!\n",
      "\u001b[33m\u001b[1m└ \u001b[22m\u001b[39m\u001b[90m@ ChaosTools C:\\Users\\Alex\\.julia\\packages\\ChaosTools\\PHPDF\\src\\orbitdiagrams\\produce_orbitdiagram.jl:75\u001b[39m\n"
     ]
    },
    {
     "name": "stdout",
     "output_type": "stream",
     "text": [
      "parameter = -0.0967774"
     ]
    },
    {
     "name": "stderr",
     "output_type": "stream",
     "text": [
      "\u001b[33m\u001b[1m┌ \u001b[22m\u001b[39m\u001b[33m\u001b[1mWarning: \u001b[22m\u001b[39mFor parameter -0.0967772 The Poincaré surface of section did not have any points!\n",
      "\u001b[33m\u001b[1m└ \u001b[22m\u001b[39m\u001b[90m@ ChaosTools C:\\Users\\Alex\\.julia\\packages\\ChaosTools\\PHPDF\\src\\orbitdiagrams\\produce_orbitdiagram.jl:75\u001b[39m\n"
     ]
    },
    {
     "name": "stdout",
     "output_type": "stream",
     "text": [
      "\n",
      "parameter = -0.0967776"
     ]
    },
    {
     "name": "stderr",
     "output_type": "stream",
     "text": [
      "\u001b[33m\u001b[1m┌ \u001b[22m\u001b[39m\u001b[33m\u001b[1mWarning: \u001b[22m\u001b[39mFor parameter -0.0967774 The Poincaré surface of section did not have any points!\n",
      "\u001b[33m\u001b[1m└ \u001b[22m\u001b[39m\u001b[90m@ ChaosTools C:\\Users\\Alex\\.julia\\packages\\ChaosTools\\PHPDF\\src\\orbitdiagrams\\produce_orbitdiagram.jl:75\u001b[39m\n"
     ]
    },
    {
     "name": "stdout",
     "output_type": "stream",
     "text": [
      "\n",
      "parameter = -0.0967778\n"
     ]
    },
    {
     "name": "stderr",
     "output_type": "stream",
     "text": [
      "\u001b[33m\u001b[1m┌ \u001b[22m\u001b[39m\u001b[33m\u001b[1mWarning: \u001b[22m\u001b[39mFor parameter -0.0967776 The Poincaré surface of section did not have any points!\n",
      "\u001b[33m\u001b[1m└ \u001b[22m\u001b[39m\u001b[90m@ ChaosTools C:\\Users\\Alex\\.julia\\packages\\ChaosTools\\PHPDF\\src\\orbitdiagrams\\produce_orbitdiagram.jl:75\u001b[39m\n"
     ]
    },
    {
     "name": "stdout",
     "output_type": "stream",
     "text": [
      "parameter = -0.096778"
     ]
    },
    {
     "name": "stderr",
     "output_type": "stream",
     "text": [
      "\u001b[33m\u001b[1m┌ \u001b[22m\u001b[39m\u001b[33m\u001b[1mWarning: \u001b[22m\u001b[39mFor parameter -0.0967778 The Poincaré surface of section did not have any points!\n",
      "\u001b[33m\u001b[1m└ \u001b[22m\u001b[39m\u001b[90m@ ChaosTools C:\\Users\\Alex\\.julia\\packages\\ChaosTools\\PHPDF\\src\\orbitdiagrams\\produce_orbitdiagram.jl:75\u001b[39m\n"
     ]
    },
    {
     "name": "stdout",
     "output_type": "stream",
     "text": [
      "\n",
      "parameter = -0.0967782\n"
     ]
    },
    {
     "name": "stderr",
     "output_type": "stream",
     "text": [
      "\u001b[33m\u001b[1m┌ \u001b[22m\u001b[39m\u001b[33m\u001b[1mWarning: \u001b[22m\u001b[39mFor parameter -0.096778 The Poincaré surface of section did not have any points!\n",
      "\u001b[33m\u001b[1m└ \u001b[22m\u001b[39m\u001b[90m@ ChaosTools C:\\Users\\Alex\\.julia\\packages\\ChaosTools\\PHPDF\\src\\orbitdiagrams\\produce_orbitdiagram.jl:75\u001b[39m\n"
     ]
    },
    {
     "name": "stdout",
     "output_type": "stream",
     "text": [
      "parameter = -0.0967784"
     ]
    },
    {
     "name": "stderr",
     "output_type": "stream",
     "text": [
      "\u001b[33m\u001b[1m┌ \u001b[22m\u001b[39m\u001b[33m\u001b[1mWarning: \u001b[22m\u001b[39mFor parameter -0.0967782 The Poincaré surface of section did not have any points!\n",
      "\u001b[33m\u001b[1m└ \u001b[22m\u001b[39m\u001b[90m@ ChaosTools C:\\Users\\Alex\\.julia\\packages\\ChaosTools\\PHPDF\\src\\orbitdiagrams\\produce_orbitdiagram.jl:75\u001b[39m\n"
     ]
    },
    {
     "name": "stdout",
     "output_type": "stream",
     "text": [
      "\n",
      "parameter = -0.0967786\n"
     ]
    },
    {
     "name": "stderr",
     "output_type": "stream",
     "text": [
      "\u001b[33m\u001b[1m┌ \u001b[22m\u001b[39m\u001b[33m\u001b[1mWarning: \u001b[22m\u001b[39mFor parameter -0.0967784 The Poincaré surface of section did not have any points!\n",
      "\u001b[33m\u001b[1m└ \u001b[22m\u001b[39m\u001b[90m@ ChaosTools C:\\Users\\Alex\\.julia\\packages\\ChaosTools\\PHPDF\\src\\orbitdiagrams\\produce_orbitdiagram.jl:75\u001b[39m\n"
     ]
    },
    {
     "name": "stdout",
     "output_type": "stream",
     "text": [
      "parameter = -0.0967788\n"
     ]
    },
    {
     "name": "stderr",
     "output_type": "stream",
     "text": [
      "\u001b[33m\u001b[1m┌ \u001b[22m\u001b[39m\u001b[33m\u001b[1mWarning: \u001b[22m\u001b[39mFor parameter -0.0967786 The Poincaré surface of section did not have any points!\n",
      "\u001b[33m\u001b[1m└ \u001b[22m\u001b[39m\u001b[90m@ ChaosTools C:\\Users\\Alex\\.julia\\packages\\ChaosTools\\PHPDF\\src\\orbitdiagrams\\produce_orbitdiagram.jl:75\u001b[39m\n"
     ]
    },
    {
     "name": "stdout",
     "output_type": "stream",
     "text": [
      "parameter = -0.096779\n"
     ]
    },
    {
     "name": "stderr",
     "output_type": "stream",
     "text": [
      "\u001b[33m\u001b[1m┌ \u001b[22m\u001b[39m\u001b[33m\u001b[1mWarning: \u001b[22m\u001b[39mFor parameter -0.0967788 The Poincaré surface of section did not have any points!\n",
      "\u001b[33m\u001b[1m└ \u001b[22m\u001b[39m\u001b[90m@ ChaosTools C:\\Users\\Alex\\.julia\\packages\\ChaosTools\\PHPDF\\src\\orbitdiagrams\\produce_orbitdiagram.jl:75\u001b[39m\n"
     ]
    },
    {
     "name": "stdout",
     "output_type": "stream",
     "text": [
      "parameter = -0.0967792"
     ]
    },
    {
     "name": "stderr",
     "output_type": "stream",
     "text": [
      "\u001b[33m\u001b[1m┌ \u001b[22m\u001b[39m\u001b[33m\u001b[1mWarning: \u001b[22m\u001b[39mFor parameter -0.096779 The Poincaré surface of section did not have any points!\n",
      "\u001b[33m\u001b[1m└ \u001b[22m\u001b[39m\u001b[90m@ ChaosTools C:\\Users\\Alex\\.julia\\packages\\ChaosTools\\PHPDF\\src\\orbitdiagrams\\produce_orbitdiagram.jl:75\u001b[39m\n"
     ]
    },
    {
     "name": "stdout",
     "output_type": "stream",
     "text": [
      "\n",
      "parameter = -0.0967794"
     ]
    },
    {
     "name": "stderr",
     "output_type": "stream",
     "text": [
      "\u001b[33m\u001b[1m┌ \u001b[22m\u001b[39m\u001b[33m\u001b[1mWarning: \u001b[22m\u001b[39mFor parameter -0.0967792 The Poincaré surface of section did not have any points!\n",
      "\u001b[33m\u001b[1m└ \u001b[22m\u001b[39m\u001b[90m@ ChaosTools C:\\Users\\Alex\\.julia\\packages\\ChaosTools\\PHPDF\\src\\orbitdiagrams\\produce_orbitdiagram.jl:75\u001b[39m\n"
     ]
    },
    {
     "name": "stdout",
     "output_type": "stream",
     "text": [
      "\n",
      "parameter = -0.0967796"
     ]
    },
    {
     "name": "stderr",
     "output_type": "stream",
     "text": [
      "\u001b[33m\u001b[1m┌ \u001b[22m\u001b[39m\u001b[33m\u001b[1mWarning: \u001b[22m\u001b[39mFor parameter -0.0967794 The Poincaré surface of section did not have any points!\n",
      "\u001b[33m\u001b[1m└ \u001b[22m\u001b[39m\u001b[90m@ ChaosTools C:\\Users\\Alex\\.julia\\packages\\ChaosTools\\PHPDF\\src\\orbitdiagrams\\produce_orbitdiagram.jl:75\u001b[39m\n"
     ]
    },
    {
     "name": "stdout",
     "output_type": "stream",
     "text": [
      "\n",
      "parameter = -0.0967798"
     ]
    },
    {
     "name": "stderr",
     "output_type": "stream",
     "text": [
      "\u001b[33m\u001b[1m┌ \u001b[22m\u001b[39m\u001b[33m\u001b[1mWarning: \u001b[22m\u001b[39mFor parameter -0.0967796 The Poincaré surface of section did not have any points!\n",
      "\u001b[33m\u001b[1m└ \u001b[22m\u001b[39m\u001b[90m@ ChaosTools C:\\Users\\Alex\\.julia\\packages\\ChaosTools\\PHPDF\\src\\orbitdiagrams\\produce_orbitdiagram.jl:75\u001b[39m\n"
     ]
    },
    {
     "name": "stdout",
     "output_type": "stream",
     "text": [
      "\n",
      "parameter = -0.09678"
     ]
    },
    {
     "name": "stderr",
     "output_type": "stream",
     "text": [
      "\u001b[33m\u001b[1m┌ \u001b[22m\u001b[39m\u001b[33m\u001b[1mWarning: \u001b[22m\u001b[39mFor parameter -0.0967798 The Poincaré surface of section did not have any points!\n",
      "\u001b[33m\u001b[1m└ \u001b[22m\u001b[39m\u001b[90m@ ChaosTools C:\\Users\\Alex\\.julia\\packages\\ChaosTools\\PHPDF\\src\\orbitdiagrams\\produce_orbitdiagram.jl:75\u001b[39m\n"
     ]
    },
    {
     "name": "stdout",
     "output_type": "stream",
     "text": [
      "\n",
      "parameter = -0.0967802"
     ]
    },
    {
     "name": "stderr",
     "output_type": "stream",
     "text": [
      "\u001b[33m\u001b[1m┌ \u001b[22m\u001b[39m\u001b[33m\u001b[1mWarning: \u001b[22m\u001b[39mFor parameter -0.09678 The Poincaré surface of section did not have any points!\n",
      "\u001b[33m\u001b[1m└ \u001b[22m\u001b[39m\u001b[90m@ ChaosTools C:\\Users\\Alex\\.julia\\packages\\ChaosTools\\PHPDF\\src\\orbitdiagrams\\produce_orbitdiagram.jl:75\u001b[39m\n"
     ]
    },
    {
     "name": "stdout",
     "output_type": "stream",
     "text": [
      "\n",
      "parameter = -0.0967804\n"
     ]
    },
    {
     "name": "stderr",
     "output_type": "stream",
     "text": [
      "\u001b[33m\u001b[1m┌ \u001b[22m\u001b[39m\u001b[33m\u001b[1mWarning: \u001b[22m\u001b[39mFor parameter -0.0967802 The Poincaré surface of section did not have any points!\n",
      "\u001b[33m\u001b[1m└ \u001b[22m\u001b[39m\u001b[90m@ ChaosTools C:\\Users\\Alex\\.julia\\packages\\ChaosTools\\PHPDF\\src\\orbitdiagrams\\produce_orbitdiagram.jl:75\u001b[39m\n"
     ]
    },
    {
     "name": "stdout",
     "output_type": "stream",
     "text": [
      "parameter = -0.0967806"
     ]
    },
    {
     "name": "stderr",
     "output_type": "stream",
     "text": [
      "\u001b[33m\u001b[1m┌ \u001b[22m\u001b[39m\u001b[33m\u001b[1mWarning: \u001b[22m\u001b[39mFor parameter -0.0967804 The Poincaré surface of section did not have any points!\n",
      "\u001b[33m\u001b[1m└ \u001b[22m\u001b[39m\u001b[90m@ ChaosTools C:\\Users\\Alex\\.julia\\packages\\ChaosTools\\PHPDF\\src\\orbitdiagrams\\produce_orbitdiagram.jl:75\u001b[39m\n"
     ]
    },
    {
     "name": "stdout",
     "output_type": "stream",
     "text": [
      "\n",
      "parameter = -0.0967808\n"
     ]
    },
    {
     "name": "stderr",
     "output_type": "stream",
     "text": [
      "\u001b[33m\u001b[1m┌ \u001b[22m\u001b[39m\u001b[33m\u001b[1mWarning: \u001b[22m\u001b[39mFor parameter -0.0967806 The Poincaré surface of section did not have any points!\n",
      "\u001b[33m\u001b[1m└ \u001b[22m\u001b[39m\u001b[90m@ ChaosTools C:\\Users\\Alex\\.julia\\packages\\ChaosTools\\PHPDF\\src\\orbitdiagrams\\produce_orbitdiagram.jl:75\u001b[39m\n"
     ]
    },
    {
     "name": "stdout",
     "output_type": "stream",
     "text": [
      "parameter = -0.096781\n"
     ]
    },
    {
     "name": "stderr",
     "output_type": "stream",
     "text": [
      "\u001b[33m\u001b[1m┌ \u001b[22m\u001b[39m\u001b[33m\u001b[1mWarning: \u001b[22m\u001b[39mFor parameter -0.0967808 The Poincaré surface of section did not have any points!\n",
      "\u001b[33m\u001b[1m└ \u001b[22m\u001b[39m\u001b[90m@ ChaosTools C:\\Users\\Alex\\.julia\\packages\\ChaosTools\\PHPDF\\src\\orbitdiagrams\\produce_orbitdiagram.jl:75\u001b[39m\n"
     ]
    },
    {
     "name": "stdout",
     "output_type": "stream",
     "text": [
      "parameter = -0.0967812"
     ]
    },
    {
     "name": "stderr",
     "output_type": "stream",
     "text": [
      "\u001b[33m\u001b[1m┌ \u001b[22m\u001b[39m\u001b[33m\u001b[1mWarning: \u001b[22m\u001b[39mFor parameter -0.096781 The Poincaré surface of section did not have any points!\n",
      "\u001b[33m\u001b[1m└ \u001b[22m\u001b[39m\u001b[90m@ ChaosTools C:\\Users\\Alex\\.julia\\packages\\ChaosTools\\PHPDF\\src\\orbitdiagrams\\produce_orbitdiagram.jl:75\u001b[39m\n"
     ]
    },
    {
     "name": "stdout",
     "output_type": "stream",
     "text": [
      "\n",
      "parameter = -0.0967814\n"
     ]
    },
    {
     "name": "stderr",
     "output_type": "stream",
     "text": [
      "\u001b[33m\u001b[1m┌ \u001b[22m\u001b[39m\u001b[33m\u001b[1mWarning: \u001b[22m\u001b[39mFor parameter -0.0967812 The Poincaré surface of section did not have any points!\n",
      "\u001b[33m\u001b[1m└ \u001b[22m\u001b[39m\u001b[90m@ ChaosTools C:\\Users\\Alex\\.julia\\packages\\ChaosTools\\PHPDF\\src\\orbitdiagrams\\produce_orbitdiagram.jl:75\u001b[39m\n"
     ]
    },
    {
     "name": "stdout",
     "output_type": "stream",
     "text": [
      "parameter = -0.0967816"
     ]
    },
    {
     "name": "stderr",
     "output_type": "stream",
     "text": [
      "\u001b[33m\u001b[1m┌ \u001b[22m\u001b[39m\u001b[33m\u001b[1mWarning: \u001b[22m\u001b[39mFor parameter -0.0967814 The Poincaré surface of section did not have any points!\n",
      "\u001b[33m\u001b[1m└ \u001b[22m\u001b[39m\u001b[90m@ ChaosTools C:\\Users\\Alex\\.julia\\packages\\ChaosTools\\PHPDF\\src\\orbitdiagrams\\produce_orbitdiagram.jl:75\u001b[39m\n"
     ]
    },
    {
     "name": "stdout",
     "output_type": "stream",
     "text": [
      "\n",
      "parameter = -0.0967818\n"
     ]
    },
    {
     "name": "stderr",
     "output_type": "stream",
     "text": [
      "\u001b[33m\u001b[1m┌ \u001b[22m\u001b[39m\u001b[33m\u001b[1mWarning: \u001b[22m\u001b[39mFor parameter -0.0967816 The Poincaré surface of section did not have any points!\n",
      "\u001b[33m\u001b[1m└ \u001b[22m\u001b[39m\u001b[90m@ ChaosTools C:\\Users\\Alex\\.julia\\packages\\ChaosTools\\PHPDF\\src\\orbitdiagrams\\produce_orbitdiagram.jl:75\u001b[39m\n"
     ]
    },
    {
     "name": "stdout",
     "output_type": "stream",
     "text": [
      "parameter = -0.096782"
     ]
    },
    {
     "name": "stderr",
     "output_type": "stream",
     "text": [
      "\u001b[33m\u001b[1m┌ \u001b[22m\u001b[39m\u001b[33m\u001b[1mWarning: \u001b[22m\u001b[39mFor parameter -0.0967818 The Poincaré surface of section did not have any points!\n",
      "\u001b[33m\u001b[1m└ \u001b[22m\u001b[39m\u001b[90m@ ChaosTools C:\\Users\\Alex\\.julia\\packages\\ChaosTools\\PHPDF\\src\\orbitdiagrams\\produce_orbitdiagram.jl:75\u001b[39m\n"
     ]
    },
    {
     "name": "stdout",
     "output_type": "stream",
     "text": [
      "\n",
      "parameter = -0.0967822\n"
     ]
    },
    {
     "name": "stderr",
     "output_type": "stream",
     "text": [
      "\u001b[33m\u001b[1m┌ \u001b[22m\u001b[39m\u001b[33m\u001b[1mWarning: \u001b[22m\u001b[39mFor parameter -0.096782 The Poincaré surface of section did not have any points!\n",
      "\u001b[33m\u001b[1m└ \u001b[22m\u001b[39m\u001b[90m@ ChaosTools C:\\Users\\Alex\\.julia\\packages\\ChaosTools\\PHPDF\\src\\orbitdiagrams\\produce_orbitdiagram.jl:75\u001b[39m\n"
     ]
    },
    {
     "name": "stdout",
     "output_type": "stream",
     "text": [
      "parameter = -0.0967824"
     ]
    },
    {
     "name": "stderr",
     "output_type": "stream",
     "text": [
      "\u001b[33m\u001b[1m┌ \u001b[22m\u001b[39m\u001b[33m\u001b[1mWarning: \u001b[22m\u001b[39mFor parameter -0.0967822 The Poincaré surface of section did not have any points!\n",
      "\u001b[33m\u001b[1m└ \u001b[22m\u001b[39m\u001b[90m@ ChaosTools C:\\Users\\Alex\\.julia\\packages\\ChaosTools\\PHPDF\\src\\orbitdiagrams\\produce_orbitdiagram.jl:75\u001b[39m\n"
     ]
    },
    {
     "name": "stdout",
     "output_type": "stream",
     "text": [
      "\n",
      "parameter = -0.0967826"
     ]
    },
    {
     "name": "stderr",
     "output_type": "stream",
     "text": [
      "\u001b[33m\u001b[1m┌ \u001b[22m\u001b[39m\u001b[33m\u001b[1mWarning: \u001b[22m\u001b[39mFor parameter -0.0967824 The Poincaré surface of section did not have any points!\n",
      "\u001b[33m\u001b[1m└ \u001b[22m\u001b[39m\u001b[90m@ ChaosTools C:\\Users\\Alex\\.julia\\packages\\ChaosTools\\PHPDF\\src\\orbitdiagrams\\produce_orbitdiagram.jl:75\u001b[39m\n"
     ]
    },
    {
     "name": "stdout",
     "output_type": "stream",
     "text": [
      "\n"
     ]
    },
    {
     "name": "stderr",
     "output_type": "stream",
     "text": [
      "\u001b[33m\u001b[1m┌ \u001b[22m\u001b[39m\u001b[33m\u001b[1mWarning: \u001b[22m\u001b[39mFor parameter -0.0967826 The Poincaré surface of section did not have any points!\n",
      "\u001b[33m\u001b[1m└ \u001b[22m\u001b[39m\u001b[90m@ ChaosTools C:\\Users\\Alex\\.julia\\packages\\ChaosTools\\PHPDF\\src\\orbitdiagrams\\produce_orbitdiagram.jl:75\u001b[39m\n"
     ]
    },
    {
     "name": "stdout",
     "output_type": "stream",
     "text": [
      "parameter = -0.0967828\n",
      "parameter = -0.096783\n"
     ]
    },
    {
     "name": "stderr",
     "output_type": "stream",
     "text": [
      "\u001b[33m\u001b[1m┌ \u001b[22m\u001b[39m\u001b[33m\u001b[1mWarning: \u001b[22m\u001b[39mFor parameter -0.0967828 The Poincaré surface of section did not have any points!\n",
      "\u001b[33m\u001b[1m└ \u001b[22m\u001b[39m\u001b[90m@ ChaosTools C:\\Users\\Alex\\.julia\\packages\\ChaosTools\\PHPDF\\src\\orbitdiagrams\\produce_orbitdiagram.jl:75\u001b[39m\n"
     ]
    },
    {
     "name": "stdout",
     "output_type": "stream",
     "text": [
      "parameter = -0.0967832\n"
     ]
    },
    {
     "name": "stderr",
     "output_type": "stream",
     "text": [
      "\u001b[33m\u001b[1m┌ \u001b[22m\u001b[39m\u001b[33m\u001b[1mWarning: \u001b[22m\u001b[39mFor parameter -0.096783 The Poincaré surface of section did not have any points!\n",
      "\u001b[33m\u001b[1m└ \u001b[22m\u001b[39m\u001b[90m@ ChaosTools C:\\Users\\Alex\\.julia\\packages\\ChaosTools\\PHPDF\\src\\orbitdiagrams\\produce_orbitdiagram.jl:75\u001b[39m\n"
     ]
    },
    {
     "name": "stdout",
     "output_type": "stream",
     "text": [
      "parameter = -0.0967834\n"
     ]
    },
    {
     "name": "stderr",
     "output_type": "stream",
     "text": [
      "\u001b[33m\u001b[1m┌ \u001b[22m\u001b[39m\u001b[33m\u001b[1mWarning: \u001b[22m\u001b[39mFor parameter -0.0967832 The Poincaré surface of section did not have any points!\n",
      "\u001b[33m\u001b[1m└ \u001b[22m\u001b[39m\u001b[90m@ ChaosTools C:\\Users\\Alex\\.julia\\packages\\ChaosTools\\PHPDF\\src\\orbitdiagrams\\produce_orbitdiagram.jl:75\u001b[39m\n"
     ]
    },
    {
     "name": "stdout",
     "output_type": "stream",
     "text": [
      "parameter = -0.0967836"
     ]
    },
    {
     "name": "stderr",
     "output_type": "stream",
     "text": [
      "\u001b[33m\u001b[1m┌ \u001b[22m\u001b[39m\u001b[33m\u001b[1mWarning: \u001b[22m\u001b[39mFor parameter -0.0967834 The Poincaré surface of section did not have any points!\n",
      "\u001b[33m\u001b[1m└ \u001b[22m\u001b[39m\u001b[90m@ ChaosTools C:\\Users\\Alex\\.julia\\packages\\ChaosTools\\PHPDF\\src\\orbitdiagrams\\produce_orbitdiagram.jl:75\u001b[39m\n"
     ]
    },
    {
     "name": "stdout",
     "output_type": "stream",
     "text": [
      "\n",
      "parameter = -0.0967838"
     ]
    },
    {
     "name": "stderr",
     "output_type": "stream",
     "text": [
      "\u001b[33m\u001b[1m┌ \u001b[22m\u001b[39m\u001b[33m\u001b[1mWarning: \u001b[22m\u001b[39mFor parameter -0.0967836 The Poincaré surface of section did not have any points!\n",
      "\u001b[33m\u001b[1m└ \u001b[22m\u001b[39m\u001b[90m@ ChaosTools C:\\Users\\Alex\\.julia\\packages\\ChaosTools\\PHPDF\\src\\orbitdiagrams\\produce_orbitdiagram.jl:75\u001b[39m\n"
     ]
    },
    {
     "name": "stdout",
     "output_type": "stream",
     "text": [
      "\n",
      "parameter = -0.096784"
     ]
    },
    {
     "name": "stderr",
     "output_type": "stream",
     "text": [
      "\u001b[33m\u001b[1m┌ \u001b[22m\u001b[39m\u001b[33m\u001b[1mWarning: \u001b[22m\u001b[39mFor parameter -0.0967838 The Poincaré surface of section did not have any points!\n",
      "\u001b[33m\u001b[1m└ \u001b[22m\u001b[39m\u001b[90m@ ChaosTools C:\\Users\\Alex\\.julia\\packages\\ChaosTools\\PHPDF\\src\\orbitdiagrams\\produce_orbitdiagram.jl:75\u001b[39m\n"
     ]
    },
    {
     "name": "stdout",
     "output_type": "stream",
     "text": [
      "\n",
      "parameter = -0.0967842\n"
     ]
    },
    {
     "name": "stderr",
     "output_type": "stream",
     "text": [
      "\u001b[33m\u001b[1m┌ \u001b[22m\u001b[39m\u001b[33m\u001b[1mWarning: \u001b[22m\u001b[39mFor parameter -0.096784 The Poincaré surface of section did not have any points!\n",
      "\u001b[33m\u001b[1m└ \u001b[22m\u001b[39m\u001b[90m@ ChaosTools C:\\Users\\Alex\\.julia\\packages\\ChaosTools\\PHPDF\\src\\orbitdiagrams\\produce_orbitdiagram.jl:75\u001b[39m\n"
     ]
    },
    {
     "name": "stdout",
     "output_type": "stream",
     "text": [
      "parameter = -0.0967844"
     ]
    },
    {
     "name": "stderr",
     "output_type": "stream",
     "text": [
      "\u001b[33m\u001b[1m┌ \u001b[22m\u001b[39m\u001b[33m\u001b[1mWarning: \u001b[22m\u001b[39mFor parameter -0.0967842 The Poincaré surface of section did not have any points!\n",
      "\u001b[33m\u001b[1m└ \u001b[22m\u001b[39m\u001b[90m@ ChaosTools C:\\Users\\Alex\\.julia\\packages\\ChaosTools\\PHPDF\\src\\orbitdiagrams\\produce_orbitdiagram.jl:75\u001b[39m\n"
     ]
    },
    {
     "name": "stdout",
     "output_type": "stream",
     "text": [
      "\n",
      "parameter = -0.0967846"
     ]
    },
    {
     "name": "stderr",
     "output_type": "stream",
     "text": [
      "\u001b[33m\u001b[1m┌ \u001b[22m\u001b[39m\u001b[33m\u001b[1mWarning: \u001b[22m\u001b[39mFor parameter -0.0967844 The Poincaré surface of section did not have any points!\n",
      "\u001b[33m\u001b[1m└ \u001b[22m\u001b[39m\u001b[90m@ ChaosTools C:\\Users\\Alex\\.julia\\packages\\ChaosTools\\PHPDF\\src\\orbitdiagrams\\produce_orbitdiagram.jl:75\u001b[39m\n"
     ]
    },
    {
     "name": "stdout",
     "output_type": "stream",
     "text": [
      "\n",
      "parameter = -0.0967848"
     ]
    },
    {
     "name": "stderr",
     "output_type": "stream",
     "text": [
      "\u001b[33m\u001b[1m┌ \u001b[22m\u001b[39m\u001b[33m\u001b[1mWarning: \u001b[22m\u001b[39mFor parameter -0.0967846 The Poincaré surface of section did not have any points!\n",
      "\u001b[33m\u001b[1m└ \u001b[22m\u001b[39m\u001b[90m@ ChaosTools C:\\Users\\Alex\\.julia\\packages\\ChaosTools\\PHPDF\\src\\orbitdiagrams\\produce_orbitdiagram.jl:75\u001b[39m\n"
     ]
    },
    {
     "name": "stdout",
     "output_type": "stream",
     "text": [
      "\n",
      "parameter = -0.096785\n"
     ]
    },
    {
     "name": "stderr",
     "output_type": "stream",
     "text": [
      "\u001b[33m\u001b[1m┌ \u001b[22m\u001b[39m\u001b[33m\u001b[1mWarning: \u001b[22m\u001b[39mFor parameter -0.0967848 The Poincaré surface of section did not have any points!\n",
      "\u001b[33m\u001b[1m└ \u001b[22m\u001b[39m\u001b[90m@ ChaosTools C:\\Users\\Alex\\.julia\\packages\\ChaosTools\\PHPDF\\src\\orbitdiagrams\\produce_orbitdiagram.jl:75\u001b[39m\n"
     ]
    },
    {
     "name": "stdout",
     "output_type": "stream",
     "text": [
      "parameter = -0.0967852"
     ]
    },
    {
     "name": "stderr",
     "output_type": "stream",
     "text": [
      "\u001b[33m\u001b[1m┌ \u001b[22m\u001b[39m\u001b[33m\u001b[1mWarning: \u001b[22m\u001b[39mFor parameter -0.096785 The Poincaré surface of section did not have any points!\n",
      "\u001b[33m\u001b[1m└ \u001b[22m\u001b[39m\u001b[90m@ ChaosTools C:\\Users\\Alex\\.julia\\packages\\ChaosTools\\PHPDF\\src\\orbitdiagrams\\produce_orbitdiagram.jl:75\u001b[39m\n"
     ]
    },
    {
     "name": "stdout",
     "output_type": "stream",
     "text": [
      "\n",
      "parameter = -0.0967854\n"
     ]
    },
    {
     "name": "stderr",
     "output_type": "stream",
     "text": [
      "\u001b[33m\u001b[1m┌ \u001b[22m\u001b[39m\u001b[33m\u001b[1mWarning: \u001b[22m\u001b[39mFor parameter -0.0967852 The Poincaré surface of section did not have any points!\n",
      "\u001b[33m\u001b[1m└ \u001b[22m\u001b[39m\u001b[90m@ ChaosTools C:\\Users\\Alex\\.julia\\packages\\ChaosTools\\PHPDF\\src\\orbitdiagrams\\produce_orbitdiagram.jl:75\u001b[39m\n"
     ]
    },
    {
     "name": "stdout",
     "output_type": "stream",
     "text": [
      "parameter = -0.0967856"
     ]
    },
    {
     "name": "stderr",
     "output_type": "stream",
     "text": [
      "\u001b[33m\u001b[1m┌ \u001b[22m\u001b[39m\u001b[33m\u001b[1mWarning: \u001b[22m\u001b[39mFor parameter -0.0967854 The Poincaré surface of section did not have any points!\n",
      "\u001b[33m\u001b[1m└ \u001b[22m\u001b[39m\u001b[90m@ ChaosTools C:\\Users\\Alex\\.julia\\packages\\ChaosTools\\PHPDF\\src\\orbitdiagrams\\produce_orbitdiagram.jl:75\u001b[39m\n"
     ]
    },
    {
     "name": "stdout",
     "output_type": "stream",
     "text": [
      "\n",
      "parameter = -0.0967858"
     ]
    },
    {
     "name": "stderr",
     "output_type": "stream",
     "text": [
      "\u001b[33m\u001b[1m┌ \u001b[22m\u001b[39m\u001b[33m\u001b[1mWarning: \u001b[22m\u001b[39mFor parameter -0.0967856 The Poincaré surface of section did not have any points!\n",
      "\u001b[33m\u001b[1m└ \u001b[22m\u001b[39m\u001b[90m@ ChaosTools C:\\Users\\Alex\\.julia\\packages\\ChaosTools\\PHPDF\\src\\orbitdiagrams\\produce_orbitdiagram.jl:75\u001b[39m\n"
     ]
    },
    {
     "name": "stdout",
     "output_type": "stream",
     "text": [
      "\n",
      "parameter = -0.096786"
     ]
    },
    {
     "name": "stderr",
     "output_type": "stream",
     "text": [
      "\u001b[33m\u001b[1m┌ \u001b[22m\u001b[39m\u001b[33m\u001b[1mWarning: \u001b[22m\u001b[39mFor parameter -0.0967858 The Poincaré surface of section did not have any points!\n",
      "\u001b[33m\u001b[1m└ \u001b[22m\u001b[39m\u001b[90m@ ChaosTools C:\\Users\\Alex\\.julia\\packages\\ChaosTools\\PHPDF\\src\\orbitdiagrams\\produce_orbitdiagram.jl:75\u001b[39m\n"
     ]
    },
    {
     "name": "stdout",
     "output_type": "stream",
     "text": [
      "\n",
      "parameter = -0.0967862\n"
     ]
    },
    {
     "name": "stderr",
     "output_type": "stream",
     "text": [
      "\u001b[33m\u001b[1m┌ \u001b[22m\u001b[39m\u001b[33m\u001b[1mWarning: \u001b[22m\u001b[39mFor parameter -0.096786 The Poincaré surface of section did not have any points!\n",
      "\u001b[33m\u001b[1m└ \u001b[22m\u001b[39m\u001b[90m@ ChaosTools C:\\Users\\Alex\\.julia\\packages\\ChaosTools\\PHPDF\\src\\orbitdiagrams\\produce_orbitdiagram.jl:75\u001b[39m\n"
     ]
    },
    {
     "name": "stdout",
     "output_type": "stream",
     "text": [
      "parameter = -0.0967864"
     ]
    },
    {
     "name": "stderr",
     "output_type": "stream",
     "text": [
      "\u001b[33m\u001b[1m┌ \u001b[22m\u001b[39m\u001b[33m\u001b[1mWarning: \u001b[22m\u001b[39mFor parameter -0.0967862 The Poincaré surface of section did not have any points!\n",
      "\u001b[33m\u001b[1m└ \u001b[22m\u001b[39m\u001b[90m@ ChaosTools C:\\Users\\Alex\\.julia\\packages\\ChaosTools\\PHPDF\\src\\orbitdiagrams\\produce_orbitdiagram.jl:75\u001b[39m\n"
     ]
    },
    {
     "name": "stdout",
     "output_type": "stream",
     "text": [
      "\n",
      "parameter = -0.0967866\n"
     ]
    },
    {
     "name": "stderr",
     "output_type": "stream",
     "text": [
      "\u001b[33m\u001b[1m┌ \u001b[22m\u001b[39m\u001b[33m\u001b[1mWarning: \u001b[22m\u001b[39mFor parameter -0.0967864 The Poincaré surface of section did not have any points!\n",
      "\u001b[33m\u001b[1m└ \u001b[22m\u001b[39m\u001b[90m@ ChaosTools C:\\Users\\Alex\\.julia\\packages\\ChaosTools\\PHPDF\\src\\orbitdiagrams\\produce_orbitdiagram.jl:75\u001b[39m\n",
      "\u001b[33m\u001b[1m┌ \u001b[22m\u001b[39m\u001b[33m\u001b[1mWarning: \u001b[22m\u001b[39mFor parameter -0.0967866 The Poincaré surface of section did not have any points!\n",
      "\u001b[33m\u001b[1m└ \u001b[22m\u001b[39m\u001b[90m@ ChaosTools C:\\Users\\Alex\\.julia\\packages\\ChaosTools\\PHPDF\\src\\orbitdiagrams\\produce_orbitdiagram.jl:75\u001b[39m\n"
     ]
    },
    {
     "name": "stdout",
     "output_type": "stream",
     "text": [
      "parameter = -0.0967868\n",
      "parameter = -0.096787\n"
     ]
    },
    {
     "name": "stderr",
     "output_type": "stream",
     "text": [
      "\u001b[33m\u001b[1m┌ \u001b[22m\u001b[39m\u001b[33m\u001b[1mWarning: \u001b[22m\u001b[39mFor parameter -0.0967868 The Poincaré surface of section did not have any points!\n",
      "\u001b[33m\u001b[1m└ \u001b[22m\u001b[39m\u001b[90m@ ChaosTools C:\\Users\\Alex\\.julia\\packages\\ChaosTools\\PHPDF\\src\\orbitdiagrams\\produce_orbitdiagram.jl:75\u001b[39m\n"
     ]
    },
    {
     "name": "stdout",
     "output_type": "stream",
     "text": [
      "parameter = -0.0967872\n"
     ]
    },
    {
     "name": "stderr",
     "output_type": "stream",
     "text": [
      "\u001b[33m\u001b[1m┌ \u001b[22m\u001b[39m\u001b[33m\u001b[1mWarning: \u001b[22m\u001b[39mFor parameter -0.096787 The Poincaré surface of section did not have any points!\n",
      "\u001b[33m\u001b[1m└ \u001b[22m\u001b[39m\u001b[90m@ ChaosTools C:\\Users\\Alex\\.julia\\packages\\ChaosTools\\PHPDF\\src\\orbitdiagrams\\produce_orbitdiagram.jl:75\u001b[39m\n"
     ]
    },
    {
     "name": "stdout",
     "output_type": "stream",
     "text": [
      "parameter = -0.0967874\n"
     ]
    },
    {
     "name": "stderr",
     "output_type": "stream",
     "text": [
      "\u001b[33m\u001b[1m┌ \u001b[22m\u001b[39m\u001b[33m\u001b[1mWarning: \u001b[22m\u001b[39mFor parameter -0.0967872 The Poincaré surface of section did not have any points!\n",
      "\u001b[33m\u001b[1m└ \u001b[22m\u001b[39m\u001b[90m@ ChaosTools C:\\Users\\Alex\\.julia\\packages\\ChaosTools\\PHPDF\\src\\orbitdiagrams\\produce_orbitdiagram.jl:75\u001b[39m\n"
     ]
    },
    {
     "name": "stdout",
     "output_type": "stream",
     "text": [
      "parameter = -0.0967876"
     ]
    },
    {
     "name": "stderr",
     "output_type": "stream",
     "text": [
      "\u001b[33m\u001b[1m┌ \u001b[22m\u001b[39m\u001b[33m\u001b[1mWarning: \u001b[22m\u001b[39mFor parameter -0.0967874 The Poincaré surface of section did not have any points!\n",
      "\u001b[33m\u001b[1m└ \u001b[22m\u001b[39m\u001b[90m@ ChaosTools C:\\Users\\Alex\\.julia\\packages\\ChaosTools\\PHPDF\\src\\orbitdiagrams\\produce_orbitdiagram.jl:75\u001b[39m\n"
     ]
    },
    {
     "name": "stdout",
     "output_type": "stream",
     "text": [
      "\n",
      "parameter = -0.0967878"
     ]
    },
    {
     "name": "stderr",
     "output_type": "stream",
     "text": [
      "\u001b[33m\u001b[1m┌ \u001b[22m\u001b[39m\u001b[33m\u001b[1mWarning: \u001b[22m\u001b[39mFor parameter -0.0967876 The Poincaré surface of section did not have any points!\n",
      "\u001b[33m\u001b[1m└ \u001b[22m\u001b[39m\u001b[90m@ ChaosTools C:\\Users\\Alex\\.julia\\packages\\ChaosTools\\PHPDF\\src\\orbitdiagrams\\produce_orbitdiagram.jl:75\u001b[39m\n"
     ]
    },
    {
     "name": "stdout",
     "output_type": "stream",
     "text": [
      "\n",
      "parameter = -0.096788\n"
     ]
    },
    {
     "name": "stderr",
     "output_type": "stream",
     "text": [
      "\u001b[33m\u001b[1m┌ \u001b[22m\u001b[39m\u001b[33m\u001b[1mWarning: \u001b[22m\u001b[39mFor parameter -0.0967878 The Poincaré surface of section did not have any points!\n",
      "\u001b[33m\u001b[1m└ \u001b[22m\u001b[39m\u001b[90m@ ChaosTools C:\\Users\\Alex\\.julia\\packages\\ChaosTools\\PHPDF\\src\\orbitdiagrams\\produce_orbitdiagram.jl:75\u001b[39m\n"
     ]
    },
    {
     "name": "stdout",
     "output_type": "stream",
     "text": [
      "parameter = -0.0967882"
     ]
    },
    {
     "name": "stderr",
     "output_type": "stream",
     "text": [
      "\u001b[33m\u001b[1m┌ \u001b[22m\u001b[39m\u001b[33m\u001b[1mWarning: \u001b[22m\u001b[39mFor parameter -0.096788 The Poincaré surface of section did not have any points!\n",
      "\u001b[33m\u001b[1m└ \u001b[22m\u001b[39m\u001b[90m@ ChaosTools C:\\Users\\Alex\\.julia\\packages\\ChaosTools\\PHPDF\\src\\orbitdiagrams\\produce_orbitdiagram.jl:75\u001b[39m\n"
     ]
    },
    {
     "name": "stdout",
     "output_type": "stream",
     "text": [
      "\n",
      "parameter = -0.0967884"
     ]
    },
    {
     "name": "stderr",
     "output_type": "stream",
     "text": [
      "\u001b[33m\u001b[1m┌ \u001b[22m\u001b[39m\u001b[33m\u001b[1mWarning: \u001b[22m\u001b[39mFor parameter -0.0967882 The Poincaré surface of section did not have any points!\n",
      "\u001b[33m\u001b[1m└ \u001b[22m\u001b[39m\u001b[90m@ ChaosTools C:\\Users\\Alex\\.julia\\packages\\ChaosTools\\PHPDF\\src\\orbitdiagrams\\produce_orbitdiagram.jl:75\u001b[39m\n"
     ]
    },
    {
     "name": "stdout",
     "output_type": "stream",
     "text": [
      "\n",
      "parameter = -0.0967886\n"
     ]
    },
    {
     "name": "stderr",
     "output_type": "stream",
     "text": [
      "\u001b[33m\u001b[1m┌ \u001b[22m\u001b[39m\u001b[33m\u001b[1mWarning: \u001b[22m\u001b[39mFor parameter -0.0967884 The Poincaré surface of section did not have any points!\n",
      "\u001b[33m\u001b[1m└ \u001b[22m\u001b[39m\u001b[90m@ ChaosTools C:\\Users\\Alex\\.julia\\packages\\ChaosTools\\PHPDF\\src\\orbitdiagrams\\produce_orbitdiagram.jl:75\u001b[39m\n"
     ]
    },
    {
     "name": "stdout",
     "output_type": "stream",
     "text": [
      "parameter = -0.0967888"
     ]
    },
    {
     "name": "stderr",
     "output_type": "stream",
     "text": [
      "\u001b[33m\u001b[1m┌ \u001b[22m\u001b[39m\u001b[33m\u001b[1mWarning: \u001b[22m\u001b[39mFor parameter -0.0967886 The Poincaré surface of section did not have any points!\n",
      "\u001b[33m\u001b[1m└ \u001b[22m\u001b[39m\u001b[90m@ ChaosTools C:\\Users\\Alex\\.julia\\packages\\ChaosTools\\PHPDF\\src\\orbitdiagrams\\produce_orbitdiagram.jl:75\u001b[39m\n"
     ]
    },
    {
     "name": "stdout",
     "output_type": "stream",
     "text": [
      "\n",
      "parameter = -0.096789\n"
     ]
    },
    {
     "name": "stderr",
     "output_type": "stream",
     "text": [
      "\u001b[33m\u001b[1m┌ \u001b[22m\u001b[39m\u001b[33m\u001b[1mWarning: \u001b[22m\u001b[39mFor parameter -0.0967888 The Poincaré surface of section did not have any points!\n",
      "\u001b[33m\u001b[1m└ \u001b[22m\u001b[39m\u001b[90m@ ChaosTools C:\\Users\\Alex\\.julia\\packages\\ChaosTools\\PHPDF\\src\\orbitdiagrams\\produce_orbitdiagram.jl:75\u001b[39m\n"
     ]
    },
    {
     "name": "stdout",
     "output_type": "stream",
     "text": [
      "parameter = -0.0967892"
     ]
    },
    {
     "name": "stderr",
     "output_type": "stream",
     "text": [
      "\u001b[33m\u001b[1m┌ \u001b[22m\u001b[39m\u001b[33m\u001b[1mWarning: \u001b[22m\u001b[39mFor parameter -0.096789 The Poincaré surface of section did not have any points!\n",
      "\u001b[33m\u001b[1m└ \u001b[22m\u001b[39m\u001b[90m@ ChaosTools C:\\Users\\Alex\\.julia\\packages\\ChaosTools\\PHPDF\\src\\orbitdiagrams\\produce_orbitdiagram.jl:75\u001b[39m\n"
     ]
    },
    {
     "name": "stdout",
     "output_type": "stream",
     "text": [
      "\n",
      "parameter = -0.0967894"
     ]
    },
    {
     "name": "stderr",
     "output_type": "stream",
     "text": [
      "\u001b[33m\u001b[1m┌ \u001b[22m\u001b[39m\u001b[33m\u001b[1mWarning: \u001b[22m\u001b[39mFor parameter -0.0967892 The Poincaré surface of section did not have any points!\n",
      "\u001b[33m\u001b[1m└ \u001b[22m\u001b[39m\u001b[90m@ ChaosTools C:\\Users\\Alex\\.julia\\packages\\ChaosTools\\PHPDF\\src\\orbitdiagrams\\produce_orbitdiagram.jl:75\u001b[39m\n"
     ]
    },
    {
     "name": "stdout",
     "output_type": "stream",
     "text": [
      "\n",
      "parameter = -0.0967896\n"
     ]
    },
    {
     "name": "stderr",
     "output_type": "stream",
     "text": [
      "\u001b[33m\u001b[1m┌ \u001b[22m\u001b[39m\u001b[33m\u001b[1mWarning: \u001b[22m\u001b[39mFor parameter -0.0967894 The Poincaré surface of section did not have any points!\n",
      "\u001b[33m\u001b[1m└ \u001b[22m\u001b[39m\u001b[90m@ ChaosTools C:\\Users\\Alex\\.julia\\packages\\ChaosTools\\PHPDF\\src\\orbitdiagrams\\produce_orbitdiagram.jl:75\u001b[39m\n"
     ]
    },
    {
     "name": "stdout",
     "output_type": "stream",
     "text": [
      "parameter = -0.0967898"
     ]
    },
    {
     "name": "stderr",
     "output_type": "stream",
     "text": [
      "\u001b[33m\u001b[1m┌ \u001b[22m\u001b[39m\u001b[33m\u001b[1mWarning: \u001b[22m\u001b[39mFor parameter -0.0967896 The Poincaré surface of section did not have any points!\n",
      "\u001b[33m\u001b[1m└ \u001b[22m\u001b[39m\u001b[90m@ ChaosTools C:\\Users\\Alex\\.julia\\packages\\ChaosTools\\PHPDF\\src\\orbitdiagrams\\produce_orbitdiagram.jl:75\u001b[39m\n"
     ]
    },
    {
     "name": "stdout",
     "output_type": "stream",
     "text": [
      "\n",
      "parameter = -0.09679\n"
     ]
    },
    {
     "name": "stderr",
     "output_type": "stream",
     "text": [
      "\u001b[33m\u001b[1m┌ \u001b[22m\u001b[39m\u001b[33m\u001b[1mWarning: \u001b[22m\u001b[39mFor parameter -0.0967898 The Poincaré surface of section did not have any points!\n",
      "\u001b[33m\u001b[1m└ \u001b[22m\u001b[39m\u001b[90m@ ChaosTools C:\\Users\\Alex\\.julia\\packages\\ChaosTools\\PHPDF\\src\\orbitdiagrams\\produce_orbitdiagram.jl:75\u001b[39m\n"
     ]
    },
    {
     "name": "stdout",
     "output_type": "stream",
     "text": [
      "parameter = -0.0967902"
     ]
    },
    {
     "name": "stderr",
     "output_type": "stream",
     "text": [
      "\u001b[33m\u001b[1m┌ \u001b[22m\u001b[39m\u001b[33m\u001b[1mWarning: \u001b[22m\u001b[39mFor parameter -0.09679 The Poincaré surface of section did not have any points!\n",
      "\u001b[33m\u001b[1m└ \u001b[22m\u001b[39m\u001b[90m@ ChaosTools C:\\Users\\Alex\\.julia\\packages\\ChaosTools\\PHPDF\\src\\orbitdiagrams\\produce_orbitdiagram.jl:75\u001b[39m\n"
     ]
    },
    {
     "name": "stdout",
     "output_type": "stream",
     "text": [
      "\n",
      "parameter = -0.0967904"
     ]
    },
    {
     "name": "stderr",
     "output_type": "stream",
     "text": [
      "\u001b[33m\u001b[1m┌ \u001b[22m\u001b[39m\u001b[33m\u001b[1mWarning: \u001b[22m\u001b[39mFor parameter -0.0967902 The Poincaré surface of section did not have any points!\n",
      "\u001b[33m\u001b[1m└ \u001b[22m\u001b[39m\u001b[90m@ ChaosTools C:\\Users\\Alex\\.julia\\packages\\ChaosTools\\PHPDF\\src\\orbitdiagrams\\produce_orbitdiagram.jl:75\u001b[39m\n"
     ]
    },
    {
     "name": "stdout",
     "output_type": "stream",
     "text": [
      "\n",
      "parameter = -0.0967906\n"
     ]
    },
    {
     "name": "stderr",
     "output_type": "stream",
     "text": [
      "\u001b[33m\u001b[1m┌ \u001b[22m\u001b[39m\u001b[33m\u001b[1mWarning: \u001b[22m\u001b[39mFor parameter -0.0967904 The Poincaré surface of section did not have any points!\n",
      "\u001b[33m\u001b[1m└ \u001b[22m\u001b[39m\u001b[90m@ ChaosTools C:\\Users\\Alex\\.julia\\packages\\ChaosTools\\PHPDF\\src\\orbitdiagrams\\produce_orbitdiagram.jl:75\u001b[39m\n"
     ]
    },
    {
     "name": "stdout",
     "output_type": "stream",
     "text": [
      "parameter = -0.0967908"
     ]
    },
    {
     "name": "stderr",
     "output_type": "stream",
     "text": [
      "\u001b[33m\u001b[1m┌ \u001b[22m\u001b[39m\u001b[33m\u001b[1mWarning: \u001b[22m\u001b[39mFor parameter -0.0967906 The Poincaré surface of section did not have any points!\n",
      "\u001b[33m\u001b[1m└ \u001b[22m\u001b[39m\u001b[90m@ ChaosTools C:\\Users\\Alex\\.julia\\packages\\ChaosTools\\PHPDF\\src\\orbitdiagrams\\produce_orbitdiagram.jl:75\u001b[39m\n"
     ]
    },
    {
     "name": "stdout",
     "output_type": "stream",
     "text": [
      "\n",
      "parameter = -0.096791"
     ]
    },
    {
     "name": "stderr",
     "output_type": "stream",
     "text": [
      "\u001b[33m\u001b[1m┌ \u001b[22m\u001b[39m\u001b[33m\u001b[1mWarning: \u001b[22m\u001b[39mFor parameter -0.0967908 The Poincaré surface of section did not have any points!\n",
      "\u001b[33m\u001b[1m└ \u001b[22m\u001b[39m\u001b[90m@ ChaosTools C:\\Users\\Alex\\.julia\\packages\\ChaosTools\\PHPDF\\src\\orbitdiagrams\\produce_orbitdiagram.jl:75\u001b[39m\n"
     ]
    },
    {
     "name": "stdout",
     "output_type": "stream",
     "text": [
      "\n",
      "parameter = -0.0967912\n"
     ]
    },
    {
     "name": "stderr",
     "output_type": "stream",
     "text": [
      "\u001b[33m\u001b[1m┌ \u001b[22m\u001b[39m\u001b[33m\u001b[1mWarning: \u001b[22m\u001b[39mFor parameter -0.096791 The Poincaré surface of section did not have any points!\n",
      "\u001b[33m\u001b[1m└ \u001b[22m\u001b[39m\u001b[90m@ ChaosTools C:\\Users\\Alex\\.julia\\packages\\ChaosTools\\PHPDF\\src\\orbitdiagrams\\produce_orbitdiagram.jl:75\u001b[39m\n"
     ]
    },
    {
     "name": "stdout",
     "output_type": "stream",
     "text": [
      "parameter = -0.0967914"
     ]
    },
    {
     "name": "stderr",
     "output_type": "stream",
     "text": [
      "\u001b[33m\u001b[1m┌ \u001b[22m\u001b[39m\u001b[33m\u001b[1mWarning: \u001b[22m\u001b[39mFor parameter -0.0967912 The Poincaré surface of section did not have any points!\n",
      "\u001b[33m\u001b[1m└ \u001b[22m\u001b[39m\u001b[90m@ ChaosTools C:\\Users\\Alex\\.julia\\packages\\ChaosTools\\PHPDF\\src\\orbitdiagrams\\produce_orbitdiagram.jl:75\u001b[39m\n"
     ]
    },
    {
     "name": "stdout",
     "output_type": "stream",
     "text": [
      "\n",
      "parameter = -0.0967916\n"
     ]
    },
    {
     "name": "stderr",
     "output_type": "stream",
     "text": [
      "\u001b[33m\u001b[1m┌ \u001b[22m\u001b[39m\u001b[33m\u001b[1mWarning: \u001b[22m\u001b[39mFor parameter -0.0967914 The Poincaré surface of section did not have any points!\n",
      "\u001b[33m\u001b[1m└ \u001b[22m\u001b[39m\u001b[90m@ ChaosTools C:\\Users\\Alex\\.julia\\packages\\ChaosTools\\PHPDF\\src\\orbitdiagrams\\produce_orbitdiagram.jl:75\u001b[39m\n"
     ]
    },
    {
     "name": "stdout",
     "output_type": "stream",
     "text": [
      "parameter = -0.0967918"
     ]
    },
    {
     "name": "stderr",
     "output_type": "stream",
     "text": [
      "\u001b[33m\u001b[1m┌ \u001b[22m\u001b[39m\u001b[33m\u001b[1mWarning: \u001b[22m\u001b[39mFor parameter -0.0967916 The Poincaré surface of section did not have any points!\n",
      "\u001b[33m\u001b[1m└ \u001b[22m\u001b[39m\u001b[90m@ ChaosTools C:\\Users\\Alex\\.julia\\packages\\ChaosTools\\PHPDF\\src\\orbitdiagrams\\produce_orbitdiagram.jl:75\u001b[39m\n"
     ]
    },
    {
     "name": "stdout",
     "output_type": "stream",
     "text": [
      "\n",
      "parameter = -0.096792"
     ]
    },
    {
     "name": "stderr",
     "output_type": "stream",
     "text": [
      "\u001b[33m\u001b[1m┌ \u001b[22m\u001b[39m\u001b[33m\u001b[1mWarning: \u001b[22m\u001b[39mFor parameter -0.0967918 The Poincaré surface of section did not have any points!\n",
      "\u001b[33m\u001b[1m└ \u001b[22m\u001b[39m\u001b[90m@ ChaosTools C:\\Users\\Alex\\.julia\\packages\\ChaosTools\\PHPDF\\src\\orbitdiagrams\\produce_orbitdiagram.jl:75\u001b[39m\n"
     ]
    },
    {
     "name": "stdout",
     "output_type": "stream",
     "text": [
      "\n",
      "parameter = -0.0967922"
     ]
    },
    {
     "name": "stderr",
     "output_type": "stream",
     "text": [
      "\u001b[33m\u001b[1m┌ \u001b[22m\u001b[39m\u001b[33m\u001b[1mWarning: \u001b[22m\u001b[39mFor parameter -0.096792 The Poincaré surface of section did not have any points!\n",
      "\u001b[33m\u001b[1m└ \u001b[22m\u001b[39m\u001b[90m@ ChaosTools C:\\Users\\Alex\\.julia\\packages\\ChaosTools\\PHPDF\\src\\orbitdiagrams\\produce_orbitdiagram.jl:75\u001b[39m\n"
     ]
    },
    {
     "name": "stdout",
     "output_type": "stream",
     "text": [
      "\n",
      "parameter = -0.0967924\n"
     ]
    },
    {
     "name": "stderr",
     "output_type": "stream",
     "text": [
      "\u001b[33m\u001b[1m┌ \u001b[22m\u001b[39m\u001b[33m\u001b[1mWarning: \u001b[22m\u001b[39mFor parameter -0.0967922 The Poincaré surface of section did not have any points!\n",
      "\u001b[33m\u001b[1m└ \u001b[22m\u001b[39m\u001b[90m@ ChaosTools C:\\Users\\Alex\\.julia\\packages\\ChaosTools\\PHPDF\\src\\orbitdiagrams\\produce_orbitdiagram.jl:75\u001b[39m\n"
     ]
    },
    {
     "name": "stdout",
     "output_type": "stream",
     "text": [
      "parameter = -0.0967926"
     ]
    },
    {
     "name": "stderr",
     "output_type": "stream",
     "text": [
      "\u001b[33m\u001b[1m┌ \u001b[22m\u001b[39m\u001b[33m\u001b[1mWarning: \u001b[22m\u001b[39mFor parameter -0.0967924 The Poincaré surface of section did not have any points!\n",
      "\u001b[33m\u001b[1m└ \u001b[22m\u001b[39m\u001b[90m@ ChaosTools C:\\Users\\Alex\\.julia\\packages\\ChaosTools\\PHPDF\\src\\orbitdiagrams\\produce_orbitdiagram.jl:75\u001b[39m\n"
     ]
    },
    {
     "name": "stdout",
     "output_type": "stream",
     "text": [
      "\n",
      "parameter = -0.0967928"
     ]
    },
    {
     "name": "stderr",
     "output_type": "stream",
     "text": [
      "\u001b[33m\u001b[1m┌ \u001b[22m\u001b[39m\u001b[33m\u001b[1mWarning: \u001b[22m\u001b[39mFor parameter -0.0967926 The Poincaré surface of section did not have any points!\n",
      "\u001b[33m\u001b[1m└ \u001b[22m\u001b[39m\u001b[90m@ ChaosTools C:\\Users\\Alex\\.julia\\packages\\ChaosTools\\PHPDF\\src\\orbitdiagrams\\produce_orbitdiagram.jl:75\u001b[39m\n"
     ]
    },
    {
     "name": "stdout",
     "output_type": "stream",
     "text": [
      "\n",
      "parameter = -0.096793"
     ]
    },
    {
     "name": "stderr",
     "output_type": "stream",
     "text": [
      "\u001b[33m\u001b[1m┌ \u001b[22m\u001b[39m\u001b[33m\u001b[1mWarning: \u001b[22m\u001b[39mFor parameter -0.0967928 The Poincaré surface of section did not have any points!\n",
      "\u001b[33m\u001b[1m└ \u001b[22m\u001b[39m\u001b[90m@ ChaosTools C:\\Users\\Alex\\.julia\\packages\\ChaosTools\\PHPDF\\src\\orbitdiagrams\\produce_orbitdiagram.jl:75\u001b[39m\n"
     ]
    },
    {
     "name": "stdout",
     "output_type": "stream",
     "text": [
      "\n",
      "parameter = -0.0967932\n"
     ]
    },
    {
     "name": "stderr",
     "output_type": "stream",
     "text": [
      "\u001b[33m\u001b[1m┌ \u001b[22m\u001b[39m\u001b[33m\u001b[1mWarning: \u001b[22m\u001b[39mFor parameter -0.096793 The Poincaré surface of section did not have any points!\n",
      "\u001b[33m\u001b[1m└ \u001b[22m\u001b[39m\u001b[90m@ ChaosTools C:\\Users\\Alex\\.julia\\packages\\ChaosTools\\PHPDF\\src\\orbitdiagrams\\produce_orbitdiagram.jl:75\u001b[39m\n"
     ]
    },
    {
     "name": "stdout",
     "output_type": "stream",
     "text": [
      "parameter = -0.0967934\n"
     ]
    },
    {
     "name": "stderr",
     "output_type": "stream",
     "text": [
      "\u001b[33m\u001b[1m┌ \u001b[22m\u001b[39m\u001b[33m\u001b[1mWarning: \u001b[22m\u001b[39mFor parameter -0.0967932 The Poincaré surface of section did not have any points!\n",
      "\u001b[33m\u001b[1m└ \u001b[22m\u001b[39m\u001b[90m@ ChaosTools C:\\Users\\Alex\\.julia\\packages\\ChaosTools\\PHPDF\\src\\orbitdiagrams\\produce_orbitdiagram.jl:75\u001b[39m\n"
     ]
    },
    {
     "name": "stdout",
     "output_type": "stream",
     "text": [
      "parameter = -0.0967936"
     ]
    },
    {
     "name": "stderr",
     "output_type": "stream",
     "text": [
      "\u001b[33m\u001b[1m┌ \u001b[22m\u001b[39m\u001b[33m\u001b[1mWarning: \u001b[22m\u001b[39mFor parameter -0.0967934 The Poincaré surface of section did not have any points!\n",
      "\u001b[33m\u001b[1m└ \u001b[22m\u001b[39m\u001b[90m@ ChaosTools C:\\Users\\Alex\\.julia\\packages\\ChaosTools\\PHPDF\\src\\orbitdiagrams\\produce_orbitdiagram.jl:75\u001b[39m\n"
     ]
    },
    {
     "name": "stdout",
     "output_type": "stream",
     "text": [
      "\n",
      "parameter = -0.0967938\n"
     ]
    },
    {
     "name": "stderr",
     "output_type": "stream",
     "text": [
      "\u001b[33m\u001b[1m┌ \u001b[22m\u001b[39m\u001b[33m\u001b[1mWarning: \u001b[22m\u001b[39mFor parameter -0.0967936 The Poincaré surface of section did not have any points!\n",
      "\u001b[33m\u001b[1m└ \u001b[22m\u001b[39m\u001b[90m@ ChaosTools C:\\Users\\Alex\\.julia\\packages\\ChaosTools\\PHPDF\\src\\orbitdiagrams\\produce_orbitdiagram.jl:75\u001b[39m\n"
     ]
    },
    {
     "name": "stdout",
     "output_type": "stream",
     "text": [
      "parameter = -0.096794"
     ]
    },
    {
     "name": "stderr",
     "output_type": "stream",
     "text": [
      "\u001b[33m\u001b[1m┌ \u001b[22m\u001b[39m\u001b[33m\u001b[1mWarning: \u001b[22m\u001b[39mFor parameter -0.0967938 The Poincaré surface of section did not have any points!\n",
      "\u001b[33m\u001b[1m└ \u001b[22m\u001b[39m\u001b[90m@ ChaosTools C:\\Users\\Alex\\.julia\\packages\\ChaosTools\\PHPDF\\src\\orbitdiagrams\\produce_orbitdiagram.jl:75\u001b[39m\n"
     ]
    },
    {
     "name": "stdout",
     "output_type": "stream",
     "text": [
      "\n",
      "parameter = -0.0967942\n"
     ]
    },
    {
     "name": "stderr",
     "output_type": "stream",
     "text": [
      "\u001b[33m\u001b[1m┌ \u001b[22m\u001b[39m\u001b[33m\u001b[1mWarning: \u001b[22m\u001b[39mFor parameter -0.096794 The Poincaré surface of section did not have any points!\n",
      "\u001b[33m\u001b[1m└ \u001b[22m\u001b[39m\u001b[90m@ ChaosTools C:\\Users\\Alex\\.julia\\packages\\ChaosTools\\PHPDF\\src\\orbitdiagrams\\produce_orbitdiagram.jl:75\u001b[39m\n"
     ]
    },
    {
     "name": "stdout",
     "output_type": "stream",
     "text": [
      "parameter = -0.0967944"
     ]
    },
    {
     "name": "stderr",
     "output_type": "stream",
     "text": [
      "\u001b[33m\u001b[1m┌ \u001b[22m\u001b[39m\u001b[33m\u001b[1mWarning: \u001b[22m\u001b[39mFor parameter -0.0967942 The Poincaré surface of section did not have any points!\n",
      "\u001b[33m\u001b[1m└ \u001b[22m\u001b[39m\u001b[90m@ ChaosTools C:\\Users\\Alex\\.julia\\packages\\ChaosTools\\PHPDF\\src\\orbitdiagrams\\produce_orbitdiagram.jl:75\u001b[39m\n"
     ]
    },
    {
     "name": "stdout",
     "output_type": "stream",
     "text": [
      "\n",
      "parameter = -0.0967946"
     ]
    },
    {
     "name": "stderr",
     "output_type": "stream",
     "text": [
      "\u001b[33m\u001b[1m┌ \u001b[22m\u001b[39m\u001b[33m\u001b[1mWarning: \u001b[22m\u001b[39mFor parameter -0.0967944 The Poincaré surface of section did not have any points!\n",
      "\u001b[33m\u001b[1m└ \u001b[22m\u001b[39m\u001b[90m@ ChaosTools C:\\Users\\Alex\\.julia\\packages\\ChaosTools\\PHPDF\\src\\orbitdiagrams\\produce_orbitdiagram.jl:75\u001b[39m\n"
     ]
    },
    {
     "name": "stdout",
     "output_type": "stream",
     "text": [
      "\n",
      "parameter = -0.0967948\n"
     ]
    },
    {
     "name": "stderr",
     "output_type": "stream",
     "text": [
      "\u001b[33m\u001b[1m┌ \u001b[22m\u001b[39m\u001b[33m\u001b[1mWarning: \u001b[22m\u001b[39mFor parameter -0.0967946 The Poincaré surface of section did not have any points!\n",
      "\u001b[33m\u001b[1m└ \u001b[22m\u001b[39m\u001b[90m@ ChaosTools C:\\Users\\Alex\\.julia\\packages\\ChaosTools\\PHPDF\\src\\orbitdiagrams\\produce_orbitdiagram.jl:75\u001b[39m\n"
     ]
    },
    {
     "name": "stdout",
     "output_type": "stream",
     "text": [
      "parameter = -0.096795\n"
     ]
    },
    {
     "name": "stderr",
     "output_type": "stream",
     "text": [
      "\u001b[33m\u001b[1m┌ \u001b[22m\u001b[39m\u001b[33m\u001b[1mWarning: \u001b[22m\u001b[39mFor parameter -0.0967948 The Poincaré surface of section did not have any points!\n",
      "\u001b[33m\u001b[1m└ \u001b[22m\u001b[39m\u001b[90m@ ChaosTools C:\\Users\\Alex\\.julia\\packages\\ChaosTools\\PHPDF\\src\\orbitdiagrams\\produce_orbitdiagram.jl:75\u001b[39m\n"
     ]
    },
    {
     "name": "stdout",
     "output_type": "stream",
     "text": [
      "parameter = -0.0967952\n"
     ]
    },
    {
     "name": "stderr",
     "output_type": "stream",
     "text": [
      "\u001b[33m\u001b[1m┌ \u001b[22m\u001b[39m\u001b[33m\u001b[1mWarning: \u001b[22m\u001b[39mFor parameter -0.096795 The Poincaré surface of section did not have any points!\n",
      "\u001b[33m\u001b[1m└ \u001b[22m\u001b[39m\u001b[90m@ ChaosTools C:\\Users\\Alex\\.julia\\packages\\ChaosTools\\PHPDF\\src\\orbitdiagrams\\produce_orbitdiagram.jl:75\u001b[39m\n"
     ]
    },
    {
     "name": "stdout",
     "output_type": "stream",
     "text": [
      "parameter = -0.0967954"
     ]
    },
    {
     "name": "stderr",
     "output_type": "stream",
     "text": [
      "\u001b[33m\u001b[1m┌ \u001b[22m\u001b[39m\u001b[33m\u001b[1mWarning: \u001b[22m\u001b[39mFor parameter -0.0967952 The Poincaré surface of section did not have any points!\n",
      "\u001b[33m\u001b[1m└ \u001b[22m\u001b[39m\u001b[90m@ ChaosTools C:\\Users\\Alex\\.julia\\packages\\ChaosTools\\PHPDF\\src\\orbitdiagrams\\produce_orbitdiagram.jl:75\u001b[39m\n"
     ]
    },
    {
     "name": "stdout",
     "output_type": "stream",
     "text": [
      "\n",
      "parameter = -0.0967956\n"
     ]
    },
    {
     "name": "stderr",
     "output_type": "stream",
     "text": [
      "\u001b[33m\u001b[1m┌ \u001b[22m\u001b[39m\u001b[33m\u001b[1mWarning: \u001b[22m\u001b[39mFor parameter -0.0967954 The Poincaré surface of section did not have any points!\n",
      "\u001b[33m\u001b[1m└ \u001b[22m\u001b[39m\u001b[90m@ ChaosTools C:\\Users\\Alex\\.julia\\packages\\ChaosTools\\PHPDF\\src\\orbitdiagrams\\produce_orbitdiagram.jl:75\u001b[39m\n"
     ]
    },
    {
     "name": "stdout",
     "output_type": "stream",
     "text": [
      "parameter = -0.0967958"
     ]
    },
    {
     "name": "stderr",
     "output_type": "stream",
     "text": [
      "\u001b[33m\u001b[1m┌ \u001b[22m\u001b[39m\u001b[33m\u001b[1mWarning: \u001b[22m\u001b[39mFor parameter -0.0967956 The Poincaré surface of section did not have any points!\n",
      "\u001b[33m\u001b[1m└ \u001b[22m\u001b[39m\u001b[90m@ ChaosTools C:\\Users\\Alex\\.julia\\packages\\ChaosTools\\PHPDF\\src\\orbitdiagrams\\produce_orbitdiagram.jl:75\u001b[39m\n"
     ]
    },
    {
     "name": "stdout",
     "output_type": "stream",
     "text": [
      "\n",
      "parameter = -0.096796"
     ]
    },
    {
     "name": "stderr",
     "output_type": "stream",
     "text": [
      "\u001b[33m\u001b[1m┌ \u001b[22m\u001b[39m\u001b[33m\u001b[1mWarning: \u001b[22m\u001b[39mFor parameter -0.0967958 The Poincaré surface of section did not have any points!\n",
      "\u001b[33m\u001b[1m└ \u001b[22m\u001b[39m\u001b[90m@ ChaosTools C:\\Users\\Alex\\.julia\\packages\\ChaosTools\\PHPDF\\src\\orbitdiagrams\\produce_orbitdiagram.jl:75\u001b[39m\n"
     ]
    },
    {
     "name": "stdout",
     "output_type": "stream",
     "text": [
      "\n",
      "parameter = -0.0967962"
     ]
    },
    {
     "name": "stderr",
     "output_type": "stream",
     "text": [
      "\u001b[33m\u001b[1m┌ \u001b[22m\u001b[39m\u001b[33m\u001b[1mWarning: \u001b[22m\u001b[39mFor parameter -0.096796 The Poincaré surface of section did not have any points!\n",
      "\u001b[33m\u001b[1m└ \u001b[22m\u001b[39m\u001b[90m@ ChaosTools C:\\Users\\Alex\\.julia\\packages\\ChaosTools\\PHPDF\\src\\orbitdiagrams\\produce_orbitdiagram.jl:75\u001b[39m\n"
     ]
    },
    {
     "name": "stdout",
     "output_type": "stream",
     "text": [
      "\n",
      "parameter = -0.0967964\n"
     ]
    },
    {
     "name": "stderr",
     "output_type": "stream",
     "text": [
      "\u001b[33m\u001b[1m┌ \u001b[22m\u001b[39m\u001b[33m\u001b[1mWarning: \u001b[22m\u001b[39mFor parameter -0.0967962 The Poincaré surface of section did not have any points!\n",
      "\u001b[33m\u001b[1m└ \u001b[22m\u001b[39m\u001b[90m@ ChaosTools C:\\Users\\Alex\\.julia\\packages\\ChaosTools\\PHPDF\\src\\orbitdiagrams\\produce_orbitdiagram.jl:75\u001b[39m\n"
     ]
    },
    {
     "name": "stdout",
     "output_type": "stream",
     "text": [
      "parameter = -0.0967966\n"
     ]
    },
    {
     "name": "stderr",
     "output_type": "stream",
     "text": [
      "\u001b[33m\u001b[1m┌ \u001b[22m\u001b[39m\u001b[33m\u001b[1mWarning: \u001b[22m\u001b[39mFor parameter -0.0967964 The Poincaré surface of section did not have any points!\n",
      "\u001b[33m\u001b[1m└ \u001b[22m\u001b[39m\u001b[90m@ ChaosTools C:\\Users\\Alex\\.julia\\packages\\ChaosTools\\PHPDF\\src\\orbitdiagrams\\produce_orbitdiagram.jl:75\u001b[39m\n"
     ]
    },
    {
     "name": "stdout",
     "output_type": "stream",
     "text": [
      "parameter = -0.0967968"
     ]
    },
    {
     "name": "stderr",
     "output_type": "stream",
     "text": [
      "\u001b[33m\u001b[1m┌ \u001b[22m\u001b[39m\u001b[33m\u001b[1mWarning: \u001b[22m\u001b[39mFor parameter -0.0967966 The Poincaré surface of section did not have any points!\n",
      "\u001b[33m\u001b[1m└ \u001b[22m\u001b[39m\u001b[90m@ ChaosTools C:\\Users\\Alex\\.julia\\packages\\ChaosTools\\PHPDF\\src\\orbitdiagrams\\produce_orbitdiagram.jl:75\u001b[39m\n"
     ]
    },
    {
     "name": "stdout",
     "output_type": "stream",
     "text": [
      "\n",
      "parameter = -0.096797\n"
     ]
    },
    {
     "name": "stderr",
     "output_type": "stream",
     "text": [
      "\u001b[33m\u001b[1m┌ \u001b[22m\u001b[39m\u001b[33m\u001b[1mWarning: \u001b[22m\u001b[39mFor parameter -0.0967968 The Poincaré surface of section did not have any points!\n",
      "\u001b[33m\u001b[1m└ \u001b[22m\u001b[39m\u001b[90m@ ChaosTools C:\\Users\\Alex\\.julia\\packages\\ChaosTools\\PHPDF\\src\\orbitdiagrams\\produce_orbitdiagram.jl:75\u001b[39m\n"
     ]
    },
    {
     "name": "stdout",
     "output_type": "stream",
     "text": [
      "parameter = -0.0967972"
     ]
    },
    {
     "name": "stderr",
     "output_type": "stream",
     "text": [
      "\u001b[33m\u001b[1m┌ \u001b[22m\u001b[39m\u001b[33m\u001b[1mWarning: \u001b[22m\u001b[39mFor parameter -0.096797 The Poincaré surface of section did not have any points!\n",
      "\u001b[33m\u001b[1m└ \u001b[22m\u001b[39m\u001b[90m@ ChaosTools C:\\Users\\Alex\\.julia\\packages\\ChaosTools\\PHPDF\\src\\orbitdiagrams\\produce_orbitdiagram.jl:75\u001b[39m\n"
     ]
    },
    {
     "name": "stdout",
     "output_type": "stream",
     "text": [
      "\n",
      "parameter = -0.0967974\n"
     ]
    },
    {
     "name": "stderr",
     "output_type": "stream",
     "text": [
      "\u001b[33m\u001b[1m┌ \u001b[22m\u001b[39m\u001b[33m\u001b[1mWarning: \u001b[22m\u001b[39mFor parameter -0.0967972 The Poincaré surface of section did not have any points!\n",
      "\u001b[33m\u001b[1m└ \u001b[22m\u001b[39m\u001b[90m@ ChaosTools C:\\Users\\Alex\\.julia\\packages\\ChaosTools\\PHPDF\\src\\orbitdiagrams\\produce_orbitdiagram.jl:75\u001b[39m\n",
      "\u001b[33m\u001b[1m┌ \u001b[22m\u001b[39m\u001b[33m\u001b[1mWarning: \u001b[22m\u001b[39mFor parameter -0.0967974 The Poincaré surface of section did not have any points!\n",
      "\u001b[33m\u001b[1m└ \u001b[22m\u001b[39m\u001b[90m@ ChaosTools C:\\Users\\Alex\\.julia\\packages\\ChaosTools\\PHPDF\\src\\orbitdiagrams\\produce_orbitdiagram.jl:75\u001b[39m\n"
     ]
    },
    {
     "name": "stdout",
     "output_type": "stream",
     "text": [
      "parameter = -0.0967976\n",
      "parameter = -0.0967978\n"
     ]
    },
    {
     "name": "stderr",
     "output_type": "stream",
     "text": [
      "\u001b[33m\u001b[1m┌ \u001b[22m\u001b[39m\u001b[33m\u001b[1mWarning: \u001b[22m\u001b[39mFor parameter -0.0967976 The Poincaré surface of section did not have any points!\n",
      "\u001b[33m\u001b[1m└ \u001b[22m\u001b[39m\u001b[90m@ ChaosTools C:\\Users\\Alex\\.julia\\packages\\ChaosTools\\PHPDF\\src\\orbitdiagrams\\produce_orbitdiagram.jl:75\u001b[39m\n"
     ]
    },
    {
     "name": "stdout",
     "output_type": "stream",
     "text": [
      "parameter = -0.096798"
     ]
    },
    {
     "name": "stderr",
     "output_type": "stream",
     "text": [
      "\u001b[33m\u001b[1m┌ \u001b[22m\u001b[39m\u001b[33m\u001b[1mWarning: \u001b[22m\u001b[39mFor parameter -0.0967978 The Poincaré surface of section did not have any points!\n",
      "\u001b[33m\u001b[1m└ \u001b[22m\u001b[39m\u001b[90m@ ChaosTools C:\\Users\\Alex\\.julia\\packages\\ChaosTools\\PHPDF\\src\\orbitdiagrams\\produce_orbitdiagram.jl:75\u001b[39m\n"
     ]
    },
    {
     "name": "stdout",
     "output_type": "stream",
     "text": [
      "\n",
      "parameter = -0.0967982"
     ]
    },
    {
     "name": "stderr",
     "output_type": "stream",
     "text": [
      "\u001b[33m\u001b[1m┌ \u001b[22m\u001b[39m\u001b[33m\u001b[1mWarning: \u001b[22m\u001b[39mFor parameter -0.096798 The Poincaré surface of section did not have any points!\n",
      "\u001b[33m\u001b[1m└ \u001b[22m\u001b[39m\u001b[90m@ ChaosTools C:\\Users\\Alex\\.julia\\packages\\ChaosTools\\PHPDF\\src\\orbitdiagrams\\produce_orbitdiagram.jl:75\u001b[39m\n"
     ]
    },
    {
     "name": "stdout",
     "output_type": "stream",
     "text": [
      "\n",
      "parameter = -0.0967984\n"
     ]
    },
    {
     "name": "stderr",
     "output_type": "stream",
     "text": [
      "\u001b[33m\u001b[1m┌ \u001b[22m\u001b[39m\u001b[33m\u001b[1mWarning: \u001b[22m\u001b[39mFor parameter -0.0967982 The Poincaré surface of section did not have any points!\n",
      "\u001b[33m\u001b[1m└ \u001b[22m\u001b[39m\u001b[90m@ ChaosTools C:\\Users\\Alex\\.julia\\packages\\ChaosTools\\PHPDF\\src\\orbitdiagrams\\produce_orbitdiagram.jl:75\u001b[39m\n"
     ]
    },
    {
     "name": "stdout",
     "output_type": "stream",
     "text": [
      "parameter = -0.0967986\n"
     ]
    },
    {
     "name": "stderr",
     "output_type": "stream",
     "text": [
      "\u001b[33m\u001b[1m┌ \u001b[22m\u001b[39m\u001b[33m\u001b[1mWarning: \u001b[22m\u001b[39mFor parameter -0.0967984 The Poincaré surface of section did not have any points!\n",
      "\u001b[33m\u001b[1m└ \u001b[22m\u001b[39m\u001b[90m@ ChaosTools C:\\Users\\Alex\\.julia\\packages\\ChaosTools\\PHPDF\\src\\orbitdiagrams\\produce_orbitdiagram.jl:75\u001b[39m\n"
     ]
    },
    {
     "name": "stdout",
     "output_type": "stream",
     "text": [
      "parameter = -0.0967988"
     ]
    },
    {
     "name": "stderr",
     "output_type": "stream",
     "text": [
      "\u001b[33m\u001b[1m┌ \u001b[22m\u001b[39m\u001b[33m\u001b[1mWarning: \u001b[22m\u001b[39mFor parameter -0.0967986 The Poincaré surface of section did not have any points!\n",
      "\u001b[33m\u001b[1m└ \u001b[22m\u001b[39m\u001b[90m@ ChaosTools C:\\Users\\Alex\\.julia\\packages\\ChaosTools\\PHPDF\\src\\orbitdiagrams\\produce_orbitdiagram.jl:75\u001b[39m\n"
     ]
    },
    {
     "name": "stdout",
     "output_type": "stream",
     "text": [
      "\n",
      "parameter = -0.096799\n"
     ]
    },
    {
     "name": "stderr",
     "output_type": "stream",
     "text": [
      "\u001b[33m\u001b[1m┌ \u001b[22m\u001b[39m\u001b[33m\u001b[1mWarning: \u001b[22m\u001b[39mFor parameter -0.0967988 The Poincaré surface of section did not have any points!\n",
      "\u001b[33m\u001b[1m└ \u001b[22m\u001b[39m\u001b[90m@ ChaosTools C:\\Users\\Alex\\.julia\\packages\\ChaosTools\\PHPDF\\src\\orbitdiagrams\\produce_orbitdiagram.jl:75\u001b[39m\n"
     ]
    },
    {
     "name": "stdout",
     "output_type": "stream",
     "text": [
      "parameter = -0.0967992"
     ]
    },
    {
     "name": "stderr",
     "output_type": "stream",
     "text": [
      "\u001b[33m\u001b[1m┌ \u001b[22m\u001b[39m\u001b[33m\u001b[1mWarning: \u001b[22m\u001b[39mFor parameter -0.096799 The Poincaré surface of section did not have any points!\n",
      "\u001b[33m\u001b[1m└ \u001b[22m\u001b[39m\u001b[90m@ ChaosTools C:\\Users\\Alex\\.julia\\packages\\ChaosTools\\PHPDF\\src\\orbitdiagrams\\produce_orbitdiagram.jl:75\u001b[39m\n"
     ]
    },
    {
     "name": "stdout",
     "output_type": "stream",
     "text": [
      "\n",
      "parameter = -0.0967994"
     ]
    },
    {
     "name": "stderr",
     "output_type": "stream",
     "text": [
      "\u001b[33m\u001b[1m┌ \u001b[22m\u001b[39m\u001b[33m\u001b[1mWarning: \u001b[22m\u001b[39mFor parameter -0.0967992 The Poincaré surface of section did not have any points!\n",
      "\u001b[33m\u001b[1m└ \u001b[22m\u001b[39m\u001b[90m@ ChaosTools C:\\Users\\Alex\\.julia\\packages\\ChaosTools\\PHPDF\\src\\orbitdiagrams\\produce_orbitdiagram.jl:75\u001b[39m\n"
     ]
    },
    {
     "name": "stdout",
     "output_type": "stream",
     "text": [
      "\n",
      "parameter = -0.0967996"
     ]
    },
    {
     "name": "stderr",
     "output_type": "stream",
     "text": [
      "\u001b[33m\u001b[1m┌ \u001b[22m\u001b[39m\u001b[33m\u001b[1mWarning: \u001b[22m\u001b[39mFor parameter -0.0967994 The Poincaré surface of section did not have any points!\n",
      "\u001b[33m\u001b[1m└ \u001b[22m\u001b[39m\u001b[90m@ ChaosTools C:\\Users\\Alex\\.julia\\packages\\ChaosTools\\PHPDF\\src\\orbitdiagrams\\produce_orbitdiagram.jl:75\u001b[39m\n"
     ]
    },
    {
     "name": "stdout",
     "output_type": "stream",
     "text": [
      "\n",
      "parameter = -0.0967998"
     ]
    },
    {
     "name": "stderr",
     "output_type": "stream",
     "text": [
      "\u001b[33m\u001b[1m┌ \u001b[22m\u001b[39m\u001b[33m\u001b[1mWarning: \u001b[22m\u001b[39mFor parameter -0.0967996 The Poincaré surface of section did not have any points!\n",
      "\u001b[33m\u001b[1m└ \u001b[22m\u001b[39m\u001b[90m@ ChaosTools C:\\Users\\Alex\\.julia\\packages\\ChaosTools\\PHPDF\\src\\orbitdiagrams\\produce_orbitdiagram.jl:75\u001b[39m\n"
     ]
    },
    {
     "name": "stdout",
     "output_type": "stream",
     "text": [
      "\n",
      "parameter = -0.0968"
     ]
    },
    {
     "name": "stderr",
     "output_type": "stream",
     "text": [
      "\u001b[33m\u001b[1m┌ \u001b[22m\u001b[39m\u001b[33m\u001b[1mWarning: \u001b[22m\u001b[39mFor parameter -0.0967998 The Poincaré surface of section did not have any points!\n",
      "\u001b[33m\u001b[1m└ \u001b[22m\u001b[39m\u001b[90m@ ChaosTools C:\\Users\\Alex\\.julia\\packages\\ChaosTools\\PHPDF\\src\\orbitdiagrams\\produce_orbitdiagram.jl:75\u001b[39m\n"
     ]
    },
    {
     "name": "stdout",
     "output_type": "stream",
     "text": [
      "\n",
      "parameter = -0.0968002"
     ]
    },
    {
     "name": "stderr",
     "output_type": "stream",
     "text": [
      "\u001b[33m\u001b[1m┌ \u001b[22m\u001b[39m\u001b[33m\u001b[1mWarning: \u001b[22m\u001b[39mFor parameter -0.0968 The Poincaré surface of section did not have any points!\n",
      "\u001b[33m\u001b[1m└ \u001b[22m\u001b[39m\u001b[90m@ ChaosTools C:\\Users\\Alex\\.julia\\packages\\ChaosTools\\PHPDF\\src\\orbitdiagrams\\produce_orbitdiagram.jl:75\u001b[39m\n"
     ]
    },
    {
     "name": "stdout",
     "output_type": "stream",
     "text": [
      "\n",
      "parameter = -0.0968004\n"
     ]
    },
    {
     "name": "stderr",
     "output_type": "stream",
     "text": [
      "\u001b[33m\u001b[1m┌ \u001b[22m\u001b[39m\u001b[33m\u001b[1mWarning: \u001b[22m\u001b[39mFor parameter -0.0968002 The Poincaré surface of section did not have any points!\n",
      "\u001b[33m\u001b[1m└ \u001b[22m\u001b[39m\u001b[90m@ ChaosTools C:\\Users\\Alex\\.julia\\packages\\ChaosTools\\PHPDF\\src\\orbitdiagrams\\produce_orbitdiagram.jl:75\u001b[39m\n"
     ]
    },
    {
     "name": "stdout",
     "output_type": "stream",
     "text": [
      "parameter = -0.0968006\n"
     ]
    },
    {
     "name": "stderr",
     "output_type": "stream",
     "text": [
      "\u001b[33m\u001b[1m┌ \u001b[22m\u001b[39m\u001b[33m\u001b[1mWarning: \u001b[22m\u001b[39mFor parameter -0.0968004 The Poincaré surface of section did not have any points!\n",
      "\u001b[33m\u001b[1m└ \u001b[22m\u001b[39m\u001b[90m@ ChaosTools C:\\Users\\Alex\\.julia\\packages\\ChaosTools\\PHPDF\\src\\orbitdiagrams\\produce_orbitdiagram.jl:75\u001b[39m\n"
     ]
    },
    {
     "name": "stdout",
     "output_type": "stream",
     "text": [
      "parameter = -0.0968008"
     ]
    },
    {
     "name": "stderr",
     "output_type": "stream",
     "text": [
      "\u001b[33m\u001b[1m┌ \u001b[22m\u001b[39m\u001b[33m\u001b[1mWarning: \u001b[22m\u001b[39mFor parameter -0.0968006 The Poincaré surface of section did not have any points!\n",
      "\u001b[33m\u001b[1m└ \u001b[22m\u001b[39m\u001b[90m@ ChaosTools C:\\Users\\Alex\\.julia\\packages\\ChaosTools\\PHPDF\\src\\orbitdiagrams\\produce_orbitdiagram.jl:75\u001b[39m\n"
     ]
    },
    {
     "name": "stdout",
     "output_type": "stream",
     "text": [
      "\n"
     ]
    },
    {
     "name": "stderr",
     "output_type": "stream",
     "text": [
      "\u001b[33m\u001b[1m┌ \u001b[22m\u001b[39m\u001b[33m\u001b[1mWarning: \u001b[22m\u001b[39mFor parameter -0.0968008 The Poincaré surface of section did not have any points!\n",
      "\u001b[33m\u001b[1m└ \u001b[22m\u001b[39m\u001b[90m@ ChaosTools C:\\Users\\Alex\\.julia\\packages\\ChaosTools\\PHPDF\\src\\orbitdiagrams\\produce_orbitdiagram.jl:75\u001b[39m\n"
     ]
    },
    {
     "name": "stdout",
     "output_type": "stream",
     "text": [
      "parameter = -0.096801\n",
      "parameter = -0.0968012"
     ]
    },
    {
     "name": "stderr",
     "output_type": "stream",
     "text": [
      "\u001b[33m\u001b[1m┌ \u001b[22m\u001b[39m\u001b[33m\u001b[1mWarning: \u001b[22m\u001b[39mFor parameter -0.096801 The Poincaré surface of section did not have any points!\n",
      "\u001b[33m\u001b[1m└ \u001b[22m\u001b[39m\u001b[90m@ ChaosTools C:\\Users\\Alex\\.julia\\packages\\ChaosTools\\PHPDF\\src\\orbitdiagrams\\produce_orbitdiagram.jl:75\u001b[39m\n"
     ]
    },
    {
     "name": "stdout",
     "output_type": "stream",
     "text": [
      "\n",
      "parameter = -0.0968014\n"
     ]
    },
    {
     "name": "stderr",
     "output_type": "stream",
     "text": [
      "\u001b[33m\u001b[1m┌ \u001b[22m\u001b[39m\u001b[33m\u001b[1mWarning: \u001b[22m\u001b[39mFor parameter -0.0968012 The Poincaré surface of section did not have any points!\n",
      "\u001b[33m\u001b[1m└ \u001b[22m\u001b[39m\u001b[90m@ ChaosTools C:\\Users\\Alex\\.julia\\packages\\ChaosTools\\PHPDF\\src\\orbitdiagrams\\produce_orbitdiagram.jl:75\u001b[39m\n"
     ]
    },
    {
     "name": "stdout",
     "output_type": "stream",
     "text": [
      "parameter = -0.0968016"
     ]
    },
    {
     "name": "stderr",
     "output_type": "stream",
     "text": [
      "\u001b[33m\u001b[1m┌ \u001b[22m\u001b[39m\u001b[33m\u001b[1mWarning: \u001b[22m\u001b[39mFor parameter -0.0968014 The Poincaré surface of section did not have any points!\n",
      "\u001b[33m\u001b[1m└ \u001b[22m\u001b[39m\u001b[90m@ ChaosTools C:\\Users\\Alex\\.julia\\packages\\ChaosTools\\PHPDF\\src\\orbitdiagrams\\produce_orbitdiagram.jl:75\u001b[39m\n"
     ]
    },
    {
     "name": "stdout",
     "output_type": "stream",
     "text": [
      "\n",
      "parameter = -0.0968018"
     ]
    },
    {
     "name": "stderr",
     "output_type": "stream",
     "text": [
      "\u001b[33m\u001b[1m┌ \u001b[22m\u001b[39m\u001b[33m\u001b[1mWarning: \u001b[22m\u001b[39mFor parameter -0.0968016 The Poincaré surface of section did not have any points!\n",
      "\u001b[33m\u001b[1m└ \u001b[22m\u001b[39m\u001b[90m@ ChaosTools C:\\Users\\Alex\\.julia\\packages\\ChaosTools\\PHPDF\\src\\orbitdiagrams\\produce_orbitdiagram.jl:75\u001b[39m\n"
     ]
    },
    {
     "name": "stdout",
     "output_type": "stream",
     "text": [
      "\n",
      "parameter = -0.096802"
     ]
    },
    {
     "name": "stderr",
     "output_type": "stream",
     "text": [
      "\u001b[33m\u001b[1m┌ \u001b[22m\u001b[39m\u001b[33m\u001b[1mWarning: \u001b[22m\u001b[39mFor parameter -0.0968018 The Poincaré surface of section did not have any points!\n",
      "\u001b[33m\u001b[1m└ \u001b[22m\u001b[39m\u001b[90m@ ChaosTools C:\\Users\\Alex\\.julia\\packages\\ChaosTools\\PHPDF\\src\\orbitdiagrams\\produce_orbitdiagram.jl:75\u001b[39m\n"
     ]
    },
    {
     "name": "stdout",
     "output_type": "stream",
     "text": [
      "\n",
      "parameter = -0.0968022"
     ]
    },
    {
     "name": "stderr",
     "output_type": "stream",
     "text": [
      "\u001b[33m\u001b[1m┌ \u001b[22m\u001b[39m\u001b[33m\u001b[1mWarning: \u001b[22m\u001b[39mFor parameter -0.096802 The Poincaré surface of section did not have any points!\n",
      "\u001b[33m\u001b[1m└ \u001b[22m\u001b[39m\u001b[90m@ ChaosTools C:\\Users\\Alex\\.julia\\packages\\ChaosTools\\PHPDF\\src\\orbitdiagrams\\produce_orbitdiagram.jl:75\u001b[39m\n"
     ]
    },
    {
     "name": "stdout",
     "output_type": "stream",
     "text": [
      "\n",
      "parameter = -0.0968024"
     ]
    },
    {
     "name": "stderr",
     "output_type": "stream",
     "text": [
      "\u001b[33m\u001b[1m┌ \u001b[22m\u001b[39m\u001b[33m\u001b[1mWarning: \u001b[22m\u001b[39mFor parameter -0.0968022 The Poincaré surface of section did not have any points!\n",
      "\u001b[33m\u001b[1m└ \u001b[22m\u001b[39m\u001b[90m@ ChaosTools C:\\Users\\Alex\\.julia\\packages\\ChaosTools\\PHPDF\\src\\orbitdiagrams\\produce_orbitdiagram.jl:75\u001b[39m\n"
     ]
    },
    {
     "name": "stdout",
     "output_type": "stream",
     "text": [
      "\n",
      "parameter = -0.0968026\n"
     ]
    },
    {
     "name": "stderr",
     "output_type": "stream",
     "text": [
      "\u001b[33m\u001b[1m┌ \u001b[22m\u001b[39m\u001b[33m\u001b[1mWarning: \u001b[22m\u001b[39mFor parameter -0.0968024 The Poincaré surface of section did not have any points!\n",
      "\u001b[33m\u001b[1m└ \u001b[22m\u001b[39m\u001b[90m@ ChaosTools C:\\Users\\Alex\\.julia\\packages\\ChaosTools\\PHPDF\\src\\orbitdiagrams\\produce_orbitdiagram.jl:75\u001b[39m\n"
     ]
    },
    {
     "name": "stdout",
     "output_type": "stream",
     "text": [
      "parameter = -0.0968028\n"
     ]
    },
    {
     "name": "stderr",
     "output_type": "stream",
     "text": [
      "\u001b[33m\u001b[1m┌ \u001b[22m\u001b[39m\u001b[33m\u001b[1mWarning: \u001b[22m\u001b[39mFor parameter -0.0968026 The Poincaré surface of section did not have any points!\n",
      "\u001b[33m\u001b[1m└ \u001b[22m\u001b[39m\u001b[90m@ ChaosTools C:\\Users\\Alex\\.julia\\packages\\ChaosTools\\PHPDF\\src\\orbitdiagrams\\produce_orbitdiagram.jl:75\u001b[39m\n"
     ]
    },
    {
     "name": "stdout",
     "output_type": "stream",
     "text": [
      "parameter = -0.096803"
     ]
    },
    {
     "name": "stderr",
     "output_type": "stream",
     "text": [
      "\u001b[33m\u001b[1m┌ \u001b[22m\u001b[39m\u001b[33m\u001b[1mWarning: \u001b[22m\u001b[39mFor parameter -0.0968028 The Poincaré surface of section did not have any points!\n",
      "\u001b[33m\u001b[1m└ \u001b[22m\u001b[39m\u001b[90m@ ChaosTools C:\\Users\\Alex\\.julia\\packages\\ChaosTools\\PHPDF\\src\\orbitdiagrams\\produce_orbitdiagram.jl:75\u001b[39m\n"
     ]
    },
    {
     "name": "stdout",
     "output_type": "stream",
     "text": [
      "\n",
      "parameter = -0.0968032"
     ]
    },
    {
     "name": "stderr",
     "output_type": "stream",
     "text": [
      "\u001b[33m\u001b[1m┌ \u001b[22m\u001b[39m\u001b[33m\u001b[1mWarning: \u001b[22m\u001b[39mFor parameter -0.096803 The Poincaré surface of section did not have any points!\n",
      "\u001b[33m\u001b[1m└ \u001b[22m\u001b[39m\u001b[90m@ ChaosTools C:\\Users\\Alex\\.julia\\packages\\ChaosTools\\PHPDF\\src\\orbitdiagrams\\produce_orbitdiagram.jl:75\u001b[39m\n"
     ]
    },
    {
     "name": "stdout",
     "output_type": "stream",
     "text": [
      "\n",
      "parameter = -0.0968034"
     ]
    },
    {
     "name": "stderr",
     "output_type": "stream",
     "text": [
      "\u001b[33m\u001b[1m┌ \u001b[22m\u001b[39m\u001b[33m\u001b[1mWarning: \u001b[22m\u001b[39mFor parameter -0.0968032 The Poincaré surface of section did not have any points!\n",
      "\u001b[33m\u001b[1m└ \u001b[22m\u001b[39m\u001b[90m@ ChaosTools C:\\Users\\Alex\\.julia\\packages\\ChaosTools\\PHPDF\\src\\orbitdiagrams\\produce_orbitdiagram.jl:75\u001b[39m\n"
     ]
    },
    {
     "name": "stdout",
     "output_type": "stream",
     "text": [
      "\n",
      "parameter = -0.0968036\n"
     ]
    },
    {
     "name": "stderr",
     "output_type": "stream",
     "text": [
      "\u001b[33m\u001b[1m┌ \u001b[22m\u001b[39m\u001b[33m\u001b[1mWarning: \u001b[22m\u001b[39mFor parameter -0.0968034 The Poincaré surface of section did not have any points!\n",
      "\u001b[33m\u001b[1m└ \u001b[22m\u001b[39m\u001b[90m@ ChaosTools C:\\Users\\Alex\\.julia\\packages\\ChaosTools\\PHPDF\\src\\orbitdiagrams\\produce_orbitdiagram.jl:75\u001b[39m\n"
     ]
    },
    {
     "name": "stdout",
     "output_type": "stream",
     "text": [
      "parameter = -0.0968038"
     ]
    },
    {
     "name": "stderr",
     "output_type": "stream",
     "text": [
      "\u001b[33m\u001b[1m┌ \u001b[22m\u001b[39m\u001b[33m\u001b[1mWarning: \u001b[22m\u001b[39mFor parameter -0.0968036 The Poincaré surface of section did not have any points!\n",
      "\u001b[33m\u001b[1m└ \u001b[22m\u001b[39m\u001b[90m@ ChaosTools C:\\Users\\Alex\\.julia\\packages\\ChaosTools\\PHPDF\\src\\orbitdiagrams\\produce_orbitdiagram.jl:75\u001b[39m\n"
     ]
    },
    {
     "name": "stdout",
     "output_type": "stream",
     "text": [
      "\n"
     ]
    },
    {
     "name": "stderr",
     "output_type": "stream",
     "text": [
      "\u001b[33m\u001b[1m┌ \u001b[22m\u001b[39m\u001b[33m\u001b[1mWarning: \u001b[22m\u001b[39mFor parameter -0.0968038 The Poincaré surface of section did not have any points!\n",
      "\u001b[33m\u001b[1m└ \u001b[22m\u001b[39m\u001b[90m@ ChaosTools C:\\Users\\Alex\\.julia\\packages\\ChaosTools\\PHPDF\\src\\orbitdiagrams\\produce_orbitdiagram.jl:75\u001b[39m\n"
     ]
    },
    {
     "name": "stdout",
     "output_type": "stream",
     "text": [
      "parameter = -0.096804\n",
      "parameter = -0.0968042"
     ]
    },
    {
     "name": "stderr",
     "output_type": "stream",
     "text": [
      "\u001b[33m\u001b[1m┌ \u001b[22m\u001b[39m\u001b[33m\u001b[1mWarning: \u001b[22m\u001b[39mFor parameter -0.096804 The Poincaré surface of section did not have any points!\n",
      "\u001b[33m\u001b[1m└ \u001b[22m\u001b[39m\u001b[90m@ ChaosTools C:\\Users\\Alex\\.julia\\packages\\ChaosTools\\PHPDF\\src\\orbitdiagrams\\produce_orbitdiagram.jl:75\u001b[39m\n"
     ]
    },
    {
     "name": "stdout",
     "output_type": "stream",
     "text": [
      "\n",
      "parameter = -0.0968044"
     ]
    },
    {
     "name": "stderr",
     "output_type": "stream",
     "text": [
      "\u001b[33m\u001b[1m┌ \u001b[22m\u001b[39m\u001b[33m\u001b[1mWarning: \u001b[22m\u001b[39mFor parameter -0.0968042 The Poincaré surface of section did not have any points!\n",
      "\u001b[33m\u001b[1m└ \u001b[22m\u001b[39m\u001b[90m@ ChaosTools C:\\Users\\Alex\\.julia\\packages\\ChaosTools\\PHPDF\\src\\orbitdiagrams\\produce_orbitdiagram.jl:75\u001b[39m\n"
     ]
    },
    {
     "name": "stdout",
     "output_type": "stream",
     "text": [
      "\n",
      "parameter = -0.0968046\n"
     ]
    },
    {
     "name": "stderr",
     "output_type": "stream",
     "text": [
      "\u001b[33m\u001b[1m┌ \u001b[22m\u001b[39m\u001b[33m\u001b[1mWarning: \u001b[22m\u001b[39mFor parameter -0.0968044 The Poincaré surface of section did not have any points!\n",
      "\u001b[33m\u001b[1m└ \u001b[22m\u001b[39m\u001b[90m@ ChaosTools C:\\Users\\Alex\\.julia\\packages\\ChaosTools\\PHPDF\\src\\orbitdiagrams\\produce_orbitdiagram.jl:75\u001b[39m\n"
     ]
    },
    {
     "name": "stdout",
     "output_type": "stream",
     "text": [
      "parameter = -0.0968048\n"
     ]
    },
    {
     "name": "stderr",
     "output_type": "stream",
     "text": [
      "\u001b[33m\u001b[1m┌ \u001b[22m\u001b[39m\u001b[33m\u001b[1mWarning: \u001b[22m\u001b[39mFor parameter -0.0968046 The Poincaré surface of section did not have any points!\n",
      "\u001b[33m\u001b[1m└ \u001b[22m\u001b[39m\u001b[90m@ ChaosTools C:\\Users\\Alex\\.julia\\packages\\ChaosTools\\PHPDF\\src\\orbitdiagrams\\produce_orbitdiagram.jl:75\u001b[39m\n"
     ]
    },
    {
     "name": "stdout",
     "output_type": "stream",
     "text": [
      "parameter = -0.096805\n"
     ]
    },
    {
     "name": "stderr",
     "output_type": "stream",
     "text": [
      "\u001b[33m\u001b[1m┌ \u001b[22m\u001b[39m\u001b[33m\u001b[1mWarning: \u001b[22m\u001b[39mFor parameter -0.0968048 The Poincaré surface of section did not have any points!\n",
      "\u001b[33m\u001b[1m└ \u001b[22m\u001b[39m\u001b[90m@ ChaosTools C:\\Users\\Alex\\.julia\\packages\\ChaosTools\\PHPDF\\src\\orbitdiagrams\\produce_orbitdiagram.jl:75\u001b[39m\n"
     ]
    },
    {
     "name": "stdout",
     "output_type": "stream",
     "text": [
      "parameter = -0.0968052\n"
     ]
    },
    {
     "name": "stderr",
     "output_type": "stream",
     "text": [
      "\u001b[33m\u001b[1m┌ \u001b[22m\u001b[39m\u001b[33m\u001b[1mWarning: \u001b[22m\u001b[39mFor parameter -0.096805 The Poincaré surface of section did not have any points!\n",
      "\u001b[33m\u001b[1m└ \u001b[22m\u001b[39m\u001b[90m@ ChaosTools C:\\Users\\Alex\\.julia\\packages\\ChaosTools\\PHPDF\\src\\orbitdiagrams\\produce_orbitdiagram.jl:75\u001b[39m\n"
     ]
    },
    {
     "name": "stdout",
     "output_type": "stream",
     "text": [
      "parameter = -0.0968054"
     ]
    },
    {
     "name": "stderr",
     "output_type": "stream",
     "text": [
      "\u001b[33m\u001b[1m┌ \u001b[22m\u001b[39m\u001b[33m\u001b[1mWarning: \u001b[22m\u001b[39mFor parameter -0.0968052 The Poincaré surface of section did not have any points!\n",
      "\u001b[33m\u001b[1m└ \u001b[22m\u001b[39m\u001b[90m@ ChaosTools C:\\Users\\Alex\\.julia\\packages\\ChaosTools\\PHPDF\\src\\orbitdiagrams\\produce_orbitdiagram.jl:75\u001b[39m\n"
     ]
    },
    {
     "name": "stdout",
     "output_type": "stream",
     "text": [
      "\n"
     ]
    },
    {
     "name": "stderr",
     "output_type": "stream",
     "text": [
      "\u001b[33m\u001b[1m┌ \u001b[22m\u001b[39m\u001b[33m\u001b[1mWarning: \u001b[22m\u001b[39mFor parameter -0.0968054 The Poincaré surface of section did not have any points!\n",
      "\u001b[33m\u001b[1m└ \u001b[22m\u001b[39m\u001b[90m@ ChaosTools C:\\Users\\Alex\\.julia\\packages\\ChaosTools\\PHPDF\\src\\orbitdiagrams\\produce_orbitdiagram.jl:75\u001b[39m\n"
     ]
    },
    {
     "name": "stdout",
     "output_type": "stream",
     "text": [
      "parameter = -0.0968056\n",
      "parameter = -0.0968058"
     ]
    },
    {
     "name": "stderr",
     "output_type": "stream",
     "text": [
      "\u001b[33m\u001b[1m┌ \u001b[22m\u001b[39m\u001b[33m\u001b[1mWarning: \u001b[22m\u001b[39mFor parameter -0.0968056 The Poincaré surface of section did not have any points!\n",
      "\u001b[33m\u001b[1m└ \u001b[22m\u001b[39m\u001b[90m@ ChaosTools C:\\Users\\Alex\\.julia\\packages\\ChaosTools\\PHPDF\\src\\orbitdiagrams\\produce_orbitdiagram.jl:75\u001b[39m\n"
     ]
    },
    {
     "name": "stdout",
     "output_type": "stream",
     "text": [
      "\n",
      "parameter = -0.096806\n"
     ]
    },
    {
     "name": "stderr",
     "output_type": "stream",
     "text": [
      "\u001b[33m\u001b[1m┌ \u001b[22m\u001b[39m\u001b[33m\u001b[1mWarning: \u001b[22m\u001b[39mFor parameter -0.0968058 The Poincaré surface of section did not have any points!\n",
      "\u001b[33m\u001b[1m└ \u001b[22m\u001b[39m\u001b[90m@ ChaosTools C:\\Users\\Alex\\.julia\\packages\\ChaosTools\\PHPDF\\src\\orbitdiagrams\\produce_orbitdiagram.jl:75\u001b[39m\n"
     ]
    },
    {
     "name": "stdout",
     "output_type": "stream",
     "text": [
      "parameter = -0.0968062"
     ]
    },
    {
     "name": "stderr",
     "output_type": "stream",
     "text": [
      "\u001b[33m\u001b[1m┌ \u001b[22m\u001b[39m\u001b[33m\u001b[1mWarning: \u001b[22m\u001b[39mFor parameter -0.096806 The Poincaré surface of section did not have any points!\n",
      "\u001b[33m\u001b[1m└ \u001b[22m\u001b[39m\u001b[90m@ ChaosTools C:\\Users\\Alex\\.julia\\packages\\ChaosTools\\PHPDF\\src\\orbitdiagrams\\produce_orbitdiagram.jl:75\u001b[39m\n"
     ]
    },
    {
     "name": "stdout",
     "output_type": "stream",
     "text": [
      "\n",
      "parameter = -0.0968064"
     ]
    },
    {
     "name": "stderr",
     "output_type": "stream",
     "text": [
      "\u001b[33m\u001b[1m┌ \u001b[22m\u001b[39m\u001b[33m\u001b[1mWarning: \u001b[22m\u001b[39mFor parameter -0.0968062 The Poincaré surface of section did not have any points!\n",
      "\u001b[33m\u001b[1m└ \u001b[22m\u001b[39m\u001b[90m@ ChaosTools C:\\Users\\Alex\\.julia\\packages\\ChaosTools\\PHPDF\\src\\orbitdiagrams\\produce_orbitdiagram.jl:75\u001b[39m\n"
     ]
    },
    {
     "name": "stdout",
     "output_type": "stream",
     "text": [
      "\n",
      "parameter = -0.0968066"
     ]
    },
    {
     "name": "stderr",
     "output_type": "stream",
     "text": [
      "\u001b[33m\u001b[1m┌ \u001b[22m\u001b[39m\u001b[33m\u001b[1mWarning: \u001b[22m\u001b[39mFor parameter -0.0968064 The Poincaré surface of section did not have any points!\n",
      "\u001b[33m\u001b[1m└ \u001b[22m\u001b[39m\u001b[90m@ ChaosTools C:\\Users\\Alex\\.julia\\packages\\ChaosTools\\PHPDF\\src\\orbitdiagrams\\produce_orbitdiagram.jl:75\u001b[39m\n"
     ]
    },
    {
     "name": "stdout",
     "output_type": "stream",
     "text": [
      "\n",
      "parameter = -0.0968068"
     ]
    },
    {
     "name": "stderr",
     "output_type": "stream",
     "text": [
      "\u001b[33m\u001b[1m┌ \u001b[22m\u001b[39m\u001b[33m\u001b[1mWarning: \u001b[22m\u001b[39mFor parameter -0.0968066 The Poincaré surface of section did not have any points!\n",
      "\u001b[33m\u001b[1m└ \u001b[22m\u001b[39m\u001b[90m@ ChaosTools C:\\Users\\Alex\\.julia\\packages\\ChaosTools\\PHPDF\\src\\orbitdiagrams\\produce_orbitdiagram.jl:75\u001b[39m\n"
     ]
    },
    {
     "name": "stdout",
     "output_type": "stream",
     "text": [
      "\n",
      "parameter = -0.096807"
     ]
    },
    {
     "name": "stderr",
     "output_type": "stream",
     "text": [
      "\u001b[33m\u001b[1m┌ \u001b[22m\u001b[39m\u001b[33m\u001b[1mWarning: \u001b[22m\u001b[39mFor parameter -0.0968068 The Poincaré surface of section did not have any points!\n",
      "\u001b[33m\u001b[1m└ \u001b[22m\u001b[39m\u001b[90m@ ChaosTools C:\\Users\\Alex\\.julia\\packages\\ChaosTools\\PHPDF\\src\\orbitdiagrams\\produce_orbitdiagram.jl:75\u001b[39m\n"
     ]
    },
    {
     "name": "stdout",
     "output_type": "stream",
     "text": [
      "\n",
      "parameter = -0.0968072"
     ]
    },
    {
     "name": "stderr",
     "output_type": "stream",
     "text": [
      "\u001b[33m\u001b[1m┌ \u001b[22m\u001b[39m\u001b[33m\u001b[1mWarning: \u001b[22m\u001b[39mFor parameter -0.096807 The Poincaré surface of section did not have any points!\n",
      "\u001b[33m\u001b[1m└ \u001b[22m\u001b[39m\u001b[90m@ ChaosTools C:\\Users\\Alex\\.julia\\packages\\ChaosTools\\PHPDF\\src\\orbitdiagrams\\produce_orbitdiagram.jl:75\u001b[39m\n"
     ]
    },
    {
     "name": "stdout",
     "output_type": "stream",
     "text": [
      "\n",
      "parameter = -0.0968074\n"
     ]
    },
    {
     "name": "stderr",
     "output_type": "stream",
     "text": [
      "\u001b[33m\u001b[1m┌ \u001b[22m\u001b[39m\u001b[33m\u001b[1mWarning: \u001b[22m\u001b[39mFor parameter -0.0968072 The Poincaré surface of section did not have any points!\n",
      "\u001b[33m\u001b[1m└ \u001b[22m\u001b[39m\u001b[90m@ ChaosTools C:\\Users\\Alex\\.julia\\packages\\ChaosTools\\PHPDF\\src\\orbitdiagrams\\produce_orbitdiagram.jl:75\u001b[39m\n"
     ]
    },
    {
     "name": "stdout",
     "output_type": "stream",
     "text": [
      "parameter = -0.0968076"
     ]
    },
    {
     "name": "stderr",
     "output_type": "stream",
     "text": [
      "\u001b[33m\u001b[1m┌ \u001b[22m\u001b[39m\u001b[33m\u001b[1mWarning: \u001b[22m\u001b[39mFor parameter -0.0968074 The Poincaré surface of section did not have any points!\n",
      "\u001b[33m\u001b[1m└ \u001b[22m\u001b[39m\u001b[90m@ ChaosTools C:\\Users\\Alex\\.julia\\packages\\ChaosTools\\PHPDF\\src\\orbitdiagrams\\produce_orbitdiagram.jl:75\u001b[39m\n"
     ]
    },
    {
     "name": "stdout",
     "output_type": "stream",
     "text": [
      "\n",
      "parameter = -0.0968078\n"
     ]
    },
    {
     "name": "stderr",
     "output_type": "stream",
     "text": [
      "\u001b[33m\u001b[1m┌ \u001b[22m\u001b[39m\u001b[33m\u001b[1mWarning: \u001b[22m\u001b[39mFor parameter -0.0968076 The Poincaré surface of section did not have any points!\n",
      "\u001b[33m\u001b[1m└ \u001b[22m\u001b[39m\u001b[90m@ ChaosTools C:\\Users\\Alex\\.julia\\packages\\ChaosTools\\PHPDF\\src\\orbitdiagrams\\produce_orbitdiagram.jl:75\u001b[39m\n"
     ]
    },
    {
     "name": "stdout",
     "output_type": "stream",
     "text": [
      "parameter = -0.096808\n"
     ]
    },
    {
     "name": "stderr",
     "output_type": "stream",
     "text": [
      "\u001b[33m\u001b[1m┌ \u001b[22m\u001b[39m\u001b[33m\u001b[1mWarning: \u001b[22m\u001b[39mFor parameter -0.0968078 The Poincaré surface of section did not have any points!\n",
      "\u001b[33m\u001b[1m└ \u001b[22m\u001b[39m\u001b[90m@ ChaosTools C:\\Users\\Alex\\.julia\\packages\\ChaosTools\\PHPDF\\src\\orbitdiagrams\\produce_orbitdiagram.jl:75\u001b[39m\n"
     ]
    },
    {
     "name": "stdout",
     "output_type": "stream",
     "text": [
      "parameter = -0.0968082"
     ]
    },
    {
     "name": "stderr",
     "output_type": "stream",
     "text": [
      "\u001b[33m\u001b[1m┌ \u001b[22m\u001b[39m\u001b[33m\u001b[1mWarning: \u001b[22m\u001b[39mFor parameter -0.096808 The Poincaré surface of section did not have any points!\n",
      "\u001b[33m\u001b[1m└ \u001b[22m\u001b[39m\u001b[90m@ ChaosTools C:\\Users\\Alex\\.julia\\packages\\ChaosTools\\PHPDF\\src\\orbitdiagrams\\produce_orbitdiagram.jl:75\u001b[39m\n"
     ]
    },
    {
     "name": "stdout",
     "output_type": "stream",
     "text": [
      "\n",
      "parameter = -0.0968084"
     ]
    },
    {
     "name": "stderr",
     "output_type": "stream",
     "text": [
      "\u001b[33m\u001b[1m┌ \u001b[22m\u001b[39m\u001b[33m\u001b[1mWarning: \u001b[22m\u001b[39mFor parameter -0.0968082 The Poincaré surface of section did not have any points!\n",
      "\u001b[33m\u001b[1m└ \u001b[22m\u001b[39m\u001b[90m@ ChaosTools C:\\Users\\Alex\\.julia\\packages\\ChaosTools\\PHPDF\\src\\orbitdiagrams\\produce_orbitdiagram.jl:75\u001b[39m\n"
     ]
    },
    {
     "name": "stdout",
     "output_type": "stream",
     "text": [
      "\n",
      "parameter = -0.0968086\n"
     ]
    },
    {
     "name": "stderr",
     "output_type": "stream",
     "text": [
      "\u001b[33m\u001b[1m┌ \u001b[22m\u001b[39m\u001b[33m\u001b[1mWarning: \u001b[22m\u001b[39mFor parameter -0.0968084 The Poincaré surface of section did not have any points!\n",
      "\u001b[33m\u001b[1m└ \u001b[22m\u001b[39m\u001b[90m@ ChaosTools C:\\Users\\Alex\\.julia\\packages\\ChaosTools\\PHPDF\\src\\orbitdiagrams\\produce_orbitdiagram.jl:75\u001b[39m\n"
     ]
    },
    {
     "name": "stdout",
     "output_type": "stream",
     "text": [
      "parameter = -0.0968088"
     ]
    },
    {
     "name": "stderr",
     "output_type": "stream",
     "text": [
      "\u001b[33m\u001b[1m┌ \u001b[22m\u001b[39m\u001b[33m\u001b[1mWarning: \u001b[22m\u001b[39mFor parameter -0.0968086 The Poincaré surface of section did not have any points!\n",
      "\u001b[33m\u001b[1m└ \u001b[22m\u001b[39m\u001b[90m@ ChaosTools C:\\Users\\Alex\\.julia\\packages\\ChaosTools\\PHPDF\\src\\orbitdiagrams\\produce_orbitdiagram.jl:75\u001b[39m\n"
     ]
    },
    {
     "name": "stdout",
     "output_type": "stream",
     "text": [
      "\n",
      "parameter = -0.096809"
     ]
    },
    {
     "name": "stderr",
     "output_type": "stream",
     "text": [
      "\u001b[33m\u001b[1m┌ \u001b[22m\u001b[39m\u001b[33m\u001b[1mWarning: \u001b[22m\u001b[39mFor parameter -0.0968088 The Poincaré surface of section did not have any points!\n",
      "\u001b[33m\u001b[1m└ \u001b[22m\u001b[39m\u001b[90m@ ChaosTools C:\\Users\\Alex\\.julia\\packages\\ChaosTools\\PHPDF\\src\\orbitdiagrams\\produce_orbitdiagram.jl:75\u001b[39m\n"
     ]
    },
    {
     "name": "stdout",
     "output_type": "stream",
     "text": [
      "\n",
      "parameter = -0.0968092\n"
     ]
    },
    {
     "name": "stderr",
     "output_type": "stream",
     "text": [
      "\u001b[33m\u001b[1m┌ \u001b[22m\u001b[39m\u001b[33m\u001b[1mWarning: \u001b[22m\u001b[39mFor parameter -0.096809 The Poincaré surface of section did not have any points!\n",
      "\u001b[33m\u001b[1m└ \u001b[22m\u001b[39m\u001b[90m@ ChaosTools C:\\Users\\Alex\\.julia\\packages\\ChaosTools\\PHPDF\\src\\orbitdiagrams\\produce_orbitdiagram.jl:75\u001b[39m\n"
     ]
    },
    {
     "name": "stdout",
     "output_type": "stream",
     "text": [
      "parameter = -0.0968094"
     ]
    },
    {
     "name": "stderr",
     "output_type": "stream",
     "text": [
      "\u001b[33m\u001b[1m┌ \u001b[22m\u001b[39m\u001b[33m\u001b[1mWarning: \u001b[22m\u001b[39mFor parameter -0.0968092 The Poincaré surface of section did not have any points!\n",
      "\u001b[33m\u001b[1m└ \u001b[22m\u001b[39m\u001b[90m@ ChaosTools C:\\Users\\Alex\\.julia\\packages\\ChaosTools\\PHPDF\\src\\orbitdiagrams\\produce_orbitdiagram.jl:75\u001b[39m\n"
     ]
    },
    {
     "name": "stdout",
     "output_type": "stream",
     "text": [
      "\n",
      "parameter = -0.0968096\n"
     ]
    },
    {
     "name": "stderr",
     "output_type": "stream",
     "text": [
      "\u001b[33m\u001b[1m┌ \u001b[22m\u001b[39m\u001b[33m\u001b[1mWarning: \u001b[22m\u001b[39mFor parameter -0.0968094 The Poincaré surface of section did not have any points!\n",
      "\u001b[33m\u001b[1m└ \u001b[22m\u001b[39m\u001b[90m@ ChaosTools C:\\Users\\Alex\\.julia\\packages\\ChaosTools\\PHPDF\\src\\orbitdiagrams\\produce_orbitdiagram.jl:75\u001b[39m\n"
     ]
    },
    {
     "name": "stdout",
     "output_type": "stream",
     "text": [
      "parameter = -0.0968098\n"
     ]
    },
    {
     "name": "stderr",
     "output_type": "stream",
     "text": [
      "\u001b[33m\u001b[1m┌ \u001b[22m\u001b[39m\u001b[33m\u001b[1mWarning: \u001b[22m\u001b[39mFor parameter -0.0968096 The Poincaré surface of section did not have any points!\n",
      "\u001b[33m\u001b[1m└ \u001b[22m\u001b[39m\u001b[90m@ ChaosTools C:\\Users\\Alex\\.julia\\packages\\ChaosTools\\PHPDF\\src\\orbitdiagrams\\produce_orbitdiagram.jl:75\u001b[39m\n"
     ]
    },
    {
     "name": "stdout",
     "output_type": "stream",
     "text": [
      "parameter = -0.09681"
     ]
    },
    {
     "name": "stderr",
     "output_type": "stream",
     "text": [
      "\u001b[33m\u001b[1m┌ \u001b[22m\u001b[39m\u001b[33m\u001b[1mWarning: \u001b[22m\u001b[39mFor parameter -0.0968098 The Poincaré surface of section did not have any points!\n",
      "\u001b[33m\u001b[1m└ \u001b[22m\u001b[39m\u001b[90m@ ChaosTools C:\\Users\\Alex\\.julia\\packages\\ChaosTools\\PHPDF\\src\\orbitdiagrams\\produce_orbitdiagram.jl:75\u001b[39m\n"
     ]
    },
    {
     "name": "stdout",
     "output_type": "stream",
     "text": [
      "\n",
      "parameter = -0.0968102"
     ]
    },
    {
     "name": "stderr",
     "output_type": "stream",
     "text": [
      "\u001b[33m\u001b[1m┌ \u001b[22m\u001b[39m\u001b[33m\u001b[1mWarning: \u001b[22m\u001b[39mFor parameter -0.09681 The Poincaré surface of section did not have any points!\n",
      "\u001b[33m\u001b[1m└ \u001b[22m\u001b[39m\u001b[90m@ ChaosTools C:\\Users\\Alex\\.julia\\packages\\ChaosTools\\PHPDF\\src\\orbitdiagrams\\produce_orbitdiagram.jl:75\u001b[39m\n"
     ]
    },
    {
     "name": "stdout",
     "output_type": "stream",
     "text": [
      "\n",
      "parameter = -0.0968104"
     ]
    },
    {
     "name": "stderr",
     "output_type": "stream",
     "text": [
      "\u001b[33m\u001b[1m┌ \u001b[22m\u001b[39m\u001b[33m\u001b[1mWarning: \u001b[22m\u001b[39mFor parameter -0.0968102 The Poincaré surface of section did not have any points!\n",
      "\u001b[33m\u001b[1m└ \u001b[22m\u001b[39m\u001b[90m@ ChaosTools C:\\Users\\Alex\\.julia\\packages\\ChaosTools\\PHPDF\\src\\orbitdiagrams\\produce_orbitdiagram.jl:75\u001b[39m\n"
     ]
    },
    {
     "name": "stdout",
     "output_type": "stream",
     "text": [
      "\n",
      "parameter = -0.0968106"
     ]
    },
    {
     "name": "stderr",
     "output_type": "stream",
     "text": [
      "\u001b[33m\u001b[1m┌ \u001b[22m\u001b[39m\u001b[33m\u001b[1mWarning: \u001b[22m\u001b[39mFor parameter -0.0968104 The Poincaré surface of section did not have any points!\n",
      "\u001b[33m\u001b[1m└ \u001b[22m\u001b[39m\u001b[90m@ ChaosTools C:\\Users\\Alex\\.julia\\packages\\ChaosTools\\PHPDF\\src\\orbitdiagrams\\produce_orbitdiagram.jl:75\u001b[39m\n"
     ]
    },
    {
     "name": "stdout",
     "output_type": "stream",
     "text": [
      "\n",
      "parameter = -0.0968108"
     ]
    },
    {
     "name": "stderr",
     "output_type": "stream",
     "text": [
      "\u001b[33m\u001b[1m┌ \u001b[22m\u001b[39m\u001b[33m\u001b[1mWarning: \u001b[22m\u001b[39mFor parameter -0.0968106 The Poincaré surface of section did not have any points!\n",
      "\u001b[33m\u001b[1m└ \u001b[22m\u001b[39m\u001b[90m@ ChaosTools C:\\Users\\Alex\\.julia\\packages\\ChaosTools\\PHPDF\\src\\orbitdiagrams\\produce_orbitdiagram.jl:75\u001b[39m\n"
     ]
    },
    {
     "name": "stdout",
     "output_type": "stream",
     "text": [
      "\n",
      "parameter = -0.096811\n"
     ]
    },
    {
     "name": "stderr",
     "output_type": "stream",
     "text": [
      "\u001b[33m\u001b[1m┌ \u001b[22m\u001b[39m\u001b[33m\u001b[1mWarning: \u001b[22m\u001b[39mFor parameter -0.0968108 The Poincaré surface of section did not have any points!\n",
      "\u001b[33m\u001b[1m└ \u001b[22m\u001b[39m\u001b[90m@ ChaosTools C:\\Users\\Alex\\.julia\\packages\\ChaosTools\\PHPDF\\src\\orbitdiagrams\\produce_orbitdiagram.jl:75\u001b[39m\n"
     ]
    },
    {
     "name": "stdout",
     "output_type": "stream",
     "text": [
      "parameter = -0.0968112"
     ]
    },
    {
     "name": "stderr",
     "output_type": "stream",
     "text": [
      "\u001b[33m\u001b[1m┌ \u001b[22m\u001b[39m\u001b[33m\u001b[1mWarning: \u001b[22m\u001b[39mFor parameter -0.096811 The Poincaré surface of section did not have any points!\n",
      "\u001b[33m\u001b[1m└ \u001b[22m\u001b[39m\u001b[90m@ ChaosTools C:\\Users\\Alex\\.julia\\packages\\ChaosTools\\PHPDF\\src\\orbitdiagrams\\produce_orbitdiagram.jl:75\u001b[39m\n"
     ]
    },
    {
     "name": "stdout",
     "output_type": "stream",
     "text": [
      "\n",
      "parameter = -0.0968114"
     ]
    },
    {
     "name": "stderr",
     "output_type": "stream",
     "text": [
      "\u001b[33m\u001b[1m┌ \u001b[22m\u001b[39m\u001b[33m\u001b[1mWarning: \u001b[22m\u001b[39mFor parameter -0.0968112 The Poincaré surface of section did not have any points!\n",
      "\u001b[33m\u001b[1m└ \u001b[22m\u001b[39m\u001b[90m@ ChaosTools C:\\Users\\Alex\\.julia\\packages\\ChaosTools\\PHPDF\\src\\orbitdiagrams\\produce_orbitdiagram.jl:75\u001b[39m\n"
     ]
    },
    {
     "name": "stdout",
     "output_type": "stream",
     "text": [
      "\n",
      "parameter = -0.0968116"
     ]
    },
    {
     "name": "stderr",
     "output_type": "stream",
     "text": [
      "\u001b[33m\u001b[1m┌ \u001b[22m\u001b[39m\u001b[33m\u001b[1mWarning: \u001b[22m\u001b[39mFor parameter -0.0968114 The Poincaré surface of section did not have any points!\n",
      "\u001b[33m\u001b[1m└ \u001b[22m\u001b[39m\u001b[90m@ ChaosTools C:\\Users\\Alex\\.julia\\packages\\ChaosTools\\PHPDF\\src\\orbitdiagrams\\produce_orbitdiagram.jl:75\u001b[39m\n"
     ]
    },
    {
     "name": "stdout",
     "output_type": "stream",
     "text": [
      "\n"
     ]
    },
    {
     "name": "stderr",
     "output_type": "stream",
     "text": [
      "\u001b[33m\u001b[1m┌ \u001b[22m\u001b[39m\u001b[33m\u001b[1mWarning: \u001b[22m\u001b[39mFor parameter -0.0968116 The Poincaré surface of section did not have any points!\n",
      "\u001b[33m\u001b[1m└ \u001b[22m\u001b[39m\u001b[90m@ ChaosTools C:\\Users\\Alex\\.julia\\packages\\ChaosTools\\PHPDF\\src\\orbitdiagrams\\produce_orbitdiagram.jl:75\u001b[39m\n"
     ]
    },
    {
     "name": "stdout",
     "output_type": "stream",
     "text": [
      "parameter = -0.0968118\n",
      "parameter = -0.096812"
     ]
    },
    {
     "name": "stderr",
     "output_type": "stream",
     "text": [
      "\u001b[33m\u001b[1m┌ \u001b[22m\u001b[39m\u001b[33m\u001b[1mWarning: \u001b[22m\u001b[39mFor parameter -0.0968118 The Poincaré surface of section did not have any points!\n",
      "\u001b[33m\u001b[1m└ \u001b[22m\u001b[39m\u001b[90m@ ChaosTools C:\\Users\\Alex\\.julia\\packages\\ChaosTools\\PHPDF\\src\\orbitdiagrams\\produce_orbitdiagram.jl:75\u001b[39m\n"
     ]
    },
    {
     "name": "stdout",
     "output_type": "stream",
     "text": [
      "\n",
      "parameter = -0.0968122"
     ]
    },
    {
     "name": "stderr",
     "output_type": "stream",
     "text": [
      "\u001b[33m\u001b[1m┌ \u001b[22m\u001b[39m\u001b[33m\u001b[1mWarning: \u001b[22m\u001b[39mFor parameter -0.096812 The Poincaré surface of section did not have any points!\n",
      "\u001b[33m\u001b[1m└ \u001b[22m\u001b[39m\u001b[90m@ ChaosTools C:\\Users\\Alex\\.julia\\packages\\ChaosTools\\PHPDF\\src\\orbitdiagrams\\produce_orbitdiagram.jl:75\u001b[39m\n"
     ]
    },
    {
     "name": "stdout",
     "output_type": "stream",
     "text": [
      "\n",
      "parameter = -0.0968124\n"
     ]
    },
    {
     "name": "stderr",
     "output_type": "stream",
     "text": [
      "\u001b[33m\u001b[1m┌ \u001b[22m\u001b[39m\u001b[33m\u001b[1mWarning: \u001b[22m\u001b[39mFor parameter -0.0968122 The Poincaré surface of section did not have any points!\n",
      "\u001b[33m\u001b[1m└ \u001b[22m\u001b[39m\u001b[90m@ ChaosTools C:\\Users\\Alex\\.julia\\packages\\ChaosTools\\PHPDF\\src\\orbitdiagrams\\produce_orbitdiagram.jl:75\u001b[39m\n"
     ]
    },
    {
     "name": "stdout",
     "output_type": "stream",
     "text": [
      "parameter = -0.0968126"
     ]
    },
    {
     "name": "stderr",
     "output_type": "stream",
     "text": [
      "\u001b[33m\u001b[1m┌ \u001b[22m\u001b[39m\u001b[33m\u001b[1mWarning: \u001b[22m\u001b[39mFor parameter -0.0968124 The Poincaré surface of section did not have any points!\n",
      "\u001b[33m\u001b[1m└ \u001b[22m\u001b[39m\u001b[90m@ ChaosTools C:\\Users\\Alex\\.julia\\packages\\ChaosTools\\PHPDF\\src\\orbitdiagrams\\produce_orbitdiagram.jl:75\u001b[39m\n"
     ]
    },
    {
     "name": "stdout",
     "output_type": "stream",
     "text": [
      "\n",
      "parameter = -0.0968128"
     ]
    },
    {
     "name": "stderr",
     "output_type": "stream",
     "text": [
      "\u001b[33m\u001b[1m┌ \u001b[22m\u001b[39m\u001b[33m\u001b[1mWarning: \u001b[22m\u001b[39mFor parameter -0.0968126 The Poincaré surface of section did not have any points!\n",
      "\u001b[33m\u001b[1m└ \u001b[22m\u001b[39m\u001b[90m@ ChaosTools C:\\Users\\Alex\\.julia\\packages\\ChaosTools\\PHPDF\\src\\orbitdiagrams\\produce_orbitdiagram.jl:75\u001b[39m\n"
     ]
    },
    {
     "name": "stdout",
     "output_type": "stream",
     "text": [
      "\n",
      "parameter = -0.096813\n"
     ]
    },
    {
     "name": "stderr",
     "output_type": "stream",
     "text": [
      "\u001b[33m\u001b[1m┌ \u001b[22m\u001b[39m\u001b[33m\u001b[1mWarning: \u001b[22m\u001b[39mFor parameter -0.0968128 The Poincaré surface of section did not have any points!\n",
      "\u001b[33m\u001b[1m└ \u001b[22m\u001b[39m\u001b[90m@ ChaosTools C:\\Users\\Alex\\.julia\\packages\\ChaosTools\\PHPDF\\src\\orbitdiagrams\\produce_orbitdiagram.jl:75\u001b[39m\n"
     ]
    },
    {
     "name": "stdout",
     "output_type": "stream",
     "text": [
      "parameter = -0.0968132"
     ]
    },
    {
     "name": "stderr",
     "output_type": "stream",
     "text": [
      "\u001b[33m\u001b[1m┌ \u001b[22m\u001b[39m\u001b[33m\u001b[1mWarning: \u001b[22m\u001b[39mFor parameter -0.096813 The Poincaré surface of section did not have any points!\n",
      "\u001b[33m\u001b[1m└ \u001b[22m\u001b[39m\u001b[90m@ ChaosTools C:\\Users\\Alex\\.julia\\packages\\ChaosTools\\PHPDF\\src\\orbitdiagrams\\produce_orbitdiagram.jl:75\u001b[39m\n"
     ]
    },
    {
     "name": "stdout",
     "output_type": "stream",
     "text": [
      "\n",
      "parameter = -0.0968134"
     ]
    },
    {
     "name": "stderr",
     "output_type": "stream",
     "text": [
      "\u001b[33m\u001b[1m┌ \u001b[22m\u001b[39m\u001b[33m\u001b[1mWarning: \u001b[22m\u001b[39mFor parameter -0.0968132 The Poincaré surface of section did not have any points!\n",
      "\u001b[33m\u001b[1m└ \u001b[22m\u001b[39m\u001b[90m@ ChaosTools C:\\Users\\Alex\\.julia\\packages\\ChaosTools\\PHPDF\\src\\orbitdiagrams\\produce_orbitdiagram.jl:75\u001b[39m\n"
     ]
    },
    {
     "name": "stdout",
     "output_type": "stream",
     "text": [
      "\n",
      "parameter = -0.0968136"
     ]
    },
    {
     "name": "stderr",
     "output_type": "stream",
     "text": [
      "\u001b[33m\u001b[1m┌ \u001b[22m\u001b[39m\u001b[33m\u001b[1mWarning: \u001b[22m\u001b[39mFor parameter -0.0968134 The Poincaré surface of section did not have any points!\n",
      "\u001b[33m\u001b[1m└ \u001b[22m\u001b[39m\u001b[90m@ ChaosTools C:\\Users\\Alex\\.julia\\packages\\ChaosTools\\PHPDF\\src\\orbitdiagrams\\produce_orbitdiagram.jl:75\u001b[39m\n"
     ]
    },
    {
     "name": "stdout",
     "output_type": "stream",
     "text": [
      "\n",
      "parameter = -0.0968138"
     ]
    },
    {
     "name": "stderr",
     "output_type": "stream",
     "text": [
      "\u001b[33m\u001b[1m┌ \u001b[22m\u001b[39m\u001b[33m\u001b[1mWarning: \u001b[22m\u001b[39mFor parameter -0.0968136 The Poincaré surface of section did not have any points!\n",
      "\u001b[33m\u001b[1m└ \u001b[22m\u001b[39m\u001b[90m@ ChaosTools C:\\Users\\Alex\\.julia\\packages\\ChaosTools\\PHPDF\\src\\orbitdiagrams\\produce_orbitdiagram.jl:75\u001b[39m\n"
     ]
    },
    {
     "name": "stdout",
     "output_type": "stream",
     "text": [
      "\n",
      "parameter = -0.096814"
     ]
    },
    {
     "name": "stderr",
     "output_type": "stream",
     "text": [
      "\u001b[33m\u001b[1m┌ \u001b[22m\u001b[39m\u001b[33m\u001b[1mWarning: \u001b[22m\u001b[39mFor parameter -0.0968138 The Poincaré surface of section did not have any points!\n",
      "\u001b[33m\u001b[1m└ \u001b[22m\u001b[39m\u001b[90m@ ChaosTools C:\\Users\\Alex\\.julia\\packages\\ChaosTools\\PHPDF\\src\\orbitdiagrams\\produce_orbitdiagram.jl:75\u001b[39m\n"
     ]
    },
    {
     "name": "stdout",
     "output_type": "stream",
     "text": [
      "\n",
      "parameter = -0.0968142"
     ]
    },
    {
     "name": "stderr",
     "output_type": "stream",
     "text": [
      "\u001b[33m\u001b[1m┌ \u001b[22m\u001b[39m\u001b[33m\u001b[1mWarning: \u001b[22m\u001b[39mFor parameter -0.096814 The Poincaré surface of section did not have any points!\n",
      "\u001b[33m\u001b[1m└ \u001b[22m\u001b[39m\u001b[90m@ ChaosTools C:\\Users\\Alex\\.julia\\packages\\ChaosTools\\PHPDF\\src\\orbitdiagrams\\produce_orbitdiagram.jl:75\u001b[39m\n"
     ]
    },
    {
     "name": "stdout",
     "output_type": "stream",
     "text": [
      "\n",
      "parameter = -0.0968144"
     ]
    },
    {
     "name": "stderr",
     "output_type": "stream",
     "text": [
      "\u001b[33m\u001b[1m┌ \u001b[22m\u001b[39m\u001b[33m\u001b[1mWarning: \u001b[22m\u001b[39mFor parameter -0.0968142 The Poincaré surface of section did not have any points!\n",
      "\u001b[33m\u001b[1m└ \u001b[22m\u001b[39m\u001b[90m@ ChaosTools C:\\Users\\Alex\\.julia\\packages\\ChaosTools\\PHPDF\\src\\orbitdiagrams\\produce_orbitdiagram.jl:75\u001b[39m\n"
     ]
    },
    {
     "name": "stdout",
     "output_type": "stream",
     "text": [
      "\n",
      "parameter = -0.0968146"
     ]
    },
    {
     "name": "stderr",
     "output_type": "stream",
     "text": [
      "\u001b[33m\u001b[1m┌ \u001b[22m\u001b[39m\u001b[33m\u001b[1mWarning: \u001b[22m\u001b[39mFor parameter -0.0968144 The Poincaré surface of section did not have any points!\n",
      "\u001b[33m\u001b[1m└ \u001b[22m\u001b[39m\u001b[90m@ ChaosTools C:\\Users\\Alex\\.julia\\packages\\ChaosTools\\PHPDF\\src\\orbitdiagrams\\produce_orbitdiagram.jl:75\u001b[39m\n"
     ]
    },
    {
     "name": "stdout",
     "output_type": "stream",
     "text": [
      "\n",
      "parameter = -0.0968148\n"
     ]
    },
    {
     "name": "stderr",
     "output_type": "stream",
     "text": [
      "\u001b[33m\u001b[1m┌ \u001b[22m\u001b[39m\u001b[33m\u001b[1mWarning: \u001b[22m\u001b[39mFor parameter -0.0968146 The Poincaré surface of section did not have any points!\n",
      "\u001b[33m\u001b[1m└ \u001b[22m\u001b[39m\u001b[90m@ ChaosTools C:\\Users\\Alex\\.julia\\packages\\ChaosTools\\PHPDF\\src\\orbitdiagrams\\produce_orbitdiagram.jl:75\u001b[39m\n"
     ]
    },
    {
     "name": "stdout",
     "output_type": "stream",
     "text": [
      "parameter = -0.096815"
     ]
    },
    {
     "name": "stderr",
     "output_type": "stream",
     "text": [
      "\u001b[33m\u001b[1m┌ \u001b[22m\u001b[39m\u001b[33m\u001b[1mWarning: \u001b[22m\u001b[39mFor parameter -0.0968148 The Poincaré surface of section did not have any points!\n",
      "\u001b[33m\u001b[1m└ \u001b[22m\u001b[39m\u001b[90m@ ChaosTools C:\\Users\\Alex\\.julia\\packages\\ChaosTools\\PHPDF\\src\\orbitdiagrams\\produce_orbitdiagram.jl:75\u001b[39m\n"
     ]
    },
    {
     "name": "stdout",
     "output_type": "stream",
     "text": [
      "\n",
      "parameter = -0.0968152"
     ]
    },
    {
     "name": "stderr",
     "output_type": "stream",
     "text": [
      "\u001b[33m\u001b[1m┌ \u001b[22m\u001b[39m\u001b[33m\u001b[1mWarning: \u001b[22m\u001b[39mFor parameter -0.096815 The Poincaré surface of section did not have any points!\n",
      "\u001b[33m\u001b[1m└ \u001b[22m\u001b[39m\u001b[90m@ ChaosTools C:\\Users\\Alex\\.julia\\packages\\ChaosTools\\PHPDF\\src\\orbitdiagrams\\produce_orbitdiagram.jl:75\u001b[39m\n"
     ]
    },
    {
     "name": "stdout",
     "output_type": "stream",
     "text": [
      "\n",
      "parameter = -0.0968154"
     ]
    },
    {
     "name": "stderr",
     "output_type": "stream",
     "text": [
      "\u001b[33m\u001b[1m┌ \u001b[22m\u001b[39m\u001b[33m\u001b[1mWarning: \u001b[22m\u001b[39mFor parameter -0.0968152 The Poincaré surface of section did not have any points!\n",
      "\u001b[33m\u001b[1m└ \u001b[22m\u001b[39m\u001b[90m@ ChaosTools C:\\Users\\Alex\\.julia\\packages\\ChaosTools\\PHPDF\\src\\orbitdiagrams\\produce_orbitdiagram.jl:75\u001b[39m\n"
     ]
    },
    {
     "name": "stdout",
     "output_type": "stream",
     "text": [
      "\n",
      "parameter = -0.0968156"
     ]
    },
    {
     "name": "stderr",
     "output_type": "stream",
     "text": [
      "\u001b[33m\u001b[1m┌ \u001b[22m\u001b[39m\u001b[33m\u001b[1mWarning: \u001b[22m\u001b[39mFor parameter -0.0968154 The Poincaré surface of section did not have any points!\n",
      "\u001b[33m\u001b[1m└ \u001b[22m\u001b[39m\u001b[90m@ ChaosTools C:\\Users\\Alex\\.julia\\packages\\ChaosTools\\PHPDF\\src\\orbitdiagrams\\produce_orbitdiagram.jl:75\u001b[39m\n"
     ]
    },
    {
     "name": "stdout",
     "output_type": "stream",
     "text": [
      "\n",
      "parameter = -0.0968158"
     ]
    },
    {
     "name": "stderr",
     "output_type": "stream",
     "text": [
      "\u001b[33m\u001b[1m┌ \u001b[22m\u001b[39m\u001b[33m\u001b[1mWarning: \u001b[22m\u001b[39mFor parameter -0.0968156 The Poincaré surface of section did not have any points!\n",
      "\u001b[33m\u001b[1m└ \u001b[22m\u001b[39m\u001b[90m@ ChaosTools C:\\Users\\Alex\\.julia\\packages\\ChaosTools\\PHPDF\\src\\orbitdiagrams\\produce_orbitdiagram.jl:75\u001b[39m\n"
     ]
    },
    {
     "name": "stdout",
     "output_type": "stream",
     "text": [
      "\n",
      "parameter = -0.096816\n"
     ]
    },
    {
     "name": "stderr",
     "output_type": "stream",
     "text": [
      "\u001b[33m\u001b[1m┌ \u001b[22m\u001b[39m\u001b[33m\u001b[1mWarning: \u001b[22m\u001b[39mFor parameter -0.0968158 The Poincaré surface of section did not have any points!\n",
      "\u001b[33m\u001b[1m└ \u001b[22m\u001b[39m\u001b[90m@ ChaosTools C:\\Users\\Alex\\.julia\\packages\\ChaosTools\\PHPDF\\src\\orbitdiagrams\\produce_orbitdiagram.jl:75\u001b[39m\n"
     ]
    },
    {
     "name": "stdout",
     "output_type": "stream",
     "text": [
      "parameter = -0.0968162"
     ]
    },
    {
     "name": "stderr",
     "output_type": "stream",
     "text": [
      "\u001b[33m\u001b[1m┌ \u001b[22m\u001b[39m\u001b[33m\u001b[1mWarning: \u001b[22m\u001b[39mFor parameter -0.096816 The Poincaré surface of section did not have any points!\n",
      "\u001b[33m\u001b[1m└ \u001b[22m\u001b[39m\u001b[90m@ ChaosTools C:\\Users\\Alex\\.julia\\packages\\ChaosTools\\PHPDF\\src\\orbitdiagrams\\produce_orbitdiagram.jl:75\u001b[39m\n"
     ]
    },
    {
     "name": "stdout",
     "output_type": "stream",
     "text": [
      "\n",
      "parameter = -0.0968164"
     ]
    },
    {
     "name": "stderr",
     "output_type": "stream",
     "text": [
      "\u001b[33m\u001b[1m┌ \u001b[22m\u001b[39m\u001b[33m\u001b[1mWarning: \u001b[22m\u001b[39mFor parameter -0.0968162 The Poincaré surface of section did not have any points!\n",
      "\u001b[33m\u001b[1m└ \u001b[22m\u001b[39m\u001b[90m@ ChaosTools C:\\Users\\Alex\\.julia\\packages\\ChaosTools\\PHPDF\\src\\orbitdiagrams\\produce_orbitdiagram.jl:75\u001b[39m\n"
     ]
    },
    {
     "name": "stdout",
     "output_type": "stream",
     "text": [
      "\n",
      "parameter = -0.0968166\n"
     ]
    },
    {
     "name": "stderr",
     "output_type": "stream",
     "text": [
      "\u001b[33m\u001b[1m┌ \u001b[22m\u001b[39m\u001b[33m\u001b[1mWarning: \u001b[22m\u001b[39mFor parameter -0.0968164 The Poincaré surface of section did not have any points!\n",
      "\u001b[33m\u001b[1m└ \u001b[22m\u001b[39m\u001b[90m@ ChaosTools C:\\Users\\Alex\\.julia\\packages\\ChaosTools\\PHPDF\\src\\orbitdiagrams\\produce_orbitdiagram.jl:75\u001b[39m\n"
     ]
    },
    {
     "name": "stdout",
     "output_type": "stream",
     "text": [
      "parameter = -0.0968168"
     ]
    },
    {
     "name": "stderr",
     "output_type": "stream",
     "text": [
      "\u001b[33m\u001b[1m┌ \u001b[22m\u001b[39m\u001b[33m\u001b[1mWarning: \u001b[22m\u001b[39mFor parameter -0.0968166 The Poincaré surface of section did not have any points!\n",
      "\u001b[33m\u001b[1m└ \u001b[22m\u001b[39m\u001b[90m@ ChaosTools C:\\Users\\Alex\\.julia\\packages\\ChaosTools\\PHPDF\\src\\orbitdiagrams\\produce_orbitdiagram.jl:75\u001b[39m\n"
     ]
    },
    {
     "name": "stdout",
     "output_type": "stream",
     "text": [
      "\n",
      "parameter = -0.096817\n"
     ]
    },
    {
     "name": "stderr",
     "output_type": "stream",
     "text": [
      "\u001b[33m\u001b[1m┌ \u001b[22m\u001b[39m\u001b[33m\u001b[1mWarning: \u001b[22m\u001b[39mFor parameter -0.0968168 The Poincaré surface of section did not have any points!\n",
      "\u001b[33m\u001b[1m└ \u001b[22m\u001b[39m\u001b[90m@ ChaosTools C:\\Users\\Alex\\.julia\\packages\\ChaosTools\\PHPDF\\src\\orbitdiagrams\\produce_orbitdiagram.jl:75\u001b[39m\n"
     ]
    },
    {
     "name": "stdout",
     "output_type": "stream",
     "text": [
      "parameter = -0.0968172\n"
     ]
    },
    {
     "name": "stderr",
     "output_type": "stream",
     "text": [
      "\u001b[33m\u001b[1m┌ \u001b[22m\u001b[39m\u001b[33m\u001b[1mWarning: \u001b[22m\u001b[39mFor parameter -0.096817 The Poincaré surface of section did not have any points!\n",
      "\u001b[33m\u001b[1m└ \u001b[22m\u001b[39m\u001b[90m@ ChaosTools C:\\Users\\Alex\\.julia\\packages\\ChaosTools\\PHPDF\\src\\orbitdiagrams\\produce_orbitdiagram.jl:75\u001b[39m\n"
     ]
    },
    {
     "name": "stdout",
     "output_type": "stream",
     "text": [
      "parameter = -0.0968174"
     ]
    },
    {
     "name": "stderr",
     "output_type": "stream",
     "text": [
      "\u001b[33m\u001b[1m┌ \u001b[22m\u001b[39m\u001b[33m\u001b[1mWarning: \u001b[22m\u001b[39mFor parameter -0.0968172 The Poincaré surface of section did not have any points!\n",
      "\u001b[33m\u001b[1m└ \u001b[22m\u001b[39m\u001b[90m@ ChaosTools C:\\Users\\Alex\\.julia\\packages\\ChaosTools\\PHPDF\\src\\orbitdiagrams\\produce_orbitdiagram.jl:75\u001b[39m\n"
     ]
    },
    {
     "name": "stdout",
     "output_type": "stream",
     "text": [
      "\n",
      "parameter = -0.0968176"
     ]
    },
    {
     "name": "stderr",
     "output_type": "stream",
     "text": [
      "\u001b[33m\u001b[1m┌ \u001b[22m\u001b[39m\u001b[33m\u001b[1mWarning: \u001b[22m\u001b[39mFor parameter -0.0968174 The Poincaré surface of section did not have any points!\n",
      "\u001b[33m\u001b[1m└ \u001b[22m\u001b[39m\u001b[90m@ ChaosTools C:\\Users\\Alex\\.julia\\packages\\ChaosTools\\PHPDF\\src\\orbitdiagrams\\produce_orbitdiagram.jl:75\u001b[39m\n"
     ]
    },
    {
     "name": "stdout",
     "output_type": "stream",
     "text": [
      "\n",
      "parameter = -0.0968178"
     ]
    },
    {
     "name": "stderr",
     "output_type": "stream",
     "text": [
      "\u001b[33m\u001b[1m┌ \u001b[22m\u001b[39m\u001b[33m\u001b[1mWarning: \u001b[22m\u001b[39mFor parameter -0.0968176 The Poincaré surface of section did not have any points!\n",
      "\u001b[33m\u001b[1m└ \u001b[22m\u001b[39m\u001b[90m@ ChaosTools C:\\Users\\Alex\\.julia\\packages\\ChaosTools\\PHPDF\\src\\orbitdiagrams\\produce_orbitdiagram.jl:75\u001b[39m\n"
     ]
    },
    {
     "name": "stdout",
     "output_type": "stream",
     "text": [
      "\n",
      "parameter = -0.096818"
     ]
    },
    {
     "name": "stderr",
     "output_type": "stream",
     "text": [
      "\u001b[33m\u001b[1m┌ \u001b[22m\u001b[39m\u001b[33m\u001b[1mWarning: \u001b[22m\u001b[39mFor parameter -0.0968178 The Poincaré surface of section did not have any points!\n",
      "\u001b[33m\u001b[1m└ \u001b[22m\u001b[39m\u001b[90m@ ChaosTools C:\\Users\\Alex\\.julia\\packages\\ChaosTools\\PHPDF\\src\\orbitdiagrams\\produce_orbitdiagram.jl:75\u001b[39m\n"
     ]
    },
    {
     "name": "stdout",
     "output_type": "stream",
     "text": [
      "\n",
      "parameter = -0.0968182"
     ]
    },
    {
     "name": "stderr",
     "output_type": "stream",
     "text": [
      "\u001b[33m\u001b[1m┌ \u001b[22m\u001b[39m\u001b[33m\u001b[1mWarning: \u001b[22m\u001b[39mFor parameter -0.096818 The Poincaré surface of section did not have any points!\n",
      "\u001b[33m\u001b[1m└ \u001b[22m\u001b[39m\u001b[90m@ ChaosTools C:\\Users\\Alex\\.julia\\packages\\ChaosTools\\PHPDF\\src\\orbitdiagrams\\produce_orbitdiagram.jl:75\u001b[39m\n"
     ]
    },
    {
     "name": "stdout",
     "output_type": "stream",
     "text": [
      "\n",
      "parameter = -0.0968184"
     ]
    },
    {
     "name": "stderr",
     "output_type": "stream",
     "text": [
      "\u001b[33m\u001b[1m┌ \u001b[22m\u001b[39m\u001b[33m\u001b[1mWarning: \u001b[22m\u001b[39mFor parameter -0.0968182 The Poincaré surface of section did not have any points!\n",
      "\u001b[33m\u001b[1m└ \u001b[22m\u001b[39m\u001b[90m@ ChaosTools C:\\Users\\Alex\\.julia\\packages\\ChaosTools\\PHPDF\\src\\orbitdiagrams\\produce_orbitdiagram.jl:75\u001b[39m\n"
     ]
    },
    {
     "name": "stdout",
     "output_type": "stream",
     "text": [
      "\n",
      "parameter = -0.0968186\n"
     ]
    },
    {
     "name": "stderr",
     "output_type": "stream",
     "text": [
      "\u001b[33m\u001b[1m┌ \u001b[22m\u001b[39m\u001b[33m\u001b[1mWarning: \u001b[22m\u001b[39mFor parameter -0.0968184 The Poincaré surface of section did not have any points!\n",
      "\u001b[33m\u001b[1m└ \u001b[22m\u001b[39m\u001b[90m@ ChaosTools C:\\Users\\Alex\\.julia\\packages\\ChaosTools\\PHPDF\\src\\orbitdiagrams\\produce_orbitdiagram.jl:75\u001b[39m\n"
     ]
    },
    {
     "name": "stdout",
     "output_type": "stream",
     "text": [
      "parameter = -0.0968188"
     ]
    },
    {
     "name": "stderr",
     "output_type": "stream",
     "text": [
      "\u001b[33m\u001b[1m┌ \u001b[22m\u001b[39m\u001b[33m\u001b[1mWarning: \u001b[22m\u001b[39mFor parameter -0.0968186 The Poincaré surface of section did not have any points!\n",
      "\u001b[33m\u001b[1m└ \u001b[22m\u001b[39m\u001b[90m@ ChaosTools C:\\Users\\Alex\\.julia\\packages\\ChaosTools\\PHPDF\\src\\orbitdiagrams\\produce_orbitdiagram.jl:75\u001b[39m\n"
     ]
    },
    {
     "name": "stdout",
     "output_type": "stream",
     "text": [
      "\n",
      "parameter = -0.096819\n"
     ]
    },
    {
     "name": "stderr",
     "output_type": "stream",
     "text": [
      "\u001b[33m\u001b[1m┌ \u001b[22m\u001b[39m\u001b[33m\u001b[1mWarning: \u001b[22m\u001b[39mFor parameter -0.0968188 The Poincaré surface of section did not have any points!\n",
      "\u001b[33m\u001b[1m└ \u001b[22m\u001b[39m\u001b[90m@ ChaosTools C:\\Users\\Alex\\.julia\\packages\\ChaosTools\\PHPDF\\src\\orbitdiagrams\\produce_orbitdiagram.jl:75\u001b[39m\n"
     ]
    },
    {
     "name": "stdout",
     "output_type": "stream",
     "text": [
      "parameter = -0.0968192"
     ]
    },
    {
     "name": "stderr",
     "output_type": "stream",
     "text": [
      "\u001b[33m\u001b[1m┌ \u001b[22m\u001b[39m\u001b[33m\u001b[1mWarning: \u001b[22m\u001b[39mFor parameter -0.096819 The Poincaré surface of section did not have any points!\n",
      "\u001b[33m\u001b[1m└ \u001b[22m\u001b[39m\u001b[90m@ ChaosTools C:\\Users\\Alex\\.julia\\packages\\ChaosTools\\PHPDF\\src\\orbitdiagrams\\produce_orbitdiagram.jl:75\u001b[39m\n"
     ]
    },
    {
     "name": "stdout",
     "output_type": "stream",
     "text": [
      "\n",
      "parameter = -0.0968194\n"
     ]
    },
    {
     "name": "stderr",
     "output_type": "stream",
     "text": [
      "\u001b[33m\u001b[1m┌ \u001b[22m\u001b[39m\u001b[33m\u001b[1mWarning: \u001b[22m\u001b[39mFor parameter -0.0968192 The Poincaré surface of section did not have any points!\n",
      "\u001b[33m\u001b[1m└ \u001b[22m\u001b[39m\u001b[90m@ ChaosTools C:\\Users\\Alex\\.julia\\packages\\ChaosTools\\PHPDF\\src\\orbitdiagrams\\produce_orbitdiagram.jl:75\u001b[39m\n"
     ]
    },
    {
     "name": "stdout",
     "output_type": "stream",
     "text": [
      "parameter = -0.0968196\n"
     ]
    },
    {
     "name": "stderr",
     "output_type": "stream",
     "text": [
      "\u001b[33m\u001b[1m┌ \u001b[22m\u001b[39m\u001b[33m\u001b[1mWarning: \u001b[22m\u001b[39mFor parameter -0.0968194 The Poincaré surface of section did not have any points!\n",
      "\u001b[33m\u001b[1m└ \u001b[22m\u001b[39m\u001b[90m@ ChaosTools C:\\Users\\Alex\\.julia\\packages\\ChaosTools\\PHPDF\\src\\orbitdiagrams\\produce_orbitdiagram.jl:75\u001b[39m\n"
     ]
    },
    {
     "name": "stdout",
     "output_type": "stream",
     "text": [
      "parameter = -0.0968198"
     ]
    },
    {
     "name": "stderr",
     "output_type": "stream",
     "text": [
      "\u001b[33m\u001b[1m┌ \u001b[22m\u001b[39m\u001b[33m\u001b[1mWarning: \u001b[22m\u001b[39mFor parameter -0.0968196 The Poincaré surface of section did not have any points!\n",
      "\u001b[33m\u001b[1m└ \u001b[22m\u001b[39m\u001b[90m@ ChaosTools C:\\Users\\Alex\\.julia\\packages\\ChaosTools\\PHPDF\\src\\orbitdiagrams\\produce_orbitdiagram.jl:75\u001b[39m\n"
     ]
    },
    {
     "name": "stdout",
     "output_type": "stream",
     "text": [
      "\n",
      "parameter = -0.09682\n"
     ]
    },
    {
     "name": "stderr",
     "output_type": "stream",
     "text": [
      "\u001b[33m\u001b[1m┌ \u001b[22m\u001b[39m\u001b[33m\u001b[1mWarning: \u001b[22m\u001b[39mFor parameter -0.0968198 The Poincaré surface of section did not have any points!\n",
      "\u001b[33m\u001b[1m└ \u001b[22m\u001b[39m\u001b[90m@ ChaosTools C:\\Users\\Alex\\.julia\\packages\\ChaosTools\\PHPDF\\src\\orbitdiagrams\\produce_orbitdiagram.jl:75\u001b[39m\n"
     ]
    },
    {
     "name": "stdout",
     "output_type": "stream",
     "text": [
      "parameter = -0.0968202"
     ]
    },
    {
     "name": "stderr",
     "output_type": "stream",
     "text": [
      "\u001b[33m\u001b[1m┌ \u001b[22m\u001b[39m\u001b[33m\u001b[1mWarning: \u001b[22m\u001b[39mFor parameter -0.09682 The Poincaré surface of section did not have any points!\n",
      "\u001b[33m\u001b[1m└ \u001b[22m\u001b[39m\u001b[90m@ ChaosTools C:\\Users\\Alex\\.julia\\packages\\ChaosTools\\PHPDF\\src\\orbitdiagrams\\produce_orbitdiagram.jl:75\u001b[39m\n"
     ]
    },
    {
     "name": "stdout",
     "output_type": "stream",
     "text": [
      "\n",
      "parameter = -0.0968204\n"
     ]
    },
    {
     "name": "stderr",
     "output_type": "stream",
     "text": [
      "\u001b[33m\u001b[1m┌ \u001b[22m\u001b[39m\u001b[33m\u001b[1mWarning: \u001b[22m\u001b[39mFor parameter -0.0968202 The Poincaré surface of section did not have any points!\n",
      "\u001b[33m\u001b[1m└ \u001b[22m\u001b[39m\u001b[90m@ ChaosTools C:\\Users\\Alex\\.julia\\packages\\ChaosTools\\PHPDF\\src\\orbitdiagrams\\produce_orbitdiagram.jl:75\u001b[39m\n"
     ]
    },
    {
     "name": "stdout",
     "output_type": "stream",
     "text": [
      "parameter = -0.0968206"
     ]
    },
    {
     "name": "stderr",
     "output_type": "stream",
     "text": [
      "\u001b[33m\u001b[1m┌ \u001b[22m\u001b[39m\u001b[33m\u001b[1mWarning: \u001b[22m\u001b[39mFor parameter -0.0968204 The Poincaré surface of section did not have any points!\n",
      "\u001b[33m\u001b[1m└ \u001b[22m\u001b[39m\u001b[90m@ ChaosTools C:\\Users\\Alex\\.julia\\packages\\ChaosTools\\PHPDF\\src\\orbitdiagrams\\produce_orbitdiagram.jl:75\u001b[39m\n"
     ]
    },
    {
     "name": "stdout",
     "output_type": "stream",
     "text": [
      "\n",
      "parameter = -0.0968208"
     ]
    },
    {
     "name": "stderr",
     "output_type": "stream",
     "text": [
      "\u001b[33m\u001b[1m┌ \u001b[22m\u001b[39m\u001b[33m\u001b[1mWarning: \u001b[22m\u001b[39mFor parameter -0.0968206 The Poincaré surface of section did not have any points!\n",
      "\u001b[33m\u001b[1m└ \u001b[22m\u001b[39m\u001b[90m@ ChaosTools C:\\Users\\Alex\\.julia\\packages\\ChaosTools\\PHPDF\\src\\orbitdiagrams\\produce_orbitdiagram.jl:75\u001b[39m\n"
     ]
    },
    {
     "name": "stdout",
     "output_type": "stream",
     "text": [
      "\n",
      "parameter = -0.096821"
     ]
    },
    {
     "name": "stderr",
     "output_type": "stream",
     "text": [
      "\u001b[33m\u001b[1m┌ \u001b[22m\u001b[39m\u001b[33m\u001b[1mWarning: \u001b[22m\u001b[39mFor parameter -0.0968208 The Poincaré surface of section did not have any points!\n",
      "\u001b[33m\u001b[1m└ \u001b[22m\u001b[39m\u001b[90m@ ChaosTools C:\\Users\\Alex\\.julia\\packages\\ChaosTools\\PHPDF\\src\\orbitdiagrams\\produce_orbitdiagram.jl:75\u001b[39m\n"
     ]
    },
    {
     "name": "stdout",
     "output_type": "stream",
     "text": [
      "\n",
      "parameter = -0.0968212\n"
     ]
    },
    {
     "name": "stderr",
     "output_type": "stream",
     "text": [
      "\u001b[33m\u001b[1m┌ \u001b[22m\u001b[39m\u001b[33m\u001b[1mWarning: \u001b[22m\u001b[39mFor parameter -0.096821 The Poincaré surface of section did not have any points!\n",
      "\u001b[33m\u001b[1m└ \u001b[22m\u001b[39m\u001b[90m@ ChaosTools C:\\Users\\Alex\\.julia\\packages\\ChaosTools\\PHPDF\\src\\orbitdiagrams\\produce_orbitdiagram.jl:75\u001b[39m\n"
     ]
    },
    {
     "name": "stdout",
     "output_type": "stream",
     "text": [
      "parameter = -0.0968214"
     ]
    },
    {
     "name": "stderr",
     "output_type": "stream",
     "text": [
      "\u001b[33m\u001b[1m┌ \u001b[22m\u001b[39m\u001b[33m\u001b[1mWarning: \u001b[22m\u001b[39mFor parameter -0.0968212 The Poincaré surface of section did not have any points!\n",
      "\u001b[33m\u001b[1m└ \u001b[22m\u001b[39m\u001b[90m@ ChaosTools C:\\Users\\Alex\\.julia\\packages\\ChaosTools\\PHPDF\\src\\orbitdiagrams\\produce_orbitdiagram.jl:75\u001b[39m\n"
     ]
    },
    {
     "name": "stdout",
     "output_type": "stream",
     "text": [
      "\n",
      "parameter = -0.0968216"
     ]
    },
    {
     "name": "stderr",
     "output_type": "stream",
     "text": [
      "\u001b[33m\u001b[1m┌ \u001b[22m\u001b[39m\u001b[33m\u001b[1mWarning: \u001b[22m\u001b[39mFor parameter -0.0968214 The Poincaré surface of section did not have any points!\n",
      "\u001b[33m\u001b[1m└ \u001b[22m\u001b[39m\u001b[90m@ ChaosTools C:\\Users\\Alex\\.julia\\packages\\ChaosTools\\PHPDF\\src\\orbitdiagrams\\produce_orbitdiagram.jl:75\u001b[39m\n"
     ]
    },
    {
     "name": "stdout",
     "output_type": "stream",
     "text": [
      "\n",
      "parameter = -0.0968218\n"
     ]
    },
    {
     "name": "stderr",
     "output_type": "stream",
     "text": [
      "\u001b[33m\u001b[1m┌ \u001b[22m\u001b[39m\u001b[33m\u001b[1mWarning: \u001b[22m\u001b[39mFor parameter -0.0968216 The Poincaré surface of section did not have any points!\n",
      "\u001b[33m\u001b[1m└ \u001b[22m\u001b[39m\u001b[90m@ ChaosTools C:\\Users\\Alex\\.julia\\packages\\ChaosTools\\PHPDF\\src\\orbitdiagrams\\produce_orbitdiagram.jl:75\u001b[39m\n"
     ]
    },
    {
     "name": "stdout",
     "output_type": "stream",
     "text": [
      "parameter = -0.096822"
     ]
    },
    {
     "name": "stderr",
     "output_type": "stream",
     "text": [
      "\u001b[33m\u001b[1m┌ \u001b[22m\u001b[39m\u001b[33m\u001b[1mWarning: \u001b[22m\u001b[39mFor parameter -0.0968218 The Poincaré surface of section did not have any points!\n",
      "\u001b[33m\u001b[1m└ \u001b[22m\u001b[39m\u001b[90m@ ChaosTools C:\\Users\\Alex\\.julia\\packages\\ChaosTools\\PHPDF\\src\\orbitdiagrams\\produce_orbitdiagram.jl:75\u001b[39m\n"
     ]
    },
    {
     "name": "stdout",
     "output_type": "stream",
     "text": [
      "\n",
      "parameter = -0.0968222\n"
     ]
    },
    {
     "name": "stderr",
     "output_type": "stream",
     "text": [
      "\u001b[33m\u001b[1m┌ \u001b[22m\u001b[39m\u001b[33m\u001b[1mWarning: \u001b[22m\u001b[39mFor parameter -0.096822 The Poincaré surface of section did not have any points!\n",
      "\u001b[33m\u001b[1m└ \u001b[22m\u001b[39m\u001b[90m@ ChaosTools C:\\Users\\Alex\\.julia\\packages\\ChaosTools\\PHPDF\\src\\orbitdiagrams\\produce_orbitdiagram.jl:75\u001b[39m\n"
     ]
    },
    {
     "name": "stdout",
     "output_type": "stream",
     "text": [
      "parameter = -0.0968224"
     ]
    },
    {
     "name": "stderr",
     "output_type": "stream",
     "text": [
      "\u001b[33m\u001b[1m┌ \u001b[22m\u001b[39m\u001b[33m\u001b[1mWarning: \u001b[22m\u001b[39mFor parameter -0.0968222 The Poincaré surface of section did not have any points!\n",
      "\u001b[33m\u001b[1m└ \u001b[22m\u001b[39m\u001b[90m@ ChaosTools C:\\Users\\Alex\\.julia\\packages\\ChaosTools\\PHPDF\\src\\orbitdiagrams\\produce_orbitdiagram.jl:75\u001b[39m\n"
     ]
    },
    {
     "name": "stdout",
     "output_type": "stream",
     "text": [
      "\n",
      "parameter = -0.0968226"
     ]
    },
    {
     "name": "stderr",
     "output_type": "stream",
     "text": [
      "\u001b[33m\u001b[1m┌ \u001b[22m\u001b[39m\u001b[33m\u001b[1mWarning: \u001b[22m\u001b[39mFor parameter -0.0968224 The Poincaré surface of section did not have any points!\n",
      "\u001b[33m\u001b[1m└ \u001b[22m\u001b[39m\u001b[90m@ ChaosTools C:\\Users\\Alex\\.julia\\packages\\ChaosTools\\PHPDF\\src\\orbitdiagrams\\produce_orbitdiagram.jl:75\u001b[39m\n"
     ]
    },
    {
     "name": "stdout",
     "output_type": "stream",
     "text": [
      "\n",
      "parameter = -0.0968228\n"
     ]
    },
    {
     "name": "stderr",
     "output_type": "stream",
     "text": [
      "\u001b[33m\u001b[1m┌ \u001b[22m\u001b[39m\u001b[33m\u001b[1mWarning: \u001b[22m\u001b[39mFor parameter -0.0968226 The Poincaré surface of section did not have any points!\n",
      "\u001b[33m\u001b[1m└ \u001b[22m\u001b[39m\u001b[90m@ ChaosTools C:\\Users\\Alex\\.julia\\packages\\ChaosTools\\PHPDF\\src\\orbitdiagrams\\produce_orbitdiagram.jl:75\u001b[39m\n"
     ]
    },
    {
     "name": "stdout",
     "output_type": "stream",
     "text": [
      "parameter = -0.096823"
     ]
    },
    {
     "name": "stderr",
     "output_type": "stream",
     "text": [
      "\u001b[33m\u001b[1m┌ \u001b[22m\u001b[39m\u001b[33m\u001b[1mWarning: \u001b[22m\u001b[39mFor parameter -0.0968228 The Poincaré surface of section did not have any points!\n",
      "\u001b[33m\u001b[1m└ \u001b[22m\u001b[39m\u001b[90m@ ChaosTools C:\\Users\\Alex\\.julia\\packages\\ChaosTools\\PHPDF\\src\\orbitdiagrams\\produce_orbitdiagram.jl:75\u001b[39m\n"
     ]
    },
    {
     "name": "stdout",
     "output_type": "stream",
     "text": [
      "\n",
      "parameter = -0.0968232"
     ]
    },
    {
     "name": "stderr",
     "output_type": "stream",
     "text": [
      "\u001b[33m\u001b[1m┌ \u001b[22m\u001b[39m\u001b[33m\u001b[1mWarning: \u001b[22m\u001b[39mFor parameter -0.096823 The Poincaré surface of section did not have any points!\n",
      "\u001b[33m\u001b[1m└ \u001b[22m\u001b[39m\u001b[90m@ ChaosTools C:\\Users\\Alex\\.julia\\packages\\ChaosTools\\PHPDF\\src\\orbitdiagrams\\produce_orbitdiagram.jl:75\u001b[39m\n"
     ]
    },
    {
     "name": "stdout",
     "output_type": "stream",
     "text": [
      "\n",
      "parameter = -0.0968234"
     ]
    },
    {
     "name": "stderr",
     "output_type": "stream",
     "text": [
      "\u001b[33m\u001b[1m┌ \u001b[22m\u001b[39m\u001b[33m\u001b[1mWarning: \u001b[22m\u001b[39mFor parameter -0.0968232 The Poincaré surface of section did not have any points!\n",
      "\u001b[33m\u001b[1m└ \u001b[22m\u001b[39m\u001b[90m@ ChaosTools C:\\Users\\Alex\\.julia\\packages\\ChaosTools\\PHPDF\\src\\orbitdiagrams\\produce_orbitdiagram.jl:75\u001b[39m\n"
     ]
    },
    {
     "name": "stdout",
     "output_type": "stream",
     "text": [
      "\n",
      "parameter = -0.0968236"
     ]
    },
    {
     "name": "stderr",
     "output_type": "stream",
     "text": [
      "\u001b[33m\u001b[1m┌ \u001b[22m\u001b[39m\u001b[33m\u001b[1mWarning: \u001b[22m\u001b[39mFor parameter -0.0968234 The Poincaré surface of section did not have any points!\n",
      "\u001b[33m\u001b[1m└ \u001b[22m\u001b[39m\u001b[90m@ ChaosTools C:\\Users\\Alex\\.julia\\packages\\ChaosTools\\PHPDF\\src\\orbitdiagrams\\produce_orbitdiagram.jl:75\u001b[39m\n"
     ]
    },
    {
     "name": "stdout",
     "output_type": "stream",
     "text": [
      "\n",
      "parameter = -0.0968238"
     ]
    },
    {
     "name": "stderr",
     "output_type": "stream",
     "text": [
      "\u001b[33m\u001b[1m┌ \u001b[22m\u001b[39m\u001b[33m\u001b[1mWarning: \u001b[22m\u001b[39mFor parameter -0.0968236 The Poincaré surface of section did not have any points!\n",
      "\u001b[33m\u001b[1m└ \u001b[22m\u001b[39m\u001b[90m@ ChaosTools C:\\Users\\Alex\\.julia\\packages\\ChaosTools\\PHPDF\\src\\orbitdiagrams\\produce_orbitdiagram.jl:75\u001b[39m\n"
     ]
    },
    {
     "name": "stdout",
     "output_type": "stream",
     "text": [
      "\n",
      "parameter = -0.096824"
     ]
    },
    {
     "name": "stderr",
     "output_type": "stream",
     "text": [
      "\u001b[33m\u001b[1m┌ \u001b[22m\u001b[39m\u001b[33m\u001b[1mWarning: \u001b[22m\u001b[39mFor parameter -0.0968238 The Poincaré surface of section did not have any points!\n",
      "\u001b[33m\u001b[1m└ \u001b[22m\u001b[39m\u001b[90m@ ChaosTools C:\\Users\\Alex\\.julia\\packages\\ChaosTools\\PHPDF\\src\\orbitdiagrams\\produce_orbitdiagram.jl:75\u001b[39m\n"
     ]
    },
    {
     "name": "stdout",
     "output_type": "stream",
     "text": [
      "\n",
      "parameter = -0.0968242\n"
     ]
    },
    {
     "name": "stderr",
     "output_type": "stream",
     "text": [
      "\u001b[33m\u001b[1m┌ \u001b[22m\u001b[39m\u001b[33m\u001b[1mWarning: \u001b[22m\u001b[39mFor parameter -0.096824 The Poincaré surface of section did not have any points!\n",
      "\u001b[33m\u001b[1m└ \u001b[22m\u001b[39m\u001b[90m@ ChaosTools C:\\Users\\Alex\\.julia\\packages\\ChaosTools\\PHPDF\\src\\orbitdiagrams\\produce_orbitdiagram.jl:75\u001b[39m\n"
     ]
    },
    {
     "name": "stdout",
     "output_type": "stream",
     "text": [
      "parameter = -0.0968244\n"
     ]
    },
    {
     "name": "stderr",
     "output_type": "stream",
     "text": [
      "\u001b[33m\u001b[1m┌ \u001b[22m\u001b[39m\u001b[33m\u001b[1mWarning: \u001b[22m\u001b[39mFor parameter -0.0968242 The Poincaré surface of section did not have any points!\n",
      "\u001b[33m\u001b[1m└ \u001b[22m\u001b[39m\u001b[90m@ ChaosTools C:\\Users\\Alex\\.julia\\packages\\ChaosTools\\PHPDF\\src\\orbitdiagrams\\produce_orbitdiagram.jl:75\u001b[39m\n"
     ]
    },
    {
     "name": "stdout",
     "output_type": "stream",
     "text": [
      "parameter = -0.0968246\n"
     ]
    },
    {
     "name": "stderr",
     "output_type": "stream",
     "text": [
      "\u001b[33m\u001b[1m┌ \u001b[22m\u001b[39m\u001b[33m\u001b[1mWarning: \u001b[22m\u001b[39mFor parameter -0.0968244 The Poincaré surface of section did not have any points!\n",
      "\u001b[33m\u001b[1m└ \u001b[22m\u001b[39m\u001b[90m@ ChaosTools C:\\Users\\Alex\\.julia\\packages\\ChaosTools\\PHPDF\\src\\orbitdiagrams\\produce_orbitdiagram.jl:75\u001b[39m\n"
     ]
    },
    {
     "name": "stdout",
     "output_type": "stream",
     "text": [
      "parameter = -0.0968248\n"
     ]
    },
    {
     "name": "stderr",
     "output_type": "stream",
     "text": [
      "\u001b[33m\u001b[1m┌ \u001b[22m\u001b[39m\u001b[33m\u001b[1mWarning: \u001b[22m\u001b[39mFor parameter -0.0968246 The Poincaré surface of section did not have any points!\n",
      "\u001b[33m\u001b[1m└ \u001b[22m\u001b[39m\u001b[90m@ ChaosTools C:\\Users\\Alex\\.julia\\packages\\ChaosTools\\PHPDF\\src\\orbitdiagrams\\produce_orbitdiagram.jl:75\u001b[39m\n"
     ]
    },
    {
     "name": "stdout",
     "output_type": "stream",
     "text": [
      "parameter = -0.096825\n"
     ]
    },
    {
     "name": "stderr",
     "output_type": "stream",
     "text": [
      "\u001b[33m\u001b[1m┌ \u001b[22m\u001b[39m\u001b[33m\u001b[1mWarning: \u001b[22m\u001b[39mFor parameter -0.0968248 The Poincaré surface of section did not have any points!\n",
      "\u001b[33m\u001b[1m└ \u001b[22m\u001b[39m\u001b[90m@ ChaosTools C:\\Users\\Alex\\.julia\\packages\\ChaosTools\\PHPDF\\src\\orbitdiagrams\\produce_orbitdiagram.jl:75\u001b[39m\n"
     ]
    },
    {
     "name": "stdout",
     "output_type": "stream",
     "text": [
      "parameter = -0.0968252"
     ]
    },
    {
     "name": "stderr",
     "output_type": "stream",
     "text": [
      "\u001b[33m\u001b[1m┌ \u001b[22m\u001b[39m\u001b[33m\u001b[1mWarning: \u001b[22m\u001b[39mFor parameter -0.096825 The Poincaré surface of section did not have any points!\n",
      "\u001b[33m\u001b[1m└ \u001b[22m\u001b[39m\u001b[90m@ ChaosTools C:\\Users\\Alex\\.julia\\packages\\ChaosTools\\PHPDF\\src\\orbitdiagrams\\produce_orbitdiagram.jl:75\u001b[39m\n"
     ]
    },
    {
     "name": "stdout",
     "output_type": "stream",
     "text": [
      "\n",
      "parameter = -0.0968254\n"
     ]
    },
    {
     "name": "stderr",
     "output_type": "stream",
     "text": [
      "\u001b[33m\u001b[1m┌ \u001b[22m\u001b[39m\u001b[33m\u001b[1mWarning: \u001b[22m\u001b[39mFor parameter -0.0968252 The Poincaré surface of section did not have any points!\n",
      "\u001b[33m\u001b[1m└ \u001b[22m\u001b[39m\u001b[90m@ ChaosTools C:\\Users\\Alex\\.julia\\packages\\ChaosTools\\PHPDF\\src\\orbitdiagrams\\produce_orbitdiagram.jl:75\u001b[39m\n"
     ]
    },
    {
     "name": "stdout",
     "output_type": "stream",
     "text": [
      "parameter = -0.0968256"
     ]
    },
    {
     "name": "stderr",
     "output_type": "stream",
     "text": [
      "\u001b[33m\u001b[1m┌ \u001b[22m\u001b[39m\u001b[33m\u001b[1mWarning: \u001b[22m\u001b[39mFor parameter -0.0968254 The Poincaré surface of section did not have any points!\n",
      "\u001b[33m\u001b[1m└ \u001b[22m\u001b[39m\u001b[90m@ ChaosTools C:\\Users\\Alex\\.julia\\packages\\ChaosTools\\PHPDF\\src\\orbitdiagrams\\produce_orbitdiagram.jl:75\u001b[39m\n"
     ]
    },
    {
     "name": "stdout",
     "output_type": "stream",
     "text": [
      "\n",
      "parameter = -0.0968258\n"
     ]
    },
    {
     "name": "stderr",
     "output_type": "stream",
     "text": [
      "\u001b[33m\u001b[1m┌ \u001b[22m\u001b[39m\u001b[33m\u001b[1mWarning: \u001b[22m\u001b[39mFor parameter -0.0968256 The Poincaré surface of section did not have any points!\n",
      "\u001b[33m\u001b[1m└ \u001b[22m\u001b[39m\u001b[90m@ ChaosTools C:\\Users\\Alex\\.julia\\packages\\ChaosTools\\PHPDF\\src\\orbitdiagrams\\produce_orbitdiagram.jl:75\u001b[39m\n"
     ]
    },
    {
     "name": "stdout",
     "output_type": "stream",
     "text": [
      "parameter = -0.096826\n"
     ]
    },
    {
     "name": "stderr",
     "output_type": "stream",
     "text": [
      "\u001b[33m\u001b[1m┌ \u001b[22m\u001b[39m\u001b[33m\u001b[1mWarning: \u001b[22m\u001b[39mFor parameter -0.0968258 The Poincaré surface of section did not have any points!\n",
      "\u001b[33m\u001b[1m└ \u001b[22m\u001b[39m\u001b[90m@ ChaosTools C:\\Users\\Alex\\.julia\\packages\\ChaosTools\\PHPDF\\src\\orbitdiagrams\\produce_orbitdiagram.jl:75\u001b[39m\n"
     ]
    },
    {
     "name": "stdout",
     "output_type": "stream",
     "text": [
      "parameter = -0.0968262"
     ]
    },
    {
     "name": "stderr",
     "output_type": "stream",
     "text": [
      "\u001b[33m\u001b[1m┌ \u001b[22m\u001b[39m\u001b[33m\u001b[1mWarning: \u001b[22m\u001b[39mFor parameter -0.096826 The Poincaré surface of section did not have any points!\n",
      "\u001b[33m\u001b[1m└ \u001b[22m\u001b[39m\u001b[90m@ ChaosTools C:\\Users\\Alex\\.julia\\packages\\ChaosTools\\PHPDF\\src\\orbitdiagrams\\produce_orbitdiagram.jl:75\u001b[39m\n"
     ]
    },
    {
     "name": "stdout",
     "output_type": "stream",
     "text": [
      "\n",
      "parameter = -0.0968264"
     ]
    },
    {
     "name": "stderr",
     "output_type": "stream",
     "text": [
      "\u001b[33m\u001b[1m┌ \u001b[22m\u001b[39m\u001b[33m\u001b[1mWarning: \u001b[22m\u001b[39mFor parameter -0.0968262 The Poincaré surface of section did not have any points!\n",
      "\u001b[33m\u001b[1m└ \u001b[22m\u001b[39m\u001b[90m@ ChaosTools C:\\Users\\Alex\\.julia\\packages\\ChaosTools\\PHPDF\\src\\orbitdiagrams\\produce_orbitdiagram.jl:75\u001b[39m\n"
     ]
    },
    {
     "name": "stdout",
     "output_type": "stream",
     "text": [
      "\n",
      "parameter = -0.0968266\n"
     ]
    },
    {
     "name": "stderr",
     "output_type": "stream",
     "text": [
      "\u001b[33m\u001b[1m┌ \u001b[22m\u001b[39m\u001b[33m\u001b[1mWarning: \u001b[22m\u001b[39mFor parameter -0.0968264 The Poincaré surface of section did not have any points!\n",
      "\u001b[33m\u001b[1m└ \u001b[22m\u001b[39m\u001b[90m@ ChaosTools C:\\Users\\Alex\\.julia\\packages\\ChaosTools\\PHPDF\\src\\orbitdiagrams\\produce_orbitdiagram.jl:75\u001b[39m\n"
     ]
    },
    {
     "name": "stdout",
     "output_type": "stream",
     "text": [
      "parameter = -0.0968268"
     ]
    },
    {
     "name": "stderr",
     "output_type": "stream",
     "text": [
      "\u001b[33m\u001b[1m┌ \u001b[22m\u001b[39m\u001b[33m\u001b[1mWarning: \u001b[22m\u001b[39mFor parameter -0.0968266 The Poincaré surface of section did not have any points!\n",
      "\u001b[33m\u001b[1m└ \u001b[22m\u001b[39m\u001b[90m@ ChaosTools C:\\Users\\Alex\\.julia\\packages\\ChaosTools\\PHPDF\\src\\orbitdiagrams\\produce_orbitdiagram.jl:75\u001b[39m\n"
     ]
    },
    {
     "name": "stdout",
     "output_type": "stream",
     "text": [
      "\n",
      "parameter = -0.096827"
     ]
    },
    {
     "name": "stderr",
     "output_type": "stream",
     "text": [
      "\u001b[33m\u001b[1m┌ \u001b[22m\u001b[39m\u001b[33m\u001b[1mWarning: \u001b[22m\u001b[39mFor parameter -0.0968268 The Poincaré surface of section did not have any points!\n",
      "\u001b[33m\u001b[1m└ \u001b[22m\u001b[39m\u001b[90m@ ChaosTools C:\\Users\\Alex\\.julia\\packages\\ChaosTools\\PHPDF\\src\\orbitdiagrams\\produce_orbitdiagram.jl:75\u001b[39m\n"
     ]
    },
    {
     "name": "stdout",
     "output_type": "stream",
     "text": [
      "\n",
      "parameter = -0.0968272\n"
     ]
    },
    {
     "name": "stderr",
     "output_type": "stream",
     "text": [
      "\u001b[33m\u001b[1m┌ \u001b[22m\u001b[39m\u001b[33m\u001b[1mWarning: \u001b[22m\u001b[39mFor parameter -0.096827 The Poincaré surface of section did not have any points!\n",
      "\u001b[33m\u001b[1m└ \u001b[22m\u001b[39m\u001b[90m@ ChaosTools C:\\Users\\Alex\\.julia\\packages\\ChaosTools\\PHPDF\\src\\orbitdiagrams\\produce_orbitdiagram.jl:75\u001b[39m\n"
     ]
    },
    {
     "name": "stdout",
     "output_type": "stream",
     "text": [
      "parameter = -0.0968274"
     ]
    },
    {
     "name": "stderr",
     "output_type": "stream",
     "text": [
      "\u001b[33m\u001b[1m┌ \u001b[22m\u001b[39m\u001b[33m\u001b[1mWarning: \u001b[22m\u001b[39mFor parameter -0.0968272 The Poincaré surface of section did not have any points!\n",
      "\u001b[33m\u001b[1m└ \u001b[22m\u001b[39m\u001b[90m@ ChaosTools C:\\Users\\Alex\\.julia\\packages\\ChaosTools\\PHPDF\\src\\orbitdiagrams\\produce_orbitdiagram.jl:75\u001b[39m\n"
     ]
    },
    {
     "name": "stdout",
     "output_type": "stream",
     "text": [
      "\n",
      "parameter = -0.0968276\n"
     ]
    },
    {
     "name": "stderr",
     "output_type": "stream",
     "text": [
      "\u001b[33m\u001b[1m┌ \u001b[22m\u001b[39m\u001b[33m\u001b[1mWarning: \u001b[22m\u001b[39mFor parameter -0.0968274 The Poincaré surface of section did not have any points!\n",
      "\u001b[33m\u001b[1m└ \u001b[22m\u001b[39m\u001b[90m@ ChaosTools C:\\Users\\Alex\\.julia\\packages\\ChaosTools\\PHPDF\\src\\orbitdiagrams\\produce_orbitdiagram.jl:75\u001b[39m\n"
     ]
    },
    {
     "name": "stdout",
     "output_type": "stream",
     "text": [
      "parameter = -0.0968278"
     ]
    },
    {
     "name": "stderr",
     "output_type": "stream",
     "text": [
      "\u001b[33m\u001b[1m┌ \u001b[22m\u001b[39m\u001b[33m\u001b[1mWarning: \u001b[22m\u001b[39mFor parameter -0.0968276 The Poincaré surface of section did not have any points!\n",
      "\u001b[33m\u001b[1m└ \u001b[22m\u001b[39m\u001b[90m@ ChaosTools C:\\Users\\Alex\\.julia\\packages\\ChaosTools\\PHPDF\\src\\orbitdiagrams\\produce_orbitdiagram.jl:75\u001b[39m\n"
     ]
    },
    {
     "name": "stdout",
     "output_type": "stream",
     "text": [
      "\n",
      "parameter = -0.096828"
     ]
    },
    {
     "name": "stderr",
     "output_type": "stream",
     "text": [
      "\u001b[33m\u001b[1m┌ \u001b[22m\u001b[39m\u001b[33m\u001b[1mWarning: \u001b[22m\u001b[39mFor parameter -0.0968278 The Poincaré surface of section did not have any points!\n",
      "\u001b[33m\u001b[1m└ \u001b[22m\u001b[39m\u001b[90m@ ChaosTools C:\\Users\\Alex\\.julia\\packages\\ChaosTools\\PHPDF\\src\\orbitdiagrams\\produce_orbitdiagram.jl:75\u001b[39m\n"
     ]
    },
    {
     "name": "stdout",
     "output_type": "stream",
     "text": [
      "\n",
      "parameter = -0.0968282"
     ]
    },
    {
     "name": "stderr",
     "output_type": "stream",
     "text": [
      "\u001b[33m\u001b[1m┌ \u001b[22m\u001b[39m\u001b[33m\u001b[1mWarning: \u001b[22m\u001b[39mFor parameter -0.096828 The Poincaré surface of section did not have any points!\n",
      "\u001b[33m\u001b[1m└ \u001b[22m\u001b[39m\u001b[90m@ ChaosTools C:\\Users\\Alex\\.julia\\packages\\ChaosTools\\PHPDF\\src\\orbitdiagrams\\produce_orbitdiagram.jl:75\u001b[39m\n"
     ]
    },
    {
     "name": "stdout",
     "output_type": "stream",
     "text": [
      "\n",
      "parameter = -0.0968284"
     ]
    },
    {
     "name": "stderr",
     "output_type": "stream",
     "text": [
      "\u001b[33m\u001b[1m┌ \u001b[22m\u001b[39m\u001b[33m\u001b[1mWarning: \u001b[22m\u001b[39mFor parameter -0.0968282 The Poincaré surface of section did not have any points!\n",
      "\u001b[33m\u001b[1m└ \u001b[22m\u001b[39m\u001b[90m@ ChaosTools C:\\Users\\Alex\\.julia\\packages\\ChaosTools\\PHPDF\\src\\orbitdiagrams\\produce_orbitdiagram.jl:75\u001b[39m\n"
     ]
    },
    {
     "name": "stdout",
     "output_type": "stream",
     "text": [
      "\n",
      "parameter = -0.0968286"
     ]
    },
    {
     "name": "stderr",
     "output_type": "stream",
     "text": [
      "\u001b[33m\u001b[1m┌ \u001b[22m\u001b[39m\u001b[33m\u001b[1mWarning: \u001b[22m\u001b[39mFor parameter -0.0968284 The Poincaré surface of section did not have any points!\n",
      "\u001b[33m\u001b[1m└ \u001b[22m\u001b[39m\u001b[90m@ ChaosTools C:\\Users\\Alex\\.julia\\packages\\ChaosTools\\PHPDF\\src\\orbitdiagrams\\produce_orbitdiagram.jl:75\u001b[39m\n"
     ]
    },
    {
     "name": "stdout",
     "output_type": "stream",
     "text": [
      "\n",
      "parameter = -0.0968288\n"
     ]
    },
    {
     "name": "stderr",
     "output_type": "stream",
     "text": [
      "\u001b[33m\u001b[1m┌ \u001b[22m\u001b[39m\u001b[33m\u001b[1mWarning: \u001b[22m\u001b[39mFor parameter -0.0968286 The Poincaré surface of section did not have any points!\n",
      "\u001b[33m\u001b[1m└ \u001b[22m\u001b[39m\u001b[90m@ ChaosTools C:\\Users\\Alex\\.julia\\packages\\ChaosTools\\PHPDF\\src\\orbitdiagrams\\produce_orbitdiagram.jl:75\u001b[39m\n"
     ]
    },
    {
     "name": "stdout",
     "output_type": "stream",
     "text": [
      "parameter = -0.096829\n"
     ]
    },
    {
     "name": "stderr",
     "output_type": "stream",
     "text": [
      "\u001b[33m\u001b[1m┌ \u001b[22m\u001b[39m\u001b[33m\u001b[1mWarning: \u001b[22m\u001b[39mFor parameter -0.0968288 The Poincaré surface of section did not have any points!\n",
      "\u001b[33m\u001b[1m└ \u001b[22m\u001b[39m\u001b[90m@ ChaosTools C:\\Users\\Alex\\.julia\\packages\\ChaosTools\\PHPDF\\src\\orbitdiagrams\\produce_orbitdiagram.jl:75\u001b[39m\n"
     ]
    },
    {
     "name": "stdout",
     "output_type": "stream",
     "text": [
      "parameter = -0.0968292"
     ]
    },
    {
     "name": "stderr",
     "output_type": "stream",
     "text": [
      "\u001b[33m\u001b[1m┌ \u001b[22m\u001b[39m\u001b[33m\u001b[1mWarning: \u001b[22m\u001b[39mFor parameter -0.096829 The Poincaré surface of section did not have any points!\n",
      "\u001b[33m\u001b[1m└ \u001b[22m\u001b[39m\u001b[90m@ ChaosTools C:\\Users\\Alex\\.julia\\packages\\ChaosTools\\PHPDF\\src\\orbitdiagrams\\produce_orbitdiagram.jl:75\u001b[39m\n"
     ]
    },
    {
     "name": "stdout",
     "output_type": "stream",
     "text": [
      "\n",
      "parameter = -0.0968294\n"
     ]
    },
    {
     "name": "stderr",
     "output_type": "stream",
     "text": [
      "\u001b[33m\u001b[1m┌ \u001b[22m\u001b[39m\u001b[33m\u001b[1mWarning: \u001b[22m\u001b[39mFor parameter -0.0968292 The Poincaré surface of section did not have any points!\n",
      "\u001b[33m\u001b[1m└ \u001b[22m\u001b[39m\u001b[90m@ ChaosTools C:\\Users\\Alex\\.julia\\packages\\ChaosTools\\PHPDF\\src\\orbitdiagrams\\produce_orbitdiagram.jl:75\u001b[39m\n"
     ]
    },
    {
     "name": "stdout",
     "output_type": "stream",
     "text": [
      "parameter = -0.0968296"
     ]
    },
    {
     "name": "stderr",
     "output_type": "stream",
     "text": [
      "\u001b[33m\u001b[1m┌ \u001b[22m\u001b[39m\u001b[33m\u001b[1mWarning: \u001b[22m\u001b[39mFor parameter -0.0968294 The Poincaré surface of section did not have any points!\n",
      "\u001b[33m\u001b[1m└ \u001b[22m\u001b[39m\u001b[90m@ ChaosTools C:\\Users\\Alex\\.julia\\packages\\ChaosTools\\PHPDF\\src\\orbitdiagrams\\produce_orbitdiagram.jl:75\u001b[39m\n"
     ]
    },
    {
     "name": "stdout",
     "output_type": "stream",
     "text": [
      "\n",
      "parameter = -0.0968298"
     ]
    },
    {
     "name": "stderr",
     "output_type": "stream",
     "text": [
      "\u001b[33m\u001b[1m┌ \u001b[22m\u001b[39m\u001b[33m\u001b[1mWarning: \u001b[22m\u001b[39mFor parameter -0.0968296 The Poincaré surface of section did not have any points!\n",
      "\u001b[33m\u001b[1m└ \u001b[22m\u001b[39m\u001b[90m@ ChaosTools C:\\Users\\Alex\\.julia\\packages\\ChaosTools\\PHPDF\\src\\orbitdiagrams\\produce_orbitdiagram.jl:75\u001b[39m\n"
     ]
    },
    {
     "name": "stdout",
     "output_type": "stream",
     "text": [
      "\n",
      "parameter = -0.09683"
     ]
    },
    {
     "name": "stderr",
     "output_type": "stream",
     "text": [
      "\u001b[33m\u001b[1m┌ \u001b[22m\u001b[39m\u001b[33m\u001b[1mWarning: \u001b[22m\u001b[39mFor parameter -0.0968298 The Poincaré surface of section did not have any points!\n",
      "\u001b[33m\u001b[1m└ \u001b[22m\u001b[39m\u001b[90m@ ChaosTools C:\\Users\\Alex\\.julia\\packages\\ChaosTools\\PHPDF\\src\\orbitdiagrams\\produce_orbitdiagram.jl:75\u001b[39m\n"
     ]
    },
    {
     "name": "stdout",
     "output_type": "stream",
     "text": [
      "\n",
      "parameter = -0.0968302"
     ]
    },
    {
     "name": "stderr",
     "output_type": "stream",
     "text": [
      "\u001b[33m\u001b[1m┌ \u001b[22m\u001b[39m\u001b[33m\u001b[1mWarning: \u001b[22m\u001b[39mFor parameter -0.09683 The Poincaré surface of section did not have any points!\n",
      "\u001b[33m\u001b[1m└ \u001b[22m\u001b[39m\u001b[90m@ ChaosTools C:\\Users\\Alex\\.julia\\packages\\ChaosTools\\PHPDF\\src\\orbitdiagrams\\produce_orbitdiagram.jl:75\u001b[39m\n"
     ]
    },
    {
     "name": "stdout",
     "output_type": "stream",
     "text": [
      "\n",
      "parameter = -0.0968304\n"
     ]
    },
    {
     "name": "stderr",
     "output_type": "stream",
     "text": [
      "\u001b[33m\u001b[1m┌ \u001b[22m\u001b[39m\u001b[33m\u001b[1mWarning: \u001b[22m\u001b[39mFor parameter -0.0968302 The Poincaré surface of section did not have any points!\n",
      "\u001b[33m\u001b[1m└ \u001b[22m\u001b[39m\u001b[90m@ ChaosTools C:\\Users\\Alex\\.julia\\packages\\ChaosTools\\PHPDF\\src\\orbitdiagrams\\produce_orbitdiagram.jl:75\u001b[39m\n"
     ]
    },
    {
     "name": "stdout",
     "output_type": "stream",
     "text": [
      "parameter = -0.0968306"
     ]
    },
    {
     "name": "stderr",
     "output_type": "stream",
     "text": [
      "\u001b[33m\u001b[1m┌ \u001b[22m\u001b[39m\u001b[33m\u001b[1mWarning: \u001b[22m\u001b[39mFor parameter -0.0968304 The Poincaré surface of section did not have any points!\n",
      "\u001b[33m\u001b[1m└ \u001b[22m\u001b[39m\u001b[90m@ ChaosTools C:\\Users\\Alex\\.julia\\packages\\ChaosTools\\PHPDF\\src\\orbitdiagrams\\produce_orbitdiagram.jl:75\u001b[39m\n"
     ]
    },
    {
     "name": "stdout",
     "output_type": "stream",
     "text": [
      "\n",
      "parameter = -0.0968308"
     ]
    },
    {
     "name": "stderr",
     "output_type": "stream",
     "text": [
      "\u001b[33m\u001b[1m┌ \u001b[22m\u001b[39m\u001b[33m\u001b[1mWarning: \u001b[22m\u001b[39mFor parameter -0.0968306 The Poincaré surface of section did not have any points!\n",
      "\u001b[33m\u001b[1m└ \u001b[22m\u001b[39m\u001b[90m@ ChaosTools C:\\Users\\Alex\\.julia\\packages\\ChaosTools\\PHPDF\\src\\orbitdiagrams\\produce_orbitdiagram.jl:75\u001b[39m\n"
     ]
    },
    {
     "name": "stdout",
     "output_type": "stream",
     "text": [
      "\n",
      "parameter = -0.096831"
     ]
    },
    {
     "name": "stderr",
     "output_type": "stream",
     "text": [
      "\u001b[33m\u001b[1m┌ \u001b[22m\u001b[39m\u001b[33m\u001b[1mWarning: \u001b[22m\u001b[39mFor parameter -0.0968308 The Poincaré surface of section did not have any points!\n",
      "\u001b[33m\u001b[1m└ \u001b[22m\u001b[39m\u001b[90m@ ChaosTools C:\\Users\\Alex\\.julia\\packages\\ChaosTools\\PHPDF\\src\\orbitdiagrams\\produce_orbitdiagram.jl:75\u001b[39m\n"
     ]
    },
    {
     "name": "stdout",
     "output_type": "stream",
     "text": [
      "\n",
      "parameter = -0.0968312\n"
     ]
    },
    {
     "name": "stderr",
     "output_type": "stream",
     "text": [
      "\u001b[33m\u001b[1m┌ \u001b[22m\u001b[39m\u001b[33m\u001b[1mWarning: \u001b[22m\u001b[39mFor parameter -0.096831 The Poincaré surface of section did not have any points!\n",
      "\u001b[33m\u001b[1m└ \u001b[22m\u001b[39m\u001b[90m@ ChaosTools C:\\Users\\Alex\\.julia\\packages\\ChaosTools\\PHPDF\\src\\orbitdiagrams\\produce_orbitdiagram.jl:75\u001b[39m\n"
     ]
    },
    {
     "name": "stdout",
     "output_type": "stream",
     "text": [
      "parameter = -0.0968314"
     ]
    },
    {
     "name": "stderr",
     "output_type": "stream",
     "text": [
      "\u001b[33m\u001b[1m┌ \u001b[22m\u001b[39m\u001b[33m\u001b[1mWarning: \u001b[22m\u001b[39mFor parameter -0.0968312 The Poincaré surface of section did not have any points!\n",
      "\u001b[33m\u001b[1m└ \u001b[22m\u001b[39m\u001b[90m@ ChaosTools C:\\Users\\Alex\\.julia\\packages\\ChaosTools\\PHPDF\\src\\orbitdiagrams\\produce_orbitdiagram.jl:75\u001b[39m\n"
     ]
    },
    {
     "name": "stdout",
     "output_type": "stream",
     "text": [
      "\n",
      "parameter = -0.0968316"
     ]
    },
    {
     "name": "stderr",
     "output_type": "stream",
     "text": [
      "\u001b[33m\u001b[1m┌ \u001b[22m\u001b[39m\u001b[33m\u001b[1mWarning: \u001b[22m\u001b[39mFor parameter -0.0968314 The Poincaré surface of section did not have any points!\n",
      "\u001b[33m\u001b[1m└ \u001b[22m\u001b[39m\u001b[90m@ ChaosTools C:\\Users\\Alex\\.julia\\packages\\ChaosTools\\PHPDF\\src\\orbitdiagrams\\produce_orbitdiagram.jl:75\u001b[39m\n"
     ]
    },
    {
     "name": "stdout",
     "output_type": "stream",
     "text": [
      "\n",
      "parameter = -0.0968318"
     ]
    },
    {
     "name": "stderr",
     "output_type": "stream",
     "text": [
      "\u001b[33m\u001b[1m┌ \u001b[22m\u001b[39m\u001b[33m\u001b[1mWarning: \u001b[22m\u001b[39mFor parameter -0.0968316 The Poincaré surface of section did not have any points!\n",
      "\u001b[33m\u001b[1m└ \u001b[22m\u001b[39m\u001b[90m@ ChaosTools C:\\Users\\Alex\\.julia\\packages\\ChaosTools\\PHPDF\\src\\orbitdiagrams\\produce_orbitdiagram.jl:75\u001b[39m\n"
     ]
    },
    {
     "name": "stdout",
     "output_type": "stream",
     "text": [
      "\n",
      "parameter = -0.096832\n"
     ]
    },
    {
     "name": "stderr",
     "output_type": "stream",
     "text": [
      "\u001b[33m\u001b[1m┌ \u001b[22m\u001b[39m\u001b[33m\u001b[1mWarning: \u001b[22m\u001b[39mFor parameter -0.0968318 The Poincaré surface of section did not have any points!\n",
      "\u001b[33m\u001b[1m└ \u001b[22m\u001b[39m\u001b[90m@ ChaosTools C:\\Users\\Alex\\.julia\\packages\\ChaosTools\\PHPDF\\src\\orbitdiagrams\\produce_orbitdiagram.jl:75\u001b[39m\n"
     ]
    },
    {
     "name": "stdout",
     "output_type": "stream",
     "text": [
      "parameter = -0.0968322"
     ]
    },
    {
     "name": "stderr",
     "output_type": "stream",
     "text": [
      "\u001b[33m\u001b[1m┌ \u001b[22m\u001b[39m\u001b[33m\u001b[1mWarning: \u001b[22m\u001b[39mFor parameter -0.096832 The Poincaré surface of section did not have any points!\n",
      "\u001b[33m\u001b[1m└ \u001b[22m\u001b[39m\u001b[90m@ ChaosTools C:\\Users\\Alex\\.julia\\packages\\ChaosTools\\PHPDF\\src\\orbitdiagrams\\produce_orbitdiagram.jl:75\u001b[39m\n"
     ]
    },
    {
     "name": "stdout",
     "output_type": "stream",
     "text": [
      "\n",
      "parameter = -0.0968324\n"
     ]
    },
    {
     "name": "stderr",
     "output_type": "stream",
     "text": [
      "\u001b[33m\u001b[1m┌ \u001b[22m\u001b[39m\u001b[33m\u001b[1mWarning: \u001b[22m\u001b[39mFor parameter -0.0968322 The Poincaré surface of section did not have any points!\n",
      "\u001b[33m\u001b[1m└ \u001b[22m\u001b[39m\u001b[90m@ ChaosTools C:\\Users\\Alex\\.julia\\packages\\ChaosTools\\PHPDF\\src\\orbitdiagrams\\produce_orbitdiagram.jl:75\u001b[39m\n"
     ]
    },
    {
     "name": "stdout",
     "output_type": "stream",
     "text": [
      "parameter = -0.0968326"
     ]
    },
    {
     "name": "stderr",
     "output_type": "stream",
     "text": [
      "\u001b[33m\u001b[1m┌ \u001b[22m\u001b[39m\u001b[33m\u001b[1mWarning: \u001b[22m\u001b[39mFor parameter -0.0968324 The Poincaré surface of section did not have any points!\n",
      "\u001b[33m\u001b[1m└ \u001b[22m\u001b[39m\u001b[90m@ ChaosTools C:\\Users\\Alex\\.julia\\packages\\ChaosTools\\PHPDF\\src\\orbitdiagrams\\produce_orbitdiagram.jl:75\u001b[39m\n"
     ]
    },
    {
     "name": "stdout",
     "output_type": "stream",
     "text": [
      "\n",
      "parameter = -0.0968328"
     ]
    },
    {
     "name": "stderr",
     "output_type": "stream",
     "text": [
      "\u001b[33m\u001b[1m┌ \u001b[22m\u001b[39m\u001b[33m\u001b[1mWarning: \u001b[22m\u001b[39mFor parameter -0.0968326 The Poincaré surface of section did not have any points!\n",
      "\u001b[33m\u001b[1m└ \u001b[22m\u001b[39m\u001b[90m@ ChaosTools C:\\Users\\Alex\\.julia\\packages\\ChaosTools\\PHPDF\\src\\orbitdiagrams\\produce_orbitdiagram.jl:75\u001b[39m\n"
     ]
    },
    {
     "name": "stdout",
     "output_type": "stream",
     "text": [
      "\n",
      "parameter = -0.096833"
     ]
    },
    {
     "name": "stderr",
     "output_type": "stream",
     "text": [
      "\u001b[33m\u001b[1m┌ \u001b[22m\u001b[39m\u001b[33m\u001b[1mWarning: \u001b[22m\u001b[39mFor parameter -0.0968328 The Poincaré surface of section did not have any points!\n",
      "\u001b[33m\u001b[1m└ \u001b[22m\u001b[39m\u001b[90m@ ChaosTools C:\\Users\\Alex\\.julia\\packages\\ChaosTools\\PHPDF\\src\\orbitdiagrams\\produce_orbitdiagram.jl:75\u001b[39m\n"
     ]
    },
    {
     "name": "stdout",
     "output_type": "stream",
     "text": [
      "\n",
      "parameter = -0.0968332\n"
     ]
    },
    {
     "name": "stderr",
     "output_type": "stream",
     "text": [
      "\u001b[33m\u001b[1m┌ \u001b[22m\u001b[39m\u001b[33m\u001b[1mWarning: \u001b[22m\u001b[39mFor parameter -0.096833 The Poincaré surface of section did not have any points!\n",
      "\u001b[33m\u001b[1m└ \u001b[22m\u001b[39m\u001b[90m@ ChaosTools C:\\Users\\Alex\\.julia\\packages\\ChaosTools\\PHPDF\\src\\orbitdiagrams\\produce_orbitdiagram.jl:75\u001b[39m\n"
     ]
    },
    {
     "name": "stdout",
     "output_type": "stream",
     "text": [
      "parameter = -0.0968334"
     ]
    },
    {
     "name": "stderr",
     "output_type": "stream",
     "text": [
      "\u001b[33m\u001b[1m┌ \u001b[22m\u001b[39m\u001b[33m\u001b[1mWarning: \u001b[22m\u001b[39mFor parameter -0.0968332 The Poincaré surface of section did not have any points!\n",
      "\u001b[33m\u001b[1m└ \u001b[22m\u001b[39m\u001b[90m@ ChaosTools C:\\Users\\Alex\\.julia\\packages\\ChaosTools\\PHPDF\\src\\orbitdiagrams\\produce_orbitdiagram.jl:75\u001b[39m\n"
     ]
    },
    {
     "name": "stdout",
     "output_type": "stream",
     "text": [
      "\n"
     ]
    },
    {
     "name": "stderr",
     "output_type": "stream",
     "text": [
      "\u001b[33m\u001b[1m┌ \u001b[22m\u001b[39m\u001b[33m\u001b[1mWarning: \u001b[22m\u001b[39mFor parameter -0.0968334 The Poincaré surface of section did not have any points!\n",
      "\u001b[33m\u001b[1m└ \u001b[22m\u001b[39m\u001b[90m@ ChaosTools C:\\Users\\Alex\\.julia\\packages\\ChaosTools\\PHPDF\\src\\orbitdiagrams\\produce_orbitdiagram.jl:75\u001b[39m\n"
     ]
    },
    {
     "name": "stdout",
     "output_type": "stream",
     "text": [
      "parameter = -0.0968336\n",
      "parameter = -0.0968338\n"
     ]
    },
    {
     "name": "stderr",
     "output_type": "stream",
     "text": [
      "\u001b[33m\u001b[1m┌ \u001b[22m\u001b[39m\u001b[33m\u001b[1mWarning: \u001b[22m\u001b[39mFor parameter -0.0968336 The Poincaré surface of section did not have any points!\n",
      "\u001b[33m\u001b[1m└ \u001b[22m\u001b[39m\u001b[90m@ ChaosTools C:\\Users\\Alex\\.julia\\packages\\ChaosTools\\PHPDF\\src\\orbitdiagrams\\produce_orbitdiagram.jl:75\u001b[39m\n"
     ]
    },
    {
     "name": "stdout",
     "output_type": "stream",
     "text": [
      "parameter = -0.096834\n"
     ]
    },
    {
     "name": "stderr",
     "output_type": "stream",
     "text": [
      "\u001b[33m\u001b[1m┌ \u001b[22m\u001b[39m\u001b[33m\u001b[1mWarning: \u001b[22m\u001b[39mFor parameter -0.0968338 The Poincaré surface of section did not have any points!\n",
      "\u001b[33m\u001b[1m└ \u001b[22m\u001b[39m\u001b[90m@ ChaosTools C:\\Users\\Alex\\.julia\\packages\\ChaosTools\\PHPDF\\src\\orbitdiagrams\\produce_orbitdiagram.jl:75\u001b[39m\n"
     ]
    },
    {
     "name": "stdout",
     "output_type": "stream",
     "text": [
      "parameter = -0.0968342"
     ]
    },
    {
     "name": "stderr",
     "output_type": "stream",
     "text": [
      "\u001b[33m\u001b[1m┌ \u001b[22m\u001b[39m\u001b[33m\u001b[1mWarning: \u001b[22m\u001b[39mFor parameter -0.096834 The Poincaré surface of section did not have any points!\n",
      "\u001b[33m\u001b[1m└ \u001b[22m\u001b[39m\u001b[90m@ ChaosTools C:\\Users\\Alex\\.julia\\packages\\ChaosTools\\PHPDF\\src\\orbitdiagrams\\produce_orbitdiagram.jl:75\u001b[39m\n"
     ]
    },
    {
     "name": "stdout",
     "output_type": "stream",
     "text": [
      "\n",
      "parameter = -0.0968344"
     ]
    },
    {
     "name": "stderr",
     "output_type": "stream",
     "text": [
      "\u001b[33m\u001b[1m┌ \u001b[22m\u001b[39m\u001b[33m\u001b[1mWarning: \u001b[22m\u001b[39mFor parameter -0.0968342 The Poincaré surface of section did not have any points!\n",
      "\u001b[33m\u001b[1m└ \u001b[22m\u001b[39m\u001b[90m@ ChaosTools C:\\Users\\Alex\\.julia\\packages\\ChaosTools\\PHPDF\\src\\orbitdiagrams\\produce_orbitdiagram.jl:75\u001b[39m\n"
     ]
    },
    {
     "name": "stdout",
     "output_type": "stream",
     "text": [
      "\n",
      "parameter = -0.0968346"
     ]
    },
    {
     "name": "stderr",
     "output_type": "stream",
     "text": [
      "\u001b[33m\u001b[1m┌ \u001b[22m\u001b[39m\u001b[33m\u001b[1mWarning: \u001b[22m\u001b[39mFor parameter -0.0968344 The Poincaré surface of section did not have any points!\n",
      "\u001b[33m\u001b[1m└ \u001b[22m\u001b[39m\u001b[90m@ ChaosTools C:\\Users\\Alex\\.julia\\packages\\ChaosTools\\PHPDF\\src\\orbitdiagrams\\produce_orbitdiagram.jl:75\u001b[39m\n"
     ]
    },
    {
     "name": "stdout",
     "output_type": "stream",
     "text": [
      "\n",
      "parameter = -0.0968348\n"
     ]
    },
    {
     "name": "stderr",
     "output_type": "stream",
     "text": [
      "\u001b[33m\u001b[1m┌ \u001b[22m\u001b[39m\u001b[33m\u001b[1mWarning: \u001b[22m\u001b[39mFor parameter -0.0968346 The Poincaré surface of section did not have any points!\n",
      "\u001b[33m\u001b[1m└ \u001b[22m\u001b[39m\u001b[90m@ ChaosTools C:\\Users\\Alex\\.julia\\packages\\ChaosTools\\PHPDF\\src\\orbitdiagrams\\produce_orbitdiagram.jl:75\u001b[39m\n"
     ]
    },
    {
     "name": "stdout",
     "output_type": "stream",
     "text": [
      "parameter = -0.096835"
     ]
    },
    {
     "name": "stderr",
     "output_type": "stream",
     "text": [
      "\u001b[33m\u001b[1m┌ \u001b[22m\u001b[39m\u001b[33m\u001b[1mWarning: \u001b[22m\u001b[39mFor parameter -0.0968348 The Poincaré surface of section did not have any points!\n",
      "\u001b[33m\u001b[1m└ \u001b[22m\u001b[39m\u001b[90m@ ChaosTools C:\\Users\\Alex\\.julia\\packages\\ChaosTools\\PHPDF\\src\\orbitdiagrams\\produce_orbitdiagram.jl:75\u001b[39m\n"
     ]
    },
    {
     "name": "stdout",
     "output_type": "stream",
     "text": [
      "\n",
      "parameter = -0.0968352"
     ]
    },
    {
     "name": "stderr",
     "output_type": "stream",
     "text": [
      "\u001b[33m\u001b[1m┌ \u001b[22m\u001b[39m\u001b[33m\u001b[1mWarning: \u001b[22m\u001b[39mFor parameter -0.096835 The Poincaré surface of section did not have any points!\n",
      "\u001b[33m\u001b[1m└ \u001b[22m\u001b[39m\u001b[90m@ ChaosTools C:\\Users\\Alex\\.julia\\packages\\ChaosTools\\PHPDF\\src\\orbitdiagrams\\produce_orbitdiagram.jl:75\u001b[39m\n"
     ]
    },
    {
     "name": "stdout",
     "output_type": "stream",
     "text": [
      "\n",
      "parameter = -0.0968354\n"
     ]
    },
    {
     "name": "stderr",
     "output_type": "stream",
     "text": [
      "\u001b[33m\u001b[1m┌ \u001b[22m\u001b[39m\u001b[33m\u001b[1mWarning: \u001b[22m\u001b[39mFor parameter -0.0968352 The Poincaré surface of section did not have any points!\n",
      "\u001b[33m\u001b[1m└ \u001b[22m\u001b[39m\u001b[90m@ ChaosTools C:\\Users\\Alex\\.julia\\packages\\ChaosTools\\PHPDF\\src\\orbitdiagrams\\produce_orbitdiagram.jl:75\u001b[39m\n"
     ]
    },
    {
     "name": "stdout",
     "output_type": "stream",
     "text": [
      "parameter = -0.0968356\n"
     ]
    },
    {
     "name": "stderr",
     "output_type": "stream",
     "text": [
      "\u001b[33m\u001b[1m┌ \u001b[22m\u001b[39m\u001b[33m\u001b[1mWarning: \u001b[22m\u001b[39mFor parameter -0.0968354 The Poincaré surface of section did not have any points!\n",
      "\u001b[33m\u001b[1m└ \u001b[22m\u001b[39m\u001b[90m@ ChaosTools C:\\Users\\Alex\\.julia\\packages\\ChaosTools\\PHPDF\\src\\orbitdiagrams\\produce_orbitdiagram.jl:75\u001b[39m\n"
     ]
    },
    {
     "name": "stdout",
     "output_type": "stream",
     "text": [
      "parameter = -0.0968358"
     ]
    },
    {
     "name": "stderr",
     "output_type": "stream",
     "text": [
      "\u001b[33m\u001b[1m┌ \u001b[22m\u001b[39m\u001b[33m\u001b[1mWarning: \u001b[22m\u001b[39mFor parameter -0.0968356 The Poincaré surface of section did not have any points!\n",
      "\u001b[33m\u001b[1m└ \u001b[22m\u001b[39m\u001b[90m@ ChaosTools C:\\Users\\Alex\\.julia\\packages\\ChaosTools\\PHPDF\\src\\orbitdiagrams\\produce_orbitdiagram.jl:75\u001b[39m\n"
     ]
    },
    {
     "name": "stdout",
     "output_type": "stream",
     "text": [
      "\n",
      "parameter = -0.096836"
     ]
    },
    {
     "name": "stderr",
     "output_type": "stream",
     "text": [
      "\u001b[33m\u001b[1m┌ \u001b[22m\u001b[39m\u001b[33m\u001b[1mWarning: \u001b[22m\u001b[39mFor parameter -0.0968358 The Poincaré surface of section did not have any points!\n",
      "\u001b[33m\u001b[1m└ \u001b[22m\u001b[39m\u001b[90m@ ChaosTools C:\\Users\\Alex\\.julia\\packages\\ChaosTools\\PHPDF\\src\\orbitdiagrams\\produce_orbitdiagram.jl:75\u001b[39m\n"
     ]
    },
    {
     "name": "stdout",
     "output_type": "stream",
     "text": [
      "\n",
      "parameter = -0.0968362"
     ]
    },
    {
     "name": "stderr",
     "output_type": "stream",
     "text": [
      "\u001b[33m\u001b[1m┌ \u001b[22m\u001b[39m\u001b[33m\u001b[1mWarning: \u001b[22m\u001b[39mFor parameter -0.096836 The Poincaré surface of section did not have any points!\n",
      "\u001b[33m\u001b[1m└ \u001b[22m\u001b[39m\u001b[90m@ ChaosTools C:\\Users\\Alex\\.julia\\packages\\ChaosTools\\PHPDF\\src\\orbitdiagrams\\produce_orbitdiagram.jl:75\u001b[39m\n"
     ]
    },
    {
     "name": "stdout",
     "output_type": "stream",
     "text": [
      "\n",
      "parameter = -0.0968364\n"
     ]
    },
    {
     "name": "stderr",
     "output_type": "stream",
     "text": [
      "\u001b[33m\u001b[1m┌ \u001b[22m\u001b[39m\u001b[33m\u001b[1mWarning: \u001b[22m\u001b[39mFor parameter -0.0968362 The Poincaré surface of section did not have any points!\n",
      "\u001b[33m\u001b[1m└ \u001b[22m\u001b[39m\u001b[90m@ ChaosTools C:\\Users\\Alex\\.julia\\packages\\ChaosTools\\PHPDF\\src\\orbitdiagrams\\produce_orbitdiagram.jl:75\u001b[39m\n"
     ]
    },
    {
     "name": "stdout",
     "output_type": "stream",
     "text": [
      "parameter = -0.0968366"
     ]
    },
    {
     "name": "stderr",
     "output_type": "stream",
     "text": [
      "\u001b[33m\u001b[1m┌ \u001b[22m\u001b[39m\u001b[33m\u001b[1mWarning: \u001b[22m\u001b[39mFor parameter -0.0968364 The Poincaré surface of section did not have any points!\n",
      "\u001b[33m\u001b[1m└ \u001b[22m\u001b[39m\u001b[90m@ ChaosTools C:\\Users\\Alex\\.julia\\packages\\ChaosTools\\PHPDF\\src\\orbitdiagrams\\produce_orbitdiagram.jl:75\u001b[39m\n"
     ]
    },
    {
     "name": "stdout",
     "output_type": "stream",
     "text": [
      "\n",
      "parameter = -0.0968368\n"
     ]
    },
    {
     "name": "stderr",
     "output_type": "stream",
     "text": [
      "\u001b[33m\u001b[1m┌ \u001b[22m\u001b[39m\u001b[33m\u001b[1mWarning: \u001b[22m\u001b[39mFor parameter -0.0968366 The Poincaré surface of section did not have any points!\n",
      "\u001b[33m\u001b[1m└ \u001b[22m\u001b[39m\u001b[90m@ ChaosTools C:\\Users\\Alex\\.julia\\packages\\ChaosTools\\PHPDF\\src\\orbitdiagrams\\produce_orbitdiagram.jl:75\u001b[39m\n"
     ]
    },
    {
     "name": "stdout",
     "output_type": "stream",
     "text": [
      "parameter = -0.096837\n"
     ]
    },
    {
     "name": "stderr",
     "output_type": "stream",
     "text": [
      "\u001b[33m\u001b[1m┌ \u001b[22m\u001b[39m\u001b[33m\u001b[1mWarning: \u001b[22m\u001b[39mFor parameter -0.0968368 The Poincaré surface of section did not have any points!\n",
      "\u001b[33m\u001b[1m└ \u001b[22m\u001b[39m\u001b[90m@ ChaosTools C:\\Users\\Alex\\.julia\\packages\\ChaosTools\\PHPDF\\src\\orbitdiagrams\\produce_orbitdiagram.jl:75\u001b[39m\n"
     ]
    },
    {
     "name": "stdout",
     "output_type": "stream",
     "text": [
      "parameter = -0.0968372\n"
     ]
    },
    {
     "name": "stderr",
     "output_type": "stream",
     "text": [
      "\u001b[33m\u001b[1m┌ \u001b[22m\u001b[39m\u001b[33m\u001b[1mWarning: \u001b[22m\u001b[39mFor parameter -0.096837 The Poincaré surface of section did not have any points!\n",
      "\u001b[33m\u001b[1m└ \u001b[22m\u001b[39m\u001b[90m@ ChaosTools C:\\Users\\Alex\\.julia\\packages\\ChaosTools\\PHPDF\\src\\orbitdiagrams\\produce_orbitdiagram.jl:75\u001b[39m\n"
     ]
    },
    {
     "name": "stdout",
     "output_type": "stream",
     "text": [
      "parameter = -0.0968374"
     ]
    },
    {
     "name": "stderr",
     "output_type": "stream",
     "text": [
      "\u001b[33m\u001b[1m┌ \u001b[22m\u001b[39m\u001b[33m\u001b[1mWarning: \u001b[22m\u001b[39mFor parameter -0.0968372 The Poincaré surface of section did not have any points!\n",
      "\u001b[33m\u001b[1m└ \u001b[22m\u001b[39m\u001b[90m@ ChaosTools C:\\Users\\Alex\\.julia\\packages\\ChaosTools\\PHPDF\\src\\orbitdiagrams\\produce_orbitdiagram.jl:75\u001b[39m\n"
     ]
    },
    {
     "name": "stdout",
     "output_type": "stream",
     "text": [
      "\n",
      "parameter = -0.0968376\n"
     ]
    },
    {
     "name": "stderr",
     "output_type": "stream",
     "text": [
      "\u001b[33m\u001b[1m┌ \u001b[22m\u001b[39m\u001b[33m\u001b[1mWarning: \u001b[22m\u001b[39mFor parameter -0.0968374 The Poincaré surface of section did not have any points!\n",
      "\u001b[33m\u001b[1m└ \u001b[22m\u001b[39m\u001b[90m@ ChaosTools C:\\Users\\Alex\\.julia\\packages\\ChaosTools\\PHPDF\\src\\orbitdiagrams\\produce_orbitdiagram.jl:75\u001b[39m\n"
     ]
    },
    {
     "name": "stdout",
     "output_type": "stream",
     "text": [
      "parameter = -0.0968378"
     ]
    },
    {
     "name": "stderr",
     "output_type": "stream",
     "text": [
      "\u001b[33m\u001b[1m┌ \u001b[22m\u001b[39m\u001b[33m\u001b[1mWarning: \u001b[22m\u001b[39mFor parameter -0.0968376 The Poincaré surface of section did not have any points!\n",
      "\u001b[33m\u001b[1m└ \u001b[22m\u001b[39m\u001b[90m@ ChaosTools C:\\Users\\Alex\\.julia\\packages\\ChaosTools\\PHPDF\\src\\orbitdiagrams\\produce_orbitdiagram.jl:75\u001b[39m\n"
     ]
    },
    {
     "name": "stdout",
     "output_type": "stream",
     "text": [
      "\n",
      "parameter = -0.096838"
     ]
    },
    {
     "name": "stderr",
     "output_type": "stream",
     "text": [
      "\u001b[33m\u001b[1m┌ \u001b[22m\u001b[39m\u001b[33m\u001b[1mWarning: \u001b[22m\u001b[39mFor parameter -0.0968378 The Poincaré surface of section did not have any points!\n",
      "\u001b[33m\u001b[1m└ \u001b[22m\u001b[39m\u001b[90m@ ChaosTools C:\\Users\\Alex\\.julia\\packages\\ChaosTools\\PHPDF\\src\\orbitdiagrams\\produce_orbitdiagram.jl:75\u001b[39m\n"
     ]
    },
    {
     "name": "stdout",
     "output_type": "stream",
     "text": [
      "\n",
      "parameter = -0.0968382"
     ]
    },
    {
     "name": "stderr",
     "output_type": "stream",
     "text": [
      "\u001b[33m\u001b[1m┌ \u001b[22m\u001b[39m\u001b[33m\u001b[1mWarning: \u001b[22m\u001b[39mFor parameter -0.096838 The Poincaré surface of section did not have any points!\n",
      "\u001b[33m\u001b[1m└ \u001b[22m\u001b[39m\u001b[90m@ ChaosTools C:\\Users\\Alex\\.julia\\packages\\ChaosTools\\PHPDF\\src\\orbitdiagrams\\produce_orbitdiagram.jl:75\u001b[39m\n"
     ]
    },
    {
     "name": "stdout",
     "output_type": "stream",
     "text": [
      "\n",
      "parameter = -0.0968384"
     ]
    },
    {
     "name": "stderr",
     "output_type": "stream",
     "text": [
      "\u001b[33m\u001b[1m┌ \u001b[22m\u001b[39m\u001b[33m\u001b[1mWarning: \u001b[22m\u001b[39mFor parameter -0.0968382 The Poincaré surface of section did not have any points!\n",
      "\u001b[33m\u001b[1m└ \u001b[22m\u001b[39m\u001b[90m@ ChaosTools C:\\Users\\Alex\\.julia\\packages\\ChaosTools\\PHPDF\\src\\orbitdiagrams\\produce_orbitdiagram.jl:75\u001b[39m\n"
     ]
    },
    {
     "name": "stdout",
     "output_type": "stream",
     "text": [
      "\n",
      "parameter = -0.0968386"
     ]
    },
    {
     "name": "stderr",
     "output_type": "stream",
     "text": [
      "\u001b[33m\u001b[1m┌ \u001b[22m\u001b[39m\u001b[33m\u001b[1mWarning: \u001b[22m\u001b[39mFor parameter -0.0968384 The Poincaré surface of section did not have any points!\n",
      "\u001b[33m\u001b[1m└ \u001b[22m\u001b[39m\u001b[90m@ ChaosTools C:\\Users\\Alex\\.julia\\packages\\ChaosTools\\PHPDF\\src\\orbitdiagrams\\produce_orbitdiagram.jl:75\u001b[39m\n"
     ]
    },
    {
     "name": "stdout",
     "output_type": "stream",
     "text": [
      "\n",
      "parameter = -0.0968388"
     ]
    },
    {
     "name": "stderr",
     "output_type": "stream",
     "text": [
      "\u001b[33m\u001b[1m┌ \u001b[22m\u001b[39m\u001b[33m\u001b[1mWarning: \u001b[22m\u001b[39mFor parameter -0.0968386 The Poincaré surface of section did not have any points!\n",
      "\u001b[33m\u001b[1m└ \u001b[22m\u001b[39m\u001b[90m@ ChaosTools C:\\Users\\Alex\\.julia\\packages\\ChaosTools\\PHPDF\\src\\orbitdiagrams\\produce_orbitdiagram.jl:75\u001b[39m\n"
     ]
    },
    {
     "name": "stdout",
     "output_type": "stream",
     "text": [
      "\n",
      "parameter = -0.096839\n"
     ]
    },
    {
     "name": "stderr",
     "output_type": "stream",
     "text": [
      "\u001b[33m\u001b[1m┌ \u001b[22m\u001b[39m\u001b[33m\u001b[1mWarning: \u001b[22m\u001b[39mFor parameter -0.0968388 The Poincaré surface of section did not have any points!\n",
      "\u001b[33m\u001b[1m└ \u001b[22m\u001b[39m\u001b[90m@ ChaosTools C:\\Users\\Alex\\.julia\\packages\\ChaosTools\\PHPDF\\src\\orbitdiagrams\\produce_orbitdiagram.jl:75\u001b[39m\n"
     ]
    },
    {
     "name": "stdout",
     "output_type": "stream",
     "text": [
      "parameter = -0.0968392"
     ]
    },
    {
     "name": "stderr",
     "output_type": "stream",
     "text": [
      "\u001b[33m\u001b[1m┌ \u001b[22m\u001b[39m\u001b[33m\u001b[1mWarning: \u001b[22m\u001b[39mFor parameter -0.096839 The Poincaré surface of section did not have any points!\n",
      "\u001b[33m\u001b[1m└ \u001b[22m\u001b[39m\u001b[90m@ ChaosTools C:\\Users\\Alex\\.julia\\packages\\ChaosTools\\PHPDF\\src\\orbitdiagrams\\produce_orbitdiagram.jl:75\u001b[39m\n"
     ]
    },
    {
     "name": "stdout",
     "output_type": "stream",
     "text": [
      "\n",
      "parameter = -0.0968394\n"
     ]
    },
    {
     "name": "stderr",
     "output_type": "stream",
     "text": [
      "\u001b[33m\u001b[1m┌ \u001b[22m\u001b[39m\u001b[33m\u001b[1mWarning: \u001b[22m\u001b[39mFor parameter -0.0968392 The Poincaré surface of section did not have any points!\n",
      "\u001b[33m\u001b[1m└ \u001b[22m\u001b[39m\u001b[90m@ ChaosTools C:\\Users\\Alex\\.julia\\packages\\ChaosTools\\PHPDF\\src\\orbitdiagrams\\produce_orbitdiagram.jl:75\u001b[39m\n"
     ]
    },
    {
     "name": "stdout",
     "output_type": "stream",
     "text": [
      "parameter = -0.0968396"
     ]
    },
    {
     "name": "stderr",
     "output_type": "stream",
     "text": [
      "\u001b[33m\u001b[1m┌ \u001b[22m\u001b[39m\u001b[33m\u001b[1mWarning: \u001b[22m\u001b[39mFor parameter -0.0968394 The Poincaré surface of section did not have any points!\n",
      "\u001b[33m\u001b[1m└ \u001b[22m\u001b[39m\u001b[90m@ ChaosTools C:\\Users\\Alex\\.julia\\packages\\ChaosTools\\PHPDF\\src\\orbitdiagrams\\produce_orbitdiagram.jl:75\u001b[39m\n"
     ]
    },
    {
     "name": "stdout",
     "output_type": "stream",
     "text": [
      "\n",
      "parameter = -0.0968398\n"
     ]
    },
    {
     "name": "stderr",
     "output_type": "stream",
     "text": [
      "\u001b[33m\u001b[1m┌ \u001b[22m\u001b[39m\u001b[33m\u001b[1mWarning: \u001b[22m\u001b[39mFor parameter -0.0968396 The Poincaré surface of section did not have any points!\n",
      "\u001b[33m\u001b[1m└ \u001b[22m\u001b[39m\u001b[90m@ ChaosTools C:\\Users\\Alex\\.julia\\packages\\ChaosTools\\PHPDF\\src\\orbitdiagrams\\produce_orbitdiagram.jl:75\u001b[39m\n"
     ]
    },
    {
     "name": "stdout",
     "output_type": "stream",
     "text": [
      "parameter = -0.09684"
     ]
    },
    {
     "name": "stderr",
     "output_type": "stream",
     "text": [
      "\u001b[33m\u001b[1m┌ \u001b[22m\u001b[39m\u001b[33m\u001b[1mWarning: \u001b[22m\u001b[39mFor parameter -0.0968398 The Poincaré surface of section did not have any points!\n",
      "\u001b[33m\u001b[1m└ \u001b[22m\u001b[39m\u001b[90m@ ChaosTools C:\\Users\\Alex\\.julia\\packages\\ChaosTools\\PHPDF\\src\\orbitdiagrams\\produce_orbitdiagram.jl:75\u001b[39m\n"
     ]
    },
    {
     "name": "stdout",
     "output_type": "stream",
     "text": [
      "\n",
      "parameter = -0.0968402\n"
     ]
    },
    {
     "name": "stderr",
     "output_type": "stream",
     "text": [
      "\u001b[33m\u001b[1m┌ \u001b[22m\u001b[39m\u001b[33m\u001b[1mWarning: \u001b[22m\u001b[39mFor parameter -0.09684 The Poincaré surface of section did not have any points!\n",
      "\u001b[33m\u001b[1m└ \u001b[22m\u001b[39m\u001b[90m@ ChaosTools C:\\Users\\Alex\\.julia\\packages\\ChaosTools\\PHPDF\\src\\orbitdiagrams\\produce_orbitdiagram.jl:75\u001b[39m\n"
     ]
    },
    {
     "name": "stdout",
     "output_type": "stream",
     "text": [
      "parameter = -0.0968404"
     ]
    },
    {
     "name": "stderr",
     "output_type": "stream",
     "text": [
      "\u001b[33m\u001b[1m┌ \u001b[22m\u001b[39m\u001b[33m\u001b[1mWarning: \u001b[22m\u001b[39mFor parameter -0.0968402 The Poincaré surface of section did not have any points!\n",
      "\u001b[33m\u001b[1m└ \u001b[22m\u001b[39m\u001b[90m@ ChaosTools C:\\Users\\Alex\\.julia\\packages\\ChaosTools\\PHPDF\\src\\orbitdiagrams\\produce_orbitdiagram.jl:75\u001b[39m\n"
     ]
    },
    {
     "name": "stdout",
     "output_type": "stream",
     "text": [
      "\n",
      "parameter = -0.0968406"
     ]
    },
    {
     "name": "stderr",
     "output_type": "stream",
     "text": [
      "\u001b[33m\u001b[1m┌ \u001b[22m\u001b[39m\u001b[33m\u001b[1mWarning: \u001b[22m\u001b[39mFor parameter -0.0968404 The Poincaré surface of section did not have any points!\n",
      "\u001b[33m\u001b[1m└ \u001b[22m\u001b[39m\u001b[90m@ ChaosTools C:\\Users\\Alex\\.julia\\packages\\ChaosTools\\PHPDF\\src\\orbitdiagrams\\produce_orbitdiagram.jl:75\u001b[39m\n"
     ]
    },
    {
     "name": "stdout",
     "output_type": "stream",
     "text": [
      "\n",
      "parameter = -0.0968408"
     ]
    },
    {
     "name": "stderr",
     "output_type": "stream",
     "text": [
      "\u001b[33m\u001b[1m┌ \u001b[22m\u001b[39m\u001b[33m\u001b[1mWarning: \u001b[22m\u001b[39mFor parameter -0.0968406 The Poincaré surface of section did not have any points!\n",
      "\u001b[33m\u001b[1m└ \u001b[22m\u001b[39m\u001b[90m@ ChaosTools C:\\Users\\Alex\\.julia\\packages\\ChaosTools\\PHPDF\\src\\orbitdiagrams\\produce_orbitdiagram.jl:75\u001b[39m\n"
     ]
    },
    {
     "name": "stdout",
     "output_type": "stream",
     "text": [
      "\n",
      "parameter = -0.096841\n"
     ]
    },
    {
     "name": "stderr",
     "output_type": "stream",
     "text": [
      "\u001b[33m\u001b[1m┌ \u001b[22m\u001b[39m\u001b[33m\u001b[1mWarning: \u001b[22m\u001b[39mFor parameter -0.0968408 The Poincaré surface of section did not have any points!\n",
      "\u001b[33m\u001b[1m└ \u001b[22m\u001b[39m\u001b[90m@ ChaosTools C:\\Users\\Alex\\.julia\\packages\\ChaosTools\\PHPDF\\src\\orbitdiagrams\\produce_orbitdiagram.jl:75\u001b[39m\n"
     ]
    },
    {
     "name": "stdout",
     "output_type": "stream",
     "text": [
      "parameter = -0.0968412"
     ]
    },
    {
     "name": "stderr",
     "output_type": "stream",
     "text": [
      "\u001b[33m\u001b[1m┌ \u001b[22m\u001b[39m\u001b[33m\u001b[1mWarning: \u001b[22m\u001b[39mFor parameter -0.096841 The Poincaré surface of section did not have any points!\n",
      "\u001b[33m\u001b[1m└ \u001b[22m\u001b[39m\u001b[90m@ ChaosTools C:\\Users\\Alex\\.julia\\packages\\ChaosTools\\PHPDF\\src\\orbitdiagrams\\produce_orbitdiagram.jl:75\u001b[39m\n"
     ]
    },
    {
     "name": "stdout",
     "output_type": "stream",
     "text": [
      "\n",
      "parameter = -0.0968414\n"
     ]
    },
    {
     "name": "stderr",
     "output_type": "stream",
     "text": [
      "\u001b[33m\u001b[1m┌ \u001b[22m\u001b[39m\u001b[33m\u001b[1mWarning: \u001b[22m\u001b[39mFor parameter -0.0968412 The Poincaré surface of section did not have any points!\n",
      "\u001b[33m\u001b[1m└ \u001b[22m\u001b[39m\u001b[90m@ ChaosTools C:\\Users\\Alex\\.julia\\packages\\ChaosTools\\PHPDF\\src\\orbitdiagrams\\produce_orbitdiagram.jl:75\u001b[39m\n"
     ]
    },
    {
     "name": "stdout",
     "output_type": "stream",
     "text": [
      "parameter = -0.0968416"
     ]
    },
    {
     "name": "stderr",
     "output_type": "stream",
     "text": [
      "\u001b[33m\u001b[1m┌ \u001b[22m\u001b[39m\u001b[33m\u001b[1mWarning: \u001b[22m\u001b[39mFor parameter -0.0968414 The Poincaré surface of section did not have any points!\n",
      "\u001b[33m\u001b[1m└ \u001b[22m\u001b[39m\u001b[90m@ ChaosTools C:\\Users\\Alex\\.julia\\packages\\ChaosTools\\PHPDF\\src\\orbitdiagrams\\produce_orbitdiagram.jl:75\u001b[39m\n"
     ]
    },
    {
     "name": "stdout",
     "output_type": "stream",
     "text": [
      "\n",
      "parameter = -0.0968418"
     ]
    },
    {
     "name": "stderr",
     "output_type": "stream",
     "text": [
      "\u001b[33m\u001b[1m┌ \u001b[22m\u001b[39m\u001b[33m\u001b[1mWarning: \u001b[22m\u001b[39mFor parameter -0.0968416 The Poincaré surface of section did not have any points!\n",
      "\u001b[33m\u001b[1m└ \u001b[22m\u001b[39m\u001b[90m@ ChaosTools C:\\Users\\Alex\\.julia\\packages\\ChaosTools\\PHPDF\\src\\orbitdiagrams\\produce_orbitdiagram.jl:75\u001b[39m\n"
     ]
    },
    {
     "name": "stdout",
     "output_type": "stream",
     "text": [
      "\n",
      "parameter = -0.096842"
     ]
    },
    {
     "name": "stderr",
     "output_type": "stream",
     "text": [
      "\u001b[33m\u001b[1m┌ \u001b[22m\u001b[39m\u001b[33m\u001b[1mWarning: \u001b[22m\u001b[39mFor parameter -0.0968418 The Poincaré surface of section did not have any points!\n",
      "\u001b[33m\u001b[1m└ \u001b[22m\u001b[39m\u001b[90m@ ChaosTools C:\\Users\\Alex\\.julia\\packages\\ChaosTools\\PHPDF\\src\\orbitdiagrams\\produce_orbitdiagram.jl:75\u001b[39m\n"
     ]
    },
    {
     "name": "stdout",
     "output_type": "stream",
     "text": [
      "\n",
      "parameter = -0.0968422"
     ]
    },
    {
     "name": "stderr",
     "output_type": "stream",
     "text": [
      "\u001b[33m\u001b[1m┌ \u001b[22m\u001b[39m\u001b[33m\u001b[1mWarning: \u001b[22m\u001b[39mFor parameter -0.096842 The Poincaré surface of section did not have any points!\n",
      "\u001b[33m\u001b[1m└ \u001b[22m\u001b[39m\u001b[90m@ ChaosTools C:\\Users\\Alex\\.julia\\packages\\ChaosTools\\PHPDF\\src\\orbitdiagrams\\produce_orbitdiagram.jl:75\u001b[39m\n"
     ]
    },
    {
     "name": "stdout",
     "output_type": "stream",
     "text": [
      "\n",
      "parameter = -0.0968424\n"
     ]
    },
    {
     "name": "stderr",
     "output_type": "stream",
     "text": [
      "\u001b[33m\u001b[1m┌ \u001b[22m\u001b[39m\u001b[33m\u001b[1mWarning: \u001b[22m\u001b[39mFor parameter -0.0968422 The Poincaré surface of section did not have any points!\n",
      "\u001b[33m\u001b[1m└ \u001b[22m\u001b[39m\u001b[90m@ ChaosTools C:\\Users\\Alex\\.julia\\packages\\ChaosTools\\PHPDF\\src\\orbitdiagrams\\produce_orbitdiagram.jl:75\u001b[39m\n"
     ]
    },
    {
     "name": "stdout",
     "output_type": "stream",
     "text": [
      "parameter = -0.0968426"
     ]
    },
    {
     "name": "stderr",
     "output_type": "stream",
     "text": [
      "\u001b[33m\u001b[1m┌ \u001b[22m\u001b[39m\u001b[33m\u001b[1mWarning: \u001b[22m\u001b[39mFor parameter -0.0968424 The Poincaré surface of section did not have any points!\n",
      "\u001b[33m\u001b[1m└ \u001b[22m\u001b[39m\u001b[90m@ ChaosTools C:\\Users\\Alex\\.julia\\packages\\ChaosTools\\PHPDF\\src\\orbitdiagrams\\produce_orbitdiagram.jl:75\u001b[39m\n"
     ]
    },
    {
     "name": "stdout",
     "output_type": "stream",
     "text": [
      "\n",
      "parameter = -0.0968428\n"
     ]
    },
    {
     "name": "stderr",
     "output_type": "stream",
     "text": [
      "\u001b[33m\u001b[1m┌ \u001b[22m\u001b[39m\u001b[33m\u001b[1mWarning: \u001b[22m\u001b[39mFor parameter -0.0968426 The Poincaré surface of section did not have any points!\n",
      "\u001b[33m\u001b[1m└ \u001b[22m\u001b[39m\u001b[90m@ ChaosTools C:\\Users\\Alex\\.julia\\packages\\ChaosTools\\PHPDF\\src\\orbitdiagrams\\produce_orbitdiagram.jl:75\u001b[39m\n"
     ]
    },
    {
     "name": "stdout",
     "output_type": "stream",
     "text": [
      "parameter = -0.096843\n"
     ]
    },
    {
     "name": "stderr",
     "output_type": "stream",
     "text": [
      "\u001b[33m\u001b[1m┌ \u001b[22m\u001b[39m\u001b[33m\u001b[1mWarning: \u001b[22m\u001b[39mFor parameter -0.0968428 The Poincaré surface of section did not have any points!\n",
      "\u001b[33m\u001b[1m└ \u001b[22m\u001b[39m\u001b[90m@ ChaosTools C:\\Users\\Alex\\.julia\\packages\\ChaosTools\\PHPDF\\src\\orbitdiagrams\\produce_orbitdiagram.jl:75\u001b[39m\n"
     ]
    },
    {
     "name": "stdout",
     "output_type": "stream",
     "text": [
      "parameter = -0.0968432"
     ]
    },
    {
     "name": "stderr",
     "output_type": "stream",
     "text": [
      "\u001b[33m\u001b[1m┌ \u001b[22m\u001b[39m\u001b[33m\u001b[1mWarning: \u001b[22m\u001b[39mFor parameter -0.096843 The Poincaré surface of section did not have any points!\n",
      "\u001b[33m\u001b[1m└ \u001b[22m\u001b[39m\u001b[90m@ ChaosTools C:\\Users\\Alex\\.julia\\packages\\ChaosTools\\PHPDF\\src\\orbitdiagrams\\produce_orbitdiagram.jl:75\u001b[39m\n"
     ]
    },
    {
     "name": "stdout",
     "output_type": "stream",
     "text": [
      "\n",
      "parameter = -0.0968434\n"
     ]
    },
    {
     "name": "stderr",
     "output_type": "stream",
     "text": [
      "\u001b[33m\u001b[1m┌ \u001b[22m\u001b[39m\u001b[33m\u001b[1mWarning: \u001b[22m\u001b[39mFor parameter -0.0968432 The Poincaré surface of section did not have any points!\n",
      "\u001b[33m\u001b[1m└ \u001b[22m\u001b[39m\u001b[90m@ ChaosTools C:\\Users\\Alex\\.julia\\packages\\ChaosTools\\PHPDF\\src\\orbitdiagrams\\produce_orbitdiagram.jl:75\u001b[39m\n"
     ]
    },
    {
     "name": "stdout",
     "output_type": "stream",
     "text": [
      "parameter = -0.0968436"
     ]
    },
    {
     "name": "stderr",
     "output_type": "stream",
     "text": [
      "\u001b[33m\u001b[1m┌ \u001b[22m\u001b[39m\u001b[33m\u001b[1mWarning: \u001b[22m\u001b[39mFor parameter -0.0968434 The Poincaré surface of section did not have any points!\n",
      "\u001b[33m\u001b[1m└ \u001b[22m\u001b[39m\u001b[90m@ ChaosTools C:\\Users\\Alex\\.julia\\packages\\ChaosTools\\PHPDF\\src\\orbitdiagrams\\produce_orbitdiagram.jl:75\u001b[39m\n"
     ]
    },
    {
     "name": "stdout",
     "output_type": "stream",
     "text": [
      "\n",
      "parameter = -0.0968438"
     ]
    },
    {
     "name": "stderr",
     "output_type": "stream",
     "text": [
      "\u001b[33m\u001b[1m┌ \u001b[22m\u001b[39m\u001b[33m\u001b[1mWarning: \u001b[22m\u001b[39mFor parameter -0.0968436 The Poincaré surface of section did not have any points!\n",
      "\u001b[33m\u001b[1m└ \u001b[22m\u001b[39m\u001b[90m@ ChaosTools C:\\Users\\Alex\\.julia\\packages\\ChaosTools\\PHPDF\\src\\orbitdiagrams\\produce_orbitdiagram.jl:75\u001b[39m\n"
     ]
    },
    {
     "name": "stdout",
     "output_type": "stream",
     "text": [
      "\n",
      "parameter = -0.096844\n"
     ]
    },
    {
     "name": "stderr",
     "output_type": "stream",
     "text": [
      "\u001b[33m\u001b[1m┌ \u001b[22m\u001b[39m\u001b[33m\u001b[1mWarning: \u001b[22m\u001b[39mFor parameter -0.0968438 The Poincaré surface of section did not have any points!\n",
      "\u001b[33m\u001b[1m└ \u001b[22m\u001b[39m\u001b[90m@ ChaosTools C:\\Users\\Alex\\.julia\\packages\\ChaosTools\\PHPDF\\src\\orbitdiagrams\\produce_orbitdiagram.jl:75\u001b[39m\n"
     ]
    },
    {
     "name": "stdout",
     "output_type": "stream",
     "text": [
      "parameter = -0.0968442"
     ]
    },
    {
     "name": "stderr",
     "output_type": "stream",
     "text": [
      "\u001b[33m\u001b[1m┌ \u001b[22m\u001b[39m\u001b[33m\u001b[1mWarning: \u001b[22m\u001b[39mFor parameter -0.096844 The Poincaré surface of section did not have any points!\n",
      "\u001b[33m\u001b[1m└ \u001b[22m\u001b[39m\u001b[90m@ ChaosTools C:\\Users\\Alex\\.julia\\packages\\ChaosTools\\PHPDF\\src\\orbitdiagrams\\produce_orbitdiagram.jl:75\u001b[39m\n"
     ]
    },
    {
     "name": "stdout",
     "output_type": "stream",
     "text": [
      "\n",
      "parameter = -0.0968444"
     ]
    },
    {
     "name": "stderr",
     "output_type": "stream",
     "text": [
      "\u001b[33m\u001b[1m┌ \u001b[22m\u001b[39m\u001b[33m\u001b[1mWarning: \u001b[22m\u001b[39mFor parameter -0.0968442 The Poincaré surface of section did not have any points!\n",
      "\u001b[33m\u001b[1m└ \u001b[22m\u001b[39m\u001b[90m@ ChaosTools C:\\Users\\Alex\\.julia\\packages\\ChaosTools\\PHPDF\\src\\orbitdiagrams\\produce_orbitdiagram.jl:75\u001b[39m\n"
     ]
    },
    {
     "name": "stdout",
     "output_type": "stream",
     "text": [
      "\n",
      "parameter = -0.0968446\n"
     ]
    },
    {
     "name": "stderr",
     "output_type": "stream",
     "text": [
      "\u001b[33m\u001b[1m┌ \u001b[22m\u001b[39m\u001b[33m\u001b[1mWarning: \u001b[22m\u001b[39mFor parameter -0.0968444 The Poincaré surface of section did not have any points!\n",
      "\u001b[33m\u001b[1m└ \u001b[22m\u001b[39m\u001b[90m@ ChaosTools C:\\Users\\Alex\\.julia\\packages\\ChaosTools\\PHPDF\\src\\orbitdiagrams\\produce_orbitdiagram.jl:75\u001b[39m\n"
     ]
    },
    {
     "name": "stdout",
     "output_type": "stream",
     "text": [
      "parameter = -0.0968448\n"
     ]
    },
    {
     "name": "stderr",
     "output_type": "stream",
     "text": [
      "\u001b[33m\u001b[1m┌ \u001b[22m\u001b[39m\u001b[33m\u001b[1mWarning: \u001b[22m\u001b[39mFor parameter -0.0968446 The Poincaré surface of section did not have any points!\n",
      "\u001b[33m\u001b[1m└ \u001b[22m\u001b[39m\u001b[90m@ ChaosTools C:\\Users\\Alex\\.julia\\packages\\ChaosTools\\PHPDF\\src\\orbitdiagrams\\produce_orbitdiagram.jl:75\u001b[39m\n"
     ]
    },
    {
     "name": "stdout",
     "output_type": "stream",
     "text": [
      "parameter = -0.096845\n"
     ]
    },
    {
     "name": "stderr",
     "output_type": "stream",
     "text": [
      "\u001b[33m\u001b[1m┌ \u001b[22m\u001b[39m\u001b[33m\u001b[1mWarning: \u001b[22m\u001b[39mFor parameter -0.0968448 The Poincaré surface of section did not have any points!\n",
      "\u001b[33m\u001b[1m└ \u001b[22m\u001b[39m\u001b[90m@ ChaosTools C:\\Users\\Alex\\.julia\\packages\\ChaosTools\\PHPDF\\src\\orbitdiagrams\\produce_orbitdiagram.jl:75\u001b[39m\n"
     ]
    },
    {
     "name": "stdout",
     "output_type": "stream",
     "text": [
      "parameter = -0.0968452"
     ]
    },
    {
     "name": "stderr",
     "output_type": "stream",
     "text": [
      "\u001b[33m\u001b[1m┌ \u001b[22m\u001b[39m\u001b[33m\u001b[1mWarning: \u001b[22m\u001b[39mFor parameter -0.096845 The Poincaré surface of section did not have any points!\n",
      "\u001b[33m\u001b[1m└ \u001b[22m\u001b[39m\u001b[90m@ ChaosTools C:\\Users\\Alex\\.julia\\packages\\ChaosTools\\PHPDF\\src\\orbitdiagrams\\produce_orbitdiagram.jl:75\u001b[39m\n"
     ]
    },
    {
     "name": "stdout",
     "output_type": "stream",
     "text": [
      "\n",
      "parameter = -0.0968454"
     ]
    },
    {
     "name": "stderr",
     "output_type": "stream",
     "text": [
      "\u001b[33m\u001b[1m┌ \u001b[22m\u001b[39m\u001b[33m\u001b[1mWarning: \u001b[22m\u001b[39mFor parameter -0.0968452 The Poincaré surface of section did not have any points!\n",
      "\u001b[33m\u001b[1m└ \u001b[22m\u001b[39m\u001b[90m@ ChaosTools C:\\Users\\Alex\\.julia\\packages\\ChaosTools\\PHPDF\\src\\orbitdiagrams\\produce_orbitdiagram.jl:75\u001b[39m\n"
     ]
    },
    {
     "name": "stdout",
     "output_type": "stream",
     "text": [
      "\n",
      "parameter = -0.0968456\n"
     ]
    },
    {
     "name": "stderr",
     "output_type": "stream",
     "text": [
      "\u001b[33m\u001b[1m┌ \u001b[22m\u001b[39m\u001b[33m\u001b[1mWarning: \u001b[22m\u001b[39mFor parameter -0.0968454 The Poincaré surface of section did not have any points!\n",
      "\u001b[33m\u001b[1m└ \u001b[22m\u001b[39m\u001b[90m@ ChaosTools C:\\Users\\Alex\\.julia\\packages\\ChaosTools\\PHPDF\\src\\orbitdiagrams\\produce_orbitdiagram.jl:75\u001b[39m\n"
     ]
    },
    {
     "name": "stdout",
     "output_type": "stream",
     "text": [
      "parameter = -0.0968458\n"
     ]
    },
    {
     "name": "stderr",
     "output_type": "stream",
     "text": [
      "\u001b[33m\u001b[1m┌ \u001b[22m\u001b[39m\u001b[33m\u001b[1mWarning: \u001b[22m\u001b[39mFor parameter -0.0968456 The Poincaré surface of section did not have any points!\n",
      "\u001b[33m\u001b[1m└ \u001b[22m\u001b[39m\u001b[90m@ ChaosTools C:\\Users\\Alex\\.julia\\packages\\ChaosTools\\PHPDF\\src\\orbitdiagrams\\produce_orbitdiagram.jl:75\u001b[39m\n"
     ]
    },
    {
     "name": "stdout",
     "output_type": "stream",
     "text": [
      "parameter = -0.096846"
     ]
    },
    {
     "name": "stderr",
     "output_type": "stream",
     "text": [
      "\u001b[33m\u001b[1m┌ \u001b[22m\u001b[39m\u001b[33m\u001b[1mWarning: \u001b[22m\u001b[39mFor parameter -0.0968458 The Poincaré surface of section did not have any points!\n",
      "\u001b[33m\u001b[1m└ \u001b[22m\u001b[39m\u001b[90m@ ChaosTools C:\\Users\\Alex\\.julia\\packages\\ChaosTools\\PHPDF\\src\\orbitdiagrams\\produce_orbitdiagram.jl:75\u001b[39m\n"
     ]
    },
    {
     "name": "stdout",
     "output_type": "stream",
     "text": [
      "\n",
      "parameter = -0.0968462\n"
     ]
    },
    {
     "name": "stderr",
     "output_type": "stream",
     "text": [
      "\u001b[33m\u001b[1m┌ \u001b[22m\u001b[39m\u001b[33m\u001b[1mWarning: \u001b[22m\u001b[39mFor parameter -0.096846 The Poincaré surface of section did not have any points!\n",
      "\u001b[33m\u001b[1m└ \u001b[22m\u001b[39m\u001b[90m@ ChaosTools C:\\Users\\Alex\\.julia\\packages\\ChaosTools\\PHPDF\\src\\orbitdiagrams\\produce_orbitdiagram.jl:75\u001b[39m\n"
     ]
    },
    {
     "name": "stdout",
     "output_type": "stream",
     "text": [
      "parameter = -0.0968464"
     ]
    },
    {
     "name": "stderr",
     "output_type": "stream",
     "text": [
      "\u001b[33m\u001b[1m┌ \u001b[22m\u001b[39m\u001b[33m\u001b[1mWarning: \u001b[22m\u001b[39mFor parameter -0.0968462 The Poincaré surface of section did not have any points!\n",
      "\u001b[33m\u001b[1m└ \u001b[22m\u001b[39m\u001b[90m@ ChaosTools C:\\Users\\Alex\\.julia\\packages\\ChaosTools\\PHPDF\\src\\orbitdiagrams\\produce_orbitdiagram.jl:75\u001b[39m\n"
     ]
    },
    {
     "name": "stdout",
     "output_type": "stream",
     "text": [
      "\n",
      "parameter = -0.0968466\n"
     ]
    },
    {
     "name": "stderr",
     "output_type": "stream",
     "text": [
      "\u001b[33m\u001b[1m┌ \u001b[22m\u001b[39m\u001b[33m\u001b[1mWarning: \u001b[22m\u001b[39mFor parameter -0.0968464 The Poincaré surface of section did not have any points!\n",
      "\u001b[33m\u001b[1m└ \u001b[22m\u001b[39m\u001b[90m@ ChaosTools C:\\Users\\Alex\\.julia\\packages\\ChaosTools\\PHPDF\\src\\orbitdiagrams\\produce_orbitdiagram.jl:75\u001b[39m\n"
     ]
    },
    {
     "name": "stdout",
     "output_type": "stream",
     "text": [
      "parameter = -0.0968468"
     ]
    },
    {
     "name": "stderr",
     "output_type": "stream",
     "text": [
      "\u001b[33m\u001b[1m┌ \u001b[22m\u001b[39m\u001b[33m\u001b[1mWarning: \u001b[22m\u001b[39mFor parameter -0.0968466 The Poincaré surface of section did not have any points!\n",
      "\u001b[33m\u001b[1m└ \u001b[22m\u001b[39m\u001b[90m@ ChaosTools C:\\Users\\Alex\\.julia\\packages\\ChaosTools\\PHPDF\\src\\orbitdiagrams\\produce_orbitdiagram.jl:75\u001b[39m\n"
     ]
    },
    {
     "name": "stdout",
     "output_type": "stream",
     "text": [
      "\n"
     ]
    },
    {
     "name": "stderr",
     "output_type": "stream",
     "text": [
      "\u001b[33m\u001b[1m┌ \u001b[22m\u001b[39m\u001b[33m\u001b[1mWarning: \u001b[22m\u001b[39mFor parameter -0.0968468 The Poincaré surface of section did not have any points!\n",
      "\u001b[33m\u001b[1m└ \u001b[22m\u001b[39m\u001b[90m@ ChaosTools C:\\Users\\Alex\\.julia\\packages\\ChaosTools\\PHPDF\\src\\orbitdiagrams\\produce_orbitdiagram.jl:75\u001b[39m\n"
     ]
    },
    {
     "name": "stdout",
     "output_type": "stream",
     "text": [
      "parameter = -0.096847\n",
      "parameter = -0.0968472"
     ]
    },
    {
     "name": "stderr",
     "output_type": "stream",
     "text": [
      "\u001b[33m\u001b[1m┌ \u001b[22m\u001b[39m\u001b[33m\u001b[1mWarning: \u001b[22m\u001b[39mFor parameter -0.096847 The Poincaré surface of section did not have any points!\n",
      "\u001b[33m\u001b[1m└ \u001b[22m\u001b[39m\u001b[90m@ ChaosTools C:\\Users\\Alex\\.julia\\packages\\ChaosTools\\PHPDF\\src\\orbitdiagrams\\produce_orbitdiagram.jl:75\u001b[39m\n"
     ]
    },
    {
     "name": "stdout",
     "output_type": "stream",
     "text": [
      "\n",
      "parameter = -0.0968474"
     ]
    },
    {
     "name": "stderr",
     "output_type": "stream",
     "text": [
      "\u001b[33m\u001b[1m┌ \u001b[22m\u001b[39m\u001b[33m\u001b[1mWarning: \u001b[22m\u001b[39mFor parameter -0.0968472 The Poincaré surface of section did not have any points!\n",
      "\u001b[33m\u001b[1m└ \u001b[22m\u001b[39m\u001b[90m@ ChaosTools C:\\Users\\Alex\\.julia\\packages\\ChaosTools\\PHPDF\\src\\orbitdiagrams\\produce_orbitdiagram.jl:75\u001b[39m\n"
     ]
    },
    {
     "name": "stdout",
     "output_type": "stream",
     "text": [
      "\n",
      "parameter = -0.0968476\n"
     ]
    },
    {
     "name": "stderr",
     "output_type": "stream",
     "text": [
      "\u001b[33m\u001b[1m┌ \u001b[22m\u001b[39m\u001b[33m\u001b[1mWarning: \u001b[22m\u001b[39mFor parameter -0.0968474 The Poincaré surface of section did not have any points!\n",
      "\u001b[33m\u001b[1m└ \u001b[22m\u001b[39m\u001b[90m@ ChaosTools C:\\Users\\Alex\\.julia\\packages\\ChaosTools\\PHPDF\\src\\orbitdiagrams\\produce_orbitdiagram.jl:75\u001b[39m\n"
     ]
    },
    {
     "name": "stdout",
     "output_type": "stream",
     "text": [
      "parameter = -0.0968478"
     ]
    },
    {
     "name": "stderr",
     "output_type": "stream",
     "text": [
      "\u001b[33m\u001b[1m┌ \u001b[22m\u001b[39m\u001b[33m\u001b[1mWarning: \u001b[22m\u001b[39mFor parameter -0.0968476 The Poincaré surface of section did not have any points!\n",
      "\u001b[33m\u001b[1m└ \u001b[22m\u001b[39m\u001b[90m@ ChaosTools C:\\Users\\Alex\\.julia\\packages\\ChaosTools\\PHPDF\\src\\orbitdiagrams\\produce_orbitdiagram.jl:75\u001b[39m\n"
     ]
    },
    {
     "name": "stdout",
     "output_type": "stream",
     "text": [
      "\n"
     ]
    },
    {
     "name": "stderr",
     "output_type": "stream",
     "text": [
      "\u001b[33m\u001b[1m┌ \u001b[22m\u001b[39m\u001b[33m\u001b[1mWarning: \u001b[22m\u001b[39mFor parameter -0.0968478 The Poincaré surface of section did not have any points!\n",
      "\u001b[33m\u001b[1m└ \u001b[22m\u001b[39m\u001b[90m@ ChaosTools C:\\Users\\Alex\\.julia\\packages\\ChaosTools\\PHPDF\\src\\orbitdiagrams\\produce_orbitdiagram.jl:75\u001b[39m\n"
     ]
    },
    {
     "name": "stdout",
     "output_type": "stream",
     "text": [
      "parameter = -0.096848\n",
      "parameter = -0.0968482\n"
     ]
    },
    {
     "name": "stderr",
     "output_type": "stream",
     "text": [
      "\u001b[33m\u001b[1m┌ \u001b[22m\u001b[39m\u001b[33m\u001b[1mWarning: \u001b[22m\u001b[39mFor parameter -0.096848 The Poincaré surface of section did not have any points!\n",
      "\u001b[33m\u001b[1m└ \u001b[22m\u001b[39m\u001b[90m@ ChaosTools C:\\Users\\Alex\\.julia\\packages\\ChaosTools\\PHPDF\\src\\orbitdiagrams\\produce_orbitdiagram.jl:75\u001b[39m\n"
     ]
    },
    {
     "name": "stdout",
     "output_type": "stream",
     "text": [
      "parameter = -0.0968484"
     ]
    },
    {
     "name": "stderr",
     "output_type": "stream",
     "text": [
      "\u001b[33m\u001b[1m┌ \u001b[22m\u001b[39m\u001b[33m\u001b[1mWarning: \u001b[22m\u001b[39mFor parameter -0.0968482 The Poincaré surface of section did not have any points!\n",
      "\u001b[33m\u001b[1m└ \u001b[22m\u001b[39m\u001b[90m@ ChaosTools C:\\Users\\Alex\\.julia\\packages\\ChaosTools\\PHPDF\\src\\orbitdiagrams\\produce_orbitdiagram.jl:75\u001b[39m\n"
     ]
    },
    {
     "name": "stdout",
     "output_type": "stream",
     "text": [
      "\n",
      "parameter = -0.0968486"
     ]
    },
    {
     "name": "stderr",
     "output_type": "stream",
     "text": [
      "\u001b[33m\u001b[1m┌ \u001b[22m\u001b[39m\u001b[33m\u001b[1mWarning: \u001b[22m\u001b[39mFor parameter -0.0968484 The Poincaré surface of section did not have any points!\n",
      "\u001b[33m\u001b[1m└ \u001b[22m\u001b[39m\u001b[90m@ ChaosTools C:\\Users\\Alex\\.julia\\packages\\ChaosTools\\PHPDF\\src\\orbitdiagrams\\produce_orbitdiagram.jl:75\u001b[39m\n"
     ]
    },
    {
     "name": "stdout",
     "output_type": "stream",
     "text": [
      "\n",
      "parameter = -0.0968488\n"
     ]
    },
    {
     "name": "stderr",
     "output_type": "stream",
     "text": [
      "\u001b[33m\u001b[1m┌ \u001b[22m\u001b[39m\u001b[33m\u001b[1mWarning: \u001b[22m\u001b[39mFor parameter -0.0968486 The Poincaré surface of section did not have any points!\n",
      "\u001b[33m\u001b[1m└ \u001b[22m\u001b[39m\u001b[90m@ ChaosTools C:\\Users\\Alex\\.julia\\packages\\ChaosTools\\PHPDF\\src\\orbitdiagrams\\produce_orbitdiagram.jl:75\u001b[39m\n"
     ]
    },
    {
     "name": "stdout",
     "output_type": "stream",
     "text": [
      "parameter = -0.096849"
     ]
    },
    {
     "name": "stderr",
     "output_type": "stream",
     "text": [
      "\u001b[33m\u001b[1m┌ \u001b[22m\u001b[39m\u001b[33m\u001b[1mWarning: \u001b[22m\u001b[39mFor parameter -0.0968488 The Poincaré surface of section did not have any points!\n",
      "\u001b[33m\u001b[1m└ \u001b[22m\u001b[39m\u001b[90m@ ChaosTools C:\\Users\\Alex\\.julia\\packages\\ChaosTools\\PHPDF\\src\\orbitdiagrams\\produce_orbitdiagram.jl:75\u001b[39m\n"
     ]
    },
    {
     "name": "stdout",
     "output_type": "stream",
     "text": [
      "\n",
      "parameter = -0.0968492\n"
     ]
    },
    {
     "name": "stderr",
     "output_type": "stream",
     "text": [
      "\u001b[33m\u001b[1m┌ \u001b[22m\u001b[39m\u001b[33m\u001b[1mWarning: \u001b[22m\u001b[39mFor parameter -0.096849 The Poincaré surface of section did not have any points!\n",
      "\u001b[33m\u001b[1m└ \u001b[22m\u001b[39m\u001b[90m@ ChaosTools C:\\Users\\Alex\\.julia\\packages\\ChaosTools\\PHPDF\\src\\orbitdiagrams\\produce_orbitdiagram.jl:75\u001b[39m\n"
     ]
    },
    {
     "name": "stdout",
     "output_type": "stream",
     "text": [
      "parameter = -0.0968494"
     ]
    },
    {
     "name": "stderr",
     "output_type": "stream",
     "text": [
      "\u001b[33m\u001b[1m┌ \u001b[22m\u001b[39m\u001b[33m\u001b[1mWarning: \u001b[22m\u001b[39mFor parameter -0.0968492 The Poincaré surface of section did not have any points!\n",
      "\u001b[33m\u001b[1m└ \u001b[22m\u001b[39m\u001b[90m@ ChaosTools C:\\Users\\Alex\\.julia\\packages\\ChaosTools\\PHPDF\\src\\orbitdiagrams\\produce_orbitdiagram.jl:75\u001b[39m\n"
     ]
    },
    {
     "name": "stdout",
     "output_type": "stream",
     "text": [
      "\n",
      "parameter = -0.0968496"
     ]
    },
    {
     "name": "stderr",
     "output_type": "stream",
     "text": [
      "\u001b[33m\u001b[1m┌ \u001b[22m\u001b[39m\u001b[33m\u001b[1mWarning: \u001b[22m\u001b[39mFor parameter -0.0968494 The Poincaré surface of section did not have any points!\n",
      "\u001b[33m\u001b[1m└ \u001b[22m\u001b[39m\u001b[90m@ ChaosTools C:\\Users\\Alex\\.julia\\packages\\ChaosTools\\PHPDF\\src\\orbitdiagrams\\produce_orbitdiagram.jl:75\u001b[39m\n"
     ]
    },
    {
     "name": "stdout",
     "output_type": "stream",
     "text": [
      "\n",
      "parameter = -0.0968498"
     ]
    },
    {
     "name": "stderr",
     "output_type": "stream",
     "text": [
      "\u001b[33m\u001b[1m┌ \u001b[22m\u001b[39m\u001b[33m\u001b[1mWarning: \u001b[22m\u001b[39mFor parameter -0.0968496 The Poincaré surface of section did not have any points!\n",
      "\u001b[33m\u001b[1m└ \u001b[22m\u001b[39m\u001b[90m@ ChaosTools C:\\Users\\Alex\\.julia\\packages\\ChaosTools\\PHPDF\\src\\orbitdiagrams\\produce_orbitdiagram.jl:75\u001b[39m\n"
     ]
    },
    {
     "name": "stdout",
     "output_type": "stream",
     "text": [
      "\n",
      "parameter = -0.09685\n"
     ]
    },
    {
     "name": "stderr",
     "output_type": "stream",
     "text": [
      "\u001b[33m\u001b[1m┌ \u001b[22m\u001b[39m\u001b[33m\u001b[1mWarning: \u001b[22m\u001b[39mFor parameter -0.0968498 The Poincaré surface of section did not have any points!\n",
      "\u001b[33m\u001b[1m└ \u001b[22m\u001b[39m\u001b[90m@ ChaosTools C:\\Users\\Alex\\.julia\\packages\\ChaosTools\\PHPDF\\src\\orbitdiagrams\\produce_orbitdiagram.jl:75\u001b[39m\n"
     ]
    },
    {
     "name": "stdout",
     "output_type": "stream",
     "text": [
      "parameter = -0.0968502"
     ]
    },
    {
     "name": "stderr",
     "output_type": "stream",
     "text": [
      "\u001b[33m\u001b[1m┌ \u001b[22m\u001b[39m\u001b[33m\u001b[1mWarning: \u001b[22m\u001b[39mFor parameter -0.09685 The Poincaré surface of section did not have any points!\n",
      "\u001b[33m\u001b[1m└ \u001b[22m\u001b[39m\u001b[90m@ ChaosTools C:\\Users\\Alex\\.julia\\packages\\ChaosTools\\PHPDF\\src\\orbitdiagrams\\produce_orbitdiagram.jl:75\u001b[39m\n"
     ]
    },
    {
     "name": "stdout",
     "output_type": "stream",
     "text": [
      "\n",
      "parameter = -0.0968504"
     ]
    },
    {
     "name": "stderr",
     "output_type": "stream",
     "text": [
      "\u001b[33m\u001b[1m┌ \u001b[22m\u001b[39m\u001b[33m\u001b[1mWarning: \u001b[22m\u001b[39mFor parameter -0.0968502 The Poincaré surface of section did not have any points!\n",
      "\u001b[33m\u001b[1m└ \u001b[22m\u001b[39m\u001b[90m@ ChaosTools C:\\Users\\Alex\\.julia\\packages\\ChaosTools\\PHPDF\\src\\orbitdiagrams\\produce_orbitdiagram.jl:75\u001b[39m\n"
     ]
    },
    {
     "name": "stdout",
     "output_type": "stream",
     "text": [
      "\n",
      "parameter = -0.0968506"
     ]
    },
    {
     "name": "stderr",
     "output_type": "stream",
     "text": [
      "\u001b[33m\u001b[1m┌ \u001b[22m\u001b[39m\u001b[33m\u001b[1mWarning: \u001b[22m\u001b[39mFor parameter -0.0968504 The Poincaré surface of section did not have any points!\n",
      "\u001b[33m\u001b[1m└ \u001b[22m\u001b[39m\u001b[90m@ ChaosTools C:\\Users\\Alex\\.julia\\packages\\ChaosTools\\PHPDF\\src\\orbitdiagrams\\produce_orbitdiagram.jl:75\u001b[39m\n"
     ]
    },
    {
     "name": "stdout",
     "output_type": "stream",
     "text": [
      "\n",
      "parameter = -0.0968508\n"
     ]
    },
    {
     "name": "stderr",
     "output_type": "stream",
     "text": [
      "\u001b[33m\u001b[1m┌ \u001b[22m\u001b[39m\u001b[33m\u001b[1mWarning: \u001b[22m\u001b[39mFor parameter -0.0968506 The Poincaré surface of section did not have any points!\n",
      "\u001b[33m\u001b[1m└ \u001b[22m\u001b[39m\u001b[90m@ ChaosTools C:\\Users\\Alex\\.julia\\packages\\ChaosTools\\PHPDF\\src\\orbitdiagrams\\produce_orbitdiagram.jl:75\u001b[39m\n"
     ]
    },
    {
     "name": "stdout",
     "output_type": "stream",
     "text": [
      "parameter = -0.096851"
     ]
    },
    {
     "name": "stderr",
     "output_type": "stream",
     "text": [
      "\u001b[33m\u001b[1m┌ \u001b[22m\u001b[39m\u001b[33m\u001b[1mWarning: \u001b[22m\u001b[39mFor parameter -0.0968508 The Poincaré surface of section did not have any points!\n",
      "\u001b[33m\u001b[1m└ \u001b[22m\u001b[39m\u001b[90m@ ChaosTools C:\\Users\\Alex\\.julia\\packages\\ChaosTools\\PHPDF\\src\\orbitdiagrams\\produce_orbitdiagram.jl:75\u001b[39m\n"
     ]
    },
    {
     "name": "stdout",
     "output_type": "stream",
     "text": [
      "\n",
      "parameter = -0.0968512"
     ]
    },
    {
     "name": "stderr",
     "output_type": "stream",
     "text": [
      "\u001b[33m\u001b[1m┌ \u001b[22m\u001b[39m\u001b[33m\u001b[1mWarning: \u001b[22m\u001b[39mFor parameter -0.096851 The Poincaré surface of section did not have any points!\n",
      "\u001b[33m\u001b[1m└ \u001b[22m\u001b[39m\u001b[90m@ ChaosTools C:\\Users\\Alex\\.julia\\packages\\ChaosTools\\PHPDF\\src\\orbitdiagrams\\produce_orbitdiagram.jl:75\u001b[39m\n"
     ]
    },
    {
     "name": "stdout",
     "output_type": "stream",
     "text": [
      "\n",
      "parameter = -0.0968514\n"
     ]
    },
    {
     "name": "stderr",
     "output_type": "stream",
     "text": [
      "\u001b[33m\u001b[1m┌ \u001b[22m\u001b[39m\u001b[33m\u001b[1mWarning: \u001b[22m\u001b[39mFor parameter -0.0968512 The Poincaré surface of section did not have any points!\n",
      "\u001b[33m\u001b[1m└ \u001b[22m\u001b[39m\u001b[90m@ ChaosTools C:\\Users\\Alex\\.julia\\packages\\ChaosTools\\PHPDF\\src\\orbitdiagrams\\produce_orbitdiagram.jl:75\u001b[39m\n"
     ]
    },
    {
     "name": "stdout",
     "output_type": "stream",
     "text": [
      "parameter = -0.0968516"
     ]
    },
    {
     "name": "stderr",
     "output_type": "stream",
     "text": [
      "\u001b[33m\u001b[1m┌ \u001b[22m\u001b[39m\u001b[33m\u001b[1mWarning: \u001b[22m\u001b[39mFor parameter -0.0968514 The Poincaré surface of section did not have any points!\n",
      "\u001b[33m\u001b[1m└ \u001b[22m\u001b[39m\u001b[90m@ ChaosTools C:\\Users\\Alex\\.julia\\packages\\ChaosTools\\PHPDF\\src\\orbitdiagrams\\produce_orbitdiagram.jl:75\u001b[39m\n"
     ]
    },
    {
     "name": "stdout",
     "output_type": "stream",
     "text": [
      "\n",
      "parameter = -0.0968518"
     ]
    },
    {
     "name": "stderr",
     "output_type": "stream",
     "text": [
      "\u001b[33m\u001b[1m┌ \u001b[22m\u001b[39m\u001b[33m\u001b[1mWarning: \u001b[22m\u001b[39mFor parameter -0.0968516 The Poincaré surface of section did not have any points!\n",
      "\u001b[33m\u001b[1m└ \u001b[22m\u001b[39m\u001b[90m@ ChaosTools C:\\Users\\Alex\\.julia\\packages\\ChaosTools\\PHPDF\\src\\orbitdiagrams\\produce_orbitdiagram.jl:75\u001b[39m\n"
     ]
    },
    {
     "name": "stdout",
     "output_type": "stream",
     "text": [
      "\n",
      "parameter = -0.096852"
     ]
    },
    {
     "name": "stderr",
     "output_type": "stream",
     "text": [
      "\u001b[33m\u001b[1m┌ \u001b[22m\u001b[39m\u001b[33m\u001b[1mWarning: \u001b[22m\u001b[39mFor parameter -0.0968518 The Poincaré surface of section did not have any points!\n",
      "\u001b[33m\u001b[1m└ \u001b[22m\u001b[39m\u001b[90m@ ChaosTools C:\\Users\\Alex\\.julia\\packages\\ChaosTools\\PHPDF\\src\\orbitdiagrams\\produce_orbitdiagram.jl:75\u001b[39m\n"
     ]
    },
    {
     "name": "stdout",
     "output_type": "stream",
     "text": [
      "\n",
      "parameter = -0.0968522\n"
     ]
    },
    {
     "name": "stderr",
     "output_type": "stream",
     "text": [
      "\u001b[33m\u001b[1m┌ \u001b[22m\u001b[39m\u001b[33m\u001b[1mWarning: \u001b[22m\u001b[39mFor parameter -0.096852 The Poincaré surface of section did not have any points!\n",
      "\u001b[33m\u001b[1m└ \u001b[22m\u001b[39m\u001b[90m@ ChaosTools C:\\Users\\Alex\\.julia\\packages\\ChaosTools\\PHPDF\\src\\orbitdiagrams\\produce_orbitdiagram.jl:75\u001b[39m\n"
     ]
    },
    {
     "name": "stdout",
     "output_type": "stream",
     "text": [
      "parameter = -0.0968524\n"
     ]
    },
    {
     "name": "stderr",
     "output_type": "stream",
     "text": [
      "\u001b[33m\u001b[1m┌ \u001b[22m\u001b[39m\u001b[33m\u001b[1mWarning: \u001b[22m\u001b[39mFor parameter -0.0968522 The Poincaré surface of section did not have any points!\n",
      "\u001b[33m\u001b[1m└ \u001b[22m\u001b[39m\u001b[90m@ ChaosTools C:\\Users\\Alex\\.julia\\packages\\ChaosTools\\PHPDF\\src\\orbitdiagrams\\produce_orbitdiagram.jl:75\u001b[39m\n"
     ]
    },
    {
     "name": "stdout",
     "output_type": "stream",
     "text": [
      "parameter = -0.0968526"
     ]
    },
    {
     "name": "stderr",
     "output_type": "stream",
     "text": [
      "\u001b[33m\u001b[1m┌ \u001b[22m\u001b[39m\u001b[33m\u001b[1mWarning: \u001b[22m\u001b[39mFor parameter -0.0968524 The Poincaré surface of section did not have any points!\n",
      "\u001b[33m\u001b[1m└ \u001b[22m\u001b[39m\u001b[90m@ ChaosTools C:\\Users\\Alex\\.julia\\packages\\ChaosTools\\PHPDF\\src\\orbitdiagrams\\produce_orbitdiagram.jl:75\u001b[39m\n"
     ]
    },
    {
     "name": "stdout",
     "output_type": "stream",
     "text": [
      "\n",
      "parameter = -0.0968528"
     ]
    },
    {
     "name": "stderr",
     "output_type": "stream",
     "text": [
      "\u001b[33m\u001b[1m┌ \u001b[22m\u001b[39m\u001b[33m\u001b[1mWarning: \u001b[22m\u001b[39mFor parameter -0.0968526 The Poincaré surface of section did not have any points!\n",
      "\u001b[33m\u001b[1m└ \u001b[22m\u001b[39m\u001b[90m@ ChaosTools C:\\Users\\Alex\\.julia\\packages\\ChaosTools\\PHPDF\\src\\orbitdiagrams\\produce_orbitdiagram.jl:75\u001b[39m\n"
     ]
    },
    {
     "name": "stdout",
     "output_type": "stream",
     "text": [
      "\n",
      "parameter = -0.096853"
     ]
    },
    {
     "name": "stderr",
     "output_type": "stream",
     "text": [
      "\u001b[33m\u001b[1m┌ \u001b[22m\u001b[39m\u001b[33m\u001b[1mWarning: \u001b[22m\u001b[39mFor parameter -0.0968528 The Poincaré surface of section did not have any points!\n",
      "\u001b[33m\u001b[1m└ \u001b[22m\u001b[39m\u001b[90m@ ChaosTools C:\\Users\\Alex\\.julia\\packages\\ChaosTools\\PHPDF\\src\\orbitdiagrams\\produce_orbitdiagram.jl:75\u001b[39m\n"
     ]
    },
    {
     "name": "stdout",
     "output_type": "stream",
     "text": [
      "\n",
      "parameter = -0.0968532"
     ]
    },
    {
     "name": "stderr",
     "output_type": "stream",
     "text": [
      "\u001b[33m\u001b[1m┌ \u001b[22m\u001b[39m\u001b[33m\u001b[1mWarning: \u001b[22m\u001b[39mFor parameter -0.096853 The Poincaré surface of section did not have any points!\n",
      "\u001b[33m\u001b[1m└ \u001b[22m\u001b[39m\u001b[90m@ ChaosTools C:\\Users\\Alex\\.julia\\packages\\ChaosTools\\PHPDF\\src\\orbitdiagrams\\produce_orbitdiagram.jl:75\u001b[39m\n"
     ]
    },
    {
     "name": "stdout",
     "output_type": "stream",
     "text": [
      "\n",
      "parameter = -0.0968534"
     ]
    },
    {
     "name": "stderr",
     "output_type": "stream",
     "text": [
      "\u001b[33m\u001b[1m┌ \u001b[22m\u001b[39m\u001b[33m\u001b[1mWarning: \u001b[22m\u001b[39mFor parameter -0.0968532 The Poincaré surface of section did not have any points!\n",
      "\u001b[33m\u001b[1m└ \u001b[22m\u001b[39m\u001b[90m@ ChaosTools C:\\Users\\Alex\\.julia\\packages\\ChaosTools\\PHPDF\\src\\orbitdiagrams\\produce_orbitdiagram.jl:75\u001b[39m\n"
     ]
    },
    {
     "name": "stdout",
     "output_type": "stream",
     "text": [
      "\n",
      "parameter = -0.0968536"
     ]
    },
    {
     "name": "stderr",
     "output_type": "stream",
     "text": [
      "\u001b[33m\u001b[1m┌ \u001b[22m\u001b[39m\u001b[33m\u001b[1mWarning: \u001b[22m\u001b[39mFor parameter -0.0968534 The Poincaré surface of section did not have any points!\n",
      "\u001b[33m\u001b[1m└ \u001b[22m\u001b[39m\u001b[90m@ ChaosTools C:\\Users\\Alex\\.julia\\packages\\ChaosTools\\PHPDF\\src\\orbitdiagrams\\produce_orbitdiagram.jl:75\u001b[39m\n"
     ]
    },
    {
     "name": "stdout",
     "output_type": "stream",
     "text": [
      "\n",
      "parameter = -0.0968538"
     ]
    },
    {
     "name": "stderr",
     "output_type": "stream",
     "text": [
      "\u001b[33m\u001b[1m┌ \u001b[22m\u001b[39m\u001b[33m\u001b[1mWarning: \u001b[22m\u001b[39mFor parameter -0.0968536 The Poincaré surface of section did not have any points!\n",
      "\u001b[33m\u001b[1m└ \u001b[22m\u001b[39m\u001b[90m@ ChaosTools C:\\Users\\Alex\\.julia\\packages\\ChaosTools\\PHPDF\\src\\orbitdiagrams\\produce_orbitdiagram.jl:75\u001b[39m\n"
     ]
    },
    {
     "name": "stdout",
     "output_type": "stream",
     "text": [
      "\n",
      "parameter = -0.096854\n"
     ]
    },
    {
     "name": "stderr",
     "output_type": "stream",
     "text": [
      "\u001b[33m\u001b[1m┌ \u001b[22m\u001b[39m\u001b[33m\u001b[1mWarning: \u001b[22m\u001b[39mFor parameter -0.0968538 The Poincaré surface of section did not have any points!\n",
      "\u001b[33m\u001b[1m└ \u001b[22m\u001b[39m\u001b[90m@ ChaosTools C:\\Users\\Alex\\.julia\\packages\\ChaosTools\\PHPDF\\src\\orbitdiagrams\\produce_orbitdiagram.jl:75\u001b[39m\n"
     ]
    },
    {
     "name": "stdout",
     "output_type": "stream",
     "text": [
      "parameter = -0.0968542"
     ]
    },
    {
     "name": "stderr",
     "output_type": "stream",
     "text": [
      "\u001b[33m\u001b[1m┌ \u001b[22m\u001b[39m\u001b[33m\u001b[1mWarning: \u001b[22m\u001b[39mFor parameter -0.096854 The Poincaré surface of section did not have any points!\n",
      "\u001b[33m\u001b[1m└ \u001b[22m\u001b[39m\u001b[90m@ ChaosTools C:\\Users\\Alex\\.julia\\packages\\ChaosTools\\PHPDF\\src\\orbitdiagrams\\produce_orbitdiagram.jl:75\u001b[39m\n"
     ]
    },
    {
     "name": "stdout",
     "output_type": "stream",
     "text": [
      "\n",
      "parameter = -0.0968544\n"
     ]
    },
    {
     "name": "stderr",
     "output_type": "stream",
     "text": [
      "\u001b[33m\u001b[1m┌ \u001b[22m\u001b[39m\u001b[33m\u001b[1mWarning: \u001b[22m\u001b[39mFor parameter -0.0968542 The Poincaré surface of section did not have any points!\n",
      "\u001b[33m\u001b[1m└ \u001b[22m\u001b[39m\u001b[90m@ ChaosTools C:\\Users\\Alex\\.julia\\packages\\ChaosTools\\PHPDF\\src\\orbitdiagrams\\produce_orbitdiagram.jl:75\u001b[39m\n"
     ]
    },
    {
     "name": "stdout",
     "output_type": "stream",
     "text": [
      "parameter = -0.0968546"
     ]
    },
    {
     "name": "stderr",
     "output_type": "stream",
     "text": [
      "\u001b[33m\u001b[1m┌ \u001b[22m\u001b[39m\u001b[33m\u001b[1mWarning: \u001b[22m\u001b[39mFor parameter -0.0968544 The Poincaré surface of section did not have any points!\n",
      "\u001b[33m\u001b[1m└ \u001b[22m\u001b[39m\u001b[90m@ ChaosTools C:\\Users\\Alex\\.julia\\packages\\ChaosTools\\PHPDF\\src\\orbitdiagrams\\produce_orbitdiagram.jl:75\u001b[39m\n"
     ]
    },
    {
     "name": "stdout",
     "output_type": "stream",
     "text": [
      "\n",
      "parameter = -0.0968548\n"
     ]
    },
    {
     "name": "stderr",
     "output_type": "stream",
     "text": [
      "\u001b[33m\u001b[1m┌ \u001b[22m\u001b[39m\u001b[33m\u001b[1mWarning: \u001b[22m\u001b[39mFor parameter -0.0968546 The Poincaré surface of section did not have any points!\n",
      "\u001b[33m\u001b[1m└ \u001b[22m\u001b[39m\u001b[90m@ ChaosTools C:\\Users\\Alex\\.julia\\packages\\ChaosTools\\PHPDF\\src\\orbitdiagrams\\produce_orbitdiagram.jl:75\u001b[39m\n"
     ]
    },
    {
     "name": "stdout",
     "output_type": "stream",
     "text": [
      "parameter = -0.096855\n"
     ]
    },
    {
     "name": "stderr",
     "output_type": "stream",
     "text": [
      "\u001b[33m\u001b[1m┌ \u001b[22m\u001b[39m\u001b[33m\u001b[1mWarning: \u001b[22m\u001b[39mFor parameter -0.0968548 The Poincaré surface of section did not have any points!\n",
      "\u001b[33m\u001b[1m└ \u001b[22m\u001b[39m\u001b[90m@ ChaosTools C:\\Users\\Alex\\.julia\\packages\\ChaosTools\\PHPDF\\src\\orbitdiagrams\\produce_orbitdiagram.jl:75\u001b[39m\n"
     ]
    },
    {
     "name": "stdout",
     "output_type": "stream",
     "text": [
      "parameter = -0.0968552"
     ]
    },
    {
     "name": "stderr",
     "output_type": "stream",
     "text": [
      "\u001b[33m\u001b[1m┌ \u001b[22m\u001b[39m\u001b[33m\u001b[1mWarning: \u001b[22m\u001b[39mFor parameter -0.096855 The Poincaré surface of section did not have any points!\n",
      "\u001b[33m\u001b[1m└ \u001b[22m\u001b[39m\u001b[90m@ ChaosTools C:\\Users\\Alex\\.julia\\packages\\ChaosTools\\PHPDF\\src\\orbitdiagrams\\produce_orbitdiagram.jl:75\u001b[39m\n"
     ]
    },
    {
     "name": "stdout",
     "output_type": "stream",
     "text": [
      "\n",
      "parameter = -0.0968554"
     ]
    },
    {
     "name": "stderr",
     "output_type": "stream",
     "text": [
      "\u001b[33m\u001b[1m┌ \u001b[22m\u001b[39m\u001b[33m\u001b[1mWarning: \u001b[22m\u001b[39mFor parameter -0.0968552 The Poincaré surface of section did not have any points!\n",
      "\u001b[33m\u001b[1m└ \u001b[22m\u001b[39m\u001b[90m@ ChaosTools C:\\Users\\Alex\\.julia\\packages\\ChaosTools\\PHPDF\\src\\orbitdiagrams\\produce_orbitdiagram.jl:75\u001b[39m\n"
     ]
    },
    {
     "name": "stdout",
     "output_type": "stream",
     "text": [
      "\n",
      "parameter = -0.0968556"
     ]
    },
    {
     "name": "stderr",
     "output_type": "stream",
     "text": [
      "\u001b[33m\u001b[1m┌ \u001b[22m\u001b[39m\u001b[33m\u001b[1mWarning: \u001b[22m\u001b[39mFor parameter -0.0968554 The Poincaré surface of section did not have any points!\n",
      "\u001b[33m\u001b[1m└ \u001b[22m\u001b[39m\u001b[90m@ ChaosTools C:\\Users\\Alex\\.julia\\packages\\ChaosTools\\PHPDF\\src\\orbitdiagrams\\produce_orbitdiagram.jl:75\u001b[39m\n"
     ]
    },
    {
     "name": "stdout",
     "output_type": "stream",
     "text": [
      "\n",
      "parameter = -0.0968558"
     ]
    },
    {
     "name": "stderr",
     "output_type": "stream",
     "text": [
      "\u001b[33m\u001b[1m┌ \u001b[22m\u001b[39m\u001b[33m\u001b[1mWarning: \u001b[22m\u001b[39mFor parameter -0.0968556 The Poincaré surface of section did not have any points!\n",
      "\u001b[33m\u001b[1m└ \u001b[22m\u001b[39m\u001b[90m@ ChaosTools C:\\Users\\Alex\\.julia\\packages\\ChaosTools\\PHPDF\\src\\orbitdiagrams\\produce_orbitdiagram.jl:75\u001b[39m\n"
     ]
    },
    {
     "name": "stdout",
     "output_type": "stream",
     "text": [
      "\n",
      "parameter = -0.096856"
     ]
    },
    {
     "name": "stderr",
     "output_type": "stream",
     "text": [
      "\u001b[33m\u001b[1m┌ \u001b[22m\u001b[39m\u001b[33m\u001b[1mWarning: \u001b[22m\u001b[39mFor parameter -0.0968558 The Poincaré surface of section did not have any points!\n",
      "\u001b[33m\u001b[1m└ \u001b[22m\u001b[39m\u001b[90m@ ChaosTools C:\\Users\\Alex\\.julia\\packages\\ChaosTools\\PHPDF\\src\\orbitdiagrams\\produce_orbitdiagram.jl:75\u001b[39m\n"
     ]
    },
    {
     "name": "stdout",
     "output_type": "stream",
     "text": [
      "\n"
     ]
    },
    {
     "name": "stderr",
     "output_type": "stream",
     "text": [
      "\u001b[33m\u001b[1m┌ \u001b[22m\u001b[39m\u001b[33m\u001b[1mWarning: \u001b[22m\u001b[39mFor parameter -0.096856 The Poincaré surface of section did not have any points!\n",
      "\u001b[33m\u001b[1m└ \u001b[22m\u001b[39m\u001b[90m@ ChaosTools C:\\Users\\Alex\\.julia\\packages\\ChaosTools\\PHPDF\\src\\orbitdiagrams\\produce_orbitdiagram.jl:75\u001b[39m\n"
     ]
    },
    {
     "name": "stdout",
     "output_type": "stream",
     "text": [
      "parameter = -0.0968562\n",
      "parameter = -0.0968564\n"
     ]
    },
    {
     "name": "stderr",
     "output_type": "stream",
     "text": [
      "\u001b[33m\u001b[1m┌ \u001b[22m\u001b[39m\u001b[33m\u001b[1mWarning: \u001b[22m\u001b[39mFor parameter -0.0968562 The Poincaré surface of section did not have any points!\n",
      "\u001b[33m\u001b[1m└ \u001b[22m\u001b[39m\u001b[90m@ ChaosTools C:\\Users\\Alex\\.julia\\packages\\ChaosTools\\PHPDF\\src\\orbitdiagrams\\produce_orbitdiagram.jl:75\u001b[39m\n"
     ]
    },
    {
     "name": "stdout",
     "output_type": "stream",
     "text": [
      "parameter = -0.0968566\n"
     ]
    },
    {
     "name": "stderr",
     "output_type": "stream",
     "text": [
      "\u001b[33m\u001b[1m┌ \u001b[22m\u001b[39m\u001b[33m\u001b[1mWarning: \u001b[22m\u001b[39mFor parameter -0.0968564 The Poincaré surface of section did not have any points!\n",
      "\u001b[33m\u001b[1m└ \u001b[22m\u001b[39m\u001b[90m@ ChaosTools C:\\Users\\Alex\\.julia\\packages\\ChaosTools\\PHPDF\\src\\orbitdiagrams\\produce_orbitdiagram.jl:75\u001b[39m\n"
     ]
    },
    {
     "name": "stdout",
     "output_type": "stream",
     "text": [
      "parameter = -0.0968568"
     ]
    },
    {
     "name": "stderr",
     "output_type": "stream",
     "text": [
      "\u001b[33m\u001b[1m┌ \u001b[22m\u001b[39m\u001b[33m\u001b[1mWarning: \u001b[22m\u001b[39mFor parameter -0.0968566 The Poincaré surface of section did not have any points!\n",
      "\u001b[33m\u001b[1m└ \u001b[22m\u001b[39m\u001b[90m@ ChaosTools C:\\Users\\Alex\\.julia\\packages\\ChaosTools\\PHPDF\\src\\orbitdiagrams\\produce_orbitdiagram.jl:75\u001b[39m\n"
     ]
    },
    {
     "name": "stdout",
     "output_type": "stream",
     "text": [
      "\n",
      "parameter = -0.096857\n"
     ]
    },
    {
     "name": "stderr",
     "output_type": "stream",
     "text": [
      "\u001b[33m\u001b[1m┌ \u001b[22m\u001b[39m\u001b[33m\u001b[1mWarning: \u001b[22m\u001b[39mFor parameter -0.0968568 The Poincaré surface of section did not have any points!\n",
      "\u001b[33m\u001b[1m└ \u001b[22m\u001b[39m\u001b[90m@ ChaosTools C:\\Users\\Alex\\.julia\\packages\\ChaosTools\\PHPDF\\src\\orbitdiagrams\\produce_orbitdiagram.jl:75\u001b[39m\n"
     ]
    },
    {
     "name": "stdout",
     "output_type": "stream",
     "text": [
      "parameter = -0.0968572"
     ]
    },
    {
     "name": "stderr",
     "output_type": "stream",
     "text": [
      "\u001b[33m\u001b[1m┌ \u001b[22m\u001b[39m\u001b[33m\u001b[1mWarning: \u001b[22m\u001b[39mFor parameter -0.096857 The Poincaré surface of section did not have any points!\n",
      "\u001b[33m\u001b[1m└ \u001b[22m\u001b[39m\u001b[90m@ ChaosTools C:\\Users\\Alex\\.julia\\packages\\ChaosTools\\PHPDF\\src\\orbitdiagrams\\produce_orbitdiagram.jl:75\u001b[39m\n"
     ]
    },
    {
     "name": "stdout",
     "output_type": "stream",
     "text": [
      "\n",
      "parameter = -0.0968574\n"
     ]
    },
    {
     "name": "stderr",
     "output_type": "stream",
     "text": [
      "\u001b[33m\u001b[1m┌ \u001b[22m\u001b[39m\u001b[33m\u001b[1mWarning: \u001b[22m\u001b[39mFor parameter -0.0968572 The Poincaré surface of section did not have any points!\n",
      "\u001b[33m\u001b[1m└ \u001b[22m\u001b[39m\u001b[90m@ ChaosTools C:\\Users\\Alex\\.julia\\packages\\ChaosTools\\PHPDF\\src\\orbitdiagrams\\produce_orbitdiagram.jl:75\u001b[39m\n"
     ]
    },
    {
     "name": "stdout",
     "output_type": "stream",
     "text": [
      "parameter = -0.0968576\n"
     ]
    },
    {
     "name": "stderr",
     "output_type": "stream",
     "text": [
      "\u001b[33m\u001b[1m┌ \u001b[22m\u001b[39m\u001b[33m\u001b[1mWarning: \u001b[22m\u001b[39mFor parameter -0.0968574 The Poincaré surface of section did not have any points!\n",
      "\u001b[33m\u001b[1m└ \u001b[22m\u001b[39m\u001b[90m@ ChaosTools C:\\Users\\Alex\\.julia\\packages\\ChaosTools\\PHPDF\\src\\orbitdiagrams\\produce_orbitdiagram.jl:75\u001b[39m\n"
     ]
    },
    {
     "name": "stdout",
     "output_type": "stream",
     "text": [
      "parameter = -0.0968578\n"
     ]
    },
    {
     "name": "stderr",
     "output_type": "stream",
     "text": [
      "\u001b[33m\u001b[1m┌ \u001b[22m\u001b[39m\u001b[33m\u001b[1mWarning: \u001b[22m\u001b[39mFor parameter -0.0968576 The Poincaré surface of section did not have any points!\n",
      "\u001b[33m\u001b[1m└ \u001b[22m\u001b[39m\u001b[90m@ ChaosTools C:\\Users\\Alex\\.julia\\packages\\ChaosTools\\PHPDF\\src\\orbitdiagrams\\produce_orbitdiagram.jl:75\u001b[39m\n"
     ]
    },
    {
     "name": "stdout",
     "output_type": "stream",
     "text": [
      "parameter = -0.096858"
     ]
    },
    {
     "name": "stderr",
     "output_type": "stream",
     "text": [
      "\u001b[33m\u001b[1m┌ \u001b[22m\u001b[39m\u001b[33m\u001b[1mWarning: \u001b[22m\u001b[39mFor parameter -0.0968578 The Poincaré surface of section did not have any points!\n",
      "\u001b[33m\u001b[1m└ \u001b[22m\u001b[39m\u001b[90m@ ChaosTools C:\\Users\\Alex\\.julia\\packages\\ChaosTools\\PHPDF\\src\\orbitdiagrams\\produce_orbitdiagram.jl:75\u001b[39m\n"
     ]
    },
    {
     "name": "stdout",
     "output_type": "stream",
     "text": [
      "\n",
      "parameter = -0.0968582"
     ]
    },
    {
     "name": "stderr",
     "output_type": "stream",
     "text": [
      "\u001b[33m\u001b[1m┌ \u001b[22m\u001b[39m\u001b[33m\u001b[1mWarning: \u001b[22m\u001b[39mFor parameter -0.096858 The Poincaré surface of section did not have any points!\n",
      "\u001b[33m\u001b[1m└ \u001b[22m\u001b[39m\u001b[90m@ ChaosTools C:\\Users\\Alex\\.julia\\packages\\ChaosTools\\PHPDF\\src\\orbitdiagrams\\produce_orbitdiagram.jl:75\u001b[39m\n"
     ]
    },
    {
     "name": "stdout",
     "output_type": "stream",
     "text": [
      "\n",
      "parameter = -0.0968584"
     ]
    },
    {
     "name": "stderr",
     "output_type": "stream",
     "text": [
      "\u001b[33m\u001b[1m┌ \u001b[22m\u001b[39m\u001b[33m\u001b[1mWarning: \u001b[22m\u001b[39mFor parameter -0.0968582 The Poincaré surface of section did not have any points!\n",
      "\u001b[33m\u001b[1m└ \u001b[22m\u001b[39m\u001b[90m@ ChaosTools C:\\Users\\Alex\\.julia\\packages\\ChaosTools\\PHPDF\\src\\orbitdiagrams\\produce_orbitdiagram.jl:75\u001b[39m\n"
     ]
    },
    {
     "name": "stdout",
     "output_type": "stream",
     "text": [
      "\n"
     ]
    },
    {
     "name": "stderr",
     "output_type": "stream",
     "text": [
      "\u001b[33m\u001b[1m┌ \u001b[22m\u001b[39m\u001b[33m\u001b[1mWarning: \u001b[22m\u001b[39mFor parameter -0.0968584 The Poincaré surface of section did not have any points!\n",
      "\u001b[33m\u001b[1m└ \u001b[22m\u001b[39m\u001b[90m@ ChaosTools C:\\Users\\Alex\\.julia\\packages\\ChaosTools\\PHPDF\\src\\orbitdiagrams\\produce_orbitdiagram.jl:75\u001b[39m\n"
     ]
    },
    {
     "name": "stdout",
     "output_type": "stream",
     "text": [
      "parameter = -0.0968586\n",
      "parameter = -0.0968588\n"
     ]
    },
    {
     "name": "stderr",
     "output_type": "stream",
     "text": [
      "\u001b[33m\u001b[1m┌ \u001b[22m\u001b[39m\u001b[33m\u001b[1mWarning: \u001b[22m\u001b[39mFor parameter -0.0968586 The Poincaré surface of section did not have any points!\n",
      "\u001b[33m\u001b[1m└ \u001b[22m\u001b[39m\u001b[90m@ ChaosTools C:\\Users\\Alex\\.julia\\packages\\ChaosTools\\PHPDF\\src\\orbitdiagrams\\produce_orbitdiagram.jl:75\u001b[39m\n"
     ]
    },
    {
     "name": "stdout",
     "output_type": "stream",
     "text": [
      "parameter = -0.096859"
     ]
    },
    {
     "name": "stderr",
     "output_type": "stream",
     "text": [
      "\u001b[33m\u001b[1m┌ \u001b[22m\u001b[39m\u001b[33m\u001b[1mWarning: \u001b[22m\u001b[39mFor parameter -0.0968588 The Poincaré surface of section did not have any points!\n",
      "\u001b[33m\u001b[1m└ \u001b[22m\u001b[39m\u001b[90m@ ChaosTools C:\\Users\\Alex\\.julia\\packages\\ChaosTools\\PHPDF\\src\\orbitdiagrams\\produce_orbitdiagram.jl:75\u001b[39m\n"
     ]
    },
    {
     "name": "stdout",
     "output_type": "stream",
     "text": [
      "\n",
      "parameter = -0.0968592"
     ]
    },
    {
     "name": "stderr",
     "output_type": "stream",
     "text": [
      "\u001b[33m\u001b[1m┌ \u001b[22m\u001b[39m\u001b[33m\u001b[1mWarning: \u001b[22m\u001b[39mFor parameter -0.096859 The Poincaré surface of section did not have any points!\n",
      "\u001b[33m\u001b[1m└ \u001b[22m\u001b[39m\u001b[90m@ ChaosTools C:\\Users\\Alex\\.julia\\packages\\ChaosTools\\PHPDF\\src\\orbitdiagrams\\produce_orbitdiagram.jl:75\u001b[39m\n"
     ]
    },
    {
     "name": "stdout",
     "output_type": "stream",
     "text": [
      "\n",
      "parameter = -0.0968594\n"
     ]
    },
    {
     "name": "stderr",
     "output_type": "stream",
     "text": [
      "\u001b[33m\u001b[1m┌ \u001b[22m\u001b[39m\u001b[33m\u001b[1mWarning: \u001b[22m\u001b[39mFor parameter -0.0968592 The Poincaré surface of section did not have any points!\n",
      "\u001b[33m\u001b[1m└ \u001b[22m\u001b[39m\u001b[90m@ ChaosTools C:\\Users\\Alex\\.julia\\packages\\ChaosTools\\PHPDF\\src\\orbitdiagrams\\produce_orbitdiagram.jl:75\u001b[39m\n"
     ]
    },
    {
     "name": "stdout",
     "output_type": "stream",
     "text": [
      "parameter = -0.0968596\n"
     ]
    },
    {
     "name": "stderr",
     "output_type": "stream",
     "text": [
      "\u001b[33m\u001b[1m┌ \u001b[22m\u001b[39m\u001b[33m\u001b[1mWarning: \u001b[22m\u001b[39mFor parameter -0.0968594 The Poincaré surface of section did not have any points!\n",
      "\u001b[33m\u001b[1m└ \u001b[22m\u001b[39m\u001b[90m@ ChaosTools C:\\Users\\Alex\\.julia\\packages\\ChaosTools\\PHPDF\\src\\orbitdiagrams\\produce_orbitdiagram.jl:75\u001b[39m\n"
     ]
    },
    {
     "name": "stdout",
     "output_type": "stream",
     "text": [
      "parameter = -0.0968598"
     ]
    },
    {
     "name": "stderr",
     "output_type": "stream",
     "text": [
      "\u001b[33m\u001b[1m┌ \u001b[22m\u001b[39m\u001b[33m\u001b[1mWarning: \u001b[22m\u001b[39mFor parameter -0.0968596 The Poincaré surface of section did not have any points!\n",
      "\u001b[33m\u001b[1m└ \u001b[22m\u001b[39m\u001b[90m@ ChaosTools C:\\Users\\Alex\\.julia\\packages\\ChaosTools\\PHPDF\\src\\orbitdiagrams\\produce_orbitdiagram.jl:75\u001b[39m\n"
     ]
    },
    {
     "name": "stdout",
     "output_type": "stream",
     "text": [
      "\n",
      "parameter = -0.09686\n"
     ]
    },
    {
     "name": "stderr",
     "output_type": "stream",
     "text": [
      "\u001b[33m\u001b[1m┌ \u001b[22m\u001b[39m\u001b[33m\u001b[1mWarning: \u001b[22m\u001b[39mFor parameter -0.0968598 The Poincaré surface of section did not have any points!\n",
      "\u001b[33m\u001b[1m└ \u001b[22m\u001b[39m\u001b[90m@ ChaosTools C:\\Users\\Alex\\.julia\\packages\\ChaosTools\\PHPDF\\src\\orbitdiagrams\\produce_orbitdiagram.jl:75\u001b[39m\n"
     ]
    },
    {
     "name": "stdout",
     "output_type": "stream",
     "text": [
      "parameter = -0.0968602\n"
     ]
    },
    {
     "name": "stderr",
     "output_type": "stream",
     "text": [
      "\u001b[33m\u001b[1m┌ \u001b[22m\u001b[39m\u001b[33m\u001b[1mWarning: \u001b[22m\u001b[39mFor parameter -0.09686 The Poincaré surface of section did not have any points!\n",
      "\u001b[33m\u001b[1m└ \u001b[22m\u001b[39m\u001b[90m@ ChaosTools C:\\Users\\Alex\\.julia\\packages\\ChaosTools\\PHPDF\\src\\orbitdiagrams\\produce_orbitdiagram.jl:75\u001b[39m\n"
     ]
    },
    {
     "name": "stdout",
     "output_type": "stream",
     "text": [
      "parameter = -0.0968604\n"
     ]
    },
    {
     "name": "stderr",
     "output_type": "stream",
     "text": [
      "\u001b[33m\u001b[1m┌ \u001b[22m\u001b[39m\u001b[33m\u001b[1mWarning: \u001b[22m\u001b[39mFor parameter -0.0968602 The Poincaré surface of section did not have any points!\n",
      "\u001b[33m\u001b[1m└ \u001b[22m\u001b[39m\u001b[90m@ ChaosTools C:\\Users\\Alex\\.julia\\packages\\ChaosTools\\PHPDF\\src\\orbitdiagrams\\produce_orbitdiagram.jl:75\u001b[39m\n"
     ]
    },
    {
     "name": "stdout",
     "output_type": "stream",
     "text": [
      "parameter = -0.0968606"
     ]
    },
    {
     "name": "stderr",
     "output_type": "stream",
     "text": [
      "\u001b[33m\u001b[1m┌ \u001b[22m\u001b[39m\u001b[33m\u001b[1mWarning: \u001b[22m\u001b[39mFor parameter -0.0968604 The Poincaré surface of section did not have any points!\n",
      "\u001b[33m\u001b[1m└ \u001b[22m\u001b[39m\u001b[90m@ ChaosTools C:\\Users\\Alex\\.julia\\packages\\ChaosTools\\PHPDF\\src\\orbitdiagrams\\produce_orbitdiagram.jl:75\u001b[39m\n"
     ]
    },
    {
     "name": "stdout",
     "output_type": "stream",
     "text": [
      "\n",
      "parameter = -0.0968608\n"
     ]
    },
    {
     "name": "stderr",
     "output_type": "stream",
     "text": [
      "\u001b[33m\u001b[1m┌ \u001b[22m\u001b[39m\u001b[33m\u001b[1mWarning: \u001b[22m\u001b[39mFor parameter -0.0968606 The Poincaré surface of section did not have any points!\n",
      "\u001b[33m\u001b[1m└ \u001b[22m\u001b[39m\u001b[90m@ ChaosTools C:\\Users\\Alex\\.julia\\packages\\ChaosTools\\PHPDF\\src\\orbitdiagrams\\produce_orbitdiagram.jl:75\u001b[39m\n"
     ]
    },
    {
     "name": "stdout",
     "output_type": "stream",
     "text": [
      "parameter = -0.096861"
     ]
    },
    {
     "name": "stderr",
     "output_type": "stream",
     "text": [
      "\u001b[33m\u001b[1m┌ \u001b[22m\u001b[39m\u001b[33m\u001b[1mWarning: \u001b[22m\u001b[39mFor parameter -0.0968608 The Poincaré surface of section did not have any points!\n",
      "\u001b[33m\u001b[1m└ \u001b[22m\u001b[39m\u001b[90m@ ChaosTools C:\\Users\\Alex\\.julia\\packages\\ChaosTools\\PHPDF\\src\\orbitdiagrams\\produce_orbitdiagram.jl:75\u001b[39m\n"
     ]
    },
    {
     "name": "stdout",
     "output_type": "stream",
     "text": [
      "\n",
      "parameter = -0.0968612\n"
     ]
    },
    {
     "name": "stderr",
     "output_type": "stream",
     "text": [
      "\u001b[33m\u001b[1m┌ \u001b[22m\u001b[39m\u001b[33m\u001b[1mWarning: \u001b[22m\u001b[39mFor parameter -0.096861 The Poincaré surface of section did not have any points!\n",
      "\u001b[33m\u001b[1m└ \u001b[22m\u001b[39m\u001b[90m@ ChaosTools C:\\Users\\Alex\\.julia\\packages\\ChaosTools\\PHPDF\\src\\orbitdiagrams\\produce_orbitdiagram.jl:75\u001b[39m\n"
     ]
    },
    {
     "name": "stdout",
     "output_type": "stream",
     "text": [
      "parameter = -0.0968614"
     ]
    },
    {
     "name": "stderr",
     "output_type": "stream",
     "text": [
      "\u001b[33m\u001b[1m┌ \u001b[22m\u001b[39m\u001b[33m\u001b[1mWarning: \u001b[22m\u001b[39mFor parameter -0.0968612 The Poincaré surface of section did not have any points!\n",
      "\u001b[33m\u001b[1m└ \u001b[22m\u001b[39m\u001b[90m@ ChaosTools C:\\Users\\Alex\\.julia\\packages\\ChaosTools\\PHPDF\\src\\orbitdiagrams\\produce_orbitdiagram.jl:75\u001b[39m\n"
     ]
    },
    {
     "name": "stdout",
     "output_type": "stream",
     "text": [
      "\n",
      "parameter = -0.0968616"
     ]
    },
    {
     "name": "stderr",
     "output_type": "stream",
     "text": [
      "\u001b[33m\u001b[1m┌ \u001b[22m\u001b[39m\u001b[33m\u001b[1mWarning: \u001b[22m\u001b[39mFor parameter -0.0968614 The Poincaré surface of section did not have any points!\n",
      "\u001b[33m\u001b[1m└ \u001b[22m\u001b[39m\u001b[90m@ ChaosTools C:\\Users\\Alex\\.julia\\packages\\ChaosTools\\PHPDF\\src\\orbitdiagrams\\produce_orbitdiagram.jl:75\u001b[39m\n"
     ]
    },
    {
     "name": "stdout",
     "output_type": "stream",
     "text": [
      "\n",
      "parameter = -0.0968618"
     ]
    },
    {
     "name": "stderr",
     "output_type": "stream",
     "text": [
      "\u001b[33m\u001b[1m┌ \u001b[22m\u001b[39m\u001b[33m\u001b[1mWarning: \u001b[22m\u001b[39mFor parameter -0.0968616 The Poincaré surface of section did not have any points!\n",
      "\u001b[33m\u001b[1m└ \u001b[22m\u001b[39m\u001b[90m@ ChaosTools C:\\Users\\Alex\\.julia\\packages\\ChaosTools\\PHPDF\\src\\orbitdiagrams\\produce_orbitdiagram.jl:75\u001b[39m\n"
     ]
    },
    {
     "name": "stdout",
     "output_type": "stream",
     "text": [
      "\n",
      "parameter = -0.096862"
     ]
    },
    {
     "name": "stderr",
     "output_type": "stream",
     "text": [
      "\u001b[33m\u001b[1m┌ \u001b[22m\u001b[39m\u001b[33m\u001b[1mWarning: \u001b[22m\u001b[39mFor parameter -0.0968618 The Poincaré surface of section did not have any points!\n",
      "\u001b[33m\u001b[1m└ \u001b[22m\u001b[39m\u001b[90m@ ChaosTools C:\\Users\\Alex\\.julia\\packages\\ChaosTools\\PHPDF\\src\\orbitdiagrams\\produce_orbitdiagram.jl:75\u001b[39m\n"
     ]
    },
    {
     "name": "stdout",
     "output_type": "stream",
     "text": [
      "\n",
      "parameter = -0.0968622"
     ]
    },
    {
     "name": "stderr",
     "output_type": "stream",
     "text": [
      "\u001b[33m\u001b[1m┌ \u001b[22m\u001b[39m\u001b[33m\u001b[1mWarning: \u001b[22m\u001b[39mFor parameter -0.096862 The Poincaré surface of section did not have any points!\n",
      "\u001b[33m\u001b[1m└ \u001b[22m\u001b[39m\u001b[90m@ ChaosTools C:\\Users\\Alex\\.julia\\packages\\ChaosTools\\PHPDF\\src\\orbitdiagrams\\produce_orbitdiagram.jl:75\u001b[39m\n"
     ]
    },
    {
     "name": "stdout",
     "output_type": "stream",
     "text": [
      "\n"
     ]
    },
    {
     "name": "stderr",
     "output_type": "stream",
     "text": [
      "\u001b[33m\u001b[1m┌ \u001b[22m\u001b[39m\u001b[33m\u001b[1mWarning: \u001b[22m\u001b[39mFor parameter -0.0968622 The Poincaré surface of section did not have any points!\n",
      "\u001b[33m\u001b[1m└ \u001b[22m\u001b[39m\u001b[90m@ ChaosTools C:\\Users\\Alex\\.julia\\packages\\ChaosTools\\PHPDF\\src\\orbitdiagrams\\produce_orbitdiagram.jl:75\u001b[39m\n"
     ]
    },
    {
     "name": "stdout",
     "output_type": "stream",
     "text": [
      "parameter = -0.0968624\n",
      "parameter = -0.0968626"
     ]
    },
    {
     "name": "stderr",
     "output_type": "stream",
     "text": [
      "\u001b[33m\u001b[1m┌ \u001b[22m\u001b[39m\u001b[33m\u001b[1mWarning: \u001b[22m\u001b[39mFor parameter -0.0968624 The Poincaré surface of section did not have any points!\n",
      "\u001b[33m\u001b[1m└ \u001b[22m\u001b[39m\u001b[90m@ ChaosTools C:\\Users\\Alex\\.julia\\packages\\ChaosTools\\PHPDF\\src\\orbitdiagrams\\produce_orbitdiagram.jl:75\u001b[39m\n"
     ]
    },
    {
     "name": "stdout",
     "output_type": "stream",
     "text": [
      "\n",
      "parameter = -0.0968628\n"
     ]
    },
    {
     "name": "stderr",
     "output_type": "stream",
     "text": [
      "\u001b[33m\u001b[1m┌ \u001b[22m\u001b[39m\u001b[33m\u001b[1mWarning: \u001b[22m\u001b[39mFor parameter -0.0968626 The Poincaré surface of section did not have any points!\n",
      "\u001b[33m\u001b[1m└ \u001b[22m\u001b[39m\u001b[90m@ ChaosTools C:\\Users\\Alex\\.julia\\packages\\ChaosTools\\PHPDF\\src\\orbitdiagrams\\produce_orbitdiagram.jl:75\u001b[39m\n"
     ]
    },
    {
     "name": "stdout",
     "output_type": "stream",
     "text": [
      "parameter = -0.096863"
     ]
    },
    {
     "name": "stderr",
     "output_type": "stream",
     "text": [
      "\u001b[33m\u001b[1m┌ \u001b[22m\u001b[39m\u001b[33m\u001b[1mWarning: \u001b[22m\u001b[39mFor parameter -0.0968628 The Poincaré surface of section did not have any points!\n",
      "\u001b[33m\u001b[1m└ \u001b[22m\u001b[39m\u001b[90m@ ChaosTools C:\\Users\\Alex\\.julia\\packages\\ChaosTools\\PHPDF\\src\\orbitdiagrams\\produce_orbitdiagram.jl:75\u001b[39m\n"
     ]
    },
    {
     "name": "stdout",
     "output_type": "stream",
     "text": [
      "\n",
      "parameter = -0.0968632\n"
     ]
    },
    {
     "name": "stderr",
     "output_type": "stream",
     "text": [
      "\u001b[33m\u001b[1m┌ \u001b[22m\u001b[39m\u001b[33m\u001b[1mWarning: \u001b[22m\u001b[39mFor parameter -0.096863 The Poincaré surface of section did not have any points!\n",
      "\u001b[33m\u001b[1m└ \u001b[22m\u001b[39m\u001b[90m@ ChaosTools C:\\Users\\Alex\\.julia\\packages\\ChaosTools\\PHPDF\\src\\orbitdiagrams\\produce_orbitdiagram.jl:75\u001b[39m\n"
     ]
    },
    {
     "name": "stdout",
     "output_type": "stream",
     "text": [
      "parameter = -0.0968634"
     ]
    },
    {
     "name": "stderr",
     "output_type": "stream",
     "text": [
      "\u001b[33m\u001b[1m┌ \u001b[22m\u001b[39m\u001b[33m\u001b[1mWarning: \u001b[22m\u001b[39mFor parameter -0.0968632 The Poincaré surface of section did not have any points!\n",
      "\u001b[33m\u001b[1m└ \u001b[22m\u001b[39m\u001b[90m@ ChaosTools C:\\Users\\Alex\\.julia\\packages\\ChaosTools\\PHPDF\\src\\orbitdiagrams\\produce_orbitdiagram.jl:75\u001b[39m\n"
     ]
    },
    {
     "name": "stdout",
     "output_type": "stream",
     "text": [
      "\n",
      "parameter = -0.0968636\n"
     ]
    },
    {
     "name": "stderr",
     "output_type": "stream",
     "text": [
      "\u001b[33m\u001b[1m┌ \u001b[22m\u001b[39m\u001b[33m\u001b[1mWarning: \u001b[22m\u001b[39mFor parameter -0.0968634 The Poincaré surface of section did not have any points!\n",
      "\u001b[33m\u001b[1m└ \u001b[22m\u001b[39m\u001b[90m@ ChaosTools C:\\Users\\Alex\\.julia\\packages\\ChaosTools\\PHPDF\\src\\orbitdiagrams\\produce_orbitdiagram.jl:75\u001b[39m\n"
     ]
    },
    {
     "name": "stdout",
     "output_type": "stream",
     "text": [
      "parameter = -0.0968638"
     ]
    },
    {
     "name": "stderr",
     "output_type": "stream",
     "text": [
      "\u001b[33m\u001b[1m┌ \u001b[22m\u001b[39m\u001b[33m\u001b[1mWarning: \u001b[22m\u001b[39mFor parameter -0.0968636 The Poincaré surface of section did not have any points!\n",
      "\u001b[33m\u001b[1m└ \u001b[22m\u001b[39m\u001b[90m@ ChaosTools C:\\Users\\Alex\\.julia\\packages\\ChaosTools\\PHPDF\\src\\orbitdiagrams\\produce_orbitdiagram.jl:75\u001b[39m\n"
     ]
    },
    {
     "name": "stdout",
     "output_type": "stream",
     "text": [
      "\n",
      "parameter = -0.096864\n"
     ]
    },
    {
     "name": "stderr",
     "output_type": "stream",
     "text": [
      "\u001b[33m\u001b[1m┌ \u001b[22m\u001b[39m\u001b[33m\u001b[1mWarning: \u001b[22m\u001b[39mFor parameter -0.0968638 The Poincaré surface of section did not have any points!\n",
      "\u001b[33m\u001b[1m└ \u001b[22m\u001b[39m\u001b[90m@ ChaosTools C:\\Users\\Alex\\.julia\\packages\\ChaosTools\\PHPDF\\src\\orbitdiagrams\\produce_orbitdiagram.jl:75\u001b[39m\n"
     ]
    },
    {
     "name": "stdout",
     "output_type": "stream",
     "text": [
      "parameter = -0.0968642\n"
     ]
    },
    {
     "name": "stderr",
     "output_type": "stream",
     "text": [
      "\u001b[33m\u001b[1m┌ \u001b[22m\u001b[39m\u001b[33m\u001b[1mWarning: \u001b[22m\u001b[39mFor parameter -0.096864 The Poincaré surface of section did not have any points!\n",
      "\u001b[33m\u001b[1m└ \u001b[22m\u001b[39m\u001b[90m@ ChaosTools C:\\Users\\Alex\\.julia\\packages\\ChaosTools\\PHPDF\\src\\orbitdiagrams\\produce_orbitdiagram.jl:75\u001b[39m\n"
     ]
    },
    {
     "name": "stdout",
     "output_type": "stream",
     "text": [
      "parameter = -0.0968644\n"
     ]
    },
    {
     "name": "stderr",
     "output_type": "stream",
     "text": [
      "\u001b[33m\u001b[1m┌ \u001b[22m\u001b[39m\u001b[33m\u001b[1mWarning: \u001b[22m\u001b[39mFor parameter -0.0968642 The Poincaré surface of section did not have any points!\n",
      "\u001b[33m\u001b[1m└ \u001b[22m\u001b[39m\u001b[90m@ ChaosTools C:\\Users\\Alex\\.julia\\packages\\ChaosTools\\PHPDF\\src\\orbitdiagrams\\produce_orbitdiagram.jl:75\u001b[39m\n"
     ]
    },
    {
     "name": "stdout",
     "output_type": "stream",
     "text": [
      "parameter = -0.0968646\n"
     ]
    },
    {
     "name": "stderr",
     "output_type": "stream",
     "text": [
      "\u001b[33m\u001b[1m┌ \u001b[22m\u001b[39m\u001b[33m\u001b[1mWarning: \u001b[22m\u001b[39mFor parameter -0.0968644 The Poincaré surface of section did not have any points!\n",
      "\u001b[33m\u001b[1m└ \u001b[22m\u001b[39m\u001b[90m@ ChaosTools C:\\Users\\Alex\\.julia\\packages\\ChaosTools\\PHPDF\\src\\orbitdiagrams\\produce_orbitdiagram.jl:75\u001b[39m\n"
     ]
    },
    {
     "name": "stdout",
     "output_type": "stream",
     "text": [
      "parameter = -0.0968648"
     ]
    },
    {
     "name": "stderr",
     "output_type": "stream",
     "text": [
      "\u001b[33m\u001b[1m┌ \u001b[22m\u001b[39m\u001b[33m\u001b[1mWarning: \u001b[22m\u001b[39mFor parameter -0.0968646 The Poincaré surface of section did not have any points!\n",
      "\u001b[33m\u001b[1m└ \u001b[22m\u001b[39m\u001b[90m@ ChaosTools C:\\Users\\Alex\\.julia\\packages\\ChaosTools\\PHPDF\\src\\orbitdiagrams\\produce_orbitdiagram.jl:75\u001b[39m\n"
     ]
    },
    {
     "name": "stdout",
     "output_type": "stream",
     "text": [
      "\n",
      "parameter = -0.096865\n"
     ]
    },
    {
     "name": "stderr",
     "output_type": "stream",
     "text": [
      "\u001b[33m\u001b[1m┌ \u001b[22m\u001b[39m\u001b[33m\u001b[1mWarning: \u001b[22m\u001b[39mFor parameter -0.0968648 The Poincaré surface of section did not have any points!\n",
      "\u001b[33m\u001b[1m└ \u001b[22m\u001b[39m\u001b[90m@ ChaosTools C:\\Users\\Alex\\.julia\\packages\\ChaosTools\\PHPDF\\src\\orbitdiagrams\\produce_orbitdiagram.jl:75\u001b[39m\n",
      "\u001b[33m\u001b[1m┌ \u001b[22m\u001b[39m\u001b[33m\u001b[1mWarning: \u001b[22m\u001b[39mFor parameter -0.096865 The Poincaré surface of section did not have any points!\n",
      "\u001b[33m\u001b[1m└ \u001b[22m\u001b[39m\u001b[90m@ ChaosTools C:\\Users\\Alex\\.julia\\packages\\ChaosTools\\PHPDF\\src\\orbitdiagrams\\produce_orbitdiagram.jl:75\u001b[39m\n"
     ]
    },
    {
     "name": "stdout",
     "output_type": "stream",
     "text": [
      "parameter = -0.0968652\n",
      "parameter = -0.0968654"
     ]
    },
    {
     "name": "stderr",
     "output_type": "stream",
     "text": [
      "\u001b[33m\u001b[1m┌ \u001b[22m\u001b[39m\u001b[33m\u001b[1mWarning: \u001b[22m\u001b[39mFor parameter -0.0968652 The Poincaré surface of section did not have any points!\n",
      "\u001b[33m\u001b[1m└ \u001b[22m\u001b[39m\u001b[90m@ ChaosTools C:\\Users\\Alex\\.julia\\packages\\ChaosTools\\PHPDF\\src\\orbitdiagrams\\produce_orbitdiagram.jl:75\u001b[39m\n"
     ]
    },
    {
     "name": "stdout",
     "output_type": "stream",
     "text": [
      "\n",
      "parameter = -0.0968656\n"
     ]
    },
    {
     "name": "stderr",
     "output_type": "stream",
     "text": [
      "\u001b[33m\u001b[1m┌ \u001b[22m\u001b[39m\u001b[33m\u001b[1mWarning: \u001b[22m\u001b[39mFor parameter -0.0968654 The Poincaré surface of section did not have any points!\n",
      "\u001b[33m\u001b[1m└ \u001b[22m\u001b[39m\u001b[90m@ ChaosTools C:\\Users\\Alex\\.julia\\packages\\ChaosTools\\PHPDF\\src\\orbitdiagrams\\produce_orbitdiagram.jl:75\u001b[39m\n"
     ]
    },
    {
     "name": "stdout",
     "output_type": "stream",
     "text": [
      "parameter = -0.0968658\n"
     ]
    },
    {
     "name": "stderr",
     "output_type": "stream",
     "text": [
      "\u001b[33m\u001b[1m┌ \u001b[22m\u001b[39m\u001b[33m\u001b[1mWarning: \u001b[22m\u001b[39mFor parameter -0.0968656 The Poincaré surface of section did not have any points!\n",
      "\u001b[33m\u001b[1m└ \u001b[22m\u001b[39m\u001b[90m@ ChaosTools C:\\Users\\Alex\\.julia\\packages\\ChaosTools\\PHPDF\\src\\orbitdiagrams\\produce_orbitdiagram.jl:75\u001b[39m\n"
     ]
    },
    {
     "name": "stdout",
     "output_type": "stream",
     "text": [
      "parameter = -0.096866"
     ]
    },
    {
     "name": "stderr",
     "output_type": "stream",
     "text": [
      "\u001b[33m\u001b[1m┌ \u001b[22m\u001b[39m\u001b[33m\u001b[1mWarning: \u001b[22m\u001b[39mFor parameter -0.0968658 The Poincaré surface of section did not have any points!\n",
      "\u001b[33m\u001b[1m└ \u001b[22m\u001b[39m\u001b[90m@ ChaosTools C:\\Users\\Alex\\.julia\\packages\\ChaosTools\\PHPDF\\src\\orbitdiagrams\\produce_orbitdiagram.jl:75\u001b[39m\n"
     ]
    },
    {
     "name": "stdout",
     "output_type": "stream",
     "text": [
      "\n",
      "parameter = -0.0968662\n"
     ]
    },
    {
     "name": "stderr",
     "output_type": "stream",
     "text": [
      "\u001b[33m\u001b[1m┌ \u001b[22m\u001b[39m\u001b[33m\u001b[1mWarning: \u001b[22m\u001b[39mFor parameter -0.096866 The Poincaré surface of section did not have any points!\n",
      "\u001b[33m\u001b[1m└ \u001b[22m\u001b[39m\u001b[90m@ ChaosTools C:\\Users\\Alex\\.julia\\packages\\ChaosTools\\PHPDF\\src\\orbitdiagrams\\produce_orbitdiagram.jl:75\u001b[39m\n"
     ]
    },
    {
     "name": "stdout",
     "output_type": "stream",
     "text": [
      "parameter = -0.0968664"
     ]
    },
    {
     "name": "stderr",
     "output_type": "stream",
     "text": [
      "\u001b[33m\u001b[1m┌ \u001b[22m\u001b[39m\u001b[33m\u001b[1mWarning: \u001b[22m\u001b[39mFor parameter -0.0968662 The Poincaré surface of section did not have any points!\n",
      "\u001b[33m\u001b[1m└ \u001b[22m\u001b[39m\u001b[90m@ ChaosTools C:\\Users\\Alex\\.julia\\packages\\ChaosTools\\PHPDF\\src\\orbitdiagrams\\produce_orbitdiagram.jl:75\u001b[39m\n"
     ]
    },
    {
     "name": "stdout",
     "output_type": "stream",
     "text": [
      "\n",
      "parameter = -0.0968666"
     ]
    },
    {
     "name": "stderr",
     "output_type": "stream",
     "text": [
      "\u001b[33m\u001b[1m┌ \u001b[22m\u001b[39m\u001b[33m\u001b[1mWarning: \u001b[22m\u001b[39mFor parameter -0.0968664 The Poincaré surface of section did not have any points!\n",
      "\u001b[33m\u001b[1m└ \u001b[22m\u001b[39m\u001b[90m@ ChaosTools C:\\Users\\Alex\\.julia\\packages\\ChaosTools\\PHPDF\\src\\orbitdiagrams\\produce_orbitdiagram.jl:75\u001b[39m\n"
     ]
    },
    {
     "name": "stdout",
     "output_type": "stream",
     "text": [
      "\n"
     ]
    },
    {
     "name": "stderr",
     "output_type": "stream",
     "text": [
      "\u001b[33m\u001b[1m┌ \u001b[22m\u001b[39m\u001b[33m\u001b[1mWarning: \u001b[22m\u001b[39mFor parameter -0.0968666 The Poincaré surface of section did not have any points!\n",
      "\u001b[33m\u001b[1m└ \u001b[22m\u001b[39m\u001b[90m@ ChaosTools C:\\Users\\Alex\\.julia\\packages\\ChaosTools\\PHPDF\\src\\orbitdiagrams\\produce_orbitdiagram.jl:75\u001b[39m\n"
     ]
    },
    {
     "name": "stdout",
     "output_type": "stream",
     "text": [
      "parameter = -0.0968668\n",
      "parameter = -0.096867\n"
     ]
    },
    {
     "name": "stderr",
     "output_type": "stream",
     "text": [
      "\u001b[33m\u001b[1m┌ \u001b[22m\u001b[39m\u001b[33m\u001b[1mWarning: \u001b[22m\u001b[39mFor parameter -0.0968668 The Poincaré surface of section did not have any points!\n",
      "\u001b[33m\u001b[1m└ \u001b[22m\u001b[39m\u001b[90m@ ChaosTools C:\\Users\\Alex\\.julia\\packages\\ChaosTools\\PHPDF\\src\\orbitdiagrams\\produce_orbitdiagram.jl:75\u001b[39m\n"
     ]
    },
    {
     "name": "stdout",
     "output_type": "stream",
     "text": [
      "parameter = -0.0968672\n"
     ]
    },
    {
     "name": "stderr",
     "output_type": "stream",
     "text": [
      "\u001b[33m\u001b[1m┌ \u001b[22m\u001b[39m\u001b[33m\u001b[1mWarning: \u001b[22m\u001b[39mFor parameter -0.096867 The Poincaré surface of section did not have any points!\n",
      "\u001b[33m\u001b[1m└ \u001b[22m\u001b[39m\u001b[90m@ ChaosTools C:\\Users\\Alex\\.julia\\packages\\ChaosTools\\PHPDF\\src\\orbitdiagrams\\produce_orbitdiagram.jl:75\u001b[39m\n"
     ]
    },
    {
     "name": "stdout",
     "output_type": "stream",
     "text": [
      "parameter = -0.0968674\n"
     ]
    },
    {
     "name": "stderr",
     "output_type": "stream",
     "text": [
      "\u001b[33m\u001b[1m┌ \u001b[22m\u001b[39m\u001b[33m\u001b[1mWarning: \u001b[22m\u001b[39mFor parameter -0.0968672 The Poincaré surface of section did not have any points!\n",
      "\u001b[33m\u001b[1m└ \u001b[22m\u001b[39m\u001b[90m@ ChaosTools C:\\Users\\Alex\\.julia\\packages\\ChaosTools\\PHPDF\\src\\orbitdiagrams\\produce_orbitdiagram.jl:75\u001b[39m\n"
     ]
    },
    {
     "name": "stdout",
     "output_type": "stream",
     "text": [
      "parameter = -0.0968676\n"
     ]
    },
    {
     "name": "stderr",
     "output_type": "stream",
     "text": [
      "\u001b[33m\u001b[1m┌ \u001b[22m\u001b[39m\u001b[33m\u001b[1mWarning: \u001b[22m\u001b[39mFor parameter -0.0968674 The Poincaré surface of section did not have any points!\n",
      "\u001b[33m\u001b[1m└ \u001b[22m\u001b[39m\u001b[90m@ ChaosTools C:\\Users\\Alex\\.julia\\packages\\ChaosTools\\PHPDF\\src\\orbitdiagrams\\produce_orbitdiagram.jl:75\u001b[39m\n"
     ]
    },
    {
     "name": "stdout",
     "output_type": "stream",
     "text": [
      "parameter = -0.0968678\n"
     ]
    },
    {
     "name": "stderr",
     "output_type": "stream",
     "text": [
      "\u001b[33m\u001b[1m┌ \u001b[22m\u001b[39m\u001b[33m\u001b[1mWarning: \u001b[22m\u001b[39mFor parameter -0.0968676 The Poincaré surface of section did not have any points!\n",
      "\u001b[33m\u001b[1m└ \u001b[22m\u001b[39m\u001b[90m@ ChaosTools C:\\Users\\Alex\\.julia\\packages\\ChaosTools\\PHPDF\\src\\orbitdiagrams\\produce_orbitdiagram.jl:75\u001b[39m\n"
     ]
    },
    {
     "name": "stdout",
     "output_type": "stream",
     "text": [
      "parameter = -0.096868\n"
     ]
    },
    {
     "name": "stderr",
     "output_type": "stream",
     "text": [
      "\u001b[33m\u001b[1m┌ \u001b[22m\u001b[39m\u001b[33m\u001b[1mWarning: \u001b[22m\u001b[39mFor parameter -0.0968678 The Poincaré surface of section did not have any points!\n",
      "\u001b[33m\u001b[1m└ \u001b[22m\u001b[39m\u001b[90m@ ChaosTools C:\\Users\\Alex\\.julia\\packages\\ChaosTools\\PHPDF\\src\\orbitdiagrams\\produce_orbitdiagram.jl:75\u001b[39m\n"
     ]
    },
    {
     "name": "stdout",
     "output_type": "stream",
     "text": [
      "parameter = -0.0968682"
     ]
    },
    {
     "name": "stderr",
     "output_type": "stream",
     "text": [
      "\u001b[33m\u001b[1m┌ \u001b[22m\u001b[39m\u001b[33m\u001b[1mWarning: \u001b[22m\u001b[39mFor parameter -0.096868 The Poincaré surface of section did not have any points!\n",
      "\u001b[33m\u001b[1m└ \u001b[22m\u001b[39m\u001b[90m@ ChaosTools C:\\Users\\Alex\\.julia\\packages\\ChaosTools\\PHPDF\\src\\orbitdiagrams\\produce_orbitdiagram.jl:75\u001b[39m\n"
     ]
    },
    {
     "name": "stdout",
     "output_type": "stream",
     "text": [
      "\n",
      "parameter = -0.0968684"
     ]
    },
    {
     "name": "stderr",
     "output_type": "stream",
     "text": [
      "\u001b[33m\u001b[1m┌ \u001b[22m\u001b[39m\u001b[33m\u001b[1mWarning: \u001b[22m\u001b[39mFor parameter -0.0968682 The Poincaré surface of section did not have any points!\n",
      "\u001b[33m\u001b[1m└ \u001b[22m\u001b[39m\u001b[90m@ ChaosTools C:\\Users\\Alex\\.julia\\packages\\ChaosTools\\PHPDF\\src\\orbitdiagrams\\produce_orbitdiagram.jl:75\u001b[39m\n"
     ]
    },
    {
     "name": "stdout",
     "output_type": "stream",
     "text": [
      "\n",
      "parameter = -0.0968686\n"
     ]
    },
    {
     "name": "stderr",
     "output_type": "stream",
     "text": [
      "\u001b[33m\u001b[1m┌ \u001b[22m\u001b[39m\u001b[33m\u001b[1mWarning: \u001b[22m\u001b[39mFor parameter -0.0968684 The Poincaré surface of section did not have any points!\n",
      "\u001b[33m\u001b[1m└ \u001b[22m\u001b[39m\u001b[90m@ ChaosTools C:\\Users\\Alex\\.julia\\packages\\ChaosTools\\PHPDF\\src\\orbitdiagrams\\produce_orbitdiagram.jl:75\u001b[39m\n"
     ]
    },
    {
     "name": "stdout",
     "output_type": "stream",
     "text": [
      "parameter = -0.0968688\n"
     ]
    },
    {
     "name": "stderr",
     "output_type": "stream",
     "text": [
      "\u001b[33m\u001b[1m┌ \u001b[22m\u001b[39m\u001b[33m\u001b[1mWarning: \u001b[22m\u001b[39mFor parameter -0.0968686 The Poincaré surface of section did not have any points!\n",
      "\u001b[33m\u001b[1m└ \u001b[22m\u001b[39m\u001b[90m@ ChaosTools C:\\Users\\Alex\\.julia\\packages\\ChaosTools\\PHPDF\\src\\orbitdiagrams\\produce_orbitdiagram.jl:75\u001b[39m\n"
     ]
    },
    {
     "name": "stdout",
     "output_type": "stream",
     "text": [
      "parameter = -0.096869\n"
     ]
    },
    {
     "name": "stderr",
     "output_type": "stream",
     "text": [
      "\u001b[33m\u001b[1m┌ \u001b[22m\u001b[39m\u001b[33m\u001b[1mWarning: \u001b[22m\u001b[39mFor parameter -0.0968688 The Poincaré surface of section did not have any points!\n",
      "\u001b[33m\u001b[1m└ \u001b[22m\u001b[39m\u001b[90m@ ChaosTools C:\\Users\\Alex\\.julia\\packages\\ChaosTools\\PHPDF\\src\\orbitdiagrams\\produce_orbitdiagram.jl:75\u001b[39m\n"
     ]
    },
    {
     "name": "stdout",
     "output_type": "stream",
     "text": [
      "parameter = -0.0968692"
     ]
    },
    {
     "name": "stderr",
     "output_type": "stream",
     "text": [
      "\u001b[33m\u001b[1m┌ \u001b[22m\u001b[39m\u001b[33m\u001b[1mWarning: \u001b[22m\u001b[39mFor parameter -0.096869 The Poincaré surface of section did not have any points!\n",
      "\u001b[33m\u001b[1m└ \u001b[22m\u001b[39m\u001b[90m@ ChaosTools C:\\Users\\Alex\\.julia\\packages\\ChaosTools\\PHPDF\\src\\orbitdiagrams\\produce_orbitdiagram.jl:75\u001b[39m\n"
     ]
    },
    {
     "name": "stdout",
     "output_type": "stream",
     "text": [
      "\n",
      "parameter = -0.0968694\n"
     ]
    },
    {
     "name": "stderr",
     "output_type": "stream",
     "text": [
      "\u001b[33m\u001b[1m┌ \u001b[22m\u001b[39m\u001b[33m\u001b[1mWarning: \u001b[22m\u001b[39mFor parameter -0.0968692 The Poincaré surface of section did not have any points!\n",
      "\u001b[33m\u001b[1m└ \u001b[22m\u001b[39m\u001b[90m@ ChaosTools C:\\Users\\Alex\\.julia\\packages\\ChaosTools\\PHPDF\\src\\orbitdiagrams\\produce_orbitdiagram.jl:75\u001b[39m\n"
     ]
    },
    {
     "name": "stdout",
     "output_type": "stream",
     "text": [
      "parameter = -0.0968696"
     ]
    },
    {
     "name": "stderr",
     "output_type": "stream",
     "text": [
      "\u001b[33m\u001b[1m┌ \u001b[22m\u001b[39m\u001b[33m\u001b[1mWarning: \u001b[22m\u001b[39mFor parameter -0.0968694 The Poincaré surface of section did not have any points!\n",
      "\u001b[33m\u001b[1m└ \u001b[22m\u001b[39m\u001b[90m@ ChaosTools C:\\Users\\Alex\\.julia\\packages\\ChaosTools\\PHPDF\\src\\orbitdiagrams\\produce_orbitdiagram.jl:75\u001b[39m\n"
     ]
    },
    {
     "name": "stdout",
     "output_type": "stream",
     "text": [
      "\n",
      "parameter = -0.0968698"
     ]
    },
    {
     "name": "stderr",
     "output_type": "stream",
     "text": [
      "\u001b[33m\u001b[1m┌ \u001b[22m\u001b[39m\u001b[33m\u001b[1mWarning: \u001b[22m\u001b[39mFor parameter -0.0968696 The Poincaré surface of section did not have any points!\n",
      "\u001b[33m\u001b[1m└ \u001b[22m\u001b[39m\u001b[90m@ ChaosTools C:\\Users\\Alex\\.julia\\packages\\ChaosTools\\PHPDF\\src\\orbitdiagrams\\produce_orbitdiagram.jl:75\u001b[39m\n"
     ]
    },
    {
     "name": "stdout",
     "output_type": "stream",
     "text": [
      "\n",
      "parameter = -0.09687\n"
     ]
    },
    {
     "name": "stderr",
     "output_type": "stream",
     "text": [
      "\u001b[33m\u001b[1m┌ \u001b[22m\u001b[39m\u001b[33m\u001b[1mWarning: \u001b[22m\u001b[39mFor parameter -0.0968698 The Poincaré surface of section did not have any points!\n",
      "\u001b[33m\u001b[1m└ \u001b[22m\u001b[39m\u001b[90m@ ChaosTools C:\\Users\\Alex\\.julia\\packages\\ChaosTools\\PHPDF\\src\\orbitdiagrams\\produce_orbitdiagram.jl:75\u001b[39m\n"
     ]
    },
    {
     "name": "stdout",
     "output_type": "stream",
     "text": [
      "parameter = -0.0968702"
     ]
    },
    {
     "name": "stderr",
     "output_type": "stream",
     "text": [
      "\u001b[33m\u001b[1m┌ \u001b[22m\u001b[39m\u001b[33m\u001b[1mWarning: \u001b[22m\u001b[39mFor parameter -0.09687 The Poincaré surface of section did not have any points!\n",
      "\u001b[33m\u001b[1m└ \u001b[22m\u001b[39m\u001b[90m@ ChaosTools C:\\Users\\Alex\\.julia\\packages\\ChaosTools\\PHPDF\\src\\orbitdiagrams\\produce_orbitdiagram.jl:75\u001b[39m\n"
     ]
    },
    {
     "name": "stdout",
     "output_type": "stream",
     "text": [
      "\n",
      "parameter = -0.0968704"
     ]
    },
    {
     "name": "stderr",
     "output_type": "stream",
     "text": [
      "\u001b[33m\u001b[1m┌ \u001b[22m\u001b[39m\u001b[33m\u001b[1mWarning: \u001b[22m\u001b[39mFor parameter -0.0968702 The Poincaré surface of section did not have any points!\n",
      "\u001b[33m\u001b[1m└ \u001b[22m\u001b[39m\u001b[90m@ ChaosTools C:\\Users\\Alex\\.julia\\packages\\ChaosTools\\PHPDF\\src\\orbitdiagrams\\produce_orbitdiagram.jl:75\u001b[39m\n"
     ]
    },
    {
     "name": "stdout",
     "output_type": "stream",
     "text": [
      "\n",
      "parameter = -0.0968706\n"
     ]
    },
    {
     "name": "stderr",
     "output_type": "stream",
     "text": [
      "\u001b[33m\u001b[1m┌ \u001b[22m\u001b[39m\u001b[33m\u001b[1mWarning: \u001b[22m\u001b[39mFor parameter -0.0968704 The Poincaré surface of section did not have any points!\n",
      "\u001b[33m\u001b[1m└ \u001b[22m\u001b[39m\u001b[90m@ ChaosTools C:\\Users\\Alex\\.julia\\packages\\ChaosTools\\PHPDF\\src\\orbitdiagrams\\produce_orbitdiagram.jl:75\u001b[39m\n"
     ]
    },
    {
     "name": "stdout",
     "output_type": "stream",
     "text": [
      "parameter = -0.0968708"
     ]
    },
    {
     "name": "stderr",
     "output_type": "stream",
     "text": [
      "\u001b[33m\u001b[1m┌ \u001b[22m\u001b[39m\u001b[33m\u001b[1mWarning: \u001b[22m\u001b[39mFor parameter -0.0968706 The Poincaré surface of section did not have any points!\n",
      "\u001b[33m\u001b[1m└ \u001b[22m\u001b[39m\u001b[90m@ ChaosTools C:\\Users\\Alex\\.julia\\packages\\ChaosTools\\PHPDF\\src\\orbitdiagrams\\produce_orbitdiagram.jl:75\u001b[39m\n"
     ]
    },
    {
     "name": "stdout",
     "output_type": "stream",
     "text": [
      "\n",
      "parameter = -0.096871\n"
     ]
    },
    {
     "name": "stderr",
     "output_type": "stream",
     "text": [
      "\u001b[33m\u001b[1m┌ \u001b[22m\u001b[39m\u001b[33m\u001b[1mWarning: \u001b[22m\u001b[39mFor parameter -0.0968708 The Poincaré surface of section did not have any points!\n",
      "\u001b[33m\u001b[1m└ \u001b[22m\u001b[39m\u001b[90m@ ChaosTools C:\\Users\\Alex\\.julia\\packages\\ChaosTools\\PHPDF\\src\\orbitdiagrams\\produce_orbitdiagram.jl:75\u001b[39m\n"
     ]
    },
    {
     "name": "stdout",
     "output_type": "stream",
     "text": [
      "parameter = -0.0968712\n"
     ]
    },
    {
     "name": "stderr",
     "output_type": "stream",
     "text": [
      "\u001b[33m\u001b[1m┌ \u001b[22m\u001b[39m\u001b[33m\u001b[1mWarning: \u001b[22m\u001b[39mFor parameter -0.096871 The Poincaré surface of section did not have any points!\n",
      "\u001b[33m\u001b[1m└ \u001b[22m\u001b[39m\u001b[90m@ ChaosTools C:\\Users\\Alex\\.julia\\packages\\ChaosTools\\PHPDF\\src\\orbitdiagrams\\produce_orbitdiagram.jl:75\u001b[39m\n",
      "\u001b[33m\u001b[1m┌ \u001b[22m\u001b[39m\u001b[33m\u001b[1mWarning: \u001b[22m\u001b[39mFor parameter -0.0968712 The Poincaré surface of section did not have any points!\n",
      "\u001b[33m\u001b[1m└ \u001b[22m\u001b[39m\u001b[90m@ ChaosTools C:\\Users\\Alex\\.julia\\packages\\ChaosTools\\PHPDF\\src\\orbitdiagrams\\produce_orbitdiagram.jl:75\u001b[39m\n"
     ]
    },
    {
     "name": "stdout",
     "output_type": "stream",
     "text": [
      "parameter = -0.0968714\n",
      "parameter = -0.0968716"
     ]
    },
    {
     "name": "stderr",
     "output_type": "stream",
     "text": [
      "\u001b[33m\u001b[1m┌ \u001b[22m\u001b[39m\u001b[33m\u001b[1mWarning: \u001b[22m\u001b[39mFor parameter -0.0968714 The Poincaré surface of section did not have any points!\n",
      "\u001b[33m\u001b[1m└ \u001b[22m\u001b[39m\u001b[90m@ ChaosTools C:\\Users\\Alex\\.julia\\packages\\ChaosTools\\PHPDF\\src\\orbitdiagrams\\produce_orbitdiagram.jl:75\u001b[39m\n"
     ]
    },
    {
     "name": "stdout",
     "output_type": "stream",
     "text": [
      "\n",
      "parameter = -0.0968718"
     ]
    },
    {
     "name": "stderr",
     "output_type": "stream",
     "text": [
      "\u001b[33m\u001b[1m┌ \u001b[22m\u001b[39m\u001b[33m\u001b[1mWarning: \u001b[22m\u001b[39mFor parameter -0.0968716 The Poincaré surface of section did not have any points!\n",
      "\u001b[33m\u001b[1m└ \u001b[22m\u001b[39m\u001b[90m@ ChaosTools C:\\Users\\Alex\\.julia\\packages\\ChaosTools\\PHPDF\\src\\orbitdiagrams\\produce_orbitdiagram.jl:75\u001b[39m\n"
     ]
    },
    {
     "name": "stdout",
     "output_type": "stream",
     "text": [
      "\n",
      "parameter = -0.096872\n"
     ]
    },
    {
     "name": "stderr",
     "output_type": "stream",
     "text": [
      "\u001b[33m\u001b[1m┌ \u001b[22m\u001b[39m\u001b[33m\u001b[1mWarning: \u001b[22m\u001b[39mFor parameter -0.0968718 The Poincaré surface of section did not have any points!\n",
      "\u001b[33m\u001b[1m└ \u001b[22m\u001b[39m\u001b[90m@ ChaosTools C:\\Users\\Alex\\.julia\\packages\\ChaosTools\\PHPDF\\src\\orbitdiagrams\\produce_orbitdiagram.jl:75\u001b[39m\n"
     ]
    },
    {
     "name": "stdout",
     "output_type": "stream",
     "text": [
      "parameter = -0.0968722"
     ]
    },
    {
     "name": "stderr",
     "output_type": "stream",
     "text": [
      "\u001b[33m\u001b[1m┌ \u001b[22m\u001b[39m\u001b[33m\u001b[1mWarning: \u001b[22m\u001b[39mFor parameter -0.096872 The Poincaré surface of section did not have any points!\n",
      "\u001b[33m\u001b[1m└ \u001b[22m\u001b[39m\u001b[90m@ ChaosTools C:\\Users\\Alex\\.julia\\packages\\ChaosTools\\PHPDF\\src\\orbitdiagrams\\produce_orbitdiagram.jl:75\u001b[39m\n"
     ]
    },
    {
     "name": "stdout",
     "output_type": "stream",
     "text": [
      "\n",
      "parameter = -0.0968724\n"
     ]
    },
    {
     "name": "stderr",
     "output_type": "stream",
     "text": [
      "\u001b[33m\u001b[1m┌ \u001b[22m\u001b[39m\u001b[33m\u001b[1mWarning: \u001b[22m\u001b[39mFor parameter -0.0968722 The Poincaré surface of section did not have any points!\n",
      "\u001b[33m\u001b[1m└ \u001b[22m\u001b[39m\u001b[90m@ ChaosTools C:\\Users\\Alex\\.julia\\packages\\ChaosTools\\PHPDF\\src\\orbitdiagrams\\produce_orbitdiagram.jl:75\u001b[39m\n"
     ]
    },
    {
     "name": "stdout",
     "output_type": "stream",
     "text": [
      "parameter = -0.0968726"
     ]
    },
    {
     "name": "stderr",
     "output_type": "stream",
     "text": [
      "\u001b[33m\u001b[1m┌ \u001b[22m\u001b[39m\u001b[33m\u001b[1mWarning: \u001b[22m\u001b[39mFor parameter -0.0968724 The Poincaré surface of section did not have any points!\n",
      "\u001b[33m\u001b[1m└ \u001b[22m\u001b[39m\u001b[90m@ ChaosTools C:\\Users\\Alex\\.julia\\packages\\ChaosTools\\PHPDF\\src\\orbitdiagrams\\produce_orbitdiagram.jl:75\u001b[39m\n"
     ]
    },
    {
     "name": "stdout",
     "output_type": "stream",
     "text": [
      "\n",
      "parameter = -0.0968728"
     ]
    },
    {
     "name": "stderr",
     "output_type": "stream",
     "text": [
      "\u001b[33m\u001b[1m┌ \u001b[22m\u001b[39m\u001b[33m\u001b[1mWarning: \u001b[22m\u001b[39mFor parameter -0.0968726 The Poincaré surface of section did not have any points!\n",
      "\u001b[33m\u001b[1m└ \u001b[22m\u001b[39m\u001b[90m@ ChaosTools C:\\Users\\Alex\\.julia\\packages\\ChaosTools\\PHPDF\\src\\orbitdiagrams\\produce_orbitdiagram.jl:75\u001b[39m\n"
     ]
    },
    {
     "name": "stdout",
     "output_type": "stream",
     "text": [
      "\n",
      "parameter = -0.096873"
     ]
    },
    {
     "name": "stderr",
     "output_type": "stream",
     "text": [
      "\u001b[33m\u001b[1m┌ \u001b[22m\u001b[39m\u001b[33m\u001b[1mWarning: \u001b[22m\u001b[39mFor parameter -0.0968728 The Poincaré surface of section did not have any points!\n",
      "\u001b[33m\u001b[1m└ \u001b[22m\u001b[39m\u001b[90m@ ChaosTools C:\\Users\\Alex\\.julia\\packages\\ChaosTools\\PHPDF\\src\\orbitdiagrams\\produce_orbitdiagram.jl:75\u001b[39m\n"
     ]
    },
    {
     "name": "stdout",
     "output_type": "stream",
     "text": [
      "\n",
      "parameter = -0.0968732"
     ]
    },
    {
     "name": "stderr",
     "output_type": "stream",
     "text": [
      "\u001b[33m\u001b[1m┌ \u001b[22m\u001b[39m\u001b[33m\u001b[1mWarning: \u001b[22m\u001b[39mFor parameter -0.096873 The Poincaré surface of section did not have any points!\n",
      "\u001b[33m\u001b[1m└ \u001b[22m\u001b[39m\u001b[90m@ ChaosTools C:\\Users\\Alex\\.julia\\packages\\ChaosTools\\PHPDF\\src\\orbitdiagrams\\produce_orbitdiagram.jl:75\u001b[39m\n"
     ]
    },
    {
     "name": "stdout",
     "output_type": "stream",
     "text": [
      "\n",
      "parameter = -0.0968734"
     ]
    },
    {
     "name": "stderr",
     "output_type": "stream",
     "text": [
      "\u001b[33m\u001b[1m┌ \u001b[22m\u001b[39m\u001b[33m\u001b[1mWarning: \u001b[22m\u001b[39mFor parameter -0.0968732 The Poincaré surface of section did not have any points!\n",
      "\u001b[33m\u001b[1m└ \u001b[22m\u001b[39m\u001b[90m@ ChaosTools C:\\Users\\Alex\\.julia\\packages\\ChaosTools\\PHPDF\\src\\orbitdiagrams\\produce_orbitdiagram.jl:75\u001b[39m\n"
     ]
    },
    {
     "name": "stdout",
     "output_type": "stream",
     "text": [
      "\n",
      "parameter = -0.0968736"
     ]
    },
    {
     "name": "stderr",
     "output_type": "stream",
     "text": [
      "\u001b[33m\u001b[1m┌ \u001b[22m\u001b[39m\u001b[33m\u001b[1mWarning: \u001b[22m\u001b[39mFor parameter -0.0968734 The Poincaré surface of section did not have any points!\n",
      "\u001b[33m\u001b[1m└ \u001b[22m\u001b[39m\u001b[90m@ ChaosTools C:\\Users\\Alex\\.julia\\packages\\ChaosTools\\PHPDF\\src\\orbitdiagrams\\produce_orbitdiagram.jl:75\u001b[39m\n"
     ]
    },
    {
     "name": "stdout",
     "output_type": "stream",
     "text": [
      "\n",
      "parameter = -0.0968738"
     ]
    },
    {
     "name": "stderr",
     "output_type": "stream",
     "text": [
      "\u001b[33m\u001b[1m┌ \u001b[22m\u001b[39m\u001b[33m\u001b[1mWarning: \u001b[22m\u001b[39mFor parameter -0.0968736 The Poincaré surface of section did not have any points!\n",
      "\u001b[33m\u001b[1m└ \u001b[22m\u001b[39m\u001b[90m@ ChaosTools C:\\Users\\Alex\\.julia\\packages\\ChaosTools\\PHPDF\\src\\orbitdiagrams\\produce_orbitdiagram.jl:75\u001b[39m\n"
     ]
    },
    {
     "name": "stdout",
     "output_type": "stream",
     "text": [
      "\n",
      "parameter = -0.096874"
     ]
    },
    {
     "name": "stderr",
     "output_type": "stream",
     "text": [
      "\u001b[33m\u001b[1m┌ \u001b[22m\u001b[39m\u001b[33m\u001b[1mWarning: \u001b[22m\u001b[39mFor parameter -0.0968738 The Poincaré surface of section did not have any points!\n",
      "\u001b[33m\u001b[1m└ \u001b[22m\u001b[39m\u001b[90m@ ChaosTools C:\\Users\\Alex\\.julia\\packages\\ChaosTools\\PHPDF\\src\\orbitdiagrams\\produce_orbitdiagram.jl:75\u001b[39m\n"
     ]
    },
    {
     "name": "stdout",
     "output_type": "stream",
     "text": [
      "\n",
      "parameter = -0.0968742"
     ]
    },
    {
     "name": "stderr",
     "output_type": "stream",
     "text": [
      "\u001b[33m\u001b[1m┌ \u001b[22m\u001b[39m\u001b[33m\u001b[1mWarning: \u001b[22m\u001b[39mFor parameter -0.096874 The Poincaré surface of section did not have any points!\n",
      "\u001b[33m\u001b[1m└ \u001b[22m\u001b[39m\u001b[90m@ ChaosTools C:\\Users\\Alex\\.julia\\packages\\ChaosTools\\PHPDF\\src\\orbitdiagrams\\produce_orbitdiagram.jl:75\u001b[39m\n"
     ]
    },
    {
     "name": "stdout",
     "output_type": "stream",
     "text": [
      "\n",
      "parameter = -0.0968744"
     ]
    },
    {
     "name": "stderr",
     "output_type": "stream",
     "text": [
      "\u001b[33m\u001b[1m┌ \u001b[22m\u001b[39m\u001b[33m\u001b[1mWarning: \u001b[22m\u001b[39mFor parameter -0.0968742 The Poincaré surface of section did not have any points!\n",
      "\u001b[33m\u001b[1m└ \u001b[22m\u001b[39m\u001b[90m@ ChaosTools C:\\Users\\Alex\\.julia\\packages\\ChaosTools\\PHPDF\\src\\orbitdiagrams\\produce_orbitdiagram.jl:75\u001b[39m\n"
     ]
    },
    {
     "name": "stdout",
     "output_type": "stream",
     "text": [
      "\n",
      "parameter = -0.0968746\n"
     ]
    },
    {
     "name": "stderr",
     "output_type": "stream",
     "text": [
      "\u001b[33m\u001b[1m┌ \u001b[22m\u001b[39m\u001b[33m\u001b[1mWarning: \u001b[22m\u001b[39mFor parameter -0.0968744 The Poincaré surface of section did not have any points!\n",
      "\u001b[33m\u001b[1m└ \u001b[22m\u001b[39m\u001b[90m@ ChaosTools C:\\Users\\Alex\\.julia\\packages\\ChaosTools\\PHPDF\\src\\orbitdiagrams\\produce_orbitdiagram.jl:75\u001b[39m\n"
     ]
    },
    {
     "name": "stdout",
     "output_type": "stream",
     "text": [
      "parameter = -0.0968748\n"
     ]
    },
    {
     "name": "stderr",
     "output_type": "stream",
     "text": [
      "\u001b[33m\u001b[1m┌ \u001b[22m\u001b[39m\u001b[33m\u001b[1mWarning: \u001b[22m\u001b[39mFor parameter -0.0968746 The Poincaré surface of section did not have any points!\n",
      "\u001b[33m\u001b[1m└ \u001b[22m\u001b[39m\u001b[90m@ ChaosTools C:\\Users\\Alex\\.julia\\packages\\ChaosTools\\PHPDF\\src\\orbitdiagrams\\produce_orbitdiagram.jl:75\u001b[39m\n"
     ]
    },
    {
     "name": "stdout",
     "output_type": "stream",
     "text": [
      "parameter = -0.096875"
     ]
    },
    {
     "name": "stderr",
     "output_type": "stream",
     "text": [
      "\u001b[33m\u001b[1m┌ \u001b[22m\u001b[39m\u001b[33m\u001b[1mWarning: \u001b[22m\u001b[39mFor parameter -0.0968748 The Poincaré surface of section did not have any points!\n",
      "\u001b[33m\u001b[1m└ \u001b[22m\u001b[39m\u001b[90m@ ChaosTools C:\\Users\\Alex\\.julia\\packages\\ChaosTools\\PHPDF\\src\\orbitdiagrams\\produce_orbitdiagram.jl:75\u001b[39m\n"
     ]
    },
    {
     "name": "stdout",
     "output_type": "stream",
     "text": [
      "\n",
      "parameter = -0.0968752\n"
     ]
    },
    {
     "name": "stderr",
     "output_type": "stream",
     "text": [
      "\u001b[33m\u001b[1m┌ \u001b[22m\u001b[39m\u001b[33m\u001b[1mWarning: \u001b[22m\u001b[39mFor parameter -0.096875 The Poincaré surface of section did not have any points!\n",
      "\u001b[33m\u001b[1m└ \u001b[22m\u001b[39m\u001b[90m@ ChaosTools C:\\Users\\Alex\\.julia\\packages\\ChaosTools\\PHPDF\\src\\orbitdiagrams\\produce_orbitdiagram.jl:75\u001b[39m\n"
     ]
    },
    {
     "name": "stdout",
     "output_type": "stream",
     "text": [
      "parameter = -0.0968754"
     ]
    },
    {
     "name": "stderr",
     "output_type": "stream",
     "text": [
      "\u001b[33m\u001b[1m┌ \u001b[22m\u001b[39m\u001b[33m\u001b[1mWarning: \u001b[22m\u001b[39mFor parameter -0.0968752 The Poincaré surface of section did not have any points!\n",
      "\u001b[33m\u001b[1m└ \u001b[22m\u001b[39m\u001b[90m@ ChaosTools C:\\Users\\Alex\\.julia\\packages\\ChaosTools\\PHPDF\\src\\orbitdiagrams\\produce_orbitdiagram.jl:75\u001b[39m\n"
     ]
    },
    {
     "name": "stdout",
     "output_type": "stream",
     "text": [
      "\n",
      "parameter = -0.0968756\n"
     ]
    },
    {
     "name": "stderr",
     "output_type": "stream",
     "text": [
      "\u001b[33m\u001b[1m┌ \u001b[22m\u001b[39m\u001b[33m\u001b[1mWarning: \u001b[22m\u001b[39mFor parameter -0.0968754 The Poincaré surface of section did not have any points!\n",
      "\u001b[33m\u001b[1m└ \u001b[22m\u001b[39m\u001b[90m@ ChaosTools C:\\Users\\Alex\\.julia\\packages\\ChaosTools\\PHPDF\\src\\orbitdiagrams\\produce_orbitdiagram.jl:75\u001b[39m\n"
     ]
    },
    {
     "name": "stdout",
     "output_type": "stream",
     "text": [
      "parameter = -0.0968758"
     ]
    },
    {
     "name": "stderr",
     "output_type": "stream",
     "text": [
      "\u001b[33m\u001b[1m┌ \u001b[22m\u001b[39m\u001b[33m\u001b[1mWarning: \u001b[22m\u001b[39mFor parameter -0.0968756 The Poincaré surface of section did not have any points!\n",
      "\u001b[33m\u001b[1m└ \u001b[22m\u001b[39m\u001b[90m@ ChaosTools C:\\Users\\Alex\\.julia\\packages\\ChaosTools\\PHPDF\\src\\orbitdiagrams\\produce_orbitdiagram.jl:75\u001b[39m\n"
     ]
    },
    {
     "name": "stdout",
     "output_type": "stream",
     "text": [
      "\n",
      "parameter = -0.096876\n"
     ]
    },
    {
     "name": "stderr",
     "output_type": "stream",
     "text": [
      "\u001b[33m\u001b[1m┌ \u001b[22m\u001b[39m\u001b[33m\u001b[1mWarning: \u001b[22m\u001b[39mFor parameter -0.0968758 The Poincaré surface of section did not have any points!\n",
      "\u001b[33m\u001b[1m└ \u001b[22m\u001b[39m\u001b[90m@ ChaosTools C:\\Users\\Alex\\.julia\\packages\\ChaosTools\\PHPDF\\src\\orbitdiagrams\\produce_orbitdiagram.jl:75\u001b[39m\n"
     ]
    },
    {
     "name": "stdout",
     "output_type": "stream",
     "text": [
      "parameter = -0.0968762"
     ]
    },
    {
     "name": "stderr",
     "output_type": "stream",
     "text": [
      "\u001b[33m\u001b[1m┌ \u001b[22m\u001b[39m\u001b[33m\u001b[1mWarning: \u001b[22m\u001b[39mFor parameter -0.096876 The Poincaré surface of section did not have any points!\n",
      "\u001b[33m\u001b[1m└ \u001b[22m\u001b[39m\u001b[90m@ ChaosTools C:\\Users\\Alex\\.julia\\packages\\ChaosTools\\PHPDF\\src\\orbitdiagrams\\produce_orbitdiagram.jl:75\u001b[39m\n"
     ]
    },
    {
     "name": "stdout",
     "output_type": "stream",
     "text": [
      "\n",
      "parameter = -0.0968764\n"
     ]
    },
    {
     "name": "stderr",
     "output_type": "stream",
     "text": [
      "\u001b[33m\u001b[1m┌ \u001b[22m\u001b[39m\u001b[33m\u001b[1mWarning: \u001b[22m\u001b[39mFor parameter -0.0968762 The Poincaré surface of section did not have any points!\n",
      "\u001b[33m\u001b[1m└ \u001b[22m\u001b[39m\u001b[90m@ ChaosTools C:\\Users\\Alex\\.julia\\packages\\ChaosTools\\PHPDF\\src\\orbitdiagrams\\produce_orbitdiagram.jl:75\u001b[39m\n"
     ]
    },
    {
     "name": "stdout",
     "output_type": "stream",
     "text": [
      "parameter = -0.0968766"
     ]
    },
    {
     "name": "stderr",
     "output_type": "stream",
     "text": [
      "\u001b[33m\u001b[1m┌ \u001b[22m\u001b[39m\u001b[33m\u001b[1mWarning: \u001b[22m\u001b[39mFor parameter -0.0968764 The Poincaré surface of section did not have any points!\n",
      "\u001b[33m\u001b[1m└ \u001b[22m\u001b[39m\u001b[90m@ ChaosTools C:\\Users\\Alex\\.julia\\packages\\ChaosTools\\PHPDF\\src\\orbitdiagrams\\produce_orbitdiagram.jl:75\u001b[39m\n"
     ]
    },
    {
     "name": "stdout",
     "output_type": "stream",
     "text": [
      "\n",
      "parameter = -0.0968768\n"
     ]
    },
    {
     "name": "stderr",
     "output_type": "stream",
     "text": [
      "\u001b[33m\u001b[1m┌ \u001b[22m\u001b[39m\u001b[33m\u001b[1mWarning: \u001b[22m\u001b[39mFor parameter -0.0968766 The Poincaré surface of section did not have any points!\n",
      "\u001b[33m\u001b[1m└ \u001b[22m\u001b[39m\u001b[90m@ ChaosTools C:\\Users\\Alex\\.julia\\packages\\ChaosTools\\PHPDF\\src\\orbitdiagrams\\produce_orbitdiagram.jl:75\u001b[39m\n"
     ]
    },
    {
     "name": "stdout",
     "output_type": "stream",
     "text": [
      "parameter = -0.096877"
     ]
    },
    {
     "name": "stderr",
     "output_type": "stream",
     "text": [
      "\u001b[33m\u001b[1m┌ \u001b[22m\u001b[39m\u001b[33m\u001b[1mWarning: \u001b[22m\u001b[39mFor parameter -0.0968768 The Poincaré surface of section did not have any points!\n",
      "\u001b[33m\u001b[1m└ \u001b[22m\u001b[39m\u001b[90m@ ChaosTools C:\\Users\\Alex\\.julia\\packages\\ChaosTools\\PHPDF\\src\\orbitdiagrams\\produce_orbitdiagram.jl:75\u001b[39m\n"
     ]
    },
    {
     "name": "stdout",
     "output_type": "stream",
     "text": [
      "\n",
      "parameter = -0.0968772"
     ]
    },
    {
     "name": "stderr",
     "output_type": "stream",
     "text": [
      "\u001b[33m\u001b[1m┌ \u001b[22m\u001b[39m\u001b[33m\u001b[1mWarning: \u001b[22m\u001b[39mFor parameter -0.096877 The Poincaré surface of section did not have any points!\n",
      "\u001b[33m\u001b[1m└ \u001b[22m\u001b[39m\u001b[90m@ ChaosTools C:\\Users\\Alex\\.julia\\packages\\ChaosTools\\PHPDF\\src\\orbitdiagrams\\produce_orbitdiagram.jl:75\u001b[39m\n"
     ]
    },
    {
     "name": "stdout",
     "output_type": "stream",
     "text": [
      "\n",
      "parameter = -0.0968774"
     ]
    },
    {
     "name": "stderr",
     "output_type": "stream",
     "text": [
      "\u001b[33m\u001b[1m┌ \u001b[22m\u001b[39m\u001b[33m\u001b[1mWarning: \u001b[22m\u001b[39mFor parameter -0.0968772 The Poincaré surface of section did not have any points!\n",
      "\u001b[33m\u001b[1m└ \u001b[22m\u001b[39m\u001b[90m@ ChaosTools C:\\Users\\Alex\\.julia\\packages\\ChaosTools\\PHPDF\\src\\orbitdiagrams\\produce_orbitdiagram.jl:75\u001b[39m\n"
     ]
    },
    {
     "name": "stdout",
     "output_type": "stream",
     "text": [
      "\n",
      "parameter = -0.0968776\n"
     ]
    },
    {
     "name": "stderr",
     "output_type": "stream",
     "text": [
      "\u001b[33m\u001b[1m┌ \u001b[22m\u001b[39m\u001b[33m\u001b[1mWarning: \u001b[22m\u001b[39mFor parameter -0.0968774 The Poincaré surface of section did not have any points!\n",
      "\u001b[33m\u001b[1m└ \u001b[22m\u001b[39m\u001b[90m@ ChaosTools C:\\Users\\Alex\\.julia\\packages\\ChaosTools\\PHPDF\\src\\orbitdiagrams\\produce_orbitdiagram.jl:75\u001b[39m\n"
     ]
    },
    {
     "name": "stdout",
     "output_type": "stream",
     "text": [
      "parameter = -0.0968778\n"
     ]
    },
    {
     "name": "stderr",
     "output_type": "stream",
     "text": [
      "\u001b[33m\u001b[1m┌ \u001b[22m\u001b[39m\u001b[33m\u001b[1mWarning: \u001b[22m\u001b[39mFor parameter -0.0968776 The Poincaré surface of section did not have any points!\n",
      "\u001b[33m\u001b[1m└ \u001b[22m\u001b[39m\u001b[90m@ ChaosTools C:\\Users\\Alex\\.julia\\packages\\ChaosTools\\PHPDF\\src\\orbitdiagrams\\produce_orbitdiagram.jl:75\u001b[39m\n"
     ]
    },
    {
     "name": "stdout",
     "output_type": "stream",
     "text": [
      "parameter = -0.096878"
     ]
    },
    {
     "name": "stderr",
     "output_type": "stream",
     "text": [
      "\u001b[33m\u001b[1m┌ \u001b[22m\u001b[39m\u001b[33m\u001b[1mWarning: \u001b[22m\u001b[39mFor parameter -0.0968778 The Poincaré surface of section did not have any points!\n",
      "\u001b[33m\u001b[1m└ \u001b[22m\u001b[39m\u001b[90m@ ChaosTools C:\\Users\\Alex\\.julia\\packages\\ChaosTools\\PHPDF\\src\\orbitdiagrams\\produce_orbitdiagram.jl:75\u001b[39m\n"
     ]
    },
    {
     "name": "stdout",
     "output_type": "stream",
     "text": [
      "\n"
     ]
    },
    {
     "name": "stderr",
     "output_type": "stream",
     "text": [
      "\u001b[33m\u001b[1m┌ \u001b[22m\u001b[39m\u001b[33m\u001b[1mWarning: \u001b[22m\u001b[39mFor parameter -0.096878 The Poincaré surface of section did not have any points!\n",
      "\u001b[33m\u001b[1m└ \u001b[22m\u001b[39m\u001b[90m@ ChaosTools C:\\Users\\Alex\\.julia\\packages\\ChaosTools\\PHPDF\\src\\orbitdiagrams\\produce_orbitdiagram.jl:75\u001b[39m\n"
     ]
    },
    {
     "name": "stdout",
     "output_type": "stream",
     "text": [
      "parameter = -0.0968782\n",
      "parameter = -0.0968784"
     ]
    },
    {
     "name": "stderr",
     "output_type": "stream",
     "text": [
      "\u001b[33m\u001b[1m┌ \u001b[22m\u001b[39m\u001b[33m\u001b[1mWarning: \u001b[22m\u001b[39mFor parameter -0.0968782 The Poincaré surface of section did not have any points!\n",
      "\u001b[33m\u001b[1m└ \u001b[22m\u001b[39m\u001b[90m@ ChaosTools C:\\Users\\Alex\\.julia\\packages\\ChaosTools\\PHPDF\\src\\orbitdiagrams\\produce_orbitdiagram.jl:75\u001b[39m\n"
     ]
    },
    {
     "name": "stdout",
     "output_type": "stream",
     "text": [
      "\n",
      "parameter = -0.0968786"
     ]
    },
    {
     "name": "stderr",
     "output_type": "stream",
     "text": [
      "\u001b[33m\u001b[1m┌ \u001b[22m\u001b[39m\u001b[33m\u001b[1mWarning: \u001b[22m\u001b[39mFor parameter -0.0968784 The Poincaré surface of section did not have any points!\n",
      "\u001b[33m\u001b[1m└ \u001b[22m\u001b[39m\u001b[90m@ ChaosTools C:\\Users\\Alex\\.julia\\packages\\ChaosTools\\PHPDF\\src\\orbitdiagrams\\produce_orbitdiagram.jl:75\u001b[39m\n"
     ]
    },
    {
     "name": "stdout",
     "output_type": "stream",
     "text": [
      "\n",
      "parameter = -0.0968788"
     ]
    },
    {
     "name": "stderr",
     "output_type": "stream",
     "text": [
      "\u001b[33m\u001b[1m┌ \u001b[22m\u001b[39m\u001b[33m\u001b[1mWarning: \u001b[22m\u001b[39mFor parameter -0.0968786 The Poincaré surface of section did not have any points!\n",
      "\u001b[33m\u001b[1m└ \u001b[22m\u001b[39m\u001b[90m@ ChaosTools C:\\Users\\Alex\\.julia\\packages\\ChaosTools\\PHPDF\\src\\orbitdiagrams\\produce_orbitdiagram.jl:75\u001b[39m\n"
     ]
    },
    {
     "name": "stdout",
     "output_type": "stream",
     "text": [
      "\n",
      "parameter = -0.096879\n"
     ]
    },
    {
     "name": "stderr",
     "output_type": "stream",
     "text": [
      "\u001b[33m\u001b[1m┌ \u001b[22m\u001b[39m\u001b[33m\u001b[1mWarning: \u001b[22m\u001b[39mFor parameter -0.0968788 The Poincaré surface of section did not have any points!\n",
      "\u001b[33m\u001b[1m└ \u001b[22m\u001b[39m\u001b[90m@ ChaosTools C:\\Users\\Alex\\.julia\\packages\\ChaosTools\\PHPDF\\src\\orbitdiagrams\\produce_orbitdiagram.jl:75\u001b[39m\n",
      "\u001b[33m\u001b[1m┌ \u001b[22m\u001b[39m\u001b[33m\u001b[1mWarning: \u001b[22m\u001b[39mFor parameter -0.096879 The Poincaré surface of section did not have any points!\n",
      "\u001b[33m\u001b[1m└ \u001b[22m\u001b[39m\u001b[90m@ ChaosTools C:\\Users\\Alex\\.julia\\packages\\ChaosTools\\PHPDF\\src\\orbitdiagrams\\produce_orbitdiagram.jl:75\u001b[39m\n"
     ]
    },
    {
     "name": "stdout",
     "output_type": "stream",
     "text": [
      "parameter = -0.0968792\n",
      "parameter = -0.0968794"
     ]
    },
    {
     "name": "stderr",
     "output_type": "stream",
     "text": [
      "\u001b[33m\u001b[1m┌ \u001b[22m\u001b[39m\u001b[33m\u001b[1mWarning: \u001b[22m\u001b[39mFor parameter -0.0968792 The Poincaré surface of section did not have any points!\n",
      "\u001b[33m\u001b[1m└ \u001b[22m\u001b[39m\u001b[90m@ ChaosTools C:\\Users\\Alex\\.julia\\packages\\ChaosTools\\PHPDF\\src\\orbitdiagrams\\produce_orbitdiagram.jl:75\u001b[39m\n"
     ]
    },
    {
     "name": "stdout",
     "output_type": "stream",
     "text": [
      "\n",
      "parameter = -0.0968796\n"
     ]
    },
    {
     "name": "stderr",
     "output_type": "stream",
     "text": [
      "\u001b[33m\u001b[1m┌ \u001b[22m\u001b[39m\u001b[33m\u001b[1mWarning: \u001b[22m\u001b[39mFor parameter -0.0968794 The Poincaré surface of section did not have any points!\n",
      "\u001b[33m\u001b[1m└ \u001b[22m\u001b[39m\u001b[90m@ ChaosTools C:\\Users\\Alex\\.julia\\packages\\ChaosTools\\PHPDF\\src\\orbitdiagrams\\produce_orbitdiagram.jl:75\u001b[39m\n"
     ]
    },
    {
     "name": "stdout",
     "output_type": "stream",
     "text": [
      "parameter = -0.0968798\n"
     ]
    },
    {
     "name": "stderr",
     "output_type": "stream",
     "text": [
      "\u001b[33m\u001b[1m┌ \u001b[22m\u001b[39m\u001b[33m\u001b[1mWarning: \u001b[22m\u001b[39mFor parameter -0.0968796 The Poincaré surface of section did not have any points!\n",
      "\u001b[33m\u001b[1m└ \u001b[22m\u001b[39m\u001b[90m@ ChaosTools C:\\Users\\Alex\\.julia\\packages\\ChaosTools\\PHPDF\\src\\orbitdiagrams\\produce_orbitdiagram.jl:75\u001b[39m\n"
     ]
    },
    {
     "name": "stdout",
     "output_type": "stream",
     "text": [
      "parameter = -0.09688"
     ]
    },
    {
     "name": "stderr",
     "output_type": "stream",
     "text": [
      "\u001b[33m\u001b[1m┌ \u001b[22m\u001b[39m\u001b[33m\u001b[1mWarning: \u001b[22m\u001b[39mFor parameter -0.0968798 The Poincaré surface of section did not have any points!\n",
      "\u001b[33m\u001b[1m└ \u001b[22m\u001b[39m\u001b[90m@ ChaosTools C:\\Users\\Alex\\.julia\\packages\\ChaosTools\\PHPDF\\src\\orbitdiagrams\\produce_orbitdiagram.jl:75\u001b[39m\n"
     ]
    },
    {
     "name": "stdout",
     "output_type": "stream",
     "text": [
      "\n",
      "parameter = -0.0968802"
     ]
    },
    {
     "name": "stderr",
     "output_type": "stream",
     "text": [
      "\u001b[33m\u001b[1m┌ \u001b[22m\u001b[39m\u001b[33m\u001b[1mWarning: \u001b[22m\u001b[39mFor parameter -0.09688 The Poincaré surface of section did not have any points!\n",
      "\u001b[33m\u001b[1m└ \u001b[22m\u001b[39m\u001b[90m@ ChaosTools C:\\Users\\Alex\\.julia\\packages\\ChaosTools\\PHPDF\\src\\orbitdiagrams\\produce_orbitdiagram.jl:75\u001b[39m\n"
     ]
    },
    {
     "name": "stdout",
     "output_type": "stream",
     "text": [
      "\n",
      "parameter = -0.0968804"
     ]
    },
    {
     "name": "stderr",
     "output_type": "stream",
     "text": [
      "\u001b[33m\u001b[1m┌ \u001b[22m\u001b[39m\u001b[33m\u001b[1mWarning: \u001b[22m\u001b[39mFor parameter -0.0968802 The Poincaré surface of section did not have any points!\n",
      "\u001b[33m\u001b[1m└ \u001b[22m\u001b[39m\u001b[90m@ ChaosTools C:\\Users\\Alex\\.julia\\packages\\ChaosTools\\PHPDF\\src\\orbitdiagrams\\produce_orbitdiagram.jl:75\u001b[39m\n"
     ]
    },
    {
     "name": "stdout",
     "output_type": "stream",
     "text": [
      "\n",
      "parameter = -0.0968806"
     ]
    },
    {
     "name": "stderr",
     "output_type": "stream",
     "text": [
      "\u001b[33m\u001b[1m┌ \u001b[22m\u001b[39m\u001b[33m\u001b[1mWarning: \u001b[22m\u001b[39mFor parameter -0.0968804 The Poincaré surface of section did not have any points!\n",
      "\u001b[33m\u001b[1m└ \u001b[22m\u001b[39m\u001b[90m@ ChaosTools C:\\Users\\Alex\\.julia\\packages\\ChaosTools\\PHPDF\\src\\orbitdiagrams\\produce_orbitdiagram.jl:75\u001b[39m\n"
     ]
    },
    {
     "name": "stdout",
     "output_type": "stream",
     "text": [
      "\n",
      "parameter = -0.0968808"
     ]
    },
    {
     "name": "stderr",
     "output_type": "stream",
     "text": [
      "\u001b[33m\u001b[1m┌ \u001b[22m\u001b[39m\u001b[33m\u001b[1mWarning: \u001b[22m\u001b[39mFor parameter -0.0968806 The Poincaré surface of section did not have any points!\n",
      "\u001b[33m\u001b[1m└ \u001b[22m\u001b[39m\u001b[90m@ ChaosTools C:\\Users\\Alex\\.julia\\packages\\ChaosTools\\PHPDF\\src\\orbitdiagrams\\produce_orbitdiagram.jl:75\u001b[39m\n"
     ]
    },
    {
     "name": "stdout",
     "output_type": "stream",
     "text": [
      "\n",
      "parameter = -0.096881\n"
     ]
    },
    {
     "name": "stderr",
     "output_type": "stream",
     "text": [
      "\u001b[33m\u001b[1m┌ \u001b[22m\u001b[39m\u001b[33m\u001b[1mWarning: \u001b[22m\u001b[39mFor parameter -0.0968808 The Poincaré surface of section did not have any points!\n",
      "\u001b[33m\u001b[1m└ \u001b[22m\u001b[39m\u001b[90m@ ChaosTools C:\\Users\\Alex\\.julia\\packages\\ChaosTools\\PHPDF\\src\\orbitdiagrams\\produce_orbitdiagram.jl:75\u001b[39m\n"
     ]
    },
    {
     "name": "stdout",
     "output_type": "stream",
     "text": [
      "parameter = -0.0968812"
     ]
    },
    {
     "name": "stderr",
     "output_type": "stream",
     "text": [
      "\u001b[33m\u001b[1m┌ \u001b[22m\u001b[39m\u001b[33m\u001b[1mWarning: \u001b[22m\u001b[39mFor parameter -0.096881 The Poincaré surface of section did not have any points!\n",
      "\u001b[33m\u001b[1m└ \u001b[22m\u001b[39m\u001b[90m@ ChaosTools C:\\Users\\Alex\\.julia\\packages\\ChaosTools\\PHPDF\\src\\orbitdiagrams\\produce_orbitdiagram.jl:75\u001b[39m\n"
     ]
    },
    {
     "name": "stdout",
     "output_type": "stream",
     "text": [
      "\n",
      "parameter = -0.0968814\n"
     ]
    },
    {
     "name": "stderr",
     "output_type": "stream",
     "text": [
      "\u001b[33m\u001b[1m┌ \u001b[22m\u001b[39m\u001b[33m\u001b[1mWarning: \u001b[22m\u001b[39mFor parameter -0.0968812 The Poincaré surface of section did not have any points!\n",
      "\u001b[33m\u001b[1m└ \u001b[22m\u001b[39m\u001b[90m@ ChaosTools C:\\Users\\Alex\\.julia\\packages\\ChaosTools\\PHPDF\\src\\orbitdiagrams\\produce_orbitdiagram.jl:75\u001b[39m\n"
     ]
    },
    {
     "name": "stdout",
     "output_type": "stream",
     "text": [
      "parameter = -0.0968816"
     ]
    },
    {
     "name": "stderr",
     "output_type": "stream",
     "text": [
      "\u001b[33m\u001b[1m┌ \u001b[22m\u001b[39m\u001b[33m\u001b[1mWarning: \u001b[22m\u001b[39mFor parameter -0.0968814 The Poincaré surface of section did not have any points!\n",
      "\u001b[33m\u001b[1m└ \u001b[22m\u001b[39m\u001b[90m@ ChaosTools C:\\Users\\Alex\\.julia\\packages\\ChaosTools\\PHPDF\\src\\orbitdiagrams\\produce_orbitdiagram.jl:75\u001b[39m\n"
     ]
    },
    {
     "name": "stdout",
     "output_type": "stream",
     "text": [
      "\n",
      "parameter = -0.0968818"
     ]
    },
    {
     "name": "stderr",
     "output_type": "stream",
     "text": [
      "\u001b[33m\u001b[1m┌ \u001b[22m\u001b[39m\u001b[33m\u001b[1mWarning: \u001b[22m\u001b[39mFor parameter -0.0968816 The Poincaré surface of section did not have any points!\n",
      "\u001b[33m\u001b[1m└ \u001b[22m\u001b[39m\u001b[90m@ ChaosTools C:\\Users\\Alex\\.julia\\packages\\ChaosTools\\PHPDF\\src\\orbitdiagrams\\produce_orbitdiagram.jl:75\u001b[39m\n"
     ]
    },
    {
     "name": "stdout",
     "output_type": "stream",
     "text": [
      "\n",
      "parameter = -0.096882\n"
     ]
    },
    {
     "name": "stderr",
     "output_type": "stream",
     "text": [
      "\u001b[33m\u001b[1m┌ \u001b[22m\u001b[39m\u001b[33m\u001b[1mWarning: \u001b[22m\u001b[39mFor parameter -0.0968818 The Poincaré surface of section did not have any points!\n",
      "\u001b[33m\u001b[1m└ \u001b[22m\u001b[39m\u001b[90m@ ChaosTools C:\\Users\\Alex\\.julia\\packages\\ChaosTools\\PHPDF\\src\\orbitdiagrams\\produce_orbitdiagram.jl:75\u001b[39m\n"
     ]
    },
    {
     "name": "stdout",
     "output_type": "stream",
     "text": [
      "parameter = -0.0968822\n"
     ]
    },
    {
     "name": "stderr",
     "output_type": "stream",
     "text": [
      "\u001b[33m\u001b[1m┌ \u001b[22m\u001b[39m\u001b[33m\u001b[1mWarning: \u001b[22m\u001b[39mFor parameter -0.096882 The Poincaré surface of section did not have any points!\n",
      "\u001b[33m\u001b[1m└ \u001b[22m\u001b[39m\u001b[90m@ ChaosTools C:\\Users\\Alex\\.julia\\packages\\ChaosTools\\PHPDF\\src\\orbitdiagrams\\produce_orbitdiagram.jl:75\u001b[39m\n"
     ]
    },
    {
     "name": "stdout",
     "output_type": "stream",
     "text": [
      "parameter = -0.0968824"
     ]
    },
    {
     "name": "stderr",
     "output_type": "stream",
     "text": [
      "\u001b[33m\u001b[1m┌ \u001b[22m\u001b[39m\u001b[33m\u001b[1mWarning: \u001b[22m\u001b[39mFor parameter -0.0968822 The Poincaré surface of section did not have any points!\n",
      "\u001b[33m\u001b[1m└ \u001b[22m\u001b[39m\u001b[90m@ ChaosTools C:\\Users\\Alex\\.julia\\packages\\ChaosTools\\PHPDF\\src\\orbitdiagrams\\produce_orbitdiagram.jl:75\u001b[39m\n"
     ]
    },
    {
     "name": "stdout",
     "output_type": "stream",
     "text": [
      "\n",
      "parameter = -0.0968826\n"
     ]
    },
    {
     "name": "stderr",
     "output_type": "stream",
     "text": [
      "\u001b[33m\u001b[1m┌ \u001b[22m\u001b[39m\u001b[33m\u001b[1mWarning: \u001b[22m\u001b[39mFor parameter -0.0968824 The Poincaré surface of section did not have any points!\n",
      "\u001b[33m\u001b[1m└ \u001b[22m\u001b[39m\u001b[90m@ ChaosTools C:\\Users\\Alex\\.julia\\packages\\ChaosTools\\PHPDF\\src\\orbitdiagrams\\produce_orbitdiagram.jl:75\u001b[39m\n"
     ]
    },
    {
     "name": "stdout",
     "output_type": "stream",
     "text": [
      "parameter = -0.0968828"
     ]
    },
    {
     "name": "stderr",
     "output_type": "stream",
     "text": [
      "\u001b[33m\u001b[1m┌ \u001b[22m\u001b[39m\u001b[33m\u001b[1mWarning: \u001b[22m\u001b[39mFor parameter -0.0968826 The Poincaré surface of section did not have any points!\n",
      "\u001b[33m\u001b[1m└ \u001b[22m\u001b[39m\u001b[90m@ ChaosTools C:\\Users\\Alex\\.julia\\packages\\ChaosTools\\PHPDF\\src\\orbitdiagrams\\produce_orbitdiagram.jl:75\u001b[39m\n"
     ]
    },
    {
     "name": "stdout",
     "output_type": "stream",
     "text": [
      "\n",
      "parameter = -0.096883\n"
     ]
    },
    {
     "name": "stderr",
     "output_type": "stream",
     "text": [
      "\u001b[33m\u001b[1m┌ \u001b[22m\u001b[39m\u001b[33m\u001b[1mWarning: \u001b[22m\u001b[39mFor parameter -0.0968828 The Poincaré surface of section did not have any points!\n",
      "\u001b[33m\u001b[1m└ \u001b[22m\u001b[39m\u001b[90m@ ChaosTools C:\\Users\\Alex\\.julia\\packages\\ChaosTools\\PHPDF\\src\\orbitdiagrams\\produce_orbitdiagram.jl:75\u001b[39m\n"
     ]
    },
    {
     "name": "stdout",
     "output_type": "stream",
     "text": [
      "parameter = -0.0968832\n"
     ]
    },
    {
     "name": "stderr",
     "output_type": "stream",
     "text": [
      "\u001b[33m\u001b[1m┌ \u001b[22m\u001b[39m\u001b[33m\u001b[1mWarning: \u001b[22m\u001b[39mFor parameter -0.096883 The Poincaré surface of section did not have any points!\n",
      "\u001b[33m\u001b[1m└ \u001b[22m\u001b[39m\u001b[90m@ ChaosTools C:\\Users\\Alex\\.julia\\packages\\ChaosTools\\PHPDF\\src\\orbitdiagrams\\produce_orbitdiagram.jl:75\u001b[39m\n"
     ]
    },
    {
     "name": "stdout",
     "output_type": "stream",
     "text": [
      "parameter = -0.0968834"
     ]
    },
    {
     "name": "stderr",
     "output_type": "stream",
     "text": [
      "\u001b[33m\u001b[1m┌ \u001b[22m\u001b[39m\u001b[33m\u001b[1mWarning: \u001b[22m\u001b[39mFor parameter -0.0968832 The Poincaré surface of section did not have any points!\n",
      "\u001b[33m\u001b[1m└ \u001b[22m\u001b[39m\u001b[90m@ ChaosTools C:\\Users\\Alex\\.julia\\packages\\ChaosTools\\PHPDF\\src\\orbitdiagrams\\produce_orbitdiagram.jl:75\u001b[39m\n"
     ]
    },
    {
     "name": "stdout",
     "output_type": "stream",
     "text": [
      "\n",
      "parameter = -0.0968836"
     ]
    },
    {
     "name": "stderr",
     "output_type": "stream",
     "text": [
      "\u001b[33m\u001b[1m┌ \u001b[22m\u001b[39m\u001b[33m\u001b[1mWarning: \u001b[22m\u001b[39mFor parameter -0.0968834 The Poincaré surface of section did not have any points!\n",
      "\u001b[33m\u001b[1m└ \u001b[22m\u001b[39m\u001b[90m@ ChaosTools C:\\Users\\Alex\\.julia\\packages\\ChaosTools\\PHPDF\\src\\orbitdiagrams\\produce_orbitdiagram.jl:75\u001b[39m\n"
     ]
    },
    {
     "name": "stdout",
     "output_type": "stream",
     "text": [
      "\n",
      "parameter = -0.0968838\n"
     ]
    },
    {
     "name": "stderr",
     "output_type": "stream",
     "text": [
      "\u001b[33m\u001b[1m┌ \u001b[22m\u001b[39m\u001b[33m\u001b[1mWarning: \u001b[22m\u001b[39mFor parameter -0.0968836 The Poincaré surface of section did not have any points!\n",
      "\u001b[33m\u001b[1m└ \u001b[22m\u001b[39m\u001b[90m@ ChaosTools C:\\Users\\Alex\\.julia\\packages\\ChaosTools\\PHPDF\\src\\orbitdiagrams\\produce_orbitdiagram.jl:75\u001b[39m\n"
     ]
    },
    {
     "name": "stdout",
     "output_type": "stream",
     "text": [
      "parameter = -0.096884"
     ]
    },
    {
     "name": "stderr",
     "output_type": "stream",
     "text": [
      "\u001b[33m\u001b[1m┌ \u001b[22m\u001b[39m\u001b[33m\u001b[1mWarning: \u001b[22m\u001b[39mFor parameter -0.0968838 The Poincaré surface of section did not have any points!\n",
      "\u001b[33m\u001b[1m└ \u001b[22m\u001b[39m\u001b[90m@ ChaosTools C:\\Users\\Alex\\.julia\\packages\\ChaosTools\\PHPDF\\src\\orbitdiagrams\\produce_orbitdiagram.jl:75\u001b[39m\n"
     ]
    },
    {
     "name": "stdout",
     "output_type": "stream",
     "text": [
      "\n",
      "parameter = -0.0968842"
     ]
    },
    {
     "name": "stderr",
     "output_type": "stream",
     "text": [
      "\u001b[33m\u001b[1m┌ \u001b[22m\u001b[39m\u001b[33m\u001b[1mWarning: \u001b[22m\u001b[39mFor parameter -0.096884 The Poincaré surface of section did not have any points!\n",
      "\u001b[33m\u001b[1m└ \u001b[22m\u001b[39m\u001b[90m@ ChaosTools C:\\Users\\Alex\\.julia\\packages\\ChaosTools\\PHPDF\\src\\orbitdiagrams\\produce_orbitdiagram.jl:75\u001b[39m\n"
     ]
    },
    {
     "name": "stdout",
     "output_type": "stream",
     "text": [
      "\n",
      "parameter = -0.0968844\n"
     ]
    },
    {
     "name": "stderr",
     "output_type": "stream",
     "text": [
      "\u001b[33m\u001b[1m┌ \u001b[22m\u001b[39m\u001b[33m\u001b[1mWarning: \u001b[22m\u001b[39mFor parameter -0.0968842 The Poincaré surface of section did not have any points!\n",
      "\u001b[33m\u001b[1m└ \u001b[22m\u001b[39m\u001b[90m@ ChaosTools C:\\Users\\Alex\\.julia\\packages\\ChaosTools\\PHPDF\\src\\orbitdiagrams\\produce_orbitdiagram.jl:75\u001b[39m\n"
     ]
    },
    {
     "name": "stdout",
     "output_type": "stream",
     "text": [
      "parameter = -0.0968846"
     ]
    },
    {
     "name": "stderr",
     "output_type": "stream",
     "text": [
      "\u001b[33m\u001b[1m┌ \u001b[22m\u001b[39m\u001b[33m\u001b[1mWarning: \u001b[22m\u001b[39mFor parameter -0.0968844 The Poincaré surface of section did not have any points!\n",
      "\u001b[33m\u001b[1m└ \u001b[22m\u001b[39m\u001b[90m@ ChaosTools C:\\Users\\Alex\\.julia\\packages\\ChaosTools\\PHPDF\\src\\orbitdiagrams\\produce_orbitdiagram.jl:75\u001b[39m\n"
     ]
    },
    {
     "name": "stdout",
     "output_type": "stream",
     "text": [
      "\n",
      "parameter = -0.0968848"
     ]
    },
    {
     "name": "stderr",
     "output_type": "stream",
     "text": [
      "\u001b[33m\u001b[1m┌ \u001b[22m\u001b[39m\u001b[33m\u001b[1mWarning: \u001b[22m\u001b[39mFor parameter -0.0968846 The Poincaré surface of section did not have any points!\n",
      "\u001b[33m\u001b[1m└ \u001b[22m\u001b[39m\u001b[90m@ ChaosTools C:\\Users\\Alex\\.julia\\packages\\ChaosTools\\PHPDF\\src\\orbitdiagrams\\produce_orbitdiagram.jl:75\u001b[39m\n"
     ]
    },
    {
     "name": "stdout",
     "output_type": "stream",
     "text": [
      "\n",
      "parameter = -0.096885\n"
     ]
    },
    {
     "name": "stderr",
     "output_type": "stream",
     "text": [
      "\u001b[33m\u001b[1m┌ \u001b[22m\u001b[39m\u001b[33m\u001b[1mWarning: \u001b[22m\u001b[39mFor parameter -0.0968848 The Poincaré surface of section did not have any points!\n",
      "\u001b[33m\u001b[1m└ \u001b[22m\u001b[39m\u001b[90m@ ChaosTools C:\\Users\\Alex\\.julia\\packages\\ChaosTools\\PHPDF\\src\\orbitdiagrams\\produce_orbitdiagram.jl:75\u001b[39m\n"
     ]
    },
    {
     "name": "stdout",
     "output_type": "stream",
     "text": [
      "parameter = -0.0968852"
     ]
    },
    {
     "name": "stderr",
     "output_type": "stream",
     "text": [
      "\u001b[33m\u001b[1m┌ \u001b[22m\u001b[39m\u001b[33m\u001b[1mWarning: \u001b[22m\u001b[39mFor parameter -0.096885 The Poincaré surface of section did not have any points!\n",
      "\u001b[33m\u001b[1m└ \u001b[22m\u001b[39m\u001b[90m@ ChaosTools C:\\Users\\Alex\\.julia\\packages\\ChaosTools\\PHPDF\\src\\orbitdiagrams\\produce_orbitdiagram.jl:75\u001b[39m\n"
     ]
    },
    {
     "name": "stdout",
     "output_type": "stream",
     "text": [
      "\n",
      "parameter = -0.0968854\n"
     ]
    },
    {
     "name": "stderr",
     "output_type": "stream",
     "text": [
      "\u001b[33m\u001b[1m┌ \u001b[22m\u001b[39m\u001b[33m\u001b[1mWarning: \u001b[22m\u001b[39mFor parameter -0.0968852 The Poincaré surface of section did not have any points!\n",
      "\u001b[33m\u001b[1m└ \u001b[22m\u001b[39m\u001b[90m@ ChaosTools C:\\Users\\Alex\\.julia\\packages\\ChaosTools\\PHPDF\\src\\orbitdiagrams\\produce_orbitdiagram.jl:75\u001b[39m\n"
     ]
    },
    {
     "name": "stdout",
     "output_type": "stream",
     "text": [
      "parameter = -0.0968856"
     ]
    },
    {
     "name": "stderr",
     "output_type": "stream",
     "text": [
      "\u001b[33m\u001b[1m┌ \u001b[22m\u001b[39m\u001b[33m\u001b[1mWarning: \u001b[22m\u001b[39mFor parameter -0.0968854 The Poincaré surface of section did not have any points!\n",
      "\u001b[33m\u001b[1m└ \u001b[22m\u001b[39m\u001b[90m@ ChaosTools C:\\Users\\Alex\\.julia\\packages\\ChaosTools\\PHPDF\\src\\orbitdiagrams\\produce_orbitdiagram.jl:75\u001b[39m\n"
     ]
    },
    {
     "name": "stdout",
     "output_type": "stream",
     "text": [
      "\n",
      "parameter = -0.0968858"
     ]
    },
    {
     "name": "stderr",
     "output_type": "stream",
     "text": [
      "\u001b[33m\u001b[1m┌ \u001b[22m\u001b[39m\u001b[33m\u001b[1mWarning: \u001b[22m\u001b[39mFor parameter -0.0968856 The Poincaré surface of section did not have any points!\n",
      "\u001b[33m\u001b[1m└ \u001b[22m\u001b[39m\u001b[90m@ ChaosTools C:\\Users\\Alex\\.julia\\packages\\ChaosTools\\PHPDF\\src\\orbitdiagrams\\produce_orbitdiagram.jl:75\u001b[39m\n"
     ]
    },
    {
     "name": "stdout",
     "output_type": "stream",
     "text": [
      "\n",
      "parameter = -0.096886"
     ]
    },
    {
     "name": "stderr",
     "output_type": "stream",
     "text": [
      "\u001b[33m\u001b[1m┌ \u001b[22m\u001b[39m\u001b[33m\u001b[1mWarning: \u001b[22m\u001b[39mFor parameter -0.0968858 The Poincaré surface of section did not have any points!\n",
      "\u001b[33m\u001b[1m└ \u001b[22m\u001b[39m\u001b[90m@ ChaosTools C:\\Users\\Alex\\.julia\\packages\\ChaosTools\\PHPDF\\src\\orbitdiagrams\\produce_orbitdiagram.jl:75\u001b[39m\n"
     ]
    },
    {
     "name": "stdout",
     "output_type": "stream",
     "text": [
      "\n",
      "parameter = -0.0968862"
     ]
    },
    {
     "name": "stderr",
     "output_type": "stream",
     "text": [
      "\u001b[33m\u001b[1m┌ \u001b[22m\u001b[39m\u001b[33m\u001b[1mWarning: \u001b[22m\u001b[39mFor parameter -0.096886 The Poincaré surface of section did not have any points!\n",
      "\u001b[33m\u001b[1m└ \u001b[22m\u001b[39m\u001b[90m@ ChaosTools C:\\Users\\Alex\\.julia\\packages\\ChaosTools\\PHPDF\\src\\orbitdiagrams\\produce_orbitdiagram.jl:75\u001b[39m\n"
     ]
    },
    {
     "name": "stdout",
     "output_type": "stream",
     "text": [
      "\n"
     ]
    },
    {
     "name": "stderr",
     "output_type": "stream",
     "text": [
      "\u001b[33m\u001b[1m┌ \u001b[22m\u001b[39m\u001b[33m\u001b[1mWarning: \u001b[22m\u001b[39mFor parameter -0.0968862 The Poincaré surface of section did not have any points!\n",
      "\u001b[33m\u001b[1m└ \u001b[22m\u001b[39m\u001b[90m@ ChaosTools C:\\Users\\Alex\\.julia\\packages\\ChaosTools\\PHPDF\\src\\orbitdiagrams\\produce_orbitdiagram.jl:75\u001b[39m\n"
     ]
    },
    {
     "name": "stdout",
     "output_type": "stream",
     "text": [
      "parameter = -0.0968864\n",
      "parameter = -0.0968866\n"
     ]
    },
    {
     "name": "stderr",
     "output_type": "stream",
     "text": [
      "\u001b[33m\u001b[1m┌ \u001b[22m\u001b[39m\u001b[33m\u001b[1mWarning: \u001b[22m\u001b[39mFor parameter -0.0968864 The Poincaré surface of section did not have any points!\n",
      "\u001b[33m\u001b[1m└ \u001b[22m\u001b[39m\u001b[90m@ ChaosTools C:\\Users\\Alex\\.julia\\packages\\ChaosTools\\PHPDF\\src\\orbitdiagrams\\produce_orbitdiagram.jl:75\u001b[39m\n"
     ]
    },
    {
     "name": "stdout",
     "output_type": "stream",
     "text": [
      "parameter = -0.0968868\n"
     ]
    },
    {
     "name": "stderr",
     "output_type": "stream",
     "text": [
      "\u001b[33m\u001b[1m┌ \u001b[22m\u001b[39m\u001b[33m\u001b[1mWarning: \u001b[22m\u001b[39mFor parameter -0.0968866 The Poincaré surface of section did not have any points!\n",
      "\u001b[33m\u001b[1m└ \u001b[22m\u001b[39m\u001b[90m@ ChaosTools C:\\Users\\Alex\\.julia\\packages\\ChaosTools\\PHPDF\\src\\orbitdiagrams\\produce_orbitdiagram.jl:75\u001b[39m\n"
     ]
    },
    {
     "name": "stdout",
     "output_type": "stream",
     "text": [
      "parameter = -0.096887"
     ]
    },
    {
     "name": "stderr",
     "output_type": "stream",
     "text": [
      "\u001b[33m\u001b[1m┌ \u001b[22m\u001b[39m\u001b[33m\u001b[1mWarning: \u001b[22m\u001b[39mFor parameter -0.0968868 The Poincaré surface of section did not have any points!\n",
      "\u001b[33m\u001b[1m└ \u001b[22m\u001b[39m\u001b[90m@ ChaosTools C:\\Users\\Alex\\.julia\\packages\\ChaosTools\\PHPDF\\src\\orbitdiagrams\\produce_orbitdiagram.jl:75\u001b[39m\n"
     ]
    },
    {
     "name": "stdout",
     "output_type": "stream",
     "text": [
      "\n"
     ]
    },
    {
     "name": "stderr",
     "output_type": "stream",
     "text": [
      "\u001b[33m\u001b[1m┌ \u001b[22m\u001b[39m\u001b[33m\u001b[1mWarning: \u001b[22m\u001b[39mFor parameter -0.096887 The Poincaré surface of section did not have any points!\n",
      "\u001b[33m\u001b[1m└ \u001b[22m\u001b[39m\u001b[90m@ ChaosTools C:\\Users\\Alex\\.julia\\packages\\ChaosTools\\PHPDF\\src\\orbitdiagrams\\produce_orbitdiagram.jl:75\u001b[39m\n"
     ]
    },
    {
     "name": "stdout",
     "output_type": "stream",
     "text": [
      "parameter = -0.0968872\n",
      "parameter = -0.0968874"
     ]
    },
    {
     "name": "stderr",
     "output_type": "stream",
     "text": [
      "\u001b[33m\u001b[1m┌ \u001b[22m\u001b[39m\u001b[33m\u001b[1mWarning: \u001b[22m\u001b[39mFor parameter -0.0968872 The Poincaré surface of section did not have any points!\n",
      "\u001b[33m\u001b[1m└ \u001b[22m\u001b[39m\u001b[90m@ ChaosTools C:\\Users\\Alex\\.julia\\packages\\ChaosTools\\PHPDF\\src\\orbitdiagrams\\produce_orbitdiagram.jl:75\u001b[39m\n"
     ]
    },
    {
     "name": "stdout",
     "output_type": "stream",
     "text": [
      "\n",
      "parameter = -0.0968876"
     ]
    },
    {
     "name": "stderr",
     "output_type": "stream",
     "text": [
      "\u001b[33m\u001b[1m┌ \u001b[22m\u001b[39m\u001b[33m\u001b[1mWarning: \u001b[22m\u001b[39mFor parameter -0.0968874 The Poincaré surface of section did not have any points!\n",
      "\u001b[33m\u001b[1m└ \u001b[22m\u001b[39m\u001b[90m@ ChaosTools C:\\Users\\Alex\\.julia\\packages\\ChaosTools\\PHPDF\\src\\orbitdiagrams\\produce_orbitdiagram.jl:75\u001b[39m\n"
     ]
    },
    {
     "name": "stdout",
     "output_type": "stream",
     "text": [
      "\n",
      "parameter = -0.0968878"
     ]
    },
    {
     "name": "stderr",
     "output_type": "stream",
     "text": [
      "\u001b[33m\u001b[1m┌ \u001b[22m\u001b[39m\u001b[33m\u001b[1mWarning: \u001b[22m\u001b[39mFor parameter -0.0968876 The Poincaré surface of section did not have any points!\n",
      "\u001b[33m\u001b[1m└ \u001b[22m\u001b[39m\u001b[90m@ ChaosTools C:\\Users\\Alex\\.julia\\packages\\ChaosTools\\PHPDF\\src\\orbitdiagrams\\produce_orbitdiagram.jl:75\u001b[39m\n"
     ]
    },
    {
     "name": "stdout",
     "output_type": "stream",
     "text": [
      "\n",
      "parameter = -0.096888\n"
     ]
    },
    {
     "name": "stderr",
     "output_type": "stream",
     "text": [
      "\u001b[33m\u001b[1m┌ \u001b[22m\u001b[39m\u001b[33m\u001b[1mWarning: \u001b[22m\u001b[39mFor parameter -0.0968878 The Poincaré surface of section did not have any points!\n",
      "\u001b[33m\u001b[1m└ \u001b[22m\u001b[39m\u001b[90m@ ChaosTools C:\\Users\\Alex\\.julia\\packages\\ChaosTools\\PHPDF\\src\\orbitdiagrams\\produce_orbitdiagram.jl:75\u001b[39m\n",
      "\u001b[33m\u001b[1m┌ \u001b[22m\u001b[39m\u001b[33m\u001b[1mWarning: \u001b[22m\u001b[39mFor parameter -0.096888 The Poincaré surface of section did not have any points!\n",
      "\u001b[33m\u001b[1m└ \u001b[22m\u001b[39m\u001b[90m@ ChaosTools C:\\Users\\Alex\\.julia\\packages\\ChaosTools\\PHPDF\\src\\orbitdiagrams\\produce_orbitdiagram.jl:75\u001b[39m\n"
     ]
    },
    {
     "name": "stdout",
     "output_type": "stream",
     "text": [
      "parameter = -0.0968882\n",
      "parameter = -0.0968884"
     ]
    },
    {
     "name": "stderr",
     "output_type": "stream",
     "text": [
      "\u001b[33m\u001b[1m┌ \u001b[22m\u001b[39m\u001b[33m\u001b[1mWarning: \u001b[22m\u001b[39mFor parameter -0.0968882 The Poincaré surface of section did not have any points!\n",
      "\u001b[33m\u001b[1m└ \u001b[22m\u001b[39m\u001b[90m@ ChaosTools C:\\Users\\Alex\\.julia\\packages\\ChaosTools\\PHPDF\\src\\orbitdiagrams\\produce_orbitdiagram.jl:75\u001b[39m\n"
     ]
    },
    {
     "name": "stdout",
     "output_type": "stream",
     "text": [
      "\n",
      "parameter = -0.0968886\n"
     ]
    },
    {
     "name": "stderr",
     "output_type": "stream",
     "text": [
      "\u001b[33m\u001b[1m┌ \u001b[22m\u001b[39m\u001b[33m\u001b[1mWarning: \u001b[22m\u001b[39mFor parameter -0.0968884 The Poincaré surface of section did not have any points!\n",
      "\u001b[33m\u001b[1m└ \u001b[22m\u001b[39m\u001b[90m@ ChaosTools C:\\Users\\Alex\\.julia\\packages\\ChaosTools\\PHPDF\\src\\orbitdiagrams\\produce_orbitdiagram.jl:75\u001b[39m\n"
     ]
    },
    {
     "name": "stdout",
     "output_type": "stream",
     "text": [
      "parameter = -0.0968888"
     ]
    },
    {
     "name": "stderr",
     "output_type": "stream",
     "text": [
      "\u001b[33m\u001b[1m┌ \u001b[22m\u001b[39m\u001b[33m\u001b[1mWarning: \u001b[22m\u001b[39mFor parameter -0.0968886 The Poincaré surface of section did not have any points!\n",
      "\u001b[33m\u001b[1m└ \u001b[22m\u001b[39m\u001b[90m@ ChaosTools C:\\Users\\Alex\\.julia\\packages\\ChaosTools\\PHPDF\\src\\orbitdiagrams\\produce_orbitdiagram.jl:75\u001b[39m\n"
     ]
    },
    {
     "name": "stdout",
     "output_type": "stream",
     "text": [
      "\n",
      "parameter = -0.096889"
     ]
    },
    {
     "name": "stderr",
     "output_type": "stream",
     "text": [
      "\u001b[33m\u001b[1m┌ \u001b[22m\u001b[39m\u001b[33m\u001b[1mWarning: \u001b[22m\u001b[39mFor parameter -0.0968888 The Poincaré surface of section did not have any points!\n",
      "\u001b[33m\u001b[1m└ \u001b[22m\u001b[39m\u001b[90m@ ChaosTools C:\\Users\\Alex\\.julia\\packages\\ChaosTools\\PHPDF\\src\\orbitdiagrams\\produce_orbitdiagram.jl:75\u001b[39m\n"
     ]
    },
    {
     "name": "stdout",
     "output_type": "stream",
     "text": [
      "\n",
      "parameter = -0.0968892"
     ]
    },
    {
     "name": "stderr",
     "output_type": "stream",
     "text": [
      "\u001b[33m\u001b[1m┌ \u001b[22m\u001b[39m\u001b[33m\u001b[1mWarning: \u001b[22m\u001b[39mFor parameter -0.096889 The Poincaré surface of section did not have any points!\n",
      "\u001b[33m\u001b[1m└ \u001b[22m\u001b[39m\u001b[90m@ ChaosTools C:\\Users\\Alex\\.julia\\packages\\ChaosTools\\PHPDF\\src\\orbitdiagrams\\produce_orbitdiagram.jl:75\u001b[39m\n"
     ]
    },
    {
     "name": "stdout",
     "output_type": "stream",
     "text": [
      "\n",
      "parameter = -0.0968894\n"
     ]
    },
    {
     "name": "stderr",
     "output_type": "stream",
     "text": [
      "\u001b[33m\u001b[1m┌ \u001b[22m\u001b[39m\u001b[33m\u001b[1mWarning: \u001b[22m\u001b[39mFor parameter -0.0968892 The Poincaré surface of section did not have any points!\n",
      "\u001b[33m\u001b[1m└ \u001b[22m\u001b[39m\u001b[90m@ ChaosTools C:\\Users\\Alex\\.julia\\packages\\ChaosTools\\PHPDF\\src\\orbitdiagrams\\produce_orbitdiagram.jl:75\u001b[39m\n"
     ]
    },
    {
     "name": "stdout",
     "output_type": "stream",
     "text": [
      "parameter = -0.0968896"
     ]
    },
    {
     "name": "stderr",
     "output_type": "stream",
     "text": [
      "\u001b[33m\u001b[1m┌ \u001b[22m\u001b[39m\u001b[33m\u001b[1mWarning: \u001b[22m\u001b[39mFor parameter -0.0968894 The Poincaré surface of section did not have any points!\n",
      "\u001b[33m\u001b[1m└ \u001b[22m\u001b[39m\u001b[90m@ ChaosTools C:\\Users\\Alex\\.julia\\packages\\ChaosTools\\PHPDF\\src\\orbitdiagrams\\produce_orbitdiagram.jl:75\u001b[39m\n"
     ]
    },
    {
     "name": "stdout",
     "output_type": "stream",
     "text": [
      "\n",
      "parameter = -0.0968898\n"
     ]
    },
    {
     "name": "stderr",
     "output_type": "stream",
     "text": [
      "\u001b[33m\u001b[1m┌ \u001b[22m\u001b[39m\u001b[33m\u001b[1mWarning: \u001b[22m\u001b[39mFor parameter -0.0968896 The Poincaré surface of section did not have any points!\n",
      "\u001b[33m\u001b[1m└ \u001b[22m\u001b[39m\u001b[90m@ ChaosTools C:\\Users\\Alex\\.julia\\packages\\ChaosTools\\PHPDF\\src\\orbitdiagrams\\produce_orbitdiagram.jl:75\u001b[39m\n"
     ]
    },
    {
     "name": "stdout",
     "output_type": "stream",
     "text": [
      "parameter = -0.09689"
     ]
    },
    {
     "name": "stderr",
     "output_type": "stream",
     "text": [
      "\u001b[33m\u001b[1m┌ \u001b[22m\u001b[39m\u001b[33m\u001b[1mWarning: \u001b[22m\u001b[39mFor parameter -0.0968898 The Poincaré surface of section did not have any points!\n",
      "\u001b[33m\u001b[1m└ \u001b[22m\u001b[39m\u001b[90m@ ChaosTools C:\\Users\\Alex\\.julia\\packages\\ChaosTools\\PHPDF\\src\\orbitdiagrams\\produce_orbitdiagram.jl:75\u001b[39m\n"
     ]
    },
    {
     "name": "stdout",
     "output_type": "stream",
     "text": [
      "\n",
      "parameter = -0.0968902"
     ]
    },
    {
     "name": "stderr",
     "output_type": "stream",
     "text": [
      "\u001b[33m\u001b[1m┌ \u001b[22m\u001b[39m\u001b[33m\u001b[1mWarning: \u001b[22m\u001b[39mFor parameter -0.09689 The Poincaré surface of section did not have any points!\n",
      "\u001b[33m\u001b[1m└ \u001b[22m\u001b[39m\u001b[90m@ ChaosTools C:\\Users\\Alex\\.julia\\packages\\ChaosTools\\PHPDF\\src\\orbitdiagrams\\produce_orbitdiagram.jl:75\u001b[39m\n"
     ]
    },
    {
     "name": "stdout",
     "output_type": "stream",
     "text": [
      "\n",
      "parameter = -0.0968904"
     ]
    },
    {
     "name": "stderr",
     "output_type": "stream",
     "text": [
      "\u001b[33m\u001b[1m┌ \u001b[22m\u001b[39m\u001b[33m\u001b[1mWarning: \u001b[22m\u001b[39mFor parameter -0.0968902 The Poincaré surface of section did not have any points!\n",
      "\u001b[33m\u001b[1m└ \u001b[22m\u001b[39m\u001b[90m@ ChaosTools C:\\Users\\Alex\\.julia\\packages\\ChaosTools\\PHPDF\\src\\orbitdiagrams\\produce_orbitdiagram.jl:75\u001b[39m\n"
     ]
    },
    {
     "name": "stdout",
     "output_type": "stream",
     "text": [
      "\n",
      "parameter = -0.0968906"
     ]
    },
    {
     "name": "stderr",
     "output_type": "stream",
     "text": [
      "\u001b[33m\u001b[1m┌ \u001b[22m\u001b[39m\u001b[33m\u001b[1mWarning: \u001b[22m\u001b[39mFor parameter -0.0968904 The Poincaré surface of section did not have any points!\n",
      "\u001b[33m\u001b[1m└ \u001b[22m\u001b[39m\u001b[90m@ ChaosTools C:\\Users\\Alex\\.julia\\packages\\ChaosTools\\PHPDF\\src\\orbitdiagrams\\produce_orbitdiagram.jl:75\u001b[39m\n"
     ]
    },
    {
     "name": "stdout",
     "output_type": "stream",
     "text": [
      "\n",
      "parameter = -0.0968908"
     ]
    },
    {
     "name": "stderr",
     "output_type": "stream",
     "text": [
      "\u001b[33m\u001b[1m┌ \u001b[22m\u001b[39m\u001b[33m\u001b[1mWarning: \u001b[22m\u001b[39mFor parameter -0.0968906 The Poincaré surface of section did not have any points!\n",
      "\u001b[33m\u001b[1m└ \u001b[22m\u001b[39m\u001b[90m@ ChaosTools C:\\Users\\Alex\\.julia\\packages\\ChaosTools\\PHPDF\\src\\orbitdiagrams\\produce_orbitdiagram.jl:75\u001b[39m\n"
     ]
    },
    {
     "name": "stdout",
     "output_type": "stream",
     "text": [
      "\n",
      "parameter = -0.096891\n"
     ]
    },
    {
     "name": "stderr",
     "output_type": "stream",
     "text": [
      "\u001b[33m\u001b[1m┌ \u001b[22m\u001b[39m\u001b[33m\u001b[1mWarning: \u001b[22m\u001b[39mFor parameter -0.0968908 The Poincaré surface of section did not have any points!\n",
      "\u001b[33m\u001b[1m└ \u001b[22m\u001b[39m\u001b[90m@ ChaosTools C:\\Users\\Alex\\.julia\\packages\\ChaosTools\\PHPDF\\src\\orbitdiagrams\\produce_orbitdiagram.jl:75\u001b[39m\n"
     ]
    },
    {
     "name": "stdout",
     "output_type": "stream",
     "text": [
      "parameter = -0.0968912"
     ]
    },
    {
     "name": "stderr",
     "output_type": "stream",
     "text": [
      "\u001b[33m\u001b[1m┌ \u001b[22m\u001b[39m\u001b[33m\u001b[1mWarning: \u001b[22m\u001b[39mFor parameter -0.096891 The Poincaré surface of section did not have any points!\n",
      "\u001b[33m\u001b[1m└ \u001b[22m\u001b[39m\u001b[90m@ ChaosTools C:\\Users\\Alex\\.julia\\packages\\ChaosTools\\PHPDF\\src\\orbitdiagrams\\produce_orbitdiagram.jl:75\u001b[39m\n"
     ]
    },
    {
     "name": "stdout",
     "output_type": "stream",
     "text": [
      "\n",
      "parameter = -0.0968914\n"
     ]
    },
    {
     "name": "stderr",
     "output_type": "stream",
     "text": [
      "\u001b[33m\u001b[1m┌ \u001b[22m\u001b[39m\u001b[33m\u001b[1mWarning: \u001b[22m\u001b[39mFor parameter -0.0968912 The Poincaré surface of section did not have any points!\n",
      "\u001b[33m\u001b[1m└ \u001b[22m\u001b[39m\u001b[90m@ ChaosTools C:\\Users\\Alex\\.julia\\packages\\ChaosTools\\PHPDF\\src\\orbitdiagrams\\produce_orbitdiagram.jl:75\u001b[39m\n"
     ]
    },
    {
     "name": "stdout",
     "output_type": "stream",
     "text": [
      "parameter = -0.0968916"
     ]
    },
    {
     "name": "stderr",
     "output_type": "stream",
     "text": [
      "\u001b[33m\u001b[1m┌ \u001b[22m\u001b[39m\u001b[33m\u001b[1mWarning: \u001b[22m\u001b[39mFor parameter -0.0968914 The Poincaré surface of section did not have any points!\n",
      "\u001b[33m\u001b[1m└ \u001b[22m\u001b[39m\u001b[90m@ ChaosTools C:\\Users\\Alex\\.julia\\packages\\ChaosTools\\PHPDF\\src\\orbitdiagrams\\produce_orbitdiagram.jl:75\u001b[39m\n"
     ]
    },
    {
     "name": "stdout",
     "output_type": "stream",
     "text": [
      "\n",
      "parameter = -0.0968918\n"
     ]
    },
    {
     "name": "stderr",
     "output_type": "stream",
     "text": [
      "\u001b[33m\u001b[1m┌ \u001b[22m\u001b[39m\u001b[33m\u001b[1mWarning: \u001b[22m\u001b[39mFor parameter -0.0968916 The Poincaré surface of section did not have any points!\n",
      "\u001b[33m\u001b[1m└ \u001b[22m\u001b[39m\u001b[90m@ ChaosTools C:\\Users\\Alex\\.julia\\packages\\ChaosTools\\PHPDF\\src\\orbitdiagrams\\produce_orbitdiagram.jl:75\u001b[39m\n"
     ]
    },
    {
     "name": "stdout",
     "output_type": "stream",
     "text": [
      "parameter = -0.096892"
     ]
    },
    {
     "name": "stderr",
     "output_type": "stream",
     "text": [
      "\u001b[33m\u001b[1m┌ \u001b[22m\u001b[39m\u001b[33m\u001b[1mWarning: \u001b[22m\u001b[39mFor parameter -0.0968918 The Poincaré surface of section did not have any points!\n",
      "\u001b[33m\u001b[1m└ \u001b[22m\u001b[39m\u001b[90m@ ChaosTools C:\\Users\\Alex\\.julia\\packages\\ChaosTools\\PHPDF\\src\\orbitdiagrams\\produce_orbitdiagram.jl:75\u001b[39m\n"
     ]
    },
    {
     "name": "stdout",
     "output_type": "stream",
     "text": [
      "\n",
      "parameter = -0.0968922\n"
     ]
    },
    {
     "name": "stderr",
     "output_type": "stream",
     "text": [
      "\u001b[33m\u001b[1m┌ \u001b[22m\u001b[39m\u001b[33m\u001b[1mWarning: \u001b[22m\u001b[39mFor parameter -0.096892 The Poincaré surface of section did not have any points!\n",
      "\u001b[33m\u001b[1m└ \u001b[22m\u001b[39m\u001b[90m@ ChaosTools C:\\Users\\Alex\\.julia\\packages\\ChaosTools\\PHPDF\\src\\orbitdiagrams\\produce_orbitdiagram.jl:75\u001b[39m\n"
     ]
    },
    {
     "name": "stdout",
     "output_type": "stream",
     "text": [
      "parameter = -0.0968924\n"
     ]
    },
    {
     "name": "stderr",
     "output_type": "stream",
     "text": [
      "\u001b[33m\u001b[1m┌ \u001b[22m\u001b[39m\u001b[33m\u001b[1mWarning: \u001b[22m\u001b[39mFor parameter -0.0968922 The Poincaré surface of section did not have any points!\n",
      "\u001b[33m\u001b[1m└ \u001b[22m\u001b[39m\u001b[90m@ ChaosTools C:\\Users\\Alex\\.julia\\packages\\ChaosTools\\PHPDF\\src\\orbitdiagrams\\produce_orbitdiagram.jl:75\u001b[39m\n"
     ]
    },
    {
     "name": "stdout",
     "output_type": "stream",
     "text": [
      "parameter = -0.0968926\n"
     ]
    },
    {
     "name": "stderr",
     "output_type": "stream",
     "text": [
      "\u001b[33m\u001b[1m┌ \u001b[22m\u001b[39m\u001b[33m\u001b[1mWarning: \u001b[22m\u001b[39mFor parameter -0.0968924 The Poincaré surface of section did not have any points!\n",
      "\u001b[33m\u001b[1m└ \u001b[22m\u001b[39m\u001b[90m@ ChaosTools C:\\Users\\Alex\\.julia\\packages\\ChaosTools\\PHPDF\\src\\orbitdiagrams\\produce_orbitdiagram.jl:75\u001b[39m\n"
     ]
    },
    {
     "name": "stdout",
     "output_type": "stream",
     "text": [
      "parameter = -0.0968928"
     ]
    },
    {
     "name": "stderr",
     "output_type": "stream",
     "text": [
      "\u001b[33m\u001b[1m┌ \u001b[22m\u001b[39m\u001b[33m\u001b[1mWarning: \u001b[22m\u001b[39mFor parameter -0.0968926 The Poincaré surface of section did not have any points!\n",
      "\u001b[33m\u001b[1m└ \u001b[22m\u001b[39m\u001b[90m@ ChaosTools C:\\Users\\Alex\\.julia\\packages\\ChaosTools\\PHPDF\\src\\orbitdiagrams\\produce_orbitdiagram.jl:75\u001b[39m\n"
     ]
    },
    {
     "name": "stdout",
     "output_type": "stream",
     "text": [
      "\n",
      "parameter = -0.096893\n"
     ]
    },
    {
     "name": "stderr",
     "output_type": "stream",
     "text": [
      "\u001b[33m\u001b[1m┌ \u001b[22m\u001b[39m\u001b[33m\u001b[1mWarning: \u001b[22m\u001b[39mFor parameter -0.0968928 The Poincaré surface of section did not have any points!\n",
      "\u001b[33m\u001b[1m└ \u001b[22m\u001b[39m\u001b[90m@ ChaosTools C:\\Users\\Alex\\.julia\\packages\\ChaosTools\\PHPDF\\src\\orbitdiagrams\\produce_orbitdiagram.jl:75\u001b[39m\n"
     ]
    },
    {
     "name": "stdout",
     "output_type": "stream",
     "text": [
      "parameter = -0.0968932"
     ]
    },
    {
     "name": "stderr",
     "output_type": "stream",
     "text": [
      "\u001b[33m\u001b[1m┌ \u001b[22m\u001b[39m\u001b[33m\u001b[1mWarning: \u001b[22m\u001b[39mFor parameter -0.096893 The Poincaré surface of section did not have any points!\n",
      "\u001b[33m\u001b[1m└ \u001b[22m\u001b[39m\u001b[90m@ ChaosTools C:\\Users\\Alex\\.julia\\packages\\ChaosTools\\PHPDF\\src\\orbitdiagrams\\produce_orbitdiagram.jl:75\u001b[39m\n"
     ]
    },
    {
     "name": "stdout",
     "output_type": "stream",
     "text": [
      "\n",
      "parameter = -0.0968934"
     ]
    },
    {
     "name": "stderr",
     "output_type": "stream",
     "text": [
      "\u001b[33m\u001b[1m┌ \u001b[22m\u001b[39m\u001b[33m\u001b[1mWarning: \u001b[22m\u001b[39mFor parameter -0.0968932 The Poincaré surface of section did not have any points!\n",
      "\u001b[33m\u001b[1m└ \u001b[22m\u001b[39m\u001b[90m@ ChaosTools C:\\Users\\Alex\\.julia\\packages\\ChaosTools\\PHPDF\\src\\orbitdiagrams\\produce_orbitdiagram.jl:75\u001b[39m\n"
     ]
    },
    {
     "name": "stdout",
     "output_type": "stream",
     "text": [
      "\n",
      "parameter = -0.0968936\n"
     ]
    },
    {
     "name": "stderr",
     "output_type": "stream",
     "text": [
      "\u001b[33m\u001b[1m┌ \u001b[22m\u001b[39m\u001b[33m\u001b[1mWarning: \u001b[22m\u001b[39mFor parameter -0.0968934 The Poincaré surface of section did not have any points!\n",
      "\u001b[33m\u001b[1m└ \u001b[22m\u001b[39m\u001b[90m@ ChaosTools C:\\Users\\Alex\\.julia\\packages\\ChaosTools\\PHPDF\\src\\orbitdiagrams\\produce_orbitdiagram.jl:75\u001b[39m\n"
     ]
    },
    {
     "name": "stdout",
     "output_type": "stream",
     "text": [
      "parameter = -0.0968938"
     ]
    },
    {
     "name": "stderr",
     "output_type": "stream",
     "text": [
      "\u001b[33m\u001b[1m┌ \u001b[22m\u001b[39m\u001b[33m\u001b[1mWarning: \u001b[22m\u001b[39mFor parameter -0.0968936 The Poincaré surface of section did not have any points!\n",
      "\u001b[33m\u001b[1m└ \u001b[22m\u001b[39m\u001b[90m@ ChaosTools C:\\Users\\Alex\\.julia\\packages\\ChaosTools\\PHPDF\\src\\orbitdiagrams\\produce_orbitdiagram.jl:75\u001b[39m\n"
     ]
    },
    {
     "name": "stdout",
     "output_type": "stream",
     "text": [
      "\n",
      "parameter = -0.096894"
     ]
    },
    {
     "name": "stderr",
     "output_type": "stream",
     "text": [
      "\u001b[33m\u001b[1m┌ \u001b[22m\u001b[39m\u001b[33m\u001b[1mWarning: \u001b[22m\u001b[39mFor parameter -0.0968938 The Poincaré surface of section did not have any points!\n",
      "\u001b[33m\u001b[1m└ \u001b[22m\u001b[39m\u001b[90m@ ChaosTools C:\\Users\\Alex\\.julia\\packages\\ChaosTools\\PHPDF\\src\\orbitdiagrams\\produce_orbitdiagram.jl:75\u001b[39m\n"
     ]
    },
    {
     "name": "stdout",
     "output_type": "stream",
     "text": [
      "\n",
      "parameter = -0.0968942\n"
     ]
    },
    {
     "name": "stderr",
     "output_type": "stream",
     "text": [
      "\u001b[33m\u001b[1m┌ \u001b[22m\u001b[39m\u001b[33m\u001b[1mWarning: \u001b[22m\u001b[39mFor parameter -0.096894 The Poincaré surface of section did not have any points!\n",
      "\u001b[33m\u001b[1m└ \u001b[22m\u001b[39m\u001b[90m@ ChaosTools C:\\Users\\Alex\\.julia\\packages\\ChaosTools\\PHPDF\\src\\orbitdiagrams\\produce_orbitdiagram.jl:75\u001b[39m\n"
     ]
    },
    {
     "name": "stdout",
     "output_type": "stream",
     "text": [
      "parameter = -0.0968944"
     ]
    },
    {
     "name": "stderr",
     "output_type": "stream",
     "text": [
      "\u001b[33m\u001b[1m┌ \u001b[22m\u001b[39m\u001b[33m\u001b[1mWarning: \u001b[22m\u001b[39mFor parameter -0.0968942 The Poincaré surface of section did not have any points!\n",
      "\u001b[33m\u001b[1m└ \u001b[22m\u001b[39m\u001b[90m@ ChaosTools C:\\Users\\Alex\\.julia\\packages\\ChaosTools\\PHPDF\\src\\orbitdiagrams\\produce_orbitdiagram.jl:75\u001b[39m\n"
     ]
    },
    {
     "name": "stdout",
     "output_type": "stream",
     "text": [
      "\n",
      "parameter = -0.0968946\n"
     ]
    },
    {
     "name": "stderr",
     "output_type": "stream",
     "text": [
      "\u001b[33m\u001b[1m┌ \u001b[22m\u001b[39m\u001b[33m\u001b[1mWarning: \u001b[22m\u001b[39mFor parameter -0.0968944 The Poincaré surface of section did not have any points!\n",
      "\u001b[33m\u001b[1m└ \u001b[22m\u001b[39m\u001b[90m@ ChaosTools C:\\Users\\Alex\\.julia\\packages\\ChaosTools\\PHPDF\\src\\orbitdiagrams\\produce_orbitdiagram.jl:75\u001b[39m\n"
     ]
    },
    {
     "name": "stdout",
     "output_type": "stream",
     "text": [
      "parameter = -0.0968948"
     ]
    },
    {
     "name": "stderr",
     "output_type": "stream",
     "text": [
      "\u001b[33m\u001b[1m┌ \u001b[22m\u001b[39m\u001b[33m\u001b[1mWarning: \u001b[22m\u001b[39mFor parameter -0.0968946 The Poincaré surface of section did not have any points!\n",
      "\u001b[33m\u001b[1m└ \u001b[22m\u001b[39m\u001b[90m@ ChaosTools C:\\Users\\Alex\\.julia\\packages\\ChaosTools\\PHPDF\\src\\orbitdiagrams\\produce_orbitdiagram.jl:75\u001b[39m\n"
     ]
    },
    {
     "name": "stdout",
     "output_type": "stream",
     "text": [
      "\n",
      "parameter = -0.096895"
     ]
    },
    {
     "name": "stderr",
     "output_type": "stream",
     "text": [
      "\u001b[33m\u001b[1m┌ \u001b[22m\u001b[39m\u001b[33m\u001b[1mWarning: \u001b[22m\u001b[39mFor parameter -0.0968948 The Poincaré surface of section did not have any points!\n",
      "\u001b[33m\u001b[1m└ \u001b[22m\u001b[39m\u001b[90m@ ChaosTools C:\\Users\\Alex\\.julia\\packages\\ChaosTools\\PHPDF\\src\\orbitdiagrams\\produce_orbitdiagram.jl:75\u001b[39m\n"
     ]
    },
    {
     "name": "stdout",
     "output_type": "stream",
     "text": [
      "\n",
      "parameter = -0.0968952"
     ]
    },
    {
     "name": "stderr",
     "output_type": "stream",
     "text": [
      "\u001b[33m\u001b[1m┌ \u001b[22m\u001b[39m\u001b[33m\u001b[1mWarning: \u001b[22m\u001b[39mFor parameter -0.096895 The Poincaré surface of section did not have any points!\n",
      "\u001b[33m\u001b[1m└ \u001b[22m\u001b[39m\u001b[90m@ ChaosTools C:\\Users\\Alex\\.julia\\packages\\ChaosTools\\PHPDF\\src\\orbitdiagrams\\produce_orbitdiagram.jl:75\u001b[39m\n"
     ]
    },
    {
     "name": "stdout",
     "output_type": "stream",
     "text": [
      "\n",
      "parameter = -0.0968954"
     ]
    },
    {
     "name": "stderr",
     "output_type": "stream",
     "text": [
      "\u001b[33m\u001b[1m┌ \u001b[22m\u001b[39m\u001b[33m\u001b[1mWarning: \u001b[22m\u001b[39mFor parameter -0.0968952 The Poincaré surface of section did not have any points!\n",
      "\u001b[33m\u001b[1m└ \u001b[22m\u001b[39m\u001b[90m@ ChaosTools C:\\Users\\Alex\\.julia\\packages\\ChaosTools\\PHPDF\\src\\orbitdiagrams\\produce_orbitdiagram.jl:75\u001b[39m\n"
     ]
    },
    {
     "name": "stdout",
     "output_type": "stream",
     "text": [
      "\n",
      "parameter = -0.0968956\n"
     ]
    },
    {
     "name": "stderr",
     "output_type": "stream",
     "text": [
      "\u001b[33m\u001b[1m┌ \u001b[22m\u001b[39m\u001b[33m\u001b[1mWarning: \u001b[22m\u001b[39mFor parameter -0.0968954 The Poincaré surface of section did not have any points!\n",
      "\u001b[33m\u001b[1m└ \u001b[22m\u001b[39m\u001b[90m@ ChaosTools C:\\Users\\Alex\\.julia\\packages\\ChaosTools\\PHPDF\\src\\orbitdiagrams\\produce_orbitdiagram.jl:75\u001b[39m\n"
     ]
    },
    {
     "name": "stdout",
     "output_type": "stream",
     "text": [
      "parameter = -0.0968958"
     ]
    },
    {
     "name": "stderr",
     "output_type": "stream",
     "text": [
      "\u001b[33m\u001b[1m┌ \u001b[22m\u001b[39m\u001b[33m\u001b[1mWarning: \u001b[22m\u001b[39mFor parameter -0.0968956 The Poincaré surface of section did not have any points!\n",
      "\u001b[33m\u001b[1m└ \u001b[22m\u001b[39m\u001b[90m@ ChaosTools C:\\Users\\Alex\\.julia\\packages\\ChaosTools\\PHPDF\\src\\orbitdiagrams\\produce_orbitdiagram.jl:75\u001b[39m\n"
     ]
    },
    {
     "name": "stdout",
     "output_type": "stream",
     "text": [
      "\n",
      "parameter = -0.096896\n"
     ]
    },
    {
     "name": "stderr",
     "output_type": "stream",
     "text": [
      "\u001b[33m\u001b[1m┌ \u001b[22m\u001b[39m\u001b[33m\u001b[1mWarning: \u001b[22m\u001b[39mFor parameter -0.0968958 The Poincaré surface of section did not have any points!\n",
      "\u001b[33m\u001b[1m└ \u001b[22m\u001b[39m\u001b[90m@ ChaosTools C:\\Users\\Alex\\.julia\\packages\\ChaosTools\\PHPDF\\src\\orbitdiagrams\\produce_orbitdiagram.jl:75\u001b[39m\n"
     ]
    },
    {
     "name": "stdout",
     "output_type": "stream",
     "text": [
      "parameter = -0.0968962\n"
     ]
    },
    {
     "name": "stderr",
     "output_type": "stream",
     "text": [
      "\u001b[33m\u001b[1m┌ \u001b[22m\u001b[39m\u001b[33m\u001b[1mWarning: \u001b[22m\u001b[39mFor parameter -0.096896 The Poincaré surface of section did not have any points!\n",
      "\u001b[33m\u001b[1m└ \u001b[22m\u001b[39m\u001b[90m@ ChaosTools C:\\Users\\Alex\\.julia\\packages\\ChaosTools\\PHPDF\\src\\orbitdiagrams\\produce_orbitdiagram.jl:75\u001b[39m\n"
     ]
    },
    {
     "name": "stdout",
     "output_type": "stream",
     "text": [
      "parameter = -0.0968964"
     ]
    },
    {
     "name": "stderr",
     "output_type": "stream",
     "text": [
      "\u001b[33m\u001b[1m┌ \u001b[22m\u001b[39m\u001b[33m\u001b[1mWarning: \u001b[22m\u001b[39mFor parameter -0.0968962 The Poincaré surface of section did not have any points!\n",
      "\u001b[33m\u001b[1m└ \u001b[22m\u001b[39m\u001b[90m@ ChaosTools C:\\Users\\Alex\\.julia\\packages\\ChaosTools\\PHPDF\\src\\orbitdiagrams\\produce_orbitdiagram.jl:75\u001b[39m\n"
     ]
    },
    {
     "name": "stdout",
     "output_type": "stream",
     "text": [
      "\n",
      "parameter = -0.0968966"
     ]
    },
    {
     "name": "stderr",
     "output_type": "stream",
     "text": [
      "\u001b[33m\u001b[1m┌ \u001b[22m\u001b[39m\u001b[33m\u001b[1mWarning: \u001b[22m\u001b[39mFor parameter -0.0968964 The Poincaré surface of section did not have any points!\n",
      "\u001b[33m\u001b[1m└ \u001b[22m\u001b[39m\u001b[90m@ ChaosTools C:\\Users\\Alex\\.julia\\packages\\ChaosTools\\PHPDF\\src\\orbitdiagrams\\produce_orbitdiagram.jl:75\u001b[39m\n"
     ]
    }
   ],
   "source": [
    "idx_save = 2\n",
    "output = produce_orbitdiagram(ds, surface, idx_save,\n",
    "                        idx_control_parameter, I0range;\n",
    "                        tfinal = t, Ttr = tt,\n",
    "                        printparams = true,\n",
    "                        diffeq = integ_set, rootkw = setting_root\n",
    "                        );"
   ]
  },
  {
   "cell_type": "code",
   "execution_count": null,
   "metadata": {},
   "outputs": [],
   "source": [
    "f = Figure(resolution = (1200, 700))\n",
    "axis = Axis(f[1,1]; xlabel = L\"I_0\", ylabel = L\"X\")\n",
    "for (j, p) in enumerate(I0range)\n",
    "    scatter!(axis, fill(p, length(output[j])), output[j]; color = (\"blue\", 1.0), markersize = 2.0)\n",
    "end\n",
    "f"
   ]
  }
 ],
 "metadata": {
  "kernelspec": {
   "display_name": "Julia 1.8.5",
   "language": "julia",
   "name": "julia-1.8"
  },
  "language_info": {
   "file_extension": ".jl",
   "mimetype": "application/julia",
   "name": "julia",
   "version": "1.8.5"
  }
 },
 "nbformat": 4,
 "nbformat_minor": 2
}
