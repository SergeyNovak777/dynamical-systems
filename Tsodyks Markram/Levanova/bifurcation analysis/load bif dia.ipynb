{
 "cells": [
  {
   "cell_type": "code",
   "execution_count": 1,
   "id": "63c1ae94",
   "metadata": {},
   "outputs": [],
   "source": [
    "using JLD, CairoMakie"
   ]
  },
  {
   "cell_type": "code",
   "execution_count": 3,
   "id": "3194b533",
   "metadata": {},
   "outputs": [],
   "source": [
    "I0range = range( -0.09639, -0.0969, step = -0.0000001 );"
   ]
  },
  {
   "cell_type": "code",
   "execution_count": 4,
   "id": "e247d6ed",
   "metadata": {},
   "outputs": [
    {
     "data": {
      "text/plain": [
       "5101"
      ]
     },
     "execution_count": 4,
     "metadata": {},
     "output_type": "execute_result"
    }
   ],
   "source": [
    "length(I0range)"
   ]
  },
  {
   "cell_type": "code",
   "execution_count": 62,
   "id": "dc1befa9",
   "metadata": {},
   "outputs": [
    {
     "data": {
      "text/plain": [
       "-0.0963914"
      ]
     },
     "execution_count": 62,
     "metadata": {},
     "output_type": "execute_result"
    }
   ],
   "source": [
    "I0range[15]"
   ]
  },
  {
   "cell_type": "code",
   "execution_count": 7,
   "id": "18632071",
   "metadata": {},
   "outputs": [
    {
     "data": {
      "text/plain": [
       "5101"
      ]
     },
     "execution_count": 7,
     "metadata": {},
     "output_type": "execute_result"
    }
   ],
   "source": [
    "X = load(\"x_with_step_-1e7.jld\")[\"data\"];\n",
    "length(X)"
   ]
  },
  {
   "cell_type": "code",
   "execution_count": null,
   "id": "0da77451",
   "metadata": {},
   "outputs": [],
   "source": [
    "idx_s, idx_f = 1, 15\n",
    "\n",
    "f = Figure(resolution = (1200, 700))\n",
    "axis = Axis(f[1,1]; xlabel = L\"I_0\", ylabel = L\"X\", xlabelsize = 30, ylabelsize = 30,\n",
    "            xticklabelsize = 25, yticklabelsize = 25)\n",
    "for (j, p) in enumerate(I0range[idx_s:idx_f])\n",
    "    scatter!(axis, fill(p, length(X[j])), X[j]; color = (\"blue\", 0.5), markersize = 2.0)\n",
    "end\n",
    "\n",
    "# ylims!(axis, 0.860, 0.864)\n",
    "# xlims!(axis, -0.096394,-0.09639)\n",
    "\n",
    "f"
   ]
  }
 ],
 "metadata": {
  "kernelspec": {
   "display_name": "Julia 1.8.5",
   "language": "julia",
   "name": "julia-1.8"
  },
  "language_info": {
   "file_extension": ".jl",
   "mimetype": "application/julia",
   "name": "julia",
   "version": "1.8.5"
  }
 },
 "nbformat": 4,
 "nbformat_minor": 5
}
