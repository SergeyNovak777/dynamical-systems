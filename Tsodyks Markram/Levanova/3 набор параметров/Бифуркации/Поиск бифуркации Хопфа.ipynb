{
 "cells": [
  {
   "cell_type": "code",
   "execution_count": 11,
   "id": "a1705f26",
   "metadata": {},
   "outputs": [
    {
     "name": "stderr",
     "output_type": "stream",
     "text": [
      "\u001b[32m\u001b[1m  Activating\u001b[22m\u001b[39m project at `C:\\Users\\Alex\\Desktop\\repo\\2612\\0903\\dynamical-systems\\env\\bifurcation`\n"
     ]
    }
   ],
   "source": [
    "using Pkg\n",
    "Pkg.activate(\"C:\\\\Users\\\\Alex\\\\Desktop\\\\repo\\\\2612\\\\0903\\\\dynamical-systems\\\\env\\\\bifurcation\")"
   ]
  },
  {
   "cell_type": "code",
   "execution_count": 49,
   "id": "881e387c",
   "metadata": {},
   "outputs": [],
   "source": [
    "using Setfield, BifurcationKit, Parameters, LinearAlgebra"
   ]
  },
  {
   "cell_type": "code",
   "execution_count": 50,
   "id": "e9b1b11b",
   "metadata": {},
   "outputs": [],
   "source": [
    "function TM!(du, u, p, t)\n",
    "    U(y) = p[8] + p[9] / ( 1.0 + exp( -50.0 * (y - p[7]) ) )\n",
    "    σ(x) = 1.0 / ( 1.0 + exp( -20.0 * (x-p[6]) ) )\n",
    "    du[1] = (-u[1] + p[1] * log( 1.0 + exp( (p[5] * U(u[3]) * u[2] * u[1] + p[11]  ) / (p[1]) ) ) ) / p[2]\n",
    "    du[2] = (1.0 - u[2])/p[3] - U(u[3])*u[2]*u[1]\n",
    "    du[3] = (-u[3])/p[4] + p[10] * σ(u[2])\n",
    "    du\n",
    "end\n",
    "TM(u,p) = TM!(similar(u),u,p,0)\n",
    "BK = BifurcationKit\n",
    "norminf(x) =  norm(x, Inf);"
   ]
  },
  {
   "cell_type": "code",
   "execution_count": 51,
   "id": "9d9fa5f2",
   "metadata": {},
   "outputs": [],
   "source": [
    "τ = 0.013;  τD = 0.080;  τy = 3.3;  J = 3.07;  β = 0.300\n",
    "xthr = 0.75; ythr = 0.4\n",
    "α = 1.58; ΔU0 = 0.305;\n",
    "U0 = 0.3; I0 = 0.0;"
   ]
  },
  {
   "cell_type": "code",
   "execution_count": 52,
   "id": "8307dd91",
   "metadata": {},
   "outputs": [],
   "source": [
    "p = [α, τ, τD, τy, J, xthr, ythr, U0, ΔU0, β, I0];"
   ]
  },
  {
   "cell_type": "code",
   "execution_count": 61,
   "id": "a7bae4c6",
   "metadata": {},
   "outputs": [],
   "source": [
    "u0 =  [8.641098394596327, 0.7311489447632817, 0.40277711511113845];"
   ]
  },
  {
   "cell_type": "code",
   "execution_count": 62,
   "id": "97f2db96",
   "metadata": {},
   "outputs": [
    {
     "data": {
      "text/plain": [
       "┌─ Bifurcation Problem with uType \u001b[36m\u001b[1mVector{Float64}\u001b[22m\u001b[39m\n",
       "├─ Inplace:  \u001b[36m\u001b[1mfalse\u001b[22m\u001b[39m\n",
       "├─ Symmetric: \u001b[36m\u001b[1mfalse\u001b[22m\u001b[39m\n",
       "└─ Parameter: \u001b[36m\u001b[1mp\u001b[22m\u001b[39m"
      ]
     },
     "execution_count": 62,
     "metadata": {},
     "output_type": "execute_result"
    }
   ],
   "source": [
    "prob = BK.BifurcationProblem(TM, u0, p, (@lens _[11]);\n",
    "            recordFromSolution = (u, p) -> (E = u[1], x = u[2], y = u[3]))"
   ]
  }
 ],
 "metadata": {
  "kernelspec": {
   "display_name": "Julia 1.8.5",
   "language": "julia",
   "name": "julia-1.8"
  },
  "language_info": {
   "file_extension": ".jl",
   "mimetype": "application/julia",
   "name": "julia",
   "version": "1.8.5"
  }
 },
 "nbformat": 4,
 "nbformat_minor": 5
}
