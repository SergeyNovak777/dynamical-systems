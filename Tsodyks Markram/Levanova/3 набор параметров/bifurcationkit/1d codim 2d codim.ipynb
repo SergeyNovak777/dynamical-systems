{
 "cells": [
  {
   "cell_type": "code",
   "execution_count": 1,
   "id": "0aa89733",
   "metadata": {},
   "outputs": [
    {
     "name": "stderr",
     "output_type": "stream",
     "text": [
      "\u001b[32m\u001b[1m  Activating\u001b[22m\u001b[39m project at `C:\\Users\\Alex\\Desktop\\dynamical-systems\\env\\bifurcation`\n"
     ]
    }
   ],
   "source": [
    "user = \"Alex\"\n",
    "pathtorepo = \"C:\\\\Users\\\\\" *user *  \"\\\\Desktop\\\\\"\n",
    "using Pkg\n",
    "Pkg.activate(pathtorepo * \"dynamical-systems\\\\env\\\\bifurcation\\\\\")"
   ]
  },
  {
   "cell_type": "code",
   "execution_count": 2,
   "id": "da9364db",
   "metadata": {},
   "outputs": [
    {
     "name": "stderr",
     "output_type": "stream",
     "text": [
      "WARNING: using Plots.wrap in module BifurcationKit conflicts with an existing identifier.\n"
     ]
    }
   ],
   "source": [
    "using BifurcationKit, HclinicBifurcationKit, Setfield, LinearAlgebra, Plots, Parameters"
   ]
  },
  {
   "cell_type": "code",
   "execution_count": 3,
   "id": "7c446938",
   "metadata": {},
   "outputs": [],
   "source": [
    "τ_ = 0.013; τD_ = 0.07993;  τy_ = 3.3; J_ = 3.07; β_ = 0.300\n",
    "xthr_ = 0.75; ythr_ = 0.4   \n",
    "α_ = 1.58; ΔU0_ = 0.305\n",
    "I0_ = -1.7064; U0_ = 0.265; "
   ]
  },
  {
   "cell_type": "code",
   "execution_count": 4,
   "id": "54ab1081",
   "metadata": {},
   "outputs": [
    {
     "data": {
      "text/plain": [
       "TM_bk (generic function with 1 method)"
      ]
     },
     "metadata": {},
     "output_type": "display_data"
    }
   ],
   "source": [
    "@inbounds function TM_bk(u, p)\n",
    "    U(y, p) = p[8] + p[9] / ( 1.0 + exp( -50.0 * (y - p[7]) ) )\n",
    "    σ(x, p) = 1.0 / ( 1.0 + exp( -20.0 * (x-p[6]) ) )\n",
    "    g(E, x, y, p, U_) = log( 1.0 + exp( (p[5] * U_ * x * E + p[11]  ) / (p[1]) ) )\n",
    "    \n",
    "    U_ = U(u[3], p)\n",
    "    du1 = (-u[1] + p[1] * g(u[1], u[2], u[3], p, U_) ) / p[2]\n",
    "    du2 = (1.0 - u[2]) / p[3] - U_*u[2]*u[1]\n",
    "    du3 = (-u[3])/p[4] + p[10] * σ(u[2], p)\n",
    "    \n",
    "    return [du1, du2, du3]\n",
    "end"
   ]
  },
  {
   "cell_type": "code",
   "execution_count": 5,
   "id": "d137c91a",
   "metadata": {},
   "outputs": [
    {
     "data": {
      "text/plain": [
       "(α = 1.58, τ = 0.013, τD = 0.07993, τy = 3.3, J = 3.07, xthr = 0.75, ythr = 0.4, U0 = 0.265, ΔU0 = 0.305, β = 0.3, I0 = -1.7064)"
      ]
     },
     "metadata": {},
     "output_type": "display_data"
    }
   ],
   "source": [
    "p = (α = α_, τ = τ_, τD = τD_, τy = τy_, J = J_, xthr = xthr_, ythr = ythr_, U0 = U0_, ΔU0 = ΔU0_, β = β_, I0 = I0_)"
   ]
  },
  {
   "cell_type": "code",
   "execution_count": 6,
   "id": "06dc5bb2",
   "metadata": {},
   "outputs": [],
   "source": [
    "fp0 = [ 8.34581,  0.738495,  0.438299];"
   ]
  },
  {
   "cell_type": "code",
   "execution_count": 7,
   "id": "fa0ba8a9",
   "metadata": {},
   "outputs": [
    {
     "data": {
      "text/plain": [
       "┌─ Bifurcation Problem with uType \u001b[36m\u001b[1mVector{Float64}\u001b[22m\u001b[39m\n",
       "├─ Inplace:  \u001b[36m\u001b[1mfalse\u001b[22m\u001b[39m\n",
       "├─ Symmetric: \u001b[36m\u001b[1mfalse\u001b[22m\u001b[39m\n",
       "└─ Parameter: \u001b[36m\u001b[1mI0\u001b[22m\u001b[39m"
      ]
     },
     "metadata": {},
     "output_type": "display_data"
    }
   ],
   "source": [
    "prob =  BifurcationProblem(TM_bk, fp0, p, (@lens _.I0))"
   ]
  },
  {
   "cell_type": "code",
   "execution_count": 8,
   "id": "4e5c3538",
   "metadata": {},
   "outputs": [
    {
     "data": {
      "text/plain": [
       "(0.0, -1.74)"
      ]
     },
     "metadata": {},
     "output_type": "display_data"
    }
   ],
   "source": [
    "opt_new = NewtonPar(maxIter = 50, tol = 1e-6) # maxIter = 3\n",
    "pmax, pmin = 0.0, -1.74"
   ]
  },
  {
   "cell_type": "code",
   "execution_count": 9,
   "id": "b5bb606f",
   "metadata": {},
   "outputs": [
    {
     "data": {
      "text/plain": [
       "ContinuationPar{Float64, DefaultLS, DefaultEig{typeof(real)}}\n",
       "  dsmin: Float64 1.0e-5\n",
       "  dsmax: Float64 0.1\n",
       "  ds: Float64 0.001\n",
       "  a: Float64 0.5\n",
       "  pMin: Float64 -1.74\n",
       "  pMax: Float64 0.0\n",
       "  maxSteps: Int64 300\n",
       "  newtonOptions: NewtonPar{Float64, DefaultLS, DefaultEig{typeof(real)}}\n",
       "  η: Float64 150.0\n",
       "  saveToFile: Bool false\n",
       "  saveSolEveryStep: Int64 1\n",
       "  nev: Int64 3\n",
       "  saveEigEveryStep: Int64 1\n",
       "  saveEigenvectors: Bool true\n",
       "  plotEveryStep: Int64 10\n",
       "  tolStability: Float64 1.0e-10\n",
       "  detectFold: Bool true\n",
       "  detectBifurcation: Int64 3\n",
       "  dsminBisection: Float64 1.0e-16\n",
       "  nInversion: Int64 2\n",
       "  maxBisectionSteps: Int64 15\n",
       "  tolBisectionEigenvalue: Float64 1.0e-16\n",
       "  detectEvent: Int64 0\n",
       "  tolParamBisectionEvent: Float64 1.0e-16\n",
       "  detectLoop: Bool false\n"
      ]
     },
     "metadata": {},
     "output_type": "display_data"
    }
   ],
   "source": [
    "opts_con = ContinuationPar(pMin = pmin, pMax = pmax,\n",
    "                            ds = 0.001, dsmin = 1e-5, dsmax = 0.1,\n",
    "                            nev = 3, detectBifurcation = 3, newtonOptions  = opt_new,\n",
    "                            maxSteps  = 300)"
   ]
  },
  {
   "cell_type": "code",
   "execution_count": 10,
   "id": "8c01cef6",
   "metadata": {},
   "outputs": [
    {
     "data": {
      "text/plain": [
       "NewtonPar{Float64, DefaultLS, DefaultEig{typeof(real)}}\n",
       "  tol: Float64 1.0e-6\n",
       "  maxIter: Int64 50\n",
       "  verbose: Bool false\n",
       "  linsolver: DefaultLS\n",
       "  eigsolver: DefaultEig{typeof(real)}\n",
       "  linesearch: Bool false\n",
       "  α: Float64 1.0\n",
       "  αmin: Float64 0.001\n"
      ]
     },
     "metadata": {},
     "output_type": "display_data"
    }
   ],
   "source": [
    "opt_new"
   ]
  },
  {
   "cell_type": "code",
   "execution_count": 11,
   "id": "ccf1abff",
   "metadata": {},
   "outputs": [],
   "source": [
    "br = continuation(prob, PALC(), opts_con)"
   ]
  },
  {
   "cell_type": "code",
   "execution_count": null,
   "id": "e8307297",
   "metadata": {},
   "outputs": [],
   "source": [
    "plot(br)"
   ]
  },
  {
   "cell_type": "code",
   "execution_count": null,
   "id": "7f195b9b",
   "metadata": {},
   "outputs": [],
   "source": [
    "hp_codim2_1 = continuation(br, 1, (@lens _.U0),\n",
    "\tContinuationPar(opts_con, pMin = 0.0, pMax = 0.7,\n",
    "\t\tds = 0.001, dsmax = 0.1, dsmin = 1e-5),\n",
    "\t# detection of codim 2 bifurcations with bisection\n",
    "\tdetectCodim2Bifurcation = 2,\n",
    "\t# tell to start the Hopf problem using eigen elements: compute left eigenvector\n",
    "\tstartWithEigen = true,\n",
    "\t# we update the Hopf problem at every continuation step\n",
    "\tupdateMinAugEveryStep = 1,\n",
    "\t# compute both sides of the initial condition\n",
    "\tbothside = true,\n",
    "    verbosity = 3\n",
    "\t)"
   ]
  },
  {
   "cell_type": "code",
   "execution_count": null,
   "id": "ed490f4c",
   "metadata": {},
   "outputs": [],
   "source": [
    "hp_codim2_1"
   ]
  },
  {
   "cell_type": "code",
   "execution_count": null,
   "id": "35cbf67b",
   "metadata": {},
   "outputs": [],
   "source": [
    "plot(hp_codim2_1)"
   ]
  },
  {
   "cell_type": "code",
   "execution_count": null,
   "id": "f8a646ae",
   "metadata": {},
   "outputs": [],
   "source": [
    "solbt = newton(hp_codim2_1, 2; options = NewtonPar(hp_codim2_1.contparams.newtonOptions, verbose = true));\n",
    "\n",
    "@set! hp_codim2_1.specialpoint[2].param = solbt.u.params.U0\n",
    "@set! hp_codim2_1.specialpoint[2].printsol.I0 = solbt.u.params.I0\n",
    "@set! hp_codim2_1.specialpoint[2].printsol.U0 = solbt.u.params.U0\n",
    "hp_codim2_1.specialpoint[2].x[1:3] .= solbt.u.x0\n",
    "\n",
    "# predictors from the BT normal form. These are by no means accurate!\n",
    "Hom = BK.predictor(btpt, Val(:HomoclinicCurve), 0.01)\n",
    "_S = LinRange(-0.25, 0.55, 1000)\n",
    "plot(hp_codim2_1)\n",
    "plot!([Hom.α(s)[2] for s in _S], [Hom.α(s)[1] for s in _S], linewidth=5, label = \"Hom curve predictor\")\n",
    "\n",
    "# plot of the homoclinic orbit\n",
    "hom1 = [Hom.orbit(t,0.1)[1] for t in LinRange(-1000, 1000, 10000)]\n",
    "hom2 = [Hom.orbit(t,0.1)[2] for t in LinRange(-1000, 1000, 10000)]\n",
    "plot(hom1, hom2, title = \"predictor for Hom. solution\", label = \"\")"
   ]
  },
  {
   "cell_type": "code",
   "execution_count": null,
   "id": "3242d218",
   "metadata": {},
   "outputs": [],
   "source": [
    "tpt = getNormalForm(hp_codim2_1, 2; nev = 3, autodiff = false)\n",
    "\n",
    "using HclinicBifurcationKit\n",
    "\n",
    "function plotHom(x,p;k...)\n",
    "    𝐇𝐨𝐦 = p.prob\n",
    "    par0 = set(BK.getParams(𝐇𝐨𝐦), BK.getLens(𝐇𝐨𝐦), x.x[end][1])\n",
    "    par0 = set(par0, p.lens, p.p)\n",
    "    sol = getHomoclinicOrbit(𝐇𝐨𝐦, x, par0)\n",
    "    m = (𝐇𝐨𝐦.bvp isa PeriodicOrbitOCollProblem && 𝐇𝐨𝐦.bvp.meshadapt) ? :d : :none\n",
    "    plot!(sol.t, sol[1,:],subplot=3, markersize = 1, marker=m)\n",
    "    # plot!(sol[1,:], sol[2,:],subplot=3, markersize = 1, marker=m)\n",
    "end\n",
    "\n",
    "# using DifferentialEquations\n",
    "# probsh = ODEProblem(TM_bk!, copy(btpt.x0), (0., 100.), p_tm; abstol = 1e-12, reltol = 1e-10)\n",
    "# sol = solve(probsh, Rodas5())\n",
    "# plot(sol, vars=(:t,1))\n",
    "\n",
    "opts_con_hom = @set opts_con.newtonOptions.verbose = true\n",
    "@set! opts_con_hom.newtonOptions.maxIter = 15\n",
    "br_hom_c = continuation(\n",
    "        prob,\n",
    "        btpt,\n",
    "        # we use mesh adaptation\n",
    "        PeriodicOrbitOCollProblem(90, 4; meshadapt = true, K = 500),\n",
    "        PALC(tangent = Bordered()),\n",
    "        setproperties(opts_con_hom, maxSteps = 130, saveSolEveryStep = 1, dsmax = 3e-2, plotEveryStep = 1, pMin = -1.01, pMax = 0.4, ds = 0.0001, detectEvent = 2, detectBifurcation = 0);\n",
    "        verbosity = 1, plot = true,\n",
    "        ϵ0 = 1e-8, amplitude = 1e-3,\n",
    "        freeparams = ((@lens _.ϵ0), (@lens _.ϵ1)),\n",
    "        plotSolution = plotHom,\n",
    "        callbackN = BK.cbMaxNorm(1e0),\n",
    "        )\n",
    "\n",
    "# plot the first homoclinic solution        \n",
    "solh = HclinicBifurcationKit.getHomoclinicOrbit(br_hom_c, 1)\n",
    "plot(solh.t, solh[1,:])\n",
    "\n",
    "plot(hp_codim2_1, sn_codim2_1, branchlabel = [\"Fold\", \"Hopf\"])\n",
    "plot!(br_hom_c, branchlabel = \"Hom\")"
   ]
  }
 ],
 "metadata": {
  "kernelspec": {
   "display_name": "Julia 1.9.2",
   "language": "julia",
   "name": "julia-1.9"
  },
  "language_info": {
   "file_extension": ".jl",
   "mimetype": "application/julia",
   "name": "julia",
   "version": "1.9.2"
  }
 },
 "nbformat": 4,
 "nbformat_minor": 5
}
