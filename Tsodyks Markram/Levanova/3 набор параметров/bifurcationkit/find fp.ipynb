{
 "cells": [
  {
   "cell_type": "code",
   "execution_count": 17,
   "id": "0aa89733",
   "metadata": {},
   "outputs": [
    {
     "name": "stderr",
     "output_type": "stream",
     "text": [
      "\u001b[32m\u001b[1m  Activating\u001b[22m\u001b[39m project at `C:\\Users\\Alex\\Desktop\\dynamical-systems\\env\\bifurcation`\n"
     ]
    }
   ],
   "source": [
    "user = \"Alex\"\n",
    "pathtorepo = \"C:\\\\Users\\\\\" *user *  \"\\\\Desktop\\\\\"\n",
    "using Pkg\n",
    "Pkg.activate(pathtorepo * \"dynamical-systems\\\\env\\\\bifurcation\\\\\")"
   ]
  },
  {
   "cell_type": "code",
   "execution_count": 18,
   "id": "ffcd7c92",
   "metadata": {},
   "outputs": [
    {
     "data": {
      "text/plain": [
       "BifurcationKit"
      ]
     },
     "metadata": {},
     "output_type": "display_data"
    }
   ],
   "source": [
    "using BifurcationKit, LinearAlgebra, Plots, Parameters, JLD2\n",
    "const BK = BifurcationKit"
   ]
  },
  {
   "cell_type": "code",
   "execution_count": 20,
   "id": "00bfeb6d",
   "metadata": {},
   "outputs": [
    {
     "data": {
      "text/plain": [
       "TM_bk! (generic function with 2 methods)"
      ]
     },
     "metadata": {},
     "output_type": "display_data"
    }
   ],
   "source": [
    "τ_ = 0.013; τD_ = 0.07993;  τy_ = 3.3; J_ = 3.07; β_ = 0.300\n",
    "xthr_ = 0.75; ythr_ = 0.4\n",
    "α_ = 1.58; ΔU0_ = 0.305\n",
    "U0_, I0_ = 0.25, -1.6\n",
    "\n",
    "@inbounds function TM_bk!(du, u, p, t = 0)\n",
    "    U_ = p[8] + p[9] / ( 1.0 + exp( -50.0 * (u[3] - p[7]) ) )\n",
    "    σ = 1.0 / ( 1.0 + exp( -20.0 * (u[2]-p[6]) ) )\n",
    "    g(E, x, y, p, U_) = log( 1.0 + exp( (p[5] * U_ * x * E + p[11]  ) / (p[1]) ) )\n",
    "    \n",
    "    du[1] = (-u[1] + p[1] * g(u[1], u[2], u[3], p, U_) ) / p[2]\n",
    "    du[2] = (1.0 - u[2]) / p[3] - U_*u[2]*u[1]\n",
    "    du[3] = (-u[3])/p[4] + p[10] * σ\n",
    "    \n",
    "    return du\n",
    "end"
   ]
  },
  {
   "cell_type": "code",
   "execution_count": 24,
   "id": "aec92c46",
   "metadata": {},
   "outputs": [],
   "source": [
    "opt_new = NewtonPar(maxIter = 15, tol = 1e-6)\n",
    "pmax, pmin = 0.0, -1.74\n",
    "\n",
    "opts_con = ContinuationPar(pMin = pmin, pMax = pmax,\n",
    "                            ds = 0.001, dsmin = 1e-5, dsmax = 0.1,\n",
    "                            nev = 3, detectBifurcation = 3, newtonOptions  = opt_new,\n",
    "                            maxSteps  = 0, nInversion = 6);"
   ]
  },
  {
   "cell_type": "code",
   "execution_count": 29,
   "id": "e8ed9064",
   "metadata": {},
   "outputs": [],
   "source": [
    "TM_bk(u, p) = TM_bk!(similar(u), u, p, 0)\n",
    "G(u, p) = u .- TM_bk(u, p)\n",
    "p_tm = (α = α_, τ = τ_, τD = τD_, τy = τy_, J = J_, xthr = xthr_, ythr = ythr_, U0 = U0_, ΔU0 = ΔU0_, β = β_, I0 = I0_)\n",
    "fp0 = [ 4.34581,  0.738495,  0.438299]\n",
    "prob =  BifurcationProblem(G, fp0, p_tm, (@lens _.I0))\n",
    "br = continuation(prob, PALC(), opts_con);"
   ]
  },
  {
   "cell_type": "code",
   "execution_count": 30,
   "id": "eb79ccc6",
   "metadata": {},
   "outputs": [
    {
     "data": {
      "text/plain": [
       "1-element Vector{NamedTuple{(:x, :p, :step), Tuple{Vector{Float64}, Float64, Int64}}}:\n",
       " (x = [0.6071505915869747, 0.9156968958308669, 0.22215228872639023], p = -1.6, step = 0)"
      ]
     },
     "metadata": {},
     "output_type": "display_data"
    }
   ],
   "source": [
    "br.sol"
   ]
  },
  {
   "cell_type": "code",
   "execution_count": 28,
   "id": "de9a6928",
   "metadata": {},
   "outputs": [
    {
     "data": {
      "text/plain": [
       "3-element Vector{Float64}:\n",
       " 0.6071717615601017\n",
       " 0.9156969961822814\n",
       " 0.22215228842299"
      ]
     },
     "metadata": {},
     "output_type": "display_data"
    }
   ],
   "source": [
    "TM_bk([ 0.6071502354571418,\n",
    "0.9156968943458036,\n",
    "0.22215228872714327], p_tm)"
   ]
  }
 ],
 "metadata": {
  "kernelspec": {
   "display_name": "Julia 1.9.2",
   "language": "julia",
   "name": "julia-1.9"
  },
  "language_info": {
   "file_extension": ".jl",
   "mimetype": "application/julia",
   "name": "julia",
   "version": "1.9.2"
  }
 },
 "nbformat": 4,
 "nbformat_minor": 5
}
