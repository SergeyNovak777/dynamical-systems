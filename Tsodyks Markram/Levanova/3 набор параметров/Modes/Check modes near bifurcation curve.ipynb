{
 "cells": [
  {
   "cell_type": "code",
   "execution_count": 18,
   "id": "95365e8a",
   "metadata": {},
   "outputs": [
    {
     "name": "stderr",
     "output_type": "stream",
     "text": [
      "\u001b[32m\u001b[1m  Activating\u001b[22m\u001b[39m project at `C:\\Users\\Alex\\Desktop\\dynamical-systems\\env\\integrate`"
     ]
    },
    {
     "name": "stderr",
     "output_type": "stream",
     "text": [
      "\n"
     ]
    }
   ],
   "source": [
    "username = \"Alex\"\n",
    "env = \"integrate\"\n",
    "pathtorepo = \"C:\\\\Users\\\\\" *username *  \"\\\\Desktop\\\\\"\n",
    "using Pkg\n",
    "Pkg.activate(pathtorepo * \"dynamical-systems\\\\env\\\\\" * env * \"\\\\\")\n",
    "include(pathtorepo * \"dynamical-systems\\\\system.jl\");"
   ]
  },
  {
   "cell_type": "code",
   "execution_count": 19,
   "id": "536c8809",
   "metadata": {},
   "outputs": [],
   "source": [
    "using StaticArrays, DifferentialEquations, DynamicalSystems, LinearAlgebra, IntervalRootFinding \n",
    "using CairoMakie, GLMakie"
   ]
  },
  {
   "cell_type": "code",
   "execution_count": 20,
   "id": "6a3740f0",
   "metadata": {},
   "outputs": [],
   "source": [
    "function get_eigen(u, p, jac_system, t = 0.0)\n",
    "    Ju = jac_system(u, p, t)\n",
    "    ei_u = eigen(Ju)\n",
    "    return (fp = u, ei = ei_u)\n",
    "end\n",
    "function show_fp_eigen(data)\n",
    "    println(\"fixed point: $(data.fp)\")\n",
    "    println(\"---------------------------------------------------\")\n",
    "    println(\"eigenvalues: $(data.ei.values)\")\n",
    "    println(\"---------------------------------------------------\")\n",
    "    println(\"eigenvectors:\")\n",
    "    show(stdout, \"text/plain\", data.ei.vectors); println()\n",
    "    println(\"---------------------------------------------------\"); println()\n",
    "end\n",
    "function shift_vec(eifp, col; ϵ = 1e-6, sign_ = +)\n",
    "    sign_(eifp.fp, real(eifp.ei.vectors[:, 1]) * ϵ)\n",
    "end;"
   ]
  },
  {
   "cell_type": "code",
   "execution_count": 21,
   "id": "7a5db5e2",
   "metadata": {},
   "outputs": [],
   "source": [
    "t = 500.0; tt = 600.0; tstep = 0.001\n",
    "trange = range(0.0, t, step = tstep)\n",
    "integ_set = (alg = RK4(), adaptive = false, dt = tstep)\n",
    "\n",
    "E = interval(-40, 40); x = interval(0, 1); y = interval(0, 1)\n",
    "box = IntervalBox(E, x, y);"
   ]
  },
  {
   "cell_type": "code",
   "execution_count": 22,
   "id": "441e01c8",
   "metadata": {},
   "outputs": [],
   "source": [
    "const τ = 0.013;  const τD = 0.07993;  const τy = 3.3;  const J = 3.07;  const β = 0.300\n",
    "const xthr = 0.75; const ythr = 0.4\n",
    "const α = 1.58; const ΔU0 = 0.305;"
   ]
  },
  {
   "cell_type": "code",
   "execution_count": 6,
   "id": "0afefb9a",
   "metadata": {},
   "outputs": [],
   "source": [
    "#I0 = -1.12005964820; U0 = 0.16193284544  cusp"
   ]
  },
  {
   "cell_type": "code",
   "execution_count": 24,
   "id": "a214c502",
   "metadata": {},
   "outputs": [],
   "source": [
    "I0 = -1.1200596482; U0 = 0.1619328454\n",
    "p = SA[α, τ, τD, τy, J, xthr, ythr, U0, ΔU0, β, I0];"
   ]
  },
  {
   "cell_type": "code",
   "execution_count": 25,
   "id": "775e184d",
   "metadata": {},
   "outputs": [
    {
     "data": {
      "text/plain": [
       "3-dimensional CoupledODEs\n",
       " deterministic: true\n",
       " discrete time: false\n",
       " in-place:      false\n",
       " dynamic rule:  TM\n",
       " ODE solver:    RK4\n",
       " ODE kwargs:    (adaptive = false, dt = 0.001)\n",
       " parameters:    [1.58, 0.013, 0.07993, 3.3, 3.07, 0.75, 0.4, 0.161932845447, 0.305, 0.3, -1.120059648204]\n",
       " time:          0.0\n",
       " state:         [7.485044731286254, 0.771932479798953, 0.5235934863993938]\n"
      ]
     },
     "metadata": {},
     "output_type": "display_data"
    }
   ],
   "source": [
    "u0 = [7.485044731286254, 0.771932479798953, 0.5235934863993938]\n",
    "ds = CoupledODEs(TM, u0, p, diffeq = integ_set)"
   ]
  },
  {
   "cell_type": "code",
   "execution_count": 26,
   "id": "c540962e",
   "metadata": {},
   "outputs": [],
   "source": [
    "fp, _, _ = fixedpoints(ds, box, jacob_TM_, method = IntervalRootFinding.Newton)\n",
    "println(\"count of fixed points: $(length(fp))\");"
   ]
  },
  {
   "cell_type": "code",
   "execution_count": 10,
   "id": "d6a4abc7",
   "metadata": {},
   "outputs": [
    {
     "ename": "UndefVarError",
     "evalue": "UndefVarError: `fp` not defined",
     "output_type": "error",
     "traceback": [
      "UndefVarError: `fp` not defined\n"
     ]
    }
   ],
   "source": [
    "fp"
   ]
  },
  {
   "cell_type": "code",
   "execution_count": 11,
   "id": "489fb563",
   "metadata": {},
   "outputs": [
    {
     "ename": "UndefVarError",
     "evalue": "UndefVarError: `ds` not defined",
     "output_type": "error",
     "traceback": [
      "UndefVarError: `ds` not defined\n",
      "\n",
      "Stacktrace:\n",
      " [1] top-level scope\n",
      "   @ c:\\Users\\Alex\\Desktop\\dynamical-systems\\Tsodyks Markram\\Levanova\\3 набор параметров\\Modes\\Check modes near bifurcation curve.ipynb:1"
     ]
    }
   ],
   "source": [
    "tr, trange = trajectory(ds, t, Δt = tstep);"
   ]
  },
  {
   "cell_type": "code",
   "execution_count": 12,
   "id": "394786b3",
   "metadata": {},
   "outputs": [],
   "source": [
    "lb_size = 35; tck_size = 30; dis = 60;"
   ]
  },
  {
   "cell_type": "code",
   "execution_count": 13,
   "id": "af4c279b",
   "metadata": {},
   "outputs": [
    {
     "ename": "UndefVarError",
     "evalue": "UndefVarError: `fp` not defined",
     "output_type": "error",
     "traceback": [
      "UndefVarError: `fp` not defined\n",
      "\n",
      "Stacktrace:\n",
      " [1] top-level scope\n",
      "   @ c:\\Users\\Alex\\Desktop\\dynamical-systems\\Tsodyks Markram\\Levanova\\3 набор параметров\\Modes\\Check modes near bifurcation curve.ipynb:2"
     ]
    }
   ],
   "source": [
    "index = 3\n",
    "eifp = get_eigen(fp[index], p, jacob_TM_)\n",
    "show_fp_eigen(get_eigen(fp[index], p, jacob_TM_))\n",
    "shift = shift_vec(eifp, 1);\n",
    "#ds = CoupledODEs(TM, shift, p, diffeq = integ_set);"
   ]
  },
  {
   "cell_type": "code",
   "execution_count": 14,
   "id": "6459414d",
   "metadata": {},
   "outputs": [
    {
     "ename": "UndefVarError",
     "evalue": "UndefVarError: `fp` not defined",
     "output_type": "error",
     "traceback": [
      "UndefVarError: `fp` not defined\n"
     ]
    }
   ],
   "source": [
    "fp"
   ]
  },
  {
   "cell_type": "code",
   "execution_count": 15,
   "id": "62f4312d",
   "metadata": {},
   "outputs": [
    {
     "ename": "MethodError",
     "evalue": "MethodError: no method matching getindex(::typeof(tr), ::UnitRange{Int64}, ::Int64)",
     "output_type": "error",
     "traceback": [
      "MethodError: no method matching getindex(::typeof(tr), ::UnitRange{Int64}, ::Int64)\n",
      "\n",
      "Stacktrace:\n",
      " [1] top-level scope\n",
      "   @ c:\\Users\\Alex\\Desktop\\dynamical-systems\\Tsodyks Markram\\Levanova\\3 набор параметров\\Modes\\Check modes near bifurcation curve.ipynb:12"
     ]
    }
   ],
   "source": [
    "ts, tf = 400000, 500000\n",
    "idx, idy, idz = 2, 3, 1\n",
    "lb_size = 30; tck_size = 25;\n",
    "textsize = 40\n",
    "CairoMakie.activate!()\n",
    "f = Figure(resolution = (800, 600), title = \"?\")\n",
    "axis3_1 = Axis3(f[1, 1], xlabel = \"x\", ylabel = \"y\", zlabel = \"E\",\n",
    "                xlabelsize = lb_size, ylabelsize = lb_size, zlabelsize = lb_size,\n",
    "                xticklabelsize = tck_size, yticklabelsize = tck_size, zticklabelsize = tck_size,\n",
    "                xgridvisible = false, ygridvisible = false, zgridvisible = false)\n",
    "\n",
    "lines!(axis3_1, tr[ts:tf, idx], tr[ts:tf, idy], tr[ts:tf, idz],\n",
    "linewidth = 2.0, linestyle = :solid, color = :black)\n",
    "\n",
    "scatter!(axis3_1, fp[1][2], fp[1][3], fp[1][1], markersize = 10, color = :black)\n",
    "text!(axis3_1, fp[1][2], fp[1][3], fp[1][1], text = L\"e_3\", fontsize = textsize)\n",
    "\n",
    "scatter!(axis3_1, fp[2][2], fp[2][3], fp[2][1], markersize = 10, color = :black)\n",
    "text!(axis3_1, fp[2][2], fp[2][3], fp[2][1], text = L\"e_1\", fontsize = textsize)\n",
    "\n",
    "scatter!(axis3_1, fp[3][2], fp[3][3], fp[3][1], markersize = 10, color = :black)\n",
    "text!(axis3_1, fp[3][2], fp[3][3], fp[3][1], text = L\"e_2\", fontsize = textsize)\n",
    "\n",
    "display(f)"
   ]
  },
  {
   "cell_type": "code",
   "execution_count": 16,
   "id": "f5409ed1",
   "metadata": {},
   "outputs": [
    {
     "data": {
      "text/plain": [
       "CairoMakie.Screen{EPS}\n"
      ]
     },
     "metadata": {},
     "output_type": "display_data"
    }
   ],
   "source": [
    "pathtosave = \"C:\\\\Users\\\\Alex\\\\Desktop\\\\TM images\"\n",
    "filename = \"\\\\gh.eps\"\n",
    "fullpath = pathtosave * filename \n",
    "save(fullpath, f)"
   ]
  },
  {
   "cell_type": "code",
   "execution_count": 17,
   "id": "9fdc7432",
   "metadata": {},
   "outputs": [
    {
     "data": {
      "text/plain": [
       "\"GLMakie.activate!()\\nidx, idy, idz = 2, 3, 1\\nf = Figure(resolution = (900, 600))\\nax = LScene(f[1, 1], show_axis = true)\\nscale!(ax.scene, 50, 50, 1)\\n\\nlines!(ax, tr[ts:tf, idx], tr[ts:tf, idy], tr[ts:tf, idz],\\n        linewidth = 1.0, linestyle = :solid, color = :blue)\\n\\nfor point in fp\\n        scatter!(ax, point[2], point[3], point[1], markersize = 8, color = :orange)\\nend\\n\\ndisplay(GLMakie.Screen(), f)\""
      ]
     },
     "metadata": {},
     "output_type": "display_data"
    }
   ],
   "source": [
    "\"\"\"GLMakie.activate!()\n",
    "idx, idy, idz = 2, 3, 1\n",
    "f = Figure(resolution = (900, 600))\n",
    "ax = LScene(f[1, 1], show_axis = true)\n",
    "scale!(ax.scene, 50, 50, 1)\n",
    "\n",
    "lines!(ax, tr[ts:tf, idx], tr[ts:tf, idy], tr[ts:tf, idz],\n",
    "        linewidth = 1.0, linestyle = :solid, color = :blue)\n",
    "\n",
    "for point in fp\n",
    "        scatter!(ax, point[2], point[3], point[1], markersize = 8, color = :orange)\n",
    "end\n",
    "\n",
    "display(GLMakie.Screen(), f)\"\"\""
   ]
  }
 ],
 "metadata": {
  "kernelspec": {
   "display_name": "Julia 1.9.2",
   "language": "julia",
   "name": "julia-1.9"
  },
  "language_info": {
   "file_extension": ".jl",
   "mimetype": "application/julia",
   "name": "julia",
   "version": "1.9.2"
  }
 },
 "nbformat": 4,
 "nbformat_minor": 5
}
