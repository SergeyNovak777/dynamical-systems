{
 "cells": [
  {
   "cell_type": "code",
   "execution_count": 1,
   "id": "95365e8a",
   "metadata": {},
   "outputs": [
    {
     "name": "stderr",
     "output_type": "stream",
     "text": [
      "\u001b[32m\u001b[1m  Activating\u001b[22m\u001b[39m project at `C:\\Users\\Alex\\Desktop\\dynamical-systems\\env\\integrate`\n"
     ]
    }
   ],
   "source": [
    "username = \"Alex\"\n",
    "env = \"integrate\"\n",
    "pathtorepo = \"C:\\\\Users\\\\\" *username *  \"\\\\Desktop\\\\\"\n",
    "using Pkg\n",
    "Pkg.activate(pathtorepo * \"dynamical-systems\\\\env\\\\\" * env * \"\\\\\")\n",
    "include(pathtorepo * \"dynamical-systems\\\\system.jl\");"
   ]
  },
  {
   "cell_type": "code",
   "execution_count": 2,
   "id": "536c8809",
   "metadata": {},
   "outputs": [],
   "source": [
    "using StaticArrays, DifferentialEquations, DynamicalSystems, LinearAlgebra\n",
    "using CairoMakie, GLMakie"
   ]
  },
  {
   "cell_type": "code",
   "execution_count": 3,
   "id": "6a3740f0",
   "metadata": {},
   "outputs": [],
   "source": [
    "function get_eigen(u, p, jac_system, t = 0.0)\n",
    "    Ju = jac_system(u, p, t)\n",
    "    ei_u = eigen(Ju)\n",
    "    return (fp = u, ei = ei_u)\n",
    "end\n",
    "function show_fp_eigen(data)\n",
    "    println(\"fixed point: $(data.fp)\")\n",
    "    println(\"---------------------------------------------------\")\n",
    "    println(\"eigenvalues: $(data.ei.values)\")\n",
    "    println(\"---------------------------------------------------\")\n",
    "    println(\"eigenvectors:\")\n",
    "    show(stdout, \"text/plain\", data.ei.vectors); println()\n",
    "    println(\"---------------------------------------------------\"); println()\n",
    "end\n",
    "function shift_vec(eifp, col; ϵ = 1e-6, sign_ = +)\n",
    "    sign_(eifp.fp, real(eifp.ei.vectors[:, 1]) * ϵ)\n",
    "end;"
   ]
  },
  {
   "cell_type": "code",
   "execution_count": 4,
   "id": "7a5db5e2",
   "metadata": {},
   "outputs": [],
   "source": [
    "t = 500.0; tt = 600.0; tstep = 0.001\n",
    "trange = range(0.0, t, step = tstep)\n",
    "integ_set = (alg = RK4(), adaptive = false, dt = tstep)\n",
    "\n",
    "E = interval(-40, 40); x = interval(0, 1); y = interval(0, 1)\n",
    "box = IntervalBox(E, x, y);"
   ]
  },
  {
   "cell_type": "code",
   "execution_count": 5,
   "id": "441e01c8",
   "metadata": {},
   "outputs": [],
   "source": [
    "const τ = 0.013;  const τD = 0.07993;  const τy = 3.3;  const J = 3.07;  const β = 0.300\n",
    "const xthr = 0.75; const ythr = 0.4\n",
    "const α = 1.58; const ΔU0 = 0.305;"
   ]
  },
  {
   "cell_type": "code",
   "execution_count": 99,
   "id": "a214c502",
   "metadata": {},
   "outputs": [],
   "source": [
    "U0, I0 = 0.24, -1.3\n",
    "p = SA[α, τ, τD, τy, J, xthr, ythr, U0, ΔU0, β, I0];"
   ]
  },
  {
   "cell_type": "code",
   "execution_count": 100,
   "id": "c540962e",
   "metadata": {},
   "outputs": [
    {
     "name": "stdout",
     "output_type": "stream",
     "text": [
      "count of fixed points: 1"
     ]
    },
    {
     "name": "stdout",
     "output_type": "stream",
     "text": [
      "\n"
     ]
    }
   ],
   "source": [
    "u0 = SA[7.485044731286254, 0.771932479798953, 0.5235934863993938]\n",
    "ds = CoupledODEs(TM, u0, p, diffeq = integ_set)\n",
    "fp, _, _ = fixedpoints(ds, box, jacob_TM_)\n",
    "println(\"count of fixed points: $(length(fp))\");\n",
    "tr, trange = trajectory(ds, t, Δt = tstep);"
   ]
  },
  {
   "cell_type": "code",
   "execution_count": 103,
   "id": "cb2ea65c",
   "metadata": {},
   "outputs": [
    {
     "name": "stdout",
     "output_type": "stream",
     "text": [
      "fixed point: [8.748249812198836, 0.7385478206869154, 0.4385582459951177]\n",
      "---------------------------------------------------\n",
      "eigenvalues: ComplexF64[-5.956699004205809 + 0.0im, -0.1290142377420571 - 14.802912757537605im, -0.1290142377420571 + 14.802912757537605im]\n",
      "---------------------------------------------------\n",
      "eigenvectors:\n",
      "3×3 SMatrix{3, 3, ComplexF64, 9} with indices SOneTo(3)×SOneTo(3):\n",
      "    0.99887+0.0im     -0.99985-0.0im           -0.99985+0.0im\n",
      " -0.0459788+0.0im     0.013353+0.0108821im     0.013353-0.0108821im\n",
      "  0.0120402+0.0im  -0.00107252+0.0013481im  -0.00107252-0.0013481im\n",
      "---------------------------------------------------\n",
      "\n"
     ]
    }
   ],
   "source": [
    "eifp = get_eigen(fp[1], p, jacob_TM_)\n",
    "show_fp_eigen(eifp);"
   ]
  },
  {
   "cell_type": "code",
   "execution_count": 78,
   "id": "2353820d",
   "metadata": {},
   "outputs": [
    {
     "name": "stdout",
     "output_type": "stream",
     "text": [
      "fixed point: [2.47825624869664, 0.9010871849957391, 0.9440113560275039]\n",
      "---------------------------------------------------\n",
      "eigenvalues: [-8.803309042622615, -0.30303030301953365, 11.34772490427855]\n",
      "---------------------------------------------------\n",
      "eigenvectors:\n",
      "3×3 SMatrix{3, 3, Float64, 9} with indices SOneTo(3)×SOneTo(3):\n",
      "  0.995201    -1.207e-9     -0.999804\n",
      " -0.0978049    4.05211e-11   0.0197861\n",
      "  0.00305799   1.0           0.000451351\n",
      "---------------------------------------------------\n",
      "\n"
     ]
    }
   ],
   "source": [
    "eifp = get_eigen(fp[2], p, jacob_TM_)\n",
    "show_fp_eigen(eifp);"
   ]
  },
  {
   "cell_type": "code",
   "execution_count": 79,
   "id": "8c4b3dbe",
   "metadata": {},
   "outputs": [
    {
     "name": "stdout",
     "output_type": "stream",
     "text": [
      "fixed point: [8.283843454105506, 0.7405406724456021, 0.44831548820548406]\n",
      "---------------------------------------------------\n",
      "eigenvalues: ComplexF64[-4.9153019282947605 + 0.0im, 1.4221742504122428 - 13.07283744797389im, 1.4221742504122428 + 13.07283744797389im]\n",
      "---------------------------------------------------\n",
      "eigenvectors:\n",
      "3×3 SMatrix{3, 3, ComplexF64, 9} with indices SOneTo(3)×SOneTo(3):\n",
      "  0.999102+0.0im     0.999841-0.0im            0.999841+0.0im\n",
      " -0.040321+0.0im    -0.014721-0.0098185im     -0.014721+0.0098185im\n",
      " 0.0129965+0.0im  0.000880313-0.00179026im  0.000880313+0.00179026im\n",
      "---------------------------------------------------\n",
      "\n"
     ]
    }
   ],
   "source": [
    "eifp = get_eigen(fp[3], p, jacob_TM_)\n",
    "show_fp_eigen(eifp);"
   ]
  },
  {
   "cell_type": "code",
   "execution_count": 104,
   "id": "394786b3",
   "metadata": {},
   "outputs": [],
   "source": [
    "lb_size = 35; tck_size = 30; dis = 60;"
   ]
  },
  {
   "cell_type": "code",
   "execution_count": 105,
   "id": "62f4312d",
   "metadata": {},
   "outputs": [
    {
     "data": {
      "image/png": "[encoded data removed]"
     },
     "metadata": {},
     "output_type": "display_data"
    },
    {
     "data": {
      "text/plain": [
       "CairoMakie.Screen{IMAGE}\n"
      ]
     },
     "metadata": {},
     "output_type": "display_data"
    }
   ],
   "source": [
    "ts, tf = 200000, 300000\n",
    "idx, idy, idz = 2, 3, 1\n",
    "lb_size = 30; tck_size = 25;\n",
    "textsize = 40\n",
    "CairoMakie.activate!()\n",
    "f = Figure(resolution = (800, 600), title = \"?\")\n",
    "axis3_1 = Axis3(f[1, 1], xlabel = \"x\", ylabel = \"y\", zlabel = \"E\",\n",
    "                xlabelsize = lb_size, ylabelsize = lb_size, zlabelsize = lb_size,\n",
    "                xticklabelsize = tck_size, yticklabelsize = tck_size, zticklabelsize = tck_size,\n",
    "                xgridvisible = false, ygridvisible = false, zgridvisible = false)\n",
    "\n",
    "              \n",
    "lines!(axis3_1, tr[ts:tf, idx], tr[ts:tf, idy], tr[ts:tf, idz],\n",
    "linewidth = 2.0, linestyle = :solid, color = :black)\n",
    "\n",
    "scatter!(axis3_1, fp[1][2], fp[1][3], fp[1][1], markersize = 10, color = :orange)\n",
    "text!(axis3_1, fp[1][2], fp[1][3], fp[1][1], text = L\"e_1\", fontsize = textsize)\n",
    "\n",
    "\"\"\"scatter!(axis3_1, fp[2][2], fp[2][3], fp[2][1], markersize = 10, color = :red)\n",
    "text!(axis3_1, fp[2][2], fp[2][3], fp[2][1], text = L\"e_2\", fontsize = textsize)\n",
    "\n",
    "scatter!(axis3_1, fp[3][2], fp[3][3], fp[3][1], markersize = 10, color = :orange)\n",
    "text!(axis3_1, fp[3][2], fp[3][3], fp[3][1], text = L\"e_3\", fontsize = textsize)\"\"\"\n",
    "\n",
    "display(f)"
   ]
  },
  {
   "cell_type": "code",
   "execution_count": 106,
   "id": "f5409ed1",
   "metadata": {},
   "outputs": [
    {
     "data": {
      "text/plain": [
       "CairoMakie.Screen{EPS}\n"
      ]
     },
     "metadata": {},
     "output_type": "display_data"
    }
   ],
   "source": [
    "pathtosave = \"C:\\\\Users\\\\Alex\\\\Desktop\\\\TM images\"\n",
    "filename = \"\\\\stable_fp.eps\"\n",
    "fullpath = pathtosave * filename \n",
    "save(fullpath, f)"
   ]
  },
  {
   "cell_type": "code",
   "execution_count": 12,
   "id": "9fdc7432",
   "metadata": {},
   "outputs": [
    {
     "data": {
      "text/plain": [
       "\"tss, tfs = 1, 500000\\nts, tf = 1, 500000\\nGLMakie.activate!()\\nidx, idy, idz = 2, 3, 1\\nf = Figure(resolution = (900, 600))\\nax = LScene(f[1, 1], show_axis = true)\\nscale!(ax.scene, 50, 50, 1)\\n\\nlines!(ax, tr[ts:tf, idx], tr[ts:tf, idy], tr[ts:tf, idz],\\n        linewidth = 1.0,\" ⋯ 43 bytes ⋯ \"(ax, trshift[tss: tfs, idx], trshift[tss: tfs, idy], trshift[tss: tfs, idz],\\n        linewidth = 1.0, linestyle = :solid, color = :red)\\n\\nfor point in fp\\n        scatter!(ax, point[2], point[3], point[1], markersize = 8, color = :orange)\\nend\\n\\ndisplay(GLMakie.Screen(), f);\""
      ]
     },
     "metadata": {},
     "output_type": "display_data"
    }
   ],
   "source": [
    "\"\"\"tss, tfs = 1, 500000\n",
    "ts, tf = 1, 500000\n",
    "GLMakie.activate!()\n",
    "idx, idy, idz = 2, 3, 1\n",
    "f = Figure(resolution = (900, 600))\n",
    "ax = LScene(f[1, 1], show_axis = true)\n",
    "scale!(ax.scene, 50, 50, 1)\n",
    "\n",
    "lines!(ax, tr[ts:tf, idx], tr[ts:tf, idy], tr[ts:tf, idz],\n",
    "        linewidth = 1.0, linestyle = :solid, color = :blue)\n",
    "\n",
    "lines!(ax, trshift[tss: tfs, idx], trshift[tss: tfs, idy], trshift[tss: tfs, idz],\n",
    "        linewidth = 1.0, linestyle = :solid, color = :red)\n",
    "\n",
    "for point in fp\n",
    "        scatter!(ax, point[2], point[3], point[1], markersize = 8, color = :orange)\n",
    "end\n",
    "\n",
    "display(GLMakie.Screen(), f);\"\"\""
   ]
  }
 ],
 "metadata": {
  "kernelspec": {
   "display_name": "Julia 1.9.2",
   "language": "julia",
   "name": "julia-1.9"
  },
  "language_info": {
   "file_extension": ".jl",
   "mimetype": "application/julia",
   "name": "julia",
   "version": "1.9.2"
  }
 },
 "nbformat": 4,
 "nbformat_minor": 5
}
