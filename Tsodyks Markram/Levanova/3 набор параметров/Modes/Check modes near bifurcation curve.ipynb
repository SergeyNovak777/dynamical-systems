{
 "cells": [
  {
   "cell_type": "code",
   "execution_count": 96,
   "id": "95365e8a",
   "metadata": {},
   "outputs": [
    {
     "name": "stderr",
     "output_type": "stream",
     "text": [
      "\u001b[32m\u001b[1m  Activating\u001b[22m\u001b[39m project at `C:\\Users\\Alex\\Desktop\\dynamical-systems\\env\\integrate`\n"
     ]
    }
   ],
   "source": [
    "username = \"Alex\"\n",
    "env = \"integrate\"\n",
    "pathtorepo = \"C:\\\\Users\\\\\" *username *  \"\\\\Desktop\\\\\"\n",
    "using Pkg\n",
    "Pkg.activate(pathtorepo * \"dynamical-systems\\\\env\\\\\" * env * \"\\\\\")\n",
    "include(pathtorepo * \"dynamical-systems\\\\system.jl\");"
   ]
  },
  {
   "cell_type": "code",
   "execution_count": 97,
   "id": "536c8809",
   "metadata": {},
   "outputs": [],
   "source": [
    "using StaticArrays, DifferentialEquations, DynamicalSystems, LinearAlgebra, IntervalRootFinding \n",
    "using CairoMakie, GLMakie"
   ]
  },
  {
   "cell_type": "code",
   "execution_count": 98,
   "id": "6a3740f0",
   "metadata": {},
   "outputs": [],
   "source": [
    "function get_eigen(u, p, jac_system, t = 0.0)\n",
    "    Ju = jac_system(u, p, t)\n",
    "    ei_u = eigen(Ju)\n",
    "    return (fp = u, ei = ei_u)\n",
    "end\n",
    "function show_fp_eigen(data)\n",
    "    println(\"fixed point: $(data.fp)\")\n",
    "    println(\"---------------------------------------------------\")\n",
    "    println(\"eigenvalues: $(data.ei.values)\")\n",
    "    println(\"---------------------------------------------------\")\n",
    "    println(\"eigenvectors:\")\n",
    "    show(stdout, \"text/plain\", data.ei.vectors); println()\n",
    "    println(\"---------------------------------------------------\"); println()\n",
    "end\n",
    "function shift_vec(eifp, col; ϵ = 1e-6, sign_ = +)\n",
    "    sign_(eifp.fp, real(eifp.ei.vectors[:, 1]) * ϵ)\n",
    "end;"
   ]
  },
  {
   "cell_type": "code",
   "execution_count": 99,
   "id": "7a5db5e2",
   "metadata": {},
   "outputs": [],
   "source": [
    "t = 1000.0; tt = 600.0; tstep = 0.001\n",
    "trange = range(0.0, t, step = tstep)\n",
    "integ_set = (alg = RK4(), adaptive = false, dt = tstep)\n",
    "\n",
    "E = interval(-40, 40); x = interval(0, 1); y = interval(0, 1)\n",
    "box = IntervalBox(E, x, y);"
   ]
  },
  {
   "cell_type": "code",
   "execution_count": 100,
   "id": "441e01c8",
   "metadata": {},
   "outputs": [],
   "source": [
    "const τ = 0.013;  const τD = 0.07993;  const τy = 3.3;  const J = 3.07;  const β = 0.300\n",
    "const xthr = 0.75; const ythr = 0.4\n",
    "const α = 1.58; const ΔU0 = 0.305;"
   ]
  },
  {
   "cell_type": "code",
   "execution_count": 101,
   "id": "0afefb9a",
   "metadata": {},
   "outputs": [],
   "source": [
    "#I0 = -1.12005964820; U0 = 0.16193284544  cusp"
   ]
  },
  {
   "cell_type": "code",
   "execution_count": 102,
   "id": "a214c502",
   "metadata": {},
   "outputs": [],
   "source": [
    "#I0 = -1.31592866634479; U0 = 0.181142312729794\n",
    "I0 = -1.7441941605853748; U0 = 0.229424749082759\n",
    "p = SA[α, τ, τD, τy, J, xthr, ythr, U0, ΔU0, β, I0];"
   ]
  },
  {
   "cell_type": "code",
   "execution_count": 103,
   "id": "775e184d",
   "metadata": {},
   "outputs": [
    {
     "data": {
      "text/plain": [
       "3-dimensional CoupledODEs\n",
       " deterministic: true\n",
       " discrete time: false\n",
       " in-place:      false\n",
       " dynamic rule:  TM\n",
       " ODE solver:    RK4\n",
       " ODE kwargs:    (adaptive = false, dt = 0.001)\n",
       " parameters:    [1.58, 0.013, 0.07993, 3.3, 3.07, 0.75, 0.4, 0.229424749082759, 0.305, 0.3, -1.7441941605853748]\n",
       " time:          0.0\n",
       " state:         [4.09350468461962, 0.851804360585633, 0.875688899981114]\n"
      ]
     },
     "metadata": {},
     "output_type": "display_data"
    }
   ],
   "source": [
    "u0 = [4.09350468461962, 0.851804360585633, 0.875688899981114]  # [7.485044731286254, 0.771932479798953, 0.5235934863993938]\n",
    "ds = CoupledODEs(TM, u0, p, diffeq = integ_set)"
   ]
  },
  {
   "cell_type": "code",
   "execution_count": 104,
   "id": "c540962e",
   "metadata": {},
   "outputs": [
    {
     "name": "stdout",
     "output_type": "stream",
     "text": [
      "count of fixed points: 3\n"
     ]
    }
   ],
   "source": [
    "fp, _, _ = fixedpoints(ds, box, jacob_TM_, method = IntervalRootFinding.Newton)\n",
    "println(\"count of fixed points: $(length(fp))\");"
   ]
  },
  {
   "cell_type": "code",
   "execution_count": 105,
   "id": "d6a4abc7",
   "metadata": {},
   "outputs": [
    {
     "data": {
      "text/plain": [
       "3-dimensional StateSpaceSet{Float64} with 3 points\n",
       " 7.93482  0.748271  0.486441\n",
       " 4.07536  0.851727  0.875532\n",
       " 1.04331  0.957335  0.974585"
      ]
     },
     "metadata": {},
     "output_type": "display_data"
    }
   ],
   "source": [
    "fp"
   ]
  },
  {
   "cell_type": "code",
   "execution_count": 106,
   "id": "394786b3",
   "metadata": {},
   "outputs": [],
   "source": [
    "lb_size = 35; tck_size = 30; dis = 60;"
   ]
  },
  {
   "cell_type": "code",
   "execution_count": 116,
   "id": "af4c279b",
   "metadata": {},
   "outputs": [
    {
     "name": "stdout",
     "output_type": "stream",
     "text": [
      "fixed point: [4.075357992278381, 0.8517268605566852, 0.8755320827561344]\n",
      "---------------------------------------------------\n",
      "eigenvalues: [-7.443764134057928, -0.303030301967582, 15.174618624723092]\n",
      "---------------------------------------------------\n",
      "eigenvectors:\n",
      "3×3 SMatrix{3, 3, Float64, 9} with indices SOneTo(3)×SOneTo(3):\n",
      "  0.998018   -6.02326e-8  "
     ]
    },
    {
     "name": "stdout",
     "output_type": "stream",
     "text": [
      "-0.999884\n",
      " -0.0627014   1.73214e-9   0.0152404\n",
      "  0.0053873   1.0          0.000604125\n",
      "---------------------------------------------------\n",
      "\n"
     ]
    }
   ],
   "source": [
    "index = 2\n",
    "eifp = get_eigen(fp[index], p, jacob_TM_)\n",
    "show_fp_eigen(get_eigen(fp[index], p, jacob_TM_))\n",
    "shift = shift_vec(eifp, 1);\n",
    "ds = CoupledODEs(TM, shift, p, diffeq = integ_set);"
   ]
  },
  {
   "cell_type": "code",
   "execution_count": 108,
   "id": "59838a99",
   "metadata": {},
   "outputs": [],
   "source": [
    "tr, trange = trajectory(ds, t, Δt = tstep);"
   ]
  },
  {
   "cell_type": "code",
   "execution_count": 109,
   "id": "6459414d",
   "metadata": {},
   "outputs": [
    {
     "data": {
      "text/plain": [
       "3-dimensional StateSpaceSet{Float64} with 3 points\n",
       " 7.93482  0.748271  0.486441\n",
       " 4.07536  0.851727  0.875532\n",
       " 1.04331  0.957335  0.974585"
      ]
     },
     "metadata": {},
     "output_type": "display_data"
    }
   ],
   "source": [
    "fp"
   ]
  },
  {
   "cell_type": "code",
   "execution_count": 110,
   "id": "62f4312d",
   "metadata": {},
   "outputs": [
    {
     "data": {
      "image/png": "[encoded data removed]"
     },
     "metadata": {},
     "output_type": "display_data"
    },
    {
     "data": {
      "text/plain": [
       "CairoMakie.Screen{IMAGE}\n"
      ]
     },
     "metadata": {},
     "output_type": "display_data"
    }
   ],
   "source": [
    "ts, tf = 1, 400000\n",
    "idx, idy, idz = 2, 3, 1\n",
    "lb_size = 30; tck_size = 25;\n",
    "textsize = 40\n",
    "CairoMakie.activate!()\n",
    "f = Figure(resolution = (800, 600), title = \"?\")\n",
    "axis3_1 = Axis3(f[1, 1], xlabel = \"x\", ylabel = \"y\", zlabel = \"E\",\n",
    "                xlabelsize = lb_size, ylabelsize = lb_size, zlabelsize = lb_size,\n",
    "                xticklabelsize = tck_size, yticklabelsize = tck_size, zticklabelsize = tck_size,\n",
    "                xgridvisible = false, ygridvisible = false, zgridvisible = false)\n",
    "\n",
    "lines!(axis3_1, tr[ts:tf, idx], tr[ts:tf, idy], tr[ts:tf, idz],\n",
    "linewidth = 2.0, linestyle = :solid, color = :black)\n",
    "\n",
    "scatter!(axis3_1, fp[1][2], fp[1][3], fp[1][1], markersize = 8, color = :red)\n",
    "text!(axis3_1, fp[1][2], fp[1][3], fp[1][1], text = L\"e_?\", fontsize = textsize)\n",
    "\n",
    "scatter!(axis3_1, fp[2][2], fp[2][3], fp[2][1], markersize = 8, color = :black)\n",
    "text!(axis3_1, fp[2][2], fp[2][3], fp[2][1], text = L\"e_?\", fontsize = textsize)\n",
    "\n",
    "scatter!(axis3_1, fp[3][2], fp[3][3], fp[3][1], markersize = 8, color = :blue)\n",
    "text!(axis3_1, fp[3][2], fp[3][3], fp[3][1], text = L\"e_?\", fontsize = textsize)\n",
    "\n",
    "display(f)"
   ]
  },
  {
   "cell_type": "code",
   "execution_count": 111,
   "id": "d8e37d91",
   "metadata": {},
   "outputs": [
    {
     "data": {
      "text/plain": [
       "\"pathtosave = \\\"C:\\\\Users\\\\Alex\\\\Desktop\\\\TM images\\\"\\nfilename = \\\"\\\\bt3d.eps\\\"\\nfullpath = pathtosave * filename \\nsave(fullpath, f)\""
      ]
     },
     "metadata": {},
     "output_type": "display_data"
    }
   ],
   "source": [
    "\"\"\"pathtosave = \"C:\\\\Users\\\\Alex\\\\Desktop\\\\TM images\"\n",
    "filename = \"\\\\bt3d.eps\"\n",
    "fullpath = pathtosave * filename \n",
    "save(fullpath, f)\"\"\""
   ]
  },
  {
   "cell_type": "code",
   "execution_count": 112,
   "id": "efd83a12",
   "metadata": {},
   "outputs": [
    {
     "data": {
      "text/plain": [
       "\"idx, idy = 2, 3\\nlb_size = 30; tck_size = 20;\\ntextsize = 35\\nCairoMakie.activate!()\\nf = Figure(resolution = (800, 600), title = \\\"?\\\")\\naxis3_1 = Axis(f[1, 1], xlabel = \\\"x\\\", ylabel = \\\"y\\\",\\n                xlabelsize = lb_size, ylabelsize = lb_size,\\n                xticklabelsi\" ⋯ 269 bytes ⋯ \"2], fp[2][3], markersize = 8, color = :black)\\n#text!(axis3_1, fp[2][2], fp[2][3], text = L\\\"e_1\\\", fontsize = textsize)\\n\\nscatter!(axis3_1, fp[3][2], fp[3][3], markersize = 8, color = :blue)\\ntext!(axis3_1, fp[3][2], fp[3][3], text = L\\\"e_?\\\", fontsize = textsize)\\n\\ndisplay(f)\""
      ]
     },
     "metadata": {},
     "output_type": "display_data"
    }
   ],
   "source": [
    "\"\"\"idx, idy = 2, 3\n",
    "lb_size = 30; tck_size = 20;\n",
    "textsize = 35\n",
    "CairoMakie.activate!()\n",
    "f = Figure(resolution = (800, 600), title = \"?\")\n",
    "axis3_1 = Axis(f[1, 1], xlabel = \"x\", ylabel = \"y\",\n",
    "                xlabelsize = lb_size, ylabelsize = lb_size,\n",
    "                xticklabelsize = tck_size, yticklabelsize = tck_size,\n",
    "                xgridvisible = false, ygridvisible = false)\n",
    "\n",
    "\n",
    "scatter!(axis3_1, fp[1][2], fp[1][3], markersize = 8, color = :red)\n",
    "text!(axis3_1, fp[1][2], fp[1][3], text = L\"e_?\", fontsize = textsize)\n",
    "\n",
    "#scatter!(axis3_1, fp[2][2], fp[2][3], markersize = 8, color = :black)\n",
    "#text!(axis3_1, fp[2][2], fp[2][3], text = L\"e_1\", fontsize = textsize)\n",
    "\n",
    "scatter!(axis3_1, fp[3][2], fp[3][3], markersize = 8, color = :blue)\n",
    "text!(axis3_1, fp[3][2], fp[3][3], text = L\"e_?\", fontsize = textsize)\n",
    "\n",
    "display(f)\"\"\""
   ]
  },
  {
   "cell_type": "code",
   "execution_count": 113,
   "id": "f5409ed1",
   "metadata": {},
   "outputs": [
    {
     "data": {
      "text/plain": [
       "\"pathtosave = \\\"C:\\\\Users\\\\Alex\\\\Desktop\\\\TM images\\\"\\nfilename = \\\"\\\\bt2d.eps\\\"\\nfullpath = pathtosave * filename \\nsave(fullpath, f)\""
      ]
     },
     "metadata": {},
     "output_type": "display_data"
    }
   ],
   "source": [
    "\"\"\"pathtosave = \"C:\\\\Users\\\\Alex\\\\Desktop\\\\TM images\"\n",
    "filename = \"\\\\bt2d.eps\"\n",
    "fullpath = pathtosave * filename \n",
    "save(fullpath, f)\"\"\""
   ]
  },
  {
   "cell_type": "code",
   "execution_count": 114,
   "id": "9fdc7432",
   "metadata": {},
   "outputs": [
    {
     "data": {
      "text/plain": [
       "GLMakie.Screen(...)"
      ]
     },
     "metadata": {},
     "output_type": "display_data"
    }
   ],
   "source": [
    "GLMakie.activate!()\n",
    "idx, idy, idz = 2, 3, 1\n",
    "f = Figure(resolution = (900, 600))\n",
    "ax = LScene(f[1, 1], show_axis = true)\n",
    "scale!(ax.scene, 50, 50, 1)\n",
    "\n",
    "lines!(ax, tr[ts:tf, idx], tr[ts:tf, idy], tr[ts:tf, idz],\n",
    "        linewidth = 1.0, linestyle = :solid, color = :blue)\n",
    "\n",
    "for point in fp\n",
    "        scatter!(ax, point[2], point[3], point[1], markersize = 8, color = :orange)\n",
    "end\n",
    "\n",
    "display(GLMakie.Screen(), f)"
   ]
  }
 ],
 "metadata": {
  "kernelspec": {
   "display_name": "Julia 1.9.2",
   "language": "julia",
   "name": "julia-1.9"
  },
  "language_info": {
   "file_extension": ".jl",
   "mimetype": "application/julia",
   "name": "julia",
   "version": "1.9.2"
  }
 },
 "nbformat": 4,
 "nbformat_minor": 5
}
