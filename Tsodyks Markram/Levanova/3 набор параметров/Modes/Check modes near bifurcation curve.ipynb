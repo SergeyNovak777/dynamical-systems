{
 "cells": [
  {
   "cell_type": "code",
   "execution_count": 7,
   "id": "95365e8a",
   "metadata": {},
   "outputs": [
    {
     "name": "stderr",
     "output_type": "stream",
     "text": [
      "\u001b[32m\u001b[1m  Activating\u001b[22m\u001b[39m project at `C:\\Users\\Alex\\Desktop\\dynamical-systems\\env\\integrate`\n"
     ]
    }
   ],
   "source": [
    "username = \"Alex\"\n",
    "env = \"integrate\"\n",
    "pathtorepo = \"C:\\\\Users\\\\\" *username *  \"\\\\Desktop\\\\\"\n",
    "using Pkg\n",
    "Pkg.activate(pathtorepo * \"dynamical-systems\\\\env\\\\\" * env * \"\\\\\")\n",
    "include(pathtorepo * \"dynamical-systems\\\\system.jl\");"
   ]
  },
  {
   "cell_type": "code",
   "execution_count": 8,
   "id": "536c8809",
   "metadata": {},
   "outputs": [],
   "source": [
    "using StaticArrays, DifferentialEquations, DynamicalSystems, LinearAlgebra, IntervalRootFinding \n",
    "using CairoMakie, GLMakie"
   ]
  },
  {
   "cell_type": "code",
   "execution_count": 9,
   "id": "6a3740f0",
   "metadata": {},
   "outputs": [],
   "source": [
    "function get_eigen(u, p, jac_system, t = 0.0)\n",
    "    Ju = jac_system(u, p, t)\n",
    "    ei_u = eigen(Ju)\n",
    "    return (fp = u, ei = ei_u)\n",
    "end\n",
    "function show_fp_eigen(data)\n",
    "    println(\"fixed point: $(data.fp)\")\n",
    "    println(\"---------------------------------------------------\")\n",
    "    println(\"eigenvalues: $(data.ei.values)\")\n",
    "    println(\"---------------------------------------------------\")\n",
    "    println(\"eigenvectors:\")\n",
    "    show(stdout, \"text/plain\", data.ei.vectors); println()\n",
    "    println(\"---------------------------------------------------\"); println()\n",
    "end\n",
    "function shift_vec(eifp, col; ϵ = 1e-6, sign_ = +)\n",
    "    sign_(eifp.fp, real(eifp.ei.vectors[:, 1]) * ϵ)\n",
    "end;"
   ]
  },
  {
   "cell_type": "code",
   "execution_count": 10,
   "id": "7a5db5e2",
   "metadata": {},
   "outputs": [],
   "source": [
    "t = 500.0; tt = 600.0; tstep = 0.001\n",
    "trange = range(0.0, t, step = tstep)\n",
    "integ_set = (alg = RK4(), adaptive = false, dt = tstep)\n",
    "\n",
    "E = interval(-40, 40); x = interval(0, 1); y = interval(0, 1)\n",
    "box = IntervalBox(E, x, y);"
   ]
  },
  {
   "cell_type": "code",
   "execution_count": 11,
   "id": "441e01c8",
   "metadata": {},
   "outputs": [],
   "source": [
    "const τ = 0.013;  const τD = 0.07993;  const τy = 3.3;  const J = 3.07;  const β = 0.300\n",
    "const xthr = 0.75; const ythr = 0.4\n",
    "const α = 1.58; const ΔU0 = 0.305;"
   ]
  },
  {
   "cell_type": "code",
   "execution_count": 188,
   "id": "a214c502",
   "metadata": {},
   "outputs": [],
   "source": [
    "U0, I0 = 0.24915304713569425, -2.4\n",
    "p = SA[α, τ, τD, τy, J, xthr, ythr, U0, ΔU0, β, I0];"
   ]
  },
  {
   "cell_type": "code",
   "execution_count": 189,
   "id": "775e184d",
   "metadata": {},
   "outputs": [
    {
     "data": {
      "text/plain": [
       "3-dimensional CoupledODEs\n",
       " deterministic: true\n",
       " discrete time: false\n",
       " in-place:      false\n",
       " dynamic rule:  TM\n",
       " ODE solver:    RK4\n",
       " ODE kwargs:    (adaptive = false, dt = 0.001)\n",
       " parameters:    [1.58, 0.013, 0.07993, 3.3, 3.07, 0.75, 0.4, 0.24915304713569425, 0.305, 0.3, -2.4]\n",
       " time:          0.0\n",
       " state:         [7.485044731286254, 0.771932479798953, 0.5235934863993938]\n"
      ]
     },
     "metadata": {},
     "output_type": "display_data"
    }
   ],
   "source": [
    "u0 = [7.485044731286254, 0.771932479798953, 0.5235934863993938]\n",
    "ds = CoupledODEs(TM, u0, p, diffeq = integ_set)"
   ]
  },
  {
   "cell_type": "code",
   "execution_count": 190,
   "id": "c540962e",
   "metadata": {},
   "outputs": [
    {
     "name": "stdout",
     "output_type": "stream",
     "text": [
      "count of fixed points: 1\n"
     ]
    }
   ],
   "source": [
    "fp, _, _ = fixedpoints(ds, box, jacob_TM_, method = IntervalRootFinding.Newton)\n",
    "println(\"count of fixed points: $(length(fp))\");"
   ]
  },
  {
   "cell_type": "code",
   "execution_count": 191,
   "id": "0c126fb5",
   "metadata": {},
   "outputs": [
    {
     "data": {
      "text/plain": [
       "3-dimensional StateSpaceSet{Float64} with 1 points\n",
       " 0.496862  0.978466  0.979844"
      ]
     },
     "metadata": {},
     "output_type": "display_data"
    }
   ],
   "source": [
    "fp"
   ]
  },
  {
   "cell_type": "code",
   "execution_count": 192,
   "id": "38b41051",
   "metadata": {},
   "outputs": [],
   "source": [
    "tr, trange = trajectory(ds, t, Δt = tstep);"
   ]
  },
  {
   "cell_type": "code",
   "execution_count": 194,
   "id": "cb2ea65c",
   "metadata": {},
   "outputs": [
    {
     "name": "stdout",
     "output_type": "stream",
     "text": [
      "fixed point: [0.4968616686714108, 0.9784661910195913, 0.9798439508355982]\n",
      "---------------------------------------------------\n",
      "eigenvalues: [-42.047753303583946, -13.11138670377383, -0.3030303030303196]\n",
      "---------------------------------------------------\n",
      "eigenvectors:\n",
      "3×3 SMatrix{3, 3, Float64, 9} with indices SOneTo(3)×SOneTo(3):\n",
      "  0.999828     0.514224     2.76517e-12\n",
      "  0.018527     0.857646    -2.72362e-13\n",
      " -2.70375e-5  -0.00407922   1.0\n",
      "---------------------------------------------------\n",
      "\n"
     ]
    }
   ],
   "source": [
    "index = 1\n",
    "show_fp_eigen(get_eigen(fp[index], p, jacob_TM_));"
   ]
  },
  {
   "cell_type": "code",
   "execution_count": 195,
   "id": "394786b3",
   "metadata": {},
   "outputs": [],
   "source": [
    "lb_size = 35; tck_size = 30; dis = 60;"
   ]
  },
  {
   "cell_type": "code",
   "execution_count": 196,
   "id": "df42765e",
   "metadata": {},
   "outputs": [
    {
     "data": {
      "text/plain": [
       "3-dimensional StateSpaceSet{Float64} with 1 points\n",
       " 0.496862  0.978466  0.979844"
      ]
     },
     "metadata": {},
     "output_type": "display_data"
    }
   ],
   "source": [
    "fp"
   ]
  },
  {
   "cell_type": "code",
   "execution_count": 197,
   "id": "62f4312d",
   "metadata": {},
   "outputs": [
    {
     "data": {
      "image/png": "[encoded data removed]"
     },
     "metadata": {},
     "output_type": "display_data"
    },
    {
     "data": {
      "text/plain": [
       "CairoMakie.Screen{IMAGE}\n"
      ]
     },
     "metadata": {},
     "output_type": "display_data"
    }
   ],
   "source": [
    "ts, tf = 200000, 300000\n",
    "idx, idy, idz = 2, 3, 1\n",
    "lb_size = 30; tck_size = 25;\n",
    "textsize = 40\n",
    "CairoMakie.activate!()\n",
    "f = Figure(resolution = (800, 600), title = \"?\")\n",
    "axis3_1 = Axis3(f[1, 1], xlabel = \"x\", ylabel = \"y\", zlabel = \"E\",\n",
    "                xlabelsize = lb_size, ylabelsize = lb_size, zlabelsize = lb_size,\n",
    "                xticklabelsize = tck_size, yticklabelsize = tck_size, zticklabelsize = tck_size,\n",
    "                xgridvisible = false, ygridvisible = false, zgridvisible = false)\n",
    "\n",
    "lines!(axis3_1, tr[ts:tf, idx], tr[ts:tf, idy], tr[ts:tf, idz],\n",
    "linewidth = 2.0, linestyle = :solid, color = :black)\n",
    "\n",
    "scatter!(axis3_1, fp[1][2], fp[1][3], fp[1][1], markersize = 10, color = :blue)\n",
    "text!(axis3_1, fp[1][2], fp[1][3], fp[1][1], text = L\"e_2\", fontsize = textsize)\n",
    "\n",
    "\"\"\"scatter!(axis3_1, fp[2][2], fp[2][3], fp[2][1], markersize = 10, color = :orange)\n",
    "text!(axis3_1, fp[2][2], fp[2][3], fp[2][1], text = L\"e_1\", fontsize = textsize)\n",
    "\n",
    "scatter!(axis3_1, fp[3][2], fp[3][3], fp[3][1], markersize = 10, color = :red)\n",
    "text!(axis3_1, fp[3][2], fp[3][3], fp[3][1], text = L\"e_3\", fontsize = textsize)\"\"\"\n",
    "\n",
    "display(f)"
   ]
  },
  {
   "cell_type": "code",
   "execution_count": 198,
   "id": "f5409ed1",
   "metadata": {},
   "outputs": [
    {
     "data": {
      "text/plain": [
       "CairoMakie.Screen{EPS}\n"
      ]
     },
     "metadata": {},
     "output_type": "display_data"
    }
   ],
   "source": [
    "pathtosave = \"C:\\\\Users\\\\Alex\\\\Desktop\\\\TM images\"\n",
    "filename = \"\\\\under_second_fold_curve.eps\"\n",
    "fullpath = pathtosave * filename \n",
    "save(fullpath, f)"
   ]
  },
  {
   "cell_type": "code",
   "execution_count": 12,
   "id": "9fdc7432",
   "metadata": {},
   "outputs": [
    {
     "data": {
      "text/plain": [
       "\"tss, tfs = 1, 500000\\nts, tf = 1, 500000\\nGLMakie.activate!()\\nidx, idy, idz = 2, 3, 1\\nf = Figure(resolution = (900, 600))\\nax = LScene(f[1, 1], show_axis = true)\\nscale!(ax.scene, 50, 50, 1)\\n\\nlines!(ax, tr[ts:tf, idx], tr[ts:tf, idy], tr[ts:tf, idz],\\n        linewidth = 1.0,\" ⋯ 43 bytes ⋯ \"(ax, trshift[tss: tfs, idx], trshift[tss: tfs, idy], trshift[tss: tfs, idz],\\n        linewidth = 1.0, linestyle = :solid, color = :red)\\n\\nfor point in fp\\n        scatter!(ax, point[2], point[3], point[1], markersize = 8, color = :orange)\\nend\\n\\ndisplay(GLMakie.Screen(), f);\""
      ]
     },
     "metadata": {},
     "output_type": "display_data"
    }
   ],
   "source": [
    "\"\"\"tss, tfs = 1, 500000\n",
    "ts, tf = 1, 500000\n",
    "GLMakie.activate!()\n",
    "idx, idy, idz = 2, 3, 1\n",
    "f = Figure(resolution = (900, 600))\n",
    "ax = LScene(f[1, 1], show_axis = true)\n",
    "scale!(ax.scene, 50, 50, 1)\n",
    "\n",
    "lines!(ax, tr[ts:tf, idx], tr[ts:tf, idy], tr[ts:tf, idz],\n",
    "        linewidth = 1.0, linestyle = :solid, color = :blue)\n",
    "\n",
    "lines!(ax, trshift[tss: tfs, idx], trshift[tss: tfs, idy], trshift[tss: tfs, idz],\n",
    "        linewidth = 1.0, linestyle = :solid, color = :red)\n",
    "\n",
    "for point in fp\n",
    "        scatter!(ax, point[2], point[3], point[1], markersize = 8, color = :orange)\n",
    "end\n",
    "\n",
    "display(GLMakie.Screen(), f);\"\"\""
   ]
  }
 ],
 "metadata": {
  "kernelspec": {
   "display_name": "Julia 1.9.2",
   "language": "julia",
   "name": "julia-1.9"
  },
  "language_info": {
   "file_extension": ".jl",
   "mimetype": "application/julia",
   "name": "julia",
   "version": "1.9.2"
  }
 },
 "nbformat": 4,
 "nbformat_minor": 5
}
