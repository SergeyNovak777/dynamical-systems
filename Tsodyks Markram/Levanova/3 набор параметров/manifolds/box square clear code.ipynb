{
 "cells": [
  {
   "cell_type": "code",
   "execution_count": 1,
   "metadata": {},
   "outputs": [
    {
     "name": "stderr",
     "output_type": "stream",
     "text": [
      "\u001b[32m\u001b[1m  Activating\u001b[22m\u001b[39m project at `C:\\Users\\Alex\\Desktop\\dynamical-systems\\env\\integrate`\n"
     ]
    }
   ],
   "source": [
    "username = \"Alex\"\n",
    "pathtorepo = \"C:\\\\Users\\\\\" *username *  \"\\\\Desktop\\\\\"\n",
    "using Pkg\n",
    "Pkg.activate(pathtorepo * \"dynamical-systems\\\\env\\\\integrate\\\\\")\n",
    "include(pathtorepo * \"dynamical-systems\\\\system.jl\")\n",
    "\n",
    "\n",
    "using StaticArrays, DifferentialEquations, DynamicalSystems, JLD\n",
    "E, x, y  = -40..40, -5..5,  -5..5\n",
    "box = E × x × y\n",
    "using GLMakie\n",
    "using LinearAlgebra, LinearSolve,Statistics\n",
    "\n",
    "cd(\"C:\\\\Users\\\\\" *username *  \"\\\\Desktop\\\\dynamical-systems\\\\Tsodyks Markram\\\\Levanova\\\\3 набор параметров\\\\Сопоставление с матконт\\\\файлы matlab\")\n",
    "I0_hom = load(\"I0_hom_hom.jld\")[\"data\"]\n",
    "u0_hom = load(\"U0_hom_hom.jld\")[\"data\"]\n",
    "I0_hom = I0_hom[:]\n",
    "u0_hom = u0_hom[:];"
   ]
  },
  {
   "cell_type": "code",
   "execution_count": 2,
   "metadata": {},
   "outputs": [
    {
     "data": {
      "text/plain": [
       "get_norm_αs (generic function with 1 method)"
      ]
     },
     "metadata": {},
     "output_type": "display_data"
    }
   ],
   "source": [
    "function condition(u, t, integrator)\n",
    "    x = Vector(u)\n",
    "    b = x - fp[1]\n",
    "    b = Vector(b)\n",
    "    linprob = LinearProblem(A, b)\n",
    "    linsolve = solve(linprob)\n",
    "    return norm(linsolve.u, Inf) - ϵ_box\n",
    "end\n",
    "affect!(integrator) = terminate!(integrator)\n",
    "function get_norm_αs(u)\n",
    "    x = Vector(u)\n",
    "    b = x - fp[1]\n",
    "    b = Vector(b)\n",
    "    linprob = LinearProblem(A, b)\n",
    "    linsolve = solve(linprob)\n",
    "    return norm(linsolve.u, Inf), linsolve\n",
    "end"
   ]
  },
  {
   "cell_type": "code",
   "execution_count": 3,
   "metadata": {},
   "outputs": [],
   "source": [
    "const τ = 0.013;  const τD = 0.07993;  const τy = 3.3;  const J = 3.07;  const β = 0.300\n",
    "const xthr = 0.75; const ythr = 0.4; const α = 1.58; const ΔU0 = 0.305\n",
    "\n",
    "t = 500.0; tspan = [0.0, t];"
   ]
  },
  {
   "cell_type": "code",
   "execution_count": 31,
   "metadata": {},
   "outputs": [
    {
     "data": {
      "text/plain": [
       "3×3 Matrix{Float64}:\n",
       "  0.998728    0.999899     0.0\n",
       " -0.0489879  -0.0141814    0.984697\n",
       "  0.0119121   0.000705852  0.174274"
      ]
     },
     "metadata": {},
     "output_type": "display_data"
    }
   ],
   "source": [
    "# index point from homoclinic curve\n",
    "index_hom = 1\n",
    "I0 = I0_hom[index_hom]; U0 = u0_hom[index_hom]\n",
    "\n",
    "p = SA[α, τ, τD, τy, J, xthr, ythr, U0, ΔU0, β, I0]\n",
    "u0 = [0.0, 0.0, 0.0]\n",
    "\n",
    "ds = CoupledODEs(TM, u0, p)\n",
    "fp, _, _ = fixedpoints(ds, box, jacob_TM_)\n",
    "\n",
    "ϵ_box = 1e-3\n",
    "Ju0 = jacob_TM_(fp[1], p, 0);\n",
    "fp_ = fp[1]\n",
    "\n",
    "eigen_val_vec = eigen(Ju0)\n",
    "eigen_vectors = eigen_val_vec.vectors\n",
    "\n",
    "v1 = real(eigen_vectors[:, 1])\n",
    "v2 = real(eigen_vectors[:, 2])\n",
    "v3 = imag(eigen_vectors[:, 3])\n",
    "\n",
    "v1 = normalize(v1, 2)\n",
    "v1t = transpose(v1)\n",
    "\n",
    "v2 = normalize(v2, 2)\n",
    "v2t = transpose(v2)\n",
    "\n",
    "v3 = normalize(v3, 2)\n",
    "v3t = transpose(v3)\n",
    "\n",
    "A = transpose([v1t; v2t; v3t])\n",
    "A = Matrix(A)"
   ]
  },
  {
   "cell_type": "code",
   "execution_count": 32,
   "metadata": {},
   "outputs": [],
   "source": [
    "total_number_points = 100\n",
    "number_points_on_side = Int((total_number_points) / 1)\n",
    "\n",
    "dots_right_side = zeros(number_points_on_side, length(u0))\n",
    "array_α_vec_right = zeros(number_points_on_side, length(u0))\n",
    "\n",
    "dots_left_side = zeros(number_points_on_side, length(u0))\n",
    "array_α_vec_left = zeros(number_points_on_side, length(u0))\n",
    "\n",
    "dots_up_side = zeros(number_points_on_side, length(u0))\n",
    "array_α_vec_up = zeros(number_points_on_side, length(u0))\n",
    "\n",
    "dots_down_side = zeros(number_points_on_side, length(u0))\n",
    "array_α_vec_down = zeros(number_points_on_side, length(u0));"
   ]
  },
  {
   "cell_type": "code",
   "execution_count": 33,
   "metadata": {},
   "outputs": [],
   "source": [
    "# case α1 = 0; α2 = ϵ_box; α3 = [-ϵ_box; ϵ_box]\n",
    "n = 1\n",
    "N = total_number_points\n",
    "while n <= number_points_on_side\n",
    "\n",
    "    α1 = 0.0\n",
    "    α2 = ϵ_box\n",
    "    α3 = - ϵ_box + 2 * ϵ_box * n / N\n",
    "    α_vec = [α1, α2, α3]\n",
    "    point = fp_ + A * α_vec\n",
    "    \n",
    "    dots_right_side[n, :] = point\n",
    "    _, α_vec = get_norm_αs( dots_right_side[n, :] )\n",
    "    array_α_vec_right[n, :] = α_vec\n",
    "    n+=1\n",
    "end\n",
    "\n",
    "# case α1 = 0; α2 = -ϵ_box; α3 = [-ϵ_box; ϵ_box]\n",
    "n = 1\n",
    "N = total_number_points\n",
    "while n <= number_points_on_side\n",
    "\n",
    "    α1 = 0.0\n",
    "    α2 = -ϵ_box\n",
    "    α3 = - ϵ_box + 2 * ϵ_box * n / N\n",
    "    α_vec = [α1, α2, α3]\n",
    "    point = fp_ + A * α_vec\n",
    "    \n",
    "    dots_left_side[n, :] = point\n",
    "    _, α_vec = get_norm_αs( dots_left_side[n, :] )\n",
    "    array_α_vec_left[n, :] = α_vec\n",
    "    n+=1\n",
    "end\n",
    "\n",
    "# case α1 = 0; α2 = [-ϵ_box; ϵ_box]; α3 = ϵ_box\n",
    "n = 1\n",
    "N = total_number_points\n",
    "while n <= number_points_on_side\n",
    "\n",
    "    α1 = 0.0\n",
    "    α2 = - ϵ_box + 2 * ϵ_box * n / N\n",
    "    α3 = ϵ_box\n",
    "    α_vec = [α1, α2, α3]\n",
    "    point = fp_ + A * α_vec\n",
    "    \n",
    "    dots_up_side[n, :] = point\n",
    "    _, α_vec = get_norm_αs( dots_up_side[n, :] )\n",
    "    array_α_vec_up[n, :] = α_vec\n",
    "    n+=1\n",
    "end\n",
    "\n",
    "# case α1 = 0; α2 = [-ϵ_box; ϵ_box]; α3 = -ϵ_box\n",
    "n = 1\n",
    "N = total_number_points\n",
    "while n <= number_points_on_side\n",
    "\n",
    "    α1 = 0.0\n",
    "    α2 = - ϵ_box + 2 * ϵ_box * n / N\n",
    "    α3 = -ϵ_box\n",
    "    α_vec = [α1, α2, α3]\n",
    "    point = fp_ + A * α_vec\n",
    "    \n",
    "    dots_down_side[n, :] = point\n",
    "    _, α_vec = get_norm_αs( dots_down_side[n, :] )\n",
    "    array_α_vec_down[n, :] = α_vec\n",
    "    n+=1\n",
    "end;"
   ]
  },
  {
   "cell_type": "code",
   "execution_count": 34,
   "metadata": {},
   "outputs": [
    {
     "data": {
      "text/plain": [
       "GLMakie.Screen(...)"
      ]
     },
     "metadata": {},
     "output_type": "display_data"
    }
   ],
   "source": [
    "width, height = 600, 500\n",
    "markersize = 5.0\n",
    "color = :black\n",
    "xlabel = L\"α_2\"; ylabel = L\"α_3\"\n",
    "xlabelsize = 25; ylabelsize = 25\n",
    "\n",
    "f = Figure(resolution = (width, height))\n",
    "ax = Axis(f[1, 1], xlabel = xlabel, ylabel = ylabel, xlabelsize = xlabelsize, ylabelsize = ylabelsize)\n",
    "scatter!(ax, array_α_vec_right[:, 2], array_α_vec_right[:, 3], markersize = markersize, color = color)\n",
    "scatter!(ax, array_α_vec_left[:, 2], array_α_vec_left[:, 3], markersize = markersize, color = color)\n",
    "\n",
    "scatter!(ax, array_α_vec_up[:, 2], array_α_vec_up[:, 3], markersize = markersize, color = color)\n",
    "scatter!(ax, array_α_vec_down[:, 2], array_α_vec_down[:, 3], markersize = markersize, color = color)\n",
    "\n",
    "scatter!(ax, 0.0, 0.0, markersize = markersize, color = :green)\n",
    "display(GLMakie.Screen(), f)"
   ]
  },
  {
   "cell_type": "code",
   "execution_count": 35,
   "metadata": {},
   "outputs": [
    {
     "data": {
      "text/plain": [
       "GLMakie.Screen(...)"
      ]
     },
     "metadata": {},
     "output_type": "display_data"
    }
   ],
   "source": [
    "width, height = 600, 500\n",
    "markersize = 5.0\n",
    "color = :black\n",
    "xlabel = L\"x\"; ylabel = L\"y\"; zlabel = L\"E\"\n",
    "xlabelsize = 25; ylabelsize = 25; zlabelsize = 25\n",
    "\n",
    "f = Figure(resolution = (width, height))\n",
    "ax = Axis3(f[1, 1], xlabel = xlabel, ylabel = ylabel, zlabel = zlabel, xlabelsize = xlabelsize, ylabelsize = ylabelsize, zlabelsize = zlabelsize)\n",
    "scatter!(ax, dots_right_side[:, 2], dots_right_side[:, 3], dots_right_side[:, 1],  markersize = markersize, color = color)\n",
    "scatter!(ax, dots_left_side[:, 2], dots_left_side[:, 3], dots_left_side[:, 1],  markersize = markersize, color = color)\n",
    "scatter!(ax, dots_up_side[:, 2], dots_up_side[:, 3], dots_up_side[:, 1],  markersize = markersize, color = color)\n",
    "scatter!(ax, dots_down_side[:, 2], dots_down_side[:, 3], dots_down_side[:, 1],  markersize = markersize, color = color)\n",
    "\n",
    "scatter!(ax, fp_[2], fp_[3], fp_[1],  markersize = markersize, color = :blue)\n",
    "display(GLMakie.Screen(), f)"
   ]
  },
  {
   "cell_type": "code",
   "execution_count": 36,
   "metadata": {},
   "outputs": [
    {
     "data": {
      "text/plain": [
       "GLMakie.Screen(...)"
      ]
     },
     "metadata": {},
     "output_type": "display_data"
    }
   ],
   "source": [
    "width, height = 600, 500\n",
    "markersize = 5.0\n",
    "color = :black\n",
    "xlabel = L\"x\"; ylabel = L\"y\"\n",
    "xlabelsize = 25; ylabelsize = 25\n",
    "idx, idy = 2, 3\n",
    "f = Figure(resolution = (width, height))\n",
    "ax = Axis(f[1, 1], xlabel = xlabel, ylabel = ylabel, xlabelsize = xlabelsize, ylabelsize = ylabelsize)\n",
    "scatter!(ax, dots_right_side[:, 2], dots_right_side[:, 3],  markersize = markersize, color = color)\n",
    "scatter!(ax, dots_left_side[:, idx], dots_left_side[:, idy],  markersize = markersize, color = color)\n",
    "scatter!(ax, dots_up_side[:, idx], dots_up_side[:, idy],  markersize = markersize, color = color)\n",
    "scatter!(ax, dots_down_side[:, idx], dots_down_side[:, idy],  markersize = markersize, color = color)\n",
    "\n",
    "scatter!(ax, fp_[idx], fp_[idy],  markersize = markersize, color = :blue)\n",
    "display(GLMakie.Screen(), f)"
   ]
  }
 ],
 "metadata": {
  "kernelspec": {
   "display_name": "Julia 1.9.1",
   "language": "julia",
   "name": "julia-1.9"
  },
  "language_info": {
   "file_extension": ".jl",
   "mimetype": "application/julia",
   "name": "julia",
   "version": "1.9.1"
  },
  "orig_nbformat": 4
 },
 "nbformat": 4,
 "nbformat_minor": 2
}
