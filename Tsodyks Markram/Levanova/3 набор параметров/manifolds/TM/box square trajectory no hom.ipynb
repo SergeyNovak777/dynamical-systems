{
 "cells": [
  {
   "cell_type": "code",
   "execution_count": 1,
   "metadata": {},
   "outputs": [
    {
     "name": "stderr",
     "output_type": "stream",
     "text": [
      "\u001b[32m\u001b[1m  Activating\u001b[22m\u001b[39m project at `C:\\Users\\Alex\\Desk"
     ]
    },
    {
     "name": "stderr",
     "output_type": "stream",
     "text": [
      "top\\dynamical-systems\\env\\integrate`\n"
     ]
    }
   ],
   "source": [
    "username = \"Alex\"\n",
    "pathtorepo = \"C:\\\\Users\\\\\" *username *  \"\\\\Desktop\\\\\"\n",
    "using Pkg\n",
    "Pkg.activate(pathtorepo * \"dynamical-systems\\\\env\\\\integrate\\\\\")\n",
    "include(pathtorepo * \"dynamical-systems\\\\system.jl\")\n",
    "\n",
    "\n",
    "using StaticArrays, DifferentialEquations, DynamicalSystems, JLD\n",
    "E, x, y  = -40..40, -5..5,  -5..5\n",
    "box = E × x × y\n",
    "using GLMakie\n",
    "using LinearAlgebra, LinearSolve,Statistics\n",
    "\n",
    "cd(\"C:\\\\Users\\\\\" *username *  \"\\\\Desktop\\\\dynamical-systems\\\\Tsodyks Markram\\\\Levanova\\\\3 набор параметров\\\\Сопоставление с матконт\\\\файлы matlab\")\n",
    "I0_hom = load(\"I0_hom_hom.jld\")[\"data\"]\n",
    "u0_hom = load(\"U0_hom_hom.jld\")[\"data\"]\n",
    "I0_hom = I0_hom[:]\n",
    "u0_hom = u0_hom[:];"
   ]
  },
  {
   "cell_type": "code",
   "execution_count": 2,
   "metadata": {},
   "outputs": [],
   "source": [
    "function condition(u, t, integrator)\n",
    "    x = Vector(u)\n",
    "    b = x - fp[1]\n",
    "    b = Vector(b)\n",
    "    linprob = LinearProblem(A, b)\n",
    "    linsolve = solve(linprob)\n",
    "    return norm(linsolve.u, Inf) - ϵ_box\n",
    "end\n",
    "affect!(integrator) = terminate!(integrator)\n",
    "function get_norm_αs(u)\n",
    "    x = Vector(u)\n",
    "    b = x - fp[1]\n",
    "    b = Vector(b)\n",
    "    linprob = LinearProblem(A, b)\n",
    "    linsolve = solve(linprob)\n",
    "    return norm(linsolve.u, Inf), linsolve\n",
    "end\n",
    "function color_alpha(alpha)\n",
    "    if alpha > 0.0\n",
    "        return \"red\"\n",
    "    else\n",
    "        return \"blue\"\n",
    "    end\n",
    "end;"
   ]
  },
  {
   "cell_type": "code",
   "execution_count": 3,
   "metadata": {},
   "outputs": [],
   "source": [
    "const τ = 0.013;  const τD = 0.07993;  const τy = 3.3;  const J = 3.07;  const β = 0.300\n",
    "const xthr = 0.75; const ythr = 0.4; const α = 1.58; const ΔU0 = 0.305\n",
    "\n",
    "t = 2000.0; tspan = [0.0, t];"
   ]
  },
  {
   "cell_type": "code",
   "execution_count": 4,
   "metadata": {},
   "outputs": [
    {
     "data": {
      "text/plain": [
       "3×3 Matrix{Float64}:\n",
       "  0.998704    0.9999       0.0\n",
       " -0.0494863  -0.0141172    0.98519\n",
       "  0.0118971   0.000715452  0.171469"
      ]
     },
     "metadata": {},
     "output_type": "display_data"
    }
   ],
   "source": [
    "# index point from homoclinic curve\n",
    "index_hom = 1\n",
    "I0 = -1.69; U0 = u0_hom[index_hom]\n",
    "\n",
    "p = SA[α, τ, τD, τy, J, xthr, ythr, U0, ΔU0, β, I0]\n",
    "u0 = [0.0, 0.0, 0.0]\n",
    "\n",
    "ds = CoupledODEs(TM, u0, p)\n",
    "fp, _, _ = fixedpoints(ds, box, jacob_TM_)\n",
    "\n",
    "ϵ_box = 1e-5\n",
    "Ju0 = jacob_TM_(fp[1], p, 0);\n",
    "fp_ = fp[1]\n",
    "\n",
    "eigen_val_vec = eigen(Ju0)\n",
    "eigen_vectors = eigen_val_vec.vectors\n",
    "\n",
    "v1 = real(eigen_vectors[:, 1])\n",
    "v2 = real(eigen_vectors[:, 2])\n",
    "v3 = imag(eigen_vectors[:, 3])\n",
    "\n",
    "v1 = normalize(v1, 2)\n",
    "v1t = transpose(v1)\n",
    "\n",
    "v2 = normalize(v2, 2)\n",
    "v2t = transpose(v2)\n",
    "\n",
    "v3 = normalize(v3, 2)\n",
    "v3t = transpose(v3)\n",
    "\n",
    "A = transpose([v1t; v2t; v3t])\n",
    "A = Matrix(A)"
   ]
  },
  {
   "cell_type": "code",
   "execution_count": 5,
   "metadata": {},
   "outputs": [],
   "source": [
    "total_number_points = 25\n",
    "number_points_on_side = Int((total_number_points) / 1)\n",
    "\n",
    "dots_right_side = zeros(number_points_on_side, length(u0))\n",
    "array_α_vec_right = zeros(number_points_on_side, length(u0))\n",
    "\n",
    "dots_left_side = zeros(number_points_on_side, length(u0))\n",
    "array_α_vec_left = zeros(number_points_on_side, length(u0))\n",
    "\n",
    "dots_up_side = zeros(number_points_on_side, length(u0))\n",
    "array_α_vec_up = zeros(number_points_on_side, length(u0))\n",
    "\n",
    "dots_down_side = zeros(number_points_on_side, length(u0))\n",
    "array_α_vec_down = zeros(number_points_on_side, length(u0));"
   ]
  },
  {
   "cell_type": "code",
   "execution_count": 6,
   "metadata": {},
   "outputs": [],
   "source": [
    "# case α1 = 0; α2 = ϵ_box; α3 = [-ϵ_box; ϵ_box]\n",
    "n = 1\n",
    "N = total_number_points\n",
    "while n <= number_points_on_side\n",
    "\n",
    "    α1 = 0.0\n",
    "    α2 = ϵ_box\n",
    "    α3 = - ϵ_box + 2 * ϵ_box * n / N\n",
    "    α_vec = [α1, α2, α3]\n",
    "    point = fp_ + A * α_vec\n",
    "    \n",
    "    dots_right_side[n, :] = point\n",
    "    _, α_vec = get_norm_αs( dots_right_side[n, :] )\n",
    "    array_α_vec_right[n, :] = α_vec\n",
    "    n+=1\n",
    "end\n",
    "\n",
    "# case α1 = 0; α2 = -ϵ_box; α3 = [-ϵ_box; ϵ_box]\n",
    "n = 1\n",
    "N = total_number_points\n",
    "while n <= number_points_on_side\n",
    "\n",
    "    α1 = 0.0\n",
    "    α2 = -ϵ_box\n",
    "    α3 = - ϵ_box + 2 * ϵ_box * n / N\n",
    "    α_vec = [α1, α2, α3]\n",
    "    point = fp_ + A * α_vec\n",
    "    \n",
    "    dots_left_side[n, :] = point\n",
    "    _, α_vec = get_norm_αs( dots_left_side[n, :] )\n",
    "    array_α_vec_left[n, :] = α_vec\n",
    "    n+=1\n",
    "end\n",
    "\n",
    "# case α1 = 0; α2 = [-ϵ_box; ϵ_box]; α3 = ϵ_box\n",
    "n = 1\n",
    "N = total_number_points\n",
    "while n <= number_points_on_side\n",
    "\n",
    "    α1 = 0.0\n",
    "    α2 = - ϵ_box + 2 * ϵ_box * n / N\n",
    "    α3 = ϵ_box\n",
    "    α_vec = [α1, α2, α3]\n",
    "    point = fp_ + A * α_vec\n",
    "    \n",
    "    dots_up_side[n, :] = point\n",
    "    _, α_vec = get_norm_αs( dots_up_side[n, :] )\n",
    "    array_α_vec_up[n, :] = α_vec\n",
    "    n+=1\n",
    "end\n",
    "\n",
    "# case α1 = 0; α2 = [-ϵ_box; ϵ_box]; α3 = -ϵ_box\n",
    "n = 1\n",
    "N = total_number_points\n",
    "while n <= number_points_on_side\n",
    "\n",
    "    α1 = 0.0\n",
    "    α2 = - ϵ_box + 2 * ϵ_box * n / N\n",
    "    α3 = -ϵ_box\n",
    "    α_vec = [α1, α2, α3]\n",
    "    point = fp_ + A * α_vec\n",
    "    \n",
    "    dots_down_side[n, :] = point\n",
    "    _, α_vec = get_norm_αs( dots_down_side[n, :] )\n",
    "    array_α_vec_down[n, :] = α_vec\n",
    "    n+=1\n",
    "end;"
   ]
  },
  {
   "cell_type": "code",
   "execution_count": 7,
   "metadata": {},
   "outputs": [
    {
     "data": {
      "text/plain": [
       "Any[]"
      ]
     },
     "metadata": {},
     "output_type": "display_data"
    }
   ],
   "source": [
    "Es = Float64[]; xs = Float64[]; ys = Float64[]\n",
    "α1s =  Float64[]; α2s =  Float64[]; α3s =  Float64[]\n",
    "\n",
    "colors = []\n",
    "check_events = []\n",
    "time_events = []"
   ]
  },
  {
   "cell_type": "code",
   "execution_count": 8,
   "metadata": {},
   "outputs": [
    {
     "data": {
      "text/plain": [
       "trajectory_from_side (generic function with 1 method)"
      ]
     },
     "metadata": {},
     "output_type": "display_data"
    }
   ],
   "source": [
    "function trajectory_from_side(dots_from_side, number_points_on_side, cb)\n",
    "    \n",
    "    for index in range(1, number_points_on_side, step = 1)\n",
    "    \n",
    "        u0 = SA[dots_from_side[index, 1], dots_from_side[index, 2], dots_from_side[index, 3]]\n",
    "        prob = ODEProblem(TM, u0, tspan, p)\n",
    "        sol = solve(prob, alg = Vern9(), abstol = 1e-14, reltol = 1e-14, callback = cb)\n",
    "        norm, linsolve = get_norm_αs(sol[end])\n",
    "    \n",
    "        if sol.retcode == ReturnCode.Terminated\n",
    "            push!(Es, sol[end][1])\n",
    "            push!(xs, sol[end][2])\n",
    "            push!(ys, sol[end][3])\n",
    "            push!(α1s, linsolve[1])\n",
    "            push!(α2s, linsolve[2])\n",
    "            push!(α3s, linsolve[3])\n",
    "            push!(colors, color_alpha(linsolve[1]))\n",
    "            push!(check_events, true)\n",
    "            push!(time_events, sol.t[end])\n",
    "        else\n",
    "           push!(check_events, false)\n",
    "        end\n",
    "    end\n",
    "\n",
    "end"
   ]
  },
  {
   "cell_type": "code",
   "execution_count": 9,
   "metadata": {},
   "outputs": [],
   "source": [
    "cb = ContinuousCallback(condition, nothing, affect!)\n",
    "trajectory_from_side(dots_up_side, number_points_on_side, cb)\n",
    "trajectory_from_side(dots_down_side, number_points_on_side, cb)"
   ]
  },
  {
   "cell_type": "code",
   "execution_count": 10,
   "metadata": {},
   "outputs": [],
   "source": [
    "number_of_event = length(findall(check_events .== true))\n",
    "number_of_no_event = length(check_events) - number_of_event\n",
    "println(\"number of event: $(number_of_event); number of no event: $(number_of_no_event)\")"
   ]
  },
  {
   "cell_type": "code",
   "execution_count": 11,
   "metadata": {},
   "outputs": [
    {
     "name": "stdout",
     "output_type": "stream",
     "text": [
      "number of event: 0; number of no event: 50\n",
      "number of event: 0; number of no event: 50\n"
     ]
    }
   ],
   "source": [
    "number_of_event = length(findall(check_events .== true))\n",
    "number_of_no_event = length(check_events) - number_of_event\n",
    "println(\"number of event: $(number_of_event); number of no event: $(number_of_no_event)\")"
   ]
  },
  {
   "cell_type": "code",
   "execution_count": 12,
   "metadata": {},
   "outputs": [
    {
     "ename": "MethodError",
     "evalue": "MethodError: no method matching gl_promote(::Type{Any})\n\nClosest candidates are:\n  gl_promote(!Matched::Type{Vec{N, T}}) where {N, T}\n   @ GLMakie C:\\Users\\Alex\\.julia\\packages\\GLMakie\\OVxAi\\src\\GLAbstraction\\GLUniforms.jl:188\n  gl_promote(!Matched::Type{T}) where T<:ColorTypes.BGRA\n   @ GLMakie C:\\Users\\Alex\\.julia\\packages\\GLMakie\\OVxAi\\src\\GLAbstraction\\GLUniforms.jl:185\n  gl_promote(!Matched::Type{Point{N, T}}) where {N, T}\n   @ GLMakie C:\\Users\\Alex\\.julia\\packages\\GLMakie\\OVxAi\\src\\GLAbstraction\\GLUniforms.jl:189\n  ...\n",
     "output_type": "error",
     "traceback": [
      "MethodError: no method matching gl_promote(::Type{Any})\n",
      "\n",
      "Closest candidates are:\n",
      "  gl_promote(!Matched::Type{Vec{N, T}}) where {N, T}\n",
      "   @ GLMakie C:\\Users\\Alex\\.julia\\packages\\GLMakie\\OVxAi\\src\\GLAbstraction\\GLUniforms.jl:188\n",
      "  gl_promote(!Matched::Type{T}) where T<:ColorTypes.BGRA\n",
      "   @ GLMakie C:\\Users\\Alex\\.julia\\packages\\GLMakie\\OVxAi\\src\\GLAbstraction\\GLUniforms.jl:185\n",
      "  gl_promote(!Matched::Type{Point{N, T}}) where {N, T}\n",
      "   @ GLMakie C:\\Users\\Alex\\.julia\\packages\\GLMakie\\OVxAi\\src\\GLAbstraction\\GLUniforms.jl:189\n",
      "  ...\n",
      "\n",
      "\n",
      "Stacktrace:\n",
      "  [1] gl_convert(::Type{GLMakie.GLAbstraction.GLBuffer}, a::Observable{Vector{Any}}; kw_args::Base.Pairs{Symbol, Union{}, Tuple{}, NamedTuple{(), Tuple{}}})\n",
      "    @ GLMakie.GLAbstraction C:\\Users\\Alex\\.julia\\packages\\GLMakie\\OVxAi\\src\\GLAbstraction\\GLUniforms.jl:249\n",
      "  [2] gl_convert(::Type{GLMakie.GLAbstraction.GLBuffer}, a::Observable{Vector{Any}})\n",
      "    @ GLMakie.GLAbstraction C:\\Users\\Alex\\.julia\\packages\\GLMakie\\OVxAi\\src\\GLAbstraction\\GLUniforms.jl:248\n",
      "  [3] GLMakie.GLAbstraction.RenderObject(data::Dict{Symbol, Any}, program::GLMakie.GLVisualizeShader, pre::GLMakie.GLAbstraction.StandardPrerender, post::GLFW.Window, context::GLFW.Window)\n",
      "    @ GLMakie.GLAbstraction C:\\Users\\Alex\\.julia\\packages\\GLMakie\\OVxAi\\src\\GLAbstraction\\GLTypes.jl:422\n",
      "  [4] GLMakie.GLAbstraction.RenderObject(data::Dict{Symbol, Any}, program::GLMakie.GLVisualizeShader, pre::GLMakie.GLAbstraction.StandardPrerender, post::GLFW.Window)\n",
      "    @ GLMakie.GLAbstraction C:\\Users\\Alex\\.julia\\packages\\GLMakie\\OVxAi\\src\\GLAbstraction\\GLTypes.jl:404\n",
      "  [5] assemble_shader(data::Dict{Symbol, Any})\n",
      "    @ GLMakie C:\\Users\\Alex\\.julia\\packages\\GLMakie\\OVxAi\\src\\glshaders\\visualize_interface.jl:108\n",
      "  [6] draw_scatter(screen::Any, ::Any, data::Any)\n",
      "    @ GLMakie C:\\Users\\Alex\\.julia\\packages\\GLMakie\\OVxAi\\src\\glshaders\\particles.jl:213\n",
      "  [7] (::GLMakie.var\"#189#196\"{GLMakie.Screen{GLFW.Window}, Scene, Scatter{Tuple{Vector{Point{2, Float32}}}}})(gl_attributes::Dict{Symbol, Any})\n",
      "    @ GLMakie C:\\Users\\Alex\\.julia\\packages\\GLMakie\\OVxAi\\src\\drawing_primitives.jl:260\n",
      "  [8] (::GLMakie.var\"#175#178\"{GLMakie.var\"#189#196\"{GLMakie.Screen{GLFW.Window}, Scene, Scatter{Tuple{Vector{Point{2, Float32}}}}}, GLMakie.Screen{GLFW.Window}, Scene, Scatter{Tuple{Vector{Point{2, Float32}}}}})()\n",
      "    @ GLMakie C:\\Users\\Alex\\.julia\\packages\\GLMakie\\OVxAi\\src\\drawing_primitives.jl:111\n",
      "  [9] get!(default::GLMakie.var\"#175#178\"{GLMakie.var\"#189#196\"{GLMakie.Screen{GLFW.Window}, Scene, Scatter{Tuple{Vector{Point{2, Float32}}}}}, GLMakie.Screen{GLFW.Window}, Scene, Scatter{Tuple{Vector{Point{2, Float32}}}}}, h::Dict{UInt64, GLMakie.GLAbstraction.RenderObject}, key::UInt64)\n",
      "    @ Base .\\dict.jl:468\n",
      " [10] cached_robj!(robj_func::GLMakie.var\"#189#196\"{GLMakie.Screen{GLFW.Window}, Scene, Scatter{Tuple{Vector{Point{2, Float32}}}}}, screen::GLMakie.Screen{GLFW.Window}, scene::Scene, x::Scatter{Tuple{Vector{Point{2, Float32}}}})\n",
      "    @ GLMakie C:\\Users\\Alex\\.julia\\packages\\GLMakie\\OVxAi\\src\\drawing_primitives.jl:84\n",
      " [11] draw_atomic\n",
      "    @ C:\\Users\\Alex\\.julia\\packages\\GLMakie\\OVxAi\\src\\drawing_primitives.jl:198 [inlined]\n",
      " [12] insert!(screen::GLMakie.Screen{GLFW.Window}, scene::Scene, x::Scatter{Tuple{Vector{Point{2, Float32}}}})\n",
      "    @ GLMakie C:\\Users\\Alex\\.julia\\packages\\GLMakie\\OVxAi\\src\\drawing_primitives.jl:126\n",
      " [13] insertplots!(screen::GLMakie.Screen{GLFW.Window}, scene::Scene)\n",
      "    @ GLMakie C:\\Users\\Alex\\.julia\\packages\\GLMakie\\OVxAi\\src\\screen.jl:448\n",
      " [14] insertplots!(screen::GLMakie.Screen{GLFW.Window}, scene::Scene) (repeats 2 times)\n",
      "    @ GLMakie C:\\Users\\Alex\\.julia\\packages\\GLMakie\\OVxAi\\src\\screen.jl:451\n",
      " [15] display_scene!(screen::GLMakie.Screen{GLFW.Window}, scene::Scene)\n",
      "    @ GLMakie C:\\Users\\Alex\\.julia\\packages\\GLMakie\\OVxAi\\src\\screen.jl:380\n",
      " [16] display(screen::GLMakie.Screen{GLFW.Window}, scene::Scene; connect::Bool)\n",
      "    @ GLMakie C:\\Users\\Alex\\.julia\\packages\\GLMakie\\OVxAi\\src\\display.jl:5\n",
      " [17] display\n",
      "    @ C:\\Users\\Alex\\.julia\\packages\\GLMakie\\OVxAi\\src\\display.jl:1 [inlined]\n",
      " [18] #display#1043\n",
      "    @ C:\\Users\\Alex\\.julia\\packages\\Makie\\iECbF\\src\\display.jl:175 [inlined]\n",
      " [19] display(screen::GLMakie.Screen{GLFW.Window}, figlike::Figure)\n",
      "    @ Makie C:\\Users\\Alex\\.julia\\packages\\Makie\\iECbF\\src\\display.jl:172\n",
      " [20] top-level scope\n",
      "    @ c:\\Users\\Alex\\Desktop\\dynamical-systems\\Tsodyks Markram\\Levanova\\3 набор параметров\\manifolds\\box square trajectory no hom.ipynb:12"
     ]
    }
   ],
   "source": [
    "# last points in space (α2, α3)\n",
    "f = Figure(resolution = (700, 700))\n",
    "\n",
    "ax = Axis(f[1, 1], xlabel = L\"α_2\", ylabel = L\"α_3\", xlabelsize = 35, ylabelsize = 35)\n",
    "idx, idy = 5, 6\n",
    "\n",
    "scatter!(ax, 0.0, 0.0, color = :green, markersize = 15, marker = :rect)\n",
    "\n",
    "scatter!(ax, α2s, α3s, color = colors[:], markersize = 5)\n",
    "\n",
    "\n",
    "display(GLMakie.Screen(), f);"
   ]
  },
  {
   "cell_type": "code",
   "execution_count": 13,
   "metadata": {},
   "outputs": [
    {
     "ename": "ErrorException",
     "evalue": "znear (0.0) must be different from tfar (0.0)",
     "output_type": "error",
     "traceback": [
      "znear (0.0) must be different from tfar (0.0)\n",
      "\n",
      "Stacktrace:\n",
      "  [1] error(s::String)\n",
      "    @ Base .\\error.jl:35\n",
      "  [2] perspectiveprojection(fovy::Float32, aspect::Float32, znear::Float32, zfar::Float32)\n",
      "    @ Makie C:\\Users\\Alex\\.julia\\packages\\Makie\\iECbF\\src\\camera\\projection_math.jl:98\n",
      "  [3] update_cam!(scene::Scene, cam::Camera3D)\n",
      "    @ Makie C:\\Users\\Alex\\.julia\\packages\\Makie\\iECbF\\src\\camera\\camera3d.jl:589\n",
      "  [4] update_cam!(scene::Scene, camera::Camera3D, area3d::GeometryBasics.HyperRectangle{3, Float32})\n",
      "    @ Makie C:\\Users\\Alex\\.julia\\packages\\Makie\\iECbF\\src\\camera\\camera3d.jl:625\n",
      "  [5] update_cam!(scene::Scene, area::GeometryBasics.HyperRectangle{3, Float32})\n",
      "    @ Makie C:\\Users\\Alex\\.julia\\packages\\Makie\\iECbF\\src\\camera\\camera2d.jl:48\n",
      "  [6] center!(scene::Scene, padding::Float64, exclude::Function)\n",
      "    @ Makie C:\\Users\\Alex\\.julia\\packages\\Makie\\iECbF\\src\\scenes.jl:583\n",
      "  [7] center!\n",
      "    @ C:\\Users\\Alex\\.julia\\packages\\Makie\\iECbF\\src\\scenes.jl:578 [inlined]\n",
      "  [8] plot!(::LScene, ::Type{Scatter}, ::Attributes, ::Float64, ::Vararg{Float64}; kw_attributes::Base.Pairs{Symbol, Union{}, Tuple{}, NamedTuple{(), Tuple{}}})\n",
      "    @ Makie C:\\Users\\Alex\\.julia\\packages\\Makie\\iECbF\\src\\makielayout\\blocks\\scene.jl:8\n",
      "  [9] plot!\n",
      "    @ C:\\Users\\Alex\\.julia\\packages\\Makie\\iECbF\\src\\makielayout\\blocks\\scene.jl:1 [inlined]\n",
      " [10] #plot!#1766\n",
      "    @ C:\\Users\\Alex\\.julia\\packages\\Makie\\iECbF\\src\\makielayout\\blocks\\scene.jl:16 [inlined]\n",
      " [11] plot!(::Type{Scatter}, ::Float64, ::Vararg{Float64}; kw_attributes::Base.Pairs{Symbol, Any, Tuple{Symbol, Symbol}, NamedTuple{(:color, :markersize), Tuple{Symbol, Float64}}})\n",
      "    @ Makie C:\\Users\\Alex\\.julia\\packages\\Makie\\iECbF\\src\\figureplotting.jl:69\n",
      " [12] scatter!(::Float64, ::Vararg{Float64}; attributes::Base.Pairs{Symbol, Any, Tuple{Symbol, Symbol}, NamedTuple{(:color, :markersize), Tuple{Symbol, Float64}}})\n",
      "    @ MakieCore C:\\Users\\Alex\\.julia\\packages\\MakieCore\\6sckc\\src\\recipes.jl:38\n",
      " [13] top-level scope\n",
      "    @ c:\\Users\\Alex\\Desktop\\dynamical-systems\\Tsodyks Markram\\Levanova\\3 набор параметров\\manifolds\\box square trajectory no hom.ipynb:12"
     ]
    }
   ],
   "source": [
    "# last points in phase space\n",
    "idx, idy, idz = 2, 3, 1\n",
    "\n",
    "f = Figure(resolution = (700, 700))\n",
    "\n",
    "ax = LScene(f[1, 1], show_axis = true)\n",
    "    \n",
    "scale!(ax.scene, 50, 50, 1)\n",
    "\n",
    "scatter!(xs, ys, Es, markersize = 7.0, color = :deeppink)\n",
    "\n",
    "scatter!(fp[1][idx], fp[1][idy], fp[1][idz], color = :blue, markersize = 7.0)\n",
    "\n",
    "display(GLMakie.Screen(), f);"
   ]
  }
 ],
 "metadata": {
  "kernelspec": {
   "display_name": "Julia 1.9.1",
   "language": "julia",
   "name": "julia-1.9"
  },
  "language_info": {
   "file_extension": ".jl",
   "mimetype": "application/julia",
   "name": "julia",
   "version": "1.9.1"
  },
  "orig_nbformat": 4
 },
 "nbformat": 4,
 "nbformat_minor": 2
}
