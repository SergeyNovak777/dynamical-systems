{
 "cells": [
  {
   "cell_type": "code",
   "execution_count": 1,
   "metadata": {},
   "outputs": [
    {
     "name": "stderr",
     "output_type": "stream",
     "text": [
      "\u001b[32m\u001b[1m  Activating\u001b[22m\u001b[39m project at `C:\\Users\\Alex\\Desktop\\dynamical-systems\\env\\integrate`"
     ]
    },
    {
     "name": "stderr",
     "output_type": "stream",
     "text": [
      "\n"
     ]
    }
   ],
   "source": [
    "username = \"Alex\"\n",
    "pathtorepo = \"C:\\\\Users\\\\\" *username *  \"\\\\Desktop\\\\\"\n",
    "using Pkg\n",
    "Pkg.activate(pathtorepo * \"dynamical-systems\\\\env\\\\integrate\\\\\")\n",
    "include(pathtorepo * \"dynamical-systems\\\\system.jl\")\n",
    "\n",
    "\n",
    "using StaticArrays, DifferentialEquations, DynamicalSystems, JLD\n",
    "E, x, y  = -40..40, -5..5,  -5..5\n",
    "box = E × x × y\n",
    "using GLMakie\n",
    "using LinearAlgebra, LinearSolve,Statistics\n",
    "\n",
    "cd(\"C:\\\\Users\\\\\" *username *  \"\\\\Desktop\\\\dynamical-systems\\\\Tsodyks Markram\\\\Levanova\\\\3 набор параметров\\\\Сопоставление с матконт\\\\файлы matlab\")\n",
    "I0_hom = load(\"I0_hom_hom.jld\")[\"data\"]\n",
    "u0_hom = load(\"U0_hom_hom.jld\")[\"data\"]\n",
    "I0_hom = I0_hom[:]\n",
    "u0_hom = u0_hom[:];"
   ]
  },
  {
   "cell_type": "code",
   "execution_count": 2,
   "metadata": {},
   "outputs": [],
   "source": [
    "function condition(u, t, integrator)\n",
    "    x = Vector(u)\n",
    "    b = x - fp[1]\n",
    "    b = Vector(b)\n",
    "    linprob = LinearProblem(A, b)\n",
    "    linsolve = solve(linprob)\n",
    "    return norm(linsolve.u, Inf) - ϵ_box\n",
    "end\n",
    "affect!(integrator) = terminate!(integrator)\n",
    "function get_norm_αs(u)\n",
    "    x = Vector(u)\n",
    "    b = x - fp[1]\n",
    "    b = Vector(b)\n",
    "    linprob = LinearProblem(A, b)\n",
    "    linsolve = solve(linprob)\n",
    "    return norm(linsolve.u, Inf), linsolve\n",
    "end\n",
    "function color_alpha(alpha)\n",
    "    if alpha > 0.0\n",
    "        return \"red\"\n",
    "    else\n",
    "        return \"blue\"\n",
    "    end\n",
    "end;"
   ]
  },
  {
   "cell_type": "code",
   "execution_count": 3,
   "metadata": {},
   "outputs": [],
   "source": [
    "const τ = 0.013;  const τD = 0.07993;  const τy = 3.3;  const J = 3.07;  const β = 0.300\n",
    "const xthr = 0.75; const ythr = 0.4; const α = 1.58; const ΔU0 = 0.305\n",
    "\n",
    "t = 2000.0; tspan = [0.0, t];"
   ]
  },
  {
   "cell_type": "code",
   "execution_count": 25,
   "metadata": {},
   "outputs": [
    {
     "data": {
      "text/plain": [
       "3×3 Matrix{Float64}:\n",
       "  0.998728    0.999899     0.0\n",
       " -0.0489879  -0.0141814    0.984697\n",
       "  0.0119121   0.000705852  0.174274"
      ]
     },
     "metadata": {},
     "output_type": "display_data"
    }
   ],
   "source": [
    "# index point from homoclinic curve\n",
    "index_hom = 1\n",
    "I0 = I0_hom[index_hom]\n",
    "U0 = u0_hom[index_hom]\n",
    "\n",
    "p = SA[α, τ, τD, τy, J, xthr, ythr, U0, ΔU0, β, I0]\n",
    "u0 = [0.0, 0.0, 0.0]\n",
    "\n",
    "ds = CoupledODEs(TM, u0, p)\n",
    "fp, _, _ = fixedpoints(ds, box, jacob_TM_)\n",
    "\n",
    "ϵ_box = 1e-4\n",
    "Ju0 = jacob_TM_(fp[1], p, 0);\n",
    "fp_ = fp[1]\n",
    "\n",
    "eigen_val_vec = eigen(Ju0)\n",
    "eigen_vectors = eigen_val_vec.vectors\n",
    "\n",
    "v1 = real(eigen_vectors[:, 1])\n",
    "v2 = real(eigen_vectors[:, 2])\n",
    "v3 = imag(eigen_vectors[:, 3])\n",
    "\n",
    "v1 = normalize(v1, 2)\n",
    "v1t = transpose(v1)\n",
    "\n",
    "v2 = normalize(v2, 2)\n",
    "v2t = transpose(v2)\n",
    "\n",
    "v3 = normalize(v3, 2)\n",
    "v3t = transpose(v3)\n",
    "\n",
    "A = transpose([v1t; v2t; v3t])\n",
    "A = Matrix(A)"
   ]
  },
  {
   "cell_type": "code",
   "execution_count": 26,
   "metadata": {},
   "outputs": [],
   "source": [
    "total_number_points = 50\n",
    "number_points_on_side = Int((total_number_points) / 1)\n",
    "\n",
    "dots_right_side = zeros(number_points_on_side, length(u0))\n",
    "array_α_vec_right = zeros(number_points_on_side, length(u0))\n",
    "\n",
    "dots_left_side = zeros(number_points_on_side, length(u0))\n",
    "array_α_vec_left = zeros(number_points_on_side, length(u0))\n",
    "\n",
    "dots_up_side = zeros(number_points_on_side, length(u0))\n",
    "array_α_vec_up = zeros(number_points_on_side, length(u0))\n",
    "\n",
    "dots_down_side = zeros(number_points_on_side, length(u0))\n",
    "array_α_vec_down = zeros(number_points_on_side, length(u0));"
   ]
  },
  {
   "cell_type": "code",
   "execution_count": 27,
   "metadata": {},
   "outputs": [],
   "source": [
    "# case α1 = 0; α2 = ϵ_box; α3 = [-ϵ_box; ϵ_box]\n",
    "n = 1\n",
    "N = total_number_points\n",
    "while n <= number_points_on_side\n",
    "\n",
    "    α1 = 0.0\n",
    "    α2 = ϵ_box\n",
    "    α3 = - ϵ_box + 2 * ϵ_box * n / N\n",
    "    α_vec = [α1, α2, α3]\n",
    "    point = fp_ + A * α_vec\n",
    "    \n",
    "    dots_right_side[n, :] = point\n",
    "    _, α_vec = get_norm_αs( dots_right_side[n, :] )\n",
    "    array_α_vec_right[n, :] = α_vec\n",
    "    n+=1\n",
    "end\n",
    "\n",
    "# case α1 = 0; α2 = -ϵ_box; α3 = [-ϵ_box; ϵ_box]\n",
    "n = 1\n",
    "N = total_number_points\n",
    "while n <= number_points_on_side\n",
    "\n",
    "    α1 = 0.0\n",
    "    α2 = -ϵ_box\n",
    "    α3 = - ϵ_box + 2 * ϵ_box * n / N\n",
    "    α_vec = [α1, α2, α3]\n",
    "    point = fp_ + A * α_vec\n",
    "    \n",
    "    dots_left_side[n, :] = point\n",
    "    _, α_vec = get_norm_αs( dots_left_side[n, :] )\n",
    "    array_α_vec_left[n, :] = α_vec\n",
    "    n+=1\n",
    "end\n",
    "\n",
    "# case α1 = 0; α2 = [-ϵ_box; ϵ_box]; α3 = ϵ_box\n",
    "n = 1\n",
    "N = total_number_points\n",
    "while n <= number_points_on_side\n",
    "\n",
    "    α1 = 0.0\n",
    "    α2 = - ϵ_box + 2 * ϵ_box * n / N\n",
    "    α3 = ϵ_box\n",
    "    α_vec = [α1, α2, α3]\n",
    "    point = fp_ + A * α_vec\n",
    "    \n",
    "    dots_up_side[n, :] = point\n",
    "    _, α_vec = get_norm_αs( dots_up_side[n, :] )\n",
    "    array_α_vec_up[n, :] = α_vec\n",
    "    n+=1\n",
    "end\n",
    "\n",
    "# case α1 = 0; α2 = [-ϵ_box; ϵ_box]; α3 = -ϵ_box\n",
    "n = 1\n",
    "N = total_number_points\n",
    "while n <= number_points_on_side\n",
    "\n",
    "    α1 = 0.0\n",
    "    α2 = - ϵ_box + 2 * ϵ_box * n / N\n",
    "    α3 = -ϵ_box\n",
    "    α_vec = [α1, α2, α3]\n",
    "    point = fp_ + A * α_vec\n",
    "    \n",
    "    dots_down_side[n, :] = point\n",
    "    _, α_vec = get_norm_αs( dots_down_side[n, :] )\n",
    "    array_α_vec_down[n, :] = α_vec\n",
    "    n+=1\n",
    "end;"
   ]
  },
  {
   "cell_type": "code",
   "execution_count": 29,
   "metadata": {},
   "outputs": [
    {
     "data": {
      "text/plain": [
       "Float64[]"
      ]
     },
     "metadata": {},
     "output_type": "display_data"
    }
   ],
   "source": [
    "Es = Float64[]; xs = Float64[]; ys = Float64[]\n",
    "α1s =  Float64[]; α2s =  Float64[]; α3s =  Float64[]\n",
    "\n",
    "colors = []\n",
    "check_events = []\n",
    "time_events = Float64[]"
   ]
  },
  {
   "cell_type": "code",
   "execution_count": 30,
   "metadata": {},
   "outputs": [
    {
     "data": {
      "text/plain": [
       "retcode: Terminated\n",
       "Interpolation: specialized 9th order lazy interpolation\n",
       "t: 34266-element Vector{Float64}:\n",
       "   0.0\n",
       "   0.023861421042473675\n",
       "   0.03849888440089076\n",
       "   0.05554109608485222\n",
       "   0.07154504729931804\n",
       "   0.08836575522347312\n",
       "   0.10491647288217588\n",
       "   0.12263216463151544\n",
       "   0.1387249292196879\n",
       "   0.156875588816766\n",
       "   ⋮\n",
       " 358.40614518970483\n",
       " 358.42797939449906\n",
       " 358.4473507280917\n",
       " 358.46824222702446\n",
       " 358.48750751578496\n",
       " 358.5090251529936\n",
       " 358.5321170601253\n",
       " 358.54074921968635\n",
       " 358.54074921968635\n",
       "u: 34266-element Vector{SVector{3, Float64}}:\n",
       " [8.345736458879138, 0.7385941554312518, 0.4383159369490734]\n",
       " [8.349329253467802, 0.7385430940391015, 0.4383184539282618]\n",
       " [8.35155161126201, 0.7385058988487473, 0.43831901709897997]\n",
       " [8.354004927209436, 0.738459022226449, 0.43831860998017336]\n",
       " [8.356046217169066, 0.7384135825324631, 0.4383171338010143]\n",
       " [8.357778958823035, 0.738366855101744, 0.43831444020152505]\n",
       " [8.358946281025329, 0.7383245277948356, 0.4383107101176173]\n",
       " [8.359486703117968, 0.7382862003617038, 0.43830567566911655]\n",
       " [8.359266137085203, 0.7382601023219639, 0.43830035937597167]\n",
       " [8.358157070487575, 0.7382431526721752, 0.4382938068823257]\n",
       " ⋮\n",
       " [8.349801855845826, 0.7384452771781956, 0.4383046890635416]\n",
       " [8.350168207409563, 0.7384293911600796, 0.43830279305855707]\n",
       " [8.350183573672986, 0.7384186599356461, 0.43830073948653003]\n",
       " [8.349840142565814, 0.7384120124584432, 0.43829826560011487]\n",
       " [8.34918707875592, 0.7384113676849101, 0.43829589475806296]\n",
       " [8.34810167312375, 0.7384175606990475, 0.4382933463135804]\n",
       " [8.346591227276578, 0.7384324907145245, 0.43829098707755854]\n",
       " [8.34595812772997, 0.7384401703847083, 0.43829026134012083]\n",
       " [8.34595812772997, 0.7384401703847083, 0.43829026134012083]"
      ]
     },
     "metadata": {},
     "output_type": "display_data"
    }
   ],
   "source": [
    "cb = ContinuousCallback(condition, nothing, affect!)\n",
    "\n",
    "index = 7\n",
    "u0 = SA[dots_up_side[index, 1], dots_up_side[index, 2], dots_up_side[index, 3]]\n",
    "prob = ODEProblem(TM, u0, tspan, p)\n",
    "sol = solve(prob, alg = Vern9(), abstol = 1e-14, reltol = 1e-14, callback = cb)"
   ]
  },
  {
   "cell_type": "code",
   "execution_count": 31,
   "metadata": {},
   "outputs": [
    {
     "data": {
      "text/plain": [
       "(0.0001000000000013857, [4.974945489845076e-5, 0.0001000000000013857, -5.142596733536937e-5])"
      ]
     },
     "metadata": {},
     "output_type": "display_data"
    }
   ],
   "source": [
    "norm_, alphas = get_norm_αs(sol[end])"
   ]
  },
  {
   "cell_type": "code",
   "execution_count": 32,
   "metadata": {},
   "outputs": [
    {
     "data": {
      "text/plain": [
       "0.0001"
      ]
     },
     "metadata": {},
     "output_type": "display_data"
    }
   ],
   "source": [
    "ϵ_box"
   ]
  },
  {
   "cell_type": "code",
   "execution_count": 33,
   "metadata": {},
   "outputs": [
    {
     "data": {
      "text/plain": [
       "4.974945489845076e-5"
      ]
     },
     "metadata": {},
     "output_type": "display_data"
    }
   ],
   "source": [
    "alphas[1]"
   ]
  },
  {
   "cell_type": "code",
   "execution_count": 37,
   "metadata": {},
   "outputs": [],
   "source": [
    "# last points in phase space\n",
    "idx, idy, idz = 2, 3, 1\n",
    "tstart, tend = 34266-200, 34266\n",
    "f = Figure(resolution = (700, 700))\n",
    "\n",
    "ax = LScene(f[1, 1], show_axis = true)\n",
    "    \n",
    "scale!(ax.scene, 50, 50, 1)\n",
    "\n",
    "lines!(sol[idx, tstart:tend], sol[idy, tstart:tend], sol[idz, tstart:tend], markersize = 7.0, color = :deeppink)\n",
    "\n",
    "scatter!(fp[1][idx], fp[1][idy], fp[1][idz], color = :blue, markersize = 7.0)\n",
    "\n",
    "display(GLMakie.Screen(), f);"
   ]
  },
  {
   "cell_type": "code",
   "execution_count": 10,
   "metadata": {},
   "outputs": [],
   "source": [
    "for index in range(1, length(sol), step = 1)\n",
    "    norm_, linsolve = get_norm_αs(sol[index])\n",
    "    push!(α1s, linsolve[1])\n",
    "    push!(α2s, linsolve[2])\n",
    "    push!(α3s, linsolve[3])\n",
    "end"
   ]
  }
 ],
 "metadata": {
  "kernelspec": {
   "display_name": "Julia 1.9.1",
   "language": "julia",
   "name": "julia-1.9"
  },
  "language_info": {
   "file_extension": ".jl",
   "mimetype": "application/julia",
   "name": "julia",
   "version": "1.9.1"
  },
  "orig_nbformat": 4
 },
 "nbformat": 4,
 "nbformat_minor": 2
}
