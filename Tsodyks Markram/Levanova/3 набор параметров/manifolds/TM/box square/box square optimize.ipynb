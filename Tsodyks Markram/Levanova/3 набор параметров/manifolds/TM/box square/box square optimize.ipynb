{
 "cells": [
  {
   "cell_type": "code",
   "execution_count": 1,
   "metadata": {},
   "outputs": [
    {
     "name": "stderr",
     "output_type": "stream",
     "text": [
      "\u001b[32m\u001b[1m  Activating\u001b[22m\u001b[39m project at `C:\\Users\\Alex\\Desktop\\dynamical-systems\\env\\integrate`"
     ]
    },
    {
     "name": "stderr",
     "output_type": "stream",
     "text": [
      "\n"
     ]
    }
   ],
   "source": [
    "username = \"Alex\"\n",
    "pathtorepo = \"C:\\\\Users\\\\\" *username *  \"\\\\Desktop\\\\\"\n",
    "using Pkg\n",
    "Pkg.activate(pathtorepo * \"dynamical-systems\\\\env\\\\integrate\\\\\")\n",
    "include(pathtorepo * \"dynamical-systems\\\\system.jl\")\n",
    "include(pathtorepo * \"dynamical-systems\\\\box_square_functions.jl\")\n",
    "\n",
    "using StaticArrays, DifferentialEquations, DynamicalSystems, JLD\n",
    "E, x, y  = -40..40, -5..5,  -5..5\n",
    "box = E × x × y\n",
    "using GLMakie\n",
    "using LinearAlgebra, LinearSolve,Statistics\n",
    "\n",
    "cd(\"C:\\\\Users\\\\\" *username *  \"\\\\Desktop\\\\dynamical-systems\\\\Tsodyks Markram\\\\Levanova\\\\3 набор параметров\\\\Сопоставление с матконт\\\\файлы matlab\")\n",
    "I0_hom = load(\"I0_hom_hom.jld\")[\"data\"]\n",
    "u0_hom = load(\"U0_hom_hom.jld\")[\"data\"]\n",
    "I0_hom = I0_hom[:]\n",
    "u0_hom = u0_hom[:];"
   ]
  },
  {
   "cell_type": "code",
   "execution_count": 2,
   "metadata": {},
   "outputs": [],
   "source": [
    "index_hom = 1\n",
    "\n",
    "const τ = 0.013;  const τD = 0.07993;  const τy = 3.3;  const J = 3.07;  const β = 0.300\n",
    "const xthr = 0.75; const ythr = 0.4; const α = 1.58; const ΔU0 = 0.305; const U0 = u0_hom[1]\n",
    "\n",
    "t = 2000.0; tspan = [0.0, t]\n",
    "u0 = [0.0, 0.0, 0.0]\n",
    "ϵ_box = 1.0e-5\n",
    "ϵ_shift = 1e-2;"
   ]
  },
  {
   "cell_type": "code",
   "execution_count": 3,
   "metadata": {},
   "outputs": [
    {
     "data": {
      "text/plain": [
       "5000"
      ]
     },
     "metadata": {},
     "output_type": "display_data"
    }
   ],
   "source": [
    "number_points_on_side = 50\n",
    "total_count_points = number_points_on_side * 2\n",
    "\n",
    "prange =  range(I0_hom[index_hom], I0_hom[index_hom] + ϵ_shift, length = 50)\n",
    "size_vector = length(prange) * total_count_points"
   ]
  },
  {
   "cell_type": "code",
   "execution_count": 4,
   "metadata": {},
   "outputs": [],
   "source": [
    "dots_u0 = zeros(size_vector, 3)\n",
    "check_events = Vector{Bool}(undef, size_vector)\n",
    "time_events = zeros(size_vector)\n",
    "dots_on_event = zeros(size_vector, 3)\n",
    "αs = zeros(size_vector, 3)\n",
    "norms = zeros(size_vector, 3)\n",
    "data = [dots_u0, check_events, time_events, dots_on_event, αs, norms];"
   ]
  },
  {
   "cell_type": "code",
   "execution_count": 5,
   "metadata": {},
   "outputs": [],
   "source": [
    "for index in range(1, length(prange), step = 1)\n",
    "\n",
    "    if index == 1\n",
    "        global internalindex = 1\n",
    "    end\n",
    "\n",
    "    p = SA[α, τ, τD, τy, J, xthr, ythr, u0_hom[index], ΔU0, β, I0_hom[index]]\n",
    "\n",
    "    fixedpoint = get_fixed_point(TM, jacob_TM_, p, u0)\n",
    "    A = get_matrix(fixedpoint[1], p, jacob_TM_, ϵ_box, 2)\n",
    "\n",
    "    dots_right_side, array_α_vec_right,\n",
    "    dots_left_side, array_α_vec_left,\n",
    "    dots_up_side, array_α_vec_up,\n",
    "    dots_down_side, array_α_vec_down = get_arrays_dots(number_points_on_side, 3)\n",
    "\n",
    "    fill_side_square(ϵ_box, fixedpoint[1], number_points_on_side, A, \n",
    "    dots_right_side, array_α_vec_right, dots_left_side, array_α_vec_left,\n",
    "    dots_up_side, array_α_vec_up, dots_down_side, array_α_vec_down)\n",
    "\n",
    "\n",
    "    condition = make_event(fixedpoint[1], ϵ_box, A)\n",
    "    cb = ContinuousCallback(condition, nothing, affect!)\n",
    "\n",
    "    up_and_down_side = cat(dots_up_side, dots_down_side, dims = 1)\n",
    "    counts_points = total_count_points * index \n",
    "    internalindex = trajectory_from_sides(p, A, up_and_down_side, counts_points, fixedpoint[1], cb, internalindex)\n",
    "\n",
    "end"
   ]
  },
  {
   "cell_type": "code",
   "execution_count": null,
   "metadata": {},
   "outputs": [],
   "source": [
    "number_of_event = length(findall(check_events .== true))\n",
    "number_of_no_event = length(check_events) - number_of_event\n",
    "println(\"number of event: $(number_of_event); number of no event: $(number_of_no_event)\")"
   ]
  },
  {
   "cell_type": "code",
   "execution_count": null,
   "metadata": {},
   "outputs": [],
   "source": [
    "idx, idy = 2, 3\n",
    "f = Figure(resolution = (700, 700))\n",
    "tstart, tend = 560, 800\n",
    "ax = Axis(f[1, 1])\n",
    "\n",
    "scatter!(αs[tstart:tend, idx], αs[tstart:tend, idy], color = :blue, markersize = 7.0)\n",
    "scatter!(0.0, 0.0, color = :black, markersize = 10.0)\n",
    "display(GLMakie.Screen(), f);"
   ]
  }
 ],
 "metadata": {
  "kernelspec": {
   "display_name": "Julia 1.9.1",
   "language": "julia",
   "name": "julia-1.9"
  },
  "language_info": {
   "file_extension": ".jl",
   "mimetype": "application/julia",
   "name": "julia",
   "version": "1.9.1"
  },
  "orig_nbformat": 4
 },
 "nbformat": 4,
 "nbformat_minor": 2
}
