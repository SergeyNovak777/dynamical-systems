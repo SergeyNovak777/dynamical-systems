{
 "cells": [
  {
   "cell_type": "code",
   "execution_count": 1,
   "metadata": {},
   "outputs": [
    {
     "name": "stderr",
     "output_type": "stream",
     "text": [
      "\u001b[32m\u001b[1m  Activating\u001b[22m\u001b[39m project at `C:\\Users\\Alex\\Desktop\\dynamical-systems\\env\\integrate`\n"
     ]
    }
   ],
   "source": [
    "username = \"Alex\"\n",
    "env = \"integrate\"\n",
    "pathtorepo = \"C:\\\\Users\\\\\" *username *  \"\\\\Desktop\\\\\"\n",
    "using Pkg\n",
    "Pkg.activate(pathtorepo * \"dynamical-systems\\\\env\\\\\" * env * \"\\\\\")\n",
    "include(pathtorepo * \"dynamical-systems\\\\system.jl\")\n",
    "include(pathtorepo * \"dynamical-systems\\\\box_square_functions.jl\")\n",
    "\n",
    "using StaticArrays, DifferentialEquations, DynamicalSystems, JLD2\n",
    "E, x, y  = -40..40, -5..5,  -5..5\n",
    "box = E × x × y\n",
    "using GLMakie, LinearAlgebra, LinearSolve\n",
    "\n",
    "pathtofile = \"C:\\\\Users\\\\\" *username *  \"\\\\Desktop\\\\dynamical-systems\\\\Tsodyks Markram\\\\Levanova\\\\3 набор параметров\\\\Сопоставление с матконт\\\\файлы matlab\\\\\"\n",
    "I0_hom = load(pathtofile * \"I0_hom_hom.jld\")[\"data\"]\n",
    "u0_hom = load(pathtofile * \"U0_hom_hom.jld\")[\"data\"]\n",
    "I0_hom = I0_hom[:]\n",
    "u0_hom = u0_hom[:];"
   ]
  },
  {
   "cell_type": "code",
   "execution_count": 3,
   "metadata": {},
   "outputs": [
    {
     "data": {
      "text/plain": [
       "Dict{String, Any} with 6 entries:\n",
       "  \"dots_u0\"       => [0.0 0.0 0.0; 0.0 0.0 0.0; … ; 0.0 0.0 0.0; 0.0 0.0 0.0]\n",
       "  \"check_events\"  => Bool[0, 0, 0, 0, 0, 0, 1, 0, 1, 0  …  0, 0, 0, 0, 0, 0, 0,…\n",
       "  \"norms\"         => [0.0 0.0 0.0; 0.0 0.0 0.0; … ; 0.0 0.0 0.0; 0.0 0.0 0.0]\n",
       "  \"time_events\"   => [0.0, 0.0, 0.0, 0.0, 0.0, 0.0, 958.575, 0.0, 1929.12, 0.0 …\n",
       "  \"αs\"            => [0.0 0.0 0.0; 0.0 0.0 0.0; … ; 0.0 0.0 0.0; 0.0 0.0 0.0]\n",
       "  \"dots_on_event\" => [0.0 0.0 0.0; 0.0 0.0 0.0; … ; 0.0 0.0 0.0; 0.0 0.0 0.0]"
      ]
     },
     "metadata": {},
     "output_type": "display_data"
    }
   ],
   "source": [
    "data = load(\"index_point_from_curve 1.jld2\")"
   ]
  },
  {
   "cell_type": "code",
   "execution_count": 4,
   "metadata": {},
   "outputs": [
    {
     "data": {
      "text/plain": [
       "900×3 Matrix{Float64}:\n",
       " 0.0         0.0          0.0\n",
       " 0.0         0.0          0.0\n",
       " 0.0         0.0          0.0\n",
       " 0.0         0.0          0.0\n",
       " 0.0         0.0          0.0\n",
       " 0.0         0.0          0.0\n",
       " 9.88516e-6  1.0e-5      -5.95492e-6\n",
       " 0.0         0.0          0.0\n",
       " 1.01235e-5  2.78136e-5  -6.45014e-6\n",
       " 0.0         0.0          0.0\n",
       " ⋮                       \n",
       " 0.0         0.0          0.0\n",
       " 0.0         0.0          0.0\n",
       " 0.0         0.0          0.0\n",
       " 0.0         0.0          0.0\n",
       " 0.0         0.0          0.0\n",
       " 0.0         0.0          0.0\n",
       " 0.0         0.0          0.0\n",
       " 0.0         0.0          0.0\n",
       " 0.0         0.0          0.0"
      ]
     },
     "metadata": {},
     "output_type": "display_data"
    }
   ],
   "source": [
    "αs = data[\"αs\"]"
   ]
  },
  {
   "cell_type": "code",
   "execution_count": 7,
   "metadata": {},
   "outputs": [],
   "source": [
    "# last points in space (α2, α3)\n",
    "f = Figure(resolution = (700, 700))\n",
    "\n",
    "ax = Axis(f[1, 1], xlabel = L\"α_2\", ylabel = L\"α_3\", xlabelsize = 35, ylabelsize = 35)\n",
    "\n",
    "scatter!(ax, 0.0, 0.0, color = :green, markersize = 15, marker = :rect)\n",
    "scatter!(ax, αs[2], αs[3], markersize = 5)\n",
    "\n",
    "display(GLMakie.Screen(), f);"
   ]
  }
 ],
 "metadata": {
  "kernelspec": {
   "display_name": "Julia 1.9.1",
   "language": "julia",
   "name": "julia-1.9"
  },
  "language_info": {
   "file_extension": ".jl",
   "mimetype": "application/julia",
   "name": "julia",
   "version": "1.9.1"
  },
  "orig_nbformat": 4
 },
 "nbformat": 4,
 "nbformat_minor": 2
}
