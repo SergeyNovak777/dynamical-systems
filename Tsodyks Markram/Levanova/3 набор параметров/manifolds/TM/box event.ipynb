{
 "cells": [
  {
   "cell_type": "code",
   "execution_count": 1,
   "metadata": {},
   "outputs": [
    {
     "name": "stderr",
     "output_type": "stream",
     "text": [
      "\u001b[32m\u001b[1m  Activating\u001b[22m\u001b[39m project at `C:\\Users\\Alex\\Desktop\\dynamical-systems\\env\\integrate`"
     ]
    },
    {
     "name": "stderr",
     "output_type": "stream",
     "text": [
      "\n"
     ]
    }
   ],
   "source": [
    "username = \"Alex\"\n",
    "pathtorepo = \"C:\\\\Users\\\\\" *username *  \"\\\\Desktop\\\\\"\n",
    "using Pkg\n",
    "Pkg.activate(pathtorepo * \"dynamical-systems\\\\env\\\\integrate\\\\\")\n",
    "include(pathtorepo * \"dynamical-systems\\\\system.jl\")\n",
    "\n",
    "\n",
    "using StaticArrays, DifferentialEquations, DynamicalSystems, JLD\n",
    "E, x, y  = -40..40, -5..5,  -5..5\n",
    "box = E × x × y\n",
    "using CairoMakie, GLMakie\n",
    "using LinearAlgebra, LinearSolve"
   ]
  },
  {
   "cell_type": "code",
   "execution_count": 2,
   "metadata": {},
   "outputs": [],
   "source": [
    "cd(\"C:\\\\Users\\\\\" *username *  \"\\\\Desktop\\\\dynamical-systems\\\\Tsodyks Markram\\\\Levanova\\\\3 набор параметров\\\\Сопоставление с матконт\\\\файлы matlab\")\n",
    "I0_hom = load(\"I0_hom_hom.jld\")[\"data\"]\n",
    "u0_hom = load(\"U0_hom_hom.jld\")[\"data\"]\n",
    "I0_hom = I0_hom[:]\n",
    "u0_hom = u0_hom[:];"
   ]
  },
  {
   "cell_type": "code",
   "execution_count": 24,
   "metadata": {},
   "outputs": [],
   "source": [
    "const τ = 0.013;  const τD = 0.07993;  const τy = 3.3;  const J = 3.07;  const β = 0.300\n",
    "const xthr = 0.75; const ythr = 0.4; const α = 1.58; const ΔU0 = 0.305\n",
    "\n",
    "t = 1000.0; tt = 1000.0; tstep = 0.001; tspan = (1.0, t)\n",
    "integ_set = (alg = Vern9(), adaptive = true, abstol = 1e-15, reltol = 1e-15);"
   ]
  },
  {
   "cell_type": "code",
   "execution_count": 25,
   "metadata": {},
   "outputs": [],
   "source": [
    "index_hom = 1\n",
    "I0 = I0_hom[index_hom]; U0 = u0_hom[index_hom]\n",
    "p = SA[α, τ, τD, τy, J, xthr, ythr, U0, ΔU0, β, I0]\n",
    "u0 = [11.325905642223786, 0.6594706953104683, 0.4863175026548461];"
   ]
  },
  {
   "cell_type": "code",
   "execution_count": 26,
   "metadata": {},
   "outputs": [],
   "source": [
    "ds = CoupledODEs(TM, u0, p, diffeq = integ_set)\n",
    "fp, _, _ = fixedpoints(ds, box, jacob_TM_)\n",
    "ϵ_sep = 1e-7\n",
    "ϵ_box = 1e-10\n",
    "Ju0 = jacob_TM_(fp[1], p, 0);"
   ]
  },
  {
   "cell_type": "code",
   "execution_count": 27,
   "metadata": {},
   "outputs": [
    {
     "data": {
      "text/plain": [
       "3×3 Matrix{Float64}:\n",
       "  1.0         1.0          0.0\n",
       " -0.0490503  -0.0141828    1.0\n",
       "  0.0119273   0.000705923  0.176983"
      ]
     },
     "metadata": {},
     "output_type": "display_data"
    }
   ],
   "source": [
    "eigen_val_vec = eigen(Ju0)\n",
    "eigen_vectors = eigen_val_vec.vectors\n",
    "\n",
    "v1 = real(eigen_vectors[:, 1])\n",
    "v2 = real(eigen_vectors[:, 2])\n",
    "v3 = imag(eigen_vectors[:, 3])\n",
    "\n",
    "v1 = normalize(v1, Inf)\n",
    "v2 = normalize(v2, Inf)\n",
    "v3 = normalize(v3, Inf)\n",
    "\n",
    "v1t = transpose(v1)\n",
    "v2t = transpose(v2)\n",
    "v3t = transpose(v3)\n",
    "\n",
    "dot_on_sep_stable = fp[1] + v1*ϵ_sep\n",
    "A = transpose([v1t; v2t; v3t])\n",
    "A = Matrix(A)"
   ]
  },
  {
   "cell_type": "code",
   "execution_count": 28,
   "metadata": {},
   "outputs": [
    {
     "data": {
      "text/plain": [
       "affect! (generic function with 1 method)"
      ]
     },
     "metadata": {},
     "output_type": "display_data"
    }
   ],
   "source": [
    "function condition(u, p, t, integrator)\n",
    "    x = Vector(u)\n",
    "    b = x - fp[1]\n",
    "    b = Vector(b)\n",
    "    linprob = LinearProblem(A, b)\n",
    "    linsolve = solve(linprob)\n",
    "    return norm(linsolve.u, Inf)\n",
    "end\n",
    "affect!(integrator) = terminate!(integrator)"
   ]
  },
  {
   "cell_type": "code",
   "execution_count": 30,
   "metadata": {},
   "outputs": [
    {
     "data": {
      "text/plain": [
       "\u001b[38;2;86;182;194mODEProblem\u001b[0m with uType \u001b[38;2;86;182;194mSVector{3, Float64}\u001b[0m and tType \u001b[38;2;86;182;194mFloat64\u001b[0m. In-place: \u001b[38;2;86;182;194mfalse\u001b[0m\n",
       "timespan: (1.0, 1000.0)\n",
       "u0: 3-element SVector{3, Float64} with indices SOneTo(3):\n",
       " 8.345808551620786\n",
       " 0.7384946597477061\n",
       " 0.43829856154578317"
      ]
     },
     "metadata": {},
     "output_type": "display_data"
    }
   ],
   "source": [
    "probODE = ODEProblem(TM, dot_on_sep_stable, tspan, p)"
   ]
  },
  {
   "cell_type": "code",
   "execution_count": 33,
   "metadata": {},
   "outputs": [
    {
     "data": {
      "text/plain": [
       "retcode: Success\n",
       "Interpolation: specialized 9th order lazy interpolation\n",
       "t: 999002-element Vector{Float64}:\n",
       "    1.0\n",
       "    1.001\n",
       "    1.0019999999999998\n",
       "    1.0029999999999997\n",
       "    1.0039999999999996\n",
       "    1.0049999999999994\n",
       "    1.0059999999999993\n",
       "    1.0069999999999992\n",
       "    1.0079999999999991\n",
       "    1.008999999999999\n",
       "    ⋮\n",
       "  999.9929999832652\n",
       "  999.9939999832652\n",
       "  999.9949999832652\n",
       "  999.9959999832652\n",
       "  999.9969999832651\n",
       "  999.9979999832651\n",
       "  999.9989999832651\n",
       "  999.9999999832651\n",
       " 1000.0\n",
       "u: 999002-element Vector{SVector{3, Float64}}:\n",
       " [8.345808551620786, 0.7384946597477061, 0.43829856154578317]\n",
       " [8.345808550983747, 0.7384946597789531, 0.438298561538185]\n",
       " [8.345808550350766, 0.7384946598100011, 0.4382985615306353]\n",
       " [8.345808549721816, 0.7384946598408512, 0.4382985615231337]\n",
       " [8.345808549096875, 0.7384946598715048, 0.4382985615156798]\n",
       " [8.345808548475913, 0.7384946599019631, 0.43829856150827345]\n",
       " [8.345808547858908, 0.7384946599322274, 0.4382985615009143]\n",
       " [8.345808547245834, 0.7384946599622989, 0.43829856149360197]\n",
       " [8.345808546636665, 0.7384946599921788, 0.4382985614863362]\n",
       " [8.345808546031376, 0.7384946600218684, 0.4382985614791168]\n",
       " ⋮\n",
       " [7.666982169194763, 0.74527708342075, 0.43737602304068124]\n",
       " [7.661139160377007, 0.7454396441070181, 0.4373865258712709]\n",
       " [7.655385620941865, 0.7456016965306743, 0.43739726844043064]\n",
       " [7.649722755373668, 0.7457632125371714, 0.43740824992889404]\n",
       " [7.644151763391328, 0.7459241639474922, 0.4374194694738777]\n",
       " [7.638673839933341, 0.7460845225600857, 0.43743092616906204]\n",
       " [7.63329017514161, 0.7462442601527913, 0.4374426190645767]\n",
       " [7.628001954343947, 0.7464033484847536, 0.4374545471669916]\n",
       " [7.628001866651172, 0.7464033511414954, 0.43745454736857]"
      ]
     },
     "metadata": {},
     "output_type": "display_data"
    }
   ],
   "source": [
    "sol = solve(probODE, alg = Vern9(), adaptive = false, dt = tstep, )"
   ]
  },
  {
   "cell_type": "code",
   "execution_count": 10,
   "metadata": {},
   "outputs": [],
   "source": [
    "for (i, dot) in enumerate(tr)\n",
    "\n",
    "    b = dot - fp[1]\n",
    "    b = Vector(b)\n",
    "    prob = LinearProblem(A, b)\n",
    "    sol = solve(prob)\n",
    "    \n",
    "    \"\"\"vec = [abs(sol.u[1]), abs(sol.u[2]), abs(sol.u[3])]\n",
    "    norminf = maximum(vec)\"\"\"\n",
    "\n",
    "    αs[:, i] = sol\n",
    "    norminfs[i] = norm(sol.u, Inf)\n",
    "end"
   ]
  }
 ],
 "metadata": {
  "kernelspec": {
   "display_name": "Julia 1.9.1",
   "language": "julia",
   "name": "julia-1.9"
  },
  "language_info": {
   "file_extension": ".jl",
   "mimetype": "application/julia",
   "name": "julia",
   "version": "1.9.1"
  },
  "orig_nbformat": 4
 },
 "nbformat": 4,
 "nbformat_minor": 2
}
