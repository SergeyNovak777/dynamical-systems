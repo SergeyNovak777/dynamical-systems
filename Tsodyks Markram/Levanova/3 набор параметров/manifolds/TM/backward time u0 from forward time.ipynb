{
 "cells": [
  {
   "cell_type": "code",
   "execution_count": 1,
   "metadata": {},
   "outputs": [
    {
     "name": "stderr",
     "output_type": "stream",
     "text": [
      "\u001b[32m\u001b[1m  Activating\u001b[22m\u001b[39m project at `C:\\Users\\Alex\\Desktop\\dynamical-systems\\env\\integrate`"
     ]
    },
    {
     "name": "stderr",
     "output_type": "stream",
     "text": [
      "\n"
     ]
    }
   ],
   "source": [
    "username = \"Alex\"\n",
    "pathtorepo = \"C:\\\\Users\\\\\" *username *  \"\\\\Desktop\\\\\"\n",
    "using Pkg\n",
    "Pkg.activate(pathtorepo * \"dynamical-systems\\\\env\\\\integrate\\\\\")\n",
    "include(pathtorepo * \"dynamical-systems\\\\system.jl\")\n",
    "\n",
    "\n",
    "using StaticArrays, DifferentialEquations, DynamicalSystems, JLD, LinearSolve\n",
    "E, x, y  = -40..40, -5..5,  -5..5\n",
    "box = E × x × y\n",
    "using CairoMakie, GLMakie\n",
    "using LinearAlgebra"
   ]
  },
  {
   "cell_type": "code",
   "execution_count": 2,
   "metadata": {},
   "outputs": [],
   "source": [
    "cd(\"C:\\\\Users\\\\\" *username *  \"\\\\Desktop\\\\dynamical-systems\\\\Tsodyks Markram\\\\Levanova\\\\3 набор параметров\\\\Сопоставление с матконт\\\\файлы matlab\")\n",
    "I0_hom = load(\"I0_hom_hom.jld\")[\"data\"]\n",
    "u0_hom = load(\"U0_hom_hom.jld\")[\"data\"]\n",
    "I0_hom = I0_hom[:]\n",
    "u0_hom = u0_hom[:];"
   ]
  },
  {
   "cell_type": "code",
   "execution_count": 3,
   "metadata": {},
   "outputs": [],
   "source": [
    "const τ = 0.013;  const τD = 0.07993;  const τy = 3.3;  const J = 3.07;  const β = 0.300\n",
    "const xthr = 0.75; const ythr = 0.4; const α = 1.58; const ΔU0 = 0.305\n",
    "\n",
    "integ_set = (alg = Vern9(), adaptive = true, abstol = 1e-15, reltol = 1e-15);"
   ]
  },
  {
   "cell_type": "code",
   "execution_count": 4,
   "metadata": {},
   "outputs": [],
   "source": [
    "index_hom = 3\n",
    "I0 = I0_hom[index_hom]; U0 = u0_hom[index_hom]\n",
    "p = SA[α, τ, τD, τy, J, xthr, ythr, U0, ΔU0, β, I0]\n",
    "u0 = [11.325905642223786, 0.6594706953104683, 0.4863175026548461];"
   ]
  },
  {
   "cell_type": "code",
   "execution_count": 5,
   "metadata": {},
   "outputs": [],
   "source": [
    "ds = CoupledODEs(TM, u0, p, diffeq = integ_set)\n",
    "fp, _, _ = fixedpoints(ds, box, jacob_TM_)\n",
    "ϵ_sep = 1e-6\n",
    "ϵ_box = 1e-7\n",
    "Ju0 = jacob_TM_(fp[1], p, 0);"
   ]
  },
  {
   "cell_type": "code",
   "execution_count": 6,
   "metadata": {},
   "outputs": [
    {
     "data": {
      "text/plain": [
       "3-element SVector{3, Float64} with indices SOneTo(3):\n",
       " 8.345789408165038\n",
       " 0.7384945878731853\n",
       " 0.43829843650314865"
      ]
     },
     "metadata": {},
     "output_type": "display_data"
    }
   ],
   "source": [
    "eigen_val_vec = eigen(Ju0)\n",
    "eigen_vectors = eigen_val_vec.vectors\n",
    "v1 = real(eigen_vectors[:, 1])\n",
    "\n",
    "dot_on_sep_stable = fp[1] + v1*ϵ_sep"
   ]
  },
  {
   "cell_type": "code",
   "execution_count": 7,
   "metadata": {},
   "outputs": [
    {
     "data": {
      "text/plain": [
       "2-element Vector{Float64}:\n",
       "     0.0\n",
       " -1000.0"
      ]
     },
     "metadata": {},
     "output_type": "display_data"
    }
   ],
   "source": [
    "t = 1000.0; tt = 1000.0; tstep = 0.001; tspan = [0.0, t]; tspanback = [0.0, -t]"
   ]
  },
  {
   "cell_type": "code",
   "execution_count": 8,
   "metadata": {},
   "outputs": [],
   "source": [
    "# forward\n",
    "prob_for = ODEProblem(TM, dot_on_sep_stable, tspan, p)\n",
    "sol_for = solve(prob_for, Vern9(), adaptive = true, abstol = 1e-15, reltol = 1e-15);"
   ]
  },
  {
   "cell_type": "code",
   "execution_count": 9,
   "metadata": {},
   "outputs": [
    {
     "name": "stderr",
     "output_type": "stream",
     "text": [
      "┌ Warning: Instability detected. Aborting\n",
      "└ @ SciMLBase C:\\Users\\Alex\\.julia\\packages\\SciMLBase\\KcGs1\\src\\integrator_interface.jl:606\n"
     ]
    },
    {
     "name": "stderr",
     "output_type": "stream",
     "text": [
      "┌ Warning: Instability detected. Aborting\n",
      "└ @ SciMLBase C:\\Users\\Alex\\.julia\\packages\\SciMLBase\\KcGs1\\src\\integrator_interface.jl:606\n"
     ]
    },
    {
     "data": {
      "text/plain": [
       "retcode: Unstable\n",
       "Interpolation: specialized 4rd order \"free\" stiffness-aware interpolation\n",
       "t: 137074-element Vector{Float64}:\n",
       "   0.0\n",
       "  -0.00025955722823212254\n",
       "  -0.0003973250796084803\n",
       "  -0.0006074362851383878\n",
       "  -0.0008175474906682951\n",
       "  -0.0010384361627116933\n",
       "  -0.00126310639044116\n",
       "  -0.0014937487976952317\n",
       "  -0.0017281139704840183\n",
       "  -0.001966539386152735\n",
       "   ⋮\n",
       " -15.404965607974\n",
       " -15.405037745786123\n",
       " -15.405109883598245\n",
       " -15.405182021410367\n",
       " -15.405254159222489\n",
       " -15.40532629703461\n",
       " -15.405398434846733\n",
       " -15.405470572658855\n",
       " -15.405542710470977\n",
       "u: 137074-element Vector{SVector{3, Float64}}:\n",
       " [16.153597394614057, 0.7339943621431889, 0.5850778119779825]\n",
       " [16.095868210465976, 0.7348840111696783, 0.5850909073226342]\n",
       " [16.065157337659933, 0.7353557012226687, 0.5850977210656534]\n",
       " [16.018229476642258, 0.7360743716243219, 0.585107929648878]\n",
       " [15.971194915714223, 0.7367921664317653, 0.58511791684691]\n",
       " [15.921635781817713, 0.7375458122983063, 0.5851281774334821]\n",
       " [15.87111377045891, 0.7383113179212198, 0.5851383623213965]\n",
       " [15.819132304372658, 0.739096051667617, 0.5851485541195564]\n",
       " [15.766194711863477, 0.7398922605272908, 0.5851586365300939]\n",
       " [15.712222865304916, 0.7407010015481427, 0.5851686102522398]\n",
       " ⋮\n",
       " [-1.2697522264041049e298, -1.728602502886801e-297, 7.678904835501858]\n",
       " [-1.2768177462063107e298, -1.719036944097711e-297, 7.679072697752485]\n",
       " [-1.2839225820018553e298, -1.7095243181921474e-297, 7.679240563672613]\n",
       " [-1.291066952564074e298, -1.700064332255684e-297, 7.679408433262319]\n",
       " [-1.2982510778836637e298, -1.6906566949947937e-297, 7.679576306521685]\n",
       " [-1.3054751791754559e298, -1.68130111672788e-297, 7.679744183450791]\n",
       " [-1.31273947888523e298, -1.6719973093763553e-297, 7.6799120640497165]\n",
       " [-1.3200442006965614e298, -1.662744986455771e-297, 7.680079948318544]\n",
       " [-1.3273895695377105e298, -1.6535438630669965e-297, 7.680247836257351]"
      ]
     },
     "metadata": {},
     "output_type": "display_data"
    }
   ],
   "source": [
    "prob_back = ODEProblem(TM, dot_on_sep_stable, tspanback, p) # backward time\n",
    "sol_back = solve(prob_back, Rodas5(), adaptive = true, abstol = 1e-14, reltol = 1e-14)\n",
    "\n",
    "prob_back_con = ODEProblem(TM, sol_for[5040], tspanback, p) # backward time, u0 from forward time\n",
    "sol_back_con = solve(prob_back_con, Rodas5(), adaptive = true, abstol = 1e-14, reltol = 1e-14)"
   ]
  },
  {
   "cell_type": "code",
   "execution_count": 22,
   "metadata": {},
   "outputs": [
    {
     "data": {
      "text/plain": [
       "GLMakie.Screen(...)"
      ]
     },
     "metadata": {},
     "output_type": "display_data"
    }
   ],
   "source": [
    "tsbcon, tfbcon = 1, 7800 # time interval backward u0 from forward time\n",
    "tsb, tfb = 1, 3500 # time interval backward\n",
    "\n",
    "tsf, tff = 1, 5500 # time interval forward\n",
    "idx, idy, idz = 2, 3, 1\n",
    "dis  = 60;\n",
    "\n",
    "f = Figure(resolution = (700, 700))\n",
    "ax = LScene(f[1, 1], show_axis = true)\n",
    "scale!(ax.scene, 50, 50, 1)\n",
    "\n",
    "lines!(sol_back_con[idx, tsbcon:tfbcon], sol_back_con[idy, tsbcon:tfbcon], sol_back_con[idz, tsbcon:tfbcon], linewidth = 0.5, color = :blue)\n",
    "\n",
    "#lines!(sol_back[idx, tsb:tfb], sol_back[idy, tsb:tfb], sol_back[idz, tsb:tfb], linewidth = 1.0, color = :black)\n",
    "\n",
    "lines!(sol_for[idx, tsf:tff], sol_for[idy, tsf:tff], sol_for[idz, tsf:tff], linewidth = 0.5, color = :deeppink)\n",
    "\n",
    "for (i, ep) in enumerate(fp)\n",
    "    scatter!(ep[idx], ep[idy], ep[idz], color = :blue, markersize = 8)\n",
    "end\n",
    "\n",
    "display(GLMakie.Screen(), f)"
   ]
  }
 ],
 "metadata": {
  "kernelspec": {
   "display_name": "Julia 1.9.1",
   "language": "julia",
   "name": "julia-1.9"
  },
  "language_info": {
   "file_extension": ".jl",
   "mimetype": "application/julia",
   "name": "julia",
   "version": "1.9.1"
  },
  "orig_nbformat": 4
 },
 "nbformat": 4,
 "nbformat_minor": 2
}
