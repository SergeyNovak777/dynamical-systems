{
 "cells": [
  {
   "cell_type": "code",
   "execution_count": 1,
   "metadata": {},
   "outputs": [
    {
     "name": "stderr",
     "output_type": "stream",
     "text": [
      "\u001b[32m\u001b[1m  Activating\u001b[22m\u001b[39m project at `C:\\Users\\Alex\\Desktop\\dynamical-systems\\env\\integrate`\n"
     ]
    }
   ],
   "source": [
    "username = \"Alex\"\n",
    "pathtorepo = \"C:\\\\Users\\\\\" *username *  \"\\\\Desktop\\\\\"\n",
    "using Pkg\n",
    "Pkg.activate(pathtorepo * \"dynamical-systems\\\\env\\\\integrate\\\\\")\n",
    "include(pathtorepo * \"dynamical-systems\\\\system.jl\")\n",
    "\n",
    "\n",
    "using StaticArrays, DifferentialEquations, DynamicalSystems, JLD, LinearSolve\n",
    "E, x, y  = -40..40, -5..5,  -5..5\n",
    "box = E × x × y\n",
    "using GLMakie, LinearAlgebra"
   ]
  },
  {
   "cell_type": "code",
   "execution_count": 2,
   "metadata": {},
   "outputs": [],
   "source": [
    "cd(\"C:\\\\Users\\\\\" *username *  \"\\\\Desktop\\\\dynamical-systems\\\\Tsodyks Markram\\\\Levanova\\\\3 набор параметров\\\\Сопоставление с матконт\\\\файлы matlab\")\n",
    "I0_hom = load(\"I0_hom_hom.jld\")[\"data\"]\n",
    "u0_hom = load(\"U0_hom_hom.jld\")[\"data\"]\n",
    "I0_hom = I0_hom[:]\n",
    "u0_hom = u0_hom[:];"
   ]
  },
  {
   "cell_type": "code",
   "execution_count": 3,
   "metadata": {},
   "outputs": [
    {
     "data": {
      "text/plain": [
       "0.305"
      ]
     },
     "metadata": {},
     "output_type": "display_data"
    }
   ],
   "source": [
    "const τ = 0.013;  const τD = 0.07993;  const τy = 3.3;  const J = 3.07;  const β = 0.300\n",
    "const xthr = 0.75; const ythr = 0.4; const α = 1.58; const ΔU0 = 0.305"
   ]
  },
  {
   "cell_type": "code",
   "execution_count": 62,
   "metadata": {},
   "outputs": [],
   "source": [
    "index_hom = 15\n",
    "I0 = I0_hom[index_hom]; U0 = u0_hom[index_hom]\n",
    "p = SA[α, τ, τD, τy, J, xthr, ythr, U0, ΔU0, β, I0]\n",
    "u0 = [11.325905642223786, 0.6594706953104683, 0.4863175026548461];"
   ]
  },
  {
   "cell_type": "code",
   "execution_count": 63,
   "metadata": {},
   "outputs": [
    {
     "data": {
      "text/plain": [
       "3-element SVector{3, Float64} with indices SOneTo(3):\n",
       " 8.345028421113797\n",
       " 0.7384936001924872\n",
       " 0.43829361169443143"
      ]
     },
     "metadata": {},
     "output_type": "display_data"
    }
   ],
   "source": [
    "ds = CoupledODEs(TM, u0, p)\n",
    "fp, _, _ = fixedpoints(ds, box, jacob_TM_)\n",
    "ϵ_sep = 1e-6\n",
    "Ju0 = jacob_TM_(fp[1], p, 0)\n",
    "\n",
    "eigen_val_vec = eigen(Ju0)\n",
    "eigen_vectors = eigen_val_vec.vectors\n",
    "v1 = real(eigen_vectors[:, 1])\n",
    "dot_on_sep_stable = fp[1] + v1*ϵ_sep"
   ]
  },
  {
   "cell_type": "code",
   "execution_count": 127,
   "metadata": {},
   "outputs": [
    {
     "name": "stderr",
     "output_type": "stream",
     "text": [
      "┌ Warning: Instability detected. Aborting\n",
      "└ @ SciMLBase C:\\Users\\Alex\\.julia\\packages\\SciMLBase\\KcGs1\\src\\integrator_interface.jl:606\n"
     ]
    },
    {
     "data": {
      "text/plain": [
       "retcode: Unstable\n",
       "Interpolation: specialized 4rd order \"free\" stiffness-aware interpolation\n",
       "t: 9688-element Vector{Float64}:\n",
       "   0.0\n",
       "  -0.08234278938908962\n",
       "  -0.28667969438483276\n",
       "  -0.37856457272165706\n",
       "  -0.524611783116551\n",
       "  -0.6180403146264019\n",
       "  -0.7469878464950414\n",
       "  -0.8370330815756925\n",
       "  -0.9463340399894501\n",
       "  -1.0303109533863775\n",
       "   ⋮\n",
       " -13.917380907635469\n",
       " -13.918383314962739\n",
       " -13.91938572229001\n",
       " -13.92038812961728\n",
       " -13.92139053694455\n",
       " -13.92239294427182\n",
       " -13.92339535159909\n",
       " -13.92439775892636\n",
       " -13.925400166253631\n",
       "u: 9688-element Vector{SVector{3, Float64}}:\n",
       " [8.345028421113797, 0.7384936001924872, 0.43829361169443143]\n",
       " [8.345029112996892, 0.7384935662474639, 0.43829361994649424]\n",
       " [8.345033661997347, 0.7384933430655826, 0.43829367420223986]\n",
       " [8.345038648878102, 0.7384930984012834, 0.43829373368045293]\n",
       " [8.345055977583707, 0.7384922482336865, 0.4382939403579087]\n",
       " [8.345079309227208, 0.7384911035696552, 0.43829421862953344]\n",
       " [8.345145735521033, 0.7384878447523283, 0.4382950108680305]\n",
       " [8.34523780653865, 0.7384833280592844, 0.43829610892667337]\n",
       " [8.345450529385376, 0.7384728936296925, 0.43829864575370475]\n",
       " [8.345751166868917, 0.7384581492939848, 0.4383022306493485]\n",
       " ⋮\n",
       " [-7.529605499396633e297, -2.9146281211261848e-297, 5.091654074207694]\n",
       " [-8.133171174449854e297, -2.6983324780462734e-297, 5.093200948846581]\n",
       " [-8.785118072680257e297, -2.498088215544299e-297, 5.094748293435164]\n",
       " [-9.489324384735303e297, -2.312704154663584e-297, 5.096296108116218]\n",
       " [-1.0249979173160894e298, -2.141077514283385e-297, 5.09784439303256]\n",
       " [-1.1071607291583034e298, -1.982187351082421e-297, 5.0993931483270485]\n",
       " [-1.1959096301386264e298, -1.8350884863251646e-297, 5.10094237414259]\n",
       " [-1.2917725546006186e298, -1.698905883343597e-297, 5.102492070622129]\n",
       " [-1.39531975557884e298, -1.5728294422681364e-297, 5.104042237908659]"
      ]
     },
     "metadata": {},
     "output_type": "display_data"
    }
   ],
   "source": [
    "t = 1000.0; tspanback = [0.0, -t]\n",
    "prob = ODEProblem(TM, dot_on_sep_stable, tspanback, p)\n",
    "sol = solve(prob, Rodas5P(), abstol = 1e-9, reltol = 1e-9)"
   ]
  },
  {
   "cell_type": "code",
   "execution_count": 109,
   "metadata": {},
   "outputs": [
    {
     "data": {
      "text/plain": [
       "OrdinaryDiffEq.InterpolationData{ODEFunction{false, SciMLBase.AutoSpecialize, typeof(TM), UniformScaling{Bool}, Nothing, Nothing, Nothing, Nothing, Nothing, Nothing, Nothing, Nothing, Nothing, Nothing, Nothing, Nothing, Nothing, typeof(SciMLBase.DEFAULT_OBSERVED), Nothing, Nothing}, Vector{SVector{3, Float64}}, Vector{Float64}, Vector{Vector{SVector{3, Float64}}}, OrdinaryDiffEq.Rosenbrock5ConstantCache{SciMLBase.TimeDerivativeWrapper{ODEFunction{false, SciMLBase.AutoSpecialize, typeof(TM), UniformScaling{Bool}, Nothing, Nothing, Nothing, Nothing, Nothing, Nothing, Nothing, Nothing, Nothing, Nothing, Nothing, Nothing, Nothing, typeof(SciMLBase.DEFAULT_OBSERVED), Nothing, Nothing}, SVector{3, Float64}, SVector{11, Float64}}, SciMLBase.UDerivativeWrapper{ODEFunction{false, SciMLBase.AutoSpecialize, typeof(TM), UniformScaling{Bool}, Nothing, Nothing, Nothing, Nothing, Nothing, Nothing, Nothing, Nothing, Nothing, Nothing, Nothing, Nothing, Nothing, typeof(SciMLBase.DEFAULT_OBSERVED), Nothing, Nothing}, Float64, SVector{11, Float64}}, OrdinaryDiffEq.Rodas5Tableau{Float64, Float64}, SMatrix{3, 3, Float64, 9}, OrdinaryDiffEq.StaticWOperator{true, SMatrix{3, 3, Float64, 9}}, Nothing}}(ODEFunction{false, SciMLBase.AutoSpecialize, typeof(TM), UniformScaling{Bool}, Nothing, Nothing, Nothing, Nothing, Nothing, Nothing, Nothing, Nothing, Nothing, Nothing, Nothing, Nothing, Nothing, typeof(SciMLBase.DEFAULT_OBSERVED), Nothing, Nothing}(TM, UniformScaling{Bool}(true), nothing, nothing, nothing, nothing, nothing, nothing, nothing, nothing, nothing, nothing, nothing, nothing, nothing, SciMLBase.DEFAULT_OBSERVED, nothing, nothing), SVector{3, Float64}[[8.345028421113797, 0.7384936001924872, 0.43829361169443143], [8.345029112996892, 0.7384935662474639, 0.43829361994649424], [8.345033661997347, 0.7384933430655826, 0.43829367420223986], [8.345038648878102, 0.7384930984012834, 0.43829373368045293], [8.345055977583707, 0.7384922482336865, 0.4382939403579087], [8.345079309227208, 0.7384911035696552, 0.43829421862953344], [8.345145735521033, 0.7384878447523283, 0.4382950108680305], [8.34523780653865, 0.7384833280592844, 0.43829610892667337], [8.345450529385376, 0.7384728936296925, 0.43829864575370475], [8.345751166868917, 0.7384581492939848, 0.4383022306493485]  …  [-6.970830658851712e297, -3.1482618074591e-297, 5.090107669375777], [-7.529605499396633e297, -2.9146281211261848e-297, 5.091654074207694], [-8.133171174449854e297, -2.6983324780462734e-297, 5.093200948846581], [-8.785118072680257e297, -2.498088215544299e-297, 5.094748293435164], [-9.489324384735303e297, -2.312704154663584e-297, 5.096296108116218], [-1.0249979173160894e298, -2.141077514283385e-297, 5.09784439303256], [-1.1071607291583034e298, -1.982187351082421e-297, 5.0993931483270485], [-1.1959096301386264e298, -1.8350884863251646e-297, 5.10094237414259], [-1.2917725546006186e298, -1.698905883343597e-297, 5.102492070622129], [-1.39531975557884e298, -1.5728294422681364e-297, 5.104042237908659]], [0.0, -0.08234278938908962, -0.28667969438483276, -0.37856457272165706, -0.524611783116551, -0.6180403146264019, -0.7469878464950414, -0.8370330815756925, -0.9463340399894501, -1.0303109533863775  …  -13.916378500308198, -13.917380907635469, -13.918383314962739, -13.91938572229001, -13.92038812961728, -13.92139053694455, -13.92239294427182, -13.92339535159909, -13.92439775892636, -13.925400166253631], Vector{SVector{3, Float64}}[[[8.345028421113797, 0.7384936001924872, 0.43829361169443143]], [[-1.662357644266048e-7, 8.155823007881387e-9, -1.982689876132731e-9], [-2.7478498050908625e-8, 1.348158874312106e-9, -3.2773871129720303e-10], [-4.2774309878249206e-9, 2.098438445228616e-10, -5.101332549370488e-11]], [[-2.3484560631028023e-6, 1.1521924627076223e-7, -2.8009938277142957e-8], [-8.281028256078041e-7, 4.062793634559487e-8, -9.876665411210364e-9], [-4.2810757336540247e-7, 2.10035142078731e-8, -5.106045128974576e-9]], [[-1.3225022445488853e-6, 6.488377115984133e-8, -1.5773358776850007e-8], [-2.417409362433852e-7, 1.1860008609898924e-8, -2.8831910802528853e-9], [-4.285756701962081e-8, 2.1026055040744905e-9, -5.111618823083421e-10]], [[-6.85788324419998e-6, 3.3645344888235103e-7, -8.179282825187587e-8], [-1.8758698246394666e-6, 9.202904316592414e-8, -2.237238577725918e-8], [-5.967430885459028e-7, 2.927598121942095e-8, -7.117595385932138e-9]], [[-6.28026854393054e-6, 3.0810745172488586e-7, -7.490259160391443e-8], [-1.16552696068203e-6, 5.717742311856201e-8, -1.390015637171769e-8], [-2.1077972801413566e-7, 1.0339686439035136e-8, -2.513986273635771e-9]], [[-2.3681638367183813e-5, 1.161757760439588e-6, -2.8243526712157307e-7], [-5.839246772792029e-6, 2.864235257843772e-7, -6.96311344060722e-8], [-1.5761848847045462e-6, 7.731275751643463e-8, -1.8801458653811803e-8]], [[-2.3978590403227396e-5, 1.176210691520787e-6, -2.8596015787662557e-7], [-4.303499909139714e-6, 2.1105477149682204e-7, -5.131206921771439e-8], [-7.442463759035746e-7, 3.649123037561437e-8, -8.876771179543564e-9]], [[-6.57710104716499e-5, 3.225700052639505e-6, -7.84286591089781e-7], [-1.4054168151332284e-5, 6.889915789909513e-7, -1.6751442411721817e-7], [-3.0738790552681468e-6, 1.5065543797219505e-7, -3.667215789898399e-8]], [[-7.352940460984058e-5, 3.6050723832621367e-6, -8.766370383966184e-7], [-1.2381512286818422e-5, 6.06630559675204e-7, -1.4752175055516817e-7], [-1.9682398868913198e-6, 9.634489468162343e-8, -2.347329507595833e-8]]  …  [[1.9688086940192132e295, -2.2005333895033327e-298, -2.3478458873601867e-7], [5.026372368481558e293, 7.020065953230821e-298, -2.3771926170546983e-11], [9.920201467999221e291, -4.231131130787867e-298, -1.846677733451935e-15]], [[2.1266264373991667e295, -2.037230983562732e-298, -2.3485591768851935e-7], [5.429281369876554e293, 6.499104232998393e-298, -2.377909460309327e-11], [1.071539492469047e292, -3.917137306924732e-298, -1.9134147543606704e-15]], [[2.297094693853973e295, -1.8860473102501886e-298, -2.3492726831251685e-7], [5.864487155127211e293, 6.016803276890586e-298, -2.3786386887556678e-11], [1.1574330320986027e292, -3.626445082181402e-298, -1.831803453648775e-15]], [[2.48122751590794e295, -1.746083033884104e-298, -2.349986406085826e-7], [6.334578602722174e293, 5.570294055138252e-298, -2.3793601236968977e-11], [1.2502117097334675e292, -3.3573252361667124e-298, -1.8275468207577625e-15]], [[2.6801202415254703e295, -1.6165055588205195e-298, -2.3507003458966034e-7], [6.842352112168978e293, 5.156920449748437e-298, -2.380087695468007e-11], [1.3504274366516847e292, -3.1081768745893582e-298, -1.803877076013167e-15]], [[2.8949560098707485e295, -1.4965440766496924e-298, -2.3514145026179532e-7], [7.390828239915683e293, 4.774223454237024e-298, -2.3808037002361724e-11], [1.4586763607296383e292, -2.877517906119831e-298, -1.853427594641191e-15]], [[3.127012799364983e295, -1.385484980942045e-298, -2.3521288763032107e-7], [7.983269668424798e293, 4.419926545908598e-298, -2.3815270584890058e-11], [1.5756024009691382e292, -2.6639762259756718e-298, -1.8748647909836955e-15]], [[3.377671029905653e295, -1.2826676222682962e-298, -2.3528434670465602e-7], [8.623200611511034e293, 4.091922143671518e-298, -2.3822452871946708e-11], [1.701901117846877e292, -2.466281553790947e-298, -1.9395249322430876e-15]], [[3.6484217744746918e295, -1.1874803782403194e-298, -2.3535582748185408e-7], [9.314427780583696e293, 3.7882590708138106e-298, -2.3829761296914605e-11], [1.8383238215152974e292, -2.2832578771760232e-298, -1.8384492276654985e-15]], [[3.940875628978082e295, -1.0993570151963555e-298, -2.3542732998002454e-7], [1.0061063032362588e294, 3.507130948177919e-298, -2.3837048869341663e-11], [1.9856820184130394e292, -2.1138164560632066e-298, -1.8180090295770233e-15]]], true, OrdinaryDiffEq.Rosenbrock5ConstantCache{SciMLBase.TimeDerivativeWrapper{ODEFunction{false, SciMLBase.AutoSpecialize, typeof(TM), UniformScaling{Bool}, Nothing, Nothing, Nothing, Nothing, Nothing, Nothing, Nothing, Nothing, Nothing, Nothing, Nothing, Nothing, Nothing, typeof(SciMLBase.DEFAULT_OBSERVED), Nothing, Nothing}, SVector{3, Float64}, SVector{11, Float64}}, SciMLBase.UDerivativeWrapper{ODEFunction{false, SciMLBase.AutoSpecialize, typeof(TM), UniformScaling{Bool}, Nothing, Nothing, Nothing, Nothing, Nothing, Nothing, Nothing, Nothing, Nothing, Nothing, Nothing, Nothing, Nothing, typeof(SciMLBase.DEFAULT_OBSERVED), Nothing, Nothing}, Float64, SVector{11, Float64}}, OrdinaryDiffEq.Rodas5Tableau{Float64, Float64}, SMatrix{3, 3, Float64, 9}, OrdinaryDiffEq.StaticWOperator{true, SMatrix{3, 3, Float64, 9}}, Nothing}(SciMLBase.TimeDerivativeWrapper{ODEFunction{false, SciMLBase.AutoSpecialize, typeof(TM), UniformScaling{Bool}, Nothing, Nothing, Nothing, Nothing, Nothing, Nothing, Nothing, Nothing, Nothing, Nothing, Nothing, Nothing, Nothing, typeof(SciMLBase.DEFAULT_OBSERVED), Nothing, Nothing}, SVector{3, Float64}, SVector{11, Float64}}(ODEFunction{false, SciMLBase.AutoSpecialize, typeof(TM), UniformScaling{Bool}, Nothing, Nothing, Nothing, Nothing, Nothing, Nothing, Nothing, Nothing, Nothing, Nothing, Nothing, Nothing, Nothing, typeof(SciMLBase.DEFAULT_OBSERVED), Nothing, Nothing}(TM, UniformScaling{Bool}(true), nothing, nothing, nothing, nothing, nothing, nothing, nothing, nothing, nothing, nothing, nothing, nothing, nothing, SciMLBase.DEFAULT_OBSERVED, nothing, nothing), [-1.39531975557884e298, -1.5728294422681364e-297, 5.104042237908659], [1.58, 0.013, 0.07993, 3.3, 3.07, 0.75, 0.4, 0.26506094791239404, 0.305, 0.3, -1.7071205330241375]), SciMLBase.UDerivativeWrapper{ODEFunction{false, SciMLBase.AutoSpecialize, typeof(TM), UniformScaling{Bool}, Nothing, Nothing, Nothing, Nothing, Nothing, Nothing, Nothing, Nothing, Nothing, Nothing, Nothing, Nothing, Nothing, typeof(SciMLBase.DEFAULT_OBSERVED), Nothing, Nothing}, Float64, SVector{11, Float64}}(ODEFunction{false, SciMLBase.AutoSpecialize, typeof(TM), UniformScaling{Bool}, Nothing, Nothing, Nothing, Nothing, Nothing, Nothing, Nothing, Nothing, Nothing, Nothing, Nothing, Nothing, Nothing, typeof(SciMLBase.DEFAULT_OBSERVED), Nothing, Nothing}(TM, UniformScaling{Bool}(true), nothing, nothing, nothing, nothing, nothing, nothing, nothing, nothing, nothing, nothing, nothing, nothing, nothing, SciMLBase.DEFAULT_OBSERVED, nothing, nothing), -13.925400166253631, [1.58, 0.013, 0.07993, 3.3, 3.07, 0.75, 0.4, 0.26506094791239404, 0.305, 0.3, -1.7071205330241375]), OrdinaryDiffEq.Rodas5Tableau{Float64, Float64}(3.0, 2.849394379747939, 0.45842242204463923, -6.954028509809101, 2.489845061869568, -10.358996098473584, 2.8029986275628964, 0.5072464736228206, -0.3988312541770524, -0.04721187230404641, -7.502846399306121, 2.561846144803919, -11.627539656261098, -0.18268767659942256, 0.030198172008377946, -14.155112264123755, -17.97296035885952, -2.859693295451294, 147.12150275711716, -1.41221402718213, 71.68940251302358, 165.43517024871676, -0.4592823456491126, 42.90938336958603, -5.961986721573306, 24.854864614690072, -3.0009227002832186, 47.4931110020768, 5.5814197821558125, -0.6610691825249471, 30.91273214028599, -3.1208243349937974, 77.79954646070892, 34.28646028294783, -19.097331116725623, -28.087943162872662, 37.80277123390563, -3.2571969029072276, 112.26918849496327, 66.9347231244047, -40.06618937091002, -54.66780262877968, -9.48861652309627, 0.21193756319429014, 0.21193756319429014, -0.42387512638858027, -0.3384627126235924, 1.8046452872882734, 2.325825639765069, 0.6358126895828704, 0.4095798393397535, 0.9769306725060716, 0.4288403609558664, 25.948786856663858, -2.5579724845846235, 10.433815404888879, -2.3679251022685204, 0.524948541321073, 1.1241088310450404, 0.4272876194431874, -0.17202221070155493, -9.91568850695171, -0.9689944594115154, 3.0438037242978453, -24.495224566215796, 20.176138334709044, 15.98066361424651, -6.789040303419874, -6.710236069923372, 11.419903575922262, 2.8879645146136994, 72.92137995996029, 80.12511834622643, -52.072871366152654, -59.78993625266729, -0.15582684282751913, 4.883087185713722), [69.63949934919704 6.162750082416956 3.657572646382645; 6.162750082416956 0.5453727975252611 0.3236770272415887; 3.657572646382645 0.3236770272415887 0.19210129005214904], OrdinaryDiffEq.StaticWOperator{true, SMatrix{3, 3, Float64, 9}}([69.63949934919704 6.162750082416956 3.657572646382645; 6.162750082416956 0.5453727975252611 0.3236770272415887; 3.657572646382645 0.3236770272415887 0.19210129005214904]), nothing))"
      ]
     },
     "metadata": {},
     "output_type": "display_data"
    }
   ],
   "source": [
    "sol.interp"
   ]
  },
  {
   "cell_type": "code",
   "execution_count": 21,
   "metadata": {},
   "outputs": [
    {
     "data": {
      "text/plain": [
       "1:1:150"
      ]
     },
     "metadata": {},
     "output_type": "display_data"
    }
   ],
   "source": [
    "homcurve = range(1, 150, step = 1)"
   ]
  },
  {
   "cell_type": "code",
   "execution_count": null,
   "metadata": {},
   "outputs": [],
   "source": [
    "for index in homcurve\n",
    "    \n",
    "    I0 = I0_hom[index]; U0 = u0_hom[index]\n",
    "    p = SA[α, τ, τD, τy, J, xthr, ythr, U0, ΔU0, β, I0]\n",
    "\n",
    "    println(\"I0: $(I0); U0: $(U0)\")\n",
    "\n",
    "    ds = CoupledODEs(TM, u0, p)\n",
    "    fp, _, _ = fixedpoints(ds, box, jacob_TM_)\n",
    "    ϵ_sep = 1e-6\n",
    "    Ju0 = jacob_TM_(fp[1], p, 0)\n",
    "\n",
    "    eigen_val_vec = eigen(Ju0)\n",
    "    eigen_vectors = eigen_val_vec.vectors\n",
    "    v1 = real(eigen_vectors[:, 1])\n",
    "    u0 = fp[1] + v1*ϵ_sep\n",
    "\n",
    "    prob = ODEProblem(TM, u0, tspanback, p)\n",
    "    sol = solve(prob, Rodas5(), adaptive = true, abstol = 1e-10, reltol = 1e-10, verbose = false)\n",
    "    println(\"Index: $(sol.retcode)\")\n",
    "    println(\"----------------------\")\n",
    "end"
   ]
  },
  {
   "cell_type": "code",
   "execution_count": 130,
   "metadata": {},
   "outputs": [
    {
     "data": {
      "text/plain": [
       "GLMakie.Screen(...)"
      ]
     },
     "metadata": {},
     "output_type": "display_data"
    }
   ],
   "source": [
    "ts, tf = 1, 700\n",
    "\n",
    "idx, idy, idz = 2, 3, 1\n",
    "dis  = 60;\n",
    "    \n",
    "f = Figure(resolution = (700, 700))\n",
    "ax = LScene(f[1, 1], show_axis = true)\n",
    "scale!(ax.scene, 50, 50, 1)\n",
    "\n",
    "lines!(sol[idx, ts:tf], sol[idy, tsb:tf], sol[idz, ts:tf], linewidth = 1.0, color = :black)\n",
    "\n",
    "for (i, ep) in enumerate(fp)\n",
    "    scatter!(ep[idx], ep[idy], ep[idz], color = :blue, markersize = 8)\n",
    "end\n",
    "\n",
    "display(GLMakie.Screen(), f)"
   ]
  }
 ],
 "metadata": {
  "kernelspec": {
   "display_name": "Julia 1.9.1",
   "language": "julia",
   "name": "julia-1.9"
  },
  "language_info": {
   "file_extension": ".jl",
   "mimetype": "application/julia",
   "name": "julia",
   "version": "1.9.1"
  },
  "orig_nbformat": 4
 },
 "nbformat": 4,
 "nbformat_minor": 2
}
