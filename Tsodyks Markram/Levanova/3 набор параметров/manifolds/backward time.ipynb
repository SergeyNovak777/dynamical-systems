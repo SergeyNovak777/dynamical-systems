{
 "cells": [
  {
   "cell_type": "code",
   "execution_count": 6,
   "metadata": {},
   "outputs": [
    {
     "name": "stderr",
     "output_type": "stream",
     "text": [
      "\u001b[32m\u001b[1m  Activating\u001b[22m\u001b[39m project at `C:\\Users\\Alex\\Desktop\\dynamical-systems\\env\\integrate`\n"
     ]
    }
   ],
   "source": [
    "username = \"Alex\"\n",
    "pathtorepo = \"C:\\\\Users\\\\\" *username *  \"\\\\Desktop\\\\\"\n",
    "using Pkg\n",
    "Pkg.activate(pathtorepo * \"dynamical-systems\\\\env\\\\integrate\\\\\")\n",
    "include(pathtorepo * \"dynamical-systems\\\\system.jl\")\n",
    "\n",
    "\n",
    "using StaticArrays, DifferentialEquations, DynamicalSystems, JLD\n",
    "E, x, y  = -40..40, -5..5,  -5..5\n",
    "box = E × x × y\n",
    "using GLMakie, LinearAlgebra"
   ]
  },
  {
   "cell_type": "code",
   "execution_count": 7,
   "metadata": {},
   "outputs": [],
   "source": [
    "cd(\"C:\\\\Users\\\\\" *username *  \"\\\\Desktop\\\\dynamical-systems\\\\Tsodyks Markram\\\\Levanova\\\\3 набор параметров\\\\Сопоставление с матконт\\\\файлы matlab\")\n",
    "I0_hom = load(\"I0_hom_hom.jld\")[\"data\"]\n",
    "u0_hom = load(\"U0_hom_hom.jld\")[\"data\"]\n",
    "I0_hom = I0_hom[:]\n",
    "u0_hom = u0_hom[:];"
   ]
  },
  {
   "cell_type": "code",
   "execution_count": 8,
   "metadata": {},
   "outputs": [
    {
     "data": {
      "text/plain": [
       "0.305"
      ]
     },
     "metadata": {},
     "output_type": "display_data"
    }
   ],
   "source": [
    "const τ = 0.013;  const τD = 0.07993;  const τy = 3.3;  const J = 3.07;  const β = 0.300\n",
    "const xthr = 0.75; const ythr = 0.4; const α = 1.58; const ΔU0 = 0.305"
   ]
  },
  {
   "cell_type": "code",
   "execution_count": 9,
   "metadata": {},
   "outputs": [],
   "source": [
    "index_hom = 4\n",
    "I0 = I0_hom[index_hom]; U0 = u0_hom[index_hom]\n",
    "p = SA[α, τ, τD, τy, J, xthr, ythr, U0, ΔU0, β, I0]\n",
    "u0 = [11.325905642223786, 0.6594706953104683, 0.4863175026548461];"
   ]
  },
  {
   "cell_type": "code",
   "execution_count": 10,
   "metadata": {},
   "outputs": [
    {
     "data": {
      "text/plain": [
       "3-element SVector{3, Float64} with indices SOneTo(3):\n",
       " 8.345774611099296\n",
       " 0.7384945673457723\n",
       " 0.4382983362268263"
      ]
     },
     "metadata": {},
     "output_type": "display_data"
    }
   ],
   "source": [
    "ds = CoupledODEs(TM, u0, p)\n",
    "fp, _, _ = fixedpoints(ds, box, jacob_TM_)\n",
    "ϵ_sep = 1e-6\n",
    "Ju0 = jacob_TM_(fp[1], p, 0)\n",
    "\n",
    "eigen_val_vec = eigen(Ju0)\n",
    "eigen_vectors = eigen_val_vec.vectors\n",
    "v1 = real(eigen_vectors[:, 1])\n",
    "dot_on_sep_stable = fp[1] + v1*ϵ_sep"
   ]
  },
  {
   "cell_type": "code",
   "execution_count": 51,
   "metadata": {},
   "outputs": [
    {
     "data": {
      "text/plain": [
       "retcode: Success\n",
       "Interpolation: specialized 9th order lazy interpolation\n",
       "t: 88258-element Vector{Float64}:\n",
       "    0.0\n",
       "    0.06966748897871437\n",
       "    0.11962903077235723\n",
       "    0.1724198104878905\n",
       "    0.22122741796521908\n",
       "    0.2669474693934435\n",
       "    0.31170858235802057\n",
       "    0.3538543811142312\n",
       "    0.39668502624108987\n",
       "    0.4459395221184082\n",
       "    ⋮\n",
       "  999.9410597705648\n",
       "  999.9498132578212\n",
       "  999.9574765447969\n",
       "  999.9657956130449\n",
       "  999.9735219992228\n",
       "  999.9830762832659\n",
       "  999.992229358465\n",
       "  999.9999509734139\n",
       " 1000.0\n",
       "u: 88258-element Vector{SVector{3, Float64}}:\n",
       " [8.345774611099296, 0.7384945673457723, 0.4382983362268263]\n",
       " [8.345774252229997, 0.7384945849485874, 0.4382983319465129]\n",
       " [8.345774077330837, 0.7384945935275391, 0.4382983298604495]\n",
       " [8.345773944184858, 0.7384946000584787, 0.43829832827238113]\n",
       " [8.345773855272217, 0.7384946044197412, 0.43829832721189116]\n",
       " [8.34577379372831, 0.7384946074385392, 0.43829832647783445]\n",
       " [8.345773748610197, 0.7384946096516245, 0.43829832593969503]\n",
       " [8.345773716441304, 0.7384946112295231, 0.43829832555600906]\n",
       " [8.345773691520497, 0.7384946124518812, 0.43829832525877854]\n",
       " [8.345773670145274, 0.7384946135003118, 0.4382983250038436]\n",
       " ⋮\n",
       " [9.252649287325976, 0.7116983720399874, 0.5496772753473159]\n",
       " [9.655443944369294, 0.7098534547968868, 0.549044021772371]\n",
       " [10.041949477144206, 0.7073169992571533, 0.5484692994004722]\n",
       " [10.48943553583156, 0.7036358004076461, 0.5478146009125328]\n",
       " [10.921970599523375, 0.6994174730944877, 0.5471707526988143]\n",
       " [11.463540948643045, 0.6932700205075334, 0.5463191613702056]\n",
       " [11.969998435180834, 0.6866015203775172, 0.5454407722535329]\n",
       " [12.372260241596539, 0.6805541083625423, 0.5446508596338928]\n",
       " [12.374712146514431, 0.6805148339082944, 0.5446457025479088]"
      ]
     },
     "metadata": {},
     "output_type": "display_data"
    }
   ],
   "source": [
    "t = 1000.0; tspan = [0.0, t]\n",
    "prob = ODEProblem(TM, dot_on_sep_stable, tspan, p)\n",
    "sol = solve(prob, alg = Vern9(), adaptive = true, abstol = 1e-14, reltol = 1e-14)"
   ]
  },
  {
   "cell_type": "code",
   "execution_count": 38,
   "metadata": {},
   "outputs": [
    {
     "data": {
      "text/plain": [
       "\"homcurve = range(1, 150, step = 1)\\nfor index in homcurve\\n    \\n    I0 = I0_hom[index]; U0 = u0_hom[index]\\n    p = SA[α, τ, τD, τy, J, xthr, ythr, U0, ΔU0, β, I0]\\n\\n    println(\\\"I0: -1.706333384363191; U0: 0.26500275817125657\\\")\\n\\n    ds = CoupledODEs(TM, u0, p)\\n    fp, _, _ \" ⋯ 167 bytes ⋯ \" real(eigen_vectors[:, 1])\\n    u0 = fp[1] + v1*ϵ_sep\\n\\n    prob = ODEProblem(TM, u0, tspanback, p)\\n    sol = solve(prob, Rodas5P(), adaptive = true, abstol = 1e-9, reltol = 1e-9, verbose = false)\\n    println(\\\"Index: Success\\\")    \\n    println(\\\"----------------------\\\")\\nend\""
      ]
     },
     "metadata": {},
     "output_type": "display_data"
    }
   ],
   "source": [
    "\"\"\"\n",
    "homcurve = range(1, 150, step = 1)\n",
    "for index in homcurve\n",
    "    \n",
    "    I0 = I0_hom[index]; U0 = u0_hom[index]\n",
    "    p = SA[α, τ, τD, τy, J, xthr, ythr, U0, ΔU0, β, I0]\n",
    "\n",
    "    println(\"I0: $(I0); U0: $(U0)\")\n",
    "\n",
    "    ds = CoupledODEs(TM, u0, p)\n",
    "    fp, _, _ = fixedpoints(ds, box, jacob_TM_)\n",
    "    ϵ_sep = 1e-6\n",
    "    Ju0 = jacob_TM_(fp[1], p, 0)\n",
    "\n",
    "    eigen_val_vec = eigen(Ju0)\n",
    "    eigen_vectors = eigen_val_vec.vectors\n",
    "    v1 = real(eigen_vectors[:, 1])\n",
    "    u0 = fp[1] + v1*ϵ_sep\n",
    "\n",
    "    prob = ODEProblem(TM, u0, tspanback, p)\n",
    "    sol = solve(prob, Rodas5P(), adaptive = true, abstol = 1e-9, reltol = 1e-9, verbose = false)\n",
    "    println(\"Index: $(sol.retcode)\")    \n",
    "    println(\"----------------------\")\n",
    "end\"\"\""
   ]
  },
  {
   "cell_type": "code",
   "execution_count": 54,
   "metadata": {},
   "outputs": [
    {
     "data": {
      "text/plain": [
       "GLMakie.Screen(...)"
      ]
     },
     "metadata": {},
     "output_type": "display_data"
    }
   ],
   "source": [
    "ts, tf = 1, 20000\n",
    "\n",
    "idx, idy, idz = 2, 3, 1\n",
    "dis  = 60;\n",
    "    \n",
    "f = Figure(resolution = (700, 700))\n",
    "ax = LScene(f[1, 1], show_axis = true)\n",
    "scale!(ax.scene, 50, 50, 1)\n",
    "\n",
    "lines!(sol[idx, ts:tf], sol[idy, ts:tf], sol[idz, ts:tf], linewidth = 1.0, color = :deeppink)\n",
    "\n",
    "for (i, ep) in enumerate(fp)\n",
    "    scatter!(ep[idx], ep[idy], ep[idz], color = :blue, markersize = 8)\n",
    "end\n",
    "\n",
    "display(GLMakie.Screen(), f)"
   ]
  }
 ],
 "metadata": {
  "kernelspec": {
   "display_name": "Julia 1.9.1",
   "language": "julia",
   "name": "julia-1.9"
  },
  "language_info": {
   "file_extension": ".jl",
   "mimetype": "application/julia",
   "name": "julia",
   "version": "1.9.1"
  },
  "orig_nbformat": 4
 },
 "nbformat": 4,
 "nbformat_minor": 2
}
