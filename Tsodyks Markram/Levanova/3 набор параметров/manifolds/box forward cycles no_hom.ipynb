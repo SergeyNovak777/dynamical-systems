{
 "cells": [
  {
   "cell_type": "code",
   "execution_count": 1,
   "metadata": {},
   "outputs": [
    {
     "name": "stderr",
     "output_type": "stream",
     "text": [
      "\u001b[32m\u001b[1m  Activating\u001b[22m\u001b[39m project at `C:\\Users\\Alex\\Desktop\\dynamical-systems\\env\\integrate`\n"
     ]
    }
   ],
   "source": [
    "username = \"Alex\"\n",
    "pathtorepo = \"C:\\\\Users\\\\\" *username *  \"\\\\Desktop\\\\\"\n",
    "using Pkg\n",
    "Pkg.activate(pathtorepo * \"dynamical-systems\\\\env\\\\integrate\\\\\")\n",
    "include(pathtorepo * \"dynamical-systems\\\\system.jl\")\n",
    "\n",
    "\n",
    "using StaticArrays, DifferentialEquations, DynamicalSystems, JLD\n",
    "E, x, y  = -40..40, -5..5,  -5..5\n",
    "box = E × x × y\n",
    "using GLMakie\n",
    "using LinearAlgebra, LinearSolve,Statistics\n",
    "\n",
    "cd(\"C:\\\\Users\\\\\" *username *  \"\\\\Desktop\\\\dynamical-systems\\\\Tsodyks Markram\\\\Levanova\\\\3 набор параметров\\\\Сопоставление с матконт\\\\файлы matlab\")\n",
    "I0_hom = load(\"I0_hom_hom.jld\")[\"data\"]\n",
    "u0_hom = load(\"U0_hom_hom.jld\")[\"data\"]\n",
    "I0_hom = I0_hom[:]\n",
    "u0_hom = u0_hom[:];"
   ]
  },
  {
   "cell_type": "code",
   "execution_count": 2,
   "metadata": {},
   "outputs": [],
   "source": [
    "function condition(u, t, integrator)\n",
    "    x = Vector(u)\n",
    "    b = x - fp[1]\n",
    "    b = Vector(b)\n",
    "    linprob = LinearProblem(A, b)\n",
    "    linsolve = solve(linprob)\n",
    "    return norm(linsolve.u, Inf) - ϵ_box\n",
    "end\n",
    "affect!(integrator) = terminate!(integrator)\n",
    "function condition(u)\n",
    "    x = Vector(u)\n",
    "    b = x - fp[1]\n",
    "    b = Vector(b)\n",
    "    linprob = LinearProblem(A, b)\n",
    "    linsolve = solve(linprob)\n",
    "    return norm(linsolve.u, Inf), linsolve\n",
    "end\n",
    "function color_alpha(alpha)\n",
    "    if alpha > 0.0\n",
    "        return \"red\"\n",
    "    else\n",
    "        return \"blue\"\n",
    "    end\n",
    "end;"
   ]
  },
  {
   "cell_type": "code",
   "execution_count": 3,
   "metadata": {},
   "outputs": [],
   "source": [
    "const τ = 0.013;  const τD = 0.07993;  const τy = 3.3;  const J = 3.07;  const β = 0.300\n",
    "const xthr = 0.75; const ythr = 0.4; const α = 1.58; const ΔU0 = 0.305\n",
    "\n",
    "t = 100.0; tspan = [0.0, t];"
   ]
  },
  {
   "cell_type": "code",
   "execution_count": 4,
   "metadata": {},
   "outputs": [],
   "source": [
    "# index point from homoclinic curve\n",
    "index_hom = 1;\n",
    "\n",
    "I0 = -1.6; U0 = u0_hom[index_hom]\n",
    "\n",
    "p = SA[α, τ, τD, τy, J, xthr, ythr, U0, ΔU0, β, I0]\n",
    "u0 = [11.325905642223786, 0.6594706953104683, 0.4863175026548461]\n",
    "\n",
    "ds = CoupledODEs(TM, u0, p)\n",
    "fp, _, _ = fixedpoints(ds, box, jacob_TM_)\n",
    "\n",
    "ϵ_box = 1e-9\n",
    "Ju0 = jacob_TM_(fp[1], p, 0);\n",
    "fp_ = fp[1]\n",
    "\n",
    "eigen_val_vec = eigen(Ju0)\n",
    "eigen_vectors = eigen_val_vec.vectors\n",
    "\n",
    "v1 = real(eigen_vectors[:, 1])\n",
    "v2 = real(eigen_vectors[:, 2])\n",
    "v3 = imag(eigen_vectors[:, 3])\n",
    "\n",
    "v1 = normalize(v1, 2)\n",
    "v2 = normalize(v2, 2)\n",
    "v3 = normalize(v3, 2)\n",
    "\n",
    "v1t = transpose(v1)\n",
    "v2t = transpose(v2)\n",
    "v3t = transpose(v3)\n",
    "\n",
    "A = transpose([v1t; v2t; v3t])\n",
    "A = Matrix(A)\n",
    "\n",
    "N = 501\n",
    "nrange = range(1, N - 1, step = 1)\n",
    "dots = zeros(length(nrange), 3)\n",
    "data = zeros(length(nrange), 7)\n",
    "colors = []\n",
    "check_events = []\n",
    "time_events = []\n",
    "\n",
    "for (i, n) in enumerate(nrange)\n",
    "    α1 = 0\n",
    "    α2 = cos(2 * pi * n / N) * (ϵ_box / 2)\n",
    "    α3 = sin(2 * pi * n / N) * (ϵ_box / 2)\n",
    "    αs = [α1, α2, α3]\n",
    "    dot = fp_ + A * αs\n",
    "    dots[i, :] = dot\n",
    "end"
   ]
  },
  {
   "cell_type": "code",
   "execution_count": 5,
   "metadata": {},
   "outputs": [],
   "source": [
    "cb = ContinuousCallback(condition, nothing, affect!)\n",
    "\n",
    "for index in range(1, length(nrange), step = 1)\n",
    "    \n",
    "    u0 = SA[dots[index, 1], dots[index, 2], dots[index, 3]]\n",
    "    prob = ODEProblem(TM, u0, tspan, p)\n",
    "    sol = solve(prob, alg = Vern9(), abstol = 1e-14, reltol = 1e-14, callback = cb)\n",
    "    norm, linsolve = condition(sol[end])\n",
    "\n",
    "    data[index, 1] = sol[1, end]\n",
    "    data[index, 2] = sol[2, end]\n",
    "    data[index, 3] = sol[3, end]\n",
    "    data[index, 4:6] = linsolve\n",
    "    data[index, 7] = norm\n",
    "    push!(colors, color_alpha(linsolve[1]))\n",
    "\n",
    "    if sol.retcode == ReturnCode.Terminated\n",
    "        push!(check_events, true)\n",
    "        push!(time_events, sol.t[end])\n",
    "    else\n",
    "       push!(check_events, false)\n",
    "    end\n",
    "end"
   ]
  },
  {
   "cell_type": "code",
   "execution_count": 6,
   "metadata": {},
   "outputs": [
    {
     "name": "stdout",
     "output_type": "stream",
     "text": [
      "min: 0.12863585849329076\n",
      "max: 0.8751748911178187\n"
     ]
    },
    {
     "name": "stdout",
     "output_type": "stream",
     "text": [
      "mean: 0.2582576591461003\n"
     ]
    }
   ],
   "source": [
    "println(\"min: $(minimum(time_events))\")\n",
    "println(\"max: $(maximum(time_events))\")\n",
    "println(\"mean: $(mean(time_events))\") "
   ]
  },
  {
   "cell_type": "code",
   "execution_count": 7,
   "metadata": {},
   "outputs": [
    {
     "name": "stdout",
     "output_type": "stream",
     "text": [
      "number of event: 343; number of no event: 157\n"
     ]
    }
   ],
   "source": [
    "number_of_event = length(findall(check_events .== true))\n",
    "number_of_no_event = length(check_events) - number_of_event\n",
    "println(\"number of event: $(number_of_event); number of no event: $(number_of_no_event)\")"
   ]
  },
  {
   "cell_type": "code",
   "execution_count": 8,
   "metadata": {},
   "outputs": [],
   "source": [
    "# last points in space (α2, α3)\n",
    "f = Figure(resolution = (700, 700))\n",
    "\n",
    "ax = Axis(f[1, 1], xlabel = L\"α_2\", ylabel = L\"α_3\", xlabelsize = 35, ylabelsize = 35)\n",
    "idx, idy = 5, 6\n",
    "\n",
    "scatter!(ax, 0.0, 0.0, color = :green, markersize = 15, marker = :rect)\n",
    "\n",
    "scatter!(ax, data[:, idx], data[:, idy], color = colors[:], markersize = 5)\n",
    "\n",
    "\n",
    "display(GLMakie.Screen(), f);"
   ]
  },
  {
   "cell_type": "code",
   "execution_count": 19,
   "metadata": {},
   "outputs": [
    {
     "data": {
      "text/plain": [
       "(-4.425618752775773, 6.686327213224743)"
      ]
     },
     "metadata": {},
     "output_type": "display_data"
    }
   ],
   "source": [
    "minimum(data[:, 6]), maximum(data[:, 6])"
   ]
  },
  {
   "cell_type": "code",
   "execution_count": 20,
   "metadata": {},
   "outputs": [
    {
     "data": {
      "text/plain": [
       "(-4.425618752775773, 6.686327213224743)"
      ]
     },
     "metadata": {},
     "output_type": "display_data"
    }
   ],
   "source": [
    "minimum(data[:, 5]), maximum(data[:, 5]) "
   ]
  },
  {
   "cell_type": "code",
   "execution_count": 9,
   "metadata": {},
   "outputs": [],
   "source": [
    "# last points in phase space\n",
    "idx, idy, idz = 2, 3, 1\n",
    "\n",
    "f = Figure(resolution = (700, 700))\n",
    "\n",
    "ax = LScene(f[1, 1], show_axis = true)\n",
    "    \n",
    "scale!(ax.scene, 50, 50, 1)\n",
    "\n",
    "scatter!(data[:, idx], data[:, idy], data[:, idz], markersize = 4.0, color = :deeppink)\n",
    "\n",
    "scatter!(ax, fp[1][idx], fp[1][idy], fp[1][idz], color = :blue, markersize = 4.0)\n",
    "\n",
    "display(GLMakie.Screen(), f);"
   ]
  }
 ],
 "metadata": {
  "kernelspec": {
   "display_name": "Julia 1.9.1",
   "language": "julia",
   "name": "julia-1.9"
  },
  "language_info": {
   "file_extension": ".jl",
   "mimetype": "application/julia",
   "name": "julia",
   "version": "1.9.1"
  },
  "orig_nbformat": 4
 },
 "nbformat": 4,
 "nbformat_minor": 2
}
