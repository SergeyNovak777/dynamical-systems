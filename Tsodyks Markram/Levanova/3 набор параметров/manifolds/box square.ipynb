{
 "cells": [
  {
   "cell_type": "code",
   "execution_count": 1,
   "metadata": {},
   "outputs": [
    {
     "name": "stderr",
     "output_type": "stream",
     "text": [
      "\u001b[32m\u001b[1m  Activating\u001b[22m\u001b[39m project at `C:\\Users\\Alex\\Desktop\\dynamical-systems\\env\\integrate`"
     ]
    },
    {
     "name": "stderr",
     "output_type": "stream",
     "text": [
      "\n"
     ]
    }
   ],
   "source": [
    "username = \"Alex\"\n",
    "pathtorepo = \"C:\\\\Users\\\\\" *username *  \"\\\\Desktop\\\\\"\n",
    "using Pkg\n",
    "Pkg.activate(pathtorepo * \"dynamical-systems\\\\env\\\\integrate\\\\\")\n",
    "include(pathtorepo * \"dynamical-systems\\\\system.jl\")\n",
    "\n",
    "\n",
    "using StaticArrays, DifferentialEquations, DynamicalSystems, JLD\n",
    "E, x, y  = -40..40, -5..5,  -5..5\n",
    "box = E × x × y\n",
    "using GLMakie\n",
    "using LinearAlgebra, LinearSolve,Statistics\n",
    "\n",
    "cd(\"C:\\\\Users\\\\\" *username *  \"\\\\Desktop\\\\dynamical-systems\\\\Tsodyks Markram\\\\Levanova\\\\3 набор параметров\\\\Сопоставление с матконт\\\\файлы matlab\")\n",
    "I0_hom = load(\"I0_hom_hom.jld\")[\"data\"]\n",
    "u0_hom = load(\"U0_hom_hom.jld\")[\"data\"]\n",
    "I0_hom = I0_hom[:]\n",
    "u0_hom = u0_hom[:];"
   ]
  },
  {
   "cell_type": "code",
   "execution_count": 2,
   "metadata": {},
   "outputs": [],
   "source": [
    "function condition(u, t, integrator)\n",
    "    x = Vector(u)\n",
    "    b = x - fp[1]\n",
    "    b = Vector(b)\n",
    "    linprob = LinearProblem(A, b)\n",
    "    linsolve = solve(linprob)\n",
    "    return norm(linsolve.u, Inf) - ϵ_box\n",
    "end\n",
    "affect!(integrator) = terminate!(integrator)\n",
    "function condition(u)\n",
    "    x = Vector(u)\n",
    "    b = x - fp[1]\n",
    "    b = Vector(b)\n",
    "    linprob = LinearProblem(A, b)\n",
    "    linsolve = solve(linprob)\n",
    "    return norm(linsolve.u, Inf), linsolve\n",
    "end\n",
    "function color_alpha(alpha)\n",
    "    if alpha > 0.0\n",
    "        return \"red\"\n",
    "    else\n",
    "        return \"blue\"\n",
    "    end\n",
    "end;"
   ]
  },
  {
   "cell_type": "code",
   "execution_count": 3,
   "metadata": {},
   "outputs": [],
   "source": [
    "const τ = 0.013;  const τD = 0.07993;  const τy = 3.3;  const J = 3.07;  const β = 0.300\n",
    "const xthr = 0.75; const ythr = 0.4; const α = 1.58; const ΔU0 = 0.305\n",
    "\n",
    "t = 500.0; tspan = [0.0, t];"
   ]
  },
  {
   "cell_type": "code",
   "execution_count": 22,
   "metadata": {},
   "outputs": [],
   "source": [
    "# index point from homoclinic curve\n",
    "index_hom = 1;\n",
    "\n",
    "I0 = I0_hom[index_hom]; U0 = u0_hom[index_hom]\n",
    "\n",
    "p = SA[α, τ, τD, τy, J, xthr, ythr, U0, ΔU0, β, I0]\n",
    "u0 = [11.325905642223786, 0.6594706953104683, 0.4863175026548461]\n",
    "\n",
    "ds = CoupledODEs(TM, u0, p)\n",
    "fp, _, _ = fixedpoints(ds, box, jacob_TM_)\n",
    "\n",
    "ϵ_box = 1e-4\n",
    "Ju0 = jacob_TM_(fp[1], p, 0);\n",
    "fp_ = fp[1]\n",
    "\n",
    "eigen_val_vec = eigen(Ju0)\n",
    "eigen_vectors = eigen_val_vec.vectors\n",
    "\n",
    "v1 = real(eigen_vectors[:, 1])\n",
    "v2 = real(eigen_vectors[:, 2])\n",
    "v3 = imag(eigen_vectors[:, 3])\n",
    "\n",
    "v1 = normalize(v1, 2)\n",
    "v2 = normalize(v2, 2)\n",
    "v3 = normalize(v3, 2)\n",
    "\n",
    "v1t = transpose(v1)\n",
    "v2t = transpose(v2)\n",
    "v3t = transpose(v3)\n",
    "\n",
    "A = transpose([v1t; v2t; v3t])\n",
    "A = Matrix(A)\n",
    "\n",
    "N = 101\n",
    "nrange = range(1, N - 1, step = 1)\n",
    "\n",
    "dots = zeros(length(nrange), 3)\n",
    "Es = Float64[]; xs = Float64[]; ys = Float64[]\n",
    "α1s =  Float64[]; α2s =  Float64[]; α3s =  Float64[]\n",
    "\n",
    "colors = []\n",
    "check_events = []\n",
    "time_events = []\n",
    "\"\"\"for (i, n) in enumerate(nrange)\n",
    "    α1 = 0\n",
    "    α2 = ϵ_box\n",
    "    α3 = -ϵ_box + 2 * ϵ_box * n / N\n",
    "    αs = [α1, α2, α3]\n",
    "    dot = fp_ + A * αs\n",
    "    dots[i, :] = dot\n",
    "end\"\"\";"
   ]
  },
  {
   "cell_type": "code",
   "execution_count": 23,
   "metadata": {},
   "outputs": [
    {
     "data": {
      "text/plain": [
       "Float64[]"
      ]
     },
     "metadata": {},
     "output_type": "display_data"
    }
   ],
   "source": [
    "N = 101 \n",
    "n_total = N - 1\n",
    "n_line = Int( n_total/ 4 ) # точек на одной прямой\n"
   ]
  },
  {
   "cell_type": "code",
   "execution_count": 26,
   "metadata": {},
   "outputs": [
    {
     "data": {
      "text/plain": [
       "25"
      ]
     },
     "metadata": {},
     "output_type": "display_data"
    }
   ],
   "source": [
    "index = 1\n",
    "while index != n_line\n",
    "    α1 = 0\n",
    "    α2 = ϵ_box\n",
    "    α3 = -ϵ_box + 2 * ϵ_box * index / N\n",
    "    αs = [α1, α2, α3]\n",
    "    dot = fp_ + A * αs\n",
    "    push!(Es, dot[1])\n",
    "    push!(xs, dot[2])\n",
    "    push!(ys, dot[3])\n",
    "    index += 1\n",
    "end\n",
    "index = index"
   ]
  },
  {
   "cell_type": "code",
   "execution_count": 28,
   "metadata": {},
   "outputs": [
    {
     "ename": "BoundsError",
     "evalue": "BoundsError: attempt to access 24-element Vector{Float64} at index [25]",
     "output_type": "error",
     "traceback": [
      "BoundsError: attempt to access 24-element Vector{Float64} at index [25]\n",
      "\n",
      "Stacktrace:\n",
      " [1] getindex(A::Vector{Float64}, i1::Int64)\n",
      "   @ Base .\\essentials.jl:13\n",
      " [2] top-level scope\n",
      "   @ c:\\Users\\Alex\\Desktop\\dynamical-systems\\Tsodyks Markram\\Levanova\\3 набор параметров\\manifolds\\box square.ipynb:2"
     ]
    }
   ],
   "source": [
    "for i in range(1, n_line, step = 1)\n",
    "    _, αs = condition([ Es[i], xs[i], ys[i] ])\n",
    "    push!(α1s, αs[1])\n",
    "    push!(α2s, αs[2])\n",
    "    push!(α3s, αs[3])\n",
    "end"
   ]
  },
  {
   "cell_type": "code",
   "execution_count": 21,
   "metadata": {},
   "outputs": [],
   "source": [
    "# last points in phase space\n",
    "\n",
    "f = Figure(resolution = (700, 700))\n",
    "\n",
    "ax = Axis(f[1, 1])\n",
    "\n",
    "scatter!(ax, α2s, α3s, markersize=  5.0)\n",
    "\n",
    "display(GLMakie.Screen(), f);"
   ]
  }
 ],
 "metadata": {
  "kernelspec": {
   "display_name": "Julia 1.9.1",
   "language": "julia",
   "name": "julia-1.9"
  },
  "language_info": {
   "file_extension": ".jl",
   "mimetype": "application/julia",
   "name": "julia",
   "version": "1.9.1"
  },
  "orig_nbformat": 4
 },
 "nbformat": 4,
 "nbformat_minor": 2
}
