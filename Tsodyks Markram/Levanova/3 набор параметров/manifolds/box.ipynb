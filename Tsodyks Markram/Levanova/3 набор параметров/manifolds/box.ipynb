{
 "cells": [
  {
   "cell_type": "code",
   "execution_count": 1,
   "metadata": {},
   "outputs": [
    {
     "name": "stderr",
     "output_type": "stream",
     "text": [
      "\u001b[32m\u001b[1m  Activating\u001b[22m\u001b[39m project at `C:\\Users\\Alex\\Desktop\\dynamical-systems\\env\\integrate`\n"
     ]
    }
   ],
   "source": [
    "username = \"Alex\"\n",
    "pathtorepo = \"C:\\\\Users\\\\\" *username *  \"\\\\Desktop\\\\\"\n",
    "using Pkg\n",
    "Pkg.activate(pathtorepo * \"dynamical-systems\\\\env\\\\integrate\\\\\")\n",
    "include(pathtorepo * \"dynamical-systems\\\\system.jl\")\n",
    "\n",
    "\n",
    "using StaticArrays, DifferentialEquations, DynamicalSystems, JLD\n",
    "E, x, y  = -40..40, -5..5,  -5..5\n",
    "box = E × x × y\n",
    "using CairoMakie, GLMakie\n",
    "using LinearAlgebra"
   ]
  },
  {
   "cell_type": "code",
   "execution_count": 2,
   "metadata": {},
   "outputs": [],
   "source": [
    "const τ = 0.013;  const τD = 0.07993;  const τy = 3.3;  const J = 3.07;  const β = 0.300\n",
    "const xthr = 0.75; const ythr = 0.4; const α = 1.58; const ΔU0 = 0.305;"
   ]
  },
  {
   "cell_type": "code",
   "execution_count": 3,
   "metadata": {},
   "outputs": [],
   "source": [
    "t = 1500; tt = 1500; tstep = 0.001; tspan = [time, tt]\n",
    "integ_set = (alg = Vern9(), adaptive = true, abstol = 1e-15, reltol = 1e-15);"
   ]
  },
  {
   "cell_type": "code",
   "execution_count": 4,
   "metadata": {},
   "outputs": [],
   "source": [
    "I0 = -1.706; U0 = 0.265\n",
    "p = SA[α, τ, τD, τy, J, xthr, ythr, U0, ΔU0, β, I0]\n",
    "u0 = [11.325905642223786, 0.6594706953104683, 0.4863175026548461];"
   ]
  },
  {
   "cell_type": "code",
   "execution_count": 5,
   "metadata": {},
   "outputs": [
    {
     "data": {
      "text/plain": [
       "3-dimensional CoupledODEs\n",
       " deterministic: true\n",
       " discrete time: false\n",
       " in-place:      false\n",
       " dynamic rule:  TM\n",
       " ODE solver:    Vern9\n",
       " ODE kwargs:    (adaptive = true, abstol = 1.0e-15, reltol = 1.0e-15)\n",
       " parameters:    [1.58, 0.013, 0.07993, 3.3, 3.07, 0.75, 0.4, 0.265, 0.305, 0.3, -1.706]\n",
       " time:          0.0\n",
       " state:         [11.325905642223786, 0.6594706953104683, 0.4863175026548461]\n"
      ]
     },
     "metadata": {},
     "output_type": "display_data"
    }
   ],
   "source": [
    "ds = CoupledODEs(TM, u0, p, diffeq = integ_set)"
   ]
  },
  {
   "cell_type": "code",
   "execution_count": 41,
   "metadata": {},
   "outputs": [],
   "source": [
    "fp, _, _ = fixedpoints(ds, box, jacob_TM_)\n",
    "ϵ_sep = 1e-11\n",
    "ϵ_box = 1e-4\n",
    "Ju0 = jacob_TM_(fp[index_fp], p, 0);"
   ]
  },
  {
   "cell_type": "code",
   "execution_count": 33,
   "metadata": {},
   "outputs": [],
   "source": [
    "eigen_val_vec = eigen(Ju0);"
   ]
  },
  {
   "cell_type": "code",
   "execution_count": 34,
   "metadata": {},
   "outputs": [],
   "source": [
    "eigen_vectors = eigen_val_vec.vectors;"
   ]
  },
  {
   "cell_type": "code",
   "execution_count": 35,
   "metadata": {},
   "outputs": [],
   "source": [
    "v1 = real(eigen_vectors[:, 1])\n",
    "v2 = real(eigen_vectors[:, 2])\n",
    "v3 = imag(eigen_vectors[:, 3]);"
   ]
  },
  {
   "cell_type": "code",
   "execution_count": 36,
   "metadata": {},
   "outputs": [
    {
     "name": "stdout",
     "output_type": "stream",
     "text": [
      "[0.9987278935611392, -0.04899697959241664, 0.011911784658484765]\n",
      "[0.9998544054861348, -0.014179597238430847, 0.0007059977558191637]\n",
      "[0.0, 0.009321400054974492, 0.0016492180897575192]\n"
     ]
    }
   ],
   "source": [
    "println(v1)\n",
    "println(v2)\n",
    "println(v3)"
   ]
  },
  {
   "cell_type": "code",
   "execution_count": 38,
   "metadata": {},
   "outputs": [
    {
     "data": {
      "text/plain": [
       "3-element SVector{3, Float64} with indices SOneTo(3):\n",
       " 8.346186234761777\n",
       " 0.7384924984433785\n",
       " 0.43828797834204597"
      ]
     },
     "metadata": {},
     "output_type": "display_data"
    }
   ],
   "source": [
    "dot_on_sep_stable = fp[1] + v1*ϵ_sep"
   ]
  },
  {
   "cell_type": "code",
   "execution_count": 7,
   "metadata": {},
   "outputs": [
    {
     "name": "stdout",
     "output_type": "stream",
     "text": [
      "Length sol: 1500001\n"
     ]
    }
   ],
   "source": [
    "ds = CoupledODEs(TM, shift, p, diffeq = integ_set)\n",
    "sol, trange = trajectory(ds, t, Ttr = tt, Δt = tstep)\n",
    "println(\"Length sol: $(length(sol))\");"
   ]
  }
 ],
 "metadata": {
  "kernelspec": {
   "display_name": "Julia 1.9.1",
   "language": "julia",
   "name": "julia-1.9"
  },
  "language_info": {
   "file_extension": ".jl",
   "mimetype": "application/julia",
   "name": "julia",
   "version": "1.9.1"
  },
  "orig_nbformat": 4
 },
 "nbformat": 4,
 "nbformat_minor": 2
}
