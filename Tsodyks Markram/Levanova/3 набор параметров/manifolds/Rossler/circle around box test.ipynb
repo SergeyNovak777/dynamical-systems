{
 "cells": [
  {
   "cell_type": "code",
   "execution_count": 1,
   "metadata": {},
   "outputs": [
    {
     "name": "stderr",
     "output_type": "stream",
     "text": [
      "\u001b[32m\u001b[1m  Activating\u001b[22m\u001b[39m project at `C:\\Users\\Alex\\Desktop\\dynamical-systems\\env\\integrate`"
     ]
    },
    {
     "name": "stderr",
     "output_type": "stream",
     "text": [
      "\n"
     ]
    }
   ],
   "source": [
    "username = \"Alex\"\n",
    "pathtorepo = \"C:\\\\Users\\\\\" *username *  \"\\\\Desktop\\\\\"\n",
    "using Pkg\n",
    "Pkg.activate(pathtorepo * \"dynamical-systems\\\\env\\\\integrate\\\\\")\n",
    "include(pathtorepo * \"dynamical-systems\\\\system.jl\")\n",
    "\n",
    "\n",
    "using StaticArrays, DifferentialEquations, DynamicalSystems, JLD\n",
    "E, x, y  = -40..40, -5..5,  -5..5\n",
    "box = E × x × y\n",
    "using GLMakie\n",
    "using LinearAlgebra, LinearSolve\n",
    "\n",
    "cd(\"C:\\\\Users\\\\\" *username *  \"\\\\Desktop\\\\dynamical-systems\\\\Tsodyks Markram\\\\Levanova\\\\3 набор параметров\\\\Сопоставление с матконт\\\\файлы matlab\")\n",
    "I0_hom = load(\"I0_hom_hom.jld\")[\"data\"]\n",
    "u0_hom = load(\"U0_hom_hom.jld\")[\"data\"]\n",
    "I0_hom = I0_hom[:]\n",
    "u0_hom = u0_hom[:];"
   ]
  },
  {
   "cell_type": "code",
   "execution_count": 2,
   "metadata": {},
   "outputs": [
    {
     "data": {
      "text/plain": [
       "get_norm_αs (generic function with 1 method)"
      ]
     },
     "metadata": {},
     "output_type": "display_data"
    }
   ],
   "source": [
    "@inbounds function Res(u, p, t)\n",
    "    du1 = -u[2]-u[3]\n",
    "    du2 = u[1]+p[1]*u[2]\n",
    "    du3 = p[2]*u[1]-p[3]*u[3]+u[1]*u[3]\n",
    "    return SVector(du1, du2, du3)\n",
    "end\n",
    "@inbounds function jac_res(u, p, t)\n",
    "    SMatrix{3, 3}(0.0, 1.0, p[2]+u[3],\n",
    "                -1.0, p[1], 0.0,\n",
    "                -1.0, 0.0, -p[3]+u[1])\n",
    "end\n",
    "function makeevent(fp, ϵbox)\n",
    "    function condition(u, t, integrator)\n",
    "        x = Vector(u)\n",
    "        b = x - fp[1]\n",
    "        b = Vector(b)\n",
    "        linprob = LinearProblem(A, b)\n",
    "        linsolve = solve(linprob)\n",
    "        return norm(linsolve.u, Inf) - ϵbox\n",
    "    end\n",
    "    return condition\n",
    "end\n",
    "affect!(integrator) = terminate!(integrator)\n",
    "\n",
    "function get_norm_αs(u)\n",
    "    x = Vector(u)\n",
    "    b = x - fp[1]\n",
    "    b = Vector(b)\n",
    "    linprob = LinearProblem(A, b)\n",
    "    linsolve = solve(linprob)\n",
    "    return norm(linsolve.u, Inf), linsolve\n",
    "end"
   ]
  },
  {
   "cell_type": "code",
   "execution_count": 3,
   "metadata": {},
   "outputs": [],
   "source": [
    "b = 0.3;  c = 3.458; a = 0.4916\n",
    "t = 1000.0; tspan = [0.0, t]\n",
    "p = [a, b, c]\n",
    "u0 = [0.0, 0.0, 0.0];"
   ]
  },
  {
   "cell_type": "code",
   "execution_count": 4,
   "metadata": {},
   "outputs": [],
   "source": [
    "ds = CoupledODEs(Res, u0, p)\n",
    "fp, _, _ = fixedpoints(ds, box, jac_res);"
   ]
  },
  {
   "cell_type": "code",
   "execution_count": 5,
   "metadata": {},
   "outputs": [
    {
     "data": {
      "text/plain": [
       "3×3 Matrix{Float64}:\n",
       "  0.264692   0.960091    0.0\n",
       " -0.068448  -0.269859   -0.999772\n",
       "  0.961901   0.0734972  -0.0213429"
      ]
     },
     "metadata": {},
     "output_type": "display_data"
    }
   ],
   "source": [
    "ϵ_box = 1e-4\n",
    "Ju0 = jac_res(fp[1], p, 0);\n",
    "fp_ = fp[1]\n",
    "\n",
    "eigen_val_vec = eigen(Ju0)\n",
    "eigen_vectors = eigen_val_vec.vectors\n",
    "\n",
    "v1 = real(eigen_vectors[:, 1])\n",
    "v2 = real(eigen_vectors[:, 2])\n",
    "v3 = imag(eigen_vectors[:, 3])\n",
    "\n",
    "v1 = normalize(v1, 2)\n",
    "v2 = normalize(v2, 2)\n",
    "v3 = normalize(v3, 2)\n",
    "\n",
    "v1t = transpose(v1)\n",
    "v2t = transpose(v2)\n",
    "v3t = transpose(v3)\n",
    "\n",
    "A = transpose([v1t; v2t; v3t])\n",
    "A = Matrix(A)"
   ]
  },
  {
   "cell_type": "code",
   "execution_count": 6,
   "metadata": {},
   "outputs": [],
   "source": [
    "N = 50\n",
    "nrange = range(1, N - 1, step = 1)\n",
    "dots = zeros(length(nrange), 3);"
   ]
  },
  {
   "cell_type": "code",
   "execution_count": 7,
   "metadata": {},
   "outputs": [],
   "source": [
    "α1su0 =  Float64[]; α2su0 =  Float64[]; α3su0 =  Float64[]\n",
    "\n",
    "for (i, n) in enumerate(nrange)\n",
    "    α1 = 0\n",
    "    α2 = cos(2 * pi * n / N) * (ϵ_box * sqrt(2))\n",
    "    α3 = sin(2 * pi * n / N) * (ϵ_box * sqrt(2))\n",
    "    αs = [α1, α2, α3]\n",
    "    dot = fp_ + A * αs\n",
    "    dots[i, :] = dot\n",
    "    push!(α2su0, α2)\n",
    "    push!(α3su0, α3)\n",
    "end"
   ]
  },
  {
   "cell_type": "code",
   "execution_count": 8,
   "metadata": {},
   "outputs": [
    {
     "data": {
      "text/plain": [
       "retcode: Success\n",
       "Interpolation: specialized 9th order lazy interpolation\n",
       "t: 21726-element Vector{Float64}:\n",
       "    0.0\n",
       "    0.046760745932695864\n",
       "    0.13855977142310053\n",
       "    0.3019344770488754\n",
       "    0.49584866413229933\n",
       "    0.7016376031370021\n",
       "    0.9256487274661314\n",
       "    1.1603928589990988\n",
       "    1.4065426222753143\n",
       "    1.6608807193612327\n",
       "    ⋮\n",
       "  999.7422950910174\n",
       "  999.7757670487954\n",
       "  999.8090901936666\n",
       "  999.8422460395167\n",
       "  999.8753844583641\n",
       "  999.9086651611678\n",
       "  999.9421046412682\n",
       "  999.9757236985665\n",
       " 1000.0\n",
       "u: 21726-element Vector{SVector{3, Float64}}:\n",
       " [-8.525530802474061e-6, -0.00013871382120750626, -3.6650311541773147e-6]\n",
       " [-1.7969128487954162e-6, -0.00014218474799721325, -3.1836612732250496e-6]\n",
       " [1.179026930555527e-5, -0.00014828757936786728, -2.1922856367608403e-6]\n",
       " [3.694670532242508e-5, -0.000156586676121595, -2.927240264723537e-7]\n",
       " [6.771516591472217e-5, -0.00016165977982848047, 2.13900656200935e-6]\n",
       " [0.0001002859447993502, -0.00016072506651860298, 4.847810068480159e-6]\n",
       " [0.00013402032815122561, -0.00015171331673059842, 7.825151467743513e-6]\n",
       " [0.0001654302384764066, -0.00013298533740693032, 1.0818079712646311e-5]\n",
       " [0.0001916961249030192, -0.00010326321524135087, 1.3621105817989852e-5]\n",
       " [0.0002092065228593015, -6.25117489381766e-5, 1.5936813259329306e-5]\n",
       " ⋮\n",
       " [-0.4088662527199546, -0.49691407521461683, 1.0889553110232844]\n",
       " [-0.4259811355227067, -0.5192600740748872, 0.9525253664373015]\n",
       " [-0.4379970693114308, -0.5423630479216548, 0.8326542608647114]\n",
       " [-0.4454513638223653, -0.5660529924634601, 0.727528750717931]\n",
       " [-0.4488368039560753, -0.5902996147871631, 0.6350367177658309]\n",
       " [-0.44852621590476693, -0.6151019974394882, 0.553404379350771]\n",
       " [-0.44481209210041284, -0.6403662661447279, 0.48145760217018785]\n",
       " [-0.43795092967496063, -0.6660085212958788, 0.41812621692900714]\n",
       " [-0.43120513482547074, -0.6846206840660214, 0.3774021645218317]"
      ]
     },
     "metadata": {},
     "output_type": "display_data"
    }
   ],
   "source": [
    "indexn = 13\n",
    "condition = makeevent(fp, ϵ_box)\n",
    "u0 = SA[dots[indexn, 1], dots[indexn, 2], dots[indexn, 3]]\n",
    "cb = ContinuousCallback(condition, nothing, affect!)\n",
    "prob = ODEProblem(Res, u0, tspan, p)\n",
    "sol = solve(prob, alg = Vern9(), abstol = 1e-14, reltol = 1e-14, callback = cb)"
   ]
  },
  {
   "cell_type": "code",
   "execution_count": 9,
   "metadata": {},
   "outputs": [],
   "source": [
    "ts = 1\n",
    "idx, idy, idz = 2, 3, 1\n",
    "\n",
    "f = Figure(resolution = (700, 700))\n",
    "ax = LScene(f[1, 1], show_axis = true)\n",
    "lines!(sol[idx, ts: length(sol)], sol[idy, ts: length(sol)], sol[idz, ts: length(sol)], linewidth = 1.0, color = :deeppink)\n",
    "scatter!(ax, fp[1][idx], fp[1][idy], fp[1][idz], color = :blue)\n",
    "scatter!(ax, dots[:, idx], dots[:, idy], dots[:, idz], markersize = 5)\n",
    "\n",
    "display(GLMakie.Screen(), f);"
   ]
  },
  {
   "cell_type": "code",
   "execution_count": 10,
   "metadata": {},
   "outputs": [
    {
     "ename": "UndefVarError",
     "evalue": "UndefVarError: `linsolve` not defined",
     "output_type": "error",
     "traceback": [
      "UndefVarError: `linsolve` not defined\n",
      "\n",
      "Stacktrace:\n",
      " [1] top-level scope\n",
      "   @ c:\\Users\\Alex\\Desktop\\dynamical-systems\\Tsodyks Markram\\Levanova\\3 набор параметров\\manifolds\\Rossler\\circle around box test.ipynb:8"
     ]
    }
   ],
   "source": [
    "f = Figure(resolution = (700, 700))\n",
    "\n",
    "ax = Axis(f[1, 1])\n",
    "idx, idy = 2, 3\n",
    "\n",
    "scatter!(ax, 0.0, 0.0, color = :green, markersize = 15, marker = :rect)\n",
    "\n",
    "scatter!(ax, linsolve[idx], linsolve[idy], color = :red, markersize = 5)\n",
    "scatter!(ax, α2su0, α3su0, color = :black, markersize = 5)\n",
    "\n",
    "display(GLMakie.Screen(), f);"
   ]
  }
 ],
 "metadata": {
  "kernelspec": {
   "display_name": "Julia 1.9.1",
   "language": "julia",
   "name": "julia-1.9"
  },
  "language_info": {
   "file_extension": ".jl",
   "mimetype": "application/julia",
   "name": "julia",
   "version": "1.9.1"
  },
  "orig_nbformat": 4
 },
 "nbformat": 4,
 "nbformat_minor": 2
}
