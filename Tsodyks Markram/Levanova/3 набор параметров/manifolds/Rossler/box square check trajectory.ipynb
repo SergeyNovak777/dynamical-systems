{
 "cells": [
  {
   "cell_type": "code",
   "execution_count": 1,
   "metadata": {},
   "outputs": [
    {
     "name": "stderr",
     "output_type": "stream",
     "text": [
      "\u001b[32m\u001b[1m  Activating\u001b[22m\u001b[39m project at `C:\\Users\\Alex\\Desktop\\dynamical-systems\\env\\integrate`"
     ]
    },
    {
     "name": "stderr",
     "output_type": "stream",
     "text": [
      "\n"
     ]
    }
   ],
   "source": [
    "username = \"Alex\"\n",
    "pathtorepo = \"C:\\\\Users\\\\\" *username *  \"\\\\Desktop\\\\\"\n",
    "using Pkg\n",
    "Pkg.activate(pathtorepo * \"dynamical-systems\\\\env\\\\integrate\\\\\")\n",
    "include(pathtorepo * \"dynamical-systems\\\\system.jl\")\n",
    "\n",
    "\n",
    "using StaticArrays, DifferentialEquations, DynamicalSystems, JLD\n",
    "E, x, y  = -10..10, -10..10,  -10..10\n",
    "box = E × x × y\n",
    "using GLMakie\n",
    "using LinearAlgebra, LinearSolve,Statistics"
   ]
  },
  {
   "cell_type": "code",
   "execution_count": 2,
   "metadata": {},
   "outputs": [
    {
     "data": {
      "text/plain": [
       "jac_res (generic function with 1 method)"
      ]
     },
     "metadata": {},
     "output_type": "display_data"
    }
   ],
   "source": [
    "@inbounds function Res(u, p, t)\n",
    "    du1 = -u[2]-u[3]\n",
    "    du2 = u[1]+p[1]*u[2]\n",
    "    du3 = p[2]*u[1]-p[3]*u[3]+u[1]*u[3]\n",
    "    return SVector(du1, du2, du3)\n",
    "end\n",
    "@inbounds function jac_res(u, p, t)\n",
    "    SMatrix{3, 3}(0.0, 1.0, p[2]+u[3],\n",
    "                -1.0, p[1], 0.0,\n",
    "                -1.0, 0.0, -p[3]+u[1])\n",
    "end"
   ]
  },
  {
   "cell_type": "code",
   "execution_count": 13,
   "metadata": {},
   "outputs": [],
   "source": [
    "function condition(u, t, integrator)\n",
    "    x = Vector(u)\n",
    "    b = x - fp[1]\n",
    "    b = Vector(b)\n",
    "    linprob = LinearProblem(A, b)\n",
    "    linsolve = solve(linprob)\n",
    "    return norm(linsolve.u, Inf) - ϵ_box\n",
    "end\n",
    "affect!(integrator) = terminate!(integrator)\n",
    "function get_norm_αs(u)\n",
    "    x = Vector(u)\n",
    "    b = x - fp[1]\n",
    "    b = Vector(b)\n",
    "    linprob = LinearProblem(A, b)\n",
    "    linsolve = solve(linprob)\n",
    "    return norm(linsolve.u, Inf), linsolve\n",
    "end\n",
    "function color_alpha(alpha)\n",
    "    if alpha > 0.0\n",
    "        return \"red\"\n",
    "    else\n",
    "        return \"blue\"\n",
    "    end\n",
    "end;"
   ]
  },
  {
   "cell_type": "code",
   "execution_count": 142,
   "metadata": {},
   "outputs": [],
   "source": [
    "b = 0.3;  c = 3.458; a = 0.4916\n",
    "t = 1000.0; tspan = [0.0, t]\n",
    "p = [a, b, c]\n",
    "u0 = [0.0, 0.0, 0.0];"
   ]
  },
  {
   "cell_type": "code",
   "execution_count": 164,
   "metadata": {},
   "outputs": [
    {
     "data": {
      "text/plain": [
       "3×3 Matrix{Float64}:\n",
       "  0.264692   0.960091    0.0\n",
       " -0.068448  -0.269859   -0.999772\n",
       "  0.961901   0.0734972  -0.0213429"
      ]
     },
     "metadata": {},
     "output_type": "display_data"
    }
   ],
   "source": [
    "ds = CoupledODEs(Res, u0, p)\n",
    "fp, _, _ = fixedpoints(ds, box, jac_res)\n",
    "\n",
    "ϵ_box = 1e-3\n",
    "Ju0 = jac_res(fp[1], p, 0);\n",
    "fp_ = fp[1]\n",
    "\n",
    "eigen_val_vec = eigen(Ju0)\n",
    "eigen_vectors = eigen_val_vec.vectors\n",
    "\n",
    "v1 = real(eigen_vectors[:, 1])\n",
    "v2 = real(eigen_vectors[:, 2])\n",
    "v3 = imag(eigen_vectors[:, 3])\n",
    "\n",
    "v1 = normalize(v1, 2)\n",
    "v1t = transpose(v1)\n",
    "\n",
    "v2 = normalize(v2, 2)\n",
    "v2t = transpose(v2)\n",
    "\n",
    "v3 = normalize(v3, 2)\n",
    "v3t = transpose(v3)\n",
    "\n",
    "A = transpose([v1t; v2t; v3t])\n",
    "A = Matrix(A)"
   ]
  },
  {
   "cell_type": "code",
   "execution_count": 165,
   "metadata": {},
   "outputs": [],
   "source": [
    "total_number_points = 50\n",
    "number_points_on_side = Int((total_number_points) / 1)\n",
    "\n",
    "dots_right_side = zeros(number_points_on_side, length(u0))\n",
    "array_α_vec_right = zeros(number_points_on_side, length(u0))\n",
    "\n",
    "dots_left_side = zeros(number_points_on_side, length(u0))\n",
    "array_α_vec_left = zeros(number_points_on_side, length(u0))\n",
    "\n",
    "dots_up_side = zeros(number_points_on_side, length(u0))\n",
    "array_α_vec_up = zeros(number_points_on_side, length(u0))\n",
    "\n",
    "dots_down_side = zeros(number_points_on_side, length(u0))\n",
    "array_α_vec_down = zeros(number_points_on_side, length(u0));"
   ]
  },
  {
   "cell_type": "code",
   "execution_count": 166,
   "metadata": {},
   "outputs": [],
   "source": [
    "# case α1 = 0; α2 = ϵ_box; α3 = [-ϵ_box; ϵ_box]\n",
    "n = 1\n",
    "N = total_number_points\n",
    "while n <= number_points_on_side\n",
    "\n",
    "    α1 = 0.0\n",
    "    α2 = ϵ_box\n",
    "    α3 = - ϵ_box + 2 * ϵ_box * n / N\n",
    "    α_vec = [α1, α2, α3]\n",
    "    point = fp_ - A * α_vec\n",
    "    \n",
    "    dots_right_side[n, :] = point\n",
    "    _, α_vec = get_norm_αs( dots_right_side[n, :] )\n",
    "    array_α_vec_right[n, :] = α_vec\n",
    "    n+=1\n",
    "end\n",
    "\n",
    "# case α1 = 0; α2 = -ϵ_box; α3 = [-ϵ_box; ϵ_box]\n",
    "n = 1\n",
    "N = total_number_points\n",
    "while n <= number_points_on_side\n",
    "\n",
    "    α1 = 0.0\n",
    "    α2 = -ϵ_box\n",
    "    α3 = - ϵ_box + 2 * ϵ_box * n / N\n",
    "    α_vec = [α1, α2, α3]\n",
    "    point = fp_ - A * α_vec\n",
    "    \n",
    "    dots_left_side[n, :] = point\n",
    "    _, α_vec = get_norm_αs( dots_left_side[n, :] )\n",
    "    array_α_vec_left[n, :] = α_vec\n",
    "    n+=1\n",
    "end\n",
    "\n",
    "# case α1 = 0; α2 = [-ϵ_box; ϵ_box]; α3 = ϵ_box\n",
    "n = 1\n",
    "N = total_number_points\n",
    "while n <= number_points_on_side\n",
    "\n",
    "    α1 = 0.0\n",
    "    α2 = - ϵ_box + 2 * ϵ_box * n / N\n",
    "    α3 = ϵ_box\n",
    "    α_vec = [α1, α2, α3]\n",
    "    point = fp_ - A * α_vec\n",
    "    \n",
    "    dots_up_side[n, :] = point\n",
    "    _, α_vec = get_norm_αs( dots_up_side[n, :] )\n",
    "    array_α_vec_up[n, :] = α_vec\n",
    "    n+=1\n",
    "end\n",
    "\n",
    "# case α1 = 0; α2 = [-ϵ_box; ϵ_box]; α3 = -ϵ_box\n",
    "n = 1\n",
    "N = total_number_points\n",
    "while n <= number_points_on_side\n",
    "\n",
    "    α1 = 0.0\n",
    "    α2 = - ϵ_box + 2 * ϵ_box * n / N\n",
    "    α3 = -ϵ_box\n",
    "    α_vec = [α1, α2, α3]\n",
    "    point = fp_ - A * α_vec\n",
    "    \n",
    "    dots_down_side[n, :] = point\n",
    "    _, α_vec = get_norm_αs( dots_down_side[n, :] )\n",
    "    array_α_vec_down[n, :] = α_vec\n",
    "    n+=1\n",
    "end;"
   ]
  },
  {
   "cell_type": "code",
   "execution_count": 187,
   "metadata": {},
   "outputs": [
    {
     "data": {
      "text/plain": [
       "retcode: Terminated\n",
       "Interpolation: specialized 9th order lazy interpolation\n",
       "t: 4-element Vector{Float64}:\n",
       " 0.0\n",
       " 0.03801195986720886\n",
       " 0.07040914977085999\n",
       " 0.07040914977085999\n",
       "u: 4-element Vector{SVector{3, Float64}}:\n",
       " [-0.000960090900479025, 0.00010989496621080494, -7.69120814540523e-5]\n",
       " [-0.0009606704563583019, 7.511438322372939e-5, -7.769976248112245e-5]\n",
       " [-0.0009600895863647313, 4.495483063513492e-5, -7.829362332957826e-5]\n",
       " [-0.0009600895863647313, 4.495483063513492e-5, -7.829362332957826e-5]"
      ]
     },
     "metadata": {},
     "output_type": "display_data"
    }
   ],
   "source": [
    "index = 21\n",
    "cb = ContinuousCallback(condition, nothing, affect!)\n",
    "u0 = SA[dots_right_side[index, 1], dots_right_side[index, 2], dots_right_side[index, 3]]\n",
    "\n",
    "prob = ODEProblem(Res, u0, tspan, p)\n",
    "sol = solve(prob, alg = Vern9(), abstol = 1e-14, reltol = 1e-14, callback = cb)"
   ]
  },
  {
   "cell_type": "code",
   "execution_count": 188,
   "metadata": {},
   "outputs": [
    {
     "data": {
      "text/plain": [
       "(0.0010000000000000002, [4.9646981798181785e-9, -0.0010000000000000002, 0.0002249545914335952])"
      ]
     },
     "metadata": {},
     "output_type": "display_data"
    }
   ],
   "source": [
    "norm_, alpha_ = get_norm_αs(sol[end])"
   ]
  },
  {
   "cell_type": "code",
   "execution_count": 189,
   "metadata": {},
   "outputs": [
    {
     "data": {
      "text/plain": [
       "GLMakie.Screen(...)"
      ]
     },
     "metadata": {},
     "output_type": "display_data"
    }
   ],
   "source": [
    "width, height = 600, 500\n",
    "markersize = 5.0\n",
    "color = :black\n",
    "xlabel = L\"x\"; ylabel = L\"y\"; zlabel = L\"E\"\n",
    "xlabelsize = 25; ylabelsize = 25; zlabelsize = 25\n",
    "\n",
    "tstart, tend = 1, length(sol)\n",
    "f = Figure(resolution = (width, height))\n",
    "#ax = Axis3(f[1, 1], xlabel = xlabel, ylabel = ylabel, zlabel = zlabel, xlabelsize = xlabelsize, ylabelsize = ylabelsize, zlabelsize = zlabelsize)\n",
    "\n",
    "ax = LScene(f[1, 1], show_axis = true)\n",
    "\n",
    "lines!(sol[2, tstart:tend], sol[3, tstart:tend], sol[1, tstart:tend], color = :deeppink, linewidth = 1.0)\n",
    "\n",
    "scatter!(ax, dots_right_side[:, 2], dots_right_side[:, 3], dots_right_side[:, 1],  markersize = markersize, color = color)\n",
    "scatter!(ax, dots_left_side[:, 2], dots_left_side[:, 3], dots_left_side[:, 1],  markersize = markersize, color = color)\n",
    "scatter!(ax, dots_up_side[:, 2], dots_up_side[:, 3], dots_up_side[:, 1],  markersize = markersize, color = color)\n",
    "scatter!(ax, dots_down_side[:, 2], dots_down_side[:, 3], dots_down_side[:, 1],  markersize = markersize, color = color)\n",
    "\n",
    "scatter!(ax, fp_[2], fp_[3], fp_[1],  markersize = markersize, color = :blue)\n",
    "display(GLMakie.Screen(), f)"
   ]
  },
  {
   "cell_type": "code",
   "execution_count": 131,
   "metadata": {},
   "outputs": [
    {
     "data": {
      "text/plain": [
       "GLMakie.Screen(...)"
      ]
     },
     "metadata": {},
     "output_type": "display_data"
    }
   ],
   "source": [
    "width, height = 600, 500\n",
    "markersize = 5.0\n",
    "color = color_alpha(alpha_[1])\n",
    "xlabel = L\"α_2\"; ylabel = L\"α_3\"\n",
    "xlabelsize = 25; ylabelsize = 25\n",
    "\n",
    "f = Figure(resolution = (width, height))\n",
    "ax = Axis(f[1, 1], xlabel = xlabel, ylabel = ylabel, xlabelsize = xlabelsize, ylabelsize = ylabelsize)\n",
    "\n",
    "scatter!(ax, alpha_[2], alpha_[3], markersize = markersize, color = color)\n",
    "\n",
    "\n",
    "scatter!(ax, 0.0, 0.0, markersize = markersize, color = :green)\n",
    "display(GLMakie.Screen(), f)"
   ]
  },
  {
   "cell_type": "code",
   "execution_count": 19,
   "metadata": {},
   "outputs": [
    {
     "data": {
      "text/plain": [
       "GLMakie.Screen(...)"
      ]
     },
     "metadata": {},
     "output_type": "display_data"
    }
   ],
   "source": [
    "width, height = 600, 500\n",
    "markersize = 5.0\n",
    "color = :black\n",
    "xlabel = L\"x\"; ylabel = L\"y\"; zlabel = L\"z\"\n",
    "xlabelsize = 25; ylabelsize = 25; zlabelsize = 25\n",
    "\n",
    "f = Figure(resolution = (width, height))\n",
    "ax = Axis3(f[1, 1], xlabel = xlabel, ylabel = ylabel, zlabel = zlabel, xlabelsize = xlabelsize, ylabelsize = ylabelsize, zlabelsize = zlabelsize)\n",
    "\n",
    "scatter!(ax, dots_right_side[:, 2], dots_right_side[:, 3], dots_right_side[:, 1],  markersize = markersize, color = color)\n",
    "scatter!(ax, dots_left_side[:, 2], dots_left_side[:, 3], dots_left_side[:, 1],  markersize = markersize, color = color)\n",
    "scatter!(ax, dots_up_side[:, 2], dots_up_side[:, 3], dots_up_side[:, 1],  markersize = markersize, color = color)\n",
    "scatter!(ax, dots_down_side[:, 2], dots_down_side[:, 3], dots_down_side[:, 1],  markersize = markersize, color = color)\n",
    "\n",
    "scatter!(ax, fp_[2], fp_[3], fp_[1],  markersize = markersize, color = :blue)\n",
    "display(GLMakie.Screen(), f)"
   ]
  }
 ],
 "metadata": {
  "kernelspec": {
   "display_name": "Julia 1.9.1",
   "language": "julia",
   "name": "julia-1.9"
  },
  "language_info": {
   "file_extension": ".jl",
   "mimetype": "application/julia",
   "name": "julia",
   "version": "1.9.1"
  },
  "orig_nbformat": 4
 },
 "nbformat": 4,
 "nbformat_minor": 2
}
