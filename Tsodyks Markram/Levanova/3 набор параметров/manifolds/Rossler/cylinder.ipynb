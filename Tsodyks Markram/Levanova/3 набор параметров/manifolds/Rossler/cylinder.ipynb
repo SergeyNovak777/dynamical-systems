{
 "cells": [
  {
   "cell_type": "code",
   "execution_count": 1,
   "id": "95365e8a",
   "metadata": {},
   "outputs": [
    {
     "name": "stderr",
     "output_type": "stream",
     "text": [
      "\u001b[32m\u001b[1m  Activating\u001b[22m\u001b[39m project at `C:\\Users\\Alex\\Desktop\\dynamical-systems\\env\\integrate`\n"
     ]
    }
   ],
   "source": [
    "username = \"Alex\"\n",
    "pathtorepo = \"C:\\\\Users\\\\\" *username *  \"\\\\Desktop\\\\\"\n",
    "using Pkg\n",
    "Pkg.activate(pathtorepo * \"dynamical-systems\\\\env\\\\integrate\\\\\")\n",
    "include(pathtorepo * \"dynamical-systems\\\\system.jl\")\n",
    "\n",
    "\n",
    "using StaticArrays, DifferentialEquations, DynamicalSystems, JLD\n",
    "E, x, y  = -10..10, -10..10,  -10..10\n",
    "box = E × x × y\n",
    "using GLMakie\n",
    "using LinearAlgebra, LinearSolve,Statistics"
   ]
  },
  {
   "cell_type": "code",
   "execution_count": 2,
   "id": "39e21e6c",
   "metadata": {},
   "outputs": [],
   "source": [
    "@inbounds function Res(u, p, t)\n",
    "    du1 = -u[2]-u[3]\n",
    "    du2 = u[1]+p[1]*u[2]\n",
    "    du3 = p[2]*u[1]-p[3]*u[3]+u[1]*u[3]\n",
    "    return SVector(du1, du2, du3)\n",
    "end\n",
    "@inbounds function jac_res(u, p, t)\n",
    "    SMatrix{3, 3}(0.0, 1.0, p[2]+u[3],\n",
    "                -1.0, p[1], 0.0,\n",
    "                -1.0, 0.0, -p[3]+u[1])\n",
    "end\n",
    "function norm_cyylinder(u)\n",
    "    return max( abs( u[1] ), sqrt( u[2]^2 + u[3]^2 ) )\n",
    "end\n",
    "function condition(u, t, integrator)\n",
    "    x = Vector(u)\n",
    "    b = x - fp[1]\n",
    "    b = Vector(b)\n",
    "    linprob = LinearProblem(A, b)\n",
    "    linsolve = solve(linprob)\n",
    "    return norm_cyylinder(linsolve.u) - ϵ_box\n",
    "end\n",
    "affect!(integrator) = terminate!(integrator)\n",
    "function get_norm_αs(u)\n",
    "    x = Vector(u)\n",
    "    b = x - fp[1]\n",
    "    b = Vector(b)\n",
    "    linprob = LinearProblem(A, b)\n",
    "    linsolve = solve(linprob)\n",
    "    return norm_cyylinder(linsolve.u), linsolve\n",
    "end;"
   ]
  },
  {
   "cell_type": "code",
   "execution_count": 3,
   "id": "2da8cb49",
   "metadata": {},
   "outputs": [
    {
     "data": {
      "text/plain": [
       "(0.0, 2500.0)"
      ]
     },
     "metadata": {},
     "output_type": "display_data"
    }
   ],
   "source": [
    "tspan = (0.0, 2500.0)"
   ]
  },
  {
   "cell_type": "code",
   "execution_count": 4,
   "id": "7a5db5e2",
   "metadata": {},
   "outputs": [],
   "source": [
    "b = 0.3;  c = 4.93; a = 0.455\n",
    "#u0 = SA[0.13060105886751308, 0.4782615699018184, 0.7435866656901606]\n",
    "p = [a, b, c];"
   ]
  },
  {
   "cell_type": "code",
   "execution_count": 5,
   "id": "d3802c13",
   "metadata": {},
   "outputs": [
    {
     "data": {
      "text/plain": [
       "3×3 Matrix{Float64}:\n",
       "  0.193807    0.967701    0.0\n",
       " -0.0363909  -0.246107   -0.999938\n",
       "  0.980365    0.0546504  -0.0111352"
      ]
     },
     "metadata": {},
     "output_type": "display_data"
    }
   ],
   "source": [
    "u0 = [0.0, 0.0, 0.0]\n",
    "\n",
    "ds = CoupledODEs(Res, u0, p)\n",
    "fp, _, _ = fixedpoints(ds, box, jac_res)\n",
    "\n",
    "ϵ_box = 1e-1\n",
    "Ju0 = jac_res(fp[1], p, 0);\n",
    "fp_ = fp[1]\n",
    "\n",
    "eigen_val_vec = eigen(Ju0)\n",
    "eigen_vectors = eigen_val_vec.vectors\n",
    "\n",
    "v1 = real(eigen_vectors[:, 1])\n",
    "v2 = real(eigen_vectors[:, 2])\n",
    "v3 = imag(eigen_vectors[:, 3])\n",
    "\n",
    "v1 = normalize(v1, 2)\n",
    "v1t = transpose(v1)\n",
    "\n",
    "v2 = normalize(v2, 2)\n",
    "v2t = transpose(v2)\n",
    "\n",
    "v3 = normalize(v3, 2)\n",
    "v3t = transpose(v3)\n",
    "\n",
    "A = transpose([v1t; v2t; v3t])\n",
    "A = Matrix(A)"
   ]
  },
  {
   "cell_type": "code",
   "execution_count": 6,
   "id": "0a147ec9",
   "metadata": {},
   "outputs": [],
   "source": [
    "N = 51\n",
    "nrange = range(1, N - 1, step = 1)\n",
    "dots = zeros(length(nrange), 3)\n",
    "\n",
    "Es = Float64[]; xs = Float64[]; ys = Float64[]\n",
    "α1su0 =  Float64[]; α2su0 =  Float64[]; α3su0 =  Float64[]\n",
    "α1s =  Float64[]; α2s =  Float64[]; α3s =  Float64[]\n",
    "colors = []\n",
    "check_events = []\n",
    "time_events = []\n",
    "\n",
    "for (i, n) in enumerate(nrange)\n",
    "    α1 = 0\n",
    "    α2 = cos(2 * pi * n / N) * ϵ_box\n",
    "    α3 = sin(2 * pi * n / N) * ϵ_box\n",
    "    αs = [α1, α2, α3]\n",
    "\n",
    "    push!(α2su0, α2)\n",
    "    push!(α3su0, α3)\n",
    "\n",
    "    dot = fp_ + A * αs\n",
    "    dots[i, :] = dot\n",
    "end"
   ]
  },
  {
   "cell_type": "code",
   "execution_count": 10,
   "id": "a95f625c",
   "metadata": {},
   "outputs": [
    {
     "data": {
      "text/plain": [
       "retcode: Success\n",
       "Interpolation: specialized 9th order lazy interpolation\n",
       "t: 74396-element Vector{Float64}:\n",
       "    0.0\n",
       "    0.02297990483051112\n",
       "    0.05321318556269673\n",
       "    0.09017290942323719\n",
       "    0.13611449744852455\n",
       "    0.18704263442671615\n",
       "    0.24365239355022839\n",
       "    0.3057951386420124\n",
       "    0.3729758705527244\n",
       "    0.44491329981068506\n",
       "    ⋮\n",
       " 2499.8381110432642\n",
       " 2499.8594417980285\n",
       " 2499.880899003057\n",
       " 2499.9022937805685\n",
       " 2499.923932614176\n",
       " 2499.945564102\n",
       " 2499.967446113039\n",
       " 2499.9897066220137\n",
       " 2500.0\n",
       "u: 74396-element Vector{SVector{3, Float64}}:\n",
       " [0.09603660915002404, -0.012136076227038606, 0.005560454314290979]\n",
       " [0.09616322586094926, -0.010043590624214963, 0.00560292905594971]\n",
       " [0.09625463728419048, -0.007253681694667999, 0.005653047867087214]\n",
       " [0.09624894328686628, -0.003788771720531372, 0.0057056251759777426]\n",
       " [0.096059219894266, 0.0005959651429608346, 0.0057579559079248555]\n",
       " [0.0956087698594893, 0.005548707219657021, 0.005799439657147958]\n",
       " [0.09480730458569764, 0.011154822947949937, 0.005825482123300914]\n",
       " [0.09355788793799161, 0.01741324997014942, 0.005829999437802989]\n",
       " [0.09176692278868355, 0.024277915140312484, 0.0058067088698159335]\n",
       " [0.08933761469760094, 0.03171131328156214, 0.005749385819797216]\n",
       " ⋮\n",
       " [-0.3675161351478462, -7.037744538754268, 5.479603940542295]\n",
       " [-0.32709653443545117, -7.113852145355891, 4.8939923152659315]\n",
       " [-0.27293609297832055, -7.190138056553726, 4.372545819352857]\n",
       " [-0.20682923752522575, -7.265652083142264, 3.9131533490179864]\n",
       " [-0.12893826659768406, -7.341211775236708, 3.503342535083141]\n",
       " [-0.04112720717254011, -7.415690211080922, 3.1426033261647426]\n",
       " [0.056775865237919526, -7.489737487083397, 2.8217190579067313]\n",
       " [0.16477029004237143, -7.563521594695353, 2.5353469434725557]\n",
       " [0.2173247285937896, -7.597058767462801, 2.4152138871505464]"
      ]
     },
     "metadata": {},
     "output_type": "display_data"
    }
   ],
   "source": [
    "index = 50\n",
    "cb = ContinuousCallback(condition, nothing, affect!)\n",
    "u0 = SA[dots[index, 1], dots[index, 2], dots[index, 3]]\n",
    "prob = ODEProblem(Res, u0, tspan, p)\n",
    "sol = solve(prob, alg = Vern9(), abstol = 1e-14, reltol = 1e-14, callback = cb)"
   ]
  },
  {
   "cell_type": "code",
   "execution_count": 8,
   "id": "1696d0a2",
   "metadata": {},
   "outputs": [
    {
     "data": {
      "text/plain": [
       "\"width, height = 600, 500\\nmarkersize = 5.0\\ncolor = :black\\nxlabel = L\\\"α_2\\\"; ylabel = L\\\"α_3\\\"\\nxlabelsize = 25; ylabelsize = 25\\n\\nf = Figure(resolution = (width, height))\\nax = Axis(f[1, 1], xlabel = xlabel, ylabel = ylabel, xlabelsize = xlabelsize, ylabelsize = ylabelsize)\\n\\n#scatter!(ax, α2s, α3s, markersize = markersize, color = color)\\n\\nscatter!(ax, α2su0, α3su0, markersize = markersize, color = :blue)\\n\\nscatter!(ax, 0.0, 0.0, markersize = markersize, color = :green)\\ndisplay(GLMakie.Screen(), f)\""
      ]
     },
     "metadata": {},
     "output_type": "display_data"
    }
   ],
   "source": [
    "\"\"\"width, height = 600, 500\n",
    "markersize = 5.0\n",
    "color = :black\n",
    "xlabel = L\"α_2\"; ylabel = L\"α_3\"\n",
    "xlabelsize = 25; ylabelsize = 25\n",
    "\n",
    "f = Figure(resolution = (width, height))\n",
    "ax = Axis(f[1, 1], xlabel = xlabel, ylabel = ylabel, xlabelsize = xlabelsize, ylabelsize = ylabelsize)\n",
    "\n",
    "#scatter!(ax, α2s, α3s, markersize = markersize, color = color)\n",
    "\n",
    "scatter!(ax, α2su0, α3su0, markersize = markersize, color = :blue)\n",
    "\n",
    "scatter!(ax, 0.0, 0.0, markersize = markersize, color = :green)\n",
    "display(GLMakie.Screen(), f)\"\"\""
   ]
  },
  {
   "cell_type": "code",
   "execution_count": 9,
   "id": "5f9e20c5",
   "metadata": {},
   "outputs": [
    {
     "data": {
      "text/plain": [
       "GLMakie.Screen(...)"
      ]
     },
     "metadata": {},
     "output_type": "display_data"
    }
   ],
   "source": [
    "width, height = 600, 500\n",
    "markersize = 1.0\n",
    "color = :black\n",
    "\n",
    "tstart, tend = length(sol)-300, length(sol)\n",
    "f = Figure(resolution = (width, height))\n",
    "\n",
    "ax = LScene(f[1, 1], show_axis = true)\n",
    "scale!(ax.scene, 100, 100, 100)\n",
    "\n",
    "lines!(sol[2, tstart:tend], sol[3, tstart:tend], sol[1, tstart:tend], color = :deeppink, linewidth = 1.0)\n",
    "scatter!(ax, dots[:, 2], dots[:, 3], dots[:, 1],  markersize = markersize, color = color)\n",
    "\n",
    "scatter!(ax, fp_[2], fp_[3], fp_[1],  markersize = markersize, color = :blue)\n",
    "display(GLMakie.Screen(), f)"
   ]
  }
 ],
 "metadata": {
  "kernelspec": {
   "display_name": "Julia 1.9.1",
   "language": "julia",
   "name": "julia-1.9"
  },
  "language_info": {
   "file_extension": ".jl",
   "mimetype": "application/julia",
   "name": "julia",
   "version": "1.9.1"
  }
 },
 "nbformat": 4,
 "nbformat_minor": 5
}
