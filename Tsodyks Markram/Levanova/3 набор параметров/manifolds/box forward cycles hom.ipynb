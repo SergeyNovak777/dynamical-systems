{
 "cells": [
  {
   "cell_type": "code",
   "execution_count": 1,
   "metadata": {},
   "outputs": [
    {
     "name": "stderr",
     "output_type": "stream",
     "text": [
      "\u001b[32m\u001b[1m  Activating\u001b[22m\u001b[39m project at `C:\\Users\\Alex\\Desktop\\dynamical-systems\\env\\integrate`"
     ]
    },
    {
     "name": "stderr",
     "output_type": "stream",
     "text": [
      "\n"
     ]
    }
   ],
   "source": [
    "username = \"Alex\"\n",
    "pathtorepo = \"C:\\\\Users\\\\\" *username *  \"\\\\Desktop\\\\\"\n",
    "using Pkg\n",
    "Pkg.activate(pathtorepo * \"dynamical-systems\\\\env\\\\integrate\\\\\")\n",
    "include(pathtorepo * \"dynamical-systems\\\\system.jl\")\n",
    "\n",
    "\n",
    "using StaticArrays, DifferentialEquations, DynamicalSystems, JLD\n",
    "E, x, y  = -40..40, -5..5,  -5..5\n",
    "box = E × x × y\n",
    "using GLMakie\n",
    "using LinearAlgebra, LinearSolve,Statistics\n",
    "\n",
    "cd(\"C:\\\\Users\\\\\" *username *  \"\\\\Desktop\\\\dynamical-systems\\\\Tsodyks Markram\\\\Levanova\\\\3 набор параметров\\\\Сопоставление с матконт\\\\файлы matlab\")\n",
    "I0_hom = load(\"I0_hom_hom.jld\")[\"data\"]\n",
    "u0_hom = load(\"U0_hom_hom.jld\")[\"data\"]\n",
    "I0_hom = I0_hom[:]\n",
    "u0_hom = u0_hom[:];"
   ]
  },
  {
   "cell_type": "code",
   "execution_count": 2,
   "metadata": {},
   "outputs": [],
   "source": [
    "function condition(u, t, integrator)\n",
    "    x = Vector(u)\n",
    "    b = x - fp[1]\n",
    "    b = Vector(b)\n",
    "    linprob = LinearProblem(A, b)\n",
    "    linsolve = solve(linprob)\n",
    "    return norm(linsolve.u, Inf) - ϵ_box\n",
    "end\n",
    "affect!(integrator) = terminate!(integrator)\n",
    "function condition(u)\n",
    "    x = Vector(u)\n",
    "    b = x - fp[1]\n",
    "    b = Vector(b)\n",
    "    linprob = LinearProblem(A, b)\n",
    "    linsolve = solve(linprob)\n",
    "    return norm(linsolve.u, Inf), linsolve\n",
    "end\n",
    "function color_alpha(alpha)\n",
    "    if alpha > 0.0\n",
    "        return \"red\"\n",
    "    else\n",
    "        return \"blue\"\n",
    "    end\n",
    "end;"
   ]
  },
  {
   "cell_type": "code",
   "execution_count": 3,
   "metadata": {},
   "outputs": [],
   "source": [
    "const τ = 0.013;  const τD = 0.07993;  const τy = 3.3;  const J = 3.07;  const β = 0.300\n",
    "const xthr = 0.75; const ythr = 0.4; const α = 1.58; const ΔU0 = 0.305\n",
    "\n",
    "t = 500.0; tspan = [0.0, t];"
   ]
  },
  {
   "cell_type": "code",
   "execution_count": 12,
   "metadata": {},
   "outputs": [],
   "source": [
    "# index point from homoclinic curve\n",
    "index_hom = 1;\n",
    "\n",
    "I0 = I0_hom[index_hom]; U0 = u0_hom[index_hom]\n",
    "\n",
    "p = SA[α, τ, τD, τy, J, xthr, ythr, U0, ΔU0, β, I0]\n",
    "u0 = [11.325905642223786, 0.6594706953104683, 0.4863175026548461]\n",
    "\n",
    "ds = CoupledODEs(TM, u0, p)\n",
    "fp, _, _ = fixedpoints(ds, box, jacob_TM_)\n",
    "\n",
    "ϵ_box = 1e-9\n",
    "Ju0 = jacob_TM_(fp[1], p, 0);\n",
    "fp_ = fp[1]\n",
    "\n",
    "eigen_val_vec = eigen(Ju0)\n",
    "eigen_vectors = eigen_val_vec.vectors\n",
    "\n",
    "v1 = real(eigen_vectors[:, 1])\n",
    "v2 = real(eigen_vectors[:, 2])\n",
    "v3 = imag(eigen_vectors[:, 3])\n",
    "\n",
    "v1 = normalize(v1, 2)\n",
    "v2 = normalize(v2, 2)\n",
    "v3 = normalize(v3, 2)\n",
    "\n",
    "v1t = transpose(v1)\n",
    "v2t = transpose(v2)\n",
    "v3t = transpose(v3)\n",
    "\n",
    "A = transpose([v1t; v2t; v3t])\n",
    "A = Matrix(A)\n",
    "\n",
    "N = 101\n",
    "nrange = range(1, N - 1, step = 1)\n",
    "dots = zeros(length(nrange), 3)\n",
    "Es = Float64[]; xs = Float64[]; ys = Float64[]\n",
    "α1s =  Float64[]; α2s =  Float64[]; α3s =  Float64[]\n",
    "\n",
    "colors = []\n",
    "check_events = []\n",
    "time_events = []\n",
    "\n",
    "for (i, n) in enumerate(nrange)\n",
    "    α1 = 0\n",
    "    α2 = cos(2 * pi * n / N) * (ϵ_box / sqrt(1))\n",
    "    α3 = sin(2 * pi * n / N) * (ϵ_box / sqrt(1))\n",
    "    αs = [α1, α2, α3]\n",
    "    dot = fp_ + A * αs\n",
    "    dots[i, :] = dot\n",
    "end"
   ]
  },
  {
   "cell_type": "code",
   "execution_count": 13,
   "metadata": {},
   "outputs": [],
   "source": [
    "cb = ContinuousCallback(condition, nothing, affect!)\n",
    "\n",
    "for index in range(1, length(nrange), step = 1)\n",
    "    \n",
    "    u0 = SA[dots[index, 1], dots[index, 2], dots[index, 3]]\n",
    "    prob = ODEProblem(TM, u0, tspan, p)\n",
    "    sol = solve(prob, alg = Vern9(), abstol = 1e-14, reltol = 1e-14, callback = cb)\n",
    "    norm, linsolve = condition(sol[end])\n",
    "\n",
    "    if sol.retcode == ReturnCode.Terminated\n",
    "        push!(Es, sol[end][1])\n",
    "        push!(xs, sol[end][2])\n",
    "        push!(ys, sol[end][3])\n",
    "        push!(α1s, linsolve[1])\n",
    "        push!(α2s, linsolve[2])\n",
    "        push!(α3s, linsolve[3])\n",
    "        push!(colors, color_alpha(linsolve[1]))\n",
    "        push!(check_events, true)\n",
    "        push!(time_events, sol.t[end])\n",
    "    else\n",
    "       push!(check_events, false)\n",
    "    end\n",
    "end"
   ]
  },
  {
   "cell_type": "code",
   "execution_count": 14,
   "metadata": {},
   "outputs": [],
   "source": [
    "number_of_event = length(findall(check_events .== true))\n",
    "number_of_no_event = length(check_events) - number_of_event\n",
    "println(\"number of event: $(number_of_event); number of no event: $(number_of_no_event)\")"
   ]
  },
  {
   "cell_type": "code",
   "execution_count": 15,
   "metadata": {},
   "outputs": [
    {
     "name": "stdout",
     "output_type": "stream",
     "text": [
      "number of event: 27; number of no event: 73\n",
      "min: 0.19251330473969436\n",
      "max: 0.6862597267455413\n",
      "mean: 0.26729712323866\n"
     ]
    }
   ],
   "source": [
    "println(\"min: $(minimum(time_events))\")\n",
    "println(\"max: $(maximum(time_events))\")\n",
    "println(\"mean: $(mean(time_events))\") "
   ]
  },
  {
   "cell_type": "code",
   "execution_count": 16,
   "metadata": {},
   "outputs": [
    {
     "data": {
      "text/plain": [
       "(-1.0000021014524592e-9, 1.0000018721103097e-9)"
      ]
     },
     "metadata": {},
     "output_type": "display_data"
    }
   ],
   "source": [
    "minimum(α2s), maximum(α2s)"
   ]
  },
  {
   "cell_type": "code",
   "execution_count": 17,
   "metadata": {},
   "outputs": [
    {
     "data": {
      "text/plain": [
       "(-9.548853330542561e-10, 9.732759725256705e-10)"
      ]
     },
     "metadata": {},
     "output_type": "display_data"
    }
   ],
   "source": [
    "minimum(α3s), maximum(α3s) "
   ]
  },
  {
   "cell_type": "code",
   "execution_count": 1,
   "metadata": {},
   "outputs": [
    {
     "ename": "UndefVarError",
     "evalue": "UndefVarError: `Figure` not defined",
     "output_type": "error",
     "traceback": [
      "UndefVarError: `Figure` not defined\n",
      "\n",
      "Stacktrace:\n",
      " [1] top-level scope\n",
      "   @ c:\\Users\\Alex\\Desktop\\dynamical-systems\\Tsodyks Markram\\Levanova\\3 набор параметров\\manifolds\\box forward cycles hom.ipynb:2"
     ]
    }
   ],
   "source": [
    "# last points in space (α2, α3)\n",
    "f = Figure(resolution = (700, 700))\n",
    "\n",
    "ax = Axis(f[1, 1], xlabel = L\"α_2\", ylabel = L\"α_3\", xlabelsize = 35, ylabelsize = 35)\n",
    "idx, idy = 5, 6\n",
    "\n",
    "scatter!(ax, 0.0, 0.0, color = :green, markersize = 15, marker = :rect)\n",
    "\n",
    "scatter!(ax, α2s, α3s, color = colors[:], markersize = 5)\n",
    "\n",
    "\n",
    "display(GLMakie.Screen(), f);"
   ]
  },
  {
   "cell_type": "code",
   "execution_count": 11,
   "metadata": {},
   "outputs": [
    {
     "ename": "ErrorException",
     "evalue": "znear (0.0) must be different from tfar (0.0)",
     "output_type": "error",
     "traceback": [
      "znear (0.0) must be different from tfar (0.0)\n",
      "\n",
      "Stacktrace:\n",
      "  [1] error(s::String)\n",
      "    @ Base .\\error.jl:35\n",
      "  [2] perspectiveprojection(fovy::Float32, aspect::Float32, znear::Float32, zfar::Float32)\n",
      "    @ Makie C:\\Users\\Alex\\.julia\\packages\\Makie\\iECbF\\src\\camera\\projection_math.jl:98\n",
      "  [3] update_cam!(scene::Scene, cam::Camera3D)\n",
      "    @ Makie C:\\Users\\Alex\\.julia\\packages\\Makie\\iECbF\\src\\camera\\camera3d.jl:589\n",
      "  [4] update_cam!(scene::Scene, camera::Camera3D, area3d::GeometryBasics.HyperRectangle{3, Float32})\n",
      "    @ Makie C:\\Users\\Alex\\.julia\\packages\\Makie\\iECbF\\src\\camera\\camera3d.jl:625\n",
      "  [5] update_cam!(scene::Scene, area::GeometryBasics.HyperRectangle{3, Float32})\n",
      "    @ Makie C:\\Users\\Alex\\.julia\\packages\\Makie\\iECbF\\src\\camera\\camera2d.jl:48\n",
      "  [6] center!(scene::Scene, padding::Float64, exclude::Function)\n",
      "    @ Makie C:\\Users\\Alex\\.julia\\packages\\Makie\\iECbF\\src\\scenes.jl:583\n",
      "  [7] center!\n",
      "    @ C:\\Users\\Alex\\.julia\\packages\\Makie\\iECbF\\src\\scenes.jl:578 [inlined]\n",
      "  [8] plot!(::LScene, ::Type{Scatter}, ::Attributes, ::Float64, ::Vararg{Float64}; kw_attributes::Base.Pairs{Symbol, Union{}, Tuple{}, NamedTuple{(), Tuple{}}})\n",
      "    @ Makie C:\\Users\\Alex\\.julia\\packages\\Makie\\iECbF\\src\\makielayout\\blocks\\scene.jl:8\n",
      "  [9] plot!\n",
      "    @ C:\\Users\\Alex\\.julia\\packages\\Makie\\iECbF\\src\\makielayout\\blocks\\scene.jl:1 [inlined]\n",
      " [10] #plot!#1766\n",
      "    @ C:\\Users\\Alex\\.julia\\packages\\Makie\\iECbF\\src\\makielayout\\blocks\\scene.jl:16 [inlined]\n",
      " [11] scatter!(::LScene, ::Vararg{Any}; attributes::Base.Pairs{Symbol, Any, Tuple{Symbol, Symbol}, NamedTuple{(:color, :markersize), Tuple{Symbol, Float64}}})\n",
      "    @ MakieCore C:\\Users\\Alex\\.julia\\packages\\MakieCore\\6sckc\\src\\recipes.jl:38\n",
      " [12] top-level scope\n",
      "    @ c:\\Users\\Alex\\Desktop\\dynamical-systems\\Tsodyks Markram\\Levanova\\3 набор параметров\\manifolds\\box forward cycles hom.ipynb:12"
     ]
    }
   ],
   "source": [
    "# last points in phase space\n",
    "idx, idy, idz = 2, 3, 1\n",
    "\n",
    "f = Figure(resolution = (700, 700))\n",
    "\n",
    "ax = LScene(f[1, 1], show_axis = true)\n",
    "    \n",
    "scale!(ax.scene, 50, 50, 1)\n",
    "\n",
    "#scatter!(xs, ys, Es, markersize = 4.0, color = :deeppink)\n",
    "\n",
    "scatter!(ax, fp[1][idx], fp[1][idy], fp[1][idz], color = :blue, markersize = 4.0)\n",
    "\n",
    "display(GLMakie.Screen(), f);"
   ]
  }
 ],
 "metadata": {
  "kernelspec": {
   "display_name": "Julia 1.9.1",
   "language": "julia",
   "name": "julia-1.9"
  },
  "language_info": {
   "file_extension": ".jl",
   "mimetype": "application/julia",
   "name": "julia",
   "version": "1.9.1"
  },
  "orig_nbformat": 4
 },
 "nbformat": 4,
 "nbformat_minor": 2
}
