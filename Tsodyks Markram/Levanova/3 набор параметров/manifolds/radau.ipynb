{
 "cells": [
  {
   "cell_type": "code",
   "execution_count": 1,
   "metadata": {},
   "outputs": [
    {
     "name": "stderr",
     "output_type": "stream",
     "text": [
      "\u001b[32m\u001b[1m  Activating\u001b[22m\u001b[39m "
     ]
    },
    {
     "name": "stderr",
     "output_type": "stream",
     "text": [
      "project at `C:\\Users\\Alex\\Desktop\\dynamical-systems\\env\\integrate`\n"
     ]
    }
   ],
   "source": [
    "username = \"Alex\"\n",
    "pathtorepo = \"C:\\\\Users\\\\\" *username *  \"\\\\Desktop\\\\\"\n",
    "using Pkg\n",
    "Pkg.activate(pathtorepo * \"dynamical-systems\\\\env\\\\integrate\\\\\")\n",
    "\n",
    "using StaticArrays, DifferentialEquations, ODEInterfaceDiffEq"
   ]
  },
  {
   "cell_type": "code",
   "execution_count": 2,
   "metadata": {},
   "outputs": [
    {
     "data": {
      "text/plain": [
       "TM (generic function with 1 method)"
      ]
     },
     "metadata": {},
     "output_type": "display_data"
    }
   ],
   "source": [
    "@inbounds function TM(u, p, t)\n",
    "    U(y, p) = p[8] + p[9] / ( 1.0 + exp( -50.0 * (y - p[7]) ) )\n",
    "    σ(x, p) = 1.0 / ( 1.0 + exp( -20.0 * (x-p[6]) ) )\n",
    "    g(E, x, y, p, U_) = log( 1.0 + exp( (p[5] * U_ * x * E + p[11]  ) / (p[1]) ) )\n",
    "    \n",
    "    U_ = U(u[3], p)\n",
    "    du1 = (-u[1] + p[1] * g(u[1], u[2], u[3], p, U_) ) / p[2]\n",
    "    du2 = (1.0 - u[2]) / p[3] - U_*u[2]*u[1]\n",
    "    du3 = (-u[3])/p[4] + p[10] * σ(u[2], p)\n",
    "    \n",
    "    return SVector(du1, du2, du3)\n",
    "end"
   ]
  },
  {
   "cell_type": "code",
   "execution_count": 3,
   "metadata": {},
   "outputs": [
    {
     "data": {
      "text/plain": [
       "0.305"
      ]
     },
     "metadata": {},
     "output_type": "display_data"
    }
   ],
   "source": [
    "const τ = 0.013;  const τD = 0.07993;  const τy = 3.3;  const J = 3.07;  const β = 0.300\n",
    "const xthr = 0.75; const ythr = 0.4; const α = 1.58; const ΔU0 = 0.305"
   ]
  },
  {
   "cell_type": "code",
   "execution_count": 4,
   "metadata": {},
   "outputs": [],
   "source": [
    "I0 = -1.706317723300771; U0 = 0.26500158941163476\n",
    "p = SA[α, τ, τD, τy, J, xthr, ythr, U0, ΔU0, β, I0]\n",
    "u0 = SA[8.345789408165038,0.7384945878731853, 0.43829843650314865];"
   ]
  },
  {
   "cell_type": "code",
   "execution_count": 5,
   "metadata": {},
   "outputs": [
    {
     "data": {
      "text/plain": [
       "2-element Vector{Float64}:\n",
       "    0.0\n",
       " 1000.0"
      ]
     },
     "metadata": {},
     "output_type": "display_data"
    }
   ],
   "source": [
    "t = 1000.0; tspan = [0.0, t]"
   ]
  },
  {
   "cell_type": "code",
   "execution_count": 6,
   "metadata": {},
   "outputs": [
    {
     "data": {
      "text/plain": [
       "\u001b[38;2;86;182;194mODEProblem\u001b[0m with uType \u001b[38;2;86;182;194mSVector{3, Float64}\u001b[0m and tType \u001b[38;2;86;182;194mFloat64\u001b[0m. In-place: \u001b[38;2;86;182;194mfalse\u001b[0m\n",
       "timespan: (0.0, 1000.0)\n",
       "u0: 3-element SVector{3, Float64} with indices SOneTo(3):\n",
       " 8.345789408165038\n",
       " 0.7384945878731853\n",
       " 0.43829843650314865"
      ]
     },
     "metadata": {},
     "output_type": "display_data"
    }
   ],
   "source": [
    "prob = ODEProblem(TM, u0, tspan, p)"
   ]
  },
  {
   "cell_type": "code",
   "execution_count": 7,
   "metadata": {},
   "outputs": [
    {
     "ename": "MethodError",
     "evalue": "MethodError: no method matching radau(::ODEInterfaceDiffEq.var\"#12#18\"{ODEProblem{SVector{3, Float64}, Tuple{Float64, Float64}, false, SVector{11, Float64}, ODEFunction{false, SciMLBase.AutoSpecialize, typeof(TM), LinearAlgebra.UniformScaling{Bool}, Nothing, Nothing, Nothing, Nothing, Nothing, Nothing, Nothing, Nothing, Nothing, Nothing, Nothing, Nothing, Nothing, typeof(SciMLBase.DEFAULT_OBSERVED), Nothing, Nothing}, Base.Pairs{Symbol, Union{}, Tuple{}, NamedTuple{(), Tuple{}}}, SciMLBase.StandardODEProblem}, Tuple{Int64}}, ::Float64, ::Float64, ::SVector{3, Float64}, ::ODEInterface.OptionsODE)\n\nClosest candidates are:\n  radau(::Any, ::Real, ::Real, !Matched::Vector, ::ODEInterface.AbstractOptionsODE)\n   @ ODEInterface C:\\Users\\Alex\\.julia\\packages\\ODEInterface\\RwRLn\\src\\Radau.jl:742\n",
     "output_type": "error",
     "traceback": [
      "MethodError: no method matching radau(::ODEInterfaceDiffEq.var\"#12#18\"{ODEProblem{SVector{3, Float64}, Tuple{Float64, Float64}, false, SVector{11, Float64}, ODEFunction{false, SciMLBase.AutoSpecialize, typeof(TM), LinearAlgebra.UniformScaling{Bool}, Nothing, Nothing, Nothing, Nothing, Nothing, Nothing, Nothing, Nothing, Nothing, Nothing, Nothing, Nothing, Nothing, typeof(SciMLBase.DEFAULT_OBSERVED), Nothing, Nothing}, Base.Pairs{Symbol, Union{}, Tuple{}, NamedTuple{(), Tuple{}}}, SciMLBase.StandardODEProblem}, Tuple{Int64}}, ::Float64, ::Float64, ::SVector{3, Float64}, ::ODEInterface.OptionsODE)\n",
      "\n",
      "Closest candidates are:\n",
      "  radau(::Any, ::Real, ::Real, !Matched::Vector, ::ODEInterface.AbstractOptionsODE)\n",
      "   @ ODEInterface C:\\Users\\Alex\\.julia\\packages\\ODEInterface\\RwRLn\\src\\Radau.jl:742\n",
      "\n",
      "\n",
      "Stacktrace:\n",
      "  [1] __solve(prob::ODEProblem{SVector{3, Float64}, Tuple{Float64, Float64}, false, SVector{11, Float64}, ODEFunction{false, SciMLBase.AutoSpecialize, typeof(TM), LinearAlgebra.UniformScaling{Bool}, Nothing, Nothing, Nothing, Nothing, Nothing, Nothing, Nothing, Nothing, Nothing, Nothing, Nothing, Nothing, Nothing, typeof(SciMLBase.DEFAULT_OBSERVED), Nothing, Nothing}, Base.Pairs{Symbol, Union{}, Tuple{}, NamedTuple{(), Tuple{}}}, SciMLBase.StandardODEProblem}, alg::radau{Nothing}, timeseries::Vector{Any}, ts::Vector{Any}, ks::Vector{Any}; saveat::Vector{Float64}, verbose::Bool, save_everystep::Bool, save_on::Bool, save_start::Bool, timeseries_errors::Bool, dense_errors::Bool, callback::Nothing, alias_u0::Bool, kwargs::Base.Pairs{Symbol, Union{}, Tuple{}, NamedTuple{(), Tuple{}}})\n",
      "    @ ODEInterfaceDiffEq C:\\Users\\Alex\\.julia\\packages\\ODEInterfaceDiffEq\\lGV1B\\src\\solve.jl:144\n",
      "  [2] __solve(prob::ODEProblem{SVector{3, Float64}, Tuple{Float64, Float64}, false, SVector{11, Float64}, ODEFunction{false, SciMLBase.AutoSpecialize, typeof(TM), LinearAlgebra.UniformScaling{Bool}, Nothing, Nothing, Nothing, Nothing, Nothing, Nothing, Nothing, Nothing, Nothing, Nothing, Nothing, Nothing, Nothing, typeof(SciMLBase.DEFAULT_OBSERVED), Nothing, Nothing}, Base.Pairs{Symbol, Union{}, Tuple{}, NamedTuple{(), Tuple{}}}, SciMLBase.StandardODEProblem}, alg::radau{Nothing}, timeseries::Vector{Any}, ts::Vector{Any}, ks::Vector{Any})\n",
      "    @ ODEInterfaceDiffEq C:\\Users\\Alex\\.julia\\packages\\ODEInterfaceDiffEq\\lGV1B\\src\\solve.jl:1\n",
      "  [3] __solve\n",
      "    @ C:\\Users\\Alex\\.julia\\packages\\ODEInterfaceDiffEq\\lGV1B\\src\\solve.jl:1 [inlined]\n",
      "  [4] #solve_call#22\n",
      "    @ C:\\Users\\Alex\\.julia\\packages\\DiffEqBase\\G15op\\src\\solve.jl:511 [inlined]\n",
      "  [5] solve_call\n",
      "    @ C:\\Users\\Alex\\.julia\\packages\\DiffEqBase\\G15op\\src\\solve.jl:481 [inlined]\n",
      "  [6] #solve_up#30\n",
      "    @ C:\\Users\\Alex\\.julia\\packages\\DiffEqBase\\G15op\\src\\solve.jl:972 [inlined]\n",
      "  [7] solve_up\n",
      "    @ C:\\Users\\Alex\\.julia\\packages\\DiffEqBase\\G15op\\src\\solve.jl:945 [inlined]\n",
      "  [8] #solve#28\n",
      "    @ C:\\Users\\Alex\\.julia\\packages\\DiffEqBase\\G15op\\src\\solve.jl:882 [inlined]\n",
      "  [9] solve(prob::ODEProblem{SVector{3, Float64}, Tuple{Float64, Float64}, false, SVector{11, Float64}, ODEFunction{false, SciMLBase.AutoSpecialize, typeof(TM), LinearAlgebra.UniformScaling{Bool}, Nothing, Nothing, Nothing, Nothing, Nothing, Nothing, Nothing, Nothing, Nothing, Nothing, Nothing, Nothing, Nothing, typeof(SciMLBase.DEFAULT_OBSERVED), Nothing, Nothing}, Base.Pairs{Symbol, Union{}, Tuple{}, NamedTuple{(), Tuple{}}}, SciMLBase.StandardODEProblem}, args::radau{Nothing})\n",
      "    @ DiffEqBase C:\\Users\\Alex\\.julia\\packages\\DiffEqBase\\G15op\\src\\solve.jl:872\n",
      " [10] top-level scope\n",
      "    @ c:\\Users\\Alex\\Desktop\\dynamical-systems\\Tsodyks Markram\\Levanova\\3 набор параметров\\manifolds\\radau.ipynb:1"
     ]
    }
   ],
   "source": [
    "sol = solve(prob, ODEInterfaceDiffEq.radau())"
   ]
  }
 ],
 "metadata": {
  "kernelspec": {
   "display_name": "Julia 1.9.1",
   "language": "julia",
   "name": "julia-1.9"
  },
  "language_info": {
   "file_extension": ".jl",
   "mimetype": "application/julia",
   "name": "julia",
   "version": "1.9.1"
  },
  "orig_nbformat": 4
 },
 "nbformat": 4,
 "nbformat_minor": 2
}
