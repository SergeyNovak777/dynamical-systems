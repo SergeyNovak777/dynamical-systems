{
 "cells": [
  {
   "cell_type": "code",
   "execution_count": 1,
   "id": "62885cc8",
   "metadata": {},
   "outputs": [
    {
     "name": "stderr",
     "output_type": "stream",
     "text": [
      "\u001b[32m\u001b[1m  Activating\u001b[22m\u001b[39m project at `~/work/repo/dynamical-systems/env/integrate`\n"
     ]
    }
   ],
   "source": [
    "if Sys.iswindows()\n",
    "    username = \"Alex\"\n",
    "    pathtorepo = \"C:\\\\Users\\\\\" *username *  \"\\\\Desktop\\\\\"\n",
    "    using Pkg\n",
    "    Pkg.activate(pathtorepo * \"dynamical-systems\\\\env\\\\integrate\\\\\")\n",
    "else\n",
    "    username = \"sergey\"\n",
    "    pathtorepo = \"/home/\" *username *\"/work/repo/dynamical-systems\"\n",
    "    using Pkg\n",
    "    Pkg.activate(pathtorepo * \"/env/integrate/\")\n",
    "end"
   ]
  },
  {
   "cell_type": "code",
   "execution_count": 4,
   "id": "1e765d35",
   "metadata": {},
   "outputs": [],
   "source": [
    "using JLD2, CairoMakie, GLMakie, MAT\n",
    "using DifferentialEquations,  DynamicalSystems"
   ]
  },
  {
   "cell_type": "code",
   "execution_count": 3,
   "id": "71b4d94c",
   "metadata": {},
   "outputs": [
    {
     "name": "stderr",
     "output_type": "stream",
     "text": [
      "Error encountered while load FileIO.File{FileIO.DataFormat{:JLD}, String}(\"I0_hom_hom.jld\").\n",
      "\n",
      "Fatal error:\n"
     ]
    },
    {
     "ename": "LoadError",
     "evalue": "ArgumentError: Package JLD [4138dd39-2aa7-5051-a626-17a0bb65d9c8] is required but does not seem to be installed:\n - Run `Pkg.instantiate()` to install all recorded dependencies.\n\nStacktrace:\n  [1] \u001b[0m\u001b[1m_require\u001b[22m\u001b[0m\u001b[1m(\u001b[22m\u001b[90mpkg\u001b[39m::\u001b[0mBase.PkgId, \u001b[90menv\u001b[39m::\u001b[0mNothing\u001b[0m\u001b[1m)\u001b[22m\n\u001b[90m    @\u001b[39m \u001b[90mBase\u001b[39m \u001b[90m./\u001b[39m\u001b[90m\u001b[4mloading.jl:1920\u001b[24m\u001b[39m\n  [2] \u001b[0m\u001b[1m__require_prelocked\u001b[22m\u001b[0m\u001b[1m(\u001b[22m\u001b[90muuidkey\u001b[39m::\u001b[0mBase.PkgId, \u001b[90menv\u001b[39m::\u001b[0mNothing\u001b[0m\u001b[1m)\u001b[22m\n\u001b[90m    @\u001b[39m \u001b[90mBase\u001b[39m \u001b[90m./\u001b[39m\u001b[90m\u001b[4mloading.jl:1806\u001b[24m\u001b[39m\n  [3] \u001b[0m\u001b[1m#invoke_in_world#3\u001b[22m\n\u001b[90m    @\u001b[39m \u001b[90mBase\u001b[39m \u001b[90m./\u001b[39m\u001b[90m\u001b[4messentials.jl:921\u001b[24m\u001b[39m\u001b[90m [inlined]\u001b[39m\n  [4] \u001b[0m\u001b[1minvoke_in_world\u001b[22m\n\u001b[90m    @\u001b[39m \u001b[90mBase\u001b[39m \u001b[90m./\u001b[39m\u001b[90m\u001b[4messentials.jl:918\u001b[24m\u001b[39m\u001b[90m [inlined]\u001b[39m\n  [5] \u001b[0m\u001b[1m_require_prelocked\u001b[22m\n\u001b[90m    @\u001b[39m \u001b[90mBase\u001b[39m \u001b[90m./\u001b[39m\u001b[90m\u001b[4mloading.jl:1797\u001b[24m\u001b[39m\u001b[90m [inlined]\u001b[39m\n  [6] \u001b[0m\u001b[1m_require_prelocked\u001b[22m\n\u001b[90m    @\u001b[39m \u001b[90mBase\u001b[39m \u001b[90m./\u001b[39m\u001b[90m\u001b[4mloading.jl:1796\u001b[24m\u001b[39m\u001b[90m [inlined]\u001b[39m\n  [7] \u001b[0m\u001b[1mmacro expansion\u001b[22m\n\u001b[90m    @\u001b[39m \u001b[90mBase\u001b[39m \u001b[90m./\u001b[39m\u001b[90m\u001b[4mlock.jl:267\u001b[24m\u001b[39m\u001b[90m [inlined]\u001b[39m\n  [8] \u001b[0m\u001b[1mrequire\u001b[22m\u001b[0m\u001b[1m(\u001b[22m\u001b[90muuidkey\u001b[39m::\u001b[0mBase.PkgId\u001b[0m\u001b[1m)\u001b[22m\n\u001b[90m    @\u001b[39m \u001b[90mBase\u001b[39m \u001b[90m./\u001b[39m\u001b[90m\u001b[4mloading.jl:1791\u001b[24m\u001b[39m\n  [9] \u001b[0m\u001b[1m#34\u001b[22m\n\u001b[90m    @\u001b[39m \u001b[35mFileIO\u001b[39m \u001b[90m~/.julia/packages/FileIO/xOKyx/src/\u001b[39m\u001b[90m\u001b[4mloadsave.jl:203\u001b[24m\u001b[39m\u001b[90m [inlined]\u001b[39m\n [10] \u001b[0m\u001b[1mlock\u001b[22m\u001b[0m\u001b[1m(\u001b[22m\u001b[90mf\u001b[39m::\u001b[0mFileIO.var\"#34#35\"\u001b[90m{Base.PkgId}\u001b[39m, \u001b[90ml\u001b[39m::\u001b[0mReentrantLock\u001b[0m\u001b[1m)\u001b[22m\n\u001b[90m    @\u001b[39m \u001b[90mBase\u001b[39m \u001b[90m./\u001b[39m\u001b[90m\u001b[4mlock.jl:229\u001b[24m\u001b[39m\n [11] \u001b[0m\u001b[1maction\u001b[22m\u001b[0m\u001b[1m(\u001b[22m::\u001b[0mSymbol, ::\u001b[0mVector\u001b[90m{Union{Base.PkgId, Module}}\u001b[39m, ::\u001b[0mFileIO.Formatted; \u001b[90moptions\u001b[39m::\u001b[0m@Kwargs\u001b[90m{}\u001b[39m\u001b[0m\u001b[1m)\u001b[22m\n\u001b[90m    @\u001b[39m \u001b[35mFileIO\u001b[39m \u001b[90m~/.julia/packages/FileIO/xOKyx/src/\u001b[39m\u001b[90m\u001b[4mloadsave.jl:203\u001b[24m\u001b[39m\n [12] \u001b[0m\u001b[1maction\u001b[22m\n\u001b[90m    @\u001b[39m \u001b[90m~/.julia/packages/FileIO/xOKyx/src/\u001b[39m\u001b[90m\u001b[4mloadsave.jl:196\u001b[24m\u001b[39m\u001b[90m [inlined]\u001b[39m\n [13] \u001b[0m\u001b[1maction\u001b[22m\n\u001b[90m    @\u001b[39m \u001b[90m~/.julia/packages/FileIO/xOKyx/src/\u001b[39m\u001b[90m\u001b[4mloadsave.jl:185\u001b[24m\u001b[39m\u001b[90m [inlined]\u001b[39m\n [14] \u001b[0m\u001b[1mload\u001b[22m\u001b[0m\u001b[1m(\u001b[22m::\u001b[0mString; \u001b[90moptions\u001b[39m::\u001b[0m@Kwargs\u001b[90m{}\u001b[39m\u001b[0m\u001b[1m)\u001b[22m\n\u001b[90m    @\u001b[39m \u001b[35mFileIO\u001b[39m \u001b[90m~/.julia/packages/FileIO/xOKyx/src/\u001b[39m\u001b[90m\u001b[4mloadsave.jl:113\u001b[24m\u001b[39m\n [15] \u001b[0m\u001b[1mload\u001b[22m\u001b[0m\u001b[1m(\u001b[22m::\u001b[0mString\u001b[0m\u001b[1m)\u001b[22m\n\u001b[90m    @\u001b[39m \u001b[35mFileIO\u001b[39m \u001b[90m~/.julia/packages/FileIO/xOKyx/src/\u001b[39m\u001b[90m\u001b[4mloadsave.jl:109\u001b[24m\u001b[39m\n [16] top-level scope\n\u001b[90m    @\u001b[39m \u001b[90m\u001b[4mIn[3]:3\u001b[24m\u001b[39m",
     "output_type": "error",
     "traceback": [
      "ArgumentError: Package JLD [4138dd39-2aa7-5051-a626-17a0bb65d9c8] is required but does not seem to be installed:\n - Run `Pkg.instantiate()` to install all recorded dependencies.\n\nStacktrace:\n  [1] \u001b[0m\u001b[1m_require\u001b[22m\u001b[0m\u001b[1m(\u001b[22m\u001b[90mpkg\u001b[39m::\u001b[0mBase.PkgId, \u001b[90menv\u001b[39m::\u001b[0mNothing\u001b[0m\u001b[1m)\u001b[22m\n\u001b[90m    @\u001b[39m \u001b[90mBase\u001b[39m \u001b[90m./\u001b[39m\u001b[90m\u001b[4mloading.jl:1920\u001b[24m\u001b[39m\n  [2] \u001b[0m\u001b[1m__require_prelocked\u001b[22m\u001b[0m\u001b[1m(\u001b[22m\u001b[90muuidkey\u001b[39m::\u001b[0mBase.PkgId, \u001b[90menv\u001b[39m::\u001b[0mNothing\u001b[0m\u001b[1m)\u001b[22m\n\u001b[90m    @\u001b[39m \u001b[90mBase\u001b[39m \u001b[90m./\u001b[39m\u001b[90m\u001b[4mloading.jl:1806\u001b[24m\u001b[39m\n  [3] \u001b[0m\u001b[1m#invoke_in_world#3\u001b[22m\n\u001b[90m    @\u001b[39m \u001b[90mBase\u001b[39m \u001b[90m./\u001b[39m\u001b[90m\u001b[4messentials.jl:921\u001b[24m\u001b[39m\u001b[90m [inlined]\u001b[39m\n  [4] \u001b[0m\u001b[1minvoke_in_world\u001b[22m\n\u001b[90m    @\u001b[39m \u001b[90mBase\u001b[39m \u001b[90m./\u001b[39m\u001b[90m\u001b[4messentials.jl:918\u001b[24m\u001b[39m\u001b[90m [inlined]\u001b[39m\n  [5] \u001b[0m\u001b[1m_require_prelocked\u001b[22m\n\u001b[90m    @\u001b[39m \u001b[90mBase\u001b[39m \u001b[90m./\u001b[39m\u001b[90m\u001b[4mloading.jl:1797\u001b[24m\u001b[39m\u001b[90m [inlined]\u001b[39m\n  [6] \u001b[0m\u001b[1m_require_prelocked\u001b[22m\n\u001b[90m    @\u001b[39m \u001b[90mBase\u001b[39m \u001b[90m./\u001b[39m\u001b[90m\u001b[4mloading.jl:1796\u001b[24m\u001b[39m\u001b[90m [inlined]\u001b[39m\n  [7] \u001b[0m\u001b[1mmacro expansion\u001b[22m\n\u001b[90m    @\u001b[39m \u001b[90mBase\u001b[39m \u001b[90m./\u001b[39m\u001b[90m\u001b[4mlock.jl:267\u001b[24m\u001b[39m\u001b[90m [inlined]\u001b[39m\n  [8] \u001b[0m\u001b[1mrequire\u001b[22m\u001b[0m\u001b[1m(\u001b[22m\u001b[90muuidkey\u001b[39m::\u001b[0mBase.PkgId\u001b[0m\u001b[1m)\u001b[22m\n\u001b[90m    @\u001b[39m \u001b[90mBase\u001b[39m \u001b[90m./\u001b[39m\u001b[90m\u001b[4mloading.jl:1791\u001b[24m\u001b[39m\n  [9] \u001b[0m\u001b[1m#34\u001b[22m\n\u001b[90m    @\u001b[39m \u001b[35mFileIO\u001b[39m \u001b[90m~/.julia/packages/FileIO/xOKyx/src/\u001b[39m\u001b[90m\u001b[4mloadsave.jl:203\u001b[24m\u001b[39m\u001b[90m [inlined]\u001b[39m\n [10] \u001b[0m\u001b[1mlock\u001b[22m\u001b[0m\u001b[1m(\u001b[22m\u001b[90mf\u001b[39m::\u001b[0mFileIO.var\"#34#35\"\u001b[90m{Base.PkgId}\u001b[39m, \u001b[90ml\u001b[39m::\u001b[0mReentrantLock\u001b[0m\u001b[1m)\u001b[22m\n\u001b[90m    @\u001b[39m \u001b[90mBase\u001b[39m \u001b[90m./\u001b[39m\u001b[90m\u001b[4mlock.jl:229\u001b[24m\u001b[39m\n [11] \u001b[0m\u001b[1maction\u001b[22m\u001b[0m\u001b[1m(\u001b[22m::\u001b[0mSymbol, ::\u001b[0mVector\u001b[90m{Union{Base.PkgId, Module}}\u001b[39m, ::\u001b[0mFileIO.Formatted; \u001b[90moptions\u001b[39m::\u001b[0m@Kwargs\u001b[90m{}\u001b[39m\u001b[0m\u001b[1m)\u001b[22m\n\u001b[90m    @\u001b[39m \u001b[35mFileIO\u001b[39m \u001b[90m~/.julia/packages/FileIO/xOKyx/src/\u001b[39m\u001b[90m\u001b[4mloadsave.jl:203\u001b[24m\u001b[39m\n [12] \u001b[0m\u001b[1maction\u001b[22m\n\u001b[90m    @\u001b[39m \u001b[90m~/.julia/packages/FileIO/xOKyx/src/\u001b[39m\u001b[90m\u001b[4mloadsave.jl:196\u001b[24m\u001b[39m\u001b[90m [inlined]\u001b[39m\n [13] \u001b[0m\u001b[1maction\u001b[22m\n\u001b[90m    @\u001b[39m \u001b[90m~/.julia/packages/FileIO/xOKyx/src/\u001b[39m\u001b[90m\u001b[4mloadsave.jl:185\u001b[24m\u001b[39m\u001b[90m [inlined]\u001b[39m\n [14] \u001b[0m\u001b[1mload\u001b[22m\u001b[0m\u001b[1m(\u001b[22m::\u001b[0mString; \u001b[90moptions\u001b[39m::\u001b[0m@Kwargs\u001b[90m{}\u001b[39m\u001b[0m\u001b[1m)\u001b[22m\n\u001b[90m    @\u001b[39m \u001b[35mFileIO\u001b[39m \u001b[90m~/.julia/packages/FileIO/xOKyx/src/\u001b[39m\u001b[90m\u001b[4mloadsave.jl:113\u001b[24m\u001b[39m\n [15] \u001b[0m\u001b[1mload\u001b[22m\u001b[0m\u001b[1m(\u001b[22m::\u001b[0mString\u001b[0m\u001b[1m)\u001b[22m\n\u001b[90m    @\u001b[39m \u001b[35mFileIO\u001b[39m \u001b[90m~/.julia/packages/FileIO/xOKyx/src/\u001b[39m\u001b[90m\u001b[4mloadsave.jl:109\u001b[24m\u001b[39m\n [16] top-level scope\n\u001b[90m    @\u001b[39m \u001b[90m\u001b[4mIn[3]:3\u001b[24m\u001b[39m",
      "",
      "Stacktrace:",
      " [1] handle_error(e::ArgumentError, q::Base.PkgId, bt::Vector{Union{Ptr{Nothing}, Base.InterpreterIP}})",
      "   @ FileIO ~/.julia/packages/FileIO/xOKyx/src/error_handling.jl:61",
      " [2] handle_exceptions(exceptions::Vector{Tuple{Any, Union{Base.PkgId, Module}, Vector}}, action::String)",
      "   @ FileIO ~/.julia/packages/FileIO/xOKyx/src/error_handling.jl:56",
      " [3] action(::Symbol, ::Vector{Union{Base.PkgId, Module}}, ::FileIO.Formatted; options::@Kwargs{})",
      "   @ FileIO ~/.julia/packages/FileIO/xOKyx/src/loadsave.jl:228",
      " [4] action",
      "   @ ~/.julia/packages/FileIO/xOKyx/src/loadsave.jl:196 [inlined]",
      " [5] action",
      "   @ ~/.julia/packages/FileIO/xOKyx/src/loadsave.jl:185 [inlined]",
      " [6] load(::String; options::@Kwargs{})",
      "   @ FileIO ~/.julia/packages/FileIO/xOKyx/src/loadsave.jl:113",
      " [7] load(::String)",
      "   @ FileIO ~/.julia/packages/FileIO/xOKyx/src/loadsave.jl:109",
      " [8] top-level scope",
      "   @ In[3]:3"
     ]
    }
   ],
   "source": [
    "cd(\"/home/sergey/work/repo/dynamical-systems/Tsodyks Markram/Levanova/3 набор параметров/Сопоставление с матконт/файлы matlab\")\n",
    "\n",
    "I0_hom = load(\"I0_hom_hom.jld\")[\"data\"]\n",
    "u0_hom = load(\"U0_hom_hom.jld\")[\"data\"]\n",
    "I0_hom = I0_hom[:]\n",
    "u0_hom = u0_hom[:]\n",
    "\n",
    "I0_hom_st = load(\"I0_hom_stump.jld\")[\"data\"]\n",
    "u0_hom_st = load(\"U0_hom_stump.jld\")[\"data\"]\n",
    "I0_hom_st = I0_hom_st[:]\n",
    "u0_hom_st = u0_hom_st[:];"
   ]
  },
  {
   "cell_type": "code",
   "execution_count": null,
   "id": "4dae7494",
   "metadata": {},
   "outputs": [
    {
     "data": {
      "text/plain": [
       "-1.706:-2.506265664160401e-6:-1.707"
      ]
     },
     "execution_count": 4,
     "metadata": {},
     "output_type": "execute_result"
    }
   ],
   "source": [
    "Λs = load(\"/home/sergey/work/repo/dynamical-systems/Tsodyks Markram/Levanova/3 набор параметров/Map LSE/point 2 Kazakov/LSs_400_400_map_Kazakov_zoom.jld\")[\"Λs\"]\n",
    "u0s = load(\"/home/sergey/work/repo/dynamical-systems/Tsodyks Markram/Levanova/3 набор параметров/Map LSE/point 2 Kazakov/u0s_400_400_map_Kazakov_zoom.jld\")[\"u0s\"]\n",
    "\n",
    "U0range = range(0.2652, 0.2648, length = 400)\n",
    "I0range = range( -1.706, -1.707,  length = 400)"
   ]
  },
  {
   "cell_type": "code",
   "execution_count": null,
   "id": "b0b8e138",
   "metadata": {},
   "outputs": [],
   "source": [
    "cd(\"/home/sergey/work/repo/dynamical-systems/Tsodyks Markram/Levanova/3 набор параметров/Сопоставление с матконт/файлы matlab\")\n",
    "\n",
    "I0_hom = load(\"I0_hom_hom.jld\")[\"data\"]\n",
    "u0_hom = load(\"U0_hom_hom.jld\")[\"data\"]\n",
    "I0_hom = I0_hom[:]\n",
    "u0_hom = u0_hom[:]\n",
    "\n",
    "I0_hom_st = load(\"I0_hom_stump.jld\")[\"data\"]\n",
    "u0_hom_st = load(\"U0_hom_stump.jld\")[\"data\"]\n",
    "I0_hom_st = I0_hom_st[:]\n",
    "u0_hom_st = u0_hom_st[:]\n",
    "\n",
    "I0_Fold = load(\"I0_Fold.jld\")[\"data\"]\n",
    "U0_Fold = load(\"U0_Fold.jld\")[\"data\"]\n",
    "I0_Fold = I0_Fold[:]\n",
    "U0_Fold = U0_Fold[:]\n",
    "\n",
    "I0_hom_bt = load(\"I0_hom_bt.jld\")[\"data\"]\n",
    "U0_hom_bt = load(\"U0_hom_bt.jld\")[\"data\"]\n",
    "I0_hom_bt = I0_hom_bt[:]\n",
    "U0_hom_bt = U0_hom_bt[:];\n",
    "\n",
    "index_start_hom_bt = 1; index_end_hom_bt = 8000\n",
    "\n",
    "\n",
    "cd(\"/home/sergey/work/repo/dynamical-systems/Tsodyks Markram/Levanova/3 набор параметров/bifurcationkit\")\n",
    "\n",
    "hp_codim2_1 = load(\"hp_codim2_1.jld2\")\n",
    "hp_codim2_1I0 = hp_codim2_1[\"I0\"]\n",
    "hp_codim2_1U0 = hp_codim2_1[\"U0\"]\n",
    "\n",
    "sn_codim2_1 = load(\"sn_codim2_1.jld2\")\n",
    "sn_codim2_1I0 = sn_codim2_1[\"I0\"]\n",
    "sn_codim2_1U0 = sn_codim2_1[\"U0\"];"
   ]
  },
  {
   "cell_type": "code",
   "execution_count": null,
   "id": "99d3643b",
   "metadata": {},
   "outputs": [
    {
     "data": {
      "text/plain": [
       "1000-element Vector{Float64}:\n",
       " -1.7063669184181416\n",
       " -1.706376857744333\n",
       " -1.706389814442918\n",
       " -1.706406717897378\n",
       " -1.7065618257462696\n",
       " -1.7065915369668005\n",
       " -1.7066304272060466\n",
       " -1.7067299034951127\n",
       " -1.7067974994459625\n",
       " -1.7068865545029444\n",
       " -1.706933624644311\n",
       " -1.7070452808955547\n",
       " -1.7071587672483346\n",
       "  ⋮\n",
       " -1.7903626252059004\n",
       " -1.7905191357407468\n",
       " -1.790675718281466\n",
       " -1.7907094846422273\n",
       " -1.790866076354696\n",
       " -1.7910227404410155\n",
       " -1.7910902674276752\n",
       " -1.7912469838420897\n",
       " -1.7914037734218624\n",
       " -1.7914918725632305\n",
       " -1.7916487420910812\n",
       " -1.7918056856648523"
      ]
     },
     "execution_count": 6,
     "metadata": {},
     "output_type": "execute_result"
    }
   ],
   "source": [
    "LPC = matopen(\"/home/sergey/MEGA/MatCont7p4/Systems/TM_reduce/diagram/HTHom_Hom_e1_2e-5.mat\")\n",
    "x_matrix = read(LPC, \"x\")\n",
    "U0_LPC = x_matrix[847, :]\n",
    "I0_LPC = x_matrix[848, :]"
   ]
  },
  {
   "cell_type": "code",
   "execution_count": null,
   "id": "aaabe37b",
   "metadata": {},
   "outputs": [
    {
     "ename": "",
     "evalue": "",
     "output_type": "error",
     "traceback": [
      "\u001b[1;31mThe Kernel crashed while executing code in the current cell or a previous cell. \n",
      "\u001b[1;31mPlease review the code in the cell(s) to identify a possible cause of the failure. \n",
      "\u001b[1;31mClick <a href='https://aka.ms/vscodeJupyterKernelCrash'>here</a> for more info. \n",
      "\u001b[1;31mView Jupyter <a href='command:jupyter.viewOutput'>log</a> for further details."
     ]
    }
   ],
   "source": [
    "index = 1\n",
    "absmax = maximum(abs.(Λs[:, :, index]))\n",
    "\n",
    "mn, mx =  -absmax, absmax\n",
    "CairoMakie.activate!()\n",
    "f = Figure()\n",
    "ticksize = 35\n",
    "tickpad = 10.0\n",
    "textsize = 25\n",
    "textsizecurve = 30\n",
    "lw = 1.5\n",
    "mksize = 12\n",
    "\n",
    "ax = Axis(f[1, 1], xlabel = L\"I_0\",ylabel = L\"U_0\", xlabelsize = 50, ylabelsize = 50,\n",
    "            xticklabelsize = ticksize, yticklabelsize = ticksize,\n",
    "            xgridvisible  = false, ygridvisible = false,\n",
    "            xticklabelpad = tickpad, yticklabelpad = tickpad)\n",
    "\n",
    "hm = heatmap!(ax, I0range, U0range, Λs[:, :, index], colormap = :seismic,\n",
    "                colorrange = (mn, mx))\n",
    "\n",
    "lines!(ax, I0_hom, u0_hom, linewidth = 1.0, color = :green)\n",
    "lines!(ax, I0_LPC, U0_LPC, linewidth = 1.0, color = :black)\n",
    "xlims!(-1.707, -1.706)\n",
    "ylims!(0.2648, 0.2652)\n",
    "\n",
    "display(f);"
   ]
  }
 ],
 "metadata": {
  "kernelspec": {
   "display_name": "Julia 1.10.0",
   "language": "julia",
   "name": "julia-1.10"
  },
  "language_info": {
   "file_extension": ".jl",
   "mimetype": "application/julia",
   "name": "julia",
   "version": "1.10.0"
  }
 },
 "nbformat": 4,
 "nbformat_minor": 5
}
