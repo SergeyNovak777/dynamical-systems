{
 "cells": [
  {
   "cell_type": "code",
   "execution_count": 1,
   "metadata": {},
   "outputs": [
    {
     "name": "stderr",
     "output_type": "stream",
     "text": [
      "\u001b[32m\u001b[1m  Activating\u001b[22m\u001b[39m project at `C:\\Users\\Alex\\Desktop\\repo\\2612\\0903\\dynamical-systems\\env\\integrate`\n"
     ]
    }
   ],
   "source": [
    "using Pkg\n",
    "Pkg.activate(\"C:\\\\Users\\\\Alex\\\\Desktop\\\\repo\\\\2612\\\\0903\\\\dynamical-systems\\\\env\\\\integrate\\\\\")"
   ]
  },
  {
   "cell_type": "code",
   "execution_count": 2,
   "metadata": {},
   "outputs": [],
   "source": [
    "using JLD, CairoMakie, GLMakie"
   ]
  },
  {
   "cell_type": "code",
   "execution_count": 3,
   "metadata": {},
   "outputs": [],
   "source": [
    "path = \"C:\\\\Users\\\\Alex\\\\Desktop\\\\repo\\\\2612\\\\0903\\\\dynamical-systems\\\\Tsodyks Markram\\\\Levanova\\\\3 набор параметров\\\\2М Карта спектра Ляпуновских показателей\\\\200x200\";\n",
    "filenameLS = \"\\\\LSs_200x200.jld\"\n",
    "filenameu0s = \"\\\\u0s_200x200.jld\"\n",
    "pathLS = path*filenameLS\n",
    "pathu0s = path*filenameu0s;"
   ]
  },
  {
   "cell_type": "code",
   "execution_count": 10,
   "metadata": {},
   "outputs": [],
   "source": [
    "Λs = load(pathLS)[\"data\"];"
   ]
  },
  {
   "cell_type": "code",
   "execution_count": 11,
   "metadata": {},
   "outputs": [
    {
     "data": {
      "text/plain": [
       "0.3:0.00085:0.47"
      ]
     },
     "metadata": {},
     "output_type": "display_data"
    }
   ],
   "source": [
    "I0range = range( -1.40, -1.709, length = 201 )\n",
    "U0range = range( 0.3,  0.47, length = 201)"
   ]
  },
  {
   "cell_type": "code",
   "execution_count": 12,
   "metadata": {},
   "outputs": [],
   "source": [
    "color_matrix = zeros(201, 201);"
   ]
  },
  {
   "cell_type": "code",
   "execution_count": 96,
   "metadata": {},
   "outputs": [
    {
     "data": {
      "text/plain": [
       "([0.003518791300939144, -0.03200926803926721, -5.237804663711276], -1.46798, 0.33315)"
      ]
     },
     "metadata": {},
     "output_type": "display_data"
    }
   ],
   "source": [
    "idxI0, idxU0 = 45, 40\n",
    "Λs[idxI0, idxU0, :], I0range[idxI0], U0range[idxU0]"
   ]
  },
  {
   "cell_type": "code",
   "execution_count": 73,
   "metadata": {},
   "outputs": [
    {
     "data": {
      "text/plain": [
       "checknull (generic function with 1 method)"
      ]
     },
     "metadata": {},
     "output_type": "display_data"
    }
   ],
   "source": [
    "function check_condition(spectrum)\n",
    "    \n",
    "    checknull(spectrum[1]) && checknull(spectrum[2])  && spectrum[3]<0 ? color = 0 :\n",
    "    checknull(spectrum[1]) && spectrum[2]<0  ? color = 1 :\n",
    "    spectrum[1]>0  && checknull(spectrum[2])  && spectrum[3]<0 ? color = 3 :\n",
    "    -1\n",
    "    \n",
    "end\n",
    "\n",
    "function checknull(value)\n",
    "    isapprox(value, 0.0; atol = 1e-1)\n",
    "end"
   ]
  },
  {
   "cell_type": "code",
   "execution_count": 74,
   "metadata": {},
   "outputs": [],
   "source": [
    "for (i, k1) in enumerate(I0range)\n",
    "    \n",
    "    for (j, k2) in enumerate(U0range)\n",
    "        spectrum = Λs[i, j, :]\n",
    "        color_matrix[i, j] = check_condition(spectrum)\n",
    "    end\n",
    "end"
   ]
  },
  {
   "cell_type": "code",
   "execution_count": 95,
   "metadata": {},
   "outputs": [
    {
     "data": {
      "text/plain": [
       "(0.0, -1.46798, 0.33315)"
      ]
     },
     "metadata": {},
     "output_type": "display_data"
    }
   ],
   "source": [
    "idxI0, idxU0 = 45, 40\n",
    "color_matrix[idxI0, idxU0], I0range[idxI0], U0range[idxU0] "
   ]
  },
  {
   "cell_type": "code",
   "execution_count": 104,
   "metadata": {},
   "outputs": [
    {
     "data": {
      "image/png": "[encoded data removed]"
     },
     "metadata": {},
     "output_type": "display_data"
    },
    {
     "data": {
      "text/plain": [
       "CairoMakie.Screen{IMAGE}\n"
      ]
     },
     "metadata": {},
     "output_type": "display_data"
    }
   ],
   "source": [
    "CairoMakie.activate!()\n",
    "\n",
    "f = Figure()\n",
    "ax1 = Axis(f[1, 1], xlabel = L\"I_0\",ylabel = L\"u_0\", xlabelsize = 50, ylabelsize = 50,\n",
    "            xticklabelsize = 30, yticklabelsize = 30,\n",
    "            xgridvisible  = false, ygridvisible = false, xticks = [-1.7, -1.6, -1.5, -1.42])\n",
    "\n",
    "heatmap!(I0range, U0range, color_matrix, colormap = :jet)\n",
    "\n",
    "#Colorbar(fig[1, 2], hm, ticklabelsize = 35)\n",
    "display(f)"
   ]
  },
  {
   "cell_type": "code",
   "execution_count": 106,
   "metadata": {},
   "outputs": [
    {
     "data": {
      "text/plain": [
       "CairoMakie.Screen{EPS}\n"
      ]
     },
     "metadata": {},
     "output_type": "display_data"
    }
   ],
   "source": [
    "save(\"map_LS.eps\", f)"
   ]
  }
 ],
 "metadata": {
  "kernelspec": {
   "display_name": "Julia 1.8.5",
   "language": "julia",
   "name": "julia-1.8"
  },
  "language_info": {
   "file_extension": ".jl",
   "mimetype": "application/julia",
   "name": "julia",
   "version": "1.8.5"
  },
  "orig_nbformat": 4
 },
 "nbformat": 4,
 "nbformat_minor": 2
}
