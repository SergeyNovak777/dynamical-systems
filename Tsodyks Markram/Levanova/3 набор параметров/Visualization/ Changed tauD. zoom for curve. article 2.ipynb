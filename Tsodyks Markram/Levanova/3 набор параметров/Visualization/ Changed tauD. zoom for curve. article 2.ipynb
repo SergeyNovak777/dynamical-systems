{
 "cells": [
  {
   "cell_type": "code",
   "execution_count": 1,
   "id": "95365e8a",
   "metadata": {
    "scrolled": true
   },
   "outputs": [
    {
     "name": "stderr",
     "output_type": "stream",
     "text": [
      "\u001b[32m\u001b[1m  Activating\u001b[22m\u001b[39m project at `C:\\Users\\Alex\\Desktop\\dynamical-systems\\env\\integrate`\n"
     ]
    }
   ],
   "source": [
    "using Pkg\n",
    "Pkg.activate(\"C:\\\\Users\\\\Alex\\\\Desktop\\\\dynamical-systems\\\\env\\\\integrate\\\\\")"
   ]
  },
  {
   "cell_type": "code",
   "execution_count": 2,
   "id": "1e765d35",
   "metadata": {},
   "outputs": [],
   "source": [
    "using JLD, CairoMakie, GLMakie"
   ]
  },
  {
   "cell_type": "code",
   "execution_count": 3,
   "id": "71b4d94c",
   "metadata": {},
   "outputs": [],
   "source": [
    "cd(\"C:\\\\Users\\\\Alex\\\\Desktop\\\\dynamical-systems\\\\Tsodyks Markram\\\\Levanova\\\\3 набор параметров\\\\Сопоставление с матконт\\\\файлы matlab\")\n",
    "I0_hom = load(\"I0_hom_hom.jld\")[\"data\"]\n",
    "u0_hom = load(\"U0_hom_hom.jld\")[\"data\"]\n",
    "I0_hom = I0_hom[:]\n",
    "u0_hom = u0_hom[:]\n",
    "\n",
    "I0_hom_st = load(\"I0_hom_stump.jld\")[\"data\"]\n",
    "u0_hom_st = load(\"U0_hom_stump.jld\")[\"data\"]\n",
    "I0_hom_st = I0_hom_st[:]\n",
    "u0_hom_st = u0_hom_st[:];"
   ]
  },
  {
   "cell_type": "code",
   "execution_count": 4,
   "id": "4dae7494",
   "metadata": {},
   "outputs": [
    {
     "data": {
      "text/plain": [
       "0.268:-7.518796992481203e-6:0.265"
      ]
     },
     "execution_count": 4,
     "metadata": {},
     "output_type": "execute_result"
    }
   ],
   "source": [
    "cd(\"C:\\\\Users\\\\Alex\\\\Desktop\\\\dynamical-systems\\\\Tsodyks Markram\\\\Levanova\\\\3 набор параметров\\\\Сопоставление с матконт\\\\Карты спектров\\\\\")\n",
    "\n",
    "Λs = load(\"LSs_400_400_tauD_article2_zoom_for_curve.jld\")[\"data\"]\n",
    "u0s = load(\"u0s_400_400_tauD_article2_zoom_for_curve.jld\")[\"data\"];\n",
    "\n",
    "I0range = range( -1.7, -1.73,  length = 400 )\n",
    "U0range = range( 0.268,  0.265, length = 400 )"
   ]
  },
  {
   "cell_type": "markdown",
   "id": "75f31a86",
   "metadata": {},
   "source": [
    "I0_hom[15], u0_hom[15]"
   ]
  },
  {
   "cell_type": "code",
   "execution_count": 9,
   "id": "995a1214",
   "metadata": {},
   "outputs": [
    {
     "data": {
      "text/plain": [
       "Scatter{Tuple{Vector{Point{2, Float32}}}}"
      ]
     },
     "execution_count": 9,
     "metadata": {},
     "output_type": "execute_result"
    }
   ],
   "source": [
    "index = 1\n",
    "absmax = maximum(abs.(Λs[:, :, index]))\n",
    "\n",
    "mn, mx =  -absmax, absmax\n",
    "f = Figure()\n",
    "ticksize = 15 # default 35\n",
    "tickpad = 10.0\n",
    "ax1 = Axis(f[1, 1], xlabel = L\"I_0\",ylabel = L\"U_0\", xlabelsize = 50, ylabelsize = 50,\n",
    "            xticklabelsize = ticksize, yticklabelsize = ticksize,\n",
    "            xgridvisible  = false, ygridvisible = false,\n",
    "            xticklabelpad = tickpad, yticklabelpad = tickpad)#,\n",
    "            #yticks = [0.2651, 0.266, 0.267, 0.268], xticks = [-1.729, -1.72, -1.71, -1.7],\n",
    "            #xtickformat = \"{:.2f}\", ytickformat = \"{:.3f}\")\n",
    "\n",
    "hm = heatmap!(ax1, I0range, U0range, Λs[:, :, index], colormap = :seismic,\n",
    "                 colorrange = (mn, mx))\n",
    "\n",
    "lines!(I0_hom[1:150], u0_hom[1:150], linewidth = 2.0, color = :black)\n",
    "\n",
    "color_ = :black\n",
    "\n",
    "scatter!(-1.714, 0.2657, markersize = 10, color = color_)\n",
    "scatter!(I0_hom[15], u0_hom[15], markersize = 10, color = color_)\n",
    "scatter!(-1.7005, 0.26505, markersize = 10, color = color_)\n",
    "scatter!(-1.7158, 0.2661, markersize = 10, color = color_)"
   ]
  },
  {
   "cell_type": "code",
   "execution_count": 14,
   "id": "0f66d2d2",
   "metadata": {},
   "outputs": [
    {
     "data": {
      "text/plain": [
       "GLMakie.Screen(...)"
      ]
     },
     "execution_count": 14,
     "metadata": {},
     "output_type": "execute_result"
    }
   ],
   "source": [
    "GLMakie.activate!()\n",
    "display(f)"
   ]
  },
  {
   "cell_type": "code",
   "execution_count": 120,
   "id": "3a30efaf",
   "metadata": {},
   "outputs": [
    {
     "data": {
      "text/plain": [
       "CairoMakie.Screen{EPS}\n"
      ]
     },
     "execution_count": 120,
     "metadata": {},
     "output_type": "execute_result"
    }
   ],
   "source": [
    "#save(\"C:\\\\Users\\\\Alex\\\\Desktop\\\\map_with_curve.eps\", f)"
   ]
  }
 ],
 "metadata": {
  "kernelspec": {
   "display_name": "Julia 1.8.5",
   "language": "julia",
   "name": "julia-1.8"
  },
  "language_info": {
   "file_extension": ".jl",
   "mimetype": "application/julia",
   "name": "julia",
   "version": "1.8.5"
  }
 },
 "nbformat": 4,
 "nbformat_minor": 5
}
