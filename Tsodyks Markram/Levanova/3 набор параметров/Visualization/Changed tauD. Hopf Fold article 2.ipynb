{
 "cells": [
  {
   "cell_type": "code",
   "execution_count": 1,
   "id": "95365e8a",
   "metadata": {
    "scrolled": true
   },
   "outputs": [
    {
     "name": "stderr",
     "output_type": "stream",
     "text": [
      "\u001b[32m\u001b[1m  Activating\u001b[22m\u001b[39m project at `C:\\Users\\Alex\\Desktop\\dynamical-systems\\env\\integrate`\n"
     ]
    },
    {
     "data": {
      "text/plain": [
       "rate_jac (generic function with 1 method)"
      ]
     },
     "metadata": {},
     "output_type": "display_data"
    }
   ],
   "source": [
    "username = \"Alex\"\n",
    "env = \"integrate\"\n",
    "pathtorepo = \"C:\\\\Users\\\\\" *username *  \"\\\\Desktop\\\\\"\n",
    "using Pkg\n",
    "Pkg.activate(pathtorepo * \"dynamical-systems\\\\env\\\\\" * env * \"\\\\\")\n",
    "include(pathtorepo * \"dynamical-systems\\\\system.jl\")"
   ]
  },
  {
   "cell_type": "code",
   "execution_count": 2,
   "id": "1e765d35",
   "metadata": {},
   "outputs": [],
   "source": [
    "using JLD2, CairoMakie, GLMakie"
   ]
  },
  {
   "cell_type": "code",
   "execution_count": 3,
   "id": "71b4d94c",
   "metadata": {},
   "outputs": [],
   "source": [
    "cd(\"C:\\\\Users\\\\Alex\\\\Desktop\\\\dynamical-systems\\\\Tsodyks Markram\\\\Levanova\\\\3 набор параметров\\\\Сопоставление с матконт\\\\файлы matlab\")\n",
    "I0_hom = load(\"I0_hom_hom.jld\")[\"data\"]\n",
    "u0_hom = load(\"U0_hom_hom.jld\")[\"data\"]\n",
    "I0_hom = I0_hom[:]\n",
    "u0_hom = u0_hom[:]\n",
    "\n",
    "I0_hom_st = load(\"I0_hom_stump.jld\")[\"data\"]\n",
    "u0_hom_st = load(\"U0_hom_stump.jld\")[\"data\"]\n",
    "I0_hom_st = I0_hom_st[:]\n",
    "u0_hom_st = u0_hom_st[:]\n",
    "\n",
    "I0_Fold = load(\"I0_Fold.jld\")[\"data\"]\n",
    "U0_Fold = load(\"U0_Fold.jld\")[\"data\"]\n",
    "I0_Fold = I0_Fold[:]\n",
    "U0_Fold = U0_Fold[:]\n",
    "\n",
    "I0_hom_bt = load(\"I0_hom_bt.jld\")[\"data\"]\n",
    "U0_hom_bt = load(\"U0_hom_bt.jld\")[\"data\"]\n",
    "I0_hom_bt = I0_hom_bt[:]\n",
    "U0_hom_bt = U0_hom_bt[:];"
   ]
  },
  {
   "cell_type": "code",
   "execution_count": 4,
   "id": "33633309",
   "metadata": {},
   "outputs": [],
   "source": [
    "cd(\"C:\\\\Users\\\\Alex\\\\Desktop\\\\dynamical-systems\\\\Tsodyks Markram\\\\Levanova\\\\3 набор параметров\\\\Map LSE\\\\Hopf_Fold\")"
   ]
  },
  {
   "cell_type": "code",
   "execution_count": 5,
   "id": "a22e79f3",
   "metadata": {},
   "outputs": [
    {
     "data": {
      "text/plain": [
       "\"u0s 250x250  tau_D article2 for Hopf Fold Hom.jld2\""
      ]
     },
     "metadata": {},
     "output_type": "display_data"
    }
   ],
   "source": [
    "len = 250\n",
    "map_dim = \" $(len)x$(len) \"\n",
    "name = \" tau_D article2 for Hopf Fold Hom\"\n",
    "format = \".jld2\"\n",
    "namefile_LSE = \"LSE\" * map_dim * name * format\n",
    "namefile_u0s = \"u0s\" * map_dim * name * format"
   ]
  },
  {
   "cell_type": "code",
   "execution_count": 6,
   "id": "fc960341",
   "metadata": {},
   "outputs": [
    {
     "data": {
      "text/plain": [
       "0.4:-0.001606425702811245:0.0"
      ]
     },
     "metadata": {},
     "output_type": "display_data"
    }
   ],
   "source": [
    "Λs = load(namefile_LSE)\n",
    "Λs = Λs[\"Λs\"]\n",
    "u0s = load(namefile_u0s)\n",
    "u0s = u0s[\"u0s\"]\n",
    "\n",
    "I0range = range( -0.7, -4.00,  length = len )\n",
    "U0range = range( 0.4,  0.0, length = len )"
   ]
  },
  {
   "cell_type": "code",
   "execution_count": 7,
   "id": "e99df418",
   "metadata": {},
   "outputs": [],
   "source": [
    "cd(\"C:\\\\Users\\\\Alex\\\\Desktop\\\\dynamical-systems\\\\Tsodyks Markram\\\\Levanova\\\\3 набор параметров\\\\bifurcationkit\\\\\")"
   ]
  },
  {
   "cell_type": "code",
   "execution_count": 8,
   "id": "81760171",
   "metadata": {},
   "outputs": [],
   "source": [
    "hp_codim2_1 = load(\"hp_codim2_1.jld2\")\n",
    "hp_codim2_1I0 = hp_codim2_1[\"I0\"]\n",
    "hp_codim2_1U0 = hp_codim2_1[\"U0\"]\n",
    "\n",
    "sn_codim2_1 = load(\"sn_codim2_1.jld2\")\n",
    "sn_codim2_1I0 = sn_codim2_1[\"I0\"]\n",
    "sn_codim2_1U0 = sn_codim2_1[\"U0\"];"
   ]
  },
  {
   "cell_type": "code",
   "execution_count": 9,
   "id": "3575df67",
   "metadata": {},
   "outputs": [],
   "source": [
    "index = 1\n",
    "absmax = maximum(abs.(Λs[:, :, index]))\n",
    "\n",
    "mn, mx =  -absmax, absmax\n",
    "\n",
    "I0start, I0end = 1, 250 #80, 200\n",
    "\n",
    "U0start, U0end = 1, 250 #110, 120\n",
    "\n",
    "CairoMakie.activate!()\n",
    "f = Figure(resolution = (700, 700))\n",
    "ticksize = 25\n",
    "tickpad = 10.0\n",
    "textsize = 25\n",
    "\n",
    "ax = Axis(f[1, 1], xlabel = L\"U_0\",ylabel = L\"I_0\", xlabelsize = 50, ylabelsize = 50,\n",
    "            xticklabelsize = ticksize, yticklabelsize = ticksize,\n",
    "            xgridvisible  = false, ygridvisible = false,\n",
    "            xticklabelpad = tickpad, yticklabelpad = tickpad,\n",
    "            xticks = [0.0, 0.10, 0.20, 0.25, 0.30, 0.35, 0.40],\n",
    "            yticks = [-1.0, -1.5, -2.0, -2.5, -3.0, -3.5])\n",
    "\n",
    "hm = heatmap!(ax, U0range[U0start:U0end], I0range[I0start:I0end], transpose(Λs[I0start:I0end, U0start:U0end, index]),\n",
    "colormap = :seismic, colorrange = (mn, mx))\n",
    "\n",
    "lines!(ax, hp_codim2_1U0, hp_codim2_1I0, label = \"Hopf\")\n",
    "lines!(ax, sn_codim2_1U0, sn_codim2_1I0, label = \"Fold\")\n",
    "\n",
    "\"\"\"index_fold = 100\n",
    "lines!(ax, U0_Fold[1:index_fold], I0_Fold[1:index_fold], color = :deeppink)\"\"\"\n",
    "\n",
    "scatter!(ax, 0.24, -1.3, markersize = 8, color = :black)\n",
    "text!(ax, 0.24, -1.3, text = L\"A\", fontsize = textsize)\n",
    "#------------------------------------------------------\n",
    "scatter!(ax, 0.245, -1.4, markersize = 8, color = :black)\n",
    "text!(ax, 0.245, -1.4, text = L\"B\", fontsize = textsize)\n",
    "#------------------------------------------------------\n",
    "scatter!(ax, 0.24915304713569425, -1.6454112848630975, markersize = 8, color = :black)\n",
    "text!(ax, 0.24915304713569425, -1.6454112848630975, text = L\"C\", fontsize = textsize)\n",
    "#------------------------------------------------------\n",
    "scatter!(ax, 0.24915304713569425, -1.69, markersize = 8, color = :black)\n",
    "text!(ax, 0.24915304713569425, -1.69, text = L\"D\", fontsize = textsize, align = (:left, :top))\n",
    "#------------------------------------------------------\n",
    "scatter!(ax, 0.24915304713569425, -2.1, markersize = 8, color = :black)\n",
    "text!(ax, 0.24915304713569425, -2.1, text = L\"E\", fontsize = textsize, align = (:left, :top))\n",
    "#------------------------------------------------------\n",
    "scatter!(ax, 0.24915304713569425, -2.4, markersize = 8, color = :black)\n",
    "text!(ax, 0.24915304713569425, -2.4, text = L\"F\", fontsize = textsize, align = (:left, :top))\n",
    "#------------------------------------------------------\n",
    "scatter!(ax, 0.22163354833461535, -1.712846288235767,  markersize = 8, color = :brown, label = \"GH\")\n",
    "text!(ax, 0.22163354833461535, -1.712846288235767, text = L\"G\", fontsize = textsize, align = (:left, :top))\n",
    "#------------------------------------------------------\n",
    "scatter!(ax, 0.16193284544, -1.1200596482,  markersize = 8, color = :brown, label = \"GH\")\n",
    "text!(ax, 0.16193284544, -1.1200596482, text = L\"K\", fontsize = textsize, align = (:left, :top))\n",
    "\n",
    "axislegend(ax, position = :lb, labelsize = 20)\n",
    "display(f);"
   ]
  },
  {
   "cell_type": "code",
   "execution_count": null,
   "id": "c724df34",
   "metadata": {},
   "outputs": [],
   "source": [
    "\"\"\"pathtosave = \"C:\\\\Users\\\\Alex\\\\Desktop\\\\TM images\"\n",
    "filename = \"\\\\map_with_curve.eps\"\n",
    "fullpath = pathtosave * filename \n",
    "save(fullpath, f)\"\"\""
   ]
  },
  {
   "cell_type": "code",
   "execution_count": null,
   "id": "2dc416da",
   "metadata": {},
   "outputs": [],
   "source": [
    "GLMakie.activate!()\n",
    "display(GLMakie.Screen(), f);"
   ]
  }
 ],
 "metadata": {
  "kernelspec": {
   "display_name": "Julia 1.9.2",
   "language": "julia",
   "name": "julia-1.9"
  },
  "language_info": {
   "file_extension": ".jl",
   "mimetype": "application/julia",
   "name": "julia",
   "version": "1.9.2"
  }
 },
 "nbformat": 4,
 "nbformat_minor": 5
}
