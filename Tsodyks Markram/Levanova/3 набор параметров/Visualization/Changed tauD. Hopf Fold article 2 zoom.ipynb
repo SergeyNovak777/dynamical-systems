{
 "cells": [
  {
   "cell_type": "code",
   "execution_count": 2,
   "id": "95365e8a",
   "metadata": {
    "scrolled": true
   },
   "outputs": [
    {
     "name": "stderr",
     "output_type": "stream",
     "text": [
      "\u001b[32m\u001b[1m  Activating\u001b[22m\u001b[39m project at `C:\\Users\\Alex\\Desktop\\dynamical-systems\\env\\integrate`"
     ]
    },
    {
     "name": "stderr",
     "output_type": "stream",
     "text": [
      "\n"
     ]
    },
    {
     "data": {
      "text/plain": [
       "rate_jac (generic function with 1 method)"
      ]
     },
     "metadata": {},
     "output_type": "display_data"
    }
   ],
   "source": [
    "username = \"Alex\"\n",
    "env = \"integrate\"\n",
    "pathtorepo = \"C:\\\\Users\\\\\" *username *  \"\\\\Desktop\\\\\"\n",
    "using Pkg\n",
    "Pkg.activate(pathtorepo * \"dynamical-systems\\\\env\\\\\" * env * \"\\\\\")\n",
    "include(pathtorepo * \"dynamical-systems\\\\system.jl\")"
   ]
  },
  {
   "cell_type": "code",
   "execution_count": 3,
   "id": "1e765d35",
   "metadata": {},
   "outputs": [],
   "source": [
    "using JLD2, CairoMakie, GLMakie"
   ]
  },
  {
   "cell_type": "code",
   "execution_count": 4,
   "id": "71b4d94c",
   "metadata": {},
   "outputs": [],
   "source": [
    "cd(\"C:\\\\Users\\\\Alex\\\\Desktop\\\\dynamical-systems\\\\Tsodyks Markram\\\\Levanova\\\\3 набор параметров\\\\Сопоставление с матконт\\\\файлы matlab\")\n",
    "I0_hom = load(\"I0_hom_hom.jld\")[\"data\"]\n",
    "u0_hom = load(\"U0_hom_hom.jld\")[\"data\"]\n",
    "I0_hom = I0_hom[:]\n",
    "u0_hom = u0_hom[:]\n",
    "\n",
    "I0_hom_st = load(\"I0_hom_stump.jld\")[\"data\"]\n",
    "u0_hom_st = load(\"U0_hom_stump.jld\")[\"data\"]\n",
    "I0_hom_st = I0_hom_st[:]\n",
    "u0_hom_st = u0_hom_st[:]\n",
    "\n",
    "I0_Fold = load(\"I0_Fold.jld\")[\"data\"]\n",
    "U0_Fold = load(\"U0_Fold.jld\")[\"data\"]\n",
    "I0_Fold = I0_Fold[:]\n",
    "U0_Fold = U0_Fold[:]\n",
    "\n",
    "I0_hom_bt = load(\"I0_hom_bt.jld\")[\"data\"]\n",
    "U0_hom_bt = load(\"U0_hom_bt.jld\")[\"data\"]\n",
    "I0_hom_bt = I0_hom_bt[:]\n",
    "U0_hom_bt = U0_hom_bt[:];"
   ]
  },
  {
   "cell_type": "code",
   "execution_count": 85,
   "id": "a22e79f3",
   "metadata": {},
   "outputs": [],
   "source": [
    "cd(\"C:\\\\Users\\\\Alex\\\\Desktop\\\\dynamical-systems\\\\\")\n",
    "len = 400\n",
    "map_dim = \" $(len)x$(len) \"\n",
    "name = \" tau_D article2 HopfFold zoom\"\n",
    "format = \".jld2\"\n",
    "namefile_LSE = \"LSE\" * map_dim * name * format\n",
    "namefile_u0s = \"u0s\" * map_dim * name * format\n",
    "\n",
    "Λs = load(namefile_LSE)\n",
    "Λs = Λs[\"Λs\"]\n",
    "u0s = load(namefile_u0s)\n",
    "u0s = u0s[\"u0s\"]\n",
    "\n",
    "I0range = range( -1.0, -2.0, length = len );\n",
    "U0range = range(0.3, 0.16, length = len);"
   ]
  },
  {
   "cell_type": "code",
   "execution_count": 86,
   "id": "3575df67",
   "metadata": {},
   "outputs": [
    {
     "data": {
      "image/png": "[encoded data removed]"
     },
     "metadata": {},
     "output_type": "display_data"
    }
   ],
   "source": [
    "index = 1\n",
    "absmax = maximum(abs.(Λs[:, :, index]))\n",
    "\n",
    "mn, mx =  -absmax, absmax\n",
    "\n",
    "I0start, I0end = 1, len\n",
    "\n",
    "U0start, U0end = 1, len\n",
    "\n",
    "CairoMakie.activate!()\n",
    "f = Figure(resolution = (700, 700))\n",
    "ticksize = 25\n",
    "tickpad = 10.0\n",
    "textsize = 25\n",
    "\n",
    "ax = Axis(f[1, 1], xlabel = L\"U_0\",ylabel = L\"I_0\", xlabelsize = 50, ylabelsize = 50,\n",
    "            xticklabelsize = ticksize, yticklabelsize = ticksize,\n",
    "            xgridvisible  = false, ygridvisible = false,\n",
    "            xticklabelpad = tickpad, yticklabelpad = tickpad)\n",
    "\n",
    "hm = heatmap!(ax, U0range[U0start:U0end], I0range[I0start:I0end], transpose(Λs[I0start:I0end, U0start:U0end, index]),\n",
    "colormap = :seismic, colorrange = (mn, mx))\n",
    "\n",
    "display(f);"
   ]
  },
  {
   "cell_type": "code",
   "execution_count": 57,
   "id": "b753e494",
   "metadata": {},
   "outputs": [],
   "source": [
    "GLMakie.activate!()\n",
    "display(GLMakie.Screen(), f);"
   ]
  },
  {
   "cell_type": "code",
   "execution_count": null,
   "id": "c724df34",
   "metadata": {},
   "outputs": [],
   "source": [
    "\"\"\"pathtosave = \"C:\\\\Users\\\\Alex\\\\Desktop\\\\TM images\"\n",
    "filename = \"\\\\map_with_curve.eps\"\n",
    "fullpath = pathtosave * filename \n",
    "save(fullpath, f)\"\"\""
   ]
  }
 ],
 "metadata": {
  "kernelspec": {
   "display_name": "Julia 1.9.2",
   "language": "julia",
   "name": "julia-1.9"
  },
  "language_info": {
   "file_extension": ".jl",
   "mimetype": "application/julia",
   "name": "julia",
   "version": "1.9.2"
  }
 },
 "nbformat": 4,
 "nbformat_minor": 5
}
