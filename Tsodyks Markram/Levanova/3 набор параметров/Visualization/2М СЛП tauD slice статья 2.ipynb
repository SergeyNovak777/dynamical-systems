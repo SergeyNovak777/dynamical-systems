{
 "cells": [
  {
   "cell_type": "code",
   "execution_count": 1,
   "id": "95365e8a",
   "metadata": {
    "scrolled": true
   },
   "outputs": [
    {
     "name": "stderr",
     "output_type": "stream",
     "text": [
      "\u001b[32m\u001b[1m  Activating\u001b[22m\u001b[39m project at `C:\\Users\\Alex\\Desktop\\dynamical-systems\\env\\integrate`\n"
     ]
    }
   ],
   "source": [
    "using Pkg\n",
    "Pkg.activate(\"C:\\\\Users\\\\Alex\\\\Desktop\\\\dynamical-systems\\\\env\\\\integrate\\\\\")"
   ]
  },
  {
   "cell_type": "code",
   "execution_count": 2,
   "id": "1e765d35",
   "metadata": {},
   "outputs": [],
   "source": [
    "using JLD, CairoMakie"
   ]
  },
  {
   "cell_type": "code",
   "execution_count": 3,
   "id": "b650f344",
   "metadata": {},
   "outputs": [],
   "source": [
    "cd(\"C:\\\\Users\\\\Alex\\\\Desktop\\\\dynamical-systems\\\\Tsodyks Markram\\\\Levanova\\\\3 набор параметров\\\\Сопоставление с матконт\\\\Карты спектров\\\\\")"
   ]
  },
  {
   "cell_type": "code",
   "execution_count": 4,
   "id": "4dae7494",
   "metadata": {},
   "outputs": [
    {
     "data": {
      "text/plain": [
       "0.25:0.0008595988538681948:0.55"
      ]
     },
     "execution_count": 4,
     "metadata": {},
     "output_type": "execute_result"
    }
   ],
   "source": [
    "Λs = load(\"LSs_350_350_tauD_article2_slice.jld\")[\"data\"]\n",
    "u0s = load(\"u0s_350_350_tauD_article2_slice.jld\")[\"data\"];\n",
    "\n",
    "I0range = range( -1.5, -2.0,  length = 350 )\n",
    "U0range = range( 0.25,  0.55, length = 350 )"
   ]
  },
  {
   "cell_type": "code",
   "execution_count": 5,
   "id": "71b4d94c",
   "metadata": {},
   "outputs": [],
   "source": [
    "cd(\"C:\\\\Users\\\\Alex\\\\Desktop\\\\dynamical-systems\\\\Tsodyks Markram\\\\Levanova\\\\3 набор параметров\\\\Сопоставление с матконт\\\\файлы matlab\")\n",
    "I0_hom = load(\"I0_hom_hom.jld\")[\"data\"]\n",
    "u0_hom = load(\"U0_hom_hom.jld\")[\"data\"]\n",
    "I0_hom = I0_hom[:]\n",
    "u0_hom = u0_hom[:]\n",
    "\n",
    "I0_hom_st = load(\"I0_hom_stump.jld\")[\"data\"]\n",
    "u0_hom_st = load(\"U0_hom_stump.jld\")[\"data\"]\n",
    "I0_hom_st = I0_hom_st[:]\n",
    "u0_hom_st = u0_hom_st[:];"
   ]
  },
  {
   "cell_type": "code",
   "execution_count": 6,
   "id": "995a1214",
   "metadata": {},
   "outputs": [
    {
     "data": {
      "text/plain": [
       "Heatmap{Tuple{Vector{Float32}, Vector{Float32}, Matrix{Float32}}}"
      ]
     },
     "execution_count": 6,
     "metadata": {},
     "output_type": "execute_result"
    }
   ],
   "source": [
    "index = 1\n",
    "I0st, I0ed = 1, 350\n",
    "U0st, U0ed = 1, 350\n",
    "absmax = maximum(abs.(Λs[I0st:I0ed, U0st:U0ed, index]))\n",
    "\n",
    "mn, mx =  -absmax, absmax\n",
    "f = Figure()\n",
    "\n",
    "ax1 = Axis(f[1, 1], xlabel = L\"I_0\",ylabel = L\"u_0\", xlabelsize = 50, ylabelsize = 50,\n",
    "            xticklabelsize = 35, yticklabelsize = 35,\n",
    "            xgridvisible  = false, ygridvisible = false)\n",
    "\n",
    "hm = heatmap!(ax1, I0range[I0st:I0ed], U0range[U0st:U0ed], Λs[I0st:I0ed, U0st:U0ed, index], colormap = :seismic,\n",
    "                 colorrange = (mn, mx))\n",
    "\n",
    "#lines!(I0_hom[1:150], u0_hom[1:150], linewidth = 1.0, color = :black)\n",
    "#lines!(I0_hom[150:end], u0_hom[150:end], linewidth = 1.0, color = :green)\n",
    "#lines!(I0_hom_st[1:end], u0_hom_st[1:end], linewidth = 1.0, color = :black)\n",
    "\n",
    "#ylims!(0.264, 0.268)\n",
    "#xlims!(-1.73, -1.65)"
   ]
  },
  {
   "cell_type": "code",
   "execution_count": 7,
   "id": "5777bfb2",
   "metadata": {},
   "outputs": [],
   "source": [
    "using GLMakie"
   ]
  },
  {
   "cell_type": "code",
   "execution_count": 8,
   "id": "54d869e0",
   "metadata": {},
   "outputs": [
    {
     "data": {
      "text/plain": [
       "GLMakie.Screen(...)"
      ]
     },
     "execution_count": 8,
     "metadata": {},
     "output_type": "execute_result"
    }
   ],
   "source": [
    "GLMakie.activate!()\n",
    "display(f)"
   ]
  },
  {
   "cell_type": "code",
   "execution_count": 46,
   "id": "c202baa3",
   "metadata": {},
   "outputs": [],
   "source": [
    "using GLMakie"
   ]
  }
 ],
 "metadata": {
  "kernelspec": {
   "display_name": "Julia 1.8.5",
   "language": "julia",
   "name": "julia-1.8"
  },
  "language_info": {
   "file_extension": ".jl",
   "mimetype": "application/julia",
   "name": "julia",
   "version": "1.8.5"
  }
 },
 "nbformat": 4,
 "nbformat_minor": 5
}
