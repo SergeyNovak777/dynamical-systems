{
 "cells": [
  {
   "cell_type": "code",
   "execution_count": 1,
   "id": "3227fec6",
   "metadata": {},
   "outputs": [
    {
     "name": "stderr",
     "output_type": "stream",
     "text": [
      "\u001b[32m\u001b[1m  Activating\u001b[22m\u001b[39m project at `C:\\Users\\Alex\\Desktop\\dynamical-systems\\env\\integrate`\n"
     ]
    }
   ],
   "source": [
    "using Pkg\n",
    "Pkg.activate(\"C:\\\\Users\\\\Alex\\\\Desktop\\\\dynamical-systems\\\\env\\\\integrate\\\\\")\n",
    "using JLD, CairoMakie, GLMakie"
   ]
  },
  {
   "cell_type": "code",
   "execution_count": 2,
   "id": "99b23539",
   "metadata": {},
   "outputs": [
    {
     "data": {
      "text/plain": [
       "\"C:\\\\Users\\\\Alex\\\\YandexDisk\\\\Science\\\\TM\\\\Levanova\\\\3 набор параметров\\\\Diagram LSE\\\\\""
      ]
     },
     "execution_count": 2,
     "metadata": {},
     "output_type": "execute_result"
    }
   ],
   "source": [
    "pathBF = \"C:\\\\Users\\\\Alex\\\\YandexDisk\\\\Science\\\\TM\\\\Levanova\\\\3 набор параметров\\\\Diagram Poincare\\\\\"\n",
    "pathLSE = \"C:\\\\Users\\\\Alex\\\\YandexDisk\\\\Science\\\\TM\\\\Levanova\\\\3 набор параметров\\\\Diagram LSE\\\\\""
   ]
  },
  {
   "cell_type": "code",
   "execution_count": 3,
   "id": "7b0fee8b",
   "metadata": {},
   "outputs": [],
   "source": [
    "LSE = load(pathLSE*\"LSE U0=0.3 tauD.jld\")[\"data\"];\n",
    "bf = load(pathBF*\"bf U0=0.3 tauD.jld\")[\"data\"];"
   ]
  },
  {
   "cell_type": "code",
   "execution_count": 4,
   "id": "b15fdd00",
   "metadata": {},
   "outputs": [
    {
     "data": {
      "text/plain": [
       "-1.4:-0.00010303434478159386:-1.709"
      ]
     },
     "execution_count": 4,
     "metadata": {},
     "output_type": "execute_result"
    }
   ],
   "source": [
    "I0range = range( -1.4, -1.709, length = 3000 )"
   ]
  },
  {
   "cell_type": "code",
   "execution_count": 6,
   "id": "64b05b33",
   "metadata": {},
   "outputs": [
    {
     "data": {
      "text/plain": [
       "GLMakie.Screen(...)"
      ]
     },
     "execution_count": 6,
     "metadata": {},
     "output_type": "execute_result"
    }
   ],
   "source": [
    "size_marker = 3.0\n",
    "\n",
    "f = Figure(resolution = (1300, 600))\n",
    "\n",
    "ax_bf = Axis(f[1,1]; ylabel = L\"$E$ $(Hz)$\", xlabelsize = 35, ylabelsize = 35,\n",
    "            xticklabelsize = 30, yticklabelsize = 30, xgridvisible = false, ygridvisible = false)\n",
    "ax_lse = Axis(f[2, 1]; xlabel = L\"$I_0$ $(Hz)$\", ylabel = L\"\\Lambda_{1,2,3}\", xlabelsize = 35, ylabelsize = 35,\n",
    "            xticklabelsize = 30, yticklabelsize = 30, xgridvisible = false, ygridvisible = false)\n",
    "\n",
    "for (j, p) in enumerate(I0range)\n",
    "    scatter!(ax_bf, fill(p, length(bf[:][j])), bf[:][j]; color = (\"black\", 0.5), markersize = size_marker)\n",
    "end\n",
    "\n",
    "lines!(ax_lse, I0range, LSE[:, 1], linewidth = size_marker, color = :red)\n",
    "lines!(ax_lse, I0range, LSE[:, 2], linewidth = size_marker, color = :green)\n",
    "lines!(ax_lse, I0range, LSE[:, 3], linewidth = size_marker, color = :blue)\n",
    "\n",
    "display(f)"
   ]
  },
  {
   "cell_type": "code",
   "execution_count": 6,
   "id": "e4720d3d",
   "metadata": {},
   "outputs": [
    {
     "data": {
      "text/plain": [
       "CairoMakie.Screen{EPS}\n"
      ]
     },
     "execution_count": 6,
     "metadata": {},
     "output_type": "execute_result"
    }
   ],
   "source": [
    "#save(\"bf_LS U0=0.3 tauD.eps\", f)"
   ]
  }
 ],
 "metadata": {
  "kernelspec": {
   "display_name": "Julia 1.8.5",
   "language": "julia",
   "name": "julia-1.8"
  },
  "language_info": {
   "file_extension": ".jl",
   "mimetype": "application/julia",
   "name": "julia",
   "version": "1.8.5"
  }
 },
 "nbformat": 4,
 "nbformat_minor": 5
}
