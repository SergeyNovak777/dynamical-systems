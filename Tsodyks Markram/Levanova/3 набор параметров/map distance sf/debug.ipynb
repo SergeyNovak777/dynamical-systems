{
 "cells": [
  {
   "cell_type": "code",
   "execution_count": 1,
   "id": "1e765d35",
   "metadata": {},
   "outputs": [
    {
     "name": "stderr",
     "output_type": "stream",
     "text": [
      "\u001b[32m\u001b[1m  Activating\u001b[22m\u001b[39m project at `~/work/repo/dynamical-systems/env/integrate`\n"
     ]
    }
   ],
   "source": [
    "if Sys.iswindows()\n",
    "    username = \"Alex\"\n",
    "    pathtorepo = \"C:\\\\Users\\\\\" *username *  \"\\\\Desktop\\\\\"\n",
    "    using Pkg\n",
    "    Pkg.activate(pathtorepo * \"dynamical-systems\\\\env\\\\integrate\\\\\")\n",
    "else\n",
    "    username = \"sergey\"\n",
    "    pathtorepo = \"/home/\" *username *\"/work/repo/dynamical-systems\"\n",
    "    using Pkg\n",
    "    Pkg.activate(pathtorepo * \"/env/integrate/\")\n",
    "end"
   ]
  },
  {
   "cell_type": "code",
   "execution_count": 2,
   "id": "1bdee5a7",
   "metadata": {},
   "outputs": [],
   "source": [
    "include(pathtorepo*\"/system.jl\")\n",
    "using StaticArrays, DifferentialEquations, DynamicalSystems, JLD2\n",
    "E, x, y = 0..30, 0..1, 0..1\n",
    "box = E × x × y\n",
    "using CairoMakie"
   ]
  },
  {
   "cell_type": "code",
   "execution_count": 3,
   "id": "b4d5882d",
   "metadata": {},
   "outputs": [
    {
     "data": {
      "text/plain": [
       "calculate_distance (generic function with 1 method)"
      ]
     },
     "metadata": {},
     "output_type": "display_data"
    }
   ],
   "source": [
    "function distance_two_points_3d(p1, p2)\n",
    "    x1, y1, z1 = p1\n",
    "    x2, y2, z2 = p2\n",
    "    dist = sqrt( (x1-x2)^2 + (y1-y2)^2 + (z1-z2)^2 )\n",
    "    return dist\n",
    "end\n",
    "\n",
    "function calculate_distance(ds, t_integrate, jac)\n",
    "    \n",
    "    traj, _ = trajectory(ds, t_integrate)\n",
    "    fp, ei, _ = fixedpoints(ds, box, jac);\n",
    "\n",
    "    len_traj = length(traj)\n",
    "    distance = zeros(len_traj)\n",
    "    if length(fp) == 1\n",
    "        for i in range(1, len_traj, step = 1)\n",
    "            distance[i] = distance_two_points_3d(traj[i], fp[1])\n",
    "        end\n",
    "        dis = minimum(distance)\n",
    "    else\n",
    "        dis = -1;\n",
    "    end\n",
    "    return dis\n",
    "end"
   ]
  },
  {
   "cell_type": "code",
   "execution_count": 4,
   "id": "2cc715eb",
   "metadata": {},
   "outputs": [],
   "source": [
    "const τ = 0.013;  const τD = 0.07993;  const τy = 3.3;  const J = 3.07;  const β = 0.300\n",
    "const xthr = 0.75; const ythr = 0.4\n",
    "const α = 1.58; const ΔU0 = 0.305; "
   ]
  },
  {
   "cell_type": "code",
   "execution_count": 3,
   "id": "2e2e1eea",
   "metadata": {},
   "outputs": [],
   "source": [
    "path_to_file = \"/home/sergey/work/repo/dynamical-systems/Tsodyks Markram/Levanova/3 набор параметров/Сопоставление с матконт/Карты спектров/\"\n",
    "u0s = load(path_to_file*\"u0s_400_400_tauD_article2_zoom_for_curve.jld\")[\"data\"];"
   ]
  },
  {
   "cell_type": "code",
   "execution_count": 6,
   "id": "64aff6d3",
   "metadata": {},
   "outputs": [
    {
     "data": {
      "text/plain": [
       "0.268:-7.518796992481203e-6:0.265"
      ]
     },
     "metadata": {},
     "output_type": "display_data"
    }
   ],
   "source": [
    "len = 400;\n",
    "I0range = range( -1.7, -1.73,  length = 400 )\n",
    "U0range = range( 0.268,  0.265, length = 400 )"
   ]
  },
  {
   "cell_type": "code",
   "execution_count": 30,
   "id": "3cd833c4",
   "metadata": {},
   "outputs": [
    {
     "name": "stdout",
     "output_type": "stream",
     "text": [
      "I_0: -1.7\n",
      "U_0: 0.267\n",
      "u0: [8.291739261360748, 0.7294326998352871, 0.4389602385021638]\n"
     ]
    }
   ],
   "source": [
    "index_I0 = 1; index_U0 = 134\n",
    "println(\"I_0: $(I0range[index_I0])\")\n",
    "println(\"U_0: $(U0range[index_U0])\")\n",
    "println(\"u0: $(u0s[index_I0, index_U0, :])\")"
   ]
  },
  {
   "cell_type": "code",
   "execution_count": null,
   "id": "381bf5b5",
   "metadata": {},
   "outputs": [],
   "source": [
    "#=\n",
    "for point 2\n",
    "u0 = [8.291739261360748, 0.7294326998352871, 0.4389602385021638]\n",
    "U0range = range(0.267, 0.260, length = 400)\n",
    "I0range = range( -1.7, -1.73,  length = 400 )=#"
   ]
  },
  {
   "cell_type": "code",
   "execution_count": 5,
   "id": "37add348",
   "metadata": {},
   "outputs": [
    {
     "data": {
      "text/plain": [
       "(alg = Vern9(; stage_limiter! = trivial_limiter!, step_limiter! = trivial_limiter!, thread = static(false), lazy = true,), adaptive = false, dt = 0.001)"
      ]
     },
     "metadata": {},
     "output_type": "display_data"
    }
   ],
   "source": [
    "time = 500; tt = 1000; tstep = 0.001\n",
    "integ_set = (alg = Vern9(), adaptive = false, dt = tstep)"
   ]
  },
  {
   "cell_type": "code",
   "execution_count": 6,
   "id": "441e01c8",
   "metadata": {},
   "outputs": [
    {
     "name": "stdout",
     "output_type": "stream",
     "text": [
      "last point trajectory:[8.254587677389917, 0.7099299111721875, 0.549798431121074]\n"
     ]
    }
   ],
   "source": [
    "I0 = -1.7064; U0 = 0.265;\n",
    "p = [α, τ, τD, τy, J, xthr, ythr, U0, ΔU0, β, I0]\n",
    "u0 = [8.254587677389917, 0.7099299111721875, 0.549798431121074]\n",
    "println(\"last point trajectory:$u0\")"
   ]
  },
  {
   "cell_type": "code",
   "execution_count": 7,
   "id": "3d1acfa9",
   "metadata": {},
   "outputs": [
    {
     "data": {
      "text/plain": [
       "3-dimensional CoupledODEs\n",
       " deterministic: true\n",
       " discrete time: false\n",
       " in-place:      false\n",
       " dynamic rule:  TM\n",
       " ODE solver:    Vern9\n",
       " ODE kwargs:    (adaptive = false, dt = 0.001)\n",
       " parameters:    [1.58, 0.013, 0.07993, 3.3, 3.07, 0.75, 0.4, 0.265, 0.305, 0.3, -1.7064]\n",
       " time:          0.0\n",
       " state:         [8.254587677389917, 0.7099299111721875, 0.549798431121074]\n"
      ]
     },
     "metadata": {},
     "output_type": "display_data"
    }
   ],
   "source": [
    "ds = CoupledODEs(TM, u0, p, diffeq = integ_set)"
   ]
  },
  {
   "cell_type": "code",
   "execution_count": 9,
   "id": "929de843",
   "metadata": {},
   "outputs": [
    {
     "data": {
      "text/plain": [
       "5.726954444999478e-5"
      ]
     },
     "metadata": {},
     "output_type": "display_data"
    }
   ],
   "source": [
    "calculate_distance(ds, 10000, jacob_TM_)"
   ]
  }
 ],
 "metadata": {
  "kernelspec": {
   "display_name": "Julia 1.10.0",
   "language": "julia",
   "name": "julia-1.10"
  },
  "language_info": {
   "file_extension": ".jl",
   "mimetype": "application/julia",
   "name": "julia",
   "version": "1.10.0"
  }
 },
 "nbformat": 4,
 "nbformat_minor": 5
}
