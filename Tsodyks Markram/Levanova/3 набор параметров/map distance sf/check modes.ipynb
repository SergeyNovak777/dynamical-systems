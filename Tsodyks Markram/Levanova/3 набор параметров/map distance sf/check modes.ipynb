{
 "cells": [
  {
   "cell_type": "code",
   "execution_count": 14,
   "id": "1e765d35",
   "metadata": {},
   "outputs": [
    {
     "name": "stderr",
     "output_type": "stream",
     "text": [
      "\u001b[32m\u001b[1m  Activating\u001b[22m\u001b[39m project at `~/work/repo/dynamical-systems/env/integrate`\n"
     ]
    },
    {
     "data": {
      "text/plain": [
       "FHN2_try3_params (generic function with 1 method)"
      ]
     },
     "metadata": {},
     "output_type": "display_data"
    }
   ],
   "source": [
    "if Sys.iswindows()\n",
    "    username = \"Alex\"\n",
    "    pathtorepo = \"C:\\\\Users\\\\\" *username *  \"\\\\Desktop\\\\\"\n",
    "    using Pkg\n",
    "    Pkg.activate(pathtorepo * \"dynamical-systems\\\\env\\\\integrate\\\\\")\n",
    "else\n",
    "    username = \"sergey\"\n",
    "    pathtorepo = \"/home/\" *username *\"/work/repo/dynamical-systems\"\n",
    "    using Pkg\n",
    "    Pkg.activate(pathtorepo * \"/env/integrate/\")\n",
    "end\n",
    "include(\"/home/sergey/work/repo/dynamical-systems/system.jl\")"
   ]
  },
  {
   "cell_type": "code",
   "execution_count": 15,
   "id": "1bdee5a7",
   "metadata": {},
   "outputs": [],
   "source": [
    "using StaticArrays, DifferentialEquations, DynamicalSystems, LinearAlgebra, JLD\n",
    "E, x, y = 0..30, 0..1, 0..1\n",
    "box = E × x × y\n",
    "using CairoMakie, GLMakie"
   ]
  },
  {
   "cell_type": "code",
   "execution_count": 16,
   "id": "2cc715eb",
   "metadata": {},
   "outputs": [],
   "source": [
    "const τ = 0.013;  const τD = 0.07993;  const τy = 3.3;  const J = 3.07;  const β = 0.300\n",
    "const xthr = 0.75; const ythr = 0.4\n",
    "const α = 1.58; const ΔU0 = 0.305; "
   ]
  },
  {
   "cell_type": "code",
   "execution_count": 17,
   "id": "37add348",
   "metadata": {},
   "outputs": [
    {
     "data": {
      "text/plain": [
       "(alg = Vern9(; stage_limiter! = trivial_limiter!, step_limiter! = trivial_limiter!, thread = static(false), lazy = true,), adaptive = false, dt = 0.001)"
      ]
     },
     "metadata": {},
     "output_type": "display_data"
    }
   ],
   "source": [
    "time = 10000; tt = 1000; tstep = 0.001\n",
    "integ_set = (alg = Vern9(), adaptive = false, dt = tstep)"
   ]
  },
  {
   "cell_type": "code",
   "execution_count": 18,
   "id": "85c5dd77",
   "metadata": {},
   "outputs": [
    {
     "data": {
      "text/plain": [
       "calculate_distance (generic function with 1 method)"
      ]
     },
     "metadata": {},
     "output_type": "display_data"
    }
   ],
   "source": [
    "function distance_two_points_3d(p1, p2)\n",
    "    x1, y1, z1 = p1\n",
    "    x2, y2, z2 = p2\n",
    "    dist = sqrt( (x1-x2)^2 + (y1-y2)^2 + (z1-z2)^2 )\n",
    "    return dist\n",
    "end\n",
    "\n",
    "function calculate_distance(ds, t_integrate)\n",
    "    \n",
    "    traj, _ = trajectory(ds, t_integrate)\n",
    "    fp, ei, _ = fixedpoints(ds, box, jacob_TM_);\n",
    "\n",
    "    len_traj = length(traj)\n",
    "    distance = zeros(len_traj)\n",
    "    if length(fp) == 1\n",
    "        for i in range(1, len_traj, step = 1)\n",
    "            distance[i] = distance_two_points_3d(traj[i], fp[1])\n",
    "        end\n",
    "        dis = minimum(distance)\n",
    "    else\n",
    "        dis = -1;\n",
    "    end\n",
    "    return dis\n",
    "end"
   ]
  },
  {
   "cell_type": "code",
   "execution_count": 19,
   "id": "4ea7ac03",
   "metadata": {},
   "outputs": [
    {
     "data": {
      "text/plain": [
       "900-element Vector{Float64}:\n",
       " 0.2650000065028337\n",
       " 0.2650006936269385\n",
       " 0.26500158941163476\n",
       " 0.26500275817125657\n",
       " 0.26500429747827414\n",
       " 0.26500629426977146\n",
       " 0.2650089099929887\n",
       " 0.2650122533600749\n",
       " 0.2650167734723379\n",
       " 0.2650227397981071\n",
       " ⋮\n",
       " 0.2768893681188406\n",
       " 0.27691295813689903\n",
       " 0.2769354424332346\n",
       " 0.2769580666401972\n",
       " 0.2769810538877686\n",
       " 0.27700394247435434\n",
       " 0.2770269827581941\n",
       " 0.27705197354654765\n",
       " 0.2770753242759404"
      ]
     },
     "metadata": {},
     "output_type": "display_data"
    }
   ],
   "source": [
    "pathtofile = \"/home/sergey/work/repo/dynamical-systems/Tsodyks Markram/Levanova/3 набор параметров/Сопоставление с матконт/файлы matlab/\"\n",
    "\n",
    "I0_hom = load(pathtofile * \"I0_hom_hom.jld\")[\"data\"]\n",
    "u0_hom = load(pathtofile * \"U0_hom_hom.jld\")[\"data\"]\n",
    "I0_hom = I0_hom[:]\n",
    "u0_hom = u0_hom[:]"
   ]
  },
  {
   "cell_type": "code",
   "execution_count": 20,
   "id": "441e01c8",
   "metadata": {},
   "outputs": [
    {
     "name": "stdout",
     "output_type": "stream",
     "text": [
      "last point trajectory:[8.33268182023036, 0.738512433483203, 0.438214098277429]\n"
     ]
    }
   ],
   "source": [
    "index_hom = 110\n",
    "I0 = I0_hom[index_hom]; U0 = u0_hom[index_hom]\n",
    "p = [α, τ, τD, τy, J, xthr, ythr, U0, ΔU0, β, I0]\n",
    "u0 = [8.33268182023036, 0.738512433483203, 0.438214098277429]\n",
    "println(\"last point trajectory:$u0\")"
   ]
  },
  {
   "cell_type": "code",
   "execution_count": 21,
   "id": "3d1acfa9",
   "metadata": {},
   "outputs": [
    {
     "data": {
      "text/plain": [
       "3-dimensional CoupledODEs\n",
       " deterministic: true\n",
       " discrete time: false\n",
       " in-place:      false\n",
       " dynamic rule:  TM\n",
       " ODE solver:    Vern9\n",
       " ODE kwargs:    (adaptive = false, dt = 0.001)\n",
       " parameters:    [1.58, 0.013, 0.07993, 3.3, 3.07, 0.75, 0.4, 0.2660496987507045, 0.305, 0.3, -1.7203015732352769]\n",
       " time:          0.0\n",
       " state:         [8.33268182023036, 0.738512433483203, 0.438214098277429]\n"
      ]
     },
     "metadata": {},
     "output_type": "display_data"
    }
   ],
   "source": [
    "ds = CoupledODEs(TM, u0, p, diffeq = integ_set)"
   ]
  },
  {
   "cell_type": "code",
   "execution_count": 22,
   "id": "4d2f3306",
   "metadata": {},
   "outputs": [],
   "source": [
    "traj, trange = trajectory(ds, time; Δt = integ_set.dt, Ttr = 5000);"
   ]
  },
  {
   "cell_type": "code",
   "execution_count": 23,
   "id": "7d19ec00",
   "metadata": {},
   "outputs": [],
   "source": [
    "fp, ei, _ = fixedpoints(ds, box, jacob_TM_);"
   ]
  },
  {
   "cell_type": "code",
   "execution_count": 24,
   "id": "35ab394b",
   "metadata": {},
   "outputs": [],
   "source": [
    "calculate_distance(ds, 10000)"
   ]
  },
  {
   "cell_type": "code",
   "execution_count": null,
   "id": "64b84b5f",
   "metadata": {},
   "outputs": [],
   "source": [
    "ts, tf = 1, 50000\n",
    "indexx,indexy,indexz = 2, 3, 1\n",
    "lb_size = 35; tck_size = 30;\n",
    "\n",
    "CairoMakie.activate!()\n",
    "f = Figure(size = (900, 600))\n",
    "axis3 = Axis3(f[1, 1], xlabel = \"x\", ylabel = \"y\", zlabel = \"E\",\n",
    "                xlabelsize = lb_size, ylabelsize = lb_size, zlabelsize = lb_size,\n",
    "                xticklabelsize = tck_size, yticklabelsize = tck_size, zticklabelsize = tck_size,\n",
    "                xgridvisible = false, ygridvisible = false, zgridvisible = false)\n",
    "\n",
    "\n",
    "\n",
    "lines!(axis3, traj[ts:tf, indexx], traj[ts:tf, indexy], traj[ts:tf, indexz], linewidth = 1.0, color = :black)\n",
    "\n",
    "display(f)"
   ]
  }
 ],
 "metadata": {
  "kernelspec": {
   "display_name": "Julia 1.10.0",
   "language": "julia",
   "name": "julia-1.10"
  },
  "language_info": {
   "file_extension": ".jl",
   "mimetype": "application/julia",
   "name": "julia",
   "version": "1.10.0"
  }
 },
 "nbformat": 4,
 "nbformat_minor": 5
}
