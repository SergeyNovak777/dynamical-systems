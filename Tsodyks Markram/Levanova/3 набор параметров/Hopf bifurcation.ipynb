{
 "cells": [
  {
   "cell_type": "code",
   "execution_count": 1,
   "id": "a1432819",
   "metadata": {},
   "outputs": [],
   "source": [
    "using StaticArrays, DifferentialEquations, DynamicalSystems\n",
    "E = 0..30; x = 0..1; y = 0..1\n",
    "box = E × x × y\n",
    "using CairoMakie"
   ]
  },
  {
   "cell_type": "code",
   "execution_count": 2,
   "id": "be4a4e70",
   "metadata": {},
   "outputs": [],
   "source": [
    "@inbounds U(y, p) = p[8] + p[9] / ( 1.0 + exp( -50.0 * (y - p[7]) ) )\n",
    "@inbounds σ(x, p) = 1.0 / ( 1.0 + exp( -20.0 * (x-p[6]) ) )\n",
    "@inbounds g(E, x, y, p, U_) = log( 1.0 + exp( (p[5] * U_ * x * E + p[11]  ) / (p[1]) ) )\n",
    "\n",
    "@inbounds function TM(u, p, t)\n",
    "    \n",
    "    U_ = U(u[3], p)\n",
    "    \n",
    "    du1 = (-u[1] + p[1] * g(u[1], u[2], u[3], p, U_) ) / p[2]\n",
    "    du2 = (1.0 - u[2]) / p[3] - U_*u[2]*u[1]\n",
    "    du3 = (-u[3])/p[4] + p[10] * σ(u[2], p)\n",
    "    \n",
    "    return SVector(du1, du2, du3)\n",
    "end\n",
    "@inbounds function jacob_TM_(u, p, t)\n",
    "    \n",
    "    U(y, p, exp50) = p[8] + p[9] / ( 1.0 + exp50 )\n",
    "    U_y(y, p, exp50) = (50.0 * p[9] * exp50) / (1.0 + exp50)^2\n",
    "    g(E, x, y, p, U_) = exp((p[5]  * U_ * x * E + p[11]) / p[1])\n",
    "    σ_der(x, p) = exp( (-20.0) * (x - p[6]) )\n",
    "    exp50 = exp(-50.0 * (u[3] - p[7]))\n",
    "    \n",
    "    U_ = U(u[3], p, exp50)\n",
    "    Uy = U_y(u[3], p, exp50)\n",
    "    g_ = g(u[1], u[2], u[3], p, U_)\n",
    "    σ_deri = σ_der(u[2], p)\n",
    "    \n",
    "    g_plus = 1.0 + g_\n",
    "    g_mult = g_ * U_\n",
    "    g_plus_mult = p[2] * (g_plus)\n",
    "    u1p5 = p[5] * u[1]\n",
    "    Uyu2 = Uy * u[2]\n",
    "    \n",
    "    E_E = (-1.0 + ((J * u[2] * g_mult)) / (g_plus) ) / p[2]\n",
    "    E_x = (u1p5 * g_mult) / (g_plus_mult)\n",
    "    E_y = (u1p5 * Uyu2 * g_) / (g_plus_mult)\n",
    "    \n",
    "    x_E = -U_ * u[2]\n",
    "    x_x = -1.0 / p[3] - U_ * u[1]\n",
    "    x_y = -Uyu2 * u[1]\n",
    "    \n",
    "    y_x = 20.0 * p[10] * σ_deri / (1.0 + σ_deri)^2\n",
    "    y_y = -1.0/p[4]\n",
    "    \n",
    "    SMatrix{3,3}(E_E, x_E, 0.0,\n",
    "        E_x, x_x, y_x,\n",
    "        E_y, x_y, y_y)\n",
    "end;"
   ]
  },
  {
   "cell_type": "code",
   "execution_count": 16,
   "id": "73877fc2",
   "metadata": {},
   "outputs": [],
   "source": [
    "const τ = 0.013;  const τD = 0.080;  const τy = 3.3;  const J = 3.07;  const β = 0.300\n",
    "const xthr = 0.75; const ythr = 0.4\n",
    "const α = 1.58;  U0 = 0.3;  const ΔU0 = 0.305; I0 = -1.48;"
   ]
  },
  {
   "cell_type": "code",
   "execution_count": 17,
   "id": "f37973c8",
   "metadata": {},
   "outputs": [
    {
     "data": {
      "text/plain": [
       "3-element Vector{Float64}:\n",
       " 8.39353\n",
       " 0.73803\n",
       " 0.429055"
      ]
     },
     "execution_count": 17,
     "metadata": {},
     "output_type": "execute_result"
    }
   ],
   "source": [
    "u0 = [8.39353, 0.73803, 0.429055]"
   ]
  },
  {
   "cell_type": "code",
   "execution_count": 18,
   "id": "d483b982",
   "metadata": {},
   "outputs": [],
   "source": [
    "t = 400; tt = 250; tstep = 0.001\n",
    "time_attract = 100.0\n",
    "\n",
    "trange = range(0.0, t, step = tstep)\n",
    "integ_set = (alg = RK4(), adaptive = false, dt = tstep);"
   ]
  },
  {
   "cell_type": "code",
   "execution_count": 19,
   "id": "baac4162",
   "metadata": {},
   "outputs": [
    {
     "data": {
      "text/plain": [
       "-1.48:-0.0006122448979591836:-1.51"
      ]
     },
     "execution_count": 19,
     "metadata": {},
     "output_type": "execute_result"
    }
   ],
   "source": [
    "I0range = range(-1.48, -1.51, length = 50)"
   ]
  },
  {
   "cell_type": "code",
   "execution_count": 20,
   "id": "c4e46b34",
   "metadata": {},
   "outputs": [
    {
     "data": {
      "text/plain": [
       "3-dimensional CoupledODEs\n",
       " deterministic: true\n",
       " discrete time: false\n",
       " in-place:      false\n",
       " dynamic rule:  TM\n",
       " ODE solver:    RK4\n",
       " ODE kwargs:    (adaptive = false, dt = 0.001)\n",
       " parameters:    [1.58, 0.013, 0.08, 3.3, 3.07, 0.75, 0.4, 0.3, 0.305, 0.3, -1.48]\n",
       " time:          0.0\n",
       " state:         [8.39353, 0.73803, 0.429055]\n"
      ]
     },
     "execution_count": 20,
     "metadata": {},
     "output_type": "execute_result"
    }
   ],
   "source": [
    "p = [α, τ, τD, τy, J, xthr, ythr, U0, ΔU0, β, I0]\n",
    "ds = CoupledODEs(TM, u0, p, diffeq = integ_set)"
   ]
  },
  {
   "cell_type": "code",
   "execution_count": 21,
   "id": "f0319033",
   "metadata": {},
   "outputs": [
    {
     "data": {
      "text/plain": [
       "(3-dimensional StateSpaceSet{Float64} with 1 points, Vector{ComplexF64}[[-8.898188740733607 + 0.0im, 2.108515370836325 - 15.909942926974539im, 2.108515370836325 + 15.909942926974539im]], Bool[0])"
      ]
     },
     "execution_count": 21,
     "metadata": {},
     "output_type": "execute_result"
    }
   ],
   "source": [
    "fp, eigs, _ = fixedpoints(ds, box, jacob_TM_)"
   ]
  },
  {
   "cell_type": "code",
   "execution_count": 22,
   "id": "8267b760",
   "metadata": {},
   "outputs": [],
   "source": [
    "eigss = zeros(ComplexF64, 50, 3);"
   ]
  },
  {
   "cell_type": "code",
   "execution_count": 23,
   "id": "51d55ef8",
   "metadata": {},
   "outputs": [],
   "source": [
    "for (index, I0) in enumerate(I0range)\n",
    "    \n",
    "    p = [α, τ, τD, τy, J, xthr, ythr, U0, ΔU0, β, I0]\n",
    "    ds = CoupledODEs(TM, u0, p, diffeq = integ_set)\n",
    "    _, eigs, _ = fixedpoints(ds, box, jacob_TM_)\n",
    "    eigss[index, :] = eigs[1]\n",
    "    \n",
    "end"
   ]
  },
  {
   "cell_type": "code",
   "execution_count": 24,
   "id": "957ea459",
   "metadata": {},
   "outputs": [
    {
     "data": {
      "image/png": "[encoded data removed]"
     },
     "execution_count": 24,
     "metadata": {},
     "output_type": "execute_result"
    }
   ],
   "source": [
    "f = Figure()\n",
    "ax = Axis(f[1, 1], xlabel = \"Re\", ylabel = \"Im\", xlabelsize = 25, ylabelsize = 25, xticklabelsize = 20, yticklabelsize = 20)\n",
    "\n",
    "for (index, _) in enumerate(I0range)\n",
    "    scatter!(real(eigss[index, 1]), imag(eigss[index, 1]), color = :blue, markersize = 5)\n",
    "    scatter!(real(eigss[index, 2]), imag(eigss[index, 2]), color = :blue, markersize = 5)\n",
    "    scatter!(real(eigss[index, 3]), imag(eigss[index, 3]), color = :blue, markersize = 5)\n",
    "end\n",
    "vlines!(0.0, color = :black, linestyle = :dash)\n",
    "f"
   ]
  }
 ],
 "metadata": {
  "kernelspec": {
   "display_name": "Julia 1.8.5",
   "language": "julia",
   "name": "julia-1.8"
  },
  "language_info": {
   "file_extension": ".jl",
   "mimetype": "application/julia",
   "name": "julia",
   "version": "1.8.5"
  }
 },
 "nbformat": 4,
 "nbformat_minor": 5
}
