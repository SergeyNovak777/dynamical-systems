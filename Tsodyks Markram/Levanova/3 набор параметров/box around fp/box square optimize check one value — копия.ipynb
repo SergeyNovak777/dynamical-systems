{
 "cells": [
  {
   "cell_type": "code",
   "execution_count": 64,
   "metadata": {},
   "outputs": [
    {
     "name": "stderr",
     "output_type": "stream",
     "text": [
      "\u001b[32m\u001b[1m  Activating\u001b[22m\u001b[39m project at `C:\\Users\\Alex\\Desktop\\dynamical-systems\\env\\integrate`"
     ]
    },
    {
     "name": "stderr",
     "output_type": "stream",
     "text": [
      "\n"
     ]
    }
   ],
   "source": [
    "username = \"Alex\"\n",
    "env = \"integrate\"\n",
    "pathtorepo = \"C:\\\\Users\\\\\" *username *  \"\\\\Desktop\\\\\"\n",
    "using Pkg\n",
    "Pkg.activate(pathtorepo * \"dynamical-systems\\\\env\\\\\" * env * \"\\\\\")\n",
    "include(pathtorepo * \"dynamical-systems\\\\system.jl\")\n",
    "include(pathtorepo * \"dynamical-systems\\\\box_square_functions.jl\")\n",
    "\n",
    "using StaticArrays, DifferentialEquations, DynamicalSystems, JLD2,\n",
    "GLMakie, LinearAlgebra, LinearSolve\n",
    "\n",
    "pathtofile = \"C:\\\\Users\\\\\" *username *  \"\\\\Desktop\\\\dynamical-systems\\\\Tsodyks Markram\\\\Levanova\\\\3 набор параметров\\\\Сопоставление с матконт\\\\файлы matlab\\\\\"\n",
    "I0_hom = load(pathtofile * \"I0_hom_hom.jld\")[\"data\"]\n",
    "u0_hom = load(pathtofile * \"U0_hom_hom.jld\")[\"data\"]\n",
    "I0_hom = I0_hom[:]\n",
    "u0_hom = u0_hom[:];"
   ]
  },
  {
   "cell_type": "code",
   "execution_count": 65,
   "metadata": {},
   "outputs": [],
   "source": [
    "index_point_from_curve = 1\n",
    "t = 2000.0; tspan = [0.0, t]\n",
    "ϵ_box = 1.0e-5; ϵ_shift = 1.0e-3\n",
    "E = interval(-40, 40); x = interval(-5, 5); y = interval(-5, 5)\n",
    "box = IntervalBox(E, x, y);"
   ]
  },
  {
   "cell_type": "code",
   "execution_count": 66,
   "metadata": {},
   "outputs": [],
   "source": [
    "const τ = 0.013;  const τD = 0.07993;  const τy = 3.3;  const J = 3.07;  const β = 0.300\n",
    "const xthr = 0.75; const ythr = 0.4; const α = 1.58; const ΔU0 = 0.305\n",
    "U0 = u0_hom[index_point_from_curve]; I0 = I0_hom[index_point_from_curve]\n",
    "p = SA[α, τ, τD, τy, J, xthr, ythr, U0, ΔU0, β, I0];"
   ]
  },
  {
   "cell_type": "code",
   "execution_count": 67,
   "metadata": {},
   "outputs": [
    {
     "data": {
      "text/plain": [
       "101"
      ]
     },
     "metadata": {},
     "output_type": "display_data"
    }
   ],
   "source": [
    "count_points_on_side = 101"
   ]
  },
  {
   "cell_type": "code",
   "execution_count": 68,
   "metadata": {},
   "outputs": [],
   "source": [
    "function get_norm_αs_arrays(points, fp, A)\n",
    "\n",
    "    count_rows, count_cols = size(points)\n",
    "    index = 1\n",
    "    last_index = count_rows\n",
    "    matrix_αs = zeros(count_rows, count_cols)\n",
    "    array_norms = zeros(count_rows)\n",
    "\n",
    "    while index <= last_index\n",
    "\n",
    "        norm_, αs = get_norm_αs(points[index, :], fp, A)\n",
    "        matrix_αs[index, :] = αs\n",
    "        array_norms[index] = norm_\n",
    "        index+=1\n",
    "        \n",
    "    end\n",
    "    \n",
    "    return array_norms, matrix_αs\n",
    "end\n",
    "function get_norm_αs(u, fp, A)\n",
    "    x = Vector(u)\n",
    "    b = x - fp\n",
    "    b = Vector(b)\n",
    "    linprob = LinearProblem(A, b)\n",
    "    linsolve = solve(linprob)\n",
    "    return norm(linsolve.u, Inf), linsolve\n",
    "end\n",
    "\n",
    "function get_fp(system, jac_system, p, box, dim)\n",
    "\n",
    "    u0 = zeros(dim)\n",
    "    ds = CoupledODEs(system, u0, p)\n",
    "    fp, _, _ = fixedpoints(ds, box, jac_system)\n",
    "\n",
    "    return fp\n",
    "end\n",
    "function get_matrix(fp, p, jac_system, norm = 2)\n",
    "\n",
    "    Jfp = jac_system(fp, p, 0.0)\n",
    "    eigen_values_vectors = eigen(Jfp)\n",
    "    eigen_vectors = eigen_values_vectors.vectors\n",
    "\n",
    "    v1 = real(eigen_vectors[:, 1])\n",
    "    v2 = real(eigen_vectors[:,2])\n",
    "    v3 = imag(eigen_vectors[:, 3])\n",
    "\n",
    "    v1 = normalize(v1, norm)\n",
    "    v2 = normalize(v2, norm)\n",
    "    v3 = normalize(v3, norm)\n",
    "\n",
    "    v1 = transpose(v1)\n",
    "    v2 = transpose(v2)\n",
    "    v3 = transpose(v3)\n",
    "\n",
    "    A = transpose([v1; v2; v3])\n",
    "\n",
    "    return A\n",
    "end;"
   ]
  },
  {
   "cell_type": "code",
   "execution_count": 69,
   "metadata": {},
   "outputs": [],
   "source": [
    "function side_square_left(ϵ_box, count_points_on_side, fp, A, dim)\n",
    "    matrix_point = zeros(count_points_on_side, dim)\n",
    "    number_point = 1\n",
    "    α1 = 0.0\n",
    "    α2 = -ϵ_box\n",
    "    while number_point <= (count_points_on_side)\n",
    "        α3 = - ϵ_box + 2 * ϵ_box * number_point / count_points_on_side\n",
    "        α_vector = [α1, α2, α3]\n",
    "        point_on_side_square = fp + A * α_vector\n",
    "        matrix_point[number_point, :] = point_on_side_square\n",
    "        number_point+=1\n",
    "    end\n",
    "    return matrix_point\n",
    "end\n",
    "\n",
    "function side_square_right(ϵ_box, count_points_on_side, fp, A, dim)\n",
    "    matrix_point = zeros(count_points_on_side, dim)\n",
    "    number_point = 1\n",
    "    α1 = 0.0\n",
    "    α2 = ϵ_box\n",
    "    while number_point <= (count_points_on_side)\n",
    "        α3 = - ϵ_box + 2 * ϵ_box * number_point / count_points_on_side\n",
    "        α_vector = [α1, α2, α3]\n",
    "        point_on_side_square = fp + A * α_vector\n",
    "        matrix_point[number_point, :] = point_on_side_square\n",
    "        number_point+=1\n",
    "    end\n",
    "    return matrix_point\n",
    "end\n",
    "function side_square_up(ϵ_box, count_points_on_side, fp, A, dim)\n",
    "    matrix_point = zeros(count_points_on_side, dim)\n",
    "    number_point = 1\n",
    "    α1 = 0.0\n",
    "    α3 = ϵ_box\n",
    "    while number_point <= (count_points_on_side)\n",
    "        α2 = - ϵ_box + 2 * ϵ_box * number_point / count_points_on_side\n",
    "        α_vector = [α1, α2, α3]\n",
    "        point_on_side_square = fp + A * α_vector\n",
    "        matrix_point[number_point, :] = point_on_side_square\n",
    "        number_point+=1\n",
    "    end\n",
    "    return matrix_point\n",
    "end\n",
    "function side_square_down(ϵ_box, count_points_on_side, fp, A, dim)\n",
    "    matrix_point = zeros(count_points_on_side, dim)\n",
    "    number_point = 1\n",
    "    α1 = 0.0\n",
    "    α3 = -ϵ_box\n",
    "    while number_point <= (count_points_on_side)\n",
    "        α2 = - ϵ_box + 2 * ϵ_box * number_point / count_points_on_side\n",
    "        α_vector = [α1, α2, α3]\n",
    "        point_on_side_square = fp + A * α_vector\n",
    "        matrix_point[number_point, :] = point_on_side_square\n",
    "        number_point+=1\n",
    "    end\n",
    "    return matrix_point\n",
    "end;"
   ]
  },
  {
   "cell_type": "code",
   "execution_count": 70,
   "metadata": {},
   "outputs": [],
   "source": [
    "fp = get_fp(TM, jacob_TM_, p, box, 3)\n",
    "A = get_matrix(fp[1], p, jacob_TM_, Inf)\n",
    "points_up_side = side_square_up(ϵ_box, count_points_on_side, fp[1], A,  3)\n",
    "points_down_side = side_square_down(ϵ_box, count_points_on_side, fp[1], A,  3)\n",
    "points_right_side = side_square_right(ϵ_box, count_points_on_side, fp[1], A, 3)\n",
    "points_left_side = side_square_left(ϵ_box, count_points_on_side, fp[1], A, 3)\n",
    "\n",
    "normsup, αsup=  get_norm_αs_arrays(points_up_side, fp[1], A)\n",
    "normsdown, αsodwn =  get_norm_αs_arrays(points_down_side, fp[1], A)\n",
    "\n",
    "normsleft, αsleft=  get_norm_αs_arrays(points_left_side, fp[1], A)\n",
    "normsright, αsright =  get_norm_αs_arrays(points_right_side, fp[1], A);"
   ]
  },
  {
   "cell_type": "code",
   "execution_count": null,
   "metadata": {},
   "outputs": [],
   "source": [
    "idx, idy = 2, 3\n",
    "\n",
    "f = Figure(resolution = (500, 500))\n",
    "ax = Axis(f[1, 1])\n",
    "\n",
    "scatter!(αsup[:, idx], αsup[:, idy],\n",
    "markersize = 5.0, color = :deeppink)\n",
    "scatter!(αsodwn[:, idx], αsodwn[:, idy],\n",
    "markersize = 5.0)\n",
    "\n",
    "scatter!(αsleft[:, idx], αsleft[:, idy],\n",
    "markersize = 5.0)\n",
    "#scatter!(αsright[:, idx], αsright[:, idy],\n",
    "#markersize = 5.0)\n",
    "\n",
    "scatter!(0.0, 0.0, color = :blue, markersize = 5.0)\n",
    "\n",
    "display(GLMakie.Screen(), f);"
   ]
  }
 ],
 "metadata": {
  "kernelspec": {
   "display_name": "Julia 1.9.1",
   "language": "julia",
   "name": "julia-1.9"
  },
  "language_info": {
   "file_extension": ".jl",
   "mimetype": "application/julia",
   "name": "julia",
   "version": "1.9.1"
  },
  "orig_nbformat": 4
 },
 "nbformat": 4,
 "nbformat_minor": 2
}
