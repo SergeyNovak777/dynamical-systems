{
 "cells": [
  {
   "cell_type": "code",
   "execution_count": 1,
   "metadata": {},
   "outputs": [
    {
     "name": "stderr",
     "output_type": "stream",
     "text": [
      "\u001b[32m\u001b[1m  Activating\u001b[22m\u001b[39m project at `C:\\Users\\Alex\\Desktop\\dynamical-systems\\env\\integrate`\n"
     ]
    }
   ],
   "source": [
    "username = \"Alex\"\n",
    "env = \"integrate\"\n",
    "pathtorepo = \"C:\\\\Users\\\\\" *username *  \"\\\\Desktop\\\\\"\n",
    "using Pkg\n",
    "Pkg.activate(pathtorepo * \"dynamical-systems\\\\env\\\\\" * env * \"\\\\\")\n",
    "include(pathtorepo * \"dynamical-systems\\\\system.jl\")\n",
    "include(pathtorepo * \"dynamical-systems\\\\box_square_functions.jl\")\n",
    "\n",
    "using StaticArrays, DifferentialEquations, DynamicalSystems, JLD2\n",
    "E, x, y  = -40..40, -5..5,  -5..5\n",
    "box = E × x × y\n",
    "using GLMakie, LinearAlgebra, LinearSolve\n",
    "\n",
    "pathtofile = \"C:\\\\Users\\\\\" *username *  \"\\\\Desktop\\\\dynamical-systems\\\\Tsodyks Markram\\\\Levanova\\\\3 набор параметров\\\\Сопоставление с матконт\\\\файлы matlab\\\\\"\n",
    "I0_hom = load(pathtofile * \"I0_hom_hom.jld\")[\"data\"]\n",
    "u0_hom = load(pathtofile * \"U0_hom_hom.jld\")[\"data\"]\n",
    "I0_hom = I0_hom[:]\n",
    "u0_hom = u0_hom[:];"
   ]
  },
  {
   "cell_type": "code",
   "execution_count": 2,
   "metadata": {},
   "outputs": [],
   "source": [
    "index_point_from_curve = 1\n",
    "\n",
    "const τ = 0.013;  const τD = 0.07993;  const τy = 3.3;  const J = 3.07;  const β = 0.300\n",
    "const xthr = 0.75; const ythr = 0.4; const α = 1.58; const ΔU0 = 0.305; const U0 = u0_hom[index_point_from_curve]\n",
    "\n",
    "t = 2000.0; tspan = [0.0, t]\n",
    "u0 = [0.0, 0.0, 0.0]\n",
    "ϵ_box = 1.0e-5; ϵ_shift = 1.0e-2;"
   ]
  },
  {
   "cell_type": "code",
   "execution_count": 12,
   "metadata": {},
   "outputs": [
    {
     "data": {
      "text/plain": [
       "-1.70629651132633"
      ]
     },
     "metadata": {},
     "output_type": "display_data"
    }
   ],
   "source": [
    "number_points_on_side = 9\n",
    "total_count_points = number_points_on_side * 2\n",
    "\n",
    "I0 = I0_hom[index_point_from_curve]"
   ]
  },
  {
   "cell_type": "code",
   "execution_count": 13,
   "metadata": {},
   "outputs": [],
   "source": [
    "dots_u0 = zeros(total_count_points, 3)\n",
    "check_events = Vector{Bool}(undef, total_count_points)\n",
    "time_events = zeros(total_count_points)\n",
    "dots_on_event = zeros(total_count_points, 3)\n",
    "αs = zeros(total_count_points, 3)\n",
    "norms = zeros(total_count_points, 3);"
   ]
  },
  {
   "cell_type": "code",
   "execution_count": 14,
   "metadata": {},
   "outputs": [],
   "source": [
    "p = SA[α, τ, τD, τy, J, xthr, ythr, U0, ΔU0, β, I0]\n",
    "\n",
    "fixedpoint = get_fixed_point(TM, jacob_TM_, p, u0)\n",
    "A = get_matrix(fixedpoint[1], p, jacob_TM_, 2)\n",
    "\n",
    "dots_right_side, array_α_vec_right,\n",
    "dots_left_side, array_α_vec_left,\n",
    "dots_up_side, array_α_vec_up,\n",
    "dots_down_side, array_α_vec_down = get_arrays_dots(number_points_on_side, 3)\n",
    "\n",
    "fill_side_square(ϵ_box, fixedpoint[1], number_points_on_side, A, \n",
    "dots_right_side, array_α_vec_right, dots_left_side, array_α_vec_left,\n",
    "dots_up_side, array_α_vec_up, dots_down_side, array_α_vec_down)"
   ]
  },
  {
   "cell_type": "code",
   "execution_count": 15,
   "metadata": {},
   "outputs": [
    {
     "name": "stdout",
     "output_type": "stream",
     "text": [
      "start internal index: 1\n",
      "final internal index: 18\n"
     ]
    },
    {
     "data": {
      "text/plain": [
       "19"
      ]
     },
     "metadata": {},
     "output_type": "display_data"
    }
   ],
   "source": [
    "p = SA[α, τ, τD, τy, J, xthr, ythr, U0, ΔU0, β, I0]\n",
    "\n",
    "fixedpoint = get_fixed_point(TM, jacob_TM_, p, u0)\n",
    "A = get_matrix(fixedpoint[1], p, jacob_TM_, Inf)\n",
    "\n",
    "dots_right_side, array_α_vec_right,\n",
    "dots_left_side, array_α_vec_left,\n",
    "dots_up_side, array_α_vec_up,\n",
    "dots_down_side, array_α_vec_down = get_arrays_dots(number_points_on_side, 3)\n",
    "\n",
    "fill_side_square(ϵ_box, fixedpoint[1], number_points_on_side, A, \n",
    "dots_right_side, array_α_vec_right, dots_left_side, array_α_vec_left,\n",
    "dots_up_side, array_α_vec_up, dots_down_side, array_α_vec_down)\n",
    "\n",
    "\n",
    "condition = make_event(fixedpoint[1], ϵ_box, A)\n",
    "cb = ContinuousCallback(condition, nothing, affect!)\n",
    "\n",
    "up_and_down_side = cat(dots_up_side, dots_down_side, dims = 1)\n",
    "start_internal_index = 1\n",
    "final_internal_index = total_count_points\n",
    "\n",
    "println(\"start internal index: $(start_internal_index)\"); flush(stdout)\n",
    "println(\"final internal index: $(final_internal_index)\"); flush(stdout)\n",
    "\n",
    "start_internal_index = trajectory_from_sides(p, A, up_and_down_side, final_internal_index,\n",
    "    fixedpoint[1], cb, start_internal_index)"
   ]
  },
  {
   "cell_type": "code",
   "execution_count": 16,
   "metadata": {},
   "outputs": [
    {
     "name": "stdout",
     "output_type": "stream",
     "text": [
      "number of event: 4; number of no event: 14\n"
     ]
    }
   ],
   "source": [
    "number_of_event = length(findall(check_events .== true))\n",
    "number_of_no_event = length(check_events) - number_of_event\n",
    "println(\"number of event: $(number_of_event); number of no event: $(number_of_no_event)\")"
   ]
  },
  {
   "cell_type": "code",
   "execution_count": 19,
   "metadata": {},
   "outputs": [],
   "source": [
    "αs_without_zeros =  permutedims(stack(filter(!iszero,eachrow(αs))))\n",
    "# last points in space (α2, α3)\n",
    "f = Figure(resolution = (700, 700))\n",
    "ax = Axis(f[1, 1], xlabel = L\"α_2\", ylabel = L\"α_3\", xlabelsize = 35, ylabelsize = 35)\n",
    "scatter!(ax, 0.0, 0.0, color = :green, markersize = 15, marker = :rect)\n",
    "\n",
    "scatter!(ax, array_α_vec_right[:, 2], array_α_vec_right[:, 3], markersize = 5)\n",
    "scatter!(ax, array_α_vec_left[:, 2], array_α_vec_left[:, 3], markersize = 5)\n",
    "\n",
    "scatter!(ax, array_α_vec_up[:, 2], array_α_vec_up[:, 3], markersize = 5)\n",
    "scatter!(ax, array_α_vec_down[:, 2], array_α_vec_down[:, 3], markersize = 5)\n",
    "\n",
    "display(GLMakie.Screen(), f);"
   ]
  },
  {
   "cell_type": "code",
   "execution_count": 8,
   "metadata": {},
   "outputs": [],
   "source": [
    "αs_without_zeros =  permutedims(stack(filter(!iszero,eachrow(αs))))\n",
    "# last points in space (α2, α3)\n",
    "f = Figure(resolution = (700, 700))\n",
    "ax = Axis(f[1, 1], xlabel = L\"α_2\", ylabel = L\"α_3\", xlabelsize = 35, ylabelsize = 35)\n",
    "scatter!(ax, 0.0, 0.0, color = :green, markersize = 15, marker = :rect)\n",
    "\n",
    "scatter!(ax, αs_without_zeros[:, 2], αs_without_zeros[:, 3], markersize = 5)\n",
    "\n",
    "display(GLMakie.Screen(), f);"
   ]
  },
  {
   "cell_type": "code",
   "execution_count": 9,
   "metadata": {},
   "outputs": [
    {
     "data": {
      "text/plain": [
       "\"index_point_from_curve 1.jld2\""
      ]
     },
     "metadata": {},
     "output_type": "display_data"
    }
   ],
   "source": [
    "filename = \"index_point_from_curve $(index_point_from_curve)\"\n",
    "filename = filename*\".jld2\""
   ]
  },
  {
   "cell_type": "code",
   "execution_count": 10,
   "metadata": {},
   "outputs": [],
   "source": [
    "cd(\"C:\\\\Users\\\\\" *username *  \"\\\\Desktop\\\\dynamical-systems\\\\Tsodyks Markram\\\\Levanova\\\\3 набор параметров\\\\manifolds\\\\TM\\\\box square\\\\\")\n",
    "jldsave(filename; dots_u0, check_events, time_events, dots_on_event ,αs, norms)"
   ]
  }
 ],
 "metadata": {
  "kernelspec": {
   "display_name": "Julia 1.9.1",
   "language": "julia",
   "name": "julia-1.9"
  },
  "language_info": {
   "file_extension": ".jl",
   "mimetype": "application/julia",
   "name": "julia",
   "version": "1.9.1"
  },
  "orig_nbformat": 4
 },
 "nbformat": 4,
 "nbformat_minor": 2
}
