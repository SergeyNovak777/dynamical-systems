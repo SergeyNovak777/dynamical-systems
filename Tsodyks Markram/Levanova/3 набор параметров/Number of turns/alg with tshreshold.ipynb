{
 "cells": [
  {
   "cell_type": "code",
   "execution_count": 1,
   "metadata": {},
   "outputs": [
    {
     "name": "stderr",
     "output_type": "stream",
     "text": [
      "\u001b[32m\u001b[1m  Activating\u001b[22m\u001b[39m project at `C:\\Users\\Alex\\Desktop\\dynamical-systems\\env\\integrate`"
     ]
    },
    {
     "name": "stderr",
     "output_type": "stream",
     "text": [
      "\n"
     ]
    },
    {
     "data": {
      "text/plain": [
       "HR_mem (generic function with 1 method)"
      ]
     },
     "metadata": {},
     "output_type": "display_data"
    }
   ],
   "source": [
    "username = \"Alex\"\n",
    "pathtorepo = \"C:\\\\Users\\\\\" *username *  \"\\\\Desktop\\\\\"\n",
    "using Pkg\n",
    "Pkg.activate(pathtorepo * \"dynamical-systems\\\\env\\\\integrate\\\\\")\n",
    "include(pathtorepo * \"dynamical-systems\\\\system.jl\")"
   ]
  },
  {
   "cell_type": "code",
   "execution_count": 2,
   "metadata": {},
   "outputs": [],
   "source": [
    "using StaticArrays, DifferentialEquations, DynamicalSystems, JLD\n",
    "E, x, y  = -40..40, -5..5,  -5..5\n",
    "box = E × x × y\n",
    "using CairoMakie, GLMakie\n",
    "using LinearAlgebra"
   ]
  },
  {
   "cell_type": "code",
   "execution_count": 3,
   "metadata": {},
   "outputs": [],
   "source": [
    "const τ = 0.013;  const τD = 0.07993;  const τy = 3.3;  const J = 3.07;  const β = 0.300\n",
    "const xthr = 0.75; const ythr = 0.4; const α = 1.58; const ΔU0 = 0.305;"
   ]
  },
  {
   "cell_type": "code",
   "execution_count": 4,
   "metadata": {},
   "outputs": [],
   "source": [
    "t = 5000; tt = 1000; tstep = 0.0001; tspan = [time, tt]\n",
    "integ_set = (alg = Vern9(), adaptive = true, abstol = 1e-15, reltol = 1e-15);"
   ]
  },
  {
   "cell_type": "code",
   "execution_count": 20,
   "metadata": {},
   "outputs": [],
   "source": [
    "I0 = -1.7075; U0 = 0.26504556977786675\n",
    "p = SA[α, τ, τD, τy, J, xthr, ythr, U0, ΔU0, β, I0]\n",
    "u0 = [11.325905642223786, 0.6594706953104683, 0.4863175026548461];"
   ]
  },
  {
   "cell_type": "code",
   "execution_count": 21,
   "metadata": {},
   "outputs": [
    {
     "data": {
      "text/plain": [
       "3-dimensional CoupledODEs\n",
       " deterministic: true\n",
       " discrete time: false\n",
       " in-place:      false\n",
       " dynamic rule:  TM\n",
       " ODE solver:    Vern9\n",
       " ODE kwargs:    (adaptive = true, abstol = 1.0e-15, reltol = 1.0e-15)\n",
       " parameters:    [1.58, 0.013, 0.07993, 3.3, 3.07, 0.75, 0.4, 0.26504556977786675, 0.305, 0.3, -1.7075]\n",
       " time:          0.0\n",
       " state:         [11.325905642223786, 0.6594706953104683, 0.4863175026548461]\n"
      ]
     },
     "metadata": {},
     "output_type": "display_data"
    }
   ],
   "source": [
    "ds = CoupledODEs(TM, u0, p, diffeq = integ_set)"
   ]
  },
  {
   "cell_type": "code",
   "execution_count": 22,
   "metadata": {},
   "outputs": [
    {
     "name": "stdout",
     "output_type": "stream",
     "text": [
      "fixed point with shift along stable manifold: [8.34447593715034, 0.7384982011908008, 0.4383158368374711]\n"
     ]
    }
   ],
   "source": [
    "fp, ei, _ = fixedpoints(ds, box, jacob_TM_)\n",
    "\n",
    "index_fp = 1\n",
    "index_vec = 1\n",
    "ϵ = 1e-9\n",
    "\n",
    "Jac = jacob_TM_(fp[index_fp], p, 0)\n",
    "eivecs = eigvecs(Jac)\n",
    "shift =  fp[index_fp] + real(eivecs[:, index_vec])*ϵ\n",
    "println(\"fixed point with shift along stable manifold: $(shift)\")"
   ]
  },
  {
   "cell_type": "code",
   "execution_count": 23,
   "metadata": {},
   "outputs": [
    {
     "name": "stdout",
     "output_type": "stream",
     "text": [
      "Length sol: 50000001\n"
     ]
    }
   ],
   "source": [
    "sol, trange = trajectory(ds, t, Ttr = tt, Δt = tstep)\n",
    "println(\"Length sol: $(length(sol))\");"
   ]
  },
  {
   "cell_type": "code",
   "execution_count": 24,
   "metadata": {},
   "outputs": [],
   "source": [
    "lb_size_ts = 30; tck_size_ts = 25\n",
    "width = 2000; height = 800;"
   ]
  },
  {
   "cell_type": "code",
   "execution_count": 10,
   "metadata": {},
   "outputs": [
    {
     "data": {
      "text/plain": [
       "local_max (generic function with 1 method)"
      ]
     },
     "metadata": {},
     "output_type": "display_data"
    }
   ],
   "source": [
    "function global_max(timesereis, ϵ = 1e-2)\n",
    "\n",
    "    tr, trange = timeseries\n",
    "    glob_maxs, trange_glob_maxs = Float64[], Float64[]\n",
    "    real_global_max =floor(maximum(tr), digits = 3)\n",
    "    idxs = Int64[]\n",
    "    \n",
    "    for idx in range(2, length(tr) - 1, step = 1)\n",
    "        if tr[idx-1] < tr[idx] > tr[idx+1]\n",
    "            if abs(tr[idx] -real_global_max) < ϵ\n",
    "                push!(glob_maxs, tr[idx])\n",
    "                push!(trange_glob_maxs, trange[idx])\n",
    "                push!(idxs, idx)\n",
    "            end\n",
    "        end\n",
    "    end\n",
    "\n",
    "    return glob_maxs,trange_glob_maxs, idxs\n",
    "end\n",
    "function interval_turns(timeseries, index, fp)\n",
    "\n",
    "    tr, trange = timeseries\n",
    "    \n",
    "    flag = false\n",
    "    timelabel = 0\n",
    "    \n",
    "    while flag == false\n",
    "        index+=1\n",
    "        if sol[index, 3] <= fp[1][3]\n",
    "            timelabel = index - 1\n",
    "            break\n",
    "        end\n",
    "    end\n",
    "    return timelabel\n",
    "end\n",
    "\n",
    "function local_max(sol, index_global_max, timelabel)\n",
    "   \n",
    "    index = index_global_max\n",
    "    local_maxs, trange_local_maxs = Float64[], Float64[]\n",
    "    idxs = Int64[]\n",
    "    while index <= timelabel\n",
    "\n",
    "        if sol[index-1, 1] < sol[index, 1] > sol[index+1, 1]\n",
    "            push!(local_maxs, sol[index, 1])\n",
    "            push!(trange_local_maxs, trange[index])\n",
    "            push!(idxs, index)\n",
    "        end\n",
    "\n",
    "        index+=1\n",
    "    end\n",
    "    index-=1\n",
    "\n",
    "    return  local_maxs,trange_local_maxs, idxs\n",
    "end"
   ]
  },
  {
   "cell_type": "code",
   "execution_count": 25,
   "metadata": {},
   "outputs": [
    {
     "data": {
      "text/plain": [
       "([0.5881708417994874, 0.5881708397528954, 0.5881708432520552, 0.5881708414998799, 0.5881708401776423, 0.5881708433010471, 0.5881708411734268, 0.5881708405755056, 0.5881708433231809, 0.5881708408201339  …  0.5881708428628657, 0.58817084243959, 0.5881708385536379, 0.5881708430069488, 0.5881708422081481, 0.5881708390466607, 0.5881708431241597, 0.5881708419498554, 0.5881708395127861, 0.5881708432145005], [1000.5232, 1005.6061, 1010.6889, 1015.7717, 1020.8546, 1025.9374, 1031.0202, 1036.1031, 1041.1859, 1046.2687  …  5951.2037, 5956.2865, 5961.3694, 5966.4522, 5971.535, 5976.6179, 5981.7007, 5986.7835, 5991.8664, 5996.9492], [5233, 56062, 106890, 157718, 208547, 259375, 310203, 361032, 411860, 462688  …  49512038, 49562866, 49613695, 49664523, 49715351, 49766180, 49817008, 49867836, 49918665, 49969493])"
      ]
     },
     "metadata": {},
     "output_type": "display_data"
    }
   ],
   "source": [
    "timeseries = [sol[:, 3], trange]\n",
    "glob_maxs , trange_glob_maxs, indexs_global_max = global_max(timeseries, 1e-2)"
   ]
  },
  {
   "cell_type": "code",
   "execution_count": 26,
   "metadata": {},
   "outputs": [
    {
     "data": {
      "text/plain": [
       "Int64[]"
      ]
     },
     "metadata": {},
     "output_type": "display_data"
    }
   ],
   "source": [
    "count_global_max = length(indexs_global_max)-1\n",
    "range_global_max = range(1, count_global_max, step = 1)\n",
    "max_count_turns = Int64[]"
   ]
  },
  {
   "cell_type": "code",
   "execution_count": 27,
   "metadata": {},
   "outputs": [],
   "source": [
    "for i in range_global_max\n",
    "    index_global_max = indexs_global_max[i]\n",
    "    timelabel = interval_turns(timeseries, index_global_max, fp)\n",
    "    local_maxs,trange_local_maxs, idxs = local_max(sol, index_global_max, timelabel)\n",
    "    push!(max_count_turns, length(local_maxs) - 1)\n",
    "end"
   ]
  },
  {
   "cell_type": "code",
   "execution_count": 28,
   "metadata": {},
   "outputs": [
    {
     "data": {
      "text/plain": [
       "4"
      ]
     },
     "metadata": {},
     "output_type": "display_data"
    }
   ],
   "source": [
    "maximum(max_count_turns)"
   ]
  },
  {
   "cell_type": "code",
   "execution_count": 29,
   "metadata": {},
   "outputs": [
    {
     "data": {
      "text/plain": [
       "49938345"
      ]
     },
     "metadata": {},
     "output_type": "display_data"
    }
   ],
   "source": [
    "number_global_max = length(indexs_global_max)-1\n",
    "index_global_max = indexs_global_max[number_global_max]\n",
    "timelabel = interval_turns(timeseries, index_global_max, fp)"
   ]
  },
  {
   "cell_type": "code",
   "execution_count": 18,
   "metadata": {},
   "outputs": [
    {
     "name": "stdout",
     "output_type": "stream",
     "text": [
      "Number of turns: 4\n"
     ]
    }
   ],
   "source": [
    "local_maxs,trange_local_maxs, idxs = local_max(sol, index_global_max, timelabel)\n",
    "println(\"Number of turns: $(length(local_maxs) - 1)\")"
   ]
  },
  {
   "cell_type": "code",
   "execution_count": null,
   "metadata": {},
   "outputs": [],
   "source": [
    "\"\"\"f = Figure(resolution = (900, 900))\n",
    "ax = Axis(f[1, 1])\n",
    "\n",
    "lines!(ax, sol[index_global_max:timelabel, 3], sol[index_global_max:timelabel, 2], linewidth = 0.5 )\n",
    "\n",
    "for idx in idxs    \n",
    "    scatter!(ax, sol[idx, 3], sol[idx, 2], color = :black, markersize = 5 )\n",
    "end\n",
    "\n",
    "vlines!(ax, fp[1][3], color = :blue, linewidth = 0.5)\n",
    "\n",
    "display(GLMakie.Screen(), f)\"\"\""
   ]
  },
  {
   "cell_type": "code",
   "execution_count": null,
   "metadata": {},
   "outputs": [],
   "source": [
    "\"\"\"ts, tf = index_global_max, timelabel+48000\n",
    "\n",
    "f = Figure(resolution = (width, height))\n",
    "axisE = Axis(f[1, 1], xlabel = L\"$time$\", ylabel = L\"$E$\",\n",
    "            xlabelsize = lb_size_ts, ylabelsize = lb_size_ts,\n",
    "            xticklabelsize = tck_size_ts, yticklabelsize = tck_size_ts,\n",
    "            xgridvisible = false, ygridvisible = false)\n",
    "\n",
    "axisy = Axis(f[2, 1], xlabel = L\"$time$\", ylabel = L\"$y$\",\n",
    "            xlabelsize = lb_size_ts, ylabelsize = lb_size_ts,\n",
    "            xticklabelsize = tck_size_ts, yticklabelsize = tck_size_ts,\n",
    "            xgridvisible = false, ygridvisible = false)\n",
    "\n",
    "lines!(axisE, trange[ts:tf], sol[ts:tf, 1], linewidth = 1.5, color = :deeppink)\n",
    "scatter!(axisE, trange_local_maxs, local_maxs)\n",
    "vlines!(axisE,  trange[timelabel, 1])\n",
    "\n",
    "lines!(axisy, trange[ts:tf], sol[ts:tf, 3], linewidth = 1.5, color = :deeppink)\n",
    "vlines!(axisy,  trange[timelabel, 1])\n",
    "\n",
    "\n",
    "hlines!(axisy, fp[1][3], color = :green)\n",
    "hlines!(axisE, fp[1][1], color = :green)\n",
    "\n",
    "display(GLMakie.Screen(), f)\n",
    "#display(f)\"\"\""
   ]
  },
  {
   "cell_type": "code",
   "execution_count": 30,
   "metadata": {},
   "outputs": [
    {
     "data": {
      "text/plain": [
       "GLMakie.Screen(...)"
      ]
     },
     "metadata": {},
     "output_type": "display_data"
    }
   ],
   "source": [
    "ts, tf = index_global_max, timelabel\n",
    "#tscon, tfcon = timelabel, timelabel + 100\n",
    "idx, idy, idz = 2, 3, 1\n",
    "dis  = 60;\n",
    "\n",
    "f = Figure(resolution = (700, 700))\n",
    "ax = LScene(f[1, 1], show_axis = true)\n",
    "    \n",
    "scale!(ax.scene, 50, 50, 1)\n",
    "\n",
    "lines!(sol[ts:tf, idx], sol[ts:tf, idy], sol[ts:tf, idz], linewidth = 1.0, color = :black)\n",
    "\n",
    "lines!(sol[index_global_max:idxs[2], idx], sol[index_global_max:idxs[2], idy], sol[index_global_max:idxs[2], idz], linewidth = 1.0, color = :green)\n",
    "lines!(sol[idxs[2]:idxs[3], idx], sol[idxs[2]:idxs[3], idy], sol[idxs[2]:idxs[3], idz], linewidth = 1.0, color = :orange)\n",
    "lines!(sol[idxs[3]:idxs[4], idx], sol[idxs[3]:idxs[4], idy], sol[idxs[3]:idxs[4], idz], linewidth = 1.0, color = :deeppink)\n",
    "lines!(sol[idxs[4]:idxs[5], idx], sol[idxs[4]:idxs[5], idy], sol[idxs[4]:idxs[5], idz], linewidth = 1.0, color = :lime)\n",
    "#lines!(sol[idxs[5]:idxs[6], idx], sol[idxs[5]:idxs[6], idy], sol[idxs[5]:idxs[6], idz], linewidth = 1.0, color = :magenta)\n",
    "\n",
    "\n",
    "\n",
    "\n",
    "for (i, ep) in enumerate(fp)\n",
    "    scatter!(ep[idx], ep[idy], ep[idz], color = :blue, markersize = 8)\n",
    "end\n",
    "\n",
    "scatter!(ax, sol[indexs_global_max[number_global_max], idx], sol[indexs_global_max[number_global_max], idy], sol[indexs_global_max[number_global_max], idz], color = :green, markersize = 8)\n",
    "\n",
    "for id in idxs    \n",
    "    scatter!(ax, sol[id, idx], sol[id, idy], sol[id, idz], color = :red, markersize = 8 )\n",
    "end\n",
    "\n",
    "display(GLMakie.Screen(), f)"
   ]
  }
 ],
 "metadata": {
  "kernelspec": {
   "display_name": "Julia 1.9.1",
   "language": "julia",
   "name": "julia-1.9"
  },
  "language_info": {
   "file_extension": ".jl",
   "mimetype": "application/julia",
   "name": "julia",
   "version": "1.9.1"
  },
  "orig_nbformat": 4
 },
 "nbformat": 4,
 "nbformat_minor": 2
}
