{
 "cells": [
  {
   "cell_type": "code",
   "execution_count": 1,
   "metadata": {},
   "outputs": [
    {
     "name": "stderr",
     "output_type": "stream",
     "text": [
      "\u001b[32m\u001b[1m  Activating\u001b[22m\u001b[39m project at `C:\\Users\\Alex\\Desktop\\dynamical-systems\\env\\integrate`"
     ]
    },
    {
     "name": "stderr",
     "output_type": "stream",
     "text": [
      "\n"
     ]
    }
   ],
   "source": [
    "username = \"Alex\"\n",
    "pathtorepo = \"C:\\\\Users\\\\\" *username *  \"\\\\Desktop\\\\\"\n",
    "using Pkg\n",
    "Pkg.activate(pathtorepo * \"dynamical-systems\\\\env\\\\integrate\\\\\")\n",
    "include(pathtorepo * \"dynamical-systems\\\\system.jl\")\n",
    "\n",
    "\n",
    "using StaticArrays, DifferentialEquations, DynamicalSystems, JLD\n",
    "E, x, y  = -40..40, -5..5,  -5..5\n",
    "box = E × x × y\n",
    "using CairoMakie, GLMakie\n",
    "using LinearAlgebra"
   ]
  },
  {
   "cell_type": "code",
   "execution_count": 2,
   "metadata": {},
   "outputs": [],
   "source": [
    "const τ = 0.013;  const τD = 0.07993;  const τy = 3.3;  const J = 3.07;  const β = 0.300\n",
    "const xthr = 0.75; const ythr = 0.4; const α = 1.58; const ΔU0 = 0.305;"
   ]
  },
  {
   "cell_type": "code",
   "execution_count": 3,
   "metadata": {},
   "outputs": [],
   "source": [
    "t = 1500; tt = 1500; tstep = 0.001; tspan = [time, tt]\n",
    "integ_set = (alg = Vern9(), adaptive = true, abstol = 1e-15, reltol = 1e-15);"
   ]
  },
  {
   "cell_type": "code",
   "execution_count": 4,
   "metadata": {},
   "outputs": [],
   "source": [
    "I0 = -1.702; U0 = 0.265\n",
    "p = SA[α, τ, τD, τy, J, xthr, ythr, U0, ΔU0, β, I0]\n",
    "u0 = [11.325905642223786, 0.6594706953104683, 0.4863175026548461];"
   ]
  },
  {
   "cell_type": "code",
   "execution_count": 5,
   "metadata": {},
   "outputs": [
    {
     "data": {
      "text/plain": [
       "3-dimensional CoupledODEs\n",
       " deterministic: true\n",
       " discrete time: false\n",
       " in-place:      false\n",
       " dynamic rule:  TM\n",
       " ODE solver:    Vern9\n",
       " ODE kwargs:    (adaptive = true, abstol = 1.0e-15, reltol = 1.0e-15)\n",
       " parameters:    [1.58, 0.013, 0.07993, 3.3, 3.07, 0.75, 0.4, 0.265, 0.305, 0.3, -1.702]\n",
       " time:          0.0\n",
       " state:         [11.325905642223786, 0.6594706953104683, 0.4863175026548461]\n"
      ]
     },
     "metadata": {},
     "output_type": "display_data"
    }
   ],
   "source": [
    "ds = CoupledODEs(TM, u0, p, diffeq = integ_set)"
   ]
  },
  {
   "cell_type": "code",
   "execution_count": 6,
   "metadata": {},
   "outputs": [
    {
     "name": "stdout",
     "output_type": "stream",
     "text": [
      "fixed point with shift along stable manifold: [8.35127932322883, 0.7384633629560452, 0.4381456557568356]\n"
     ]
    }
   ],
   "source": [
    "fp, ei, _ = fixedpoints(ds, box, jacob_TM_)\n",
    "\n",
    "index_fp = 1\n",
    "index_vec = 1\n",
    "ϵ = 1e-9\n",
    "\n",
    "Jac = jacob_TM_(fp[index_fp], p, 0)\n",
    "eivecs = eigvecs(Jac)\n",
    "shift =  fp[index_fp] + real(eivecs[:, index_vec])*ϵ\n",
    "println(\"fixed point with shift along stable manifold: $(shift)\")"
   ]
  },
  {
   "cell_type": "code",
   "execution_count": 39,
   "metadata": {},
   "outputs": [
    {
     "data": {
      "text/plain": [
       "3-element Vector{ComplexF64}:\n",
       " -6.408846522360701 + 0.0im\n",
       "   2.14926644562012 - 13.807249654267821im\n",
       "   2.14926644562012 + 13.807249654267821im"
      ]
     },
     "metadata": {},
     "output_type": "display_data"
    }
   ],
   "source": [
    "ei[1]"
   ]
  },
  {
   "cell_type": "code",
   "execution_count": 35,
   "metadata": {},
   "outputs": [
    {
     "data": {
      "text/plain": [
       "3×3 SMatrix{3, 3, ComplexF64, 9} with indices SOneTo(3)×SOneTo(3):\n",
       "   0.998722+0.0im     0.999855-0.0im            0.999855+0.0im\n",
       " -0.0491193+0.0im   -0.0141637-0.00933177im   -0.0141637+0.00933177im\n",
       "  0.0119078+0.0im  0.000708384-0.00164424im  0.000708384+0.00164424im"
      ]
     },
     "metadata": {},
     "output_type": "display_data"
    }
   ],
   "source": [
    "eivecs"
   ]
  },
  {
   "cell_type": "code",
   "execution_count": 37,
   "metadata": {},
   "outputs": [
    {
     "data": {
      "text/plain": [
       "3-element SVector{3, ComplexF64} with indices SOneTo(3):\n",
       "    0.9987219346344215 + 0.0im\n",
       " -0.049119256347767946 + 0.0im\n",
       "  0.011907809870860554 + 0.0im"
      ]
     },
     "metadata": {},
     "output_type": "display_data"
    }
   ],
   "source": [
    "eivecs[:, 1]"
   ]
  },
  {
   "cell_type": "code",
   "execution_count": 41,
   "metadata": {},
   "outputs": [
    {
     "data": {
      "text/plain": [
       "Eigen{ComplexF64, ComplexF64, SMatrix{3, 3, ComplexF64, 9}, SVector{3, ComplexF64}}\n",
       "values:\n",
       "3-element SVector{3, ComplexF64} with indices SOneTo(3):\n",
       " -6.408846522360701 + 0.0im\n",
       "   2.14926644562012 - 13.807249654267821im\n",
       "   2.14926644562012 + 13.807249654267821im\n",
       "vectors:\n",
       "3×3 SMatrix{3, 3, ComplexF64, 9} with indices SOneTo(3)×SOneTo(3):\n",
       "   0.998722+0.0im     0.999855-0.0im            0.999855+0.0im\n",
       " -0.0491193+0.0im   -0.0141637-0.00933177im   -0.0141637+0.00933177im\n",
       "  0.0119078+0.0im  0.000708384-0.00164424im  0.000708384+0.00164424im"
      ]
     },
     "metadata": {},
     "output_type": "display_data"
    }
   ],
   "source": [
    "eigen_ = eigen(Jac)"
   ]
  },
  {
   "cell_type": "code",
   "execution_count": 46,
   "metadata": {},
   "outputs": [
    {
     "data": {
      "text/plain": [
       "3-element SVector{3, Float64} with indices SOneTo(3):\n",
       "  0.9998545402866598\n",
       " -0.014163718853683456\n",
       "  0.0007083836064604048"
      ]
     },
     "metadata": {},
     "output_type": "display_data"
    }
   ],
   "source": [
    "real(eigen_.vectors[:, 2])"
   ]
  },
  {
   "cell_type": "code",
   "execution_count": 51,
   "metadata": {},
   "outputs": [
    {
     "data": {
      "text/plain": [
       "3-element SVector{3, Float64} with indices SOneTo(3):\n",
       "  0.9998994295439241\n",
       " -0.014164354744999467\n",
       "  0.0007084154099004763"
      ]
     },
     "metadata": {},
     "output_type": "display_data"
    }
   ],
   "source": [
    "normalize(real(eigen_.vectors[:, 2]))"
   ]
  },
  {
   "cell_type": "code",
   "execution_count": 57,
   "metadata": {},
   "outputs": [
    {
     "data": {
      "text/plain": [
       "3-element SVector{3, Float64} with indices SOneTo(3):\n",
       " 0.0\n",
       " 0.9848294156903254\n",
       " 0.1735252776717331"
      ]
     },
     "metadata": {},
     "output_type": "display_data"
    }
   ],
   "source": [
    "normalize(imag(eigen_.vectors[:, 3]))"
   ]
  },
  {
   "cell_type": "code",
   "execution_count": 60,
   "metadata": {},
   "outputs": [
    {
     "ename": "ErrorException",
     "evalue": "syntax: missing comma or ) in argument list",
     "output_type": "error",
     "traceback": [
      "syntax: missing comma or ) in argument list\n",
      "\n",
      "Stacktrace:\n",
      " [1] top-level scope\n",
      "   @ c:\\Users\\Alex\\Desktop\\dynamical-systems\\Tsodyks Markram\\Levanova\\3 набор параметров\\Number of turns\\1d map.ipynb:1"
     ]
    }
   ],
   "source": [
    "# Матрица из собственных векторов по столбцам imag от третьего вектора, real от 1 и 2"
   ]
  },
  {
   "cell_type": "code",
   "execution_count": 7,
   "metadata": {},
   "outputs": [
    {
     "name": "stdout",
     "output_type": "stream",
     "text": [
      "Length sol: 1500001\n"
     ]
    }
   ],
   "source": [
    "ds = CoupledODEs(TM, shift, p, diffeq = integ_set)\n",
    "sol, trange = trajectory(ds, t, Ttr = tt, Δt = tstep)\n",
    "println(\"Length sol: $(length(sol))\");"
   ]
  },
  {
   "cell_type": "code",
   "execution_count": 8,
   "metadata": {},
   "outputs": [],
   "source": [
    "lb_size_ts = 30; tck_size_ts = 25\n",
    "width = 2000; height = 800;"
   ]
  },
  {
   "cell_type": "code",
   "execution_count": 31,
   "metadata": {},
   "outputs": [
    {
     "data": {
      "text/plain": [
       "check_hom (generic function with 2 methods)"
      ]
     },
     "metadata": {},
     "output_type": "display_data"
    }
   ],
   "source": [
    "function global_max(timesereis, ϵ = 1e-2)\n",
    "\n",
    "    tr, trange = timeseries\n",
    "    glob_maxs, trange_glob_maxs = Float64[], Float64[]\n",
    "    real_global_max =floor(maximum(tr), digits = 3)\n",
    "    idxs = Int64[]\n",
    "    \n",
    "    for idx in range(2, length(tr) - 1, step = 1)\n",
    "        if tr[idx-1] < tr[idx] > tr[idx+1]\n",
    "            if abs(tr[idx] -real_global_max) < ϵ\n",
    "                push!(glob_maxs, tr[idx])\n",
    "                push!(trange_glob_maxs, trange[idx])\n",
    "                push!(idxs, idx)\n",
    "            end\n",
    "        end\n",
    "    end\n",
    "\n",
    "    return glob_maxs,trange_glob_maxs, idxs\n",
    "end\n",
    "function interval_turns(timeseries, index, fp)\n",
    "\n",
    "    tr, trange = timeseries\n",
    "    \n",
    "    flag = false\n",
    "    timelabel = 0\n",
    "    \n",
    "    while flag == false\n",
    "        index+=1\n",
    "        if sol[index, 3] <= fp[1][3]\n",
    "            timelabel = index - 1\n",
    "            break\n",
    "        end\n",
    "    end\n",
    "    return timelabel\n",
    "end\n",
    "function local_max(sol, index_global_max, timelabel)\n",
    "   \n",
    "    index = index_global_max\n",
    "    local_maxs, trange_local_maxs = Float64[], Float64[]\n",
    "    idxs = Int64[]\n",
    "    \n",
    "    while index <= timelabel\n",
    "\n",
    "        if sol[index-1, 1] < sol[index, 1] > sol[index+1, 1]\n",
    "            push!(local_maxs, sol[index, 1])\n",
    "            push!(trange_local_maxs, trange[index])\n",
    "            push!(idxs, index)\n",
    "        end\n",
    "\n",
    "        index+=1\n",
    "    end\n",
    "    index-=1\n",
    "\n",
    "    return  local_maxs,trange_local_maxs, idxs\n",
    "end\n",
    "\n",
    "function check_hom(sol, fp, ϵ = 1e-3)\n",
    "    \n",
    "    for i in range(1, length(sol), step = 1)\n",
    "        if distance(sol[i], fp[1]) <= ϵ\n",
    "            return true\n",
    "            break\n",
    "        end\n",
    "\n",
    "    end\n",
    "    return false\n",
    "end"
   ]
  },
  {
   "cell_type": "code",
   "execution_count": 32,
   "metadata": {},
   "outputs": [
    {
     "data": {
      "text/plain": [
       "distance (generic function with 1 method)"
      ]
     },
     "metadata": {},
     "output_type": "display_data"
    }
   ],
   "source": [
    "function distance(pointA, pointB)\n",
    "    return sqrt( (pointA[1] - pointB[1])^2 + (pointA[2] - pointB[2])^2 + (pointA[3] - pointB[3])^2 )\n",
    "end"
   ]
  },
  {
   "cell_type": "code",
   "execution_count": 33,
   "metadata": {},
   "outputs": [
    {
     "data": {
      "text/plain": [
       "false"
      ]
     },
     "metadata": {},
     "output_type": "display_data"
    }
   ],
   "source": [
    "check_hom(sol, fp)"
   ]
  },
  {
   "cell_type": "code",
   "execution_count": 10,
   "metadata": {},
   "outputs": [
    {
     "data": {
      "text/plain": [
       "2-element Vector{AbstractVector{Float64}}:\n",
       " [0.5600016673260375, 0.5598419338452583, 0.5596824163772047, 0.5595231214957459, 0.5593640558600986, 0.5592052262179555, 0.5590466394087509, 0.5588883023661656, 0.5587302221208549, 0.5585724058026897  …  0.5067984736353885, 0.506937931208998, 0.5070773407184594, 0.5072167021588159, 0.5073560155250357, 0.507495280812546, 0.5076344980167194, 0.5077736671333908, 0.5079127881583257, 0.5080518610877389]\n",
       " 1500.0:0.001:3000.0"
      ]
     },
     "metadata": {},
     "output_type": "display_data"
    }
   ],
   "source": [
    "timeseries = [sol[:, 3], trange]"
   ]
  },
  {
   "cell_type": "code",
   "execution_count": 104,
   "metadata": {},
   "outputs": [
    {
     "data": {
      "text/plain": [
       "([0.5723694814219829, 0.5753400594507811, 0.5723694826537408, 0.5753400603766905, 0.5723694808266685, 0.5753400582564042, 0.5723694777036131, 0.5753400560182861, 0.572369481684595, 0.5753400596820257  …  0.5723694792633949, 0.5753400574784475, 0.572369482297593, 0.5753400601993286, 0.5723694822739487, 0.5753400598750134, 0.5723694791907828, 0.5753400565038161, 0.5723694797075575, 0.5753400578904609], [500.8336, 505.1084, 509.336, 513.6108, 517.8384, 522.1132, 526.3407, 530.6155, 534.8431, 539.1179  …  959.9618, 964.2366, 968.4642, 972.739, 976.9666, 981.2414, 985.469, 989.7438, 993.9713, 998.2461], [8337, 51085, 93361, 136109, 178385, 221133, 263408, 306156, 348432, 391180  …  4599619, 4642367, 4684643, 4727391, 4769667, 4812415, 4854691, 4897439, 4939714, 4982462])"
      ]
     },
     "metadata": {},
     "output_type": "display_data"
    }
   ],
   "source": [
    "glob_maxs , trange_glob_maxs, indexs_global_max = global_max(timeseries, 1e-2)"
   ]
  },
  {
   "cell_type": "code",
   "execution_count": null,
   "metadata": {},
   "outputs": [],
   "source": [
    "number_global_max = 40\n",
    "index_global_max = indexs_global_max[number_global_max]\n",
    "timelabel = interval_turns(timeseries, index_global_max, fp)"
   ]
  },
  {
   "cell_type": "code",
   "execution_count": null,
   "metadata": {},
   "outputs": [],
   "source": [
    "local_maxs,trange_local_maxs, idxs = local_max(sol, index_global_max, timelabel)\n",
    "println(\"Number of turns: $(length(local_maxs) - 1)\")"
   ]
  },
  {
   "cell_type": "code",
   "execution_count": 105,
   "metadata": {},
   "outputs": [
    {
     "data": {
      "text/plain": [
       "Int64[]"
      ]
     },
     "metadata": {},
     "output_type": "display_data"
    }
   ],
   "source": [
    "count_global_max = length(indexs_global_max)-1\n",
    "range_global_max = range(1, count_global_max, step = 1)\n",
    "max_count_turns = Int64[]"
   ]
  },
  {
   "cell_type": "code",
   "execution_count": 106,
   "metadata": {},
   "outputs": [],
   "source": [
    "for i in range_global_max\n",
    "    index_global_max = indexs_global_max[i]\n",
    "    timelabel = interval_turns(timeseries, index_global_max, fp)\n",
    "    local_maxs,trange_local_maxs, idxs = local_max(sol, index_global_max, timelabel)\n",
    "    push!(max_count_turns, length(local_maxs) - 1)\n",
    "end"
   ]
  },
  {
   "cell_type": "code",
   "execution_count": 107,
   "metadata": {},
   "outputs": [
    {
     "data": {
      "text/plain": [
       "4"
      ]
     },
     "metadata": {},
     "output_type": "display_data"
    }
   ],
   "source": [
    "maximum(max_count_turns)"
   ]
  },
  {
   "cell_type": "code",
   "execution_count": 32,
   "metadata": {},
   "outputs": [
    {
     "data": {
      "text/plain": [
       "GLMakie.Screen(...)"
      ]
     },
     "metadata": {},
     "output_type": "display_data"
    }
   ],
   "source": [
    "ts, tf = 1,200000\n",
    "\n",
    "f = Figure(resolution = (width, height))\n",
    "axisE = Axis(f[1, 1], xlabel = L\"$time$\", ylabel = L\"$E$\",\n",
    "            xlabelsize = lb_size_ts, ylabelsize = lb_size_ts,\n",
    "            xticklabelsize = tck_size_ts, yticklabelsize = tck_size_ts,\n",
    "            xgridvisible = false, ygridvisible = false)\n",
    "\n",
    "axisy = Axis(f[2, 1], xlabel = L\"$time$\", ylabel = L\"$y$\",\n",
    "            xlabelsize = lb_size_ts, ylabelsize = lb_size_ts,\n",
    "            xticklabelsize = tck_size_ts, yticklabelsize = tck_size_ts,\n",
    "            xgridvisible = false, ygridvisible = false)\n",
    "\n",
    "lines!(axisE, trange[ts:tf], sol[ts:tf, 1], linewidth = 1.5, color = :deeppink)\n",
    "lines!(axisy, trange[ts:tf], sol[ts:tf, 3], linewidth = 1.5, color = :deeppink)\n",
    "hlines!(axisy, fp[1][3], color = :green)\n",
    "hlines!(axisE, fp[1][1], color = :green)\n",
    "\n",
    "display(GLMakie.Screen(), f)\n",
    "#display(f)"
   ]
  },
  {
   "cell_type": "code",
   "execution_count": 92,
   "metadata": {},
   "outputs": [
    {
     "data": {
      "text/plain": [
       "15000001"
      ]
     },
     "metadata": {},
     "output_type": "display_data"
    }
   ],
   "source": [
    "length(sol)"
   ]
  },
  {
   "cell_type": "code",
   "execution_count": 34,
   "metadata": {},
   "outputs": [
    {
     "data": {
      "text/plain": [
       "GLMakie.Screen(...)"
      ]
     },
     "metadata": {},
     "output_type": "display_data"
    }
   ],
   "source": [
    "ts, tf = 1, 1500000\n",
    "idx, idy, idz = 2, 3, 1\n",
    "dis  = 60;\n",
    "\n",
    "f = Figure(resolution = (700, 700))\n",
    "ax = LScene(f[1, 1], show_axis = true)\n",
    "    \n",
    "scale!(ax.scene, 50, 50, 1)\n",
    "\n",
    "lines!(sol[ts:tf, idx], sol[ts:tf, idy], sol[ts:tf, idz], linewidth = 1.0, color = :black)\n",
    "\n",
    "for (i, ep) in enumerate(fp)\n",
    "    scatter!(ep[idx], ep[idy], ep[idz], color = :blue, markersize = 8)\n",
    "end\n",
    "\n",
    "display(GLMakie.Screen(), f)"
   ]
  },
  {
   "cell_type": "code",
   "execution_count": null,
   "metadata": {},
   "outputs": [],
   "source": []
  },
  {
   "cell_type": "code",
   "execution_count": 40,
   "metadata": {},
   "outputs": [
    {
     "data": {
      "text/plain": [
       "GLMakie.Screen(...)"
      ]
     },
     "metadata": {},
     "output_type": "display_data"
    }
   ],
   "source": [
    "ts, tf = index_global_max, timelabel\n",
    "#tscon, tfcon = timelabel, timelabel + 100\n",
    "idx, idy, idz = 2, 3, 1\n",
    "dis  = 60;\n",
    "\n",
    "f = Figure(resolution = (700, 700))\n",
    "ax = LScene(f[1, 1], show_axis = true)\n",
    "    \n",
    "scale!(ax.scene, 50, 50, 1)\n",
    "\n",
    "lines!(sol[ts:tf, idx], sol[ts:tf, idy], sol[ts:tf, idz], linewidth = 1.0, color = :black)\n",
    "\n",
    "lines!(sol[index_global_max:idxs[2], idx], sol[index_global_max:idxs[2], idy], sol[index_global_max:idxs[2], idz], linewidth = 1.0, color = :green)\n",
    "lines!(sol[idxs[2]:idxs[3], idx], sol[idxs[2]:idxs[3], idy], sol[idxs[2]:idxs[3], idz], linewidth = 1.0, color = :orange)\n",
    "lines!(sol[idxs[3]:idxs[4], idx], sol[idxs[3]:idxs[4], idy], sol[idxs[3]:idxs[4], idz], linewidth = 1.0, color = :deeppink)\n",
    "lines!(sol[idxs[4]:idxs[5], idx], sol[idxs[4]:idxs[5], idy], sol[idxs[4]:idxs[5], idz], linewidth = 1.0, color = :lime)\n",
    "#lines!(sol[idxs[5]:idxs[6], idx], sol[idxs[5]:idxs[6], idy], sol[idxs[5]:idxs[6], idz], linewidth = 1.0, color = :magenta)\n",
    "\n",
    "\n",
    "\n",
    "\n",
    "for (i, ep) in enumerate(fp)\n",
    "    scatter!(ep[idx], ep[idy], ep[idz], color = :blue, markersize = 8)\n",
    "end\n",
    "\n",
    "scatter!(ax, sol[indexs_global_max[number_global_max], idx], sol[indexs_global_max[number_global_max], idy], sol[indexs_global_max[number_global_max], idz], color = :green, markersize = 8)\n",
    "\n",
    "for id in idxs    \n",
    "    scatter!(ax, sol[id, idx], sol[id, idy], sol[id, idz], color = :red, markersize = 8 )\n",
    "end\n",
    "\n",
    "display(GLMakie.Screen(), f)"
   ]
  }
 ],
 "metadata": {
  "kernelspec": {
   "display_name": "Julia 1.9.1",
   "language": "julia",
   "name": "julia-1.9"
  },
  "language_info": {
   "file_extension": ".jl",
   "mimetype": "application/julia",
   "name": "julia",
   "version": "1.9.1"
  },
  "orig_nbformat": 4
 },
 "nbformat": 4,
 "nbformat_minor": 2
}
