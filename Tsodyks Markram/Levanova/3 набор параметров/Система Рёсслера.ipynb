{
 "cells": [
  {
   "cell_type": "code",
   "execution_count": 1,
   "id": "95365e8a",
   "metadata": {},
   "outputs": [
    {
     "name": "stderr",
     "output_type": "stream",
     "text": [
      "\u001b[32m\u001b[1m  Activating\u001b[22m\u001b[39m project at `C:\\Users\\Alex\\Desktop\\dynamical-systems\\env\\integrate`\n"
     ]
    }
   ],
   "source": [
    "pathtorepo = \"C:\\\\Users\\\\Alex\\\\Desktop\\\\\"\n",
    "\n",
    "using Pkg\n",
    "Pkg.activate(pathtorepo * \"dynamical-systems\\\\env\\\\integrate\\\\\")\n",
    "\n",
    "using StaticArrays, DifferentialEquations, DynamicalSystems\n",
    "\n",
    "x, y, z  = -10..10, -10..10,  -10..10\n",
    "box = x × y × z\n",
    "\n",
    "using CairoMakie\n",
    "using GLMakie\n",
    "using ForwardDiff\n",
    "using LinearAlgebra"
   ]
  },
  {
   "cell_type": "code",
   "execution_count": 2,
   "id": "39e21e6c",
   "metadata": {},
   "outputs": [
    {
     "data": {
      "text/plain": [
       "jac_res (generic function with 1 method)"
      ]
     },
     "execution_count": 2,
     "metadata": {},
     "output_type": "execute_result"
    }
   ],
   "source": [
    "@inbounds function Res(u, p, t)\n",
    "    du1 = -u[2]-u[3]\n",
    "    du2 = u[1]+p[1]*u[2]\n",
    "    du3 = p[2]*u[1]-p[3]*u[3]+u[1]*u[3]\n",
    "    return SVector(du1, du2, du3)\n",
    "end\n",
    "@inbounds function jac_res(u, p, t)\n",
    "    SMatrix{3, 3}(0.0, 1.0, p[2]+u[3],\n",
    "                -1.0, p[1], 0.0,\n",
    "                -1.0, 0.0, -p[3]+u[1])\n",
    "end"
   ]
  },
  {
   "cell_type": "code",
   "execution_count": 3,
   "id": "2da8cb49",
   "metadata": {},
   "outputs": [
    {
     "data": {
      "text/plain": [
       "(alg = Vern9(stage_limiter! = trivial_limiter!, step_limiter! = trivial_limiter!, thread = static(false), lazy = true), adaptive = false, dt = 0.001)"
      ]
     },
     "execution_count": 3,
     "metadata": {},
     "output_type": "execute_result"
    }
   ],
   "source": [
    "time_set = (t = 500, Ttr = 250, tstep = 0.001)\n",
    "integ_set = (alg = Vern9(), adaptive = false, dt = time_set.tstep)"
   ]
  },
  {
   "cell_type": "code",
   "execution_count": 86,
   "id": "7a5db5e2",
   "metadata": {},
   "outputs": [],
   "source": [
    " b = 0.3;  c = 4.89; a = 0.35;"
   ]
  },
  {
   "cell_type": "code",
   "execution_count": 87,
   "id": "790adb2d",
   "metadata": {},
   "outputs": [
    {
     "data": {
      "text/plain": [
       "3-dimensional CoupledODEs\n",
       " deterministic: true\n",
       " discrete time: false\n",
       " in-place:      false\n",
       " dynamic rule:  Res\n",
       " ODE solver:    Vern9\n",
       " ODE kwargs:    (adaptive = false, dt = 0.001)\n",
       " parameters:    [0.35, 0.3, 4.89]\n",
       " time:          0.0\n",
       " state:         [0.13060105886751308, 0.4782615699018184, 0.7435866656901606]\n"
      ]
     },
     "execution_count": 87,
     "metadata": {},
     "output_type": "execute_result"
    }
   ],
   "source": [
    "u0 = SA[0.13060105886751308, 0.4782615699018184, 0.7435866656901606]\n",
    "p = [a, b, c]\n",
    "ds = CoupledODEs(Res, u0, p, diffeq = integ_set)"
   ]
  },
  {
   "cell_type": "code",
   "execution_count": 88,
   "id": "900724af",
   "metadata": {},
   "outputs": [
    {
     "data": {
      "text/plain": [
       "(3-dimensional StateSpaceSet{Float64} with 1 points, Vector{ComplexF64}[[-4.8302785210864085 + 0.0im, 0.1451392605432047 - 0.9846627344351879im, 0.1451392605432047 + 0.9846627344351879im]], Bool[0])"
      ]
     },
     "execution_count": 88,
     "metadata": {},
     "output_type": "execute_result"
    }
   ],
   "source": [
    "fp, ei, _ = fixedpoints(ds, box, jac_res)"
   ]
  },
  {
   "cell_type": "code",
   "execution_count": 89,
   "id": "5d7e7823",
   "metadata": {},
   "outputs": [
    {
     "data": {
      "text/plain": [
       "3-element SVector{3, Float64} with indices SOneTo(3):\n",
       "  1.9510202110332117e-24\n",
       " -3.7662457782753524e-25\n",
       "  9.800595597386729e-24"
      ]
     },
     "execution_count": 89,
     "metadata": {},
     "output_type": "execute_result"
    }
   ],
   "source": [
    "Jacobian = jac_res(fp[1], p, 0)\n",
    "eivecs = eigvecs(Jacobian)\n",
    "vec_stable = real(eivecs[:, 1])\n",
    "ϵ = 1e-23\n",
    "shift = SA[0.0, 0.0, 0.0] + vec_stable*ϵ"
   ]
  },
  {
   "cell_type": "code",
   "execution_count": 90,
   "id": "57a725f5",
   "metadata": {},
   "outputs": [
    {
     "data": {
      "text/plain": [
       "Jacobi (generic function with 1 method)"
      ]
     },
     "execution_count": 90,
     "metadata": {},
     "output_type": "execute_result"
    }
   ],
   "source": [
    "Jacobi(u0, p, t) = ForwardDiff.jacobian((x) -> Res(x, p, 0), u0)"
   ]
  },
  {
   "cell_type": "code",
   "execution_count": 91,
   "id": "a95f625c",
   "metadata": {},
   "outputs": [
    {
     "data": {
      "text/plain": [
       "\u001b[38;2;86;182;194mODEProblem\u001b[0m with uType \u001b[38;2;86;182;194mSVector{3, Float64}\u001b[0m and tType \u001b[38;2;86;182;194mFloat64\u001b[0m. In-place: \u001b[38;2;86;182;194mfalse\u001b[0m\n",
       "timespan: (0.0, 1000.0)\n",
       "u0: 3-element SVector{3, Float64} with indices SOneTo(3):\n",
       "  1.9510202110332117e-24\n",
       " -3.7662457782753524e-25\n",
       "  9.800595597386729e-24"
      ]
     },
     "execution_count": 91,
     "metadata": {},
     "output_type": "execute_result"
    }
   ],
   "source": [
    "prob = ODEProblem(Res, shift, (0.0, 1000.0),p)"
   ]
  },
  {
   "cell_type": "code",
   "execution_count": 94,
   "id": "a4f61162",
   "metadata": {},
   "outputs": [],
   "source": [
    "sol = solve(prob,alg = RK4(), adaptive = false, dt = 0.001);"
   ]
  },
  {
   "cell_type": "code",
   "execution_count": 95,
   "id": "5f9e20c5",
   "metadata": {},
   "outputs": [
    {
     "data": {
      "text/plain": [
       "GLMakie.Screen(...)"
      ]
     },
     "execution_count": 95,
     "metadata": {},
     "output_type": "execute_result"
    }
   ],
   "source": [
    "ts, tf = 1, 900000\n",
    "idx, idy, idz = 1, 2, 3\n",
    "f = Figure(resolution = (1200, 800))\n",
    "ax = LScene(f[1, 1])\n",
    "lines!(ax, sol[idx, ts:tf], sol[idy, ts:tf], sol[idz, ts:tf], linewidth = 1.0, color = :deeppink)\n",
    "#scatter!(fp[1][idx], fp[1][idy], fp[1][idz], color = :black)\n",
    "display(GLMakie.Screen(), f)"
   ]
  }
 ],
 "metadata": {
  "kernelspec": {
   "display_name": "Julia 1.8.5",
   "language": "julia",
   "name": "julia-1.8"
  },
  "language_info": {
   "file_extension": ".jl",
   "mimetype": "application/julia",
   "name": "julia",
   "version": "1.8.5"
  }
 },
 "nbformat": 4,
 "nbformat_minor": 5
}
