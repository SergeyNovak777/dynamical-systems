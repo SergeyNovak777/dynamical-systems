{
 "cells": [
  {
   "cell_type": "code",
   "execution_count": 1,
   "id": "95365e8a",
   "metadata": {},
   "outputs": [
    {
     "name": "stderr",
     "output_type": "stream",
     "text": [
      "\u001b[32m\u001b[1m  Activating\u001b[22m\u001b[39m project at `C:\\Users\\Alex\\Desktop\\repo\\2612\\0903\\dynamical-systems\\env\\integrate`"
     ]
    },
    {
     "name": "stderr",
     "output_type": "stream",
     "text": [
      "\n"
     ]
    }
   ],
   "source": [
    "pathtorepo = \"C:\\\\Users\\\\Alex\\\\Desktop\\\\repo\\\\2612\\\\0903\\\\\"\n",
    "\n",
    "using Pkg\n",
    "Pkg.activate(pathtorepo * \"dynamical-systems\\\\env\\\\integrate\\\\\")\n",
    "\n",
    "using StaticArrays, DifferentialEquations, DynamicalSystems\n",
    "using CairoMakie\n",
    "using GLMakie"
   ]
  },
  {
   "cell_type": "code",
   "execution_count": 2,
   "id": "39e21e6c",
   "metadata": {},
   "outputs": [],
   "source": [
    "@inbounds function Res(u, p, t)\n",
    "    du1 = -u[2]-u[3]\n",
    "    du2 = u[1]+p[1]*u[2]\n",
    "    du3 = p[2]*u[1]-p[3]*u[3]+u[1]*u[3]\n",
    "    return SVector(du1, du2, du3)\n",
    "end;"
   ]
  },
  {
   "cell_type": "code",
   "execution_count": 34,
   "id": "2da8cb49",
   "metadata": {},
   "outputs": [
    {
     "data": {
      "text/plain": [
       "(alg = Vern9(stage_limiter! = trivial_limiter!, step_limiter! = trivial_limiter!, thread = static(false), lazy = true), adaptive = false, dt = 0.001)"
      ]
     },
     "metadata": {},
     "output_type": "display_data"
    }
   ],
   "source": [
    "time_set = (t = 1500, Ttr = 250, tstep = 0.001)\n",
    "integ_set = (alg = Vern9(), adaptive = false, dt = time_set.tstep)"
   ]
  },
  {
   "cell_type": "code",
   "execution_count": 35,
   "id": "7a5db5e2",
   "metadata": {},
   "outputs": [],
   "source": [
    "const b = 0.3; const c = 4.9\n",
    "a = 0.35;"
   ]
  },
  {
   "cell_type": "code",
   "execution_count": 36,
   "id": "790adb2d",
   "metadata": {},
   "outputs": [
    {
     "data": {
      "text/plain": [
       "3-dimensional CoupledODEs\n",
       " deterministic: true\n",
       " discrete time: false\n",
       " in-place:      false\n",
       " dynamic rule:  Res\n",
       " ODE solver:    Vern9\n",
       " ODE kwargs:    (adaptive = false, dt = 0.001)\n",
       " parameters:    [0.35, 0.3, 4.9]\n",
       " time:          0.0\n",
       " state:         [0.13060105886751308, 0.4782615699018184, 0.7435866656901606]\n"
      ]
     },
     "metadata": {},
     "output_type": "display_data"
    }
   ],
   "source": [
    "u0 = tr[end]\n",
    "p = [a, b, c]\n",
    "ds = CoupledODEs(Res, u0, p, diffeq = integ_set)"
   ]
  },
  {
   "cell_type": "code",
   "execution_count": 37,
   "id": "8149fb22",
   "metadata": {},
   "outputs": [
    {
     "data": {
      "text/plain": [
       "(3-dimensional StateSpaceSet{Float64} with 1500001 points, 250.0:0.001:1750.0)"
      ]
     },
     "metadata": {},
     "output_type": "display_data"
    }
   ],
   "source": [
    "tr, trange = trajectory(ds, time_set.t, Δt = time_set.tstep; Ttr = time_set.Ttr)"
   ]
  },
  {
   "cell_type": "code",
   "execution_count": 39,
   "id": "4da480ca",
   "metadata": {},
   "outputs": [
    {
     "data": {
      "text/plain": [
       "GLMakie.Screen(...)"
      ]
     },
     "metadata": {},
     "output_type": "display_data"
    }
   ],
   "source": [
    "ts, tf = 1, 1500000\n",
    "idx, idy, idz = 1, 2, 3\n",
    "f = Figure(resolution = (1200, 800))\n",
    "ax = LScene(f[1, 1])\n",
    "lines!(ax, tr[ts:tf, idx], tr[ts:tf, idy], tr[ts:tf, idz], linewidth = 1.0, color = :deeppink)\n",
    "display(GLMakie.Screen(), f)"
   ]
  },
  {
   "cell_type": "code",
   "execution_count": 30,
   "id": "85e98a4c",
   "metadata": {},
   "outputs": [
    {
     "data": {
      "text/plain": [
       "GLMakie.Screen(...)"
      ]
     },
     "metadata": {},
     "output_type": "display_data"
    }
   ],
   "source": [
    "ts, tf = 1, 450000\n",
    "idx, idy = 1, 2\n",
    "f = Figure(resolution = (1200, 800))\n",
    "ax = Axis(f[1, 1])\n",
    "lines!(ax, tr[ts:tf, idx], tr[ts:tf, idy], linewidth = 1.0)\n",
    "display(GLMakie.Screen(), f)"
   ]
  }
 ],
 "metadata": {
  "kernelspec": {
   "display_name": "Julia 1.8.5",
   "language": "julia",
   "name": "julia-1.8"
  },
  "language_info": {
   "file_extension": ".jl",
   "mimetype": "application/julia",
   "name": "julia",
   "version": "1.8.5"
  }
 },
 "nbformat": 4,
 "nbformat_minor": 5
}
