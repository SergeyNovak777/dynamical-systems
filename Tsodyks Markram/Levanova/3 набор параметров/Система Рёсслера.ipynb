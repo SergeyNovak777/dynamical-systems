{
 "cells": [
  {
   "cell_type": "code",
   "execution_count": 1,
   "id": "95365e8a",
   "metadata": {},
   "outputs": [
    {
     "name": "stderr",
     "output_type": "stream",
     "text": [
      "\u001b[32m\u001b[1m  Activating\u001b[22m\u001b[39m project at `C:\\Users\\Alex\\Desktop\\dynamical-systems\\env\\integrate`\n"
     ]
    }
   ],
   "source": [
    "pathtorepo = \"C:\\\\Users\\\\Alex\\\\Desktop\\\\\"\n",
    "\n",
    "using Pkg\n",
    "Pkg.activate(pathtorepo * \"dynamical-systems\\\\env\\\\integrate\\\\\")\n",
    "\n",
    "using StaticArrays, DifferentialEquations, DynamicalSystems\n",
    "\n",
    "x, y, z  = -10..10, -10..10,  -10..10\n",
    "box = x × y × z\n",
    "\n",
    "using CairoMakie\n",
    "using GLMakie\n",
    "using ForwardDiff\n",
    "using LinearAlgebra"
   ]
  },
  {
   "cell_type": "code",
   "execution_count": 2,
   "id": "39e21e6c",
   "metadata": {},
   "outputs": [
    {
     "data": {
      "text/plain": [
       "jac_res (generic function with 1 method)"
      ]
     },
     "execution_count": 2,
     "metadata": {},
     "output_type": "execute_result"
    }
   ],
   "source": [
    "@inbounds function Res(u, p, t)\n",
    "    du1 = -u[2]-u[3]\n",
    "    du2 = u[1]+p[1]*u[2]\n",
    "    du3 = p[2]*u[1]-p[3]*u[3]+u[1]*u[3]\n",
    "    return SVector(du1, du2, du3)\n",
    "end\n",
    "@inbounds function jac_res(u, p, t)\n",
    "    SMatrix{3, 3}(0.0, 1.0, p[2]+u[3],\n",
    "                -1.0, p[1], 0.0,\n",
    "                -1.0, 0.0, -p[3]+u[1])\n",
    "end"
   ]
  },
  {
   "cell_type": "code",
   "execution_count": 10,
   "id": "2da8cb49",
   "metadata": {},
   "outputs": [
    {
     "data": {
      "text/plain": [
       "(alg = Vern9(stage_limiter! = trivial_limiter!, step_limiter! = trivial_limiter!, thread = static(false), lazy = true), abstol = 1.0e-10, reltol = 1.0e-10)"
      ]
     },
     "execution_count": 10,
     "metadata": {},
     "output_type": "execute_result"
    }
   ],
   "source": [
    "time_set = (t = 500, Ttr = 250)\n",
    "integ_set = (alg = Vern9(), abstol=1e-10, reltol=1e-10)"
   ]
  },
  {
   "cell_type": "code",
   "execution_count": 11,
   "id": "7a5db5e2",
   "metadata": {},
   "outputs": [],
   "source": [
    " b = 0.3;  c = 4.89; a = 0.35;"
   ]
  },
  {
   "cell_type": "code",
   "execution_count": 12,
   "id": "790adb2d",
   "metadata": {},
   "outputs": [
    {
     "data": {
      "text/plain": [
       "3-dimensional CoupledODEs\n",
       " deterministic: true\n",
       " discrete time: false\n",
       " in-place:      false\n",
       " dynamic rule:  Res\n",
       " ODE solver:    Vern9\n",
       " ODE kwargs:    (abstol = 1.0e-10, reltol = 1.0e-10)\n",
       " parameters:    [0.35, 0.3, 4.89]\n",
       " time:          0.0\n",
       " state:         [0.13060105886751308, 0.4782615699018184, 0.7435866656901606]\n"
      ]
     },
     "execution_count": 12,
     "metadata": {},
     "output_type": "execute_result"
    }
   ],
   "source": [
    "u0 = SA[0.13060105886751308, 0.4782615699018184, 0.7435866656901606]\n",
    "p = [a, b, c]\n",
    "ds = CoupledODEs(Res, u0, p, diffeq = integ_set)"
   ]
  },
  {
   "cell_type": "code",
   "execution_count": 13,
   "id": "900724af",
   "metadata": {},
   "outputs": [
    {
     "data": {
      "text/plain": [
       "(3-dimensional StateSpaceSet{Float64} with 1 points, Vector{ComplexF64}[[-4.8302785210864085 + 0.0im, 0.1451392605432047 - 0.9846627344351879im, 0.1451392605432047 + 0.9846627344351879im]], Bool[0])"
      ]
     },
     "execution_count": 13,
     "metadata": {},
     "output_type": "execute_result"
    }
   ],
   "source": [
    "fp, ei, _ = fixedpoints(ds, box, jac_res)"
   ]
  },
  {
   "cell_type": "code",
   "execution_count": 47,
   "id": "5d7e7823",
   "metadata": {},
   "outputs": [
    {
     "data": {
      "text/plain": [
       "3-element SVector{3, Float64} with indices SOneTo(3):\n",
       "  1.9510202110332117e-24\n",
       " -3.7662457782753524e-25\n",
       "  9.800595597386729e-24"
      ]
     },
     "execution_count": 47,
     "metadata": {},
     "output_type": "execute_result"
    }
   ],
   "source": [
    "fixedpoint = SA[0.0, 0.0, 0.0]\n",
    "\n",
    "Jacobian = jac_res(fixedpoint, p, 0)\n",
    "eivecs = eigvecs(Jacobian)\n",
    "\n",
    "vec_stable = real(eivecs[:, 1])\n",
    "ϵ = 1e-23\n",
    "\n",
    "shift = fixedpoint + vec_stable*ϵ"
   ]
  },
  {
   "cell_type": "code",
   "execution_count": 56,
   "id": "a95f625c",
   "metadata": {},
   "outputs": [
    {
     "data": {
      "text/plain": [
       "\u001b[38;2;86;182;194mODEProblem\u001b[0m with uType \u001b[38;2;86;182;194mSVector{3, Float64}\u001b[0m and tType \u001b[38;2;86;182;194mFloat64\u001b[0m. In-place: \u001b[38;2;86;182;194mfalse\u001b[0m\n",
       "timespan: (0.0, 1000.0)\n",
       "u0: 3-element SVector{3, Float64} with indices SOneTo(3):\n",
       "  1.9510202110332117e-24\n",
       " -3.7662457782753524e-25\n",
       "  9.800595597386729e-24"
      ]
     },
     "execution_count": 56,
     "metadata": {},
     "output_type": "execute_result"
    }
   ],
   "source": [
    "prob = ODEProblem(Res, shift, (0.0, 1000.0),p)"
   ]
  },
  {
   "cell_type": "code",
   "execution_count": 64,
   "id": "a4f61162",
   "metadata": {},
   "outputs": [
    {
     "data": {
      "text/plain": [
       "retcode: Success\n",
       "Interpolation: 3rd order Hermite\n",
       "t: 10110-element Vector{Float64}:\n",
       "    0.0\n",
       "    9.999999999999999e-5\n",
       "    0.0010999999999999998\n",
       "    0.011099999999999997\n",
       "    0.11109999999999996\n",
       "    0.817205675759913\n",
       "    1.6451597957206654\n",
       "    2.030192686727324\n",
       "    2.368994626272536\n",
       "    2.7132460059643835\n",
       "    3.0814637340683477\n",
       "    3.4919085529180887\n",
       "    3.9121455101813036\n",
       "    ⋮\n",
       "  999.153989010118\n",
       "  999.2133740965569\n",
       "  999.2746654752711\n",
       "  999.3382205528827\n",
       "  999.4045568459057\n",
       "  999.4743372664436\n",
       "  999.5486621742677\n",
       "  999.6292202702116\n",
       "  999.718974410103\n",
       "  999.8248589058873\n",
       "  999.9612248285761\n",
       " 1000.0\n",
       "u: 10110-element Vector{SVector{3, Float64}}:\n",
       " [1.9510202110332117e-24, -3.7662457782753524e-25, 9.800595597386729e-24]\n",
       " [1.9500780414966383e-24, -3.764427015958349e-25, 9.795862779879295e-24]\n",
       " [1.940681334045444e-24, -3.7462876294119595e-25, 9.74866012705422e-24]\n",
       " [1.8491689636413493e-24, -3.569632320181786e-25, 9.2889643589546e-24]\n",
       " [1.1407757082372348e-24, -2.202151300540468e-25, 5.730479530929496e-24]\n",
       " [-1.288431998304666e-19, 2.487186727624938e-20, -6.472204080053961e-19]\n",
       " [4.1246012621179805e-13, -7.962122587168503e-14, 2.0719185143075373e-12]\n",
       " [-3.5308115769120334e-13, 6.815872100818822e-14, -1.7736390565427831e-12]\n",
       " [-2.9322674230210406e-14, 5.660443954678729e-15, -1.4729713036900736e-13]\n",
       " [-1.2639767196920544e-15, 2.4399844155747324e-16, -6.349359985360576e-15]\n",
       " [3.7495981882532258e-16, -7.238138053248277e-17, 1.8835411910135056e-15]\n",
       " [-1.1180483597505352e-15, 2.1582873455528216e-16, -5.616312438664962e-15]\n",
       " [5.163162317010061e-15, -9.966950551078317e-16, 2.5936210240456427e-14]\n",
       " ⋮\n",
       " [-0.5067318165779355, -6.140774925315724, -0.06475339937023145]\n",
       " [-0.13408141052075295, -6.289050813230245, -0.052300440707045766]\n",
       " [0.2583247374694058, -6.42165306997351, -0.03776745713210729]\n",
       " [0.6720890030439998, -6.536283616955355, -0.020607102003727763]\n",
       " [1.1096432746908933, -6.63011241294904, -3.3122965765161e-5]\n",
       " [1.5740372305896138, -6.699332149060137, 0.025097088997813915]\n",
       " [2.0706486427824102, -6.738755442220711, 0.056613647002190105]\n",
       " [2.607708863499672, -6.740420913642339, 0.09759242389759054]\n",
       " [3.1996844291449738, -6.690838770338206, 0.1538319896727697]\n",
       " [3.8813798374734025, -6.561552724983999, 0.23911683413076826]\n",
       " [4.716152452962015, -6.281675205364863, 0.39178539216206115]\n",
       " [4.941524756378884, -6.178981552694363, 0.44701812881906533]"
      ]
     },
     "execution_count": 64,
     "metadata": {},
     "output_type": "execute_result"
    }
   ],
   "source": [
    "sol = solve(prob,alg = Feagin14(), abstol=1e-12, reltol=1e-12, maxiters = 10000000)"
   ]
  },
  {
   "cell_type": "code",
   "execution_count": 66,
   "id": "5f9e20c5",
   "metadata": {},
   "outputs": [
    {
     "data": {
      "text/plain": [
       "GLMakie.Screen(...)"
      ]
     },
     "execution_count": 66,
     "metadata": {},
     "output_type": "execute_result"
    }
   ],
   "source": [
    "ts, tf = 1, 10000\n",
    "idx, idy, idz = 1, 2, 3\n",
    "f = Figure(resolution = (1200, 800))\n",
    "ax = Axis3(f[1, 1])\n",
    "lines!(ax, sol[idx, ts:tf], sol[idy, ts:tf], sol[idz, ts:tf], linewidth = 1.0, color = :deeppink)\n",
    "#scatter!(fp[1][idx], fp[1][idy], fp[1][idz], color = :black)\n",
    "display(GLMakie.Screen(), f)"
   ]
  }
 ],
 "metadata": {
  "kernelspec": {
   "display_name": "Julia 1.8.5",
   "language": "julia",
   "name": "julia-1.8"
  },
  "language_info": {
   "file_extension": ".jl",
   "mimetype": "application/julia",
   "name": "julia",
   "version": "1.8.5"
  }
 },
 "nbformat": 4,
 "nbformat_minor": 5
}
