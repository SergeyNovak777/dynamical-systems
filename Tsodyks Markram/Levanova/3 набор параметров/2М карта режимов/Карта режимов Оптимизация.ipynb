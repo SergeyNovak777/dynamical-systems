{
 "cells": [
  {
   "cell_type": "code",
   "execution_count": 18,
   "id": "bba1d860",
   "metadata": {},
   "outputs": [],
   "source": [
    "#using Pkg\n",
    "#Pkg.activate(\"D:\\\\Science\\\\Code\\\\Julia\\\\envr\")\n",
    "using StaticArrays, DifferentialEquations, DynamicalSystems, JLD, CairoMakie, BenchmarkTools"
   ]
  },
  {
   "cell_type": "code",
   "execution_count": 2,
   "id": "80c351e3",
   "metadata": {},
   "outputs": [],
   "source": [
    "function TM(u, p, t)\n",
    "\n",
    "    U(y) = p[8] + p[9] / ( 1.0 + exp( -50.0 * (y - p[7]) ) )\n",
    "    σ(x) = 1.0 / ( 1.0 + exp( -20.0 * (x-p[6]) ) )\n",
    "    \n",
    "    # u[1] - E; u[2] - x; u[3] - y\n",
    "    # α - 1, τ - 2, τD - 3, τy - 4, J - 5, xthr - 6, ythr - 7, U0 - 8, ΔU0 - 9, β - 10, I0 -11\n",
    "\n",
    "    du1 = (-u[1] + p[1] * log( 1.0 + exp( (p[5] * U(u[3]) * u[2] * u[1] + p[11]  ) / (p[1]) ) ) ) / p[2]\n",
    "    du2 = (1.0 - u[2])/p[3] - U(u[3])*u[2]*u[1]\n",
    "    du3 = (-u[3])/p[4] + p[10] * σ(u[2])\n",
    "    return SA[du1, du2, du3]\n",
    "end;"
   ]
  },
  {
   "cell_type": "code",
   "execution_count": 3,
   "id": "b13d0dbd",
   "metadata": {},
   "outputs": [],
   "source": [
    "t = 500.0; tstep = 0.001\n",
    "trange = range(0.0, t, step = tstep)\n",
    "integ_set = (alg = RK4(), adaptive = false, dt = tstep);"
   ]
  },
  {
   "cell_type": "code",
   "execution_count": 4,
   "id": "c9aad9fb",
   "metadata": {},
   "outputs": [],
   "source": [
    "const τ = 0.013;  const τD = 0.080;  const τy = 3.3;  const J = 3.07;  const β = 0.300\n",
    "const xthr = 0.75; const ythr = 0.4\n",
    "const α = 1.58; const ΔU0 = 0.305;"
   ]
  },
  {
   "cell_type": "code",
   "execution_count": 5,
   "id": "0312b388",
   "metadata": {},
   "outputs": [
    {
     "data": {
      "text/plain": [
       "0.3:0.00085:0.47"
      ]
     },
     "execution_count": 5,
     "metadata": {},
     "output_type": "execute_result"
    }
   ],
   "source": [
    "I0range = range( -1.40, -1.709, length = 201 )\n",
    "U0range = range( 0.3,  0.47, length = 201)"
   ]
  },
  {
   "cell_type": "code",
   "execution_count": 6,
   "id": "bbe81f59",
   "metadata": {},
   "outputs": [],
   "source": [
    "path = \"C:\\\\Users\\\\Alex\\\\Desktop\\\\repo\\\\2612\\\\0903\\\\dynamical-systems\\\\Tsodyks Markram\\\\Levanova\\\\3 набор параметров\\\\2М Карта спектра Ляпуновских показателей\\\\200x200\";\n",
    "filenameLS = \"\\\\LSs_200x200.jld\"\n",
    "filenameu0s = \"\\\\u0s_200x200.jld\"\n",
    "pathLS = path*filenameLS\n",
    "pathu0s = path*filenameu0s;"
   ]
  },
  {
   "cell_type": "code",
   "execution_count": 7,
   "id": "1cc67ac7",
   "metadata": {},
   "outputs": [],
   "source": [
    "Λs = load(pathLS)[\"data\"]\n",
    "u0s = load(pathu0s)[\"data\"];"
   ]
  },
  {
   "cell_type": "code",
   "execution_count": 8,
   "id": "d8e9d402",
   "metadata": {},
   "outputs": [],
   "source": [
    "modes = zeros(201, 201);"
   ]
  },
  {
   "cell_type": "code",
   "execution_count": 9,
   "id": "9df69325",
   "metadata": {},
   "outputs": [
    {
     "data": {
      "text/plain": [
       "detect_mode (generic function with 1 method)"
      ]
     },
     "execution_count": 9,
     "metadata": {},
     "output_type": "execute_result"
    }
   ],
   "source": [
    "function check_chaos_mode(idx_I0, idx_U0)\n",
    "    chaos = 0\n",
    "    if Λs[idx_I0, idx_U0, 1] >= 0.1\n",
    "            chaos = 3\n",
    "    end\n",
    "    return chaos\n",
    "end\n",
    "function local_min(tr)\n",
    "    \n",
    "    localmin = Float64[]\n",
    "    placeintime = Float64[]\n",
    "    \n",
    "    for idx in range(2, length(tr) - 1, step = 1)\n",
    "        if tr[idx-1] > tr[idx] < tr[idx+1]\n",
    "            push!(localmin, tr[idx])\n",
    "            push!(placeintime, trange[idx])\n",
    "        end\n",
    "    end\n",
    "    return localmin, placeintime\n",
    "end\n",
    "function traj(idx_I0, idx_U0)\n",
    "    \n",
    "    E, x, y = u0s[idx_I0, idx_U0, :]\n",
    "    u0 = SA[E, x, y]\n",
    "    I0_ = I0range[idx_I0]\n",
    "    U0_ = U0range[idx_U0]\n",
    "    p = SA[α, τ, τD, τy, J, xthr, ythr, U0_, ΔU0, β, I0_]\n",
    "    ds = ContinuousDynamicalSystem(TM, u0, p)\n",
    "    tr = trajectory(ds, t; diffeq = integ_set)\n",
    "    \n",
    "    return tr[:, 1]\n",
    "end\n",
    "function detect_mode(idx_I0, idx_U0)\n",
    "    \n",
    "    mode = check_chaos_mode(idx_I0, idx_U0)\n",
    "    if mode == 0\n",
    "        tr = traj(idx_I0, idx_U0)\n",
    "        lcmin, _ = local_min(tr)\n",
    "        if abs(maximum(lcmin) - minimum(lcmin)) > 2\n",
    "            mode = 2\n",
    "        else\n",
    "            mode = 1\n",
    "        end\n",
    "    end\n",
    "    return mode\n",
    "end"
   ]
  },
  {
   "cell_type": "code",
   "execution_count": 10,
   "id": "8f0fb479",
   "metadata": {},
   "outputs": [
    {
     "data": {
      "text/plain": [
       "separate (generic function with 1 method)"
      ]
     },
     "execution_count": 10,
     "metadata": {},
     "output_type": "execute_result"
    }
   ],
   "source": [
    "function output(idx_U0, U0, idx_I0, I0, mode)\n",
    "    println(\"index U0: $idx_U0; index I0: $idx_I0\");flush(stdout)\n",
    "    println(\"U0: $U0\");flush(stdout)\n",
    "    println(\"I0: $I0\");flush(stdout)\n",
    "    println(\"Mode: $mode\");flush(stdout)\n",
    "end\n",
    "function separate()\n",
    "    println(\"\");flush(stdout)\n",
    "    println(\"----------------\");flush(stdout)\n",
    "end"
   ]
  },
  {
   "cell_type": "code",
   "execution_count": 11,
   "id": "0c9fab71",
   "metadata": {},
   "outputs": [],
   "source": [
    "idxI0 = 90; idxU0 = 1\n",
    "E, x, y = u0s[idxI0, idxU0, :]\n",
    "u0 = SA[E, x, y]\n",
    "p = SA[α, τ, τD, τy, J, xthr, ythr, U0range[idxU0], ΔU0, β, I0range[idxI0]];"
   ]
  },
  {
   "cell_type": "code",
   "execution_count": 12,
   "id": "3a1872e5",
   "metadata": {},
   "outputs": [
    {
     "data": {
      "text/plain": [
       "3-element Vector{Float64}:\n",
       "  0.001878280258316038\n",
       " -1.536370413919485\n",
       " -2.767665641148319"
      ]
     },
     "execution_count": 12,
     "metadata": {},
     "output_type": "execute_result"
    }
   ],
   "source": [
    "Λs[idxI0, idxU0, :]"
   ]
  },
  {
   "cell_type": "code",
   "execution_count": 13,
   "id": "9a1387e6",
   "metadata": {},
   "outputs": [
    {
     "data": {
      "text/plain": [
       "3-dimensional continuous dynamical system\n",
       " state:       [14.7168, 0.691488, 0.432762]\n",
       " rule f:      TM\n",
       " in-place?    false\n",
       " jacobian:    ForwardDiff\n",
       " parameters:  [1.58, 0.013, 0.08, 3.3, 3.07, …, 0.3, 0.305, 0.3, -1.5375]"
      ]
     },
     "execution_count": 13,
     "metadata": {},
     "output_type": "execute_result"
    }
   ],
   "source": [
    "ds = ContinuousDynamicalSystem(TM, u0, p)"
   ]
  },
  {
   "cell_type": "code",
   "execution_count": 53,
   "id": "5ba38f0c",
   "metadata": {},
   "outputs": [],
   "source": [
    "tr = trajectory(ds, t; diffeq = integ_set);\n",
    "lcmin, timemin = local_min(tr[:, 1]);"
   ]
  },
  {
   "cell_type": "code",
   "execution_count": 32,
   "id": "9b09566a",
   "metadata": {},
   "outputs": [
    {
     "data": {
      "text/plain": [
       "BenchmarkTools.Trial: 30 samples with 1 evaluation.\n",
       " Range \u001b[90m(\u001b[39m\u001b[36m\u001b[1mmin\u001b[22m\u001b[39m … \u001b[35mmax\u001b[39m\u001b[90m):  \u001b[39m\u001b[36m\u001b[1m170.349 ms\u001b[22m\u001b[39m … \u001b[35m177.270 ms\u001b[39m  \u001b[90m┊\u001b[39m GC \u001b[90m(\u001b[39mmin … max\u001b[90m): \u001b[39m0.00% … 0.00%\n",
       " Time  \u001b[90m(\u001b[39m\u001b[34m\u001b[1mmedian\u001b[22m\u001b[39m\u001b[90m):     \u001b[39m\u001b[34m\u001b[1m171.070 ms               \u001b[22m\u001b[39m\u001b[90m┊\u001b[39m GC \u001b[90m(\u001b[39mmedian\u001b[90m):    \u001b[39m0.00%\n",
       " Time  \u001b[90m(\u001b[39m\u001b[32m\u001b[1mmean\u001b[22m\u001b[39m ± \u001b[32mσ\u001b[39m\u001b[90m):   \u001b[39m\u001b[32m\u001b[1m171.582 ms\u001b[22m\u001b[39m ± \u001b[32m  1.470 ms\u001b[39m  \u001b[90m┊\u001b[39m GC \u001b[90m(\u001b[39mmean ± σ\u001b[90m):  \u001b[39m0.00% ± 0.00%\n",
       "\n",
       "  \u001b[39m▄\u001b[39m▁\u001b[39m▁\u001b[39m▁\u001b[39m█\u001b[39m \u001b[34m▄\u001b[39m\u001b[39m▁\u001b[39m \u001b[39m \u001b[39m \u001b[32m \u001b[39m\u001b[39m \u001b[39m \u001b[39m \u001b[39m▁\u001b[39m \u001b[39m \u001b[39m \u001b[39m \u001b[39m \u001b[39m \u001b[39m \u001b[39m \u001b[39m▄\u001b[39m \u001b[39m \u001b[39m \u001b[39m \u001b[39m \u001b[39m \u001b[39m \u001b[39m \u001b[39m \u001b[39m \u001b[39m \u001b[39m \u001b[39m \u001b[39m \u001b[39m \u001b[39m \u001b[39m \u001b[39m \u001b[39m \u001b[39m \u001b[39m \u001b[39m \u001b[39m \u001b[39m \u001b[39m \u001b[39m \u001b[39m \u001b[39m \u001b[39m \u001b[39m \u001b[39m \u001b[39m \u001b[39m \u001b[39m \u001b[39m \u001b[39m \u001b[39m \u001b[39m \n",
       "  \u001b[39m█\u001b[39m█\u001b[39m█\u001b[39m█\u001b[39m█\u001b[39m▆\u001b[34m█\u001b[39m\u001b[39m█\u001b[39m▆\u001b[39m▆\u001b[39m▁\u001b[32m▁\u001b[39m\u001b[39m▁\u001b[39m▆\u001b[39m▁\u001b[39m█\u001b[39m▁\u001b[39m▁\u001b[39m▆\u001b[39m▁\u001b[39m▁\u001b[39m▁\u001b[39m▁\u001b[39m▁\u001b[39m█\u001b[39m▁\u001b[39m▁\u001b[39m▁\u001b[39m▁\u001b[39m▁\u001b[39m▁\u001b[39m▁\u001b[39m▁\u001b[39m▁\u001b[39m▁\u001b[39m▁\u001b[39m▆\u001b[39m▁\u001b[39m▁\u001b[39m▁\u001b[39m▁\u001b[39m▁\u001b[39m▁\u001b[39m▁\u001b[39m▁\u001b[39m▁\u001b[39m▁\u001b[39m▁\u001b[39m▁\u001b[39m▁\u001b[39m▁\u001b[39m▁\u001b[39m▁\u001b[39m▁\u001b[39m▁\u001b[39m▁\u001b[39m▁\u001b[39m▁\u001b[39m▁\u001b[39m▁\u001b[39m▆\u001b[39m \u001b[39m▁\n",
       "  170 ms\u001b[90m           Histogram: frequency by time\u001b[39m          177 ms \u001b[0m\u001b[1m<\u001b[22m\n",
       "\n",
       " Memory estimate\u001b[90m: \u001b[39m\u001b[33m395.94 KiB\u001b[39m, allocs estimate\u001b[90m: \u001b[39m\u001b[33m82\u001b[39m."
      ]
     },
     "execution_count": 32,
     "metadata": {},
     "output_type": "execute_result"
    }
   ],
   "source": [
    "@benchmark trajectory(ds, t; save_idxs = 1, diffeq = integ_set)"
   ]
  },
  {
   "cell_type": "code",
   "execution_count": 15,
   "id": "07aab59c",
   "metadata": {},
   "outputs": [
    {
     "data": {
      "text/plain": [
       "2"
      ]
     },
     "execution_count": 15,
     "metadata": {},
     "output_type": "execute_result"
    }
   ],
   "source": [
    "detect_mode(idxI0, idxU0)"
   ]
  },
  {
   "cell_type": "code",
   "execution_count": 26,
   "id": "43587e82",
   "metadata": {},
   "outputs": [
    {
     "data": {
      "text/plain": [
       "2.194377640694831"
      ]
     },
     "execution_count": 26,
     "metadata": {},
     "output_type": "execute_result"
    }
   ],
   "source": [
    "abs(maximum(lcmin) - minimum(lcmin))"
   ]
  },
  {
   "cell_type": "code",
   "execution_count": 55,
   "id": "1a8dae68",
   "metadata": {},
   "outputs": [
    {
     "ename": "LoadError",
     "evalue": "`Makie.convert_arguments` for the plot type Lines{Tuple{StepRangeLen{Float64, Base.TwicePrecision{Float64}, Base.TwicePrecision{Float64}, Int64}, Dataset{3, Float64}}} and its conversion trait PointBased() was unsuccessful.\n\nThe signature that could not be converted was:\n::Vector{Float32}, ::Dataset{3, Float64}\n\nMakie needs to convert all plot input arguments to types that can be consumed by the backends (typically Arrays with Float32 elements).\nYou can define a method for `Makie.convert_arguments` (a type recipe) for these types or their supertypes to make this set of arguments convertible (See http://docs.makie.org/stable/documentation/recipes/index.html).\n\nAlternatively, you can define `Makie.convert_single_argument` for single arguments which have types that are unknown to Makie but which can be converted to known types and fed back to the conversion pipeline.\n",
     "output_type": "error",
     "traceback": [
      "`Makie.convert_arguments` for the plot type Lines{Tuple{StepRangeLen{Float64, Base.TwicePrecision{Float64}, Base.TwicePrecision{Float64}, Int64}, Dataset{3, Float64}}} and its conversion trait PointBased() was unsuccessful.\n\nThe signature that could not be converted was:\n::Vector{Float32}, ::Dataset{3, Float64}\n\nMakie needs to convert all plot input arguments to types that can be consumed by the backends (typically Arrays with Float32 elements).\nYou can define a method for `Makie.convert_arguments` (a type recipe) for these types or their supertypes to make this set of arguments convertible (See http://docs.makie.org/stable/documentation/recipes/index.html).\n\nAlternatively, you can define `Makie.convert_single_argument` for single arguments which have types that are unknown to Makie but which can be converted to known types and fed back to the conversion pipeline.\n",
      "",
      "Stacktrace:",
      "  [1] error(s::String)",
      "    @ Base .\\error.jl:35",
      "  [2] convert_arguments(::Type{Lines{Tuple{StepRangeLen{Float64, Base.TwicePrecision{Float64}, Base.TwicePrecision{Float64}, Int64}, Dataset{3, Float64}}}}, ::Vector{Float32}, ::Vararg{Any}; kw::Base.Pairs{Symbol, Union{}, Tuple{}, NamedTuple{(), Tuple{}}})",
      "    @ Makie C:\\Users\\Alex\\.julia\\packages\\Makie\\gAmAB\\src\\conversions.jl:17",
      "  [3] convert_arguments(::Type{Lines{Tuple{StepRangeLen{Float64, Base.TwicePrecision{Float64}, Base.TwicePrecision{Float64}, Int64}, Dataset{3, Float64}}}}, ::Vector{Float32}, ::Dataset{3, Float64})",
      "    @ Makie C:\\Users\\Alex\\.julia\\packages\\Makie\\gAmAB\\src\\conversions.jl:7",
      "  [4] convert_arguments_individually(::Type{Lines{Tuple{StepRangeLen{Float64, Base.TwicePrecision{Float64}, Base.TwicePrecision{Float64}, Int64}, Dataset{3, Float64}}}}, ::StepRangeLen{Float64, Base.TwicePrecision{Float64}, Base.TwicePrecision{Float64}, Int64}, ::Vararg{Any})",
      "    @ Makie C:\\Users\\Alex\\.julia\\packages\\Makie\\gAmAB\\src\\conversions.jl:51",
      "  [5] convert_arguments(::Type{Lines{Tuple{StepRangeLen{Float64, Base.TwicePrecision{Float64}, Base.TwicePrecision{Float64}, Int64}, Dataset{3, Float64}}}}, ::StepRangeLen{Float64, Base.TwicePrecision{Float64}, Base.TwicePrecision{Float64}, Int64}, ::Vararg{Any}; kw::Base.Pairs{Symbol, Union{}, Tuple{}, NamedTuple{(), Tuple{}}})",
      "    @ Makie C:\\Users\\Alex\\.julia\\packages\\Makie\\gAmAB\\src\\conversions.jl:14",
      "  [6] convert_arguments(::Type{Lines{Tuple{StepRangeLen{Float64, Base.TwicePrecision{Float64}, Base.TwicePrecision{Float64}, Int64}, Dataset{3, Float64}}}}, ::StepRangeLen{Float64, Base.TwicePrecision{Float64}, Base.TwicePrecision{Float64}, Int64}, ::Dataset{3, Float64})",
      "    @ Makie C:\\Users\\Alex\\.julia\\packages\\Makie\\gAmAB\\src\\conversions.jl:7",
      "  [7] plot!(::Scene, ::Type{Lines}, ::Attributes, ::StepRangeLen{Float64, Base.TwicePrecision{Float64}, Base.TwicePrecision{Float64}, Int64}, ::Vararg{Any}; kw_attributes::Base.Pairs{Symbol, Union{}, Tuple{}, NamedTuple{(), Tuple{}}})",
      "    @ Makie C:\\Users\\Alex\\.julia\\packages\\Makie\\gAmAB\\src\\interfaces.jl:310",
      "  [8] plot!(::Scene, ::Type{Lines}, ::Attributes, ::StepRangeLen{Float64, Base.TwicePrecision{Float64}, Base.TwicePrecision{Float64}, Int64}, ::Dataset{3, Float64})",
      "    @ Makie C:\\Users\\Alex\\.julia\\packages\\Makie\\gAmAB\\src\\interfaces.jl:295",
      "  [9] plot!(::Axis, ::Type{Lines}, ::Attributes, ::StepRangeLen{Float64, Base.TwicePrecision{Float64}, Base.TwicePrecision{Float64}, Int64}, ::Vararg{Any}; kw_attributes::Base.Pairs{Symbol, Union{}, Tuple{}, NamedTuple{(), Tuple{}}})",
      "    @ Makie C:\\Users\\Alex\\.julia\\packages\\Makie\\gAmAB\\src\\makielayout\\blocks\\axis.jl:778",
      " [10] plot!(::Axis, ::Type{Lines}, ::Attributes, ::StepRangeLen{Float64, Base.TwicePrecision{Float64}, Base.TwicePrecision{Float64}, Int64}, ::Dataset{3, Float64})",
      "    @ Makie C:\\Users\\Alex\\.julia\\packages\\Makie\\gAmAB\\src\\makielayout\\blocks\\axis.jl:765",
      " [11] plot!(::Type{Lines}, ::Axis, ::StepRangeLen{Float64, Base.TwicePrecision{Float64}, Base.TwicePrecision{Float64}, Int64}, ::Vararg{Any}; kw_attributes::Base.Pairs{Symbol, Union{}, Tuple{}, NamedTuple{(), Tuple{}}})",
      "    @ Makie C:\\Users\\Alex\\.julia\\packages\\Makie\\gAmAB\\src\\makielayout\\blocks\\axis.jl:795",
      " [12] plot!(::Type{Lines}, ::Axis, ::StepRangeLen{Float64, Base.TwicePrecision{Float64}, Base.TwicePrecision{Float64}, Int64}, ::Dataset{3, Float64})",
      "    @ Makie C:\\Users\\Alex\\.julia\\packages\\Makie\\gAmAB\\src\\makielayout\\blocks\\axis.jl:793",
      " [13] plot!(::Type{Lines}, ::StepRangeLen{Float64, Base.TwicePrecision{Float64}, Base.TwicePrecision{Float64}, Int64}, ::Vararg{Any}; kw_attributes::Base.Pairs{Symbol, Union{}, Tuple{}, NamedTuple{(), Tuple{}}})",
      "    @ Makie C:\\Users\\Alex\\.julia\\packages\\Makie\\gAmAB\\src\\figureplotting.jl:66",
      " [14] plot!(::Type{Lines}, ::StepRangeLen{Float64, Base.TwicePrecision{Float64}, Base.TwicePrecision{Float64}, Int64}, ::Dataset{3, Float64})",
      "    @ Makie C:\\Users\\Alex\\.julia\\packages\\Makie\\gAmAB\\src\\figureplotting.jl:63",
      " [15] lines!(::StepRangeLen{Float64, Base.TwicePrecision{Float64}, Base.TwicePrecision{Float64}, Int64}, ::Vararg{Any}; attributes::Base.Pairs{Symbol, Union{}, Tuple{}, NamedTuple{(), Tuple{}}})",
      "    @ MakieCore C:\\Users\\Alex\\.julia\\packages\\MakieCore\\LOKNz\\src\\recipes.jl:38",
      " [16] lines!(::StepRangeLen{Float64, Base.TwicePrecision{Float64}, Base.TwicePrecision{Float64}, Int64}, ::Vararg{Any})",
      "    @ MakieCore C:\\Users\\Alex\\.julia\\packages\\MakieCore\\LOKNz\\src\\recipes.jl:37",
      " [17] top-level scope",
      "    @ In[55]:4"
     ]
    }
   ],
   "source": [
    "tstart, tend = 1, 1000\n",
    "f = Figure(resolution = (1000, 300))\n",
    "ax = Axis(f[1, 1])\n",
    "lines!(trange[tstart:tend], tr[tstart:tend])\n",
    "#scatter!(timemin[1:23], lcmin[1:23])\n",
    "f"
   ]
  },
  {
   "cell_type": "code",
   "execution_count": null,
   "id": "f50c39c1",
   "metadata": {},
   "outputs": [],
   "source": [
    "for (idx_U0, U0) in enumerate(U0range)\n",
    "    for (idx_I0, I0) in enumerate(I0range)\n",
    "        \n",
    "        modes[idx_I0,idx_U0] =  detect_mode(idx_I0, idx_U0)\n",
    "        output(idx_U0, U0, idx_I0, I0, modes[idx_I0,idx_U0])\n",
    "        separate()\n",
    "        \n",
    "    end\n",
    "end   "
   ]
  },
  {
   "cell_type": "code",
   "execution_count": null,
   "id": "0c928781",
   "metadata": {},
   "outputs": [],
   "source": [
    "I0range = range( -1.40, -1.709, length = 201 )\n",
    "U0range = range( 0.3,  0.47, length = 201)\n",
    "\n",
    "f = Figure()\n",
    "ax1 = Axis(f[1, 1], xlabel = L\"I0\",ylabel = L\"U0\", xlabelsize = 50, ylabelsize = 50,\n",
    "            xticklabelsize = 35, yticklabelsize = 35,\n",
    "            xgridvisible  = false, ygridvisible = false)\n",
    "\n",
    "hm = heatmap!(ax1, I0range, U0range, modes,\n",
    "                colormap = :Set1_3)\n",
    "Colorbar(f[1, 2], hm, ticklabelsize = 35)\n",
    "f"
   ]
  }
 ],
 "metadata": {
  "kernelspec": {
   "display_name": "Julia 1.8.5",
   "language": "julia",
   "name": "julia-1.8"
  },
  "language_info": {
   "file_extension": ".jl",
   "mimetype": "application/julia",
   "name": "julia",
   "version": "1.8.5"
  }
 },
 "nbformat": 4,
 "nbformat_minor": 5
}
