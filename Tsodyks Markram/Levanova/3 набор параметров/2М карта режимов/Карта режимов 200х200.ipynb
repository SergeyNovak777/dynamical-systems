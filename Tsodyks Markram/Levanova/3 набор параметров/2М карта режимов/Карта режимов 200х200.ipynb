{
 "cells": [
  {
   "cell_type": "code",
   "execution_count": 2,
   "id": "bba1d860",
   "metadata": {},
   "outputs": [
    {
     "name": "stderr",
     "output_type": "stream",
     "text": [
      "\u001b[32m\u001b[1m  Activating\u001b[22m\u001b[39m project at `D:\\Science\\Code\\Julia\\envr`\n"
     ]
    }
   ],
   "source": [
    "using Pkg\n",
    "Pkg.activate(\"D:\\\\Science\\\\Code\\\\Julia\\\\envr\")\n",
    "using StaticArrays, DifferentialEquations, DynamicalSystems, JLD, CairoMakie"
   ]
  },
  {
   "cell_type": "code",
   "execution_count": 3,
   "id": "80c351e3",
   "metadata": {},
   "outputs": [],
   "source": [
    "function TM(u, p, t)\n",
    "\n",
    "    U(y) = p[8] + p[9] / ( 1.0 + exp( -50.0 * (y - p[7]) ) )\n",
    "    σ(x) = 1.0 / ( 1.0 + exp( -20.0 * (x-p[6]) ) )\n",
    "    \n",
    "    # u[1] - E; u[2] - x; u[3] - y\n",
    "    # α - 1, τ - 2, τD - 3, τy - 4, J - 5, xthr - 6, ythr - 7, U0 - 8, ΔU0 - 9, β - 10, I0 -11\n",
    "\n",
    "    du1 = (-u[1] + p[1] * log( 1.0 + exp( (p[5] * U(u[3]) * u[2] * u[1] + p[11]  ) / (p[1]) ) ) ) / p[2]\n",
    "    du2 = (1.0 - u[2])/p[3] - U(u[3])*u[2]*u[1]\n",
    "    du3 = (-u[3])/p[4] + p[10] * σ(u[2])\n",
    "    return SA[du1, du2, du3]\n",
    "end;"
   ]
  },
  {
   "cell_type": "code",
   "execution_count": 4,
   "id": "b13d0dbd",
   "metadata": {},
   "outputs": [],
   "source": [
    "t = 1000.0; tt = 250.0; tstep = 0.001\n",
    "time_attract = 100.0\n",
    "\n",
    "trange = range(0.0, t, step = tstep)\n",
    "integ_set = (alg = RK4(), adaptive = false, dt = tstep);"
   ]
  },
  {
   "cell_type": "code",
   "execution_count": 5,
   "id": "c9aad9fb",
   "metadata": {},
   "outputs": [],
   "source": [
    "const τ = 0.013;  const τD = 0.080;  const τy = 3.3;  const J = 3.07;  const β = 0.300\n",
    "const xthr = 0.75; const ythr = 0.4\n",
    "const α = 1.58;  U0 = 0.3;  const ΔU0 = 0.305; I0 = -1.40;"
   ]
  },
  {
   "cell_type": "code",
   "execution_count": 6,
   "id": "0312b388",
   "metadata": {},
   "outputs": [
    {
     "data": {
      "text/plain": [
       "0.3:0.00085:0.47"
      ]
     },
     "execution_count": 6,
     "metadata": {},
     "output_type": "execute_result"
    }
   ],
   "source": [
    "I0range = range( -1.40, -1.709, length = 201 )\n",
    "U0range = range( 0.3,  0.47, length = 201)"
   ]
  }
 ],
 "metadata": {
  "kernelspec": {
   "display_name": "Julia 1.8.5",
   "language": "julia",
   "name": "julia-1.8"
  },
  "language_info": {
   "file_extension": ".jl",
   "mimetype": "application/julia",
   "name": "julia",
   "version": "1.8.5"
  }
 },
 "nbformat": 4,
 "nbformat_minor": 5
}
