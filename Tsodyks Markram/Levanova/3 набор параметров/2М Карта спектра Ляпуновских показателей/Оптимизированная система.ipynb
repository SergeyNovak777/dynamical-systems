{
 "cells": [
  {
   "cell_type": "code",
   "execution_count": 1,
   "id": "95365e8a",
   "metadata": {
    "scrolled": true
   },
   "outputs": [
    {
     "name": "stderr",
     "output_type": "stream",
     "text": [
      "\u001b[32m\u001b[1m  Activating\u001b[22m\u001b[39m project at `D:\\Science\\Code\\Julia\\envr`\n"
     ]
    }
   ],
   "source": [
    "using Pkg\n",
    "Pkg.activate(\"D:\\\\Science\\\\Code\\\\Julia\\\\envr\")"
   ]
  },
  {
   "cell_type": "code",
   "execution_count": 1,
   "id": "1e765d35",
   "metadata": {},
   "outputs": [],
   "source": [
    "using StaticArrays, DifferentialEquations, DynamicalSystems, BenchmarkTools"
   ]
  },
  {
   "cell_type": "code",
   "execution_count": 2,
   "id": "39e21e6c",
   "metadata": {},
   "outputs": [],
   "source": [
    "function TM(u, p, t)\n",
    "\n",
    "    U(y) = p[8] + p[9] / ( 1.0 + exp( -50.0 * (y - p[7]) ) )\n",
    "    σ(x) = 1.0 / ( 1.0 + exp( -20.0 * (x-p[6]) ) )\n",
    "    \n",
    "    # u[1] - E; u[2] - x; u[3] - y\n",
    "    # α - 1, τ - 2, τD - 3, τy - 4, J - 5, xthr - 6, ythr - 7, U0 - 8, ΔU0 - 9, β - 10, I0 -11\n",
    "\n",
    "    du1 = (-u[1] + p[1] * log( 1.0 + exp( (p[5] * U(u[3]) * u[2] * u[1] + p[11]  ) / (p[1]) ) ) ) / p[2]\n",
    "    du2 = (1.0 - u[2])/p[3] - U(u[3])*u[2]*u[1]\n",
    "    du3 = (-u[3])/p[4] + p[10] * σ(u[2])\n",
    "    return SA[du1, du2, du3]\n",
    "end;"
   ]
  },
  {
   "cell_type": "code",
   "execution_count": 8,
   "id": "7a5db5e2",
   "metadata": {},
   "outputs": [],
   "source": [
    "t = 1000.0; tt = 250.0; tstep = 0.001\n",
    "trange = range(0.0, t+tt, step = tstep)\n",
    "integ_set = (alg = RK4(), adaptive = false, dt = tstep);"
   ]
  },
  {
   "cell_type": "code",
   "execution_count": 4,
   "id": "441e01c8",
   "metadata": {},
   "outputs": [],
   "source": [
    "const τ = 0.013;  const τD = 0.080;  const τy = 3.3;  const J = 3.07;  const β = 0.300\n",
    "const xthr = 0.75; const ythr = 0.4\n",
    "const α = 1.58;  U0 = 0.3;  const ΔU0 = 0.305; I0 = -1.40;"
   ]
  },
  {
   "cell_type": "code",
   "execution_count": 5,
   "id": "00850449",
   "metadata": {},
   "outputs": [
    {
     "data": {
      "text/plain": [
       "3-dimensional continuous dynamical system\n",
       " state:       [17.6055, 0.6181, 0.429232]\n",
       " rule f:      TM\n",
       " in-place?    false\n",
       " jacobian:    ForwardDiff\n",
       " parameters:  [1.58, 0.013, 0.08, 3.3, 3.07, 0.75, 0.4, 0.3, 0.305, 0.3, -1.4]"
      ]
     },
     "execution_count": 5,
     "metadata": {},
     "output_type": "execute_result"
    }
   ],
   "source": [
    "u0 = SA[17.6055, 0.6181, 0.429232]\n",
    "p  = SA[α, τ, τD, τy, J, xthr, ythr, U0, ΔU0, β, I0]\n",
    "ds = ContinuousDynamicalSystem(TM, u0, p)"
   ]
  },
  {
   "cell_type": "code",
   "execution_count": 13,
   "id": "192fbc5b",
   "metadata": {},
   "outputs": [],
   "source": [
    "trajectory(ds, t, Δt = tstep; Ttr = tt, diffeq = integ_set);"
   ]
  },
  {
   "cell_type": "code",
   "execution_count": 14,
   "id": "d34f9746",
   "metadata": {},
   "outputs": [
    {
     "data": {
      "text/plain": [
       "3-element Vector{Float64}:\n",
       "  0.0004454263726357495\n",
       " -2.772582670025812\n",
       " -2.769514820653719"
      ]
     },
     "execution_count": 14,
     "metadata": {},
     "output_type": "execute_result"
    }
   ],
   "source": [
    "lyapunovspectrum(ds, t; Ttr = tt, diffeq = integ_set)"
   ]
  }
 ],
 "metadata": {
  "kernelspec": {
   "display_name": "Julia 1.8.5",
   "language": "julia",
   "name": "julia-1.8"
  },
  "language_info": {
   "file_extension": ".jl",
   "mimetype": "application/julia",
   "name": "julia",
   "version": "1.8.5"
  }
 },
 "nbformat": 4,
 "nbformat_minor": 5
}
