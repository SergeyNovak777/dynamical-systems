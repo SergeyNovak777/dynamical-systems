{
 "cells": [
  {
   "cell_type": "code",
   "execution_count": 1,
   "id": "95365e8a",
   "metadata": {
    "scrolled": true
   },
   "outputs": [
    {
     "name": "stderr",
     "output_type": "stream",
     "text": [
      "\u001b[32m\u001b[1m  Activating\u001b[22m\u001b[39m project at `D:\\Science\\Code\\Julia\\envr`\n"
     ]
    }
   ],
   "source": [
    "using Pkg\n",
    "Pkg.activate(\"D:\\\\Science\\\\Code\\\\Julia\\\\envr\")\n",
    "using StaticArrays, DifferentialEquations, DynamicalSystems, JLD"
   ]
  },
  {
   "cell_type": "code",
   "execution_count": 2,
   "id": "39e21e6c",
   "metadata": {},
   "outputs": [],
   "source": [
    "function TM(u, p, t)\n",
    "\n",
    "    U(y) = p[8] + p[9] / ( 1.0 + exp( -50.0 * (y - p[7]) ) )\n",
    "    σ(x) = 1.0 / ( 1.0 + exp( -20.0 * (x-p[6]) ) )\n",
    "    \n",
    "    # u[1] - E; u[2] - x; u[3] - y\n",
    "    # α - 1, τ - 2, τD - 3, τy - 4, J - 5, xthr - 6, ythr - 7, U0 - 8, ΔU0 - 9, β - 10, I0 -11\n",
    "\n",
    "    du1 = (-u[1] + p[1] * log( 1.0 + exp( (p[5] * U(u[3]) * u[2] * u[1] + p[11]  ) / (p[1]) ) ) ) / p[2]\n",
    "    du2 = (1.0 - u[2])/p[3] - U(u[3])*u[2]*u[1]\n",
    "    du3 = (-u[3])/p[4] + p[10] * σ(u[2])\n",
    "    return SA[du1, du2, du3]\n",
    "end;"
   ]
  },
  {
   "cell_type": "code",
   "execution_count": 3,
   "id": "64acc277",
   "metadata": {},
   "outputs": [],
   "source": [
    "function output(idx_I0, idx_U0, I0, U0, u0)\n",
    "    println(\"Индекс I0: $idx_I0; I0: $I0\");flush(stdout)\n",
    "    println(\"Индекс U0: $idx_U0; U0: $U0\");flush(stdout)\n",
    "    println(\"Начальные условия: $u0\");flush(stdout)\n",
    "end\n",
    "function output(idx_U0,U0, u0)\n",
    "    println(\"Индекс U0: $idx_U0; U0: $U0\");flush(stdout)\n",
    "    println(\"Начальные условия: $u0\");flush(stdout)\n",
    "end\n",
    "function output_end_iter(ΛΛ, u0_lc)\n",
    "    println(\"Спектр: $(ΛΛ)\");flush(stdout)\n",
    "    println(\"Последняя точка: $(u0_lc)\");flush(stdout)\n",
    "end\n",
    "function separate()\n",
    "    println();flush(stdout)\n",
    "    println(\"---------\");flush(stdout)\n",
    "end;"
   ]
  },
  {
   "cell_type": "code",
   "execution_count": 4,
   "id": "7a5db5e2",
   "metadata": {},
   "outputs": [],
   "source": [
    "t = 1000.0; tt = 250.0; tstep = 0.001\n",
    "time_attract = 100.0\n",
    "integ_set = (alg = RK4(), adaptive = false, dt = tstep);"
   ]
  },
  {
   "cell_type": "code",
   "execution_count": 5,
   "id": "441e01c8",
   "metadata": {},
   "outputs": [],
   "source": [
    "const τ = 0.013;  const τD = 0.080;  const τy = 3.3;  const J = 3.07;  const β = 0.300\n",
    "const xthr = 0.75; const ythr = 0.4\n",
    "const α = 1.58;  U0 = 0.3;  const ΔU0 = 0.305; I0 = -1.40;"
   ]
  },
  {
   "cell_type": "code",
   "execution_count": 6,
   "id": "2ed637a3",
   "metadata": {},
   "outputs": [
    {
     "data": {
      "text/plain": [
       "3-element SVector{3, Float64} with indices SOneTo(3):\n",
       " 8.39353\n",
       " 0.73803\n",
       " 0.429055"
      ]
     },
     "execution_count": 6,
     "metadata": {},
     "output_type": "execute_result"
    }
   ],
   "source": [
    "u0 = SA[8.39353, 0.73803, 0.429055]"
   ]
  },
  {
   "cell_type": "code",
   "execution_count": 17,
   "id": "c9ec2d3e",
   "metadata": {},
   "outputs": [
    {
     "data": {
      "text/plain": [
       "0.3:0.0004260651629072682:0.47"
      ]
     },
     "execution_count": 17,
     "metadata": {},
     "output_type": "execute_result"
    }
   ],
   "source": [
    "I0range = range( -1.40, -1.709, length = 400 )\n",
    "U0range = range( 0.3,  0.47, length = 400)"
   ]
  },
  {
   "cell_type": "code",
   "execution_count": 18,
   "id": "69711302",
   "metadata": {},
   "outputs": [],
   "source": [
    "Λs = zeros(length(I0range), length(U0range), 3)\n",
    "u0s = zeros(length(I0range), length(U0range), 3);"
   ]
  },
  {
   "cell_type": "code",
   "execution_count": 19,
   "id": "df971f46",
   "metadata": {},
   "outputs": [
    {
     "data": {
      "text/plain": [
       "save_tofile (generic function with 1 method)"
      ]
     },
     "execution_count": 19,
     "metadata": {},
     "output_type": "execute_result"
    }
   ],
   "source": [
    "const I0_start_value = I0range[1]\n",
    "\n",
    "function init_ds(U0_, u0_lc)\n",
    "    p = SA[α, τ, τD, τy, J, xthr, ythr, U0_, ΔU0, β, I0_start_value]\n",
    "    ds = ContinuousDynamicalSystem(TM, u0_lc, p)\n",
    "    return ds\n",
    "end\n",
    "function init_ds(U0_, I0_, u0_lc)\n",
    "    p = SA[α, τ, τD, τy, J, xthr, ythr, U0_, ΔU0, β, I0_]\n",
    "    ds = ContinuousDynamicalSystem(TM, u0_lc, p)\n",
    "    return ds\n",
    "end\n",
    "function goto_attractor(ds_, time_attract)\n",
    "    tr = trajectory(ds_, time_attract; Ttr = tt, diffeq = integ_set)\n",
    "    u0_lc = tr[end]\n",
    "    return u0_lc\n",
    "end\n",
    "function spectrum(ds_)\n",
    "    ΛΛ = lyapunovspectrum(ds_, t; diffeq = integ_set)\n",
    "    return ΛΛ\n",
    "end\n",
    "function save_output(idx_U0, ΛΛ, u0_lc)\n",
    "    Λs[1, idx_U0, :] = ΛΛ\n",
    "    u0s[1, idx_U0, :] = u0_lc\n",
    "end\n",
    "function save_output(index_I0, idx_U0, ΛΛ, u0_lc)\n",
    "    Λs[index_I0, idx_U0, :] = ΛΛ\n",
    "    u0s[index_I0, idx_U0, :] = u0_lc\n",
    "end\n",
    "function save_tofile()\n",
    "    save(\"LSs_400x400.jld\", \"data\", Λs)\n",
    "    save(\"u0s_400x400.jld\", \"data\", u0s)\n",
    "end"
   ]
  },
  {
   "cell_type": "code",
   "execution_count": 20,
   "id": "9cf1d941",
   "metadata": {
    "scrolled": true
   },
   "outputs": [],
   "source": [
    "for (idx_U0, U0_) in enumerate(U0range)\n",
    "    \n",
    "    if idx_U0 == 1 # Проверка на первую итерацию\n",
    "        # Если использовать while условие не нужно!\n",
    "        global u0_lc = u0\n",
    "    end\n",
    "    \n",
    "    # output(idx_U0,U0_, u0_lc)\n",
    "    \n",
    "    ds = init_ds(U0_, u0_lc) # Инициализация системы\n",
    "    u0_lc = goto_attractor(ds, time_attract) # Выход на аттрактор\n",
    "    ds = init_ds(U0_, u0_lc)\n",
    "    ΛΛ = spectrum(ds) # Вычисление спектра\n",
    "    \n",
    "    # output_end_iter(ΛΛ, u0_lc)\n",
    "    \n",
    "    save_output(idx_U0, ΛΛ, u0_lc) # Сохранение значений\n",
    "    save_tofile()\n",
    "    \n",
    "    # separate()\n",
    "end"
   ]
  },
  {
   "cell_type": "code",
   "execution_count": 21,
   "id": "18bb7b6b",
   "metadata": {},
   "outputs": [
    {
     "name": "stderr",
     "output_type": "stream",
     "text": [
      "Error encountered while save FileIO.File{FileIO.DataFormat{:JLD}, String}(\"LSs_400x400.jld\").\n",
      "\n",
      "Fatal error:\n"
     ]
    },
    {
     "ename": "LoadError",
     "evalue": "HDF5.API.H5Error: Error creating file LSs_400x400.jld\nlibhdf5 Stacktrace:\n [1] \u001b[0m\u001b[1mH5FD__sec2_open\u001b[22m: File accessibility/Unable to open file\n\u001b[90m     unable to open file: name = 'LSs_400x400.jld', errno = 22, error message = 'Invalid argument', flags = 13, o_flags = 302\u001b[39m\n  ⋮\nStacktrace:\n  [1] \u001b[0m\u001b[1mmacro expansion\u001b[22m\n\u001b[90m    @ \u001b[39m\u001b[90mC:\\Users\\HOME\\.julia\\packages\\HDF5\\HtnQZ\\src\\api\\\u001b[39m\u001b[90m\u001b[4merror.jl:18\u001b[24m\u001b[39m\u001b[90m [inlined]\u001b[39m\n  [2] \u001b[0m\u001b[1mh5f_create\u001b[22m\u001b[0m\u001b[1m(\u001b[22m\u001b[90mpathname\u001b[39m::\u001b[0mString, \u001b[90mflags\u001b[39m::\u001b[0mUInt16, \u001b[90mfcpl_id\u001b[39m::\u001b[0mHDF5.FileCreateProperties, \u001b[90mfapl_id\u001b[39m::\u001b[0mHDF5.FileAccessProperties\u001b[0m\u001b[1m)\u001b[22m\n\u001b[90m    @ \u001b[39m\u001b[35mHDF5.API\u001b[39m \u001b[90mC:\\Users\\HOME\\.julia\\packages\\HDF5\\HtnQZ\\src\\api\\\u001b[39m\u001b[90m\u001b[4mfunctions.jl:1070\u001b[24m\u001b[39m\n  [3] \u001b[0m\u001b[1mjldopen\u001b[22m\u001b[0m\u001b[1m(\u001b[22m\u001b[90mfilename\u001b[39m::\u001b[0mString, \u001b[90mrd\u001b[39m::\u001b[0mBool, \u001b[90mwr\u001b[39m::\u001b[0mBool, \u001b[90mcr\u001b[39m::\u001b[0mBool, \u001b[90mtr\u001b[39m::\u001b[0mBool, \u001b[90mff\u001b[39m::\u001b[0mBool; \u001b[90mmmaparrays\u001b[39m::\u001b[0mBool, \u001b[90mcompatible\u001b[39m::\u001b[0mBool, \u001b[90mcompress\u001b[39m::\u001b[0mBool\u001b[0m\u001b[1m)\u001b[22m\n\u001b[90m    @ \u001b[39m\u001b[36mJLD\u001b[39m \u001b[90mC:\\Users\\HOME\\.julia\\packages\\JLD\\S6t6A\\src\\\u001b[39m\u001b[90m\u001b[4mJLD.jl:182\u001b[24m\u001b[39m\n  [4] \u001b[0m\u001b[1mjldopen\u001b[22m\u001b[0m\u001b[1m(\u001b[22m\u001b[90mfname\u001b[39m::\u001b[0mString, \u001b[90mmode\u001b[39m::\u001b[0mString; \u001b[90mmmaparrays\u001b[39m::\u001b[0mBool, \u001b[90mcompatible\u001b[39m::\u001b[0mBool, \u001b[90mcompress\u001b[39m::\u001b[0mBool\u001b[0m\u001b[1m)\u001b[22m\n\u001b[90m    @ \u001b[39m\u001b[36mJLD\u001b[39m \u001b[90mC:\\Users\\HOME\\.julia\\packages\\JLD\\S6t6A\\src\\\u001b[39m\u001b[90m\u001b[4mJLD.jl:250\u001b[24m\u001b[39m\n  [5] \u001b[0m\u001b[1mjldopen\u001b[22m\u001b[0m\u001b[1m(\u001b[22m::\u001b[0mJLD.var\"#41#42\"\u001b[90m{String, Array{Float64, 3}, Tuple{}}\u001b[39m, ::\u001b[0mString, ::\u001b[0mVararg\u001b[90m{String}\u001b[39m; \u001b[90mkws\u001b[39m::\u001b[0mBase.Pairs\u001b[90m{Symbol, Bool, Tuple{Symbol, Symbol}, NamedTuple{(:compatible, :compress), Tuple{Bool, Bool}}}\u001b[39m\u001b[0m\u001b[1m)\u001b[22m\n\u001b[90m    @ \u001b[39m\u001b[36mJLD\u001b[39m \u001b[90mC:\\Users\\HOME\\.julia\\packages\\JLD\\S6t6A\\src\\\u001b[39m\u001b[90m\u001b[4mJLD.jl:260\u001b[24m\u001b[39m\n  [6] \u001b[0m\u001b[1m#fileio_save#40\u001b[22m\n\u001b[90m    @ \u001b[39m\u001b[90mC:\\Users\\HOME\\.julia\\packages\\JLD\\S6t6A\\src\\\u001b[39m\u001b[90m\u001b[4mJLD.jl:1316\u001b[24m\u001b[39m\u001b[90m [inlined]\u001b[39m\n  [7] \u001b[0m\u001b[1mfileio_save\u001b[22m\u001b[0m\u001b[1m(\u001b[22m::\u001b[0mFileIO.File\u001b[90m{FileIO.DataFormat{:JLD}, String}\u001b[39m, ::\u001b[0mString, ::\u001b[0mArray\u001b[90m{Float64, 3}\u001b[39m\u001b[0m\u001b[1m)\u001b[22m\n\u001b[90m    @ \u001b[39m\u001b[36mJLD\u001b[39m \u001b[90mC:\\Users\\HOME\\.julia\\packages\\JLD\\S6t6A\\src\\\u001b[39m\u001b[90m\u001b[4mJLD.jl:1312\u001b[24m\u001b[39m\n  [8] \u001b[0m\u001b[1minvokelatest\u001b[22m\u001b[0m\u001b[1m(\u001b[22m::\u001b[0mAny, ::\u001b[0mAny, ::\u001b[0mVararg\u001b[90m{Any}\u001b[39m; \u001b[90mkwargs\u001b[39m::\u001b[0mBase.Pairs\u001b[90m{Symbol, Union{}, Tuple{}, NamedTuple{(), Tuple{}}}\u001b[39m\u001b[0m\u001b[1m)\u001b[22m\n\u001b[90m    @ \u001b[39m\u001b[90mBase\u001b[39m \u001b[90m.\\\u001b[39m\u001b[90m\u001b[4messentials.jl:729\u001b[24m\u001b[39m\n  [9] \u001b[0m\u001b[1minvokelatest\u001b[22m\u001b[0m\u001b[1m(\u001b[22m::\u001b[0mAny, ::\u001b[0mAny, ::\u001b[0mVararg\u001b[90m{Any}\u001b[39m\u001b[0m\u001b[1m)\u001b[22m\n\u001b[90m    @ \u001b[39m\u001b[90mBase\u001b[39m \u001b[90m.\\\u001b[39m\u001b[90m\u001b[4messentials.jl:726\u001b[24m\u001b[39m\n [10] \u001b[0m\u001b[1maction\u001b[22m\u001b[0m\u001b[1m(\u001b[22m::\u001b[0mSymbol, ::\u001b[0mVector\u001b[90m{Union{Base.PkgId, Module}}\u001b[39m, ::\u001b[0mFileIO.Formatted, ::\u001b[0mString, ::\u001b[0mVararg\u001b[90m{Any}\u001b[39m; \u001b[90moptions\u001b[39m::\u001b[0mBase.Pairs\u001b[90m{Symbol, Union{}, Tuple{}, NamedTuple{(), Tuple{}}}\u001b[39m\u001b[0m\u001b[1m)\u001b[22m\n\u001b[90m    @ \u001b[39m\u001b[32mFileIO\u001b[39m \u001b[90mC:\\Users\\HOME\\.julia\\packages\\FileIO\\aP78L\\src\\\u001b[39m\u001b[90m\u001b[4mloadsave.jl:219\u001b[24m\u001b[39m\n [11] \u001b[0m\u001b[1maction\u001b[22m\u001b[0m\u001b[1m(\u001b[22m::\u001b[0mSymbol, ::\u001b[0mVector\u001b[90m{Union{Base.PkgId, Module}}\u001b[39m, ::\u001b[0mFileIO.Formatted, ::\u001b[0mString, ::\u001b[0mArray\u001b[90m{Float64, 3}\u001b[39m\u001b[0m\u001b[1m)\u001b[22m\n\u001b[90m    @ \u001b[39m\u001b[32mFileIO\u001b[39m \u001b[90mC:\\Users\\HOME\\.julia\\packages\\FileIO\\aP78L\\src\\\u001b[39m\u001b[90m\u001b[4mloadsave.jl:196\u001b[24m\u001b[39m\n [12] \u001b[0m\u001b[1maction\u001b[22m\u001b[0m\u001b[1m(\u001b[22m::\u001b[0mSymbol, ::\u001b[0mVector\u001b[90m{Union{Base.PkgId, Module}}\u001b[39m, ::\u001b[0mSymbol, ::\u001b[0mString, ::\u001b[0mString, ::\u001b[0mVararg\u001b[90m{Any}\u001b[39m; \u001b[90moptions\u001b[39m::\u001b[0mBase.Pairs\u001b[90m{Symbol, Union{}, Tuple{}, NamedTuple{(), Tuple{}}}\u001b[39m\u001b[0m\u001b[1m)\u001b[22m\n\u001b[90m    @ \u001b[39m\u001b[32mFileIO\u001b[39m \u001b[90mC:\\Users\\HOME\\.julia\\packages\\FileIO\\aP78L\\src\\\u001b[39m\u001b[90m\u001b[4mloadsave.jl:185\u001b[24m\u001b[39m\n [13] \u001b[0m\u001b[1maction\u001b[22m\n\u001b[90m    @ \u001b[39m\u001b[90mC:\\Users\\HOME\\.julia\\packages\\FileIO\\aP78L\\src\\\u001b[39m\u001b[90m\u001b[4mloadsave.jl:185\u001b[24m\u001b[39m\u001b[90m [inlined]\u001b[39m\n [14] \u001b[0m\u001b[1m#save#20\u001b[22m\n\u001b[90m    @ \u001b[39m\u001b[90mC:\\Users\\HOME\\.julia\\packages\\FileIO\\aP78L\\src\\\u001b[39m\u001b[90m\u001b[4mloadsave.jl:129\u001b[24m\u001b[39m\u001b[90m [inlined]\u001b[39m\n [15] \u001b[0m\u001b[1msave\u001b[22m\n\u001b[90m    @ \u001b[39m\u001b[90mC:\\Users\\HOME\\.julia\\packages\\FileIO\\aP78L\\src\\\u001b[39m\u001b[90m\u001b[4mloadsave.jl:125\u001b[24m\u001b[39m\u001b[90m [inlined]\u001b[39m\n [16] \u001b[0m\u001b[1msave_tofile\u001b[22m\u001b[0m\u001b[1m(\u001b[22m\u001b[0m\u001b[1m)\u001b[22m\n\u001b[90m    @ \u001b[39m\u001b[33mMain\u001b[39m \u001b[90m.\\\u001b[39m\u001b[90m\u001b[4mIn[19]:31\u001b[24m\u001b[39m\n [17] top-level scope\n\u001b[90m    @ \u001b[39m\u001b[90m.\\\u001b[39m\u001b[90m\u001b[4mIn[21]:21\u001b[24m\u001b[39m",
     "output_type": "error",
     "traceback": [
      "HDF5.API.H5Error: Error creating file LSs_400x400.jld\nlibhdf5 Stacktrace:\n [1] \u001b[0m\u001b[1mH5FD__sec2_open\u001b[22m: File accessibility/Unable to open file\n\u001b[90m     unable to open file: name = 'LSs_400x400.jld', errno = 22, error message = 'Invalid argument', flags = 13, o_flags = 302\u001b[39m\n  ⋮\nStacktrace:\n  [1] \u001b[0m\u001b[1mmacro expansion\u001b[22m\n\u001b[90m    @ \u001b[39m\u001b[90mC:\\Users\\HOME\\.julia\\packages\\HDF5\\HtnQZ\\src\\api\\\u001b[39m\u001b[90m\u001b[4merror.jl:18\u001b[24m\u001b[39m\u001b[90m [inlined]\u001b[39m\n  [2] \u001b[0m\u001b[1mh5f_create\u001b[22m\u001b[0m\u001b[1m(\u001b[22m\u001b[90mpathname\u001b[39m::\u001b[0mString, \u001b[90mflags\u001b[39m::\u001b[0mUInt16, \u001b[90mfcpl_id\u001b[39m::\u001b[0mHDF5.FileCreateProperties, \u001b[90mfapl_id\u001b[39m::\u001b[0mHDF5.FileAccessProperties\u001b[0m\u001b[1m)\u001b[22m\n\u001b[90m    @ \u001b[39m\u001b[35mHDF5.API\u001b[39m \u001b[90mC:\\Users\\HOME\\.julia\\packages\\HDF5\\HtnQZ\\src\\api\\\u001b[39m\u001b[90m\u001b[4mfunctions.jl:1070\u001b[24m\u001b[39m\n  [3] \u001b[0m\u001b[1mjldopen\u001b[22m\u001b[0m\u001b[1m(\u001b[22m\u001b[90mfilename\u001b[39m::\u001b[0mString, \u001b[90mrd\u001b[39m::\u001b[0mBool, \u001b[90mwr\u001b[39m::\u001b[0mBool, \u001b[90mcr\u001b[39m::\u001b[0mBool, \u001b[90mtr\u001b[39m::\u001b[0mBool, \u001b[90mff\u001b[39m::\u001b[0mBool; \u001b[90mmmaparrays\u001b[39m::\u001b[0mBool, \u001b[90mcompatible\u001b[39m::\u001b[0mBool, \u001b[90mcompress\u001b[39m::\u001b[0mBool\u001b[0m\u001b[1m)\u001b[22m\n\u001b[90m    @ \u001b[39m\u001b[36mJLD\u001b[39m \u001b[90mC:\\Users\\HOME\\.julia\\packages\\JLD\\S6t6A\\src\\\u001b[39m\u001b[90m\u001b[4mJLD.jl:182\u001b[24m\u001b[39m\n  [4] \u001b[0m\u001b[1mjldopen\u001b[22m\u001b[0m\u001b[1m(\u001b[22m\u001b[90mfname\u001b[39m::\u001b[0mString, \u001b[90mmode\u001b[39m::\u001b[0mString; \u001b[90mmmaparrays\u001b[39m::\u001b[0mBool, \u001b[90mcompatible\u001b[39m::\u001b[0mBool, \u001b[90mcompress\u001b[39m::\u001b[0mBool\u001b[0m\u001b[1m)\u001b[22m\n\u001b[90m    @ \u001b[39m\u001b[36mJLD\u001b[39m \u001b[90mC:\\Users\\HOME\\.julia\\packages\\JLD\\S6t6A\\src\\\u001b[39m\u001b[90m\u001b[4mJLD.jl:250\u001b[24m\u001b[39m\n  [5] \u001b[0m\u001b[1mjldopen\u001b[22m\u001b[0m\u001b[1m(\u001b[22m::\u001b[0mJLD.var\"#41#42\"\u001b[90m{String, Array{Float64, 3}, Tuple{}}\u001b[39m, ::\u001b[0mString, ::\u001b[0mVararg\u001b[90m{String}\u001b[39m; \u001b[90mkws\u001b[39m::\u001b[0mBase.Pairs\u001b[90m{Symbol, Bool, Tuple{Symbol, Symbol}, NamedTuple{(:compatible, :compress), Tuple{Bool, Bool}}}\u001b[39m\u001b[0m\u001b[1m)\u001b[22m\n\u001b[90m    @ \u001b[39m\u001b[36mJLD\u001b[39m \u001b[90mC:\\Users\\HOME\\.julia\\packages\\JLD\\S6t6A\\src\\\u001b[39m\u001b[90m\u001b[4mJLD.jl:260\u001b[24m\u001b[39m\n  [6] \u001b[0m\u001b[1m#fileio_save#40\u001b[22m\n\u001b[90m    @ \u001b[39m\u001b[90mC:\\Users\\HOME\\.julia\\packages\\JLD\\S6t6A\\src\\\u001b[39m\u001b[90m\u001b[4mJLD.jl:1316\u001b[24m\u001b[39m\u001b[90m [inlined]\u001b[39m\n  [7] \u001b[0m\u001b[1mfileio_save\u001b[22m\u001b[0m\u001b[1m(\u001b[22m::\u001b[0mFileIO.File\u001b[90m{FileIO.DataFormat{:JLD}, String}\u001b[39m, ::\u001b[0mString, ::\u001b[0mArray\u001b[90m{Float64, 3}\u001b[39m\u001b[0m\u001b[1m)\u001b[22m\n\u001b[90m    @ \u001b[39m\u001b[36mJLD\u001b[39m \u001b[90mC:\\Users\\HOME\\.julia\\packages\\JLD\\S6t6A\\src\\\u001b[39m\u001b[90m\u001b[4mJLD.jl:1312\u001b[24m\u001b[39m\n  [8] \u001b[0m\u001b[1minvokelatest\u001b[22m\u001b[0m\u001b[1m(\u001b[22m::\u001b[0mAny, ::\u001b[0mAny, ::\u001b[0mVararg\u001b[90m{Any}\u001b[39m; \u001b[90mkwargs\u001b[39m::\u001b[0mBase.Pairs\u001b[90m{Symbol, Union{}, Tuple{}, NamedTuple{(), Tuple{}}}\u001b[39m\u001b[0m\u001b[1m)\u001b[22m\n\u001b[90m    @ \u001b[39m\u001b[90mBase\u001b[39m \u001b[90m.\\\u001b[39m\u001b[90m\u001b[4messentials.jl:729\u001b[24m\u001b[39m\n  [9] \u001b[0m\u001b[1minvokelatest\u001b[22m\u001b[0m\u001b[1m(\u001b[22m::\u001b[0mAny, ::\u001b[0mAny, ::\u001b[0mVararg\u001b[90m{Any}\u001b[39m\u001b[0m\u001b[1m)\u001b[22m\n\u001b[90m    @ \u001b[39m\u001b[90mBase\u001b[39m \u001b[90m.\\\u001b[39m\u001b[90m\u001b[4messentials.jl:726\u001b[24m\u001b[39m\n [10] \u001b[0m\u001b[1maction\u001b[22m\u001b[0m\u001b[1m(\u001b[22m::\u001b[0mSymbol, ::\u001b[0mVector\u001b[90m{Union{Base.PkgId, Module}}\u001b[39m, ::\u001b[0mFileIO.Formatted, ::\u001b[0mString, ::\u001b[0mVararg\u001b[90m{Any}\u001b[39m; \u001b[90moptions\u001b[39m::\u001b[0mBase.Pairs\u001b[90m{Symbol, Union{}, Tuple{}, NamedTuple{(), Tuple{}}}\u001b[39m\u001b[0m\u001b[1m)\u001b[22m\n\u001b[90m    @ \u001b[39m\u001b[32mFileIO\u001b[39m \u001b[90mC:\\Users\\HOME\\.julia\\packages\\FileIO\\aP78L\\src\\\u001b[39m\u001b[90m\u001b[4mloadsave.jl:219\u001b[24m\u001b[39m\n [11] \u001b[0m\u001b[1maction\u001b[22m\u001b[0m\u001b[1m(\u001b[22m::\u001b[0mSymbol, ::\u001b[0mVector\u001b[90m{Union{Base.PkgId, Module}}\u001b[39m, ::\u001b[0mFileIO.Formatted, ::\u001b[0mString, ::\u001b[0mArray\u001b[90m{Float64, 3}\u001b[39m\u001b[0m\u001b[1m)\u001b[22m\n\u001b[90m    @ \u001b[39m\u001b[32mFileIO\u001b[39m \u001b[90mC:\\Users\\HOME\\.julia\\packages\\FileIO\\aP78L\\src\\\u001b[39m\u001b[90m\u001b[4mloadsave.jl:196\u001b[24m\u001b[39m\n [12] \u001b[0m\u001b[1maction\u001b[22m\u001b[0m\u001b[1m(\u001b[22m::\u001b[0mSymbol, ::\u001b[0mVector\u001b[90m{Union{Base.PkgId, Module}}\u001b[39m, ::\u001b[0mSymbol, ::\u001b[0mString, ::\u001b[0mString, ::\u001b[0mVararg\u001b[90m{Any}\u001b[39m; \u001b[90moptions\u001b[39m::\u001b[0mBase.Pairs\u001b[90m{Symbol, Union{}, Tuple{}, NamedTuple{(), Tuple{}}}\u001b[39m\u001b[0m\u001b[1m)\u001b[22m\n\u001b[90m    @ \u001b[39m\u001b[32mFileIO\u001b[39m \u001b[90mC:\\Users\\HOME\\.julia\\packages\\FileIO\\aP78L\\src\\\u001b[39m\u001b[90m\u001b[4mloadsave.jl:185\u001b[24m\u001b[39m\n [13] \u001b[0m\u001b[1maction\u001b[22m\n\u001b[90m    @ \u001b[39m\u001b[90mC:\\Users\\HOME\\.julia\\packages\\FileIO\\aP78L\\src\\\u001b[39m\u001b[90m\u001b[4mloadsave.jl:185\u001b[24m\u001b[39m\u001b[90m [inlined]\u001b[39m\n [14] \u001b[0m\u001b[1m#save#20\u001b[22m\n\u001b[90m    @ \u001b[39m\u001b[90mC:\\Users\\HOME\\.julia\\packages\\FileIO\\aP78L\\src\\\u001b[39m\u001b[90m\u001b[4mloadsave.jl:129\u001b[24m\u001b[39m\u001b[90m [inlined]\u001b[39m\n [15] \u001b[0m\u001b[1msave\u001b[22m\n\u001b[90m    @ \u001b[39m\u001b[90mC:\\Users\\HOME\\.julia\\packages\\FileIO\\aP78L\\src\\\u001b[39m\u001b[90m\u001b[4mloadsave.jl:125\u001b[24m\u001b[39m\u001b[90m [inlined]\u001b[39m\n [16] \u001b[0m\u001b[1msave_tofile\u001b[22m\u001b[0m\u001b[1m(\u001b[22m\u001b[0m\u001b[1m)\u001b[22m\n\u001b[90m    @ \u001b[39m\u001b[33mMain\u001b[39m \u001b[90m.\\\u001b[39m\u001b[90m\u001b[4mIn[19]:31\u001b[24m\u001b[39m\n [17] top-level scope\n\u001b[90m    @ \u001b[39m\u001b[90m.\\\u001b[39m\u001b[90m\u001b[4mIn[21]:21\u001b[24m\u001b[39m",
      "",
      "Stacktrace:",
      "  [1] handle_error(e::HDF5.API.H5Error, q::Base.PkgId, bt::Vector{Union{Ptr{Nothing}, Base.InterpreterIP}})",
      "    @ FileIO C:\\Users\\HOME\\.julia\\packages\\FileIO\\aP78L\\src\\error_handling.jl:61",
      "  [2] handle_exceptions(exceptions::Vector{Tuple{Any, Union{Base.PkgId, Module}, Vector}}, action::String)",
      "    @ FileIO C:\\Users\\HOME\\.julia\\packages\\FileIO\\aP78L\\src\\error_handling.jl:56",
      "  [3] action(::Symbol, ::Vector{Union{Base.PkgId, Module}}, ::FileIO.Formatted, ::String, ::Vararg{Any}; options::Base.Pairs{Symbol, Union{}, Tuple{}, NamedTuple{(), Tuple{}}})",
      "    @ FileIO C:\\Users\\HOME\\.julia\\packages\\FileIO\\aP78L\\src\\loadsave.jl:228",
      "  [4] action(::Symbol, ::Vector{Union{Base.PkgId, Module}}, ::FileIO.Formatted, ::String, ::Array{Float64, 3})",
      "    @ FileIO C:\\Users\\HOME\\.julia\\packages\\FileIO\\aP78L\\src\\loadsave.jl:196",
      "  [5] action(::Symbol, ::Vector{Union{Base.PkgId, Module}}, ::Symbol, ::String, ::String, ::Vararg{Any}; options::Base.Pairs{Symbol, Union{}, Tuple{}, NamedTuple{(), Tuple{}}})",
      "    @ FileIO C:\\Users\\HOME\\.julia\\packages\\FileIO\\aP78L\\src\\loadsave.jl:185",
      "  [6] action",
      "    @ C:\\Users\\HOME\\.julia\\packages\\FileIO\\aP78L\\src\\loadsave.jl:185 [inlined]",
      "  [7] #save#20",
      "    @ C:\\Users\\HOME\\.julia\\packages\\FileIO\\aP78L\\src\\loadsave.jl:129 [inlined]",
      "  [8] save",
      "    @ C:\\Users\\HOME\\.julia\\packages\\FileIO\\aP78L\\src\\loadsave.jl:125 [inlined]",
      "  [9] save_tofile()",
      "    @ Main .\\In[19]:31",
      " [10] top-level scope",
      "    @ .\\In[21]:21"
     ]
    }
   ],
   "source": [
    "for (idx_U0, U0_) in enumerate(U0range)\n",
    "    for (idx_I0, I0_) in enumerate(I0range)\n",
    "        \n",
    "        if idx_I0 == 1 # Если использовать while условие не нужно!\n",
    "            continue\n",
    "        end\n",
    "        \n",
    "        \n",
    "        u0_lc = u0s[idx_I0 - 1, idx_U0, :]\n",
    "        \n",
    "        # output(idx_I0, idx_U0, I0_, U0_, u0_lc)\n",
    "        \n",
    "        ds = init_ds(U0_, I0_, u0_lc)\n",
    "        u0_lc = goto_attractor(ds, time_attract) # Выход на аттрактор\n",
    "        ds = init_ds(U0_, I0_, u0_lc) \n",
    "        ΛΛ = spectrum(ds) # Вычисление спектра\n",
    "        \n",
    "        # output_end_iter(ΛΛ, u0_lc)\n",
    "        \n",
    "        save_output(idx_I0, idx_U0, ΛΛ, u0_lc)\n",
    "        save_tofile()\n",
    "        \n",
    "        # separate()\n",
    "    end\n",
    "end"
   ]
  }
 ],
 "metadata": {
  "kernelspec": {
   "display_name": "Julia 1.8.5",
   "language": "julia",
   "name": "julia-1.8"
  },
  "language_info": {
   "file_extension": ".jl",
   "mimetype": "application/julia",
   "name": "julia",
   "version": "1.8.5"
  }
 },
 "nbformat": 4,
 "nbformat_minor": 5
}
