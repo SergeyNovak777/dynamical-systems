{
 "cells": [
  {
   "cell_type": "code",
   "execution_count": 1,
   "id": "95365e8a",
   "metadata": {
    "scrolled": true
   },
   "outputs": [
    {
     "name": "stderr",
     "output_type": "stream",
     "text": [
      "\u001b[32m\u001b[1m  Activating\u001b[22m\u001b[39m project at `D:\\Science\\Code\\Julia\\envr`\n"
     ]
    }
   ],
   "source": [
    "using Pkg\n",
    "Pkg.activate(\"D:\\\\Science\\\\Code\\\\Julia\\\\envr\")\n",
    "\n",
    "using StaticArrays, DifferentialEquations, DynamicalSystems, JLD"
   ]
  },
  {
   "cell_type": "code",
   "execution_count": 3,
   "id": "39e21e6c",
   "metadata": {},
   "outputs": [],
   "source": [
    "function TM(u, p, t)\n",
    "\n",
    "    U(y) = p[8] + p[9] / ( 1.0 + exp( -50.0 * (y - p[7]) ) )\n",
    "    σ(x) = 1.0 / ( 1.0 + exp( -20.0 * (x-p[6]) ) )\n",
    "\n",
    "    du1 = (-u[1] + p[1] * log( 1.0 + exp( (p[5] * U(u[3]) * u[2] * u[1] + p[11]  ) / (p[1]) ) ) ) / p[2]\n",
    "    du2 = (1.0 - u[2])/p[3] - U(u[3])*u[2]*u[1]\n",
    "    du3 = (-u[3])/p[4] + p[10] * σ(u[2])\n",
    "    return SA[du1, du2, du3]\n",
    "end;"
   ]
  },
  {
   "cell_type": "code",
   "execution_count": 4,
   "id": "64acc277",
   "metadata": {},
   "outputs": [],
   "source": [
    "function output(idx_I0, idx_U0, I0, U0, u0)\n",
    "    println(\"Индекс I0: $idx_I0; I0: $I0\");flush(stdout)\n",
    "    println(\"Индекс U0: $idx_U0; U0: $U0\");flush(stdout)\n",
    "    println(\"Начальные условия: $u0\");flush(stdout)\n",
    "end\n",
    "function output(idx_U0,U0, u0)\n",
    "    println(\"Индекс U0: $idx_U0; U0: $U0\");flush(stdout)\n",
    "    println(\"Начальные условия: $u0\");flush(stdout)\n",
    "end\n",
    "function output_end_iter(ΛΛ, u0_lc)\n",
    "    println(\"Спектр: $(ΛΛ)\");flush(stdout)\n",
    "    println(\"Последняя точка: $(u0_lc)\");flush(stdout)\n",
    "end\n",
    "function separate()\n",
    "    println();flush(stdout)\n",
    "    println(\"---------\");flush(stdout)\n",
    "end;"
   ]
  },
  {
   "cell_type": "code",
   "execution_count": 10,
   "id": "df971f46",
   "metadata": {},
   "outputs": [
    {
     "data": {
      "text/plain": [
       "save_tofile (generic function with 1 method)"
      ]
     },
     "execution_count": 10,
     "metadata": {},
     "output_type": "execute_result"
    }
   ],
   "source": [
    "function init_ds(U0_, u0_lc)\n",
    "    p = SA[α, τ, τD, τy, J, xthr, ythr, U0_, ΔU0, β, I0_start]\n",
    "    ds = ContinuousDynamicalSystem(TM, u0_lc, p)\n",
    "    return ds\n",
    "end\n",
    "function init_ds(U0_, I0_, u0_lc)\n",
    "    p = SA[α, τ, τD, τy, J, xthr, ythr, U0_, ΔU0, β, I0_]\n",
    "    ds = ContinuousDynamicalSystem(TM, u0_lc, p)\n",
    "    return ds\n",
    "end\n",
    "function goto_attractor(ds_, time_attract)\n",
    "    tr = trajectory(ds_, time_attract; Ttr = tt, diffeq = integ_set)\n",
    "    u0_lc = tr[end]\n",
    "    return u0_lc\n",
    "end\n",
    "function spectrum(ds_)\n",
    "    ΛΛ = lyapunovspectrum(ds_, t; diffeq = integ_set)\n",
    "    return ΛΛ\n",
    "end\n",
    "function save_output(idx_U0, ΛΛ, u0_lc)\n",
    "    Λs[1, idx_U0, :] = ΛΛ\n",
    "    u0s[1, idx_U0, :] = u0_lc\n",
    "end\n",
    "function save_output(index_I0, idx_U0, ΛΛ, u0_lc)\n",
    "    Λs[index_I0, idx_U0, :] = ΛΛ\n",
    "    u0s[index_I0, idx_U0, :] = u0_lc\n",
    "end\n",
    "function save_tofile()\n",
    "    save(\"LSs_200x200.jld\", \"data\", Λs)\n",
    "    save(\"u0s_200x200.jld\", \"data\", u0s)\n",
    "end"
   ]
  },
  {
   "cell_type": "code",
   "execution_count": 5,
   "id": "7a5db5e2",
   "metadata": {},
   "outputs": [],
   "source": [
    "t = 1000.0; tt = 250.0; tstep = 0.001\n",
    "time_attract = 100.0\n",
    "integ_set = (alg = RK4(), adaptive = false, dt = tstep);"
   ]
  },
  {
   "cell_type": "code",
   "execution_count": 6,
   "id": "441e01c8",
   "metadata": {},
   "outputs": [],
   "source": [
    "const τ = 0.013;  const τD = 0.080;  const τy = 3.3;  const J = 3.07;  const β = 0.300\n",
    "const xthr = 0.75; const ythr = 0.4\n",
    "const α = 1.58;  U0 = 0.3;  const ΔU0 = 0.305; I0 = -1.40;"
   ]
  },
  {
   "cell_type": "code",
   "execution_count": 7,
   "id": "2ed637a3",
   "metadata": {},
   "outputs": [
    {
     "data": {
      "text/plain": [
       "3-element SVector{3, Float64} with indices SOneTo(3):\n",
       " 8.39353\n",
       " 0.73803\n",
       " 0.429055"
      ]
     },
     "execution_count": 7,
     "metadata": {},
     "output_type": "execute_result"
    }
   ],
   "source": [
    "u0 = SA[8.39353, 0.73803, 0.429055];"
   ]
  },
  {
   "cell_type": "code",
   "execution_count": 8,
   "id": "af7a79a3",
   "metadata": {},
   "outputs": [
    {
     "data": {
      "text/plain": [
       "det_step (generic function with 1 method)"
      ]
     },
     "execution_count": 8,
     "metadata": {},
     "output_type": "execute_result"
    }
   ],
   "source": [
    "function det_step(start, finish, len)\n",
    "    return (finish - start) / len\n",
    "end"
   ]
  },
  {
   "cell_type": "code",
   "execution_count": 97,
   "id": "c9ec2d3e",
   "metadata": {},
   "outputs": [
    {
     "name": "stdout",
     "output_type": "stream",
     "text": [
      "My version step: -0.0007725000000000004  0.000425\n",
      "Julia version step: -0.0007744360902255387  0.00042606516290721874\n"
     ]
    }
   ],
   "source": [
    "general_len = 400\n",
    "\n",
    "I0_start = -1.40; I0_finish = -1.709; len_I0 = general_len\n",
    "U0_start = 0.30; U0_finish = 0.47; len_U0 = general_len\n",
    "\n",
    "step_I0 = det_step(I0_start, I0_finish, len_I0)\n",
    "step_U0 = det_step(U0_start, U0_finish, len_U0)\n",
    "\n",
    "I0range = range( I0_start, I0_finish, length = len_I0 )\n",
    "U0range = range( U0_start,  U0_finish, length = len_U0)\n",
    "\n",
    "println(\"My version step: \", step_I0, \"  \", step_U0)\n",
    "println(\"Julia version step: \", I0range.step.hi, \"  \", U0range.step.hi)"
   ]
  },
  {
   "cell_type": "code",
   "execution_count": 9,
   "id": "69711302",
   "metadata": {},
   "outputs": [],
   "source": [
    "Λs = zeros(len_I0, len_U0, 3)\n",
    "u0s = zeros(len_I0, len_U0, 3);"
   ]
  },
  {
   "cell_type": "code",
   "execution_count": 11,
   "id": "9cf1d941",
   "metadata": {
    "scrolled": true
   },
   "outputs": [],
   "source": [
    "for (idx_U0, U0_) in enumerate(U0range)\n",
    "    \n",
    "    if idx_U0 == 1 # Проверка на первую итерацию\n",
    "        # Если использовать while условие не нужно!\n",
    "        global u0_lc = u0\n",
    "    end\n",
    "    \n",
    "    # output(idx_U0,U0_, u0_lc)\n",
    "    \n",
    "    ds = init_ds(U0_, u0_lc) # Инициализация системы\n",
    "    u0_lc = goto_attractor(ds, time_attract) # Выход на аттрактор\n",
    "    ds = init_ds(U0_, u0_lc)\n",
    "    \n",
    "    ΛΛ = spectrum(ds) # Вычисление спектра\n",
    "    \n",
    "    # output_end_iter(ΛΛ, u0_lc)\n",
    "    \n",
    "    save_output(idx_U0, ΛΛ, u0_lc) # Сохранение значений\n",
    "    save_tofile()\n",
    "    \n",
    "    # separate()\n",
    "\n",
    "end"
   ]
  },
  {
   "cell_type": "code",
   "execution_count": null,
   "id": "18bb7b6b",
   "metadata": {},
   "outputs": [],
   "source": [
    "for (idx_U0, U0_) in enumerate(U0range)\n",
    "    for (idx_I0, I0_) in enumerate(I0range)\n",
    "        \n",
    "        if idx_I0 == 1 # Если использовать while условие не нужно!\n",
    "            continue\n",
    "        end\n",
    "        \n",
    "        \n",
    "        u0_lc = u0s[idx_I0 - 1, idx_U0, :]\n",
    "        \n",
    "        # output(idx_I0, idx_U0, I0_, U0_, u0_lc)\n",
    "        \n",
    "        ds = init_ds(U0_, I0_, u0_lc)\n",
    "        u0_lc = goto_attractor(ds, time_attract) # Выход на аттрактор\n",
    "        ds = init_ds(U0_, I0_, u0_lc) \n",
    "        ΛΛ = spectrum(ds) # Вычисление спектра\n",
    "        \n",
    "        # output_end_iter(ΛΛ, u0_lc)\n",
    "        \n",
    "        save_output(idx_I0, idx_U0, ΛΛ, u0_lc)\n",
    "        save_tofile()\n",
    "        \n",
    "        # separate()\n",
    "        \n",
    "    end\n",
    "end"
   ]
  }
 ],
 "metadata": {
  "kernelspec": {
   "display_name": "Julia 1.8.5",
   "language": "julia",
   "name": "julia-1.8"
  },
  "language_info": {
   "file_extension": ".jl",
   "mimetype": "application/julia",
   "name": "julia",
   "version": "1.8.5"
  }
 },
 "nbformat": 4,
 "nbformat_minor": 5
}
