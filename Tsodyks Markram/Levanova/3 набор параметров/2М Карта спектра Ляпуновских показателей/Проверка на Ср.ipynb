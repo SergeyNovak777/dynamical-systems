{
 "cells": [
  {
   "cell_type": "code",
   "execution_count": null,
   "id": "95365e8a",
   "metadata": {
    "scrolled": true
   },
   "outputs": [],
   "source": [
    "using Pkg\n",
    "Pkg.activate(\"D:\\\\Science\\\\Code\\\\Julia\\\\envr\")"
   ]
  },
  {
   "cell_type": "code",
   "execution_count": 1,
   "id": "1e765d35",
   "metadata": {},
   "outputs": [],
   "source": [
    "using StaticArrays, DifferentialEquations, DynamicalSystems\n",
    "E = x = y = -15..15\n",
    "box = E × x × y\n",
    "using CairoMakie"
   ]
  },
  {
   "cell_type": "code",
   "execution_count": 2,
   "id": "39e21e6c",
   "metadata": {},
   "outputs": [],
   "source": [
    "function TM(u, p, t)\n",
    "\n",
    "    U(y) = U0 + ΔU0 / ( 1 + exp( -50*(y-ythr) ) )\n",
    "    σ(x) = 1 / ( 1 + exp( -20*(x-xthr) ) )\n",
    "\n",
    "    E, x, y = u\n",
    "    α, τ, τD, τy, J, xthr, ythr, U0, ΔU0, β, I0 = p\n",
    "\n",
    "    du1 = (-E + α * log( 1 + exp( (J * U(y) * x * E + I0  ) / (α) ) ) ) / τ\n",
    "    du2 = (1-x)/τD - U(y)*x*E\n",
    "    du3 = (-y)/τy+β*σ(x)\n",
    "    return SVector(du1, du2, du3)\n",
    "end;"
   ]
  },
  {
   "cell_type": "code",
   "execution_count": 3,
   "id": "7a5db5e2",
   "metadata": {},
   "outputs": [],
   "source": [
    "t = 100.0; tt = 250.0; tstep = 0.001\n",
    "trange = range(0.0, t, step = tstep)\n",
    "integ_set = (alg = RK4(), adaptive = false, dt = tstep);"
   ]
  },
  {
   "cell_type": "code",
   "execution_count": 20,
   "id": "441e01c8",
   "metadata": {},
   "outputs": [],
   "source": [
    "const τ = 0.013;  const τD = 0.080;  const τy = 3.3;  const J = 3.07;  const β = 0.300\n",
    "const xthr = 0.75; const ythr = 0.4\n",
    "const α = 1.58;  U0 = 0.4959183673469388;  const ΔU0 = 0.305; I0 = -1.40;"
   ]
  },
  {
   "cell_type": "code",
   "execution_count": 21,
   "id": "2ed637a3",
   "metadata": {},
   "outputs": [
    {
     "data": {
      "text/plain": [
       "3-element SVector{3, Float64} with indices SOneTo(3):\n",
       " 9.322282364689952\n",
       " 0.720704915231178\n",
       " 0.35399998972752417"
      ]
     },
     "execution_count": 21,
     "metadata": {},
     "output_type": "execute_result"
    }
   ],
   "source": [
    "u0 = SA[9.322282364689952, 0.720704915231178, 0.35399998972752417]"
   ]
  },
  {
   "cell_type": "code",
   "execution_count": 22,
   "id": "7350303b",
   "metadata": {},
   "outputs": [
    {
     "data": {
      "text/plain": [
       "3-dimensional continuous dynamical system\n",
       " state:       [9.32228, 0.720705, 0.354]\n",
       " rule f:      TM\n",
       " in-place?    false\n",
       " jacobian:    ForwardDiff\n",
       " parameters:  [1.58, 0.013, 0.08, 3.3, 3.07, …, 0.495918, 0.305, 0.3, -1.4]"
      ]
     },
     "execution_count": 22,
     "metadata": {},
     "output_type": "execute_result"
    }
   ],
   "source": [
    "p = [α, τ, τD, τy, J, xthr, ythr, U0, ΔU0, β, I0]\n",
    "ds = ContinuousDynamicalSystem(TM, u0, p)"
   ]
  },
  {
   "cell_type": "code",
   "execution_count": 23,
   "id": "13514c6e",
   "metadata": {},
   "outputs": [],
   "source": [
    "fp, eigs, _ = fixedpoints(ds, box);"
   ]
  },
  {
   "cell_type": "code",
   "execution_count": 24,
   "id": "c711653e",
   "metadata": {},
   "outputs": [
    {
     "data": {
      "text/plain": [
       "1-element Vector{Vector{ComplexF64}}:\n",
       " [-3.643265021355401 + 0.0im, -1.3874596412779963 - 15.277290887836012im, -1.3874596412779963 + 15.277290887836012im]"
      ]
     },
     "execution_count": 24,
     "metadata": {},
     "output_type": "execute_result"
    }
   ],
   "source": [
    "eigs"
   ]
  },
  {
   "cell_type": "code",
   "execution_count": 25,
   "id": "91079a99",
   "metadata": {},
   "outputs": [],
   "source": [
    "lp = [9.34911444278188, 0.7200038038855051, 0.3508174883547352]\n",
    "ΛΛ = [-1.3561281654490351, -1.3960744363720252, -3.6668963801110555];"
   ]
  },
  {
   "cell_type": "code",
   "execution_count": 26,
   "id": "b297ea4e",
   "metadata": {},
   "outputs": [
    {
     "data": {
      "text/plain": [
       "3-dimensional Dataset{Float64} with 1 points\n",
       " 9.34911  0.720004  0.350817"
      ]
     },
     "execution_count": 26,
     "metadata": {},
     "output_type": "execute_result"
    }
   ],
   "source": [
    "fp"
   ]
  },
  {
   "cell_type": "code",
   "execution_count": 27,
   "id": "88de0bef",
   "metadata": {},
   "outputs": [
    {
     "data": {
      "text/plain": [
       "3-element Vector{Float64}:\n",
       " 9.34911444278188\n",
       " 0.7200038038855051\n",
       " 0.3508174883547352"
      ]
     },
     "execution_count": 27,
     "metadata": {},
     "output_type": "execute_result"
    }
   ],
   "source": [
    "lp"
   ]
  },
  {
   "cell_type": "code",
   "execution_count": 28,
   "id": "ea9e7dd5",
   "metadata": {},
   "outputs": [
    {
     "data": {
      "text/plain": [
       "3-element SVector{3, Float64} with indices SOneTo(3):\n",
       " 3.517186542012496e-13\n",
       " 5.218048215738236e-15\n",
       " 1.609823385706477e-15"
      ]
     },
     "execution_count": 28,
     "metadata": {},
     "output_type": "execute_result"
    }
   ],
   "source": [
    "abs.(lp - fp[1])"
   ]
  },
  {
   "cell_type": "code",
   "execution_count": null,
   "id": "7a5e9471",
   "metadata": {},
   "outputs": [],
   "source": [
    "function check_fp(tr_; numcheck = 10)\n",
    "    lastpoint = tr_[end]\n",
    "\n",
    "    if abs.( lastpoin = tr_[end-1] ) <= [1e-6, 1e-6, 1e-6]\n",
    "        for index in range(2, numcheck+1, step = 1)\n",
    "            \n",
    "        end\n",
    "    end\n",
    "\n",
    "end"
   ]
  }
 ],
 "metadata": {
  "kernelspec": {
   "display_name": "Julia 1.8.5",
   "language": "julia",
   "name": "julia-1.8"
  },
  "language_info": {
   "file_extension": ".jl",
   "mimetype": "application/julia",
   "name": "julia",
   "version": "1.8.5"
  }
 },
 "nbformat": 4,
 "nbformat_minor": 5
}
