{
 "cells": [
  {
   "cell_type": "code",
   "execution_count": 1,
   "id": "9791b4a8",
   "metadata": {},
   "outputs": [
    {
     "name": "stderr",
     "output_type": "stream",
     "text": [
      "\u001b[32m\u001b[1m  Activating\u001b[22m\u001b[39m project at `C:\\Users\\Alex\\Desktop\\repo\\2612\\0903\\dynamical-systems\\env\\integrate`\n"
     ]
    }
   ],
   "source": [
    "using Pkg\n",
    "Pkg.activate(\"C:\\\\Users\\\\Alex\\\\Desktop\\\\repo\\\\2612\\\\0903\\\\dynamical-systems\\\\env\\\\integrate\\\\\")\n",
    "using DifferentialEquations, StaticArrays, DynamicalSystems, CairoMakie, JLD"
   ]
  },
  {
   "cell_type": "code",
   "execution_count": 2,
   "id": "18e701ba",
   "metadata": {},
   "outputs": [
    {
     "data": {
      "text/plain": [
       "separate (generic function with 1 method)"
      ]
     },
     "execution_count": 2,
     "metadata": {},
     "output_type": "execute_result"
    }
   ],
   "source": [
    "@inbounds U(y, p) = p[8] + p[9] / ( 1.0 + exp( -50.0 * (y - p[7]) ) )\n",
    "@inbounds σ(x, p) = 1.0 / ( 1.0 + exp( -20.0 * (x-p[6]) ) )\n",
    "@inbounds g(E, x, y, p, U_) = log( 1.0 + exp( (p[5] * U_ * x * E + p[11]  ) / (p[1]) ) )\n",
    "\n",
    "@inbounds function TM(u, p, t)\n",
    "    \n",
    "    U_ = U(u[3], p)\n",
    "    \n",
    "    du1 = (-u[1] + p[1] * g(u[1], u[2], u[3], p, U_) ) / p[2]\n",
    "    du2 = (1.0 - u[2]) / p[3] - U_*u[2]*u[1]\n",
    "    du3 = (-u[3])/p[4] + p[10] * σ(u[2], p)\n",
    "    \n",
    "    return SVector(du1, du2, du3)\n",
    "end\n",
    "\n",
    "function output(idx, parameter, u0)\n",
    "    println(\"index: $idx; I0: $parameter\");flush(stdout)\n",
    "    println(\"u0: $u0\");flush(stdout)\n",
    "end\n",
    "function output(Λ, u0)\n",
    "    println(\"Λ: $Λ\");flush(stdout)\n",
    "    println(\"last point: $u0\");flush(stdout)\n",
    "end\n",
    "function separate()\n",
    "    println(\"----------------\");flush(stdout)\n",
    "    println(\"  \");flush(stdout)\n",
    "end"
   ]
  },
  {
   "cell_type": "code",
   "execution_count": 3,
   "id": "1f5a139e",
   "metadata": {},
   "outputs": [],
   "source": [
    "time = 250\n",
    "transient_time = 250\n",
    "tstep = 0.001\n",
    "trange = range(0.0, time, step = tstep);\n",
    "integ_set = (alg = RK4(), adaptive = false, dt = tstep);"
   ]
  },
  {
   "cell_type": "code",
   "execution_count": 4,
   "id": "3c6bf399",
   "metadata": {},
   "outputs": [],
   "source": [
    "const τ = 0.013;  const τD = 0.080;  const τy = 3.3;  const J = 3.07;  const β = 0.300\n",
    "const xthr = 0.75; const ythr = 0.4\n",
    "const α = 1.58;  const U0 = 0.3;  const ΔU0 = 0.305;"
   ]
  },
  {
   "cell_type": "code",
   "execution_count": 5,
   "id": "e497c386",
   "metadata": {},
   "outputs": [
    {
     "data": {
      "text/plain": [
       "-1.4:-0.00010303434478159386:-1.709"
      ]
     },
     "execution_count": 5,
     "metadata": {},
     "output_type": "execute_result"
    }
   ],
   "source": [
    "u0_start = SA[3.740482362235197, 0.8176653843010522, 0.4087238640418287]\n",
    "I0range = range( -1.4, -1.709, length = 3000 )"
   ]
  },
  {
   "cell_type": "code",
   "execution_count": 6,
   "id": "c67f4110",
   "metadata": {},
   "outputs": [],
   "source": [
    "Λs =  zeros(length(I0range), 3)\n",
    "u0s = zeros(length(I0range), 3);"
   ]
  },
  {
   "cell_type": "code",
   "execution_count": null,
   "id": "1ba9526c",
   "metadata": {
    "scrolled": true
   },
   "outputs": [],
   "source": [
    "for (idx, I0) in enumerate(I0range)\n",
    "\n",
    "    if idx == 1\n",
    "        global u0 = u0_start\n",
    "    end\n",
    "\n",
    "    #output(idx, I0, u0)\n",
    "\n",
    "    p = [α, τ, τD, τy, J, xthr, ythr, U0, ΔU0, β, I0]\n",
    "    ds = CoupledODEs(TM,  u0, p, diffeq = integ_set)\n",
    "\n",
    "    tr, _ = trajectory(ds, 150.0, Δt = tstep; Ttr = transient_time)\n",
    "    u0 = tr[end]; ds = CoupledODEs(TM,  u0, p, diffeq = integ_set)\n",
    "    Λ = lyapunovspectrum(ds, time)\n",
    "    Λs[idx, :] = Λ\n",
    "    u0s[idx, :] = u0\n",
    "    \n",
    "    #output(Λs[idx, :], u0s[idx, :])\n",
    "    #separate()\n",
    "    \n",
    "end"
   ]
  },
  {
   "cell_type": "code",
   "execution_count": null,
   "id": "a463a04a",
   "metadata": {},
   "outputs": [],
   "source": [
    "save(\"LSE 0.3.jld\", \"data\", Λs)\n",
    "save(\"u0s 0.3.jld\", \"data\", u0s)"
   ]
  },
  {
   "cell_type": "code",
   "execution_count": null,
   "id": "ed132808",
   "metadata": {},
   "outputs": [],
   "source": [
    "lb_size = 30; tck_size = 25;\n",
    "\n",
    "f = Figure(resolution = (1200, 300))\n",
    "axis = Axis(f[1, 1], xlabel = L\"I_0\", ylabel = L\"\\Lambda s\",\n",
    "            xlabelsize = lb_size, ylabelsize = lb_size,\n",
    "            xticklabelsize = tck_size, yticklabelsize = tck_size,\n",
    "            xgridvisible = false, ygridvisible = false)\n",
    "lines!(axis, I0range, Λs[:, 1], linewidth = 2.5, color = :red)\n",
    "lines!(axis, I0range, Λs[:, 2], linewidth = 2.5, color = :green)\n",
    "lines!(axis, I0range, Λs[:, 3], linewidth = 2.5, color = :blue)\n",
    "f"
   ]
  }
 ],
 "metadata": {
  "kernelspec": {
   "display_name": "Julia 1.8.5",
   "language": "julia",
   "name": "julia-1.8"
  },
  "language_info": {
   "file_extension": ".jl",
   "mimetype": "application/julia",
   "name": "julia",
   "version": "1.8.5"
  }
 },
 "nbformat": 4,
 "nbformat_minor": 5
}
