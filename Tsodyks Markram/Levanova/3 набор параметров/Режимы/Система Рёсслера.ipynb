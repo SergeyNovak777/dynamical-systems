{
 "cells": [
  {
   "cell_type": "code",
   "execution_count": 1,
   "id": "95365e8a",
   "metadata": {},
   "outputs": [
    {
     "name": "stderr",
     "output_type": "stream",
     "text": [
      "\u001b[32m\u001b[1m  Activating\u001b[22m\u001b[39m project at `C:\\Users\\Alex\\Desktop\\repo\\2612\\0903\\dynamical-systems\\env\\integrate`\n"
     ]
    }
   ],
   "source": [
    "pathtorepo = \"C:\\\\Users\\\\Alex\\\\Desktop\\\\repo\\\\2612\\\\0903\\\\\"\n",
    "\n",
    "using Pkg\n",
    "Pkg.activate(pathtorepo * \"dynamical-systems\\\\env\\\\integrate\\\\\")\n",
    "\n",
    "using StaticArrays, DifferentialEquations, DynamicalSystems\n",
    "using CairoMakie\n",
    "using GLMakie"
   ]
  },
  {
   "cell_type": "code",
   "execution_count": 88,
   "id": "39e21e6c",
   "metadata": {},
   "outputs": [],
   "source": [
    "function Res(u, p, t)\n",
    "    du1 = -u[2]-u[3]\n",
    "    du2 = u[1]+p[1]*u[2]\n",
    "    du3 = p[2]*u[1]-p[3]*u[3]+u[1]*u[3]\n",
    "    return SVector(du1, du2, du3)\n",
    "end;"
   ]
  },
  {
   "cell_type": "code",
   "execution_count": 127,
   "id": "2da8cb49",
   "metadata": {},
   "outputs": [
    {
     "data": {
      "text/plain": [
       "(alg = Vern9(stage_limiter! = trivial_limiter!, step_limiter! = trivial_limiter!, thread = static(false), lazy = true), adaptive = false, dt = 0.001)"
      ]
     },
     "metadata": {},
     "output_type": "display_data"
    }
   ],
   "source": [
    "t = 5000; tstep = 0.001; Tt = 1000\n",
    "trange = range(0.0, t, step = tstep)\n",
    "integ_set = (alg = Vern9(), adaptive = false, dt = tstep)"
   ]
  },
  {
   "cell_type": "code",
   "execution_count": 148,
   "id": "7a5db5e2",
   "metadata": {},
   "outputs": [],
   "source": [
    "const b = 0.3; const c = 4.9\n",
    "a = 0.25;"
   ]
  },
  {
   "cell_type": "code",
   "execution_count": 152,
   "id": "790adb2d",
   "metadata": {},
   "outputs": [
    {
     "data": {
      "text/plain": [
       "3-dimensional PoincareMap\n",
       " deterministic: true\n",
       " discrete time: true\n",
       " in-place:      false\n",
       " dynamic rule:  Res\n",
       " hyperplane:    (2, 0.0)\n",
       " crossing time: 5.078960299998962\n",
       " parameters:    [0.25, 0.3, 4.9]\n",
       " time:          0\n",
       " state:         [-5.224271812513887, -1.0973673698963799e-14, -0.15428554463959637]\n"
      ]
     },
     "metadata": {},
     "output_type": "display_data"
    }
   ],
   "source": [
    "u0 = trflow[end]\n",
    "p = [a, b, c]\n",
    "ds = CoupledODEs(Res, u0, p, diffeq = integ_set)\n",
    "pmap = PoincareMap(ds, (2, 0.0), direction = 1)"
   ]
  },
  {
   "cell_type": "code",
   "execution_count": 153,
   "id": "8149fb22",
   "metadata": {},
   "outputs": [
    {
     "data": {
      "text/plain": [
       "(3-dimensional StateSpaceSet{Float64} with 5001 points, 1000:1:6000)"
      ]
     },
     "metadata": {},
     "output_type": "display_data"
    }
   ],
   "source": [
    "trflow, _ = trajectory(ds, t, Δt = tstep; Ttr = Tt)\n",
    "trmap, _ = trajectory(pmap, t; Ttr = Tt)"
   ]
  },
  {
   "cell_type": "code",
   "execution_count": 158,
   "id": "85e98a4c",
   "metadata": {},
   "outputs": [
    {
     "data": {
      "text/plain": [
       "GLMakie.Screen(...)"
      ]
     },
     "metadata": {},
     "output_type": "display_data"
    }
   ],
   "source": [
    "f = Figure(resolution = (1200, 800))\n",
    "\n",
    "ax = Axis(f[1, 1])\n",
    "\n",
    "scatter!(ax, trmap[:, idx], trmap[:, 3], markersize = 1.5)\n",
    "\n",
    "display(GLMakie.Screen(), f)"
   ]
  },
  {
   "cell_type": "code",
   "execution_count": 156,
   "id": "4da480ca",
   "metadata": {},
   "outputs": [
    {
     "data": {
      "text/plain": [
       "GLMakie.Screen(...)"
      ]
     },
     "metadata": {},
     "output_type": "display_data"
    }
   ],
   "source": [
    "f = Figure(resolution = (1200, 800))\n",
    "\n",
    "idx, idy, idz = 1, 2, 3\n",
    "\n",
    "ax = Axis(f[1, 1])\n",
    "\n",
    "lines!(ax, trflow[:, idx], trflow[:, idy], linewidth = 0.5)\n",
    "\n",
    "display(GLMakie.Screen(), f)"
   ]
  }
 ],
 "metadata": {
  "kernelspec": {
   "display_name": "Julia 1.8.5",
   "language": "julia",
   "name": "julia-1.8"
  },
  "language_info": {
   "file_extension": ".jl",
   "mimetype": "application/julia",
   "name": "julia",
   "version": "1.8.5"
  }
 },
 "nbformat": 4,
 "nbformat_minor": 5
}
