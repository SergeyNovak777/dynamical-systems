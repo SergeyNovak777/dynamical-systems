{
 "cells": [
  {
   "cell_type": "code",
   "execution_count": 7,
   "id": "95365e8a",
   "metadata": {},
   "outputs": [
    {
     "name": "stderr",
     "output_type": "stream",
     "text": [
      "\u001b[32m\u001b[1m  Activating\u001b[22m\u001b[39m project at `D:\\Science\\Code\\Julia\\envr`\n"
     ]
    }
   ],
   "source": [
    "using Pkg\n",
    "Pkg.activate(\"D:\\\\Science\\\\Code\\\\Julia\\\\envr\")"
   ]
  },
  {
   "cell_type": "code",
   "execution_count": 1,
   "id": "1e765d35",
   "metadata": {},
   "outputs": [],
   "source": [
    "using StaticArrays, DifferentialEquations, DynamicalSystems, CairoMakie"
   ]
  },
  {
   "cell_type": "code",
   "execution_count": 2,
   "id": "39e21e6c",
   "metadata": {},
   "outputs": [],
   "source": [
    "function TM(u, p, t)\n",
    "\n",
    "    U(y) = U0 + ΔU0 / ( 1 + exp( -50*(y-ythr) ) )\n",
    "    σ(x) = 1 / ( 1 + exp( -20*(x-xthr) ) )\n",
    "\n",
    "    E, x, y = u\n",
    "    α, τ, τD, τy, J, xthr, ythr, U0, ΔU0, β, I0 = p\n",
    "\n",
    "    du1 = (-E + α * log( 1 + exp( (J * U(y) * x * E + I0  ) / (α) ) ) ) / τ\n",
    "    du2 = (1-x)/τD - U(y)*x*E\n",
    "    du3 = (-y)/τy+β*σ(x)\n",
    "    return SVector(du1, du2, du3)\n",
    "end;"
   ]
  },
  {
   "cell_type": "code",
   "execution_count": 3,
   "id": "7a5db5e2",
   "metadata": {},
   "outputs": [],
   "source": [
    "t = 500.0; tt = 250.0; tstep = 0.001\n",
    "trange = range(0.0, t, step = tstep)\n",
    "integ_set = (alg = RK4(), adaptive = false, dt = tstep);"
   ]
  },
  {
   "cell_type": "code",
   "execution_count": 4,
   "id": "441e01c8",
   "metadata": {},
   "outputs": [],
   "source": [
    "τ = 0.013;  τD = 0.080;  τy = 3.3;  J = 3.07;  β = 0.300\n",
    "xthr = 0.75; ythr = 0.4\n",
    "α = 1.58;  U0 = 0.3;  ΔU0 = 0.305;  I0 = -1.65;"
   ]
  },
  {
   "cell_type": "code",
   "execution_count": 5,
   "id": "2ed637a3",
   "metadata": {},
   "outputs": [
    {
     "data": {
      "text/plain": [
       "3-dimensional continuous dynamical system\n",
       " state:       [8.39353, 0.73803, 0.429055]\n",
       " rule f:      TM\n",
       " in-place?    false\n",
       " jacobian:    ForwardDiff\n",
       " parameters:  [1.58, 0.013, 0.08, 3.3, 3.07, …, 0.4, 0.3, 0.305, 0.3, -1.65]"
      ]
     },
     "execution_count": 5,
     "metadata": {},
     "output_type": "execute_result"
    }
   ],
   "source": [
    "p = SA[α, τ, τD, τy, J, xthr, ythr, U0, ΔU0, β, I0]\n",
    "u0 = SA[8.39353, 0.73803, 0.429055]\n",
    "ds = ContinuousDynamicalSystem(TM, u0, p)"
   ]
  },
  {
   "cell_type": "code",
   "execution_count": 6,
   "id": "1b83e1f2",
   "metadata": {},
   "outputs": [],
   "source": [
    "lb_size = 35; tck_size = 30;"
   ]
  },
  {
   "cell_type": "code",
   "execution_count": 7,
   "id": "a07a6730",
   "metadata": {},
   "outputs": [],
   "source": [
    "tr = trajectory(ds, t, Δt = tstep; Ttr = tt, diffeq = integ_set)\n",
    "trange = range(0.0, t, step = tstep);"
   ]
  },
  {
   "cell_type": "code",
   "execution_count": 8,
   "id": "a91833cc",
   "metadata": {},
   "outputs": [
    {
     "data": {
      "text/plain": [
       "(1, 15000)"
      ]
     },
     "execution_count": 8,
     "metadata": {},
     "output_type": "execute_result"
    }
   ],
   "source": [
    "ts, tf = 1, 15000"
   ]
  },
  {
   "cell_type": "code",
   "execution_count": null,
   "id": "80ea2f54",
   "metadata": {},
   "outputs": [],
   "source": [
    "f = Figure(resolution = (1200, 300))\n",
    "axis = Axis(f[1, 1], xlabel = \"time\", ylabel = \"E\",\n",
    "            xlabelsize = lb_size, ylabelsize = lb_size,\n",
    "            xticklabelsize = tck_size, yticklabelsize = tck_size,\n",
    "            xgridvisible = false, ygridvisible = false, yticks = [5, 15, 25])\n",
    "lines!(axis, trange[ts:tf], tr[ts:tf, 1], linewidth = 2.5, color = :black)\n",
    "f"
   ]
  },
  {
   "cell_type": "code",
   "execution_count": 10,
   "id": "bc361f30",
   "metadata": {},
   "outputs": [],
   "source": [
    "# save(\"timeseries_burst_Levanova.eps\", f)"
   ]
  },
  {
   "cell_type": "code",
   "execution_count": null,
   "id": "559dee08",
   "metadata": {},
   "outputs": [],
   "source": [
    "f = Figure(resolution = (900, 600))\n",
    "axis3 = Axis3(f[1, 1], xlabel = \"x\", ylabel = \"y\", zlabel = \"E\",\n",
    "                xlabelsize = lb_size, ylabelsize = lb_size, zlabelsize = lb_size,\n",
    "                xticklabelsize = tck_size, yticklabelsize = tck_size, zticklabelsize = tck_size,\n",
    "                xgridvisible = false, ygridvisible = false, zgridvisible = false,\n",
    "                xticks = [0.55, 0.75, 0.9], zticks = [5, 15, 25])\n",
    "lines!(axis3, tr[ts:tf, 2], tr[ts:tf, 3], tr[ts:tf, 1], linewidth = 3.0, color = :black)\n",
    "f"
   ]
  },
  {
   "cell_type": "code",
   "execution_count": 129,
   "id": "d1ddd132",
   "metadata": {},
   "outputs": [],
   "source": [
    "# save(\"phase_burst_Levanova.eps\", f)"
   ]
  }
 ],
 "metadata": {
  "kernelspec": {
   "display_name": "Julia 1.8.5",
   "language": "julia",
   "name": "julia-1.8"
  },
  "language_info": {
   "file_extension": ".jl",
   "mimetype": "application/julia",
   "name": "julia",
   "version": "1.8.5"
  }
 },
 "nbformat": 4,
 "nbformat_minor": 5
}
