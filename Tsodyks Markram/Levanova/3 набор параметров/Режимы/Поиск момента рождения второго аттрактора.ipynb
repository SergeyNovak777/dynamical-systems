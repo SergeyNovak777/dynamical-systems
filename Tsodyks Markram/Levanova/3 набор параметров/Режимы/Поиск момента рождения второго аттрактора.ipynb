{
 "cells": [
  {
   "cell_type": "code",
   "execution_count": 1,
   "id": "95365e8a",
   "metadata": {},
   "outputs": [
    {
     "name": "stderr",
     "output_type": "stream",
     "text": [
      "WARNING: using GLMakie... in module Main conflicts with an existing identifier.\n"
     ]
    }
   ],
   "source": [
    "#using Pkg\n",
    "#Pkg.activate(\"D:\\\\Science\\\\Code\\\\Julia\\\\envr\")\n",
    "using StaticArrays, DifferentialEquations, DynamicalSystems, JLD\n",
    "E_, x_, y_ = 0..30, 0..1, 0..1\n",
    "box = IntervalBox(E_, x_, y_)\n",
    "using CairoMakie\n",
    "using GLMakie"
   ]
  },
  {
   "cell_type": "code",
   "execution_count": 2,
   "id": "39e21e6c",
   "metadata": {},
   "outputs": [],
   "source": [
    "function TM(u, p, t)\n",
    "    U(y) = p[8] + p[9] / ( 1.0 + exp( -50.0 * (y - p[7]) ) )\n",
    "    σ(x) = 1.0 / ( 1.0 + exp( -20.0 * (x-p[6]) ) )\n",
    "    du1 = (-u[1] + p[1] * log( 1.0 + exp( (p[5] * U(u[3]) * u[2] * u[1] + p[11]  ) / (p[1]) ) ) ) / p[2]\n",
    "    du2 = (1.0 - u[2])/p[3] - U(u[3])*u[2]*u[1]\n",
    "    du3 = (-u[3])/p[4] + p[10] * σ(u[2])\n",
    "    return SA[du1, du2, du3]\n",
    "end\n",
    "function labels3d(idx, idy, idz)\n",
    "    if idx == 1\n",
    "        x = \"E\"\n",
    "    elseif idx == 2\n",
    "        x = \"x\"\n",
    "    else\n",
    "        x = \"y\"\n",
    "    end\n",
    "    if idy == 1\n",
    "        y = \"E\"\n",
    "    elseif idy == 2\n",
    "        y = \"x\"\n",
    "    else\n",
    "        y = \"y\"\n",
    "    end\n",
    "    if idz == 1\n",
    "        z = \"E\"\n",
    "    elseif idz == 2\n",
    "        z = \"x\"\n",
    "    else\n",
    "        z = \"y\"\n",
    "    end\n",
    "    return x,y,z\n",
    "end;"
   ]
  },
  {
   "cell_type": "code",
   "execution_count": 3,
   "id": "7a5db5e2",
   "metadata": {},
   "outputs": [],
   "source": [
    "t = 15000.0; tstep = 0.001\n",
    "trange = range(0.0, t, step = tstep)\n",
    "integ_set = (alg = RK4(), adaptive = false, dt = tstep)\n",
    "\n",
    "const τ = 0.013;  const τD = 0.080;  const τy = 3.3;  const J = 3.07;  const β = 0.300\n",
    "const xthr = 0.75; const ythr = 0.4\n",
    "const α = 1.58; const ΔU0 = 0.305;"
   ]
  },
  {
   "cell_type": "code",
   "execution_count": 4,
   "id": "ed127519",
   "metadata": {},
   "outputs": [],
   "source": [
    "path = \"C:\\\\Users\\\\Alex\\\\Desktop\\\\repo\\\\2612\\\\0903\\\\dynamical-systems\\\\Tsodyks Markram\\\\Levanova\\\\3 набор параметров\\\\2М Карта спектра Ляпуновских показателей\\\\200x200\";\n",
    "filenameLS = \"\\\\LSs_200x200.jld\"\n",
    "filenameu0s = \"\\\\u0s_200x200.jld\"\n",
    "pathLS = path*filenameLS\n",
    "pathu0s = path*filenameu0s\n",
    "\n",
    "Λs = load(pathLS)[\"data\"]\n",
    "u0s = load(pathu0s)[\"data\"];"
   ]
  },
  {
   "cell_type": "code",
   "execution_count": 5,
   "id": "e9d3fecc",
   "metadata": {},
   "outputs": [],
   "source": [
    "I0range = range( -1.40, -1.709, length = 201 )\n",
    "U0range = range( 0.3,  0.47, length = 201);"
   ]
  },
  {
   "cell_type": "code",
   "execution_count": 6,
   "id": "7cd9a8b3",
   "metadata": {},
   "outputs": [
    {
     "name": "stdout",
     "output_type": "stream",
     "text": [
      "I0:-1.56068; U0:0.3\n",
      "[0.005571183838012268, -0.162330285729737, -3.9854227511565297]\n"
     ]
    }
   ],
   "source": [
    "idx_I0, idx_U0 = 105, 1\n",
    "I0_ = I0range[idx_I0]\n",
    "U0_ = U0range[idx_U0]\n",
    "println(\"I0:\",I0_, \"; U0:\",  U0_)\n",
    "println(Λs[idx_I0, idx_U0, :])"
   ]
  },
  {
   "cell_type": "markdown",
   "id": "505a4358",
   "metadata": {},
   "source": [
    "При параметрах I0:-1.61012; U0:0.3\n",
    "\n",
    "Первый раз встречается второй аттрактор\n",
    "\n",
    "Его начальные условия [5.029405248505961, 0.794984502437143, 0.4249747017367524]\n",
    "\n"
   ]
  },
  {
   "cell_type": "markdown",
   "id": "0a50403f",
   "metadata": {},
   "source": [
    "Верхний порог по параметру для аттрактора A2\n",
    "\n",
    "I0 = -1.596688055\n",
    "\n",
    "Начальные условия\n",
    "\n",
    "[12.930002594743051, 0.664533781581933, 0.43027490446713246]"
   ]
  },
  {
   "cell_type": "code",
   "execution_count": 66,
   "id": "9943dcad",
   "metadata": {},
   "outputs": [
    {
     "name": "stdout",
     "output_type": "stream",
     "text": [
      "[10.543470627001867, 0.7682875252928977, 0.4357418827497073]\n"
     ]
    }
   ],
   "source": [
    "I0_local = -1.5966880543\n",
    "SA[10.543470627001867, 0.7682875252928977, 0.4357418827497073]"
   ]
  },
  {
   "cell_type": "code",
   "execution_count": 7,
   "id": "b37b6074",
   "metadata": {},
   "outputs": [],
   "source": [
    "I0_local = -1.596688054247\n",
    "p = SA[α, τ, τD, τy, J, xthr, ythr, U0_, ΔU0, β, I0_local]; # -1.7096211]"
   ]
  },
  {
   "cell_type": "code",
   "execution_count": 240,
   "id": "a3885633",
   "metadata": {},
   "outputs": [
    {
     "name": "stdout",
     "output_type": "stream",
     "text": [
      "last_point_A2: [16.602825043276685, 0.7518064079489519, 0.46099483222312704]\n"
     ]
    }
   ],
   "source": [
    "last_point_A2 = tr_A2[end]\n",
    "println(\"last_point_A2: $last_point_A2\")"
   ]
  },
  {
   "cell_type": "code",
   "execution_count": 8,
   "id": "79b69105",
   "metadata": {},
   "outputs": [
    {
     "data": {
      "text/plain": [
       "405000.0"
      ]
     },
     "execution_count": 8,
     "metadata": {},
     "output_type": "execute_result"
    }
   ],
   "source": [
    "ttr = t*27.0"
   ]
  },
  {
   "cell_type": "code",
   "execution_count": 9,
   "id": "4d4497e5",
   "metadata": {},
   "outputs": [
    {
     "data": {
      "text/plain": [
       "3-dimensional CoupledODEs\n",
       " deterministic: true\n",
       " discrete time: false\n",
       " in-place:      false\n",
       " dynamic rule:  TM\n",
       " ODE solver:    RK4\n",
       " ODE kwargs:    (adaptive = false, dt = 0.001)\n",
       " parameters:    [1.58, 0.013, 0.08, 3.3, 3.07, 0.75, 0.4, 0.3, 0.305, 0.3, -1.596688054247]\n",
       " time:          405500.000206272\n",
       " state:         [7.659493607250311, 0.6773493706863961, 0.4209862754439841]\n"
      ]
     },
     "execution_count": 9,
     "metadata": {},
     "output_type": "execute_result"
    }
   ],
   "source": [
    "ds_A2 = CoupledODEs(TM, SA[16.602825043276685, 0.7518064079489519, 0.46099483222312704], p, diffeq = integ_set)\n",
    "tr_A2 = trajectory(ds_A2, 500.0, Δt = tstep; Ttr = ttr)\n",
    "# fp, eigs, stable = fixedpoints(ds_A2, box)\n",
    "ds_A2"
   ]
  },
  {
   "cell_type": "code",
   "execution_count": 243,
   "id": "00e7f196",
   "metadata": {},
   "outputs": [
    {
     "data": {
      "text/plain": [
       "GLMakie.Screen(...)"
      ]
     },
     "execution_count": 243,
     "metadata": {},
     "output_type": "execute_result"
    }
   ],
   "source": [
    "ts, tf = 400000, 500000\n",
    "idx, idy, idz = 2, 1, 3\n",
    "xl, yl, zl = labels3d(idx,idy, idz)\n",
    "\n",
    "GLMakie.activate!()\n",
    "f = Figure(resolution = (900, 900))\n",
    "ax = Axis3(f[1, 1], xlabel = xl, ylabel = yl, zlabel = zl,\n",
    "            xlabelsize = 35, ylabelsize = 35, zlabelsize = 35,\n",
    "            xgridvisible = false, ygridvisible = false, zgridvisible = false)\n",
    "\n",
    "lines!(tr_A2[ts:tf, idx], tr_A2[ts:tf, idy], tr_A2[ts:tf, idz], linewidth = 1.5, color = :blue)\n",
    "\n",
    "scatter!(fp[1][idx], fp[1][idy], fp[1][idz], markersize = 10, color = :red)\n",
    "display(f)"
   ]
  },
  {
   "cell_type": "code",
   "execution_count": null,
   "id": "1622cee0",
   "metadata": {},
   "outputs": [],
   "source": []
  }
 ],
 "metadata": {
  "kernelspec": {
   "display_name": "Julia 1.8.5",
   "language": "julia",
   "name": "julia-1.8"
  },
  "language_info": {
   "file_extension": ".jl",
   "mimetype": "application/julia",
   "name": "julia",
   "version": "1.8.5"
  }
 },
 "nbformat": 4,
 "nbformat_minor": 5
}
