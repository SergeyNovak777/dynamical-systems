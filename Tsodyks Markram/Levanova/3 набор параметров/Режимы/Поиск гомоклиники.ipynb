{
 "cells": [
  {
   "cell_type": "code",
   "execution_count": 1,
   "id": "95365e8a",
   "metadata": {},
   "outputs": [],
   "source": [
    "#using Pkg\n",
    "#Pkg.activate(\"D:\\\\Science\\\\Code\\\\Julia\\\\envr\")\n",
    "using StaticArrays, DifferentialEquations, DynamicalSystems, JLD\n",
    "E_, x_, y_ = 0..30, 0..1, 0..1\n",
    "box = IntervalBox(E_, x_, y_)\n",
    "using CairoMakie"
   ]
  },
  {
   "cell_type": "code",
   "execution_count": 2,
   "id": "39e21e6c",
   "metadata": {},
   "outputs": [],
   "source": [
    "function TM(u, p, t)\n",
    "    U(y) = p[8] + p[9] / ( 1.0 + exp( -50.0 * (y - p[7]) ) )\n",
    "    σ(x) = 1.0 / ( 1.0 + exp( -20.0 * (x-p[6]) ) )\n",
    "    # u[1] - E; u[2] - x; u[3] - y\n",
    "    # α - 1, τ - 2, τD - 3, τy - 4, J - 5, xthr - 6, ythr - 7, U0 - 8, ΔU0 - 9, β - 10, I0 -11\n",
    "    du1 = (-u[1] + p[1] * log( 1.0 + exp( (p[5] * U(u[3]) * u[2] * u[1] + p[11]  ) / (p[1]) ) ) ) / p[2]\n",
    "    du2 = (1.0 - u[2])/p[3] - U(u[3])*u[2]*u[1]\n",
    "    du3 = (-u[3])/p[4] + p[10] * σ(u[2])\n",
    "    return SA[du1, du2, du3]\n",
    "end;"
   ]
  },
  {
   "cell_type": "code",
   "execution_count": 3,
   "id": "476ac038",
   "metadata": {},
   "outputs": [
    {
     "data": {
      "text/plain": [
       "labels3d (generic function with 1 method)"
      ]
     },
     "execution_count": 3,
     "metadata": {},
     "output_type": "execute_result"
    }
   ],
   "source": [
    "function d(p1, p2)\n",
    "    x1, y1, z1 = p1\n",
    "    x2, y2, z2 = p2\n",
    "    dist = sqrt( (x1-x2)^2 + (y1-y2)^2 + (z1-z2)^2 )\n",
    "    return dist\n",
    "end\n",
    "\n",
    "function labels3d(idx, idy, idz)\n",
    "    if idx == 1\n",
    "        x = \"E\"\n",
    "    elseif idx == 2\n",
    "        x = \"x\"\n",
    "    else\n",
    "        x = \"y\"\n",
    "    end\n",
    "    if idy == 1\n",
    "        y = \"E\"\n",
    "    elseif idy == 2\n",
    "        y = \"x\"\n",
    "    else\n",
    "        y = \"y\"\n",
    "    end\n",
    "    if idz == 1\n",
    "        z = \"E\"\n",
    "    elseif idz == 2\n",
    "        z = \"x\"\n",
    "    else\n",
    "        z = \"y\"\n",
    "    end\n",
    "    return x,y,z\n",
    "end"
   ]
  },
  {
   "cell_type": "code",
   "execution_count": 4,
   "id": "7a5db5e2",
   "metadata": {},
   "outputs": [],
   "source": [
    "t = 10000.0; tstep = 0.001; Tt = 500.0\n",
    "trange = range(0.0, t, step = tstep)\n",
    "integ_set = (alg = RK4(), adaptive = false, dt = tstep);"
   ]
  },
  {
   "cell_type": "code",
   "execution_count": 5,
   "id": "441e01c8",
   "metadata": {},
   "outputs": [],
   "source": [
    "const τ = 0.013;  const τD = 0.080;  const τy = 3.3;  const J = 3.07;  const β = 0.300\n",
    "const xthr = 0.75; const ythr = 0.4\n",
    "const α = 1.58; const ΔU0 = 0.305;"
   ]
  },
  {
   "cell_type": "code",
   "execution_count": 6,
   "id": "99839c1e",
   "metadata": {},
   "outputs": [],
   "source": [
    "path = \"C:\\\\Users\\\\Alex\\\\Desktop\\\\repo\\\\2612\\\\0903\\\\dynamical-systems\\\\Tsodyks Markram\\\\Levanova\\\\3 набор параметров\\\\2М Карта спектра Ляпуновских показателей\\\\200x200\";\n",
    "filenameLS = \"\\\\LSs_200x200.jld\"\n",
    "filenameu0s = \"\\\\u0s_200x200.jld\"\n",
    "pathLS = path*filenameLS\n",
    "pathu0s = path*filenameu0s;"
   ]
  },
  {
   "cell_type": "code",
   "execution_count": 7,
   "id": "adba30e6",
   "metadata": {},
   "outputs": [],
   "source": [
    "Λs = load(pathLS)[\"data\"]\n",
    "u0s = load(pathu0s)[\"data\"];"
   ]
  },
  {
   "cell_type": "code",
   "execution_count": 8,
   "id": "1b105e24",
   "metadata": {},
   "outputs": [],
   "source": [
    "I0range = range( -1.40, -1.709, length = 201 )\n",
    "U0range = range( 0.3,  0.47, length = 201);"
   ]
  },
  {
   "cell_type": "code",
   "execution_count": 9,
   "id": "71ed9cc2",
   "metadata": {},
   "outputs": [],
   "source": [
    "using GLMakie\n",
    "GLMakie.activate!()"
   ]
  },
  {
   "cell_type": "code",
   "execution_count": 10,
   "id": "995db43d",
   "metadata": {},
   "outputs": [
    {
     "name": "stdout",
     "output_type": "stream",
     "text": [
      "I0:-1.50506; U0:0.38415\n",
      "[0.001553042199008587, -0.6426199825778007, -4.856306554570053]\n"
     ]
    }
   ],
   "source": [
    "idx_I0, idx_U0 = 69, 100\n",
    "println(\"I0:\",I0range[idx_I0], \"; U0:\",  U0range[idx_U0])\n",
    "println(Λs[idx_I0, idx_U0, :])\n",
    "\n",
    "E, x, y = u0s[idx_I0, idx_U0, :]\n",
    "u0 = SA[E, x, y]\n",
    "\n",
    "I0_ = I0range[idx_I0]\n",
    "U0_ = U0range[idx_U0]\n",
    "p = SA[α, τ, τD, τy, J, xthr, ythr, U0_, ΔU0, β, I0_]\n",
    "\n",
    "ds = ContinuousDynamicalSystem(TM, u0, p)\n",
    "tr = trajectory(ds, t, Δt = tstep; diffeq = integ_set)\n",
    "trange = range(0.0, t, step = tstep)\n",
    "fp, eigs, stable = fixedpoints(ds, box);"
   ]
  },
  {
   "cell_type": "code",
   "execution_count": 11,
   "id": "ca87a306",
   "metadata": {},
   "outputs": [
    {
     "data": {
      "text/plain": [
       "Lines{Tuple{Vector{Point{2, Float32}}}}"
      ]
     },
     "execution_count": 11,
     "metadata": {},
     "output_type": "execute_result"
    }
   ],
   "source": [
    "lb_size = 35; tck_size = 30;\n",
    "ts, tf = 1, 15000\n",
    "CairoMakie.activate!()\n",
    "f = Figure(resolution = (1200, 400))\n",
    "axis = Axis(f[1, 1], xlabel = \"time\", ylabel = \"E\",\n",
    "            xlabelsize = lb_size, ylabelsize = lb_size,\n",
    "            xticklabelsize = tck_size, yticklabelsize = tck_size,\n",
    "            xgridvisible = false, ygridvisible = false)\n",
    "lines!(axis, trange[ts:tf], tr[ts:tf, 1], linewidth = 1.0)"
   ]
  },
  {
   "cell_type": "code",
   "execution_count": 12,
   "id": "00e7f196",
   "metadata": {},
   "outputs": [
    {
     "data": {
      "text/plain": [
       "GLMakie.Screen(...)"
      ]
     },
     "execution_count": 12,
     "metadata": {},
     "output_type": "execute_result"
    }
   ],
   "source": [
    "ts, tf = 400000, 500000\n",
    "idx, idy, idz = 2, 1, 3\n",
    "xl, yl, zl = labels3d(idx,idy, idz)\n",
    "GLMakie.activate!()\n",
    "f = Figure(resolution = (1200, 900))\n",
    "ax = Axis3(f[1, 1], xlabel = xl, ylabel = yl, zlabel = zl,\n",
    "            xlabelsize = 35, ylabelsize = 35, zlabelsize = 35,\n",
    "            xgridvisible = false, ygridvisible = false, zgridvisible = false)\n",
    "\n",
    "lines!(tr[ts:tf, idx], tr[ts:tf, idy], tr[ts:tf, idz], linewidth = 2.0)\n",
    "scatter!(fp[1][idx], fp[1][idy], fp[1][idz], markersize = 10, color = :red)\n",
    "display(f)"
   ]
  },
  {
   "cell_type": "code",
   "execution_count": 448,
   "id": "a54c7381",
   "metadata": {},
   "outputs": [],
   "source": [
    "distance = zeros(length(tr))\n",
    "for i in range(1, length(distance), step = 1)\n",
    "    distance[i] = d(tr[i], fp[1])\n",
    "end"
   ]
  },
  {
   "cell_type": "code",
   "execution_count": 449,
   "id": "2cbe2da5",
   "metadata": {},
   "outputs": [
    {
     "data": {
      "text/plain": [
       "0.011525423843941578"
      ]
     },
     "execution_count": 449,
     "metadata": {},
     "output_type": "execute_result"
    }
   ],
   "source": [
    "minimum(distance)"
   ]
  },
  {
   "cell_type": "code",
   "execution_count": 415,
   "id": "50d67bfd",
   "metadata": {},
   "outputs": [
    {
     "name": "stdout",
     "output_type": "stream",
     "text": [
      "[8.614979907792028, 0.733201321864569, 0.41261999839440344]\n",
      "-9.44659800059017 + 0.0im\n",
      "3.0993834449400604 - 15.977450286246508im\n",
      "3.0993834449400604 + 15.977450286246508im\n",
      "\n",
      "Седловая величина:-3.247831110710049\n",
      "Седловой индекс:0.08510772279357347\n"
     ]
    }
   ],
   "source": [
    "println(fp[1])\n",
    "for eig in eigs[1]\n",
    "    println(eig)\n",
    "end\n",
    "\n",
    "sf = fp[1];\n",
    "saddle = 0\n",
    "saddle_index = fp[1][2] / fp[1][1]\n",
    "for eig in eigs[1]\n",
    "    Re = real(eig)\n",
    "    saddle+=Re\n",
    "end\n",
    "println()\n",
    "println(\"Седловая величина:\", saddle)\n",
    "println(\"Седловой индекс:\", saddle_index)"
   ]
  }
 ],
 "metadata": {
  "kernelspec": {
   "display_name": "Julia 1.8.5",
   "language": "julia",
   "name": "julia-1.8"
  },
  "language_info": {
   "file_extension": ".jl",
   "mimetype": "application/julia",
   "name": "julia",
   "version": "1.8.5"
  }
 },
 "nbformat": 4,
 "nbformat_minor": 5
}
