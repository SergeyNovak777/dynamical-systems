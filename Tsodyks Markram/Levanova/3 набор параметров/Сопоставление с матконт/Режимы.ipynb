{
 "cells": [
  {
   "cell_type": "code",
   "execution_count": 1,
   "id": "1e765d35",
   "metadata": {},
   "outputs": [
    {
     "name": "stderr",
     "output_type": "stream",
     "text": [
      "\u001b[32m\u001b[1m  Activating\u001b[22m\u001b[39m project at `C:\\Users\\Alex\\Desktop\\repo\\2612\\0903\\dynamical-systems\\env\\integrate`"
     ]
    },
    {
     "name": "stderr",
     "output_type": "stream",
     "text": [
      "\n"
     ]
    }
   ],
   "source": [
    "pathtorepo = \"C:\\\\Users\\\\Alex\\\\Desktop\\\\repo\\\\2612\\\\0903\\\\\"\n",
    "\n",
    "using Pkg\n",
    "Pkg.activate(pathtorepo * \"dynamical-systems\\\\env\\\\integrate\\\\\")\n",
    "include(\"C:\\\\Users\\\\Alex\\\\Desktop\\\\repo\\\\2612\\\\0903\\\\dynamical-systems\\\\Tsodyks Markram\\\\system.jl\")\n",
    "include(\"C:\\\\Users\\\\Alex\\\\Desktop\\\\repo\\\\2612\\\\0903\\\\dynamical-systems\\\\Tsodyks Markram\\\\visual_regimes.jl\");"
   ]
  },
  {
   "cell_type": "code",
   "execution_count": 2,
   "id": "1bdee5a7",
   "metadata": {},
   "outputs": [],
   "source": [
    "using StaticArrays, DifferentialEquations, DynamicalSystems\n",
    "E, x, y  = 0..40, 0..1,  0..1\n",
    "box = E × x × y\n",
    "using CairoMakie, GLMakie;"
   ]
  },
  {
   "cell_type": "code",
   "execution_count": 3,
   "id": "2cc715eb",
   "metadata": {},
   "outputs": [],
   "source": [
    "const τ = 0.013;  const τD = 0.080;  const τy = 3.3;  const J = 3.07;  const β = 0.300\n",
    "const xthr = 0.75; const ythr = 0.4\n",
    "const α = 1.58; const ΔU0 = 0.305; const U0 = 0.265;"
   ]
  },
  {
   "cell_type": "code",
   "execution_count": 9,
   "id": "37add348",
   "metadata": {},
   "outputs": [],
   "source": [
    "time = 500; tt = 1000; tstep = 0.001; times = [time, tt]\n",
    "integ_set = (alg = Vern9(), adaptive = false, dt = tstep)\n",
    "\n",
    "time_int_3d = [100000, 200000]\n",
    "eps_vec = [1e-10, 0.0, 0.0];"
   ]
  },
  {
   "cell_type": "code",
   "execution_count": 10,
   "id": "441e01c8",
   "metadata": {},
   "outputs": [
    {
     "name": "stdout",
     "output_type": "stream",
     "text": [
      "last point  pink trajectory:[8.638526524981895, 0.7320692774159767, 0.40718205935401675]\n",
      "black trajectory:[7.971143689707221, 0.7053540799922068, 0.42133199265006]\n"
     ]
    }
   ],
   "source": [
    "I0 = -1.706\n",
    "p = [α, τ, τD, τy, J, xthr, ythr, U0, ΔU0, β, I0]\n",
    "u0_1 = [8.638526524981895, 0.7320692774159767, 0.40718205935401675]\n",
    "u0_2 =[7.971143689707221, 0.7053540799922068, 0.42133199265006]\n",
    "println(\"last point  pink trajectory:$u0_1\")\n",
    "println(\"black trajectory:$u0_2\")"
   ]
  },
  {
   "cell_type": "code",
   "execution_count": 11,
   "id": "3d1acfa9",
   "metadata": {},
   "outputs": [
    {
     "data": {
      "text/plain": [
       "9-element Vector{Any}:\n",
       "  3-dimensional CoupledODEs\n",
       "  3-dimensional CoupledODEs\n",
       "  3-dimensional StateSpaceSet{Float64} with 500001 points\n",
       "  3-dimensional StateSpaceSet{Float64} with 500001 points\n",
       " 5.896492168791012e-5\n",
       " 5.527175753679823e-5\n",
       "  Figure()\n",
       "  3-dimensional StateSpaceSet{Float64} with 1 points\n",
       "  Vector{ComplexF64}[[-6.382803808040045 + 0.0im, 2.173275130586992 - 13.770982609518827im, 2.173275130586992 + 13.770982609518827im]]"
      ]
     },
     "metadata": {},
     "output_type": "display_data"
    }
   ],
   "source": [
    "output = research_regime_2_traj(TM, u0_1, u0_2, p, times, integ_set,\n",
    "        t_int_3d = time_int_3d,\n",
    "        plot = false, onlylastpoint = false, dis_hc = true)"
   ]
  },
  {
   "cell_type": "code",
   "execution_count": 15,
   "id": "3a137128",
   "metadata": {},
   "outputs": [
    {
     "data": {
      "text/plain": [
       "3-element SVector{3, Float64} with indices SOneTo(3):\n",
       " 8.827252792802732\n",
       " 0.648014337530584\n",
       " 0.561078276250704"
      ]
     },
     "metadata": {},
     "output_type": "display_data"
    }
   ],
   "source": [
    "output[4][end]"
   ]
  },
  {
   "cell_type": "code",
   "execution_count": 16,
   "id": "fc1d9247",
   "metadata": {},
   "outputs": [
    {
     "data": {
      "text/plain": [
       "3-element SVector{3, Float64} with indices SOneTo(3):\n",
       " 8.337037568242414\n",
       " 0.7385031015931967\n",
       " 0.4383397756224628"
      ]
     },
     "metadata": {},
     "output_type": "display_data"
    }
   ],
   "source": [
    "output[8][1]"
   ]
  },
  {
   "cell_type": "code",
   "execution_count": 12,
   "id": "ace865bb",
   "metadata": {},
   "outputs": [
    {
     "name": "stdout",
     "output_type": "stream",
     "text": [
      "I0: -1.706\n",
      "previous last point  pink trajectory:[8.638526524981895, 0.7320692774159767, 0.40718205935401675]\n",
      "previous black trajectory:[7.971143689707221, 0.7053540799922068, 0.42133199265006]\n"
     ]
    }
   ],
   "source": [
    "prev_1 = u0_1\n",
    "prev_2 = u0_2\n",
    "println(\"I0: $I0\")\n",
    "println(\"previous last point  pink trajectory:$prev_1\")\n",
    "println(\"previous black trajectory:$prev_2\")"
   ]
  },
  {
   "cell_type": "code",
   "execution_count": 13,
   "id": "52761082",
   "metadata": {},
   "outputs": [],
   "source": [
    "data_1 = output[3]\n",
    "data_2 = output[4];"
   ]
  },
  {
   "cell_type": "code",
   "execution_count": 14,
   "id": "64b84b5f",
   "metadata": {},
   "outputs": [
    {
     "data": {
      "text/plain": [
       "GLMakie.Screen(...)"
      ]
     },
     "metadata": {},
     "output_type": "display_data"
    }
   ],
   "source": [
    "# 3d interactive\n",
    "tstart, tfinish = 200000, 500000\n",
    "\n",
    "f = Figure(resolution = (700, 700))\n",
    "ax = LScene(f[1, 1], show_axis = true)\n",
    "\n",
    "\n",
    "scale!(ax.scene, 50, 50, 1)\n",
    "\n",
    "lines!(data_2[time_int_3d[1]:time_int_3d[2], 3], data_2[time_int_3d[1]:time_int_3d[2], 2],\n",
    "        data_2[time_int_3d[1]:time_int_3d[2], 1], linewidth = 1.0, color = :black)\n",
    "        \n",
    "lines!(data_1[tstart:tfinish, 3], data_1[tstart:tfinish, 2],\n",
    "        data_1[tstart:tfinish, 1], linewidth = 1.0, color = :deeppink)\n",
    "        \n",
    "scatter!(output[8][1][3], output[8][1][2], output[8][1][1], markersize = 5.0, color = :lime)\n",
    "\n",
    "display(GLMakie.Screen(), f)"
   ]
  },
  {
   "cell_type": "code",
   "execution_count": 62,
   "id": "7923f910",
   "metadata": {},
   "outputs": [
    {
     "data": {
      "text/plain": [
       "GLMakie.Screen(...)"
      ]
     },
     "metadata": {},
     "output_type": "display_data"
    }
   ],
   "source": [
    "ts, tf = 20000, 30000\n",
    "f = Figure(resolution = (1200, 350))\n",
    "axis = Axis(f[1, 1])\n",
    "lines!(output[4][ts:tf, 1])\n",
    "display(f)"
   ]
  },
  {
   "cell_type": "code",
   "execution_count": 63,
   "id": "04fc6cc4",
   "metadata": {},
   "outputs": [
    {
     "name": "stdout",
     "output_type": "stream",
     "text": [
      "LS  pink trajectory:[0.0010196312373232394, -0.69405991640678, -4.574772540613603]\n",
      "LS  black trajectory:[0.0042234155238560665, -0.6968315067963479, -4.575124767499665]\n"
     ]
    }
   ],
   "source": [
    "pink = lyapunovspectrum(output[1], time; Ttr = tt)\n",
    "black = lyapunovspectrum(output[2], time; Ttr = tt)\n",
    "println(\"LS  pink trajectory:$pink\")\n",
    "println(\"LS  black trajectory:$black\")"
   ]
  },
  {
   "cell_type": "code",
   "execution_count": 64,
   "id": "b1b672d9",
   "metadata": {},
   "outputs": [
    {
     "data": {
      "text/plain": [
       "\"# 2d projection\\nf = Figure(resolution = (700, 700))\\nax = Axis(f[1, 1], xlabel = \\\"x\\\", ylabel = \\\"y\\\", xlabelsize = 25, ylabelsize = 25)\\n\\nidx, idy = 2, 3\\nlines!(data_1[tstart:tfinish, idx], data_1[tstart:tfinish, idy], linewidth = 1.0, color = :deeppink)\\n        \\nscatter!(ou\" ⋯ 736 bytes ⋯ \"start:tfinish, idx], data_1[tstart:tfinish, idy], linewidth = 1.0, color = :deeppink)\\n        \\nscatter!(output[8][1][idx], output[8][1][idy], markersize = 5.0, color = :lime)\\n\\n#scatter!(u0_1[idx], u0_1[idy], markersize = 5.0, color = :green)\\ndisplay(GLMakie.Screen(), f)\""
      ]
     },
     "metadata": {},
     "output_type": "display_data"
    }
   ],
   "source": [
    "\"\"\"# 2d projection\n",
    "f = Figure(resolution = (700, 700))\n",
    "ax = Axis(f[1, 1], xlabel = \"x\", ylabel = \"y\", xlabelsize = 25, ylabelsize = 25)\n",
    "\n",
    "idx, idy = 2, 3\n",
    "lines!(data_1[tstart:tfinish, idx], data_1[tstart:tfinish, idy], linewidth = 1.0, color = :deeppink)\n",
    "        \n",
    "scatter!(output[8][1][idx], output[8][1][idy], markersize = 5.0, color = :lime)\n",
    "\n",
    "#scatter!(u0_1[idx], u0_1[idy], markersize = 5.0, color = :green)\n",
    "display(GLMakie.Screen(), f)\n",
    "\n",
    "f = Figure(resolution = (700, 700))\n",
    "ax = Axis(f[1, 1], xlabel = \"E\", ylabel = \"x\", xlabelsize = 25, ylabelsize = 25)\n",
    "\n",
    "idx, idy = 1, 2\n",
    "lines!(data_1[tstart:tfinish, idx], data_1[tstart:tfinish, idy], linewidth = 1.0, color = :deeppink)\n",
    "        \n",
    "scatter!(output[8][1][idx], output[8][1][idy], markersize = 5.0, color = :lime)\n",
    "\n",
    "#scatter!(u0_1[idx], u0_1[idy], markersize = 5.0, color = :green)\n",
    "display(GLMakie.Screen(), f)\n",
    "\n",
    "f = Figure(resolution = (700, 700))\n",
    "ax = Axis(f[1, 1], xlabel = \"E\", ylabel = \"y\", xlabelsize = 25, ylabelsize = 25)\n",
    "\n",
    "idx, idy = 1, 3\n",
    "lines!(data_1[tstart:tfinish, idx], data_1[tstart:tfinish, idy], linewidth = 1.0, color = :deeppink)\n",
    "        \n",
    "scatter!(output[8][1][idx], output[8][1][idy], markersize = 5.0, color = :lime)\n",
    "\n",
    "#scatter!(u0_1[idx], u0_1[idy], markersize = 5.0, color = :green)\n",
    "display(GLMakie.Screen(), f)\"\"\""
   ]
  }
 ],
 "metadata": {
  "kernelspec": {
   "display_name": "Julia 1.8.5",
   "language": "julia",
   "name": "julia-1.8"
  },
  "language_info": {
   "file_extension": ".jl",
   "mimetype": "application/julia",
   "name": "julia",
   "version": "1.8.5"
  }
 },
 "nbformat": 4,
 "nbformat_minor": 5
}
