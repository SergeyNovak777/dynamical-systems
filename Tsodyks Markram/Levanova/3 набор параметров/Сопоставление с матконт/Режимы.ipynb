{
 "cells": [
  {
   "cell_type": "code",
   "execution_count": 1,
   "id": "1e765d35",
   "metadata": {},
   "outputs": [
    {
     "name": "stderr",
     "output_type": "stream",
     "text": [
      "\u001b[32m\u001b[1m  Activating\u001b[22m\u001b[39m project at `C:\\Users\\Alex\\Desktop\\repo\\2612\\0903\\dynamical-systems\\env\\integrate`\n"
     ]
    }
   ],
   "source": [
    "pathtorepo = \"C:\\\\Users\\\\Alex\\\\Desktop\\\\repo\\\\2612\\\\0903\\\\\"\n",
    "\n",
    "using Pkg\n",
    "Pkg.activate(pathtorepo * \"dynamical-systems\\\\env\\\\integrate\\\\\")\n",
    "include(\"C:\\\\Users\\\\Alex\\\\Desktop\\\\repo\\\\2612\\\\0903\\\\dynamical-systems\\\\system.jl\")\n",
    "include(\"C:\\\\Users\\\\Alex\\\\Desktop\\\\repo\\\\2612\\\\0903\\\\dynamical-systems\\\\visual_regimes.jl\");"
   ]
  },
  {
   "cell_type": "code",
   "execution_count": 2,
   "id": "1bdee5a7",
   "metadata": {},
   "outputs": [],
   "source": [
    "using StaticArrays, DifferentialEquations, DynamicalSystems\n",
    "E, x, y  = 0..40, 0..1,  0..1\n",
    "box = E × x × y\n",
    "using CairoMakie, GLMakie;"
   ]
  },
  {
   "cell_type": "code",
   "execution_count": 339,
   "id": "2cc715eb",
   "metadata": {},
   "outputs": [],
   "source": [
    "const τ = 0.013;  const τD = 0.07993;  const τy = 3.3;  const J = 3.07;  const β = 0.3\n",
    "const xthr = 0.75; const ythr = 0.4\n",
    "const α = 1.58; const ΔU0 = 0.305; "
   ]
  },
  {
   "cell_type": "code",
   "execution_count": 459,
   "id": "37add348",
   "metadata": {},
   "outputs": [],
   "source": [
    "time = 1000; tt = 0; tstep = 0.001; times = [time, tt]\n",
    "integ_set = (alg = Vern9(), adaptive = false, dt = tstep)\n",
    "eps_vec = [1e-10, 0.0, 0.0];"
   ]
  },
  {
   "cell_type": "code",
   "execution_count": 460,
   "id": "f7fd79b2",
   "metadata": {},
   "outputs": [
    {
     "data": {
      "text/plain": [
       "3-element SVector{3, Float64} with indices SOneTo(3):\n",
       " 8.336912892368385\n",
       " 0.7384826242359216\n",
       " 0.43823976831987504"
      ]
     },
     "execution_count": 460,
     "metadata": {},
     "output_type": "execute_result"
    }
   ],
   "source": [
    "using LinearAlgebra\n",
    "\n",
    "jac = jacob_TM_(fp[1], p, 0)\n",
    "eivec = eigvecs(jac)\n",
    "\n",
    "shift = fp[1] + real(eivec[:, 1])*1e-7\n",
    "shift"
   ]
  },
  {
   "cell_type": "code",
   "execution_count": 582,
   "id": "441e01c8",
   "metadata": {},
   "outputs": [
    {
     "name": "stdout",
     "output_type": "stream",
     "text": [
      "last point  pink trajectory:[8.357154283972717, 0.7179192826792423, 0.43575967978267327]\n",
      "black trajectory:[8.357154283972717, 0.7179192826792423, 0.43575967978267327]\n"
     ]
    }
   ],
   "source": [
    "U0 = 0.2665\n",
    "I0 = -1.7268\n",
    "\n",
    "p = [α, τ, τD, τy, J, xthr, ythr, U0, ΔU0, β, I0]\n",
    "u0_1 = output[3][end]\n",
    "u0_2 = output[4][end]\n",
    "\n",
    "println(\"last point  pink trajectory:$u0_1\")\n",
    "println(\"black trajectory:$u0_2\")"
   ]
  },
  {
   "cell_type": "code",
   "execution_count": 583,
   "id": "3d1acfa9",
   "metadata": {},
   "outputs": [
    {
     "data": {
      "text/plain": [
       "9-element Vector{Any}:\n",
       "  3-dimensional CoupledODEs\n",
       "  3-dimensional CoupledODEs\n",
       "  3-dimensional StateSpaceSet{Float64} with 1000001 points\n",
       "  3-dimensional StateSpaceSet{Float64} with 1000001 points\n",
       " 0.020677093464975538\n",
       " 0.020677093464975538\n",
       "  Figure()\n",
       "  3-dimensional StateSpaceSet{Float64} with 3 points\n",
       "  Vector{ComplexF64}[[-6.427999503525874 + 0.0im, 2.291878430122898 - 13.727014543416075im, 2.291878430122898 + 13.727014543416075im], [-6.935298316041771 + 0.0im, -1.427203454138438 + 0.0im, -0.303030303053384 + 0.0im], [-7.805825024121299 + 0.0im, -0.3030303030124758 + 0.0im, 1.2481221031517544 + 0.0im]]"
      ]
     },
     "execution_count": 583,
     "metadata": {},
     "output_type": "execute_result"
    }
   ],
   "source": [
    "output = research_regime_2_traj(TM, u0_1, u0_2, p, times, integ_set,\n",
    "        t_int_3d = time_int_3d,\n",
    "        plot = false, onlylastpoint = false, dis_hc = true)"
   ]
  },
  {
   "cell_type": "code",
   "execution_count": 584,
   "id": "2887adeb",
   "metadata": {},
   "outputs": [
    {
     "data": {
      "text/plain": [
       "3-dimensional StateSpaceSet{Float64} with 3 points\n",
       " 8.32629  0.738472  0.438186\n",
       " 1.6788   0.928775  0.963034\n",
       " 1.75864  0.925639  0.961339"
      ]
     },
     "execution_count": 584,
     "metadata": {},
     "output_type": "execute_result"
    }
   ],
   "source": [
    "output[8]"
   ]
  },
  {
   "cell_type": "code",
   "execution_count": 585,
   "id": "0013b1d4",
   "metadata": {},
   "outputs": [
    {
     "data": {
      "text/plain": [
       "(3-dimensional StateSpaceSet{Float64} with 3 points, Vector{ComplexF64}[[-6.427999503525874 + 0.0im, 2.291878430122898 - 13.727014543416075im, 2.291878430122898 + 13.727014543416075im], [-6.935298316041771 + 0.0im, -1.427203454138438 + 0.0im, -0.303030303053384 + 0.0im], [-7.805825024121299 + 0.0im, -0.3030303030124758 + 0.0im, 1.2481221031517544 + 0.0im]], Bool[0, 1, 0])"
      ]
     },
     "execution_count": 585,
     "metadata": {},
     "output_type": "execute_result"
    }
   ],
   "source": [
    "fp, ei, _ = fixedpoints(output[1], box, jacob_TM_)"
   ]
  },
  {
   "cell_type": "code",
   "execution_count": 586,
   "id": "ce95945d",
   "metadata": {},
   "outputs": [
    {
     "data": {
      "text/plain": [
       "3-dimensional StateSpaceSet{Float64} with 3 points\n",
       " 8.32629  0.738472  0.438186\n",
       " 1.6788   0.928775  0.963034\n",
       " 1.75864  0.925639  0.961339"
      ]
     },
     "execution_count": 586,
     "metadata": {},
     "output_type": "execute_result"
    }
   ],
   "source": [
    "fp"
   ]
  },
  {
   "cell_type": "code",
   "execution_count": 587,
   "id": "ace865bb",
   "metadata": {},
   "outputs": [
    {
     "name": "stdout",
     "output_type": "stream",
     "text": [
      "I0: -1.7268\n",
      "previous last point  pink trajectory:[8.357154283972717, 0.7179192826792423, 0.43575967978267327]\n",
      "previous black trajectory:[8.357154283972717, 0.7179192826792423, 0.43575967978267327]\n"
     ]
    }
   ],
   "source": [
    "prev_1 = u0_1\n",
    "prev_2 = u0_2\n",
    "println(\"I0: $I0\")\n",
    "println(\"previous last point  pink trajectory:$prev_1\")\n",
    "println(\"previous black trajectory:$prev_2\")"
   ]
  },
  {
   "cell_type": "code",
   "execution_count": 588,
   "id": "52761082",
   "metadata": {},
   "outputs": [],
   "source": [
    "data_1 = output[3]\n",
    "data_2 = output[4];"
   ]
  },
  {
   "cell_type": "code",
   "execution_count": 589,
   "id": "64b84b5f",
   "metadata": {},
   "outputs": [
    {
     "data": {
      "text/plain": [
       "GLMakie.Screen(...)"
      ]
     },
     "execution_count": 589,
     "metadata": {},
     "output_type": "execute_result"
    }
   ],
   "source": [
    "# 3d interactive\n",
    "tstart, tfinish = 1, 1000000\n",
    "\n",
    "f = Figure(resolution = (700, 700))\n",
    "ax = LScene(f[1, 1], show_axis = true)\n",
    "\n",
    "\n",
    "scale!(ax.scene, 50, 50, 1)\n",
    "\n",
    "#lines!(data_2[time_int_3d[1]:time_int_3d[2], 3], data_2[time_int_3d[1]:time_int_3d[2], 2],\n",
    "        #data_2[time_int_3d[1]:time_int_3d[2], 1], linewidth = 1.0, color = :black)\n",
    "        \n",
    "lines!(data_1[tstart:tfinish, 3], data_1[tstart:tfinish, 2],\n",
    "        data_1[tstart:tfinish, 1], linewidth = 1.0, color = :deeppink)\n",
    "        \n",
    "scatter!(output[8][1][3], output[8][1][2], output[8][1][1], markersize = 10.0, color = :orange)\n",
    "#scatter!(u0_1[3], u0_1[2], u0_1[1], markersize = 10.0, color = :green)\n",
    "\n",
    "display(GLMakie.Screen(), f)"
   ]
  }
 ],
 "metadata": {
  "kernelspec": {
   "display_name": "Julia 1.8.5",
   "language": "julia",
   "name": "julia-1.8"
  },
  "language_info": {
   "file_extension": ".jl",
   "mimetype": "application/julia",
   "name": "julia",
   "version": "1.8.5"
  }
 },
 "nbformat": 4,
 "nbformat_minor": 5
}
