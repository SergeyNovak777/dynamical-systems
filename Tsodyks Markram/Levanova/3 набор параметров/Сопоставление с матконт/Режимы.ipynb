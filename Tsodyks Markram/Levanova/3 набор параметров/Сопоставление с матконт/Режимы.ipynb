{
 "cells": [
  {
   "cell_type": "code",
   "execution_count": 1,
   "id": "1e765d35",
   "metadata": {},
   "outputs": [
    {
     "ename": "UndefVarError",
     "evalue": "UndefVarError: pathtorepo not defined",
     "output_type": "error",
     "traceback": [
      "UndefVarError: pathtorepo not defined\n",
      "\n",
      "Stacktrace:\n",
      " [1] top-level scope\n",
      "   @ c:\\Users\\Alex\\Desktop\\repo\\2612\\0903\\dynamical-systems\\Tsodyks Markram\\Levanova\\3 набор параметров\\Сопоставление с матконт\\Режимы.ipynb:4"
     ]
    }
   ],
   "source": [
    "pathtorepo = \"C:\\\\Users\\\\Alex\\\\Desktop\\\\repo\\\\2612\\\\0903\\\\\"\n",
    "\n",
    "using Pkg\n",
    "Pkg.activate(pathtorepo * \"dynamical-systems\\\\env\\\\integrate\\\\\")\n",
    "include(\"C:\\\\Users\\\\Alex\\\\Desktop\\\\repo\\\\2612\\\\0903\\\\dynamical-systems\\\\Tsodyks Markram\\\\system.jl\")"
   ]
  },
  {
   "cell_type": "code",
   "execution_count": 2,
   "id": "1bdee5a7",
   "metadata": {},
   "outputs": [],
   "source": [
    "using StaticArrays, DifferentialEquations, DynamicalSystems\n",
    "\n",
    "E, x, y  = 0..40, 0..1,  0..1\n",
    "box = E × x × y\n",
    "using CairoMakie, GLMakie"
   ]
  },
  {
   "cell_type": "code",
   "execution_count": 12,
   "id": "39e21e6c",
   "metadata": {},
   "outputs": [],
   "source": [
    "function distance_homoclinic(p1, p2)\n",
    "    x1, y1, z1 = p1\n",
    "    x2, y2, z2 = p2\n",
    "    dist = sqrt( (x1-x2)^2 + (y1-y2)^2 + (z1-z2)^2 )\n",
    "    return dist\n",
    "end;"
   ]
  },
  {
   "cell_type": "code",
   "execution_count": 5,
   "id": "4c259bfd",
   "metadata": {},
   "outputs": [
    {
     "data": {
      "text/plain": [
       "timeseries (generic function with 1 method)"
      ]
     },
     "metadata": {},
     "output_type": "display_data"
    }
   ],
   "source": [
    "\"\"\"\n",
    "arguments:\n",
    "- model\n",
    "- u0\n",
    "- parameters\n",
    "- times -- array type of [] which include time_integrate, time_transient\n",
    "- integ_setting -- settings for method of integration\n",
    "- t_int_ts -- time inerval for timeseries\n",
    "- t_int_3d -- time inerval for 3d phase portreit\n",
    " - labels -- labels for abscissa and ordinate of timeseries\n",
    "\"\"\"\n",
    "function research_regime(model, u0, p, times, integ_setting;\n",
    "        index_3d = [1, 2, 3], index_ts = 1,\n",
    "        t_int_ts = nothing, t_int_3d = nothing,\n",
    "        labels = [\"time\", \"\"], plot = true)\n",
    "    \n",
    "    ds = CoupledODEs(model, u0, p, diffeq = integ_setting)\n",
    "    tr, trange = trajectory(ds, times[1]; Δt = integ_setting.dt, Ttr = times[2])\n",
    "    \n",
    "\n",
    "    t_int_ts = check_t_int(t_int_ts, times)\n",
    "    t_int_3d = check_t_int(t_int_3d, times)\n",
    "\n",
    "    inter_3d = interactive_3d(tr, [3, 2, 1], t_int_3d)\n",
    "    ts = timeseries([trange, tr], index_ts, t_int_ts, labels)\n",
    "    \n",
    "    if plot == true\n",
    "    GLMakie.activate!()\n",
    "    display(GLMakie.Screen(), inter_3d)\n",
    "    display(GLMakie.Screen(), ts)\n",
    "    end\n",
    "    return [ds, tr, trange, inter_3d, ts]\n",
    "end\n",
    "function interactive_3d(data, index, interval)\n",
    "    f = Figure(resolution = (800, 500))\n",
    "    axis3 = Axis3(f[1, 1],\n",
    "                xlabelsize = 35, ylabelsize = 35, zlabelsize = 35,\n",
    "                xticklabelsize = 20, yticklabelsize = 20, zticklabelsize = 20,\n",
    "                xgridvisible = false, ygridvisible = false, zgridvisible = false)\n",
    "\n",
    "    lines!(axis3,\n",
    "        data[interval[1]:interval[2], index[1]], data[interval[1]:interval[2], index[2]],\n",
    "        data[interval[1]:interval[2],index[3]], linewidth = 1.5, color = :deeppink)\n",
    "    return f\n",
    "end\n",
    "function check_t_int(t_int, times)\n",
    "    if t_int == nothing\n",
    "        t_int = [1, times[1]]\n",
    "    end\n",
    "    return t_int\n",
    "end\n",
    "function timeseries(data, index, interval, labels)\n",
    "    \n",
    "    f = Figure(resolution = (900, 250))\n",
    "    axis = Axis(f[1, 1], xlabel = labels[1], ylabel = labels[2],\n",
    "            xlabelsize = 35, ylabelsize = 35,\n",
    "            xticklabelsize = 28, yticklabelsize = 28,\n",
    "            xgridvisible = false, ygridvisible = false)\n",
    "    \n",
    "    lines!(axis, data[1][interval[1]:interval[2]], data[2][interval[1]:interval[2], index],\n",
    "            linewidth = 2.5, color = :deeppink)\n",
    "    return f\n",
    "end"
   ]
  },
  {
   "cell_type": "code",
   "execution_count": 6,
   "id": "730fe1f9",
   "metadata": {},
   "outputs": [
    {
     "data": {
      "text/plain": [
       "interactive_3d_2_traj (generic function with 1 method)"
      ]
     },
     "metadata": {},
     "output_type": "display_data"
    }
   ],
   "source": [
    "function research_regime_2_traj(model, u0_1, u0_2, p, times, integ_setting;\n",
    "        index_3d = [3, 2, 1], t_int_3d = nothing,\n",
    "        plot = true, onlylastpoint = false, dis_hc = false)\n",
    "    \n",
    "    ds_1 = CoupledODEs(model, u0_1, p, diffeq = integ_setting)\n",
    "    tr_1, trange = trajectory(ds_1, times[1]; Δt = integ_setting.dt, Ttr = times[2])\n",
    "    \n",
    "    ds_2 = CoupledODEs(model, u0_2, p, diffeq = integ_setting)\n",
    "    tr_2, _ = trajectory(ds_2, times[1]; Δt = integ_setting.dt, Ttr = times[2])\n",
    "    \n",
    "    fp, eigs, _ = fixedpoints(ds_1, box, jacob_TM_)\n",
    "    \n",
    "    if dis_hc == true\n",
    "        distance_1 = zeros(length(tr_1))\n",
    "        distance_2 = zeros(length(tr_2))\n",
    "    \n",
    "        for i in range(1, length(distance_1), step = 1)\n",
    "            distance_1[i] = distance_homoclinic(tr_1[i], fp[1])\n",
    "        end\n",
    "    \n",
    "        for i in range(1, length(distance_2), step = 1)\n",
    "            distance_2[i] = distance_homoclinic(tr_2[i], fp[1])\n",
    "        end\n",
    "    \n",
    "        dis_1 = minimum(distance_1)\n",
    "        dis_2 = minimum(distance_2)\n",
    "    end\n",
    "    \n",
    "    t_int_3d = check_t_int(t_int_3d, times)\n",
    "\n",
    "    inter_3d = interactive_3d_2_traj(tr_1, tr_2, fp[1], index_3d, t_int_3d)\n",
    "    \n",
    "    if plot == true\n",
    "        GLMakie.activate!()\n",
    "        display(GLMakie.Screen(), inter_3d)\n",
    "    end\n",
    "    \n",
    "    if onlylastpoint == true && dis_hc == true\n",
    "        return [ds_1, ds_2, tr_1[end], tr_2[end], dis_1, dis_2, inter_3d, fp, eigs]\n",
    "    elseif onlylastpoint == true\n",
    "        return [ds_1, ds_2, tr_1[end], tr_2[end], dis_1, dis_2, inter_3d, fp, eigs]\n",
    "        else\n",
    "            return [ds_1, ds_2, tr_1, tr_2, trange, dis_1, dis_2, inter_3d, fp, eigs]\n",
    "    end\n",
    "    \n",
    "end\n",
    "function interactive_3d_2_traj(data_1, data_2, fp, index, interval)\n",
    "    f = Figure(resolution = (800, 500))\n",
    "    axis3 = Axis3(f[1, 1],\n",
    "                xlabelsize = 35, ylabelsize = 35, zlabelsize = 35,\n",
    "                xticklabelsize = 20, yticklabelsize = 20, zticklabelsize = 20,\n",
    "                xgridvisible = false, ygridvisible = false, zgridvisible = false)\n",
    "\n",
    "    lines!(axis3,\n",
    "        data_1[interval[1]:interval[2], index[1]], data_1[interval[1]:interval[2], index[2]],\n",
    "        data_1[interval[1]:interval[2],index[3]], linewidth = 1.0, color = :deeppink)\n",
    "    \n",
    "    lines!(axis3,\n",
    "        data_2[interval[1]:interval[2], index[1]], data_2[interval[1]:interval[2], index[2]],\n",
    "        data_2[interval[1]:interval[2],index[3]], linewidth = 1.0, color = :black)\n",
    "    \n",
    "    scatter!(axis3, fp[index[1]], fp[index[2]], fp[index[3]], linewidth = 1.0, color = :green)\n",
    "    \n",
    "    return f\n",
    "end"
   ]
  },
  {
   "cell_type": "code",
   "execution_count": 7,
   "id": "2cc715eb",
   "metadata": {},
   "outputs": [],
   "source": [
    "const τ = 0.013;  const τD = 0.080;  const τy = 3.3;  const J = 3.07;  const β = 0.300\n",
    "const xthr = 0.75; const ythr = 0.4\n",
    "const α = 1.58; const ΔU0 = 0.305; const U0 = 0.265;"
   ]
  },
  {
   "cell_type": "code",
   "execution_count": 8,
   "id": "37add348",
   "metadata": {},
   "outputs": [],
   "source": [
    "time = 1000; tt = 0; tstep = 0.001\n",
    "integ_set = (alg = Vern9(), adaptive = false, dt = tstep);\n",
    "times = [time, tt]\n",
    "time_int_3d = [1, 1000000];"
   ]
  },
  {
   "cell_type": "code",
   "execution_count": 9,
   "id": "23efd51d",
   "metadata": {},
   "outputs": [],
   "source": [
    "eps_vec = [1e-14, 0.0, 1e-14];"
   ]
  },
  {
   "cell_type": "code",
   "execution_count": 10,
   "id": "441e01c8",
   "metadata": {},
   "outputs": [
    {
     "name": "stdout",
     "output_type": "stream",
     "text": [
      "last point  pink trajectory:[8.337037568242424, 0.7385031015931967, 0.4383397756224728]\n",
      "black trajectory:[19.987334710975187, 0.5898117186907356, 0.5774872394595889]\n"
     ]
    }
   ],
   "source": [
    "I0 = -1.706\n",
    "p = [α, τ, τD, τy, J, xthr, ythr, U0, ΔU0, β, I0]\n",
    "u0_1 = [8.337037568242424, 0.7385031015931967, 0.4383397756224728] # output[9][1] + eps_vec\n",
    "u0_2 = [19.987334710975187, 0.5898117186907356, 0.5774872394595889] # output[4][end]\n",
    "println(\"last point  pink trajectory:$u0_1\")\n",
    "println(\"black trajectory:$u0_2\")"
   ]
  },
  {
   "cell_type": "code",
   "execution_count": 13,
   "id": "3d1acfa9",
   "metadata": {},
   "outputs": [
    {
     "data": {
      "text/plain": [
       "10-element Vector{Any}:\n",
       "  3-dimensional CoupledODEs\n",
       "  3-dimensional CoupledODEs\n",
       "  3-dimensional StateSpaceSet{Float64} with 1000001 points\n",
       "  3-dimensional StateSpaceSet{Float64} with 1000001 points\n",
       "  0.0:0.001:1000.0\n",
       " 1.4609455111976626e-14\n",
       " 5.5578549529902305e-5\n",
       "  Figure()\n",
       "  3-dimensional StateSpaceSet{Float64} with 1 points\n",
       "  Vector{ComplexF64}[[-6.382803808040045 + 0.0im, 2.173275130586992 - 13.770982609518827im, 2.173275130586992 + 13.770982609518827im]]"
      ]
     },
     "metadata": {},
     "output_type": "display_data"
    }
   ],
   "source": [
    "output = research_regime_2_traj(TM, u0_1, u0_2, p, times, integ_set,\n",
    "        t_int_3d = time_int_3d,\n",
    "        plot = true, onlylastpoint = false, dis_hc = true)"
   ]
  },
  {
   "cell_type": "code",
   "execution_count": 14,
   "id": "52761082",
   "metadata": {},
   "outputs": [],
   "source": [
    "data_1 = output[3]\n",
    "data_2 = output[4];"
   ]
  },
  {
   "cell_type": "code",
   "execution_count": 16,
   "id": "64b84b5f",
   "metadata": {},
   "outputs": [
    {
     "data": {
      "text/plain": [
       "GLMakie.Screen(...)"
      ]
     },
     "metadata": {},
     "output_type": "display_data"
    }
   ],
   "source": [
    "time_int_3d = [1, 20000];\n",
    "\n",
    "f = Figure(resolution = (900, 900))\n",
    "ax = LScene(f[1, 1], show_axis = true)\n",
    "\n",
    "\n",
    "scale!(ax.scene, 50, 50, 1)\n",
    "\n",
    "lines!(data_2[time_int_3d[1]:time_int_3d[2], 3], data_2[time_int_3d[1]:time_int_3d[2], 2],\n",
    "        data_2[time_int_3d[1]:time_int_3d[2], 1], linewidth = 1.0, color = :black)\n",
    "\n",
    "display(GLMakie.Screen(), f)"
   ]
  },
  {
   "cell_type": "code",
   "execution_count": 20,
   "id": "88c08c2c",
   "metadata": {},
   "outputs": [
    {
     "data": {
      "text/plain": [
       "GLMakie.Screen(...)"
      ]
     },
     "execution_count": 20,
     "metadata": {},
     "output_type": "execute_result"
    }
   ],
   "source": [
    "time_int_3d = [1, 25000];\n",
    "f = Figure(resolution = (900, 900))\n",
    "ax = LScene(f[1, 1], show_axis = true)\n",
    "    \n",
    "\n",
    "scale!(ax.scene, 50, 50, 1)\n",
    "lines!(data_1[time_int_3d[1]:time_int_3d[2], 3], data_1[time_int_3d[1]:time_int_3d[2], 2],\n",
    "        data_1[time_int_3d[1]:time_int_3d[2], 1], linewidth = 1.0, color = :deeppink)\n",
    "\n",
    "display(GLMakie.Screen(), f)"
   ]
  },
  {
   "cell_type": "code",
   "execution_count": 49,
   "id": "ace865bb",
   "metadata": {},
   "outputs": [
    {
     "name": "stdout",
     "output_type": "stream",
     "text": [
      "I0: -1.7067\n",
      "previous last point  pink trajectory:[7.516774713387567, 0.746485575093425, 0.43722593278369165]\n",
      "previous black trajectory:[8.30318964766908, 0.7364665354623648, 0.4379098873884975]\n"
     ]
    }
   ],
   "source": [
    "prev_1 = u0_1\n",
    "prev_2 = u0_2\n",
    "println(\"I0: $I0\")\n",
    "println(\"previous last point  pink trajectory:$prev_1\")\n",
    "println(\"previous black trajectory:$prev_2\")"
   ]
  },
  {
   "cell_type": "code",
   "execution_count": 46,
   "id": "04fc6cc4",
   "metadata": {},
   "outputs": [
    {
     "name": "stdout",
     "output_type": "stream",
     "text": [
      "LS  pink trajectory:[0.06090950633873901, 0.001442625154265159, -4.661541725120631]\n",
      "LS  black trajectory:[0.0725448374823018, 0.0018920141667437512, -4.669948783685054]\n"
     ]
    }
   ],
   "source": [
    "pink = lyapunovspectrum(output[1], time; Ttr = tt)\n",
    "black = lyapunovspectrum(output[2], time; Ttr = tt)\n",
    "println(\"LS  pink trajectory:$pink\")\n",
    "println(\"LS  black trajectory:$black\")"
   ]
  },
  {
   "cell_type": "code",
   "execution_count": null,
   "id": "4cc22fdc",
   "metadata": {},
   "outputs": [],
   "source": []
  }
 ],
 "metadata": {
  "kernelspec": {
   "display_name": "Julia 1.8.5",
   "language": "julia",
   "name": "julia-1.8"
  },
  "language_info": {
   "file_extension": ".jl",
   "mimetype": "application/julia",
   "name": "julia",
   "version": "1.8.5"
  }
 },
 "nbformat": 4,
 "nbformat_minor": 5
}
