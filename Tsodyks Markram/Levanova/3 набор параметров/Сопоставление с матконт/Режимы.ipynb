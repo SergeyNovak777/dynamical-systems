{
 "cells": [
  {
   "cell_type": "code",
   "execution_count": 1,
   "id": "1e765d35",
   "metadata": {},
   "outputs": [
    {
     "name": "stderr",
     "output_type": "stream",
     "text": [
      "\u001b[32m\u001b[1m  Activating\u001b[22m\u001b[39m project at `C:\\Users\\Alex\\Desktop\\repo\\2612\\0903\\dynamical-systems\\env\\integrate`\n"
     ]
    }
   ],
   "source": [
    "pathtorepo = \"C:\\\\Users\\\\Alex\\\\Desktop\\\\repo\\\\2612\\\\0903\\\\\"\n",
    "\n",
    "using Pkg\n",
    "Pkg.activate(pathtorepo * \"dynamical-systems\\\\env\\\\integrate\\\\\")\n",
    "include(\"C:\\\\Users\\\\Alex\\\\Desktop\\\\repo\\\\2612\\\\0903\\\\dynamical-systems\\\\system.jl\")\n",
    "include(\"C:\\\\Users\\\\Alex\\\\Desktop\\\\repo\\\\2612\\\\0903\\\\dynamical-systems\\\\visual_regimes.jl\");"
   ]
  },
  {
   "cell_type": "code",
   "execution_count": 2,
   "id": "1bdee5a7",
   "metadata": {},
   "outputs": [],
   "source": [
    "using StaticArrays, DifferentialEquations, DynamicalSystems\n",
    "E, x, y  = 0..40, 0..1,  0..1\n",
    "box = E × x × y\n",
    "using CairoMakie, GLMakie;"
   ]
  },
  {
   "cell_type": "code",
   "execution_count": 243,
   "id": "2cc715eb",
   "metadata": {},
   "outputs": [],
   "source": [
    "const τ = 0.013;  const τD = 0.07993;  const τy = 3.3;  const J = 3.07;  const β = 0.300\n",
    "const xthr = 0.75; const ythr = 0.4\n",
    "const α = 1.58; const ΔU0 = 0.305; "
   ]
  },
  {
   "cell_type": "code",
   "execution_count": 244,
   "id": "37add348",
   "metadata": {},
   "outputs": [],
   "source": [
    "time = 1000; tt = 0; tstep = 0.001; times = [time, tt]\n",
    "integ_set = (alg = Vern9(), adaptive = false, dt = tstep)\n",
    "\n",
    "time_int_3d = [100000, 200000]\n",
    "eps_vec = [1e-10, 0.0, 0.0];"
   ]
  },
  {
   "cell_type": "code",
   "execution_count": 245,
   "id": "f7fd79b2",
   "metadata": {},
   "outputs": [
    {
     "data": {
      "text/plain": [
       "3-element SVector{3, Float64} with indices SOneTo(3):\n",
       " 8.344928548697018\n",
       " 0.7384915050866405\n",
       " 0.4383082474463694"
      ]
     },
     "execution_count": 245,
     "metadata": {},
     "output_type": "execute_result"
    }
   ],
   "source": [
    "using LinearAlgebra\n",
    "\n",
    "jac = jacob_TM_(fp[1], p, 0)\n",
    "eivec = eigvecs(jac)\n",
    "\n",
    "shift = fp[1] + real(eivec[:, 1])*1e-4\n",
    "shift"
   ]
  },
  {
   "cell_type": "code",
   "execution_count": 250,
   "id": "441e01c8",
   "metadata": {},
   "outputs": [
    {
     "name": "stdout",
     "output_type": "stream",
     "text": [
      "last point  pink trajectory:[8.344928548697018, 0.7384915050866405, 0.4383082474463694]\n",
      "black trajectory:[13.617786769845223, 0.6498710704050087, 0.45088709028343976]\n"
     ]
    }
   ],
   "source": [
    "U0 = 0.265;\n",
    "I0 = -1.706\n",
    "\n",
    "p = [α, τ, τD, τy, J, xthr, ythr, U0, ΔU0, β, I0]\n",
    "u0_1 = shift\n",
    "u0_2 = output[4][end]\n",
    "\n",
    "println(\"last point  pink trajectory:$u0_1\")\n",
    "println(\"black trajectory:$u0_2\")"
   ]
  },
  {
   "cell_type": "code",
   "execution_count": 251,
   "id": "3d1acfa9",
   "metadata": {},
   "outputs": [
    {
     "data": {
      "text/plain": [
       "9-element Vector{Any}:\n",
       "  3-dimensional CoupledODEs\n",
       "  3-dimensional CoupledODEs\n",
       "  3-dimensional StateSpaceSet{Float64} with 1000001 points\n",
       "  3-dimensional StateSpaceSet{Float64} with 1000001 points\n",
       " 2.014298827064272e-5\n",
       " 0.00024017972200196834\n",
       "  Figure()\n",
       "  3-dimensional StateSpaceSet{Float64} with 1 points\n",
       "  Vector{ComplexF64}[[-6.39202144621012 + 0.0im, 2.1633886996418656 - 13.783195438835794im, 2.1633886996418656 + 13.783195438835794im]]"
      ]
     },
     "execution_count": 251,
     "metadata": {},
     "output_type": "execute_result"
    }
   ],
   "source": [
    "output = research_regime_2_traj(TM, u0_1, u0_2, p, times, integ_set,\n",
    "        t_int_3d = time_int_3d,\n",
    "        plot = false, onlylastpoint = false, dis_hc = true)"
   ]
  },
  {
   "cell_type": "code",
   "execution_count": 237,
   "id": "0013b1d4",
   "metadata": {},
   "outputs": [
    {
     "data": {
      "text/plain": [
       "(3-dimensional StateSpaceSet{Float64} with 1 points, Vector{ComplexF64}[[-6.389480274087585 + 0.0im, 2.165716578793199 - 13.779650444011056im, 2.165716578793199 + 13.779650444011056im]], Bool[0])"
      ]
     },
     "execution_count": 237,
     "metadata": {},
     "output_type": "execute_result"
    }
   ],
   "source": [
    "fp, ei, _ = fixedpoints(output[1], box, jacob_TM_)"
   ]
  },
  {
   "cell_type": "code",
   "execution_count": 238,
   "id": "ace865bb",
   "metadata": {},
   "outputs": [
    {
     "name": "stdout",
     "output_type": "stream",
     "text": [
      "I0: -1.7064\n",
      "previous last point  pink trajectory:[8.345438255268782, 0.7384885795134165, 0.4382939618008538]\n",
      "previous black trajectory:[8.316131139486899, 0.736049299565973, 0.4378038618077226]\n"
     ]
    }
   ],
   "source": [
    "prev_1 = u0_1\n",
    "prev_2 = u0_2\n",
    "println(\"I0: $I0\")\n",
    "println(\"previous last point  pink trajectory:$prev_1\")\n",
    "println(\"previous black trajectory:$prev_2\")"
   ]
  },
  {
   "cell_type": "code",
   "execution_count": 239,
   "id": "52761082",
   "metadata": {},
   "outputs": [],
   "source": [
    "data_1 = output[3]\n",
    "data_2 = output[4];"
   ]
  },
  {
   "cell_type": "code",
   "execution_count": 241,
   "id": "64b84b5f",
   "metadata": {},
   "outputs": [
    {
     "data": {
      "text/plain": [
       "GLMakie.Screen(...)"
      ]
     },
     "execution_count": 241,
     "metadata": {},
     "output_type": "execute_result"
    }
   ],
   "source": [
    "# 3d interactive\n",
    "tstart, tfinish = 1, 500000\n",
    "\n",
    "f = Figure(resolution = (700, 700))\n",
    "ax = LScene(f[1, 1], show_axis = true)\n",
    "\n",
    "\n",
    "scale!(ax.scene, 50, 50, 1)\n",
    "\n",
    "lines!(data_2[time_int_3d[1]:time_int_3d[2], 3], data_2[time_int_3d[1]:time_int_3d[2], 2],\n",
    "        data_2[time_int_3d[1]:time_int_3d[2], 1], linewidth = 1.0, color = :black)\n",
    "        \n",
    "lines!(data_1[tstart:tfinish, 3], data_1[tstart:tfinish, 2],\n",
    "        data_1[tstart:tfinish, 1], linewidth = 1.0, color = :deeppink)\n",
    "        \n",
    "scatter!(output[8][1][3], output[8][1][2], output[8][1][1], markersize = 10.0, color = :orange)\n",
    "scatter!(u0_1[3], u0_1[2], u0_1[1], markersize = 10.0, color = :green)\n",
    "\n",
    "display(GLMakie.Screen(), f)"
   ]
  }
 ],
 "metadata": {
  "kernelspec": {
   "display_name": "Julia 1.8.5",
   "language": "julia",
   "name": "julia-1.8"
  },
  "language_info": {
   "file_extension": ".jl",
   "mimetype": "application/julia",
   "name": "julia",
   "version": "1.8.5"
  }
 },
 "nbformat": 4,
 "nbformat_minor": 5
}
