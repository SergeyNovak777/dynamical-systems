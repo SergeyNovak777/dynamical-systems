{
 "cells": [
  {
   "cell_type": "code",
   "execution_count": 1,
   "id": "1e765d35",
   "metadata": {},
   "outputs": [
    {
     "name": "stderr",
     "output_type": "stream",
     "text": [
      "\u001b[32m\u001b[1m  Activating\u001b[22m\u001b[39m project at `C:\\Users\\Alex\\Desktop\\repo\\2612\\0903\\dynamical-systems\\env\\integrate`\n"
     ]
    }
   ],
   "source": [
    "pathtorepo = \"C:\\\\Users\\\\Alex\\\\Desktop\\\\repo\\\\2612\\\\0903\\\\\"\n",
    "\n",
    "using Pkg\n",
    "Pkg.activate(pathtorepo * \"dynamical-systems\\\\env\\\\integrate\\\\\")\n",
    "include(\"C:\\\\Users\\\\Alex\\\\Desktop\\\\repo\\\\2612\\\\0903\\\\dynamical-systems\\\\Tsodyks Markram\\\\system.jl\")\n",
    "include(\"C:\\\\Users\\\\Alex\\\\Desktop\\\\repo\\\\2612\\\\0903\\\\dynamical-systems\\\\Tsodyks Markram\\\\visual_regimes.jl\");"
   ]
  },
  {
   "cell_type": "code",
   "execution_count": 5,
   "id": "1bdee5a7",
   "metadata": {},
   "outputs": [],
   "source": [
    "using StaticArrays, DifferentialEquations, DynamicalSystems\n",
    "E, x, y  = 0..40, 0..1,  0..1\n",
    "box = E × x × y\n",
    "using CairoMakie, GLMakie"
   ]
  },
  {
   "cell_type": "code",
   "execution_count": 6,
   "id": "2cc715eb",
   "metadata": {},
   "outputs": [],
   "source": [
    "const τ = 0.013;  const τD = 0.080;  const τy = 3.3;  const J = 3.07;  const β = 0.300\n",
    "const xthr = 0.75; const ythr = 0.4\n",
    "const α = 1.58; const ΔU0 = 0.305; const U0 = 0.265;"
   ]
  },
  {
   "cell_type": "code",
   "execution_count": 43,
   "id": "37add348",
   "metadata": {},
   "outputs": [],
   "source": [
    "time = 1000; tt = 1000; tstep = 0.00001\n",
    "integ_set = (alg = RK4(), adaptive = false, dt = tstep);"
   ]
  },
  {
   "cell_type": "code",
   "execution_count": 44,
   "id": "2a253f97",
   "metadata": {},
   "outputs": [],
   "source": [
    "times = [time, tt]\n",
    "t_interval_phase_space = [1, 100000]\n",
    "t_interval_tseries = [1, 50000];"
   ]
  },
  {
   "cell_type": "code",
   "execution_count": 45,
   "id": "441e01c8",
   "metadata": {},
   "outputs": [
    {
     "data": {
      "text/plain": [
       "3-element Vector{Float64}:\n",
       " 5.4\n",
       " 0.5\n",
       " 0.3"
      ]
     },
     "metadata": {},
     "output_type": "display_data"
    }
   ],
   "source": [
    "I0 = -1.6\n",
    "p = [α, τ, τD, τy, J, xthr, ythr, U0, ΔU0, β, I0]\n",
    "u0 = [5.4, 0.5, 0.3]"
   ]
  },
  {
   "cell_type": "code",
   "execution_count": 46,
   "id": "82713bb5",
   "metadata": {},
   "outputs": [
    {
     "data": {
      "text/plain": [
       "5-element Vector{Any}:\n",
       " 3-dimensional CoupledODEs\n",
       " 3-dimensional StateSpaceSet{Float64} with 100000001 points\n",
       " 1000.0:1.0e-5:2000.0\n",
       " Figure()\n",
       " Figure()"
      ]
     },
     "metadata": {},
     "output_type": "display_data"
    }
   ],
   "source": [
    "output = research_regime(TM, u0, p, times, integ_set,\n",
    "        t_int_ts = t_interval_tseries, t_int_3d = t_interval_phase_space,\n",
    "        plot = false, plot_phase_space = true, plot_t_series = true,\n",
    "        return_point_last = false)"
   ]
  },
  {
   "cell_type": "code",
   "execution_count": 47,
   "id": "36eb3b64",
   "metadata": {},
   "outputs": [
    {
     "data": {
      "text/plain": [
       "3-dimensional CoupledODEs\n",
       " deterministic: true\n",
       " discrete time: false\n",
       " in-place:      false\n",
       " dynamic rule:  TM\n",
       " ODE solver:    RK4\n",
       " ODE kwargs:    (adaptive = false, dt = 1.0e-5)\n",
       " parameters:    [1.58, 0.013, 0.08, 3.3, 3.07, 0.75, 0.4, 0.265, 0.305, 0.3, -1.6]\n",
       " time:          2000.0000056668816\n",
       " state:         [14.00792166501233, 0.712835671257905, 0.45432416783843294]\n"
      ]
     },
     "metadata": {},
     "output_type": "display_data"
    }
   ],
   "source": [
    "output[1]"
   ]
  },
  {
   "cell_type": "code",
   "execution_count": 48,
   "id": "64b84b5f",
   "metadata": {},
   "outputs": [
    {
     "data": {
      "text/plain": [
       "GLMakie.Screen(...)"
      ]
     },
     "metadata": {},
     "output_type": "display_data"
    }
   ],
   "source": [
    "data = output[2]\n",
    "tstart, tfinish = 1, 1000000\n",
    "\n",
    "f = Figure(resolution = (700, 700))\n",
    "ax = LScene(f[1, 1], show_axis = true)\n",
    "scale!(ax.scene, 50, 50, 1)\n",
    "lines!(data[tstart:tfinish, 3], data[tstart:tfinish, 2],\n",
    "        data[tstart:tfinish, 1], linewidth = 1.0, color = :deeppink)\n",
    "display(GLMakie.Screen(), f)\n",
    "\n",
    "f = Figure(resolution = (700, 700))\n",
    "ax = Axis(f[1, 1], xlabel = \"x\", ylabel = \"y\", xlabelsize = 25, ylabelsize = 25)\n",
    "idx, idy = 1, 2\n",
    "lines!(data[tstart:tfinish, idx], data[tstart:tfinish, idy], linewidth = 1.0, color = :deeppink)\n",
    "        \n",
    "\n",
    "display(GLMakie.Screen(), f)\n",
    "f = Figure(resolution = (900, 400))\n",
    "ax = Axis(f[1, 1], xlabel = \"x\", ylabel = \"y\", xlabelsize = 25, ylabelsize = 25)\n",
    "lines!(output[3][tstart:tfinish], data[tstart:tfinish, 1], linewidth = 1.0, color = :deeppink)\n",
    "display(GLMakie.Screen(), f)"
   ]
  }
 ],
 "metadata": {
  "kernelspec": {
   "display_name": "Julia 1.8.5",
   "language": "julia",
   "name": "julia-1.8"
  },
  "language_info": {
   "file_extension": ".jl",
   "mimetype": "application/julia",
   "name": "julia",
   "version": "1.8.5"
  }
 },
 "nbformat": 4,
 "nbformat_minor": 5
}
