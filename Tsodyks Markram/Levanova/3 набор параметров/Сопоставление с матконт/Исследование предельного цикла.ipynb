{
 "cells": [
  {
   "cell_type": "code",
   "execution_count": 1,
   "id": "1e765d35",
   "metadata": {},
   "outputs": [
    {
     "name": "stderr",
     "output_type": "stream",
     "text": [
      "\u001b[32m\u001b[1m  Activating\u001b[22m\u001b[39m project at `C:\\Users\\Alex\\Desktop\\repo\\2612\\0903\\dynamical-systems\\env\\integrate`"
     ]
    },
    {
     "name": "stderr",
     "output_type": "stream",
     "text": [
      "\n"
     ]
    },
    {
     "data": {
      "text/plain": [
       "distance_btw_plot (generic function with 1 method)"
      ]
     },
     "metadata": {},
     "output_type": "display_data"
    }
   ],
   "source": [
    "pathtorepo = \"C:\\\\Users\\\\Alex\\\\Desktop\\\\repo\\\\2612\\\\0903\\\\\"\n",
    "\n",
    "using Pkg\n",
    "Pkg.activate(pathtorepo * \"dynamical-systems\\\\env\\\\integrate\\\\\")\n",
    "include(\"C:\\\\Users\\\\Alex\\\\Desktop\\\\repo\\\\2612\\\\0903\\\\dynamical-systems\\\\Tsodyks Markram\\\\system.jl\")\n",
    "include(\"C:\\\\Users\\\\Alex\\\\Desktop\\\\repo\\\\2612\\\\0903\\\\dynamical-systems\\\\Tsodyks Markram\\\\visual_regimes.jl\")"
   ]
  },
  {
   "cell_type": "code",
   "execution_count": 2,
   "id": "1bdee5a7",
   "metadata": {},
   "outputs": [],
   "source": [
    "using StaticArrays, DifferentialEquations, DynamicalSystems\n",
    "E, x, y  = 0..40, 0..1,  0..1\n",
    "box = E × x × y\n",
    "using CairoMakie, GLMakie"
   ]
  },
  {
   "cell_type": "code",
   "execution_count": 46,
   "id": "2cc715eb",
   "metadata": {},
   "outputs": [],
   "source": [
    "const τ = 0.013;  const τD = 0.080;  const τy = 3.3;  const J = 3.07;  const β = 0.300\n",
    "const xthr = 0.75; const ythr = 0.4\n",
    "const α = 1.58; const ΔU0 = 0.305; const U0 = 0.265;"
   ]
  },
  {
   "cell_type": "code",
   "execution_count": 47,
   "id": "37add348",
   "metadata": {},
   "outputs": [],
   "source": [
    "time = 1000; tt = 1000; tstep = 0.001\n",
    "integ_set = (alg = Vern9(), adaptive = false, dt = tstep);\n",
    "times = [time, tt]\n",
    "time_int_3d = [1, 1000000]\n",
    "eps_vec = [1e-10, 0.0, 0.0];"
   ]
  },
  {
   "cell_type": "code",
   "execution_count": 63,
   "id": "441e01c8",
   "metadata": {},
   "outputs": [
    {
     "name": "stdout",
     "output_type": "stream",
     "text": [
      "last point  pink trajectory:[17.079818071584352, 0.6337416408242853, 0.4610195056208861]\n",
      "black trajectory:[5.940356002361358, 0.7393880329798597, 0.44456808093229777]\n"
     ]
    }
   ],
   "source": [
    "I0 = -1.65\n",
    "p = [α, τ, τD, τy, J, xthr, ythr, U0, ΔU0, β, I0]\n",
    "u0_1 = output[3][end] # output[8][1] + eps_vec\n",
    "u0_2 = output[4][end] # [11.002759650491107, 0.6458410429292543, 0.5258922022316247]\n",
    "println(\"last point  pink trajectory:$u0_1\")\n",
    "println(\"black trajectory:$u0_2\")"
   ]
  },
  {
   "cell_type": "code",
   "execution_count": 64,
   "id": "3d1acfa9",
   "metadata": {},
   "outputs": [
    {
     "data": {
      "text/plain": [
       "9-element Vector{Any}:\n",
       "  3-dimensional CoupledODEs\n",
       "  3-dimensional CoupledODEs\n",
       "  3-dimensional StateSpaceSet{Float64} with 1000001 points\n",
       "  3-dimensional StateSpaceSet{Float64} with 1000001 points\n",
       " 0.04880089548411425\n",
       " 0.04880090788706072\n",
       "  Figure()\n",
       "  3-dimensional StateSpaceSet{Float64} with 1 points\n",
       "  Vector{ComplexF64}[[-6.611293168753242 + 0.0im, 1.9744735631869097 - 14.095256962874968im, 1.9744735631869097 + 14.095256962874968im]]"
      ]
     },
     "metadata": {},
     "output_type": "display_data"
    }
   ],
   "source": [
    "output = research_regime_2_traj(TM, u0_1, u0_2, p, times, integ_set,\n",
    "        t_int_3d = time_int_3d,\n",
    "        plot = false, onlylastpoint = false, dis_hc = true)"
   ]
  },
  {
   "cell_type": "code",
   "execution_count": 65,
   "id": "ace865bb",
   "metadata": {},
   "outputs": [
    {
     "name": "stdout",
     "output_type": "stream",
     "text": [
      "I0: -1.65\n",
      "previous last point  pink trajectory:[17.079818071584352, 0.6337416408242853, 0.4610195056208861]\n",
      "previous black trajectory:[5.940356002361358, 0.7393880329798597, 0.44456808093229777]\n"
     ]
    }
   ],
   "source": [
    "prev_1 = u0_1\n",
    "prev_2 = u0_2\n",
    "println(\"I0: $I0\")\n",
    "println(\"previous last point  pink trajectory:$prev_1\")\n",
    "println(\"previous black trajectory:$prev_2\")"
   ]
  },
  {
   "cell_type": "code",
   "execution_count": 66,
   "id": "52761082",
   "metadata": {},
   "outputs": [],
   "source": [
    "data_1 = output[3]\n",
    "data_2 = output[4];"
   ]
  },
  {
   "cell_type": "code",
   "execution_count": 67,
   "id": "64b84b5f",
   "metadata": {},
   "outputs": [
    {
     "data": {
      "text/plain": [
       "GLMakie.Screen(...)"
      ]
     },
     "metadata": {},
     "output_type": "display_data"
    }
   ],
   "source": [
    "# 3d interactive\n",
    "tstart, tfinish = 200000, 500000\n",
    "\n",
    "f = Figure(resolution = (700, 700))\n",
    "ax = LScene(f[1, 1], show_axis = true)\n",
    "\n",
    "\n",
    "scale!(ax.scene, 50, 50, 1)\n",
    "\n",
    "lines!(data_2[time_int_3d[1]:time_int_3d[2], 3], data_2[time_int_3d[1]:time_int_3d[2], 2],\n",
    "        data_2[time_int_3d[1]:time_int_3d[2], 1], linewidth = 1.0, color = :black)\n",
    "        \n",
    "lines!(data_1[tstart:tfinish, 3], data_1[tstart:tfinish, 2],\n",
    "        data_1[tstart:tfinish, 1], linewidth = 1.0, color = :deeppink)\n",
    "        \n",
    "scatter!(output[8][1][3], output[8][1][2], output[8][1][1], markersize = 5.0, color = :lime)\n",
    "\n",
    "display(GLMakie.Screen(), f)"
   ]
  },
  {
   "cell_type": "code",
   "execution_count": 62,
   "id": "96c43642",
   "metadata": {},
   "outputs": [
    {
     "data": {
      "text/plain": [
       "GLMakie.Screen(...)"
      ]
     },
     "metadata": {},
     "output_type": "display_data"
    }
   ],
   "source": [
    "trange = range(0.0, time, step = tstep)\n",
    "tstart, tfinish = 10000, 20000\n",
    "\n",
    "f = Figure(resolution = (900, 400))\n",
    "ax = Axis(f[1, 1], xlabel = \"time\", ylabel = \"E\", xlabelsize = 25, ylabelsize = 25)\n",
    "\n",
    "lines!(trange[tstart:tfinish], data_1[tstart:tfinish, 1], linewidth = 1.0, color = :deeppink)\n",
    "        \n",
    "display(GLMakie.Screen(), f)"
   ]
  },
  {
   "cell_type": "code",
   "execution_count": 53,
   "id": "04fc6cc4",
   "metadata": {},
   "outputs": [
    {
     "name": "stdout",
     "output_type": "stream",
     "text": [
      "LS  pink trajectory:[-0.0017896579111488474, -0.9309385687458347, -0.9319410248884962]\n",
      "LS  black trajectory:[0.0025585115429329268, -2.1343643562776133, -2.5592755170141537]\n"
     ]
    }
   ],
   "source": [
    "pink = lyapunovspectrum(output[1], time; Ttr = tt)\n",
    "black = lyapunovspectrum(output[2], time; Ttr = tt)\n",
    "println(\"LS  pink trajectory:$pink\")\n",
    "println(\"LS  black trajectory:$black\")"
   ]
  },
  {
   "cell_type": "code",
   "execution_count": null,
   "id": "b1b672d9",
   "metadata": {},
   "outputs": [],
   "source": [
    "\"\"\"# 2d projection\n",
    "f = Figure(resolution = (700, 700))\n",
    "ax = Axis(f[1, 1], xlabel = \"x\", ylabel = \"y\", xlabelsize = 25, ylabelsize = 25)\n",
    "\n",
    "idx, idy = 2, 3\n",
    "lines!(data_1[tstart:tfinish, idx], data_1[tstart:tfinish, idy], linewidth = 1.0, color = :deeppink)\n",
    "        \n",
    "scatter!(output[8][1][idx], output[8][1][idy], markersize = 5.0, color = :lime)\n",
    "\n",
    "#scatter!(u0_1[idx], u0_1[idy], markersize = 5.0, color = :green)\n",
    "display(GLMakie.Screen(), f)\n",
    "\n",
    "f = Figure(resolution = (700, 700))\n",
    "ax = Axis(f[1, 1], xlabel = \"E\", ylabel = \"x\", xlabelsize = 25, ylabelsize = 25)\n",
    "\n",
    "idx, idy = 1, 2\n",
    "lines!(data_1[tstart:tfinish, idx], data_1[tstart:tfinish, idy], linewidth = 1.0, color = :deeppink)\n",
    "        \n",
    "scatter!(output[8][1][idx], output[8][1][idy], markersize = 5.0, color = :lime)\n",
    "\n",
    "#scatter!(u0_1[idx], u0_1[idy], markersize = 5.0, color = :green)\n",
    "display(GLMakie.Screen(), f)\n",
    "\n",
    "f = Figure(resolution = (700, 700))\n",
    "ax = Axis(f[1, 1], xlabel = \"E\", ylabel = \"y\", xlabelsize = 25, ylabelsize = 25)\n",
    "\n",
    "idx, idy = 1, 3\n",
    "lines!(data_1[tstart:tfinish, idx], data_1[tstart:tfinish, idy], linewidth = 1.0, color = :deeppink)\n",
    "        \n",
    "scatter!(output[8][1][idx], output[8][1][idy], markersize = 5.0, color = :lime)\n",
    "\n",
    "#scatter!(u0_1[idx], u0_1[idy], markersize = 5.0, color = :green)\n",
    "display(GLMakie.Screen(), f)\"\"\""
   ]
  }
 ],
 "metadata": {
  "kernelspec": {
   "display_name": "Julia 1.8.5",
   "language": "julia",
   "name": "julia-1.8"
  },
  "language_info": {
   "file_extension": ".jl",
   "mimetype": "application/julia",
   "name": "julia",
   "version": "1.8.5"
  }
 },
 "nbformat": 4,
 "nbformat_minor": 5
}
