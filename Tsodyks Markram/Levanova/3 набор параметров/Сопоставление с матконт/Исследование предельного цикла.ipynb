{
 "cells": [
  {
   "cell_type": "code",
   "execution_count": 1,
   "id": "1e765d35",
   "metadata": {},
   "outputs": [
    {
     "name": "stderr",
     "output_type": "stream",
     "text": [
      "\u001b[32m\u001b[1m  Activating\u001b[22m\u001b[39m project at `C:\\Users\\Alex\\Desktop\\repo\\2612\\0903\\dynamical-systems\\env\\integrate`"
     ]
    },
    {
     "name": "stderr",
     "output_type": "stream",
     "text": [
      "\n"
     ]
    }
   ],
   "source": [
    "pathtorepo = \"C:\\\\Users\\\\Alex\\\\Desktop\\\\repo\\\\2612\\\\0903\\\\\"\n",
    "\n",
    "using Pkg\n",
    "Pkg.activate(pathtorepo * \"dynamical-systems\\\\env\\\\integrate\\\\\")\n",
    "include(\"C:\\\\Users\\\\Alex\\\\Desktop\\\\repo\\\\2612\\\\0903\\\\dynamical-systems\\\\Tsodyks Markram\\\\system.jl\")\n",
    "include(\"C:\\\\Users\\\\Alex\\\\Desktop\\\\repo\\\\2612\\\\0903\\\\dynamical-systems\\\\Tsodyks Markram\\\\visual_regimes.jl\");"
   ]
  },
  {
   "cell_type": "code",
   "execution_count": 2,
   "id": "1bdee5a7",
   "metadata": {},
   "outputs": [],
   "source": [
    "using StaticArrays, DifferentialEquations, DynamicalSystems\n",
    "E, x, y  = 0..40, 0..1,  0..1\n",
    "box = E × x × y\n",
    "using CairoMakie, GLMakie"
   ]
  },
  {
   "cell_type": "code",
   "execution_count": 3,
   "id": "2cc715eb",
   "metadata": {},
   "outputs": [],
   "source": [
    "const τ = 0.013;  const τD = 0.080;  const τy = 3.3;  const J = 3.07;  const β = 0.300\n",
    "const xthr = 0.75; const ythr = 0.4\n",
    "const α = 1.58; const ΔU0 = 0.305; const U0 = 0.265;"
   ]
  },
  {
   "cell_type": "code",
   "execution_count": 4,
   "id": "37add348",
   "metadata": {},
   "outputs": [],
   "source": [
    "time = 500; tt = 500; tstep = 0.001\n",
    "integ_set = (alg = Vern9(), adaptive = false, dt = tstep);"
   ]
  },
  {
   "cell_type": "code",
   "execution_count": 5,
   "id": "2a253f97",
   "metadata": {},
   "outputs": [],
   "source": [
    "times = [time, tt]\n",
    "t_interval_phase_space = [1, 100000]\n",
    "t_interval_tseries = [1, 50000];"
   ]
  },
  {
   "cell_type": "code",
   "execution_count": 6,
   "id": "441e01c8",
   "metadata": {},
   "outputs": [
    {
     "data": {
      "text/plain": [
       "3-element Vector{Float64}:\n",
       " 5.411738609509839\n",
       " 0.7805703515436827\n",
       " 0.4487611726878557"
      ]
     },
     "metadata": {},
     "output_type": "display_data"
    }
   ],
   "source": [
    "I0 = -1.6881\n",
    "p = [α, τ, τD, τy, J, xthr, ythr, U0, ΔU0, β, I0]\n",
    "u0 =[5.411738609509839, 0.7805703515436827, 0.4487611726878557]"
   ]
  },
  {
   "cell_type": "code",
   "execution_count": 7,
   "id": "82713bb5",
   "metadata": {},
   "outputs": [
    {
     "data": {
      "text/plain": [
       "5-element Vector{Any}:\n",
       " 3-dimensional CoupledODEs\n",
       " 3-dimensional StateSpaceSet{Float64} with 500001 points\n",
       " 500.0:0.001:1000.0\n",
       " Figure()\n",
       " Figure()"
      ]
     },
     "metadata": {},
     "output_type": "display_data"
    }
   ],
   "source": [
    "output = research_regime(TM, u0, p, times, integ_set,\n",
    "        t_int_ts = t_interval_tseries, t_int_3d = t_interval_phase_space,\n",
    "        plot = true, plot_phase_space = true, plot_t_series = true,\n",
    "        return_point_last = false)"
   ]
  },
  {
   "cell_type": "code",
   "execution_count": 8,
   "id": "04fc6cc4",
   "metadata": {},
   "outputs": [
    {
     "name": "stdout",
     "output_type": "stream",
     "text": [
      "LS  pink trajectory:[-0.0011133339227187523, -0.0015621773968625863, -1.7602157802906264]\n"
     ]
    }
   ],
   "source": [
    "pink = lyapunovspectrum(output[1], time; Ttr = tt)\n",
    "println(\"LS  pink trajectory:$pink\")"
   ]
  },
  {
   "cell_type": "code",
   "execution_count": 9,
   "id": "52761082",
   "metadata": {},
   "outputs": [],
   "source": [
    "data = output[2];"
   ]
  },
  {
   "cell_type": "code",
   "execution_count": 15,
   "id": "64b84b5f",
   "metadata": {},
   "outputs": [
    {
     "data": {
      "text/plain": [
       "GLMakie.Screen(...)"
      ]
     },
     "metadata": {},
     "output_type": "display_data"
    }
   ],
   "source": [
    "tstart, tfinish = 300000, 350000\n",
    "\n",
    "f = Figure(resolution = (700, 700))\n",
    "ax = LScene(f[1, 1], show_axis = true)\n",
    "\n",
    "scale!(ax.scene, 50, 50, 1)\n",
    "\n",
    "lines!(data[tstart:tfinish, 3], data[tstart:tfinish, 2],\n",
    "        data[tstart:tfinish, 1], linewidth = 1.0, color = :deeppink)\n",
    "        \n",
    "display(GLMakie.Screen(), f)"
   ]
  },
  {
   "cell_type": "code",
   "execution_count": 14,
   "id": "6b964141",
   "metadata": {},
   "outputs": [
    {
     "data": {
      "text/plain": [
       "GLMakie.Screen(...)"
      ]
     },
     "metadata": {},
     "output_type": "display_data"
    }
   ],
   "source": [
    "f = Figure(resolution = (700, 700))\n",
    "ax = Axis(f[1, 1], xlabel = \"x\", ylabel = \"y\", xlabelsize = 25, ylabelsize = 25)\n",
    "\n",
    "idx, idy = 2, 3\n",
    "lines!(data[tstart:tfinish, idx], data[tstart:tfinish, idy], linewidth = 1.0, color = :deeppink)\n",
    "        \n",
    "\n",
    "display(GLMakie.Screen(), f)"
   ]
  },
  {
   "cell_type": "code",
   "execution_count": null,
   "id": "b1b672d9",
   "metadata": {},
   "outputs": [],
   "source": [
    "\"\"\"# 2d projection\n",
    "f = Figure(resolution = (700, 700))\n",
    "ax = Axis(f[1, 1], xlabel = \"x\", ylabel = \"y\", xlabelsize = 25, ylabelsize = 25)\n",
    "\n",
    "idx, idy = 2, 3\n",
    "lines!(data_1[tstart:tfinish, idx], data_1[tstart:tfinish, idy], linewidth = 1.0, color = :deeppink)\n",
    "        \n",
    "scatter!(output[8][1][idx], output[8][1][idy], markersize = 5.0, color = :lime)\n",
    "\n",
    "#scatter!(u0_1[idx], u0_1[idy], markersize = 5.0, color = :green)\n",
    "display(GLMakie.Screen(), f)\n",
    "\n",
    "f = Figure(resolution = (700, 700))\n",
    "ax = Axis(f[1, 1], xlabel = \"E\", ylabel = \"x\", xlabelsize = 25, ylabelsize = 25)\n",
    "\n",
    "idx, idy = 1, 2\n",
    "lines!(data_1[tstart:tfinish, idx], data_1[tstart:tfinish, idy], linewidth = 1.0, color = :deeppink)\n",
    "        \n",
    "scatter!(output[8][1][idx], output[8][1][idy], markersize = 5.0, color = :lime)\n",
    "\n",
    "#scatter!(u0_1[idx], u0_1[idy], markersize = 5.0, color = :green)\n",
    "display(GLMakie.Screen(), f)\n",
    "\n",
    "f = Figure(resolution = (700, 700))\n",
    "ax = Axis(f[1, 1], xlabel = \"E\", ylabel = \"y\", xlabelsize = 25, ylabelsize = 25)\n",
    "\n",
    "idx, idy = 1, 3\n",
    "lines!(data_1[tstart:tfinish, idx], data_1[tstart:tfinish, idy], linewidth = 1.0, color = :deeppink)\n",
    "        \n",
    "scatter!(output[8][1][idx], output[8][1][idy], markersize = 5.0, color = :lime)\n",
    "\n",
    "#scatter!(u0_1[idx], u0_1[idy], markersize = 5.0, color = :green)\n",
    "display(GLMakie.Screen(), f)\"\"\""
   ]
  }
 ],
 "metadata": {
  "kernelspec": {
   "display_name": "Julia 1.8.5",
   "language": "julia",
   "name": "julia-1.8"
  },
  "language_info": {
   "file_extension": ".jl",
   "mimetype": "application/julia",
   "name": "julia",
   "version": "1.8.5"
  }
 },
 "nbformat": 4,
 "nbformat_minor": 5
}
