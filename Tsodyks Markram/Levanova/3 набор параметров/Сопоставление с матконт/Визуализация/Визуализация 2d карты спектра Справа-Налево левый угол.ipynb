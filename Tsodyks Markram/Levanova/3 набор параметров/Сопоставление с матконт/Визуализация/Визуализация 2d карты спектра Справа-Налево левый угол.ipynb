{
 "cells": [
  {
   "cell_type": "code",
   "execution_count": 1,
   "id": "95365e8a",
   "metadata": {
    "scrolled": true
   },
   "outputs": [
    {
     "name": "stderr",
     "output_type": "stream",
     "text": [
      "\u001b[32m\u001b[1m  Activating\u001b[22m\u001b[39m project at `C:\\Users\\Alex\\Desktop\\repo\\2612\\0903\\dynamical-systems\\env\\integrate`\n"
     ]
    }
   ],
   "source": [
    "using Pkg\n",
    "Pkg.activate(\"C:\\\\Users\\\\Alex\\\\Desktop\\\\repo\\\\2612\\\\0903\\\\dynamical-systems\\\\env\\\\integrate\\\\\")"
   ]
  },
  {
   "cell_type": "code",
   "execution_count": 2,
   "id": "1e765d35",
   "metadata": {},
   "outputs": [],
   "source": [
    "using JLD, CairoMakie, GLMakie"
   ]
  },
  {
   "cell_type": "code",
   "execution_count": 3,
   "id": "b650f344",
   "metadata": {},
   "outputs": [],
   "source": [
    "cd(\"C:\\\\Users\\\\Alex\\\\Desktop\\\\repo\\\\2612\\\\0903\\\\dynamical-systems\\\\Tsodyks Markram\\\\Levanova\\\\3 набор параметров\\\\Сопоставление с матконт\\\\Карты спектров\")"
   ]
  },
  {
   "cell_type": "code",
   "execution_count": 4,
   "id": "598b6dc0",
   "metadata": {},
   "outputs": [],
   "source": [
    "Λs= load(\"LSs_300_300_time_500_left_angle.jld\")[\"data\"];\n",
    "u0s = load(\"u0s_300_300_time_500_left_angle.jld\")[\"data\"];"
   ]
  },
  {
   "cell_type": "code",
   "execution_count": 5,
   "id": "4421ff30",
   "metadata": {},
   "outputs": [
    {
     "data": {
      "text/plain": [
       "Colorbar()"
      ]
     },
     "metadata": {},
     "output_type": "display_data"
    }
   ],
   "source": [
    "I0range = range( -1.6, -2.0,  length = 300 )\n",
    "U0range = range( 0.27,  0.22, length = 300 )\n",
    "\n",
    "index = 1\n",
    "I0st, I0ed = 1, 300\n",
    "U0st, U0ed = 1, 300\n",
    "absmax = maximum(abs.(Λs[I0st:I0ed, U0st:U0ed, index]))\n",
    "\n",
    "mn, mx =  -absmax, absmax\n",
    "\n",
    "f = Figure()\n",
    "ax1 = Axis(f[1, 1], xlabel = L\"I0\",ylabel = L\"U0\", xlabelsize = 50, ylabelsize = 50,\n",
    "            xticklabelsize = 35, yticklabelsize = 35,\n",
    "            xgridvisible  = false, ygridvisible = false)\n",
    "\n",
    "hm = heatmap!(ax1, I0range[I0st:I0ed], U0range[U0st:U0ed], Λs[I0st:I0ed, U0st:U0ed, index], colormap = :seismic, colorrange = (mn, mx))\n",
    "Colorbar(f[1, 2], hm)"
   ]
  },
  {
   "cell_type": "code",
   "execution_count": 6,
   "id": "b8eb6c2a",
   "metadata": {},
   "outputs": [
    {
     "data": {
      "text/plain": [
       "GLMakie.Screen(...)"
      ]
     },
     "metadata": {},
     "output_type": "display_data"
    }
   ],
   "source": [
    "GLMakie.activate!()\n",
    "display(GLMakie.Screen(),f)"
   ]
  }
 ],
 "metadata": {
  "kernelspec": {
   "display_name": "Julia 1.8.5",
   "language": "julia",
   "name": "julia-1.8"
  },
  "language_info": {
   "file_extension": ".jl",
   "mimetype": "application/julia",
   "name": "julia",
   "version": "1.8.5"
  }
 },
 "nbformat": 4,
 "nbformat_minor": 5
}
