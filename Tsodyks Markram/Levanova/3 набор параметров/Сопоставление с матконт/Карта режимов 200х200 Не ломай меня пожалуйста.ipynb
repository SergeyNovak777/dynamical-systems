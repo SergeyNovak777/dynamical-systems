{
 "cells": [
  {
   "cell_type": "code",
   "execution_count": 1,
   "id": "bba1d860",
   "metadata": {},
   "outputs": [
    {
     "name": "stderr",
     "output_type": "stream",
     "text": [
      "\u001b[32m\u001b[1m  Activating\u001b[22m\u001b[39m project at `C:\\Users\\Alex\\Desktop\\repo\\2612\\0903\\dynamical-systems\\env\\integrate`\n"
     ]
    }
   ],
   "source": [
    "using Pkg\n",
    "Pkg.activate(\"C:\\\\Users\\\\Alex\\\\Desktop\\\\repo\\\\2612\\\\0903\\\\dynamical-systems\\\\env\\\\integrate\\\\\")\n",
    "\n",
    "using StaticArrays, DifferentialEquations, DynamicalSystems, JLD"
   ]
  },
  {
   "cell_type": "code",
   "execution_count": 2,
   "id": "80c351e3",
   "metadata": {},
   "outputs": [],
   "source": [
    "@inbounds U(y, p) = p[8] + p[9] / ( 1.0 + exp( -50.0 * (y - p[7]) ) )\n",
    "@inbounds σ(x, p) = 1.0 / ( 1.0 + exp( -20.0 * (x-p[6]) ) )\n",
    "@inbounds g(E, x, y, p, U_) = log( 1.0 + exp( (p[5] * U_ * x * E + p[11]  ) / (p[1]) ) )\n",
    "\n",
    "@inbounds function TM(u, p, t)\n",
    "    \n",
    "    U_ = U(u[3], p)\n",
    "    \n",
    "    du1 = (-u[1] + p[1] * g(u[1], u[2], u[3], p, U_) ) / p[2]\n",
    "    du2 = (1.0 - u[2]) / p[3] - U_*u[2]*u[1]\n",
    "    du3 = (-u[3])/p[4] + p[10] * σ(u[2], p)\n",
    "    \n",
    "    return SVector(du1, du2, du3)\n",
    "end\n",
    "@inbounds function jacob_TM_(u, p, t)\n",
    "    \n",
    "    U(y, p, exp50) = p[8] + p[9] / ( 1.0 + exp50 )\n",
    "    U_y(y, p, exp50) = (50.0 * p[9] * exp50) / (1.0 + exp50)^2\n",
    "    g(E, x, y, p, U_) = exp((p[5]  * U_ * x * E + p[11]) / p[1])\n",
    "    σ_der(x, p) = exp( (-20.0) * (x - p[6]) )\n",
    "    exp50 = exp(-50.0 * (u[3] - p[7]))\n",
    "    \n",
    "    U_ = U(u[3], p, exp50)\n",
    "    Uy = U_y(u[3], p, exp50)\n",
    "    g_ = g(u[1], u[2], u[3], p, U_)\n",
    "    σ_deri = σ_der(u[2], p)\n",
    "    \n",
    "    g_plus = 1.0 + g_\n",
    "    g_mult = g_ * U_\n",
    "    g_plus_mult = p[2] * (g_plus)\n",
    "    u1p5 = p[5] * u[1]\n",
    "    Uyu2 = Uy * u[2]\n",
    "    \n",
    "    E_E = (-1.0 + ((J * u[2] * g_mult)) / (g_plus) ) / p[2]\n",
    "    E_x = (u1p5 * g_mult) / (g_plus_mult)\n",
    "    E_y = (u1p5 * Uyu2 * g_) / (g_plus_mult)\n",
    "    \n",
    "    x_E = -U_ * u[2]\n",
    "    x_x = -1.0 / p[3] - U_ * u[1]\n",
    "    x_y = -Uyu2 * u[1]\n",
    "    \n",
    "    y_x = 20.0 * p[10] * σ_deri / (1.0 + σ_deri)^2\n",
    "    y_y = -1.0/p[4]\n",
    "    \n",
    "    SMatrix{3,3}(E_E, x_E, 0.0,\n",
    "        E_x, x_x, y_x,\n",
    "        E_y, x_y, y_y)\n",
    "end;"
   ]
  },
  {
   "cell_type": "code",
   "execution_count": 3,
   "id": "b13d0dbd",
   "metadata": {},
   "outputs": [],
   "source": [
    "t = 500; tstep = 0.001\n",
    "trange = range(0.0, t, step = tstep)\n",
    "integ_set = (alg = RK4(), adaptive = false, dt = tstep);"
   ]
  },
  {
   "cell_type": "code",
   "execution_count": 4,
   "id": "c9aad9fb",
   "metadata": {},
   "outputs": [],
   "source": [
    "const τ = 0.013;  const τD = 0.080;  const τy = 3.3;  const J = 3.07;  const β = 0.300\n",
    "const xthr = 0.75; const ythr = 0.4\n",
    "const α = 1.58; const ΔU0 = 0.305;"
   ]
  },
  {
   "cell_type": "code",
   "execution_count": 5,
   "id": "0312b388",
   "metadata": {},
   "outputs": [
    {
     "data": {
      "text/plain": [
       "0.22:0.0016582914572864321:0.55"
      ]
     },
     "execution_count": 5,
     "metadata": {},
     "output_type": "execute_result"
    }
   ],
   "source": [
    "I0range = range( -0.5, -2.0,  length = 200 )\n",
    "U0range = range( 0.22,  0.55, length = 200 )"
   ]
  },
  {
   "cell_type": "code",
   "execution_count": 6,
   "id": "459ad788",
   "metadata": {},
   "outputs": [],
   "source": [
    "path = \"C:\\\\Users\\\\Alex\\\\Desktop\\\\repo\\\\2612\\\\0903\\\\dynamical-systems\\\\Tsodyks Markram\\\\Levanova\\\\3 набор параметров\\\\Сопоставление с матконт\\\\\";\n",
    "filenameLS = \"LSs_200_200_time_1000.jld\"\n",
    "filenameu0s = \"u0s_200_200_time_1000.jld\"\n",
    "pathLS = path*filenameLS\n",
    "pathu0s = path*filenameu0s;"
   ]
  },
  {
   "cell_type": "code",
   "execution_count": 7,
   "id": "af54ae86",
   "metadata": {},
   "outputs": [],
   "source": [
    "Λs = load(pathLS)[\"data\"]\n",
    "u0s = load(pathu0s)[\"data\"];"
   ]
  },
  {
   "cell_type": "code",
   "execution_count": 8,
   "id": "1ded6e22",
   "metadata": {},
   "outputs": [
    {
     "data": {
      "text/plain": [
       "\"Modes_200x200.jld\""
      ]
     },
     "execution_count": 8,
     "metadata": {},
     "output_type": "execute_result"
    }
   ],
   "source": [
    "modes = zeros(200, 200)\n",
    "filename = \"Modes_200x200.jld\""
   ]
  },
  {
   "cell_type": "code",
   "execution_count": 9,
   "id": "5ba693c5",
   "metadata": {},
   "outputs": [],
   "source": [
    "E = 0..30; x = 0..1; y = 0..1\n",
    "box = E × x × y;"
   ]
  },
  {
   "cell_type": "code",
   "execution_count": 10,
   "id": "5e2c8928",
   "metadata": {},
   "outputs": [
    {
     "data": {
      "text/plain": [
       "check_fp (generic function with 1 method)"
      ]
     },
     "execution_count": 10,
     "metadata": {},
     "output_type": "execute_result"
    }
   ],
   "source": [
    "function check_fp(idx_I0, idx_U0)\n",
    "    \n",
    "    fp = 0\n",
    "    I0_ = I0range[idx_I0]\n",
    "    U0_ = U0range[idx_U0]\n",
    "    p = [α, τ, τD, τy, J, xthr, ythr, U0_, ΔU0, β, I0_]\n",
    "    \n",
    "    ds = CoupledODEs(TM, u0s[idx_I0, idx_U0, :], p, diffeq = integ_set)\n",
    "    _, eigs, _ = fixedpoints(ds, box, jacob_TM_)\n",
    "    \n",
    "    for (_, eig) in enumerate(eigs)\n",
    "        \n",
    "        Re = sort( abs.(real(eig)) )\n",
    "        spectrum = abs.(Λs[idx_I0, idx_U0, :])\n",
    "\n",
    "        if abs.(abs.(spectrum - Re)) <= [0.01, 0.01, 0.01]\n",
    "            fp = -1\n",
    "            return fp\n",
    "        end\n",
    "            \n",
    "    end\n",
    "    return fp\n",
    "        \n",
    "end"
   ]
  },
  {
   "cell_type": "code",
   "execution_count": 11,
   "id": "980a748f",
   "metadata": {},
   "outputs": [
    {
     "data": {
      "text/plain": [
       "detect_mode (generic function with 1 method)"
      ]
     },
     "execution_count": 11,
     "metadata": {},
     "output_type": "execute_result"
    }
   ],
   "source": [
    "function check_chaos_mode(idx_I0, idx_U0)\n",
    "    chaos = 0\n",
    "    if Λs[idx_I0, idx_U0, 1] >= 0.02\n",
    "            chaos = 3\n",
    "    end\n",
    "    return chaos\n",
    "end\n",
    "function local_min(tr)\n",
    "    \n",
    "    localmin = Float64[]\n",
    "    placeintime = Float64[]\n",
    "    \n",
    "    for idx in range(2, length(tr) - 1, step = 1)\n",
    "        if tr[idx-1] > tr[idx] < tr[idx+1]\n",
    "            push!(localmin, tr[idx])\n",
    "            push!(placeintime, trange[idx])\n",
    "        end\n",
    "    end\n",
    "    return localmin, placeintime\n",
    "end\n",
    "\n",
    "function traj(idx_I0, idx_U0)\n",
    "    \n",
    "    E, x, y = u0s[idx_I0, idx_U0, :]\n",
    "    u0 = [E, x, y]\n",
    "    I0_ = I0range[idx_I0]\n",
    "    U0_ = U0range[idx_U0]\n",
    "    \n",
    "    p = [α, τ, τD, τy, J, xthr, ythr, U0_, ΔU0, β, I0_]\n",
    "    \n",
    "    ds = CoupledODEs(TM, u0, p, diffeq = integ_set)\n",
    "    \n",
    "    tr, _ = trajectory(ds, t, Δt = tstep)\n",
    "    \n",
    "    return tr[:, 1]\n",
    "end\n",
    "\n",
    "function detect_mode(idx_I0, idx_U0)\n",
    "    \n",
    "    mode = check_chaos_mode(idx_I0, idx_U0)\n",
    "    if mode == 0\n",
    "        \n",
    "        \n",
    "        fp = check_fp(idx_I0, idx_U0)\n",
    "\n",
    "        if fp == -1\n",
    "            return fp\n",
    "        end\n",
    "        \n",
    "        tr = traj(idx_I0, idx_U0)\n",
    "        lcmin, _ = local_min(tr)\n",
    "        \n",
    "        if abs(maximum(lcmin) - minimum(lcmin)) > 0.4 # Было 2 !\n",
    "            mode = 2\n",
    "        else\n",
    "            mode = 1\n",
    "        end\n",
    "    end\n",
    "    return mode\n",
    "end"
   ]
  },
  {
   "cell_type": "code",
   "execution_count": 12,
   "id": "4c4ec914",
   "metadata": {},
   "outputs": [
    {
     "data": {
      "text/plain": [
       "separate (generic function with 1 method)"
      ]
     },
     "execution_count": 12,
     "metadata": {},
     "output_type": "execute_result"
    }
   ],
   "source": [
    "function output(idx_U0, U0, idx_I0, I0, mode)\n",
    "    println(\"index U0: $idx_U0; index I0: $idx_I0\");flush(stdout)\n",
    "    println(\"U0: $U0\");flush(stdout)\n",
    "    println(\"I0: $I0\");flush(stdout)\n",
    "    println(\"Mode: $mode\");flush(stdout)\n",
    "end\n",
    "function separate()\n",
    "    println(\"\");flush(stdout)\n",
    "    println(\"----------------\");flush(stdout)\n",
    "end"
   ]
  },
  {
   "cell_type": "code",
   "execution_count": null,
   "id": "4bf5ebea",
   "metadata": {
    "scrolled": true
   },
   "outputs": [],
   "source": [
    "for (idx_U0, U0) in enumerate(U0range)\n",
    "    for (idx_I0, I0) in enumerate(I0range)\n",
    "        \n",
    "        modes[idx_I0,idx_U0] =  detect_mode(idx_I0, idx_U0)\n",
    "        #output(idx_U0, U0, idx_I0, I0, modes[idx_I0,idx_U0])\n",
    "        #separate()\n",
    "        \n",
    "    end\n",
    "    save(filename, \"data\", modes)\n",
    "end   "
   ]
  }
 ],
 "metadata": {
  "kernelspec": {
   "display_name": "Julia 1.8.5",
   "language": "julia",
   "name": "julia-1.8"
  },
  "language_info": {
   "file_extension": ".jl",
   "mimetype": "application/julia",
   "name": "julia",
   "version": "1.8.5"
  }
 },
 "nbformat": 4,
 "nbformat_minor": 5
}
