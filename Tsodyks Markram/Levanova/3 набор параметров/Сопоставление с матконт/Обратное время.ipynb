{
 "cells": [
  {
   "cell_type": "code",
   "execution_count": 1,
   "id": "1e765d35",
   "metadata": {},
   "outputs": [
    {
     "name": "stderr",
     "output_type": "stream",
     "text": [
      "\u001b[32m\u001b[1m  Activating\u001b[22m\u001b[39m project at `C:\\Users\\Alex\\Desktop\\repo\\2612\\0903\\dynamical-systems\\env\\integrate`\n"
     ]
    }
   ],
   "source": [
    "pathtorepo = \"C:\\\\Users\\\\Alex\\\\Desktop\\\\repo\\\\2612\\\\0903\\\\\"\n",
    "\n",
    "using Pkg\n",
    "Pkg.activate(pathtorepo * \"dynamical-systems\\\\env\\\\integrate\\\\\")\n",
    "include(\"C:\\\\Users\\\\Alex\\\\Desktop\\\\repo\\\\2612\\\\0903\\\\dynamical-systems\\\\system.jl\")\n",
    "include(\"C:\\\\Users\\\\Alex\\\\Desktop\\\\repo\\\\2612\\\\0903\\\\dynamical-systems\\\\visual_regimes.jl\");"
   ]
  },
  {
   "cell_type": "code",
   "execution_count": 2,
   "id": "1bdee5a7",
   "metadata": {},
   "outputs": [],
   "source": [
    "using StaticArrays, DifferentialEquations, DynamicalSystems\n",
    "E, x, y  = 0..40, 0..1,  0..1\n",
    "box = E × x × y\n",
    "using CairoMakie, GLMakie;"
   ]
  },
  {
   "cell_type": "code",
   "execution_count": 3,
   "id": "2cc715eb",
   "metadata": {},
   "outputs": [],
   "source": [
    "const τ = 0.013;  const τD = 0.07993;  const τy = 3.3;  const J = 3.07;  const β = 0.300\n",
    "const xthr = 0.75; const ythr = 0.4\n",
    "const α = 1.58; const ΔU0 = 0.305; "
   ]
  },
  {
   "cell_type": "code",
   "execution_count": 4,
   "id": "37add348",
   "metadata": {},
   "outputs": [
    {
     "data": {
      "text/plain": [
       "(alg = Vern9(stage_limiter! = trivial_limiter!, step_limiter! = trivial_limiter!, thread = static(false), lazy = true), adaptive = false, dt = 0.001)"
      ]
     },
     "metadata": {},
     "output_type": "display_data"
    }
   ],
   "source": [
    "time = 1000; tt = 1000; tstep = 0.001; times = [time, tt]\n",
    "integ_set = (alg = Vern9(), adaptive = false, dt = tstep)"
   ]
  },
  {
   "cell_type": "code",
   "execution_count": 73,
   "id": "441e01c8",
   "metadata": {},
   "outputs": [
    {
     "name": "stdout",
     "output_type": "stream",
     "text": [
      "last point  pink trajectory:[8.34567030569954, 0.738495457778246, 0.438302434813899]\n",
      "black trajectory:[8.429128802102595, 0.7384448051489871, 0.43856496918087035]\n"
     ]
    }
   ],
   "source": [
    "U0 = 0.265;\n",
    "I0 = -1.7064049\n",
    "p = SA[α, τ, τD, τy, J, xthr, ythr, U0, ΔU0, β, I0]\n",
    "u0_1 = SA[8.34567030569954, 0.738495457778246, 0.438302434813899]\n",
    "println(\"last point  pink trajectory:$u0_1\")\n",
    "println(\"black trajectory:$u0_2\")"
   ]
  },
  {
   "cell_type": "code",
   "execution_count": 84,
   "id": "3d1acfa9",
   "metadata": {},
   "outputs": [
    {
     "data": {
      "text/plain": [
       "3-dimensional CoupledODEs\n",
       " deterministic: true\n",
       " discrete time: false\n",
       " in-place:      false\n",
       " dynamic rule:  TM\n",
       " ODE solver:    Vern9\n",
       " ODE kwargs:    (adaptive = false, dt = 0.001)\n",
       " parameters:    [1.58, 0.013, 0.07993, 3.3, 3.07, 0.75, 0.4, 0.265, 0.305, 0.3, -1.7064049]\n",
       " time:          0.0\n",
       " state:         [8.34567030569954, 0.738495457778246, 0.438302434813899]\n"
      ]
     },
     "metadata": {},
     "output_type": "display_data"
    }
   ],
   "source": [
    "ds = CoupledODEs(TM, u0_1, p, diffeq = integ_set)"
   ]
  },
  {
   "cell_type": "code",
   "execution_count": 75,
   "id": "9ffe09b0",
   "metadata": {},
   "outputs": [
    {
     "data": {
      "text/plain": [
       "\u001b[38;2;86;182;194mODEProblem\u001b[0m with uType \u001b[38;2;86;182;194mSVector{3, Float64}\u001b[0m and tType \u001b[38;2;86;182;194mFloat64\u001b[0m. In-place: \u001b[38;2;86;182;194mfalse\u001b[0m\n",
       "timespan: (0.0, 1000.0)\n",
       "u0: 3-element SVector{3, Float64} with indices SOneTo(3):\n",
       " 8.34567030569954\n",
       " 0.738495457778246\n",
       " 0.438302434813899"
      ]
     },
     "metadata": {},
     "output_type": "display_data"
    }
   ],
   "source": [
    "prob = ODEProblem(TM, u0_1, (0.0, 1000), p)"
   ]
  },
  {
   "cell_type": "code",
   "execution_count": 76,
   "id": "098105db",
   "metadata": {},
   "outputs": [],
   "source": [
    "sol = solve(prob, alg = Vern9(), adaptive = false, dt = 0.001);"
   ]
  },
  {
   "cell_type": "code",
   "execution_count": 85,
   "id": "26791d3c",
   "metadata": {},
   "outputs": [],
   "source": [
    "fp, ei, _ = fixedpoints(ds, box, jacob_TM_);"
   ]
  },
  {
   "cell_type": "code",
   "execution_count": 86,
   "id": "cc41c25d",
   "metadata": {},
   "outputs": [
    {
     "data": {
      "text/plain": [
       "3-element SVector{3, Float64} with indices SOneTo(3):\n",
       " 8.34567030569954\n",
       " 0.738495457778246\n",
       " 0.4383024348138992"
      ]
     },
     "metadata": {},
     "output_type": "display_data"
    }
   ],
   "source": [
    "fp[1]"
   ]
  },
  {
   "cell_type": "code",
   "execution_count": 89,
   "id": "f11a58b4",
   "metadata": {},
   "outputs": [
    {
     "data": {
      "text/plain": [
       "3×3 SMatrix{3, 3, ComplexF64, 9} with indices SOneTo(3)×SOneTo(3):\n",
       "   0.998728+0.0im     0.999854-0.0im            0.999854+0.0im\n",
       " -0.0489846+0.0im   -0.0141812-0.00932035im   -0.0141812+0.00932035im\n",
       "  0.0119122+0.0im  0.000705755-0.00164972im  0.000705755+0.00164972im"
      ]
     },
     "metadata": {},
     "output_type": "display_data"
    }
   ],
   "source": [
    "Jac = jacob_TM_(fp[1], p, 0)\n",
    "eivecs = eigvecs(Jac)"
   ]
  },
  {
   "cell_type": "code",
   "execution_count": 93,
   "id": "ba66e324",
   "metadata": {},
   "outputs": [
    {
     "data": {
      "text/plain": [
       "3-element SVector{3, Float64} with indices SOneTo(3):\n",
       " 8.445543155268922\n",
       " 0.7335969973845299\n",
       " 0.43949365463528817"
      ]
     },
     "metadata": {},
     "output_type": "display_data"
    }
   ],
   "source": [
    "real(eivecs[:, 1])*1e-1 + fp[1]"
   ]
  },
  {
   "cell_type": "code",
   "execution_count": 79,
   "id": "65e67daa",
   "metadata": {},
   "outputs": [
    {
     "data": {
      "text/plain": [
       "(3-dimensional StateSpaceSet{Float64} with 1000001 points, 1000.0:0.001:2000.0)"
      ]
     },
     "metadata": {},
     "output_type": "display_data"
    }
   ],
   "source": [
    "tr, trange = trajectory(ds, time,  Δt = integ_set.dt, Ttr = tt)"
   ]
  },
  {
   "cell_type": "code",
   "execution_count": 80,
   "id": "64b84b5f",
   "metadata": {},
   "outputs": [
    {
     "ename": "ErrorException",
     "evalue": "znear (0.0) must be different from tfar (0.0)",
     "output_type": "error",
     "traceback": [
      "znear (0.0) must be different from tfar (0.0)\n",
      "\n",
      "Stacktrace:\n",
      "  [1] error(s::String)\n",
      "    @ Base .\\error.jl:35\n",
      "  [2] perspectiveprojection(fovy::Float32, aspect::Float32, znear::Float32, zfar::Float32)\n",
      "    @ Makie C:\\Users\\Alex\\.julia\\packages\\Makie\\z1gJs\\src\\camera\\projection_math.jl:98\n",
      "  [3] update_cam!(scene::Scene, cam::Camera3D)\n",
      "    @ Makie C:\\Users\\Alex\\.julia\\packages\\Makie\\z1gJs\\src\\camera\\camera3d.jl:589\n",
      "  [4] update_cam!(scene::Scene, camera::Camera3D, area3d::GeometryBasics.HyperRectangle{3, Float32})\n",
      "    @ Makie C:\\Users\\Alex\\.julia\\packages\\Makie\\z1gJs\\src\\camera\\camera3d.jl:625\n",
      "  [5] update_cam!(scene::Scene, area::GeometryBasics.HyperRectangle{3, Float32})\n",
      "    @ Makie C:\\Users\\Alex\\.julia\\packages\\Makie\\z1gJs\\src\\camera\\camera2d.jl:48\n",
      "  [6] center!(scene::Scene, padding::Float64, exclude::Function)\n",
      "    @ Makie C:\\Users\\Alex\\.julia\\packages\\Makie\\z1gJs\\src\\scenes.jl:579\n",
      "  [7] center!\n",
      "    @ C:\\Users\\Alex\\.julia\\packages\\Makie\\z1gJs\\src\\scenes.jl:574 [inlined]\n",
      "  [8] plot!(::LScene, ::Type{Lines}, ::Attributes, ::Vector{Float64}, ::Vararg{Vector{Float64}}; kw_attributes::Base.Pairs{Symbol, Union{}, Tuple{}, NamedTuple{(), Tuple{}}})\n",
      "    @ Makie C:\\Users\\Alex\\.julia\\packages\\Makie\\z1gJs\\src\\makielayout\\blocks\\scene.jl:8\n",
      "  [9] plot!(::LScene, ::Type{Lines}, ::Attributes, ::Vector{Float64}, ::Vector{Float64}, ::Vector{Float64})\n",
      "    @ Makie C:\\Users\\Alex\\.julia\\packages\\Makie\\z1gJs\\src\\makielayout\\blocks\\scene.jl:1\n",
      " [10] plot!(::Type{Lines}, ::LScene, ::Vector{Float64}, ::Vararg{Vector{Float64}}; kw_attributes::Base.Pairs{Symbol, Any, Tuple{Symbol, Symbol}, NamedTuple{(:linewidth, :color), Tuple{Float64, Symbol}}})\n",
      "    @ Makie C:\\Users\\Alex\\.julia\\packages\\Makie\\z1gJs\\src\\makielayout\\blocks\\scene.jl:16\n",
      " [11] plot!(::Type{Lines}, ::Vector{Float64}, ::Vararg{Vector{Float64}}; kw_attributes::Base.Pairs{Symbol, Any, Tuple{Symbol, Symbol}, NamedTuple{(:linewidth, :color), Tuple{Float64, Symbol}}})\n",
      "    @ Makie C:\\Users\\Alex\\.julia\\packages\\Makie\\z1gJs\\src\\figureplotting.jl:67\n",
      " [12] lines!(::Vector{Float64}, ::Vararg{Vector{Float64}}; attributes::Base.Pairs{Symbol, Any, Tuple{Symbol, Symbol}, NamedTuple{(:linewidth, :color), Tuple{Float64, Symbol}}})\n",
      "    @ MakieCore C:\\Users\\Alex\\.julia\\packages\\MakieCore\\6sckc\\src\\recipes.jl:38\n",
      " [13] top-level scope\n",
      "    @ c:\\Users\\Alex\\Desktop\\dynamical-systems\\Tsodyks Markram\\Levanova\\3 набор параметров\\Сопоставление с матконт\\Обратное время.ipynb:10"
     ]
    }
   ],
   "source": [
    "# 3d interactive\n",
    "tstart, tfinish = 1, 1000000\n",
    "\n",
    "f = Figure(resolution = (700, 700))\n",
    "ax = LScene(f[1, 1], show_axis = true)\n",
    "\n",
    "\n",
    "scale!(ax.scene, 50, 50, 1)\n",
    "\n",
    "lines!(tr[tstart:tfinish, 3], tr[tstart:tfinish, 2], tr[tstart:tfinish, 1], linewidth = 1.0, color = :deeppink)\n",
    "        \n",
    "scatter!(fp[1][3], fp[1][2], fp[1][1], markersize = 10.0, color = :orange)\n",
    "\n",
    "display(GLMakie.Screen(), f)"
   ]
  },
  {
   "cell_type": "code",
   "execution_count": 69,
   "id": "f218d746",
   "metadata": {},
   "outputs": [
    {
     "data": {
      "text/plain": [
       "3-element SVector{3, Float64} with indices SOneTo(3):\n",
       " 8.34567030569954\n",
       " 0.738495457778246\n",
       " 0.4383024348138992"
      ]
     },
     "metadata": {},
     "output_type": "display_data"
    }
   ],
   "source": [
    "fp[1]"
   ]
  },
  {
   "cell_type": "code",
   "execution_count": 70,
   "id": "d003ca7b",
   "metadata": {},
   "outputs": [
    {
     "ename": "ErrorException",
     "evalue": "znear (0.0) must be different from tfar (0.0)",
     "output_type": "error",
     "traceback": [
      "znear (0.0) must be different from tfar (0.0)\n",
      "\n",
      "Stacktrace:\n",
      "  [1] error(s::String)\n",
      "    @ Base .\\error.jl:35\n",
      "  [2] perspectiveprojection(fovy::Float32, aspect::Float32, znear::Float32, zfar::Float32)\n",
      "    @ Makie C:\\Users\\Alex\\.julia\\packages\\Makie\\z1gJs\\src\\camera\\projection_math.jl:98\n",
      "  [3] update_cam!(scene::Scene, cam::Camera3D)\n",
      "    @ Makie C:\\Users\\Alex\\.julia\\packages\\Makie\\z1gJs\\src\\camera\\camera3d.jl:589\n",
      "  [4] update_cam!(scene::Scene, camera::Camera3D, area3d::GeometryBasics.HyperRectangle{3, Float32})\n",
      "    @ Makie C:\\Users\\Alex\\.julia\\packages\\Makie\\z1gJs\\src\\camera\\camera3d.jl:625\n",
      "  [5] update_cam!(scene::Scene, area::GeometryBasics.HyperRectangle{3, Float32})\n",
      "    @ Makie C:\\Users\\Alex\\.julia\\packages\\Makie\\z1gJs\\src\\camera\\camera2d.jl:48\n",
      "  [6] center!(scene::Scene, padding::Float64, exclude::Function)\n",
      "    @ Makie C:\\Users\\Alex\\.julia\\packages\\Makie\\z1gJs\\src\\scenes.jl:579\n",
      "  [7] center!\n",
      "    @ C:\\Users\\Alex\\.julia\\packages\\Makie\\z1gJs\\src\\scenes.jl:574 [inlined]\n",
      "  [8] plot!(::LScene, ::Type{Lines}, ::Attributes, ::Vector{Float64}, ::Vararg{Vector{Float64}}; kw_attributes::Base.Pairs{Symbol, Union{}, Tuple{}, NamedTuple{(), Tuple{}}})\n",
      "    @ Makie C:\\Users\\Alex\\.julia\\packages\\Makie\\z1gJs\\src\\makielayout\\blocks\\scene.jl:8\n",
      "  [9] plot!(::LScene, ::Type{Lines}, ::Attributes, ::Vector{Float64}, ::Vector{Float64}, ::Vector{Float64})\n",
      "    @ Makie C:\\Users\\Alex\\.julia\\packages\\Makie\\z1gJs\\src\\makielayout\\blocks\\scene.jl:1\n",
      " [10] plot!(::Type{Lines}, ::LScene, ::Vector{Float64}, ::Vararg{Vector{Float64}}; kw_attributes::Base.Pairs{Symbol, Any, Tuple{Symbol, Symbol}, NamedTuple{(:linewidth, :color), Tuple{Float64, Symbol}}})\n",
      "    @ Makie C:\\Users\\Alex\\.julia\\packages\\Makie\\z1gJs\\src\\makielayout\\blocks\\scene.jl:16\n",
      " [11] plot!(::Type{Lines}, ::Vector{Float64}, ::Vararg{Vector{Float64}}; kw_attributes::Base.Pairs{Symbol, Any, Tuple{Symbol, Symbol}, NamedTuple{(:linewidth, :color), Tuple{Float64, Symbol}}})\n",
      "    @ Makie C:\\Users\\Alex\\.julia\\packages\\Makie\\z1gJs\\src\\figureplotting.jl:67\n",
      " [12] lines!(::Vector{Float64}, ::Vararg{Vector{Float64}}; attributes::Base.Pairs{Symbol, Any, Tuple{Symbol, Symbol}, NamedTuple{(:linewidth, :color), Tuple{Float64, Symbol}}})\n",
      "    @ MakieCore C:\\Users\\Alex\\.julia\\packages\\MakieCore\\6sckc\\src\\recipes.jl:38\n",
      " [13] top-level scope\n",
      "    @ c:\\Users\\Alex\\Desktop\\dynamical-systems\\Tsodyks Markram\\Levanova\\3 набор параметров\\Сопоставление с матконт\\Обратное время.ipynb:10"
     ]
    }
   ],
   "source": [
    "# 3d interactive\n",
    "tstart, tfinish = 1, 20000\n",
    "\n",
    "f = Figure(resolution = (700, 700))\n",
    "ax = LScene(f[1, 1], show_axis = true)\n",
    "\n",
    "\n",
    "scale!(ax.scene, 50, 50, 1)\n",
    "\n",
    "lines!(sol[3,tstart:tfinish], sol[2, tstart:tfinish], sol[1, tstart:tfinish], linewidth = 1.0, color = :deeppink)\n",
    "        \n",
    "scatter!(fp[1][3], fp[1][2], fp[1][1], markersize = 10.0, color = :orange)\n",
    "\n",
    "display(GLMakie.Screen(), f)"
   ]
  }
 ],
 "metadata": {
  "kernelspec": {
   "display_name": "Julia 1.8.5",
   "language": "julia",
   "name": "julia-1.8"
  },
  "language_info": {
   "file_extension": ".jl",
   "mimetype": "application/julia",
   "name": "julia",
   "version": "1.8.5"
  }
 },
 "nbformat": 4,
 "nbformat_minor": 5
}
