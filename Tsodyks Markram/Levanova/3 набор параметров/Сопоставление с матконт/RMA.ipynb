{
 "cells": [
  {
   "cell_type": "code",
   "execution_count": 1,
   "metadata": {},
   "outputs": [
    {
     "name": "stderr",
     "output_type": "stream",
     "text": [
      "\u001b[32m\u001b[1m  Activating\u001b[22m\u001b[39m project at `C:\\Users\\Alex\\Desktop\\dynamical-systems\\env\\integrate`\n"
     ]
    }
   ],
   "source": [
    "pathtorepo = \"C:\\\\Users\\\\Alex\\\\Desktop\\\\\"\n",
    "\n",
    "using Pkg\n",
    "Pkg.activate(pathtorepo * \"dynamical-systems\\\\env\\\\integrate\\\\\")"
   ]
  },
  {
   "cell_type": "code",
   "execution_count": 2,
   "metadata": {},
   "outputs": [],
   "source": [
    "using StaticArrays, DifferentialEquations, DynamicalSystems, ForwardDiff\n",
    "E, x, y  = 0..20, 0..20,  0..20\n",
    "box = E × x × y\n",
    "using CairoMakie, GLMakie;"
   ]
  },
  {
   "cell_type": "code",
   "execution_count": 3,
   "metadata": {},
   "outputs": [
    {
     "data": {
      "text/plain": [
       "RMA (generic function with 1 method)"
      ]
     },
     "execution_count": 3,
     "metadata": {},
     "output_type": "execute_result"
    }
   ],
   "source": [
    "function RMA(u, p, t)\n",
    "    x,y,z = u\n",
    "    r, k, a1, b1, a2, b2, d1, d2 = p\n",
    "    \n",
    "   ẋ = x * ( r * ( 1 - x/k ) - a1 * y / ( 1 + b1 * x ) )\n",
    "   ẏ = y * ( a1 * x / ( 1 + b1 * x ) - a2 * z / ( 1 + b2 * y ) - d1 )\n",
    "   ż = z * ( a2 * y / ( 1 + b2 * y ) - d2 )\n",
    "    return SVector(ẋ , ẏ, ż)\n",
    "end"
   ]
  },
  {
   "cell_type": "code",
   "execution_count": 4,
   "metadata": {},
   "outputs": [
    {
     "data": {
      "text/plain": [
       "jac_RMA (generic function with 1 method)"
      ]
     },
     "execution_count": 4,
     "metadata": {},
     "output_type": "execute_result"
    }
   ],
   "source": [
    "function jac_RMA(u, p, t)\n",
    "    x,y,z = u\n",
    "    r, k, a1, b1, a2, b2, d1, d2 = p\n",
    "\n",
    "    fx = x * ( -r/k + a1 *y * b1 / (b1 * x + 1)^2 ) + r * (1 - x/k) - a1*y/(1+b1*x) \n",
    "    gy = -a2 * z / ( b2 * y + 1 ) + a2 * b2 * z * y / ( b2 * y + 1 )^2 + a1 * x / (b1 * x + 1) - d1\n",
    "    hz = a2 * y / ( 1 + b2 * y ) - d2\n",
    "\n",
    "    fy = -a1 * x / (1 + b1 * x)\n",
    "    gz = -a2 * y / (1 + b2 * y)\n",
    "\n",
    "    gx = y * a1 / ( b1 * x + 1 )^2\n",
    "    hy = z * a2 / ( b2 * y + 1 )^2\n",
    "\n",
    "    return SMatrix{3, 3}( fx, gx, 0.0,\n",
    "                    fy, gy, hy,\n",
    "                    0.0, gz, hz )\n",
    "end"
   ]
  },
  {
   "cell_type": "code",
   "execution_count": 5,
   "metadata": {},
   "outputs": [
    {
     "data": {
      "text/plain": [
       "0.01"
      ]
     },
     "execution_count": 5,
     "metadata": {},
     "output_type": "execute_result"
    }
   ],
   "source": [
    "a1 = 5; a2 = 0.1; b1 = 3; b2 = 2; d1 = 0.4; d2 = 0.01"
   ]
  },
  {
   "cell_type": "code",
   "execution_count": 198,
   "metadata": {},
   "outputs": [
    {
     "data": {
      "text/plain": [
       "8-element Vector{Float64}:\n",
       " 0.8122\n",
       " 1.08\n",
       " 5.0\n",
       " 3.0\n",
       " 0.1\n",
       " 2.0\n",
       " 0.4\n",
       " 0.01"
      ]
     },
     "execution_count": 198,
     "metadata": {},
     "output_type": "execute_result"
    }
   ],
   "source": [
    "r = 0.8122\n",
    "k = 1.08\n",
    "p = [r, k, a1, b1, a2, b2, d1, d2]"
   ]
  },
  {
   "cell_type": "code",
   "execution_count": 199,
   "metadata": {},
   "outputs": [
    {
     "data": {
      "text/plain": [
       "3-element Vector{Float64}:\n",
       " 0.7297732151428117\n",
       " 0.1889267215901415\n",
       " 9.585811098760479"
      ]
     },
     "execution_count": 199,
     "metadata": {},
     "output_type": "execute_result"
    }
   ],
   "source": [
    "u0 = [0.7297732151428117, 0.1889267215901415, 9.585811098760479]"
   ]
  },
  {
   "cell_type": "code",
   "execution_count": 200,
   "metadata": {},
   "outputs": [],
   "source": [
    "t = 5000; tt = 10000;"
   ]
  },
  {
   "cell_type": "code",
   "execution_count": 201,
   "metadata": {},
   "outputs": [
    {
     "data": {
      "text/plain": [
       "3-dimensional CoupledODEs\n",
       " deterministic: true\n",
       " discrete time: false\n",
       " in-place:      false\n",
       " dynamic rule:  RMA\n",
       " ODE solver:    RK4\n",
       " ODE kwargs:    (adaptive = false, dt = 0.01)\n",
       " parameters:    [0.8122, 1.08, 5.0, 3.0, 0.1, 2.0, 0.4, 0.01]\n",
       " time:          0.0\n",
       " state:         [0.8628008036745088, 0.12499999219651951, 10.027592329006737]\n"
      ]
     },
     "execution_count": 201,
     "metadata": {},
     "output_type": "execute_result"
    }
   ],
   "source": [
    "Jacobi(u0) = ForwardDiff.jacobian((x) -> RMA(x, p, t), u0)\n",
    "ds = CoupledODEs(RMA, shift, p, diffeq = integrator_setting)"
   ]
  },
  {
   "cell_type": "code",
   "execution_count": 202,
   "metadata": {},
   "outputs": [
    {
     "name": "stderr",
     "output_type": "stream",
     "text": [
      "\u001b[33m\u001b[1m┌ \u001b[22m\u001b[39m\u001b[33m\u001b[1mWarning: \u001b[22m\u001b[39mNon-unique fixed points found!\n",
      "\u001b[33m\u001b[1m└ \u001b[22m\u001b[39m\u001b[90m@ ChaosTools C:\\Users\\Alex\\.julia\\packages\\ChaosTools\\VMXUY\\src\\stability\\fixedpoints.jl:104\u001b[39m\n"
     ]
    },
    {
     "data": {
      "text/plain": [
       "(3-dimensional StateSpaceSet{Float64} with 4 points, Vector{ComplexF64}[[-0.40554536918683914 + 0.0im, 0.027996008326492603 - 0.08481459656772938im, 0.027996008326492603 + 0.08481459656772938im], [0.003920007024253073 + 0.0im, 0.04838368810916177 - 0.46957707944465293im, 0.04838368810916177 + 0.46957707944465293im], [-0.399999999999999 + 0.0im, -0.009999999999999962 + 0.0im, 0.812199999999998 + 0.0im], [-0.8122 + 0.0im, -0.009999999999999998 + 0.0im, 0.8735849056603774 + 0.0im]], Bool[0, 0, 0, 0])"
      ]
     },
     "execution_count": 202,
     "metadata": {},
     "output_type": "execute_result"
    }
   ],
   "source": [
    "fp, eigs, _ = fixedpoints(ds, box, jac_RMA)"
   ]
  },
  {
   "cell_type": "code",
   "execution_count": 203,
   "metadata": {},
   "outputs": [
    {
     "data": {
      "text/plain": [
       "3-element SVector{3, Float64} with indices SOneTo(3):\n",
       " 0.844876022477604\n",
       " 0.12499999148751165\n",
       " 9.93926622511263"
      ]
     },
     "execution_count": 203,
     "metadata": {},
     "output_type": "execute_result"
    }
   ],
   "source": [
    "Jac = jac_RMA(fp[1], p, 0)\n",
    "eivecs = eigvecs(Jac)\n",
    "shift = real(eivecs[:, 1])*1e-7 + fp[1]"
   ]
  },
  {
   "cell_type": "code",
   "execution_count": 204,
   "metadata": {},
   "outputs": [],
   "source": [
    "integrator_setting = (alg = RK4(), adaptive = false, dt = 0.01);"
   ]
  },
  {
   "cell_type": "code",
   "execution_count": 205,
   "metadata": {},
   "outputs": [
    {
     "data": {
      "text/plain": [
       "3-element SVector{3, Float64} with indices SOneTo(3):\n",
       " 0.10526315789473684\n",
       " 0.19290479121781062\n",
       " 1.5257227967332473e-16"
      ]
     },
     "execution_count": 205,
     "metadata": {},
     "output_type": "execute_result"
    }
   ],
   "source": [
    "fp[2]"
   ]
  },
  {
   "cell_type": "code",
   "execution_count": 211,
   "metadata": {},
   "outputs": [
    {
     "data": {
      "text/plain": [
       "retcode: Success\n",
       "Interpolation: 3rd order Hermite\n",
       "t: 1200002-element Vector{Float64}:\n",
       "    0.0\n",
       "    0.001\n",
       "    0.002\n",
       "    0.003\n",
       "    0.004\n",
       "    0.005\n",
       "    0.006\n",
       "    0.007\n",
       "    0.008\n",
       "    0.009000000000000001\n",
       "    0.010000000000000002\n",
       "    0.011000000000000003\n",
       "    0.012000000000000004\n",
       "    ⋮\n",
       " 1199.989999978536\n",
       " 1199.990999978536\n",
       " 1199.991999978536\n",
       " 1199.9929999785359\n",
       " 1199.9939999785358\n",
       " 1199.9949999785358\n",
       " 1199.9959999785358\n",
       " 1199.9969999785358\n",
       " 1199.9979999785357\n",
       " 1199.9989999785357\n",
       " 1199.9999999785357\n",
       " 1200.0\n",
       "u: 1200002-element Vector{SVector{3, Float64}}:\n",
       " [0.844876022477604, 0.12499999148751165, 9.93926622511263]\n",
       " [0.8448760224375692, 0.12499999149096315, 9.939266225107216]\n",
       " [0.8448760223975507, 0.12499999149441325, 9.939266225101806]\n",
       " [0.8448760223575483, 0.12499999149786195, 9.939266225096397]\n",
       " [0.8448760223175622, 0.12499999150130925, 9.93926622509099]\n",
       " [0.8448760222775923, 0.12499999150475516, 9.939266225085584]\n",
       " [0.8448760222376386, 0.12499999150819967, 9.93926622508018]\n",
       " [0.8448760221977011, 0.12499999151164277, 9.93926622507478]\n",
       " [0.8448760221577798, 0.1249999915150845, 9.939266225069382]\n",
       " [0.8448760221178747, 0.12499999151852481, 9.939266225063985]\n",
       " [0.8448760220779858, 0.12499999152196374, 9.93926622505859]\n",
       " [0.8448760220381131, 0.12499999152540127, 9.9392662250532]\n",
       " [0.8448760219982565, 0.12499999152883741, 9.93926622504781]\n",
       " ⋮\n",
       " [0.519769023265881, 0.21350847090328443, 9.77684027031925]\n",
       " [0.5197712099657035, 0.2134935933809814, 9.776888778313717]\n",
       " [0.5197734114833042, 0.21347871347720324, 9.776937279405079]\n",
       " [0.5197756278191811, 0.21346383119446302, 9.776985773591788]\n",
       " [0.5197778589738292, 0.21344894653527383, 9.7770342608723]\n",
       " [0.519780104947742, 0.21343405950214883, 9.77708274124507]\n",
       " [0.5197823657414101, 0.21341917009760122, 9.777131214708557]\n",
       " [0.5197846413553225, 0.21340427832414433, 9.777179681261218]\n",
       " [0.5197869317899657, 0.21338938418429143, 9.777228140901512]\n",
       " [0.5197892370458239, 0.21337448768055592, 9.7772765936279]\n",
       " [0.5197915571233793, 0.21335958881545125, 9.777325039438841]\n",
       " [0.5197915571733372, 0.2133595884956322, 9.777325040478622]"
      ]
     },
     "execution_count": 211,
     "metadata": {},
     "output_type": "execute_result"
    }
   ],
   "source": [
    "prob = ODEProblem(RMA, shift, (0.0, 1200), p)\n",
    "sol = solve(prob, alg = RK4(), adaptive = false, dt = 0.001)"
   ]
  },
  {
   "cell_type": "code",
   "execution_count": 212,
   "metadata": {},
   "outputs": [
    {
     "data": {
      "text/plain": [
       "GLMakie.Screen(...)"
      ]
     },
     "execution_count": 212,
     "metadata": {},
     "output_type": "execute_result"
    }
   ],
   "source": [
    "ts, tf = 1, 1050000\n",
    "GLMakie.activate!()\n",
    "f = Figure(resolution = (1600, 1200))\n",
    "ax = Axis3(f[1, 1])\n",
    "lines!(ax, sol[3, ts:tf], sol[1, ts:tf], sol[2, ts:tf], linewidth = 2.0)\n",
    "idxfp = 1\n",
    "#scatter!(ax, fp[idxfp][1], fp[idxfp][2], fp[idxfp][3], color = :deeppink)\n",
    "display(f)"
   ]
  },
  {
   "cell_type": "code",
   "execution_count": null,
   "metadata": {},
   "outputs": [],
   "source": []
  }
 ],
 "metadata": {
  "kernelspec": {
   "display_name": "Julia 1.8.5",
   "language": "julia",
   "name": "julia-1.8"
  },
  "language_info": {
   "file_extension": ".jl",
   "mimetype": "application/julia",
   "name": "julia",
   "version": "1.8.5"
  }
 },
 "nbformat": 4,
 "nbformat_minor": 2
}
