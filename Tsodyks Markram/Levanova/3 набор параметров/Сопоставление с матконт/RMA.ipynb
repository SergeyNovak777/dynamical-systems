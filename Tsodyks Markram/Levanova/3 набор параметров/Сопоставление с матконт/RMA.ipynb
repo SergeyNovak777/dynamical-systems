{
 "cells": [
  {
   "cell_type": "code",
   "execution_count": 2,
   "metadata": {},
   "outputs": [
    {
     "name": "stderr",
     "output_type": "stream",
     "text": [
      "\u001b[32m\u001b[1m  Activating\u001b[22m\u001b[39m project at `C:\\Users\\Alex\\Desktop\\repo\\2612\\0903\\dynamical-systems\\env\\integrate`\n"
     ]
    }
   ],
   "source": [
    "pathtorepo = \"C:\\\\Users\\\\Alex\\\\Desktop\\\\repo\\\\2612\\\\0903\\\\\"\n",
    "\n",
    "using Pkg\n",
    "Pkg.activate(pathtorepo * \"dynamical-systems\\\\env\\\\integrate\\\\\")"
   ]
  },
  {
   "cell_type": "code",
   "execution_count": 3,
   "metadata": {},
   "outputs": [],
   "source": [
    "using StaticArrays, DifferentialEquations, DynamicalSystems, ForwardDiff\n",
    "E, x, y  = 0..20, 0..20,  0..20\n",
    "box = E × x × y\n",
    "using CairoMakie, GLMakie;"
   ]
  },
  {
   "cell_type": "code",
   "execution_count": 4,
   "metadata": {},
   "outputs": [
    {
     "data": {
      "text/plain": [
       "RMA (generic function with 1 method)"
      ]
     },
     "metadata": {},
     "output_type": "display_data"
    }
   ],
   "source": [
    "function RMA(u, p, t)\n",
    "    x,y,z = u\n",
    "    r, k, a1, b1, a2, b2, d1, d2 = p\n",
    "    \n",
    "   ẋ = x * ( r * ( 1 - x/k ) - a1 * y / ( 1 + b1 * x ) )\n",
    "   ẏ = y * ( a1 * x / ( 1 + b1 * x ) - a2 * z / ( 1 + b2 * y ) - d1 )\n",
    "   ż = z * ( a2 * y / ( 1 + b2 * y ) - d2 )\n",
    "    return SVector(ẋ , ẏ, ż)\n",
    "end"
   ]
  },
  {
   "cell_type": "code",
   "execution_count": 5,
   "metadata": {},
   "outputs": [
    {
     "data": {
      "text/plain": [
       "jac_RMA (generic function with 1 method)"
      ]
     },
     "metadata": {},
     "output_type": "display_data"
    }
   ],
   "source": [
    "function jac_RMA(u, p, t)\n",
    "    x,y,z = u\n",
    "    r, k, a1, b1, a2, b2, d1, d2 = p\n",
    "\n",
    "    fx = x * ( -r/k + a1 *y * b1 / (b1 * x + 1)^2 ) + r * (1 - x/k) - a1*y/(1+b1*x) \n",
    "    gy = -a2 * z / ( b2 * y + 1 ) + a2 * b2 * z * y / ( b2 * y + 1 )^2 + a1 * x / (b1 * x + 1) - d1\n",
    "    hz = a2 * y / ( 1 + b2 * y ) - d2\n",
    "\n",
    "    fy = -a1 * x / (1 + b1 * x)\n",
    "    gz = -a2 * y / (1 + b2 * y)\n",
    "\n",
    "    gx = y * a1 / ( b1 * x + 1 )^2\n",
    "    hy = z * a2 / ( b2 * y + 1 )^2\n",
    "\n",
    "    return SMatrix{3, 3}( fx, gx, 0.0,\n",
    "                    fy, gy, hy,\n",
    "                    0.0, gz, hz )\n",
    "end"
   ]
  },
  {
   "cell_type": "code",
   "execution_count": 6,
   "metadata": {},
   "outputs": [
    {
     "data": {
      "text/plain": [
       "0.01"
      ]
     },
     "metadata": {},
     "output_type": "display_data"
    }
   ],
   "source": [
    "a1 = 5; a2 = 0.1; b1 = 3; b2 = 2; d1 = 0.4; d2 = 0.01"
   ]
  },
  {
   "cell_type": "code",
   "execution_count": 7,
   "metadata": {},
   "outputs": [
    {
     "data": {
      "text/plain": [
       "8-element Vector{Float64}:\n",
       " 1.1\n",
       " 1.09841\n",
       " 5.0\n",
       " 3.0\n",
       " 0.1\n",
       " 2.0\n",
       " 0.4\n",
       " 0.01"
      ]
     },
     "metadata": {},
     "output_type": "display_data"
    }
   ],
   "source": [
    "r = 1.1\n",
    "k = 1.09841\n",
    "p = [r, k, a1, b1, a2, b2, d1, d2]"
   ]
  },
  {
   "cell_type": "code",
   "execution_count": 8,
   "metadata": {},
   "outputs": [
    {
     "data": {
      "text/plain": [
       "3-element Vector{Float64}:\n",
       " 0.7297732151428117\n",
       " 0.1889267215901415\n",
       " 9.585811098760479"
      ]
     },
     "metadata": {},
     "output_type": "display_data"
    }
   ],
   "source": [
    "u0 = [0.7297732151428117, 0.1889267215901415, 9.585811098760479]"
   ]
  },
  {
   "cell_type": "code",
   "execution_count": 9,
   "metadata": {},
   "outputs": [],
   "source": [
    "t = 5000; tt = 10000;"
   ]
  },
  {
   "cell_type": "code",
   "execution_count": 10,
   "metadata": {},
   "outputs": [
    {
     "data": {
      "text/plain": [
       "Jacobi (generic function with 1 method)"
      ]
     },
     "metadata": {},
     "output_type": "display_data"
    }
   ],
   "source": [
    "Jacobi(u0) = ForwardDiff.jacobian((x) -> RMA(x, p, t), u0)"
   ]
  },
  {
   "cell_type": "code",
   "execution_count": 11,
   "metadata": {},
   "outputs": [
    {
     "data": {
      "text/plain": [
       "3×3 Matrix{Float64}:\n",
       " -0.454527   -1.14409    0.0\n",
       "  0.0928683   0.239169  -0.0137117\n",
       "  0.0         0.50492    0.00371167"
      ]
     },
     "metadata": {},
     "output_type": "display_data"
    }
   ],
   "source": [
    "Jacobi(u0)"
   ]
  },
  {
   "cell_type": "code",
   "execution_count": 12,
   "metadata": {},
   "outputs": [
    {
     "data": {
      "text/plain": [
       "3×3 SMatrix{3, 3, Float64, 9} with indices SOneTo(3)×SOneTo(3):\n",
       " -0.454527   -1.14409    0.0\n",
       "  0.0928683   0.239169  -0.0137117\n",
       "  0.0         0.50492    0.00371167"
      ]
     },
     "metadata": {},
     "output_type": "display_data"
    }
   ],
   "source": [
    "jac_RMA(u0, p, 0)"
   ]
  },
  {
   "cell_type": "code",
   "execution_count": 13,
   "metadata": {},
   "outputs": [],
   "source": [
    "integrator_setting = (alg = RK4(), adaptive = false, dt = 0.01);"
   ]
  },
  {
   "cell_type": "code",
   "execution_count": 14,
   "metadata": {},
   "outputs": [
    {
     "data": {
      "text/plain": [
       "3-dimensional CoupledODEs\n",
       " deterministic: true\n",
       " discrete time: false\n",
       " in-place:      false\n",
       " dynamic rule:  RMA\n",
       " ODE solver:    RK4\n",
       " ODE kwargs:    (adaptive = false, dt = 0.01)\n",
       " parameters:    [1.1, 1.09841, 5.0, 3.0, 0.1, 2.0, 0.4, 0.01]\n",
       " time:          0.0\n",
       " state:         [0.7297732151428117, 0.1889267215901415, 9.585811098760479]\n"
      ]
     },
     "metadata": {},
     "output_type": "display_data"
    }
   ],
   "source": [
    "ds = CoupledODEs(RMA, u0, p, diffeq = integrator_setting)"
   ]
  },
  {
   "cell_type": "code",
   "execution_count": 15,
   "metadata": {},
   "outputs": [
    {
     "name": "stderr",
     "output_type": "stream",
     "text": [
      "┌ Warning: Non-unique fixed points found!\n",
      "└ @ ChaosTools C:\\Users\\Alex\\.julia\\packages\\ChaosTools\\VMXUY\\src\\stability\\fixedpoints.jl:104\n"
     ]
    },
    {
     "data": {
      "text/plain": [
       "(3-dimensional StateSpaceSet{Float64} with 4 points, Vector{ComplexF64}[[-0.3999999999999993 + 0.0im, -0.009999999999999962 + 0.0im, 1.0999999999999979 + 0.0im], [-0.7575582956475049 + 0.0im, 0.054359640844178256 - 0.06457997332491508im, 0.054359640844178256 + 0.06457997332491508im], [0.007180090605149502 + 0.0im, 0.06664237062279976 - 0.5458135880836007im, 0.06664237062279976 + 0.5458135880836007im], [-1.1 + 0.0im, -0.009999999999999998 + 0.0im, 0.8786393278124806 + 0.0im]], Bool[0, 0, 0, 0])"
      ]
     },
     "metadata": {},
     "output_type": "display_data"
    }
   ],
   "source": [
    "fp, eigs, _ = fixedpoints(ds, box, jac_RMA)"
   ]
  },
  {
   "cell_type": "code",
   "execution_count": 16,
   "metadata": {},
   "outputs": [
    {
     "data": {
      "text/plain": [
       "3-dimensional StateSpaceSet{Float64} with 4 points\n",
       " 1.54732e-16  3.74718e-16   2.83606e-16\n",
       " 0.934299     0.125        10.3551\n",
       " 0.105263     0.261733      6.69894e-17\n",
       " 1.09841      2.5599e-17    1.40695e-16"
      ]
     },
     "metadata": {},
     "output_type": "display_data"
    }
   ],
   "source": [
    "fp"
   ]
  },
  {
   "cell_type": "code",
   "execution_count": 17,
   "metadata": {},
   "outputs": [
    {
     "data": {
      "text/plain": [
       "3-element Vector{ComplexF64}:\n",
       "  -0.7575582956475049 + 0.0im\n",
       " 0.054359640844178256 - 0.06457997332491508im\n",
       " 0.054359640844178256 + 0.06457997332491508im"
      ]
     },
     "metadata": {},
     "output_type": "display_data"
    }
   ],
   "source": [
    "eigs[2]"
   ]
  },
  {
   "cell_type": "code",
   "execution_count": 18,
   "metadata": {},
   "outputs": [
    {
     "data": {
      "text/plain": [
       "(3-dimensional StateSpaceSet{Float64} with 500001 points, 10000.0:0.01:15000.0)"
      ]
     },
     "metadata": {},
     "output_type": "display_data"
    }
   ],
   "source": [
    "tr, trange = trajectory(ds, t; Δt = integrator_setting.dt, Ttr = tt)"
   ]
  },
  {
   "cell_type": "code",
   "execution_count": 31,
   "metadata": {},
   "outputs": [
    {
     "data": {
      "text/plain": [
       "GLMakie.Screen(...)"
      ]
     },
     "metadata": {},
     "output_type": "display_data"
    }
   ],
   "source": [
    "f = Figure(resolution = (1600, 600))\n",
    "ax = Axis3(f[1, 1])\n",
    "lines!(ax, tr[:, 1], tr[:, 2], tr[:, 3])\n",
    "idxfp = 2\n",
    "scatter!(ax, fp[idxfp][1], fp[idxfp][2], fp[idxfp][3], color = :deeppink)\n",
    "display(f)"
   ]
  }
 ],
 "metadata": {
  "kernelspec": {
   "display_name": "Julia 1.8.5",
   "language": "julia",
   "name": "julia-1.8"
  },
  "language_info": {
   "file_extension": ".jl",
   "mimetype": "application/julia",
   "name": "julia",
   "version": "1.8.5"
  },
  "orig_nbformat": 4
 },
 "nbformat": 4,
 "nbformat_minor": 2
}
