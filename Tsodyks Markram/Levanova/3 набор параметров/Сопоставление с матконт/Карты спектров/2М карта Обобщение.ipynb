{
 "cells": [
  {
   "cell_type": "code",
   "execution_count": 1,
   "id": "95365e8a",
   "metadata": {
    "scrolled": true
   },
   "outputs": [
    {
     "name": "stderr",
     "output_type": "stream",
     "text": [
      "\u001b[32m\u001b[1m  Activating\u001b[22m\u001b[39m project at `C:\\Users\\Alex\\Desktop\\repo\\2612\\0903\\dynamical-systems\\env\\integrate`\n"
     ]
    }
   ],
   "source": [
    "using Pkg\n",
    "Pkg.activate(\"C:\\\\Users\\\\Alex\\\\Desktop\\\\repo\\\\2612\\\\0903\\\\dynamical-systems\\\\env\\\\integrate\\\\\")\n",
    "\n",
    "using StaticArrays, DifferentialEquations, DynamicalSystems, JLD"
   ]
  },
  {
   "cell_type": "code",
   "execution_count": 2,
   "id": "39e21e6c",
   "metadata": {},
   "outputs": [],
   "source": [
    "@inbounds U(y, p) = p[8] + p[9] / ( 1.0 + exp( -50.0 * (y - p[7]) ) )\n",
    "@inbounds σ(x, p) = 1.0 / ( 1.0 + exp( -20.0 * (x-p[6]) ) )\n",
    "@inbounds g(E, x, y, p, U_) = log( 1.0 + exp( (p[5] * U_ * x * E + p[11]  ) / (p[1]) ) )\n",
    "\n",
    "@inbounds function TM(u, p, t)\n",
    "    \n",
    "    U_ = U(u[3], p)\n",
    "    \n",
    "    du1 = (-u[1] + p[1] * g(u[1], u[2], u[3], p, U_) ) / p[2]\n",
    "    du2 = (1.0 - u[2]) / p[3] - U_*u[2]*u[1]\n",
    "    du3 = (-u[3])/p[4] + p[10] * σ(u[2], p)\n",
    "    \n",
    "    return SVector(du1, du2, du3)\n",
    "end\n",
    "@inbounds function jacob_TM_(u, p, t)\n",
    "    \n",
    "    U(y, p, exp50) = p[8] + p[9] / ( 1.0 + exp50 )\n",
    "    U_y(y, p, exp50) = (50.0 * p[9] * exp50) / (1.0 + exp50)^2\n",
    "    g(E, x, y, p, U_) = exp((p[5]  * U_ * x * E + p[11]) / p[1])\n",
    "    σ_der(x, p) = exp( (-20.0) * (x - p[6]) )\n",
    "    exp50 = exp(-50.0 * (u[3] - p[7]))\n",
    "    \n",
    "    U_ = U(u[3], p, exp50)\n",
    "    Uy = U_y(u[3], p, exp50)\n",
    "    g_ = g(u[1], u[2], u[3], p, U_)\n",
    "    σ_deri = σ_der(u[2], p)\n",
    "    \n",
    "    g_plus = 1.0 + g_\n",
    "    g_mult = g_ * U_\n",
    "    g_plus_mult = p[2] * (g_plus)\n",
    "    u1p5 = p[5] * u[1]\n",
    "    Uyu2 = Uy * u[2]\n",
    "    \n",
    "    E_E = (-1.0 + ((J * u[2] * g_mult)) / (g_plus) ) / p[2]\n",
    "    E_x = (u1p5 * g_mult) / (g_plus_mult)\n",
    "    E_y = (u1p5 * Uyu2 * g_) / (g_plus_mult)\n",
    "    \n",
    "    x_E = -U_ * u[2]\n",
    "    x_x = -1.0 / p[3] - U_ * u[1]\n",
    "    x_y = -Uyu2 * u[1]\n",
    "    \n",
    "    y_x = 20.0 * p[10] * σ_deri / (1.0 + σ_deri)^2\n",
    "    y_y = -1.0/p[4]\n",
    "    \n",
    "    SMatrix{3,3}(E_E, x_E, 0.0,\n",
    "        E_x, x_x, y_x,\n",
    "        E_y, x_y, y_y)\n",
    "end;"
   ]
  },
  {
   "cell_type": "code",
   "execution_count": 3,
   "id": "b703d3fe",
   "metadata": {},
   "outputs": [],
   "source": [
    "Pxindex = 11; Pyindex = 8 # Индекс параметра по оси х и оси у\n",
    "Pxlabel = \"I0\"; Pylabel = \"U0\"; # Обозначение параметров. Нужно для вывода."
   ]
  },
  {
   "cell_type": "code",
   "execution_count": 27,
   "id": "b3524b28",
   "metadata": {},
   "outputs": [],
   "source": [
    "# Диапазон для параметров\n",
    "Pxrange = range( -0.5, -2.0,  length = 200 )\n",
    "Pyrange = range( 0.22,  0.55, length = 200 )\n",
    "\n",
    "const Px_start = Pxrange[1]\n",
    "const Py_start = Pyrange[1];"
   ]
  },
  {
   "cell_type": "code",
   "execution_count": 5,
   "id": "69711302",
   "metadata": {},
   "outputs": [],
   "source": [
    "D = 3\n",
    "# Массивы для хранения Спектра и начальных условий\n",
    "Λs = zeros(length(Pxrange), length(Pyrange), D)\n",
    "u0s = zeros(length(Pxrange), length(Pyrange), D);"
   ]
  },
  {
   "cell_type": "code",
   "execution_count": 6,
   "id": "8455ef0b",
   "metadata": {},
   "outputs": [
    {
     "data": {
      "text/plain": [
       "\"u0s_TEST.jld\""
      ]
     },
     "execution_count": 6,
     "metadata": {},
     "output_type": "execute_result"
    }
   ],
   "source": [
    "# Имена файлов, в которые сохранится матрица спектра и начальных условий\n",
    "file_name_LS = \"LSs_TEST.jld\"\n",
    "file_name_u0s = \"u0s_TEST.jld\""
   ]
  },
  {
   "cell_type": "code",
   "execution_count": 25,
   "id": "91c6c2d9",
   "metadata": {},
   "outputs": [
    {
     "data": {
      "text/plain": [
       "spectrum (generic function with 1 method)"
      ]
     },
     "execution_count": 25,
     "metadata": {},
     "output_type": "execute_result"
    }
   ],
   "source": [
    "function init_ds_Px(p, Px, Pxindex, u0)\n",
    "    p[Pxindex] = Px; p[Pyindex] = Py_start\n",
    "    ds = CoupledODEs(TM, u0, p, diffeq = integ_set)\n",
    "end\n",
    "function init_ds_Py(p, Py, Pyindex, u0)\n",
    "    p[Pyindex] = Py; p[Pxindex] = Px_start\n",
    "    ds = CoupledODEs(TM, u0, p, diffeq = integ_set)\n",
    "    return ds\n",
    "end\n",
    "function init_ds(p, Pxindex, Pyindex, Px, Py, u0)\n",
    "    p[Pyindex] = Py; p[Pxindex] = Px\n",
    "    ds = CoupledODEs(TM, u0, p,  diffeq = integ_set)\n",
    "    return ds\n",
    "end\n",
    "function goto_attractor(ds, t, tt)\n",
    "    tr, _ = trajectory(ds, t; Ttr = tt, Δt = tstep)\n",
    "    u0 = tr[end]\n",
    "    return u0\n",
    "end\n",
    "function spectrum(ds)\n",
    "    tan_ = TangentDynamicalSystem(ds, J = jacob_TM_)\n",
    "    ΛΛ = lyapunovspectrum(ds, t)\n",
    "    return ΛΛ\n",
    "end"
   ]
  },
  {
   "cell_type": "code",
   "execution_count": 20,
   "id": "8a4c80a3",
   "metadata": {},
   "outputs": [
    {
     "data": {
      "text/plain": [
       "save_tofile (generic function with 1 method)"
      ]
     },
     "execution_count": 20,
     "metadata": {},
     "output_type": "execute_result"
    }
   ],
   "source": [
    "function save_output_Px(idx_Px, ΛΛ, u0)\n",
    "    Λs[idx_Px, 1, :] = ΛΛ\n",
    "    u0s[idx_Px, 1, :] = u0\n",
    "end\n",
    "function save_output_Py(idx_Py, ΛΛ, u0)\n",
    "    Λs[1, idx_Py, :] = ΛΛ\n",
    "    u0s[1, idx_Py, :] = u0\n",
    "end\n",
    "function save_output(idx_Px, idx_Py, ΛΛ, u0)\n",
    "    Λs[idx_Px, idx_Py, :] = ΛΛ\n",
    "    u0s[idx_Px, idx_Py, :] = u0\n",
    "end\n",
    "function save_tofile()\n",
    "    save(file_name_LS, \"data\", Λs)\n",
    "    save(file_name_u0s, \"data\", u0s)\n",
    "end"
   ]
  },
  {
   "cell_type": "code",
   "execution_count": 21,
   "id": "b9bb23c2",
   "metadata": {},
   "outputs": [],
   "source": [
    "function outputPx(idxPx, Px, u0)\n",
    "    println(\"Индекс $Pxlabel: $idxPx; $Pxlabel: $Px\");flush(stdout)\n",
    "    println(\"Начальные условия: $u0\");flush(stdout)\n",
    "end\n",
    "function outputPy(idxPx, Py, u0)\n",
    "    println(\"Индекс $Pylabel: $idxPx; $Pylabel: $Py\");flush(stdout)\n",
    "    println(\"Начальные условия: $u0\");flush(stdout)\n",
    "end\n",
    "function output(idx_Px, idx_Py, Px, Py, u0)\n",
    "    println(\"Индекс $Pxlabel: $idx_Px; $Pxlabel: $Px\");flush(stdout)\n",
    "    println(\"Индекс $Pylabel: $idx_Py; $Pylabel: $Py\");flush(stdout)\n",
    "    println(\"Начальные условия: $u0\");flush(stdout)\n",
    "end\n",
    "function outputIter(ΛΛ, u0)\n",
    "    println(\"Спектр: $ΛΛ\");flush(stdout)\n",
    "    println(\"Последняя точка: $u0\");flush(stdout)\n",
    "end\n",
    "function separate()\n",
    "    println();flush(stdout)\n",
    "    println(\"---------\");flush(stdout)\n",
    "end;"
   ]
  },
  {
   "cell_type": "code",
   "execution_count": 11,
   "id": "7a5db5e2",
   "metadata": {},
   "outputs": [],
   "source": [
    "\"\"\"\n",
    "t -- Время в течении которого вычисляется спектр\n",
    "tt -- Время которое отбрасывается\n",
    "tstep -- Шаг по времени для интегратора\n",
    "time_attract -- Время в течении которого считается траектория\n",
    "\n",
    "integ_set -- Tuple для настроек интегратора\n",
    "\"\"\"\n",
    "t = 1000; tt = 500; tstep = 0.001\n",
    "time_attract = 100.0\n",
    "\n",
    "integ_set = (alg = RK4(), adaptive = false, dt = tstep);"
   ]
  },
  {
   "cell_type": "code",
   "execution_count": 9,
   "id": "441e01c8",
   "metadata": {},
   "outputs": [
    {
     "data": {
      "text/plain": [
       "3-element Vector{Float64}:\n",
       " 8.39353\n",
       " 0.73803\n",
       " 0.429055"
      ]
     },
     "execution_count": 9,
     "metadata": {},
     "output_type": "execute_result"
    }
   ],
   "source": [
    "const τ = 0.013;  const τD = 0.080;  const τy = 3.3;  const J = 3.07;  const β = 0.300\n",
    "const xthr = 0.75; const ythr = 0.4\n",
    "const α = 1.58;  U0 = 0.22;  const ΔU0 = 0.305; I0 = -0.5\n",
    "\n",
    "p = [α, τ, τD, τy, J, xthr, ythr, 0, ΔU0, β, 0]\n",
    "\n",
    "u0 = [8.39353, 0.73803, 0.429055]"
   ]
  },
  {
   "cell_type": "code",
   "execution_count": null,
   "id": "9cf1d941",
   "metadata": {
    "scrolled": true
   },
   "outputs": [],
   "source": [
    "# INHERITANCE RIGHT-LEFT\n",
    "\n",
    "for (idx_Px, Px) in enumerate(Pxrange)\n",
    "    \n",
    "    if idx_Px == 1 # Проверка на первую итерацию\n",
    "        global u0_lc = u0\n",
    "    end\n",
    "    \n",
    "    outputPx(idx_Px ,Px, u0_lc)\n",
    "    \n",
    "    ds = init_ds_Px(p, Px, Pxindex, u0_lc) # Инициализация системы\n",
    "    u0_lc = goto_attractor(ds, time_attract, tt) # Выход на аттрактор\n",
    "    ds = init_ds_Px(p, Px, Pxindex, u0_lc)\n",
    "    ΛΛ = spectrum(ds) # Вычисление спектра\n",
    "    \n",
    "    outputIter(ΛΛ, u0_lc)\n",
    "    \n",
    "    save_output_Px(idx_Px, ΛΛ, u0_lc) # Сохранение значений\n",
    "    \n",
    "    separate()\n",
    "    #save_tofile()\n",
    "end"
   ]
  },
  {
   "cell_type": "code",
   "execution_count": null,
   "id": "18bb7b6b",
   "metadata": {},
   "outputs": [],
   "source": [
    "for (idx_Px, Px) in enumerate(Pxrange)\n",
    "    for (idx_Py, Py) in enumerate(Pyrange)\n",
    "    \n",
    "        if idx_Py == 1 # Если использовать while условие не нужно!\n",
    "            continue\n",
    "        end\n",
    "        \n",
    "        u0_lc = u0s[idx_Px, idx_Py- 1, :]\n",
    "        \n",
    "        output(idx_Px, idx_Py, Px, Py, u0_lc)\n",
    "        \n",
    "        ds = init_ds(p, Pxindex, Pyindex, Px, Py, u0)\n",
    "        u0_lc = goto_attractor(ds, time_attract, tt) # Выход на аттрактор\n",
    "        ds = init_ds(p, Pxindex, Pyindex, Px, Py, u0)\n",
    "        ΛΛ = spectrum(ds) # Вычисление спектра\n",
    "        \n",
    "        outputIter(ΛΛ, u0_lc)\n",
    "        \n",
    "        save_output(idx_Px, idx_Py, ΛΛ, u0_lc)\n",
    "        \n",
    "        separate()\n",
    "    end\n",
    "    # save_tofile()\n",
    "end"
   ]
  }
 ],
 "metadata": {
  "kernelspec": {
   "display_name": "Julia 1.8.5",
   "language": "julia",
   "name": "julia-1.8"
  },
  "language_info": {
   "file_extension": ".jl",
   "mimetype": "application/julia",
   "name": "julia",
   "version": "1.8.5"
  }
 },
 "nbformat": 4,
 "nbformat_minor": 5
}
