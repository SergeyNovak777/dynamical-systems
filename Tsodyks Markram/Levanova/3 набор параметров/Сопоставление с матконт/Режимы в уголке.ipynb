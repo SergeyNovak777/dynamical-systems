{
 "cells": [
  {
   "cell_type": "code",
   "execution_count": 1,
   "id": "1e765d35",
   "metadata": {},
   "outputs": [
    {
     "name": "stderr",
     "output_type": "stream",
     "text": [
      "\u001b[32m\u001b[1m  Activating\u001b[22m\u001b[39m project at `C:\\Users\\Alex\\Desktop\\repo\\2612\\0903\\dynamical-systems\\env\\integrate`\n"
     ]
    }
   ],
   "source": [
    "using Pkg\n",
    "Pkg.activate(\"C:\\\\Users\\\\Alex\\\\Desktop\\\\repo\\\\2612\\\\0903\\\\dynamical-systems\\\\env\\\\integrate\\\\\")"
   ]
  },
  {
   "cell_type": "code",
   "execution_count": 2,
   "id": "1bdee5a7",
   "metadata": {},
   "outputs": [],
   "source": [
    "using StaticArrays, DifferentialEquations, DynamicalSystems\n",
    "\n",
    "E, x, y  = 0..40, 0..1,  0..1\n",
    "box = E × x × y\n",
    "using CairoMakie, GLMakie"
   ]
  },
  {
   "cell_type": "code",
   "execution_count": 3,
   "id": "39e21e6c",
   "metadata": {},
   "outputs": [],
   "source": [
    "@inbounds U(y, p) = p[8] + p[9] / ( 1.0 + exp( -50.0 * (y - p[7]) ) )\n",
    "@inbounds σ(x, p) = 1.0 / ( 1.0 + exp( -20.0 * (x-p[6]) ) )\n",
    "@inbounds g(E, x, y, p, U_) = log( 1.0 + exp( (p[5] * U_ * x * E + p[11]  ) / (p[1]) ) )\n",
    "@inbounds function TM(u, p, t)\n",
    "    \n",
    "    U_ = U(u[3], p)\n",
    "    \n",
    "    du1 = (-u[1] + p[1] * g(u[1], u[2], u[3], p, U_) ) / p[2]\n",
    "    du2 = (1.0 - u[2]) / p[3] - U_*u[2]*u[1]\n",
    "    du3 = (-u[3])/p[4] + p[10] * σ(u[2], p)\n",
    "    \n",
    "    return SVector(du1, du2, du3)\n",
    "end\n",
    "@inbounds function jacob_TM_(u, p, t)\n",
    "    \n",
    "    U(y, p, exp50) = p[8] + p[9] / ( 1.0 + exp50 )\n",
    "    U_y(y, p, exp50) = (50.0 * p[9] * exp50) / (1.0 + exp50)^2\n",
    "    g(E, x, y, p, U_) = exp((p[5]  * U_ * x * E + p[11]) / p[1])\n",
    "    σ_der(x, p) = exp( (-20.0) * (x - p[6]) )\n",
    "    exp50 = exp(-50.0 * (u[3] - p[7]))\n",
    "    \n",
    "    U_ = U(u[3], p, exp50)\n",
    "    Uy = U_y(u[3], p, exp50)\n",
    "    g_ = g(u[1], u[2], u[3], p, U_)\n",
    "    σ_deri = σ_der(u[2], p)\n",
    "    \n",
    "    g_plus = 1.0 + g_\n",
    "    g_mult = g_ * U_\n",
    "    g_plus_mult = p[2] * (g_plus)\n",
    "    u1p5 = p[5] * u[1]\n",
    "    Uyu2 = Uy * u[2]\n",
    "    \n",
    "    E_E = (-1.0 + ((J * u[2] * g_mult)) / (g_plus) ) / p[2]\n",
    "    E_x = (u1p5 * g_mult) / (g_plus_mult)\n",
    "    E_y = (u1p5 * Uyu2 * g_) / (g_plus_mult)\n",
    "    \n",
    "    x_E = -U_ * u[2]\n",
    "    x_x = -1.0 / p[3] - U_ * u[1]\n",
    "    x_y = -Uyu2 * u[1]\n",
    "    \n",
    "    y_x = 20.0 * p[10] * σ_deri / (1.0 + σ_deri)^2\n",
    "    y_y = -1.0/p[4]\n",
    "    \n",
    "    SMatrix{3,3}(E_E, x_E, 0.0,\n",
    "        E_x, x_x, y_x,\n",
    "        E_y, x_y, y_y)\n",
    "end\n",
    "function distance_homoclinic(p1, p2)\n",
    "    x1, y1, z1 = p1\n",
    "    x2, y2, z2 = p2\n",
    "    dist = sqrt( (x1-x2)^2 + (y1-y2)^2 + (z1-z2)^2 )\n",
    "    return dist\n",
    "end;"
   ]
  },
  {
   "cell_type": "code",
   "execution_count": 293,
   "id": "77498e40",
   "metadata": {},
   "outputs": [
    {
     "data": {
      "text/plain": [
       "timeseries (generic function with 1 method)"
      ]
     },
     "execution_count": 293,
     "metadata": {},
     "output_type": "execute_result"
    }
   ],
   "source": [
    "\"\"\"\n",
    "arguments:\n",
    "- model\n",
    "- u0\n",
    "- parameters\n",
    "- times -- array type of [] which include time_integrate, time_transient\n",
    "- integ_setting -- settings for method of integration\n",
    "- t_int_ts -- time inerval for timeseries\n",
    "- t_int_3d -- time inerval for 3d phase portreit\n",
    " - labels -- labels for abscissa and ordinate of timeseries\n",
    "\"\"\"\n",
    "function research_regime(model, u0, p, times, integ_setting;\n",
    "        index_3d = [1, 2, 3], index_ts = 1,\n",
    "        t_int_ts = nothing, t_int_3d = nothing,\n",
    "        labels = [\"time\", \"\"], plot = true)\n",
    "    \n",
    "    ds = CoupledODEs(model, u0, p, diffeq = integ_setting)\n",
    "    tr, trange = trajectory(ds, times[1]; Δt = integ_setting.dt, Ttr = times[2])\n",
    "    \n",
    "\n",
    "    t_int_ts = check_t_int(t_int_ts, times)\n",
    "    t_int_3d = check_t_int(t_int_3d, times)\n",
    "\n",
    "    inter_3d = interactive_3d(tr, [3, 2, 1], t_int_3d)\n",
    "    ts = timeseries([trange, tr], index_ts, t_int_ts, labels)\n",
    "    \n",
    "    if plot == true\n",
    "    GLMakie.activate!()\n",
    "    display(GLMakie.Screen(), inter_3d)\n",
    "    display(GLMakie.Screen(), ts)\n",
    "    end\n",
    "    return [ds, tr, trange, inter_3d, ts]\n",
    "end\n",
    "function interactive_3d(data, index, interval)\n",
    "    f = Figure(resolution = (800, 500))\n",
    "    axis3 = Axis3(f[1, 1],\n",
    "                xlabelsize = 35, ylabelsize = 35, zlabelsize = 35,\n",
    "                xticklabelsize = 20, yticklabelsize = 20, zticklabelsize = 20,\n",
    "                xgridvisible = false, ygridvisible = false, zgridvisible = false)\n",
    "\n",
    "    lines!(axis3,\n",
    "        data[interval[1]:interval[2], index[1]], data[interval[1]:interval[2], index[2]],\n",
    "        data[interval[1]:interval[2],index[3]], linewidth = 1.5, color = :deeppink)\n",
    "    return f\n",
    "end\n",
    "function check_t_int(t_int, times)\n",
    "    if t_int == nothing\n",
    "        t_int = [1, times[1]]\n",
    "    end\n",
    "    return t_int\n",
    "end\n",
    "function timeseries(data, index, interval, labels)\n",
    "    \n",
    "    f = Figure(resolution = (900, 250))\n",
    "    axis = Axis(f[1, 1], xlabel = labels[1], ylabel = labels[2],\n",
    "            xlabelsize = 35, ylabelsize = 35,\n",
    "            xticklabelsize = 28, yticklabelsize = 28,\n",
    "            xgridvisible = false, ygridvisible = false)\n",
    "    \n",
    "    lines!(axis, data[1][interval[1]:interval[2]], data[2][interval[1]:interval[2], index],\n",
    "            linewidth = 2.5, color = :deeppink)\n",
    "    return f\n",
    "end"
   ]
  },
  {
   "cell_type": "code",
   "execution_count": 5,
   "id": "9563babb",
   "metadata": {},
   "outputs": [],
   "source": [
    "const τ = 0.013;  const τD = 0.080;  const τy = 3.3;  const J = 3.07;  const β = 0.300\n",
    "const xthr = 0.75; const ythr = 0.4\n",
    "const α = 1.58; const ΔU0 = 0.305;"
   ]
  },
  {
   "cell_type": "code",
   "execution_count": 273,
   "id": "d43f6858",
   "metadata": {},
   "outputs": [
    {
     "data": {
      "text/plain": [
       "2-element Vector{Int64}:\n",
       "      1\n",
       " 100000"
      ]
     },
     "execution_count": 273,
     "metadata": {},
     "output_type": "execute_result"
    }
   ],
   "source": [
    "times = [time, tt]\n",
    "time_int_ts = [1, 50000]\n",
    "time_int_3d = [1, 100000]"
   ]
  },
  {
   "cell_type": "code",
   "execution_count": 325,
   "id": "441e01c8",
   "metadata": {},
   "outputs": [
    {
     "data": {
      "text/plain": [
       "3-element Vector{Float64}:\n",
       " 12.769265363312517\n",
       "  0.645078134058814\n",
       "  0.46143383140811733"
      ]
     },
     "execution_count": 325,
     "metadata": {},
     "output_type": "execute_result"
    }
   ],
   "source": [
    "U0 = 0.252; I0 = -1.72\n",
    "\n",
    "time = 500; tt = 1000; tstep = 0.001\n",
    "integ_set = (alg = RK4(), adaptive = false, dt = tstep);\n",
    "\n",
    "p = [α, τ, τD, τy, J, xthr, ythr, U0, ΔU0, β, I0]\n",
    "\n",
    "u0 =  [12.769265363312517,0.645078134058814,0.46143383140811733]"
   ]
  },
  {
   "cell_type": "code",
   "execution_count": 326,
   "id": "5d5a4402",
   "metadata": {},
   "outputs": [
    {
     "data": {
      "text/plain": [
       "3-element Vector{Float64}:\n",
       " 12.769265363312517\n",
       "  0.645078134058814\n",
       "  0.46143383140811733"
      ]
     },
     "execution_count": 326,
     "metadata": {},
     "output_type": "execute_result"
    }
   ],
   "source": [
    "prev = u0"
   ]
  },
  {
   "cell_type": "code",
   "execution_count": 327,
   "id": "b3509dba",
   "metadata": {},
   "outputs": [
    {
     "data": {
      "text/plain": [
       "5-element Vector{Any}:\n",
       " 3-dimensional CoupledODEs\n",
       " 3-dimensional StateSpaceSet{Float64} with 500001 points\n",
       " 1000.0:0.001:1500.0\n",
       " Figure()\n",
       " Figure()"
      ]
     },
     "execution_count": 327,
     "metadata": {},
     "output_type": "execute_result"
    }
   ],
   "source": [
    "output = research_regime(TM, u0, p,\n",
    "    times, integ_set, t_int_ts = time_int_ts, t_int_3d = time_int_3d, plot = true)"
   ]
  },
  {
   "cell_type": "markdown",
   "id": "f74dbc7e",
   "metadata": {},
   "source": [
    "Multistability\n",
    "U0 = 0.252; I0 = -1.72\n",
    "[12.769265363312517,0.645078134058814,0.46143383140811733]"
   ]
  },
  {
   "cell_type": "markdown",
   "id": "f346344c",
   "metadata": {},
   "source": [
    "Double period\n",
    "[5.703960241685617, 0.7514489808165569, 0.44878444809941526]\n",
    "\n",
    "Homoclinic\n",
    "[6.154581240346446, 0.7336262321641008, 0.4403107515803029]"
   ]
  },
  {
   "cell_type": "code",
   "execution_count": 328,
   "id": "04fc6cc4",
   "metadata": {},
   "outputs": [
    {
     "data": {
      "text/plain": [
       "3-element Vector{Float64}:\n",
       " -9.655429969086706e-5\n",
       " -0.586573920678845\n",
       " -0.5778269077189608"
      ]
     },
     "execution_count": 328,
     "metadata": {},
     "output_type": "execute_result"
    }
   ],
   "source": [
    "lyapunovspectrum(output[1], time; Ttr = tt)"
   ]
  }
 ],
 "metadata": {
  "kernelspec": {
   "display_name": "Julia 1.8.5",
   "language": "julia",
   "name": "julia-1.8"
  },
  "language_info": {
   "file_extension": ".jl",
   "mimetype": "application/julia",
   "name": "julia",
   "version": "1.8.5"
  }
 },
 "nbformat": 4,
 "nbformat_minor": 5
}
