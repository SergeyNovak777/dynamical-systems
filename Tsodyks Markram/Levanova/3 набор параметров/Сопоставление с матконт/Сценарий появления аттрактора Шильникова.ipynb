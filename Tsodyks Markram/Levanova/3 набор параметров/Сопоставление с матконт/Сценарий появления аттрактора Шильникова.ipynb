{
 "cells": [
  {
   "cell_type": "code",
   "execution_count": 1,
   "id": "1e765d35",
   "metadata": {},
   "outputs": [
    {
     "name": "stderr",
     "output_type": "stream",
     "text": [
      "\u001b[32m\u001b[1m  Activating\u001b[22m\u001b[39m project at `C:\\Users\\Alex\\Desktop\\repo\\2612\\0903\\dynamical-systems\\env\\integrate`\n"
     ]
    }
   ],
   "source": [
    "using Pkg\n",
    "Pkg.activate(\"C:\\\\Users\\\\Alex\\\\Desktop\\\\repo\\\\2612\\\\0903\\\\dynamical-systems\\\\env\\\\integrate\\\\\")"
   ]
  },
  {
   "cell_type": "code",
   "execution_count": 2,
   "id": "1bdee5a7",
   "metadata": {},
   "outputs": [],
   "source": [
    "using StaticArrays, DifferentialEquations, DynamicalSystems\n",
    "\n",
    "E, x, y  = 0..40, 0..1,  0..1\n",
    "box = E × x × y\n",
    "using CairoMakie"
   ]
  },
  {
   "cell_type": "code",
   "execution_count": 3,
   "id": "39e21e6c",
   "metadata": {},
   "outputs": [],
   "source": [
    "@inbounds U(y, p) = p[8] + p[9] / ( 1.0 + exp( -50.0 * (y - p[7]) ) )\n",
    "@inbounds σ(x, p) = 1.0 / ( 1.0 + exp( -20.0 * (x-p[6]) ) )\n",
    "@inbounds g(E, x, y, p, U_) = log( 1.0 + exp( (p[5] * U_ * x * E + p[11]  ) / (p[1]) ) )\n",
    "\n",
    "@inbounds function TM(u, p, t)\n",
    "    \n",
    "    U_ = U(u[3], p)\n",
    "    \n",
    "    du1 = (-u[1] + p[1] * g(u[1], u[2], u[3], p, U_) ) / p[2]\n",
    "    du2 = (1.0 - u[2]) / p[3] - U_*u[2]*u[1]\n",
    "    du3 = (-u[3])/p[4] + p[10] * σ(u[2], p)\n",
    "    \n",
    "    return SVector(du1, du2, du3)\n",
    "end\n",
    "\n",
    "\n",
    "@inbounds function jacob_TM_(u, p, t)\n",
    "    \n",
    "    U(y, p, exp50) = p[8] + p[9] / ( 1.0 + exp50 )\n",
    "    U_y(y, p, exp50) = (50.0 * p[9] * exp50) / (1.0 + exp50)^2\n",
    "    g(E, x, y, p, U_) = exp((p[5]  * U_ * x * E + p[11]) / p[1])\n",
    "    σ_der(x, p) = exp( (-20.0) * (x - p[6]) )\n",
    "    exp50 = exp(-50.0 * (u[3] - p[7]))\n",
    "    \n",
    "    U_ = U(u[3], p, exp50)\n",
    "    Uy = U_y(u[3], p, exp50)\n",
    "    g_ = g(u[1], u[2], u[3], p, U_)\n",
    "    σ_deri = σ_der(u[2], p)\n",
    "    \n",
    "    g_plus = 1.0 + g_\n",
    "    g_mult = g_ * U_\n",
    "    g_plus_mult = p[2] * (g_plus)\n",
    "    u1p5 = p[5] * u[1]\n",
    "    Uyu2 = Uy * u[2]\n",
    "    \n",
    "    E_E = (-1.0 + ((J * u[2] * g_mult)) / (g_plus) ) / p[2]\n",
    "    E_x = (u1p5 * g_mult) / (g_plus_mult)\n",
    "    E_y = (u1p5 * Uyu2 * g_) / (g_plus_mult)\n",
    "    \n",
    "    x_E = -U_ * u[2]\n",
    "    x_x = -1.0 / p[3] - U_ * u[1]\n",
    "    x_y = -Uyu2 * u[1]\n",
    "    \n",
    "    y_x = 20.0 * p[10] * σ_deri / (1.0 + σ_deri)^2\n",
    "    y_y = -1.0/p[4]\n",
    "    \n",
    "    SMatrix{3,3}(E_E, x_E, 0.0,\n",
    "        E_x, x_x, y_x,\n",
    "        E_y, x_y, y_y)\n",
    "end\n",
    "\n",
    "\n",
    "function d(p1, p2)\n",
    "    x1, y1, z1 = p1\n",
    "    x2, y2, z2 = p2\n",
    "    dist = sqrt( (x1-x2)^2 + (y1-y2)^2 + (z1-z2)^2 )\n",
    "    return dist\n",
    "end;"
   ]
  },
  {
   "cell_type": "code",
   "execution_count": 182,
   "id": "7a5db5e2",
   "metadata": {},
   "outputs": [],
   "source": [
    "t = 2000; tt = 2000; tstep = 0.001\n",
    "integ_set = (alg = RK4(), adaptive = false, dt = tstep);"
   ]
  },
  {
   "cell_type": "markdown",
   "id": "f346344c",
   "metadata": {},
   "source": [
    "Double period\n",
    "[5.703960241685617, 0.7514489808165569, 0.44878444809941526]\n",
    "\n",
    "Homoclinic\n",
    "[6.154581240346446, 0.7336262321641008, 0.4403107515803029]"
   ]
  },
  {
   "cell_type": "code",
   "execution_count": 1016,
   "id": "441e01c8",
   "metadata": {},
   "outputs": [
    {
     "data": {
      "text/plain": [
       "3-element Vector{Float64}:\n",
       " 8.3288\n",
       " 0.7386\n",
       " 0.439"
      ]
     },
     "execution_count": 1016,
     "metadata": {},
     "output_type": "execute_result"
    }
   ],
   "source": [
    "const τ = 0.013;  const τD = 0.080;  const τy = 3.3;  const J = 3.07;  const β = 0.300\n",
    "const xthr = 0.75; const ythr = 0.4\n",
    "const α = 1.58; const ΔU0 = 0.305;\n",
    "\n",
    "U0 = 0.264\n",
    "I0 = -1.70978\n",
    "\n",
    "\n",
    "p = [α, τ, τD, τy, J, xthr, ythr, U0, ΔU0, β, I0]\n",
    "\n",
    "u0_hc = tr_h[end] #[8.72034680045247, 0.7331126472077776, 0.439429357635731]\n",
    "u0_2 =  [8.3288, 0.7386, 0.4390]# [6.154581240346446, 0.7336262321641008, 0.4403107515803029]"
   ]
  },
  {
   "cell_type": "code",
   "execution_count": 1017,
   "id": "dc668931",
   "metadata": {},
   "outputs": [
    {
     "name": "stdout",
     "output_type": "stream",
     "text": [
      "[7.543471600303935, 0.6933307910828387, 0.47456203242376666]\n",
      "[8.3288, 0.7386, 0.439]\n"
     ]
    }
   ],
   "source": [
    "println(u0_hc)\n",
    "println(u0_2)"
   ]
  },
  {
   "cell_type": "code",
   "execution_count": 1018,
   "id": "2ed637a3",
   "metadata": {},
   "outputs": [
    {
     "data": {
      "text/plain": [
       "3-element Vector{ComplexF64}:\n",
       " -6.282749822324925 + 0.0im\n",
       " 2.1493705034754806 - 13.700700938481905im\n",
       " 2.1493705034754806 + 13.700700938481905im"
      ]
     },
     "execution_count": 1018,
     "metadata": {},
     "output_type": "execute_result"
    }
   ],
   "source": [
    "ds_hc = CoupledODEs(TM, u0_hc, p, diffeq = integ_set)\n",
    "tr_h, trange = trajectory(ds_hc, t, Δt = tstep; Ttr = tt)\n",
    "\n",
    "ds_2 = CoupledODEs(TM, u0_2, p, diffeq = integ_set)\n",
    "tr_2, trange = trajectory(ds_2, t, Δt = tstep; Ttr = tt)\n",
    "\n",
    "fp, eigs, stable = fixedpoints(ds_hc, box, jacob_TM_)\n",
    "eigs[1]"
   ]
  },
  {
   "cell_type": "code",
   "execution_count": 1019,
   "id": "46175365",
   "metadata": {},
   "outputs": [
    {
     "name": "stdout",
     "output_type": "stream",
     "text": [
      "[8.327732050475124, 0.7386483381412359, 0.4390493945189709]\n"
     ]
    }
   ],
   "source": [
    "println(fp[1])"
   ]
  },
  {
   "cell_type": "code",
   "execution_count": 1020,
   "id": "1857dece",
   "metadata": {},
   "outputs": [],
   "source": [
    "using GLMakie\n",
    "GLMakie.activate!()"
   ]
  },
  {
   "cell_type": "code",
   "execution_count": 1021,
   "id": "465a17a9",
   "metadata": {},
   "outputs": [
    {
     "data": {
      "text/plain": [
       "GLMakie.Screen(...)"
      ]
     },
     "execution_count": 1021,
     "metadata": {},
     "output_type": "execute_result"
    }
   ],
   "source": [
    "f = Figure(resolution = (900, 600))\n",
    "axis3 = Axis3(f[1, 1], xlabel = \"x\", ylabel = \"y\", zlabel = \"E\",\n",
    "                xlabelsize = lb_size, ylabelsize = lb_size, zlabelsize = lb_size,\n",
    "                xticklabelsize = tck_size, yticklabelsize = tck_size, zticklabelsize = tck_size,\n",
    "                xgridvisible = false, ygridvisible = false, zgridvisible = false)\n",
    "idx, idy, idz = 2, 3, 1\n",
    "\n",
    "lines!(axis3, tr_h[ts:tf, idx], tr_h[ts:tf, idy], tr_h[ts:tf,idz], linewidth = 1.5, color = :deeppink)\n",
    "lines!(axis3, tr_2[ts:tf, idx], tr_2[ts:tf, idy], tr_2[ts:tf,idz], linewidth = 1.5, color = :black)\n",
    "scatter!(axis3, fp[1][idx], fp[1][idy], fp[1][idz], color = :deeppink)\n",
    "display(f)"
   ]
  },
  {
   "cell_type": "code",
   "execution_count": 1022,
   "id": "d83dd055",
   "metadata": {},
   "outputs": [
    {
     "data": {
      "text/plain": [
       "0.0020976748454643625"
      ]
     },
     "execution_count": 1022,
     "metadata": {},
     "output_type": "execute_result"
    }
   ],
   "source": [
    "distance = zeros(length(tr_2))\n",
    "\n",
    "for i in range(1, length(distance), step = 1)\n",
    "    distance[i] = d(tr_2[i], fp[1])\n",
    "end\n",
    "minimum(distance)"
   ]
  },
  {
   "cell_type": "code",
   "execution_count": 1024,
   "id": "04fc6cc4",
   "metadata": {},
   "outputs": [
    {
     "data": {
      "text/plain": [
       "3-element Vector{Float64}:\n",
       "  0.5134119442061629\n",
       " -0.0005244368857240977\n",
       " -2.3849745380018943"
      ]
     },
     "execution_count": 1024,
     "metadata": {},
     "output_type": "execute_result"
    }
   ],
   "source": [
    "lyapunovspectrum(ds_hc, t)"
   ]
  },
  {
   "cell_type": "code",
   "execution_count": 1025,
   "id": "32d29935",
   "metadata": {},
   "outputs": [
    {
     "data": {
      "text/plain": [
       "3-element Vector{Float64}:\n",
       "  0.5670768160072215\n",
       " -0.0008630493978292391\n",
       " -2.5974930994358463"
      ]
     },
     "execution_count": 1025,
     "metadata": {},
     "output_type": "execute_result"
    }
   ],
   "source": [
    "lyapunovspectrum(ds_2, t)"
   ]
  },
  {
   "cell_type": "code",
   "execution_count": 1012,
   "id": "7aea7f51",
   "metadata": {},
   "outputs": [],
   "source": [
    "ts, tf = 1, 1500000\n",
    "lb_size = 35; tck_size = 20;"
   ]
  },
  {
   "cell_type": "markdown",
   "id": "78f50f45",
   "metadata": {},
   "source": [
    "ts, tf = 1, 1000000\n",
    "\n",
    "f = Figure(resolution = (1200, 300))\n",
    "axis = Axis(f[1, 1], xlabel = \"time\", ylabel = \"E\",\n",
    "            xlabelsize = lb_size, ylabelsize = lb_size,\n",
    "            xticklabelsize = tck_size, yticklabelsize = tck_size,\n",
    "            xgridvisible = false, ygridvisible = false)\n",
    "#lines!(axis, trange[ts:tf], tr_dp[ts:tf, 1], linewidth = 2.5, color = :blue)\n",
    "lines!(axis, trange[ts:tf], tr_h[ts:tf, 1], linewidth = 2.5, color = :deeppink)\n",
    "f"
   ]
  }
 ],
 "metadata": {
  "kernelspec": {
   "display_name": "Julia 1.8.5",
   "language": "julia",
   "name": "julia-1.8"
  },
  "language_info": {
   "file_extension": ".jl",
   "mimetype": "application/julia",
   "name": "julia",
   "version": "1.8.5"
  }
 },
 "nbformat": 4,
 "nbformat_minor": 5
}
