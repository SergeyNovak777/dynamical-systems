{
 "cells": [
  {
   "cell_type": "code",
   "execution_count": 1,
   "id": "1e765d35",
   "metadata": {},
   "outputs": [
    {
     "name": "stderr",
     "output_type": "stream",
     "text": [
      "\u001b[32m\u001b[1m  Activating\u001b[22m\u001b[39m project at `C:\\Users\\Alex\\Desktop\\repo\\2612\\0903\\dynamical-systems\\env\\integrate`\n"
     ]
    }
   ],
   "source": [
    "pathtorepo = \"C:\\\\Users\\\\Alex\\\\Desktop\\\\repo\\\\2612\\\\0903\\\\\"\n",
    "\n",
    "using Pkg\n",
    "Pkg.activate(pathtorepo * \"dynamical-systems\\\\env\\\\integrate\\\\\")\n",
    "include(\"C:\\\\Users\\\\Alex\\\\Desktop\\\\repo\\\\2612\\\\0903\\\\dynamical-systems\\\\system.jl\")\n",
    "include(\"C:\\\\Users\\\\Alex\\\\Desktop\\\\repo\\\\2612\\\\0903\\\\dynamical-systems\\\\visual_regimes.jl\");"
   ]
  },
  {
   "cell_type": "code",
   "execution_count": 105,
   "id": "1bdee5a7",
   "metadata": {},
   "outputs": [],
   "source": [
    "using StaticArrays, DifferentialEquations, DynamicalSystems\n",
    "E, x, y  = -40..40, -5..5,  -5..5\n",
    "box = E × x × y\n",
    "using CairoMakie, GLMakie\n",
    "using LinearAlgebra"
   ]
  },
  {
   "cell_type": "code",
   "execution_count": 3,
   "id": "2cc715eb",
   "metadata": {},
   "outputs": [],
   "source": [
    "const τ = 0.013;  const τD = 0.07993;  const τy = 3.3;  const J = 3.07;  const β = 0.300\n",
    "const xthr = 0.75; const ythr = 0.4\n",
    "const α = 1.58; const ΔU0 = 0.305; "
   ]
  },
  {
   "cell_type": "code",
   "execution_count": 4,
   "id": "37add348",
   "metadata": {},
   "outputs": [
    {
     "data": {
      "text/plain": [
       "(alg = Vern9(stage_limiter! = trivial_limiter!, step_limiter! = trivial_limiter!, thread = static(false), lazy = true), adaptive = false, dt = 0.001)"
      ]
     },
     "execution_count": 4,
     "metadata": {},
     "output_type": "execute_result"
    }
   ],
   "source": [
    "time = 1000; tt = 1000; tstep = 0.001; times = [time, tt]\n",
    "integ_set = (alg = Vern9(), adaptive = false, dt = tstep)"
   ]
  },
  {
   "cell_type": "code",
   "execution_count": 432,
   "id": "441e01c8",
   "metadata": {},
   "outputs": [
    {
     "name": "stdout",
     "output_type": "stream",
     "text": [
      "last point  pink trajectory:[8.34567030569954, 0.738495457778246, 0.438302434813899]\n"
     ]
    }
   ],
   "source": [
    "U0 = 0.268371462842221 # 0.265;\n",
    "I0 = -1.75061296075842 # -1.7064049\n",
    "p = SA[α, τ, τD, τy, J, xthr, ythr, U0, ΔU0, β, I0]\n",
    "u0_1 = SA[8.34567030569954, 0.738495457778246, 0.438302434813899]\n",
    "println(\"last point  pink trajectory:$u0_1\")"
   ]
  },
  {
   "cell_type": "code",
   "execution_count": 433,
   "id": "3d1acfa9",
   "metadata": {},
   "outputs": [
    {
     "data": {
      "text/plain": [
       "3-dimensional CoupledODEs\n",
       " deterministic: true\n",
       " discrete time: false\n",
       " in-place:      false\n",
       " dynamic rule:  TM\n",
       " ODE solver:    Vern9\n",
       " ODE kwargs:    (adaptive = false, dt = 0.001)\n",
       " parameters:    [1.58, 0.013, 0.07993, 3.3, 3.07, 0.75, 0.4, 0.268371462842221, 0.305, 0.3, -1.75061296075842]\n",
       " time:          0.0\n",
       " state:         [8.34567030569954, 0.738495457778246, 0.438302434813899]\n"
      ]
     },
     "execution_count": 433,
     "metadata": {},
     "output_type": "execute_result"
    }
   ],
   "source": [
    "ds = CoupledODEs(TM, u0_1, p, diffeq = integ_set)"
   ]
  },
  {
   "cell_type": "code",
   "execution_count": 434,
   "id": "26791d3c",
   "metadata": {},
   "outputs": [],
   "source": [
    "fp, ei, _ = fixedpoints(ds, box, jacob_TM_);"
   ]
  },
  {
   "cell_type": "code",
   "execution_count": 435,
   "id": "e45a237a",
   "metadata": {},
   "outputs": [
    {
     "data": {
      "text/plain": [
       "3-element Vector{Vector{ComplexF64}}:\n",
       " [-6.480866327844225 + 0.0im, 2.444720202657989 - 13.668264387945497im, 2.444720202657989 + 13.668264387945497im]\n",
       " [-8.818115292388175 + 0.0im, -0.30303030302448075 + 0.0im, 7.750189128855439 + 0.0im]\n",
       " [-7.20465396728292 - 4.987918126530632im, -7.20465396728292 + 4.987918126530632im, -0.30303030303166734 + 0.0im]"
      ]
     },
     "execution_count": 435,
     "metadata": {},
     "output_type": "execute_result"
    }
   ],
   "source": [
    "ei"
   ]
  },
  {
   "cell_type": "code",
   "execution_count": 436,
   "id": "31e94145",
   "metadata": {},
   "outputs": [
    {
     "data": {
      "text/plain": [
       "3-dimensional StateSpaceSet{Float64} with 3 points\n",
       " 8.30415  0.738431  0.437988\n",
       " 2.02591  0.915042  0.954813\n",
       " 1.43604  0.938251  0.967584"
      ]
     },
     "execution_count": 436,
     "metadata": {},
     "output_type": "execute_result"
    }
   ],
   "source": [
    "fp"
   ]
  },
  {
   "cell_type": "code",
   "execution_count": 437,
   "id": "f11a58b4",
   "metadata": {},
   "outputs": [
    {
     "data": {
      "text/plain": [
       "3×3 SMatrix{3, 3, ComplexF64, 9} with indices SOneTo(3)×SOneTo(3):\n",
       "   0.998695+0.0im     0.999855-0.0im            0.999855+0.0im\n",
       " -0.0496615+0.0im   -0.0142442-0.00912827im   -0.0142442+0.00912827im\n",
       "   0.011898+0.0im  0.000652042-0.00167355im  0.000652042+0.00167355im"
      ]
     },
     "execution_count": 437,
     "metadata": {},
     "output_type": "execute_result"
    }
   ],
   "source": [
    "Jac = jacob_TM_(fp[1], p, 0)\n",
    "eivecs = eigvecs(Jac)"
   ]
  },
  {
   "cell_type": "code",
   "execution_count": 441,
   "id": "ba66e324",
   "metadata": {},
   "outputs": [
    {
     "data": {
      "text/plain": [
       "3-element SVector{3, Float64} with indices SOneTo(3):\n",
       " 8.304148085514477\n",
       " 0.7384311228439159\n",
       " 0.43798820355557727"
      ]
     },
     "execution_count": 441,
     "metadata": {},
     "output_type": "execute_result"
    }
   ],
   "source": [
    "shift = real(eivecs[:, 1])*1e-7 + fp[1]"
   ]
  },
  {
   "cell_type": "code",
   "execution_count": 442,
   "id": "58e5cd10",
   "metadata": {},
   "outputs": [
    {
     "data": {
      "text/plain": [
       "retcode: Success\n",
       "Interpolation: specialized 9th order lazy interpolation\n",
       "t: 5322-element Vector{Float64}:\n",
       "    0.0\n",
       "    0.11567484835291644\n",
       "    0.21923122276020013\n",
       "    0.3125252080248583\n",
       "    0.41018060612155427\n",
       "    0.4986312915784069\n",
       "    0.5951899839266575\n",
       "    0.6946227847705022\n",
       "    0.7928853138927296\n",
       "    0.8962102242223835\n",
       "    0.9924739500078495\n",
       "    1.1210087148225896\n",
       "    1.2241316183043132\n",
       "    ⋮\n",
       " 1497.1503600492529\n",
       " 1497.4255703132712\n",
       " 1497.6964607774269\n",
       " 1497.960562402674\n",
       " 1498.2522626207908\n",
       " 1498.5263189618856\n",
       " 1498.8048614894342\n",
       " 1499.091078031326\n",
       " 1499.3456990949937\n",
       " 1499.6724825626254\n",
       " 1499.9558944574233\n",
       " 1500.0\n",
       "u: 5322-element Vector{SVector{3, Float64}}:\n",
       " [8.304148085514477, 0.7384311228439159, 0.43798820355557727]\n",
       " [8.30414803283539, 0.7384311254634545, 0.43798820292798146]\n",
       " [8.30414800976533, 0.738431126610645, 0.43798820265313454]\n",
       " [8.304147998821412, 0.738431127154846, 0.4379882025227534]\n",
       " [8.30414799264232, 0.7384311274621075, 0.43798820244913894]\n",
       " [8.304147989589318, 0.7384311276139222, 0.4379882024127671]\n",
       " [8.30414798775461, 0.7384311277051585, 0.43798820239090847]\n",
       " [8.304147986752568, 0.7384311277549891, 0.43798820237896935]\n",
       " [8.30414798623082, 0.7384311277809295, 0.43798820237275415]\n",
       " [8.30414798594466, 0.7384311277951523, 0.43798820236934743]\n",
       " [8.304147985805509, 0.7384311278020756, 0.4379882023676897]\n",
       " [8.304147985715154, 0.7384311278065854, 0.4379882023666077]\n",
       " [8.304147985681015, 0.7384311278082747, 0.437988202366201]\n",
       " ⋮\n",
       " [1.4360436229453892, 0.9382506495668558, 0.9675836875415935]\n",
       " [1.436043622945379, 0.9382506495668564, 0.9675836875415935]\n",
       " [1.4360436229453917, 0.9382506495668556, 0.9675836875415935]\n",
       " [1.4360436229453821, 0.9382506495668562, 0.9675836875415935]\n",
       " [1.4360436229453812, 0.9382506495668562, 0.9675836875415935]\n",
       " [1.4360436229453861, 0.9382506495668561, 0.9675836875415935]\n",
       " [1.4360436229453861, 0.938250649566856, 0.9675836875415935]\n",
       " [1.4360436229453948, 0.9382506495668554, 0.9675836875415935]\n",
       " [1.4360436229453843, 0.938250649566856, 0.9675836875415935]\n",
       " [1.4360436229453901, 0.9382506495668558, 0.9675836875415935]\n",
       " [1.4360436229453781, 0.9382506495668566, 0.9675836875415935]\n",
       " [1.4360436229453808, 0.9382506495668564, 0.9675836875415935]"
      ]
     },
     "execution_count": 442,
     "metadata": {},
     "output_type": "execute_result"
    }
   ],
   "source": [
    "prob_for = ODEProblem(TM, shift, (0.0, 1500), p) # \n",
    "sol_for = solve(prob_for, alg = Vern9(), abstol = 1e-13, reltol=1e-13)"
   ]
  },
  {
   "cell_type": "code",
   "execution_count": 443,
   "id": "d003ca7b",
   "metadata": {},
   "outputs": [
    {
     "data": {
      "text/plain": [
       "GLMakie.Screen(...)"
      ]
     },
     "execution_count": 443,
     "metadata": {},
     "output_type": "execute_result"
    }
   ],
   "source": [
    "ts_back, tf_back = 1, 300\n",
    "ts_for, tf_for = 1, length(sol_for)\n",
    "\n",
    "f = Figure(resolution = (700, 700))\n",
    "ax = Axis3(f[1, 1], xlabel = \"y\", ylabel = \"x\", zlabel = \"E\")#, show_axis = true)\n",
    "\n",
    "\n",
    "#scale!(ax.scene, 50, 50, 1)\n",
    "\n",
    "#lines!(sol_back[3,ts_back:tf_back], sol_back[2,ts_back:tf_back], sol_back[1,ts_back:tf_back],\n",
    "    #linewidth = 1.0, color = :black)\n",
    "\n",
    "lines!(sol_for[3,ts_for:tf_for], sol_for[2,ts_for:tf_for], sol_for[1,ts_for:tf_for],\n",
    "    linewidth = 1.0, color = :deeppink)\n",
    "\n",
    "scatter!(fp[1][3], fp[1][2], fp[1][1], markersize = 10.0, color = :orange)\n",
    "scatter!(fp[2][3], fp[2][2], fp[2][1], markersize = 10.0, color = :blue)\n",
    "scatter!(fp[3][3], fp[3][2], fp[2][1], markersize = 10.0, color = :red)\n",
    "\n",
    "\n",
    "display(GLMakie.Screen(), f)"
   ]
  }
 ],
 "metadata": {
  "kernelspec": {
   "display_name": "Julia 1.8.5",
   "language": "julia",
   "name": "julia-1.8"
  },
  "language_info": {
   "file_extension": ".jl",
   "mimetype": "application/julia",
   "name": "julia",
   "version": "1.8.5"
  }
 },
 "nbformat": 4,
 "nbformat_minor": 5
}
