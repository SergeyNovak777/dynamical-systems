{
 "cells": [
  {
   "cell_type": "code",
   "execution_count": 2,
   "id": "1e765d35",
   "metadata": {},
   "outputs": [
    {
     "name": "stderr",
     "output_type": "stream",
     "text": [
      "\u001b[32m\u001b[1m  Activating\u001b[22m\u001b[39m project at `C:\\Users\\Alex\\Desktop\\dynamical-systems\\env\\integrate`\n"
     ]
    }
   ],
   "source": [
    "username = \"Alex\"\n",
    "pathtorepo = \"C:\\\\Users\\\\\" *username *  \"\\\\Desktop\\\\\"\n",
    "using Pkg\n",
    "Pkg.activate(pathtorepo * \"dynamical-systems\\\\env\\\\integrate\\\\\")\n",
    "include(pathtorepo * \"dynamical-systems\\\\system.jl\")\n",
    "include(pathtorepo * \"dynamical-systems\\\\visual_regimes.jl\");"
   ]
  },
  {
   "cell_type": "code",
   "execution_count": 3,
   "id": "1bdee5a7",
   "metadata": {},
   "outputs": [],
   "source": [
    "using StaticArrays, DifferentialEquations, DynamicalSystems, JLD\n",
    "E, x, y  = -40..40, -5..5,  -5..5\n",
    "box = E × x × y\n",
    "using CairoMakie, GLMakie\n",
    "using LinearAlgebra"
   ]
  },
  {
   "cell_type": "code",
   "execution_count": 4,
   "id": "924aeae5",
   "metadata": {},
   "outputs": [],
   "source": [
    "cd(\"C:\\\\Users\\\\Alex\\\\Desktop\\\\dynamical-systems\\\\Tsodyks Markram\\\\Levanova\\\\3 набор параметров\\\\Сопоставление с матконт\\\\файлы matlab\")\n",
    "I0_hom = load(\"I0_hom_hom.jld\")[\"data\"]\n",
    "u0_hom = load(\"U0_hom_hom.jld\")[\"data\"]\n",
    "I0_hom = I0_hom[:]\n",
    "U0_hom = u0_hom[:];"
   ]
  },
  {
   "cell_type": "code",
   "execution_count": 5,
   "id": "2cc715eb",
   "metadata": {},
   "outputs": [],
   "source": [
    "const τ = 0.013;  const τD = 0.07993;  const τy = 3.3;  const J = 3.07;  const β = 0.300\n",
    "const xthr = 0.75; const ythr = 0.4; const α = 1.58; const ΔU0 = 0.305;"
   ]
  },
  {
   "cell_type": "code",
   "execution_count": 6,
   "id": "37add348",
   "metadata": {},
   "outputs": [],
   "source": [
    "time = 2000; tt = 1000; tstep = 0.001; times = [time, tt]\n",
    "integ_set = (alg = Vern9(), adaptive = false, dt = tstep);"
   ]
  },
  {
   "cell_type": "code",
   "execution_count": 15,
   "id": "8566fd4e",
   "metadata": {},
   "outputs": [
    {
     "name": "stdout",
     "output_type": "stream",
     "text": [
      "I0: -1.70629651132633\n",
      "U0: 0.2650000065028337\n"
     ]
    }
   ],
   "source": [
    "index_dot = 1 # 25\n",
    "I0_hom_dot = I0_hom[index_dot]\n",
    "U0_hom_dot = U0_hom[index_dot]\n",
    "\n",
    "println(\"I0: \", I0_hom[index_dot])\n",
    "println(\"U0: \", U0_hom[index_dot])"
   ]
  },
  {
   "cell_type": "code",
   "execution_count": 16,
   "id": "441e01c8",
   "metadata": {},
   "outputs": [
    {
     "data": {
      "text/plain": [
       "3-dimensional CoupledODEs\n",
       " deterministic: true\n",
       " discrete time: false\n",
       " in-place:      false\n",
       " dynamic rule:  TM\n",
       " ODE solver:    Vern9\n",
       " ODE kwargs:    (adaptive = false, dt = 0.001)\n",
       " parameters:    [1.58, 0.013, 0.07993, 3.3, 3.07, 0.75, 0.4, 0.2650000065028337, 0.305, 0.3, -1.70629651132633]\n",
       " time:          0.0\n",
       " state:         [11.325905642223786, 0.6594706953104683, 0.4863175026548461]\n"
      ]
     },
     "metadata": {},
     "output_type": "display_data"
    }
   ],
   "source": [
    "I0 = I0_hom_dot; U0 = U0_hom_dot\n",
    "#I0 = -1.7032; U0 = 0.265\n",
    "\n",
    "p = SA[α, τ, τD, τy, J, xthr, ythr, U0, ΔU0, β, I0]\n",
    "u0 = [11.325905642223786, 0.6594706953104683, 0.4863175026548461]\n",
    "\n",
    "ds = CoupledODEs(TM, u0, p, diffeq = integ_set)"
   ]
  },
  {
   "cell_type": "code",
   "execution_count": 17,
   "id": "29cda556",
   "metadata": {},
   "outputs": [
    {
     "data": {
      "text/plain": [
       "3-element SVector{3, Float64} with indices SOneTo(3):\n",
       " 8.345808452619515\n",
       " 0.7384946646037478\n",
       " 0.4382985603649698"
      ]
     },
     "metadata": {},
     "output_type": "display_data"
    }
   ],
   "source": [
    "fp, ei, _ = fixedpoints(ds, box, jacob_TM_);\n",
    "\n",
    "index_fp = 1\n",
    "index_vec = 1\n",
    "ϵ = 1e-9\n",
    "\n",
    "Jac = jacob_TM_(fp[index_fp], p, 0)\n",
    "eivecs = eigvecs(Jac)\n",
    "shift =  fp[index_fp] + real(eivecs[:, index_vec])*ϵ"
   ]
  },
  {
   "cell_type": "code",
   "execution_count": 18,
   "id": "68e32528",
   "metadata": {},
   "outputs": [
    {
     "data": {
      "text/plain": [
       "\u001b[38;2;86;182;194mODEProblem\u001b[0m with uType \u001b[38;2;86;182;194mSVector{3, Float64}\u001b[0m and tType \u001b[38;2;86;182;194mFloat64\u001b[0m. In-place: \u001b[38;2;86;182;194mfalse\u001b[0m\n",
       "timespan: (0.0, 5000.0)\n",
       "u0: 3-element SVector{3, Float64} with indices SOneTo(3):\n",
       " 8.345808452619515\n",
       " 0.7384946646037478\n",
       " 0.4382985603649698"
      ]
     },
     "metadata": {},
     "output_type": "display_data"
    }
   ],
   "source": [
    "prob_backward_time = ODEProblem(TM, shift, (0.0, -1000), p)\n",
    "prob_forward_time = ODEProblem(TM, shift, (0.0, 5000), p)"
   ]
  },
  {
   "cell_type": "code",
   "execution_count": 48,
   "id": "1f7e2d75",
   "metadata": {},
   "outputs": [
    {
     "name": "stderr",
     "output_type": "stream",
     "text": [
      "┌ Warning: Interrupted. Larger maxiters is needed. If you are using an integrator for non-stiff ODEs or an automatic switching algorithm (the default), you may want to consider using a method for stiff equations. See the solver pages for more details (e.g. https://docs.sciml.ai/DiffEqDocs/stable/solvers/ode_solve/#Stiff-Problems).\n",
      "└ @ SciMLBase C:\\Users\\Alex\\.julia\\packages\\SciMLBase\\VdcHg\\src\\integrator_interface.jl:575\n"
     ]
    },
    {
     "data": {
      "text/plain": [
       "retcode: MaxIters\n",
       "Interpolation: specialized 9th order lazy interpolation\n",
       "t: 9999990-element Vector{Float64}:\n",
       "  0.0\n",
       " -0.14992349810255767\n",
       " -0.2574425245964471\n",
       " -0.35828078841087146\n",
       " -0.45097712189772127\n",
       " -0.5571116499514299\n",
       " -0.6498773909116583\n",
       " -0.7375028415386683\n",
       " -0.8258659463153659\n",
       " -0.9030558986109092\n",
       "  ⋮\n",
       " -6.133043905862105\n",
       " -6.133043907162631\n",
       " -6.133043908463157\n",
       " -6.133043909763683\n",
       " -6.133043911064209\n",
       " -6.133043912364735\n",
       " -6.133043913665261\n",
       " -6.1330439149657865\n",
       " -6.133043916266312\n",
       "u: 9999990-element Vector{SVector{3, Float64}}:\n",
       " [8.345808452619515, 0.7384946646037478, 0.4382985603649698]\n",
       " [8.34580845422427, 0.738494664525034, 0.4382985603841102]\n",
       " [8.345808456796517, 0.7384946643988645, 0.43829856041479004]\n",
       " [8.345808461480097, 0.7384946641691342, 0.43829856047065213]\n",
       " [8.345808469449587, 0.7384946637782276, 0.43829856056570654]\n",
       " [8.34580848675223, 0.7384946629295271, 0.4382985607720796]\n",
       " [8.345808515178089, 0.7384946615352315, 0.43829856111112175]\n",
       " [8.34580856288816, 0.7384946591950388, 0.4382985616801719]\n",
       " [8.345808647332822, 0.7384946550530037, 0.4382985626873649]\n",
       " [8.345808772141714, 0.7384946489310903, 0.43829856417599256]\n",
       " ⋮\n",
       " [-6.107630989140093e9, -3.634984634641999e-9, 0.47662485403401617]\n",
       " [-6.107631600150476e9, -3.6349842706124338e-9, 0.47662485422185336]\n",
       " [-6.107632211160897e9, -3.6349839065830753e-9, 0.47662485440969055]\n",
       " [-6.107632822171314e9, -3.634983542553902e-9, 0.47662485459752774]\n",
       " [-6.107633433181727e9, -3.6349831785244966e-9, 0.47662485478536487]\n",
       " [-6.107634044192259e9, -3.6349828144951105e-9, 0.47662485497320206]\n",
       " [-6.107634655202908e9, -3.6349824504661892e-9, 0.47662485516103925]\n",
       " [-6.107635266213472e9, -3.634982086437443e-9, 0.4766248553488764]\n",
       " [-6.107635877223911e9, -3.634981722408331e-9, 0.47662485553671347]"
      ]
     },
     "metadata": {},
     "output_type": "display_data"
    }
   ],
   "source": [
    "#, abstol = 1e-14, reltol = 1e-14, maxiters = 5000000)\n",
    "sol_backward = solve(prob_backward_time, alg = Vern9(),  adaptive = true, abstol = 1e-14, reltol = 1e-14, maxiters = 10000000)"
   ]
  },
  {
   "cell_type": "code",
   "execution_count": 49,
   "id": "190e5534",
   "metadata": {},
   "outputs": [
    {
     "data": {
      "text/plain": [
       "retcode: Success\n",
       "Interpolation: specialized 9th order lazy interpolation\n",
       "t: 470391-element Vector{Float64}:\n",
       "    0.0\n",
       "    0.14992452245329024\n",
       "    0.2427849164980313\n",
       "    0.3407732534480342\n",
       "    0.43379138161258246\n",
       "    0.5153951605492191\n",
       "    0.5905621103473974\n",
       "    0.6646557914677285\n",
       "    0.7368770633751337\n",
       "    0.8011858510094263\n",
       "    ⋮\n",
       " 4999.944667363747\n",
       " 4999.9516502252845\n",
       " 4999.95914586875\n",
       " 4999.966485973303\n",
       " 4999.973292292393\n",
       " 4999.980063639845\n",
       " 4999.98663450708\n",
       " 4999.99321975742\n",
       " 5000.0\n",
       "u: 470391-element Vector{SVector{3, Float64}}:\n",
       " [8.345808452619515, 0.7384946646037478, 0.4382985603649698]\n",
       " [8.345808452003869, 0.738494664633944, 0.4382985603576273]\n",
       " [8.345808451832408, 0.7384946646423552, 0.4382985603555822]\n",
       " [8.345808451733992, 0.7384946646471854, 0.4382985603544074]\n",
       " [8.345808451683286, 0.7384946646496715, 0.4382985603538025]\n",
       " [8.34580845165782, 0.7384946646509171, 0.4382985603534997]\n",
       " [8.345808451643604, 0.7384946646516124, 0.4382985603533311]\n",
       " [8.345808451634966, 0.7384946646520375, 0.4382985603532282]\n",
       " [8.345808451629805, 0.7384946646522953, 0.4382985603531654]\n",
       " [8.345808451626912, 0.7384946646524416, 0.4382985603531292]\n",
       " ⋮\n",
       " [10.960137858004858, 0.7393951407293722, 0.45659634267390276]\n",
       " [11.541484078036358, 0.730607957640406, 0.4565222600718111]\n",
       " [12.139977004892597, 0.7207149500921224, 0.456342012425396]\n",
       " [12.67959281576733, 0.7107718516674529, 0.4560655900302466]\n",
       " [13.121268582608916, 0.701529395942666, 0.4557253888867494]\n",
       " [13.490306609396225, 0.6925109071192158, 0.45531362079658183]\n",
       " [13.770955158705565, 0.6841085399822077, 0.45485198970938195]\n",
       " [13.968914242904285, 0.6761992948326769, 0.4543364806937597]\n",
       " [14.08243307503299, 0.668745979104664, 0.45375935489353264]"
      ]
     },
     "metadata": {},
     "output_type": "display_data"
    }
   ],
   "source": [
    "sol_forward = solve(prob_forward_time, alg = Vern9(),  adaptive = true, abstol = 1e-14, reltol = 1e-14, maxiters = 5000000)"
   ]
  },
  {
   "cell_type": "code",
   "execution_count": 1,
   "id": "a7cf474d",
   "metadata": {},
   "outputs": [
    {
     "ename": "UndefVarError",
     "evalue": "UndefVarError: `GLMakie` not defined",
     "output_type": "error",
     "traceback": [
      "UndefVarError: `GLMakie` not defined\n",
      "\n",
      "Stacktrace:\n",
      " [1] top-level scope\n",
      "   @ c:\\Users\\Alex\\Desktop\\dynamical-systems\\Tsodyks Markram\\Levanova\\3 набор параметров\\Количество витков по индусу.ipynb:8"
     ]
    }
   ],
   "source": [
    "tst_back, ted_back = 1, 300\n",
    "tst_for, ted_for = 6500,  159200\n",
    "\n",
    "idx, idy, idz = 1, 2, 3\n",
    "lb_size = 30; tck_size = 25;\n",
    "#dis  = 60;\n",
    "\n",
    "GLMakie.activate!()\n",
    "f = Figure(resolution = (700, 700))\n",
    "ax = LScene(f[1, 1], show_axis = true)\n",
    "scale!(ax.scene, 1, 50, 50)\n",
    "\n",
    "\n",
    "lines!(sol_backward[idx, tst_back:ted_back], sol_backward[idy, tst_back:ted_back], sol_backward[idz, tst_back:ted_back], linewidth = 1.5, color = :blue)\n",
    "lines!(sol_forward[idx, tst_for:ted_for], sol_forward[idy, tst_for:ted_for], sol_forward[idz, tst_for:ted_for], linewidth = 1.5, color = :deeppink)\n",
    "\n",
    "\n",
    "for (i, ep) in enumerate(fp)\n",
    "    scatter!(ep[idx], ep[idy], ep[idz], color = :blue, markersize = 12)\n",
    "end\n",
    "\n",
    "display(GLMakie.Screen(), f)"
   ]
  },
  {
   "cell_type": "code",
   "execution_count": null,
   "id": "25957e44",
   "metadata": {},
   "outputs": [],
   "source": [
    "tst_for, ted_for = 1, 25000\n",
    "idx, idy, idz = 1, 3, 2\n",
    "lb_size = 30; tck_size = 25;\n",
    "dis  = 60;\n",
    "\n",
    "CairoMakie.activate!()\n",
    "f = Figure(resolution = (900, 700))\n",
    "ax = Axis3(f[1, 1], azimuth = 0.4pi,\n",
    "            xlabel = \"E\", ylabel = \"y\", zlabel = \"x\",\n",
    "            xlabelsize = lb_size, ylabelsize = lb_size, zlabelsize = lb_size,\n",
    "            xticklabelsize = tck_size, yticklabelsize = tck_size, zticklabelsize = tck_size,\n",
    "            xgridvisible = false, ygridvisible = false, zgridvisible = false,\n",
    "            protrusions = dis, xlabeloffset = dis, ylabeloffset = dis, zlabeloffset = dis)\n",
    "\n",
    "\n",
    "#lines!(sol_backward[idx, tst_back:ted_back], sol_backward[idy, tst_back:ted_back], sol_backward[idz, tst_back:ted_back], linewidth = 1.5, color = :blue)\n",
    "lines!(sol_forward[idx, tst_for:ted_for], sol_forward[idy, tst_for:ted_for], sol_forward[idz, tst_for:ted_for], linewidth = 1.5, color = :deeppink)\n",
    "\n",
    "\n",
    "for (i, ep) in enumerate(fp)\n",
    "    scatter!(ep[idx], ep[idy], ep[idz], color = :blue, markersize = 12)\n",
    "end\n",
    "\n",
    "\n",
    "display(f)"
   ]
  },
  {
   "cell_type": "code",
   "execution_count": 54,
   "id": "4d47d6b1",
   "metadata": {},
   "outputs": [
    {
     "data": {
      "text/plain": [
       "GLMakie.Screen(...)"
      ]
     },
     "metadata": {},
     "output_type": "display_data"
    }
   ],
   "source": [
    "tst_back, ted_back = 1, 300\n",
    "tst_for, ted_for = 6500,  9200\n",
    "\n",
    "\n",
    "lb_size_ts = 20\n",
    "tck_size_ts = 15\n",
    "\n",
    "GLMakie.activate!()\n",
    "f = Figure(resolution = (2000, 600))\n",
    "\n",
    "axisE = Axis(f[1, 1], xlabel = L\"$time$\", ylabel = L\"$E$\",\n",
    "            xlabelsize = lb_size_ts, ylabelsize = lb_size_ts,\n",
    "            xticklabelsize = tck_size_ts, yticklabelsize = tck_size_ts,\n",
    "            xgridvisible = false, ygridvisible = false)\n",
    "\n",
    "axisy = Axis(f[2, 1], xlabel = L\"$time$\", ylabel = L\"$y$\",\n",
    "            xlabelsize = lb_size_ts, ylabelsize = lb_size_ts,\n",
    "            xticklabelsize = tck_size_ts, yticklabelsize = tck_size_ts,\n",
    "            xgridvisible = false, ygridvisible = false)\n",
    "\n",
    "lines!(axisE, sol_forward.t[tst_for:ted_for], sol_forward[1, tst_for:ted_for], linewidth = 1.5, color = :black)\n",
    "hlines!(axisE, fp[1][1], color = :blue, linewidth = 0.5)\n",
    "\n",
    "lines!(axisy, sol_forward.t[tst_for:ted_for], sol_forward[3, tst_for:ted_for], linewidth = 1.5, color = :black)\n",
    "hlines!(axisy, fp[1][3], color = :blue, linewidth = 0.5)\n",
    "\n",
    "display(GLMakie.Screen(), f)"
   ]
  },
  {
   "cell_type": "code",
   "execution_count": 62,
   "id": "f4ff0a0a",
   "metadata": {},
   "outputs": [
    {
     "data": {
      "text/plain": [
       "GLMakie.Screen(...)"
      ]
     },
     "metadata": {},
     "output_type": "display_data"
    }
   ],
   "source": [
    "tst_back, ted_back = 1, 300\n",
    "\n",
    "lb_size_ts = 20\n",
    "tck_size_ts = 15\n",
    "\n",
    "GLMakie.activate!()\n",
    "f = Figure(resolution = (2000, 600))\n",
    "\n",
    "axisE = Axis(f[1, 1], xlabel = L\"$time$\", ylabel = L\"$E$\",\n",
    "            xlabelsize = lb_size_ts, ylabelsize = lb_size_ts,\n",
    "            xticklabelsize = tck_size_ts, yticklabelsize = tck_size_ts,\n",
    "            xgridvisible = false, ygridvisible = false)\n",
    "\n",
    "axisy = Axis(f[2, 1], xlabel = L\"$time$\", ylabel = L\"$y$\",\n",
    "            xlabelsize = lb_size_ts, ylabelsize = lb_size_ts,\n",
    "            xticklabelsize = tck_size_ts, yticklabelsize = tck_size_ts,\n",
    "            xgridvisible = false, ygridvisible = false)\n",
    "\n",
    "lines!(axisE, sol_backward.t[tst_back:ted_back], sol_backward[1, tst_back:ted_back], linewidth = 1.5, color = :black)\n",
    "hlines!(axisE, fp[1][1], color = :blue, linewidth = 0.5)\n",
    "\n",
    "display(GLMakie.Screen(), f)"
   ]
  }
 ],
 "metadata": {
  "kernelspec": {
   "display_name": "Julia 1.9.0",
   "language": "julia",
   "name": "julia-1.9"
  },
  "language_info": {
   "file_extension": ".jl",
   "mimetype": "application/julia",
   "name": "julia",
   "version": "1.9.0"
  }
 },
 "nbformat": 4,
 "nbformat_minor": 5
}
