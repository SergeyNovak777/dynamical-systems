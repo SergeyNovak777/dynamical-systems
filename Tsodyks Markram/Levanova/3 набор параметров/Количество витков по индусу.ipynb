{
 "cells": [
  {
   "cell_type": "code",
   "execution_count": 1,
   "id": "1e765d35",
   "metadata": {},
   "outputs": [
    {
     "name": "stderr",
     "output_type": "stream",
     "text": [
      "\u001b[32m\u001b[1m  Activating\u001b[22m\u001b[39m project at `C:\\Users\\Alex\\Desktop\\dynamical-systems\\env\\integrate`"
     ]
    },
    {
     "name": "stderr",
     "output_type": "stream",
     "text": [
      "\n"
     ]
    }
   ],
   "source": [
    "username = \"Alex\"\n",
    "pathtorepo = \"C:\\\\Users\\\\\" *username *  \"\\\\Desktop\\\\\"\n",
    "using Pkg\n",
    "Pkg.activate(pathtorepo * \"dynamical-systems\\\\env\\\\integrate\\\\\")\n",
    "include(pathtorepo * \"dynamical-systems\\\\system.jl\")\n",
    "include(pathtorepo * \"dynamical-systems\\\\visual_regimes.jl\");"
   ]
  },
  {
   "cell_type": "code",
   "execution_count": 2,
   "id": "1bdee5a7",
   "metadata": {},
   "outputs": [],
   "source": [
    "using StaticArrays, DifferentialEquations, DynamicalSystems, JLD\n",
    "E, x, y  = -40..40, -5..5,  -5..5\n",
    "box = E × x × y\n",
    "using CairoMakie, GLMakie\n",
    "using LinearAlgebra"
   ]
  },
  {
   "cell_type": "code",
   "execution_count": 3,
   "id": "924aeae5",
   "metadata": {},
   "outputs": [],
   "source": [
    "cd(\"C:\\\\Users\\\\Alex\\\\Desktop\\\\dynamical-systems\\\\Tsodyks Markram\\\\Levanova\\\\3 набор параметров\\\\Сопоставление с матконт\\\\файлы matlab\")\n",
    "I0_hom = load(\"I0_hom_hom.jld\")[\"data\"]\n",
    "u0_hom = load(\"U0_hom_hom.jld\")[\"data\"]\n",
    "I0_hom = I0_hom[:]\n",
    "U0_hom = u0_hom[:];"
   ]
  },
  {
   "cell_type": "code",
   "execution_count": 4,
   "id": "2cc715eb",
   "metadata": {},
   "outputs": [],
   "source": [
    "const τ = 0.013;  const τD = 0.07993;  const τy = 3.3;  const J = 3.07;  const β = 0.300\n",
    "const xthr = 0.75; const ythr = 0.4; const α = 1.58; const ΔU0 = 0.305;"
   ]
  },
  {
   "cell_type": "code",
   "execution_count": 5,
   "id": "37add348",
   "metadata": {},
   "outputs": [],
   "source": [
    "time = 2000; tt = 1000; tstep = 0.001; times = [time, tt]\n",
    "integ_set = (alg = Vern9(), adaptive = false, dt = tstep);"
   ]
  },
  {
   "cell_type": "code",
   "execution_count": 6,
   "id": "8566fd4e",
   "metadata": {},
   "outputs": [
    {
     "name": "stdout",
     "output_type": "stream",
     "text": [
      "I0: -1.7069071372342806\n",
      "U0: 0.26504556977786675\n"
     ]
    }
   ],
   "source": [
    "index_dot = 13 # 25\n",
    "I0_hom_dot = I0_hom[index_dot]\n",
    "U0_hom_dot = U0_hom[index_dot]\n",
    "\n",
    "println(\"I0: \", I0_hom[index_dot])\n",
    "println(\"U0: \", U0_hom[index_dot])"
   ]
  },
  {
   "cell_type": "code",
   "execution_count": 7,
   "id": "441e01c8",
   "metadata": {},
   "outputs": [
    {
     "data": {
      "text/plain": [
       "3-dimensional CoupledODEs\n",
       " deterministic: true\n",
       " discrete time: false\n",
       " in-place:      false\n",
       " dynamic rule:  TM\n",
       " ODE solver:    Vern9\n",
       " ODE kwargs:    (adaptive = false, dt = 0.001)\n",
       " parameters:    [1.58, 0.013, 0.07993, 3.3, 3.07, 0.75, 0.4, 0.26504556977786675, 0.305, 0.3, -1.7069071372342806]\n",
       " time:          0.0\n",
       " state:         [11.325905642223786, 0.6594706953104683, 0.4863175026548461]\n"
      ]
     },
     "metadata": {},
     "output_type": "display_data"
    }
   ],
   "source": [
    "I0 = I0_hom_dot; U0 = U0_hom_dot\n",
    "#I0 = -1.7016; U0 = 0.265\n",
    "\n",
    "p = SA[α, τ, τD, τy, J, xthr, ythr, U0, ΔU0, β, I0]\n",
    "u0_1 = [11.325905642223786, 0.6594706953104683, 0.4863175026548461]\n",
    "\n",
    "ds = CoupledODEs(TM, u0_1, p, diffeq = integ_set)"
   ]
  },
  {
   "cell_type": "code",
   "execution_count": 8,
   "id": "29cda556",
   "metadata": {},
   "outputs": [
    {
     "data": {
      "text/plain": [
       "3-element SVector{3, Float64} with indices SOneTo(3):\n",
       " 8.345331343993289\n",
       " 0.7384889657322181\n",
       " 0.4382958471685885"
      ]
     },
     "metadata": {},
     "output_type": "display_data"
    }
   ],
   "source": [
    "fp, ei, _ = fixedpoints(ds, box, jacob_TM_);\n",
    "\n",
    "index_fp = 1\n",
    "index_vec = 1\n",
    "\n",
    "Jac = jacob_TM_(fp[index_fp], p, 0)\n",
    "eivecs = eigvecs(Jac)\n",
    "shift = real(eivecs[:, index_vec])*1e-4 + fp[index_fp]"
   ]
  },
  {
   "cell_type": "code",
   "execution_count": 10,
   "id": "330307f6",
   "metadata": {},
   "outputs": [],
   "source": [
    "idx_fix = 1; fixed_value = 11\n",
    "surface = (idx_fix, fixed_value)\n",
    "setting_root = (xrtol = 1e-15, atol = 1e-20);"
   ]
  },
  {
   "cell_type": "code",
   "execution_count": 11,
   "id": "2f47ea11",
   "metadata": {},
   "outputs": [
    {
     "data": {
      "text/plain": [
       "3-dimensional PoincareMap\n",
       " deterministic: true\n",
       " discrete time: true\n",
       " in-place:      false\n",
       " dynamic rule:  TM\n",
       " hyperplane:    (1, 11)\n",
       " crossing time: 2.1871773989450705\n",
       " parameters:    [1.58, 0.013, 0.07993, 3.3, 3.07, 0.75, 0.4, 0.26504556977786675, 0.305, 0.3, -1.7069071372342806]\n",
       " time:          0\n",
       " state:         [11.000000000000032, 0.7239075601084137, 0.4454967556471555]\n"
      ]
     },
     "metadata": {},
     "output_type": "display_data"
    }
   ],
   "source": [
    "pmap_ = PoincareMap(ds, surface, rootkw = setting_root)"
   ]
  },
  {
   "cell_type": "code",
   "execution_count": 13,
   "id": "affe0d8d",
   "metadata": {},
   "outputs": [
    {
     "data": {
      "text/plain": [
       "(3-dimensional StateSpaceSet{Float64} with 501 points, 0:1:500)"
      ]
     },
     "metadata": {},
     "output_type": "display_data"
    }
   ],
   "source": [
    "tr, trange = trajectory(pmap_, 500)"
   ]
  },
  {
   "cell_type": "code",
   "execution_count": null,
   "id": "501a247e",
   "metadata": {},
   "outputs": [],
   "source": [
    "ts, tf = 1, 500\n",
    "idx, idy = 2, 3\n",
    "\n",
    "CairoMakie.activate!()\n",
    "f = Figure(resolution = (700, 700))\n",
    "ax = Axis(f[1, 1])\n",
    "\n",
    "\n",
    "scatter!(tr[ts:tf, idx], tr[ts:tf, idy],\n",
    "    markersize = 5.5, color = :deeppink)\n",
    "\n",
    "for (i, ep) in enumerate(fp)\n",
    "    scatter!(ep[idx], ep[idy], color = :blue, markersize = 12)\n",
    "end\n",
    "\n",
    "display(f)"
   ]
  },
  {
   "cell_type": "code",
   "execution_count": 60,
   "id": "68e32528",
   "metadata": {},
   "outputs": [
    {
     "data": {
      "text/plain": [
       "\u001b[38;2;86;182;194mODEProblem\u001b[0m with uType \u001b[38;2;86;182;194mSVector{3, Float64}\u001b[0m and tType \u001b[38;2;86;182;194mFloat64\u001b[0m. In-place: \u001b[38;2;86;182;194mfalse\u001b[0m\n",
       "timespan: (0.0, 5000.0)\n",
       "u0: 3-element SVector{3, Float64} with indices SOneTo(3):\n",
       " 8.345331343993289\n",
       " 0.7384889657322181\n",
       " 0.4382958471685885"
      ]
     },
     "metadata": {},
     "output_type": "display_data"
    }
   ],
   "source": [
    "prob_backward_time = ODEProblem(TM, shift, (0.0, -5000), p)\n",
    "prob_forward_time = ODEProblem(TM, shift, (0.0, 5000), p)"
   ]
  },
  {
   "cell_type": "code",
   "execution_count": 61,
   "id": "1f7e2d75",
   "metadata": {},
   "outputs": [
    {
     "name": "stderr",
     "output_type": "stream",
     "text": [
      "┌ Warning: dt(-2.9279468024331845e-13) <= dtmin(9.094947017729282e-13) at t=-4.047702225432292. Aborting. There is either an error in your model specification or the true solution is unstable.\n",
      "└ @ SciMLBase C:\\Users\\Alex\\.julia\\packages\\SciMLBase\\VdcHg\\src\\integrator_interface.jl:589\n"
     ]
    }
   ],
   "source": [
    "sol_backward = solve(prob_backward_time, alg = Vern9(),  adaptive = true, abstol = 1e-14, reltol = 1e-14)\n",
    "sol_forward = solve(prob_forward_time, alg = Vern9(),  adaptive = true, abstol = 1e-14, reltol = 1e-14);\n"
   ]
  },
  {
   "cell_type": "code",
   "execution_count": 90,
   "id": "a7cf474d",
   "metadata": {},
   "outputs": [
    {
     "data": {
      "text/plain": [
       "GLMakie.Screen(...)"
      ]
     },
     "metadata": {},
     "output_type": "display_data"
    }
   ],
   "source": [
    "tst_back, ted_back = 1, 270\n",
    "tst_for, ted_for = 1, 557\n",
    "idx, idy, idz = 1, 2, 3\n",
    "lb_size = 30; tck_size = 25;\n",
    "#dis  = 60;\n",
    "\n",
    "GLMakie.activate!()\n",
    "f = Figure(resolution = (700, 700))\n",
    "ax = LScene(f[1, 1], show_axis = true)\n",
    "scale!(ax.scene, 1, 50, 50)\n",
    "\n",
    "\n",
    "lines!(sol_backward[idx, tst_back:ted_back], sol_backward[idy, tst_back:ted_back], sol_backward[idz, tst_back:ted_back], linewidth = 1.5, color = :blue)\n",
    "lines!(sol_forward[idx, tst_for:ted_for], sol_forward[idy, tst_for:ted_for], sol_forward[idz, tst_for:ted_for], linewidth = 1.5, color = :deeppink)\n",
    "\n",
    "\n",
    "for (i, ep) in enumerate(fp)\n",
    "    scatter!(ep[idx], ep[idy], ep[idz], color = :blue, markersize = 12)\n",
    "end\n",
    "\n",
    "\n",
    "\n",
    "#ax = Axis(f[1, 1])\n",
    "#lines!(sol[idx, ts:tf], sol[idy, ts:tf], linewidth = 1., color = :deeppink)\n",
    "#for (i, ep) in enumerate(fp)\n",
    "    #scatter!(ep[idx], ep[idy], color = :blue, markersize = 12)\n",
    "#end\n",
    "\n",
    "display(GLMakie.Screen(), f)"
   ]
  },
  {
   "attachments": {},
   "cell_type": "markdown",
   "id": "53ad09b2",
   "metadata": {},
   "source": [
    "###  СЧИТАЙ В ОБРАТНОМ ВРЕМЕНИ КОЛИЧЕСТВО СПАЙКОВ ПРИДУРОК"
   ]
  },
  {
   "cell_type": "code",
   "execution_count": 52,
   "id": "47e9ef73",
   "metadata": {},
   "outputs": [
    {
     "data": {
      "image/png": "[encoded data removed]"
     },
     "metadata": {},
     "output_type": "display_data"
    }
   ],
   "source": [
    "ts, tf = 1, 220  # idxs_glob_min[idxstart], idxs_glob_min[idxend]\n",
    "\n",
    "lb_size_ts = 25\n",
    "tck_size_ts = 20\n",
    "\n",
    "idxstart, idxend = 1, 377\n",
    "idxstartbt, idxendbt = 1, 23\n",
    "\n",
    "CairoMakie.activate!()\n",
    "f = Figure(resolution = (1800, 400))\n",
    "\n",
    "axisE = Axis(f[1, 1], xlabel = L\"$time$\", ylabel = L\"$E$\",\n",
    "            xlabelsize = lb_size_ts, ylabelsize = lb_size_ts,\n",
    "            xticklabelsize = tck_size_ts, yticklabelsize = tck_size_ts,\n",
    "            xgridvisible = false, ygridvisible = false)\n",
    "\n",
    "lines!(axisE, sol.t[ts:tf], sol[1, ts:tf], linewidth = 1.5, color = :black)\n",
    "\n",
    "f"
   ]
  },
  {
   "cell_type": "code",
   "execution_count": 53,
   "id": "4d47d6b1",
   "metadata": {},
   "outputs": [
    {
     "data": {
      "image/png": "[encoded data removed]"
     },
     "metadata": {},
     "output_type": "display_data"
    }
   ],
   "source": [
    "ts, tf = 1, 220\n",
    "lb_size_ts = 20\n",
    "tck_size_ts = 15\n",
    "f = Figure(resolution = (900, 400))\n",
    "\n",
    "axisE = Axis(f[1, 1], xlabel = L\"$time$\", ylabel = L\"$E$\",\n",
    "            xlabelsize = lb_size_ts, ylabelsize = lb_size_ts,\n",
    "            xticklabelsize = tck_size_ts, yticklabelsize = tck_size_ts,\n",
    "            xgridvisible = false, ygridvisible = false)\n",
    "axisx = Axis(f[2, 1], xlabel = L\"$time$\", ylabel = L\"$x$\",\n",
    "            xlabelsize = lb_size_ts, ylabelsize = lb_size_ts,\n",
    "            xticklabelsize = tck_size_ts, yticklabelsize = tck_size_ts,\n",
    "            xgridvisible = false, ygridvisible = false)\n",
    "axisy = Axis(f[3, 1], xlabel = L\"$time$\", ylabel = L\"$y$\",\n",
    "            xlabelsize = lb_size_ts, ylabelsize = lb_size_ts,\n",
    "            xticklabelsize = tck_size_ts, yticklabelsize = tck_size_ts,\n",
    "            xgridvisible = false, ygridvisible = false)\n",
    "\n",
    "lines!(axisE, sol.t[ts:tf], sol[1, ts:tf], linewidth = 1.5, color = :black)\n",
    "hlines!(axisE, fp[1][1], color = :blue)\n",
    "\n",
    "lines!(axisx, sol.t[ts:tf], sol[2, ts:tf], linewidth = 1.5, color = :black)\n",
    "hlines!(axisx, fp[1][2], color = :blue)\n",
    "\n",
    "lines!(axisy, sol.t[ts:tf], sol[3, ts:tf], linewidth = 1.5, color = :black)\n",
    "hlines!(axisy, fp[1][3], color = :blue)\n",
    "\n",
    "f"
   ]
  }
 ],
 "metadata": {
  "kernelspec": {
   "display_name": "Julia 1.9.0",
   "language": "julia",
   "name": "julia-1.9"
  },
  "language_info": {
   "file_extension": ".jl",
   "mimetype": "application/julia",
   "name": "julia",
   "version": "1.9.0"
  }
 },
 "nbformat": 4,
 "nbformat_minor": 5
}
