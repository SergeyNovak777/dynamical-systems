{
 "cells": [
  {
   "cell_type": "code",
   "execution_count": 1,
   "id": "dc5ae339",
   "metadata": {},
   "outputs": [],
   "source": [
    "using StaticArrays, ForwardDiff, BenchmarkTools"
   ]
  },
  {
   "cell_type": "markdown",
   "id": "d0c37d3d",
   "metadata": {},
   "source": [
    "function jacob_TM(u, p, t)\n",
    "    \n",
    "    U(y) = p[8] + p[9] / ( 1.0 + exp( -50.0 * (y - p[7]) ) )\n",
    "    σ(x) = 1.0 / ( 1.0 + exp( -20.0 * (x-p[6]) ) )\n",
    "    U_y(y) = (50.0 * ΔU0 * exp(-50.0 * (y - ythr))) / (1+exp(-50.0*(y - ythr)))^2\n",
    "    \n",
    "    E, x, y = u\n",
    "    \n",
    "    E_E = ( -1 + ((J * U(y) * x * exp((J * U(y) * x * E + I0) / α))) / (1 + exp((J * U(y) * x * E + I0)/α)) ) / τ\n",
    "    E_x = (J * U(y) * E * exp((J * U(y) * x * E + I0) / α)) / (τ * (1 + exp((J * U(y) * x * E + I0) / α) ))\n",
    "    E_y = ( J * U_y(y) * x * E * exp((J * U(y) * x * E + I0) / α) ) / (τ * (1 + exp((J * U(y) * x * E + I0) / α)) )\n",
    "    \n",
    "    x_E = -U(y)*x\n",
    "    x_x = -1/τD - U(y)*E\n",
    "    x_y = -U_y(y)*x*E\n",
    "    \n",
    "    y_E = 0\n",
    "    y_x = 20.0 * β * exp( (-20.0) * (x - xthr) ) / (1 + exp( (-20.0) * (x-xthr) ))\n",
    "    y_y = -1/τy\n",
    "    \n",
    "    SMatrix{3,3}(E_E, x_E,y_E,\n",
    "                E_x, x_x, y_x,\n",
    "                E_y, x_y, y_y)\n",
    "end"
   ]
  },
  {
   "cell_type": "code",
   "execution_count": 2,
   "id": "e9c3f3ec",
   "metadata": {},
   "outputs": [
    {
     "data": {
      "text/plain": [
       "jacob_TM_ (generic function with 1 method)"
      ]
     },
     "execution_count": 2,
     "metadata": {},
     "output_type": "execute_result"
    }
   ],
   "source": [
    "function jacob_TM_(u, p, t)\n",
    "    \n",
    "    U(y) = p[8] + p[9] / ( 1.0 + exp( -50.0 * (y - p[7]) ) )\n",
    "    σ(x) = 1.0 / ( 1.0 + exp( -20.0 * (x - p[6]) ) )\n",
    "    U_y(y) = ( 50.0 * p[9] * exp(-50.0 * (y - p[7])) ) / (1.0 + exp( -50.0*(y - p[7]) ) )^2\n",
    "    g(E, x, y) = exp((p[5]  * U(y) * x * E + p[11]) / p[1])\n",
    "    σ_der(x) = exp( (-20.0) * (x - p[6]) )\n",
    "    \n",
    "    E_E = ( -1.0 + ((J * U(u[3]) * u[2] * g(u[1], u[2], u[3]))) / (1.0 + g(u[1], u[2], u[3])) ) / p[2]\n",
    "    E_x = (p[5] * U(u[3]) * u[1] * g(u[1], u[2], u[3])) / (p[2] * (1.0 + g(u[1], u[2], u[3]) ))\n",
    "    E_y = ( p[5]  * U_y(u[3]) * u[2] * u[1] * g(u[1], u[2], u[3]) ) / (p[2] * (1.0 + g(u[1], u[2], u[3])) )\n",
    "    \n",
    "    x_E = -U(u[3])*u[2]\n",
    "    x_x = -1.0 / p[3] - U(u[3])*u[1]\n",
    "    x_y = (-U_y(u[3])) * u[2] * u[1]\n",
    "    \n",
    "    y_x = 20.0 * p[10] * σ_der(u[2]) / (1.0 + σ_der(u[2]))^2\n",
    "    y_y = -1.0/p[4]\n",
    "    \n",
    "    SMatrix{3,3}(E_E, x_E, 0.0,\n",
    "        E_x, x_x, y_x,\n",
    "        E_y, x_y, y_y)\n",
    "end"
   ]
  },
  {
   "cell_type": "code",
   "execution_count": 3,
   "id": "3e729cf3",
   "metadata": {},
   "outputs": [],
   "source": [
    "const τ = 0.013;  const τD = 0.080;  const τy = 3.3;  const J = 3.07;  const β = 0.300\n",
    "const xthr = 0.75; const ythr = 0.4\n",
    "const α = 1.58; const ΔU0 = 0.305; const U0 = 0.3;\n",
    "I0 = -1.6;"
   ]
  },
  {
   "cell_type": "code",
   "execution_count": 4,
   "id": "fd544934",
   "metadata": {},
   "outputs": [],
   "source": [
    "p = SA[α, τ, τD, τy, J, xthr, ythr, U0, ΔU0, β, I0]\n",
    "u0 = SA[8.124338914021985, 0.6552902588595779, 0.4438414263930182]\n",
    "t = 0;"
   ]
  },
  {
   "cell_type": "code",
   "execution_count": 5,
   "id": "99fbffcd",
   "metadata": {},
   "outputs": [
    {
     "data": {
      "text/plain": [
       "TM (generic function with 1 method)"
      ]
     },
     "execution_count": 5,
     "metadata": {},
     "output_type": "execute_result"
    }
   ],
   "source": [
    "function TM(u, p, t)\n",
    "    U(y) = p[8] + p[9] / ( 1.0 + exp( -50.0 * (y - p[7]) ) )\n",
    "    σ(x) = 1.0 / ( 1.0 + exp( -20.0 * (x-p[6]) ) )\n",
    "    du1 = (-u[1] + p[1] * log( 1.0 + exp( (p[5] * U(u[3]) * u[2] * u[1] + p[11]  ) / (p[1]) ) ) ) / p[2]\n",
    "    du2 = (1.0 - u[2])/p[3] - U(u[3])*u[2]*u[1]\n",
    "    du3 = (-u[3])/p[4] + p[10] * σ(u[2])\n",
    "    return SA[du1, du2, du3]\n",
    "end"
   ]
  },
  {
   "cell_type": "code",
   "execution_count": 6,
   "id": "e49acbdb",
   "metadata": {},
   "outputs": [
    {
     "data": {
      "text/plain": [
       "Jacobi (generic function with 1 method)"
      ]
     },
     "execution_count": 6,
     "metadata": {},
     "output_type": "execute_result"
    }
   ],
   "source": [
    "Jacobi(u0) = ForwardDiff.jacobian((x) -> TM(x, p, t), u0)"
   ]
  },
  {
   "cell_type": "code",
   "execution_count": 7,
   "id": "f9784e62",
   "metadata": {},
   "outputs": [
    {
     "data": {
      "text/plain": [
       "BenchmarkTools.Trial: 10000 samples with 681 evaluations.\n",
       " Range \u001b[90m(\u001b[39m\u001b[36m\u001b[1mmin\u001b[22m\u001b[39m … \u001b[35mmax\u001b[39m\u001b[90m):  \u001b[39m\u001b[36m\u001b[1m191.630 ns\u001b[22m\u001b[39m … \u001b[35m  8.210 μs\u001b[39m  \u001b[90m┊\u001b[39m GC \u001b[90m(\u001b[39mmin … max\u001b[90m): \u001b[39m0.00% … 97.25%\n",
       " Time  \u001b[90m(\u001b[39m\u001b[34m\u001b[1mmedian\u001b[22m\u001b[39m\u001b[90m):     \u001b[39m\u001b[34m\u001b[1m203.524 ns               \u001b[22m\u001b[39m\u001b[90m┊\u001b[39m GC \u001b[90m(\u001b[39mmedian\u001b[90m):    \u001b[39m0.00%\n",
       " Time  \u001b[90m(\u001b[39m\u001b[32m\u001b[1mmean\u001b[22m\u001b[39m ± \u001b[32mσ\u001b[39m\u001b[90m):   \u001b[39m\u001b[32m\u001b[1m217.990 ns\u001b[22m\u001b[39m ± \u001b[32m124.235 ns\u001b[39m  \u001b[90m┊\u001b[39m GC \u001b[90m(\u001b[39mmean ± σ\u001b[90m):  \u001b[39m1.70% ±  3.21%\n",
       "\n",
       "  \u001b[39m▃\u001b[39m \u001b[39m▅\u001b[39m▂\u001b[39m█\u001b[34m▅\u001b[39m\u001b[39m▂\u001b[39m▁\u001b[39m \u001b[39m \u001b[32m▃\u001b[39m\u001b[39m▃\u001b[39m▁\u001b[39m▁\u001b[39m \u001b[39m \u001b[39m \u001b[39m \u001b[39m▁\u001b[39m▁\u001b[39m \u001b[39m \u001b[39m \u001b[39m \u001b[39m \u001b[39m \u001b[39m \u001b[39m \u001b[39m \u001b[39m \u001b[39m \u001b[39m \u001b[39m \u001b[39m \u001b[39m \u001b[39m \u001b[39m \u001b[39m \u001b[39m \u001b[39m \u001b[39m \u001b[39m \u001b[39m \u001b[39m \u001b[39m \u001b[39m \u001b[39m \u001b[39m \u001b[39m \u001b[39m \u001b[39m \u001b[39m \u001b[39m \u001b[39m \u001b[39m \u001b[39m \u001b[39m \u001b[39m▂\u001b[39m \u001b[39m \u001b[39m▂\u001b[39m \u001b[39m▁\n",
       "  \u001b[39m█\u001b[39m█\u001b[39m█\u001b[39m█\u001b[39m█\u001b[34m█\u001b[39m\u001b[39m█\u001b[39m█\u001b[39m█\u001b[39m█\u001b[32m█\u001b[39m\u001b[39m█\u001b[39m█\u001b[39m█\u001b[39m▇\u001b[39m█\u001b[39m█\u001b[39m█\u001b[39m█\u001b[39m█\u001b[39m█\u001b[39m█\u001b[39m█\u001b[39m█\u001b[39m█\u001b[39m▇\u001b[39m▇\u001b[39m▇\u001b[39m▇\u001b[39m▇\u001b[39m▇\u001b[39m█\u001b[39m█\u001b[39m▇\u001b[39m▆\u001b[39m▇\u001b[39m▇\u001b[39m▅\u001b[39m▄\u001b[39m▅\u001b[39m▅\u001b[39m▅\u001b[39m▅\u001b[39m▄\u001b[39m▁\u001b[39m▄\u001b[39m▃\u001b[39m▃\u001b[39m▄\u001b[39m▄\u001b[39m▃\u001b[39m▄\u001b[39m▄\u001b[39m▃\u001b[39m▆\u001b[39m▃\u001b[39m▃\u001b[39m█\u001b[39m█\u001b[39m▆\u001b[39m█\u001b[39m \u001b[39m█\n",
       "  192 ns\u001b[90m        \u001b[39m\u001b[90mHistogram: \u001b[39m\u001b[90m\u001b[1mlog(\u001b[22m\u001b[39m\u001b[90mfrequency\u001b[39m\u001b[90m\u001b[1m)\u001b[22m\u001b[39m\u001b[90m by time\u001b[39m        345 ns \u001b[0m\u001b[1m<\u001b[22m\n",
       "\n",
       " Memory estimate\u001b[90m: \u001b[39m\u001b[33m80 bytes\u001b[39m, allocs estimate\u001b[90m: \u001b[39m\u001b[33m1\u001b[39m."
      ]
     },
     "execution_count": 7,
     "metadata": {},
     "output_type": "execute_result"
    }
   ],
   "source": [
    "@benchmark jacob_TM_(u0, p, t)"
   ]
  },
  {
   "cell_type": "code",
   "execution_count": 8,
   "id": "efe557d7",
   "metadata": {},
   "outputs": [
    {
     "data": {
      "text/plain": [
       "BenchmarkTools.Trial: 10000 samples with 294 evaluations.\n",
       " Range \u001b[90m(\u001b[39m\u001b[36m\u001b[1mmin\u001b[22m\u001b[39m … \u001b[35mmax\u001b[39m\u001b[90m):  \u001b[39m\u001b[36m\u001b[1m264.966 ns\u001b[22m\u001b[39m … \u001b[35m 12.707 μs\u001b[39m  \u001b[90m┊\u001b[39m GC \u001b[90m(\u001b[39mmin … max\u001b[90m): \u001b[39m0.00% … 97.41%\n",
       " Time  \u001b[90m(\u001b[39m\u001b[34m\u001b[1mmedian\u001b[22m\u001b[39m\u001b[90m):     \u001b[39m\u001b[34m\u001b[1m281.633 ns               \u001b[22m\u001b[39m\u001b[90m┊\u001b[39m GC \u001b[90m(\u001b[39mmedian\u001b[90m):    \u001b[39m0.00%\n",
       " Time  \u001b[90m(\u001b[39m\u001b[32m\u001b[1mmean\u001b[22m\u001b[39m ± \u001b[32mσ\u001b[39m\u001b[90m):   \u001b[39m\u001b[32m\u001b[1m304.740 ns\u001b[22m\u001b[39m ± \u001b[32m428.993 ns\u001b[39m  \u001b[90m┊\u001b[39m GC \u001b[90m(\u001b[39mmean ± σ\u001b[90m):  \u001b[39m6.22% ±  4.32%\n",
       "\n",
       "  \u001b[39m \u001b[39m \u001b[39m \u001b[39m▁\u001b[39m \u001b[39m \u001b[39m█\u001b[34m▂\u001b[39m\u001b[39m \u001b[39m \u001b[39m \u001b[39m \u001b[39m \u001b[39m \u001b[39m \u001b[39m \u001b[32m \u001b[39m\u001b[39m \u001b[39m \u001b[39m \u001b[39m \u001b[39m \u001b[39m \u001b[39m \u001b[39m \u001b[39m \u001b[39m \u001b[39m \u001b[39m \u001b[39m \u001b[39m \u001b[39m \u001b[39m \u001b[39m \u001b[39m \u001b[39m \u001b[39m \u001b[39m \u001b[39m \u001b[39m \u001b[39m \u001b[39m \u001b[39m \u001b[39m \u001b[39m \u001b[39m \u001b[39m \u001b[39m \u001b[39m \u001b[39m \u001b[39m \u001b[39m \u001b[39m \u001b[39m \u001b[39m \u001b[39m \u001b[39m \u001b[39m \u001b[39m \u001b[39m \u001b[39m \u001b[39m \u001b[39m \n",
       "  \u001b[39m▄\u001b[39m▅\u001b[39m▃\u001b[39m█\u001b[39m▆\u001b[39m▄\u001b[39m█\u001b[34m█\u001b[39m\u001b[39m▄\u001b[39m▆\u001b[39m▄\u001b[39m▃\u001b[39m▂\u001b[39m▂\u001b[39m▂\u001b[39m▂\u001b[32m▂\u001b[39m\u001b[39m▂\u001b[39m▂\u001b[39m▂\u001b[39m▂\u001b[39m▂\u001b[39m▂\u001b[39m▂\u001b[39m▂\u001b[39m▂\u001b[39m▃\u001b[39m▃\u001b[39m▂\u001b[39m▂\u001b[39m▂\u001b[39m▂\u001b[39m▂\u001b[39m▂\u001b[39m▂\u001b[39m▂\u001b[39m▂\u001b[39m▂\u001b[39m▂\u001b[39m▂\u001b[39m▂\u001b[39m▁\u001b[39m▂\u001b[39m▂\u001b[39m▂\u001b[39m▂\u001b[39m▂\u001b[39m▂\u001b[39m▂\u001b[39m▂\u001b[39m▂\u001b[39m▂\u001b[39m▂\u001b[39m▂\u001b[39m▂\u001b[39m▂\u001b[39m▂\u001b[39m▂\u001b[39m▂\u001b[39m▂\u001b[39m▂\u001b[39m \u001b[39m▃\n",
       "  265 ns\u001b[90m           Histogram: frequency by time\u001b[39m          417 ns \u001b[0m\u001b[1m<\u001b[22m\n",
       "\n",
       " Memory estimate\u001b[90m: \u001b[39m\u001b[33m336 bytes\u001b[39m, allocs estimate\u001b[90m: \u001b[39m\u001b[33m4\u001b[39m."
      ]
     },
     "execution_count": 8,
     "metadata": {},
     "output_type": "execute_result"
    }
   ],
   "source": [
    "@benchmark Jacobi(u0)"
   ]
  }
 ],
 "metadata": {
  "kernelspec": {
   "display_name": "Julia 1.8.5",
   "language": "julia",
   "name": "julia-1.8"
  },
  "language_info": {
   "file_extension": ".jl",
   "mimetype": "application/julia",
   "name": "julia",
   "version": "1.8.5"
  }
 },
 "nbformat": 4,
 "nbformat_minor": 5
}
