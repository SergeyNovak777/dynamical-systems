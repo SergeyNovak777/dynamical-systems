{
 "cells": [
  {
   "cell_type": "code",
   "execution_count": 9,
   "metadata": {},
   "outputs": [],
   "source": [
    "using StaticArrays, DifferentialEquations, DynamicalSystems, CairoMakie"
   ]
  },
  {
   "cell_type": "code",
   "execution_count": 10,
   "metadata": {},
   "outputs": [
    {
     "data": {
      "text/plain": [
       "TM (generic function with 1 method)"
      ]
     },
     "execution_count": 10,
     "metadata": {},
     "output_type": "execute_result"
    }
   ],
   "source": [
    "function TM(u, p, t)\n",
    "\n",
    "    U(y) = U0 + ΔU0 / ( 1 + exp( -50*(y-ythr) ) )\n",
    "    σ(x) = 1 / ( 1 + exp( -20*(x-xthr) ) )\n",
    "\n",
    "    E, x, y = u\n",
    "    α, τ, τD, τy, J, xthr, ythr, U0, ΔU0, β, I0 = p\n",
    "\n",
    "    du1 = (-E + α * log( 1 + exp( (J * U(y) * x * E + I0  ) / (α) ) ) ) / τ\n",
    "    du2 = (1-x)/τD - U(y)*x*E\n",
    "    du3 = (-y)/τy+β*σ(x)\n",
    "\n",
    "    return SVector(du1, du2, du3)\n",
    "end"
   ]
  },
  {
   "cell_type": "code",
   "execution_count": 11,
   "metadata": {},
   "outputs": [
    {
     "data": {
      "text/plain": [
       "count_floats (generic function with 1 method)"
      ]
     },
     "execution_count": 11,
     "metadata": {},
     "output_type": "execute_result"
    }
   ],
   "source": [
    "function count_floats(a, b)\n",
    "           count = 0\n",
    "           if a > b\n",
    "               a, b = b, a\n",
    "           end\n",
    "           while a < b\n",
    "               a = nextfloat(a)\n",
    "               count += 1\n",
    "           end\n",
    "           return count\n",
    "end"
   ]
  },
  {
   "cell_type": "code",
   "execution_count": 40,
   "metadata": {},
   "outputs": [],
   "source": [
    "t = 1000.0\n",
    "tt = 500.0\n",
    "tstep = 0.001\n",
    "trange = range(0.0, t, step = tstep);\n",
    "integ_set = (alg = RK4(), adaptive = false, dt = tstep);"
   ]
  },
  {
   "cell_type": "code",
   "execution_count": 41,
   "metadata": {},
   "outputs": [],
   "source": [
    "const τ = 0.013;  const τD = 0.080;  const τy = 3.3;  const J = 3.07;  const β = 0.300\n",
    "const xthr = 0.75; const ythr = 0.4\n",
    "const α = 1.58; const U0 = 0.3;  const ΔU0 = 0.305;"
   ]
  },
  {
   "cell_type": "code",
   "execution_count": 42,
   "metadata": {},
   "outputs": [
    {
     "data": {
      "text/plain": [
       "3-dimensional continuous dynamical system\n",
       " state:       [8.39353, 0.73803, 0.429055]\n",
       " rule f:      TM\n",
       " in-place?    false\n",
       " jacobian:    ForwardDiff\n",
       " parameters:  [1.58, 0.013, 0.08, 3.3, 3.07, 0.75, 0.4, 0.3, 0.305, 0.3, -1.4]"
      ]
     },
     "execution_count": 42,
     "metadata": {},
     "output_type": "execute_result"
    }
   ],
   "source": [
    "I0 = -1.4\n",
    "p =  [α, τ, τD, τy, J, xthr, ythr, U0, ΔU0, β, I0]\n",
    "u0 = [8.39353, 0.73803, 0.429055]\n",
    "ds = ContinuousDynamicalSystem(TM, u0, p)"
   ]
  },
  {
   "cell_type": "code",
   "execution_count": 43,
   "metadata": {},
   "outputs": [
    {
     "data": {
      "text/plain": [
       "3945666"
      ]
     },
     "execution_count": 43,
     "metadata": {},
     "output_type": "execute_result"
    }
   ],
   "source": [
    "count_floats(Float32(-1.40), Float32(-1.87036))"
   ]
  },
  {
   "cell_type": "code",
   "execution_count": 44,
   "metadata": {},
   "outputs": [],
   "source": [
    "I0range = range( -1.4, -1.87036, length = 2001 )\n",
    "\n",
    "idx_control_parameter = 11\n",
    "\n",
    "idx_fix = 2; fixed_value = 0.75\n",
    "surface = (idx_fix, fixed_value)\n",
    "setting_root = (xrtol = 1e-13, atol = 1e-13);"
   ]
  },
  {
   "cell_type": "code",
   "execution_count": 45,
   "metadata": {},
   "outputs": [
    {
     "data": {
      "text/plain": [
       "-1.4:-0.00023518:-1.87036"
      ]
     },
     "execution_count": 45,
     "metadata": {},
     "output_type": "execute_result"
    }
   ],
   "source": [
    "I0range"
   ]
  },
  {
   "cell_type": "code",
   "execution_count": null,
   "metadata": {
    "scrolled": true
   },
   "outputs": [
    {
     "name": "stdout",
     "output_type": "stream",
     "text": [
      "parameter = -1.4\n",
      "parameter = -1.40023518\n",
      "parameter = -1.40047036\n",
      "parameter = -1.40070554\n",
      "parameter = -1.40094072\n",
      "parameter = -1.4011759\n",
      "parameter = -1.40141108\n",
      "parameter = -1.40164626\n",
      "parameter = -1.40188144\n",
      "parameter = -1.40211662\n",
      "parameter = -1.4023518\n",
      "parameter = -1.40258698\n",
      "parameter = -1.40282216\n",
      "parameter = -1.40305734\n",
      "parameter = -1.40329252\n",
      "parameter = -1.4035277\n",
      "parameter = -1.40376288\n",
      "parameter = -1.40399806\n",
      "parameter = -1.40423324\n",
      "parameter = -1.40446842\n",
      "parameter = -1.4047036\n",
      "parameter = -1.40493878\n",
      "parameter = -1.40517396\n",
      "parameter = -1.40540914\n",
      "parameter = -1.40564432\n",
      "parameter = -1.4058795\n",
      "parameter = -1.40611468\n",
      "parameter = -1.40634986\n",
      "parameter = -1.40658504\n",
      "parameter = -1.40682022\n",
      "parameter = -1.4070554\n",
      "parameter = -1.40729058\n",
      "parameter = -1.40752576\n",
      "parameter = -1.40776094\n",
      "parameter = -1.40799612\n",
      "parameter = -1.4082313\n",
      "parameter = -1.40846648\n",
      "parameter = -1.40870166\n",
      "parameter = -1.40893684\n",
      "parameter = -1.40917202\n",
      "parameter = -1.4094072\n",
      "parameter = -1.40964238\n",
      "parameter = -1.40987756\n",
      "parameter = -1.41011274\n",
      "parameter = -1.41034792\n",
      "parameter = -1.4105831\n",
      "parameter = -1.41081828\n",
      "parameter = -1.41105346\n",
      "parameter = -1.41128864\n",
      "parameter = -1.41152382\n",
      "parameter = -1.411759\n",
      "parameter = -1.41199418\n",
      "parameter = -1.41222936\n",
      "parameter = -1.41246454\n",
      "parameter = -1.41269972\n",
      "parameter = -1.4129349\n",
      "parameter = -1.41317008\n",
      "parameter = -1.41340526\n",
      "parameter = -1.41364044\n",
      "parameter = -1.41387562\n",
      "parameter = -1.4141108\n",
      "parameter = -1.41434598\n",
      "parameter = -1.41458116\n",
      "parameter = -1.41481634\n",
      "parameter = -1.41505152\n",
      "parameter = -1.4152867\n",
      "parameter = -1.41552188\n",
      "parameter = -1.41575706\n",
      "parameter = -1.41599224\n",
      "parameter = -1.41622742\n",
      "parameter = -1.4164626\n",
      "parameter = -1.41669778\n",
      "parameter = -1.41693296\n",
      "parameter = -1.41716814\n",
      "parameter = -1.41740332\n",
      "parameter = -1.4176385\n",
      "parameter = -1.41787368\n",
      "parameter = -1.41810886\n",
      "parameter = -1.41834404\n",
      "parameter = -1.41857922\n",
      "parameter = -1.4188144\n",
      "parameter = -1.41904958\n",
      "parameter = -1.41928476\n",
      "parameter = -1.41951994\n",
      "parameter = -1.41975512\n",
      "parameter = -1.4199903\n",
      "parameter = -1.42022548\n",
      "parameter = -1.42046066\n",
      "parameter = -1.42069584\n",
      "parameter = -1.42093102\n",
      "parameter = -1.4211662\n",
      "parameter = -1.42140138\n",
      "parameter = -1.42163656\n",
      "parameter = -1.42187174\n",
      "parameter = -1.42210692\n",
      "parameter = -1.4223421\n",
      "parameter = -1.42257728\n",
      "parameter = -1.42281246\n",
      "parameter = -1.42304764\n",
      "parameter = -1.42328282\n",
      "parameter = -1.423518\n",
      "parameter = -1.42375318\n",
      "parameter = -1.42398836\n",
      "parameter = -1.42422354\n",
      "parameter = -1.42445872\n",
      "parameter = -1.4246939\n",
      "parameter = -1.42492908\n",
      "parameter = -1.42516426\n",
      "parameter = -1.42539944\n",
      "parameter = -1.42563462\n",
      "parameter = -1.4258698\n",
      "parameter = -1.42610498\n",
      "parameter = -1.42634016\n",
      "parameter = -1.42657534\n",
      "parameter = -1.42681052\n",
      "parameter = -1.4270457\n",
      "parameter = -1.42728088\n",
      "parameter = -1.42751606\n",
      "parameter = -1.42775124\n",
      "parameter = -1.42798642"
     ]
    }
   ],
   "source": [
    "idx_save = 1\n",
    "output = produce_orbitdiagram(ds, surface, idx_save,\n",
    "                        idx_control_parameter, I0range;\n",
    "                        tfinal = t, Ttr = tt,\n",
    "                        printparams = true,\n",
    "                        diffeq = integ_set, rootkw = setting_root\n",
    "                        );"
   ]
  },
  {
   "cell_type": "code",
   "execution_count": null,
   "metadata": {},
   "outputs": [],
   "source": [
    "f = Figure(resolution = (1200, 400))\n",
    "axis = Axis(f[1,1]; xlabel = L\"I_0\", ylabel = L\"E\", xlabelsize = 30, ylabelsize = 30,\n",
    "            xticklabelsize = 25, yticklabelsize = 25, xgridvisible = false, ygridvisible = false, backgroundcolor = :black)\n",
    "for (j, p) in enumerate(I0range)\n",
    "    scatter!(axis, fill(p, length(output[j])), output[j]; color = (\"deeppink\", 0.5), markersize = 1.5)\n",
    "end\n",
    "f"
   ]
  },
  {
   "cell_type": "code",
   "execution_count": null,
   "metadata": {},
   "outputs": [],
   "source": [
    "save(\"E_2k_dots_x_075.jld\", \"data\", output)"
   ]
  }
 ],
 "metadata": {
  "kernelspec": {
   "display_name": "Julia 1.8.5",
   "language": "julia",
   "name": "julia-1.8"
  },
  "language_info": {
   "file_extension": ".jl",
   "mimetype": "application/julia",
   "name": "julia",
   "version": "1.8.5"
  }
 },
 "nbformat": 4,
 "nbformat_minor": 2
}
