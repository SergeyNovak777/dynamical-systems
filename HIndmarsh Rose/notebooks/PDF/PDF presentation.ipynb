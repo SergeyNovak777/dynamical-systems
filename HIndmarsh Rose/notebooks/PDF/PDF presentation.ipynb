{
 "cells": [
  {
   "cell_type": "code",
   "execution_count": 2,
   "id": "511ead6c",
   "metadata": {},
   "outputs": [
    {
     "name": "stderr",
     "output_type": "stream",
     "text": [
      "\u001b[32m\u001b[1m  Activating\u001b[22m\u001b[39m project at `C:\\Users\\Alex\\Desktop\\dynamical-systems\\env\\integrate`"
     ]
    },
    {
     "name": "stderr",
     "output_type": "stream",
     "text": [
      "\n"
     ]
    }
   ],
   "source": [
    "username = \"Alex\"\n",
    "pathtorepo = \"C:\\\\Users\\\\\" *username *  \"\\\\Desktop\\\\\"\n",
    "using Pkg\n",
    "Pkg.activate(pathtorepo * \"dynamical-systems\\\\env\\\\integrate\\\\\")"
   ]
  },
  {
   "cell_type": "code",
   "execution_count": 3,
   "id": "4440a8fd",
   "metadata": {},
   "outputs": [],
   "source": [
    "using DynamicalSystems, DifferentialEquations\n",
    "\n",
    "using Statistics\n",
    "using StaticArrays\n",
    "using CairoMakie\n",
    "using JLD"
   ]
  },
  {
   "cell_type": "code",
   "execution_count": 3,
   "id": "98a94bab",
   "metadata": {},
   "outputs": [
    {
     "data": {
      "text/plain": [
       "Hs (generic function with 1 method)"
      ]
     },
     "metadata": {},
     "output_type": "display_data"
    }
   ],
   "source": [
    "function sigma(x)\n",
    "    return 1.0 / ( 1.0 + exp( -10.0 * ( x  - ( - 0.25 ) ) ) )\n",
    "end\n",
    "\n",
    "function HR(u, p, t)\n",
    "        \n",
    "    a, b, c, d, s, xr, r,  I, vs, k1, k2, el_link  = p\n",
    "    x1, y1, z1, x2, y2, z2 = u\n",
    "    \n",
    "    du1 = y1 + b * x1 ^ 2 - a * x1 ^3 - z1 + I - k1 * ( x1 - vs ) * sigma(x2) + el_link * ( x2 - x1 )\n",
    "    du2 = c - d * x1 ^2 - y1\n",
    "    du3 = r * ( s * ( x1 - xr ) - z1 )\n",
    "    \n",
    "    du4 = y2 + b * x2 ^ 2 - a * x2 ^3 - z2 + I - k2 * ( x2 - vs ) * sigma(x1) + el_link * ( x1 - x2 )\n",
    "    du5 = c - d * x2 ^2 - y2\n",
    "    du6 = r * ( s * ( x2 - xr ) - z2 )\n",
    "    return SVector(du1, du2, du3,\n",
    "                    du4, du5, du6)\n",
    "end\n",
    "Hs(x, k) = Statistics.mean(x) + k * Statistics.std(x)"
   ]
  },
  {
   "cell_type": "code",
   "execution_count": 4,
   "id": "3b31b411",
   "metadata": {},
   "outputs": [
    {
     "data": {
      "text/plain": [
       "peaks (generic function with 1 method)"
      ]
     },
     "metadata": {},
     "output_type": "display_data"
    }
   ],
   "source": [
    "function peaks(x)\n",
    "    peaks_ = Float64[]\n",
    "    len_ = length(x)\n",
    "    for i in range(2, len_ - 1, step = 1)\n",
    "        if x[i-1] < x[i] > x[i+1]\n",
    "            push!(peaks_, x[i])\n",
    "        end\n",
    "    end\n",
    "    return peaks_\n",
    "end"
   ]
  },
  {
   "cell_type": "code",
   "execution_count": 5,
   "id": "b6339492",
   "metadata": {},
   "outputs": [
    {
     "data": {
      "text/plain": [
       "CALCPDF (generic function with 1 method)"
      ]
     },
     "metadata": {},
     "output_type": "display_data"
    }
   ],
   "source": [
    "function CALCPDF(spikes)\n",
    "    ϵ = 0.9\n",
    "    ee_counter = [sum(i->s<=i<s+ϵ, spikes) for s in range(0,4,500000)]\n",
    "    pdf = ee_counter ./ length(spikes)\n",
    "    return range(0,4,500000), pdf\n",
    "end"
   ]
  },
  {
   "cell_type": "code",
   "execution_count": 6,
   "id": "b78a7e23",
   "metadata": {},
   "outputs": [
    {
     "data": {
      "text/plain": [
       "-0.17"
      ]
     },
     "metadata": {},
     "output_type": "display_data"
    }
   ],
   "source": [
    "tspan = (0., 500000.)\n",
    "\n",
    "a = 1.\n",
    "b = 3.\n",
    "c = 1.\n",
    "d = 5.\n",
    "xr = -1.6\n",
    "r = 0.01\n",
    "s = 5.\n",
    "I = 4.\n",
    "xv = 2.\n",
    "\n",
    "k1= -0.17\n",
    "k2 = k1"
   ]
  },
  {
   "cell_type": "code",
   "execution_count": 7,
   "id": "3eaa18a6",
   "metadata": {},
   "outputs": [
    {
     "data": {
      "text/plain": [
       "6-element SVector{6, Float64} with indices SOneTo(6):\n",
       " -0.34138005332884996\n",
       "  0.25075647845490023\n",
       "  4.441457737482487\n",
       " -0.7351261577047472\n",
       " -1.6795500436310609\n",
       "  4.3584613931735054"
      ]
     },
     "metadata": {},
     "output_type": "display_data"
    }
   ],
   "source": [
    "condition_chaos = SA[   -0.34138005332884996, 0.25075647845490023, 4.441457737482487, -0.7351261577047472, -1.6795500436310609, 4.3584613931735054]"
   ]
  },
  {
   "cell_type": "code",
   "execution_count": 8,
   "id": "88bfc751",
   "metadata": {},
   "outputs": [
    {
     "data": {
      "text/plain": [
       "12-element SVector{12, Float64} with indices SOneTo(12):\n",
       "  1.0\n",
       "  3.0\n",
       "  1.0\n",
       "  5.0\n",
       "  5.0\n",
       " -1.6\n",
       "  0.01\n",
       "  4.0\n",
       "  2.0\n",
       " -0.17\n",
       " -0.17\n",
       "  0.0"
      ]
     },
     "metadata": {},
     "output_type": "display_data"
    }
   ],
   "source": [
    "k  = 0\n",
    "p = SA[a, b, c, d, s, xr, r, I, xv, k1, k2, k]"
   ]
  },
  {
   "cell_type": "code",
   "execution_count": 9,
   "id": "d54d884a",
   "metadata": {},
   "outputs": [
    {
     "data": {
      "text/plain": [
       "\u001b[38;2;86;182;194mODEProblem\u001b[0m with uType \u001b[38;2;86;182;194mSVector{6, Float64}\u001b[0m and tType \u001b[38;2;86;182;194mFloat64\u001b[0m. In-place: \u001b[38;2;86;182;194mfalse\u001b[0m\n",
       "timespan: (0.0, 500000.0)\n",
       "u0: 6-element SVector{6, Float64} with indices SOneTo(6):\n",
       " -0.34138005332884996\n",
       "  0.25075647845490023\n",
       "  4.441457737482487\n",
       " -0.7351261577047472\n",
       " -1.6795500436310609\n",
       "  4.3584613931735054"
      ]
     },
     "metadata": {},
     "output_type": "display_data"
    }
   ],
   "source": [
    "prob = ODEProblem(HR, condition_chaos, tspan, p)"
   ]
  },
  {
   "cell_type": "code",
   "execution_count": 10,
   "id": "0988a3cf",
   "metadata": {},
   "outputs": [],
   "source": [
    "sol = solve(prob, AutoVern9(Rodas5()), abstol = 1e-11, reltol = 1e-11, maxiters = 10000000);"
   ]
  },
  {
   "cell_type": "code",
   "execution_count": 11,
   "id": "6a4ba5df",
   "metadata": {},
   "outputs": [
    {
     "name": "stdout",
     "output_type": "stream",
     "text": [
      "before: 6916859\n",
      "after: 5187646\n"
     ]
    }
   ],
   "source": [
    "xsum = sol[1, :] + sol[4, :];\n",
    "println(\"before: \", length(xsum))\n",
    "\n",
    "xsum = xsum[floor(Int, length(xsum) / 4):end ]\n",
    "println(\"after: \", length(xsum))"
   ]
  },
  {
   "cell_type": "code",
   "execution_count": 12,
   "id": "eecc2fac",
   "metadata": {},
   "outputs": [
    {
     "name": "stdout",
     "output_type": "stream",
     "text": [
      "length x1, x2 before truncate:6916859, 6916859\n",
      "length x1, x2 after truncate:5187646, 5187646\n"
     ]
    }
   ],
   "source": [
    "x1, x2 = sol[1, :], sol[4, :]\n",
    "println(\"length x1, x2 before truncate:\", length(x1), \", \", length(x2))\n",
    "x1 = x1[floor(Int, length(x1) / 4):end ]\n",
    "x2 = x2[floor(Int, length(x2) / 4):end ]\n",
    "println(\"length x1, x2 after truncate:\", length(x1), \", \", length(x2))"
   ]
  },
  {
   "cell_type": "code",
   "execution_count": 13,
   "id": "f72c7086",
   "metadata": {},
   "outputs": [
    {
     "data": {
      "text/plain": [
       "2.63420632631113"
      ]
     },
     "metadata": {},
     "output_type": "display_data"
    }
   ],
   "source": [
    "Hs1 = Hs(xsum, 6)"
   ]
  },
  {
   "cell_type": "code",
   "execution_count": 14,
   "id": "942c180e",
   "metadata": {},
   "outputs": [],
   "source": [
    "CairoMakie.activate!()"
   ]
  },
  {
   "cell_type": "code",
   "execution_count": 15,
   "id": "3e7d82d6",
   "metadata": {},
   "outputs": [
    {
     "data": {
      "image/png": "[encoded data removed]"
     },
     "metadata": {},
     "output_type": "display_data"
    }
   ],
   "source": [
    "f = Figure(resolution = (1400, 400))\n",
    "\n",
    "ax = Axis(f[1, 1], xlabel = L\"t\", ylabel = L\"x_{||}\",\n",
    "xlabelsize = 35, ylabelsize = 35,\n",
    "                xticklabelsize = 30, yticklabelsize = 30)\n",
    "\n",
    "ax.xgridvisible = false\n",
    "ax.ygridvisible = false\n",
    "\n",
    "lines!(ax, xsum[50000:558000], linewidth = 3.0, color = \"black\")\n",
    "hlines!(Hs1, color = \"red\", linewidth = 4.0)\n",
    "f"
   ]
  },
  {
   "cell_type": "code",
   "execution_count": 16,
   "id": "0ef5c3e2",
   "metadata": {},
   "outputs": [],
   "source": [
    "using JLD"
   ]
  },
  {
   "cell_type": "code",
   "execution_count": 17,
   "id": "7977e486",
   "metadata": {},
   "outputs": [
    {
     "data": {
      "text/plain": [
       "(0.0:8.000016000032e-6:4.0, [0.05550378726690294, 0.05550301620426683, 0.0555028234386078, 0.055502437907289745, 0.05550224514163071, 0.055502437907289745, 0.05550108854767654, 0.05550089578201751, 0.05550070301635848, 0.05550070301635848  …  0.0, 0.0, 0.0, 0.0, 0.0, 0.0, 0.0, 0.0, 0.0, 0.0])"
      ]
     },
     "metadata": {},
     "output_type": "display_data"
    }
   ],
   "source": [
    "sel_1, pdf_1 = CALCPDF(xsum)"
   ]
  },
  {
   "cell_type": "code",
   "execution_count": 19,
   "id": "6649f432",
   "metadata": {},
   "outputs": [
    {
     "data": {
      "text/plain": [
       "(500000, 500000)"
      ]
     },
     "metadata": {},
     "output_type": "display_data"
    }
   ],
   "source": [
    "length(sel_1), length(pdf_1)"
   ]
  },
  {
   "cell_type": "code",
   "execution_count": 18,
   "id": "5dd626e2",
   "metadata": {},
   "outputs": [],
   "source": [
    "save(\"sel_presentation.jld\", \"data\", sel_1  )\n",
    "save(\"pdf_presentation.jld\", \"data\", pdf_1  )"
   ]
  },
  {
   "cell_type": "code",
   "execution_count": 4,
   "id": "181ab249",
   "metadata": {},
   "outputs": [],
   "source": [
    "sel_1 = load(\"sel_presentation.jld\")[\"data\"]\n",
    "pdf_1 = load(\"pdf_presentation.jld\")[\"data\"];"
   ]
  },
  {
   "cell_type": "code",
   "execution_count": 5,
   "id": "c97e2b54",
   "metadata": {},
   "outputs": [],
   "source": [
    "EE_mapcopy = pdf_1;\n",
    "EE_mapcopy = [ iszero(x) ? NaN : x for x in EE_mapcopy ];"
   ]
  },
  {
   "cell_type": "code",
   "execution_count": 11,
   "id": "af935d66",
   "metadata": {},
   "outputs": [
    {
     "data": {
      "image/png": "[encoded data removed]"
     },
     "metadata": {},
     "output_type": "display_data"
    },
    {
     "data": {
      "text/plain": [
       "CairoMakie.Screen{IMAGE}\n"
      ]
     },
     "metadata": {},
     "output_type": "display_data"
    }
   ],
   "source": [
    "f = Figure(resolution = (600, 600))\n",
    "\n",
    "ax = Axis(f[1, 1], yscale = log10,\n",
    "xlabel = L\"|x_{||}|n\", ylabel = L\"PDF\",\n",
    "xlabelsize = 35, ylabelsize = 35,\n",
    "xticklabelsize = 30, yticklabelsize = 30  )\n",
    "\n",
    "ax.xgridvisible = false\n",
    "ax.ygridvisible = false\n",
    "\n",
    "lines!(sel_1, EE_mapcopy, linewidth = 3.0, color = :blue)\n",
    "\n",
    "#vlines!(ax, 2.63420632631113, color = \"red\", linestyle = :dash, linewidth = 3.0)\n",
    "display(f)"
   ]
  },
  {
   "cell_type": "code",
   "execution_count": 8,
   "id": "7597d0ae",
   "metadata": {},
   "outputs": [],
   "source": [
    "using NPZ"
   ]
  },
  {
   "cell_type": "code",
   "execution_count": 9,
   "id": "a2b70bd3",
   "metadata": {},
   "outputs": [],
   "source": [
    "npzwrite(\"sel_1.npy\", sel_1)\n",
    "npzwrite(\"pdf_1.npy\", pdf_1)"
   ]
  },
  {
   "cell_type": "code",
   "execution_count": 34,
   "id": "d90f8a08",
   "metadata": {},
   "outputs": [
    {
     "data": {
      "text/plain": [
       "CairoMakie.Screen{EPS}\n"
      ]
     },
     "metadata": {},
     "output_type": "display_data"
    }
   ],
   "source": [
    "save(\"pdf_presentation.eps\", f)"
   ]
  }
 ],
 "metadata": {
  "kernelspec": {
   "display_name": "Julia 1.9.0",
   "language": "julia",
   "name": "julia-1.9"
  },
  "language_info": {
   "file_extension": ".jl",
   "mimetype": "application/julia",
   "name": "julia",
   "version": "1.9.0"
  }
 },
 "nbformat": 4,
 "nbformat_minor": 5
}
